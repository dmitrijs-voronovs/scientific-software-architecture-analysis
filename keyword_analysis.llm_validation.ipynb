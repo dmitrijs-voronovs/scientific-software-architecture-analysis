{
 "cells": [
  {
   "metadata": {},
   "cell_type": "code",
   "source": [
    "def get_dir_path(s: str):\n",
    "    return \"keyword_analysis/%s.html\" % s\n",
    "\n",
    "\n",
    "proportions = dict(width=1600, height=1000)\n",
    "xl_proportions = dict(width=2000, height=1400)"
   ],
   "id": "d4d6b6c92d974bc5",
   "outputs": [],
   "execution_count": null
  },
  {
   "cell_type": "code",
   "id": "initial_id",
   "metadata": {
    "collapsed": true
   },
   "source": [
    "\n",
    "from pathlib import Path\n",
    "\n",
    "import pandas as pd\n",
    "\n",
    "# files = Path(\"metadata/keywords\").glob(\"scverse.scanpy.1.10.2.*.csv\")\n",
    "files = Path(\"metadata/keywords\").glob(\"*.csv\")\n",
    "df = []\n",
    "for file in files:\n",
    "    try:\n",
    "        file_df = pd.read_csv(file)\n",
    "        df.append(file_df)\n",
    "    except:\n",
    "        print(f\"unable to read file {file}\")\n",
    "\n",
    "df = pd.concat(df)\n",
    "df.source = df.source.apply(lambda x: x.split('.')[1])\n",
    "df.head()"
   ],
   "outputs": [],
   "execution_count": null
  },
  {
   "metadata": {},
   "cell_type": "code",
   "source": [
    "min_sentence_length = 50\n",
    "df_good_sentences = df[df['sentence'].str.len() > min_sentence_length]\n",
    "df_good_sentences.sample(15)"
   ],
   "id": "c4fb3025c216b2e5",
   "outputs": [],
   "execution_count": null
  },
  {
   "metadata": {},
   "cell_type": "code",
   "source": [
    "all_quality_attributes = df_good_sentences['quality_attribute'].unique().tolist()\n",
    "all_quality_attributes"
   ],
   "id": "3a3a0de38dfc6bc1",
   "outputs": [],
   "execution_count": null
  },
  {
   "metadata": {},
   "cell_type": "code",
   "source": "df_good_sentences.groupby(['source', 'quality_attribute']).size()",
   "id": "c4e1d55f3942ecc8",
   "outputs": [],
   "execution_count": null
  },
  {
   "metadata": {},
   "cell_type": "code",
   "source": "df_good_sentences.pivot_table('sentence', 'source', 'quality_attribute', 'count')",
   "id": "c7dfe07441301711",
   "outputs": [],
   "execution_count": null
  },
  {
   "metadata": {},
   "cell_type": "code",
   "source": "df_good_sentences.groupby(['source', 'quality_attribute']).get_group(('WIKI', 'Usability'))",
   "id": "3916e5658e9e77e6",
   "outputs": [],
   "execution_count": null
  },
  {
   "metadata": {},
   "cell_type": "code",
   "source": [
    "quality_attribs = {\n",
    "    \"Availability\": {\n",
    "        \"desc\": \"The system's readiness to perform its function when required, focusing on reliability and recovery. It involves fault masking or repair to prevent failures, ensuring minimal cumulative downtime.\"\n",
    "    },\n",
    "    \"Deployability\": {\n",
    "        \"desc\": \"The capability of software to be deployed into an operational environment with predictable time and effort, including options for rollback if needed. Key aspects include automation, deployment speed, and deployment granularity.\"\n",
    "    },\n",
    "    \"Energy Efficiency\": {\n",
    "        \"desc\": \"The system’s ability to optimize resource use and minimize energy consumption while achieving required performance. This involves monitoring, allocation, and adaptation of resources.\"\n",
    "    },\n",
    "    \"Integrability\": {\n",
    "        \"desc\": \"The ease of combining the system with other systems or components, measured by integration cost and technical risks. Integrability considers the complexity and compatibility of interfaces, including syntactic, semantic, behavioral, and temporal alignment.\"\n",
    "    },\n",
    "    \"Modifiability\": {\n",
    "        \"desc\": \"The ease with which the system can be adapted by adding, removing, or modifying features, or adjusting to new environments. This attribute involves assessing the time, cost, and impact of changes, considering factors like coupling, cohesion, and the scope of modifications.\"\n",
    "    },\n",
    "    \"Performance\": {\n",
    "        \"desc\": \"The system’s capacity to meet its timing requirements, managing event handling and response times effectively. Performance focuses on reducing blocked time from resource contention and optimizing resource utilization under varying load conditions.\"\n",
    "    },\n",
    "    \"Safety\": {\n",
    "        \"desc\": \"The system’s ability to avoid states that could lead to harm or damage. Safety encompasses detection and handling of errors (e.g., omissions, timing, incorrect values) to prevent hazardous outcomes or mitigate potential damage.\"\n",
    "    },\n",
    "    \"Security\": {\n",
    "        \"desc\": \"The system’s ability to safeguard information against unauthorized access, while permitting authorized access. Security emphasizes confidentiality, integrity, and availability, using tactics to detect, prevent, and respond to attacks.\"\n",
    "    },\n",
    "    \"Testability\": {\n",
    "        \"desc\": \"The ease of validating software functionality through testing, enabling fault detection. This includes controlling and observing the system’s state, reducing complexity, and facilitating the creation of test cases and oracles.\"\n",
    "    },\n",
    "    \"Usability\": {\n",
    "        \"desc\": \"The degree to which users can effectively and efficiently accomplish tasks, including support for error recovery and user satisfaction. Usability covers ease of learning, efficient usage, and adaptability to user needs.\"\n",
    "    }\n",
    "}"
   ],
   "id": "32f011d06830a111",
   "outputs": [],
   "execution_count": null
  },
  {
   "metadata": {},
   "cell_type": "code",
   "source": "df_good_sentences.groupby(['source', 'quality_attribute']).size().reset_index()",
   "id": "10790ec1d896dcba",
   "outputs": [],
   "execution_count": null
  },
  {
   "metadata": {},
   "cell_type": "code",
   "source": [
    "sample_size = 15\n",
    "df_sample = df_good_sentences.groupby(['source', 'quality_attribute']).apply(lambda x: x.sample(min(len(x), sample_size)),\n",
    "                                                                 include_groups=False).reset_index()\n",
    "df_sample[\"attribute_desc\"] = df_sample[\"quality_attribute\"].apply(lambda x: quality_attribs[x][\"desc\"])\n",
    "df_sample"
   ],
   "id": "ff99b4af156e800e",
   "outputs": [],
   "execution_count": null
  },
  {
   "metadata": {},
   "cell_type": "code",
   "source": "df_sample.columns.tolist()",
   "id": "794e1e151a9f03be",
   "outputs": [],
   "execution_count": null
  },
  {
   "metadata": {},
   "cell_type": "code",
   "source": [
    "to_prompt_with_keyword = lambda x: f\"\"\"\n",
    "You are an expert in evaluating and categorizing quality attributes in software engineering. You possess the necessary skills to distinguish sentences that clearly relate to a given quality attribute from those that do not. \n",
    "\n",
    "Evaluate whether the matched keyword accurately aligns with its associated quality attribute, given the context provided. Your goal is to determine if the match makes sense in relation to the quality attribute description or if it is a false positive.\n",
    "\n",
    "Data:\n",
    "\n",
    "Quality Attribute: {x['quality_attribute']}\n",
    "Attribute Description: {x['attribute_desc']}\n",
    "Matched Word: {x['matched_word']}\n",
    "Sentence: {x['sentence']}\n",
    "Source: {x['source']}\n",
    "Keyword: {x['keyword']}\n",
    "\n",
    "Instructions: \n",
    "1. Analyze the sentence, the matched word, and the attribute description.\n",
    "2. Determine if the matched word accurately reflects the intended quality attribute in this context.\n",
    "3. If it does, label it as an accurate match; if not, mark it as a false positive.\n",
    "\n",
    "Output your response as a JSON object in the following format:\n",
    "{{\n",
    "  \"false_positive\": <boolean>,\n",
    "  \"reasoning\": \"<str>\"\n",
    "}}\n",
    "\"\"\"\n"
   ],
   "id": "8a9c7a6a75a524a1",
   "outputs": [],
   "execution_count": null
  },
  {
   "metadata": {},
   "cell_type": "code",
   "source": [
    "to_prompt = lambda x: f\"\"\"\n",
    "You are an expert in evaluating and categorizing quality attributes in software engineering. You possess the necessary skills to distinguish sentences that clearly relate to a given quality attribute from those that do not. \n",
    "\n",
    "Evaluate whether the content accurately aligns with its associated quality attribute, given the context provided. Your goal is to determine if the content makes sense in relation to the quality attribute description or if it is a false positive.\n",
    "\n",
    "Data:\n",
    "\n",
    "Quality Attribute: {x['quality_attribute']}\n",
    "Attribute Description: {x['attribute_desc']}\n",
    "Content: {x['sentence']}\n",
    "\n",
    "Instructions: \n",
    "1. Analyze the content and the attribute description.\n",
    "2. Determine if the content accurately reflects the intended quality attribute in this context.\n",
    "3. If it does, label it as an accurate match; if not, mark it as a false positive.\n",
    "4. Output only the JSON object in response, without any additional explanation.\n",
    "5. Ensure the JSON output is properly formatted. Escape any special characters or inner quotes in strings to ensure compatibility with JSON parsers. Within JSON strings use \\\\\\\" to escape double quotes.\n",
    "\n",
    "\n",
    "Output your response as a JSON object in the following format:\n",
    "{{\n",
    "  \"false_positive\": <boolean>,\n",
    "  \"reasoning\": \"<str>\"\n",
    "}}\n",
    "\"\"\"\n"
   ],
   "id": "b4ba267866b65c0",
   "outputs": [],
   "execution_count": null
  },
  {
   "metadata": {},
   "cell_type": "code",
   "source": [
    "df_sample['prompt'] = df_sample.apply(lambda x: to_prompt(x), axis=1)\n",
    "df_sample"
   ],
   "id": "99f61ed4dabce6e6",
   "outputs": [],
   "execution_count": null
  },
  {
   "metadata": {},
   "cell_type": "code",
   "source": "df_sample.to_csv(\"./metadata/keywords/verification/big_sample2.csv\", index=False)",
   "id": "2793b1d93067b8b4",
   "outputs": [],
   "execution_count": null
  },
  {
   "metadata": {},
   "cell_type": "code",
   "source": "df_sample[\"prompt\"]",
   "id": "bac599b73b0cca95",
   "outputs": [],
   "execution_count": null
  },
  {
   "metadata": {},
   "cell_type": "code",
   "source": [
    "df_answers = pd.read_csv(\"./metadata/keywords/verification/sample_with_responses.csv\")\n",
    "df_answers.sort_values([\"false_positive\"])"
   ],
   "id": "c4501a0ce0519ab4",
   "outputs": [],
   "execution_count": null
  },
  {
   "metadata": {},
   "cell_type": "code",
   "source": [
    "df_answers = df_answers[df_answers['false_positive'] == True]\n",
    "df_answers.groupby([\"source\", \"quality_attribute\"]).size()"
   ],
   "id": "ff0ccc32999d095b",
   "outputs": [],
   "execution_count": null
  },
  {
   "metadata": {},
   "cell_type": "code",
   "source": [
    "df_answers = pd.read_csv(\"./metadata/keywords/verification/sample_with_responses_ailab.csv\")\n",
    "df_answers.sort_values([\"false_positive\"])"
   ],
   "id": "d0c05ead49c1ea05",
   "outputs": [],
   "execution_count": null
  },
  {
   "metadata": {},
   "cell_type": "code",
   "source": [
    "df_answers = pd.read_csv(\"./metadata/keywords/verification/sample_with_responses_ailab_2.csv\")\n",
    "df_answers.sort_values([\"false_positive\"])"
   ],
   "id": "a89a08350e0f3ea8",
   "outputs": [],
   "execution_count": null
  },
  {
   "metadata": {},
   "cell_type": "code",
   "source": [
    "df_answers = pd.read_csv(\"./metadata/keywords/verification/sample_with_responses_ailab_3.csv\")\n",
    "df_answers.sort_values([\"false_positive\"])"
   ],
   "id": "846f3f66cd7306ab",
   "outputs": [],
   "execution_count": null
  },
  {
   "metadata": {},
   "cell_type": "code",
   "source": [
    "csv = Path(\"./metadata/keywords/verification/big_sample_with_responses.csv\")\n",
    "analysis_folder = csv.parent / \"analysis\"\n",
    "df_big_sample = pd.read_csv(csv)\n",
    "df_answers = df_big_sample.groupby([\"source\", \"quality_attribute\", \"false_positive\", \"keyword\", \"matched_word\"]).size().reset_index(name=\"count\")\n",
    "import plotly.express as px\n",
    "\n",
    "fig = px.sunburst(df_answers, path=[\"false_positive\", \"quality_attribute\", \"source\", \"keyword\", \"matched_word\"], values=\"count\")\n",
    "fig.update_layout(**proportions)\n",
    "fig.show()\n",
    "fig.write_html(analysis_folder / \"big_sample_sunburst.html\")"
   ],
   "id": "4ecbc213fdfe5991",
   "outputs": [],
   "execution_count": null
  },
  {
   "metadata": {},
   "cell_type": "code",
   "source": [
    "import numpy as np\n",
    "\n",
    "keyword_rating_with_source = df_big_sample.groupby([\"source\", \"keyword\"]).agg(\n",
    "    false_positive_False=(\"false_positive\", lambda x: (x == False).sum()),\n",
    "    false_positive_True=(\"false_positive\", lambda x: (x == True).sum()),\n",
    "    total=(\"keyword\", \"size\")\n",
    ").reset_index()\n",
    "\n",
    "keyword_rating_with_source[\"score\"] = keyword_rating_with_source.apply(\n",
    "    lambda x: (x[\"false_positive_False\"] - x[\"false_positive_True\"]) / (x[\"false_positive_False\"] + x[\"false_positive_True\"]),\n",
    "    axis=1\n",
    ")\n",
    "keyword_rating_with_source[\"adv_score\"] = keyword_rating_with_source.apply(\n",
    "    lambda x: (x[\"false_positive_False\"] - x[\"false_positive_True\"]) / (x[\"false_positive_False\"] + x[\"false_positive_True\"] + 1) * (1 + np.log1p(x[\"false_positive_False\"])),\n",
    "    axis=1\n",
    ")\n",
    "\n",
    "keyword_rating_with_source[\"total_score\"] = keyword_rating_with_source.apply(\n",
    "    lambda x: x[\"false_positive_False\"] * 5 - x[\"false_positive_True\"] - abs(x[\"false_positive_False\"] - x[\"false_positive_True\"]),\n",
    "    axis=1\n",
    ")\n",
    "\n",
    "# keyword_rating_with_source[\"adv_score\"] = keyword_rating_with_source.apply(\n",
    "#     lambda x: (diff := x[\"false_positive_False\"] - x[\"false_positive_True\"]) * abs(diff) / (x[\"false_positive_False\"] + x[\"false_positive_True\"] + 1) * x[\"total\"],\n",
    "#     axis=1\n",
    "# )\n",
    "\n",
    "keyword_rating_with_source = keyword_rating_with_source.sort_values([\"total_score\", \"false_positive_False\"], ascending=False)\n",
    "keyword_rating_with_source.to_csv(analysis_folder / \"keyword_rating_with_source.csv\")\n",
    "keyword_rating_with_source"
   ],
   "id": "2b4cec00789d0cc1",
   "outputs": [],
   "execution_count": null
  },
  {
   "metadata": {},
   "cell_type": "code",
   "source": [
    "keyword_rating = df_big_sample.groupby([\"keyword\"]).agg(\n",
    "    false_positive_False=(\"false_positive\", lambda x: (x == False).sum()),\n",
    "    false_positive_True=(\"false_positive\", lambda x: (x == True).sum()),\n",
    "    total=(\"keyword\", \"size\"),\n",
    ").reset_index()\n",
    "\n",
    "keyword_rating[\"score\"] = keyword_rating.apply(\n",
    "    lambda x: (x[\"false_positive_False\"] - x[\"false_positive_True\"]) / (x[\"false_positive_False\"] + x[\"false_positive_True\"]),\n",
    "    axis=1\n",
    ")\n",
    "\n",
    "keyword_rating[\"adv_score\"] = keyword_rating.apply(\n",
    "    lambda x: (x[\"false_positive_False\"] - x[\"false_positive_True\"]) / (x[\"false_positive_False\"] + x[\"false_positive_True\"] + 1) * (1 + np.log1p(x[\"false_positive_False\"])),\n",
    "    axis=1\n",
    ")\n",
    "\n",
    "keyword_rating[\"total_score\"] = keyword_rating.apply(\n",
    "    lambda x: x[\"false_positive_False\"] * 5 - x[\"false_positive_True\"] - abs(x[\"false_positive_False\"] - x[\"false_positive_True\"]),\n",
    "    axis=1\n",
    ")\n",
    "\n",
    "# keyword_rating[\"adv_score\"] = keyword_rating.apply(\n",
    "#     lambda x: (diff := x[\"false_positive_False\"] - x[\"false_positive_True\"]) * abs(diff) / (x[\"false_positive_False\"] + x[\"false_positive_True\"] + 1) * x[\"total\"],\n",
    "#     axis=1\n",
    "# )\n",
    "\n",
    "keyword_rating = keyword_rating.sort_values([\"total_score\", \"false_positive_False\"], ascending=False)\n",
    "keyword_rating.to_csv(analysis_folder / \"keyword_rating.csv\")\n",
    "keyword_rating"
   ],
   "id": "564a44ea34cb5656",
   "outputs": [],
   "execution_count": null
  },
  {
   "metadata": {},
   "cell_type": "code",
   "source": [
    "fig = px.bar(df_big_sample.groupby([\"keyword\", \"false_positive\"]).agg(size=(\"keyword\", \"size\"), sources=(\"source\", lambda x: \", \".join(x.unique().tolist()))).reset_index(), y=\"keyword\", x=\"size\", color=\"false_positive\", hover_data=\"sources\")\n",
    "fig.update_yaxes(categoryorder='total ascending')\n",
    "fig.update_layout(width=1600, height=2200)\n",
    "fig.show()\n",
    "fig.write_html(analysis_folder / \"keyword_rating_stacked_bar.html\")"
   ],
   "id": "2cf4d5b8a8e0b2a7",
   "outputs": [],
   "execution_count": null
  },
  {
   "metadata": {},
   "cell_type": "code",
   "source": [
    "fig = px.bar(df_big_sample.groupby([\"keyword\", \"false_positive\", \"source\"]).size().reset_index(name=\"size\").sort_values([\"size\", \"keyword\", \"false_positive\", \"source\"], ascending=[1,0,0,0]), y=\"keyword\", x=\"size\", color=\"false_positive\", facet_col=\"source\")\n",
    "fig.update_layout(width=1600, height=2200)\n",
    "fig.show()\n",
    "fig.write_html(analysis_folder / \"keyword_rating_faceted_stacked_bar.html\")"
   ],
   "id": "3cdae372fd38fe31",
   "outputs": [],
   "execution_count": null
  }
 ],
 "metadata": {
  "kernelspec": {
   "display_name": "Python 3",
   "language": "python",
   "name": "python3"
  },
  "language_info": {
   "codemirror_mode": {
    "name": "ipython",
    "version": 2
   },
   "file_extension": ".py",
   "mimetype": "text/x-python",
   "name": "python",
   "nbconvert_exporter": "python",
   "pygments_lexer": "ipython2",
   "version": "2.7.6"
  }
 },
 "nbformat": 4,
 "nbformat_minor": 5
}

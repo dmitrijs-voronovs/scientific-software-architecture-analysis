{
 "cells": [
  {
   "metadata": {},
   "cell_type": "code",
   "source": [
    "def get_dir_path(s: str):\n",
    "    return \"keyword_analysis/%s.html\" % s\n",
    "\n",
    "\n",
    "proportions = dict(width=1600, height=1000)\n",
    "xl_proportions = dict(width=2000, height=1400)"
   ],
   "id": "d4d6b6c92d974bc5",
   "outputs": [],
   "execution_count": null
  },
  {
   "cell_type": "code",
   "id": "initial_id",
   "metadata": {
    "collapsed": true
   },
   "source": [
    "\n",
    "from pathlib import Path\n",
    "\n",
    "import pandas as pd\n",
    "\n",
    "files = Path(\"metadata/keywords\").glob(\"scverse.scanpy.1.10.2.*.csv\")\n",
    "df = []\n",
    "for file in files:\n",
    "    try:\n",
    "        file_df = pd.read_csv(file)\n",
    "        df.append(file_df)\n",
    "    except:\n",
    "        print(f\"unable to read file {file}\")\n",
    "\n",
    "df = pd.concat(df)\n",
    "df.source = df.source.apply(lambda x: x.split('.')[1])\n",
    "df.head()"
   ],
   "outputs": [],
   "execution_count": null
  },
  {
   "metadata": {},
   "cell_type": "code",
   "source": [
    "min_sentence_length = 50\n",
    "df_good_sentences = df[df['sentence'].str.len() > min_sentence_length]\n",
    "df_good_sentences.sample(15)"
   ],
   "id": "c4fb3025c216b2e5",
   "outputs": [],
   "execution_count": null
  },
  {
   "metadata": {},
   "cell_type": "code",
   "source": "df_good_sentences.groupby(['source', 'quality_attribute']).size()",
   "id": "c4e1d55f3942ecc8",
   "outputs": [],
   "execution_count": null
  },
  {
   "metadata": {},
   "cell_type": "code",
   "source": [
    "quality_attribs = {\n",
    "    \"Availability\": {\n",
    "        \"desc\": \"The ability of a system to be ready to carry out its task when needed, encompassing reliability and recovery. It involves masking or repairing faults to prevent failures and ensuring cumulative service outage doesn't exceed a specified value. It's measured by MTBF/(MTBF + MTTR).\"},\n",
    "    \"Deployability\": {\n",
    "        \"desc\": \"The ability of software to be deployed to an environment for execution within predictable time and effort, including rollback if needed.  Focuses on automation, efficiency, and granularity of deployment.\"},\n",
    "    \"Energy Efficiency\": {\n",
    "        \"desc\": \"The system's ability to effectively utilize resources and minimize energy consumption while delivering required functionality. This involves resource monitoring, allocation, and adaptation, often balancing energy usage with performance, availability, and other quality attributes.\"},\n",
    "    \"Integrability\": {\n",
    "        \"desc\": \"The ease with which a system can be integrated with other systems or components, measured by the cost and technical risks associated with integration. It depends on the size and 'distance' of interfaces, including syntactic, semantic, behavioral, temporal, and resource differences.\"},\n",
    "    \"Modifiability\": {\n",
    "        \"desc\": \"The ease with which a system can be changed to add/delete/modify functionality, improve quality attributes, or adapt to new environments.  It considers the likelihood, time, cost, and impact of changes on coupling, cohesion, size, and binding time.\"},\n",
    "    \"Performance\": {\n",
    "        \"desc\": \"The system's ability to meet timing requirements, handling events and responding in a timely manner.  It involves managing processing time, blocked time due to resource contention, and optimizing resource usage under various load conditions.\"},\n",
    "    \"Safety\": {\n",
    "        \"desc\": \"The system's ability to avoid unsafe states that could cause harm. This involves recognizing and responding to omissions, commissions, timing errors, incorrect values, and sequence errors to prevent or mitigate damage and injury.\"},\n",
    "    \"Security\": {\n",
    "        \"desc\": \"The system's ability to protect data and information from unauthorized access while allowing access to authorized users. It focuses on confidentiality, integrity, and availability, using tactics to detect, resist, react to, and recover from attacks.\"},\n",
    "    \"Testability\": {\n",
    "        \"desc\": \"The ease with which software can be made to demonstrate faults through testing. This involves controlling and observing system state, limiting complexity, and facilitating the creation of test harnesses and oracles.\"},\n",
    "    \"Usability\": {\n",
    "        \"desc\": \"How easy it is for the user to accomplish desired tasks and the kind of user support provided. It covers learning, efficient use, error minimization, adaptation to user needs, and increasing user confidence and satisfaction.\"},\n",
    "}\n"
   ],
   "id": "d264b60d0cb2ab38",
   "outputs": [],
   "execution_count": null
  },
  {
   "metadata": {},
   "cell_type": "code",
   "source": [
    "df_good_sentences = df_good_sentences.groupby(['source', 'quality_attribute']).apply(lambda x: x.sample(min(len(x), 3)),\n",
    "                                                                 include_groups=False).reset_index()\n",
    "df_good_sentences[\"attribute_desc\"] = df_good_sentences[\"quality_attribute\"].apply(lambda x: quality_attribs[x][\"desc\"])\n",
    "df_good_sentences"
   ],
   "id": "10790ec1d896dcba",
   "outputs": [],
   "execution_count": null
  },
  {
   "metadata": {},
   "cell_type": "code",
   "source": [
    "\n",
    "df_good_sentences.columns.tolist()"
   ],
   "id": "794e1e151a9f03be",
   "outputs": [],
   "execution_count": null
  },
  {
   "metadata": {},
   "cell_type": "code",
   "source": [
    "to_prompt = lambda x: f\"\"\"\n",
    "Evaluate whether the matched keyword accurately aligns with its associated quality attribute, based on the context provided. The goal is to determine if the match makes sense in relation to the quality attribute description, or if it is a false-positive.\n",
    "\n",
    "Data:\n",
    "\n",
    "Source: {x['source']}\n",
    "Quality Attribute: {x['quality_attribute']}\n",
    "Keyword: {x['keyword']}\n",
    "Matched Word: {x['matched_word']}\n",
    "Sentence: \"{x['sentence']}\"\n",
    "Filename: {x['filename']}\n",
    "Author: {x['author']}\n",
    "Repository: {x['repo']}\n",
    "Version: {x['version']}\n",
    "Attribute Description: \"{x['attribute_desc']}\"\n",
    "Instructions: Based on the sentence, the matched word, and the attribute description, determine if the match is appropriate. Respond with Good if the matched word correctly reflects the intended quality attribute, or False-Positive if it doesn’t make sense in the given context.\n",
    "\"\"\""
   ],
   "id": "4a1f7c504eb450ea",
   "outputs": [],
   "execution_count": null
  },
  {
   "metadata": {},
   "cell_type": "code",
   "source": [
    "df_good_sentences['prompt'] = df_good_sentences.apply(lambda x: to_prompt(x), axis=1)\n",
    "df_good_sentences"
   ],
   "id": "99f61ed4dabce6e6",
   "outputs": [],
   "execution_count": null
  }
 ],
 "metadata": {
  "kernelspec": {
   "display_name": "Python 3",
   "language": "python",
   "name": "python3"
  },
  "language_info": {
   "codemirror_mode": {
    "name": "ipython",
    "version": 2
   },
   "file_extension": ".py",
   "mimetype": "text/x-python",
   "name": "python",
   "nbconvert_exporter": "python",
   "pygments_lexer": "ipython2",
   "version": "2.7.6"
  }
 },
 "nbformat": 4,
 "nbformat_minor": 5
}

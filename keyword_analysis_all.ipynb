{
 "cells": [
  {
   "metadata": {},
   "cell_type": "code",
   "source": [
    "def get_dir_path(s: str):\n",
    "    return \"docs/keyword_analysis/all_%s.html\" % s\n",
    "\n",
    "proportions = dict(width=1600, height=1000)\n",
    "xl_proportions = dict(width=2000, height=1400)"
   ],
   "id": "d4d6b6c92d974bc5",
   "outputs": [],
   "execution_count": null
  },
  {
   "cell_type": "code",
   "id": "initial_id",
   "metadata": {
    "collapsed": true
   },
   "source": [
    "from requests import head\n",
    "import pandas as pd\n",
    "from pathlib import Path\n",
    "import re\n",
    "\n",
    "files = Path(\"metadata/keywords\").glob(\"*.csv\")\n",
    "df = []\n",
    "for file in files:\n",
    "    try:\n",
    "        file_df = pd.read_csv(file)\n",
    "        df.append(file_df)\n",
    "    except:\n",
    "        print(f\"unable to read file {file}\")\n",
    "\n",
    "df = pd.concat(df)\n",
    "df.source = df.source.apply(lambda x: x.split('.')[1])\n",
    "df['project'] = df.apply(lambda row: f\"{row['author']}/{row['repo']}/{row['version']}\", axis=1)\n",
    "df['base_url'] = df['url'].apply(lambda x: re.sub(r'#:~:text.+', '', x))\n",
    "df.head()"
   ],
   "outputs": [],
   "execution_count": null
  },
  {
   "metadata": {},
   "cell_type": "code",
   "source": [
    "summary_df = df.groupby([\"quality_attribute\", \"project\"]).size().reset_index(name=\"count\")\n",
    "summary_df = summary_df.sort_values([\"project\", \"count\"], ascending=False)\n",
    "summary_df.to_csv(\"metadata/repo_info/summary_by_project_and_quality_attribute.csv\", index=False)\n",
    "summary_df"
   ],
   "id": "ae23f363495c3947",
   "outputs": [],
   "execution_count": null
  },
  {
   "metadata": {},
   "cell_type": "code",
   "source": [
    "summary_df = df.groupby([\"project\"]).size().reset_index(name=\"count\")\n",
    "summary_df = summary_df.sort_values([\"count\"], ascending=False)\n",
    "summary_df.to_csv(\"metadata/repo_info/summary_by_project.csv\", index=False)\n",
    "summary_df"
   ],
   "id": "f32b635ee7629e06",
   "outputs": [],
   "execution_count": null
  },
  {
   "metadata": {},
   "cell_type": "code",
   "source": [
    "summary_df = df.groupby([\"quality_attribute\"]).size().reset_index(name=\"count\")\n",
    "summary_df = summary_df.sort_values([\"count\"], ascending=False)\n",
    "summary_df.to_csv(\"metadata/repo_info/summary_by_quality_attribute.csv\", index=False)\n",
    "summary_df"
   ],
   "id": "7f1c1f35a0d78645",
   "outputs": [],
   "execution_count": null
  },
  {
   "metadata": {},
   "cell_type": "code",
   "source": [
    "summary_df = df.groupby([\"quality_attribute\"]).size().reset_index(name=\"count\")\n",
    "summary_df = summary_df.sort_values([\"count\"], ascending=False)\n",
    "summary_df['count'].sum()"
   ],
   "id": "22d267e67142aea9",
   "outputs": [],
   "execution_count": null
  },
  {
   "metadata": {},
   "cell_type": "code",
   "source": [
    "import plotly.express as px\n",
    "\n",
    "# Group by 'Quality Attribute' and 'source', counting keyword matches\n",
    "matrix_df = df.groupby(['quality_attribute', 'source', 'project']).size().reset_index(name='count')\n",
    "\n",
    "# Plot grouped bar chart\n",
    "fig = px.bar(matrix_df, x='quality_attribute', y='count', color='source', barmode='group',\n",
    "             labels={'quality_attribute': 'Quality Attribute', 'count': 'Keyword Matches'},\n",
    "             animation_frame=\"project\",\n",
    "             title='Source vs. Quality Attribute Matrix')\n",
    "\n",
    "fig.update_layout(**proportions)\n",
    "fig.show()\n",
    "\n",
    "fig.write_html(get_dir_path(\"source_vs_quality_attr_matrix\"))\n"
   ],
   "id": "ce5575a2c90700aa",
   "outputs": [],
   "execution_count": null
  },
  {
   "metadata": {},
   "cell_type": "code",
   "source": [
    "scatted_df = df\n",
    "scatted_df['sentence_length'] = df['sentence'].apply(lambda x: len(x))\n",
    "scatted_df = scatted_df.groupby(['quality_attribute', 'source', 'matched_word']).agg(count=('keyword', 'size'), avg_sentence_length=('sentence_length', 'mean')).reset_index()\n",
    "scatted_df.head()\n",
    "scat = px.scatter(scatted_df, x='avg_sentence_length', y='matched_word', color='source', size='count', title='Scatter Plot of Quality Attributes by Source')\n",
    "scat.update_traces(marker=dict(sizemode='area', sizeref=1, sizemin=1))\n",
    "scat.update_layout(xaxis=dict(tickangle=45), legend=dict(orientation=\"h\", yanchor=\"bottom\", y=1.02, xanchor=\"right\", x=1.02), **proportions)\n",
    "scat.show()"
   ],
   "id": "ed1a1b0cafc45f2a",
   "outputs": [],
   "execution_count": null
  },
  {
   "metadata": {},
   "cell_type": "code",
   "source": [
    "fig = px.histogram(df, y='keyword', color='source', animation_frame=\"project\", title='Histogram of Keyword Matches by Source')\n",
    "fig.update_yaxes(categoryorder='total ascending')\n",
    "fig.update_layout(width=1600, height=2000)\n",
    "fig.show()\n",
    "\n",
    "fig.write_html(get_dir_path(\"histogram_of_keyword_matches_by_source_animated\"))"
   ],
   "id": "611818356b88d906",
   "outputs": [],
   "execution_count": null
  },
  {
   "metadata": {},
   "cell_type": "code",
   "source": [
    "fig = px.histogram(df, y='keyword', color='source', title='Histogram of Keyword Matches by Source')\n",
    "fig.update_yaxes(categoryorder='total ascending')\n",
    "fig.update_layout(width=1600, height=2000)\n",
    "fig.show()\n",
    "\n",
    "fig.write_html(get_dir_path(\"histogram_of_keyword_matches_by_source\"))"
   ],
   "id": "57ea210073c8698b",
   "outputs": [],
   "execution_count": null
  },
  {
   "metadata": {},
   "cell_type": "code",
   "source": [
    "fig = px.histogram(df, y='keyword', color='quality_attribute', title='Histogram of Keyword Matches by Source')\n",
    "fig.update_yaxes(categoryorder='total ascending')\n",
    "fig.update_layout(width=1600, height=2000)\n",
    "fig.show()\n",
    "\n",
    "fig.write_html(get_dir_path(\"histogram_of_keyword_matches_by_quality_attribute\"))"
   ],
   "id": "c20c90c964432a81",
   "outputs": [],
   "execution_count": null
  },
  {
   "metadata": {},
   "cell_type": "code",
   "source": [
    "# Group and count by source and quality attribute\n",
    "stacked_df = df.groupby(['source', 'quality_attribute']).size().reset_index(name='count')\n",
    "\n",
    "# Plot stacked bar chart\n",
    "fig = px.bar(stacked_df, x='quality_attribute', y='count', color='source',\n",
    "             labels={'source': 'source', 'count': 'Keyword Matches'},\n",
    "             title='Stacked Bar Chart of Quality Attributes by Source')\n",
    "fig.update_layout(**proportions)\n",
    "fig.show()\n",
    "\n",
    "fig.write_html(get_dir_path(\"stacked_bar_chart_quality_attr_to_sources\"))\n"
   ],
   "id": "b68572dee70f6398",
   "outputs": [],
   "execution_count": null
  },
  {
   "metadata": {},
   "cell_type": "code",
   "source": [
    "# Count keywords within each quality attribute\n",
    "treemap_df = df.groupby(['quality_attribute', 'project', 'keyword', 'matched_word']).size().reset_index(name='count')\n",
    "\n",
    "# Plot treemap\n",
    "fig = px.treemap(treemap_df, path=['project', 'quality_attribute', 'keyword', 'matched_word'], values='count', color=\"quality_attribute\", color_discrete_sequence=px.colors.qualitative.Pastel,\n",
    "                 title='Matched Word Frequency per Quality Attribute Treemap')\n",
    "\n",
    "fig.update_layout(**proportions)\n",
    "fig.show()\n",
    "\n",
    "fig.write_html(get_dir_path(\"treemap_quality_attr_to_matched_words\"))\n"
   ],
   "id": "e46534f0f5dbc60c",
   "outputs": [],
   "execution_count": null
  },
  {
   "metadata": {},
   "cell_type": "code",
   "source": [
    "# Count keywords within each quality attribute\n",
    "treemap_df = df.groupby(['quality_attribute', 'project', 'keyword', 'matched_word']).size().reset_index(name='count')\n",
    "\n",
    "# Plot treemap\n",
    "fig = px.treemap(treemap_df, path=['quality_attribute', 'project', 'keyword', 'matched_word'], values='count', color=\"project\", color_discrete_sequence=px.colors.qualitative.Pastel,\n",
    "                 title='Matched Word Frequency per Quality Attribute Treemap')\n",
    "\n",
    "fig.update_layout(**proportions)\n",
    "fig.show()\n",
    "\n",
    "fig.write_html(get_dir_path(\"treemap_quality_attr_to_matched_words_by_project\"))\n"
   ],
   "id": "ceede94a7ebc179e",
   "outputs": [],
   "execution_count": null
  },
  {
   "metadata": {},
   "cell_type": "code",
   "source": [
    "# Count keywords within each quality attribute\n",
    "treemap_df = df.groupby(['quality_attribute', 'source', \"project\", 'keyword', 'matched_word']).size().reset_index(name='count')\n",
    "\n",
    "# Plot treemap\n",
    "fig = px.treemap(treemap_df, path=['source', 'quality_attribute', 'project', 'keyword', 'matched_word'], values='count', color='quality_attribute', color_discrete_sequence=px.colors.qualitative.Pastel,\n",
    "                 title='Matched Word Frequency per Quality Attribute Treemap')\n",
    "\n",
    "fig.update_layout(**proportions)\n",
    "fig.show()\n",
    "\n",
    "fig.write_html(get_dir_path(\"treemap_quality_attr_to_matched_words_with_source\"))\n"
   ],
   "id": "3c9a452d635e7f9e",
   "outputs": [],
   "execution_count": null
  },
  {
   "metadata": {
    "jupyter": {
     "is_executing": true
    }
   },
   "cell_type": "code",
   "source": [
    "# Count keywords within each quality attribute\n",
    "treemap_df = df.groupby(['quality_attribute', 'project', 'source', 'keyword', 'matched_word', 'sentence']).size().reset_index(name='count')\n",
    "\n",
    "# Plot treemap\n",
    "fig = px.treemap(treemap_df, path=['quality_attribute', 'project', 'source', 'keyword', 'matched_word', 'sentence'], values='count', color='source', color_discrete_sequence=px.colors.qualitative.Pastel,\n",
    "                 title='Matched Word Frequency per Quality Attribute Treemap')\n",
    "\n",
    "fig.update_layout(**proportions)\n",
    "fig.show()\n",
    "\n",
    "fig.write_html(get_dir_path(\"treemap_quality_attr_to_matched_words_with_source_and_sentences\"))\n"
   ],
   "id": "7ef76eb4bc78d6e5",
   "outputs": [],
   "execution_count": null
  },
  {
   "metadata": {
    "jupyter": {
     "is_executing": true
    }
   },
   "cell_type": "code",
   "source": [
    "radar_df = df.groupby(['quality_attribute', 'project']).size().reset_index(name=\"count\")\n",
    "radar_df.head(15)"
   ],
   "id": "e873bba903457617",
   "outputs": [],
   "execution_count": null
  },
  {
   "metadata": {
    "jupyter": {
     "is_executing": true
    }
   },
   "cell_type": "code",
   "source": [
    "fig = px.line_polar(radar_df, r=\"count\", theta='quality_attribute', animation_frame=\"project\", line_close=True,\n",
    "                    title='Quality Attribute Radar Chart by Source', markers=True)\n",
    "\n",
    "fig.update_traces(fill='toself')\n",
    "fig.update_layout(**proportions)\n",
    "fig.show()\n",
    "\n",
    "fig.write_html(get_dir_path(\"radar_chart_quality_attr\"))"
   ],
   "id": "32f9a81ca5d217ea",
   "outputs": [],
   "execution_count": null
  },
  {
   "metadata": {
    "jupyter": {
     "is_executing": true
    }
   },
   "cell_type": "code",
   "source": [
    "import networkx as nx\n",
    "import plotly.graph_objects as go\n",
    "\n",
    "# Create edges between keywords and quality attributes\n",
    "edges = df[['keyword', 'quality_attribute']].drop_duplicates()\n",
    "G = nx.from_pandas_edgelist(edges, 'keyword', 'quality_attribute')\n",
    "\n",
    "# Plot with Plotly\n",
    "pos = nx.spring_layout(G)\n",
    "edge_trace = go.Scatter(x=[], y=[], line=dict(width=1, color='#888'), hoverinfo='none', mode='lines')\n",
    "\n",
    "for edge in G.edges():\n",
    "    x0, y0 = pos[edge[0]]\n",
    "    x1, y1 = pos[edge[1]]\n",
    "    edge_trace['x'] += (x0, x1, None)\n",
    "    edge_trace['y'] += (y0, y1, None)\n",
    "\n",
    "node_trace = go.Scatter(x=[], y=[], text=[], mode='markers+text', hoverinfo='text',\n",
    "                        marker=dict(showscale=True, color=[], size=10, colorbar=dict(thickness=15)))\n",
    "\n",
    "for node in G.nodes():\n",
    "    x, y = pos[node]\n",
    "    node_trace['x'] += (x,)\n",
    "    node_trace['y'] += (y,)\n",
    "    node_trace['text'] += (node,)\n",
    "    node_trace['marker']['color'] += (1 if node in edges['quality_attribute'].values else 0,)\n",
    "\n",
    "fig = go.Figure(data=[edge_trace, node_trace], layout=go.Layout(title='Keyword and Quality Attribute Network Graph'))\n",
    "fig.update_layout(**proportions)\n",
    "fig.show()\n"
   ],
   "id": "4669fa20404d2a0f",
   "outputs": [],
   "execution_count": null
  },
  {
   "metadata": {
    "jupyter": {
     "is_executing": true
    }
   },
   "cell_type": "code",
   "source": [
    "# Count keywords per quality attribute per source\n",
    "hist_df = df.groupby(['quality_attribute', 'source']).size().reset_index(name='count')\n",
    "\n",
    "# Plot histogram\n",
    "fig = px.histogram(hist_df, x='quality_attribute', y='count', color='source',\n",
    "                   barmode='group', title='Comparative Histogram of Keyword Matches by Source')\n",
    "\n",
    "fig.update_layout(**proportions)\n",
    "fig.show()\n",
    "\n",
    "fig.write_html(get_dir_path(\"comparative_histogram_quality_attr_to_sources\"))\n"
   ],
   "id": "4e1d24bd3cd84c64",
   "outputs": [],
   "execution_count": null
  },
  {
   "metadata": {
    "jupyter": {
     "is_executing": true
    }
   },
   "cell_type": "code",
   "source": [
    "sunburst_df = df.groupby(['quality_attribute', 'source', 'keyword']).size().reset_index(name='count')\n",
    "sunburst_df.head()\n"
   ],
   "id": "f89ff966e3dca18e",
   "outputs": [],
   "execution_count": null
  },
  {
   "metadata": {
    "jupyter": {
     "is_executing": true
    }
   },
   "cell_type": "code",
   "source": [
    "# Group data by quality attribute, source, and repository\n",
    "sunburst_df = df.groupby(['quality_attribute', 'source', 'keyword']).size().reset_index(name='count')\n",
    "\n",
    "# Plot sunburst\n",
    "import plotly.express as px\n",
    "\n",
    "fig = px.sunburst(sunburst_df, path=['quality_attribute', 'source', 'keyword'], values='count',\n",
    "                  title='Parallel Sets Diagram of Quality Attributes, Sources, and Keywords')\n",
    "fig.update_layout(**proportions)\n",
    "fig.show()\n",
    "fig.write_html(get_dir_path(\"parallel_sets_diagram_quality_attr_to_keywords\"))\n"
   ],
   "id": "3dd25309f0785f27",
   "outputs": [],
   "execution_count": null
  },
  {
   "metadata": {
    "jupyter": {
     "is_executing": true
    }
   },
   "cell_type": "code",
   "source": [
    "# Group data by quality attribute, source, and repository\n",
    "sunburst_df = df.groupby(['quality_attribute', 'source', 'matched_word']).size().reset_index(name='count')\n",
    "\n",
    "# Plot sunburst\n",
    "import plotly.express as px\n",
    "\n",
    "fig = px.sunburst(sunburst_df, path=['quality_attribute', 'source', 'matched_word'], values='count',\n",
    "                  title='Parallel Sets Diagram of Quality Attributes, Sources, and Matched words')\n",
    "fig.update_layout(**proportions)\n",
    "fig.show()\n",
    "fig.write_html(get_dir_path(\"parallel_sets_diagram_quality_attr_to_matched_words\"))\n"
   ],
   "id": "5c754f2dc1d6a900",
   "outputs": [],
   "execution_count": null
  },
  {
   "metadata": {
    "jupyter": {
     "is_executing": true
    }
   },
   "cell_type": "code",
   "source": [
    "# Group data by quality attribute, source, and repository\n",
    "import re\n",
    "sunburst_df = df.groupby(['keyword', \"base_url\", 'quality_attribute', 'source', 'project']).size().reset_index(name='count')\n",
    "sunburst_df.sort_values(['keyword', 'source'])"
   ],
   "id": "b46460d497eda2f0",
   "outputs": [],
   "execution_count": null
  },
  {
   "metadata": {
    "jupyter": {
     "is_executing": true
    }
   },
   "cell_type": "code",
   "source": [
    "sunburst_df = sunburst_df.groupby(['keyword', 'quality_attribute', 'source', 'project']).size().reset_index(name='count')\n",
    "sunburst_df.sort_values(['keyword', 'source'])"
   ],
   "id": "8832a029c98690be",
   "outputs": [],
   "execution_count": null
  },
  {
   "metadata": {
    "jupyter": {
     "is_executing": true
    }
   },
   "cell_type": "code",
   "source": [
    "fig = px.sunburst(sunburst_df, path=['quality_attribute', 'source', 'keyword', 'project'], values='count',\n",
    "                  title='Parallel Sets Diagram of Quality Attributes, Sources, and Matched words')\n",
    "fig.update_layout(**proportions)\n",
    "fig.show()\n",
    "fig.write_html(get_dir_path(\"parallel_sets_diagram_quality_attr_to_matched_words\"))"
   ],
   "id": "8d95a889a2945de3",
   "outputs": [],
   "execution_count": null
  },
  {
   "metadata": {
    "jupyter": {
     "is_executing": true
    }
   },
   "cell_type": "code",
   "source": [
    "# Group data by quality attribute, source, and repository\n",
    "sunburst_df = df.groupby(['quality_attribute', 'source', 'keyword', 'matched_word']).size().reset_index(name='count')\n",
    "\n",
    "# Plot sunburst\n",
    "import plotly.express as px\n",
    "\n",
    "fig = px.sunburst(sunburst_df, path=['quality_attribute', 'source', 'keyword', 'matched_word'], values='count',\n",
    "                  title='Parallel Sets Diagram of Quality Attributes, Sources, and Matched words')\n",
    "fig.update_layout(**proportions)\n",
    "fig.show()\n",
    "fig.write_html(get_dir_path(\"parallel_sets_diagram_quality_attr_to_keywords_with_matched_words\"))\n"
   ],
   "id": "b3e009af24b81cb3",
   "outputs": [],
   "execution_count": null
  },
  {
   "metadata": {
    "jupyter": {
     "is_executing": true
    }
   },
   "cell_type": "code",
   "source": [
    "sankey_df = df.groupby(['quality_attribute', 'source', 'keyword']).size().reset_index(name='count')\n",
    "\n",
    "# Create a list of unique nodes (quality attributes, sources, keywords)\n",
    "nodes = pd.concat([sankey_df['quality_attribute'], sankey_df['source'], sankey_df['keyword']]).unique()\n",
    "node_dict = {node: i for i, node in enumerate(nodes)}  # Map each node to a unique index\n",
    "\n",
    "# Define source and target nodes for the Sankey diagram based on the groupings\n",
    "sankey_df['quality_attr_index'] = sankey_df['quality_attribute'].map(node_dict)\n",
    "sankey_df['source_index'] = sankey_df['source'].map(node_dict)\n",
    "sankey_df['keyword_index'] = sankey_df['keyword'].map(node_dict)\n",
    "\n",
    "# Define links from quality_attribute -> source and source -> keyword\n",
    "source_target_links = (\n",
    "    pd.concat([\n",
    "        sankey_df[['quality_attr_index', 'source_index', 'count']].rename(columns={'quality_attr_index': 'source', 'source_index': 'target'}),\n",
    "        sankey_df[['source_index', 'keyword_index', 'count']].rename(columns={'source_index': 'source', 'keyword_index': 'target'})\n",
    "    ])\n",
    ")\n",
    "\n",
    "# Extract source, target, and count lists for the Sankey plot\n",
    "sources = source_target_links['source'].tolist()\n",
    "targets = source_target_links['target'].tolist()\n",
    "counts = source_target_links['count'].tolist()\n",
    "\n",
    "# Create Sankey diagram\n",
    "fig = go.Figure(data=[go.Sankey(\n",
    "    node=dict(\n",
    "        pad=15,\n",
    "        thickness=20,\n",
    "        line=dict(color=\"black\", width=0.5),\n",
    "        label=nodes  # Use unique nodes as labels\n",
    "    ),\n",
    "    link=dict(\n",
    "        source=sources,  # Indices of source nodes\n",
    "        target=targets,  # Indices of target nodes\n",
    "        value=counts     # Counts as link values\n",
    "    )\n",
    ")])\n",
    "\n",
    "fig.update_layout(title_text=\"Quality Attributes, Sources, and Keywords Sankey Diagram\", font_size=14, **proportions)\n",
    "fig.show()\n",
    "\n",
    "fig.write_html(get_dir_path(\"sankey_quality_attr_to_sources_and_keywords\"))"
   ],
   "id": "91acf173d505a2b1",
   "outputs": [],
   "execution_count": null
  },
  {
   "metadata": {
    "jupyter": {
     "is_executing": true
    }
   },
   "cell_type": "code",
   "source": [
    "sankey_df = df.groupby(['quality_attribute', 'source', 'matched_word']).size().reset_index(name='count')\n",
    "\n",
    "# Create a list of unique nodes (quality attributes, sources, keywords)\n",
    "nodes = pd.concat([sankey_df['quality_attribute'], sankey_df['source'], sankey_df['matched_word']]).unique()\n",
    "node_dict = {node: i for i, node in enumerate(nodes)}  # Map each node to a unique index\n",
    "\n",
    "# Define source and target nodes for the Sankey diagram based on the groupings\n",
    "sankey_df['quality_attr_index'] = sankey_df['quality_attribute'].map(node_dict)\n",
    "sankey_df['source_index'] = sankey_df['source'].map(node_dict)\n",
    "sankey_df['keyword_index'] = sankey_df['matched_word'].map(node_dict)\n",
    "\n",
    "# Define links from quality_attribute -> source and source -> keyword\n",
    "source_target_links = (\n",
    "    pd.concat([\n",
    "        sankey_df[['quality_attr_index', 'source_index', 'count']].rename(columns={'quality_attr_index': 'source', 'source_index': 'target'}),\n",
    "        sankey_df[['source_index', 'keyword_index', 'count']].rename(columns={'source_index': 'source', 'keyword_index': 'target'})\n",
    "    ])\n",
    ")\n",
    "\n",
    "# Extract source, target, and count lists for the Sankey plot\n",
    "sources = source_target_links['source'].tolist()\n",
    "targets = source_target_links['target'].tolist()\n",
    "counts = source_target_links['count'].tolist()\n",
    "\n",
    "# Create Sankey diagram\n",
    "fig = go.Figure(data=[go.Sankey(\n",
    "    node=dict(\n",
    "        pad=15,\n",
    "        thickness=20,\n",
    "        line=dict(color=\"black\", width=0.5),\n",
    "        label=nodes  # Use unique nodes as labels\n",
    "    ),\n",
    "    link=dict(\n",
    "        source=sources,  # Indices of source nodes\n",
    "        target=targets,  # Indices of target nodes\n",
    "        value=counts     # Counts as link values\n",
    "    )\n",
    ")])\n",
    "\n",
    "fig.update_layout(title_text=\"Quality Attributes, Sources, and Keywords Sankey Diagram\", font_size=14, **xl_proportions)\n",
    "fig.show()\n",
    "\n",
    "fig.write_html(get_dir_path(\"sankey_quality_attr_to_sources_and_matched_words\"))"
   ],
   "id": "fc259ffa57812900",
   "outputs": [],
   "execution_count": null
  },
  {
   "metadata": {
    "jupyter": {
     "is_executing": true
    }
   },
   "cell_type": "code",
   "source": [
    "# Group data by quality attribute and source, summing the counts\n",
    "sankey_df = df.groupby(['quality_attribute', 'source']).size().reset_index(name='count')\n",
    "\n",
    "# Create a list of unique nodes (quality attributes and sources only)\n",
    "nodes = pd.concat([sankey_df['quality_attribute'], sankey_df['source']]).unique()\n",
    "node_dict = {node: i for i, node in enumerate(nodes)}  # Map each node to a unique index\n",
    "\n",
    "# Define source and target nodes for the Sankey diagram\n",
    "sankey_df['quality_attr_index'] = sankey_df['quality_attribute'].map(node_dict)\n",
    "sankey_df['source_index'] = sankey_df['source'].map(node_dict)\n",
    "\n",
    "# Extract source, target, and count lists for the Sankey plot\n",
    "sources = sankey_df['quality_attr_index'].tolist()\n",
    "targets = sankey_df['source_index'].tolist()\n",
    "counts = sankey_df['count'].tolist()\n",
    "\n",
    "# Create Sankey diagram\n",
    "fig = go.Figure(data=[go.Sankey(\n",
    "    node=dict(\n",
    "        pad=15,\n",
    "        thickness=20,\n",
    "        line=dict(color=\"black\", width=0.5),\n",
    "        label=nodes  # Use unique nodes as labels\n",
    "    ),\n",
    "    link=dict(\n",
    "        source=sources,  # Indices of source nodes\n",
    "        target=targets,  # Indices of target nodes\n",
    "        value=counts     # Counts as link values\n",
    "    )\n",
    ")])\n",
    "\n",
    "fig.update_layout(title_text=\"Quality Attributes to Sources Sankey Diagram\", font_size=14, **proportions)\n",
    "fig.show()\n",
    "\n",
    "fig.write_html(get_dir_path(\"sankey_quality_attr_to_sources\"))"
   ],
   "id": "a011c81d90d6eac2",
   "outputs": [],
   "execution_count": null
  },
  {
   "metadata": {
    "jupyter": {
     "is_executing": true
    }
   },
   "cell_type": "code",
   "source": [
    "# Sort versions and aggregate data by version, source, and quality attribute\n",
    "trend_df = df.groupby(['version', 'source', 'quality_attribute']).size().reset_index(name='count')\n",
    "trend_df = trend_df.sort_values(by='version')\n",
    "\n",
    "# Plot stacked area chart\n",
    "fig = px.area(trend_df, x='version', y='count', color='quality_attribute', line_group='source',\n",
    "              title='Stacked Area Chart of Quality Attribute Trends by Source')\n",
    "fig.show()\n",
    "\n"
   ],
   "id": "f81c710250983870",
   "outputs": [],
   "execution_count": null
  }
 ],
 "metadata": {
  "kernelspec": {
   "display_name": "Python 3",
   "language": "python",
   "name": "python3"
  },
  "language_info": {
   "codemirror_mode": {
    "name": "ipython",
    "version": 2
   },
   "file_extension": ".py",
   "mimetype": "text/x-python",
   "name": "python",
   "nbconvert_exporter": "python",
   "pygments_lexer": "ipython2",
   "version": "2.7.6"
  }
 },
 "nbformat": 4,
 "nbformat_minor": 5
}

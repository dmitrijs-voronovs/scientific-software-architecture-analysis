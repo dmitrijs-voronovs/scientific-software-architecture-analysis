{
 "cells": [
  {
   "cell_type": "code",
   "id": "initial_id",
   "metadata": {
    "collapsed": true
   },
   "source": [
    "import pandas as pd\n",
    "\n",
    "df = pd.read_csv(\"./scverse_scanpy_metadata.csv\")\n",
    "df.head()"
   ],
   "outputs": [],
   "execution_count": null
  },
  {
   "metadata": {},
   "cell_type": "code",
   "source": [
    "proportions = dict(width=1600, height=1000)\n",
    "xl_proportions = dict(width=2000, height=1400)"
   ],
   "id": "de83a53a95d8dd5a",
   "outputs": [],
   "execution_count": null
  },
  {
   "metadata": {},
   "cell_type": "code",
   "source": [
    "import plotly.express as px\n",
    "import plotly.graph_objects as go\n",
    "\n",
    "tag = \"0.0\"\n",
    "by_tag = df[df['tag'] == tag].groupby([\"tag\", \"extension\"]).size().reset_index(name='counts')\n",
    "by_tag.head()\n"
   ],
   "id": "6aa58658e4d44311",
   "outputs": [],
   "execution_count": null
  },
  {
   "metadata": {},
   "cell_type": "code",
   "source": [
    "fig = px.scatter(df[df['tag'] == tag], x=\"file_count\", y=\"extension\", color=\"extension\", size=\"file_count\",\n",
    "                 title=f\"Scatterplot of file_count vs line_count for tag {tag}\")\n",
    "fig.update_layout(**proportions)\n",
    "fig.show()"
   ],
   "id": "4ab2ade62eabab3c",
   "outputs": [],
   "execution_count": null
  },
  {
   "metadata": {},
   "cell_type": "code",
   "source": [
    "fig = px.sunburst(df, path=[\"tag\", \"extension\"], values=\"file_count\", color=\"extension\", color_continuous_scale=px.colors.sequential.Plasma)\n",
    "fig.update_layout(**proportions)\n",
    "fig.update_layout(\n",
    "    updatemenus=[\n",
    "        {\n",
    "            \"buttons\": [\n",
    "                {\n",
    "                    \"label\": \"Path: Tag -> Extension\",\n",
    "                    \"method\": \"update\",\n",
    "                    \"args\": [{\"path\": [\"tag\", \"extension\"]}]\n",
    "                },\n",
    "                {\n",
    "                    \"label\": \"Path: Extension -> Tag\",\n",
    "                    \"method\": \"update\",\n",
    "                    \"args\": [{\"path\": [\"extension\", \"tag\"]}]\n",
    "                }\n",
    "            ],\n",
    "            \"direction\": \"down\",\n",
    "            \"showactive\": True,\n",
    "        }\n",
    "    ]\n",
    ")\n",
    "fig.show()"
   ],
   "id": "58920dce477c925a",
   "outputs": [],
   "execution_count": null
  },
  {
   "metadata": {},
   "cell_type": "code",
   "source": [
    "fig = px.sunburst(df, path=[\"extension\", \"tag\"], values=\"line_count\", color=\"extension\", color_continuous_scale=px.colors.sequential.Plasma)\n",
    "fig.update_layout(**proportions)\n",
    "fig.show()"
   ],
   "id": "c7a3a858cdbd65d9",
   "outputs": [],
   "execution_count": null
  },
  {
   "metadata": {},
   "cell_type": "code",
   "source": [
    "x_field = \"file_count\"\n",
    "size_field = \"file_count\"\n",
    "df_bumped_size = df\n",
    "df_bumped_size[f'{size_field}_10'] = df_bumped_size[size_field] * 100 \n",
    "fig = px.scatter(df, x=x_field, y=\"extension\", color=\"extension\", \n",
    "                 # size=f'{size_field}_10', \n",
    "                 animation_frame=\"tag\",\n",
    "                 animation_group=\"extension\",\n",
    "                 log_x=True, range_x=df[x_field].agg([\"min\", \"max\"]).tolist())\n",
    "\n",
    "fig[\"layout\"].pop(\"updatemenus\")  # optional, drop animation buttons\n",
    "fig.update_layout(**proportions)\n",
    "fig.show()"
   ],
   "id": "43167fab0bc6a754",
   "outputs": [],
   "execution_count": null
  },
  {
   "metadata": {},
   "cell_type": "code",
   "source": [
    "size_field = \"file_count\"\n",
    "df_bumped_size = df\n",
    "df_bumped_size[f'{size_field}_10'] = df_bumped_size[size_field] * 100\n",
    "fig = px.scatter(df, x=\"tag\", y=\"file_count\", color=\"extension\",\n",
    "                 # size=f'{size_field}_10', \n",
    "                 animation_frame=\"extension\",\n",
    "                 log_y=True, range_y=df[\"file_count\"].agg([\"min\", \"max\"]).tolist(),\n",
    "                 title=\"scatter\")\n",
    "\n",
    "fig[\"layout\"].pop(\"updatemenus\")  # optional, drop animation buttons\n",
    "fig.update_layout(**proportions)\n",
    "fig.show()"
   ],
   "id": "774ea0c73890c7a8",
   "outputs": [],
   "execution_count": null
  },
  {
   "metadata": {},
   "cell_type": "code",
   "source": [
    "fig = px.histogram(df, y=\"extension\", x=\"line_count\", animation_frame=\"tag\", range_x=df[\"line_count\"].agg([\"min\", \"max\"]).tolist(), color=\"category\", log_x=True)\n",
    "       \n",
    "\n",
    "fig.update_yaxes(categoryorder=\"total ascending\")\n",
    "fig.update_layout(**proportions)\n",
    "fig.show()"
   ],
   "id": "8e14276dbb2b7ab",
   "outputs": [],
   "execution_count": null
  }
 ],
 "metadata": {
  "kernelspec": {
   "display_name": "Python 3",
   "language": "python",
   "name": "python3"
  },
  "language_info": {
   "codemirror_mode": {
    "name": "ipython",
    "version": 2
   },
   "file_extension": ".py",
   "mimetype": "text/x-python",
   "name": "python",
   "nbconvert_exporter": "python",
   "pygments_lexer": "ipython2",
   "version": "2.7.6"
  }
 },
 "nbformat": 4,
 "nbformat_minor": 5
}

{
 "cells": [
  {
   "metadata": {
    "collapsed": true
   },
   "cell_type": "code",
   "source": [
    "from constants.abs_paths import AbsDirPath\n",
    "import pandas as pd\n",
    "\n",
    "file_dir = AbsDirPath.KEYWORDS / \"matched_wikis\"\n",
    "\n",
    "def load_all_csvs(dir):\n",
    "    dfs = []\n",
    "    for file_path in dir.glob(\"*.csv\"):\n",
    "        try:\n",
    "            file = pd.read_csv(file_path)\n",
    "            file['fname'] = file_path\n",
    "            dfs.append(file)\n",
    "            print(f\"Loaded {file_path}\")\n",
    "        except:\n",
    "            print(f\"Error while loading {file_path}\")\n",
    "\n",
    "    df = pd.concat(dfs)\n",
    "    return df\n",
    "\n",
    "\n",
    "df = load_all_csvs(file_dir)"
   ],
   "id": "initial_id",
   "outputs": [],
   "execution_count": null
  },
  {
   "metadata": {
    "collapsed": true
   },
   "cell_type": "code",
   "source": [
    "file_dir = AbsDirPath.KEYWORDS / \"matched_wikis_pq\"\n",
    "\n",
    "def load_all_csvs(dir):\n",
    "    dfs = []\n",
    "    for file_path in dir.glob(\"*.parquet\"):\n",
    "        try:\n",
    "            file = pd.read_parquet(file_path)\n",
    "            file['fname'] = file_path\n",
    "            dfs.append(file)\n",
    "            print(f\"Loaded {file_path}\")\n",
    "        except:\n",
    "            print(f\"Error while loading {file_path}\")\n",
    "\n",
    "    df2 = pd.concat(dfs)\n",
    "    return df2\n",
    "\n",
    "\n",
    "df2 = load_all_csvs(file_dir)"
   ],
   "id": "6b42e9f15c21a9b9",
   "outputs": [],
   "execution_count": null
  },
  {
   "metadata": {},
   "cell_type": "code",
   "source": [
    "# from pandasgui import show\n",
    "# show(df)"
   ],
   "id": "a83f697045a37bcc",
   "outputs": [],
   "execution_count": null
  },
  {
   "metadata": {},
   "cell_type": "code",
   "source": "df2.head()",
   "id": "30d22d9debbc434e",
   "outputs": [],
   "execution_count": null
  },
  {
   "metadata": {},
   "cell_type": "code",
   "source": "df2.pivot_table(index=[\"sentence\", \"keyword\"], columns=[\"quality_attribute\"], values=\"id\", aggfunc=\"count\", fill_value=0, margins=True)",
   "id": "92a228c69c35e887",
   "outputs": [],
   "execution_count": null
  },
  {
   "metadata": {},
   "cell_type": "code",
   "source": "df2.pivot_table(index=[\"quality_attribute\"], columns=[\"repo\", \"source\"], values=\"id\", aggfunc=\"count\", fill_value=0, margins=True).sort_values(by=\"All\", ascending=False)",
   "id": "2d284d5a9e1d0d1b",
   "outputs": [],
   "execution_count": null
  },
  {
   "metadata": {},
   "cell_type": "code",
   "source": "df2.pivot_table(index=[\"quality_attribute\"], columns=[\"repo\", \"source\"], values=\"id\", aggfunc=\"count\", fill_value=0, margins=True).sort_values(by=\"All\", ascending=False)",
   "id": "18636f1734033a46",
   "outputs": [],
   "execution_count": null
  },
  {
   "metadata": {},
   "cell_type": "code",
   "source": "df2[(df2[\"repo\"] == \"scanpy\") & (df2['quality_attribute'] == \"energy efficiency\")]",
   "id": "eae6198a32a2a72d",
   "outputs": [],
   "execution_count": null
  },
  {
   "metadata": {},
   "cell_type": "code",
   "source": "df2.groupby([\"sentence\", \"source\", \"keyword\"])['id'].count().sort_values(ascending=False)",
   "id": "c7f018320179c6f0",
   "outputs": [],
   "execution_count": null
  },
  {
   "metadata": {},
   "cell_type": "code",
   "source": "df2['sentence_counts'] = df2.groupby([\"sentence\", \"source\", \"keyword\"])['id'].transform('count')",
   "id": "7bbddc5e3503a5cc",
   "outputs": [],
   "execution_count": null
  },
  {
   "metadata": {},
   "cell_type": "code",
   "source": "df2[(df2['sentence_counts'] > 100) & ~(df2['repo'] == \"root\")].sort_values(by=['sentence_counts', \"sentence\", \"source\", \"keyword\"],ascending=[False]*4)",
   "id": "b2196cd30fe08c7d",
   "outputs": [],
   "execution_count": null
  },
  {
   "metadata": {},
   "cell_type": "code",
   "source": [
    "import hashlib\n",
    "\n",
    "quick_hash = lambda x: hashlib.md5(x.encode('utf-8')).hexdigest()\n",
    "\n",
    "df2['text_hash'] = df2['sentence'].apply(quick_hash)"
   ],
   "id": "ab9228bdf7940fdb",
   "outputs": [],
   "execution_count": null
  },
  {
   "metadata": {},
   "cell_type": "code",
   "source": "df2['real_id'] = df2['repo'] + \".\" + df2['author'] + \".\" + df2['source'] + \".\" + df2['quality_attribute'] + \".\" +  df2['text_hash'] + \".\" + df2['keyword'].str.lower() + \".\" +df2['matched_word'].str.lower()",
   "id": "71237facc039d43a",
   "outputs": [],
   "execution_count": null
  },
  {
   "metadata": {},
   "cell_type": "code",
   "source": "df2.groupby([\"real_id\"])['id'].count().sort_values(ascending=False)",
   "id": "d01ec2fb255a2b56",
   "outputs": [],
   "execution_count": null
  },
  {
   "metadata": {},
   "cell_type": "code",
   "source": "df2.groupby([\"real_id\"])['id'].count().sort_values(ascending=False).count()",
   "id": "2a086906d253e9a3",
   "outputs": [],
   "execution_count": null
  },
  {
   "metadata": {},
   "cell_type": "code",
   "source": "df2['id'].count()",
   "id": "a0cf4028f33b3949",
   "outputs": [],
   "execution_count": null
  },
  {
   "metadata": {},
   "cell_type": "code",
   "source": "942631 / 2375956",
   "id": "f7b36ccb505ec71f",
   "outputs": [],
   "execution_count": null
  },
  {
   "metadata": {},
   "cell_type": "code",
   "source": "df2['similar_count'] = df2.groupby([\"real_id\"])['id'].transform('count')",
   "id": "b1ac0aa9d4d36c38",
   "outputs": [],
   "execution_count": null
  },
  {
   "metadata": {},
   "cell_type": "code",
   "source": "df2 = df2.groupby(['real_id']).first()",
   "id": "4352cee95e660c38",
   "outputs": [],
   "execution_count": null
  },
  {
   "metadata": {},
   "cell_type": "code",
   "source": "df2.head()",
   "id": "b4beb507947b89ea",
   "outputs": [],
   "execution_count": null
  },
  {
   "metadata": {},
   "cell_type": "code",
   "source": "df2[~df2['url'].str.startswith(\"https://root.cern/root/\") & ~df2['url'].str.startswith(\"https://scanpy.readthedocs.io/en/stable/\")]",
   "id": "8abbb29c80ad06c",
   "outputs": [],
   "execution_count": null
  },
  {
   "metadata": {},
   "cell_type": "code",
   "source": [
    "import itertools\n",
    "\n",
    "sources = pd.Series(df2.source.unique()).str.split(\".\").str[0].tolist()\n",
    "repos = df2[['repo', 'version', 'author']].drop_duplicates().values.tolist()\n",
    "output_dir = AbsDirPath.OPTIMIZED_KEYWORDS\n",
    "output_dir.mkdir(exist_ok=True)\n",
    "\n",
    "for source, (repo, version, author) in itertools.product(sources, repos):\n",
    "    output_file = output_dir / f\"{author}.{repo}.{version}.{source}.parquet\"\n",
    "    df2[(df2['source'] == source) & (df2['repo'] == repo)].to_parquet(output_file, engine='pyarrow', compression='snappy', index=False)\n",
    "    print(f\"Saved {output_file}\")"
   ],
   "id": "7f690b47cf5c664e",
   "outputs": [],
   "execution_count": null
  },
  {
   "metadata": {},
   "cell_type": "code",
   "source": "",
   "id": "dcf1e0b7f0c20676",
   "outputs": [],
   "execution_count": null
  },
  {
   "metadata": {},
   "cell_type": "code",
   "source": "df2",
   "id": "32760fab54eebb07",
   "outputs": [],
   "execution_count": null
  }
 ],
 "metadata": {
  "kernelspec": {
   "display_name": "Python 3",
   "language": "python",
   "name": "python3"
  },
  "language_info": {
   "codemirror_mode": {
    "name": "ipython",
    "version": 2
   },
   "file_extension": ".py",
   "mimetype": "text/x-python",
   "name": "python",
   "nbconvert_exporter": "python",
   "pygments_lexer": "ipython2",
   "version": "2.7.6"
  }
 },
 "nbformat": 4,
 "nbformat_minor": 5
}

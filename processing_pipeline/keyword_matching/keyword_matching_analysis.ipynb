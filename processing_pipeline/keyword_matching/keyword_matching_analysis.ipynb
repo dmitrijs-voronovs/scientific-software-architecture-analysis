{
 "cells": [
  {
   "metadata": {
    "collapsed": true
   },
   "cell_type": "code",
   "source": [
    "from constants.abs_paths import AbsDirPath\n",
    "import pandas as pd"
   ],
   "id": "initial_id",
   "outputs": [],
   "execution_count": null
  },
  {
   "metadata": {
    "collapsed": true
   },
   "cell_type": "code",
   "source": [
    "file_dir = AbsDirPath.KEYWORDS_MATCHING\n",
    "\n",
    "def load_all_files(dir):\n",
    "    dfs = []\n",
    "    for file_path in dir.glob(\"*.parquet\"):\n",
    "        try:\n",
    "            file = pd.read_parquet(file_path)\n",
    "            # file['fname'] = file_path\n",
    "            dfs.append(file)\n",
    "            print(f\"Loaded {file_path}\")\n",
    "        except:\n",
    "            print(f\"Error while loading {file_path}\")\n",
    "\n",
    "    df = pd.concat(dfs)\n",
    "    return df\n",
    "\n",
    "\n",
    "df = load_all_files(file_dir)"
   ],
   "id": "6b42e9f15c21a9b9",
   "outputs": [],
   "execution_count": null
  },
  {
   "metadata": {},
   "cell_type": "code",
   "source": [
    "from IPython.display import display\n",
    "\n",
    "def display_and_save(df, path):\n",
    "    df.to_excel(path, merge_cells=False)\n",
    "    display(df)\n",
    "\n",
    "def display_and_save_csv(df, path):\n",
    "    df.to_csv(path)\n",
    "    display(df)"
   ],
   "id": "b1910712d2b7e40a",
   "outputs": [],
   "execution_count": null
  },
  {
   "metadata": {},
   "cell_type": "code",
   "source": "df.head()",
   "id": "30d22d9debbc434e",
   "outputs": [],
   "execution_count": null
  },
  {
   "metadata": {},
   "cell_type": "code",
   "source": "df.shape",
   "id": "9116355dcca06e37",
   "outputs": [],
   "execution_count": null
  },
  {
   "metadata": {},
   "cell_type": "markdown",
   "source": "## Raw data overview\n",
   "id": "572bf2a7245e3e5e"
  },
  {
   "metadata": {},
   "cell_type": "code",
   "source": "display_and_save(df.pivot_table(index=[\"source\"], columns=[\"qa\"], values=\"keyword\", aggfunc=\"count\", fill_value=0, margins=True).sort_values(by=\"All\", ascending=False), AbsDirPath.RES_KEYWORDS_MATCHING / \"pivot_source_to_qa.xlsx\")",
   "id": "92a228c69c35e887",
   "outputs": [],
   "execution_count": null
  },
  {
   "metadata": {},
   "cell_type": "code",
   "source": "display_and_save(df.pivot_table(index=[\"source\", \"repo_id\"], columns=[\"qa\"], values=\"keyword\", aggfunc=\"count\", fill_value=0, margins=True), AbsDirPath.RES_KEYWORDS_MATCHING / \"pivot_source&repo_to_qa.xlsx\")",
   "id": "110268d38377dee7",
   "outputs": [],
   "execution_count": null
  },
  {
   "metadata": {},
   "cell_type": "markdown",
   "source": "## Duplicates\n",
   "id": "33ca6e740407ca0a"
  },
  {
   "metadata": {},
   "cell_type": "code",
   "source": "df.groupby([\"sentence\", \"source\", \"keyword\"])['matched_word'].count().sort_values(ascending=False)",
   "id": "c7f018320179c6f0",
   "outputs": [],
   "execution_count": null
  },
  {
   "metadata": {},
   "cell_type": "code",
   "source": "df[\"sent_kw_n\"] = df.groupby([\"sentence\", \"keyword\"]).transform('size')",
   "id": "cfcaa6a490bee3eb",
   "outputs": [],
   "execution_count": null
  },
  {
   "metadata": {},
   "cell_type": "code",
   "source": "display_and_save_csv(df[df.sent_kw_n > 50].groupby([\"sentence\", \"keyword\"]).first().sort_values(by=\"sent_kw_n\", ascending=False).reset_index(), AbsDirPath.RES_KEYWORDS_MATCHING / \"top_duplicate_sentence&kw.csv\")",
   "id": "da5d90d3383c77ee",
   "outputs": [],
   "execution_count": null
  },
  {
   "metadata": {},
   "cell_type": "code",
   "source": "df.groupby([\"sentence\", \"keyword\"]).size().rename(\"size\")[lambda x: x > 100].sort_values(ascending=False).first()",
   "id": "75b8d05db03f4fa",
   "outputs": [],
   "execution_count": null
  },
  {
   "metadata": {},
   "cell_type": "code",
   "source": "df[df.groupby([\"sentence\", \"keyword\"])['matched_word'].transform('count') > 100].groupby([\"sentence\", \"keyword\"]).first()",
   "id": "c85c482374ba225b",
   "outputs": [],
   "execution_count": null
  },
  {
   "metadata": {},
   "cell_type": "code",
   "source": "df[df.groupby([\"sentence\", \"keyword\"]).transform('size') > 100]",
   "id": "4d0fa7688a2a7876",
   "outputs": [],
   "execution_count": null
  },
  {
   "metadata": {},
   "cell_type": "code",
   "source": "df.groupby([\"sentence\", \"keyword\"]).first()",
   "id": "6105730c35261cfe",
   "outputs": [],
   "execution_count": null
  },
  {
   "metadata": {},
   "cell_type": "code",
   "source": "df.groupby([\"sentence\", \"source\", \"keyword\", \"url\"])['id'].count().sort_values(ascending=False)",
   "id": "9179077c3184f5b1",
   "outputs": [],
   "execution_count": null
  },
  {
   "metadata": {},
   "cell_type": "code",
   "source": "df['sentence_counts'] = df.groupby([\"sentence\", \"source\", \"keyword\"])['id'].transform('count')",
   "id": "7bbddc5e3503a5cc",
   "outputs": [],
   "execution_count": null
  },
  {
   "metadata": {},
   "cell_type": "markdown",
   "source": "## Optimizations",
   "id": "5428d3640e94baba"
  },
  {
   "metadata": {},
   "cell_type": "code",
   "source": [
    "import hashlib\n",
    "\n",
    "quick_hash = lambda x: hashlib.md5(x.encode('utf-8')).hexdigest()\n",
    "\n",
    "df['text_hash'] = df['sentence'].apply(quick_hash)"
   ],
   "id": "ab9228bdf7940fdb",
   "outputs": [],
   "execution_count": null
  },
  {
   "metadata": {},
   "cell_type": "code",
   "source": "df[[\"repo_id\", \"source\", \"qa\", \"text_hash\", \"keyword\", \"matched_word\"]].agg(\";\".join, axis=1)",
   "id": "198c61aee368e02d",
   "outputs": [],
   "execution_count": null
  },
  {
   "metadata": {},
   "cell_type": "code",
   "source": [
    "df['id'] = df.repo_id + \".\" + df.source + \".\" + df.qa + \".\" +  df.text_hash + \".\" + df['keyword'] + \".\" +df['matched_word']\n",
    "df['id_lower_mword'] = df.repo_id + \".\" + df.source + \".\" + df.qa + \".\" +  df.text_hash + \".\" + df['keyword'] + \".\" +df['matched_word'].str.lower()"
   ],
   "id": "af8d0578346f98b5",
   "outputs": [],
   "execution_count": null
  },
  {
   "metadata": {},
   "cell_type": "code",
   "source": "df.groupby('id').size().sort_values(ascending=False)",
   "id": "e2b5a9ab68c564a",
   "outputs": [],
   "execution_count": null
  },
  {
   "metadata": {},
   "cell_type": "code",
   "source": "df.groupby('id_lower_mword').size().sort_values(ascending=False)",
   "id": "f40d4db85557c90",
   "outputs": [],
   "execution_count": null
  },
  {
   "metadata": {},
   "cell_type": "code",
   "source": "df.groupby('id_lower_mword')",
   "id": "e64fdaa8e76a455d",
   "outputs": [],
   "execution_count": null
  },
  {
   "metadata": {},
   "cell_type": "code",
   "source": "df.id_lower_mword.nunique()",
   "id": "4d396f743f68a6f2",
   "outputs": [],
   "execution_count": null
  },
  {
   "metadata": {},
   "cell_type": "code",
   "source": "1602564 / 1994850",
   "id": "fb5df21b12d9a525",
   "outputs": [],
   "execution_count": null
  },
  {
   "metadata": {},
   "cell_type": "code",
   "source": "df['matched_word_lower'] = df['matched_word'].str.lower()",
   "id": "8c0bca3f044bf915",
   "outputs": [],
   "execution_count": null
  },
  {
   "metadata": {},
   "cell_type": "code",
   "source": "df.groupby('id_lower_mword').matched_word.agg(['unique','nunique']).sort_values(by=\"nunique\", ascending=False)",
   "id": "34dbd9ffcb66da30",
   "outputs": [],
   "execution_count": null
  },
  {
   "metadata": {},
   "cell_type": "code",
   "source": "df.groupby('id_lower_mword').matched_word.agg(['unique','nunique', 'count']).sort_values(by=['count',\"nunique\"], ascending=[False, False])",
   "id": "8e933592ce9de85c",
   "outputs": [],
   "execution_count": null
  },
  {
   "metadata": {},
   "cell_type": "code",
   "source": "df['similar_count'] = df.groupby([\"real_id\"])['id'].transform('count')",
   "id": "b1ac0aa9d4d36c38",
   "outputs": [],
   "execution_count": null
  },
  {
   "metadata": {},
   "cell_type": "code",
   "source": "df2 = df.copy()",
   "id": "6a9da98d2d6ed151",
   "outputs": [],
   "execution_count": null
  },
  {
   "metadata": {},
   "cell_type": "code",
   "source": "df2['similar_count'] = df2.groupby([\"id_lower_mword\"]).transform('size')",
   "id": "70d1a21e7c7ff34d",
   "outputs": [],
   "execution_count": null
  },
  {
   "metadata": {},
   "cell_type": "code",
   "source": "df2['all_matched'] = df2['id_lower_mword'].map(df2.groupby(\"id_lower_mword\").matched_word.agg(lambda x: list(x.unique())))",
   "id": "451619f9800beffa",
   "outputs": [],
   "execution_count": null
  },
  {
   "metadata": {},
   "cell_type": "code",
   "source": "df2['n_all_matched'] = df2.groupby(\"id_lower_mword\").matched_word.transform('nunique')",
   "id": "64a2a71452ad00ff",
   "outputs": [],
   "execution_count": null
  },
  {
   "metadata": {},
   "cell_type": "code",
   "source": "df2.groupby(\"sentence\").agg(similar_count=(\"similar_count\", \"sum\"), total_sentences=(\"keyword\", \"count\")).sort_values(by=[\"total_sentences\", \"similar_count\"], ascending=[False] * 2)",
   "id": "8ee31a19af5e2791",
   "outputs": [],
   "execution_count": null
  },
  {
   "metadata": {},
   "cell_type": "code",
   "source": "df2[\"n_same_sentences\"] = df2.groupby([\"sentence\"]).transform(\"size\")",
   "id": "490400f915d271a5",
   "outputs": [],
   "execution_count": null
  },
  {
   "metadata": {},
   "cell_type": "code",
   "source": [
    "# TODO: do this before hashing sentences and assigning ids\n",
    "df2.sentence = df2.sentence.str.replace(r\"((\\t|\\r) ?)+\", \" \", regex=True)"
   ],
   "id": "ea94ffda2957f9b",
   "outputs": [],
   "execution_count": null
  },
  {
   "metadata": {},
   "cell_type": "code",
   "source": "df2.sentence = df2.sentence.str.replace(r\"[ \\\"'#]{2,}\", \" \", regex=True)",
   "id": "f578056ea13aabff",
   "outputs": [],
   "execution_count": null
  },
  {
   "metadata": {},
   "cell_type": "code",
   "source": "df2.groupby([\"sentence\"]).first().sort_values([\"sentence\", \"n_same_sentences\", \"similar_count\"], ascending=[True, False, False])",
   "id": "5097e998d1498302",
   "outputs": [],
   "execution_count": null
  },
  {
   "metadata": {},
   "cell_type": "code",
   "source": "df2.sort_values([\"sentence\", \"n_same_sentences\", \"similar_count\"], ascending=[True, False, False])",
   "id": "46265acfb81ca45c",
   "outputs": [],
   "execution_count": null
  },
  {
   "metadata": {},
   "cell_type": "code",
   "source": "df2 = df2.groupby(['id_lower_mword']).first()",
   "id": "ddc71eb5475d3777",
   "outputs": [],
   "execution_count": null
  },
  {
   "metadata": {},
   "cell_type": "code",
   "source": "df2.head()",
   "id": "b4beb507947b89ea",
   "outputs": [],
   "execution_count": null
  },
  {
   "metadata": {},
   "cell_type": "code",
   "source": "df[df.sentence.str.startswith(\"@phsft-bot build\")]",
   "id": "e23162b2c2dee8dc",
   "outputs": [],
   "execution_count": null
  },
  {
   "metadata": {},
   "cell_type": "code",
   "source": "df[df.sentence.str.startswith(\"Build failed\")]",
   "id": "ce2c99b1c5c127ff",
   "outputs": [],
   "execution_count": null
  },
  {
   "metadata": {},
   "cell_type": "code",
   "source": [
    "# Potentially can be eliminated\n",
    "df[df.sentence.str.startswith(\"Starting build\")]"
   ],
   "id": "22ef5019ea031515",
   "outputs": [],
   "execution_count": null
  },
  {
   "metadata": {},
   "cell_type": "code",
   "source": "df.matched_word = df.matched_word.str.lower()",
   "id": "ea727d3449f9ebdd",
   "outputs": [],
   "execution_count": null
  },
  {
   "metadata": {},
   "cell_type": "code",
   "source": "df[df.qa == \"security\"].pivot_table(index=[\"keyword\", \"matched_word\"], columns=[\"repo_id\"],values=[\"similar_count\"], aggfunc=\"sum\", fill_value=0, margins=True).sort_values(by=(\"similar_count\", \"All\"),ascending=False)",
   "id": "17962031c3d83dbe",
   "outputs": [],
   "execution_count": null
  },
  {
   "metadata": {},
   "cell_type": "code",
   "source": "df.pivot_table(index=[\"keyword\", \"matched_word\"], values=[\"similar_count\"], columns=[\"qa\"], aggfunc=\"sum\", fill_value=0, margins=True).sort_values(by=(\"similar_count\", \"All\"),ascending=False)",
   "id": "b715c8c886f78524",
   "outputs": [],
   "execution_count": null
  },
  {
   "metadata": {},
   "cell_type": "code",
   "source": "df.groupby(\"keyword\").matched_word.nunique().sort_values(ascending=False)",
   "id": "e9dc199ce3e213d8",
   "outputs": [],
   "execution_count": null
  },
  {
   "metadata": {},
   "cell_type": "code",
   "source": "df.groupby([\"keyword\", \"matched_word\"]).similar_count.sum()",
   "id": "a9a459d705747b74",
   "outputs": [],
   "execution_count": null
  },
  {
   "metadata": {},
   "cell_type": "code",
   "source": "df.head()",
   "id": "8ed8731ef91e1904",
   "outputs": [],
   "execution_count": null
  },
  {
   "metadata": {},
   "cell_type": "code",
   "source": [
    "# check how reduced dataset gets\n",
    "df.reset_index().groupby([\"sentence\"]).agg({'similar_count': 'sum', 'real_id': 'count'}).nlargest(1000, 'similar_count')"
   ],
   "id": "fc74d66035368956",
   "outputs": [],
   "execution_count": null
  },
  {
   "metadata": {},
   "cell_type": "code",
   "source": "",
   "id": "b0b8f5f58d53a65f",
   "outputs": [],
   "execution_count": null
  },
  {
   "metadata": {},
   "cell_type": "code",
   "source": "df.groupby(\"keyword\").matched_word.agg(['unique','nunique']).sort_values(by=\"nunique\", ascending=False)",
   "id": "bfed4175f2f24c1b",
   "outputs": [],
   "execution_count": null
  },
  {
   "metadata": {},
   "cell_type": "code",
   "source": "df.groupby([\"qa\", \"keyword\"]).matched_word.agg(['unique','nunique']).sort_values(by=\"nunique\", ascending=False)",
   "id": "fe352df9e46a071f",
   "outputs": [],
   "execution_count": null
  },
  {
   "metadata": {},
   "cell_type": "code",
   "source": "df.groupby([\"keyword\", \"qa\"]).matched_word.agg(['unique','nunique'])",
   "id": "cf9bf49407a7079e",
   "outputs": [],
   "execution_count": null
  },
  {
   "metadata": {},
   "cell_type": "code",
   "source": "df.groupby([\"keyword\", \"qa\", \"matched_word\"])['sentence'].apply(lambda x: x.head(3).to_list())",
   "id": "d4828b19699ba928",
   "outputs": [],
   "execution_count": null
  },
  {
   "metadata": {},
   "cell_type": "code",
   "source": [
    "df.groupby([\"keyword\", \"qa\"]).agg(\n",
    "    matched_words=(\"matched_word\", 'unique'),\n",
    "    nunique=(\"matched_word\", 'nunique'),\n",
    "    total_matched=(\"similar_count\", \"sum\")\n",
    ")"
   ],
   "id": "cdef32205d145895",
   "outputs": [],
   "execution_count": null
  },
  {
   "metadata": {},
   "cell_type": "code",
   "source": [
    "df.groupby([\"keyword\", \"qa\"]).agg(\n",
    "    matched_words=(\"matched_word\", 'unique'),\n",
    "    nunique=(\"matched_word\", 'nunique'),\n",
    "    total_matched=(\"similar_count\", \"sum\")\n",
    ").reset_index().to_csv(AbsDirPath.KEYWORD_ANALYSIS / \"all_matched_words_by_keywords_&_QAs.csv\", index=False, header=True)"
   ],
   "id": "60851887d9af7680",
   "outputs": [],
   "execution_count": null
  },
  {
   "metadata": {},
   "cell_type": "code",
   "source": [
    "import itertools\n",
    "\n",
    "sources = pd.Series(df.source.unique()).str.split(\".\").str[0].tolist()\n",
    "repos = df.repo_id.unique()\n",
    "output_dir = AbsDirPath.O_KEYWORDS_MATCHING\n",
    "output_dir.mkdir(exist_ok=True)\n",
    "\n",
    "for source, repo_id in itertools.product(sources, repos):\n",
    "    output_file = output_dir / f\"{repo_id}.{source}.parquet\"\n",
    "    print(output_file)\n",
    "    df[(df.source == source) & (df.repo_id == repo_id)].drop(columns=[\"id\", \"fname\", \"sentence_counts\"]).to_parquet(output_file, engine='pyarrow', compression='snappy', index=False)\n",
    "    print(f\"Saved {output_file}\")"
   ],
   "id": "afac7112a9f48378",
   "outputs": [],
   "execution_count": null
  },
  {
   "metadata": {},
   "cell_type": "code",
   "source": "",
   "id": "dcf1e0b7f0c20676",
   "outputs": [],
   "execution_count": null
  },
  {
   "metadata": {},
   "cell_type": "code",
   "source": "df",
   "id": "32760fab54eebb07",
   "outputs": [],
   "execution_count": null
  }
 ],
 "metadata": {
  "kernelspec": {
   "display_name": "Python 3",
   "language": "python",
   "name": "python3"
  },
  "language_info": {
   "codemirror_mode": {
    "name": "ipython",
    "version": 2
   },
   "file_extension": ".py",
   "mimetype": "text/x-python",
   "name": "python",
   "nbconvert_exporter": "python",
   "pygments_lexer": "ipython2",
   "version": "2.7.6"
  }
 },
 "nbformat": 4,
 "nbformat_minor": 5
}

{
 "cells": [
  {
   "metadata": {
    "collapsed": true,
    "ExecuteTime": {
     "end_time": "2025-08-20T01:01:02.174889Z",
     "start_time": "2025-08-20T01:01:01.454861Z"
    }
   },
   "cell_type": "code",
   "source": [
    "from constants.abs_paths import AbsDirPath\n",
    "from processing_pipeline.model.CSVDFHandler import CSVDFHandler\n",
    "from processing_pipeline.utilities.data_transformation import load_all_files\n",
    "from utilities.csv.split_file_into_n_parts import split_file"
   ],
   "id": "initial_id",
   "outputs": [],
   "execution_count": 2
  },
  {
   "metadata": {
    "ExecuteTime": {
     "end_time": "2025-08-20T01:01:06.501518Z",
     "start_time": "2025-08-20T01:01:02.533608Z"
    }
   },
   "cell_type": "code",
   "source": [
    "from processing_pipeline.data_optimization.stage_cfg import S0NoiseFiltering\n",
    "\n",
    "current_stage_cfg = S0NoiseFiltering\n",
    "current_stage_cfg"
   ],
   "id": "ba8a53e2fb1d70fb",
   "outputs": [
    {
     "data": {
      "text/plain": [
       "StageConfig(name='s0', columns_in=['sentence'], in_dir=WindowsPath('C:/Users/Dmitrijs/Documents/myDocs/masters/courses/thesis/code/data/keywords_2/s0_noise_filtering'), out_dir=WindowsPath('C:/Users/Dmitrijs/Documents/myDocs/masters/courses/thesis/code/data/keywords_2/s0_noise_filtering_o'), Stage=<processing_pipeline.s0_noise_filtering.NoiseFiltering_v2.NoiseFilteringStage_v2 object at 0x0000022A465BF7D0>, next_stage=StageConfig(name='s1', columns_in=['qa', 'sentence'], in_dir=WindowsPath('C:/Users/Dmitrijs/Documents/myDocs/masters/courses/thesis/code/data/keywords_2/s1_qa_relevance_check'), out_dir=WindowsPath('C:/Users/Dmitrijs/Documents/myDocs/masters/courses/thesis/code/data/keywords_2/s1_qa_relevance_check_o'), Stage=<processing_pipeline.s1_qa_relevance_check.QARelevanceCheck_v2.QARelevanceCheckStage_v2 object at 0x0000022A465BE060>, next_stage=StageConfig(name='s2', columns_in=['sentence'], in_dir=WindowsPath('C:/Users/Dmitrijs/Documents/myDocs/masters/courses/thesis/code/data/keywords_2/s2_arch_relevance_check'), out_dir=WindowsPath('C:/Users/Dmitrijs/Documents/myDocs/masters/courses/thesis/code/data/keywords_2/s2_arch_relevance_check_o'), Stage=<processing_pipeline.s2_arch_relevance_check.ArchRelevanceCheck_v2.ArchitectureRelevanceCheckStage_v2 object at 0x0000022A46582330>, next_stage=StageConfig(name='s3', columns_in=['qa', 'sentence'], in_dir=WindowsPath('C:/Users/Dmitrijs/Documents/myDocs/masters/courses/thesis/code/data/keywords_2/s3_tactic_extraction'), out_dir=WindowsPath('C:/Users/Dmitrijs/Documents/myDocs/masters/courses/thesis/code/data/keywords_2/merged'), Stage=<processing_pipeline.s3_tactic_extraction.TacticExtraction_v2.TacticExtractionStage_v2 object at 0x0000022A465BC200>, next_stage=None, _apply_filters=<function <lambda> at 0x0000022A46558D60>, _on_load=<function StageConfig.<lambda>.<locals>.<lambda> at 0x0000022A4659BF60>), _apply_filters=<function <lambda> at 0x0000022A4659BBA0>, _on_load=<function StageConfig.<lambda>.<locals>.<lambda> at 0x0000022A46628680>), _apply_filters=<function <lambda> at 0x0000022A4659BE20>, _on_load=<function StageConfig.<lambda>.<locals>.<lambda> at 0x0000022A466285E0>), _apply_filters=<function <lambda> at 0x0000022A4659BD80>, _on_load=<function StageConfig.<lambda>.<locals>.<lambda> at 0x0000022A46628400>)"
      ]
     },
     "execution_count": 3,
     "metadata": {},
     "output_type": "execute_result"
    }
   ],
   "execution_count": 3
  },
  {
   "metadata": {
    "ExecuteTime": {
     "end_time": "2025-08-20T01:01:10.559920Z",
     "start_time": "2025-08-20T01:01:10.553164Z"
    }
   },
   "cell_type": "code",
   "source": [
    "current_stage_cfg = current_stage_cfg.next_stage\n",
    "current_stage_cfg"
   ],
   "id": "ca66f831a953ea06",
   "outputs": [
    {
     "data": {
      "text/plain": [
       "StageConfig(name='s3', columns_in=['qa', 'sentence'], in_dir=WindowsPath('C:/Users/Dmitrijs/Documents/myDocs/masters/courses/thesis/code/data/keywords_2/s3_tactic_extraction'), out_dir=WindowsPath('C:/Users/Dmitrijs/Documents/myDocs/masters/courses/thesis/code/data/keywords_2/merged'), Stage=<processing_pipeline.s3_tactic_extraction.TacticExtraction_v2.TacticExtractionStage_v2 object at 0x0000022A465BC200>, next_stage=None, _apply_filters=<function <lambda> at 0x0000022A46558D60>, _on_load=<function StageConfig.<lambda>.<locals>.<lambda> at 0x0000022A4659BF60>)"
      ]
     },
     "execution_count": 6,
     "metadata": {},
     "output_type": "execute_result"
    }
   ],
   "execution_count": 6
  },
  {
   "metadata": {
    "ExecuteTime": {
     "end_time": "2025-08-20T01:01:13.577049Z",
     "start_time": "2025-08-20T01:01:13.571895Z"
    }
   },
   "cell_type": "code",
   "source": [
    "in_dir = current_stage_cfg.in_dir\n",
    "out_path = AbsDirPath.SAMPLES / (current_stage_cfg.name + \".csv\")\n",
    "in_dir, out_path"
   ],
   "id": "18242f710f1bddf8",
   "outputs": [
    {
     "data": {
      "text/plain": [
       "(WindowsPath('C:/Users/Dmitrijs/Documents/myDocs/masters/courses/thesis/code/data/keywords_2/s3_tactic_extraction'),\n",
       " WindowsPath('C:/Users/Dmitrijs/Documents/myDocs/masters/courses/thesis/code/data/samples/s3.csv'))"
      ]
     },
     "execution_count": 7,
     "metadata": {},
     "output_type": "execute_result"
    }
   ],
   "execution_count": 7
  },
  {
   "metadata": {
    "ExecuteTime": {
     "end_time": "2025-08-19T16:33:34.689986Z",
     "start_time": "2025-08-19T16:33:34.339044Z"
    }
   },
   "cell_type": "code",
   "source": [
    "df = load_all_files(in_dir)\n",
    "df.shape"
   ],
   "id": "f14fc960dc5c08b2",
   "outputs": [
    {
     "name": "stdout",
     "output_type": "stream",
     "text": [
      "Loaded 44 files, [WindowsPath('C:/Users/Dmitrijs/Documents/myDocs/masters/courses/thesis/code/data/keywords_2/s3_tactic_extraction/allenai.scispacy.v0.5.5.code_comment.parquet'), WindowsPath('C:/Users/Dmitrijs/Documents/myDocs/masters/courses/thesis/code/data/keywords_2/s3_tactic_extraction/allenai.scispacy.v0.5.5.docs.parquet'), WindowsPath('C:/Users/Dmitrijs/Documents/myDocs/masters/courses/thesis/code/data/keywords_2/s3_tactic_extraction/allenai.scispacy.v0.5.5.issue.parquet'), WindowsPath('C:/Users/Dmitrijs/Documents/myDocs/masters/courses/thesis/code/data/keywords_2/s3_tactic_extraction/allenai.scispacy.v0.5.5.issue_comment.parquet'), WindowsPath('C:/Users/Dmitrijs/Documents/myDocs/masters/courses/thesis/code/data/keywords_2/s3_tactic_extraction/allenai.scispacy.v0.5.5.release.parquet'), WindowsPath('C:/Users/Dmitrijs/Documents/myDocs/masters/courses/thesis/code/data/keywords_2/s3_tactic_extraction/google.deepvariant.v1.6.1.code_comment.parquet'), WindowsPath('C:/Users/Dmitrijs/Documents/myDocs/masters/courses/thesis/code/data/keywords_2/s3_tactic_extraction/google.deepvariant.v1.6.1.docs.parquet'), WindowsPath('C:/Users/Dmitrijs/Documents/myDocs/masters/courses/thesis/code/data/keywords_2/s3_tactic_extraction/google.deepvariant.v1.6.1.issue.from_112.parquet'), WindowsPath('C:/Users/Dmitrijs/Documents/myDocs/masters/courses/thesis/code/data/keywords_2/s3_tactic_extraction/google.deepvariant.v1.6.1.issue.parquet'), WindowsPath('C:/Users/Dmitrijs/Documents/myDocs/masters/courses/thesis/code/data/keywords_2/s3_tactic_extraction/google.deepvariant.v1.6.1.issue_comment.parquet'), WindowsPath('C:/Users/Dmitrijs/Documents/myDocs/masters/courses/thesis/code/data/keywords_2/s3_tactic_extraction/google.deepvariant.v1.6.1.issue_comment.pt_2.parquet'), WindowsPath('C:/Users/Dmitrijs/Documents/myDocs/masters/courses/thesis/code/data/keywords_2/s3_tactic_extraction/google.deepvariant.v1.6.1.issue_comment.pt_3.parquet'), WindowsPath('C:/Users/Dmitrijs/Documents/myDocs/masters/courses/thesis/code/data/keywords_2/s3_tactic_extraction/google.deepvariant.v1.6.1.release.parquet'), WindowsPath('C:/Users/Dmitrijs/Documents/myDocs/masters/courses/thesis/code/data/keywords_2/s3_tactic_extraction/OpenGene.fastp.v0.23.4.code_comment.parquet'), WindowsPath('C:/Users/Dmitrijs/Documents/myDocs/masters/courses/thesis/code/data/keywords_2/s3_tactic_extraction/OpenGene.fastp.v0.23.4.docs.parquet'), WindowsPath('C:/Users/Dmitrijs/Documents/myDocs/masters/courses/thesis/code/data/keywords_2/s3_tactic_extraction/OpenGene.fastp.v0.23.4.issue.parquet'), WindowsPath('C:/Users/Dmitrijs/Documents/myDocs/masters/courses/thesis/code/data/keywords_2/s3_tactic_extraction/OpenGene.fastp.v0.23.4.issue_comment.parquet'), WindowsPath('C:/Users/Dmitrijs/Documents/myDocs/masters/courses/thesis/code/data/keywords_2/s3_tactic_extraction/OpenGene.fastp.v0.23.4.release.parquet'), WindowsPath('C:/Users/Dmitrijs/Documents/myDocs/masters/courses/thesis/code/data/keywords_2/s3_tactic_extraction/root-project.root.v6-32-06.code_comment.pt_04.parquet'), WindowsPath('C:/Users/Dmitrijs/Documents/myDocs/masters/courses/thesis/code/data/keywords_2/s3_tactic_extraction/root-project.root.v6-32-06.code_comment.pt_07.parquet'), WindowsPath('C:/Users/Dmitrijs/Documents/myDocs/masters/courses/thesis/code/data/keywords_2/s3_tactic_extraction/root-project.root.v6-32-06.code_comment.pt_21.parquet'), WindowsPath('C:/Users/Dmitrijs/Documents/myDocs/masters/courses/thesis/code/data/keywords_2/s3_tactic_extraction/root-project.root.v6-32-06.code_comment.pt_27.parquet'), WindowsPath('C:/Users/Dmitrijs/Documents/myDocs/masters/courses/thesis/code/data/keywords_2/s3_tactic_extraction/root-project.root.v6-32-06.code_comment.pt_37.parquet'), WindowsPath('C:/Users/Dmitrijs/Documents/myDocs/masters/courses/thesis/code/data/keywords_2/s3_tactic_extraction/root-project.root.v6-32-06.docs.pt_07.parquet'), WindowsPath('C:/Users/Dmitrijs/Documents/myDocs/masters/courses/thesis/code/data/keywords_2/s3_tactic_extraction/root-project.root.v6-32-06.docs.pt_12.parquet'), WindowsPath('C:/Users/Dmitrijs/Documents/myDocs/masters/courses/thesis/code/data/keywords_2/s3_tactic_extraction/root-project.root.v6-32-06.docs.pt_17.parquet'), WindowsPath('C:/Users/Dmitrijs/Documents/myDocs/masters/courses/thesis/code/data/keywords_2/s3_tactic_extraction/root-project.root.v6-32-06.issue.pt_12.parquet'), WindowsPath('C:/Users/Dmitrijs/Documents/myDocs/masters/courses/thesis/code/data/keywords_2/s3_tactic_extraction/root-project.root.v6-32-06.wiki.parquet'), WindowsPath('C:/Users/Dmitrijs/Documents/myDocs/masters/courses/thesis/code/data/keywords_2/s3_tactic_extraction/scverse.scanpy.1.10.2.code_comment.parquet'), WindowsPath('C:/Users/Dmitrijs/Documents/myDocs/masters/courses/thesis/code/data/keywords_2/s3_tactic_extraction/scverse.scanpy.1.10.2.docs.parquet'), WindowsPath('C:/Users/Dmitrijs/Documents/myDocs/masters/courses/thesis/code/data/keywords_2/s3_tactic_extraction/scverse.scanpy.1.10.2.issue.parquet'), WindowsPath('C:/Users/Dmitrijs/Documents/myDocs/masters/courses/thesis/code/data/keywords_2/s3_tactic_extraction/scverse.scanpy.1.10.2.issue.pt_2.from_176.parquet'), WindowsPath('C:/Users/Dmitrijs/Documents/myDocs/masters/courses/thesis/code/data/keywords_2/s3_tactic_extraction/scverse.scanpy.1.10.2.issue.pt_2.parquet'), WindowsPath('C:/Users/Dmitrijs/Documents/myDocs/masters/courses/thesis/code/data/keywords_2/s3_tactic_extraction/scverse.scanpy.1.10.2.issue_comment.parquet'), WindowsPath('C:/Users/Dmitrijs/Documents/myDocs/masters/courses/thesis/code/data/keywords_2/s3_tactic_extraction/scverse.scanpy.1.10.2.issue_comment.pt_2.from_288.parquet'), WindowsPath('C:/Users/Dmitrijs/Documents/myDocs/masters/courses/thesis/code/data/keywords_2/s3_tactic_extraction/scverse.scanpy.1.10.2.issue_comment.pt_2.parquet'), WindowsPath('C:/Users/Dmitrijs/Documents/myDocs/masters/courses/thesis/code/data/keywords_2/s3_tactic_extraction/scverse.scanpy.1.10.2.issue_comment.pt_3.from_240.parquet'), WindowsPath('C:/Users/Dmitrijs/Documents/myDocs/masters/courses/thesis/code/data/keywords_2/s3_tactic_extraction/scverse.scanpy.1.10.2.issue_comment.pt_3.parquet'), WindowsPath('C:/Users/Dmitrijs/Documents/myDocs/masters/courses/thesis/code/data/keywords_2/s3_tactic_extraction/scverse.scanpy.1.10.2.issue_comment.pt_4.from_112.parquet'), WindowsPath('C:/Users/Dmitrijs/Documents/myDocs/masters/courses/thesis/code/data/keywords_2/s3_tactic_extraction/scverse.scanpy.1.10.2.issue_comment.pt_4.parquet'), WindowsPath('C:/Users/Dmitrijs/Documents/myDocs/masters/courses/thesis/code/data/keywords_2/s3_tactic_extraction/scverse.scanpy.1.10.2.issue_comment.pt_5.from_272.parquet'), WindowsPath('C:/Users/Dmitrijs/Documents/myDocs/masters/courses/thesis/code/data/keywords_2/s3_tactic_extraction/scverse.scanpy.1.10.2.issue_comment.pt_5.parquet'), WindowsPath('C:/Users/Dmitrijs/Documents/myDocs/masters/courses/thesis/code/data/keywords_2/s3_tactic_extraction/scverse.scanpy.1.10.2.wiki.from_192.parquet'), WindowsPath('C:/Users/Dmitrijs/Documents/myDocs/masters/courses/thesis/code/data/keywords_2/s3_tactic_extraction/scverse.scanpy.1.10.2.wiki.parquet')]\n"
     ]
    },
    {
     "data": {
      "text/plain": [
       "(28230, 10)"
      ]
     },
     "execution_count": 7,
     "metadata": {},
     "output_type": "execute_result"
    }
   ],
   "execution_count": 7
  },
  {
   "metadata": {
    "ExecuteTime": {
     "end_time": "2025-08-19T16:33:34.718364Z",
     "start_time": "2025-08-19T16:33:34.711568Z"
    }
   },
   "cell_type": "code",
   "source": "current_stage_cfg.columns_out",
   "id": "6e1ab9173c2e5efc",
   "outputs": [
    {
     "data": {
      "text/plain": [
       "['s3_architectural_activity_extraction',\n",
       " 's3_core_concept_analysis',\n",
       " 's3_is_tactic_relevant',\n",
       " 's3_relevance_reason',\n",
       " 's3_tactic_evaluation',\n",
       " 's3_selected_tactic',\n",
       " 's3_justification']"
      ]
     },
     "execution_count": 8,
     "metadata": {},
     "output_type": "execute_result"
    }
   ],
   "execution_count": 8
  },
  {
   "metadata": {
    "ExecuteTime": {
     "end_time": "2025-08-19T16:33:34.897490Z",
     "start_time": "2025-08-19T16:33:34.771174Z"
    }
   },
   "cell_type": "code",
   "source": [
    "for col in current_stage_cfg.columns_out:\n",
    "    try:\n",
    "        df = df[df[col].str.len() > 0]\n",
    "    except:\n",
    "        pass\n",
    "df.shape"
   ],
   "id": "72e7cbc364faa99b",
   "outputs": [
    {
     "data": {
      "text/plain": [
       "(26954, 10)"
      ]
     },
     "execution_count": 9,
     "metadata": {},
     "output_type": "execute_result"
    }
   ],
   "execution_count": 9
  },
  {
   "metadata": {
    "ExecuteTime": {
     "end_time": "2025-08-19T16:33:34.933844Z",
     "start_time": "2025-08-19T16:33:34.930325Z"
    }
   },
   "cell_type": "code",
   "source": "sample_size = 384",
   "id": "cd87caaffc7ec3d4",
   "outputs": [],
   "execution_count": 10
  },
  {
   "metadata": {
    "ExecuteTime": {
     "end_time": "2025-08-19T16:33:34.998655Z",
     "start_time": "2025-08-19T16:33:34.994436Z"
    }
   },
   "cell_type": "code",
   "source": [
    "# # fake\n",
    "# sample_size = df.shape[0]"
   ],
   "id": "1c49ae8d58eb9687",
   "outputs": [],
   "execution_count": 11
  },
  {
   "metadata": {
    "ExecuteTime": {
     "end_time": "2025-08-19T16:39:46.068830Z",
     "start_time": "2025-08-19T16:39:46.001496Z"
    }
   },
   "cell_type": "code",
   "source": [
    "out_path.parent.mkdir(exist_ok=True)\n",
    "df.sample(sample_size).to_csv(out_path)\n"
   ],
   "id": "470849004c1ffaa5",
   "outputs": [],
   "execution_count": 13
  },
  {
   "metadata": {},
   "cell_type": "markdown",
   "source": "## Optimize for parallel processing?",
   "id": "b300f40da618561d"
  },
  {
   "metadata": {
    "ExecuteTime": {
     "end_time": "2025-08-12T10:30:06.805211Z",
     "start_time": "2025-08-12T10:30:06.703391Z"
    }
   },
   "cell_type": "code",
   "source": [
    "n_parts = 5\n",
    "split_file(out_path, n_parts, CSVDFHandler())"
   ],
   "id": "a9ddfa1b3cf92618",
   "outputs": [],
   "execution_count": 12
  },
  {
   "metadata": {},
   "cell_type": "markdown",
   "source": "## Add tactic descriptions for s3",
   "id": "dbb083aacab6e1d6"
  },
  {
   "metadata": {
    "ExecuteTime": {
     "end_time": "2025-08-20T01:01:36.737276Z",
     "start_time": "2025-08-20T01:01:36.730959Z"
    }
   },
   "cell_type": "code",
   "source": [
    "import pandas as pd\n",
    "from cfg.tactics.tactic_description import tactic_descriptions"
   ],
   "id": "b87757966dbd497d",
   "outputs": [],
   "execution_count": 8
  },
  {
   "metadata": {
    "ExecuteTime": {
     "end_time": "2025-08-20T01:10:06.372555Z",
     "start_time": "2025-08-20T01:10:06.368274Z"
    }
   },
   "cell_type": "code",
   "source": "path_to_verified = AbsDirPath.SAMPLES_VERIFIED / out_path.name",
   "id": "de6f592f36a817a5",
   "outputs": [],
   "execution_count": 28
  },
  {
   "metadata": {
    "ExecuteTime": {
     "end_time": "2025-08-20T01:10:09.605289Z",
     "start_time": "2025-08-20T01:10:09.533098Z"
    }
   },
   "cell_type": "code",
   "source": [
    "df = pd.read_csv(path_to_verified)\n",
    "df.shape"
   ],
   "id": "760c701a34e2d95c",
   "outputs": [
    {
     "data": {
      "text/plain": [
       "(384, 14)"
      ]
     },
     "execution_count": 29,
     "metadata": {},
     "output_type": "execute_result"
    }
   ],
   "execution_count": 29
  },
  {
   "metadata": {
    "ExecuteTime": {
     "end_time": "2025-08-20T01:10:13.051878Z",
     "start_time": "2025-08-20T01:10:13.038260Z"
    }
   },
   "cell_type": "code",
   "source": [
    "df[\"s3_tactic_desc\"] = df.s3_selected_tactic.apply(lambda x: tactic_descriptions.get(x, pd.NA))\n",
    "df.head()"
   ],
   "id": "624b23c47358c5c6",
   "outputs": [
    {
     "data": {
      "text/plain": [
       "   Unnamed: 0             qa  \\\n",
       "0       27922    testability   \n",
       "1        4089  modifiability   \n",
       "2        7174  deployability   \n",
       "3        5247      usability   \n",
       "4        2321   availability   \n",
       "\n",
       "                                            sentence  \\\n",
       "0  rder, our approach is pinning it temporarily u...   \n",
       "1  Hi @moldach . Thank you for reporting this! Fo...   \n",
       "2  API extraction should not generate an actual p...   \n",
       "3  Hi Masaru,. I've filed an internal issue to tr...   \n",
       "4  rent from the make_examples command you posted...   \n",
       "\n",
       "                                           s3_prompt  \\\n",
       "0  \\r\\nBased on the rules provided in the system ...   \n",
       "1  \\r\\nBased on the rules provided in the system ...   \n",
       "2  \\r\\nBased on the rules provided in the system ...   \n",
       "3  \\r\\nBased on the rules provided in the system ...   \n",
       "4  \\r\\nBased on the rules provided in the system ...   \n",
       "\n",
       "                s3_architectural_activity_extraction  \\\n",
       "0  rder, our approach is pinning it temporarily u...   \n",
       "1  I drafted a few new sections in the Quick Star...   \n",
       "2  API extraction should not generate an actual p...   \n",
       "3  Hi Masaru,. I've filed an internal issue to tr...   \n",
       "4  I tested with `sudo docker run -it gcr.io/deep...   \n",
       "\n",
       "                            s3_core_concept_analysis  s3_is_tactic_relevant  \\\n",
       "0  The primary architectural concept identified i...                   True   \n",
       "1                                       Split Module                   True   \n",
       "2  The primary architectural concept is preventin...                   True   \n",
       "3  We'll keep usability for beginners in mind for...                   True   \n",
       "4  The primary architectural concept identified i...                   True   \n",
       "\n",
       "                                 s3_relevance_reason    s3_tactic_evaluation  \\\n",
       "0  The concept identified is central to understan...                    true   \n",
       "1  The extracted sentence discusses a specific ac...                    true   \n",
       "2  The extracted activity prevents generating a p...            split module   \n",
       "3  The text discusses a design decision related t...  Maintain system models   \n",
       "4  The extracted sentence discusses a concrete te...                    true   \n",
       "\n",
       "  s3_selected_tactic                                   s3_justification  \\\n",
       "0                NaN  The concept identified in this text is version...   \n",
       "1       Split Module  The extracted sentence clearly indicates that ...   \n",
       "2       Split Module  The selected tactic 'split module' best matche...   \n",
       "3                NaN  The selected tactic 'Maintain system models' d...   \n",
       "4          Ping/Echo  The extracted sentence discusses the use of Do...   \n",
       "\n",
       "                                         s3_v_prompt s3_v_evaluation  \\\n",
       "0  Now, perform your your audit based on the data...         correct   \n",
       "1  Now, perform your your audit based on the data...         correct   \n",
       "2  Now, perform your your audit based on the data...         correct   \n",
       "3  Now, perform your your audit based on the data...         correct   \n",
       "4  Now, perform your your audit based on the data...         correct   \n",
       "\n",
       "                                      s3_v_reasoning  \\\n",
       "0  The executor's claim that the discussion about...   \n",
       "1  The executor's claim in Step 1 is that they ar...   \n",
       "2  The executor's claim that the discussion on de...   \n",
       "3  The executor's claim that the text describes a...   \n",
       "4  The executor's claim that the discussion on Do...   \n",
       "\n",
       "                                      s3_tactic_desc  \n",
       "0                                               <NA>  \n",
       "1  Refining a module into several smaller modules...  \n",
       "2  Refining a module into several smaller modules...  \n",
       "3                                               <NA>  \n",
       "4  An asynchronous request/response message pair ...  "
      ],
      "text/html": [
       "<div>\n",
       "<style scoped>\n",
       "    .dataframe tbody tr th:only-of-type {\n",
       "        vertical-align: middle;\n",
       "    }\n",
       "\n",
       "    .dataframe tbody tr th {\n",
       "        vertical-align: top;\n",
       "    }\n",
       "\n",
       "    .dataframe thead th {\n",
       "        text-align: right;\n",
       "    }\n",
       "</style>\n",
       "<table border=\"1\" class=\"dataframe\">\n",
       "  <thead>\n",
       "    <tr style=\"text-align: right;\">\n",
       "      <th></th>\n",
       "      <th>Unnamed: 0</th>\n",
       "      <th>qa</th>\n",
       "      <th>sentence</th>\n",
       "      <th>s3_prompt</th>\n",
       "      <th>s3_architectural_activity_extraction</th>\n",
       "      <th>s3_core_concept_analysis</th>\n",
       "      <th>s3_is_tactic_relevant</th>\n",
       "      <th>s3_relevance_reason</th>\n",
       "      <th>s3_tactic_evaluation</th>\n",
       "      <th>s3_selected_tactic</th>\n",
       "      <th>s3_justification</th>\n",
       "      <th>s3_v_prompt</th>\n",
       "      <th>s3_v_evaluation</th>\n",
       "      <th>s3_v_reasoning</th>\n",
       "      <th>s3_tactic_desc</th>\n",
       "    </tr>\n",
       "  </thead>\n",
       "  <tbody>\n",
       "    <tr>\n",
       "      <th>0</th>\n",
       "      <td>27922</td>\n",
       "      <td>testability</td>\n",
       "      <td>rder, our approach is pinning it temporarily u...</td>\n",
       "      <td>\\r\\nBased on the rules provided in the system ...</td>\n",
       "      <td>rder, our approach is pinning it temporarily u...</td>\n",
       "      <td>The primary architectural concept identified i...</td>\n",
       "      <td>True</td>\n",
       "      <td>The concept identified is central to understan...</td>\n",
       "      <td>true</td>\n",
       "      <td>NaN</td>\n",
       "      <td>The concept identified in this text is version...</td>\n",
       "      <td>Now, perform your your audit based on the data...</td>\n",
       "      <td>correct</td>\n",
       "      <td>The executor's claim that the discussion about...</td>\n",
       "      <td>&lt;NA&gt;</td>\n",
       "    </tr>\n",
       "    <tr>\n",
       "      <th>1</th>\n",
       "      <td>4089</td>\n",
       "      <td>modifiability</td>\n",
       "      <td>Hi @moldach . Thank you for reporting this! Fo...</td>\n",
       "      <td>\\r\\nBased on the rules provided in the system ...</td>\n",
       "      <td>I drafted a few new sections in the Quick Star...</td>\n",
       "      <td>Split Module</td>\n",
       "      <td>True</td>\n",
       "      <td>The extracted sentence discusses a specific ac...</td>\n",
       "      <td>true</td>\n",
       "      <td>Split Module</td>\n",
       "      <td>The extracted sentence clearly indicates that ...</td>\n",
       "      <td>Now, perform your your audit based on the data...</td>\n",
       "      <td>correct</td>\n",
       "      <td>The executor's claim in Step 1 is that they ar...</td>\n",
       "      <td>Refining a module into several smaller modules...</td>\n",
       "    </tr>\n",
       "    <tr>\n",
       "      <th>2</th>\n",
       "      <td>7174</td>\n",
       "      <td>deployability</td>\n",
       "      <td>API extraction should not generate an actual p...</td>\n",
       "      <td>\\r\\nBased on the rules provided in the system ...</td>\n",
       "      <td>API extraction should not generate an actual p...</td>\n",
       "      <td>The primary architectural concept is preventin...</td>\n",
       "      <td>True</td>\n",
       "      <td>The extracted activity prevents generating a p...</td>\n",
       "      <td>split module</td>\n",
       "      <td>Split Module</td>\n",
       "      <td>The selected tactic 'split module' best matche...</td>\n",
       "      <td>Now, perform your your audit based on the data...</td>\n",
       "      <td>correct</td>\n",
       "      <td>The executor's claim that the discussion on de...</td>\n",
       "      <td>Refining a module into several smaller modules...</td>\n",
       "    </tr>\n",
       "    <tr>\n",
       "      <th>3</th>\n",
       "      <td>5247</td>\n",
       "      <td>usability</td>\n",
       "      <td>Hi Masaru,. I've filed an internal issue to tr...</td>\n",
       "      <td>\\r\\nBased on the rules provided in the system ...</td>\n",
       "      <td>Hi Masaru,. I've filed an internal issue to tr...</td>\n",
       "      <td>We'll keep usability for beginners in mind for...</td>\n",
       "      <td>True</td>\n",
       "      <td>The text discusses a design decision related t...</td>\n",
       "      <td>Maintain system models</td>\n",
       "      <td>NaN</td>\n",
       "      <td>The selected tactic 'Maintain system models' d...</td>\n",
       "      <td>Now, perform your your audit based on the data...</td>\n",
       "      <td>correct</td>\n",
       "      <td>The executor's claim that the text describes a...</td>\n",
       "      <td>&lt;NA&gt;</td>\n",
       "    </tr>\n",
       "    <tr>\n",
       "      <th>4</th>\n",
       "      <td>2321</td>\n",
       "      <td>availability</td>\n",
       "      <td>rent from the make_examples command you posted...</td>\n",
       "      <td>\\r\\nBased on the rules provided in the system ...</td>\n",
       "      <td>I tested with `sudo docker run -it gcr.io/deep...</td>\n",
       "      <td>The primary architectural concept identified i...</td>\n",
       "      <td>True</td>\n",
       "      <td>The extracted sentence discusses a concrete te...</td>\n",
       "      <td>true</td>\n",
       "      <td>Ping/Echo</td>\n",
       "      <td>The extracted sentence discusses the use of Do...</td>\n",
       "      <td>Now, perform your your audit based on the data...</td>\n",
       "      <td>correct</td>\n",
       "      <td>The executor's claim that the discussion on Do...</td>\n",
       "      <td>An asynchronous request/response message pair ...</td>\n",
       "    </tr>\n",
       "  </tbody>\n",
       "</table>\n",
       "</div>"
      ]
     },
     "execution_count": 30,
     "metadata": {},
     "output_type": "execute_result"
    }
   ],
   "execution_count": 30
  },
  {
   "metadata": {
    "ExecuteTime": {
     "end_time": "2025-08-20T01:10:21.877550Z",
     "start_time": "2025-08-20T01:10:21.729622Z"
    }
   },
   "cell_type": "code",
   "source": "df.to_csv(path_to_verified, index=False)",
   "id": "3f9d7accae2f7647",
   "outputs": [],
   "execution_count": 31
  }
 ],
 "metadata": {
  "kernelspec": {
   "display_name": "Python 3",
   "language": "python",
   "name": "python3"
  },
  "language_info": {
   "codemirror_mode": {
    "name": "ipython",
    "version": 2
   },
   "file_extension": ".py",
   "mimetype": "text/x-python",
   "name": "python",
   "nbconvert_exporter": "python",
   "pygments_lexer": "ipython2",
   "version": "2.7.6"
  }
 },
 "nbformat": 4,
 "nbformat_minor": 5
}

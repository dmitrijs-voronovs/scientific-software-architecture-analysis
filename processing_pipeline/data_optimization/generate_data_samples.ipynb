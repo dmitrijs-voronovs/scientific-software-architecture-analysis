{
 "cells": [
  {
   "metadata": {
    "collapsed": true,
    "ExecuteTime": {
     "end_time": "2025-07-24T07:26:39.731292Z",
     "start_time": "2025-07-24T07:26:39.220505Z"
    }
   },
   "cell_type": "code",
   "source": [
    "from constants.abs_paths import AbsDirPath\n",
    "from processing_pipeline.utilities.data_transformation import load_all_files"
   ],
   "id": "initial_id",
   "outputs": [],
   "execution_count": 1
  },
  {
   "metadata": {
    "ExecuteTime": {
     "end_time": "2025-07-24T07:26:39.744337Z",
     "start_time": "2025-07-24T07:26:39.735316Z"
    }
   },
   "cell_type": "code",
   "source": [
    "from processing_pipeline.data_optimization.stage_cfg import S0NoiseFiltering\n",
    "\n",
    "current_stage_cfg = S0NoiseFiltering"
   ],
   "id": "ba8a53e2fb1d70fb",
   "outputs": [],
   "execution_count": 2
  },
  {
   "metadata": {
    "ExecuteTime": {
     "end_time": "2025-07-24T08:05:46.728818Z",
     "start_time": "2025-07-24T08:05:46.723775Z"
    }
   },
   "cell_type": "code",
   "source": [
    "current_stage_cfg = current_stage_cfg.next_stage\n",
    "current_stage_cfg"
   ],
   "id": "ca66f831a953ea06",
   "outputs": [
    {
     "data": {
      "text/plain": [
       "StageConfig(name='s3', depends_on_fields=['sentence'], resulting_fields=['tactic', 'response'], data_dir=WindowsPath('C:/Users/Dmitrijs/Documents/myDocs/masters/courses/thesis/code/data/keywords/s3_tactic_extraction'), boolean_field_name=None, next_stage=None)"
      ]
     },
     "execution_count": 14,
     "metadata": {},
     "output_type": "execute_result"
    }
   ],
   "execution_count": 14
  },
  {
   "metadata": {
    "ExecuteTime": {
     "end_time": "2025-07-24T07:57:58.398738Z",
     "start_time": "2025-07-24T07:57:58.390869Z"
    }
   },
   "cell_type": "code",
   "source": [
    "in_dir = current_stage_cfg.data_dir\n",
    "out_path = AbsDirPath.SAMPLES / (current_stage_cfg.name + \".csv\")\n",
    "in_dir, out_path"
   ],
   "id": "3ef7b1141ed05b6c",
   "outputs": [
    {
     "data": {
      "text/plain": [
       "(WindowsPath('C:/Users/Dmitrijs/Documents/myDocs/masters/courses/thesis/code/data/keywords/s2_arch_relevance_check'),\n",
       " WindowsPath('C:/Users/Dmitrijs/Documents/myDocs/masters/courses/thesis/code/data/samples/s2.csv'))"
      ]
     },
     "execution_count": 9,
     "metadata": {},
     "output_type": "execute_result"
    }
   ],
   "execution_count": 9
  },
  {
   "metadata": {
    "collapsed": true,
    "ExecuteTime": {
     "end_time": "2025-07-24T08:04:39.602784Z",
     "start_time": "2025-07-24T08:04:36.881821Z"
    }
   },
   "cell_type": "code",
   "source": "df = load_all_files(in_dir)",
   "id": "6b42e9f15c21a9b9",
   "outputs": [
    {
     "name": "stdout",
     "output_type": "stream",
     "text": [
      "Loaded C:\\Users\\Dmitrijs\\Documents\\myDocs\\masters\\courses\\thesis\\code\\data\\keywords\\s2_arch_relevance_check\\allenai.scispacy.v0.5.5.code_comment.parquet\n",
      "Loaded C:\\Users\\Dmitrijs\\Documents\\myDocs\\masters\\courses\\thesis\\code\\data\\keywords\\s2_arch_relevance_check\\allenai.scispacy.v0.5.5.docs.parquet\n",
      "Loaded C:\\Users\\Dmitrijs\\Documents\\myDocs\\masters\\courses\\thesis\\code\\data\\keywords\\s2_arch_relevance_check\\allenai.scispacy.v0.5.5.issue.parquet\n",
      "Loaded C:\\Users\\Dmitrijs\\Documents\\myDocs\\masters\\courses\\thesis\\code\\data\\keywords\\s2_arch_relevance_check\\allenai.scispacy.v0.5.5.issue_comment.parquet\n",
      "Loaded C:\\Users\\Dmitrijs\\Documents\\myDocs\\masters\\courses\\thesis\\code\\data\\keywords\\s2_arch_relevance_check\\allenai.scispacy.v0.5.5.release.parquet\n",
      "Loaded C:\\Users\\Dmitrijs\\Documents\\myDocs\\masters\\courses\\thesis\\code\\data\\keywords\\s2_arch_relevance_check\\google.deepvariant.v1.6.1.code_comment.parquet\n",
      "Loaded C:\\Users\\Dmitrijs\\Documents\\myDocs\\masters\\courses\\thesis\\code\\data\\keywords\\s2_arch_relevance_check\\google.deepvariant.v1.6.1.issue.parquet\n",
      "Loaded C:\\Users\\Dmitrijs\\Documents\\myDocs\\masters\\courses\\thesis\\code\\data\\keywords\\s2_arch_relevance_check\\google.deepvariant.v1.6.1.issue_comment.parquet\n",
      "Loaded C:\\Users\\Dmitrijs\\Documents\\myDocs\\masters\\courses\\thesis\\code\\data\\keywords\\s2_arch_relevance_check\\google.deepvariant.v1.6.1.release.parquet\n",
      "Loaded C:\\Users\\Dmitrijs\\Documents\\myDocs\\masters\\courses\\thesis\\code\\data\\keywords\\s2_arch_relevance_check\\OpenGene.fastp.v0.23.4.code_comment.parquet\n",
      "Loaded C:\\Users\\Dmitrijs\\Documents\\myDocs\\masters\\courses\\thesis\\code\\data\\keywords\\s2_arch_relevance_check\\OpenGene.fastp.v0.23.4.docs.parquet\n",
      "Loaded C:\\Users\\Dmitrijs\\Documents\\myDocs\\masters\\courses\\thesis\\code\\data\\keywords\\s2_arch_relevance_check\\OpenGene.fastp.v0.23.4.issue_comment.parquet\n",
      "Loaded C:\\Users\\Dmitrijs\\Documents\\myDocs\\masters\\courses\\thesis\\code\\data\\keywords\\s2_arch_relevance_check\\OpenGene.fastp.v0.23.4.release.parquet\n",
      "Loaded C:\\Users\\Dmitrijs\\Documents\\myDocs\\masters\\courses\\thesis\\code\\data\\keywords\\s2_arch_relevance_check\\root-project.root.v6-32-06.code_comment.0.parquet\n",
      "Loaded C:\\Users\\Dmitrijs\\Documents\\myDocs\\masters\\courses\\thesis\\code\\data\\keywords\\s2_arch_relevance_check\\root-project.root.v6-32-06.code_comment.1.parquet\n",
      "Loaded C:\\Users\\Dmitrijs\\Documents\\myDocs\\masters\\courses\\thesis\\code\\data\\keywords\\s2_arch_relevance_check\\root-project.root.v6-32-06.code_comment.2.parquet\n",
      "Loaded C:\\Users\\Dmitrijs\\Documents\\myDocs\\masters\\courses\\thesis\\code\\data\\keywords\\s2_arch_relevance_check\\root-project.root.v6-32-06.code_comment.3.parquet\n",
      "Loaded C:\\Users\\Dmitrijs\\Documents\\myDocs\\masters\\courses\\thesis\\code\\data\\keywords\\s2_arch_relevance_check\\root-project.root.v6-32-06.code_comment.4.parquet\n",
      "Loaded C:\\Users\\Dmitrijs\\Documents\\myDocs\\masters\\courses\\thesis\\code\\data\\keywords\\s2_arch_relevance_check\\root-project.root.v6-32-06.code_comment.5.parquet\n",
      "Loaded C:\\Users\\Dmitrijs\\Documents\\myDocs\\masters\\courses\\thesis\\code\\data\\keywords\\s2_arch_relevance_check\\root-project.root.v6-32-06.docs.00.parquet\n",
      "Loaded C:\\Users\\Dmitrijs\\Documents\\myDocs\\masters\\courses\\thesis\\code\\data\\keywords\\s2_arch_relevance_check\\root-project.root.v6-32-06.docs.01.parquet\n",
      "Loaded C:\\Users\\Dmitrijs\\Documents\\myDocs\\masters\\courses\\thesis\\code\\data\\keywords\\s2_arch_relevance_check\\root-project.root.v6-32-06.docs.02.parquet\n",
      "Loaded C:\\Users\\Dmitrijs\\Documents\\myDocs\\masters\\courses\\thesis\\code\\data\\keywords\\s2_arch_relevance_check\\root-project.root.v6-32-06.docs.03.parquet\n",
      "Loaded C:\\Users\\Dmitrijs\\Documents\\myDocs\\masters\\courses\\thesis\\code\\data\\keywords\\s2_arch_relevance_check\\root-project.root.v6-32-06.docs.04.parquet\n",
      "Loaded C:\\Users\\Dmitrijs\\Documents\\myDocs\\masters\\courses\\thesis\\code\\data\\keywords\\s2_arch_relevance_check\\root-project.root.v6-32-06.docs.07.parquet\n",
      "Loaded C:\\Users\\Dmitrijs\\Documents\\myDocs\\masters\\courses\\thesis\\code\\data\\keywords\\s2_arch_relevance_check\\root-project.root.v6-32-06.docs.09.parquet\n",
      "Loaded C:\\Users\\Dmitrijs\\Documents\\myDocs\\masters\\courses\\thesis\\code\\data\\keywords\\s2_arch_relevance_check\\root-project.root.v6-32-06.docs.10.parquet\n",
      "Loaded C:\\Users\\Dmitrijs\\Documents\\myDocs\\masters\\courses\\thesis\\code\\data\\keywords\\s2_arch_relevance_check\\root-project.root.v6-32-06.docs.11.parquet\n",
      "Loaded C:\\Users\\Dmitrijs\\Documents\\myDocs\\masters\\courses\\thesis\\code\\data\\keywords\\s2_arch_relevance_check\\root-project.root.v6-32-06.docs.12.parquet\n",
      "Loaded C:\\Users\\Dmitrijs\\Documents\\myDocs\\masters\\courses\\thesis\\code\\data\\keywords\\s2_arch_relevance_check\\root-project.root.v6-32-06.docs.14.parquet\n",
      "Loaded C:\\Users\\Dmitrijs\\Documents\\myDocs\\masters\\courses\\thesis\\code\\data\\keywords\\s2_arch_relevance_check\\root-project.root.v6-32-06.issue.parquet\n",
      "Loaded C:\\Users\\Dmitrijs\\Documents\\myDocs\\masters\\courses\\thesis\\code\\data\\keywords\\s2_arch_relevance_check\\root-project.root.v6-32-06.issue_comment.parquet\n",
      "Loaded C:\\Users\\Dmitrijs\\Documents\\myDocs\\masters\\courses\\thesis\\code\\data\\keywords\\s2_arch_relevance_check\\root-project.root.v6-32-06.release.parquet\n",
      "Loaded C:\\Users\\Dmitrijs\\Documents\\myDocs\\masters\\courses\\thesis\\code\\data\\keywords\\s2_arch_relevance_check\\scverse.scanpy.1.10.2.code_comment.parquet\n",
      "Loaded C:\\Users\\Dmitrijs\\Documents\\myDocs\\masters\\courses\\thesis\\code\\data\\keywords\\s2_arch_relevance_check\\scverse.scanpy.1.10.2.docs.parquet\n",
      "Loaded C:\\Users\\Dmitrijs\\Documents\\myDocs\\masters\\courses\\thesis\\code\\data\\keywords\\s2_arch_relevance_check\\scverse.scanpy.1.10.2.issue.parquet\n",
      "Loaded C:\\Users\\Dmitrijs\\Documents\\myDocs\\masters\\courses\\thesis\\code\\data\\keywords\\s2_arch_relevance_check\\scverse.scanpy.1.10.2.wiki.parquet\n"
     ]
    }
   ],
   "execution_count": 11
  },
  {
   "metadata": {
    "ExecuteTime": {
     "end_time": "2025-07-24T08:04:39.612793Z",
     "start_time": "2025-07-24T08:04:39.608793Z"
    }
   },
   "cell_type": "code",
   "source": "sample_size = 384",
   "id": "1c49ae8d58eb9687",
   "outputs": [],
   "execution_count": 12
  },
  {
   "metadata": {
    "ExecuteTime": {
     "end_time": "2025-07-24T08:04:43.118027Z",
     "start_time": "2025-07-24T08:04:43.063015Z"
    }
   },
   "cell_type": "code",
   "source": [
    "out_path.parent.mkdir(exist_ok=True)\n",
    "df.sample(sample_size).to_csv(out_path)\n"
   ],
   "id": "470849004c1ffaa5",
   "outputs": [],
   "execution_count": 13
  },
  {
   "metadata": {},
   "cell_type": "code",
   "outputs": [],
   "execution_count": null,
   "source": "",
   "id": "a9ddfa1b3cf92618"
  }
 ],
 "metadata": {
  "kernelspec": {
   "display_name": "Python 3",
   "language": "python",
   "name": "python3"
  },
  "language_info": {
   "codemirror_mode": {
    "name": "ipython",
    "version": 2
   },
   "file_extension": ".py",
   "mimetype": "text/x-python",
   "name": "python",
   "nbconvert_exporter": "python",
   "pygments_lexer": "ipython2",
   "version": "2.7.6"
  }
 },
 "nbformat": 4,
 "nbformat_minor": 5
}

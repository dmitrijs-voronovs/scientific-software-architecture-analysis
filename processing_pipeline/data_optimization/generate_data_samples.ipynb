{
 "cells": [
  {
   "metadata": {
    "collapsed": true,
    "ExecuteTime": {
     "end_time": "2025-08-15T21:59:52.925279Z",
     "start_time": "2025-08-15T21:59:52.920279Z"
    }
   },
   "cell_type": "code",
   "source": [
    "from constants.abs_paths import AbsDirPath\n",
    "from processing_pipeline.model.CSVDFHandler import CSVDFHandler\n",
    "from processing_pipeline.utilities.data_transformation import load_all_files\n",
    "from utilities.csv.split_file_into_n_parts import split_file"
   ],
   "id": "initial_id",
   "outputs": [],
   "execution_count": 47
  },
  {
   "metadata": {
    "ExecuteTime": {
     "end_time": "2025-08-15T21:59:52.937964Z",
     "start_time": "2025-08-15T21:59:52.931797Z"
    }
   },
   "cell_type": "code",
   "source": [
    "from processing_pipeline.data_optimization.stage_cfg import S0NoiseFiltering\n",
    "\n",
    "current_stage_cfg = S0NoiseFiltering\n",
    "current_stage_cfg"
   ],
   "id": "ba8a53e2fb1d70fb",
   "outputs": [
    {
     "data": {
      "text/plain": [
       "StageConfig(name='s0', depends_on_fields=['sentence'], resulting_fields=['to_eliminate', 'reasoning'], in_dir=WindowsPath('C:/Users/Dmitrijs/Documents/myDocs/masters/courses/thesis/code/data/keywords_2/s0_noise_filtering'), out_dir=WindowsPath('C:/Users/Dmitrijs/Documents/myDocs/masters/courses/thesis/code/data/keywords_2/s0_noise_filtering_o'), boolean_field_name='to_eliminate', next_stage=StageConfig(name='s1', depends_on_fields=['qa', 'sentence'], resulting_fields=['true_positive', 'reasoning'], in_dir=WindowsPath('C:/Users/Dmitrijs/Documents/myDocs/masters/courses/thesis/code/data/keywords_2/s1_qa_relevance_check'), out_dir=WindowsPath('C:/Users/Dmitrijs/Documents/myDocs/masters/courses/thesis/code/data/keywords_2/s1_qa_relevance_check_o'), boolean_field_name='true_positive', next_stage=StageConfig(name='s2', depends_on_fields=['sentence'], resulting_fields=['related_to_arch', 'reasoning'], in_dir=WindowsPath('C:/Users/Dmitrijs/Documents/myDocs/masters/courses/thesis/code/data/keywords_2/s2_arch_relevance_check'), out_dir=WindowsPath('C:/Users/Dmitrijs/Documents/myDocs/masters/courses/thesis/code/data/keywords_2/s2_arch_relevance_check_o'), boolean_field_name='related_to_arch', next_stage=StageConfig(name='s3', depends_on_fields=['qa', 'sentence'], resulting_fields=['tactic', 'response'], in_dir=WindowsPath('C:/Users/Dmitrijs/Documents/myDocs/masters/courses/thesis/code/data/keywords_2/s3_tactic_extraction'), out_dir=None, boolean_field_name=None, next_stage=None, _apply_filters=<function <lambda> at 0x000001C0F9545580>, _on_load=<function StageConfig.<lambda>.<locals>.<lambda> at 0x000001C0F957F7E0>), _apply_filters=<function <lambda> at 0x000001C0F957F880>, _on_load=<function StageConfig.<lambda>.<locals>.<lambda> at 0x000001C0F957F920>), _apply_filters=<function <lambda> at 0x000001C0F957F9C0>, _on_load=<function StageConfig.<lambda>.<locals>.<lambda> at 0x000001C0F957FA60>), _apply_filters=<function <lambda> at 0x000001C0F957FB00>, _on_load=<function StageConfig.<lambda>.<locals>.<lambda> at 0x000001C0F957FBA0>)"
      ]
     },
     "execution_count": 48,
     "metadata": {},
     "output_type": "execute_result"
    }
   ],
   "execution_count": 48
  },
  {
   "metadata": {
    "ExecuteTime": {
     "end_time": "2025-08-15T21:59:55.860591Z",
     "start_time": "2025-08-15T21:59:55.853590Z"
    }
   },
   "cell_type": "code",
   "source": [
    "current_stage_cfg = current_stage_cfg.next_stage\n",
    "current_stage_cfg"
   ],
   "id": "ca66f831a953ea06",
   "outputs": [
    {
     "data": {
      "text/plain": [
       "StageConfig(name='s3', depends_on_fields=['qa', 'sentence'], resulting_fields=['tactic', 'response'], in_dir=WindowsPath('C:/Users/Dmitrijs/Documents/myDocs/masters/courses/thesis/code/data/keywords_2/s3_tactic_extraction'), out_dir=None, boolean_field_name=None, next_stage=None, _apply_filters=<function <lambda> at 0x000001C0F9545580>, _on_load=<function StageConfig.<lambda>.<locals>.<lambda> at 0x000001C0F957F7E0>)"
      ]
     },
     "execution_count": 51,
     "metadata": {},
     "output_type": "execute_result"
    }
   ],
   "execution_count": 51
  },
  {
   "metadata": {
    "ExecuteTime": {
     "end_time": "2025-08-15T22:00:01.127436Z",
     "start_time": "2025-08-15T22:00:01.120581Z"
    }
   },
   "cell_type": "code",
   "source": [
    "in_dir = current_stage_cfg.in_dir\n",
    "out_path = AbsDirPath.SAMPLES / (current_stage_cfg.name + \".csv\")\n",
    "in_dir, out_path"
   ],
   "id": "18242f710f1bddf8",
   "outputs": [
    {
     "data": {
      "text/plain": [
       "(WindowsPath('C:/Users/Dmitrijs/Documents/myDocs/masters/courses/thesis/code/data/keywords_2/s3_tactic_extraction'),\n",
       " WindowsPath('C:/Users/Dmitrijs/Documents/myDocs/masters/courses/thesis/code/data/samples_2/s3.csv'))"
      ]
     },
     "execution_count": 52,
     "metadata": {},
     "output_type": "execute_result"
    }
   ],
   "execution_count": 52
  },
  {
   "metadata": {
    "ExecuteTime": {
     "end_time": "2025-08-15T22:00:01.202533Z",
     "start_time": "2025-08-15T22:00:01.152558Z"
    }
   },
   "cell_type": "code",
   "source": [
    "df = load_all_files(in_dir)\n",
    "df.shape"
   ],
   "id": "f14fc960dc5c08b2",
   "outputs": [
    {
     "name": "stdout",
     "output_type": "stream",
     "text": [
      "Loaded C:\\Users\\Dmitrijs\\Documents\\myDocs\\masters\\courses\\thesis\\code\\data\\keywords_2\\s3_tactic_extraction\\allenai.scispacy.v0.5.5.code_comment.parquet\n",
      "Loaded C:\\Users\\Dmitrijs\\Documents\\myDocs\\masters\\courses\\thesis\\code\\data\\keywords_2\\s3_tactic_extraction\\allenai.scispacy.v0.5.5.docs.parquet\n",
      "Loaded C:\\Users\\Dmitrijs\\Documents\\myDocs\\masters\\courses\\thesis\\code\\data\\keywords_2\\s3_tactic_extraction\\allenai.scispacy.v0.5.5.issue.parquet\n",
      "Loaded C:\\Users\\Dmitrijs\\Documents\\myDocs\\masters\\courses\\thesis\\code\\data\\keywords_2\\s3_tactic_extraction\\allenai.scispacy.v0.5.5.release.parquet\n",
      "Loaded C:\\Users\\Dmitrijs\\Documents\\myDocs\\masters\\courses\\thesis\\code\\data\\keywords_2\\s3_tactic_extraction\\google.deepvariant.v1.6.1.code_comment.parquet\n",
      "Loaded C:\\Users\\Dmitrijs\\Documents\\myDocs\\masters\\courses\\thesis\\code\\data\\keywords_2\\s3_tactic_extraction\\google.deepvariant.v1.6.1.docs.parquet\n",
      "Loaded C:\\Users\\Dmitrijs\\Documents\\myDocs\\masters\\courses\\thesis\\code\\data\\keywords_2\\s3_tactic_extraction\\google.deepvariant.v1.6.1.issue.parquet\n",
      "Loaded C:\\Users\\Dmitrijs\\Documents\\myDocs\\masters\\courses\\thesis\\code\\data\\keywords_2\\s3_tactic_extraction\\google.deepvariant.v1.6.1.release.parquet\n",
      "Loaded C:\\Users\\Dmitrijs\\Documents\\myDocs\\masters\\courses\\thesis\\code\\data\\keywords_2\\s3_tactic_extraction\\OpenGene.fastp.v0.23.4.code_comment.parquet\n",
      "Loaded C:\\Users\\Dmitrijs\\Documents\\myDocs\\masters\\courses\\thesis\\code\\data\\keywords_2\\s3_tactic_extraction\\OpenGene.fastp.v0.23.4.docs.parquet\n",
      "Loaded C:\\Users\\Dmitrijs\\Documents\\myDocs\\masters\\courses\\thesis\\code\\data\\keywords_2\\s3_tactic_extraction\\OpenGene.fastp.v0.23.4.issue.parquet\n"
     ]
    },
    {
     "data": {
      "text/plain": [
       "(217, 10)"
      ]
     },
     "execution_count": 53,
     "metadata": {},
     "output_type": "execute_result"
    }
   ],
   "execution_count": 53
  },
  {
   "metadata": {
    "ExecuteTime": {
     "end_time": "2025-08-15T22:00:01.218697Z",
     "start_time": "2025-08-15T22:00:01.211545Z"
    }
   },
   "cell_type": "code",
   "source": "current_stage_cfg.get_columns()",
   "id": "6e1ab9173c2e5efc",
   "outputs": [
    {
     "data": {
      "text/plain": [
       "['s3_tactic', 's3_response']"
      ]
     },
     "execution_count": 54,
     "metadata": {},
     "output_type": "execute_result"
    }
   ],
   "execution_count": 54
  },
  {
   "metadata": {
    "ExecuteTime": {
     "end_time": "2025-08-15T22:00:01.253555Z",
     "start_time": "2025-08-15T22:00:01.245165Z"
    }
   },
   "cell_type": "code",
   "source": [
    "for col in current_stage_cfg.get_columns():\n",
    "    try:\n",
    "        df = df[df[col].str.len() > 0]\n",
    "    except:\n",
    "        pass\n",
    "df.shape"
   ],
   "id": "72e7cbc364faa99b",
   "outputs": [
    {
     "data": {
      "text/plain": [
       "(217, 10)"
      ]
     },
     "execution_count": 55,
     "metadata": {},
     "output_type": "execute_result"
    }
   ],
   "execution_count": 55
  },
  {
   "metadata": {
    "ExecuteTime": {
     "end_time": "2025-08-15T22:00:01.271980Z",
     "start_time": "2025-08-15T22:00:01.267603Z"
    }
   },
   "cell_type": "code",
   "source": "sample_size = 384",
   "id": "cd87caaffc7ec3d4",
   "outputs": [],
   "execution_count": 56
  },
  {
   "metadata": {
    "ExecuteTime": {
     "end_time": "2025-08-15T22:00:01.289637Z",
     "start_time": "2025-08-15T22:00:01.286305Z"
    }
   },
   "cell_type": "code",
   "source": [
    "# fake\n",
    "sample_size = df.shape[0]"
   ],
   "id": "1c49ae8d58eb9687",
   "outputs": [],
   "execution_count": 57
  },
  {
   "metadata": {
    "ExecuteTime": {
     "end_time": "2025-08-15T22:00:01.354756Z",
     "start_time": "2025-08-15T22:00:01.306679Z"
    }
   },
   "cell_type": "code",
   "source": [
    "out_path.parent.mkdir(exist_ok=True)\n",
    "df.sample(sample_size).to_csv(out_path)\n"
   ],
   "id": "470849004c1ffaa5",
   "outputs": [],
   "execution_count": 58
  },
  {
   "metadata": {
    "ExecuteTime": {
     "end_time": "2025-08-12T10:30:06.805211Z",
     "start_time": "2025-08-12T10:30:06.703391Z"
    }
   },
   "cell_type": "code",
   "source": [
    "n_parts = 5\n",
    "split_file(out_path, n_parts, CSVDFHandler())"
   ],
   "id": "a9ddfa1b3cf92618",
   "outputs": [],
   "execution_count": 12
  },
  {
   "metadata": {
    "ExecuteTime": {
     "end_time": "2025-08-09T19:22:44.667630Z",
     "start_time": "2025-08-09T19:22:44.664518Z"
    }
   },
   "cell_type": "code",
   "source": "",
   "id": "624b23c47358c5c6",
   "outputs": [],
   "execution_count": null
  }
 ],
 "metadata": {
  "kernelspec": {
   "display_name": "Python 3",
   "language": "python",
   "name": "python3"
  },
  "language_info": {
   "codemirror_mode": {
    "name": "ipython",
    "version": 2
   },
   "file_extension": ".py",
   "mimetype": "text/x-python",
   "name": "python",
   "nbconvert_exporter": "python",
   "pygments_lexer": "ipython2",
   "version": "2.7.6"
  }
 },
 "nbformat": 4,
 "nbformat_minor": 5
}

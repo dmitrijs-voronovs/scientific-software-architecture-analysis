{
 "cells": [
  {
   "metadata": {
    "collapsed": true,
    "ExecuteTime": {
     "end_time": "2025-07-25T07:11:13.557701Z",
     "start_time": "2025-07-25T07:11:13.553702Z"
    }
   },
   "cell_type": "code",
   "source": [
    "from constants.abs_paths import AbsDirPath\n",
    "from processing_pipeline.utilities.data_transformation import load_all_files"
   ],
   "id": "initial_id",
   "outputs": [],
   "execution_count": 66
  },
  {
   "metadata": {
    "ExecuteTime": {
     "end_time": "2025-07-25T07:11:14.005835Z",
     "start_time": "2025-07-25T07:11:14.000559Z"
    }
   },
   "cell_type": "code",
   "source": [
    "from processing_pipeline.data_optimization.stage_cfg import S0NoiseFiltering\n",
    "\n",
    "current_stage_cfg = S0NoiseFiltering\n",
    "current_stage_cfg"
   ],
   "id": "ba8a53e2fb1d70fb",
   "outputs": [
    {
     "data": {
      "text/plain": [
       "StageConfig(name='s0', depends_on_fields=['sentence'], resulting_fields=['to_eliminate', 'reasoning'], data_dir=WindowsPath('C:/Users/Dmitrijs/Documents/myDocs/masters/courses/thesis/code/data/keywords/s0_noise_filtering'), boolean_field_name='to_eliminate', next_stage=StageConfig(name='s1', depends_on_fields=['qa', 'sentence'], resulting_fields=['true_positive', 'reasoning'], data_dir=WindowsPath('C:/Users/Dmitrijs/Documents/myDocs/masters/courses/thesis/code/data/keywords/s1_qa_relevance_check'), boolean_field_name='true_positive', next_stage=StageConfig(name='s2', depends_on_fields=['sentence'], resulting_fields=['related_to_arch', 'reasoning'], data_dir=WindowsPath('C:/Users/Dmitrijs/Documents/myDocs/masters/courses/thesis/code/data/keywords/s2_arch_relevance_check'), boolean_field_name='related_to_arch', next_stage=StageConfig(name='s3', depends_on_fields=['sentence'], resulting_fields=['tactic', 'response'], data_dir=WindowsPath('C:/Users/Dmitrijs/Documents/myDocs/masters/courses/thesis/code/data/keywords/s3_tactic_extraction'), boolean_field_name=None, next_stage=None))))"
      ]
     },
     "execution_count": 67,
     "metadata": {},
     "output_type": "execute_result"
    }
   ],
   "execution_count": 67
  },
  {
   "metadata": {
    "ExecuteTime": {
     "end_time": "2025-07-25T07:25:58.746163Z",
     "start_time": "2025-07-25T07:25:58.741764Z"
    }
   },
   "cell_type": "code",
   "source": [
    "current_stage_cfg = current_stage_cfg.next_stage\n",
    "current_stage_cfg"
   ],
   "id": "ca66f831a953ea06",
   "outputs": [
    {
     "data": {
      "text/plain": [
       "StageConfig(name='s2', depends_on_fields=['sentence'], resulting_fields=['related_to_arch', 'reasoning'], data_dir=WindowsPath('C:/Users/Dmitrijs/Documents/myDocs/masters/courses/thesis/code/data/keywords/s2_arch_relevance_check'), boolean_field_name='related_to_arch', next_stage=StageConfig(name='s3', depends_on_fields=['sentence'], resulting_fields=['tactic', 'response'], data_dir=WindowsPath('C:/Users/Dmitrijs/Documents/myDocs/masters/courses/thesis/code/data/keywords/s3_tactic_extraction'), boolean_field_name=None, next_stage=None))"
      ]
     },
     "execution_count": 101,
     "metadata": {},
     "output_type": "execute_result"
    }
   ],
   "execution_count": 101
  },
  {
   "metadata": {
    "ExecuteTime": {
     "end_time": "2025-07-25T07:26:01.734087Z",
     "start_time": "2025-07-25T07:26:01.728596Z"
    }
   },
   "cell_type": "code",
   "source": [
    "in_dir = current_stage_cfg.data_dir\n",
    "out_path = AbsDirPath.SAMPLES / (current_stage_cfg.name + \".csv\")\n",
    "in_dir, out_path"
   ],
   "id": "3ef7b1141ed05b6c",
   "outputs": [
    {
     "data": {
      "text/plain": [
       "(WindowsPath('C:/Users/Dmitrijs/Documents/myDocs/masters/courses/thesis/code/data/keywords/s2_arch_relevance_check'),\n",
       " WindowsPath('C:/Users/Dmitrijs/Documents/myDocs/masters/courses/thesis/code/data/samples/s2.csv'))"
      ]
     },
     "execution_count": 102,
     "metadata": {},
     "output_type": "execute_result"
    }
   ],
   "execution_count": 102
  },
  {
   "metadata": {
    "collapsed": true,
    "ExecuteTime": {
     "end_time": "2025-07-25T07:26:07.345411Z",
     "start_time": "2025-07-25T07:26:04.625958Z"
    }
   },
   "cell_type": "code",
   "source": [
    "df = load_all_files(in_dir)\n",
    "df.shape"
   ],
   "id": "6b42e9f15c21a9b9",
   "outputs": [
    {
     "name": "stdout",
     "output_type": "stream",
     "text": [
      "Loaded C:\\Users\\Dmitrijs\\Documents\\myDocs\\masters\\courses\\thesis\\code\\data\\keywords\\s2_arch_relevance_check\\allenai.scispacy.v0.5.5.code_comment.parquet\n",
      "Loaded C:\\Users\\Dmitrijs\\Documents\\myDocs\\masters\\courses\\thesis\\code\\data\\keywords\\s2_arch_relevance_check\\allenai.scispacy.v0.5.5.docs.parquet\n",
      "Loaded C:\\Users\\Dmitrijs\\Documents\\myDocs\\masters\\courses\\thesis\\code\\data\\keywords\\s2_arch_relevance_check\\allenai.scispacy.v0.5.5.issue.parquet\n",
      "Loaded C:\\Users\\Dmitrijs\\Documents\\myDocs\\masters\\courses\\thesis\\code\\data\\keywords\\s2_arch_relevance_check\\allenai.scispacy.v0.5.5.issue_comment.parquet\n",
      "Loaded C:\\Users\\Dmitrijs\\Documents\\myDocs\\masters\\courses\\thesis\\code\\data\\keywords\\s2_arch_relevance_check\\allenai.scispacy.v0.5.5.release.parquet\n",
      "Loaded C:\\Users\\Dmitrijs\\Documents\\myDocs\\masters\\courses\\thesis\\code\\data\\keywords\\s2_arch_relevance_check\\google.deepvariant.v1.6.1.code_comment.parquet\n",
      "Loaded C:\\Users\\Dmitrijs\\Documents\\myDocs\\masters\\courses\\thesis\\code\\data\\keywords\\s2_arch_relevance_check\\google.deepvariant.v1.6.1.issue.parquet\n",
      "Loaded C:\\Users\\Dmitrijs\\Documents\\myDocs\\masters\\courses\\thesis\\code\\data\\keywords\\s2_arch_relevance_check\\google.deepvariant.v1.6.1.issue_comment.parquet\n",
      "Loaded C:\\Users\\Dmitrijs\\Documents\\myDocs\\masters\\courses\\thesis\\code\\data\\keywords\\s2_arch_relevance_check\\google.deepvariant.v1.6.1.release.parquet\n",
      "Loaded C:\\Users\\Dmitrijs\\Documents\\myDocs\\masters\\courses\\thesis\\code\\data\\keywords\\s2_arch_relevance_check\\OpenGene.fastp.v0.23.4.code_comment.parquet\n",
      "Loaded C:\\Users\\Dmitrijs\\Documents\\myDocs\\masters\\courses\\thesis\\code\\data\\keywords\\s2_arch_relevance_check\\OpenGene.fastp.v0.23.4.docs.parquet\n",
      "Loaded C:\\Users\\Dmitrijs\\Documents\\myDocs\\masters\\courses\\thesis\\code\\data\\keywords\\s2_arch_relevance_check\\OpenGene.fastp.v0.23.4.issue_comment.parquet\n",
      "Loaded C:\\Users\\Dmitrijs\\Documents\\myDocs\\masters\\courses\\thesis\\code\\data\\keywords\\s2_arch_relevance_check\\OpenGene.fastp.v0.23.4.release.parquet\n",
      "Loaded C:\\Users\\Dmitrijs\\Documents\\myDocs\\masters\\courses\\thesis\\code\\data\\keywords\\s2_arch_relevance_check\\root-project.root.v6-32-06.code_comment.0.parquet\n",
      "Loaded C:\\Users\\Dmitrijs\\Documents\\myDocs\\masters\\courses\\thesis\\code\\data\\keywords\\s2_arch_relevance_check\\root-project.root.v6-32-06.code_comment.1.parquet\n",
      "Loaded C:\\Users\\Dmitrijs\\Documents\\myDocs\\masters\\courses\\thesis\\code\\data\\keywords\\s2_arch_relevance_check\\root-project.root.v6-32-06.code_comment.2.parquet\n",
      "Loaded C:\\Users\\Dmitrijs\\Documents\\myDocs\\masters\\courses\\thesis\\code\\data\\keywords\\s2_arch_relevance_check\\root-project.root.v6-32-06.code_comment.3.parquet\n",
      "Loaded C:\\Users\\Dmitrijs\\Documents\\myDocs\\masters\\courses\\thesis\\code\\data\\keywords\\s2_arch_relevance_check\\root-project.root.v6-32-06.code_comment.4.parquet\n",
      "Loaded C:\\Users\\Dmitrijs\\Documents\\myDocs\\masters\\courses\\thesis\\code\\data\\keywords\\s2_arch_relevance_check\\root-project.root.v6-32-06.code_comment.5.parquet\n",
      "Loaded C:\\Users\\Dmitrijs\\Documents\\myDocs\\masters\\courses\\thesis\\code\\data\\keywords\\s2_arch_relevance_check\\root-project.root.v6-32-06.docs.00.parquet\n",
      "Loaded C:\\Users\\Dmitrijs\\Documents\\myDocs\\masters\\courses\\thesis\\code\\data\\keywords\\s2_arch_relevance_check\\root-project.root.v6-32-06.docs.01.parquet\n",
      "Loaded C:\\Users\\Dmitrijs\\Documents\\myDocs\\masters\\courses\\thesis\\code\\data\\keywords\\s2_arch_relevance_check\\root-project.root.v6-32-06.docs.02.parquet\n",
      "Loaded C:\\Users\\Dmitrijs\\Documents\\myDocs\\masters\\courses\\thesis\\code\\data\\keywords\\s2_arch_relevance_check\\root-project.root.v6-32-06.docs.03.parquet\n",
      "Loaded C:\\Users\\Dmitrijs\\Documents\\myDocs\\masters\\courses\\thesis\\code\\data\\keywords\\s2_arch_relevance_check\\root-project.root.v6-32-06.docs.04.parquet\n",
      "Loaded C:\\Users\\Dmitrijs\\Documents\\myDocs\\masters\\courses\\thesis\\code\\data\\keywords\\s2_arch_relevance_check\\root-project.root.v6-32-06.docs.07.parquet\n",
      "Loaded C:\\Users\\Dmitrijs\\Documents\\myDocs\\masters\\courses\\thesis\\code\\data\\keywords\\s2_arch_relevance_check\\root-project.root.v6-32-06.docs.09.parquet\n",
      "Loaded C:\\Users\\Dmitrijs\\Documents\\myDocs\\masters\\courses\\thesis\\code\\data\\keywords\\s2_arch_relevance_check\\root-project.root.v6-32-06.docs.10.parquet\n",
      "Loaded C:\\Users\\Dmitrijs\\Documents\\myDocs\\masters\\courses\\thesis\\code\\data\\keywords\\s2_arch_relevance_check\\root-project.root.v6-32-06.docs.11.parquet\n",
      "Loaded C:\\Users\\Dmitrijs\\Documents\\myDocs\\masters\\courses\\thesis\\code\\data\\keywords\\s2_arch_relevance_check\\root-project.root.v6-32-06.docs.12.parquet\n",
      "Loaded C:\\Users\\Dmitrijs\\Documents\\myDocs\\masters\\courses\\thesis\\code\\data\\keywords\\s2_arch_relevance_check\\root-project.root.v6-32-06.docs.14.parquet\n",
      "Loaded C:\\Users\\Dmitrijs\\Documents\\myDocs\\masters\\courses\\thesis\\code\\data\\keywords\\s2_arch_relevance_check\\root-project.root.v6-32-06.issue.parquet\n",
      "Loaded C:\\Users\\Dmitrijs\\Documents\\myDocs\\masters\\courses\\thesis\\code\\data\\keywords\\s2_arch_relevance_check\\root-project.root.v6-32-06.issue_comment.parquet\n",
      "Loaded C:\\Users\\Dmitrijs\\Documents\\myDocs\\masters\\courses\\thesis\\code\\data\\keywords\\s2_arch_relevance_check\\root-project.root.v6-32-06.release.parquet\n",
      "Loaded C:\\Users\\Dmitrijs\\Documents\\myDocs\\masters\\courses\\thesis\\code\\data\\keywords\\s2_arch_relevance_check\\scverse.scanpy.1.10.2.code_comment.parquet\n",
      "Loaded C:\\Users\\Dmitrijs\\Documents\\myDocs\\masters\\courses\\thesis\\code\\data\\keywords\\s2_arch_relevance_check\\scverse.scanpy.1.10.2.docs.parquet\n",
      "Loaded C:\\Users\\Dmitrijs\\Documents\\myDocs\\masters\\courses\\thesis\\code\\data\\keywords\\s2_arch_relevance_check\\scverse.scanpy.1.10.2.issue.parquet\n",
      "Loaded C:\\Users\\Dmitrijs\\Documents\\myDocs\\masters\\courses\\thesis\\code\\data\\keywords\\s2_arch_relevance_check\\scverse.scanpy.1.10.2.wiki.parquet\n"
     ]
    },
    {
     "data": {
      "text/plain": [
       "(93664, 4)"
      ]
     },
     "execution_count": 103,
     "metadata": {},
     "output_type": "execute_result"
    }
   ],
   "execution_count": 103
  },
  {
   "metadata": {
    "ExecuteTime": {
     "end_time": "2025-07-25T07:26:09.782875Z",
     "start_time": "2025-07-25T07:26:09.776539Z"
    }
   },
   "cell_type": "code",
   "source": "current_stage_cfg.get_columns()",
   "id": "6e1ab9173c2e5efc",
   "outputs": [
    {
     "data": {
      "text/plain": [
       "['s2_related_to_arch', 's2_reasoning']"
      ]
     },
     "execution_count": 104,
     "metadata": {},
     "output_type": "execute_result"
    }
   ],
   "execution_count": 104
  },
  {
   "metadata": {
    "ExecuteTime": {
     "end_time": "2025-07-25T07:26:11.899909Z",
     "start_time": "2025-07-25T07:26:11.837394Z"
    }
   },
   "cell_type": "code",
   "source": [
    "for col in current_stage_cfg.get_columns():\n",
    "    try:\n",
    "        df = df[df[col].str.len() > 0]\n",
    "    except:\n",
    "        pass\n",
    "df.shape"
   ],
   "id": "72e7cbc364faa99b",
   "outputs": [
    {
     "data": {
      "text/plain": [
       "(93663, 4)"
      ]
     },
     "execution_count": 105,
     "metadata": {},
     "output_type": "execute_result"
    }
   ],
   "execution_count": 105
  },
  {
   "metadata": {
    "ExecuteTime": {
     "end_time": "2025-07-25T07:26:14.131092Z",
     "start_time": "2025-07-25T07:26:14.126790Z"
    }
   },
   "cell_type": "code",
   "source": "sample_size = 384",
   "id": "1c49ae8d58eb9687",
   "outputs": [],
   "execution_count": 106
  },
  {
   "metadata": {
    "ExecuteTime": {
     "end_time": "2025-07-25T07:26:15.826534Z",
     "start_time": "2025-07-25T07:26:15.767494Z"
    }
   },
   "cell_type": "code",
   "source": [
    "out_path.parent.mkdir(exist_ok=True)\n",
    "df.sample(sample_size).to_csv(out_path)\n"
   ],
   "id": "470849004c1ffaa5",
   "outputs": [],
   "execution_count": 107
  },
  {
   "metadata": {
    "ExecuteTime": {
     "end_time": "2025-07-25T07:11:37.849621Z",
     "start_time": "2025-07-25T07:11:37.846623Z"
    }
   },
   "cell_type": "code",
   "source": "",
   "id": "a9ddfa1b3cf92618",
   "outputs": [],
   "execution_count": null
  },
  {
   "metadata": {},
   "cell_type": "code",
   "outputs": [],
   "execution_count": null,
   "source": "",
   "id": "624b23c47358c5c6"
  }
 ],
 "metadata": {
  "kernelspec": {
   "display_name": "Python 3",
   "language": "python",
   "name": "python3"
  },
  "language_info": {
   "codemirror_mode": {
    "name": "ipython",
    "version": 2
   },
   "file_extension": ".py",
   "mimetype": "text/x-python",
   "name": "python",
   "nbconvert_exporter": "python",
   "pygments_lexer": "ipython2",
   "version": "2.7.6"
  }
 },
 "nbformat": 4,
 "nbformat_minor": 5
}

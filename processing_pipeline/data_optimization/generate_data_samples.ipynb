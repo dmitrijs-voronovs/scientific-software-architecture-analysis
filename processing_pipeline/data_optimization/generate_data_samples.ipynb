{
 "cells": [
  {
   "metadata": {
    "collapsed": true,
    "ExecuteTime": {
     "end_time": "2025-08-12T10:29:39.103108Z",
     "start_time": "2025-08-12T10:29:38.421052Z"
    }
   },
   "cell_type": "code",
   "source": [
    "from constants.abs_paths import AbsDirPath\n",
    "from processing_pipeline.model.CSVDFHandler import CSVDFHandler\n",
    "from processing_pipeline.utilities.data_transformation import load_all_files\n",
    "from utilities.csv.split_file_into_n_parts import split_file"
   ],
   "id": "initial_id",
   "outputs": [],
   "execution_count": 2
  },
  {
   "metadata": {
    "ExecuteTime": {
     "end_time": "2025-08-12T10:29:39.540350Z",
     "start_time": "2025-08-12T10:29:39.510820Z"
    }
   },
   "cell_type": "code",
   "source": [
    "from processing_pipeline.data_optimization.stage_cfg import S0NoiseFiltering\n",
    "\n",
    "current_stage_cfg = S0NoiseFiltering\n",
    "current_stage_cfg"
   ],
   "id": "ba8a53e2fb1d70fb",
   "outputs": [
    {
     "data": {
      "text/plain": [
       "StageConfig(name='s0', depends_on_fields=['sentence'], resulting_fields=['to_eliminate', 'reasoning'], in_dir=WindowsPath('C:/Users/Dmitrijs/Documents/myDocs/masters/courses/thesis/code/data/keywords_2/s0_noise_filtering'), out_dir=WindowsPath('C:/Users/Dmitrijs/Documents/myDocs/masters/courses/thesis/code/data/keywords_2/s0_noise_filtering_o'), boolean_field_name='to_eliminate', next_stage=StageConfig(name='s1', depends_on_fields=['qa', 'sentence'], resulting_fields=['true_positive', 'reasoning'], in_dir=WindowsPath('C:/Users/Dmitrijs/Documents/myDocs/masters/courses/thesis/code/data/keywords_2/s1_qa_relevance_check'), out_dir=WindowsPath('C:/Users/Dmitrijs/Documents/myDocs/masters/courses/thesis/code/data/keywords_2/s1_qa_relevance_check_o'), boolean_field_name='true_positive', next_stage=StageConfig(name='s2', depends_on_fields=['sentence'], resulting_fields=['related_to_arch', 'reasoning'], in_dir=WindowsPath('C:/Users/Dmitrijs/Documents/myDocs/masters/courses/thesis/code/data/keywords_2/s2_arch_relevance_check'), out_dir=WindowsPath('C:/Users/Dmitrijs/Documents/myDocs/masters/courses/thesis/code/data/keywords_2/s2_arch_relevance_check_o'), boolean_field_name='related_to_arch', next_stage=StageConfig(name='s3', depends_on_fields=['qa', 'sentence'], resulting_fields=['tactic', 'response'], in_dir=WindowsPath('C:/Users/Dmitrijs/Documents/myDocs/masters/courses/thesis/code/data/keywords_2/s3_tactic_extraction'), out_dir=None, boolean_field_name=None, next_stage=None, _apply_filters=<function <lambda> at 0x00000284FEDB62A0>, _on_load=<function StageConfig.<lambda>.<locals>.<lambda> at 0x00000284FEDFC540>), _apply_filters=<function <lambda> at 0x00000284FEDFC5E0>, _on_load=<function StageConfig.<lambda>.<locals>.<lambda> at 0x00000284FEDFC680>), _apply_filters=<function <lambda> at 0x00000284FEDFC720>, _on_load=<function StageConfig.<lambda>.<locals>.<lambda> at 0x00000284FEDFC7C0>), _apply_filters=<function <lambda> at 0x00000284FEDFC860>, _on_load=<function StageConfig.<lambda>.<locals>.<lambda> at 0x00000284FEDFC900>)"
      ]
     },
     "execution_count": 3,
     "metadata": {},
     "output_type": "execute_result"
    }
   ],
   "execution_count": 3
  },
  {
   "metadata": {
    "ExecuteTime": {
     "end_time": "2025-08-12T10:29:41.392935Z",
     "start_time": "2025-08-12T10:29:41.383581Z"
    }
   },
   "cell_type": "code",
   "source": [
    "current_stage_cfg = current_stage_cfg.next_stage\n",
    "current_stage_cfg"
   ],
   "id": "ca66f831a953ea06",
   "outputs": [
    {
     "data": {
      "text/plain": [
       "StageConfig(name='s1', depends_on_fields=['qa', 'sentence'], resulting_fields=['true_positive', 'reasoning'], in_dir=WindowsPath('C:/Users/Dmitrijs/Documents/myDocs/masters/courses/thesis/code/data/keywords_2/s1_qa_relevance_check'), out_dir=WindowsPath('C:/Users/Dmitrijs/Documents/myDocs/masters/courses/thesis/code/data/keywords_2/s1_qa_relevance_check_o'), boolean_field_name='true_positive', next_stage=StageConfig(name='s2', depends_on_fields=['sentence'], resulting_fields=['related_to_arch', 'reasoning'], in_dir=WindowsPath('C:/Users/Dmitrijs/Documents/myDocs/masters/courses/thesis/code/data/keywords_2/s2_arch_relevance_check'), out_dir=WindowsPath('C:/Users/Dmitrijs/Documents/myDocs/masters/courses/thesis/code/data/keywords_2/s2_arch_relevance_check_o'), boolean_field_name='related_to_arch', next_stage=StageConfig(name='s3', depends_on_fields=['qa', 'sentence'], resulting_fields=['tactic', 'response'], in_dir=WindowsPath('C:/Users/Dmitrijs/Documents/myDocs/masters/courses/thesis/code/data/keywords_2/s3_tactic_extraction'), out_dir=None, boolean_field_name=None, next_stage=None, _apply_filters=<function <lambda> at 0x00000284FEDB62A0>, _on_load=<function StageConfig.<lambda>.<locals>.<lambda> at 0x00000284FEDFC540>), _apply_filters=<function <lambda> at 0x00000284FEDFC5E0>, _on_load=<function StageConfig.<lambda>.<locals>.<lambda> at 0x00000284FEDFC680>), _apply_filters=<function <lambda> at 0x00000284FEDFC720>, _on_load=<function StageConfig.<lambda>.<locals>.<lambda> at 0x00000284FEDFC7C0>)"
      ]
     },
     "execution_count": 4,
     "metadata": {},
     "output_type": "execute_result"
    }
   ],
   "execution_count": 4
  },
  {
   "metadata": {
    "ExecuteTime": {
     "end_time": "2025-08-12T19:35:11.901663Z",
     "start_time": "2025-08-12T19:35:11.841929Z"
    }
   },
   "cell_type": "code",
   "source": [
    "in_dir = current_stage_cfg.in_dir\n",
    "out_path = AbsDirPath.SAMPLES / (current_stage_cfg.name + \".csv\")\n",
    "in_dir, out_path"
   ],
   "id": "18242f710f1bddf8",
   "outputs": [
    {
     "data": {
      "text/plain": [
       "(WindowsPath('C:/Users/Dmitrijs/Documents/myDocs/masters/courses/thesis/code/data/keywords_2/s1_qa_relevance_check'),\n",
       " WindowsPath('C:/Users/Dmitrijs/Documents/myDocs/masters/courses/thesis/code/data/samples_2/s1.csv'))"
      ]
     },
     "execution_count": 14,
     "metadata": {},
     "output_type": "execute_result"
    }
   ],
   "execution_count": 14
  },
  {
   "metadata": {
    "ExecuteTime": {
     "end_time": "2025-08-12T19:35:15.714119Z",
     "start_time": "2025-08-12T19:35:14.304198Z"
    }
   },
   "cell_type": "code",
   "source": [
    "df = load_all_files(in_dir)\n",
    "df.shape"
   ],
   "id": "f14fc960dc5c08b2",
   "outputs": [
    {
     "name": "stdout",
     "output_type": "stream",
     "text": [
      "Loaded C:\\Users\\Dmitrijs\\Documents\\myDocs\\masters\\courses\\thesis\\code\\data\\keywords_2\\s1_qa_relevance_check\\allenai.scispacy.v0.5.5.code_comment.parquet\n",
      "Loaded C:\\Users\\Dmitrijs\\Documents\\myDocs\\masters\\courses\\thesis\\code\\data\\keywords_2\\s1_qa_relevance_check\\allenai.scispacy.v0.5.5.docs.parquet\n",
      "Loaded C:\\Users\\Dmitrijs\\Documents\\myDocs\\masters\\courses\\thesis\\code\\data\\keywords_2\\s1_qa_relevance_check\\allenai.scispacy.v0.5.5.issue.from_40.parquet\n",
      "Loaded C:\\Users\\Dmitrijs\\Documents\\myDocs\\masters\\courses\\thesis\\code\\data\\keywords_2\\s1_qa_relevance_check\\allenai.scispacy.v0.5.5.issue.parquet\n",
      "Loaded C:\\Users\\Dmitrijs\\Documents\\myDocs\\masters\\courses\\thesis\\code\\data\\keywords_2\\s1_qa_relevance_check\\allenai.scispacy.v0.5.5.issue_comment.from_200.parquet\n",
      "Loaded C:\\Users\\Dmitrijs\\Documents\\myDocs\\masters\\courses\\thesis\\code\\data\\keywords_2\\s1_qa_relevance_check\\allenai.scispacy.v0.5.5.issue_comment.from_220.parquet\n",
      "Loaded C:\\Users\\Dmitrijs\\Documents\\myDocs\\masters\\courses\\thesis\\code\\data\\keywords_2\\s1_qa_relevance_check\\allenai.scispacy.v0.5.5.issue_comment.parquet\n",
      "Loaded C:\\Users\\Dmitrijs\\Documents\\myDocs\\masters\\courses\\thesis\\code\\data\\keywords_2\\s1_qa_relevance_check\\allenai.scispacy.v0.5.5.release.parquet\n",
      "Loaded C:\\Users\\Dmitrijs\\Documents\\myDocs\\masters\\courses\\thesis\\code\\data\\keywords_2\\s1_qa_relevance_check\\google.deepvariant.v1.6.1.code_comment.parquet\n",
      "Loaded C:\\Users\\Dmitrijs\\Documents\\myDocs\\masters\\courses\\thesis\\code\\data\\keywords_2\\s1_qa_relevance_check\\google.deepvariant.v1.6.1.issue.parquet\n",
      "Loaded C:\\Users\\Dmitrijs\\Documents\\myDocs\\masters\\courses\\thesis\\code\\data\\keywords_2\\s1_qa_relevance_check\\google.deepvariant.v1.6.1.issue_comment.0.from_150.parquet\n",
      "Loaded C:\\Users\\Dmitrijs\\Documents\\myDocs\\masters\\courses\\thesis\\code\\data\\keywords_2\\s1_qa_relevance_check\\google.deepvariant.v1.6.1.issue_comment.0.from_175.parquet\n",
      "Loaded C:\\Users\\Dmitrijs\\Documents\\myDocs\\masters\\courses\\thesis\\code\\data\\keywords_2\\s1_qa_relevance_check\\google.deepvariant.v1.6.1.issue_comment.0.from_215.parquet\n",
      "Loaded C:\\Users\\Dmitrijs\\Documents\\myDocs\\masters\\courses\\thesis\\code\\data\\keywords_2\\s1_qa_relevance_check\\google.deepvariant.v1.6.1.issue_comment.0.parquet\n",
      "Loaded C:\\Users\\Dmitrijs\\Documents\\myDocs\\masters\\courses\\thesis\\code\\data\\keywords_2\\s1_qa_relevance_check\\google.deepvariant.v1.6.1.issue_comment.1.from_200.parquet\n",
      "Loaded C:\\Users\\Dmitrijs\\Documents\\myDocs\\masters\\courses\\thesis\\code\\data\\keywords_2\\s1_qa_relevance_check\\google.deepvariant.v1.6.1.issue_comment.1.from_225.parquet\n",
      "Loaded C:\\Users\\Dmitrijs\\Documents\\myDocs\\masters\\courses\\thesis\\code\\data\\keywords_2\\s1_qa_relevance_check\\google.deepvariant.v1.6.1.issue_comment.1.parquet\n",
      "Loaded C:\\Users\\Dmitrijs\\Documents\\myDocs\\masters\\courses\\thesis\\code\\data\\keywords_2\\s1_qa_relevance_check\\google.deepvariant.v1.6.1.issue_comment.2.from_100.parquet\n",
      "Loaded C:\\Users\\Dmitrijs\\Documents\\myDocs\\masters\\courses\\thesis\\code\\data\\keywords_2\\s1_qa_relevance_check\\google.deepvariant.v1.6.1.issue_comment.2.from_125.parquet\n",
      "Loaded C:\\Users\\Dmitrijs\\Documents\\myDocs\\masters\\courses\\thesis\\code\\data\\keywords_2\\s1_qa_relevance_check\\google.deepvariant.v1.6.1.issue_comment.2.from_165.parquet\n",
      "Loaded C:\\Users\\Dmitrijs\\Documents\\myDocs\\masters\\courses\\thesis\\code\\data\\keywords_2\\s1_qa_relevance_check\\google.deepvariant.v1.6.1.issue_comment.2.parquet\n",
      "Loaded C:\\Users\\Dmitrijs\\Documents\\myDocs\\masters\\courses\\thesis\\code\\data\\keywords_2\\s1_qa_relevance_check\\google.deepvariant.v1.6.1.release.parquet\n",
      "Loaded C:\\Users\\Dmitrijs\\Documents\\myDocs\\masters\\courses\\thesis\\code\\data\\keywords_2\\s1_qa_relevance_check\\OpenGene.fastp.v0.23.4.code_comment.parquet\n",
      "Loaded C:\\Users\\Dmitrijs\\Documents\\myDocs\\masters\\courses\\thesis\\code\\data\\keywords_2\\s1_qa_relevance_check\\OpenGene.fastp.v0.23.4.issue_comment.from_200.parquet\n",
      "Loaded C:\\Users\\Dmitrijs\\Documents\\myDocs\\masters\\courses\\thesis\\code\\data\\keywords_2\\s1_qa_relevance_check\\OpenGene.fastp.v0.23.4.issue_comment.from_220.parquet\n",
      "Loaded C:\\Users\\Dmitrijs\\Documents\\myDocs\\masters\\courses\\thesis\\code\\data\\keywords_2\\s1_qa_relevance_check\\OpenGene.fastp.v0.23.4.issue_comment.parquet\n",
      "Loaded C:\\Users\\Dmitrijs\\Documents\\myDocs\\masters\\courses\\thesis\\code\\data\\keywords_2\\s1_qa_relevance_check\\OpenGene.fastp.v0.23.4.release.parquet\n",
      "Loaded C:\\Users\\Dmitrijs\\Documents\\myDocs\\masters\\courses\\thesis\\code\\data\\keywords_2\\s1_qa_relevance_check\\root-project.root.v6-32-06.code_comment.01.from_125.parquet\n",
      "Loaded C:\\Users\\Dmitrijs\\Documents\\myDocs\\masters\\courses\\thesis\\code\\data\\keywords_2\\s1_qa_relevance_check\\root-project.root.v6-32-06.code_comment.01.from_75.parquet\n",
      "Loaded C:\\Users\\Dmitrijs\\Documents\\myDocs\\masters\\courses\\thesis\\code\\data\\keywords_2\\s1_qa_relevance_check\\root-project.root.v6-32-06.code_comment.01.parquet\n",
      "Loaded C:\\Users\\Dmitrijs\\Documents\\myDocs\\masters\\courses\\thesis\\code\\data\\keywords_2\\s1_qa_relevance_check\\root-project.root.v6-32-06.code_comment.03.parquet\n",
      "Loaded C:\\Users\\Dmitrijs\\Documents\\myDocs\\masters\\courses\\thesis\\code\\data\\keywords_2\\s1_qa_relevance_check\\root-project.root.v6-32-06.code_comment.04.from_130.parquet\n",
      "Loaded C:\\Users\\Dmitrijs\\Documents\\myDocs\\masters\\courses\\thesis\\code\\data\\keywords_2\\s1_qa_relevance_check\\root-project.root.v6-32-06.code_comment.04.from_80.parquet\n",
      "Loaded C:\\Users\\Dmitrijs\\Documents\\myDocs\\masters\\courses\\thesis\\code\\data\\keywords_2\\s1_qa_relevance_check\\root-project.root.v6-32-06.code_comment.04.parquet\n",
      "Loaded C:\\Users\\Dmitrijs\\Documents\\myDocs\\masters\\courses\\thesis\\code\\data\\keywords_2\\s1_qa_relevance_check\\root-project.root.v6-32-06.code_comment.06.from_120.parquet\n",
      "Loaded C:\\Users\\Dmitrijs\\Documents\\myDocs\\masters\\courses\\thesis\\code\\data\\keywords_2\\s1_qa_relevance_check\\root-project.root.v6-32-06.code_comment.06.from_80.parquet\n",
      "Loaded C:\\Users\\Dmitrijs\\Documents\\myDocs\\masters\\courses\\thesis\\code\\data\\keywords_2\\s1_qa_relevance_check\\root-project.root.v6-32-06.code_comment.06.parquet\n",
      "Loaded C:\\Users\\Dmitrijs\\Documents\\myDocs\\masters\\courses\\thesis\\code\\data\\keywords_2\\s1_qa_relevance_check\\root-project.root.v6-32-06.code_comment.08.from_125.parquet\n",
      "Loaded C:\\Users\\Dmitrijs\\Documents\\myDocs\\masters\\courses\\thesis\\code\\data\\keywords_2\\s1_qa_relevance_check\\root-project.root.v6-32-06.code_comment.08.from_75.parquet\n",
      "Loaded C:\\Users\\Dmitrijs\\Documents\\myDocs\\masters\\courses\\thesis\\code\\data\\keywords_2\\s1_qa_relevance_check\\root-project.root.v6-32-06.code_comment.08.parquet\n",
      "Loaded C:\\Users\\Dmitrijs\\Documents\\myDocs\\masters\\courses\\thesis\\code\\data\\keywords_2\\s1_qa_relevance_check\\root-project.root.v6-32-06.code_comment.12.parquet\n",
      "Loaded C:\\Users\\Dmitrijs\\Documents\\myDocs\\masters\\courses\\thesis\\code\\data\\keywords_2\\s1_qa_relevance_check\\root-project.root.v6-32-06.code_comment.15.from_130.parquet\n",
      "Loaded C:\\Users\\Dmitrijs\\Documents\\myDocs\\masters\\courses\\thesis\\code\\data\\keywords_2\\s1_qa_relevance_check\\root-project.root.v6-32-06.code_comment.15.from_80.parquet\n",
      "Loaded C:\\Users\\Dmitrijs\\Documents\\myDocs\\masters\\courses\\thesis\\code\\data\\keywords_2\\s1_qa_relevance_check\\root-project.root.v6-32-06.code_comment.15.parquet\n",
      "Loaded C:\\Users\\Dmitrijs\\Documents\\myDocs\\masters\\courses\\thesis\\code\\data\\keywords_2\\s1_qa_relevance_check\\root-project.root.v6-32-06.code_comment.16.from_50.parquet\n",
      "Loaded C:\\Users\\Dmitrijs\\Documents\\myDocs\\masters\\courses\\thesis\\code\\data\\keywords_2\\s1_qa_relevance_check\\root-project.root.v6-32-06.code_comment.16.parquet\n",
      "Loaded C:\\Users\\Dmitrijs\\Documents\\myDocs\\masters\\courses\\thesis\\code\\data\\keywords_2\\s1_qa_relevance_check\\root-project.root.v6-32-06.docs.00.parquet\n",
      "Loaded C:\\Users\\Dmitrijs\\Documents\\myDocs\\masters\\courses\\thesis\\code\\data\\keywords_2\\s1_qa_relevance_check\\root-project.root.v6-32-06.docs.04.parquet\n",
      "Loaded C:\\Users\\Dmitrijs\\Documents\\myDocs\\masters\\courses\\thesis\\code\\data\\keywords_2\\s1_qa_relevance_check\\root-project.root.v6-32-06.docs.05.from_50.parquet\n",
      "Loaded C:\\Users\\Dmitrijs\\Documents\\myDocs\\masters\\courses\\thesis\\code\\data\\keywords_2\\s1_qa_relevance_check\\root-project.root.v6-32-06.docs.05.parquet\n",
      "Loaded C:\\Users\\Dmitrijs\\Documents\\myDocs\\masters\\courses\\thesis\\code\\data\\keywords_2\\s1_qa_relevance_check\\root-project.root.v6-32-06.docs.06.from_55.parquet\n",
      "Loaded C:\\Users\\Dmitrijs\\Documents\\myDocs\\masters\\courses\\thesis\\code\\data\\keywords_2\\s1_qa_relevance_check\\root-project.root.v6-32-06.docs.06.parquet\n",
      "Loaded C:\\Users\\Dmitrijs\\Documents\\myDocs\\masters\\courses\\thesis\\code\\data\\keywords_2\\s1_qa_relevance_check\\root-project.root.v6-32-06.docs.08.parquet\n",
      "Loaded C:\\Users\\Dmitrijs\\Documents\\myDocs\\masters\\courses\\thesis\\code\\data\\keywords_2\\s1_qa_relevance_check\\root-project.root.v6-32-06.docs.10.parquet\n",
      "Loaded C:\\Users\\Dmitrijs\\Documents\\myDocs\\masters\\courses\\thesis\\code\\data\\keywords_2\\s1_qa_relevance_check\\root-project.root.v6-32-06.docs.13.parquet\n",
      "Loaded C:\\Users\\Dmitrijs\\Documents\\myDocs\\masters\\courses\\thesis\\code\\data\\keywords_2\\s1_qa_relevance_check\\root-project.root.v6-32-06.docs.19.parquet\n",
      "Loaded C:\\Users\\Dmitrijs\\Documents\\myDocs\\masters\\courses\\thesis\\code\\data\\keywords_2\\s1_qa_relevance_check\\root-project.root.v6-32-06.docs.20.parquet\n",
      "Loaded C:\\Users\\Dmitrijs\\Documents\\myDocs\\masters\\courses\\thesis\\code\\data\\keywords_2\\s1_qa_relevance_check\\root-project.root.v6-32-06.docs.23.from_125.parquet\n",
      "Loaded C:\\Users\\Dmitrijs\\Documents\\myDocs\\masters\\courses\\thesis\\code\\data\\keywords_2\\s1_qa_relevance_check\\root-project.root.v6-32-06.docs.23.from_75.parquet\n",
      "Loaded C:\\Users\\Dmitrijs\\Documents\\myDocs\\masters\\courses\\thesis\\code\\data\\keywords_2\\s1_qa_relevance_check\\root-project.root.v6-32-06.docs.23.parquet\n",
      "Loaded C:\\Users\\Dmitrijs\\Documents\\myDocs\\masters\\courses\\thesis\\code\\data\\keywords_2\\s1_qa_relevance_check\\root-project.root.v6-32-06.issue.0.from_130.parquet\n",
      "Loaded C:\\Users\\Dmitrijs\\Documents\\myDocs\\masters\\courses\\thesis\\code\\data\\keywords_2\\s1_qa_relevance_check\\root-project.root.v6-32-06.issue.0.from_80.parquet\n",
      "Loaded C:\\Users\\Dmitrijs\\Documents\\myDocs\\masters\\courses\\thesis\\code\\data\\keywords_2\\s1_qa_relevance_check\\root-project.root.v6-32-06.issue.0.parquet\n",
      "Loaded C:\\Users\\Dmitrijs\\Documents\\myDocs\\masters\\courses\\thesis\\code\\data\\keywords_2\\s1_qa_relevance_check\\root-project.root.v6-32-06.issue.1.from_125.parquet\n",
      "Loaded C:\\Users\\Dmitrijs\\Documents\\myDocs\\masters\\courses\\thesis\\code\\data\\keywords_2\\s1_qa_relevance_check\\root-project.root.v6-32-06.issue.1.from_75.parquet\n",
      "Loaded C:\\Users\\Dmitrijs\\Documents\\myDocs\\masters\\courses\\thesis\\code\\data\\keywords_2\\s1_qa_relevance_check\\root-project.root.v6-32-06.issue.1.parquet\n",
      "Loaded C:\\Users\\Dmitrijs\\Documents\\myDocs\\masters\\courses\\thesis\\code\\data\\keywords_2\\s1_qa_relevance_check\\root-project.root.v6-32-06.issue.4.from_350.parquet\n",
      "Loaded C:\\Users\\Dmitrijs\\Documents\\myDocs\\masters\\courses\\thesis\\code\\data\\keywords_2\\s1_qa_relevance_check\\root-project.root.v6-32-06.issue.4.from_425.parquet\n",
      "Loaded C:\\Users\\Dmitrijs\\Documents\\myDocs\\masters\\courses\\thesis\\code\\data\\keywords_2\\s1_qa_relevance_check\\root-project.root.v6-32-06.issue.4.from_475.parquet\n",
      "Loaded C:\\Users\\Dmitrijs\\Documents\\myDocs\\masters\\courses\\thesis\\code\\data\\keywords_2\\s1_qa_relevance_check\\root-project.root.v6-32-06.issue.4.parquet\n",
      "Loaded C:\\Users\\Dmitrijs\\Documents\\myDocs\\masters\\courses\\thesis\\code\\data\\keywords_2\\s1_qa_relevance_check\\root-project.root.v6-32-06.issue.5.from_130.parquet\n",
      "Loaded C:\\Users\\Dmitrijs\\Documents\\myDocs\\masters\\courses\\thesis\\code\\data\\keywords_2\\s1_qa_relevance_check\\root-project.root.v6-32-06.issue.5.from_75.parquet\n",
      "Loaded C:\\Users\\Dmitrijs\\Documents\\myDocs\\masters\\courses\\thesis\\code\\data\\keywords_2\\s1_qa_relevance_check\\root-project.root.v6-32-06.issue.5.parquet\n",
      "Loaded C:\\Users\\Dmitrijs\\Documents\\myDocs\\masters\\courses\\thesis\\code\\data\\keywords_2\\s1_qa_relevance_check\\root-project.root.v6-32-06.issue.7.from_50.parquet\n",
      "Loaded C:\\Users\\Dmitrijs\\Documents\\myDocs\\masters\\courses\\thesis\\code\\data\\keywords_2\\s1_qa_relevance_check\\root-project.root.v6-32-06.issue.7.parquet\n",
      "Loaded C:\\Users\\Dmitrijs\\Documents\\myDocs\\masters\\courses\\thesis\\code\\data\\keywords_2\\s1_qa_relevance_check\\root-project.root.v6-32-06.issue.8.from_50.parquet\n",
      "Loaded C:\\Users\\Dmitrijs\\Documents\\myDocs\\masters\\courses\\thesis\\code\\data\\keywords_2\\s1_qa_relevance_check\\root-project.root.v6-32-06.issue.8.parquet\n",
      "Loaded C:\\Users\\Dmitrijs\\Documents\\myDocs\\masters\\courses\\thesis\\code\\data\\keywords_2\\s1_qa_relevance_check\\root-project.root.v6-32-06.issue_comment.0.from_200.parquet\n",
      "Loaded C:\\Users\\Dmitrijs\\Documents\\myDocs\\masters\\courses\\thesis\\code\\data\\keywords_2\\s1_qa_relevance_check\\root-project.root.v6-32-06.issue_comment.0.from_225.parquet\n",
      "Loaded C:\\Users\\Dmitrijs\\Documents\\myDocs\\masters\\courses\\thesis\\code\\data\\keywords_2\\s1_qa_relevance_check\\root-project.root.v6-32-06.issue_comment.0.parquet\n",
      "Loaded C:\\Users\\Dmitrijs\\Documents\\myDocs\\masters\\courses\\thesis\\code\\data\\keywords_2\\s1_qa_relevance_check\\root-project.root.v6-32-06.issue_comment.1.from_200.parquet\n",
      "Loaded C:\\Users\\Dmitrijs\\Documents\\myDocs\\masters\\courses\\thesis\\code\\data\\keywords_2\\s1_qa_relevance_check\\root-project.root.v6-32-06.issue_comment.1.from_220.parquet\n",
      "Loaded C:\\Users\\Dmitrijs\\Documents\\myDocs\\masters\\courses\\thesis\\code\\data\\keywords_2\\s1_qa_relevance_check\\root-project.root.v6-32-06.issue_comment.1.from_250.parquet\n",
      "Loaded C:\\Users\\Dmitrijs\\Documents\\myDocs\\masters\\courses\\thesis\\code\\data\\keywords_2\\s1_qa_relevance_check\\root-project.root.v6-32-06.issue_comment.1.parquet\n",
      "Loaded C:\\Users\\Dmitrijs\\Documents\\myDocs\\masters\\courses\\thesis\\code\\data\\keywords_2\\s1_qa_relevance_check\\root-project.root.v6-32-06.issue_comment.2.from_40.parquet\n",
      "Loaded C:\\Users\\Dmitrijs\\Documents\\myDocs\\masters\\courses\\thesis\\code\\data\\keywords_2\\s1_qa_relevance_check\\root-project.root.v6-32-06.issue_comment.2.parquet\n",
      "Loaded C:\\Users\\Dmitrijs\\Documents\\myDocs\\masters\\courses\\thesis\\code\\data\\keywords_2\\s1_qa_relevance_check\\root-project.root.v6-32-06.issue_comment.3.parquet\n",
      "Loaded C:\\Users\\Dmitrijs\\Documents\\myDocs\\masters\\courses\\thesis\\code\\data\\keywords_2\\s1_qa_relevance_check\\root-project.root.v6-32-06.issue_comment.4.from_40.parquet\n",
      "Loaded C:\\Users\\Dmitrijs\\Documents\\myDocs\\masters\\courses\\thesis\\code\\data\\keywords_2\\s1_qa_relevance_check\\root-project.root.v6-32-06.issue_comment.4.parquet\n",
      "Loaded C:\\Users\\Dmitrijs\\Documents\\myDocs\\masters\\courses\\thesis\\code\\data\\keywords_2\\s1_qa_relevance_check\\root-project.root.v6-32-06.release.parquet\n",
      "Loaded C:\\Users\\Dmitrijs\\Documents\\myDocs\\masters\\courses\\thesis\\code\\data\\keywords_2\\s1_qa_relevance_check\\scverse.scanpy.1.10.2.code_comment.parquet\n",
      "Loaded C:\\Users\\Dmitrijs\\Documents\\myDocs\\masters\\courses\\thesis\\code\\data\\keywords_2\\s1_qa_relevance_check\\scverse.scanpy.1.10.2.docs.parquet\n",
      "Loaded C:\\Users\\Dmitrijs\\Documents\\myDocs\\masters\\courses\\thesis\\code\\data\\keywords_2\\s1_qa_relevance_check\\scverse.scanpy.1.10.2.issue.from_200.parquet\n",
      "Loaded C:\\Users\\Dmitrijs\\Documents\\myDocs\\masters\\courses\\thesis\\code\\data\\keywords_2\\s1_qa_relevance_check\\scverse.scanpy.1.10.2.issue.from_220.parquet\n",
      "Loaded C:\\Users\\Dmitrijs\\Documents\\myDocs\\masters\\courses\\thesis\\code\\data\\keywords_2\\s1_qa_relevance_check\\scverse.scanpy.1.10.2.issue.parquet\n",
      "Loaded C:\\Users\\Dmitrijs\\Documents\\myDocs\\masters\\courses\\thesis\\code\\data\\keywords_2\\s1_qa_relevance_check\\scverse.scanpy.1.10.2.issue_comment.0.from_40.parquet\n",
      "Loaded C:\\Users\\Dmitrijs\\Documents\\myDocs\\masters\\courses\\thesis\\code\\data\\keywords_2\\s1_qa_relevance_check\\scverse.scanpy.1.10.2.issue_comment.0.parquet\n",
      "Loaded C:\\Users\\Dmitrijs\\Documents\\myDocs\\masters\\courses\\thesis\\code\\data\\keywords_2\\s1_qa_relevance_check\\scverse.scanpy.1.10.2.issue_comment.1.from_115.parquet\n",
      "Loaded C:\\Users\\Dmitrijs\\Documents\\myDocs\\masters\\courses\\thesis\\code\\data\\keywords_2\\s1_qa_relevance_check\\scverse.scanpy.1.10.2.issue_comment.1.from_50.parquet\n",
      "Loaded C:\\Users\\Dmitrijs\\Documents\\myDocs\\masters\\courses\\thesis\\code\\data\\keywords_2\\s1_qa_relevance_check\\scverse.scanpy.1.10.2.issue_comment.1.from_75.parquet\n",
      "Loaded C:\\Users\\Dmitrijs\\Documents\\myDocs\\masters\\courses\\thesis\\code\\data\\keywords_2\\s1_qa_relevance_check\\scverse.scanpy.1.10.2.issue_comment.1.parquet\n",
      "Loaded C:\\Users\\Dmitrijs\\Documents\\myDocs\\masters\\courses\\thesis\\code\\data\\keywords_2\\s1_qa_relevance_check\\scverse.scanpy.1.10.2.issue_comment.2.parquet\n",
      "Loaded C:\\Users\\Dmitrijs\\Documents\\myDocs\\masters\\courses\\thesis\\code\\data\\keywords_2\\s1_qa_relevance_check\\scverse.scanpy.1.10.2.issue_comment.3.from_200.parquet\n",
      "Loaded C:\\Users\\Dmitrijs\\Documents\\myDocs\\masters\\courses\\thesis\\code\\data\\keywords_2\\s1_qa_relevance_check\\scverse.scanpy.1.10.2.issue_comment.3.from_220.parquet\n",
      "Loaded C:\\Users\\Dmitrijs\\Documents\\myDocs\\masters\\courses\\thesis\\code\\data\\keywords_2\\s1_qa_relevance_check\\scverse.scanpy.1.10.2.issue_comment.3.parquet\n",
      "Loaded C:\\Users\\Dmitrijs\\Documents\\myDocs\\masters\\courses\\thesis\\code\\data\\keywords_2\\s1_qa_relevance_check\\scverse.scanpy.1.10.2.wiki.from_40.parquet\n",
      "Loaded C:\\Users\\Dmitrijs\\Documents\\myDocs\\masters\\courses\\thesis\\code\\data\\keywords_2\\s1_qa_relevance_check\\scverse.scanpy.1.10.2.wiki.parquet\n"
     ]
    },
    {
     "data": {
      "text/plain": [
       "(30201, 9)"
      ]
     },
     "execution_count": 15,
     "metadata": {},
     "output_type": "execute_result"
    }
   ],
   "execution_count": 15
  },
  {
   "metadata": {
    "ExecuteTime": {
     "end_time": "2025-08-12T19:35:19.139295Z",
     "start_time": "2025-08-12T19:35:19.126242Z"
    }
   },
   "cell_type": "code",
   "source": "current_stage_cfg.get_columns()",
   "id": "6e1ab9173c2e5efc",
   "outputs": [
    {
     "data": {
      "text/plain": [
       "['s1_true_positive', 's1_reasoning']"
      ]
     },
     "execution_count": 16,
     "metadata": {},
     "output_type": "execute_result"
    }
   ],
   "execution_count": 16
  },
  {
   "metadata": {
    "ExecuteTime": {
     "end_time": "2025-08-12T19:35:31.470896Z",
     "start_time": "2025-08-12T19:35:31.363054Z"
    }
   },
   "cell_type": "code",
   "source": [
    "for col in current_stage_cfg.get_columns():\n",
    "    try:\n",
    "        df = df[df[col].str.len() > 0]\n",
    "    except:\n",
    "        pass\n",
    "df.shape"
   ],
   "id": "72e7cbc364faa99b",
   "outputs": [
    {
     "data": {
      "text/plain": [
       "(30192, 9)"
      ]
     },
     "execution_count": 17,
     "metadata": {},
     "output_type": "execute_result"
    }
   ],
   "execution_count": 17
  },
  {
   "metadata": {
    "ExecuteTime": {
     "end_time": "2025-08-12T19:35:47.341239Z",
     "start_time": "2025-08-12T19:35:47.327791Z"
    }
   },
   "cell_type": "code",
   "source": "sample_size = 384",
   "id": "cd87caaffc7ec3d4",
   "outputs": [],
   "execution_count": 20
  },
  {
   "metadata": {
    "ExecuteTime": {
     "end_time": "2025-08-12T10:30:03.388829Z",
     "start_time": "2025-08-12T10:30:03.383645Z"
    }
   },
   "cell_type": "code",
   "source": [
    "# fake\n",
    "sample_size = df.shape[0]"
   ],
   "id": "1c49ae8d58eb9687",
   "outputs": [],
   "execution_count": 10
  },
  {
   "metadata": {
    "ExecuteTime": {
     "end_time": "2025-08-12T19:35:49.697236Z",
     "start_time": "2025-08-12T19:35:49.532269Z"
    }
   },
   "cell_type": "code",
   "source": [
    "out_path.parent.mkdir(exist_ok=True)\n",
    "df.sample(sample_size).to_csv(out_path)\n"
   ],
   "id": "470849004c1ffaa5",
   "outputs": [],
   "execution_count": 21
  },
  {
   "metadata": {
    "ExecuteTime": {
     "end_time": "2025-08-12T10:30:06.805211Z",
     "start_time": "2025-08-12T10:30:06.703391Z"
    }
   },
   "cell_type": "code",
   "source": [
    "n_parts = 5\n",
    "split_file(out_path, n_parts, CSVDFHandler())"
   ],
   "id": "a9ddfa1b3cf92618",
   "outputs": [],
   "execution_count": 12
  },
  {
   "metadata": {
    "ExecuteTime": {
     "end_time": "2025-08-09T19:22:44.667630Z",
     "start_time": "2025-08-09T19:22:44.664518Z"
    }
   },
   "cell_type": "code",
   "source": "",
   "id": "624b23c47358c5c6",
   "outputs": [],
   "execution_count": null
  }
 ],
 "metadata": {
  "kernelspec": {
   "display_name": "Python 3",
   "language": "python",
   "name": "python3"
  },
  "language_info": {
   "codemirror_mode": {
    "name": "ipython",
    "version": 2
   },
   "file_extension": ".py",
   "mimetype": "text/x-python",
   "name": "python",
   "nbconvert_exporter": "python",
   "pygments_lexer": "ipython2",
   "version": "2.7.6"
  }
 },
 "nbformat": 4,
 "nbformat_minor": 5
}

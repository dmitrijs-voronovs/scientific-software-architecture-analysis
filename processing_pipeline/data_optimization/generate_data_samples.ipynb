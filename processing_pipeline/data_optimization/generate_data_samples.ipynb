{
 "cells": [
  {
   "metadata": {
    "collapsed": true,
    "ExecuteTime": {
     "end_time": "2025-08-10T09:58:45.896986Z",
     "start_time": "2025-08-10T09:58:45.861993Z"
    }
   },
   "cell_type": "code",
   "source": [
    "from constants.abs_paths import AbsDirPath\n",
    "from processing_pipeline.model.CSVDFHandler import CSVDFHandler\n",
    "from processing_pipeline.utilities.data_transformation import load_all_files\n",
    "from utilities.csv.split_file_into_n_parts import split_file"
   ],
   "id": "initial_id",
   "outputs": [],
   "execution_count": 37
  },
  {
   "metadata": {
    "ExecuteTime": {
     "end_time": "2025-08-10T09:59:54.434446Z",
     "start_time": "2025-08-10T09:59:54.408318Z"
    }
   },
   "cell_type": "code",
   "source": [
    "from processing_pipeline.data_optimization.stage_cfg import S0NoiseFiltering\n",
    "\n",
    "current_stage_cfg = S0NoiseFiltering\n",
    "current_stage_cfg"
   ],
   "id": "ba8a53e2fb1d70fb",
   "outputs": [
    {
     "data": {
      "text/plain": [
       "StageConfig(name='s0', depends_on_fields=['sentence'], resulting_fields=['to_eliminate', 'reasoning'], in_dir=WindowsPath('C:/Users/Dmitrijs/Documents/myDocs/masters/courses/thesis/code/data/keywords/s0_noise_filtering'), out_dir=WindowsPath('C:/Users/Dmitrijs/Documents/myDocs/masters/courses/thesis/code/data/keywords/s0_noise_filtering_o'), boolean_field_name='to_eliminate', next_stage=StageConfig(name='s1', depends_on_fields=['qa', 'sentence'], resulting_fields=['true_positive', 'reasoning'], in_dir=WindowsPath('C:/Users/Dmitrijs/Documents/myDocs/masters/courses/thesis/code/data/keywords/s1_qa_relevance_check'), out_dir=WindowsPath('C:/Users/Dmitrijs/Documents/myDocs/masters/courses/thesis/code/data/keywords/s1_qa_relevance_check_o'), boolean_field_name='true_positive', next_stage=StageConfig(name='s2', depends_on_fields=['sentence'], resulting_fields=['related_to_arch', 'reasoning'], in_dir=WindowsPath('C:/Users/Dmitrijs/Documents/myDocs/masters/courses/thesis/code/data/keywords/s2_arch_relevance_check'), out_dir=WindowsPath('C:/Users/Dmitrijs/Documents/myDocs/masters/courses/thesis/code/data/keywords/s2_arch_relevance_check_o'), boolean_field_name='related_to_arch', next_stage=StageConfig(name='s3', depends_on_fields=['qa', 'sentence'], resulting_fields=['tactic', 'response'], in_dir=WindowsPath('C:/Users/Dmitrijs/Documents/myDocs/masters/courses/thesis/code/data/keywords/s3_tactic_extraction'), out_dir=None, boolean_field_name=None, next_stage=None, _apply_filters=<function <lambda> at 0x000001906964C900>, _on_load=<function StageConfig.<lambda>.<locals>.<lambda> at 0x0000019069682CA0>), _apply_filters=<function <lambda> at 0x0000019069682D40>, _on_load=<function StageConfig.<lambda>.<locals>.<lambda> at 0x0000019069682DE0>), _apply_filters=<function <lambda> at 0x0000019069682E80>, _on_load=<function StageConfig.<lambda>.<locals>.<lambda> at 0x0000019069682F20>), _apply_filters=<function <lambda> at 0x0000019069682FC0>, _on_load=<function StageConfig.<lambda>.<locals>.<lambda> at 0x0000019069683060>)"
      ]
     },
     "execution_count": 39,
     "metadata": {},
     "output_type": "execute_result"
    }
   ],
   "execution_count": 39
  },
  {
   "metadata": {
    "ExecuteTime": {
     "end_time": "2025-08-09T19:22:40.497788Z",
     "start_time": "2025-08-09T19:22:40.491755Z"
    }
   },
   "cell_type": "code",
   "source": [
    "current_stage_cfg = current_stage_cfg.next_stage\n",
    "current_stage_cfg"
   ],
   "id": "ca66f831a953ea06",
   "outputs": [
    {
     "data": {
      "text/plain": [
       "StageConfig(name='s3', depends_on_fields=['qa', 'sentence'], resulting_fields=['tactic', 'response'], in_dir=WindowsPath('C:/Users/Dmitrijs/Documents/myDocs/masters/courses/thesis/code/data/keywords/s3_tactic_extraction'), out_dir=None, boolean_field_name=None, next_stage=None, _apply_filters=<function <lambda> at 0x000001906964C900>, _on_load=<function StageConfig.<lambda>.<locals>.<lambda> at 0x0000019069682CA0>)"
      ]
     },
     "execution_count": 28,
     "metadata": {},
     "output_type": "execute_result"
    }
   ],
   "execution_count": 28
  },
  {
   "metadata": {
    "ExecuteTime": {
     "end_time": "2025-08-10T10:00:23.300796Z",
     "start_time": "2025-08-10T10:00:23.288929Z"
    }
   },
   "cell_type": "code",
   "source": [
    "in_dir = current_stage_cfg.in_dir\n",
    "out_path = AbsDirPath.SAMPLES / (current_stage_cfg.name + \".csv\")\n",
    "in_dir, out_path"
   ],
   "id": "18242f710f1bddf8",
   "outputs": [
    {
     "data": {
      "text/plain": [
       "(WindowsPath('C:/Users/Dmitrijs/Documents/myDocs/masters/courses/thesis/code/data/keywords/s0_noise_filtering'),\n",
       " WindowsPath('C:/Users/Dmitrijs/Documents/myDocs/masters/courses/thesis/code/data/samples/s0.csv'))"
      ]
     },
     "execution_count": 41,
     "metadata": {},
     "output_type": "execute_result"
    }
   ],
   "execution_count": 41
  },
  {
   "metadata": {
    "ExecuteTime": {
     "end_time": "2025-08-09T19:22:44.424228Z",
     "start_time": "2025-08-09T19:22:43.118492Z"
    }
   },
   "cell_type": "code",
   "source": [
    "df = load_all_files(in_dir)\n",
    "df.shape"
   ],
   "id": "f14fc960dc5c08b2",
   "outputs": [
    {
     "name": "stdout",
     "output_type": "stream",
     "text": [
      "Loaded C:\\Users\\Dmitrijs\\Documents\\myDocs\\masters\\courses\\thesis\\code\\data\\keywords\\s3_tactic_extraction\\allenai.scispacy.v0.5.5.code_comment.parquet\n",
      "Loaded C:\\Users\\Dmitrijs\\Documents\\myDocs\\masters\\courses\\thesis\\code\\data\\keywords\\s3_tactic_extraction\\allenai.scispacy.v0.5.5.docs.parquet\n",
      "Loaded C:\\Users\\Dmitrijs\\Documents\\myDocs\\masters\\courses\\thesis\\code\\data\\keywords\\s3_tactic_extraction\\allenai.scispacy.v0.5.5.issue.parquet\n",
      "Loaded C:\\Users\\Dmitrijs\\Documents\\myDocs\\masters\\courses\\thesis\\code\\data\\keywords\\s3_tactic_extraction\\allenai.scispacy.v0.5.5.issue_comment.parquet\n",
      "Loaded C:\\Users\\Dmitrijs\\Documents\\myDocs\\masters\\courses\\thesis\\code\\data\\keywords\\s3_tactic_extraction\\google.deepvariant.v1.6.1.code_comment.parquet\n",
      "Loaded C:\\Users\\Dmitrijs\\Documents\\myDocs\\masters\\courses\\thesis\\code\\data\\keywords\\s3_tactic_extraction\\google.deepvariant.v1.6.1.docs.parquet\n",
      "Loaded C:\\Users\\Dmitrijs\\Documents\\myDocs\\masters\\courses\\thesis\\code\\data\\keywords\\s3_tactic_extraction\\google.deepvariant.v1.6.1.issue.parquet\n",
      "Loaded C:\\Users\\Dmitrijs\\Documents\\myDocs\\masters\\courses\\thesis\\code\\data\\keywords\\s3_tactic_extraction\\google.deepvariant.v1.6.1.issue_comment.parquet\n",
      "Loaded C:\\Users\\Dmitrijs\\Documents\\myDocs\\masters\\courses\\thesis\\code\\data\\keywords\\s3_tactic_extraction\\google.deepvariant.v1.6.1.release.parquet\n",
      "Loaded C:\\Users\\Dmitrijs\\Documents\\myDocs\\masters\\courses\\thesis\\code\\data\\keywords\\s3_tactic_extraction\\OpenGene.fastp.v0.23.4.code_comment.parquet\n",
      "Loaded C:\\Users\\Dmitrijs\\Documents\\myDocs\\masters\\courses\\thesis\\code\\data\\keywords\\s3_tactic_extraction\\OpenGene.fastp.v0.23.4.docs.parquet\n",
      "Loaded C:\\Users\\Dmitrijs\\Documents\\myDocs\\masters\\courses\\thesis\\code\\data\\keywords\\s3_tactic_extraction\\OpenGene.fastp.v0.23.4.issue.parquet\n",
      "Loaded C:\\Users\\Dmitrijs\\Documents\\myDocs\\masters\\courses\\thesis\\code\\data\\keywords\\s3_tactic_extraction\\OpenGene.fastp.v0.23.4.issue_comment.parquet\n",
      "Loaded C:\\Users\\Dmitrijs\\Documents\\myDocs\\masters\\courses\\thesis\\code\\data\\keywords\\s3_tactic_extraction\\root-project.root.v6-32-06.code_comment.parquet\n",
      "Loaded C:\\Users\\Dmitrijs\\Documents\\myDocs\\masters\\courses\\thesis\\code\\data\\keywords\\s3_tactic_extraction\\root-project.root.v6-32-06.docs.0.parquet\n",
      "Loaded C:\\Users\\Dmitrijs\\Documents\\myDocs\\masters\\courses\\thesis\\code\\data\\keywords\\s3_tactic_extraction\\root-project.root.v6-32-06.docs.1.parquet\n",
      "Loaded C:\\Users\\Dmitrijs\\Documents\\myDocs\\masters\\courses\\thesis\\code\\data\\keywords\\s3_tactic_extraction\\root-project.root.v6-32-06.docs.2.parquet\n",
      "Loaded C:\\Users\\Dmitrijs\\Documents\\myDocs\\masters\\courses\\thesis\\code\\data\\keywords\\s3_tactic_extraction\\root-project.root.v6-32-06.docs.3.parquet\n",
      "Loaded C:\\Users\\Dmitrijs\\Documents\\myDocs\\masters\\courses\\thesis\\code\\data\\keywords\\s3_tactic_extraction\\root-project.root.v6-32-06.docs.4.parquet\n",
      "Loaded C:\\Users\\Dmitrijs\\Documents\\myDocs\\masters\\courses\\thesis\\code\\data\\keywords\\s3_tactic_extraction\\root-project.root.v6-32-06.docs.5.parquet\n",
      "Loaded C:\\Users\\Dmitrijs\\Documents\\myDocs\\masters\\courses\\thesis\\code\\data\\keywords\\s3_tactic_extraction\\root-project.root.v6-32-06.docs.6.parquet\n",
      "Loaded C:\\Users\\Dmitrijs\\Documents\\myDocs\\masters\\courses\\thesis\\code\\data\\keywords\\s3_tactic_extraction\\root-project.root.v6-32-06.issue.parquet\n",
      "Loaded C:\\Users\\Dmitrijs\\Documents\\myDocs\\masters\\courses\\thesis\\code\\data\\keywords\\s3_tactic_extraction\\root-project.root.v6-32-06.issue_comment.parquet\n",
      "Loaded C:\\Users\\Dmitrijs\\Documents\\myDocs\\masters\\courses\\thesis\\code\\data\\keywords\\s3_tactic_extraction\\root-project.root.v6-32-06.release.parquet\n",
      "Loaded C:\\Users\\Dmitrijs\\Documents\\myDocs\\masters\\courses\\thesis\\code\\data\\keywords\\s3_tactic_extraction\\root-project.root.v6-32-06.wiki.parquet\n",
      "Loaded C:\\Users\\Dmitrijs\\Documents\\myDocs\\masters\\courses\\thesis\\code\\data\\keywords\\s3_tactic_extraction\\scverse.scanpy.1.10.2.code_comment.parquet\n",
      "Loaded C:\\Users\\Dmitrijs\\Documents\\myDocs\\masters\\courses\\thesis\\code\\data\\keywords\\s3_tactic_extraction\\scverse.scanpy.1.10.2.docs.parquet\n",
      "Loaded C:\\Users\\Dmitrijs\\Documents\\myDocs\\masters\\courses\\thesis\\code\\data\\keywords\\s3_tactic_extraction\\scverse.scanpy.1.10.2.issue.parquet\n",
      "Loaded C:\\Users\\Dmitrijs\\Documents\\myDocs\\masters\\courses\\thesis\\code\\data\\keywords\\s3_tactic_extraction\\scverse.scanpy.1.10.2.issue_comment.parquet\n",
      "Loaded C:\\Users\\Dmitrijs\\Documents\\myDocs\\masters\\courses\\thesis\\code\\data\\keywords\\s3_tactic_extraction\\scverse.scanpy.1.10.2.wiki.parquet\n"
     ]
    },
    {
     "data": {
      "text/plain": [
       "(60229, 5)"
      ]
     },
     "execution_count": 30,
     "metadata": {},
     "output_type": "execute_result"
    }
   ],
   "execution_count": 30
  },
  {
   "metadata": {
    "ExecuteTime": {
     "end_time": "2025-08-09T19:22:44.445552Z",
     "start_time": "2025-08-09T19:22:44.438405Z"
    }
   },
   "cell_type": "code",
   "source": "current_stage_cfg.get_columns()",
   "id": "6e1ab9173c2e5efc",
   "outputs": [
    {
     "data": {
      "text/plain": [
       "['s3_tactic', 's3_response']"
      ]
     },
     "execution_count": 31,
     "metadata": {},
     "output_type": "execute_result"
    }
   ],
   "execution_count": 31
  },
  {
   "metadata": {
    "ExecuteTime": {
     "end_time": "2025-08-09T19:22:44.516799Z",
     "start_time": "2025-08-09T19:22:44.460603Z"
    }
   },
   "cell_type": "code",
   "source": [
    "for col in current_stage_cfg.get_columns():\n",
    "    try:\n",
    "        df = df[df[col].str.len() > 0]\n",
    "    except:\n",
    "        pass\n",
    "df.shape"
   ],
   "id": "72e7cbc364faa99b",
   "outputs": [
    {
     "data": {
      "text/plain": [
       "(60229, 5)"
      ]
     },
     "execution_count": 32,
     "metadata": {},
     "output_type": "execute_result"
    }
   ],
   "execution_count": 32
  },
  {
   "metadata": {
    "ExecuteTime": {
     "end_time": "2025-08-09T19:22:44.534972Z",
     "start_time": "2025-08-09T19:22:44.529616Z"
    }
   },
   "cell_type": "code",
   "source": "sample_size = 384",
   "id": "cd87caaffc7ec3d4",
   "outputs": [],
   "execution_count": 33
  },
  {
   "metadata": {
    "ExecuteTime": {
     "end_time": "2025-08-09T19:22:44.552138Z",
     "start_time": "2025-08-09T19:22:44.547952Z"
    }
   },
   "cell_type": "code",
   "source": [
    "# fake\n",
    "# sample_size = df.shape[0]"
   ],
   "id": "1c49ae8d58eb9687",
   "outputs": [],
   "execution_count": 34
  },
  {
   "metadata": {
    "ExecuteTime": {
     "end_time": "2025-08-09T19:22:44.626383Z",
     "start_time": "2025-08-09T19:22:44.566155Z"
    }
   },
   "cell_type": "code",
   "source": [
    "out_path.parent.mkdir(exist_ok=True)\n",
    "df.sample(sample_size).to_csv(out_path)\n"
   ],
   "id": "470849004c1ffaa5",
   "outputs": [],
   "execution_count": 35
  },
  {
   "metadata": {
    "ExecuteTime": {
     "end_time": "2025-08-10T10:00:27.060279Z",
     "start_time": "2025-08-10T10:00:26.745944Z"
    }
   },
   "cell_type": "code",
   "source": [
    "n_parts = 5\n",
    "split_file(out_path, n_parts, CSVDFHandler())"
   ],
   "id": "a9ddfa1b3cf92618",
   "outputs": [],
   "execution_count": 42
  },
  {
   "metadata": {
    "ExecuteTime": {
     "end_time": "2025-08-09T19:22:44.667630Z",
     "start_time": "2025-08-09T19:22:44.664518Z"
    }
   },
   "cell_type": "code",
   "source": "",
   "id": "624b23c47358c5c6",
   "outputs": [],
   "execution_count": null
  }
 ],
 "metadata": {
  "kernelspec": {
   "display_name": "Python 3",
   "language": "python",
   "name": "python3"
  },
  "language_info": {
   "codemirror_mode": {
    "name": "ipython",
    "version": 2
   },
   "file_extension": ".py",
   "mimetype": "text/x-python",
   "name": "python",
   "nbconvert_exporter": "python",
   "pygments_lexer": "ipython2",
   "version": "2.7.6"
  }
 },
 "nbformat": 4,
 "nbformat_minor": 5
}

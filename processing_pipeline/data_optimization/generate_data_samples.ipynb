{
 "cells": [
  {
   "metadata": {
    "collapsed": true,
    "ExecuteTime": {
     "end_time": "2025-07-24T07:26:39.731292Z",
     "start_time": "2025-07-24T07:26:39.220505Z"
    }
   },
   "cell_type": "code",
   "source": [
    "from constants.abs_paths import AbsDirPath\n",
    "from processing_pipeline.utilities.data_transformation import load_all_files"
   ],
   "id": "initial_id",
   "outputs": [],
   "execution_count": 1
  },
  {
   "metadata": {
    "ExecuteTime": {
     "end_time": "2025-07-24T07:26:39.744337Z",
     "start_time": "2025-07-24T07:26:39.735316Z"
    }
   },
   "cell_type": "code",
   "source": [
    "from processing_pipeline.data_optimization.stage_cfg import S0NoiseFiltering\n",
    "\n",
    "current_stage_cfg = S0NoiseFiltering"
   ],
   "id": "ba8a53e2fb1d70fb",
   "outputs": [],
   "execution_count": 2
  },
  {
   "metadata": {
    "ExecuteTime": {
     "end_time": "2025-07-24T07:26:44.979809Z",
     "start_time": "2025-07-24T07:26:44.973102Z"
    }
   },
   "cell_type": "code",
   "source": [
    "current_stage_cfg = current_stage_cfg.next_stage\n",
    "current_stage_cfg"
   ],
   "id": "ca66f831a953ea06",
   "outputs": [
    {
     "data": {
      "text/plain": [
       "StageConfig(name='s1', depends_on_fields=['qa', 'sentence'], resulting_fields=['true_positive', 'reasoning'], data_dir=WindowsPath('C:/Users/Dmitrijs/Documents/myDocs/masters/courses/thesis/code/data/keywords/s1_qa_relevance_check'), boolean_field_name='true_positive', next_stage=StageConfig(name='s2', depends_on_fields=['sentence'], resulting_fields=['related_to_arch', 'reasoning'], data_dir=WindowsPath('C:/Users/Dmitrijs/Documents/myDocs/masters/courses/thesis/code/data/keywords/s2_arch_relevance_check'), boolean_field_name='related_to_arch', next_stage=StageConfig(name='s3', depends_on_fields=['sentence'], resulting_fields=['tactic', 'response'], data_dir=WindowsPath('C:/Users/Dmitrijs/Documents/myDocs/masters/courses/thesis/code/data/keywords/s3_tactic_extraction'), boolean_field_name=None, next_stage=None)))"
      ]
     },
     "execution_count": 3,
     "metadata": {},
     "output_type": "execute_result"
    }
   ],
   "execution_count": 3
  },
  {
   "metadata": {
    "collapsed": true,
    "ExecuteTime": {
     "end_time": "2025-07-24T07:27:00.226690Z",
     "start_time": "2025-07-24T07:26:55.458910Z"
    }
   },
   "cell_type": "code",
   "source": [
    "in_dir = current_stage_cfg.data_dir\n",
    "out_path = AbsDirPath.SAMPLES / (current_stage_cfg.name + \".csv\")\n",
    "df = load_all_files(in_dir)"
   ],
   "id": "6b42e9f15c21a9b9",
   "outputs": [
    {
     "name": "stdout",
     "output_type": "stream",
     "text": [
      "Loaded C:\\Users\\Dmitrijs\\Documents\\myDocs\\masters\\courses\\thesis\\code\\data\\keywords\\s1_qa_relevance_check\\allenai.scispacy.v0.5.5.code_comment.parquet\n",
      "Loaded C:\\Users\\Dmitrijs\\Documents\\myDocs\\masters\\courses\\thesis\\code\\data\\keywords\\s1_qa_relevance_check\\allenai.scispacy.v0.5.5.docs.parquet\n",
      "Loaded C:\\Users\\Dmitrijs\\Documents\\myDocs\\masters\\courses\\thesis\\code\\data\\keywords\\s1_qa_relevance_check\\allenai.scispacy.v0.5.5.issue.parquet\n",
      "Loaded C:\\Users\\Dmitrijs\\Documents\\myDocs\\masters\\courses\\thesis\\code\\data\\keywords\\s1_qa_relevance_check\\allenai.scispacy.v0.5.5.issue_comment.parquet\n",
      "Loaded C:\\Users\\Dmitrijs\\Documents\\myDocs\\masters\\courses\\thesis\\code\\data\\keywords\\s1_qa_relevance_check\\allenai.scispacy.v0.5.5.release.parquet\n",
      "Loaded C:\\Users\\Dmitrijs\\Documents\\myDocs\\masters\\courses\\thesis\\code\\data\\keywords\\s1_qa_relevance_check\\google.deepvariant.v1.6.1.code_comment.parquet\n",
      "Loaded C:\\Users\\Dmitrijs\\Documents\\myDocs\\masters\\courses\\thesis\\code\\data\\keywords\\s1_qa_relevance_check\\google.deepvariant.v1.6.1.docs.parquet\n",
      "Loaded C:\\Users\\Dmitrijs\\Documents\\myDocs\\masters\\courses\\thesis\\code\\data\\keywords\\s1_qa_relevance_check\\google.deepvariant.v1.6.1.issue.parquet\n",
      "Loaded C:\\Users\\Dmitrijs\\Documents\\myDocs\\masters\\courses\\thesis\\code\\data\\keywords\\s1_qa_relevance_check\\google.deepvariant.v1.6.1.issue_comment.0.parquet\n",
      "Loaded C:\\Users\\Dmitrijs\\Documents\\myDocs\\masters\\courses\\thesis\\code\\data\\keywords\\s1_qa_relevance_check\\google.deepvariant.v1.6.1.issue_comment.1.parquet\n",
      "Loaded C:\\Users\\Dmitrijs\\Documents\\myDocs\\masters\\courses\\thesis\\code\\data\\keywords\\s1_qa_relevance_check\\google.deepvariant.v1.6.1.issue_comment.2.parquet\n",
      "Loaded C:\\Users\\Dmitrijs\\Documents\\myDocs\\masters\\courses\\thesis\\code\\data\\keywords\\s1_qa_relevance_check\\google.deepvariant.v1.6.1.release.parquet\n",
      "Loaded C:\\Users\\Dmitrijs\\Documents\\myDocs\\masters\\courses\\thesis\\code\\data\\keywords\\s1_qa_relevance_check\\OpenGene.fastp.v0.23.4.code_comment.parquet\n",
      "Loaded C:\\Users\\Dmitrijs\\Documents\\myDocs\\masters\\courses\\thesis\\code\\data\\keywords\\s1_qa_relevance_check\\OpenGene.fastp.v0.23.4.docs.parquet\n",
      "Loaded C:\\Users\\Dmitrijs\\Documents\\myDocs\\masters\\courses\\thesis\\code\\data\\keywords\\s1_qa_relevance_check\\OpenGene.fastp.v0.23.4.issue.parquet\n",
      "Loaded C:\\Users\\Dmitrijs\\Documents\\myDocs\\masters\\courses\\thesis\\code\\data\\keywords\\s1_qa_relevance_check\\OpenGene.fastp.v0.23.4.issue_comment.parquet\n",
      "Loaded C:\\Users\\Dmitrijs\\Documents\\myDocs\\masters\\courses\\thesis\\code\\data\\keywords\\s1_qa_relevance_check\\OpenGene.fastp.v0.23.4.release.parquet\n",
      "Loaded C:\\Users\\Dmitrijs\\Documents\\myDocs\\masters\\courses\\thesis\\code\\data\\keywords\\s1_qa_relevance_check\\root-project.root.v6-32-06.code_comment.00.parquet\n",
      "Loaded C:\\Users\\Dmitrijs\\Documents\\myDocs\\masters\\courses\\thesis\\code\\data\\keywords\\s1_qa_relevance_check\\root-project.root.v6-32-06.code_comment.01.parquet\n",
      "Loaded C:\\Users\\Dmitrijs\\Documents\\myDocs\\masters\\courses\\thesis\\code\\data\\keywords\\s1_qa_relevance_check\\root-project.root.v6-32-06.code_comment.02.parquet\n",
      "Loaded C:\\Users\\Dmitrijs\\Documents\\myDocs\\masters\\courses\\thesis\\code\\data\\keywords\\s1_qa_relevance_check\\root-project.root.v6-32-06.code_comment.03.parquet\n",
      "Loaded C:\\Users\\Dmitrijs\\Documents\\myDocs\\masters\\courses\\thesis\\code\\data\\keywords\\s1_qa_relevance_check\\root-project.root.v6-32-06.code_comment.04.parquet\n",
      "Loaded C:\\Users\\Dmitrijs\\Documents\\myDocs\\masters\\courses\\thesis\\code\\data\\keywords\\s1_qa_relevance_check\\root-project.root.v6-32-06.code_comment.05.parquet\n",
      "Loaded C:\\Users\\Dmitrijs\\Documents\\myDocs\\masters\\courses\\thesis\\code\\data\\keywords\\s1_qa_relevance_check\\root-project.root.v6-32-06.code_comment.06.parquet\n",
      "Loaded C:\\Users\\Dmitrijs\\Documents\\myDocs\\masters\\courses\\thesis\\code\\data\\keywords\\s1_qa_relevance_check\\root-project.root.v6-32-06.code_comment.07.parquet\n",
      "Loaded C:\\Users\\Dmitrijs\\Documents\\myDocs\\masters\\courses\\thesis\\code\\data\\keywords\\s1_qa_relevance_check\\root-project.root.v6-32-06.code_comment.08.parquet\n",
      "Loaded C:\\Users\\Dmitrijs\\Documents\\myDocs\\masters\\courses\\thesis\\code\\data\\keywords\\s1_qa_relevance_check\\root-project.root.v6-32-06.code_comment.09.parquet\n",
      "Loaded C:\\Users\\Dmitrijs\\Documents\\myDocs\\masters\\courses\\thesis\\code\\data\\keywords\\s1_qa_relevance_check\\root-project.root.v6-32-06.code_comment.10.parquet\n",
      "Loaded C:\\Users\\Dmitrijs\\Documents\\myDocs\\masters\\courses\\thesis\\code\\data\\keywords\\s1_qa_relevance_check\\root-project.root.v6-32-06.code_comment.11.parquet\n",
      "Loaded C:\\Users\\Dmitrijs\\Documents\\myDocs\\masters\\courses\\thesis\\code\\data\\keywords\\s1_qa_relevance_check\\root-project.root.v6-32-06.code_comment.12.parquet\n",
      "Loaded C:\\Users\\Dmitrijs\\Documents\\myDocs\\masters\\courses\\thesis\\code\\data\\keywords\\s1_qa_relevance_check\\root-project.root.v6-32-06.code_comment.13.parquet\n",
      "Loaded C:\\Users\\Dmitrijs\\Documents\\myDocs\\masters\\courses\\thesis\\code\\data\\keywords\\s1_qa_relevance_check\\root-project.root.v6-32-06.code_comment.14.parquet\n",
      "Loaded C:\\Users\\Dmitrijs\\Documents\\myDocs\\masters\\courses\\thesis\\code\\data\\keywords\\s1_qa_relevance_check\\root-project.root.v6-32-06.code_comment.15.parquet\n",
      "Loaded C:\\Users\\Dmitrijs\\Documents\\myDocs\\masters\\courses\\thesis\\code\\data\\keywords\\s1_qa_relevance_check\\root-project.root.v6-32-06.code_comment.16.parquet\n",
      "Loaded C:\\Users\\Dmitrijs\\Documents\\myDocs\\masters\\courses\\thesis\\code\\data\\keywords\\s1_qa_relevance_check\\root-project.root.v6-32-06.docs.00.parquet\n",
      "Loaded C:\\Users\\Dmitrijs\\Documents\\myDocs\\masters\\courses\\thesis\\code\\data\\keywords\\s1_qa_relevance_check\\root-project.root.v6-32-06.docs.01.parquet\n",
      "Loaded C:\\Users\\Dmitrijs\\Documents\\myDocs\\masters\\courses\\thesis\\code\\data\\keywords\\s1_qa_relevance_check\\root-project.root.v6-32-06.docs.02.parquet\n",
      "Loaded C:\\Users\\Dmitrijs\\Documents\\myDocs\\masters\\courses\\thesis\\code\\data\\keywords\\s1_qa_relevance_check\\root-project.root.v6-32-06.docs.03.parquet\n",
      "Loaded C:\\Users\\Dmitrijs\\Documents\\myDocs\\masters\\courses\\thesis\\code\\data\\keywords\\s1_qa_relevance_check\\root-project.root.v6-32-06.docs.04.parquet\n",
      "Loaded C:\\Users\\Dmitrijs\\Documents\\myDocs\\masters\\courses\\thesis\\code\\data\\keywords\\s1_qa_relevance_check\\root-project.root.v6-32-06.docs.05.parquet\n",
      "Loaded C:\\Users\\Dmitrijs\\Documents\\myDocs\\masters\\courses\\thesis\\code\\data\\keywords\\s1_qa_relevance_check\\root-project.root.v6-32-06.docs.06.parquet\n",
      "Loaded C:\\Users\\Dmitrijs\\Documents\\myDocs\\masters\\courses\\thesis\\code\\data\\keywords\\s1_qa_relevance_check\\root-project.root.v6-32-06.docs.07.parquet\n",
      "Loaded C:\\Users\\Dmitrijs\\Documents\\myDocs\\masters\\courses\\thesis\\code\\data\\keywords\\s1_qa_relevance_check\\root-project.root.v6-32-06.docs.08.parquet\n",
      "Loaded C:\\Users\\Dmitrijs\\Documents\\myDocs\\masters\\courses\\thesis\\code\\data\\keywords\\s1_qa_relevance_check\\root-project.root.v6-32-06.docs.09.parquet\n",
      "Loaded C:\\Users\\Dmitrijs\\Documents\\myDocs\\masters\\courses\\thesis\\code\\data\\keywords\\s1_qa_relevance_check\\root-project.root.v6-32-06.docs.10.parquet\n",
      "Loaded C:\\Users\\Dmitrijs\\Documents\\myDocs\\masters\\courses\\thesis\\code\\data\\keywords\\s1_qa_relevance_check\\root-project.root.v6-32-06.docs.11.parquet\n",
      "Loaded C:\\Users\\Dmitrijs\\Documents\\myDocs\\masters\\courses\\thesis\\code\\data\\keywords\\s1_qa_relevance_check\\root-project.root.v6-32-06.docs.12.parquet\n",
      "Loaded C:\\Users\\Dmitrijs\\Documents\\myDocs\\masters\\courses\\thesis\\code\\data\\keywords\\s1_qa_relevance_check\\root-project.root.v6-32-06.docs.13.parquet\n",
      "Loaded C:\\Users\\Dmitrijs\\Documents\\myDocs\\masters\\courses\\thesis\\code\\data\\keywords\\s1_qa_relevance_check\\root-project.root.v6-32-06.docs.14.parquet\n",
      "Loaded C:\\Users\\Dmitrijs\\Documents\\myDocs\\masters\\courses\\thesis\\code\\data\\keywords\\s1_qa_relevance_check\\root-project.root.v6-32-06.docs.15.parquet\n",
      "Loaded C:\\Users\\Dmitrijs\\Documents\\myDocs\\masters\\courses\\thesis\\code\\data\\keywords\\s1_qa_relevance_check\\root-project.root.v6-32-06.docs.16.parquet\n",
      "Loaded C:\\Users\\Dmitrijs\\Documents\\myDocs\\masters\\courses\\thesis\\code\\data\\keywords\\s1_qa_relevance_check\\root-project.root.v6-32-06.docs.17.parquet\n",
      "Loaded C:\\Users\\Dmitrijs\\Documents\\myDocs\\masters\\courses\\thesis\\code\\data\\keywords\\s1_qa_relevance_check\\root-project.root.v6-32-06.docs.18.parquet\n",
      "Loaded C:\\Users\\Dmitrijs\\Documents\\myDocs\\masters\\courses\\thesis\\code\\data\\keywords\\s1_qa_relevance_check\\root-project.root.v6-32-06.docs.19.parquet\n",
      "Loaded C:\\Users\\Dmitrijs\\Documents\\myDocs\\masters\\courses\\thesis\\code\\data\\keywords\\s1_qa_relevance_check\\root-project.root.v6-32-06.docs.20.parquet\n",
      "Loaded C:\\Users\\Dmitrijs\\Documents\\myDocs\\masters\\courses\\thesis\\code\\data\\keywords\\s1_qa_relevance_check\\root-project.root.v6-32-06.docs.21.parquet\n",
      "Loaded C:\\Users\\Dmitrijs\\Documents\\myDocs\\masters\\courses\\thesis\\code\\data\\keywords\\s1_qa_relevance_check\\root-project.root.v6-32-06.docs.22.parquet\n",
      "Loaded C:\\Users\\Dmitrijs\\Documents\\myDocs\\masters\\courses\\thesis\\code\\data\\keywords\\s1_qa_relevance_check\\root-project.root.v6-32-06.docs.23.parquet\n",
      "Loaded C:\\Users\\Dmitrijs\\Documents\\myDocs\\masters\\courses\\thesis\\code\\data\\keywords\\s1_qa_relevance_check\\root-project.root.v6-32-06.docs.24.parquet\n",
      "Loaded C:\\Users\\Dmitrijs\\Documents\\myDocs\\masters\\courses\\thesis\\code\\data\\keywords\\s1_qa_relevance_check\\root-project.root.v6-32-06.docs.25.parquet\n",
      "Loaded C:\\Users\\Dmitrijs\\Documents\\myDocs\\masters\\courses\\thesis\\code\\data\\keywords\\s1_qa_relevance_check\\root-project.root.v6-32-06.issue.0.parquet\n",
      "Loaded C:\\Users\\Dmitrijs\\Documents\\myDocs\\masters\\courses\\thesis\\code\\data\\keywords\\s1_qa_relevance_check\\root-project.root.v6-32-06.issue.1.parquet\n",
      "Loaded C:\\Users\\Dmitrijs\\Documents\\myDocs\\masters\\courses\\thesis\\code\\data\\keywords\\s1_qa_relevance_check\\root-project.root.v6-32-06.issue.2.parquet\n",
      "Loaded C:\\Users\\Dmitrijs\\Documents\\myDocs\\masters\\courses\\thesis\\code\\data\\keywords\\s1_qa_relevance_check\\root-project.root.v6-32-06.issue.3.parquet\n",
      "Loaded C:\\Users\\Dmitrijs\\Documents\\myDocs\\masters\\courses\\thesis\\code\\data\\keywords\\s1_qa_relevance_check\\root-project.root.v6-32-06.issue.4.parquet\n",
      "Loaded C:\\Users\\Dmitrijs\\Documents\\myDocs\\masters\\courses\\thesis\\code\\data\\keywords\\s1_qa_relevance_check\\root-project.root.v6-32-06.issue.5.parquet\n",
      "Loaded C:\\Users\\Dmitrijs\\Documents\\myDocs\\masters\\courses\\thesis\\code\\data\\keywords\\s1_qa_relevance_check\\root-project.root.v6-32-06.issue.6.parquet\n",
      "Loaded C:\\Users\\Dmitrijs\\Documents\\myDocs\\masters\\courses\\thesis\\code\\data\\keywords\\s1_qa_relevance_check\\root-project.root.v6-32-06.issue.7.parquet\n",
      "Loaded C:\\Users\\Dmitrijs\\Documents\\myDocs\\masters\\courses\\thesis\\code\\data\\keywords\\s1_qa_relevance_check\\root-project.root.v6-32-06.issue.8.parquet\n",
      "Loaded C:\\Users\\Dmitrijs\\Documents\\myDocs\\masters\\courses\\thesis\\code\\data\\keywords\\s1_qa_relevance_check\\root-project.root.v6-32-06.issue_comment.0.parquet\n",
      "Loaded C:\\Users\\Dmitrijs\\Documents\\myDocs\\masters\\courses\\thesis\\code\\data\\keywords\\s1_qa_relevance_check\\root-project.root.v6-32-06.issue_comment.1.parquet\n",
      "Loaded C:\\Users\\Dmitrijs\\Documents\\myDocs\\masters\\courses\\thesis\\code\\data\\keywords\\s1_qa_relevance_check\\root-project.root.v6-32-06.issue_comment.2.parquet\n",
      "Loaded C:\\Users\\Dmitrijs\\Documents\\myDocs\\masters\\courses\\thesis\\code\\data\\keywords\\s1_qa_relevance_check\\root-project.root.v6-32-06.issue_comment.3.parquet\n",
      "Loaded C:\\Users\\Dmitrijs\\Documents\\myDocs\\masters\\courses\\thesis\\code\\data\\keywords\\s1_qa_relevance_check\\root-project.root.v6-32-06.issue_comment.4.parquet\n",
      "Loaded C:\\Users\\Dmitrijs\\Documents\\myDocs\\masters\\courses\\thesis\\code\\data\\keywords\\s1_qa_relevance_check\\root-project.root.v6-32-06.issue_comment.5.parquet\n",
      "Loaded C:\\Users\\Dmitrijs\\Documents\\myDocs\\masters\\courses\\thesis\\code\\data\\keywords\\s1_qa_relevance_check\\root-project.root.v6-32-06.issue_comment.6.parquet\n",
      "Loaded C:\\Users\\Dmitrijs\\Documents\\myDocs\\masters\\courses\\thesis\\code\\data\\keywords\\s1_qa_relevance_check\\root-project.root.v6-32-06.release.parquet\n",
      "Loaded C:\\Users\\Dmitrijs\\Documents\\myDocs\\masters\\courses\\thesis\\code\\data\\keywords\\s1_qa_relevance_check\\root-project.root.v6-32-06.wiki.parquet\n",
      "Loaded C:\\Users\\Dmitrijs\\Documents\\myDocs\\masters\\courses\\thesis\\code\\data\\keywords\\s1_qa_relevance_check\\scverse.scanpy.1.10.2.code_comment.parquet\n",
      "Loaded C:\\Users\\Dmitrijs\\Documents\\myDocs\\masters\\courses\\thesis\\code\\data\\keywords\\s1_qa_relevance_check\\scverse.scanpy.1.10.2.docs.parquet\n",
      "Loaded C:\\Users\\Dmitrijs\\Documents\\myDocs\\masters\\courses\\thesis\\code\\data\\keywords\\s1_qa_relevance_check\\scverse.scanpy.1.10.2.issue.parquet\n",
      "Loaded C:\\Users\\Dmitrijs\\Documents\\myDocs\\masters\\courses\\thesis\\code\\data\\keywords\\s1_qa_relevance_check\\scverse.scanpy.1.10.2.issue_comment.0.parquet\n",
      "Loaded C:\\Users\\Dmitrijs\\Documents\\myDocs\\masters\\courses\\thesis\\code\\data\\keywords\\s1_qa_relevance_check\\scverse.scanpy.1.10.2.issue_comment.1.parquet\n",
      "Loaded C:\\Users\\Dmitrijs\\Documents\\myDocs\\masters\\courses\\thesis\\code\\data\\keywords\\s1_qa_relevance_check\\scverse.scanpy.1.10.2.issue_comment.2.parquet\n",
      "Loaded C:\\Users\\Dmitrijs\\Documents\\myDocs\\masters\\courses\\thesis\\code\\data\\keywords\\s1_qa_relevance_check\\scverse.scanpy.1.10.2.issue_comment.3.parquet\n",
      "Loaded C:\\Users\\Dmitrijs\\Documents\\myDocs\\masters\\courses\\thesis\\code\\data\\keywords\\s1_qa_relevance_check\\scverse.scanpy.1.10.2.wiki.parquet\n"
     ]
    }
   ],
   "execution_count": 4
  },
  {
   "metadata": {
    "ExecuteTime": {
     "end_time": "2025-07-24T07:27:28.714712Z",
     "start_time": "2025-07-24T07:27:28.710809Z"
    }
   },
   "cell_type": "code",
   "source": "sample_size = 384",
   "id": "1c49ae8d58eb9687",
   "outputs": [],
   "execution_count": 5
  },
  {
   "metadata": {
    "ExecuteTime": {
     "end_time": "2025-07-24T07:27:32.167990Z",
     "start_time": "2025-07-24T07:27:32.087985Z"
    }
   },
   "cell_type": "code",
   "source": [
    "out_path.parent.mkdir(exist_ok=True)\n",
    "df.sample(sample_size).to_csv(out_path)\n"
   ],
   "id": "470849004c1ffaa5",
   "outputs": [],
   "execution_count": 6
  },
  {
   "metadata": {},
   "cell_type": "code",
   "outputs": [],
   "execution_count": null,
   "source": "",
   "id": "a9ddfa1b3cf92618"
  }
 ],
 "metadata": {
  "kernelspec": {
   "display_name": "Python 3",
   "language": "python",
   "name": "python3"
  },
  "language_info": {
   "codemirror_mode": {
    "name": "ipython",
    "version": 2
   },
   "file_extension": ".py",
   "mimetype": "text/x-python",
   "name": "python",
   "nbconvert_exporter": "python",
   "pygments_lexer": "ipython2",
   "version": "2.7.6"
  }
 },
 "nbformat": 4,
 "nbformat_minor": 5
}

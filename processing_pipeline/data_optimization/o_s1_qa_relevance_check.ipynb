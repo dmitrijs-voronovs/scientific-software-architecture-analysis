{
 "cells": [
  {
   "metadata": {
    "collapsed": true,
    "ExecuteTime": {
     "end_time": "2025-07-11T19:23:17.921860Z",
     "start_time": "2025-07-11T19:23:16.767494Z"
    }
   },
   "cell_type": "code",
   "source": [
    "from constants.abs_paths import AbsDirPath\n",
    "from processing_pipeline.utilities.data_transformation import split_dataset_by_repo_and_source, load_all_files"
   ],
   "id": "initial_id",
   "outputs": [],
   "execution_count": 1
  },
  {
   "metadata": {
    "ExecuteTime": {
     "end_time": "2025-07-11T19:23:17.942327Z",
     "start_time": "2025-07-11T19:23:17.929603Z"
    }
   },
   "cell_type": "code",
   "source": [
    "from processing_pipeline.data_optimization.stage_cfg import S1QARelevance\n",
    "\n",
    "current_stage_cfg = S1QARelevance"
   ],
   "id": "ba8a53e2fb1d70fb",
   "outputs": [],
   "execution_count": 2
  },
  {
   "metadata": {
    "collapsed": true,
    "ExecuteTime": {
     "end_time": "2025-07-11T19:23:18.511496Z",
     "start_time": "2025-07-11T19:23:18.291580Z"
    }
   },
   "cell_type": "code",
   "source": [
    "in_dir = current_stage_cfg.data_dir\n",
    "out_dir = AbsDirPath.O_S1_QA_RELEVANCE_CHECK\n",
    "df = load_all_files(in_dir)"
   ],
   "id": "6b42e9f15c21a9b9",
   "outputs": [
    {
     "name": "stdout",
     "output_type": "stream",
     "text": [
      "Loaded C:\\Users\\Dmitrijs\\Documents\\myDocs\\masters\\courses\\thesis\\code\\data\\keywords\\s1_qa_relevance_check\\google.deepvariant.v1.6.1.code_comment.0.from_1220.parquet\n",
      "Loaded C:\\Users\\Dmitrijs\\Documents\\myDocs\\masters\\courses\\thesis\\code\\data\\keywords\\s1_qa_relevance_check\\google.deepvariant.v1.6.1.code_comment.0.from_1240.parquet\n",
      "Loaded C:\\Users\\Dmitrijs\\Documents\\myDocs\\masters\\courses\\thesis\\code\\data\\keywords\\s1_qa_relevance_check\\google.deepvariant.v1.6.1.code_comment.0.from_1290.parquet\n",
      "Loaded C:\\Users\\Dmitrijs\\Documents\\myDocs\\masters\\courses\\thesis\\code\\data\\keywords\\s1_qa_relevance_check\\google.deepvariant.v1.6.1.code_comment.0.from_1310.parquet\n",
      "Loaded C:\\Users\\Dmitrijs\\Documents\\myDocs\\masters\\courses\\thesis\\code\\data\\keywords\\s1_qa_relevance_check\\google.deepvariant.v1.6.1.code_comment.0.from_160.parquet\n",
      "Loaded C:\\Users\\Dmitrijs\\Documents\\myDocs\\masters\\courses\\thesis\\code\\data\\keywords\\s1_qa_relevance_check\\google.deepvariant.v1.6.1.code_comment.0.from_480.parquet\n",
      "Loaded C:\\Users\\Dmitrijs\\Documents\\myDocs\\masters\\courses\\thesis\\code\\data\\keywords\\s1_qa_relevance_check\\google.deepvariant.v1.6.1.code_comment.0.parquet\n",
      "Loaded C:\\Users\\Dmitrijs\\Documents\\myDocs\\masters\\courses\\thesis\\code\\data\\keywords\\s1_qa_relevance_check\\google.deepvariant.v1.6.1.code_comment.1.from_150.parquet\n",
      "Loaded C:\\Users\\Dmitrijs\\Documents\\myDocs\\masters\\courses\\thesis\\code\\data\\keywords\\s1_qa_relevance_check\\google.deepvariant.v1.6.1.code_comment.1.parquet\n",
      "Loaded C:\\Users\\Dmitrijs\\Documents\\myDocs\\masters\\courses\\thesis\\code\\data\\keywords\\s1_qa_relevance_check\\google.deepvariant.v1.6.1.code_comment.2.from_160.parquet\n",
      "Loaded C:\\Users\\Dmitrijs\\Documents\\myDocs\\masters\\courses\\thesis\\code\\data\\keywords\\s1_qa_relevance_check\\google.deepvariant.v1.6.1.code_comment.2.parquet\n",
      "Loaded C:\\Users\\Dmitrijs\\Documents\\myDocs\\masters\\courses\\thesis\\code\\data\\keywords\\s1_qa_relevance_check\\google.deepvariant.v1.6.1.code_comment.3.from_150.parquet\n",
      "Loaded C:\\Users\\Dmitrijs\\Documents\\myDocs\\masters\\courses\\thesis\\code\\data\\keywords\\s1_qa_relevance_check\\google.deepvariant.v1.6.1.code_comment.3.parquet\n",
      "Loaded C:\\Users\\Dmitrijs\\Documents\\myDocs\\masters\\courses\\thesis\\code\\data\\keywords\\s1_qa_relevance_check\\google.deepvariant.v1.6.1.docs.from_150.parquet\n",
      "Loaded C:\\Users\\Dmitrijs\\Documents\\myDocs\\masters\\courses\\thesis\\code\\data\\keywords\\s1_qa_relevance_check\\google.deepvariant.v1.6.1.docs.parquet\n"
     ]
    }
   ],
   "execution_count": 3
  },
  {
   "metadata": {
    "ExecuteTime": {
     "end_time": "2025-07-11T19:23:18.545973Z",
     "start_time": "2025-07-11T19:23:18.529080Z"
    }
   },
   "cell_type": "code",
   "source": "df.head()",
   "id": "30d22d9debbc434e",
   "outputs": [
    {
     "data": {
      "text/plain": [
       "              qa                                           sentence  \\\n",
       "0       security  If the actual genotype calls are compatible, w...   \n",
       "1         safety  The actual genotype calls produce an inconsist...   \n",
       "2  deployability  Otherwise, the actual genotype calls are incom...   \n",
       "3  deployability  Otherwise, the actual genotype calls are incom...   \n",
       "4  deployability  Otherwise, the actual genotype calls are incom...   \n",
       "\n",
       "   s1_true_positive                                       s1_reasoning  \n",
       "0              True  The content discusses whether genotype calls a...  \n",
       "1              True  The content discusses genotype calls and their...  \n",
       "2              True  The content discusses genotype calls and likel...  \n",
       "3              True  The content accurately describes how the algor...  \n",
       "4              True  The content accurately describes how the algor...  "
      ],
      "text/html": [
       "<div>\n",
       "<style scoped>\n",
       "    .dataframe tbody tr th:only-of-type {\n",
       "        vertical-align: middle;\n",
       "    }\n",
       "\n",
       "    .dataframe tbody tr th {\n",
       "        vertical-align: top;\n",
       "    }\n",
       "\n",
       "    .dataframe thead th {\n",
       "        text-align: right;\n",
       "    }\n",
       "</style>\n",
       "<table border=\"1\" class=\"dataframe\">\n",
       "  <thead>\n",
       "    <tr style=\"text-align: right;\">\n",
       "      <th></th>\n",
       "      <th>qa</th>\n",
       "      <th>sentence</th>\n",
       "      <th>s1_true_positive</th>\n",
       "      <th>s1_reasoning</th>\n",
       "    </tr>\n",
       "  </thead>\n",
       "  <tbody>\n",
       "    <tr>\n",
       "      <th>0</th>\n",
       "      <td>security</td>\n",
       "      <td>If the actual genotype calls are compatible, w...</td>\n",
       "      <td>True</td>\n",
       "      <td>The content discusses whether genotype calls a...</td>\n",
       "    </tr>\n",
       "    <tr>\n",
       "      <th>1</th>\n",
       "      <td>safety</td>\n",
       "      <td>The actual genotype calls produce an inconsist...</td>\n",
       "      <td>True</td>\n",
       "      <td>The content discusses genotype calls and their...</td>\n",
       "    </tr>\n",
       "    <tr>\n",
       "      <th>2</th>\n",
       "      <td>deployability</td>\n",
       "      <td>Otherwise, the actual genotype calls are incom...</td>\n",
       "      <td>True</td>\n",
       "      <td>The content discusses genotype calls and likel...</td>\n",
       "    </tr>\n",
       "    <tr>\n",
       "      <th>3</th>\n",
       "      <td>deployability</td>\n",
       "      <td>Otherwise, the actual genotype calls are incom...</td>\n",
       "      <td>True</td>\n",
       "      <td>The content accurately describes how the algor...</td>\n",
       "    </tr>\n",
       "    <tr>\n",
       "      <th>4</th>\n",
       "      <td>deployability</td>\n",
       "      <td>Otherwise, the actual genotype calls are incom...</td>\n",
       "      <td>True</td>\n",
       "      <td>The content accurately describes how the algor...</td>\n",
       "    </tr>\n",
       "  </tbody>\n",
       "</table>\n",
       "</div>"
      ]
     },
     "execution_count": 4,
     "metadata": {},
     "output_type": "execute_result"
    }
   ],
   "execution_count": 4
  },
  {
   "metadata": {
    "ExecuteTime": {
     "end_time": "2025-07-11T19:23:18.702492Z",
     "start_time": "2025-07-11T19:23:18.694026Z"
    }
   },
   "cell_type": "code",
   "source": "df.shape",
   "id": "e1dc1ccfe0b90786",
   "outputs": [
    {
     "data": {
      "text/plain": [
       "(2557, 4)"
      ]
     },
     "execution_count": 6,
     "metadata": {},
     "output_type": "execute_result"
    }
   ],
   "execution_count": 6
  },
  {
   "metadata": {},
   "cell_type": "markdown",
   "source": "## Join data from the current stage with the optimized dataset",
   "id": "7c1d7ac99a0d348"
  },
  {
   "metadata": {
    "ExecuteTime": {
     "end_time": "2025-07-11T19:23:32.132979Z",
     "start_time": "2025-07-11T19:23:18.752684Z"
    }
   },
   "cell_type": "code",
   "source": "df_main = load_all_files(AbsDirPath.O_KEYWORDS_MATCHING)",
   "id": "958eb88b94355e32",
   "outputs": [
    {
     "name": "stdout",
     "output_type": "stream",
     "text": [
      "Loaded C:\\Users\\Dmitrijs\\Documents\\myDocs\\masters\\courses\\thesis\\code\\data\\keywords\\matched_o\\allenai.scispacy.v0.5.5.code_comment.parquet\n",
      "Loaded C:\\Users\\Dmitrijs\\Documents\\myDocs\\masters\\courses\\thesis\\code\\data\\keywords\\matched_o\\allenai.scispacy.v0.5.5.docs.parquet\n",
      "Loaded C:\\Users\\Dmitrijs\\Documents\\myDocs\\masters\\courses\\thesis\\code\\data\\keywords\\matched_o\\allenai.scispacy.v0.5.5.issue.parquet\n",
      "Loaded C:\\Users\\Dmitrijs\\Documents\\myDocs\\masters\\courses\\thesis\\code\\data\\keywords\\matched_o\\allenai.scispacy.v0.5.5.issue_comment.parquet\n",
      "Loaded C:\\Users\\Dmitrijs\\Documents\\myDocs\\masters\\courses\\thesis\\code\\data\\keywords\\matched_o\\allenai.scispacy.v0.5.5.release.parquet\n",
      "Loaded C:\\Users\\Dmitrijs\\Documents\\myDocs\\masters\\courses\\thesis\\code\\data\\keywords\\matched_o\\google.deepvariant.v1.6.1.code_comment.parquet\n",
      "Loaded C:\\Users\\Dmitrijs\\Documents\\myDocs\\masters\\courses\\thesis\\code\\data\\keywords\\matched_o\\google.deepvariant.v1.6.1.docs.parquet\n",
      "Loaded C:\\Users\\Dmitrijs\\Documents\\myDocs\\masters\\courses\\thesis\\code\\data\\keywords\\matched_o\\google.deepvariant.v1.6.1.issue.0.parquet\n",
      "Loaded C:\\Users\\Dmitrijs\\Documents\\myDocs\\masters\\courses\\thesis\\code\\data\\keywords\\matched_o\\google.deepvariant.v1.6.1.issue.1.parquet\n",
      "Loaded C:\\Users\\Dmitrijs\\Documents\\myDocs\\masters\\courses\\thesis\\code\\data\\keywords\\matched_o\\google.deepvariant.v1.6.1.issue.2.parquet\n",
      "Loaded C:\\Users\\Dmitrijs\\Documents\\myDocs\\masters\\courses\\thesis\\code\\data\\keywords\\matched_o\\google.deepvariant.v1.6.1.issue.3.parquet\n",
      "Loaded C:\\Users\\Dmitrijs\\Documents\\myDocs\\masters\\courses\\thesis\\code\\data\\keywords\\matched_o\\google.deepvariant.v1.6.1.issue.4.parquet\n",
      "Loaded C:\\Users\\Dmitrijs\\Documents\\myDocs\\masters\\courses\\thesis\\code\\data\\keywords\\matched_o\\google.deepvariant.v1.6.1.issue.5.parquet\n",
      "Loaded C:\\Users\\Dmitrijs\\Documents\\myDocs\\masters\\courses\\thesis\\code\\data\\keywords\\matched_o\\google.deepvariant.v1.6.1.issue.6.parquet\n",
      "Loaded C:\\Users\\Dmitrijs\\Documents\\myDocs\\masters\\courses\\thesis\\code\\data\\keywords\\matched_o\\google.deepvariant.v1.6.1.issue_comment.0.parquet\n",
      "Loaded C:\\Users\\Dmitrijs\\Documents\\myDocs\\masters\\courses\\thesis\\code\\data\\keywords\\matched_o\\google.deepvariant.v1.6.1.issue_comment.1.parquet\n",
      "Loaded C:\\Users\\Dmitrijs\\Documents\\myDocs\\masters\\courses\\thesis\\code\\data\\keywords\\matched_o\\google.deepvariant.v1.6.1.issue_comment.2.parquet\n",
      "Loaded C:\\Users\\Dmitrijs\\Documents\\myDocs\\masters\\courses\\thesis\\code\\data\\keywords\\matched_o\\google.deepvariant.v1.6.1.issue_comment.3.parquet\n",
      "Loaded C:\\Users\\Dmitrijs\\Documents\\myDocs\\masters\\courses\\thesis\\code\\data\\keywords\\matched_o\\google.deepvariant.v1.6.1.issue_comment.4.parquet\n",
      "Loaded C:\\Users\\Dmitrijs\\Documents\\myDocs\\masters\\courses\\thesis\\code\\data\\keywords\\matched_o\\google.deepvariant.v1.6.1.issue_comment.5.parquet\n",
      "Loaded C:\\Users\\Dmitrijs\\Documents\\myDocs\\masters\\courses\\thesis\\code\\data\\keywords\\matched_o\\google.deepvariant.v1.6.1.issue_comment.6.parquet\n",
      "Loaded C:\\Users\\Dmitrijs\\Documents\\myDocs\\masters\\courses\\thesis\\code\\data\\keywords\\matched_o\\google.deepvariant.v1.6.1.issue_comment.7.parquet\n",
      "Loaded C:\\Users\\Dmitrijs\\Documents\\myDocs\\masters\\courses\\thesis\\code\\data\\keywords\\matched_o\\google.deepvariant.v1.6.1.issue_comment.8.parquet\n",
      "Loaded C:\\Users\\Dmitrijs\\Documents\\myDocs\\masters\\courses\\thesis\\code\\data\\keywords\\matched_o\\google.deepvariant.v1.6.1.release.parquet\n",
      "Loaded C:\\Users\\Dmitrijs\\Documents\\myDocs\\masters\\courses\\thesis\\code\\data\\keywords\\matched_o\\OpenGene.fastp.v0.23.4.code_comment.parquet\n",
      "Loaded C:\\Users\\Dmitrijs\\Documents\\myDocs\\masters\\courses\\thesis\\code\\data\\keywords\\matched_o\\OpenGene.fastp.v0.23.4.docs.parquet\n",
      "Loaded C:\\Users\\Dmitrijs\\Documents\\myDocs\\masters\\courses\\thesis\\code\\data\\keywords\\matched_o\\OpenGene.fastp.v0.23.4.issue.parquet\n",
      "Loaded C:\\Users\\Dmitrijs\\Documents\\myDocs\\masters\\courses\\thesis\\code\\data\\keywords\\matched_o\\OpenGene.fastp.v0.23.4.issue_comment.parquet\n",
      "Loaded C:\\Users\\Dmitrijs\\Documents\\myDocs\\masters\\courses\\thesis\\code\\data\\keywords\\matched_o\\OpenGene.fastp.v0.23.4.release.parquet\n",
      "Loaded C:\\Users\\Dmitrijs\\Documents\\myDocs\\masters\\courses\\thesis\\code\\data\\keywords\\matched_o\\root-project.root.v6-32-06.code_comment.00.parquet\n",
      "Loaded C:\\Users\\Dmitrijs\\Documents\\myDocs\\masters\\courses\\thesis\\code\\data\\keywords\\matched_o\\root-project.root.v6-32-06.code_comment.01.parquet\n",
      "Loaded C:\\Users\\Dmitrijs\\Documents\\myDocs\\masters\\courses\\thesis\\code\\data\\keywords\\matched_o\\root-project.root.v6-32-06.code_comment.02.parquet\n",
      "Loaded C:\\Users\\Dmitrijs\\Documents\\myDocs\\masters\\courses\\thesis\\code\\data\\keywords\\matched_o\\root-project.root.v6-32-06.code_comment.03.parquet\n",
      "Loaded C:\\Users\\Dmitrijs\\Documents\\myDocs\\masters\\courses\\thesis\\code\\data\\keywords\\matched_o\\root-project.root.v6-32-06.code_comment.04.parquet\n",
      "Loaded C:\\Users\\Dmitrijs\\Documents\\myDocs\\masters\\courses\\thesis\\code\\data\\keywords\\matched_o\\root-project.root.v6-32-06.code_comment.05.parquet\n",
      "Loaded C:\\Users\\Dmitrijs\\Documents\\myDocs\\masters\\courses\\thesis\\code\\data\\keywords\\matched_o\\root-project.root.v6-32-06.code_comment.06.parquet\n",
      "Loaded C:\\Users\\Dmitrijs\\Documents\\myDocs\\masters\\courses\\thesis\\code\\data\\keywords\\matched_o\\root-project.root.v6-32-06.code_comment.07.parquet\n",
      "Loaded C:\\Users\\Dmitrijs\\Documents\\myDocs\\masters\\courses\\thesis\\code\\data\\keywords\\matched_o\\root-project.root.v6-32-06.code_comment.08.parquet\n",
      "Loaded C:\\Users\\Dmitrijs\\Documents\\myDocs\\masters\\courses\\thesis\\code\\data\\keywords\\matched_o\\root-project.root.v6-32-06.code_comment.09.parquet\n",
      "Loaded C:\\Users\\Dmitrijs\\Documents\\myDocs\\masters\\courses\\thesis\\code\\data\\keywords\\matched_o\\root-project.root.v6-32-06.code_comment.10.parquet\n",
      "Loaded C:\\Users\\Dmitrijs\\Documents\\myDocs\\masters\\courses\\thesis\\code\\data\\keywords\\matched_o\\root-project.root.v6-32-06.code_comment.11.parquet\n",
      "Loaded C:\\Users\\Dmitrijs\\Documents\\myDocs\\masters\\courses\\thesis\\code\\data\\keywords\\matched_o\\root-project.root.v6-32-06.code_comment.12.parquet\n",
      "Loaded C:\\Users\\Dmitrijs\\Documents\\myDocs\\masters\\courses\\thesis\\code\\data\\keywords\\matched_o\\root-project.root.v6-32-06.code_comment.13.parquet\n",
      "Loaded C:\\Users\\Dmitrijs\\Documents\\myDocs\\masters\\courses\\thesis\\code\\data\\keywords\\matched_o\\root-project.root.v6-32-06.code_comment.14.parquet\n",
      "Loaded C:\\Users\\Dmitrijs\\Documents\\myDocs\\masters\\courses\\thesis\\code\\data\\keywords\\matched_o\\root-project.root.v6-32-06.code_comment.15.parquet\n",
      "Loaded C:\\Users\\Dmitrijs\\Documents\\myDocs\\masters\\courses\\thesis\\code\\data\\keywords\\matched_o\\root-project.root.v6-32-06.code_comment.16.parquet\n",
      "Loaded C:\\Users\\Dmitrijs\\Documents\\myDocs\\masters\\courses\\thesis\\code\\data\\keywords\\matched_o\\root-project.root.v6-32-06.code_comment.17.parquet\n",
      "Loaded C:\\Users\\Dmitrijs\\Documents\\myDocs\\masters\\courses\\thesis\\code\\data\\keywords\\matched_o\\root-project.root.v6-32-06.code_comment.18.parquet\n",
      "Loaded C:\\Users\\Dmitrijs\\Documents\\myDocs\\masters\\courses\\thesis\\code\\data\\keywords\\matched_o\\root-project.root.v6-32-06.code_comment.19.parquet\n",
      "Loaded C:\\Users\\Dmitrijs\\Documents\\myDocs\\masters\\courses\\thesis\\code\\data\\keywords\\matched_o\\root-project.root.v6-32-06.code_comment.20.parquet\n",
      "Loaded C:\\Users\\Dmitrijs\\Documents\\myDocs\\masters\\courses\\thesis\\code\\data\\keywords\\matched_o\\root-project.root.v6-32-06.code_comment.21.parquet\n",
      "Loaded C:\\Users\\Dmitrijs\\Documents\\myDocs\\masters\\courses\\thesis\\code\\data\\keywords\\matched_o\\root-project.root.v6-32-06.code_comment.22.parquet\n",
      "Loaded C:\\Users\\Dmitrijs\\Documents\\myDocs\\masters\\courses\\thesis\\code\\data\\keywords\\matched_o\\root-project.root.v6-32-06.code_comment.23.parquet\n",
      "Loaded C:\\Users\\Dmitrijs\\Documents\\myDocs\\masters\\courses\\thesis\\code\\data\\keywords\\matched_o\\root-project.root.v6-32-06.code_comment.24.parquet\n",
      "Loaded C:\\Users\\Dmitrijs\\Documents\\myDocs\\masters\\courses\\thesis\\code\\data\\keywords\\matched_o\\root-project.root.v6-32-06.code_comment.25.parquet\n",
      "Loaded C:\\Users\\Dmitrijs\\Documents\\myDocs\\masters\\courses\\thesis\\code\\data\\keywords\\matched_o\\root-project.root.v6-32-06.code_comment.26.parquet\n",
      "Loaded C:\\Users\\Dmitrijs\\Documents\\myDocs\\masters\\courses\\thesis\\code\\data\\keywords\\matched_o\\root-project.root.v6-32-06.code_comment.27.parquet\n",
      "Loaded C:\\Users\\Dmitrijs\\Documents\\myDocs\\masters\\courses\\thesis\\code\\data\\keywords\\matched_o\\root-project.root.v6-32-06.code_comment.28.parquet\n",
      "Loaded C:\\Users\\Dmitrijs\\Documents\\myDocs\\masters\\courses\\thesis\\code\\data\\keywords\\matched_o\\root-project.root.v6-32-06.code_comment.29.parquet\n",
      "Loaded C:\\Users\\Dmitrijs\\Documents\\myDocs\\masters\\courses\\thesis\\code\\data\\keywords\\matched_o\\root-project.root.v6-32-06.code_comment.30.parquet\n",
      "Loaded C:\\Users\\Dmitrijs\\Documents\\myDocs\\masters\\courses\\thesis\\code\\data\\keywords\\matched_o\\root-project.root.v6-32-06.code_comment.31.parquet\n",
      "Loaded C:\\Users\\Dmitrijs\\Documents\\myDocs\\masters\\courses\\thesis\\code\\data\\keywords\\matched_o\\root-project.root.v6-32-06.code_comment.32.parquet\n",
      "Loaded C:\\Users\\Dmitrijs\\Documents\\myDocs\\masters\\courses\\thesis\\code\\data\\keywords\\matched_o\\root-project.root.v6-32-06.code_comment.33.parquet\n",
      "Loaded C:\\Users\\Dmitrijs\\Documents\\myDocs\\masters\\courses\\thesis\\code\\data\\keywords\\matched_o\\root-project.root.v6-32-06.code_comment.34.parquet\n",
      "Loaded C:\\Users\\Dmitrijs\\Documents\\myDocs\\masters\\courses\\thesis\\code\\data\\keywords\\matched_o\\root-project.root.v6-32-06.code_comment.35.parquet\n",
      "Loaded C:\\Users\\Dmitrijs\\Documents\\myDocs\\masters\\courses\\thesis\\code\\data\\keywords\\matched_o\\root-project.root.v6-32-06.code_comment.36.parquet\n",
      "Loaded C:\\Users\\Dmitrijs\\Documents\\myDocs\\masters\\courses\\thesis\\code\\data\\keywords\\matched_o\\root-project.root.v6-32-06.code_comment.37.parquet\n",
      "Loaded C:\\Users\\Dmitrijs\\Documents\\myDocs\\masters\\courses\\thesis\\code\\data\\keywords\\matched_o\\root-project.root.v6-32-06.code_comment.38.parquet\n",
      "Loaded C:\\Users\\Dmitrijs\\Documents\\myDocs\\masters\\courses\\thesis\\code\\data\\keywords\\matched_o\\root-project.root.v6-32-06.code_comment.39.parquet\n",
      "Loaded C:\\Users\\Dmitrijs\\Documents\\myDocs\\masters\\courses\\thesis\\code\\data\\keywords\\matched_o\\root-project.root.v6-32-06.code_comment.40.parquet\n",
      "Loaded C:\\Users\\Dmitrijs\\Documents\\myDocs\\masters\\courses\\thesis\\code\\data\\keywords\\matched_o\\root-project.root.v6-32-06.code_comment.41.parquet\n",
      "Loaded C:\\Users\\Dmitrijs\\Documents\\myDocs\\masters\\courses\\thesis\\code\\data\\keywords\\matched_o\\root-project.root.v6-32-06.code_comment.42.parquet\n",
      "Loaded C:\\Users\\Dmitrijs\\Documents\\myDocs\\masters\\courses\\thesis\\code\\data\\keywords\\matched_o\\root-project.root.v6-32-06.code_comment.43.parquet\n",
      "Loaded C:\\Users\\Dmitrijs\\Documents\\myDocs\\masters\\courses\\thesis\\code\\data\\keywords\\matched_o\\root-project.root.v6-32-06.code_comment.44.parquet\n",
      "Loaded C:\\Users\\Dmitrijs\\Documents\\myDocs\\masters\\courses\\thesis\\code\\data\\keywords\\matched_o\\root-project.root.v6-32-06.code_comment.45.parquet\n",
      "Loaded C:\\Users\\Dmitrijs\\Documents\\myDocs\\masters\\courses\\thesis\\code\\data\\keywords\\matched_o\\root-project.root.v6-32-06.code_comment.46.parquet\n",
      "Loaded C:\\Users\\Dmitrijs\\Documents\\myDocs\\masters\\courses\\thesis\\code\\data\\keywords\\matched_o\\root-project.root.v6-32-06.code_comment.47.parquet\n",
      "Loaded C:\\Users\\Dmitrijs\\Documents\\myDocs\\masters\\courses\\thesis\\code\\data\\keywords\\matched_o\\root-project.root.v6-32-06.code_comment.48.parquet\n",
      "Loaded C:\\Users\\Dmitrijs\\Documents\\myDocs\\masters\\courses\\thesis\\code\\data\\keywords\\matched_o\\root-project.root.v6-32-06.code_comment.49.parquet\n",
      "Loaded C:\\Users\\Dmitrijs\\Documents\\myDocs\\masters\\courses\\thesis\\code\\data\\keywords\\matched_o\\root-project.root.v6-32-06.code_comment.50.parquet\n",
      "Loaded C:\\Users\\Dmitrijs\\Documents\\myDocs\\masters\\courses\\thesis\\code\\data\\keywords\\matched_o\\root-project.root.v6-32-06.code_comment.51.parquet\n",
      "Loaded C:\\Users\\Dmitrijs\\Documents\\myDocs\\masters\\courses\\thesis\\code\\data\\keywords\\matched_o\\root-project.root.v6-32-06.code_comment.52.parquet\n",
      "Loaded C:\\Users\\Dmitrijs\\Documents\\myDocs\\masters\\courses\\thesis\\code\\data\\keywords\\matched_o\\root-project.root.v6-32-06.code_comment.53.parquet\n",
      "Loaded C:\\Users\\Dmitrijs\\Documents\\myDocs\\masters\\courses\\thesis\\code\\data\\keywords\\matched_o\\root-project.root.v6-32-06.code_comment.54.parquet\n",
      "Loaded C:\\Users\\Dmitrijs\\Documents\\myDocs\\masters\\courses\\thesis\\code\\data\\keywords\\matched_o\\root-project.root.v6-32-06.code_comment.55.parquet\n",
      "Loaded C:\\Users\\Dmitrijs\\Documents\\myDocs\\masters\\courses\\thesis\\code\\data\\keywords\\matched_o\\root-project.root.v6-32-06.code_comment.56.parquet\n",
      "Loaded C:\\Users\\Dmitrijs\\Documents\\myDocs\\masters\\courses\\thesis\\code\\data\\keywords\\matched_o\\root-project.root.v6-32-06.code_comment.57.parquet\n",
      "Loaded C:\\Users\\Dmitrijs\\Documents\\myDocs\\masters\\courses\\thesis\\code\\data\\keywords\\matched_o\\root-project.root.v6-32-06.code_comment.58.parquet\n",
      "Loaded C:\\Users\\Dmitrijs\\Documents\\myDocs\\masters\\courses\\thesis\\code\\data\\keywords\\matched_o\\root-project.root.v6-32-06.code_comment.59.parquet\n",
      "Loaded C:\\Users\\Dmitrijs\\Documents\\myDocs\\masters\\courses\\thesis\\code\\data\\keywords\\matched_o\\root-project.root.v6-32-06.code_comment.60.parquet\n",
      "Loaded C:\\Users\\Dmitrijs\\Documents\\myDocs\\masters\\courses\\thesis\\code\\data\\keywords\\matched_o\\root-project.root.v6-32-06.code_comment.61.parquet\n",
      "Loaded C:\\Users\\Dmitrijs\\Documents\\myDocs\\masters\\courses\\thesis\\code\\data\\keywords\\matched_o\\root-project.root.v6-32-06.code_comment.62.parquet\n",
      "Loaded C:\\Users\\Dmitrijs\\Documents\\myDocs\\masters\\courses\\thesis\\code\\data\\keywords\\matched_o\\root-project.root.v6-32-06.code_comment.63.parquet\n",
      "Loaded C:\\Users\\Dmitrijs\\Documents\\myDocs\\masters\\courses\\thesis\\code\\data\\keywords\\matched_o\\root-project.root.v6-32-06.code_comment.64.parquet\n",
      "Loaded C:\\Users\\Dmitrijs\\Documents\\myDocs\\masters\\courses\\thesis\\code\\data\\keywords\\matched_o\\root-project.root.v6-32-06.code_comment.65.parquet\n",
      "Loaded C:\\Users\\Dmitrijs\\Documents\\myDocs\\masters\\courses\\thesis\\code\\data\\keywords\\matched_o\\root-project.root.v6-32-06.docs.00.parquet\n",
      "Loaded C:\\Users\\Dmitrijs\\Documents\\myDocs\\masters\\courses\\thesis\\code\\data\\keywords\\matched_o\\root-project.root.v6-32-06.docs.01.parquet\n",
      "Loaded C:\\Users\\Dmitrijs\\Documents\\myDocs\\masters\\courses\\thesis\\code\\data\\keywords\\matched_o\\root-project.root.v6-32-06.docs.02.parquet\n",
      "Loaded C:\\Users\\Dmitrijs\\Documents\\myDocs\\masters\\courses\\thesis\\code\\data\\keywords\\matched_o\\root-project.root.v6-32-06.docs.03.parquet\n",
      "Loaded C:\\Users\\Dmitrijs\\Documents\\myDocs\\masters\\courses\\thesis\\code\\data\\keywords\\matched_o\\root-project.root.v6-32-06.docs.04.parquet\n",
      "Loaded C:\\Users\\Dmitrijs\\Documents\\myDocs\\masters\\courses\\thesis\\code\\data\\keywords\\matched_o\\root-project.root.v6-32-06.docs.05.parquet\n",
      "Loaded C:\\Users\\Dmitrijs\\Documents\\myDocs\\masters\\courses\\thesis\\code\\data\\keywords\\matched_o\\root-project.root.v6-32-06.docs.06.parquet\n",
      "Loaded C:\\Users\\Dmitrijs\\Documents\\myDocs\\masters\\courses\\thesis\\code\\data\\keywords\\matched_o\\root-project.root.v6-32-06.docs.07.parquet\n",
      "Loaded C:\\Users\\Dmitrijs\\Documents\\myDocs\\masters\\courses\\thesis\\code\\data\\keywords\\matched_o\\root-project.root.v6-32-06.docs.08.parquet\n",
      "Loaded C:\\Users\\Dmitrijs\\Documents\\myDocs\\masters\\courses\\thesis\\code\\data\\keywords\\matched_o\\root-project.root.v6-32-06.docs.09.parquet\n",
      "Loaded C:\\Users\\Dmitrijs\\Documents\\myDocs\\masters\\courses\\thesis\\code\\data\\keywords\\matched_o\\root-project.root.v6-32-06.docs.10.parquet\n",
      "Loaded C:\\Users\\Dmitrijs\\Documents\\myDocs\\masters\\courses\\thesis\\code\\data\\keywords\\matched_o\\root-project.root.v6-32-06.docs.11.parquet\n",
      "Loaded C:\\Users\\Dmitrijs\\Documents\\myDocs\\masters\\courses\\thesis\\code\\data\\keywords\\matched_o\\root-project.root.v6-32-06.docs.12.parquet\n",
      "Loaded C:\\Users\\Dmitrijs\\Documents\\myDocs\\masters\\courses\\thesis\\code\\data\\keywords\\matched_o\\root-project.root.v6-32-06.docs.13.parquet\n",
      "Loaded C:\\Users\\Dmitrijs\\Documents\\myDocs\\masters\\courses\\thesis\\code\\data\\keywords\\matched_o\\root-project.root.v6-32-06.docs.14.parquet\n",
      "Loaded C:\\Users\\Dmitrijs\\Documents\\myDocs\\masters\\courses\\thesis\\code\\data\\keywords\\matched_o\\root-project.root.v6-32-06.docs.15.parquet\n",
      "Loaded C:\\Users\\Dmitrijs\\Documents\\myDocs\\masters\\courses\\thesis\\code\\data\\keywords\\matched_o\\root-project.root.v6-32-06.docs.16.parquet\n",
      "Loaded C:\\Users\\Dmitrijs\\Documents\\myDocs\\masters\\courses\\thesis\\code\\data\\keywords\\matched_o\\root-project.root.v6-32-06.docs.17.parquet\n",
      "Loaded C:\\Users\\Dmitrijs\\Documents\\myDocs\\masters\\courses\\thesis\\code\\data\\keywords\\matched_o\\root-project.root.v6-32-06.docs.18.parquet\n",
      "Loaded C:\\Users\\Dmitrijs\\Documents\\myDocs\\masters\\courses\\thesis\\code\\data\\keywords\\matched_o\\root-project.root.v6-32-06.docs.19.parquet\n",
      "Loaded C:\\Users\\Dmitrijs\\Documents\\myDocs\\masters\\courses\\thesis\\code\\data\\keywords\\matched_o\\root-project.root.v6-32-06.docs.20.parquet\n",
      "Loaded C:\\Users\\Dmitrijs\\Documents\\myDocs\\masters\\courses\\thesis\\code\\data\\keywords\\matched_o\\root-project.root.v6-32-06.docs.21.parquet\n",
      "Loaded C:\\Users\\Dmitrijs\\Documents\\myDocs\\masters\\courses\\thesis\\code\\data\\keywords\\matched_o\\root-project.root.v6-32-06.docs.22.parquet\n",
      "Loaded C:\\Users\\Dmitrijs\\Documents\\myDocs\\masters\\courses\\thesis\\code\\data\\keywords\\matched_o\\root-project.root.v6-32-06.docs.23.parquet\n",
      "Loaded C:\\Users\\Dmitrijs\\Documents\\myDocs\\masters\\courses\\thesis\\code\\data\\keywords\\matched_o\\root-project.root.v6-32-06.docs.24.parquet\n",
      "Loaded C:\\Users\\Dmitrijs\\Documents\\myDocs\\masters\\courses\\thesis\\code\\data\\keywords\\matched_o\\root-project.root.v6-32-06.docs.25.parquet\n",
      "Loaded C:\\Users\\Dmitrijs\\Documents\\myDocs\\masters\\courses\\thesis\\code\\data\\keywords\\matched_o\\root-project.root.v6-32-06.docs.26.parquet\n",
      "Loaded C:\\Users\\Dmitrijs\\Documents\\myDocs\\masters\\courses\\thesis\\code\\data\\keywords\\matched_o\\root-project.root.v6-32-06.docs.27.parquet\n",
      "Loaded C:\\Users\\Dmitrijs\\Documents\\myDocs\\masters\\courses\\thesis\\code\\data\\keywords\\matched_o\\root-project.root.v6-32-06.docs.28.parquet\n",
      "Loaded C:\\Users\\Dmitrijs\\Documents\\myDocs\\masters\\courses\\thesis\\code\\data\\keywords\\matched_o\\root-project.root.v6-32-06.docs.29.parquet\n",
      "Loaded C:\\Users\\Dmitrijs\\Documents\\myDocs\\masters\\courses\\thesis\\code\\data\\keywords\\matched_o\\root-project.root.v6-32-06.docs.30.parquet\n",
      "Loaded C:\\Users\\Dmitrijs\\Documents\\myDocs\\masters\\courses\\thesis\\code\\data\\keywords\\matched_o\\root-project.root.v6-32-06.docs.31.parquet\n",
      "Loaded C:\\Users\\Dmitrijs\\Documents\\myDocs\\masters\\courses\\thesis\\code\\data\\keywords\\matched_o\\root-project.root.v6-32-06.docs.32.parquet\n",
      "Loaded C:\\Users\\Dmitrijs\\Documents\\myDocs\\masters\\courses\\thesis\\code\\data\\keywords\\matched_o\\root-project.root.v6-32-06.docs.33.parquet\n",
      "Loaded C:\\Users\\Dmitrijs\\Documents\\myDocs\\masters\\courses\\thesis\\code\\data\\keywords\\matched_o\\root-project.root.v6-32-06.docs.34.parquet\n",
      "Loaded C:\\Users\\Dmitrijs\\Documents\\myDocs\\masters\\courses\\thesis\\code\\data\\keywords\\matched_o\\root-project.root.v6-32-06.docs.35.parquet\n",
      "Loaded C:\\Users\\Dmitrijs\\Documents\\myDocs\\masters\\courses\\thesis\\code\\data\\keywords\\matched_o\\root-project.root.v6-32-06.docs.36.parquet\n",
      "Loaded C:\\Users\\Dmitrijs\\Documents\\myDocs\\masters\\courses\\thesis\\code\\data\\keywords\\matched_o\\root-project.root.v6-32-06.docs.37.parquet\n",
      "Loaded C:\\Users\\Dmitrijs\\Documents\\myDocs\\masters\\courses\\thesis\\code\\data\\keywords\\matched_o\\root-project.root.v6-32-06.docs.38.parquet\n",
      "Loaded C:\\Users\\Dmitrijs\\Documents\\myDocs\\masters\\courses\\thesis\\code\\data\\keywords\\matched_o\\root-project.root.v6-32-06.docs.39.parquet\n",
      "Loaded C:\\Users\\Dmitrijs\\Documents\\myDocs\\masters\\courses\\thesis\\code\\data\\keywords\\matched_o\\root-project.root.v6-32-06.docs.40.parquet\n",
      "Loaded C:\\Users\\Dmitrijs\\Documents\\myDocs\\masters\\courses\\thesis\\code\\data\\keywords\\matched_o\\root-project.root.v6-32-06.docs.41.parquet\n",
      "Loaded C:\\Users\\Dmitrijs\\Documents\\myDocs\\masters\\courses\\thesis\\code\\data\\keywords\\matched_o\\root-project.root.v6-32-06.docs.42.parquet\n",
      "Loaded C:\\Users\\Dmitrijs\\Documents\\myDocs\\masters\\courses\\thesis\\code\\data\\keywords\\matched_o\\root-project.root.v6-32-06.docs.43.parquet\n",
      "Loaded C:\\Users\\Dmitrijs\\Documents\\myDocs\\masters\\courses\\thesis\\code\\data\\keywords\\matched_o\\root-project.root.v6-32-06.docs.44.parquet\n",
      "Loaded C:\\Users\\Dmitrijs\\Documents\\myDocs\\masters\\courses\\thesis\\code\\data\\keywords\\matched_o\\root-project.root.v6-32-06.docs.45.parquet\n",
      "Loaded C:\\Users\\Dmitrijs\\Documents\\myDocs\\masters\\courses\\thesis\\code\\data\\keywords\\matched_o\\root-project.root.v6-32-06.docs.46.parquet\n",
      "Loaded C:\\Users\\Dmitrijs\\Documents\\myDocs\\masters\\courses\\thesis\\code\\data\\keywords\\matched_o\\root-project.root.v6-32-06.docs.47.parquet\n",
      "Loaded C:\\Users\\Dmitrijs\\Documents\\myDocs\\masters\\courses\\thesis\\code\\data\\keywords\\matched_o\\root-project.root.v6-32-06.docs.48.parquet\n",
      "Loaded C:\\Users\\Dmitrijs\\Documents\\myDocs\\masters\\courses\\thesis\\code\\data\\keywords\\matched_o\\root-project.root.v6-32-06.docs.49.parquet\n",
      "Loaded C:\\Users\\Dmitrijs\\Documents\\myDocs\\masters\\courses\\thesis\\code\\data\\keywords\\matched_o\\root-project.root.v6-32-06.docs.50.parquet\n",
      "Loaded C:\\Users\\Dmitrijs\\Documents\\myDocs\\masters\\courses\\thesis\\code\\data\\keywords\\matched_o\\root-project.root.v6-32-06.docs.51.parquet\n",
      "Loaded C:\\Users\\Dmitrijs\\Documents\\myDocs\\masters\\courses\\thesis\\code\\data\\keywords\\matched_o\\root-project.root.v6-32-06.docs.52.parquet\n",
      "Loaded C:\\Users\\Dmitrijs\\Documents\\myDocs\\masters\\courses\\thesis\\code\\data\\keywords\\matched_o\\root-project.root.v6-32-06.docs.53.parquet\n",
      "Loaded C:\\Users\\Dmitrijs\\Documents\\myDocs\\masters\\courses\\thesis\\code\\data\\keywords\\matched_o\\root-project.root.v6-32-06.docs.54.parquet\n",
      "Loaded C:\\Users\\Dmitrijs\\Documents\\myDocs\\masters\\courses\\thesis\\code\\data\\keywords\\matched_o\\root-project.root.v6-32-06.docs.55.parquet\n",
      "Loaded C:\\Users\\Dmitrijs\\Documents\\myDocs\\masters\\courses\\thesis\\code\\data\\keywords\\matched_o\\root-project.root.v6-32-06.docs.56.parquet\n",
      "Loaded C:\\Users\\Dmitrijs\\Documents\\myDocs\\masters\\courses\\thesis\\code\\data\\keywords\\matched_o\\root-project.root.v6-32-06.docs.57.parquet\n",
      "Loaded C:\\Users\\Dmitrijs\\Documents\\myDocs\\masters\\courses\\thesis\\code\\data\\keywords\\matched_o\\root-project.root.v6-32-06.docs.58.parquet\n",
      "Loaded C:\\Users\\Dmitrijs\\Documents\\myDocs\\masters\\courses\\thesis\\code\\data\\keywords\\matched_o\\root-project.root.v6-32-06.docs.59.parquet\n",
      "Loaded C:\\Users\\Dmitrijs\\Documents\\myDocs\\masters\\courses\\thesis\\code\\data\\keywords\\matched_o\\root-project.root.v6-32-06.docs.60.parquet\n",
      "Loaded C:\\Users\\Dmitrijs\\Documents\\myDocs\\masters\\courses\\thesis\\code\\data\\keywords\\matched_o\\root-project.root.v6-32-06.docs.61.parquet\n",
      "Loaded C:\\Users\\Dmitrijs\\Documents\\myDocs\\masters\\courses\\thesis\\code\\data\\keywords\\matched_o\\root-project.root.v6-32-06.docs.62.parquet\n",
      "Loaded C:\\Users\\Dmitrijs\\Documents\\myDocs\\masters\\courses\\thesis\\code\\data\\keywords\\matched_o\\root-project.root.v6-32-06.docs.63.parquet\n",
      "Loaded C:\\Users\\Dmitrijs\\Documents\\myDocs\\masters\\courses\\thesis\\code\\data\\keywords\\matched_o\\root-project.root.v6-32-06.docs.64.parquet\n",
      "Loaded C:\\Users\\Dmitrijs\\Documents\\myDocs\\masters\\courses\\thesis\\code\\data\\keywords\\matched_o\\root-project.root.v6-32-06.docs.65.parquet\n",
      "Loaded C:\\Users\\Dmitrijs\\Documents\\myDocs\\masters\\courses\\thesis\\code\\data\\keywords\\matched_o\\root-project.root.v6-32-06.docs.66.parquet\n",
      "Loaded C:\\Users\\Dmitrijs\\Documents\\myDocs\\masters\\courses\\thesis\\code\\data\\keywords\\matched_o\\root-project.root.v6-32-06.docs.67.parquet\n",
      "Loaded C:\\Users\\Dmitrijs\\Documents\\myDocs\\masters\\courses\\thesis\\code\\data\\keywords\\matched_o\\root-project.root.v6-32-06.docs.68.parquet\n",
      "Loaded C:\\Users\\Dmitrijs\\Documents\\myDocs\\masters\\courses\\thesis\\code\\data\\keywords\\matched_o\\root-project.root.v6-32-06.docs.69.parquet\n",
      "Loaded C:\\Users\\Dmitrijs\\Documents\\myDocs\\masters\\courses\\thesis\\code\\data\\keywords\\matched_o\\root-project.root.v6-32-06.docs.70.parquet\n",
      "Loaded C:\\Users\\Dmitrijs\\Documents\\myDocs\\masters\\courses\\thesis\\code\\data\\keywords\\matched_o\\root-project.root.v6-32-06.docs.71.parquet\n",
      "Loaded C:\\Users\\Dmitrijs\\Documents\\myDocs\\masters\\courses\\thesis\\code\\data\\keywords\\matched_o\\root-project.root.v6-32-06.docs.72.parquet\n",
      "Loaded C:\\Users\\Dmitrijs\\Documents\\myDocs\\masters\\courses\\thesis\\code\\data\\keywords\\matched_o\\root-project.root.v6-32-06.docs.73.parquet\n",
      "Loaded C:\\Users\\Dmitrijs\\Documents\\myDocs\\masters\\courses\\thesis\\code\\data\\keywords\\matched_o\\root-project.root.v6-32-06.docs.74.parquet\n",
      "Loaded C:\\Users\\Dmitrijs\\Documents\\myDocs\\masters\\courses\\thesis\\code\\data\\keywords\\matched_o\\root-project.root.v6-32-06.docs.75.parquet\n",
      "Loaded C:\\Users\\Dmitrijs\\Documents\\myDocs\\masters\\courses\\thesis\\code\\data\\keywords\\matched_o\\root-project.root.v6-32-06.docs.76.parquet\n",
      "Loaded C:\\Users\\Dmitrijs\\Documents\\myDocs\\masters\\courses\\thesis\\code\\data\\keywords\\matched_o\\root-project.root.v6-32-06.docs.77.parquet\n",
      "Loaded C:\\Users\\Dmitrijs\\Documents\\myDocs\\masters\\courses\\thesis\\code\\data\\keywords\\matched_o\\root-project.root.v6-32-06.docs.78.parquet\n",
      "Loaded C:\\Users\\Dmitrijs\\Documents\\myDocs\\masters\\courses\\thesis\\code\\data\\keywords\\matched_o\\root-project.root.v6-32-06.docs.79.parquet\n",
      "Loaded C:\\Users\\Dmitrijs\\Documents\\myDocs\\masters\\courses\\thesis\\code\\data\\keywords\\matched_o\\root-project.root.v6-32-06.docs.80.parquet\n",
      "Loaded C:\\Users\\Dmitrijs\\Documents\\myDocs\\masters\\courses\\thesis\\code\\data\\keywords\\matched_o\\root-project.root.v6-32-06.docs.81.parquet\n",
      "Loaded C:\\Users\\Dmitrijs\\Documents\\myDocs\\masters\\courses\\thesis\\code\\data\\keywords\\matched_o\\root-project.root.v6-32-06.docs.82.parquet\n",
      "Loaded C:\\Users\\Dmitrijs\\Documents\\myDocs\\masters\\courses\\thesis\\code\\data\\keywords\\matched_o\\root-project.root.v6-32-06.docs.83.parquet\n",
      "Loaded C:\\Users\\Dmitrijs\\Documents\\myDocs\\masters\\courses\\thesis\\code\\data\\keywords\\matched_o\\root-project.root.v6-32-06.docs.84.parquet\n",
      "Loaded C:\\Users\\Dmitrijs\\Documents\\myDocs\\masters\\courses\\thesis\\code\\data\\keywords\\matched_o\\root-project.root.v6-32-06.docs.85.parquet\n",
      "Loaded C:\\Users\\Dmitrijs\\Documents\\myDocs\\masters\\courses\\thesis\\code\\data\\keywords\\matched_o\\root-project.root.v6-32-06.docs.86.parquet\n",
      "Loaded C:\\Users\\Dmitrijs\\Documents\\myDocs\\masters\\courses\\thesis\\code\\data\\keywords\\matched_o\\root-project.root.v6-32-06.docs.87.parquet\n",
      "Loaded C:\\Users\\Dmitrijs\\Documents\\myDocs\\masters\\courses\\thesis\\code\\data\\keywords\\matched_o\\root-project.root.v6-32-06.docs.88.parquet\n",
      "Loaded C:\\Users\\Dmitrijs\\Documents\\myDocs\\masters\\courses\\thesis\\code\\data\\keywords\\matched_o\\root-project.root.v6-32-06.docs.89.parquet\n",
      "Loaded C:\\Users\\Dmitrijs\\Documents\\myDocs\\masters\\courses\\thesis\\code\\data\\keywords\\matched_o\\root-project.root.v6-32-06.docs.90.parquet\n",
      "Loaded C:\\Users\\Dmitrijs\\Documents\\myDocs\\masters\\courses\\thesis\\code\\data\\keywords\\matched_o\\root-project.root.v6-32-06.docs.91.parquet\n",
      "Loaded C:\\Users\\Dmitrijs\\Documents\\myDocs\\masters\\courses\\thesis\\code\\data\\keywords\\matched_o\\root-project.root.v6-32-06.docs.92.parquet\n",
      "Loaded C:\\Users\\Dmitrijs\\Documents\\myDocs\\masters\\courses\\thesis\\code\\data\\keywords\\matched_o\\root-project.root.v6-32-06.docs.93.parquet\n",
      "Loaded C:\\Users\\Dmitrijs\\Documents\\myDocs\\masters\\courses\\thesis\\code\\data\\keywords\\matched_o\\root-project.root.v6-32-06.docs.94.parquet\n",
      "Loaded C:\\Users\\Dmitrijs\\Documents\\myDocs\\masters\\courses\\thesis\\code\\data\\keywords\\matched_o\\root-project.root.v6-32-06.issue.00.parquet\n",
      "Loaded C:\\Users\\Dmitrijs\\Documents\\myDocs\\masters\\courses\\thesis\\code\\data\\keywords\\matched_o\\root-project.root.v6-32-06.issue.01.parquet\n",
      "Loaded C:\\Users\\Dmitrijs\\Documents\\myDocs\\masters\\courses\\thesis\\code\\data\\keywords\\matched_o\\root-project.root.v6-32-06.issue.02.parquet\n",
      "Loaded C:\\Users\\Dmitrijs\\Documents\\myDocs\\masters\\courses\\thesis\\code\\data\\keywords\\matched_o\\root-project.root.v6-32-06.issue.03.parquet\n",
      "Loaded C:\\Users\\Dmitrijs\\Documents\\myDocs\\masters\\courses\\thesis\\code\\data\\keywords\\matched_o\\root-project.root.v6-32-06.issue.04.parquet\n",
      "Loaded C:\\Users\\Dmitrijs\\Documents\\myDocs\\masters\\courses\\thesis\\code\\data\\keywords\\matched_o\\root-project.root.v6-32-06.issue.05.parquet\n",
      "Loaded C:\\Users\\Dmitrijs\\Documents\\myDocs\\masters\\courses\\thesis\\code\\data\\keywords\\matched_o\\root-project.root.v6-32-06.issue.06.parquet\n",
      "Loaded C:\\Users\\Dmitrijs\\Documents\\myDocs\\masters\\courses\\thesis\\code\\data\\keywords\\matched_o\\root-project.root.v6-32-06.issue.07.parquet\n",
      "Loaded C:\\Users\\Dmitrijs\\Documents\\myDocs\\masters\\courses\\thesis\\code\\data\\keywords\\matched_o\\root-project.root.v6-32-06.issue.08.parquet\n",
      "Loaded C:\\Users\\Dmitrijs\\Documents\\myDocs\\masters\\courses\\thesis\\code\\data\\keywords\\matched_o\\root-project.root.v6-32-06.issue.09.parquet\n",
      "Loaded C:\\Users\\Dmitrijs\\Documents\\myDocs\\masters\\courses\\thesis\\code\\data\\keywords\\matched_o\\root-project.root.v6-32-06.issue.10.parquet\n",
      "Loaded C:\\Users\\Dmitrijs\\Documents\\myDocs\\masters\\courses\\thesis\\code\\data\\keywords\\matched_o\\root-project.root.v6-32-06.issue.11.parquet\n",
      "Loaded C:\\Users\\Dmitrijs\\Documents\\myDocs\\masters\\courses\\thesis\\code\\data\\keywords\\matched_o\\root-project.root.v6-32-06.issue.12.parquet\n",
      "Loaded C:\\Users\\Dmitrijs\\Documents\\myDocs\\masters\\courses\\thesis\\code\\data\\keywords\\matched_o\\root-project.root.v6-32-06.issue.13.parquet\n",
      "Loaded C:\\Users\\Dmitrijs\\Documents\\myDocs\\masters\\courses\\thesis\\code\\data\\keywords\\matched_o\\root-project.root.v6-32-06.issue.14.parquet\n",
      "Loaded C:\\Users\\Dmitrijs\\Documents\\myDocs\\masters\\courses\\thesis\\code\\data\\keywords\\matched_o\\root-project.root.v6-32-06.issue.15.parquet\n",
      "Loaded C:\\Users\\Dmitrijs\\Documents\\myDocs\\masters\\courses\\thesis\\code\\data\\keywords\\matched_o\\root-project.root.v6-32-06.issue.16.parquet\n",
      "Loaded C:\\Users\\Dmitrijs\\Documents\\myDocs\\masters\\courses\\thesis\\code\\data\\keywords\\matched_o\\root-project.root.v6-32-06.issue.17.parquet\n",
      "Loaded C:\\Users\\Dmitrijs\\Documents\\myDocs\\masters\\courses\\thesis\\code\\data\\keywords\\matched_o\\root-project.root.v6-32-06.issue.18.parquet\n",
      "Loaded C:\\Users\\Dmitrijs\\Documents\\myDocs\\masters\\courses\\thesis\\code\\data\\keywords\\matched_o\\root-project.root.v6-32-06.issue.19.parquet\n",
      "Loaded C:\\Users\\Dmitrijs\\Documents\\myDocs\\masters\\courses\\thesis\\code\\data\\keywords\\matched_o\\root-project.root.v6-32-06.issue.20.parquet\n",
      "Loaded C:\\Users\\Dmitrijs\\Documents\\myDocs\\masters\\courses\\thesis\\code\\data\\keywords\\matched_o\\root-project.root.v6-32-06.issue.21.parquet\n",
      "Loaded C:\\Users\\Dmitrijs\\Documents\\myDocs\\masters\\courses\\thesis\\code\\data\\keywords\\matched_o\\root-project.root.v6-32-06.issue.22.parquet\n",
      "Loaded C:\\Users\\Dmitrijs\\Documents\\myDocs\\masters\\courses\\thesis\\code\\data\\keywords\\matched_o\\root-project.root.v6-32-06.issue.23.parquet\n",
      "Loaded C:\\Users\\Dmitrijs\\Documents\\myDocs\\masters\\courses\\thesis\\code\\data\\keywords\\matched_o\\root-project.root.v6-32-06.issue.24.parquet\n",
      "Loaded C:\\Users\\Dmitrijs\\Documents\\myDocs\\masters\\courses\\thesis\\code\\data\\keywords\\matched_o\\root-project.root.v6-32-06.issue.25.parquet\n",
      "Loaded C:\\Users\\Dmitrijs\\Documents\\myDocs\\masters\\courses\\thesis\\code\\data\\keywords\\matched_o\\root-project.root.v6-32-06.issue.26.parquet\n",
      "Loaded C:\\Users\\Dmitrijs\\Documents\\myDocs\\masters\\courses\\thesis\\code\\data\\keywords\\matched_o\\root-project.root.v6-32-06.issue.27.parquet\n",
      "Loaded C:\\Users\\Dmitrijs\\Documents\\myDocs\\masters\\courses\\thesis\\code\\data\\keywords\\matched_o\\root-project.root.v6-32-06.issue.28.parquet\n",
      "Loaded C:\\Users\\Dmitrijs\\Documents\\myDocs\\masters\\courses\\thesis\\code\\data\\keywords\\matched_o\\root-project.root.v6-32-06.issue.29.parquet\n",
      "Loaded C:\\Users\\Dmitrijs\\Documents\\myDocs\\masters\\courses\\thesis\\code\\data\\keywords\\matched_o\\root-project.root.v6-32-06.issue_comment.00.parquet\n",
      "Loaded C:\\Users\\Dmitrijs\\Documents\\myDocs\\masters\\courses\\thesis\\code\\data\\keywords\\matched_o\\root-project.root.v6-32-06.issue_comment.01.parquet\n",
      "Loaded C:\\Users\\Dmitrijs\\Documents\\myDocs\\masters\\courses\\thesis\\code\\data\\keywords\\matched_o\\root-project.root.v6-32-06.issue_comment.02.parquet\n",
      "Loaded C:\\Users\\Dmitrijs\\Documents\\myDocs\\masters\\courses\\thesis\\code\\data\\keywords\\matched_o\\root-project.root.v6-32-06.issue_comment.03.parquet\n",
      "Loaded C:\\Users\\Dmitrijs\\Documents\\myDocs\\masters\\courses\\thesis\\code\\data\\keywords\\matched_o\\root-project.root.v6-32-06.issue_comment.04.parquet\n",
      "Loaded C:\\Users\\Dmitrijs\\Documents\\myDocs\\masters\\courses\\thesis\\code\\data\\keywords\\matched_o\\root-project.root.v6-32-06.issue_comment.05.parquet\n",
      "Loaded C:\\Users\\Dmitrijs\\Documents\\myDocs\\masters\\courses\\thesis\\code\\data\\keywords\\matched_o\\root-project.root.v6-32-06.issue_comment.06.parquet\n",
      "Loaded C:\\Users\\Dmitrijs\\Documents\\myDocs\\masters\\courses\\thesis\\code\\data\\keywords\\matched_o\\root-project.root.v6-32-06.issue_comment.07.parquet\n",
      "Loaded C:\\Users\\Dmitrijs\\Documents\\myDocs\\masters\\courses\\thesis\\code\\data\\keywords\\matched_o\\root-project.root.v6-32-06.issue_comment.08.parquet\n",
      "Loaded C:\\Users\\Dmitrijs\\Documents\\myDocs\\masters\\courses\\thesis\\code\\data\\keywords\\matched_o\\root-project.root.v6-32-06.issue_comment.09.parquet\n",
      "Loaded C:\\Users\\Dmitrijs\\Documents\\myDocs\\masters\\courses\\thesis\\code\\data\\keywords\\matched_o\\root-project.root.v6-32-06.issue_comment.10.parquet\n",
      "Loaded C:\\Users\\Dmitrijs\\Documents\\myDocs\\masters\\courses\\thesis\\code\\data\\keywords\\matched_o\\root-project.root.v6-32-06.issue_comment.11.parquet\n",
      "Loaded C:\\Users\\Dmitrijs\\Documents\\myDocs\\masters\\courses\\thesis\\code\\data\\keywords\\matched_o\\root-project.root.v6-32-06.issue_comment.12.parquet\n",
      "Loaded C:\\Users\\Dmitrijs\\Documents\\myDocs\\masters\\courses\\thesis\\code\\data\\keywords\\matched_o\\root-project.root.v6-32-06.issue_comment.13.parquet\n",
      "Loaded C:\\Users\\Dmitrijs\\Documents\\myDocs\\masters\\courses\\thesis\\code\\data\\keywords\\matched_o\\root-project.root.v6-32-06.issue_comment.14.parquet\n",
      "Loaded C:\\Users\\Dmitrijs\\Documents\\myDocs\\masters\\courses\\thesis\\code\\data\\keywords\\matched_o\\root-project.root.v6-32-06.issue_comment.15.parquet\n",
      "Loaded C:\\Users\\Dmitrijs\\Documents\\myDocs\\masters\\courses\\thesis\\code\\data\\keywords\\matched_o\\root-project.root.v6-32-06.issue_comment.16.parquet\n",
      "Loaded C:\\Users\\Dmitrijs\\Documents\\myDocs\\masters\\courses\\thesis\\code\\data\\keywords\\matched_o\\root-project.root.v6-32-06.issue_comment.17.parquet\n",
      "Loaded C:\\Users\\Dmitrijs\\Documents\\myDocs\\masters\\courses\\thesis\\code\\data\\keywords\\matched_o\\root-project.root.v6-32-06.issue_comment.18.parquet\n",
      "Loaded C:\\Users\\Dmitrijs\\Documents\\myDocs\\masters\\courses\\thesis\\code\\data\\keywords\\matched_o\\root-project.root.v6-32-06.issue_comment.19.parquet\n",
      "Loaded C:\\Users\\Dmitrijs\\Documents\\myDocs\\masters\\courses\\thesis\\code\\data\\keywords\\matched_o\\root-project.root.v6-32-06.issue_comment.20.parquet\n",
      "Loaded C:\\Users\\Dmitrijs\\Documents\\myDocs\\masters\\courses\\thesis\\code\\data\\keywords\\matched_o\\root-project.root.v6-32-06.issue_comment.21.parquet\n",
      "Loaded C:\\Users\\Dmitrijs\\Documents\\myDocs\\masters\\courses\\thesis\\code\\data\\keywords\\matched_o\\root-project.root.v6-32-06.issue_comment.22.parquet\n",
      "Loaded C:\\Users\\Dmitrijs\\Documents\\myDocs\\masters\\courses\\thesis\\code\\data\\keywords\\matched_o\\root-project.root.v6-32-06.issue_comment.23.parquet\n",
      "Loaded C:\\Users\\Dmitrijs\\Documents\\myDocs\\masters\\courses\\thesis\\code\\data\\keywords\\matched_o\\root-project.root.v6-32-06.issue_comment.24.parquet\n",
      "Loaded C:\\Users\\Dmitrijs\\Documents\\myDocs\\masters\\courses\\thesis\\code\\data\\keywords\\matched_o\\root-project.root.v6-32-06.issue_comment.25.parquet\n",
      "Loaded C:\\Users\\Dmitrijs\\Documents\\myDocs\\masters\\courses\\thesis\\code\\data\\keywords\\matched_o\\root-project.root.v6-32-06.release.parquet\n",
      "Loaded C:\\Users\\Dmitrijs\\Documents\\myDocs\\masters\\courses\\thesis\\code\\data\\keywords\\matched_o\\root-project.root.v6-32-06.wiki.0.parquet\n",
      "Loaded C:\\Users\\Dmitrijs\\Documents\\myDocs\\masters\\courses\\thesis\\code\\data\\keywords\\matched_o\\root-project.root.v6-32-06.wiki.1.parquet\n",
      "Loaded C:\\Users\\Dmitrijs\\Documents\\myDocs\\masters\\courses\\thesis\\code\\data\\keywords\\matched_o\\root-project.root.v6-32-06.wiki.2.parquet\n",
      "Loaded C:\\Users\\Dmitrijs\\Documents\\myDocs\\masters\\courses\\thesis\\code\\data\\keywords\\matched_o\\scverse.scanpy.1.10.2.code_comment.parquet\n",
      "Loaded C:\\Users\\Dmitrijs\\Documents\\myDocs\\masters\\courses\\thesis\\code\\data\\keywords\\matched_o\\scverse.scanpy.1.10.2.docs.parquet\n",
      "Loaded C:\\Users\\Dmitrijs\\Documents\\myDocs\\masters\\courses\\thesis\\code\\data\\keywords\\matched_o\\scverse.scanpy.1.10.2.issue.00.parquet\n",
      "Loaded C:\\Users\\Dmitrijs\\Documents\\myDocs\\masters\\courses\\thesis\\code\\data\\keywords\\matched_o\\scverse.scanpy.1.10.2.issue.01.parquet\n",
      "Loaded C:\\Users\\Dmitrijs\\Documents\\myDocs\\masters\\courses\\thesis\\code\\data\\keywords\\matched_o\\scverse.scanpy.1.10.2.issue.02.parquet\n",
      "Loaded C:\\Users\\Dmitrijs\\Documents\\myDocs\\masters\\courses\\thesis\\code\\data\\keywords\\matched_o\\scverse.scanpy.1.10.2.issue.03.parquet\n",
      "Loaded C:\\Users\\Dmitrijs\\Documents\\myDocs\\masters\\courses\\thesis\\code\\data\\keywords\\matched_o\\scverse.scanpy.1.10.2.issue.04.parquet\n",
      "Loaded C:\\Users\\Dmitrijs\\Documents\\myDocs\\masters\\courses\\thesis\\code\\data\\keywords\\matched_o\\scverse.scanpy.1.10.2.issue.05.parquet\n",
      "Loaded C:\\Users\\Dmitrijs\\Documents\\myDocs\\masters\\courses\\thesis\\code\\data\\keywords\\matched_o\\scverse.scanpy.1.10.2.issue.06.parquet\n",
      "Loaded C:\\Users\\Dmitrijs\\Documents\\myDocs\\masters\\courses\\thesis\\code\\data\\keywords\\matched_o\\scverse.scanpy.1.10.2.issue.07.parquet\n",
      "Loaded C:\\Users\\Dmitrijs\\Documents\\myDocs\\masters\\courses\\thesis\\code\\data\\keywords\\matched_o\\scverse.scanpy.1.10.2.issue.08.parquet\n",
      "Loaded C:\\Users\\Dmitrijs\\Documents\\myDocs\\masters\\courses\\thesis\\code\\data\\keywords\\matched_o\\scverse.scanpy.1.10.2.issue.09.parquet\n",
      "Loaded C:\\Users\\Dmitrijs\\Documents\\myDocs\\masters\\courses\\thesis\\code\\data\\keywords\\matched_o\\scverse.scanpy.1.10.2.issue.10.parquet\n",
      "Loaded C:\\Users\\Dmitrijs\\Documents\\myDocs\\masters\\courses\\thesis\\code\\data\\keywords\\matched_o\\scverse.scanpy.1.10.2.issue_comment.0.parquet\n",
      "Loaded C:\\Users\\Dmitrijs\\Documents\\myDocs\\masters\\courses\\thesis\\code\\data\\keywords\\matched_o\\scverse.scanpy.1.10.2.issue_comment.1.parquet\n",
      "Loaded C:\\Users\\Dmitrijs\\Documents\\myDocs\\masters\\courses\\thesis\\code\\data\\keywords\\matched_o\\scverse.scanpy.1.10.2.issue_comment.2.parquet\n",
      "Loaded C:\\Users\\Dmitrijs\\Documents\\myDocs\\masters\\courses\\thesis\\code\\data\\keywords\\matched_o\\scverse.scanpy.1.10.2.issue_comment.3.parquet\n",
      "Loaded C:\\Users\\Dmitrijs\\Documents\\myDocs\\masters\\courses\\thesis\\code\\data\\keywords\\matched_o\\scverse.scanpy.1.10.2.issue_comment.4.parquet\n",
      "Loaded C:\\Users\\Dmitrijs\\Documents\\myDocs\\masters\\courses\\thesis\\code\\data\\keywords\\matched_o\\scverse.scanpy.1.10.2.issue_comment.5.parquet\n",
      "Loaded C:\\Users\\Dmitrijs\\Documents\\myDocs\\masters\\courses\\thesis\\code\\data\\keywords\\matched_o\\scverse.scanpy.1.10.2.issue_comment.6.parquet\n",
      "Loaded C:\\Users\\Dmitrijs\\Documents\\myDocs\\masters\\courses\\thesis\\code\\data\\keywords\\matched_o\\scverse.scanpy.1.10.2.issue_comment.7.parquet\n",
      "Loaded C:\\Users\\Dmitrijs\\Documents\\myDocs\\masters\\courses\\thesis\\code\\data\\keywords\\matched_o\\scverse.scanpy.1.10.2.issue_comment.8.parquet\n",
      "Loaded C:\\Users\\Dmitrijs\\Documents\\myDocs\\masters\\courses\\thesis\\code\\data\\keywords\\matched_o\\scverse.scanpy.1.10.2.wiki.0.parquet\n",
      "Loaded C:\\Users\\Dmitrijs\\Documents\\myDocs\\masters\\courses\\thesis\\code\\data\\keywords\\matched_o\\scverse.scanpy.1.10.2.wiki.1.parquet\n",
      "Loaded C:\\Users\\Dmitrijs\\Documents\\myDocs\\masters\\courses\\thesis\\code\\data\\keywords\\matched_o\\scverse.scanpy.1.10.2.wiki.2.parquet\n"
     ]
    }
   ],
   "execution_count": 7
  },
  {
   "metadata": {
    "ExecuteTime": {
     "end_time": "2025-07-11T19:23:32.188900Z",
     "start_time": "2025-07-11T19:23:32.163765Z"
    }
   },
   "cell_type": "code",
   "source": "df_main.head()",
   "id": "5e02465e8683b076",
   "outputs": [
    {
     "data": {
      "text/plain": [
       "                                                  id  keyword keyword_raw  \\\n",
       "0  allenai/scispacy/v0.5.5.code_comment.availabil...     down        down   \n",
       "1  allenai/scispacy/v0.5.5.code_comment.availabil...     down        down   \n",
       "2  allenai/scispacy/v0.5.5.code_comment.availabil...     down        down   \n",
       "3  allenai/scispacy/v0.5.5.code_comment.availabil...    avail       avail   \n",
       "4  allenai/scispacy/v0.5.5.code_comment.availabil...  consist     consist   \n",
       "\n",
       "                                            sentence            qa  \\\n",
       "0  Given something that might be a URL (or might ...  availability   \n",
       "1  Given a URL, look for the corresponding datase...  availability   \n",
       "2  Download to temporary file, then copy to cache...  availability   \n",
       "3  A candidate generator for entity linking to a ...  availability   \n",
       "4  A spacy pipeline component which identifies en...  availability   \n",
       "\n",
       "         source                                                url  \\\n",
       "0  code_comment  https://github.com/allenai/scispacy/tree/v0.5....   \n",
       "1  code_comment  https://github.com/allenai/scispacy/tree/v0.5....   \n",
       "2  code_comment  https://github.com/allenai/scispacy/tree/v0.5....   \n",
       "3  code_comment  https://github.com/allenai/scispacy/tree/v0.5....   \n",
       "4  code_comment  https://github.com/allenai/scispacy/tree/v0.5....   \n",
       "\n",
       "                   repo_id matched_word             unique_matched_words  \\\n",
       "0  allenai/scispacy/v0.5.5     download     download, Download, DOWNLOAD   \n",
       "1  allenai/scispacy/v0.5.5     download     download, Download, DOWNLOAD   \n",
       "2  allenai/scispacy/v0.5.5     download     download, Download, DOWNLOAD   \n",
       "3  allenai/scispacy/v0.5.5    available  available, Available, AVAILABLE   \n",
       "4  allenai/scispacy/v0.5.5     consists               consists, Consists   \n",
       "\n",
       "   nunique_matched_words  nsimilar  \n",
       "0                      3         1  \n",
       "1                      3         1  \n",
       "2                      3         2  \n",
       "3                      3         1  \n",
       "4                      2         1  "
      ],
      "text/html": [
       "<div>\n",
       "<style scoped>\n",
       "    .dataframe tbody tr th:only-of-type {\n",
       "        vertical-align: middle;\n",
       "    }\n",
       "\n",
       "    .dataframe tbody tr th {\n",
       "        vertical-align: top;\n",
       "    }\n",
       "\n",
       "    .dataframe thead th {\n",
       "        text-align: right;\n",
       "    }\n",
       "</style>\n",
       "<table border=\"1\" class=\"dataframe\">\n",
       "  <thead>\n",
       "    <tr style=\"text-align: right;\">\n",
       "      <th></th>\n",
       "      <th>id</th>\n",
       "      <th>keyword</th>\n",
       "      <th>keyword_raw</th>\n",
       "      <th>sentence</th>\n",
       "      <th>qa</th>\n",
       "      <th>source</th>\n",
       "      <th>url</th>\n",
       "      <th>repo_id</th>\n",
       "      <th>matched_word</th>\n",
       "      <th>unique_matched_words</th>\n",
       "      <th>nunique_matched_words</th>\n",
       "      <th>nsimilar</th>\n",
       "    </tr>\n",
       "  </thead>\n",
       "  <tbody>\n",
       "    <tr>\n",
       "      <th>0</th>\n",
       "      <td>allenai/scispacy/v0.5.5.code_comment.availabil...</td>\n",
       "      <td>down</td>\n",
       "      <td>down</td>\n",
       "      <td>Given something that might be a URL (or might ...</td>\n",
       "      <td>availability</td>\n",
       "      <td>code_comment</td>\n",
       "      <td>https://github.com/allenai/scispacy/tree/v0.5....</td>\n",
       "      <td>allenai/scispacy/v0.5.5</td>\n",
       "      <td>download</td>\n",
       "      <td>download, Download, DOWNLOAD</td>\n",
       "      <td>3</td>\n",
       "      <td>1</td>\n",
       "    </tr>\n",
       "    <tr>\n",
       "      <th>1</th>\n",
       "      <td>allenai/scispacy/v0.5.5.code_comment.availabil...</td>\n",
       "      <td>down</td>\n",
       "      <td>down</td>\n",
       "      <td>Given a URL, look for the corresponding datase...</td>\n",
       "      <td>availability</td>\n",
       "      <td>code_comment</td>\n",
       "      <td>https://github.com/allenai/scispacy/tree/v0.5....</td>\n",
       "      <td>allenai/scispacy/v0.5.5</td>\n",
       "      <td>download</td>\n",
       "      <td>download, Download, DOWNLOAD</td>\n",
       "      <td>3</td>\n",
       "      <td>1</td>\n",
       "    </tr>\n",
       "    <tr>\n",
       "      <th>2</th>\n",
       "      <td>allenai/scispacy/v0.5.5.code_comment.availabil...</td>\n",
       "      <td>down</td>\n",
       "      <td>down</td>\n",
       "      <td>Download to temporary file, then copy to cache...</td>\n",
       "      <td>availability</td>\n",
       "      <td>code_comment</td>\n",
       "      <td>https://github.com/allenai/scispacy/tree/v0.5....</td>\n",
       "      <td>allenai/scispacy/v0.5.5</td>\n",
       "      <td>download</td>\n",
       "      <td>download, Download, DOWNLOAD</td>\n",
       "      <td>3</td>\n",
       "      <td>2</td>\n",
       "    </tr>\n",
       "    <tr>\n",
       "      <th>3</th>\n",
       "      <td>allenai/scispacy/v0.5.5.code_comment.availabil...</td>\n",
       "      <td>avail</td>\n",
       "      <td>avail</td>\n",
       "      <td>A candidate generator for entity linking to a ...</td>\n",
       "      <td>availability</td>\n",
       "      <td>code_comment</td>\n",
       "      <td>https://github.com/allenai/scispacy/tree/v0.5....</td>\n",
       "      <td>allenai/scispacy/v0.5.5</td>\n",
       "      <td>available</td>\n",
       "      <td>available, Available, AVAILABLE</td>\n",
       "      <td>3</td>\n",
       "      <td>1</td>\n",
       "    </tr>\n",
       "    <tr>\n",
       "      <th>4</th>\n",
       "      <td>allenai/scispacy/v0.5.5.code_comment.availabil...</td>\n",
       "      <td>consist</td>\n",
       "      <td>consist</td>\n",
       "      <td>A spacy pipeline component which identifies en...</td>\n",
       "      <td>availability</td>\n",
       "      <td>code_comment</td>\n",
       "      <td>https://github.com/allenai/scispacy/tree/v0.5....</td>\n",
       "      <td>allenai/scispacy/v0.5.5</td>\n",
       "      <td>consists</td>\n",
       "      <td>consists, Consists</td>\n",
       "      <td>2</td>\n",
       "      <td>1</td>\n",
       "    </tr>\n",
       "  </tbody>\n",
       "</table>\n",
       "</div>"
      ]
     },
     "execution_count": 8,
     "metadata": {},
     "output_type": "execute_result"
    }
   ],
   "execution_count": 8
  },
  {
   "metadata": {
    "ExecuteTime": {
     "end_time": "2025-07-11T19:23:35.845293Z",
     "start_time": "2025-07-11T19:23:32.281732Z"
    }
   },
   "cell_type": "code",
   "source": [
    "import pandas as pd\n",
    "\n",
    "df2 = pd.merge(df_main, df, \"left\", current_stage_cfg.depends_on_fields)\n",
    "df2.head()"
   ],
   "id": "8a22d08a9c1aac8a",
   "outputs": [
    {
     "data": {
      "text/plain": [
       "                                                  id  keyword keyword_raw  \\\n",
       "0  allenai/scispacy/v0.5.5.code_comment.availabil...     down        down   \n",
       "1  allenai/scispacy/v0.5.5.code_comment.availabil...     down        down   \n",
       "2  allenai/scispacy/v0.5.5.code_comment.availabil...     down        down   \n",
       "3  allenai/scispacy/v0.5.5.code_comment.availabil...    avail       avail   \n",
       "4  allenai/scispacy/v0.5.5.code_comment.availabil...  consist     consist   \n",
       "\n",
       "                                            sentence            qa  \\\n",
       "0  Given something that might be a URL (or might ...  availability   \n",
       "1  Given a URL, look for the corresponding datase...  availability   \n",
       "2  Download to temporary file, then copy to cache...  availability   \n",
       "3  A candidate generator for entity linking to a ...  availability   \n",
       "4  A spacy pipeline component which identifies en...  availability   \n",
       "\n",
       "         source                                                url  \\\n",
       "0  code_comment  https://github.com/allenai/scispacy/tree/v0.5....   \n",
       "1  code_comment  https://github.com/allenai/scispacy/tree/v0.5....   \n",
       "2  code_comment  https://github.com/allenai/scispacy/tree/v0.5....   \n",
       "3  code_comment  https://github.com/allenai/scispacy/tree/v0.5....   \n",
       "4  code_comment  https://github.com/allenai/scispacy/tree/v0.5....   \n",
       "\n",
       "                   repo_id matched_word             unique_matched_words  \\\n",
       "0  allenai/scispacy/v0.5.5     download     download, Download, DOWNLOAD   \n",
       "1  allenai/scispacy/v0.5.5     download     download, Download, DOWNLOAD   \n",
       "2  allenai/scispacy/v0.5.5     download     download, Download, DOWNLOAD   \n",
       "3  allenai/scispacy/v0.5.5    available  available, Available, AVAILABLE   \n",
       "4  allenai/scispacy/v0.5.5     consists               consists, Consists   \n",
       "\n",
       "   nunique_matched_words  nsimilar s1_true_positive s1_reasoning  \n",
       "0                      3         1              NaN          NaN  \n",
       "1                      3         1              NaN          NaN  \n",
       "2                      3         2              NaN          NaN  \n",
       "3                      3         1              NaN          NaN  \n",
       "4                      2         1              NaN          NaN  "
      ],
      "text/html": [
       "<div>\n",
       "<style scoped>\n",
       "    .dataframe tbody tr th:only-of-type {\n",
       "        vertical-align: middle;\n",
       "    }\n",
       "\n",
       "    .dataframe tbody tr th {\n",
       "        vertical-align: top;\n",
       "    }\n",
       "\n",
       "    .dataframe thead th {\n",
       "        text-align: right;\n",
       "    }\n",
       "</style>\n",
       "<table border=\"1\" class=\"dataframe\">\n",
       "  <thead>\n",
       "    <tr style=\"text-align: right;\">\n",
       "      <th></th>\n",
       "      <th>id</th>\n",
       "      <th>keyword</th>\n",
       "      <th>keyword_raw</th>\n",
       "      <th>sentence</th>\n",
       "      <th>qa</th>\n",
       "      <th>source</th>\n",
       "      <th>url</th>\n",
       "      <th>repo_id</th>\n",
       "      <th>matched_word</th>\n",
       "      <th>unique_matched_words</th>\n",
       "      <th>nunique_matched_words</th>\n",
       "      <th>nsimilar</th>\n",
       "      <th>s1_true_positive</th>\n",
       "      <th>s1_reasoning</th>\n",
       "    </tr>\n",
       "  </thead>\n",
       "  <tbody>\n",
       "    <tr>\n",
       "      <th>0</th>\n",
       "      <td>allenai/scispacy/v0.5.5.code_comment.availabil...</td>\n",
       "      <td>down</td>\n",
       "      <td>down</td>\n",
       "      <td>Given something that might be a URL (or might ...</td>\n",
       "      <td>availability</td>\n",
       "      <td>code_comment</td>\n",
       "      <td>https://github.com/allenai/scispacy/tree/v0.5....</td>\n",
       "      <td>allenai/scispacy/v0.5.5</td>\n",
       "      <td>download</td>\n",
       "      <td>download, Download, DOWNLOAD</td>\n",
       "      <td>3</td>\n",
       "      <td>1</td>\n",
       "      <td>NaN</td>\n",
       "      <td>NaN</td>\n",
       "    </tr>\n",
       "    <tr>\n",
       "      <th>1</th>\n",
       "      <td>allenai/scispacy/v0.5.5.code_comment.availabil...</td>\n",
       "      <td>down</td>\n",
       "      <td>down</td>\n",
       "      <td>Given a URL, look for the corresponding datase...</td>\n",
       "      <td>availability</td>\n",
       "      <td>code_comment</td>\n",
       "      <td>https://github.com/allenai/scispacy/tree/v0.5....</td>\n",
       "      <td>allenai/scispacy/v0.5.5</td>\n",
       "      <td>download</td>\n",
       "      <td>download, Download, DOWNLOAD</td>\n",
       "      <td>3</td>\n",
       "      <td>1</td>\n",
       "      <td>NaN</td>\n",
       "      <td>NaN</td>\n",
       "    </tr>\n",
       "    <tr>\n",
       "      <th>2</th>\n",
       "      <td>allenai/scispacy/v0.5.5.code_comment.availabil...</td>\n",
       "      <td>down</td>\n",
       "      <td>down</td>\n",
       "      <td>Download to temporary file, then copy to cache...</td>\n",
       "      <td>availability</td>\n",
       "      <td>code_comment</td>\n",
       "      <td>https://github.com/allenai/scispacy/tree/v0.5....</td>\n",
       "      <td>allenai/scispacy/v0.5.5</td>\n",
       "      <td>download</td>\n",
       "      <td>download, Download, DOWNLOAD</td>\n",
       "      <td>3</td>\n",
       "      <td>2</td>\n",
       "      <td>NaN</td>\n",
       "      <td>NaN</td>\n",
       "    </tr>\n",
       "    <tr>\n",
       "      <th>3</th>\n",
       "      <td>allenai/scispacy/v0.5.5.code_comment.availabil...</td>\n",
       "      <td>avail</td>\n",
       "      <td>avail</td>\n",
       "      <td>A candidate generator for entity linking to a ...</td>\n",
       "      <td>availability</td>\n",
       "      <td>code_comment</td>\n",
       "      <td>https://github.com/allenai/scispacy/tree/v0.5....</td>\n",
       "      <td>allenai/scispacy/v0.5.5</td>\n",
       "      <td>available</td>\n",
       "      <td>available, Available, AVAILABLE</td>\n",
       "      <td>3</td>\n",
       "      <td>1</td>\n",
       "      <td>NaN</td>\n",
       "      <td>NaN</td>\n",
       "    </tr>\n",
       "    <tr>\n",
       "      <th>4</th>\n",
       "      <td>allenai/scispacy/v0.5.5.code_comment.availabil...</td>\n",
       "      <td>consist</td>\n",
       "      <td>consist</td>\n",
       "      <td>A spacy pipeline component which identifies en...</td>\n",
       "      <td>availability</td>\n",
       "      <td>code_comment</td>\n",
       "      <td>https://github.com/allenai/scispacy/tree/v0.5....</td>\n",
       "      <td>allenai/scispacy/v0.5.5</td>\n",
       "      <td>consists</td>\n",
       "      <td>consists, Consists</td>\n",
       "      <td>2</td>\n",
       "      <td>1</td>\n",
       "      <td>NaN</td>\n",
       "      <td>NaN</td>\n",
       "    </tr>\n",
       "  </tbody>\n",
       "</table>\n",
       "</div>"
      ]
     },
     "execution_count": 9,
     "metadata": {},
     "output_type": "execute_result"
    }
   ],
   "execution_count": 9
  },
  {
   "metadata": {},
   "cell_type": "markdown",
   "source": "## Filter based on stage results\n",
   "id": "e606c145819cc0c0"
  },
  {
   "metadata": {
    "ExecuteTime": {
     "end_time": "2025-07-11T19:23:35.908914Z",
     "start_time": "2025-07-11T19:23:35.899916Z"
    }
   },
   "cell_type": "code",
   "source": "current_stage_cfg.get_boolean_field()",
   "id": "810f8d7518687326",
   "outputs": [
    {
     "data": {
      "text/plain": [
       "'s1_true_positive'"
      ]
     },
     "execution_count": 10,
     "metadata": {},
     "output_type": "execute_result"
    }
   ],
   "execution_count": 10
  },
  {
   "metadata": {
    "ExecuteTime": {
     "end_time": "2025-07-11T19:23:58.002857Z",
     "start_time": "2025-07-11T19:23:57.825513Z"
    }
   },
   "cell_type": "code",
   "source": [
    "## Individual for every stage (False or True)\n",
    "df2 = df2[df2[current_stage_cfg.get_boolean_field()] == True]\n",
    "df2.shape"
   ],
   "id": "5c9978827c7cdbbe",
   "outputs": [
    {
     "data": {
      "text/plain": [
       "(25, 14)"
      ]
     },
     "execution_count": 11,
     "metadata": {},
     "output_type": "execute_result"
    }
   ],
   "execution_count": 11
  },
  {
   "metadata": {},
   "cell_type": "markdown",
   "source": "## Prepare data for the next stage",
   "id": "900c203298b65e92"
  },
  {
   "metadata": {
    "ExecuteTime": {
     "end_time": "2025-07-11T19:24:05.895308Z",
     "start_time": "2025-07-11T19:24:05.882959Z"
    }
   },
   "cell_type": "code",
   "source": "next_stage_cfg = current_stage_cfg.next_stage",
   "id": "c7603e77e57b9df4",
   "outputs": [],
   "execution_count": 12
  },
  {
   "metadata": {
    "ExecuteTime": {
     "end_time": "2025-07-11T19:24:06.403014Z",
     "start_time": "2025-07-11T19:24:06.392463Z"
    }
   },
   "cell_type": "code",
   "source": [
    "required_columns_for_the_next_stage_prompt = next_stage_cfg.depends_on_fields\n",
    "default_columns = [\"repo_id\", \"source\"]\n",
    "total_columns = required_columns_for_the_next_stage_prompt + default_columns\n",
    "required_columns_for_the_next_stage_prompt, total_columns"
   ],
   "id": "9116355dcca06e37",
   "outputs": [
    {
     "data": {
      "text/plain": [
       "(['sentence'], ['sentence', 'repo_id', 'source'])"
      ]
     },
     "execution_count": 13,
     "metadata": {},
     "output_type": "execute_result"
    }
   ],
   "execution_count": 13
  },
  {
   "metadata": {
    "ExecuteTime": {
     "end_time": "2025-07-11T19:24:14.228564Z",
     "start_time": "2025-07-11T19:24:14.209798Z"
    }
   },
   "cell_type": "code",
   "source": "df3 = df2.drop_duplicates(required_columns_for_the_next_stage_prompt)[total_columns]",
   "id": "93c4775b67bcb43c",
   "outputs": [],
   "execution_count": 14
  },
  {
   "metadata": {
    "ExecuteTime": {
     "end_time": "2025-07-11T19:24:15.543126Z",
     "start_time": "2025-07-11T19:24:15.520654Z"
    }
   },
   "cell_type": "code",
   "source": "df3.head()",
   "id": "5e87d748a105a25",
   "outputs": [
    {
     "data": {
      "text/plain": [
       "                                                sentence  \\\n",
       "17438  Python operations to encode a tensor of ints i...   \n",
       "17703  Graph operations decode a string into a fixed-...   \n",
       "17834  Return true if a TPU device is available to th...   \n",
       "17960  We cannot build a PileupImage for dv_call, iss...   \n",
       "20886  Returns a list of variants that are incompatib...   \n",
       "\n",
       "                         repo_id        source  \n",
       "17438  google/deepvariant/v1.6.1  code_comment  \n",
       "17703  google/deepvariant/v1.6.1  code_comment  \n",
       "17834  google/deepvariant/v1.6.1  code_comment  \n",
       "17960  google/deepvariant/v1.6.1  code_comment  \n",
       "20886  google/deepvariant/v1.6.1  code_comment  "
      ],
      "text/html": [
       "<div>\n",
       "<style scoped>\n",
       "    .dataframe tbody tr th:only-of-type {\n",
       "        vertical-align: middle;\n",
       "    }\n",
       "\n",
       "    .dataframe tbody tr th {\n",
       "        vertical-align: top;\n",
       "    }\n",
       "\n",
       "    .dataframe thead th {\n",
       "        text-align: right;\n",
       "    }\n",
       "</style>\n",
       "<table border=\"1\" class=\"dataframe\">\n",
       "  <thead>\n",
       "    <tr style=\"text-align: right;\">\n",
       "      <th></th>\n",
       "      <th>sentence</th>\n",
       "      <th>repo_id</th>\n",
       "      <th>source</th>\n",
       "    </tr>\n",
       "  </thead>\n",
       "  <tbody>\n",
       "    <tr>\n",
       "      <th>17438</th>\n",
       "      <td>Python operations to encode a tensor of ints i...</td>\n",
       "      <td>google/deepvariant/v1.6.1</td>\n",
       "      <td>code_comment</td>\n",
       "    </tr>\n",
       "    <tr>\n",
       "      <th>17703</th>\n",
       "      <td>Graph operations decode a string into a fixed-...</td>\n",
       "      <td>google/deepvariant/v1.6.1</td>\n",
       "      <td>code_comment</td>\n",
       "    </tr>\n",
       "    <tr>\n",
       "      <th>17834</th>\n",
       "      <td>Return true if a TPU device is available to th...</td>\n",
       "      <td>google/deepvariant/v1.6.1</td>\n",
       "      <td>code_comment</td>\n",
       "    </tr>\n",
       "    <tr>\n",
       "      <th>17960</th>\n",
       "      <td>We cannot build a PileupImage for dv_call, iss...</td>\n",
       "      <td>google/deepvariant/v1.6.1</td>\n",
       "      <td>code_comment</td>\n",
       "    </tr>\n",
       "    <tr>\n",
       "      <th>20886</th>\n",
       "      <td>Returns a list of variants that are incompatib...</td>\n",
       "      <td>google/deepvariant/v1.6.1</td>\n",
       "      <td>code_comment</td>\n",
       "    </tr>\n",
       "  </tbody>\n",
       "</table>\n",
       "</div>"
      ]
     },
     "execution_count": 15,
     "metadata": {},
     "output_type": "execute_result"
    }
   ],
   "execution_count": 15
  },
  {
   "metadata": {
    "ExecuteTime": {
     "end_time": "2025-07-11T19:24:17.656254Z",
     "start_time": "2025-07-11T19:24:17.643661Z"
    }
   },
   "cell_type": "code",
   "source": "df3.shape",
   "id": "15609864c29689f3",
   "outputs": [
    {
     "data": {
      "text/plain": [
       "(13, 3)"
      ]
     },
     "execution_count": 16,
     "metadata": {},
     "output_type": "execute_result"
    }
   ],
   "execution_count": 16
  },
  {
   "metadata": {},
   "cell_type": "markdown",
   "source": "## Save optimized data",
   "id": "497b78ea3b149c4a"
  },
  {
   "metadata": {
    "ExecuteTime": {
     "end_time": "2025-07-11T19:24:21.392965Z",
     "start_time": "2025-07-11T19:24:21.325653Z"
    }
   },
   "cell_type": "code",
   "source": "split_dataset_by_repo_and_source(out_dir, df3, clean_before_saving=True, drop_columns_before_save=default_columns)\n",
   "id": "72d390306500c609",
   "outputs": [
    {
     "name": "stdout",
     "output_type": "stream",
     "text": [
      "C:\\Users\\Dmitrijs\\Documents\\myDocs\\masters\\courses\\thesis\\code\\data\\keywords\\s1_qa_relevance_check_o\\google.deepvariant.v1.6.1.code_comment.parquet\n",
      "Saved C:\\Users\\Dmitrijs\\Documents\\myDocs\\masters\\courses\\thesis\\code\\data\\keywords\\s1_qa_relevance_check_o\\google.deepvariant.v1.6.1.code_comment.parquet\n",
      "C:\\Users\\Dmitrijs\\Documents\\myDocs\\masters\\courses\\thesis\\code\\data\\keywords\\s1_qa_relevance_check_o\\google.deepvariant.v1.6.1.docs.parquet\n",
      "Saved C:\\Users\\Dmitrijs\\Documents\\myDocs\\masters\\courses\\thesis\\code\\data\\keywords\\s1_qa_relevance_check_o\\google.deepvariant.v1.6.1.docs.parquet\n"
     ]
    }
   ],
   "execution_count": 17
  },
  {
   "metadata": {
    "ExecuteTime": {
     "end_time": "2025-07-11T19:24:25.250274Z",
     "start_time": "2025-07-11T19:24:25.179242Z"
    }
   },
   "cell_type": "code",
   "source": [
    "from utilities.split_parquet import split_files_exceeding_max_limit\n",
    "\n",
    "split_files_exceeding_max_limit(out_dir)"
   ],
   "id": "8bb5bbcd35cd6799",
   "outputs": [],
   "execution_count": 18
  },
  {
   "metadata": {},
   "cell_type": "code",
   "outputs": [],
   "execution_count": null,
   "source": "",
   "id": "6c84fe64fdd1e934"
  }
 ],
 "metadata": {
  "kernelspec": {
   "display_name": "Python 3",
   "language": "python",
   "name": "python3"
  },
  "language_info": {
   "codemirror_mode": {
    "name": "ipython",
    "version": 2
   },
   "file_extension": ".py",
   "mimetype": "text/x-python",
   "name": "python",
   "nbconvert_exporter": "python",
   "pygments_lexer": "ipython2",
   "version": "2.7.6"
  }
 },
 "nbformat": 4,
 "nbformat_minor": 5
}

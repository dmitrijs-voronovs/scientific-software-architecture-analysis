{
 "cells": [
  {
   "metadata": {
    "collapsed": true
   },
   "cell_type": "code",
   "source": [
    "from constants.abs_paths import AbsDirPath\n",
    "from processing_pipeline.utilities.data_transformation import split_dataset_by_repo_and_source, load_all_files"
   ],
   "id": "initial_id",
   "outputs": [],
   "execution_count": null
  },
  {
   "metadata": {},
   "cell_type": "code",
   "source": [
    "from processing_pipeline.data_optimization.stage_cfg import S1QARelevance\n",
    "\n",
    "current_stage_cfg = S1QARelevance"
   ],
   "id": "ba8a53e2fb1d70fb",
   "outputs": [],
   "execution_count": null
  },
  {
   "metadata": {
    "collapsed": true
   },
   "cell_type": "code",
   "source": [
    "in_dir = current_stage_cfg.data_dir\n",
    "out_dir = AbsDirPath.O_S1_QA_RELEVANCE_CHECK\n",
    "df = load_all_files(in_dir)"
   ],
   "id": "6b42e9f15c21a9b9",
   "outputs": [],
   "execution_count": null
  },
  {
   "metadata": {},
   "cell_type": "code",
   "source": "df = df.drop(columns=[current_stage_cfg.get_column_name(\"prompt\")])\n",
   "id": "ebd7efef7c7efb78",
   "outputs": [],
   "execution_count": null
  },
  {
   "metadata": {},
   "cell_type": "code",
   "source": "df.head()",
   "id": "30d22d9debbc434e",
   "outputs": [],
   "execution_count": null
  },
  {
   "metadata": {},
   "cell_type": "code",
   "source": "df.shape",
   "id": "e1dc1ccfe0b90786",
   "outputs": [],
   "execution_count": null
  },
  {
   "metadata": {},
   "cell_type": "markdown",
   "source": "## Join data from the current stage with the optimized dataset",
   "id": "7c1d7ac99a0d348"
  },
  {
   "metadata": {},
   "cell_type": "code",
   "source": "df_main = load_all_files(AbsDirPath.O_KEYWORDS_MATCHING)",
   "id": "958eb88b94355e32",
   "outputs": [],
   "execution_count": null
  },
  {
   "metadata": {},
   "cell_type": "code",
   "source": "df_main.head()",
   "id": "5e02465e8683b076",
   "outputs": [],
   "execution_count": null
  },
  {
   "metadata": {},
   "cell_type": "code",
   "source": [
    "import pandas as pd\n",
    "\n",
    "df2 = pd.merge(df_main, df, \"left\", current_stage_cfg.depends_on_fields)\n",
    "df2.head()"
   ],
   "id": "8a22d08a9c1aac8a",
   "outputs": [],
   "execution_count": null
  },
  {
   "metadata": {},
   "cell_type": "markdown",
   "source": "## Filter based on stage results\n",
   "id": "e606c145819cc0c0"
  },
  {
   "metadata": {},
   "cell_type": "code",
   "source": "current_stage_cfg.get_boolean_field()",
   "id": "810f8d7518687326",
   "outputs": [],
   "execution_count": null
  },
  {
   "metadata": {},
   "cell_type": "code",
   "source": [
    "## Individual for every stage (False or True)\n",
    "df2 = df2[df2[current_stage_cfg.get_boolean_field()] == True]\n",
    "df2.shape"
   ],
   "id": "5c9978827c7cdbbe",
   "outputs": [],
   "execution_count": null
  },
  {
   "metadata": {},
   "cell_type": "markdown",
   "source": "## Prepare data for the next stage",
   "id": "900c203298b65e92"
  },
  {
   "metadata": {},
   "cell_type": "code",
   "source": "next_stage_cfg = current_stage_cfg.next_stage",
   "id": "c7603e77e57b9df4",
   "outputs": [],
   "execution_count": null
  },
  {
   "metadata": {},
   "cell_type": "code",
   "source": [
    "required_columns_for_the_next_stage_prompt = next_stage_cfg.depends_on_fields\n",
    "default_columns = [\"repo_id\", \"source\"]\n",
    "total_columns = required_columns_for_the_next_stage_prompt + default_columns\n",
    "required_columns_for_the_next_stage_prompt, total_columns"
   ],
   "id": "9116355dcca06e37",
   "outputs": [],
   "execution_count": null
  },
  {
   "metadata": {},
   "cell_type": "code",
   "source": "df3 = df2.drop_duplicates(required_columns_for_the_next_stage_prompt)[total_columns]",
   "id": "93c4775b67bcb43c",
   "outputs": [],
   "execution_count": null
  },
  {
   "metadata": {},
   "cell_type": "code",
   "source": "df3.head()",
   "id": "5e87d748a105a25",
   "outputs": [],
   "execution_count": null
  },
  {
   "metadata": {},
   "cell_type": "code",
   "source": "df3.shape",
   "id": "15609864c29689f3",
   "outputs": [],
   "execution_count": null
  },
  {
   "metadata": {},
   "cell_type": "code",
   "source": "df3.groupby([\"source\"]).size()",
   "id": "100bfe4e158ec9b4",
   "outputs": [],
   "execution_count": null
  },
  {
   "metadata": {},
   "cell_type": "markdown",
   "source": "## Save optimized data",
   "id": "497b78ea3b149c4a"
  },
  {
   "metadata": {},
   "cell_type": "code",
   "source": "split_dataset_by_repo_and_source(out_dir, df3, clean_before_saving=True, drop_columns_before_save=default_columns)\n",
   "id": "72d390306500c609",
   "outputs": [],
   "execution_count": null
  },
  {
   "metadata": {},
   "cell_type": "code",
   "source": [
    "from utilities.split_parquet import split_files_exceeding_max_limit\n",
    "\n",
    "split_files_exceeding_max_limit(out_dir)"
   ],
   "id": "8bb5bbcd35cd6799",
   "outputs": [],
   "execution_count": null
  },
  {
   "metadata": {},
   "cell_type": "code",
   "source": "",
   "id": "6c84fe64fdd1e934",
   "outputs": [],
   "execution_count": null
  }
 ],
 "metadata": {
  "kernelspec": {
   "display_name": "Python 3",
   "language": "python",
   "name": "python3"
  },
  "language_info": {
   "codemirror_mode": {
    "name": "ipython",
    "version": 2
   },
   "file_extension": ".py",
   "mimetype": "text/x-python",
   "name": "python",
   "nbconvert_exporter": "python",
   "pygments_lexer": "ipython2",
   "version": "2.7.6"
  }
 },
 "nbformat": 4,
 "nbformat_minor": 5
}

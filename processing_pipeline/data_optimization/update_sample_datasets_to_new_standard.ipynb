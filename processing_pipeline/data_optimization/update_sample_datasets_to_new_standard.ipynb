{
 "cells": [
  {
   "metadata": {
    "collapsed": true,
    "ExecuteTime": {
     "end_time": "2025-07-10T20:13:03.425741Z",
     "start_time": "2025-07-10T20:13:01.964431Z"
    }
   },
   "cell_type": "code",
   "source": [
    "from constants.abs_paths import AbsDirPath\n",
    "from processing_pipeline.utilities.data_transformation import split_dataset_by_repo_and_source, load_all_files"
   ],
   "id": "initial_id",
   "outputs": [],
   "execution_count": 1
  },
  {
   "metadata": {
    "ExecuteTime": {
     "end_time": "2025-07-10T20:14:02.102400Z",
     "start_time": "2025-07-10T20:14:02.083612Z"
    }
   },
   "cell_type": "code",
   "source": [
    "from processing_pipeline.data_optimization.stage_cfg import S0NoiseFiltering\n",
    "\n",
    "current_stage_cfg = S0NoiseFiltering"
   ],
   "id": "ba8a53e2fb1d70fb",
   "outputs": [],
   "execution_count": 3
  },
  {
   "metadata": {
    "ExecuteTime": {
     "end_time": "2025-07-10T20:18:05.519236Z",
     "start_time": "2025-07-10T20:18:05.496617Z"
    }
   },
   "cell_type": "code",
   "source": [
    "current_stage_cfg = current_stage_cfg.next_stage\n",
    "current_stage_cfg"
   ],
   "id": "ca66f831a953ea06",
   "outputs": [
    {
     "data": {
      "text/plain": [
       "StageConfig(name='s3', depends_on_fields=['sentence'], resulting_fields=['tactic', 'response'], data_dir=WindowsPath('C:/Users/Dmitrijs/Documents/myDocs/masters/courses/thesis/code/data/keywords/s3_tactic_extraction'), boolean_field_name=None, next_stage=None)"
      ]
     },
     "execution_count": 15,
     "metadata": {},
     "output_type": "execute_result"
    }
   ],
   "execution_count": 15
  },
  {
   "metadata": {
    "collapsed": true,
    "ExecuteTime": {
     "end_time": "2025-07-10T20:18:07.884736Z",
     "start_time": "2025-07-10T20:18:07.710163Z"
    }
   },
   "cell_type": "code",
   "source": [
    "in_dir = current_stage_cfg.data_dir\n",
    "out_dir = AbsDirPath.O_S0_NOISE_FILTERING\n",
    "df = load_all_files(in_dir)"
   ],
   "id": "6b42e9f15c21a9b9",
   "outputs": [
    {
     "name": "stdout",
     "output_type": "stream",
     "text": [
      "Loaded C:\\Users\\Dmitrijs\\Documents\\myDocs\\masters\\courses\\thesis\\code\\data\\keywords\\s3_tactic_extraction\\google.deepvariant.v1.6.1.code_comment.0.from_1220.parquet\n",
      "Loaded C:\\Users\\Dmitrijs\\Documents\\myDocs\\masters\\courses\\thesis\\code\\data\\keywords\\s3_tactic_extraction\\google.deepvariant.v1.6.1.code_comment.0.from_1240.parquet\n",
      "Loaded C:\\Users\\Dmitrijs\\Documents\\myDocs\\masters\\courses\\thesis\\code\\data\\keywords\\s3_tactic_extraction\\google.deepvariant.v1.6.1.code_comment.0.from_1290.parquet\n",
      "Loaded C:\\Users\\Dmitrijs\\Documents\\myDocs\\masters\\courses\\thesis\\code\\data\\keywords\\s3_tactic_extraction\\google.deepvariant.v1.6.1.code_comment.0.from_1310.from_80.parquet\n",
      "Loaded C:\\Users\\Dmitrijs\\Documents\\myDocs\\masters\\courses\\thesis\\code\\data\\keywords\\s3_tactic_extraction\\google.deepvariant.v1.6.1.code_comment.0.from_1310.parquet\n",
      "Loaded C:\\Users\\Dmitrijs\\Documents\\myDocs\\masters\\courses\\thesis\\code\\data\\keywords\\s3_tactic_extraction\\google.deepvariant.v1.6.1.code_comment.0.from_480.from_80.parquet\n",
      "Loaded C:\\Users\\Dmitrijs\\Documents\\myDocs\\masters\\courses\\thesis\\code\\data\\keywords\\s3_tactic_extraction\\google.deepvariant.v1.6.1.code_comment.0.from_480.parquet\n",
      "Loaded C:\\Users\\Dmitrijs\\Documents\\myDocs\\masters\\courses\\thesis\\code\\data\\keywords\\s3_tactic_extraction\\google.deepvariant.v1.6.1.code_comment.0.from_60.parquet\n",
      "Loaded C:\\Users\\Dmitrijs\\Documents\\myDocs\\masters\\courses\\thesis\\code\\data\\keywords\\s3_tactic_extraction\\google.deepvariant.v1.6.1.code_comment.1.from_60.parquet\n",
      "Loaded C:\\Users\\Dmitrijs\\Documents\\myDocs\\masters\\courses\\thesis\\code\\data\\keywords\\s3_tactic_extraction\\google.deepvariant.v1.6.1.code_comment.1.parquet\n",
      "Loaded C:\\Users\\Dmitrijs\\Documents\\myDocs\\masters\\courses\\thesis\\code\\data\\keywords\\s3_tactic_extraction\\google.deepvariant.v1.6.1.code_comment.2.from_30.parquet\n"
     ]
    }
   ],
   "execution_count": 16
  },
  {
   "metadata": {
    "ExecuteTime": {
     "end_time": "2025-07-10T20:18:09.164894Z",
     "start_time": "2025-07-10T20:18:08.904380Z"
    }
   },
   "cell_type": "code",
   "source": [
    "import pandas as pd\n",
    "\n",
    "for file_path in in_dir.glob(\"*.parquet\"):\n",
    "    # try:\n",
    "    df = pd.read_parquet(file_path, engine='pyarrow')\n",
    "    # df = df.rename(columns={ \"s0_reason\": \"s0_reasoning\"})\n",
    "    df[current_stage_cfg.all_df_columns()].to_parquet(file_path, engine='pyarrow', compression='snappy', index=False)\n",
    "    print(f\"modified {file_path}\")\n",
    "    # except:\n",
    "    # print(f\"Error while loading {file_path}\")\n",
    "\n"
   ],
   "id": "470849004c1ffaa5",
   "outputs": [
    {
     "name": "stdout",
     "output_type": "stream",
     "text": [
      "modified C:\\Users\\Dmitrijs\\Documents\\myDocs\\masters\\courses\\thesis\\code\\data\\keywords\\s3_tactic_extraction\\google.deepvariant.v1.6.1.code_comment.0.from_1220.parquet\n",
      "modified C:\\Users\\Dmitrijs\\Documents\\myDocs\\masters\\courses\\thesis\\code\\data\\keywords\\s3_tactic_extraction\\google.deepvariant.v1.6.1.code_comment.0.from_1240.parquet\n",
      "modified C:\\Users\\Dmitrijs\\Documents\\myDocs\\masters\\courses\\thesis\\code\\data\\keywords\\s3_tactic_extraction\\google.deepvariant.v1.6.1.code_comment.0.from_1290.parquet\n",
      "modified C:\\Users\\Dmitrijs\\Documents\\myDocs\\masters\\courses\\thesis\\code\\data\\keywords\\s3_tactic_extraction\\google.deepvariant.v1.6.1.code_comment.0.from_1310.from_80.parquet\n",
      "modified C:\\Users\\Dmitrijs\\Documents\\myDocs\\masters\\courses\\thesis\\code\\data\\keywords\\s3_tactic_extraction\\google.deepvariant.v1.6.1.code_comment.0.from_1310.parquet\n",
      "modified C:\\Users\\Dmitrijs\\Documents\\myDocs\\masters\\courses\\thesis\\code\\data\\keywords\\s3_tactic_extraction\\google.deepvariant.v1.6.1.code_comment.0.from_480.from_80.parquet\n",
      "modified C:\\Users\\Dmitrijs\\Documents\\myDocs\\masters\\courses\\thesis\\code\\data\\keywords\\s3_tactic_extraction\\google.deepvariant.v1.6.1.code_comment.0.from_480.parquet\n",
      "modified C:\\Users\\Dmitrijs\\Documents\\myDocs\\masters\\courses\\thesis\\code\\data\\keywords\\s3_tactic_extraction\\google.deepvariant.v1.6.1.code_comment.0.from_60.parquet\n",
      "modified C:\\Users\\Dmitrijs\\Documents\\myDocs\\masters\\courses\\thesis\\code\\data\\keywords\\s3_tactic_extraction\\google.deepvariant.v1.6.1.code_comment.1.from_60.parquet\n",
      "modified C:\\Users\\Dmitrijs\\Documents\\myDocs\\masters\\courses\\thesis\\code\\data\\keywords\\s3_tactic_extraction\\google.deepvariant.v1.6.1.code_comment.1.parquet\n",
      "modified C:\\Users\\Dmitrijs\\Documents\\myDocs\\masters\\courses\\thesis\\code\\data\\keywords\\s3_tactic_extraction\\google.deepvariant.v1.6.1.code_comment.2.from_30.parquet\n"
     ]
    }
   ],
   "execution_count": 17
  }
 ],
 "metadata": {
  "kernelspec": {
   "display_name": "Python 3",
   "language": "python",
   "name": "python3"
  },
  "language_info": {
   "codemirror_mode": {
    "name": "ipython",
    "version": 2
   },
   "file_extension": ".py",
   "mimetype": "text/x-python",
   "name": "python",
   "nbconvert_exporter": "python",
   "pygments_lexer": "ipython2",
   "version": "2.7.6"
  }
 },
 "nbformat": 4,
 "nbformat_minor": 5
}

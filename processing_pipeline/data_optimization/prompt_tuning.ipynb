{
 "cells": [
  {
   "metadata": {},
   "cell_type": "markdown",
   "source": "## Test prompt for S0",
   "id": "45643658e558e115"
  },
  {
   "cell_type": "code",
   "id": "9a0fbf4238afd766",
   "metadata": {},
   "source": [
    "from constants.abs_paths import AbsDirPath\n",
    "\n",
    "from processing_pipeline.utilities.data_transformation import load_all_files"
   ],
   "outputs": [],
   "execution_count": null
  },
  {
   "metadata": {
    "collapsed": true
   },
   "cell_type": "code",
   "source": [
    "\n",
    "df_o = load_all_files(AbsDirPath.O_KEYWORDS_MATCHING)\n",
    "df_o.shape"
   ],
   "id": "initial_id",
   "outputs": [],
   "execution_count": null
  },
  {
   "metadata": {},
   "cell_type": "code",
   "source": "df_o.head()",
   "id": "51ad9d008f2958d7",
   "outputs": [],
   "execution_count": null
  },
  {
   "metadata": {},
   "cell_type": "code",
   "source": [
    "df_o['nwords'] = df_o.sentence.str.count(\" \") + 1\n",
    "df_o = df_o[df_o.nwords > 5]\n"
   ],
   "id": "29e3bfff698fe6fa",
   "outputs": [],
   "execution_count": null
  },
  {
   "metadata": {},
   "cell_type": "code",
   "source": "df_o.groupby('sentence').nsimilar.agg(\"sum\").sort_values(ascending=False)",
   "id": "f09abdef297940eb",
   "outputs": [],
   "execution_count": null
  },
  {
   "metadata": {},
   "cell_type": "code",
   "source": "df_sample = df_o.groupby('sentence').nsimilar.agg(\"sum\").sort_values(ascending=False).head(200).reset_index().drop(columns=\"nsimilar\")",
   "id": "1814bbd5c9bdb3f",
   "outputs": [],
   "execution_count": null
  },
  {
   "metadata": {},
   "cell_type": "code",
   "source": [
    "AbsDirPath.PT_O_KEYWORDS_MATCHING.mkdir(exist_ok=True)\n",
    "df_sample.to_parquet(AbsDirPath.PT_O_KEYWORDS_MATCHING / \"sample.parquet\", index=False, engine=\"pyarrow\", compression=\"snappy\")"
   ],
   "id": "951d723ed38a3d56",
   "outputs": [],
   "execution_count": null
  },
  {
   "metadata": {},
   "cell_type": "code",
   "source": [
    "from processing_pipeline.s0_noise_filtering.NoiseFiltering import NoiseFilteringStage\n",
    "from cfg.LLMHost import LLMHost\n",
    "\n",
    "NoiseFilteringStage(hostname=LLMHost.GREEN_LAB, in_dir_override=AbsDirPath.PT_O_KEYWORDS_MATCHING, out_dir_override=AbsDirPath.PT_S0_NOISE_FILTERING, batch_size_override=20, disable_cache=True).execute()\n"
   ],
   "id": "a677306973248df7",
   "outputs": [],
   "execution_count": null
  },
  {
   "metadata": {},
   "cell_type": "code",
   "source": [
    "out_dir = AbsDirPath.PT_S0_NOISE_FILTERING\n",
    "df_results = load_all_files(out_dir)\n",
    "df_results.to_csv(out_dir / \"sample.csv\")"
   ],
   "id": "3bb44cf34262b918",
   "outputs": [],
   "execution_count": null
  },
  {
   "metadata": {},
   "cell_type": "code",
   "source": "df_results.head()",
   "id": "9fb9037d14dbc85c",
   "outputs": [],
   "execution_count": null
  },
  {
   "metadata": {},
   "cell_type": "markdown",
   "source": "## Test prompt for S1",
   "id": "c45edffc70da60d"
  },
  {
   "metadata": {},
   "cell_type": "code",
   "source": [
    "import pandas as pd\n",
    "\n",
    "df_merged = pd.merge(df_o, df_results.drop(columns=[\"s0_prompt\"])[df_results.s0_to_eliminate == False], on=\"sentence\", how=\"right\")\n",
    "df_merged.shape"
   ],
   "id": "a142f4743227fc8a",
   "outputs": [],
   "execution_count": null
  },
  {
   "metadata": {},
   "cell_type": "code",
   "source": "df_merged.head()",
   "id": "feef4d53bda42c3d",
   "outputs": [],
   "execution_count": null
  },
  {
   "metadata": {},
   "cell_type": "code",
   "source": [
    "df_merged = df_merged.drop_duplicates([\"qa\", \"sentence\"])\n",
    "df_merged.shape"
   ],
   "id": "b7999c77f7d51e4f",
   "outputs": [],
   "execution_count": null
  },
  {
   "metadata": {},
   "cell_type": "code",
   "source": "",
   "id": "c558e837483bfdcc",
   "outputs": [],
   "execution_count": null
  }
 ],
 "metadata": {
  "kernelspec": {
   "display_name": "Python 3",
   "language": "python",
   "name": "python3"
  },
  "language_info": {
   "codemirror_mode": {
    "name": "ipython",
    "version": 2
   },
   "file_extension": ".py",
   "mimetype": "text/x-python",
   "name": "python",
   "nbconvert_exporter": "python",
   "pygments_lexer": "ipython2",
   "version": "2.7.6"
  }
 },
 "nbformat": 4,
 "nbformat_minor": 5
}

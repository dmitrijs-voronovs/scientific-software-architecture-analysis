{
 "cells": [
  {
   "metadata": {
    "collapsed": true
   },
   "cell_type": "code",
   "source": [
    "\n",
    "\n",
    "from constants.abs_paths import AbsDirPath\n",
    "import pandas as pd\n",
    "\n",
    "from processing_pipeline.utilities.data_transformation import split_dataset_by_repo_and_source, load_all_files"
   ],
   "id": "initial_id",
   "outputs": [],
   "execution_count": null
  },
  {
   "metadata": {
    "collapsed": true
   },
   "cell_type": "code",
   "source": [
    "file_dir = AbsDirPath.KEYWORDS_MATCHING\n",
    "\n",
    "df = load_all_files(file_dir)"
   ],
   "id": "6b42e9f15c21a9b9",
   "outputs": [],
   "execution_count": null
  },
  {
   "metadata": {},
   "cell_type": "code",
   "source": "df.head()",
   "id": "30d22d9debbc434e",
   "outputs": [],
   "execution_count": null
  },
  {
   "metadata": {},
   "cell_type": "code",
   "source": "df.shape",
   "id": "9116355dcca06e37",
   "outputs": [],
   "execution_count": null
  },
  {
   "metadata": {},
   "cell_type": "markdown",
   "source": [
    "## Reduce dataset size based on lowercase matched keywords\n",
    "Preserve original matched words and count of matches..."
   ],
   "id": "33ca6e740407ca0a"
  },
  {
   "metadata": {},
   "cell_type": "code",
   "source": "df.groupby(\"matched_word\").size()",
   "id": "eefd359525fb5d75",
   "outputs": [],
   "execution_count": null
  },
  {
   "metadata": {},
   "cell_type": "code",
   "source": "df[\"matched_word_lw\"] = df.matched_word.str.lower()",
   "id": "3f499d60f7b08e9c",
   "outputs": [],
   "execution_count": null
  },
  {
   "metadata": {},
   "cell_type": "code",
   "source": "df.groupby(\"matched_word_lw\").size()",
   "id": "47a3dad9b201d62c",
   "outputs": [],
   "execution_count": null
  },
  {
   "metadata": {},
   "cell_type": "code",
   "source": [
    "matched_word_df = df.groupby(\"matched_word_lw\").matched_word.agg(unique_matched_words=(\"unique\"), nunique_matched_words=(\"nunique\"))\n",
    "matched_word_df"
   ],
   "id": "cc04bf72eb7b20aa",
   "outputs": [],
   "execution_count": null
  },
  {
   "metadata": {},
   "cell_type": "code",
   "source": [
    "df = pd.merge(df, matched_word_df, \"left\", \"matched_word_lw\")\n",
    "df"
   ],
   "id": "22d08dbfbd360559",
   "outputs": [],
   "execution_count": null
  },
  {
   "metadata": {},
   "cell_type": "code",
   "source": [
    "df = df.drop(columns=\"matched_word\")\n",
    "df = df.rename(columns={\"matched_word_lw\": \"matched_word\"})\n",
    "df"
   ],
   "id": "2ec482bf7f8ad092",
   "outputs": [],
   "execution_count": null
  },
  {
   "metadata": {},
   "cell_type": "markdown",
   "source": "## Clean sentences",
   "id": "7aa77f92e0f285b4"
  },
  {
   "metadata": {},
   "cell_type": "code",
   "source": "df.sentence = df.sentence.str.replace(r\"((\\t|\\r) ?)+\", \" \", regex=True)",
   "id": "b1d0fdd6699d1706",
   "outputs": [],
   "execution_count": null
  },
  {
   "metadata": {},
   "cell_type": "code",
   "source": "df.sentence = df.sentence.str.replace(r\"[ \\\"'#]{2,}\", \" \", regex=True)",
   "id": "9daf0737b843496d",
   "outputs": [],
   "execution_count": null
  },
  {
   "metadata": {},
   "cell_type": "markdown",
   "source": [
    "## Assign IDs to similar items\n",
    "Similar items are considered the ones that have all the similar parameters but the match idx\n",
    "\n",
    "Also remove match idx, as it is not used"
   ],
   "id": "b5be286dccf8d5e5"
  },
  {
   "metadata": {},
   "cell_type": "code",
   "source": "df = df.drop(columns=\"match_idx\")",
   "id": "aaecd610c6ab0b38",
   "outputs": [],
   "execution_count": null
  },
  {
   "metadata": {},
   "cell_type": "code",
   "source": [
    "import hashlib\n",
    "\n",
    "quick_hash = lambda x: hashlib.md5(x.encode('utf-8')).hexdigest()\n",
    "\n",
    "df[\"sentence_hash\"] = df['sentence'].apply(quick_hash)"
   ],
   "id": "c99ac1103c2fa9cb",
   "outputs": [],
   "execution_count": null
  },
  {
   "metadata": {},
   "cell_type": "code",
   "source": "df.head()",
   "id": "e7782c9aab8ffb24",
   "outputs": [],
   "execution_count": null
  },
  {
   "metadata": {},
   "cell_type": "code",
   "source": [
    "df['id'] = df.repo_id + \".\" + df.source + \".\" + df.qa + \".\" +  df.sentence_hash + \".\" + df.keyword + \".\" +df.matched_word\n",
    "df.head()"
   ],
   "id": "a0e6e8686fccc233",
   "outputs": [],
   "execution_count": null
  },
  {
   "metadata": {},
   "cell_type": "code",
   "source": "df = df.drop(columns=[\"sentence_hash\"])",
   "id": "8e51c4051d89e592",
   "outputs": [],
   "execution_count": null
  },
  {
   "metadata": {},
   "cell_type": "code",
   "source": [
    "df[\"nsimilar\"] = df.groupby(\"id\").transform(\"size\")\n",
    "df = df.groupby(\"id\").first()\n",
    "df.head()"
   ],
   "id": "8e0a3e66a8a05aa5",
   "outputs": [],
   "execution_count": null
  },
  {
   "metadata": {},
   "cell_type": "markdown",
   "source": "### Matched word clean up results: before and after",
   "id": "b2a2e89b57976787"
  },
  {
   "metadata": {},
   "cell_type": "code",
   "source": "df.groupby(\"keyword\").nsimilar.agg([\"sum\", \"count\"]).sum(axis=0)",
   "id": "a7ca91c1c49beb83",
   "outputs": [],
   "execution_count": null
  },
  {
   "metadata": {},
   "cell_type": "code",
   "source": "df.groupby(\"keyword\").nsimilar.agg([\"sum\", \"count\"]).sum(axis=0)",
   "id": "bdbfc7df3a8d2775",
   "outputs": [],
   "execution_count": null
  },
  {
   "metadata": {},
   "cell_type": "code",
   "source": "df.groupby(\"keyword\").nsimilar.agg([\"sum\", \"count\"])",
   "id": "4a6a3760709c607e",
   "outputs": [],
   "execution_count": null
  },
  {
   "metadata": {},
   "cell_type": "markdown",
   "source": "## Output to optimized folder",
   "id": "d2d8cc68186abad8"
  },
  {
   "metadata": {},
   "cell_type": "code",
   "source": "df.head()",
   "id": "2b440cb06d3c030",
   "outputs": [],
   "execution_count": null
  },
  {
   "metadata": {},
   "cell_type": "code",
   "source": [
    "# avoid inconsistent read issue with parquet and pyarrow\n",
    "df.unique_matched_words = df.unique_matched_words.agg(\", \".join)\n",
    "df.head()"
   ],
   "id": "c942ce27ebe1ac2c",
   "outputs": [],
   "execution_count": null
  },
  {
   "metadata": {},
   "cell_type": "code",
   "source": [
    "output_dir = AbsDirPath.KEYWORDS / \"matched_o\"\n",
    "\n",
    "output_dir.mkdir(exist_ok=True)\n",
    "split_dataset_by_repo_and_source(output_dir, df.reset_index())\n"
   ],
   "id": "72d390306500c609",
   "outputs": [],
   "execution_count": null
  },
  {
   "metadata": {},
   "cell_type": "code",
   "source": [
    "from utilities.split_parquet import split_files_exceeding_max_limit\n",
    "\n",
    "split_files_exceeding_max_limit(output_dir)"
   ],
   "id": "2835efa20b0afc5a",
   "outputs": [],
   "execution_count": null
  }
 ],
 "metadata": {
  "kernelspec": {
   "display_name": "Python 3",
   "language": "python",
   "name": "python3"
  },
  "language_info": {
   "codemirror_mode": {
    "name": "ipython",
    "version": 2
   },
   "file_extension": ".py",
   "mimetype": "text/x-python",
   "name": "python",
   "nbconvert_exporter": "python",
   "pygments_lexer": "ipython2",
   "version": "2.7.6"
  }
 },
 "nbformat": 4,
 "nbformat_minor": 5
}

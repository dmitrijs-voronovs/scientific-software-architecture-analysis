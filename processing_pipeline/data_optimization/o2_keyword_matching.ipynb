{
 "cells": [
  {
   "metadata": {
    "collapsed": true
   },
   "cell_type": "code",
   "source": [
    "from constants.abs_paths import AbsDirPath\n",
    "import pandas as pd\n",
    "\n",
    "from processing_pipeline.utilities.data_transformation import split_dataset_by_repo_and_source, load_all_files"
   ],
   "id": "initial_id",
   "outputs": [],
   "execution_count": null
  },
  {
   "metadata": {
    "collapsed": true
   },
   "cell_type": "code",
   "source": "df = load_all_files(AbsDirPath.O_KEYWORDS_MATCHING)",
   "id": "6b42e9f15c21a9b9",
   "outputs": [],
   "execution_count": null
  },
  {
   "metadata": {},
   "cell_type": "code",
   "source": "df.head()",
   "id": "30d22d9debbc434e",
   "outputs": [],
   "execution_count": null
  },
  {
   "metadata": {},
   "cell_type": "code",
   "source": "df.shape",
   "id": "e1dc1ccfe0b90786",
   "outputs": [],
   "execution_count": null
  },
  {
   "metadata": {},
   "cell_type": "markdown",
   "source": "## Extract columns required for the next stage's prompt",
   "id": "e606c145819cc0c0"
  },
  {
   "metadata": {},
   "cell_type": "code",
   "source": [
    "required_columns_for_the_next_stage_prompt = [\"sentence\"]\n",
    "default_columns = [\"repo_id\", \"source\"]\n",
    "total_columns = required_columns_for_the_next_stage_prompt + default_columns"
   ],
   "id": "9116355dcca06e37",
   "outputs": [],
   "execution_count": null
  },
  {
   "metadata": {},
   "cell_type": "code",
   "source": "df2 = df.drop_duplicates(required_columns_for_the_next_stage_prompt)[total_columns]",
   "id": "93c4775b67bcb43c",
   "outputs": [],
   "execution_count": null
  },
  {
   "metadata": {},
   "cell_type": "code",
   "source": "df2.head()",
   "id": "5e87d748a105a25",
   "outputs": [],
   "execution_count": null
  },
  {
   "metadata": {},
   "cell_type": "code",
   "source": "df2.shape",
   "id": "15609864c29689f3",
   "outputs": [],
   "execution_count": null
  },
  {
   "metadata": {},
   "cell_type": "markdown",
   "source": "## Drop sentences that contain 5 or fewer words",
   "id": "343f50340ef336f7"
  },
  {
   "metadata": {},
   "cell_type": "code",
   "source": [
    "df2['nwords'] = df2.sentence.str.count(\" \") + 1\n",
    "df2.sort_values([\"nwords\"], ascending=True).head(100)"
   ],
   "id": "296da7dd48e6822f",
   "outputs": [],
   "execution_count": null
  },
  {
   "metadata": {},
   "cell_type": "code",
   "source": [
    "max_nwords = df2.nwords.max()\n",
    "max_nwords"
   ],
   "id": "1bb4d22e4e981c9d",
   "outputs": [],
   "execution_count": null
  },
  {
   "metadata": {},
   "cell_type": "code",
   "source": "max_nwords // 10",
   "id": "dbfb38b370f32c3e",
   "outputs": [],
   "execution_count": null
  },
  {
   "metadata": {},
   "cell_type": "code",
   "source": [
    "import plotly.express as px\n",
    "\n",
    "# df2.hist(column=\"nwords\", nbin)\n",
    "px.histogram(df2, x=\"nwords\", nbins=int(max_nwords * 2 * 2 // 10))\n"
   ],
   "id": "899872b9586e4311",
   "outputs": [],
   "execution_count": null
  },
  {
   "metadata": {},
   "cell_type": "code",
   "source": "df2[(df2.nwords > 5) & (df2.nwords < 11)].sort_values(\"nwords\", ascending=True)",
   "id": "e6103c023ee39852",
   "outputs": [],
   "execution_count": null
  },
  {
   "metadata": {},
   "cell_type": "code",
   "source": "df3 = df2[df2.nwords > 5]",
   "id": "957fba150c3da368",
   "outputs": [],
   "execution_count": null
  },
  {
   "metadata": {},
   "cell_type": "code",
   "source": "df3.shape",
   "id": "f34df2088f74002f",
   "outputs": [],
   "execution_count": null
  },
  {
   "metadata": {},
   "cell_type": "markdown",
   "source": "## Save optimized data",
   "id": "497b78ea3b149c4a"
  },
  {
   "metadata": {},
   "cell_type": "code",
   "source": "split_dataset_by_repo_and_source(AbsDirPath.O2_KEYWORDS_MATCHING, df3, clean_before_saving=True, drop_columns_before_save=default_columns + [\"nwords\"])\n",
   "id": "72d390306500c609",
   "outputs": [],
   "execution_count": null
  },
  {
   "metadata": {},
   "cell_type": "code",
   "source": [
    "from utilities.split_parquet import split_files_exceeding_max_limit\n",
    "\n",
    "split_files_exceeding_max_limit(AbsDirPath.O2_KEYWORDS_MATCHING)"
   ],
   "id": "8bb5bbcd35cd6799",
   "outputs": [],
   "execution_count": null
  },
  {
   "metadata": {},
   "cell_type": "code",
   "source": "",
   "id": "6c84fe64fdd1e934",
   "outputs": [],
   "execution_count": null
  }
 ],
 "metadata": {
  "kernelspec": {
   "display_name": "Python 3",
   "language": "python",
   "name": "python3"
  },
  "language_info": {
   "codemirror_mode": {
    "name": "ipython",
    "version": 2
   },
   "file_extension": ".py",
   "mimetype": "text/x-python",
   "name": "python",
   "nbconvert_exporter": "python",
   "pygments_lexer": "ipython2",
   "version": "2.7.6"
  }
 },
 "nbformat": 4,
 "nbformat_minor": 5
}

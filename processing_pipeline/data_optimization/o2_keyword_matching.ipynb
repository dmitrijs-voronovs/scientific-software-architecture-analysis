{
 "cells": [
  {
   "metadata": {},
   "cell_type": "markdown",
   "source": "## Load data",
   "id": "998f1ae469f47048"
  },
  {
   "metadata": {},
   "cell_type": "code",
   "source": [
    "from processing_pipeline.data_optimization.stage_cfg import first_stage\n",
    "\n",
    "stage = first_stage"
   ],
   "id": "b8f8ca278f5615d5",
   "outputs": [],
   "execution_count": null
  },
  {
   "metadata": {},
   "cell_type": "code",
   "source": [
    "df = stage.load_stage_df()\n",
    "df.shape"
   ],
   "id": "d27506df2072a9be",
   "outputs": [],
   "execution_count": null
  },
  {
   "metadata": {},
   "cell_type": "code",
   "source": "df.head()",
   "id": "4cced52f961d38cc",
   "outputs": [],
   "execution_count": null
  },
  {
   "metadata": {},
   "cell_type": "markdown",
   "source": "## Optimize data",
   "id": "41fd3fd9b6159b0"
  },
  {
   "metadata": {},
   "cell_type": "code",
   "source": [
    "df = stage.apply_filters_till_current()\n",
    "df.shape"
   ],
   "id": "336309ba5e85fee4",
   "outputs": [],
   "execution_count": null
  },
  {
   "metadata": {},
   "cell_type": "code",
   "source": "df.head()",
   "id": "8ad785d4f3c1e8fb",
   "outputs": [],
   "execution_count": null
  },
  {
   "metadata": {},
   "cell_type": "markdown",
   "source": "## Optimize data for the next stage",
   "id": "363886b7b3619c18"
  },
  {
   "metadata": {},
   "cell_type": "code",
   "source": [
    "df = stage.optimize_df_for_next_stage()\n",
    "df.shape"
   ],
   "id": "2dd1ccccd99f4a86",
   "outputs": [],
   "execution_count": null
  },
  {
   "metadata": {},
   "cell_type": "code",
   "source": "df.head()",
   "id": "4dd15e29abdcd3d8",
   "outputs": [],
   "execution_count": null
  },
  {
   "metadata": {},
   "cell_type": "code",
   "source": "stage.save_data(df)",
   "id": "626fff3bb0a4de6a",
   "outputs": [],
   "execution_count": null
  }
 ],
 "metadata": {
  "kernelspec": {
   "display_name": "Python 3",
   "language": "python",
   "name": "python3"
  },
  "language_info": {
   "codemirror_mode": {
    "name": "ipython",
    "version": 2
   },
   "file_extension": ".py",
   "mimetype": "text/x-python",
   "name": "python",
   "nbconvert_exporter": "python",
   "pygments_lexer": "ipython2",
   "version": "2.7.6"
  }
 },
 "nbformat": 4,
 "nbformat_minor": 5
}

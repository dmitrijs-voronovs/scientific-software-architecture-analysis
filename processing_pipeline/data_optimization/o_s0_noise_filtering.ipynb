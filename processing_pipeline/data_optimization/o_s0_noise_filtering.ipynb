{
 "cells": [
  {
   "metadata": {
    "collapsed": true,
    "ExecuteTime": {
     "end_time": "2025-07-11T18:08:48.852618Z",
     "start_time": "2025-07-11T18:08:47.935696Z"
    }
   },
   "cell_type": "code",
   "source": [
    "from constants.abs_paths import AbsDirPath\n",
    "from processing_pipeline.utilities.data_transformation import split_dataset_by_repo_and_source, load_all_files"
   ],
   "id": "initial_id",
   "outputs": [],
   "execution_count": 1
  },
  {
   "metadata": {
    "ExecuteTime": {
     "end_time": "2025-07-11T18:08:48.875223Z",
     "start_time": "2025-07-11T18:08:48.860772Z"
    }
   },
   "cell_type": "code",
   "source": [
    "from processing_pipeline.data_optimization.stage_cfg import S0NoiseFiltering\n",
    "\n",
    "current_stage_cfg = S0NoiseFiltering"
   ],
   "id": "ba8a53e2fb1d70fb",
   "outputs": [],
   "execution_count": 2
  },
  {
   "metadata": {
    "collapsed": true,
    "ExecuteTime": {
     "end_time": "2025-07-11T18:08:49.443172Z",
     "start_time": "2025-07-11T18:08:49.193199Z"
    }
   },
   "cell_type": "code",
   "source": [
    "in_dir = current_stage_cfg.data_dir\n",
    "out_dir = AbsDirPath.O_S0_NOISE_FILTERING\n",
    "df = load_all_files(in_dir)"
   ],
   "id": "6b42e9f15c21a9b9",
   "outputs": [
    {
     "name": "stdout",
     "output_type": "stream",
     "text": [
      "Loaded C:\\Users\\Dmitrijs\\Documents\\myDocs\\masters\\courses\\thesis\\code\\data\\keywords\\s0_noise_filtering\\google.deepvariant.v1.6.1.code_comment.0.parquet\n",
      "Loaded C:\\Users\\Dmitrijs\\Documents\\myDocs\\masters\\courses\\thesis\\code\\data\\keywords\\s0_noise_filtering\\google.deepvariant.v1.6.1.code_comment.1.parquet\n",
      "Loaded C:\\Users\\Dmitrijs\\Documents\\myDocs\\masters\\courses\\thesis\\code\\data\\keywords\\s0_noise_filtering\\google.deepvariant.v1.6.1.code_comment.2.parquet\n",
      "Loaded C:\\Users\\Dmitrijs\\Documents\\myDocs\\masters\\courses\\thesis\\code\\data\\keywords\\s0_noise_filtering\\google.deepvariant.v1.6.1.code_comment.3.parquet\n",
      "Loaded C:\\Users\\Dmitrijs\\Documents\\myDocs\\masters\\courses\\thesis\\code\\data\\keywords\\s0_noise_filtering\\google.deepvariant.v1.6.1.docs.parquet\n",
      "Loaded C:\\Users\\Dmitrijs\\Documents\\myDocs\\masters\\courses\\thesis\\code\\data\\keywords\\s0_noise_filtering\\google.deepvariant.v1.6.1.issue.0.parquet\n"
     ]
    }
   ],
   "execution_count": 3
  },
  {
   "metadata": {},
   "cell_type": "code",
   "outputs": [],
   "execution_count": null,
   "source": "df = df.drop(columns=[current_stage_cfg.get_column_name(\"prompt\")])",
   "id": "5095f779e4899857"
  },
  {
   "metadata": {
    "ExecuteTime": {
     "end_time": "2025-07-11T18:08:49.486923Z",
     "start_time": "2025-07-11T18:08:49.466475Z"
    }
   },
   "cell_type": "code",
   "source": "df.head()",
   "id": "30d22d9debbc434e",
   "outputs": [
    {
     "data": {
      "text/plain": [
       "                                            sentence s0_to_eliminate  \\\n",
       "0  Copyright 2017 Google LLC.\\r \\r Redistribution...           False   \n",
       "1  Copyright 2017 Google LLC.\\r \\r Redistribution...           False   \n",
       "2  Copyright 2017 Google LLC.\\r \\r Redistribution...           False   \n",
       "3  Copyright 2017 Google LLC.\\r \\r Redistribution...           False   \n",
       "4  Copyright 2017 Google LLC.\\r \\r Redistribution...           False   \n",
       "\n",
       "                                        s0_reasoning  \n",
       "0  The content is a copyright notice and disclaim...  \n",
       "1  The content is a copyright notice and disclaim...  \n",
       "2  The content is a copyright notice and disclaim...  \n",
       "3  The content is a copyright notice and disclaim...  \n",
       "4  The content is a copyright notice and disclaim...  "
      ],
      "text/html": [
       "<div>\n",
       "<style scoped>\n",
       "    .dataframe tbody tr th:only-of-type {\n",
       "        vertical-align: middle;\n",
       "    }\n",
       "\n",
       "    .dataframe tbody tr th {\n",
       "        vertical-align: top;\n",
       "    }\n",
       "\n",
       "    .dataframe thead th {\n",
       "        text-align: right;\n",
       "    }\n",
       "</style>\n",
       "<table border=\"1\" class=\"dataframe\">\n",
       "  <thead>\n",
       "    <tr style=\"text-align: right;\">\n",
       "      <th></th>\n",
       "      <th>sentence</th>\n",
       "      <th>s0_to_eliminate</th>\n",
       "      <th>s0_reasoning</th>\n",
       "    </tr>\n",
       "  </thead>\n",
       "  <tbody>\n",
       "    <tr>\n",
       "      <th>0</th>\n",
       "      <td>Copyright 2017 Google LLC.\\r \\r Redistribution...</td>\n",
       "      <td>False</td>\n",
       "      <td>The content is a copyright notice and disclaim...</td>\n",
       "    </tr>\n",
       "    <tr>\n",
       "      <th>1</th>\n",
       "      <td>Copyright 2017 Google LLC.\\r \\r Redistribution...</td>\n",
       "      <td>False</td>\n",
       "      <td>The content is a copyright notice and disclaim...</td>\n",
       "    </tr>\n",
       "    <tr>\n",
       "      <th>2</th>\n",
       "      <td>Copyright 2017 Google LLC.\\r \\r Redistribution...</td>\n",
       "      <td>False</td>\n",
       "      <td>The content is a copyright notice and disclaim...</td>\n",
       "    </tr>\n",
       "    <tr>\n",
       "      <th>3</th>\n",
       "      <td>Copyright 2017 Google LLC.\\r \\r Redistribution...</td>\n",
       "      <td>False</td>\n",
       "      <td>The content is a copyright notice and disclaim...</td>\n",
       "    </tr>\n",
       "    <tr>\n",
       "      <th>4</th>\n",
       "      <td>Copyright 2017 Google LLC.\\r \\r Redistribution...</td>\n",
       "      <td>False</td>\n",
       "      <td>The content is a copyright notice and disclaim...</td>\n",
       "    </tr>\n",
       "  </tbody>\n",
       "</table>\n",
       "</div>"
      ]
     },
     "execution_count": 4,
     "metadata": {},
     "output_type": "execute_result"
    }
   ],
   "execution_count": 4
  },
  {
   "metadata": {
    "ExecuteTime": {
     "end_time": "2025-07-11T18:08:49.659116Z",
     "start_time": "2025-07-11T18:08:49.650268Z"
    }
   },
   "cell_type": "code",
   "source": "df.shape",
   "id": "e1dc1ccfe0b90786",
   "outputs": [
    {
     "data": {
      "text/plain": [
       "(25510, 3)"
      ]
     },
     "execution_count": 6,
     "metadata": {},
     "output_type": "execute_result"
    }
   ],
   "execution_count": 6
  },
  {
   "metadata": {},
   "cell_type": "markdown",
   "source": "## Join data from the current stage with the optimized dataset",
   "id": "7c1d7ac99a0d348"
  },
  {
   "metadata": {
    "ExecuteTime": {
     "end_time": "2025-07-11T18:09:00.126856Z",
     "start_time": "2025-07-11T18:08:49.773618Z"
    }
   },
   "cell_type": "code",
   "source": "df_main = load_all_files(AbsDirPath.O_KEYWORDS_MATCHING)",
   "id": "958eb88b94355e32",
   "outputs": [
    {
     "name": "stdout",
     "output_type": "stream",
     "text": [
      "Loaded C:\\Users\\Dmitrijs\\Documents\\myDocs\\masters\\courses\\thesis\\code\\data\\keywords\\matched_o\\allenai.scispacy.v0.5.5.code_comment.parquet\n",
      "Loaded C:\\Users\\Dmitrijs\\Documents\\myDocs\\masters\\courses\\thesis\\code\\data\\keywords\\matched_o\\allenai.scispacy.v0.5.5.docs.parquet\n",
      "Loaded C:\\Users\\Dmitrijs\\Documents\\myDocs\\masters\\courses\\thesis\\code\\data\\keywords\\matched_o\\allenai.scispacy.v0.5.5.issue.parquet\n",
      "Loaded C:\\Users\\Dmitrijs\\Documents\\myDocs\\masters\\courses\\thesis\\code\\data\\keywords\\matched_o\\allenai.scispacy.v0.5.5.issue_comment.parquet\n",
      "Loaded C:\\Users\\Dmitrijs\\Documents\\myDocs\\masters\\courses\\thesis\\code\\data\\keywords\\matched_o\\allenai.scispacy.v0.5.5.release.parquet\n",
      "Loaded C:\\Users\\Dmitrijs\\Documents\\myDocs\\masters\\courses\\thesis\\code\\data\\keywords\\matched_o\\google.deepvariant.v1.6.1.code_comment.parquet\n",
      "Loaded C:\\Users\\Dmitrijs\\Documents\\myDocs\\masters\\courses\\thesis\\code\\data\\keywords\\matched_o\\google.deepvariant.v1.6.1.docs.parquet\n",
      "Loaded C:\\Users\\Dmitrijs\\Documents\\myDocs\\masters\\courses\\thesis\\code\\data\\keywords\\matched_o\\google.deepvariant.v1.6.1.issue.0.parquet\n",
      "Loaded C:\\Users\\Dmitrijs\\Documents\\myDocs\\masters\\courses\\thesis\\code\\data\\keywords\\matched_o\\google.deepvariant.v1.6.1.issue.1.parquet\n",
      "Loaded C:\\Users\\Dmitrijs\\Documents\\myDocs\\masters\\courses\\thesis\\code\\data\\keywords\\matched_o\\google.deepvariant.v1.6.1.issue.2.parquet\n",
      "Loaded C:\\Users\\Dmitrijs\\Documents\\myDocs\\masters\\courses\\thesis\\code\\data\\keywords\\matched_o\\google.deepvariant.v1.6.1.issue.3.parquet\n",
      "Loaded C:\\Users\\Dmitrijs\\Documents\\myDocs\\masters\\courses\\thesis\\code\\data\\keywords\\matched_o\\google.deepvariant.v1.6.1.issue.4.parquet\n",
      "Loaded C:\\Users\\Dmitrijs\\Documents\\myDocs\\masters\\courses\\thesis\\code\\data\\keywords\\matched_o\\google.deepvariant.v1.6.1.issue.5.parquet\n",
      "Loaded C:\\Users\\Dmitrijs\\Documents\\myDocs\\masters\\courses\\thesis\\code\\data\\keywords\\matched_o\\google.deepvariant.v1.6.1.issue.6.parquet\n",
      "Loaded C:\\Users\\Dmitrijs\\Documents\\myDocs\\masters\\courses\\thesis\\code\\data\\keywords\\matched_o\\google.deepvariant.v1.6.1.issue_comment.0.parquet\n",
      "Loaded C:\\Users\\Dmitrijs\\Documents\\myDocs\\masters\\courses\\thesis\\code\\data\\keywords\\matched_o\\google.deepvariant.v1.6.1.issue_comment.1.parquet\n",
      "Loaded C:\\Users\\Dmitrijs\\Documents\\myDocs\\masters\\courses\\thesis\\code\\data\\keywords\\matched_o\\google.deepvariant.v1.6.1.issue_comment.2.parquet\n",
      "Loaded C:\\Users\\Dmitrijs\\Documents\\myDocs\\masters\\courses\\thesis\\code\\data\\keywords\\matched_o\\google.deepvariant.v1.6.1.issue_comment.3.parquet\n",
      "Loaded C:\\Users\\Dmitrijs\\Documents\\myDocs\\masters\\courses\\thesis\\code\\data\\keywords\\matched_o\\google.deepvariant.v1.6.1.issue_comment.4.parquet\n",
      "Loaded C:\\Users\\Dmitrijs\\Documents\\myDocs\\masters\\courses\\thesis\\code\\data\\keywords\\matched_o\\google.deepvariant.v1.6.1.issue_comment.5.parquet\n",
      "Loaded C:\\Users\\Dmitrijs\\Documents\\myDocs\\masters\\courses\\thesis\\code\\data\\keywords\\matched_o\\google.deepvariant.v1.6.1.issue_comment.6.parquet\n",
      "Loaded C:\\Users\\Dmitrijs\\Documents\\myDocs\\masters\\courses\\thesis\\code\\data\\keywords\\matched_o\\google.deepvariant.v1.6.1.issue_comment.7.parquet\n",
      "Loaded C:\\Users\\Dmitrijs\\Documents\\myDocs\\masters\\courses\\thesis\\code\\data\\keywords\\matched_o\\google.deepvariant.v1.6.1.issue_comment.8.parquet\n",
      "Loaded C:\\Users\\Dmitrijs\\Documents\\myDocs\\masters\\courses\\thesis\\code\\data\\keywords\\matched_o\\google.deepvariant.v1.6.1.release.parquet\n",
      "Loaded C:\\Users\\Dmitrijs\\Documents\\myDocs\\masters\\courses\\thesis\\code\\data\\keywords\\matched_o\\OpenGene.fastp.v0.23.4.code_comment.parquet\n",
      "Loaded C:\\Users\\Dmitrijs\\Documents\\myDocs\\masters\\courses\\thesis\\code\\data\\keywords\\matched_o\\OpenGene.fastp.v0.23.4.docs.parquet\n",
      "Loaded C:\\Users\\Dmitrijs\\Documents\\myDocs\\masters\\courses\\thesis\\code\\data\\keywords\\matched_o\\OpenGene.fastp.v0.23.4.issue.parquet\n",
      "Loaded C:\\Users\\Dmitrijs\\Documents\\myDocs\\masters\\courses\\thesis\\code\\data\\keywords\\matched_o\\OpenGene.fastp.v0.23.4.issue_comment.parquet\n",
      "Loaded C:\\Users\\Dmitrijs\\Documents\\myDocs\\masters\\courses\\thesis\\code\\data\\keywords\\matched_o\\OpenGene.fastp.v0.23.4.release.parquet\n",
      "Loaded C:\\Users\\Dmitrijs\\Documents\\myDocs\\masters\\courses\\thesis\\code\\data\\keywords\\matched_o\\root-project.root.v6-32-06.code_comment.00.parquet\n",
      "Loaded C:\\Users\\Dmitrijs\\Documents\\myDocs\\masters\\courses\\thesis\\code\\data\\keywords\\matched_o\\root-project.root.v6-32-06.code_comment.01.parquet\n",
      "Loaded C:\\Users\\Dmitrijs\\Documents\\myDocs\\masters\\courses\\thesis\\code\\data\\keywords\\matched_o\\root-project.root.v6-32-06.code_comment.02.parquet\n",
      "Loaded C:\\Users\\Dmitrijs\\Documents\\myDocs\\masters\\courses\\thesis\\code\\data\\keywords\\matched_o\\root-project.root.v6-32-06.code_comment.03.parquet\n",
      "Loaded C:\\Users\\Dmitrijs\\Documents\\myDocs\\masters\\courses\\thesis\\code\\data\\keywords\\matched_o\\root-project.root.v6-32-06.code_comment.04.parquet\n",
      "Loaded C:\\Users\\Dmitrijs\\Documents\\myDocs\\masters\\courses\\thesis\\code\\data\\keywords\\matched_o\\root-project.root.v6-32-06.code_comment.05.parquet\n",
      "Loaded C:\\Users\\Dmitrijs\\Documents\\myDocs\\masters\\courses\\thesis\\code\\data\\keywords\\matched_o\\root-project.root.v6-32-06.code_comment.06.parquet\n",
      "Loaded C:\\Users\\Dmitrijs\\Documents\\myDocs\\masters\\courses\\thesis\\code\\data\\keywords\\matched_o\\root-project.root.v6-32-06.code_comment.07.parquet\n",
      "Loaded C:\\Users\\Dmitrijs\\Documents\\myDocs\\masters\\courses\\thesis\\code\\data\\keywords\\matched_o\\root-project.root.v6-32-06.code_comment.08.parquet\n",
      "Loaded C:\\Users\\Dmitrijs\\Documents\\myDocs\\masters\\courses\\thesis\\code\\data\\keywords\\matched_o\\root-project.root.v6-32-06.code_comment.09.parquet\n",
      "Loaded C:\\Users\\Dmitrijs\\Documents\\myDocs\\masters\\courses\\thesis\\code\\data\\keywords\\matched_o\\root-project.root.v6-32-06.code_comment.10.parquet\n",
      "Loaded C:\\Users\\Dmitrijs\\Documents\\myDocs\\masters\\courses\\thesis\\code\\data\\keywords\\matched_o\\root-project.root.v6-32-06.code_comment.11.parquet\n",
      "Loaded C:\\Users\\Dmitrijs\\Documents\\myDocs\\masters\\courses\\thesis\\code\\data\\keywords\\matched_o\\root-project.root.v6-32-06.code_comment.12.parquet\n",
      "Loaded C:\\Users\\Dmitrijs\\Documents\\myDocs\\masters\\courses\\thesis\\code\\data\\keywords\\matched_o\\root-project.root.v6-32-06.code_comment.13.parquet\n",
      "Loaded C:\\Users\\Dmitrijs\\Documents\\myDocs\\masters\\courses\\thesis\\code\\data\\keywords\\matched_o\\root-project.root.v6-32-06.code_comment.14.parquet\n",
      "Loaded C:\\Users\\Dmitrijs\\Documents\\myDocs\\masters\\courses\\thesis\\code\\data\\keywords\\matched_o\\root-project.root.v6-32-06.code_comment.15.parquet\n",
      "Loaded C:\\Users\\Dmitrijs\\Documents\\myDocs\\masters\\courses\\thesis\\code\\data\\keywords\\matched_o\\root-project.root.v6-32-06.code_comment.16.parquet\n",
      "Loaded C:\\Users\\Dmitrijs\\Documents\\myDocs\\masters\\courses\\thesis\\code\\data\\keywords\\matched_o\\root-project.root.v6-32-06.code_comment.17.parquet\n",
      "Loaded C:\\Users\\Dmitrijs\\Documents\\myDocs\\masters\\courses\\thesis\\code\\data\\keywords\\matched_o\\root-project.root.v6-32-06.code_comment.18.parquet\n",
      "Loaded C:\\Users\\Dmitrijs\\Documents\\myDocs\\masters\\courses\\thesis\\code\\data\\keywords\\matched_o\\root-project.root.v6-32-06.code_comment.19.parquet\n",
      "Loaded C:\\Users\\Dmitrijs\\Documents\\myDocs\\masters\\courses\\thesis\\code\\data\\keywords\\matched_o\\root-project.root.v6-32-06.code_comment.20.parquet\n",
      "Loaded C:\\Users\\Dmitrijs\\Documents\\myDocs\\masters\\courses\\thesis\\code\\data\\keywords\\matched_o\\root-project.root.v6-32-06.code_comment.21.parquet\n",
      "Loaded C:\\Users\\Dmitrijs\\Documents\\myDocs\\masters\\courses\\thesis\\code\\data\\keywords\\matched_o\\root-project.root.v6-32-06.code_comment.22.parquet\n",
      "Loaded C:\\Users\\Dmitrijs\\Documents\\myDocs\\masters\\courses\\thesis\\code\\data\\keywords\\matched_o\\root-project.root.v6-32-06.code_comment.23.parquet\n",
      "Loaded C:\\Users\\Dmitrijs\\Documents\\myDocs\\masters\\courses\\thesis\\code\\data\\keywords\\matched_o\\root-project.root.v6-32-06.code_comment.24.parquet\n",
      "Loaded C:\\Users\\Dmitrijs\\Documents\\myDocs\\masters\\courses\\thesis\\code\\data\\keywords\\matched_o\\root-project.root.v6-32-06.code_comment.25.parquet\n",
      "Loaded C:\\Users\\Dmitrijs\\Documents\\myDocs\\masters\\courses\\thesis\\code\\data\\keywords\\matched_o\\root-project.root.v6-32-06.code_comment.26.parquet\n",
      "Loaded C:\\Users\\Dmitrijs\\Documents\\myDocs\\masters\\courses\\thesis\\code\\data\\keywords\\matched_o\\root-project.root.v6-32-06.code_comment.27.parquet\n",
      "Loaded C:\\Users\\Dmitrijs\\Documents\\myDocs\\masters\\courses\\thesis\\code\\data\\keywords\\matched_o\\root-project.root.v6-32-06.code_comment.28.parquet\n",
      "Loaded C:\\Users\\Dmitrijs\\Documents\\myDocs\\masters\\courses\\thesis\\code\\data\\keywords\\matched_o\\root-project.root.v6-32-06.code_comment.29.parquet\n",
      "Loaded C:\\Users\\Dmitrijs\\Documents\\myDocs\\masters\\courses\\thesis\\code\\data\\keywords\\matched_o\\root-project.root.v6-32-06.code_comment.30.parquet\n",
      "Loaded C:\\Users\\Dmitrijs\\Documents\\myDocs\\masters\\courses\\thesis\\code\\data\\keywords\\matched_o\\root-project.root.v6-32-06.code_comment.31.parquet\n",
      "Loaded C:\\Users\\Dmitrijs\\Documents\\myDocs\\masters\\courses\\thesis\\code\\data\\keywords\\matched_o\\root-project.root.v6-32-06.code_comment.32.parquet\n",
      "Loaded C:\\Users\\Dmitrijs\\Documents\\myDocs\\masters\\courses\\thesis\\code\\data\\keywords\\matched_o\\root-project.root.v6-32-06.code_comment.33.parquet\n",
      "Loaded C:\\Users\\Dmitrijs\\Documents\\myDocs\\masters\\courses\\thesis\\code\\data\\keywords\\matched_o\\root-project.root.v6-32-06.code_comment.34.parquet\n",
      "Loaded C:\\Users\\Dmitrijs\\Documents\\myDocs\\masters\\courses\\thesis\\code\\data\\keywords\\matched_o\\root-project.root.v6-32-06.code_comment.35.parquet\n",
      "Loaded C:\\Users\\Dmitrijs\\Documents\\myDocs\\masters\\courses\\thesis\\code\\data\\keywords\\matched_o\\root-project.root.v6-32-06.code_comment.36.parquet\n",
      "Loaded C:\\Users\\Dmitrijs\\Documents\\myDocs\\masters\\courses\\thesis\\code\\data\\keywords\\matched_o\\root-project.root.v6-32-06.code_comment.37.parquet\n",
      "Loaded C:\\Users\\Dmitrijs\\Documents\\myDocs\\masters\\courses\\thesis\\code\\data\\keywords\\matched_o\\root-project.root.v6-32-06.code_comment.38.parquet\n",
      "Loaded C:\\Users\\Dmitrijs\\Documents\\myDocs\\masters\\courses\\thesis\\code\\data\\keywords\\matched_o\\root-project.root.v6-32-06.code_comment.39.parquet\n",
      "Loaded C:\\Users\\Dmitrijs\\Documents\\myDocs\\masters\\courses\\thesis\\code\\data\\keywords\\matched_o\\root-project.root.v6-32-06.code_comment.40.parquet\n",
      "Loaded C:\\Users\\Dmitrijs\\Documents\\myDocs\\masters\\courses\\thesis\\code\\data\\keywords\\matched_o\\root-project.root.v6-32-06.code_comment.41.parquet\n",
      "Loaded C:\\Users\\Dmitrijs\\Documents\\myDocs\\masters\\courses\\thesis\\code\\data\\keywords\\matched_o\\root-project.root.v6-32-06.code_comment.42.parquet\n",
      "Loaded C:\\Users\\Dmitrijs\\Documents\\myDocs\\masters\\courses\\thesis\\code\\data\\keywords\\matched_o\\root-project.root.v6-32-06.code_comment.43.parquet\n",
      "Loaded C:\\Users\\Dmitrijs\\Documents\\myDocs\\masters\\courses\\thesis\\code\\data\\keywords\\matched_o\\root-project.root.v6-32-06.code_comment.44.parquet\n",
      "Loaded C:\\Users\\Dmitrijs\\Documents\\myDocs\\masters\\courses\\thesis\\code\\data\\keywords\\matched_o\\root-project.root.v6-32-06.code_comment.45.parquet\n",
      "Loaded C:\\Users\\Dmitrijs\\Documents\\myDocs\\masters\\courses\\thesis\\code\\data\\keywords\\matched_o\\root-project.root.v6-32-06.code_comment.46.parquet\n",
      "Loaded C:\\Users\\Dmitrijs\\Documents\\myDocs\\masters\\courses\\thesis\\code\\data\\keywords\\matched_o\\root-project.root.v6-32-06.code_comment.47.parquet\n",
      "Loaded C:\\Users\\Dmitrijs\\Documents\\myDocs\\masters\\courses\\thesis\\code\\data\\keywords\\matched_o\\root-project.root.v6-32-06.code_comment.48.parquet\n",
      "Loaded C:\\Users\\Dmitrijs\\Documents\\myDocs\\masters\\courses\\thesis\\code\\data\\keywords\\matched_o\\root-project.root.v6-32-06.code_comment.49.parquet\n",
      "Loaded C:\\Users\\Dmitrijs\\Documents\\myDocs\\masters\\courses\\thesis\\code\\data\\keywords\\matched_o\\root-project.root.v6-32-06.code_comment.50.parquet\n",
      "Loaded C:\\Users\\Dmitrijs\\Documents\\myDocs\\masters\\courses\\thesis\\code\\data\\keywords\\matched_o\\root-project.root.v6-32-06.code_comment.51.parquet\n",
      "Loaded C:\\Users\\Dmitrijs\\Documents\\myDocs\\masters\\courses\\thesis\\code\\data\\keywords\\matched_o\\root-project.root.v6-32-06.code_comment.52.parquet\n",
      "Loaded C:\\Users\\Dmitrijs\\Documents\\myDocs\\masters\\courses\\thesis\\code\\data\\keywords\\matched_o\\root-project.root.v6-32-06.code_comment.53.parquet\n",
      "Loaded C:\\Users\\Dmitrijs\\Documents\\myDocs\\masters\\courses\\thesis\\code\\data\\keywords\\matched_o\\root-project.root.v6-32-06.code_comment.54.parquet\n",
      "Loaded C:\\Users\\Dmitrijs\\Documents\\myDocs\\masters\\courses\\thesis\\code\\data\\keywords\\matched_o\\root-project.root.v6-32-06.code_comment.55.parquet\n",
      "Loaded C:\\Users\\Dmitrijs\\Documents\\myDocs\\masters\\courses\\thesis\\code\\data\\keywords\\matched_o\\root-project.root.v6-32-06.code_comment.56.parquet\n",
      "Loaded C:\\Users\\Dmitrijs\\Documents\\myDocs\\masters\\courses\\thesis\\code\\data\\keywords\\matched_o\\root-project.root.v6-32-06.code_comment.57.parquet\n",
      "Loaded C:\\Users\\Dmitrijs\\Documents\\myDocs\\masters\\courses\\thesis\\code\\data\\keywords\\matched_o\\root-project.root.v6-32-06.code_comment.58.parquet\n",
      "Loaded C:\\Users\\Dmitrijs\\Documents\\myDocs\\masters\\courses\\thesis\\code\\data\\keywords\\matched_o\\root-project.root.v6-32-06.code_comment.59.parquet\n",
      "Loaded C:\\Users\\Dmitrijs\\Documents\\myDocs\\masters\\courses\\thesis\\code\\data\\keywords\\matched_o\\root-project.root.v6-32-06.code_comment.60.parquet\n",
      "Loaded C:\\Users\\Dmitrijs\\Documents\\myDocs\\masters\\courses\\thesis\\code\\data\\keywords\\matched_o\\root-project.root.v6-32-06.code_comment.61.parquet\n",
      "Loaded C:\\Users\\Dmitrijs\\Documents\\myDocs\\masters\\courses\\thesis\\code\\data\\keywords\\matched_o\\root-project.root.v6-32-06.code_comment.62.parquet\n",
      "Loaded C:\\Users\\Dmitrijs\\Documents\\myDocs\\masters\\courses\\thesis\\code\\data\\keywords\\matched_o\\root-project.root.v6-32-06.code_comment.63.parquet\n",
      "Loaded C:\\Users\\Dmitrijs\\Documents\\myDocs\\masters\\courses\\thesis\\code\\data\\keywords\\matched_o\\root-project.root.v6-32-06.code_comment.64.parquet\n",
      "Loaded C:\\Users\\Dmitrijs\\Documents\\myDocs\\masters\\courses\\thesis\\code\\data\\keywords\\matched_o\\root-project.root.v6-32-06.code_comment.65.parquet\n",
      "Loaded C:\\Users\\Dmitrijs\\Documents\\myDocs\\masters\\courses\\thesis\\code\\data\\keywords\\matched_o\\root-project.root.v6-32-06.docs.00.parquet\n",
      "Loaded C:\\Users\\Dmitrijs\\Documents\\myDocs\\masters\\courses\\thesis\\code\\data\\keywords\\matched_o\\root-project.root.v6-32-06.docs.01.parquet\n",
      "Loaded C:\\Users\\Dmitrijs\\Documents\\myDocs\\masters\\courses\\thesis\\code\\data\\keywords\\matched_o\\root-project.root.v6-32-06.docs.02.parquet\n",
      "Loaded C:\\Users\\Dmitrijs\\Documents\\myDocs\\masters\\courses\\thesis\\code\\data\\keywords\\matched_o\\root-project.root.v6-32-06.docs.03.parquet\n",
      "Loaded C:\\Users\\Dmitrijs\\Documents\\myDocs\\masters\\courses\\thesis\\code\\data\\keywords\\matched_o\\root-project.root.v6-32-06.docs.04.parquet\n",
      "Loaded C:\\Users\\Dmitrijs\\Documents\\myDocs\\masters\\courses\\thesis\\code\\data\\keywords\\matched_o\\root-project.root.v6-32-06.docs.05.parquet\n",
      "Loaded C:\\Users\\Dmitrijs\\Documents\\myDocs\\masters\\courses\\thesis\\code\\data\\keywords\\matched_o\\root-project.root.v6-32-06.docs.06.parquet\n",
      "Loaded C:\\Users\\Dmitrijs\\Documents\\myDocs\\masters\\courses\\thesis\\code\\data\\keywords\\matched_o\\root-project.root.v6-32-06.docs.07.parquet\n",
      "Loaded C:\\Users\\Dmitrijs\\Documents\\myDocs\\masters\\courses\\thesis\\code\\data\\keywords\\matched_o\\root-project.root.v6-32-06.docs.08.parquet\n",
      "Loaded C:\\Users\\Dmitrijs\\Documents\\myDocs\\masters\\courses\\thesis\\code\\data\\keywords\\matched_o\\root-project.root.v6-32-06.docs.09.parquet\n",
      "Loaded C:\\Users\\Dmitrijs\\Documents\\myDocs\\masters\\courses\\thesis\\code\\data\\keywords\\matched_o\\root-project.root.v6-32-06.docs.10.parquet\n",
      "Loaded C:\\Users\\Dmitrijs\\Documents\\myDocs\\masters\\courses\\thesis\\code\\data\\keywords\\matched_o\\root-project.root.v6-32-06.docs.11.parquet\n",
      "Loaded C:\\Users\\Dmitrijs\\Documents\\myDocs\\masters\\courses\\thesis\\code\\data\\keywords\\matched_o\\root-project.root.v6-32-06.docs.12.parquet\n",
      "Loaded C:\\Users\\Dmitrijs\\Documents\\myDocs\\masters\\courses\\thesis\\code\\data\\keywords\\matched_o\\root-project.root.v6-32-06.docs.13.parquet\n",
      "Loaded C:\\Users\\Dmitrijs\\Documents\\myDocs\\masters\\courses\\thesis\\code\\data\\keywords\\matched_o\\root-project.root.v6-32-06.docs.14.parquet\n",
      "Loaded C:\\Users\\Dmitrijs\\Documents\\myDocs\\masters\\courses\\thesis\\code\\data\\keywords\\matched_o\\root-project.root.v6-32-06.docs.15.parquet\n",
      "Loaded C:\\Users\\Dmitrijs\\Documents\\myDocs\\masters\\courses\\thesis\\code\\data\\keywords\\matched_o\\root-project.root.v6-32-06.docs.16.parquet\n",
      "Loaded C:\\Users\\Dmitrijs\\Documents\\myDocs\\masters\\courses\\thesis\\code\\data\\keywords\\matched_o\\root-project.root.v6-32-06.docs.17.parquet\n",
      "Loaded C:\\Users\\Dmitrijs\\Documents\\myDocs\\masters\\courses\\thesis\\code\\data\\keywords\\matched_o\\root-project.root.v6-32-06.docs.18.parquet\n",
      "Loaded C:\\Users\\Dmitrijs\\Documents\\myDocs\\masters\\courses\\thesis\\code\\data\\keywords\\matched_o\\root-project.root.v6-32-06.docs.19.parquet\n",
      "Loaded C:\\Users\\Dmitrijs\\Documents\\myDocs\\masters\\courses\\thesis\\code\\data\\keywords\\matched_o\\root-project.root.v6-32-06.docs.20.parquet\n",
      "Loaded C:\\Users\\Dmitrijs\\Documents\\myDocs\\masters\\courses\\thesis\\code\\data\\keywords\\matched_o\\root-project.root.v6-32-06.docs.21.parquet\n",
      "Loaded C:\\Users\\Dmitrijs\\Documents\\myDocs\\masters\\courses\\thesis\\code\\data\\keywords\\matched_o\\root-project.root.v6-32-06.docs.22.parquet\n",
      "Loaded C:\\Users\\Dmitrijs\\Documents\\myDocs\\masters\\courses\\thesis\\code\\data\\keywords\\matched_o\\root-project.root.v6-32-06.docs.23.parquet\n",
      "Loaded C:\\Users\\Dmitrijs\\Documents\\myDocs\\masters\\courses\\thesis\\code\\data\\keywords\\matched_o\\root-project.root.v6-32-06.docs.24.parquet\n",
      "Loaded C:\\Users\\Dmitrijs\\Documents\\myDocs\\masters\\courses\\thesis\\code\\data\\keywords\\matched_o\\root-project.root.v6-32-06.docs.25.parquet\n",
      "Loaded C:\\Users\\Dmitrijs\\Documents\\myDocs\\masters\\courses\\thesis\\code\\data\\keywords\\matched_o\\root-project.root.v6-32-06.docs.26.parquet\n",
      "Loaded C:\\Users\\Dmitrijs\\Documents\\myDocs\\masters\\courses\\thesis\\code\\data\\keywords\\matched_o\\root-project.root.v6-32-06.docs.27.parquet\n",
      "Loaded C:\\Users\\Dmitrijs\\Documents\\myDocs\\masters\\courses\\thesis\\code\\data\\keywords\\matched_o\\root-project.root.v6-32-06.docs.28.parquet\n",
      "Loaded C:\\Users\\Dmitrijs\\Documents\\myDocs\\masters\\courses\\thesis\\code\\data\\keywords\\matched_o\\root-project.root.v6-32-06.docs.29.parquet\n",
      "Loaded C:\\Users\\Dmitrijs\\Documents\\myDocs\\masters\\courses\\thesis\\code\\data\\keywords\\matched_o\\root-project.root.v6-32-06.docs.30.parquet\n",
      "Loaded C:\\Users\\Dmitrijs\\Documents\\myDocs\\masters\\courses\\thesis\\code\\data\\keywords\\matched_o\\root-project.root.v6-32-06.docs.31.parquet\n",
      "Loaded C:\\Users\\Dmitrijs\\Documents\\myDocs\\masters\\courses\\thesis\\code\\data\\keywords\\matched_o\\root-project.root.v6-32-06.docs.32.parquet\n",
      "Loaded C:\\Users\\Dmitrijs\\Documents\\myDocs\\masters\\courses\\thesis\\code\\data\\keywords\\matched_o\\root-project.root.v6-32-06.docs.33.parquet\n",
      "Loaded C:\\Users\\Dmitrijs\\Documents\\myDocs\\masters\\courses\\thesis\\code\\data\\keywords\\matched_o\\root-project.root.v6-32-06.docs.34.parquet\n",
      "Loaded C:\\Users\\Dmitrijs\\Documents\\myDocs\\masters\\courses\\thesis\\code\\data\\keywords\\matched_o\\root-project.root.v6-32-06.docs.35.parquet\n",
      "Loaded C:\\Users\\Dmitrijs\\Documents\\myDocs\\masters\\courses\\thesis\\code\\data\\keywords\\matched_o\\root-project.root.v6-32-06.docs.36.parquet\n",
      "Loaded C:\\Users\\Dmitrijs\\Documents\\myDocs\\masters\\courses\\thesis\\code\\data\\keywords\\matched_o\\root-project.root.v6-32-06.docs.37.parquet\n",
      "Loaded C:\\Users\\Dmitrijs\\Documents\\myDocs\\masters\\courses\\thesis\\code\\data\\keywords\\matched_o\\root-project.root.v6-32-06.docs.38.parquet\n",
      "Loaded C:\\Users\\Dmitrijs\\Documents\\myDocs\\masters\\courses\\thesis\\code\\data\\keywords\\matched_o\\root-project.root.v6-32-06.docs.39.parquet\n",
      "Loaded C:\\Users\\Dmitrijs\\Documents\\myDocs\\masters\\courses\\thesis\\code\\data\\keywords\\matched_o\\root-project.root.v6-32-06.docs.40.parquet\n",
      "Loaded C:\\Users\\Dmitrijs\\Documents\\myDocs\\masters\\courses\\thesis\\code\\data\\keywords\\matched_o\\root-project.root.v6-32-06.docs.41.parquet\n",
      "Loaded C:\\Users\\Dmitrijs\\Documents\\myDocs\\masters\\courses\\thesis\\code\\data\\keywords\\matched_o\\root-project.root.v6-32-06.docs.42.parquet\n",
      "Loaded C:\\Users\\Dmitrijs\\Documents\\myDocs\\masters\\courses\\thesis\\code\\data\\keywords\\matched_o\\root-project.root.v6-32-06.docs.43.parquet\n",
      "Loaded C:\\Users\\Dmitrijs\\Documents\\myDocs\\masters\\courses\\thesis\\code\\data\\keywords\\matched_o\\root-project.root.v6-32-06.docs.44.parquet\n",
      "Loaded C:\\Users\\Dmitrijs\\Documents\\myDocs\\masters\\courses\\thesis\\code\\data\\keywords\\matched_o\\root-project.root.v6-32-06.docs.45.parquet\n",
      "Loaded C:\\Users\\Dmitrijs\\Documents\\myDocs\\masters\\courses\\thesis\\code\\data\\keywords\\matched_o\\root-project.root.v6-32-06.docs.46.parquet\n",
      "Loaded C:\\Users\\Dmitrijs\\Documents\\myDocs\\masters\\courses\\thesis\\code\\data\\keywords\\matched_o\\root-project.root.v6-32-06.docs.47.parquet\n",
      "Loaded C:\\Users\\Dmitrijs\\Documents\\myDocs\\masters\\courses\\thesis\\code\\data\\keywords\\matched_o\\root-project.root.v6-32-06.docs.48.parquet\n",
      "Loaded C:\\Users\\Dmitrijs\\Documents\\myDocs\\masters\\courses\\thesis\\code\\data\\keywords\\matched_o\\root-project.root.v6-32-06.docs.49.parquet\n",
      "Loaded C:\\Users\\Dmitrijs\\Documents\\myDocs\\masters\\courses\\thesis\\code\\data\\keywords\\matched_o\\root-project.root.v6-32-06.docs.50.parquet\n",
      "Loaded C:\\Users\\Dmitrijs\\Documents\\myDocs\\masters\\courses\\thesis\\code\\data\\keywords\\matched_o\\root-project.root.v6-32-06.docs.51.parquet\n",
      "Loaded C:\\Users\\Dmitrijs\\Documents\\myDocs\\masters\\courses\\thesis\\code\\data\\keywords\\matched_o\\root-project.root.v6-32-06.docs.52.parquet\n",
      "Loaded C:\\Users\\Dmitrijs\\Documents\\myDocs\\masters\\courses\\thesis\\code\\data\\keywords\\matched_o\\root-project.root.v6-32-06.docs.53.parquet\n",
      "Loaded C:\\Users\\Dmitrijs\\Documents\\myDocs\\masters\\courses\\thesis\\code\\data\\keywords\\matched_o\\root-project.root.v6-32-06.docs.54.parquet\n",
      "Loaded C:\\Users\\Dmitrijs\\Documents\\myDocs\\masters\\courses\\thesis\\code\\data\\keywords\\matched_o\\root-project.root.v6-32-06.docs.55.parquet\n",
      "Loaded C:\\Users\\Dmitrijs\\Documents\\myDocs\\masters\\courses\\thesis\\code\\data\\keywords\\matched_o\\root-project.root.v6-32-06.docs.56.parquet\n",
      "Loaded C:\\Users\\Dmitrijs\\Documents\\myDocs\\masters\\courses\\thesis\\code\\data\\keywords\\matched_o\\root-project.root.v6-32-06.docs.57.parquet\n",
      "Loaded C:\\Users\\Dmitrijs\\Documents\\myDocs\\masters\\courses\\thesis\\code\\data\\keywords\\matched_o\\root-project.root.v6-32-06.docs.58.parquet\n",
      "Loaded C:\\Users\\Dmitrijs\\Documents\\myDocs\\masters\\courses\\thesis\\code\\data\\keywords\\matched_o\\root-project.root.v6-32-06.docs.59.parquet\n",
      "Loaded C:\\Users\\Dmitrijs\\Documents\\myDocs\\masters\\courses\\thesis\\code\\data\\keywords\\matched_o\\root-project.root.v6-32-06.docs.60.parquet\n",
      "Loaded C:\\Users\\Dmitrijs\\Documents\\myDocs\\masters\\courses\\thesis\\code\\data\\keywords\\matched_o\\root-project.root.v6-32-06.docs.61.parquet\n",
      "Loaded C:\\Users\\Dmitrijs\\Documents\\myDocs\\masters\\courses\\thesis\\code\\data\\keywords\\matched_o\\root-project.root.v6-32-06.docs.62.parquet\n",
      "Loaded C:\\Users\\Dmitrijs\\Documents\\myDocs\\masters\\courses\\thesis\\code\\data\\keywords\\matched_o\\root-project.root.v6-32-06.docs.63.parquet\n",
      "Loaded C:\\Users\\Dmitrijs\\Documents\\myDocs\\masters\\courses\\thesis\\code\\data\\keywords\\matched_o\\root-project.root.v6-32-06.docs.64.parquet\n",
      "Loaded C:\\Users\\Dmitrijs\\Documents\\myDocs\\masters\\courses\\thesis\\code\\data\\keywords\\matched_o\\root-project.root.v6-32-06.docs.65.parquet\n",
      "Loaded C:\\Users\\Dmitrijs\\Documents\\myDocs\\masters\\courses\\thesis\\code\\data\\keywords\\matched_o\\root-project.root.v6-32-06.docs.66.parquet\n",
      "Loaded C:\\Users\\Dmitrijs\\Documents\\myDocs\\masters\\courses\\thesis\\code\\data\\keywords\\matched_o\\root-project.root.v6-32-06.docs.67.parquet\n",
      "Loaded C:\\Users\\Dmitrijs\\Documents\\myDocs\\masters\\courses\\thesis\\code\\data\\keywords\\matched_o\\root-project.root.v6-32-06.docs.68.parquet\n",
      "Loaded C:\\Users\\Dmitrijs\\Documents\\myDocs\\masters\\courses\\thesis\\code\\data\\keywords\\matched_o\\root-project.root.v6-32-06.docs.69.parquet\n",
      "Loaded C:\\Users\\Dmitrijs\\Documents\\myDocs\\masters\\courses\\thesis\\code\\data\\keywords\\matched_o\\root-project.root.v6-32-06.docs.70.parquet\n",
      "Loaded C:\\Users\\Dmitrijs\\Documents\\myDocs\\masters\\courses\\thesis\\code\\data\\keywords\\matched_o\\root-project.root.v6-32-06.docs.71.parquet\n",
      "Loaded C:\\Users\\Dmitrijs\\Documents\\myDocs\\masters\\courses\\thesis\\code\\data\\keywords\\matched_o\\root-project.root.v6-32-06.docs.72.parquet\n",
      "Loaded C:\\Users\\Dmitrijs\\Documents\\myDocs\\masters\\courses\\thesis\\code\\data\\keywords\\matched_o\\root-project.root.v6-32-06.docs.73.parquet\n",
      "Loaded C:\\Users\\Dmitrijs\\Documents\\myDocs\\masters\\courses\\thesis\\code\\data\\keywords\\matched_o\\root-project.root.v6-32-06.docs.74.parquet\n",
      "Loaded C:\\Users\\Dmitrijs\\Documents\\myDocs\\masters\\courses\\thesis\\code\\data\\keywords\\matched_o\\root-project.root.v6-32-06.docs.75.parquet\n",
      "Loaded C:\\Users\\Dmitrijs\\Documents\\myDocs\\masters\\courses\\thesis\\code\\data\\keywords\\matched_o\\root-project.root.v6-32-06.docs.76.parquet\n",
      "Loaded C:\\Users\\Dmitrijs\\Documents\\myDocs\\masters\\courses\\thesis\\code\\data\\keywords\\matched_o\\root-project.root.v6-32-06.docs.77.parquet\n",
      "Loaded C:\\Users\\Dmitrijs\\Documents\\myDocs\\masters\\courses\\thesis\\code\\data\\keywords\\matched_o\\root-project.root.v6-32-06.docs.78.parquet\n",
      "Loaded C:\\Users\\Dmitrijs\\Documents\\myDocs\\masters\\courses\\thesis\\code\\data\\keywords\\matched_o\\root-project.root.v6-32-06.docs.79.parquet\n",
      "Loaded C:\\Users\\Dmitrijs\\Documents\\myDocs\\masters\\courses\\thesis\\code\\data\\keywords\\matched_o\\root-project.root.v6-32-06.docs.80.parquet\n",
      "Loaded C:\\Users\\Dmitrijs\\Documents\\myDocs\\masters\\courses\\thesis\\code\\data\\keywords\\matched_o\\root-project.root.v6-32-06.docs.81.parquet\n",
      "Loaded C:\\Users\\Dmitrijs\\Documents\\myDocs\\masters\\courses\\thesis\\code\\data\\keywords\\matched_o\\root-project.root.v6-32-06.docs.82.parquet\n",
      "Loaded C:\\Users\\Dmitrijs\\Documents\\myDocs\\masters\\courses\\thesis\\code\\data\\keywords\\matched_o\\root-project.root.v6-32-06.docs.83.parquet\n",
      "Loaded C:\\Users\\Dmitrijs\\Documents\\myDocs\\masters\\courses\\thesis\\code\\data\\keywords\\matched_o\\root-project.root.v6-32-06.docs.84.parquet\n",
      "Loaded C:\\Users\\Dmitrijs\\Documents\\myDocs\\masters\\courses\\thesis\\code\\data\\keywords\\matched_o\\root-project.root.v6-32-06.docs.85.parquet\n",
      "Loaded C:\\Users\\Dmitrijs\\Documents\\myDocs\\masters\\courses\\thesis\\code\\data\\keywords\\matched_o\\root-project.root.v6-32-06.docs.86.parquet\n",
      "Loaded C:\\Users\\Dmitrijs\\Documents\\myDocs\\masters\\courses\\thesis\\code\\data\\keywords\\matched_o\\root-project.root.v6-32-06.docs.87.parquet\n",
      "Loaded C:\\Users\\Dmitrijs\\Documents\\myDocs\\masters\\courses\\thesis\\code\\data\\keywords\\matched_o\\root-project.root.v6-32-06.docs.88.parquet\n",
      "Loaded C:\\Users\\Dmitrijs\\Documents\\myDocs\\masters\\courses\\thesis\\code\\data\\keywords\\matched_o\\root-project.root.v6-32-06.docs.89.parquet\n",
      "Loaded C:\\Users\\Dmitrijs\\Documents\\myDocs\\masters\\courses\\thesis\\code\\data\\keywords\\matched_o\\root-project.root.v6-32-06.docs.90.parquet\n",
      "Loaded C:\\Users\\Dmitrijs\\Documents\\myDocs\\masters\\courses\\thesis\\code\\data\\keywords\\matched_o\\root-project.root.v6-32-06.docs.91.parquet\n",
      "Loaded C:\\Users\\Dmitrijs\\Documents\\myDocs\\masters\\courses\\thesis\\code\\data\\keywords\\matched_o\\root-project.root.v6-32-06.docs.92.parquet\n",
      "Loaded C:\\Users\\Dmitrijs\\Documents\\myDocs\\masters\\courses\\thesis\\code\\data\\keywords\\matched_o\\root-project.root.v6-32-06.docs.93.parquet\n",
      "Loaded C:\\Users\\Dmitrijs\\Documents\\myDocs\\masters\\courses\\thesis\\code\\data\\keywords\\matched_o\\root-project.root.v6-32-06.docs.94.parquet\n",
      "Loaded C:\\Users\\Dmitrijs\\Documents\\myDocs\\masters\\courses\\thesis\\code\\data\\keywords\\matched_o\\root-project.root.v6-32-06.issue.00.parquet\n",
      "Loaded C:\\Users\\Dmitrijs\\Documents\\myDocs\\masters\\courses\\thesis\\code\\data\\keywords\\matched_o\\root-project.root.v6-32-06.issue.01.parquet\n",
      "Loaded C:\\Users\\Dmitrijs\\Documents\\myDocs\\masters\\courses\\thesis\\code\\data\\keywords\\matched_o\\root-project.root.v6-32-06.issue.02.parquet\n",
      "Loaded C:\\Users\\Dmitrijs\\Documents\\myDocs\\masters\\courses\\thesis\\code\\data\\keywords\\matched_o\\root-project.root.v6-32-06.issue.03.parquet\n",
      "Loaded C:\\Users\\Dmitrijs\\Documents\\myDocs\\masters\\courses\\thesis\\code\\data\\keywords\\matched_o\\root-project.root.v6-32-06.issue.04.parquet\n",
      "Loaded C:\\Users\\Dmitrijs\\Documents\\myDocs\\masters\\courses\\thesis\\code\\data\\keywords\\matched_o\\root-project.root.v6-32-06.issue.05.parquet\n",
      "Loaded C:\\Users\\Dmitrijs\\Documents\\myDocs\\masters\\courses\\thesis\\code\\data\\keywords\\matched_o\\root-project.root.v6-32-06.issue.06.parquet\n",
      "Loaded C:\\Users\\Dmitrijs\\Documents\\myDocs\\masters\\courses\\thesis\\code\\data\\keywords\\matched_o\\root-project.root.v6-32-06.issue.07.parquet\n",
      "Loaded C:\\Users\\Dmitrijs\\Documents\\myDocs\\masters\\courses\\thesis\\code\\data\\keywords\\matched_o\\root-project.root.v6-32-06.issue.08.parquet\n",
      "Loaded C:\\Users\\Dmitrijs\\Documents\\myDocs\\masters\\courses\\thesis\\code\\data\\keywords\\matched_o\\root-project.root.v6-32-06.issue.09.parquet\n",
      "Loaded C:\\Users\\Dmitrijs\\Documents\\myDocs\\masters\\courses\\thesis\\code\\data\\keywords\\matched_o\\root-project.root.v6-32-06.issue.10.parquet\n",
      "Loaded C:\\Users\\Dmitrijs\\Documents\\myDocs\\masters\\courses\\thesis\\code\\data\\keywords\\matched_o\\root-project.root.v6-32-06.issue.11.parquet\n",
      "Loaded C:\\Users\\Dmitrijs\\Documents\\myDocs\\masters\\courses\\thesis\\code\\data\\keywords\\matched_o\\root-project.root.v6-32-06.issue.12.parquet\n",
      "Loaded C:\\Users\\Dmitrijs\\Documents\\myDocs\\masters\\courses\\thesis\\code\\data\\keywords\\matched_o\\root-project.root.v6-32-06.issue.13.parquet\n",
      "Loaded C:\\Users\\Dmitrijs\\Documents\\myDocs\\masters\\courses\\thesis\\code\\data\\keywords\\matched_o\\root-project.root.v6-32-06.issue.14.parquet\n",
      "Loaded C:\\Users\\Dmitrijs\\Documents\\myDocs\\masters\\courses\\thesis\\code\\data\\keywords\\matched_o\\root-project.root.v6-32-06.issue.15.parquet\n",
      "Loaded C:\\Users\\Dmitrijs\\Documents\\myDocs\\masters\\courses\\thesis\\code\\data\\keywords\\matched_o\\root-project.root.v6-32-06.issue.16.parquet\n",
      "Loaded C:\\Users\\Dmitrijs\\Documents\\myDocs\\masters\\courses\\thesis\\code\\data\\keywords\\matched_o\\root-project.root.v6-32-06.issue.17.parquet\n",
      "Loaded C:\\Users\\Dmitrijs\\Documents\\myDocs\\masters\\courses\\thesis\\code\\data\\keywords\\matched_o\\root-project.root.v6-32-06.issue.18.parquet\n",
      "Loaded C:\\Users\\Dmitrijs\\Documents\\myDocs\\masters\\courses\\thesis\\code\\data\\keywords\\matched_o\\root-project.root.v6-32-06.issue.19.parquet\n",
      "Loaded C:\\Users\\Dmitrijs\\Documents\\myDocs\\masters\\courses\\thesis\\code\\data\\keywords\\matched_o\\root-project.root.v6-32-06.issue.20.parquet\n",
      "Loaded C:\\Users\\Dmitrijs\\Documents\\myDocs\\masters\\courses\\thesis\\code\\data\\keywords\\matched_o\\root-project.root.v6-32-06.issue.21.parquet\n",
      "Loaded C:\\Users\\Dmitrijs\\Documents\\myDocs\\masters\\courses\\thesis\\code\\data\\keywords\\matched_o\\root-project.root.v6-32-06.issue.22.parquet\n",
      "Loaded C:\\Users\\Dmitrijs\\Documents\\myDocs\\masters\\courses\\thesis\\code\\data\\keywords\\matched_o\\root-project.root.v6-32-06.issue.23.parquet\n",
      "Loaded C:\\Users\\Dmitrijs\\Documents\\myDocs\\masters\\courses\\thesis\\code\\data\\keywords\\matched_o\\root-project.root.v6-32-06.issue.24.parquet\n",
      "Loaded C:\\Users\\Dmitrijs\\Documents\\myDocs\\masters\\courses\\thesis\\code\\data\\keywords\\matched_o\\root-project.root.v6-32-06.issue.25.parquet\n",
      "Loaded C:\\Users\\Dmitrijs\\Documents\\myDocs\\masters\\courses\\thesis\\code\\data\\keywords\\matched_o\\root-project.root.v6-32-06.issue.26.parquet\n",
      "Loaded C:\\Users\\Dmitrijs\\Documents\\myDocs\\masters\\courses\\thesis\\code\\data\\keywords\\matched_o\\root-project.root.v6-32-06.issue.27.parquet\n",
      "Loaded C:\\Users\\Dmitrijs\\Documents\\myDocs\\masters\\courses\\thesis\\code\\data\\keywords\\matched_o\\root-project.root.v6-32-06.issue.28.parquet\n",
      "Loaded C:\\Users\\Dmitrijs\\Documents\\myDocs\\masters\\courses\\thesis\\code\\data\\keywords\\matched_o\\root-project.root.v6-32-06.issue.29.parquet\n",
      "Loaded C:\\Users\\Dmitrijs\\Documents\\myDocs\\masters\\courses\\thesis\\code\\data\\keywords\\matched_o\\root-project.root.v6-32-06.issue_comment.00.parquet\n",
      "Loaded C:\\Users\\Dmitrijs\\Documents\\myDocs\\masters\\courses\\thesis\\code\\data\\keywords\\matched_o\\root-project.root.v6-32-06.issue_comment.01.parquet\n",
      "Loaded C:\\Users\\Dmitrijs\\Documents\\myDocs\\masters\\courses\\thesis\\code\\data\\keywords\\matched_o\\root-project.root.v6-32-06.issue_comment.02.parquet\n",
      "Loaded C:\\Users\\Dmitrijs\\Documents\\myDocs\\masters\\courses\\thesis\\code\\data\\keywords\\matched_o\\root-project.root.v6-32-06.issue_comment.03.parquet\n",
      "Loaded C:\\Users\\Dmitrijs\\Documents\\myDocs\\masters\\courses\\thesis\\code\\data\\keywords\\matched_o\\root-project.root.v6-32-06.issue_comment.04.parquet\n",
      "Loaded C:\\Users\\Dmitrijs\\Documents\\myDocs\\masters\\courses\\thesis\\code\\data\\keywords\\matched_o\\root-project.root.v6-32-06.issue_comment.05.parquet\n",
      "Loaded C:\\Users\\Dmitrijs\\Documents\\myDocs\\masters\\courses\\thesis\\code\\data\\keywords\\matched_o\\root-project.root.v6-32-06.issue_comment.06.parquet\n",
      "Loaded C:\\Users\\Dmitrijs\\Documents\\myDocs\\masters\\courses\\thesis\\code\\data\\keywords\\matched_o\\root-project.root.v6-32-06.issue_comment.07.parquet\n",
      "Loaded C:\\Users\\Dmitrijs\\Documents\\myDocs\\masters\\courses\\thesis\\code\\data\\keywords\\matched_o\\root-project.root.v6-32-06.issue_comment.08.parquet\n",
      "Loaded C:\\Users\\Dmitrijs\\Documents\\myDocs\\masters\\courses\\thesis\\code\\data\\keywords\\matched_o\\root-project.root.v6-32-06.issue_comment.09.parquet\n",
      "Loaded C:\\Users\\Dmitrijs\\Documents\\myDocs\\masters\\courses\\thesis\\code\\data\\keywords\\matched_o\\root-project.root.v6-32-06.issue_comment.10.parquet\n",
      "Loaded C:\\Users\\Dmitrijs\\Documents\\myDocs\\masters\\courses\\thesis\\code\\data\\keywords\\matched_o\\root-project.root.v6-32-06.issue_comment.11.parquet\n",
      "Loaded C:\\Users\\Dmitrijs\\Documents\\myDocs\\masters\\courses\\thesis\\code\\data\\keywords\\matched_o\\root-project.root.v6-32-06.issue_comment.12.parquet\n",
      "Loaded C:\\Users\\Dmitrijs\\Documents\\myDocs\\masters\\courses\\thesis\\code\\data\\keywords\\matched_o\\root-project.root.v6-32-06.issue_comment.13.parquet\n",
      "Loaded C:\\Users\\Dmitrijs\\Documents\\myDocs\\masters\\courses\\thesis\\code\\data\\keywords\\matched_o\\root-project.root.v6-32-06.issue_comment.14.parquet\n",
      "Loaded C:\\Users\\Dmitrijs\\Documents\\myDocs\\masters\\courses\\thesis\\code\\data\\keywords\\matched_o\\root-project.root.v6-32-06.issue_comment.15.parquet\n",
      "Loaded C:\\Users\\Dmitrijs\\Documents\\myDocs\\masters\\courses\\thesis\\code\\data\\keywords\\matched_o\\root-project.root.v6-32-06.issue_comment.16.parquet\n",
      "Loaded C:\\Users\\Dmitrijs\\Documents\\myDocs\\masters\\courses\\thesis\\code\\data\\keywords\\matched_o\\root-project.root.v6-32-06.issue_comment.17.parquet\n",
      "Loaded C:\\Users\\Dmitrijs\\Documents\\myDocs\\masters\\courses\\thesis\\code\\data\\keywords\\matched_o\\root-project.root.v6-32-06.issue_comment.18.parquet\n",
      "Loaded C:\\Users\\Dmitrijs\\Documents\\myDocs\\masters\\courses\\thesis\\code\\data\\keywords\\matched_o\\root-project.root.v6-32-06.issue_comment.19.parquet\n",
      "Loaded C:\\Users\\Dmitrijs\\Documents\\myDocs\\masters\\courses\\thesis\\code\\data\\keywords\\matched_o\\root-project.root.v6-32-06.issue_comment.20.parquet\n",
      "Loaded C:\\Users\\Dmitrijs\\Documents\\myDocs\\masters\\courses\\thesis\\code\\data\\keywords\\matched_o\\root-project.root.v6-32-06.issue_comment.21.parquet\n",
      "Loaded C:\\Users\\Dmitrijs\\Documents\\myDocs\\masters\\courses\\thesis\\code\\data\\keywords\\matched_o\\root-project.root.v6-32-06.issue_comment.22.parquet\n",
      "Loaded C:\\Users\\Dmitrijs\\Documents\\myDocs\\masters\\courses\\thesis\\code\\data\\keywords\\matched_o\\root-project.root.v6-32-06.issue_comment.23.parquet\n",
      "Loaded C:\\Users\\Dmitrijs\\Documents\\myDocs\\masters\\courses\\thesis\\code\\data\\keywords\\matched_o\\root-project.root.v6-32-06.issue_comment.24.parquet\n",
      "Loaded C:\\Users\\Dmitrijs\\Documents\\myDocs\\masters\\courses\\thesis\\code\\data\\keywords\\matched_o\\root-project.root.v6-32-06.issue_comment.25.parquet\n",
      "Loaded C:\\Users\\Dmitrijs\\Documents\\myDocs\\masters\\courses\\thesis\\code\\data\\keywords\\matched_o\\root-project.root.v6-32-06.release.parquet\n",
      "Loaded C:\\Users\\Dmitrijs\\Documents\\myDocs\\masters\\courses\\thesis\\code\\data\\keywords\\matched_o\\root-project.root.v6-32-06.wiki.0.parquet\n",
      "Loaded C:\\Users\\Dmitrijs\\Documents\\myDocs\\masters\\courses\\thesis\\code\\data\\keywords\\matched_o\\root-project.root.v6-32-06.wiki.1.parquet\n",
      "Loaded C:\\Users\\Dmitrijs\\Documents\\myDocs\\masters\\courses\\thesis\\code\\data\\keywords\\matched_o\\root-project.root.v6-32-06.wiki.2.parquet\n",
      "Loaded C:\\Users\\Dmitrijs\\Documents\\myDocs\\masters\\courses\\thesis\\code\\data\\keywords\\matched_o\\scverse.scanpy.1.10.2.code_comment.parquet\n",
      "Loaded C:\\Users\\Dmitrijs\\Documents\\myDocs\\masters\\courses\\thesis\\code\\data\\keywords\\matched_o\\scverse.scanpy.1.10.2.docs.parquet\n",
      "Loaded C:\\Users\\Dmitrijs\\Documents\\myDocs\\masters\\courses\\thesis\\code\\data\\keywords\\matched_o\\scverse.scanpy.1.10.2.issue.00.parquet\n",
      "Loaded C:\\Users\\Dmitrijs\\Documents\\myDocs\\masters\\courses\\thesis\\code\\data\\keywords\\matched_o\\scverse.scanpy.1.10.2.issue.01.parquet\n",
      "Loaded C:\\Users\\Dmitrijs\\Documents\\myDocs\\masters\\courses\\thesis\\code\\data\\keywords\\matched_o\\scverse.scanpy.1.10.2.issue.02.parquet\n",
      "Loaded C:\\Users\\Dmitrijs\\Documents\\myDocs\\masters\\courses\\thesis\\code\\data\\keywords\\matched_o\\scverse.scanpy.1.10.2.issue.03.parquet\n",
      "Loaded C:\\Users\\Dmitrijs\\Documents\\myDocs\\masters\\courses\\thesis\\code\\data\\keywords\\matched_o\\scverse.scanpy.1.10.2.issue.04.parquet\n",
      "Loaded C:\\Users\\Dmitrijs\\Documents\\myDocs\\masters\\courses\\thesis\\code\\data\\keywords\\matched_o\\scverse.scanpy.1.10.2.issue.05.parquet\n",
      "Loaded C:\\Users\\Dmitrijs\\Documents\\myDocs\\masters\\courses\\thesis\\code\\data\\keywords\\matched_o\\scverse.scanpy.1.10.2.issue.06.parquet\n",
      "Loaded C:\\Users\\Dmitrijs\\Documents\\myDocs\\masters\\courses\\thesis\\code\\data\\keywords\\matched_o\\scverse.scanpy.1.10.2.issue.07.parquet\n",
      "Loaded C:\\Users\\Dmitrijs\\Documents\\myDocs\\masters\\courses\\thesis\\code\\data\\keywords\\matched_o\\scverse.scanpy.1.10.2.issue.08.parquet\n",
      "Loaded C:\\Users\\Dmitrijs\\Documents\\myDocs\\masters\\courses\\thesis\\code\\data\\keywords\\matched_o\\scverse.scanpy.1.10.2.issue.09.parquet\n",
      "Loaded C:\\Users\\Dmitrijs\\Documents\\myDocs\\masters\\courses\\thesis\\code\\data\\keywords\\matched_o\\scverse.scanpy.1.10.2.issue.10.parquet\n",
      "Loaded C:\\Users\\Dmitrijs\\Documents\\myDocs\\masters\\courses\\thesis\\code\\data\\keywords\\matched_o\\scverse.scanpy.1.10.2.issue_comment.0.parquet\n",
      "Loaded C:\\Users\\Dmitrijs\\Documents\\myDocs\\masters\\courses\\thesis\\code\\data\\keywords\\matched_o\\scverse.scanpy.1.10.2.issue_comment.1.parquet\n",
      "Loaded C:\\Users\\Dmitrijs\\Documents\\myDocs\\masters\\courses\\thesis\\code\\data\\keywords\\matched_o\\scverse.scanpy.1.10.2.issue_comment.2.parquet\n",
      "Loaded C:\\Users\\Dmitrijs\\Documents\\myDocs\\masters\\courses\\thesis\\code\\data\\keywords\\matched_o\\scverse.scanpy.1.10.2.issue_comment.3.parquet\n",
      "Loaded C:\\Users\\Dmitrijs\\Documents\\myDocs\\masters\\courses\\thesis\\code\\data\\keywords\\matched_o\\scverse.scanpy.1.10.2.issue_comment.4.parquet\n",
      "Loaded C:\\Users\\Dmitrijs\\Documents\\myDocs\\masters\\courses\\thesis\\code\\data\\keywords\\matched_o\\scverse.scanpy.1.10.2.issue_comment.5.parquet\n",
      "Loaded C:\\Users\\Dmitrijs\\Documents\\myDocs\\masters\\courses\\thesis\\code\\data\\keywords\\matched_o\\scverse.scanpy.1.10.2.issue_comment.6.parquet\n",
      "Loaded C:\\Users\\Dmitrijs\\Documents\\myDocs\\masters\\courses\\thesis\\code\\data\\keywords\\matched_o\\scverse.scanpy.1.10.2.issue_comment.7.parquet\n",
      "Loaded C:\\Users\\Dmitrijs\\Documents\\myDocs\\masters\\courses\\thesis\\code\\data\\keywords\\matched_o\\scverse.scanpy.1.10.2.issue_comment.8.parquet\n",
      "Loaded C:\\Users\\Dmitrijs\\Documents\\myDocs\\masters\\courses\\thesis\\code\\data\\keywords\\matched_o\\scverse.scanpy.1.10.2.wiki.0.parquet\n",
      "Loaded C:\\Users\\Dmitrijs\\Documents\\myDocs\\masters\\courses\\thesis\\code\\data\\keywords\\matched_o\\scverse.scanpy.1.10.2.wiki.1.parquet\n",
      "Loaded C:\\Users\\Dmitrijs\\Documents\\myDocs\\masters\\courses\\thesis\\code\\data\\keywords\\matched_o\\scverse.scanpy.1.10.2.wiki.2.parquet\n"
     ]
    }
   ],
   "execution_count": 7
  },
  {
   "metadata": {
    "ExecuteTime": {
     "end_time": "2025-07-11T18:09:00.178643Z",
     "start_time": "2025-07-11T18:09:00.154367Z"
    }
   },
   "cell_type": "code",
   "source": "df_main.head()",
   "id": "5e02465e8683b076",
   "outputs": [
    {
     "data": {
      "text/plain": [
       "                                                  id  keyword keyword_raw  \\\n",
       "0  allenai/scispacy/v0.5.5.code_comment.availabil...     down        down   \n",
       "1  allenai/scispacy/v0.5.5.code_comment.availabil...     down        down   \n",
       "2  allenai/scispacy/v0.5.5.code_comment.availabil...     down        down   \n",
       "3  allenai/scispacy/v0.5.5.code_comment.availabil...    avail       avail   \n",
       "4  allenai/scispacy/v0.5.5.code_comment.availabil...  consist     consist   \n",
       "\n",
       "                                            sentence            qa  \\\n",
       "0  Given something that might be a URL (or might ...  availability   \n",
       "1  Given a URL, look for the corresponding datase...  availability   \n",
       "2  Download to temporary file, then copy to cache...  availability   \n",
       "3  A candidate generator for entity linking to a ...  availability   \n",
       "4  A spacy pipeline component which identifies en...  availability   \n",
       "\n",
       "         source                                                url  \\\n",
       "0  code_comment  https://github.com/allenai/scispacy/tree/v0.5....   \n",
       "1  code_comment  https://github.com/allenai/scispacy/tree/v0.5....   \n",
       "2  code_comment  https://github.com/allenai/scispacy/tree/v0.5....   \n",
       "3  code_comment  https://github.com/allenai/scispacy/tree/v0.5....   \n",
       "4  code_comment  https://github.com/allenai/scispacy/tree/v0.5....   \n",
       "\n",
       "                   repo_id matched_word             unique_matched_words  \\\n",
       "0  allenai/scispacy/v0.5.5     download     download, Download, DOWNLOAD   \n",
       "1  allenai/scispacy/v0.5.5     download     download, Download, DOWNLOAD   \n",
       "2  allenai/scispacy/v0.5.5     download     download, Download, DOWNLOAD   \n",
       "3  allenai/scispacy/v0.5.5    available  available, Available, AVAILABLE   \n",
       "4  allenai/scispacy/v0.5.5     consists               consists, Consists   \n",
       "\n",
       "   nunique_matched_words  nsimilar  \n",
       "0                      3         1  \n",
       "1                      3         1  \n",
       "2                      3         2  \n",
       "3                      3         1  \n",
       "4                      2         1  "
      ],
      "text/html": [
       "<div>\n",
       "<style scoped>\n",
       "    .dataframe tbody tr th:only-of-type {\n",
       "        vertical-align: middle;\n",
       "    }\n",
       "\n",
       "    .dataframe tbody tr th {\n",
       "        vertical-align: top;\n",
       "    }\n",
       "\n",
       "    .dataframe thead th {\n",
       "        text-align: right;\n",
       "    }\n",
       "</style>\n",
       "<table border=\"1\" class=\"dataframe\">\n",
       "  <thead>\n",
       "    <tr style=\"text-align: right;\">\n",
       "      <th></th>\n",
       "      <th>id</th>\n",
       "      <th>keyword</th>\n",
       "      <th>keyword_raw</th>\n",
       "      <th>sentence</th>\n",
       "      <th>qa</th>\n",
       "      <th>source</th>\n",
       "      <th>url</th>\n",
       "      <th>repo_id</th>\n",
       "      <th>matched_word</th>\n",
       "      <th>unique_matched_words</th>\n",
       "      <th>nunique_matched_words</th>\n",
       "      <th>nsimilar</th>\n",
       "    </tr>\n",
       "  </thead>\n",
       "  <tbody>\n",
       "    <tr>\n",
       "      <th>0</th>\n",
       "      <td>allenai/scispacy/v0.5.5.code_comment.availabil...</td>\n",
       "      <td>down</td>\n",
       "      <td>down</td>\n",
       "      <td>Given something that might be a URL (or might ...</td>\n",
       "      <td>availability</td>\n",
       "      <td>code_comment</td>\n",
       "      <td>https://github.com/allenai/scispacy/tree/v0.5....</td>\n",
       "      <td>allenai/scispacy/v0.5.5</td>\n",
       "      <td>download</td>\n",
       "      <td>download, Download, DOWNLOAD</td>\n",
       "      <td>3</td>\n",
       "      <td>1</td>\n",
       "    </tr>\n",
       "    <tr>\n",
       "      <th>1</th>\n",
       "      <td>allenai/scispacy/v0.5.5.code_comment.availabil...</td>\n",
       "      <td>down</td>\n",
       "      <td>down</td>\n",
       "      <td>Given a URL, look for the corresponding datase...</td>\n",
       "      <td>availability</td>\n",
       "      <td>code_comment</td>\n",
       "      <td>https://github.com/allenai/scispacy/tree/v0.5....</td>\n",
       "      <td>allenai/scispacy/v0.5.5</td>\n",
       "      <td>download</td>\n",
       "      <td>download, Download, DOWNLOAD</td>\n",
       "      <td>3</td>\n",
       "      <td>1</td>\n",
       "    </tr>\n",
       "    <tr>\n",
       "      <th>2</th>\n",
       "      <td>allenai/scispacy/v0.5.5.code_comment.availabil...</td>\n",
       "      <td>down</td>\n",
       "      <td>down</td>\n",
       "      <td>Download to temporary file, then copy to cache...</td>\n",
       "      <td>availability</td>\n",
       "      <td>code_comment</td>\n",
       "      <td>https://github.com/allenai/scispacy/tree/v0.5....</td>\n",
       "      <td>allenai/scispacy/v0.5.5</td>\n",
       "      <td>download</td>\n",
       "      <td>download, Download, DOWNLOAD</td>\n",
       "      <td>3</td>\n",
       "      <td>2</td>\n",
       "    </tr>\n",
       "    <tr>\n",
       "      <th>3</th>\n",
       "      <td>allenai/scispacy/v0.5.5.code_comment.availabil...</td>\n",
       "      <td>avail</td>\n",
       "      <td>avail</td>\n",
       "      <td>A candidate generator for entity linking to a ...</td>\n",
       "      <td>availability</td>\n",
       "      <td>code_comment</td>\n",
       "      <td>https://github.com/allenai/scispacy/tree/v0.5....</td>\n",
       "      <td>allenai/scispacy/v0.5.5</td>\n",
       "      <td>available</td>\n",
       "      <td>available, Available, AVAILABLE</td>\n",
       "      <td>3</td>\n",
       "      <td>1</td>\n",
       "    </tr>\n",
       "    <tr>\n",
       "      <th>4</th>\n",
       "      <td>allenai/scispacy/v0.5.5.code_comment.availabil...</td>\n",
       "      <td>consist</td>\n",
       "      <td>consist</td>\n",
       "      <td>A spacy pipeline component which identifies en...</td>\n",
       "      <td>availability</td>\n",
       "      <td>code_comment</td>\n",
       "      <td>https://github.com/allenai/scispacy/tree/v0.5....</td>\n",
       "      <td>allenai/scispacy/v0.5.5</td>\n",
       "      <td>consists</td>\n",
       "      <td>consists, Consists</td>\n",
       "      <td>2</td>\n",
       "      <td>1</td>\n",
       "    </tr>\n",
       "  </tbody>\n",
       "</table>\n",
       "</div>"
      ]
     },
     "execution_count": 8,
     "metadata": {},
     "output_type": "execute_result"
    }
   ],
   "execution_count": 8
  },
  {
   "metadata": {
    "ExecuteTime": {
     "end_time": "2025-07-11T18:09:02.752848Z",
     "start_time": "2025-07-11T18:09:00.266051Z"
    }
   },
   "cell_type": "code",
   "source": [
    "import pandas as pd\n",
    "\n",
    "df2 = pd.merge(df_main, df, \"left\", current_stage_cfg.depends_on_fields)\n",
    "df2.head()"
   ],
   "id": "8a22d08a9c1aac8a",
   "outputs": [
    {
     "data": {
      "text/plain": [
       "                                                  id  keyword keyword_raw  \\\n",
       "0  allenai/scispacy/v0.5.5.code_comment.availabil...     down        down   \n",
       "1  allenai/scispacy/v0.5.5.code_comment.availabil...     down        down   \n",
       "2  allenai/scispacy/v0.5.5.code_comment.availabil...     down        down   \n",
       "3  allenai/scispacy/v0.5.5.code_comment.availabil...    avail       avail   \n",
       "4  allenai/scispacy/v0.5.5.code_comment.availabil...  consist     consist   \n",
       "\n",
       "                                            sentence            qa  \\\n",
       "0  Given something that might be a URL (or might ...  availability   \n",
       "1  Given a URL, look for the corresponding datase...  availability   \n",
       "2  Download to temporary file, then copy to cache...  availability   \n",
       "3  A candidate generator for entity linking to a ...  availability   \n",
       "4  A spacy pipeline component which identifies en...  availability   \n",
       "\n",
       "         source                                                url  \\\n",
       "0  code_comment  https://github.com/allenai/scispacy/tree/v0.5....   \n",
       "1  code_comment  https://github.com/allenai/scispacy/tree/v0.5....   \n",
       "2  code_comment  https://github.com/allenai/scispacy/tree/v0.5....   \n",
       "3  code_comment  https://github.com/allenai/scispacy/tree/v0.5....   \n",
       "4  code_comment  https://github.com/allenai/scispacy/tree/v0.5....   \n",
       "\n",
       "                   repo_id matched_word             unique_matched_words  \\\n",
       "0  allenai/scispacy/v0.5.5     download     download, Download, DOWNLOAD   \n",
       "1  allenai/scispacy/v0.5.5     download     download, Download, DOWNLOAD   \n",
       "2  allenai/scispacy/v0.5.5     download     download, Download, DOWNLOAD   \n",
       "3  allenai/scispacy/v0.5.5    available  available, Available, AVAILABLE   \n",
       "4  allenai/scispacy/v0.5.5     consists               consists, Consists   \n",
       "\n",
       "   nunique_matched_words  nsimilar s0_to_eliminate s0_reasoning  \n",
       "0                      3         1             NaN          NaN  \n",
       "1                      3         1             NaN          NaN  \n",
       "2                      3         2             NaN          NaN  \n",
       "3                      3         1             NaN          NaN  \n",
       "4                      2         1             NaN          NaN  "
      ],
      "text/html": [
       "<div>\n",
       "<style scoped>\n",
       "    .dataframe tbody tr th:only-of-type {\n",
       "        vertical-align: middle;\n",
       "    }\n",
       "\n",
       "    .dataframe tbody tr th {\n",
       "        vertical-align: top;\n",
       "    }\n",
       "\n",
       "    .dataframe thead th {\n",
       "        text-align: right;\n",
       "    }\n",
       "</style>\n",
       "<table border=\"1\" class=\"dataframe\">\n",
       "  <thead>\n",
       "    <tr style=\"text-align: right;\">\n",
       "      <th></th>\n",
       "      <th>id</th>\n",
       "      <th>keyword</th>\n",
       "      <th>keyword_raw</th>\n",
       "      <th>sentence</th>\n",
       "      <th>qa</th>\n",
       "      <th>source</th>\n",
       "      <th>url</th>\n",
       "      <th>repo_id</th>\n",
       "      <th>matched_word</th>\n",
       "      <th>unique_matched_words</th>\n",
       "      <th>nunique_matched_words</th>\n",
       "      <th>nsimilar</th>\n",
       "      <th>s0_to_eliminate</th>\n",
       "      <th>s0_reasoning</th>\n",
       "    </tr>\n",
       "  </thead>\n",
       "  <tbody>\n",
       "    <tr>\n",
       "      <th>0</th>\n",
       "      <td>allenai/scispacy/v0.5.5.code_comment.availabil...</td>\n",
       "      <td>down</td>\n",
       "      <td>down</td>\n",
       "      <td>Given something that might be a URL (or might ...</td>\n",
       "      <td>availability</td>\n",
       "      <td>code_comment</td>\n",
       "      <td>https://github.com/allenai/scispacy/tree/v0.5....</td>\n",
       "      <td>allenai/scispacy/v0.5.5</td>\n",
       "      <td>download</td>\n",
       "      <td>download, Download, DOWNLOAD</td>\n",
       "      <td>3</td>\n",
       "      <td>1</td>\n",
       "      <td>NaN</td>\n",
       "      <td>NaN</td>\n",
       "    </tr>\n",
       "    <tr>\n",
       "      <th>1</th>\n",
       "      <td>allenai/scispacy/v0.5.5.code_comment.availabil...</td>\n",
       "      <td>down</td>\n",
       "      <td>down</td>\n",
       "      <td>Given a URL, look for the corresponding datase...</td>\n",
       "      <td>availability</td>\n",
       "      <td>code_comment</td>\n",
       "      <td>https://github.com/allenai/scispacy/tree/v0.5....</td>\n",
       "      <td>allenai/scispacy/v0.5.5</td>\n",
       "      <td>download</td>\n",
       "      <td>download, Download, DOWNLOAD</td>\n",
       "      <td>3</td>\n",
       "      <td>1</td>\n",
       "      <td>NaN</td>\n",
       "      <td>NaN</td>\n",
       "    </tr>\n",
       "    <tr>\n",
       "      <th>2</th>\n",
       "      <td>allenai/scispacy/v0.5.5.code_comment.availabil...</td>\n",
       "      <td>down</td>\n",
       "      <td>down</td>\n",
       "      <td>Download to temporary file, then copy to cache...</td>\n",
       "      <td>availability</td>\n",
       "      <td>code_comment</td>\n",
       "      <td>https://github.com/allenai/scispacy/tree/v0.5....</td>\n",
       "      <td>allenai/scispacy/v0.5.5</td>\n",
       "      <td>download</td>\n",
       "      <td>download, Download, DOWNLOAD</td>\n",
       "      <td>3</td>\n",
       "      <td>2</td>\n",
       "      <td>NaN</td>\n",
       "      <td>NaN</td>\n",
       "    </tr>\n",
       "    <tr>\n",
       "      <th>3</th>\n",
       "      <td>allenai/scispacy/v0.5.5.code_comment.availabil...</td>\n",
       "      <td>avail</td>\n",
       "      <td>avail</td>\n",
       "      <td>A candidate generator for entity linking to a ...</td>\n",
       "      <td>availability</td>\n",
       "      <td>code_comment</td>\n",
       "      <td>https://github.com/allenai/scispacy/tree/v0.5....</td>\n",
       "      <td>allenai/scispacy/v0.5.5</td>\n",
       "      <td>available</td>\n",
       "      <td>available, Available, AVAILABLE</td>\n",
       "      <td>3</td>\n",
       "      <td>1</td>\n",
       "      <td>NaN</td>\n",
       "      <td>NaN</td>\n",
       "    </tr>\n",
       "    <tr>\n",
       "      <th>4</th>\n",
       "      <td>allenai/scispacy/v0.5.5.code_comment.availabil...</td>\n",
       "      <td>consist</td>\n",
       "      <td>consist</td>\n",
       "      <td>A spacy pipeline component which identifies en...</td>\n",
       "      <td>availability</td>\n",
       "      <td>code_comment</td>\n",
       "      <td>https://github.com/allenai/scispacy/tree/v0.5....</td>\n",
       "      <td>allenai/scispacy/v0.5.5</td>\n",
       "      <td>consists</td>\n",
       "      <td>consists, Consists</td>\n",
       "      <td>2</td>\n",
       "      <td>1</td>\n",
       "      <td>NaN</td>\n",
       "      <td>NaN</td>\n",
       "    </tr>\n",
       "  </tbody>\n",
       "</table>\n",
       "</div>"
      ]
     },
     "execution_count": 9,
     "metadata": {},
     "output_type": "execute_result"
    }
   ],
   "execution_count": 9
  },
  {
   "metadata": {},
   "cell_type": "markdown",
   "source": "## Filter based on stage results\n",
   "id": "e606c145819cc0c0"
  },
  {
   "metadata": {
    "ExecuteTime": {
     "end_time": "2025-07-11T19:06:52.263636Z",
     "start_time": "2025-07-11T19:06:52.252669Z"
    }
   },
   "cell_type": "code",
   "outputs": [
    {
     "data": {
      "text/plain": [
       "'s0_to_eliminate'"
      ]
     },
     "execution_count": 12,
     "metadata": {},
     "output_type": "execute_result"
    }
   ],
   "execution_count": 12,
   "source": "current_stage_cfg.get_boolean_field()",
   "id": "810f8d7518687326"
  },
  {
   "metadata": {
    "ExecuteTime": {
     "end_time": "2025-07-11T19:11:20.983185Z",
     "start_time": "2025-07-11T19:11:20.965935Z"
    }
   },
   "cell_type": "code",
   "source": [
    "## Individual for every stage (False or True)\n",
    "df2 = df2[df2[current_stage_cfg.get_boolean_field()] == False]\n",
    "df2.shape"
   ],
   "id": "5c9978827c7cdbbe",
   "outputs": [
    {
     "data": {
      "text/plain": [
       "(6477, 14)"
      ]
     },
     "execution_count": 17,
     "metadata": {},
     "output_type": "execute_result"
    }
   ],
   "execution_count": 17
  },
  {
   "metadata": {},
   "cell_type": "markdown",
   "source": "## Prepare data for the next stage",
   "id": "900c203298b65e92"
  },
  {
   "metadata": {
    "ExecuteTime": {
     "end_time": "2025-07-11T19:09:52.266872Z",
     "start_time": "2025-07-11T19:09:52.257876Z"
    }
   },
   "cell_type": "code",
   "source": "next_stage_cfg = current_stage_cfg.next_stage",
   "id": "c7603e77e57b9df4",
   "outputs": [],
   "execution_count": 13
  },
  {
   "metadata": {
    "ExecuteTime": {
     "end_time": "2025-07-11T19:11:09.870085Z",
     "start_time": "2025-07-11T19:11:09.859309Z"
    }
   },
   "cell_type": "code",
   "source": [
    "required_columns_for_the_next_stage_prompt = next_stage_cfg.depends_on_fields\n",
    "default_columns = [\"repo_id\", \"source\"]\n",
    "total_columns = required_columns_for_the_next_stage_prompt + default_columns\n",
    "required_columns_for_the_next_stage_prompt, total_columns"
   ],
   "id": "9116355dcca06e37",
   "outputs": [
    {
     "data": {
      "text/plain": [
       "(['qa', 'sentence'], ['qa', 'sentence', 'repo_id', 'source'])"
      ]
     },
     "execution_count": 16,
     "metadata": {},
     "output_type": "execute_result"
    }
   ],
   "execution_count": 16
  },
  {
   "metadata": {
    "ExecuteTime": {
     "end_time": "2025-07-11T19:11:36.033233Z",
     "start_time": "2025-07-11T19:11:35.978297Z"
    }
   },
   "cell_type": "code",
   "source": "df3 = df2.drop_duplicates(required_columns_for_the_next_stage_prompt)[total_columns]",
   "id": "93c4775b67bcb43c",
   "outputs": [],
   "execution_count": 18
  },
  {
   "metadata": {
    "ExecuteTime": {
     "end_time": "2025-07-11T19:11:39.375643Z",
     "start_time": "2025-07-11T19:11:39.344823Z"
    }
   },
   "cell_type": "code",
   "source": "df3.head()",
   "id": "5e87d748a105a25",
   "outputs": [
    {
     "data": {
      "text/plain": [
       "                  qa                                           sentence  \\\n",
       "17467   availability  Python operations to encode a tensor of ints i...   \n",
       "17861   availability  Graph operations decode a string into a fixed-...   \n",
       "18047   availability  Return true if a TPU device is available to th...   \n",
       "18225  deployability  We cannot build a PileupImage for dv_call, iss...   \n",
       "19083  deployability  https://stackoverflow.com/questions/34630393/p...   \n",
       "\n",
       "                         repo_id        source  \n",
       "17467  google/deepvariant/v1.6.1  code_comment  \n",
       "17861  google/deepvariant/v1.6.1  code_comment  \n",
       "18047  google/deepvariant/v1.6.1  code_comment  \n",
       "18225  google/deepvariant/v1.6.1  code_comment  \n",
       "19083  google/deepvariant/v1.6.1  code_comment  "
      ],
      "text/html": [
       "<div>\n",
       "<style scoped>\n",
       "    .dataframe tbody tr th:only-of-type {\n",
       "        vertical-align: middle;\n",
       "    }\n",
       "\n",
       "    .dataframe tbody tr th {\n",
       "        vertical-align: top;\n",
       "    }\n",
       "\n",
       "    .dataframe thead th {\n",
       "        text-align: right;\n",
       "    }\n",
       "</style>\n",
       "<table border=\"1\" class=\"dataframe\">\n",
       "  <thead>\n",
       "    <tr style=\"text-align: right;\">\n",
       "      <th></th>\n",
       "      <th>qa</th>\n",
       "      <th>sentence</th>\n",
       "      <th>repo_id</th>\n",
       "      <th>source</th>\n",
       "    </tr>\n",
       "  </thead>\n",
       "  <tbody>\n",
       "    <tr>\n",
       "      <th>17467</th>\n",
       "      <td>availability</td>\n",
       "      <td>Python operations to encode a tensor of ints i...</td>\n",
       "      <td>google/deepvariant/v1.6.1</td>\n",
       "      <td>code_comment</td>\n",
       "    </tr>\n",
       "    <tr>\n",
       "      <th>17861</th>\n",
       "      <td>availability</td>\n",
       "      <td>Graph operations decode a string into a fixed-...</td>\n",
       "      <td>google/deepvariant/v1.6.1</td>\n",
       "      <td>code_comment</td>\n",
       "    </tr>\n",
       "    <tr>\n",
       "      <th>18047</th>\n",
       "      <td>availability</td>\n",
       "      <td>Return true if a TPU device is available to th...</td>\n",
       "      <td>google/deepvariant/v1.6.1</td>\n",
       "      <td>code_comment</td>\n",
       "    </tr>\n",
       "    <tr>\n",
       "      <th>18225</th>\n",
       "      <td>deployability</td>\n",
       "      <td>We cannot build a PileupImage for dv_call, iss...</td>\n",
       "      <td>google/deepvariant/v1.6.1</td>\n",
       "      <td>code_comment</td>\n",
       "    </tr>\n",
       "    <tr>\n",
       "      <th>19083</th>\n",
       "      <td>deployability</td>\n",
       "      <td>https://stackoverflow.com/questions/34630393/p...</td>\n",
       "      <td>google/deepvariant/v1.6.1</td>\n",
       "      <td>code_comment</td>\n",
       "    </tr>\n",
       "  </tbody>\n",
       "</table>\n",
       "</div>"
      ]
     },
     "execution_count": 19,
     "metadata": {},
     "output_type": "execute_result"
    }
   ],
   "execution_count": 19
  },
  {
   "metadata": {
    "ExecuteTime": {
     "end_time": "2025-07-11T19:11:43.302571Z",
     "start_time": "2025-07-11T19:11:43.293463Z"
    }
   },
   "cell_type": "code",
   "source": "df3.shape",
   "id": "15609864c29689f3",
   "outputs": [
    {
     "data": {
      "text/plain": [
       "(901, 4)"
      ]
     },
     "execution_count": 20,
     "metadata": {},
     "output_type": "execute_result"
    }
   ],
   "execution_count": 20
  },
  {
   "metadata": {},
   "cell_type": "markdown",
   "source": "## Save optimized data",
   "id": "497b78ea3b149c4a"
  },
  {
   "metadata": {
    "ExecuteTime": {
     "end_time": "2025-07-11T19:16:31.155169Z",
     "start_time": "2025-07-11T19:16:31.066610Z"
    }
   },
   "cell_type": "code",
   "source": "split_dataset_by_repo_and_source(out_dir, df3, clean_before_saving=True, drop_columns_before_save=default_columns)\n",
   "id": "72d390306500c609",
   "outputs": [
    {
     "name": "stdout",
     "output_type": "stream",
     "text": [
      "C:\\Users\\Dmitrijs\\Documents\\myDocs\\masters\\courses\\thesis\\code\\data\\keywords\\s0_noise_filtering_o\\google.deepvariant.v1.6.1.code_comment.parquet\n",
      "Saved C:\\Users\\Dmitrijs\\Documents\\myDocs\\masters\\courses\\thesis\\code\\data\\keywords\\s0_noise_filtering_o\\google.deepvariant.v1.6.1.code_comment.parquet\n",
      "C:\\Users\\Dmitrijs\\Documents\\myDocs\\masters\\courses\\thesis\\code\\data\\keywords\\s0_noise_filtering_o\\google.deepvariant.v1.6.1.docs.parquet\n",
      "Saved C:\\Users\\Dmitrijs\\Documents\\myDocs\\masters\\courses\\thesis\\code\\data\\keywords\\s0_noise_filtering_o\\google.deepvariant.v1.6.1.docs.parquet\n",
      "C:\\Users\\Dmitrijs\\Documents\\myDocs\\masters\\courses\\thesis\\code\\data\\keywords\\s0_noise_filtering_o\\google.deepvariant.v1.6.1.issue.parquet\n",
      "Saved C:\\Users\\Dmitrijs\\Documents\\myDocs\\masters\\courses\\thesis\\code\\data\\keywords\\s0_noise_filtering_o\\google.deepvariant.v1.6.1.issue.parquet\n"
     ]
    }
   ],
   "execution_count": 21
  },
  {
   "metadata": {
    "ExecuteTime": {
     "end_time": "2025-07-11T19:16:35.766823Z",
     "start_time": "2025-07-11T19:16:35.721532Z"
    }
   },
   "cell_type": "code",
   "source": [
    "from utilities.split_parquet import split_files_exceeding_max_limit\n",
    "\n",
    "split_files_exceeding_max_limit(out_dir)"
   ],
   "id": "8bb5bbcd35cd6799",
   "outputs": [],
   "execution_count": 22
  },
  {
   "metadata": {},
   "cell_type": "code",
   "outputs": [],
   "execution_count": null,
   "source": "",
   "id": "6c84fe64fdd1e934"
  }
 ],
 "metadata": {
  "kernelspec": {
   "display_name": "Python 3",
   "language": "python",
   "name": "python3"
  },
  "language_info": {
   "codemirror_mode": {
    "name": "ipython",
    "version": 2
   },
   "file_extension": ".py",
   "mimetype": "text/x-python",
   "name": "python",
   "nbconvert_exporter": "python",
   "pygments_lexer": "ipython2",
   "version": "2.7.6"
  }
 },
 "nbformat": 4,
 "nbformat_minor": 5
}

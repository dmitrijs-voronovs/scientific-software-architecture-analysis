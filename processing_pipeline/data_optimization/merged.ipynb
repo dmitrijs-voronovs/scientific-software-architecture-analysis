{
 "cells": [
  {
   "metadata": {
    "collapsed": true
   },
   "cell_type": "code",
   "source": [
    "from constants.abs_paths import AbsDirPath\n",
    "from processing_pipeline.utilities.data_transformation import split_dataset_by_repo_and_source, load_all_files"
   ],
   "id": "initial_id",
   "outputs": [],
   "execution_count": null
  },
  {
   "metadata": {},
   "cell_type": "markdown",
   "source": "# Load S0 stage results",
   "id": "d747a6a02c04743b"
  },
  {
   "metadata": {},
   "cell_type": "code",
   "source": [
    "from processing_pipeline.data_optimization.stage_cfg import S0NoiseFiltering\n",
    "\n",
    "current_stage_cfg = S0NoiseFiltering"
   ],
   "id": "ba8a53e2fb1d70fb",
   "outputs": [],
   "execution_count": null
  },
  {
   "metadata": {},
   "cell_type": "code",
   "outputs": [],
   "execution_count": null,
   "source": [
    "in_dir = current_stage_cfg.in_dir\n",
    "df = load_all_files(in_dir)"
   ],
   "id": "71c95cfac40d5b95"
  },
  {
   "metadata": {},
   "cell_type": "code",
   "outputs": [],
   "execution_count": null,
   "source": "df = df.drop(columns=[current_stage_cfg.get_column_name(\"prompt\")])\n",
   "id": "1d9af6a9b051aea2"
  },
  {
   "metadata": {},
   "cell_type": "code",
   "source": "df.head()",
   "id": "30d22d9debbc434e",
   "outputs": [],
   "execution_count": null
  },
  {
   "metadata": {},
   "cell_type": "code",
   "source": "df.shape",
   "id": "e1dc1ccfe0b90786",
   "outputs": [],
   "execution_count": null
  },
  {
   "metadata": {},
   "cell_type": "markdown",
   "source": "## Join data from the current stage with the optimized dataset",
   "id": "7c1d7ac99a0d348"
  },
  {
   "metadata": {},
   "cell_type": "code",
   "source": "df_main = load_all_files(AbsDirPath.O_KEYWORDS_MATCHING)",
   "id": "958eb88b94355e32",
   "outputs": [],
   "execution_count": null
  },
  {
   "metadata": {},
   "cell_type": "code",
   "source": "df_main.head()",
   "id": "5e02465e8683b076",
   "outputs": [],
   "execution_count": null
  },
  {
   "metadata": {},
   "cell_type": "code",
   "outputs": [],
   "execution_count": null,
   "source": [
    "import pandas as pd\n",
    "\n",
    "df2 = current_stage_cfg.merge_stage_into_main(df_main, df)\n",
    "df2.head()"
   ],
   "id": "cf21407ee1059515"
  },
  {
   "metadata": {},
   "cell_type": "code",
   "outputs": [],
   "execution_count": null,
   "source": "df2.shape",
   "id": "e26f89b7b4098313"
  },
  {
   "metadata": {},
   "cell_type": "markdown",
   "source": "# Load S1 stage results",
   "id": "a77312a04e73a156"
  },
  {
   "metadata": {},
   "cell_type": "code",
   "source": [
    "from processing_pipeline.data_optimization.stage_cfg import S1QARelevance\n",
    "\n",
    "current_stage_cfg = S1QARelevance"
   ],
   "id": "473f35edba32147c",
   "outputs": [],
   "execution_count": null
  },
  {
   "metadata": {},
   "cell_type": "code",
   "outputs": [],
   "execution_count": null,
   "source": [
    "in_dir = current_stage_cfg.in_dir\n",
    "df = load_all_files(in_dir)"
   ],
   "id": "2b72b1aadcc4387c"
  },
  {
   "metadata": {},
   "cell_type": "code",
   "outputs": [],
   "execution_count": null,
   "source": "df = df.drop(columns=[current_stage_cfg.get_column_name(\"prompt\")])\n",
   "id": "95dc46e4ee568dbc"
  },
  {
   "metadata": {},
   "cell_type": "code",
   "source": "df.head()",
   "id": "f694026af7c9e6e4",
   "outputs": [],
   "execution_count": null
  },
  {
   "metadata": {},
   "cell_type": "code",
   "source": "df.shape",
   "id": "8cb57028982a763e",
   "outputs": [],
   "execution_count": null
  },
  {
   "metadata": {},
   "cell_type": "markdown",
   "source": "## Join data from the current stage with the optimized dataset",
   "id": "fd332136dfdde230"
  },
  {
   "metadata": {},
   "cell_type": "code",
   "source": "df_main = df2",
   "id": "23283081e4045808",
   "outputs": [],
   "execution_count": null
  },
  {
   "metadata": {},
   "cell_type": "code",
   "source": "df_main.head()",
   "id": "f49da1c9dfb1fd9a",
   "outputs": [],
   "execution_count": null
  },
  {
   "metadata": {},
   "cell_type": "code",
   "outputs": [],
   "execution_count": null,
   "source": [
    "import pandas as pd\n",
    "\n",
    "df2 = current_stage_cfg.merge_stage_into_main(df_main, df)\n",
    "df2.head()"
   ],
   "id": "e4abcdb4b5c46a5"
  },
  {
   "metadata": {},
   "cell_type": "code",
   "outputs": [],
   "execution_count": null,
   "source": "df2.shape",
   "id": "a43d8f335618ea7c"
  },
  {
   "metadata": {},
   "cell_type": "markdown",
   "source": "# Load S2 stage results",
   "id": "485a44fbf9395bf0"
  },
  {
   "metadata": {},
   "cell_type": "code",
   "source": [
    "from processing_pipeline.data_optimization.stage_cfg import S2ArchRelevance\n",
    "\n",
    "current_stage_cfg = S2ArchRelevance"
   ],
   "id": "3cf9b61daa7fec73",
   "outputs": [],
   "execution_count": null
  },
  {
   "metadata": {},
   "cell_type": "code",
   "outputs": [],
   "execution_count": null,
   "source": [
    "in_dir = current_stage_cfg.in_dir\n",
    "df = load_all_files(in_dir)"
   ],
   "id": "5d6af718bffc68cc"
  },
  {
   "metadata": {},
   "cell_type": "code",
   "outputs": [],
   "execution_count": null,
   "source": "df = df.drop(columns=[current_stage_cfg.get_column_name(\"prompt\")])\n",
   "id": "b0dbeeb39afdb769"
  },
  {
   "metadata": {},
   "cell_type": "code",
   "source": "df.head()",
   "id": "588fb23dc04096d9",
   "outputs": [],
   "execution_count": null
  },
  {
   "metadata": {},
   "cell_type": "code",
   "source": "df.shape",
   "id": "1e64af984e1301f7",
   "outputs": [],
   "execution_count": null
  },
  {
   "metadata": {},
   "cell_type": "markdown",
   "source": "## Join data from the current stage with the optimized dataset",
   "id": "3922486908619458"
  },
  {
   "metadata": {},
   "cell_type": "code",
   "source": "df_main = df2",
   "id": "565da0f4b7cfa3a6",
   "outputs": [],
   "execution_count": null
  },
  {
   "metadata": {},
   "cell_type": "code",
   "source": "df_main.head()",
   "id": "58468158d5fb5e71",
   "outputs": [],
   "execution_count": null
  },
  {
   "metadata": {},
   "cell_type": "code",
   "outputs": [],
   "execution_count": null,
   "source": [
    "import pandas as pd\n",
    "\n",
    "df2 = current_stage_cfg.merge_stage_into_main(df_main, df)\n",
    "df2.head()"
   ],
   "id": "ef0838bd75872967"
  },
  {
   "metadata": {},
   "cell_type": "code",
   "outputs": [],
   "execution_count": null,
   "source": "df2.shape",
   "id": "1007df3dcdee081a"
  },
  {
   "metadata": {},
   "cell_type": "markdown",
   "source": "# Load S3 stage results",
   "id": "7c2bfd2a1220e711"
  },
  {
   "metadata": {},
   "cell_type": "code",
   "source": [
    "from processing_pipeline.data_optimization.stage_cfg import S3TacticExtraction\n",
    "\n",
    "current_stage_cfg = S3TacticExtraction"
   ],
   "id": "a61050f5db9cb50",
   "outputs": [],
   "execution_count": null
  },
  {
   "metadata": {},
   "cell_type": "code",
   "outputs": [],
   "execution_count": null,
   "source": [
    "in_dir = current_stage_cfg.in_dir\n",
    "df = load_all_files(in_dir)"
   ],
   "id": "2a908441f48d1bd2"
  },
  {
   "metadata": {},
   "cell_type": "code",
   "outputs": [],
   "execution_count": null,
   "source": "df = df.drop(columns=[current_stage_cfg.get_column_name(\"prompt\")])\n",
   "id": "cb062f9f285fba51"
  },
  {
   "metadata": {},
   "cell_type": "code",
   "source": "df.head()",
   "id": "fe2f589d7bec12bc",
   "outputs": [],
   "execution_count": null
  },
  {
   "metadata": {},
   "cell_type": "code",
   "source": "df.shape",
   "id": "e4564f129d9820a9",
   "outputs": [],
   "execution_count": null
  },
  {
   "metadata": {},
   "cell_type": "code",
   "source": "# df2[df2.s2_related_to_arch == True].drop_duplicates(\"s2_related_to_arch\")",
   "id": "779cc344cc120f09",
   "outputs": [],
   "execution_count": null
  },
  {
   "metadata": {},
   "cell_type": "code",
   "source": [
    "# new_records_df = pd.DataFrame([\n",
    "#     {\"sentence\": \"We cannot build a PileupImage for dv_call, issue a warning.\", \"s3_tactic\": \"Brokering\", \"s3_response\": \"Heterozygous Indel and Heterozygous SNP\"},\n",
    "# ])\n",
    "# df = pd.concat([df, new_records_df])"
   ],
   "id": "353ded1e4115b7cb",
   "outputs": [],
   "execution_count": null
  },
  {
   "metadata": {},
   "cell_type": "code",
   "source": "df.shape",
   "id": "c7809a4f11d7145",
   "outputs": [],
   "execution_count": null
  },
  {
   "metadata": {},
   "cell_type": "markdown",
   "source": "## Join data from the current stage with the optimized dataset",
   "id": "234a703cdab906b7"
  },
  {
   "metadata": {},
   "cell_type": "code",
   "source": "df_main = df2",
   "id": "a9347f1ba4ea4e8b",
   "outputs": [],
   "execution_count": null
  },
  {
   "metadata": {},
   "cell_type": "code",
   "source": "df_main.head()",
   "id": "c110f2f1bf1a3205",
   "outputs": [],
   "execution_count": null
  },
  {
   "metadata": {},
   "cell_type": "code",
   "outputs": [],
   "execution_count": null,
   "source": [
    "import pandas as pd\n",
    "\n",
    "df2 = current_stage_cfg.merge_stage_into_main(df_main, df)\n",
    "df2.head()"
   ],
   "id": "e157c69b74a29f55"
  },
  {
   "metadata": {},
   "cell_type": "code",
   "outputs": [],
   "execution_count": null,
   "source": "df2.shape",
   "id": "19760015f9573759"
  },
  {
   "metadata": {},
   "cell_type": "markdown",
   "source": [
    "# Fix inconsistencies\n",
    "Data for the s3 stage was not filtered properly, i.e. only filter for the previous stage was used instead of all the preceding stages."
   ],
   "id": "ff73b7744af52b3b"
  },
  {
   "metadata": {},
   "cell_type": "code",
   "source": "df2.columns",
   "id": "e034194884f9c80a",
   "outputs": [],
   "execution_count": null
  },
  {
   "metadata": {},
   "cell_type": "code",
   "source": [
    "df2.loc[df2.s1_true_positive != True, ['s2_related_to_arch',\n",
    "       's2_reasoning', 's3_tactic', 's3_response']] = None"
   ],
   "id": "4dd8a4854a44fdeb",
   "outputs": [],
   "execution_count": null
  },
  {
   "metadata": {},
   "cell_type": "code",
   "source": "df2.loc[df2.s2_related_to_arch != True, ['s3_tactic', 's3_response']] = None",
   "id": "3b9a231bb8dcc6df",
   "outputs": [],
   "execution_count": null
  },
  {
   "metadata": {},
   "cell_type": "markdown",
   "source": "# Export merged dataset",
   "id": "9de09371b614bc73"
  },
  {
   "metadata": {},
   "cell_type": "markdown",
   "source": "## Handle NaNs\n",
   "id": "3be647bd9d002f92"
  },
  {
   "metadata": {},
   "cell_type": "code",
   "source": "# df2",
   "id": "2e80b8fabb30d3d5",
   "outputs": [],
   "execution_count": null
  },
  {
   "metadata": {},
   "cell_type": "markdown",
   "source": "## Save merged data",
   "id": "497b78ea3b149c4a"
  },
  {
   "metadata": {},
   "cell_type": "code",
   "source": [
    "out_dir = AbsDirPath.MERGED\n",
    "split_dataset_by_repo_and_source(out_dir, df2, clean_before_saving=True)\n"
   ],
   "id": "72d390306500c609",
   "outputs": [],
   "execution_count": null
  },
  {
   "metadata": {},
   "cell_type": "code",
   "source": [
    "from utilities.split_parquet import split_files_exceeding_max_limit\n",
    "\n",
    "split_files_exceeding_max_limit(out_dir)"
   ],
   "id": "8bb5bbcd35cd6799",
   "outputs": [],
   "execution_count": null
  },
  {
   "metadata": {},
   "cell_type": "code",
   "source": "",
   "id": "6c84fe64fdd1e934",
   "outputs": [],
   "execution_count": null
  },
  {
   "metadata": {},
   "cell_type": "code",
   "source": "\n",
   "id": "8b4dc84560b2daa4",
   "outputs": [],
   "execution_count": null
  }
 ],
 "metadata": {
  "kernelspec": {
   "display_name": "Python 3",
   "language": "python",
   "name": "python3"
  },
  "language_info": {
   "codemirror_mode": {
    "name": "ipython",
    "version": 2
   },
   "file_extension": ".py",
   "mimetype": "text/x-python",
   "name": "python",
   "nbconvert_exporter": "python",
   "pygments_lexer": "ipython2",
   "version": "2.7.6"
  }
 },
 "nbformat": 4,
 "nbformat_minor": 5
}

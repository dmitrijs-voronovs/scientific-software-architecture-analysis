{
 "cells": [
  {
   "metadata": {
    "collapsed": true
   },
   "cell_type": "code",
   "source": [
    "import pandas as pd\n",
    "\n",
    "from constants.abs_paths import AbsDirPath\n",
    "\n",
    "\n",
    "df = pd.read_csv(AbsDirPath.ROOT / \"processing_pipeline\" / \"analysis\" / \"param_tuning.csv\")"
   ],
   "id": "initial_id",
   "outputs": [],
   "execution_count": null
  },
  {
   "metadata": {},
   "cell_type": "markdown",
   "source": "## Processing metrics per items",
   "id": "7a32b540e81eda41"
  },
  {
   "metadata": {},
   "cell_type": "code",
   "source": [
    "from processing_pipeline.utilities.data_transformation import load_all_files\n",
    "\n",
    "df_items = load_all_files(AbsDirPath.PARAMETER_TUNING_DIR)\n",
    "df_items.shape"
   ],
   "id": "f22fe3b6426a5bc9",
   "outputs": [],
   "execution_count": null
  },
  {
   "metadata": {},
   "cell_type": "code",
   "source": "df_items.head()",
   "id": "22b14553988e779e",
   "outputs": [],
   "execution_count": null
  },
  {
   "metadata": {},
   "cell_type": "code",
   "source": [
    "n_items = df_items.shape[0]\n",
    "df[\"time_per_item\"] = df.time / n_items\n",
    "df.head()"
   ],
   "id": "8977c2a52b72893d",
   "outputs": [],
   "execution_count": null
  },
  {
   "metadata": {},
   "cell_type": "code",
   "source": [
    "min_value = df.time_per_item.min()\n",
    "df[\"time_per_item_delta\"] = df.time_per_item - min_value\n",
    "df[\"time_per_item_delta\"] = df.time_per_item_delta.astype(\"float\").round(5)\n",
    "df[\"time_per_item_delta\"] = df.time_per_item_delta.astype(\"str\").apply(lambda x: x if x == \"0\" else \"+\" + x)\n",
    "df.head()"
   ],
   "id": "d39e002ff1e2366f",
   "outputs": [],
   "execution_count": null
  },
  {
   "metadata": {},
   "cell_type": "code",
   "source": [
    "items_filter_rate_per_stage = .75\n",
    "est_nitems_s0 = 524909\n",
    "est_nitems_s1 = 1241367 * items_filter_rate_per_stage\n",
    "est_nitems_s2 = 524909 * (items_filter_rate_per_stage ** 2)\n",
    "est_nitems_s3 = 524909 * (items_filter_rate_per_stage ** 3)\n",
    "\n",
    "est_nitems_s0, est_nitems_s1, est_nitems_s2, est_nitems_s3"
   ],
   "id": "c09c7fa43ff3cae4",
   "outputs": [],
   "execution_count": null
  },
  {
   "metadata": {},
   "cell_type": "code",
   "source": [
    "seconds_per_day = 24 * 60 * 60\n",
    "df[\"est_time_s0_days\"] = est_nitems_s0 * df.time_per_item / seconds_per_day\n",
    "df[\"est_time_s1_days\"] = est_nitems_s1 * df.time_per_item / seconds_per_day\n",
    "df[\"est_time_s2_days\"] = est_nitems_s2 * df.time_per_item / seconds_per_day\n",
    "df[\"est_time_s3_days\"] = est_nitems_s3 * df.time_per_item / seconds_per_day\n",
    "\n",
    "df[\"est_time_s0_days\"] = df.est_time_s0_days.astype(\"float\").round(2)\n",
    "df[\"est_time_s1_days\"] = df.est_time_s1_days.astype(\"float\").round(2)\n",
    "df[\"est_time_s2_days\"] = df.est_time_s2_days.astype(\"float\").round(2)\n",
    "df[\"est_time_s3_days\"] = df.est_time_s3_days.astype(\"float\").round(2)\n",
    "\n",
    "df[\"est_time_total_days\"] = df[[\"est_time_s0_days\", \"est_time_s1_days\", \"est_time_s2_days\", \"est_time_s3_days\"]].sum(axis=1)\n",
    "two_server_boost = .75\n",
    "df[\"est_time_total_2machines_days\"] = df.est_time_total_days * two_server_boost"
   ],
   "id": "bee07c5a9de5d83d",
   "outputs": [],
   "execution_count": null
  },
  {
   "metadata": {},
   "cell_type": "markdown",
   "source": "## Analyze results",
   "id": "bbe91f73140b244d"
  },
  {
   "metadata": {},
   "cell_type": "code",
   "source": "df.head()",
   "id": "3ab3f8392767d75b",
   "outputs": [],
   "execution_count": null
  },
  {
   "metadata": {},
   "cell_type": "code",
   "source": "df.sort_values(\"time\")",
   "id": "6d1c9f7c35a75877",
   "outputs": [],
   "execution_count": null
  },
  {
   "metadata": {},
   "cell_type": "code",
   "source": "df.pivot_table(index=[\"model_name\"], columns=[\"n_threads\" , \"n_batches\"], values=\"time\", aggfunc=\"mean\")",
   "id": "a31f8574f6fd6db4",
   "outputs": [],
   "execution_count": null
  },
  {
   "metadata": {},
   "cell_type": "code",
   "source": "df.pivot_table(index=[\"model_name\"], columns=[\"n_batches\"], values=\"time\", aggfunc=\"mean\")",
   "id": "99bd1238b8ceec0b",
   "outputs": [],
   "execution_count": null
  },
  {
   "metadata": {},
   "cell_type": "code",
   "source": "df.pivot_table(index=[\"model_name\"], columns=[\"n_threads\"], values=\"time\", aggfunc=\"mean\")",
   "id": "ed303137623bef28",
   "outputs": [],
   "execution_count": null
  },
  {
   "metadata": {},
   "cell_type": "code",
   "source": "df.groupby([\"model_name\", \"n_threads\", \"n_batches\"]).time.agg(\"mean\")",
   "id": "7a63d6e107c1d32",
   "outputs": [],
   "execution_count": null
  },
  {
   "metadata": {},
   "cell_type": "code",
   "source": "df.loc[df.groupby([\"model_name\", \"n_threads\"]).time.idxmin()].groupby([\"model_name\", \"n_threads\", \"n_batches\"]).time.agg(\"mean\")",
   "id": "eab9257bf496f450",
   "outputs": [],
   "execution_count": null
  },
  {
   "metadata": {},
   "cell_type": "code",
   "source": "df.loc[df.groupby([\"model_name\"]).time.idxmin()]",
   "id": "288ad215bf0a677e",
   "outputs": [],
   "execution_count": null
  },
  {
   "metadata": {},
   "cell_type": "code",
   "source": "",
   "id": "b0c82c628efca7c6",
   "outputs": [],
   "execution_count": null
  }
 ],
 "metadata": {
  "kernelspec": {
   "display_name": "Python 3",
   "language": "python",
   "name": "python3"
  },
  "language_info": {
   "codemirror_mode": {
    "name": "ipython",
    "version": 2
   },
   "file_extension": ".py",
   "mimetype": "text/x-python",
   "name": "python",
   "nbconvert_exporter": "python",
   "pygments_lexer": "ipython2",
   "version": "2.7.6"
  }
 },
 "nbformat": 4,
 "nbformat_minor": 5
}

{
 "cells": [
  {
   "cell_type": "code",
   "id": "8d6593feb9904ca0",
   "metadata": {
    "ExecuteTime": {
     "end_time": "2025-07-25T08:07:08.201159Z",
     "start_time": "2025-07-25T08:07:08.181888Z"
    }
   },
   "source": [
    "from constants.abs_paths import AbsDirPath\n",
    "from processing_pipeline.model.CSVDFHandler import CSVDFHandler\n",
    "from processing_pipeline.utilities.data_transformation import load_all_files"
   ],
   "outputs": [],
   "execution_count": 26
  },
  {
   "metadata": {},
   "cell_type": "markdown",
   "source": "# S0",
   "id": "e1fbe1b668ca0b89"
  },
  {
   "metadata": {
    "collapsed": true,
    "ExecuteTime": {
     "end_time": "2025-07-25T08:07:08.343955Z",
     "start_time": "2025-07-25T08:07:08.238929Z"
    }
   },
   "cell_type": "code",
   "source": "df = CSVDFHandler().read_df(AbsDirPath.SAMPLES_VERIFIED / \"s0.csv\")",
   "id": "initial_id",
   "outputs": [],
   "execution_count": 27
  },
  {
   "metadata": {
    "ExecuteTime": {
     "end_time": "2025-07-25T08:07:08.366561Z",
     "start_time": "2025-07-25T08:07:08.352198Z"
    }
   },
   "cell_type": "code",
   "source": "df.head()",
   "id": "72d5488d751c4f38",
   "outputs": [
    {
     "data": {
      "text/plain": [
       "   Unnamed: 0                                           sentence  \\\n",
       "0         414  cept on OS X. // http://www-personal.umich.edu...   \n",
       "1         832  e entries,. constant pool indices, global vari...   \n",
       "2        1310  distribution. function (lower tail integral of...   \n",
       "3        4531  Filter __arm_cdp, __arm_ldcl, __arm_stcl in ar...   \n",
       "4        2219  Update scheduler queues after scheduling an in...   \n",
       "\n",
       "                                           s0_prompt  s0_to_eliminate  \\\n",
       "0  \\nYou are an expert in analyzing and categoriz...             True   \n",
       "1  \\nYou are an expert in analyzing and categoriz...             True   \n",
       "2  \\nYou are an expert in analyzing and categoriz...             True   \n",
       "3  \\nYou are an expert in analyzing and categoriz...             True   \n",
       "4  \\nYou are an expert in analyzing and categoriz...             True   \n",
       "\n",
       "                                        s0_reasoning  \\\n",
       "0  This content appears to be code snippets and c...   \n",
       "1  The following is a single-player, I have two q...   \n",
       "2  The content appears to be documentation or com...   \n",
       "3  This appears to be a command-line instruction ...   \n",
       "4  This appears to be a brief description or comm...   \n",
       "\n",
       "                                         s0_v_prompt   s0_v_correctness  \\\n",
       "0  \\nYou are a meticulous and expert evaluator of...          incorrect   \n",
       "1  \\nYou are a meticulous and expert evaluator of...          incorrect   \n",
       "2  \\nYou are a meticulous and expert evaluator of...  partially correct   \n",
       "3  \\nYou are a meticulous and expert evaluator of...  partially correct   \n",
       "4  \\nYou are a meticulous and expert evaluator of...  partially correct   \n",
       "\n",
       "                                      s0_v_reasoning  \n",
       "0  The AI's decision to eliminate is incorrect be...  \n",
       "1  The AI's output is not evaluating the given ta...  \n",
       "2  The AI's decision to eliminate is incorrect be...  \n",
       "3  The decision to eliminate is correct because t...  \n",
       "4  The decision to eliminate is correct because t...  "
      ],
      "text/html": [
       "<div>\n",
       "<style scoped>\n",
       "    .dataframe tbody tr th:only-of-type {\n",
       "        vertical-align: middle;\n",
       "    }\n",
       "\n",
       "    .dataframe tbody tr th {\n",
       "        vertical-align: top;\n",
       "    }\n",
       "\n",
       "    .dataframe thead th {\n",
       "        text-align: right;\n",
       "    }\n",
       "</style>\n",
       "<table border=\"1\" class=\"dataframe\">\n",
       "  <thead>\n",
       "    <tr style=\"text-align: right;\">\n",
       "      <th></th>\n",
       "      <th>Unnamed: 0</th>\n",
       "      <th>sentence</th>\n",
       "      <th>s0_prompt</th>\n",
       "      <th>s0_to_eliminate</th>\n",
       "      <th>s0_reasoning</th>\n",
       "      <th>s0_v_prompt</th>\n",
       "      <th>s0_v_correctness</th>\n",
       "      <th>s0_v_reasoning</th>\n",
       "    </tr>\n",
       "  </thead>\n",
       "  <tbody>\n",
       "    <tr>\n",
       "      <th>0</th>\n",
       "      <td>414</td>\n",
       "      <td>cept on OS X. // http://www-personal.umich.edu...</td>\n",
       "      <td>\\nYou are an expert in analyzing and categoriz...</td>\n",
       "      <td>True</td>\n",
       "      <td>This content appears to be code snippets and c...</td>\n",
       "      <td>\\nYou are a meticulous and expert evaluator of...</td>\n",
       "      <td>incorrect</td>\n",
       "      <td>The AI's decision to eliminate is incorrect be...</td>\n",
       "    </tr>\n",
       "    <tr>\n",
       "      <th>1</th>\n",
       "      <td>832</td>\n",
       "      <td>e entries,. constant pool indices, global vari...</td>\n",
       "      <td>\\nYou are an expert in analyzing and categoriz...</td>\n",
       "      <td>True</td>\n",
       "      <td>The following is a single-player, I have two q...</td>\n",
       "      <td>\\nYou are a meticulous and expert evaluator of...</td>\n",
       "      <td>incorrect</td>\n",
       "      <td>The AI's output is not evaluating the given ta...</td>\n",
       "    </tr>\n",
       "    <tr>\n",
       "      <th>2</th>\n",
       "      <td>1310</td>\n",
       "      <td>distribution. function (lower tail integral of...</td>\n",
       "      <td>\\nYou are an expert in analyzing and categoriz...</td>\n",
       "      <td>True</td>\n",
       "      <td>The content appears to be documentation or com...</td>\n",
       "      <td>\\nYou are a meticulous and expert evaluator of...</td>\n",
       "      <td>partially correct</td>\n",
       "      <td>The AI's decision to eliminate is incorrect be...</td>\n",
       "    </tr>\n",
       "    <tr>\n",
       "      <th>3</th>\n",
       "      <td>4531</td>\n",
       "      <td>Filter __arm_cdp, __arm_ldcl, __arm_stcl in ar...</td>\n",
       "      <td>\\nYou are an expert in analyzing and categoriz...</td>\n",
       "      <td>True</td>\n",
       "      <td>This appears to be a command-line instruction ...</td>\n",
       "      <td>\\nYou are a meticulous and expert evaluator of...</td>\n",
       "      <td>partially correct</td>\n",
       "      <td>The decision to eliminate is correct because t...</td>\n",
       "    </tr>\n",
       "    <tr>\n",
       "      <th>4</th>\n",
       "      <td>2219</td>\n",
       "      <td>Update scheduler queues after scheduling an in...</td>\n",
       "      <td>\\nYou are an expert in analyzing and categoriz...</td>\n",
       "      <td>True</td>\n",
       "      <td>This appears to be a brief description or comm...</td>\n",
       "      <td>\\nYou are a meticulous and expert evaluator of...</td>\n",
       "      <td>partially correct</td>\n",
       "      <td>The decision to eliminate is correct because t...</td>\n",
       "    </tr>\n",
       "  </tbody>\n",
       "</table>\n",
       "</div>"
      ]
     },
     "execution_count": 28,
     "metadata": {},
     "output_type": "execute_result"
    }
   ],
   "execution_count": 28
  },
  {
   "metadata": {
    "ExecuteTime": {
     "end_time": "2025-07-25T08:07:08.420265Z",
     "start_time": "2025-07-25T08:07:08.414235Z"
    }
   },
   "cell_type": "code",
   "source": "df.shape",
   "id": "1098eedf44f78738",
   "outputs": [
    {
     "data": {
      "text/plain": [
       "(384, 8)"
      ]
     },
     "execution_count": 29,
     "metadata": {},
     "output_type": "execute_result"
    }
   ],
   "execution_count": 29
  },
  {
   "metadata": {
    "ExecuteTime": {
     "end_time": "2025-07-25T08:07:08.492218Z",
     "start_time": "2025-07-25T08:07:08.471216Z"
    }
   },
   "cell_type": "code",
   "source": "df.groupby(\"s0_v_correctness\").size().rename(\"count\")",
   "id": "f9e7f2b912fbae57",
   "outputs": [
    {
     "data": {
      "text/plain": [
       "s0_v_correctness\n",
       "correct               10\n",
       "incorrect            137\n",
       "partially correct    237\n",
       "Name: count, dtype: int64"
      ]
     },
     "execution_count": 30,
     "metadata": {},
     "output_type": "execute_result"
    }
   ],
   "execution_count": 30
  },
  {
   "metadata": {
    "ExecuteTime": {
     "end_time": "2025-07-25T08:07:08.571277Z",
     "start_time": "2025-07-25T08:07:08.562682Z"
    }
   },
   "cell_type": "code",
   "source": "df.groupby(\"s0_v_correctness\").size().rename(\"percentage\") / df.shape[0] * 100",
   "id": "ff6c400856b00aa",
   "outputs": [
    {
     "data": {
      "text/plain": [
       "s0_v_correctness\n",
       "correct               2.604167\n",
       "incorrect            35.677083\n",
       "partially correct    61.718750\n",
       "Name: percentage, dtype: float64"
      ]
     },
     "execution_count": 31,
     "metadata": {},
     "output_type": "execute_result"
    }
   ],
   "execution_count": 31
  },
  {
   "metadata": {},
   "cell_type": "markdown",
   "source": "# S1",
   "id": "4f0ce7b2864e8259"
  },
  {
   "metadata": {
    "collapsed": true,
    "ExecuteTime": {
     "end_time": "2025-07-25T08:44:49.767661Z",
     "start_time": "2025-07-25T08:44:49.660136Z"
    }
   },
   "cell_type": "code",
   "source": "df = CSVDFHandler().read_df(AbsDirPath.SAMPLES_VERIFIED / \"s1.csv\")",
   "id": "14de1981e612fade",
   "outputs": [],
   "execution_count": 37
  },
  {
   "metadata": {
    "ExecuteTime": {
     "end_time": "2025-07-25T08:44:49.802513Z",
     "start_time": "2025-07-25T08:44:49.782179Z"
    }
   },
   "cell_type": "code",
   "source": "df.head()",
   "id": "69502393758b69ea",
   "outputs": [
    {
     "data": {
      "text/plain": [
       "   Unnamed: 0                 qa  \\\n",
       "0        9028           security   \n",
       "1        1499  energy efficiency   \n",
       "2         685       availability   \n",
       "3        3247  energy efficiency   \n",
       "4        1508           security   \n",
       "\n",
       "                                            sentence  \\\n",
       "0  In the context of a define, even keywords shou...   \n",
       "1  tions are randomly selected to be either left-...   \n",
       "2  tion,. $\\mbox{FCN}$. The width of the function...   \n",
       "3  @guitargeek Potential good news. I am currentl...   \n",
       "4  >> as TTree I/O does not provide bulks,. >. > ...   \n",
       "\n",
       "                                           s1_prompt  s1_true_positive  \\\n",
       "0  \\nYou are a meticulous software engineering ex...              True   \n",
       "1  \\nYou are a meticulous software engineering ex...              True   \n",
       "2  \\nYou are a meticulous software engineering ex...              True   \n",
       "3  \\nYou are a meticulous software engineering ex...             False   \n",
       "4  \\nYou are a meticulous software engineering ex...             False   \n",
       "\n",
       "                                        s1_reasoning  \\\n",
       "0  The content describes how setting the identifi...   \n",
       "1  The content describes how GWP-ASan is configur...   \n",
       "2  The content describes how to calculate paramet...   \n",
       "3  The content appears to be an email message req...   \n",
       "4  The content does not describe a security threa...   \n",
       "\n",
       "                                         s1_v_prompt   s1_v_correctness  \\\n",
       "0  \\nYou are a meticulous and expert evaluator of...          incorrect   \n",
       "1  \\nYou are a meticulous and expert evaluator of...  partially correct   \n",
       "2  \\nYou are a meticulous and expert evaluator of...          incorrect   \n",
       "3  \\nYou are a meticulous and expert evaluator of...  partially correct   \n",
       "4  \\nYou are a meticulous and expert evaluator of...  partially correct   \n",
       "\n",
       "                                      s1_v_reasoning  \n",
       "0  The first AI's decision was incorrect because ...  \n",
       "1  The first AI's decision to classify as true_po...  \n",
       "2  The first AI's output classified the provided ...  \n",
       "3  The AI's decision to classify as false positiv...  \n",
       "4  The AI's decision is incorrect because it fail...  "
      ],
      "text/html": [
       "<div>\n",
       "<style scoped>\n",
       "    .dataframe tbody tr th:only-of-type {\n",
       "        vertical-align: middle;\n",
       "    }\n",
       "\n",
       "    .dataframe tbody tr th {\n",
       "        vertical-align: top;\n",
       "    }\n",
       "\n",
       "    .dataframe thead th {\n",
       "        text-align: right;\n",
       "    }\n",
       "</style>\n",
       "<table border=\"1\" class=\"dataframe\">\n",
       "  <thead>\n",
       "    <tr style=\"text-align: right;\">\n",
       "      <th></th>\n",
       "      <th>Unnamed: 0</th>\n",
       "      <th>qa</th>\n",
       "      <th>sentence</th>\n",
       "      <th>s1_prompt</th>\n",
       "      <th>s1_true_positive</th>\n",
       "      <th>s1_reasoning</th>\n",
       "      <th>s1_v_prompt</th>\n",
       "      <th>s1_v_correctness</th>\n",
       "      <th>s1_v_reasoning</th>\n",
       "    </tr>\n",
       "  </thead>\n",
       "  <tbody>\n",
       "    <tr>\n",
       "      <th>0</th>\n",
       "      <td>9028</td>\n",
       "      <td>security</td>\n",
       "      <td>In the context of a define, even keywords shou...</td>\n",
       "      <td>\\nYou are a meticulous software engineering ex...</td>\n",
       "      <td>True</td>\n",
       "      <td>The content describes how setting the identifi...</td>\n",
       "      <td>\\nYou are a meticulous and expert evaluator of...</td>\n",
       "      <td>incorrect</td>\n",
       "      <td>The first AI's decision was incorrect because ...</td>\n",
       "    </tr>\n",
       "    <tr>\n",
       "      <th>1</th>\n",
       "      <td>1499</td>\n",
       "      <td>energy efficiency</td>\n",
       "      <td>tions are randomly selected to be either left-...</td>\n",
       "      <td>\\nYou are a meticulous software engineering ex...</td>\n",
       "      <td>True</td>\n",
       "      <td>The content describes how GWP-ASan is configur...</td>\n",
       "      <td>\\nYou are a meticulous and expert evaluator of...</td>\n",
       "      <td>partially correct</td>\n",
       "      <td>The first AI's decision to classify as true_po...</td>\n",
       "    </tr>\n",
       "    <tr>\n",
       "      <th>2</th>\n",
       "      <td>685</td>\n",
       "      <td>availability</td>\n",
       "      <td>tion,. $\\mbox{FCN}$. The width of the function...</td>\n",
       "      <td>\\nYou are a meticulous software engineering ex...</td>\n",
       "      <td>True</td>\n",
       "      <td>The content describes how to calculate paramet...</td>\n",
       "      <td>\\nYou are a meticulous and expert evaluator of...</td>\n",
       "      <td>incorrect</td>\n",
       "      <td>The first AI's output classified the provided ...</td>\n",
       "    </tr>\n",
       "    <tr>\n",
       "      <th>3</th>\n",
       "      <td>3247</td>\n",
       "      <td>energy efficiency</td>\n",
       "      <td>@guitargeek Potential good news. I am currentl...</td>\n",
       "      <td>\\nYou are a meticulous software engineering ex...</td>\n",
       "      <td>False</td>\n",
       "      <td>The content appears to be an email message req...</td>\n",
       "      <td>\\nYou are a meticulous and expert evaluator of...</td>\n",
       "      <td>partially correct</td>\n",
       "      <td>The AI's decision to classify as false positiv...</td>\n",
       "    </tr>\n",
       "    <tr>\n",
       "      <th>4</th>\n",
       "      <td>1508</td>\n",
       "      <td>security</td>\n",
       "      <td>&gt;&gt; as TTree I/O does not provide bulks,. &gt;. &gt; ...</td>\n",
       "      <td>\\nYou are a meticulous software engineering ex...</td>\n",
       "      <td>False</td>\n",
       "      <td>The content does not describe a security threa...</td>\n",
       "      <td>\\nYou are a meticulous and expert evaluator of...</td>\n",
       "      <td>partially correct</td>\n",
       "      <td>The AI's decision is incorrect because it fail...</td>\n",
       "    </tr>\n",
       "  </tbody>\n",
       "</table>\n",
       "</div>"
      ]
     },
     "execution_count": 38,
     "metadata": {},
     "output_type": "execute_result"
    }
   ],
   "execution_count": 38
  },
  {
   "metadata": {
    "ExecuteTime": {
     "end_time": "2025-07-25T08:44:49.908575Z",
     "start_time": "2025-07-25T08:44:49.900736Z"
    }
   },
   "cell_type": "code",
   "source": "df.shape",
   "id": "45ecb0c3a443f3c8",
   "outputs": [
    {
     "data": {
      "text/plain": [
       "(384, 9)"
      ]
     },
     "execution_count": 39,
     "metadata": {},
     "output_type": "execute_result"
    }
   ],
   "execution_count": 39
  },
  {
   "metadata": {
    "ExecuteTime": {
     "end_time": "2025-07-25T08:44:50.011451Z",
     "start_time": "2025-07-25T08:44:50.000149Z"
    }
   },
   "cell_type": "code",
   "source": "df.groupby(\"s1_v_correctness\").size().rename(\"count\")",
   "id": "29f4ab7f7a30705",
   "outputs": [
    {
     "data": {
      "text/plain": [
       "s1_v_correctness\n",
       "incorrect            143\n",
       "partially correct    241\n",
       "Name: count, dtype: int64"
      ]
     },
     "execution_count": 40,
     "metadata": {},
     "output_type": "execute_result"
    }
   ],
   "execution_count": 40
  },
  {
   "metadata": {
    "ExecuteTime": {
     "end_time": "2025-07-25T08:44:50.123858Z",
     "start_time": "2025-07-25T08:44:50.113848Z"
    }
   },
   "cell_type": "code",
   "source": "df.groupby(\"s1_v_correctness\").size().rename(\"percentage\") / df.shape[0] * 100",
   "id": "5007ff4d3988ff51",
   "outputs": [
    {
     "data": {
      "text/plain": [
       "s1_v_correctness\n",
       "incorrect            37.239583\n",
       "partially correct    62.760417\n",
       "Name: percentage, dtype: float64"
      ]
     },
     "execution_count": 41,
     "metadata": {},
     "output_type": "execute_result"
    }
   ],
   "execution_count": 41
  },
  {
   "metadata": {
    "ExecuteTime": {
     "end_time": "2025-07-25T08:44:50.331147Z",
     "start_time": "2025-07-25T08:44:50.324054Z"
    }
   },
   "cell_type": "code",
   "source": "",
   "id": "b6c7a402b53cb889",
   "outputs": [],
   "execution_count": null
  },
  {
   "metadata": {
    "ExecuteTime": {
     "end_time": "2025-07-25T08:44:50.449205Z",
     "start_time": "2025-07-25T08:44:50.443718Z"
    }
   },
   "cell_type": "code",
   "source": "",
   "id": "3708a06a41cfbe6a",
   "outputs": [],
   "execution_count": null
  }
 ],
 "metadata": {
  "kernelspec": {
   "display_name": "Python 3",
   "language": "python",
   "name": "python3"
  },
  "language_info": {
   "codemirror_mode": {
    "name": "ipython",
    "version": 2
   },
   "file_extension": ".py",
   "mimetype": "text/x-python",
   "name": "python",
   "nbconvert_exporter": "python",
   "pygments_lexer": "ipython2",
   "version": "2.7.6"
  }
 },
 "nbformat": 4,
 "nbformat_minor": 5
}

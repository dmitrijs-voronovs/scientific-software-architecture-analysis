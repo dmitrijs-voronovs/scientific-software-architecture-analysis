{
 "cells": [
  {
   "cell_type": "code",
   "id": "8d6593feb9904ca0",
   "metadata": {
    "ExecuteTime": {
     "end_time": "2025-08-12T07:53:18.512909Z",
     "start_time": "2025-08-12T07:53:18.506920Z"
    }
   },
   "source": [
    "from pathlib import Path\n",
    "\n",
    "from constants.abs_paths import AbsDirPath\n",
    "from processing_pipeline.model.CSVDFHandler import CSVDFHandler\n",
    "from processing_pipeline.utilities.data_transformation import load_all_files, load_all_csv_files"
   ],
   "outputs": [],
   "execution_count": 2
  },
  {
   "metadata": {},
   "cell_type": "markdown",
   "source": "# S0",
   "id": "e1fbe1b668ca0b89"
  },
  {
   "metadata": {
    "collapsed": true,
    "ExecuteTime": {
     "end_time": "2025-08-10T19:41:46.842676Z",
     "start_time": "2025-08-10T19:41:46.748004Z"
    }
   },
   "cell_type": "code",
   "source": [
    "df = CSVDFHandler().read_df(AbsDirPath.SAMPLES_VERIFIED / \"s0.csv\")\n",
    "# df = load_all_csv_files(AbsDirPath.SAMPLES_VERIFIED, name_contains=\"s0.part\")"
   ],
   "id": "initial_id",
   "outputs": [],
   "execution_count": 67
  },
  {
   "metadata": {
    "ExecuteTime": {
     "end_time": "2025-08-10T19:41:46.868428Z",
     "start_time": "2025-08-10T19:41:46.855334Z"
    }
   },
   "cell_type": "code",
   "source": "df.head()",
   "id": "72d5488d751c4f38",
   "outputs": [
    {
     "data": {
      "text/plain": [
       "   Unnamed: 0                                           sentence  \\\n",
       "0        2041  LoweringError: Failed in nopython mode pipelin...   \n",
       "1       12677  Compute the static offset of the ultimate dest...   \n",
       "2        2997  [WIP] Parallelise reading of sub-branches in T...   \n",
       "3       13110  Create a new node, and save it in the context ...   \n",
       "4        1397  e produces undefined behaviour because the sid...   \n",
       "\n",
       "                                           s0_prompt  s0_to_eliminate  \\\n",
       "0  \\nYou are an expert in analyzing and categoriz...             True   \n",
       "1  \\nYou are an expert in analyzing and categoriz...             True   \n",
       "2  \\nYou are an expert in analyzing and categoriz...            False   \n",
       "3  \\nYou are an expert in analyzing and categoriz...             True   \n",
       "4  \\nYou are an expert in analyzing and categoriz...            False   \n",
       "\n",
       "                                        s0_reasoning  \\\n",
       "0  This is an error message from a program. It co...   \n",
       "1  This appears to be a technical description rel...   \n",
       "2  This content is a commit message that explains...   \n",
       "3  This appears to be an instruction or comment a...   \n",
       "4  This content is primarily technical but contai...   \n",
       "\n",
       "                                         s0_v_prompt  \\\n",
       "0  Now, perform your your audit based on the data...   \n",
       "1  Now, perform your your audit based on the data...   \n",
       "2  Now, perform your your audit based on the data...   \n",
       "3  Now, perform your your audit based on the data...   \n",
       "4  Now, perform your your audit based on the data...   \n",
       "\n",
       "           s0_v_ground_truth_category s0_v_evaluation  \\\n",
       "0  Log File / Trace / Terminal Output         correct   \n",
       "1       Low-Level Implementation Note         correct   \n",
       "2           Interactive Communication         correct   \n",
       "3       Low-Level Implementation Note         correct   \n",
       "4      High-Level Instructional Guide         correct   \n",
       "\n",
       "                                      s0_v_reasoning  \n",
       "0  My verdict is correct because the ground truth...  \n",
       "1  My verdict is correct because the ground truth...  \n",
       "2  My verdict is correct because the ground truth...  \n",
       "3  My verdict is correct because the ground truth...  \n",
       "4  My verdict is correct because the ground truth...  "
      ],
      "text/html": [
       "<div>\n",
       "<style scoped>\n",
       "    .dataframe tbody tr th:only-of-type {\n",
       "        vertical-align: middle;\n",
       "    }\n",
       "\n",
       "    .dataframe tbody tr th {\n",
       "        vertical-align: top;\n",
       "    }\n",
       "\n",
       "    .dataframe thead th {\n",
       "        text-align: right;\n",
       "    }\n",
       "</style>\n",
       "<table border=\"1\" class=\"dataframe\">\n",
       "  <thead>\n",
       "    <tr style=\"text-align: right;\">\n",
       "      <th></th>\n",
       "      <th>Unnamed: 0</th>\n",
       "      <th>sentence</th>\n",
       "      <th>s0_prompt</th>\n",
       "      <th>s0_to_eliminate</th>\n",
       "      <th>s0_reasoning</th>\n",
       "      <th>s0_v_prompt</th>\n",
       "      <th>s0_v_ground_truth_category</th>\n",
       "      <th>s0_v_evaluation</th>\n",
       "      <th>s0_v_reasoning</th>\n",
       "    </tr>\n",
       "  </thead>\n",
       "  <tbody>\n",
       "    <tr>\n",
       "      <th>0</th>\n",
       "      <td>2041</td>\n",
       "      <td>LoweringError: Failed in nopython mode pipelin...</td>\n",
       "      <td>\\nYou are an expert in analyzing and categoriz...</td>\n",
       "      <td>True</td>\n",
       "      <td>This is an error message from a program. It co...</td>\n",
       "      <td>Now, perform your your audit based on the data...</td>\n",
       "      <td>Log File / Trace / Terminal Output</td>\n",
       "      <td>correct</td>\n",
       "      <td>My verdict is correct because the ground truth...</td>\n",
       "    </tr>\n",
       "    <tr>\n",
       "      <th>1</th>\n",
       "      <td>12677</td>\n",
       "      <td>Compute the static offset of the ultimate dest...</td>\n",
       "      <td>\\nYou are an expert in analyzing and categoriz...</td>\n",
       "      <td>True</td>\n",
       "      <td>This appears to be a technical description rel...</td>\n",
       "      <td>Now, perform your your audit based on the data...</td>\n",
       "      <td>Low-Level Implementation Note</td>\n",
       "      <td>correct</td>\n",
       "      <td>My verdict is correct because the ground truth...</td>\n",
       "    </tr>\n",
       "    <tr>\n",
       "      <th>2</th>\n",
       "      <td>2997</td>\n",
       "      <td>[WIP] Parallelise reading of sub-branches in T...</td>\n",
       "      <td>\\nYou are an expert in analyzing and categoriz...</td>\n",
       "      <td>False</td>\n",
       "      <td>This content is a commit message that explains...</td>\n",
       "      <td>Now, perform your your audit based on the data...</td>\n",
       "      <td>Interactive Communication</td>\n",
       "      <td>correct</td>\n",
       "      <td>My verdict is correct because the ground truth...</td>\n",
       "    </tr>\n",
       "    <tr>\n",
       "      <th>3</th>\n",
       "      <td>13110</td>\n",
       "      <td>Create a new node, and save it in the context ...</td>\n",
       "      <td>\\nYou are an expert in analyzing and categoriz...</td>\n",
       "      <td>True</td>\n",
       "      <td>This appears to be an instruction or comment a...</td>\n",
       "      <td>Now, perform your your audit based on the data...</td>\n",
       "      <td>Low-Level Implementation Note</td>\n",
       "      <td>correct</td>\n",
       "      <td>My verdict is correct because the ground truth...</td>\n",
       "    </tr>\n",
       "    <tr>\n",
       "      <th>4</th>\n",
       "      <td>1397</td>\n",
       "      <td>e produces undefined behaviour because the sid...</td>\n",
       "      <td>\\nYou are an expert in analyzing and categoriz...</td>\n",
       "      <td>False</td>\n",
       "      <td>This content is primarily technical but contai...</td>\n",
       "      <td>Now, perform your your audit based on the data...</td>\n",
       "      <td>High-Level Instructional Guide</td>\n",
       "      <td>correct</td>\n",
       "      <td>My verdict is correct because the ground truth...</td>\n",
       "    </tr>\n",
       "  </tbody>\n",
       "</table>\n",
       "</div>"
      ]
     },
     "execution_count": 68,
     "metadata": {},
     "output_type": "execute_result"
    }
   ],
   "execution_count": 68
  },
  {
   "metadata": {
    "ExecuteTime": {
     "end_time": "2025-08-10T19:41:46.945781Z",
     "start_time": "2025-08-10T19:41:46.937566Z"
    }
   },
   "cell_type": "code",
   "source": "df.shape",
   "id": "1098eedf44f78738",
   "outputs": [
    {
     "data": {
      "text/plain": [
       "(384, 9)"
      ]
     },
     "execution_count": 69,
     "metadata": {},
     "output_type": "execute_result"
    }
   ],
   "execution_count": 69
  },
  {
   "metadata": {
    "ExecuteTime": {
     "end_time": "2025-08-10T19:41:47.046984Z",
     "start_time": "2025-08-10T19:41:47.035615Z"
    }
   },
   "cell_type": "code",
   "source": "df.groupby(\"s0_v_evaluation\").size().rename(\"count\")",
   "id": "f9e7f2b912fbae57",
   "outputs": [
    {
     "data": {
      "text/plain": [
       "s0_v_evaluation\n",
       "correct      256\n",
       "incorrect    128\n",
       "Name: count, dtype: int64"
      ]
     },
     "execution_count": 70,
     "metadata": {},
     "output_type": "execute_result"
    }
   ],
   "execution_count": 70
  },
  {
   "metadata": {
    "ExecuteTime": {
     "end_time": "2025-08-10T19:41:47.193533Z",
     "start_time": "2025-08-10T19:41:47.180792Z"
    }
   },
   "cell_type": "code",
   "source": "df.groupby(\"s0_v_evaluation\").size().rename(\"percentage\") / df.shape[0] * 100",
   "id": "ff6c400856b00aa",
   "outputs": [
    {
     "data": {
      "text/plain": [
       "s0_v_evaluation\n",
       "correct      66.666667\n",
       "incorrect    33.333333\n",
       "Name: percentage, dtype: float64"
      ]
     },
     "execution_count": 71,
     "metadata": {},
     "output_type": "execute_result"
    }
   ],
   "execution_count": 71
  },
  {
   "metadata": {},
   "cell_type": "markdown",
   "source": "# S0_manual verification",
   "id": "2673027a31714775"
  },
  {
   "metadata": {
    "collapsed": true,
    "ExecuteTime": {
     "end_time": "2025-08-10T22:08:24.533830Z",
     "start_time": "2025-08-10T22:08:24.444595Z"
    }
   },
   "cell_type": "code",
   "source": [
    "df = CSVDFHandler().read_df(AbsDirPath.SAMPLES_VERIFIED / \"s0_manual_verif.csv\")\n",
    "# df = load_all_csv_files(AbsDirPath.SAMPLES_VERIFIED, name_contains=\"s0.part\")"
   ],
   "id": "a08f433a7eef857a",
   "outputs": [],
   "execution_count": 79
  },
  {
   "metadata": {
    "ExecuteTime": {
     "end_time": "2025-08-10T22:08:26.258304Z",
     "start_time": "2025-08-10T22:08:26.244383Z"
    }
   },
   "cell_type": "code",
   "source": "df.head()",
   "id": "82263a91f6fca84b",
   "outputs": [
    {
     "data": {
      "text/plain": [
       "   Unnamed: 0                                           sentence  \\\n",
       "0        2041  LoweringError: Failed in nopython mode pipelin...   \n",
       "1       12677  Compute the static offset of the ultimate dest...   \n",
       "2        2997  [WIP] Parallelise reading of sub-branches in T...   \n",
       "3       13110  Create a new node, and save it in the context ...   \n",
       "4        1397  e produces undefined behaviour because the sid...   \n",
       "\n",
       "                                           s0_prompt  s0_to_eliminate  \\\n",
       "0  \\nYou are an expert in analyzing and categoriz...             True   \n",
       "1  \\nYou are an expert in analyzing and categoriz...             True   \n",
       "2  \\nYou are an expert in analyzing and categoriz...            False   \n",
       "3  \\nYou are an expert in analyzing and categoriz...             True   \n",
       "4  \\nYou are an expert in analyzing and categoriz...            False   \n",
       "\n",
       "                                        s0_reasoning  dmitry_verify  \\\n",
       "0  This is an error message from a program. It co...              1   \n",
       "1  This appears to be a technical description rel...              1   \n",
       "2  This content is a commit message that explains...              1   \n",
       "3  This appears to be an instruction or comment a...              1   \n",
       "4  This content is primarily technical but contai...              1   \n",
       "\n",
       "                                         s0_v_prompt  \\\n",
       "0  Now, perform your your audit based on the data...   \n",
       "1  Now, perform your your audit based on the data...   \n",
       "2  Now, perform your your audit based on the data...   \n",
       "3  Now, perform your your audit based on the data...   \n",
       "4  Now, perform your your audit based on the data...   \n",
       "\n",
       "           s0_v_ground_truth_category s0_v_evaluation  \\\n",
       "0  Log File / Trace / Terminal Output         correct   \n",
       "1       Low-Level Implementation Note         correct   \n",
       "2           Interactive Communication         correct   \n",
       "3       Low-Level Implementation Note         correct   \n",
       "4      High-Level Instructional Guide         correct   \n",
       "\n",
       "                                      s0_v_reasoning  \n",
       "0  My verdict is correct because the ground truth...  \n",
       "1  My verdict is correct because the ground truth...  \n",
       "2  My verdict is correct because the ground truth...  \n",
       "3  My verdict is correct because the ground truth...  \n",
       "4  My verdict is correct because the ground truth...  "
      ],
      "text/html": [
       "<div>\n",
       "<style scoped>\n",
       "    .dataframe tbody tr th:only-of-type {\n",
       "        vertical-align: middle;\n",
       "    }\n",
       "\n",
       "    .dataframe tbody tr th {\n",
       "        vertical-align: top;\n",
       "    }\n",
       "\n",
       "    .dataframe thead th {\n",
       "        text-align: right;\n",
       "    }\n",
       "</style>\n",
       "<table border=\"1\" class=\"dataframe\">\n",
       "  <thead>\n",
       "    <tr style=\"text-align: right;\">\n",
       "      <th></th>\n",
       "      <th>Unnamed: 0</th>\n",
       "      <th>sentence</th>\n",
       "      <th>s0_prompt</th>\n",
       "      <th>s0_to_eliminate</th>\n",
       "      <th>s0_reasoning</th>\n",
       "      <th>dmitry_verify</th>\n",
       "      <th>s0_v_prompt</th>\n",
       "      <th>s0_v_ground_truth_category</th>\n",
       "      <th>s0_v_evaluation</th>\n",
       "      <th>s0_v_reasoning</th>\n",
       "    </tr>\n",
       "  </thead>\n",
       "  <tbody>\n",
       "    <tr>\n",
       "      <th>0</th>\n",
       "      <td>2041</td>\n",
       "      <td>LoweringError: Failed in nopython mode pipelin...</td>\n",
       "      <td>\\nYou are an expert in analyzing and categoriz...</td>\n",
       "      <td>True</td>\n",
       "      <td>This is an error message from a program. It co...</td>\n",
       "      <td>1</td>\n",
       "      <td>Now, perform your your audit based on the data...</td>\n",
       "      <td>Log File / Trace / Terminal Output</td>\n",
       "      <td>correct</td>\n",
       "      <td>My verdict is correct because the ground truth...</td>\n",
       "    </tr>\n",
       "    <tr>\n",
       "      <th>1</th>\n",
       "      <td>12677</td>\n",
       "      <td>Compute the static offset of the ultimate dest...</td>\n",
       "      <td>\\nYou are an expert in analyzing and categoriz...</td>\n",
       "      <td>True</td>\n",
       "      <td>This appears to be a technical description rel...</td>\n",
       "      <td>1</td>\n",
       "      <td>Now, perform your your audit based on the data...</td>\n",
       "      <td>Low-Level Implementation Note</td>\n",
       "      <td>correct</td>\n",
       "      <td>My verdict is correct because the ground truth...</td>\n",
       "    </tr>\n",
       "    <tr>\n",
       "      <th>2</th>\n",
       "      <td>2997</td>\n",
       "      <td>[WIP] Parallelise reading of sub-branches in T...</td>\n",
       "      <td>\\nYou are an expert in analyzing and categoriz...</td>\n",
       "      <td>False</td>\n",
       "      <td>This content is a commit message that explains...</td>\n",
       "      <td>1</td>\n",
       "      <td>Now, perform your your audit based on the data...</td>\n",
       "      <td>Interactive Communication</td>\n",
       "      <td>correct</td>\n",
       "      <td>My verdict is correct because the ground truth...</td>\n",
       "    </tr>\n",
       "    <tr>\n",
       "      <th>3</th>\n",
       "      <td>13110</td>\n",
       "      <td>Create a new node, and save it in the context ...</td>\n",
       "      <td>\\nYou are an expert in analyzing and categoriz...</td>\n",
       "      <td>True</td>\n",
       "      <td>This appears to be an instruction or comment a...</td>\n",
       "      <td>1</td>\n",
       "      <td>Now, perform your your audit based on the data...</td>\n",
       "      <td>Low-Level Implementation Note</td>\n",
       "      <td>correct</td>\n",
       "      <td>My verdict is correct because the ground truth...</td>\n",
       "    </tr>\n",
       "    <tr>\n",
       "      <th>4</th>\n",
       "      <td>1397</td>\n",
       "      <td>e produces undefined behaviour because the sid...</td>\n",
       "      <td>\\nYou are an expert in analyzing and categoriz...</td>\n",
       "      <td>False</td>\n",
       "      <td>This content is primarily technical but contai...</td>\n",
       "      <td>1</td>\n",
       "      <td>Now, perform your your audit based on the data...</td>\n",
       "      <td>High-Level Instructional Guide</td>\n",
       "      <td>correct</td>\n",
       "      <td>My verdict is correct because the ground truth...</td>\n",
       "    </tr>\n",
       "  </tbody>\n",
       "</table>\n",
       "</div>"
      ]
     },
     "execution_count": 80,
     "metadata": {},
     "output_type": "execute_result"
    }
   ],
   "execution_count": 80
  },
  {
   "metadata": {
    "ExecuteTime": {
     "end_time": "2025-08-10T22:07:37.117886Z",
     "start_time": "2025-08-10T22:07:37.109294Z"
    }
   },
   "cell_type": "code",
   "source": "df.shape",
   "id": "8c380b8e76e2be7a",
   "outputs": [
    {
     "data": {
      "text/plain": [
       "(384, 10)"
      ]
     },
     "execution_count": 76,
     "metadata": {},
     "output_type": "execute_result"
    }
   ],
   "execution_count": 76
  },
  {
   "metadata": {
    "ExecuteTime": {
     "end_time": "2025-08-10T22:10:51.538972Z",
     "start_time": "2025-08-10T22:10:51.533394Z"
    }
   },
   "cell_type": "code",
   "source": "df.dmitry_verify = df.dmitry_verify.astype(bool)",
   "id": "a0b748ccf788cc6e",
   "outputs": [],
   "execution_count": 87
  },
  {
   "metadata": {
    "ExecuteTime": {
     "end_time": "2025-08-10T22:10:53.826166Z",
     "start_time": "2025-08-10T22:10:53.813099Z"
    }
   },
   "cell_type": "code",
   "source": "df.groupby(\"dmitry_verify\").size().rename(\"count\")",
   "id": "9fb1b7ec4694e02c",
   "outputs": [
    {
     "data": {
      "text/plain": [
       "dmitry_verify\n",
       "False     74\n",
       "True     310\n",
       "Name: count, dtype: int64"
      ]
     },
     "execution_count": 88,
     "metadata": {},
     "output_type": "execute_result"
    }
   ],
   "execution_count": 88
  },
  {
   "metadata": {
    "ExecuteTime": {
     "end_time": "2025-08-10T22:10:55.237327Z",
     "start_time": "2025-08-10T22:10:55.226331Z"
    }
   },
   "cell_type": "code",
   "source": "df.groupby(\"dmitry_verify\").size().rename(\"percentage\") / df.shape[0] * 100",
   "id": "f9127e0a98f7b114",
   "outputs": [
    {
     "data": {
      "text/plain": [
       "dmitry_verify\n",
       "False    19.270833\n",
       "True     80.729167\n",
       "Name: percentage, dtype: float64"
      ]
     },
     "execution_count": 89,
     "metadata": {},
     "output_type": "execute_result"
    }
   ],
   "execution_count": 89
  },
  {
   "metadata": {
    "ExecuteTime": {
     "end_time": "2025-08-10T22:11:05.144288Z",
     "start_time": "2025-08-10T22:11:05.134212Z"
    }
   },
   "cell_type": "code",
   "source": "df.groupby([\"dmitry_verify\", \"s0_v_evaluation\"]).size().rename(\"count\")",
   "id": "2d50ef3f53941f10",
   "outputs": [
    {
     "data": {
      "text/plain": [
       "dmitry_verify  s0_v_evaluation\n",
       "False          correct             12\n",
       "               incorrect           62\n",
       "True           correct            244\n",
       "               incorrect           66\n",
       "Name: count, dtype: int64"
      ]
     },
     "execution_count": 90,
     "metadata": {},
     "output_type": "execute_result"
    }
   ],
   "execution_count": 90
  },
  {
   "metadata": {},
   "cell_type": "markdown",
   "source": "# S1",
   "id": "4f0ce7b2864e8259"
  },
  {
   "metadata": {
    "collapsed": true,
    "ExecuteTime": {
     "end_time": "2025-08-12T19:48:19.038542Z",
     "start_time": "2025-08-12T19:48:18.635915Z"
    }
   },
   "cell_type": "code",
   "source": "df = CSVDFHandler().read_df(AbsDirPath.SAMPLES_VERIFIED / \"s1.csv\")",
   "id": "14de1981e612fade",
   "outputs": [],
   "execution_count": 11
  },
  {
   "metadata": {
    "ExecuteTime": {
     "end_time": "2025-08-12T19:48:19.105377Z",
     "start_time": "2025-08-12T19:48:19.059657Z"
    }
   },
   "cell_type": "code",
   "source": "df.head()",
   "id": "69502393758b69ea",
   "outputs": [
    {
     "data": {
      "text/plain": [
       "   Unnamed: 0                qa  \\\n",
       "0           8     deployability   \n",
       "1          36      availability   \n",
       "2         725     deployability   \n",
       "3         328  interoperability   \n",
       "4          54     deployability   \n",
       "\n",
       "                                            sentence  \\\n",
       "0  Patch release of v6.26 series. [:spiral_notepa...   \n",
       "1  Shuffle script for training runs out of memory...   \n",
       "2  Receive message from a socket. This standalone...   \n",
       "3  tegration region is divided into subintervals,...   \n",
       "4  @sawenzel I get your point about thread safety...   \n",
       "\n",
       "                                           s1_prompt  \\\n",
       "0  \\n### Data for Evaluation\\n\\n**1. Quality Attr...   \n",
       "1  \\n### Data for Evaluation\\n\\n**1. Quality Attr...   \n",
       "2  \\n### Data for Evaluation\\n\\n**1. Quality Attr...   \n",
       "3  \\n### Data for Evaluation\\n\\n**1. Quality Attr...   \n",
       "4  \\n### Data for Evaluation\\n\\n**1. Quality Attr...   \n",
       "\n",
       "                     s1_analysis_problem_vs_solution  \\\n",
       "0  The text is describing a release process and p...   \n",
       "1  The text describes a problem related to memory...   \n",
       "2  The text describes a problem related to how th...   \n",
       "3  The text describes a mechanism for handling in...   \n",
       "4  The text is primarily discussing issues relate...   \n",
       "\n",
       "                    s1_analysis_mechanism_vs_feature  \\\n",
       "0  This describes a functional feature (a patch r...   \n",
       "1  Yes, it is describing a **problem** rather tha...   \n",
       "2  Yes, it is describing a specific implementatio...   \n",
       "3  This is describing an architectural mechanism ...   \n",
       "4  It mentions clang-formatting using ROOT style ...   \n",
       "\n",
       "                             s1_analysis_causal_link  \\\n",
       "0  The causal link between the described action a...   \n",
       "1  The link between the problem and the quality a...   \n",
       "2  The link between the problem and the quality a...   \n",
       "3  The text explicitly links the mechanism (`gsl_...   \n",
       "4  The causal link between these elements and dep...   \n",
       "\n",
       "                            s1_analysis_rubric_check  s1_true_positive  \\\n",
       "0  The content does not mention any specific mech...             False   \n",
       "1  This mechanism does not match the inclusion cr...             False   \n",
       "2  This mechanism (the specific implementation pa...              True   \n",
       "3  The rubric for interoperability requires excha...              True   \n",
       "4  The rubric inclusion criteria require explicit...             False   \n",
       "\n",
       "                                        s1_reasoning  \\\n",
       "0  The text does not describe an architectural me...   \n",
       "1  The analysis concludes that this text describe...   \n",
       "2  The text identifies a problem in how the funct...   \n",
       "3  The text describes an architectural mechanism ...   \n",
       "4  The text does not provide concrete evidence of...   \n",
       "\n",
       "                                         s1_v_prompt  \\\n",
       "0  Now, perform your your audit based on the data...   \n",
       "1  Now, perform your your audit based on the data...   \n",
       "2  Now, perform your your audit based on the data...   \n",
       "3  Now, perform your your audit based on the data...   \n",
       "4  Now, perform your your audit based on the data...   \n",
       "\n",
       "       s1_v_ground_truth_intent  s1_v_ground_truth_qa_if_different  \\\n",
       "0  Describing Quality Attribute                                NaN   \n",
       "1  Describing Quality Attribute                                NaN   \n",
       "2      Describing Functionality                                NaN   \n",
       "3  Describing Quality Attribute                                NaN   \n",
       "4  Describing Quality Attribute                                NaN   \n",
       "\n",
       "  s1_v_evaluation                                     s1_v_reasoning  \n",
       "0       incorrect  My verdict is incorrect because the text's pri...  \n",
       "1       incorrect  My verdict is incorrect because the text's pri...  \n",
       "2       incorrect  My verdict is incorrect because the text's pri...  \n",
       "3       incorrect  My verdict is incorrect because the text's pri...  \n",
       "4       incorrect  My verdict is incorrect because the text's pri...  "
      ],
      "text/html": [
       "<div>\n",
       "<style scoped>\n",
       "    .dataframe tbody tr th:only-of-type {\n",
       "        vertical-align: middle;\n",
       "    }\n",
       "\n",
       "    .dataframe tbody tr th {\n",
       "        vertical-align: top;\n",
       "    }\n",
       "\n",
       "    .dataframe thead th {\n",
       "        text-align: right;\n",
       "    }\n",
       "</style>\n",
       "<table border=\"1\" class=\"dataframe\">\n",
       "  <thead>\n",
       "    <tr style=\"text-align: right;\">\n",
       "      <th></th>\n",
       "      <th>Unnamed: 0</th>\n",
       "      <th>qa</th>\n",
       "      <th>sentence</th>\n",
       "      <th>s1_prompt</th>\n",
       "      <th>s1_analysis_problem_vs_solution</th>\n",
       "      <th>s1_analysis_mechanism_vs_feature</th>\n",
       "      <th>s1_analysis_causal_link</th>\n",
       "      <th>s1_analysis_rubric_check</th>\n",
       "      <th>s1_true_positive</th>\n",
       "      <th>s1_reasoning</th>\n",
       "      <th>s1_v_prompt</th>\n",
       "      <th>s1_v_ground_truth_intent</th>\n",
       "      <th>s1_v_ground_truth_qa_if_different</th>\n",
       "      <th>s1_v_evaluation</th>\n",
       "      <th>s1_v_reasoning</th>\n",
       "    </tr>\n",
       "  </thead>\n",
       "  <tbody>\n",
       "    <tr>\n",
       "      <th>0</th>\n",
       "      <td>8</td>\n",
       "      <td>deployability</td>\n",
       "      <td>Patch release of v6.26 series. [:spiral_notepa...</td>\n",
       "      <td>\\n### Data for Evaluation\\n\\n**1. Quality Attr...</td>\n",
       "      <td>The text is describing a release process and p...</td>\n",
       "      <td>This describes a functional feature (a patch r...</td>\n",
       "      <td>The causal link between the described action a...</td>\n",
       "      <td>The content does not mention any specific mech...</td>\n",
       "      <td>False</td>\n",
       "      <td>The text does not describe an architectural me...</td>\n",
       "      <td>Now, perform your your audit based on the data...</td>\n",
       "      <td>Describing Quality Attribute</td>\n",
       "      <td>NaN</td>\n",
       "      <td>incorrect</td>\n",
       "      <td>My verdict is incorrect because the text's pri...</td>\n",
       "    </tr>\n",
       "    <tr>\n",
       "      <th>1</th>\n",
       "      <td>36</td>\n",
       "      <td>availability</td>\n",
       "      <td>Shuffle script for training runs out of memory...</td>\n",
       "      <td>\\n### Data for Evaluation\\n\\n**1. Quality Attr...</td>\n",
       "      <td>The text describes a problem related to memory...</td>\n",
       "      <td>Yes, it is describing a **problem** rather tha...</td>\n",
       "      <td>The link between the problem and the quality a...</td>\n",
       "      <td>This mechanism does not match the inclusion cr...</td>\n",
       "      <td>False</td>\n",
       "      <td>The analysis concludes that this text describe...</td>\n",
       "      <td>Now, perform your your audit based on the data...</td>\n",
       "      <td>Describing Quality Attribute</td>\n",
       "      <td>NaN</td>\n",
       "      <td>incorrect</td>\n",
       "      <td>My verdict is incorrect because the text's pri...</td>\n",
       "    </tr>\n",
       "    <tr>\n",
       "      <th>2</th>\n",
       "      <td>725</td>\n",
       "      <td>deployability</td>\n",
       "      <td>Receive message from a socket. This standalone...</td>\n",
       "      <td>\\n### Data for Evaluation\\n\\n**1. Quality Attr...</td>\n",
       "      <td>The text describes a problem related to how th...</td>\n",
       "      <td>Yes, it is describing a specific implementatio...</td>\n",
       "      <td>The link between the problem and the quality a...</td>\n",
       "      <td>This mechanism (the specific implementation pa...</td>\n",
       "      <td>True</td>\n",
       "      <td>The text identifies a problem in how the funct...</td>\n",
       "      <td>Now, perform your your audit based on the data...</td>\n",
       "      <td>Describing Functionality</td>\n",
       "      <td>NaN</td>\n",
       "      <td>incorrect</td>\n",
       "      <td>My verdict is incorrect because the text's pri...</td>\n",
       "    </tr>\n",
       "    <tr>\n",
       "      <th>3</th>\n",
       "      <td>328</td>\n",
       "      <td>interoperability</td>\n",
       "      <td>tegration region is divided into subintervals,...</td>\n",
       "      <td>\\n### Data for Evaluation\\n\\n**1. Quality Attr...</td>\n",
       "      <td>The text describes a mechanism for handling in...</td>\n",
       "      <td>This is describing an architectural mechanism ...</td>\n",
       "      <td>The text explicitly links the mechanism (`gsl_...</td>\n",
       "      <td>The rubric for interoperability requires excha...</td>\n",
       "      <td>True</td>\n",
       "      <td>The text describes an architectural mechanism ...</td>\n",
       "      <td>Now, perform your your audit based on the data...</td>\n",
       "      <td>Describing Quality Attribute</td>\n",
       "      <td>NaN</td>\n",
       "      <td>incorrect</td>\n",
       "      <td>My verdict is incorrect because the text's pri...</td>\n",
       "    </tr>\n",
       "    <tr>\n",
       "      <th>4</th>\n",
       "      <td>54</td>\n",
       "      <td>deployability</td>\n",
       "      <td>@sawenzel I get your point about thread safety...</td>\n",
       "      <td>\\n### Data for Evaluation\\n\\n**1. Quality Attr...</td>\n",
       "      <td>The text is primarily discussing issues relate...</td>\n",
       "      <td>It mentions clang-formatting using ROOT style ...</td>\n",
       "      <td>The causal link between these elements and dep...</td>\n",
       "      <td>The rubric inclusion criteria require explicit...</td>\n",
       "      <td>False</td>\n",
       "      <td>The text does not provide concrete evidence of...</td>\n",
       "      <td>Now, perform your your audit based on the data...</td>\n",
       "      <td>Describing Quality Attribute</td>\n",
       "      <td>NaN</td>\n",
       "      <td>incorrect</td>\n",
       "      <td>My verdict is incorrect because the text's pri...</td>\n",
       "    </tr>\n",
       "  </tbody>\n",
       "</table>\n",
       "</div>"
      ]
     },
     "execution_count": 12,
     "metadata": {},
     "output_type": "execute_result"
    }
   ],
   "execution_count": 12
  },
  {
   "metadata": {
    "ExecuteTime": {
     "end_time": "2025-08-12T19:48:19.254963Z",
     "start_time": "2025-08-12T19:48:19.241557Z"
    }
   },
   "cell_type": "code",
   "source": "df.shape",
   "id": "45ecb0c3a443f3c8",
   "outputs": [
    {
     "data": {
      "text/plain": [
       "(384, 15)"
      ]
     },
     "execution_count": 13,
     "metadata": {},
     "output_type": "execute_result"
    }
   ],
   "execution_count": 13
  },
  {
   "metadata": {
    "ExecuteTime": {
     "end_time": "2025-08-12T19:48:19.438364Z",
     "start_time": "2025-08-12T19:48:19.409171Z"
    }
   },
   "cell_type": "code",
   "source": "df.groupby(\"s1_v_evaluation\").size().rename(\"percentage\") / df.shape[0] * 100",
   "id": "5007ff4d3988ff51",
   "outputs": [
    {
     "data": {
      "text/plain": [
       "s1_v_evaluation\n",
       "correct       4.427083\n",
       "incorrect    95.572917\n",
       "Name: percentage, dtype: float64"
      ]
     },
     "execution_count": 14,
     "metadata": {},
     "output_type": "execute_result"
    }
   ],
   "execution_count": 14
  },
  {
   "metadata": {
    "ExecuteTime": {
     "end_time": "2025-08-12T19:48:19.819782Z",
     "start_time": "2025-08-12T19:48:19.795065Z"
    }
   },
   "cell_type": "code",
   "source": "df.groupby(\"s1_v_evaluation\").size().rename(\"count\")",
   "id": "29f4ab7f7a30705",
   "outputs": [
    {
     "data": {
      "text/plain": [
       "s1_v_evaluation\n",
       "correct       17\n",
       "incorrect    367\n",
       "Name: count, dtype: int64"
      ]
     },
     "execution_count": 15,
     "metadata": {},
     "output_type": "execute_result"
    }
   ],
   "execution_count": 15
  },
  {
   "metadata": {
    "ExecuteTime": {
     "end_time": "2025-08-12T19:48:20.146519Z",
     "start_time": "2025-08-12T19:48:20.115143Z"
    }
   },
   "cell_type": "code",
   "source": "df.groupby(\"s1_v_evaluation\").get_group(\"incorrect\")",
   "id": "68b3c0c48c3b92ca",
   "outputs": [
    {
     "data": {
      "text/plain": [
       "     Unnamed: 0                 qa  \\\n",
       "0             8      deployability   \n",
       "1            36       availability   \n",
       "2           725      deployability   \n",
       "3           328   interoperability   \n",
       "4            54      deployability   \n",
       "..          ...                ...   \n",
       "374         155  energy efficiency   \n",
       "378         233  energy efficiency   \n",
       "379         822      deployability   \n",
       "382         333   interoperability   \n",
       "383          30  energy efficiency   \n",
       "\n",
       "                                              sentence  \\\n",
       "0    Patch release of v6.26 series. [:spiral_notepa...   \n",
       "1    Shuffle script for training runs out of memory...   \n",
       "2    Receive message from a socket. This standalone...   \n",
       "3    tegration region is divided into subintervals,...   \n",
       "4    @sawenzel I get your point about thread safety...   \n",
       "..                                                 ...   \n",
       "374   of epochs. early_stop Stops training if valid...   \n",
       "378  The null model is designed not to predict biol...   \n",
       "379  MatchingStackOffset - Return true if the given...   \n",
       "382  If exactly one conversion is possible, that co...   \n",
       "383   fonts:. ``` {.cpp}. {. textc = new TCanvas(\"t...   \n",
       "\n",
       "                                             s1_prompt  \\\n",
       "0    \\n### Data for Evaluation\\n\\n**1. Quality Attr...   \n",
       "1    \\n### Data for Evaluation\\n\\n**1. Quality Attr...   \n",
       "2    \\n### Data for Evaluation\\n\\n**1. Quality Attr...   \n",
       "3    \\n### Data for Evaluation\\n\\n**1. Quality Attr...   \n",
       "4    \\n### Data for Evaluation\\n\\n**1. Quality Attr...   \n",
       "..                                                 ...   \n",
       "374  \\n### Data for Evaluation\\n\\n**1. Quality Attr...   \n",
       "378  \\n### Data for Evaluation\\n\\n**1. Quality Attr...   \n",
       "379  \\n### Data for Evaluation\\n\\n**1. Quality Attr...   \n",
       "382  \\n### Data for Evaluation\\n\\n**1. Quality Attr...   \n",
       "383  \\n### Data for Evaluation\\n\\n**1. Quality Attr...   \n",
       "\n",
       "                       s1_analysis_problem_vs_solution  \\\n",
       "0    The text is describing a release process and p...   \n",
       "1    The text describes a problem related to memory...   \n",
       "2    The text describes a problem related to how th...   \n",
       "3    The text describes a mechanism for handling in...   \n",
       "4    The text is primarily discussing issues relate...   \n",
       "..                                                 ...   \n",
       "374  The text does not describe a solution or mecha...   \n",
       "378  The text discusses optimizing biological signa...   \n",
       "379  The text does not describe a problem or issue....   \n",
       "382  The text does not present a problem but rather...   \n",
       "383  The text does not describe a solution or mecha...   \n",
       "\n",
       "                      s1_analysis_mechanism_vs_feature  \\\n",
       "0    This describes a functional feature (a patch r...   \n",
       "1    Yes, it is describing a **problem** rather tha...   \n",
       "2    Yes, it is describing a specific implementatio...   \n",
       "3    This is describing an architectural mechanism ...   \n",
       "4    It mentions clang-formatting using ROOT style ...   \n",
       "..                                                 ...   \n",
       "374  No, it is a feature list of parameters used in...   \n",
       "378  It describes a method of optimization (Pearson...   \n",
       "379  This is a feature that directly relates to dep...   \n",
       "382  Yes, it describes an architectural mechanism (...   \n",
       "383  No, it is not describing an architectural mech...   \n",
       "\n",
       "                               s1_analysis_causal_link  \\\n",
       "0    The causal link between the described action a...   \n",
       "1    The link between the problem and the quality a...   \n",
       "2    The link between the problem and the quality a...   \n",
       "3    The text explicitly links the mechanism (`gsl_...   \n",
       "4    The causal link between these elements and dep...   \n",
       "..                                                 ...   \n",
       "374  There is no direct causal link between the lis...   \n",
       "378  The link between the mechanism and the quality...   \n",
       "379  The link between the mechanism (matchingStackO...   \n",
       "382  The link between the conversion logic and inte...   \n",
       "383  The link between the mechanism (UI element cha...   \n",
       "\n",
       "                              s1_analysis_rubric_check  s1_true_positive  \\\n",
       "0    The content does not mention any specific mech...             False   \n",
       "1    This mechanism does not match the inclusion cr...             False   \n",
       "2    This mechanism (the specific implementation pa...              True   \n",
       "3    The rubric for interoperability requires excha...              True   \n",
       "4    The rubric inclusion criteria require explicit...             False   \n",
       "..                                                 ...               ...   \n",
       "374  The mechanism (parameters) do not match the in...             False   \n",
       "378  This description does not match the inclusion ...             False   \n",
       "379  This mechanism aligns with the inclusion crite...              True   \n",
       "382  This mechanism (conversion logic) aligns with ...              True   \n",
       "383  This description does not match the inclusion ...             False   \n",
       "\n",
       "                                          s1_reasoning  \\\n",
       "0    The text does not describe an architectural me...   \n",
       "1    The analysis concludes that this text describe...   \n",
       "2    The text identifies a problem in how the funct...   \n",
       "3    The text describes an architectural mechanism ...   \n",
       "4    The text does not provide concrete evidence of...   \n",
       "..                                                 ...   \n",
       "374  The text does not describe a solution or mecha...   \n",
       "378  The text discusses optimizing biological signa...   \n",
       "379  The text identifies a specific feature that di...   \n",
       "382  The text identifies an architectural mechanism...   \n",
       "383  The analysis concludes that this text is not d...   \n",
       "\n",
       "                                           s1_v_prompt  \\\n",
       "0    Now, perform your your audit based on the data...   \n",
       "1    Now, perform your your audit based on the data...   \n",
       "2    Now, perform your your audit based on the data...   \n",
       "3    Now, perform your your audit based on the data...   \n",
       "4    Now, perform your your audit based on the data...   \n",
       "..                                                 ...   \n",
       "374  Now, perform your your audit based on the data...   \n",
       "378  Now, perform your your audit based on the data...   \n",
       "379  Now, perform your your audit based on the data...   \n",
       "382  Now, perform your your audit based on the data...   \n",
       "383  Now, perform your your audit based on the data...   \n",
       "\n",
       "         s1_v_ground_truth_intent  s1_v_ground_truth_qa_if_different  \\\n",
       "0    Describing Quality Attribute                                NaN   \n",
       "1    Describing Quality Attribute                                NaN   \n",
       "2        Describing Functionality                                NaN   \n",
       "3    Describing Quality Attribute                                NaN   \n",
       "4    Describing Quality Attribute                                NaN   \n",
       "..                            ...                                ...   \n",
       "374      Describing Functionality                                NaN   \n",
       "378      Describing Functionality                                NaN   \n",
       "379  Describing Quality Attribute                                NaN   \n",
       "382      Describing Functionality                                NaN   \n",
       "383      Describing Functionality                                NaN   \n",
       "\n",
       "    s1_v_evaluation                                     s1_v_reasoning  \n",
       "0         incorrect  My verdict is incorrect because the text's pri...  \n",
       "1         incorrect  My verdict is incorrect because the text's pri...  \n",
       "2         incorrect  My verdict is incorrect because the text's pri...  \n",
       "3         incorrect  My verdict is incorrect because the text's pri...  \n",
       "4         incorrect  My verdict is incorrect because the text's pri...  \n",
       "..              ...                                                ...  \n",
       "374       incorrect  The ground truth intent is 'Describing Functio...  \n",
       "378       incorrect  The ground truth intent for the text is 'Descr...  \n",
       "379       incorrect  The text's primary intent was 'Describing Func...  \n",
       "382       incorrect  The ground truth intent is 'Describing Functio...  \n",
       "383       incorrect  The text primarily describes how to use specif...  \n",
       "\n",
       "[367 rows x 15 columns]"
      ],
      "text/html": [
       "<div>\n",
       "<style scoped>\n",
       "    .dataframe tbody tr th:only-of-type {\n",
       "        vertical-align: middle;\n",
       "    }\n",
       "\n",
       "    .dataframe tbody tr th {\n",
       "        vertical-align: top;\n",
       "    }\n",
       "\n",
       "    .dataframe thead th {\n",
       "        text-align: right;\n",
       "    }\n",
       "</style>\n",
       "<table border=\"1\" class=\"dataframe\">\n",
       "  <thead>\n",
       "    <tr style=\"text-align: right;\">\n",
       "      <th></th>\n",
       "      <th>Unnamed: 0</th>\n",
       "      <th>qa</th>\n",
       "      <th>sentence</th>\n",
       "      <th>s1_prompt</th>\n",
       "      <th>s1_analysis_problem_vs_solution</th>\n",
       "      <th>s1_analysis_mechanism_vs_feature</th>\n",
       "      <th>s1_analysis_causal_link</th>\n",
       "      <th>s1_analysis_rubric_check</th>\n",
       "      <th>s1_true_positive</th>\n",
       "      <th>s1_reasoning</th>\n",
       "      <th>s1_v_prompt</th>\n",
       "      <th>s1_v_ground_truth_intent</th>\n",
       "      <th>s1_v_ground_truth_qa_if_different</th>\n",
       "      <th>s1_v_evaluation</th>\n",
       "      <th>s1_v_reasoning</th>\n",
       "    </tr>\n",
       "  </thead>\n",
       "  <tbody>\n",
       "    <tr>\n",
       "      <th>0</th>\n",
       "      <td>8</td>\n",
       "      <td>deployability</td>\n",
       "      <td>Patch release of v6.26 series. [:spiral_notepa...</td>\n",
       "      <td>\\n### Data for Evaluation\\n\\n**1. Quality Attr...</td>\n",
       "      <td>The text is describing a release process and p...</td>\n",
       "      <td>This describes a functional feature (a patch r...</td>\n",
       "      <td>The causal link between the described action a...</td>\n",
       "      <td>The content does not mention any specific mech...</td>\n",
       "      <td>False</td>\n",
       "      <td>The text does not describe an architectural me...</td>\n",
       "      <td>Now, perform your your audit based on the data...</td>\n",
       "      <td>Describing Quality Attribute</td>\n",
       "      <td>NaN</td>\n",
       "      <td>incorrect</td>\n",
       "      <td>My verdict is incorrect because the text's pri...</td>\n",
       "    </tr>\n",
       "    <tr>\n",
       "      <th>1</th>\n",
       "      <td>36</td>\n",
       "      <td>availability</td>\n",
       "      <td>Shuffle script for training runs out of memory...</td>\n",
       "      <td>\\n### Data for Evaluation\\n\\n**1. Quality Attr...</td>\n",
       "      <td>The text describes a problem related to memory...</td>\n",
       "      <td>Yes, it is describing a **problem** rather tha...</td>\n",
       "      <td>The link between the problem and the quality a...</td>\n",
       "      <td>This mechanism does not match the inclusion cr...</td>\n",
       "      <td>False</td>\n",
       "      <td>The analysis concludes that this text describe...</td>\n",
       "      <td>Now, perform your your audit based on the data...</td>\n",
       "      <td>Describing Quality Attribute</td>\n",
       "      <td>NaN</td>\n",
       "      <td>incorrect</td>\n",
       "      <td>My verdict is incorrect because the text's pri...</td>\n",
       "    </tr>\n",
       "    <tr>\n",
       "      <th>2</th>\n",
       "      <td>725</td>\n",
       "      <td>deployability</td>\n",
       "      <td>Receive message from a socket. This standalone...</td>\n",
       "      <td>\\n### Data for Evaluation\\n\\n**1. Quality Attr...</td>\n",
       "      <td>The text describes a problem related to how th...</td>\n",
       "      <td>Yes, it is describing a specific implementatio...</td>\n",
       "      <td>The link between the problem and the quality a...</td>\n",
       "      <td>This mechanism (the specific implementation pa...</td>\n",
       "      <td>True</td>\n",
       "      <td>The text identifies a problem in how the funct...</td>\n",
       "      <td>Now, perform your your audit based on the data...</td>\n",
       "      <td>Describing Functionality</td>\n",
       "      <td>NaN</td>\n",
       "      <td>incorrect</td>\n",
       "      <td>My verdict is incorrect because the text's pri...</td>\n",
       "    </tr>\n",
       "    <tr>\n",
       "      <th>3</th>\n",
       "      <td>328</td>\n",
       "      <td>interoperability</td>\n",
       "      <td>tegration region is divided into subintervals,...</td>\n",
       "      <td>\\n### Data for Evaluation\\n\\n**1. Quality Attr...</td>\n",
       "      <td>The text describes a mechanism for handling in...</td>\n",
       "      <td>This is describing an architectural mechanism ...</td>\n",
       "      <td>The text explicitly links the mechanism (`gsl_...</td>\n",
       "      <td>The rubric for interoperability requires excha...</td>\n",
       "      <td>True</td>\n",
       "      <td>The text describes an architectural mechanism ...</td>\n",
       "      <td>Now, perform your your audit based on the data...</td>\n",
       "      <td>Describing Quality Attribute</td>\n",
       "      <td>NaN</td>\n",
       "      <td>incorrect</td>\n",
       "      <td>My verdict is incorrect because the text's pri...</td>\n",
       "    </tr>\n",
       "    <tr>\n",
       "      <th>4</th>\n",
       "      <td>54</td>\n",
       "      <td>deployability</td>\n",
       "      <td>@sawenzel I get your point about thread safety...</td>\n",
       "      <td>\\n### Data for Evaluation\\n\\n**1. Quality Attr...</td>\n",
       "      <td>The text is primarily discussing issues relate...</td>\n",
       "      <td>It mentions clang-formatting using ROOT style ...</td>\n",
       "      <td>The causal link between these elements and dep...</td>\n",
       "      <td>The rubric inclusion criteria require explicit...</td>\n",
       "      <td>False</td>\n",
       "      <td>The text does not provide concrete evidence of...</td>\n",
       "      <td>Now, perform your your audit based on the data...</td>\n",
       "      <td>Describing Quality Attribute</td>\n",
       "      <td>NaN</td>\n",
       "      <td>incorrect</td>\n",
       "      <td>My verdict is incorrect because the text's pri...</td>\n",
       "    </tr>\n",
       "    <tr>\n",
       "      <th>...</th>\n",
       "      <td>...</td>\n",
       "      <td>...</td>\n",
       "      <td>...</td>\n",
       "      <td>...</td>\n",
       "      <td>...</td>\n",
       "      <td>...</td>\n",
       "      <td>...</td>\n",
       "      <td>...</td>\n",
       "      <td>...</td>\n",
       "      <td>...</td>\n",
       "      <td>...</td>\n",
       "      <td>...</td>\n",
       "      <td>...</td>\n",
       "      <td>...</td>\n",
       "      <td>...</td>\n",
       "    </tr>\n",
       "    <tr>\n",
       "      <th>374</th>\n",
       "      <td>155</td>\n",
       "      <td>energy efficiency</td>\n",
       "      <td>of epochs. early_stop Stops training if valid...</td>\n",
       "      <td>\\n### Data for Evaluation\\n\\n**1. Quality Attr...</td>\n",
       "      <td>The text does not describe a solution or mecha...</td>\n",
       "      <td>No, it is a feature list of parameters used in...</td>\n",
       "      <td>There is no direct causal link between the lis...</td>\n",
       "      <td>The mechanism (parameters) do not match the in...</td>\n",
       "      <td>False</td>\n",
       "      <td>The text does not describe a solution or mecha...</td>\n",
       "      <td>Now, perform your your audit based on the data...</td>\n",
       "      <td>Describing Functionality</td>\n",
       "      <td>NaN</td>\n",
       "      <td>incorrect</td>\n",
       "      <td>The ground truth intent is 'Describing Functio...</td>\n",
       "    </tr>\n",
       "    <tr>\n",
       "      <th>378</th>\n",
       "      <td>233</td>\n",
       "      <td>energy efficiency</td>\n",
       "      <td>The null model is designed not to predict biol...</td>\n",
       "      <td>\\n### Data for Evaluation\\n\\n**1. Quality Attr...</td>\n",
       "      <td>The text discusses optimizing biological signa...</td>\n",
       "      <td>It describes a method of optimization (Pearson...</td>\n",
       "      <td>The link between the mechanism and the quality...</td>\n",
       "      <td>This description does not match the inclusion ...</td>\n",
       "      <td>False</td>\n",
       "      <td>The text discusses optimizing biological signa...</td>\n",
       "      <td>Now, perform your your audit based on the data...</td>\n",
       "      <td>Describing Functionality</td>\n",
       "      <td>NaN</td>\n",
       "      <td>incorrect</td>\n",
       "      <td>The ground truth intent for the text is 'Descr...</td>\n",
       "    </tr>\n",
       "    <tr>\n",
       "      <th>379</th>\n",
       "      <td>822</td>\n",
       "      <td>deployability</td>\n",
       "      <td>MatchingStackOffset - Return true if the given...</td>\n",
       "      <td>\\n### Data for Evaluation\\n\\n**1. Quality Attr...</td>\n",
       "      <td>The text does not describe a problem or issue....</td>\n",
       "      <td>This is a feature that directly relates to dep...</td>\n",
       "      <td>The link between the mechanism (matchingStackO...</td>\n",
       "      <td>This mechanism aligns with the inclusion crite...</td>\n",
       "      <td>True</td>\n",
       "      <td>The text identifies a specific feature that di...</td>\n",
       "      <td>Now, perform your your audit based on the data...</td>\n",
       "      <td>Describing Quality Attribute</td>\n",
       "      <td>NaN</td>\n",
       "      <td>incorrect</td>\n",
       "      <td>The text's primary intent was 'Describing Func...</td>\n",
       "    </tr>\n",
       "    <tr>\n",
       "      <th>382</th>\n",
       "      <td>333</td>\n",
       "      <td>interoperability</td>\n",
       "      <td>If exactly one conversion is possible, that co...</td>\n",
       "      <td>\\n### Data for Evaluation\\n\\n**1. Quality Attr...</td>\n",
       "      <td>The text does not present a problem but rather...</td>\n",
       "      <td>Yes, it describes an architectural mechanism (...</td>\n",
       "      <td>The link between the conversion logic and inte...</td>\n",
       "      <td>This mechanism (conversion logic) aligns with ...</td>\n",
       "      <td>True</td>\n",
       "      <td>The text identifies an architectural mechanism...</td>\n",
       "      <td>Now, perform your your audit based on the data...</td>\n",
       "      <td>Describing Functionality</td>\n",
       "      <td>NaN</td>\n",
       "      <td>incorrect</td>\n",
       "      <td>The ground truth intent is 'Describing Functio...</td>\n",
       "    </tr>\n",
       "    <tr>\n",
       "      <th>383</th>\n",
       "      <td>30</td>\n",
       "      <td>energy efficiency</td>\n",
       "      <td>fonts:. ``` {.cpp}. {. textc = new TCanvas(\"t...</td>\n",
       "      <td>\\n### Data for Evaluation\\n\\n**1. Quality Attr...</td>\n",
       "      <td>The text does not describe a solution or mecha...</td>\n",
       "      <td>No, it is not describing an architectural mech...</td>\n",
       "      <td>The link between the mechanism (UI element cha...</td>\n",
       "      <td>This description does not match the inclusion ...</td>\n",
       "      <td>False</td>\n",
       "      <td>The analysis concludes that this text is not d...</td>\n",
       "      <td>Now, perform your your audit based on the data...</td>\n",
       "      <td>Describing Functionality</td>\n",
       "      <td>NaN</td>\n",
       "      <td>incorrect</td>\n",
       "      <td>The text primarily describes how to use specif...</td>\n",
       "    </tr>\n",
       "  </tbody>\n",
       "</table>\n",
       "<p>367 rows × 15 columns</p>\n",
       "</div>"
      ]
     },
     "execution_count": 16,
     "metadata": {},
     "output_type": "execute_result"
    }
   ],
   "execution_count": 16
  },
  {
   "metadata": {
    "ExecuteTime": {
     "end_time": "2025-08-12T19:48:20.540477Z",
     "start_time": "2025-08-12T19:48:20.519641Z"
    }
   },
   "cell_type": "code",
   "source": "df[[\"s1_true_positive\", \"s1_v_evaluation\"]].value_counts()",
   "id": "456b8757ef1670a5",
   "outputs": [
    {
     "data": {
      "text/plain": [
       "s1_true_positive  s1_v_evaluation\n",
       "True              incorrect          197\n",
       "False             incorrect          170\n",
       "                  correct             10\n",
       "True              correct              7\n",
       "Name: count, dtype: int64"
      ]
     },
     "execution_count": 17,
     "metadata": {},
     "output_type": "execute_result"
    }
   ],
   "execution_count": 17
  },
  {
   "metadata": {},
   "cell_type": "markdown",
   "source": "# S2",
   "id": "eb92280d9b0e7712"
  },
  {
   "metadata": {
    "collapsed": true,
    "ExecuteTime": {
     "end_time": "2025-08-10T07:05:56.395873Z",
     "start_time": "2025-08-10T07:05:56.323189Z"
    }
   },
   "cell_type": "code",
   "source": "df = CSVDFHandler().read_df(AbsDirPath.SAMPLES_VERIFIED / \"s2.csv\")",
   "id": "6e04078c764c956c",
   "outputs": [],
   "execution_count": 57
  },
  {
   "metadata": {
    "ExecuteTime": {
     "end_time": "2025-08-10T07:05:56.504534Z",
     "start_time": "2025-08-10T07:05:56.489594Z"
    }
   },
   "cell_type": "code",
   "source": "df.head()",
   "id": "36e5e951db5573c1",
   "outputs": [
    {
     "data": {
      "text/plain": [
       "   Unnamed: 0                                           sentence  \\\n",
       "0        6790  Table to cache MD5 values of sample contexts c...   \n",
       "1         233  Hi @sfchen . In my mind, you can reduce the nu...   \n",
       "2        1061  n the entry basic block afterward. The SROA (S...   \n",
       "3        1823  Update def-ages for registers defined by MI. I...   \n",
       "4        7726  DiagnoseForRangeVariableCopies - Diagnose thre...   \n",
       "\n",
       "                                           s2_prompt  s2_related_to_arch  \\\n",
       "0  \\nYou are an expert in software architecture a...               False   \n",
       "1  \\nYou are an expert in software architecture a...               False   \n",
       "2  \\nYou are an expert in software architecture a...               False   \n",
       "3  \\nYou are an expert in software architecture a...               False   \n",
       "4  \\nYou are an expert in software architecture a...               False   \n",
       "\n",
       "                                        s2_reasoning  \\\n",
       "0  Step 1: The core topic of the content is a tab...   \n",
       "1  Step 1: Initial Analysis\\nThe content appears ...   \n",
       "2  The content discusses low-level optimization t...   \n",
       "3  Step 1: The core topic of the content appears ...   \n",
       "4  The content is about diagnosing and fixing spe...   \n",
       "\n",
       "                                         s2_v_prompt  \\\n",
       "0  Now, perform your your audit based on the data...   \n",
       "1  Now, perform your your audit based on the data...   \n",
       "2  Now, perform your your audit based on the data...   \n",
       "3  Now, perform your your audit based on the data...   \n",
       "4  Now, perform your your audit based on the data...   \n",
       "\n",
       "       s2_v_ground_truth_scope s2_v_evaluation  \\\n",
       "0  Local Implementation Detail         correct   \n",
       "1  Local Implementation Detail         correct   \n",
       "2  Local Implementation Detail         correct   \n",
       "3  Local Implementation Detail         correct   \n",
       "4  Local Implementation Detail         correct   \n",
       "\n",
       "                                      s2_v_reasoning  \n",
       "0  My verdict is correct because the text's scope...  \n",
       "1  My verdict is correct because the text's scope...  \n",
       "2  My verdict is correct because the text's scope...  \n",
       "3  My verdict is correct because the text's scope...  \n",
       "4  My verdict is correct because the text's scope...  "
      ],
      "text/html": [
       "<div>\n",
       "<style scoped>\n",
       "    .dataframe tbody tr th:only-of-type {\n",
       "        vertical-align: middle;\n",
       "    }\n",
       "\n",
       "    .dataframe tbody tr th {\n",
       "        vertical-align: top;\n",
       "    }\n",
       "\n",
       "    .dataframe thead th {\n",
       "        text-align: right;\n",
       "    }\n",
       "</style>\n",
       "<table border=\"1\" class=\"dataframe\">\n",
       "  <thead>\n",
       "    <tr style=\"text-align: right;\">\n",
       "      <th></th>\n",
       "      <th>Unnamed: 0</th>\n",
       "      <th>sentence</th>\n",
       "      <th>s2_prompt</th>\n",
       "      <th>s2_related_to_arch</th>\n",
       "      <th>s2_reasoning</th>\n",
       "      <th>s2_v_prompt</th>\n",
       "      <th>s2_v_ground_truth_scope</th>\n",
       "      <th>s2_v_evaluation</th>\n",
       "      <th>s2_v_reasoning</th>\n",
       "    </tr>\n",
       "  </thead>\n",
       "  <tbody>\n",
       "    <tr>\n",
       "      <th>0</th>\n",
       "      <td>6790</td>\n",
       "      <td>Table to cache MD5 values of sample contexts c...</td>\n",
       "      <td>\\nYou are an expert in software architecture a...</td>\n",
       "      <td>False</td>\n",
       "      <td>Step 1: The core topic of the content is a tab...</td>\n",
       "      <td>Now, perform your your audit based on the data...</td>\n",
       "      <td>Local Implementation Detail</td>\n",
       "      <td>correct</td>\n",
       "      <td>My verdict is correct because the text's scope...</td>\n",
       "    </tr>\n",
       "    <tr>\n",
       "      <th>1</th>\n",
       "      <td>233</td>\n",
       "      <td>Hi @sfchen . In my mind, you can reduce the nu...</td>\n",
       "      <td>\\nYou are an expert in software architecture a...</td>\n",
       "      <td>False</td>\n",
       "      <td>Step 1: Initial Analysis\\nThe content appears ...</td>\n",
       "      <td>Now, perform your your audit based on the data...</td>\n",
       "      <td>Local Implementation Detail</td>\n",
       "      <td>correct</td>\n",
       "      <td>My verdict is correct because the text's scope...</td>\n",
       "    </tr>\n",
       "    <tr>\n",
       "      <th>2</th>\n",
       "      <td>1061</td>\n",
       "      <td>n the entry basic block afterward. The SROA (S...</td>\n",
       "      <td>\\nYou are an expert in software architecture a...</td>\n",
       "      <td>False</td>\n",
       "      <td>The content discusses low-level optimization t...</td>\n",
       "      <td>Now, perform your your audit based on the data...</td>\n",
       "      <td>Local Implementation Detail</td>\n",
       "      <td>correct</td>\n",
       "      <td>My verdict is correct because the text's scope...</td>\n",
       "    </tr>\n",
       "    <tr>\n",
       "      <th>3</th>\n",
       "      <td>1823</td>\n",
       "      <td>Update def-ages for registers defined by MI. I...</td>\n",
       "      <td>\\nYou are an expert in software architecture a...</td>\n",
       "      <td>False</td>\n",
       "      <td>Step 1: The core topic of the content appears ...</td>\n",
       "      <td>Now, perform your your audit based on the data...</td>\n",
       "      <td>Local Implementation Detail</td>\n",
       "      <td>correct</td>\n",
       "      <td>My verdict is correct because the text's scope...</td>\n",
       "    </tr>\n",
       "    <tr>\n",
       "      <th>4</th>\n",
       "      <td>7726</td>\n",
       "      <td>DiagnoseForRangeVariableCopies - Diagnose thre...</td>\n",
       "      <td>\\nYou are an expert in software architecture a...</td>\n",
       "      <td>False</td>\n",
       "      <td>The content is about diagnosing and fixing spe...</td>\n",
       "      <td>Now, perform your your audit based on the data...</td>\n",
       "      <td>Local Implementation Detail</td>\n",
       "      <td>correct</td>\n",
       "      <td>My verdict is correct because the text's scope...</td>\n",
       "    </tr>\n",
       "  </tbody>\n",
       "</table>\n",
       "</div>"
      ]
     },
     "execution_count": 58,
     "metadata": {},
     "output_type": "execute_result"
    }
   ],
   "execution_count": 58
  },
  {
   "metadata": {
    "ExecuteTime": {
     "end_time": "2025-08-10T07:05:56.621956Z",
     "start_time": "2025-08-10T07:05:56.614319Z"
    }
   },
   "cell_type": "code",
   "source": "df.shape",
   "id": "dfc251bf7c90e689",
   "outputs": [
    {
     "data": {
      "text/plain": [
       "(384, 9)"
      ]
     },
     "execution_count": 59,
     "metadata": {},
     "output_type": "execute_result"
    }
   ],
   "execution_count": 59
  },
  {
   "metadata": {
    "ExecuteTime": {
     "end_time": "2025-08-10T07:05:56.819284Z",
     "start_time": "2025-08-10T07:05:56.808243Z"
    }
   },
   "cell_type": "code",
   "source": "df.groupby(\"s2_v_evaluation\").size().rename(\"percentage\") / df.shape[0] * 100",
   "id": "bacb4a827563132f",
   "outputs": [
    {
     "data": {
      "text/plain": [
       "s2_v_evaluation\n",
       "correct      87.239583\n",
       "incorrect    12.760417\n",
       "Name: percentage, dtype: float64"
      ]
     },
     "execution_count": 60,
     "metadata": {},
     "output_type": "execute_result"
    }
   ],
   "execution_count": 60
  },
  {
   "metadata": {
    "ExecuteTime": {
     "end_time": "2025-08-10T07:05:57.022037Z",
     "start_time": "2025-08-10T07:05:57.011071Z"
    }
   },
   "cell_type": "code",
   "source": "df.groupby(\"s2_v_evaluation\").size().rename(\"count\")",
   "id": "a279d31344081ec2",
   "outputs": [
    {
     "data": {
      "text/plain": [
       "s2_v_evaluation\n",
       "correct      335\n",
       "incorrect     49\n",
       "Name: count, dtype: int64"
      ]
     },
     "execution_count": 61,
     "metadata": {},
     "output_type": "execute_result"
    }
   ],
   "execution_count": 61
  },
  {
   "metadata": {},
   "cell_type": "markdown",
   "source": "# S3",
   "id": "aff2da4a17be7ce1"
  },
  {
   "metadata": {
    "collapsed": true,
    "ExecuteTime": {
     "end_time": "2025-08-10T07:05:57.353901Z",
     "start_time": "2025-08-10T07:05:57.259174Z"
    }
   },
   "cell_type": "code",
   "source": "df = CSVDFHandler().read_df(AbsDirPath.SAMPLES_VERIFIED / \"s3.csv\")",
   "id": "d6998752caec2f5",
   "outputs": [],
   "execution_count": 62
  },
  {
   "metadata": {
    "ExecuteTime": {
     "end_time": "2025-08-10T07:05:57.477783Z",
     "start_time": "2025-08-10T07:05:57.462512Z"
    }
   },
   "cell_type": "code",
   "source": "df.head()",
   "id": "c3deaa2623f4037",
   "outputs": [
    {
     "data": {
      "text/plain": [
       "   Unnamed: 0                 qa  \\\n",
       "0        1820      integrability   \n",
       "1        2587  energy efficiency   \n",
       "2        1156        testability   \n",
       "3        6719             safety   \n",
       "4         946      deployability   \n",
       "\n",
       "                                            sentence  \\\n",
       "0  Interesting, @MichaelPeibo! Would you share th...   \n",
       "1  < Use new instance of all the pass/analysis ma...   \n",
       "2  .. _history:. History. =======. .. toctree::. ...   \n",
       "3  If one input is the very global we're querying...   \n",
       "4  ghtforward: just hand them to pickle (or. cPic...   \n",
       "\n",
       "                                           s3_prompt  \\\n",
       "0  \\nBased on the rules provided, analyze the fol...   \n",
       "1  \\nBased on the rules provided, analyze the fol...   \n",
       "2  \\nBased on the rules provided, analyze the fol...   \n",
       "3  \\nBased on the rules provided, analyze the fol...   \n",
       "4  \\nBased on the rules provided, analyze the fol...   \n",
       "\n",
       "                  s3_tactic  \\\n",
       "0                       NaN   \n",
       "1                       NaN   \n",
       "2     Abstract Data Sources   \n",
       "3                       NaN   \n",
       "4  Abstract Common Services   \n",
       "\n",
       "                                         s3_response  \\\n",
       "0  The system is being asked to implement a featu...   \n",
       "1  The system is being asked to use a new instanc...   \n",
       "2  The system provides an interface to substitute...   \n",
       "3  The system cannot determine aliasing if the qu...   \n",
       "4  The system implements similar services once in...   \n",
       "\n",
       "                                         s3_v_prompt  \\\n",
       "0  Now, perform your your audit based on the data...   \n",
       "1  Now, perform your your audit based on the data...   \n",
       "2  Now, perform your your audit based on the data...   \n",
       "3  Now, perform your your audit based on the data...   \n",
       "4  Now, perform your your audit based on the data...   \n",
       "\n",
       "       s3_v_ground_truth_scope s3_v_evaluation  \\\n",
       "0          System-Level Design         correct   \n",
       "1  Local Implementation Detail       incorrect   \n",
       "2  Local Implementation Detail       incorrect   \n",
       "3  Local Implementation Detail       incorrect   \n",
       "4  Local Implementation Detail       incorrect   \n",
       "\n",
       "                                      s3_v_reasoning  \n",
       "0  I am considering the best way to do this is to...  \n",
       "1  The first AI's decision was incorrect because ...  \n",
       "2  The text describes the history and evolution o...  \n",
       "3  The first AI's decision was incorrect because ...  \n",
       "4  The first AI's decision was incorrect because ...  "
      ],
      "text/html": [
       "<div>\n",
       "<style scoped>\n",
       "    .dataframe tbody tr th:only-of-type {\n",
       "        vertical-align: middle;\n",
       "    }\n",
       "\n",
       "    .dataframe tbody tr th {\n",
       "        vertical-align: top;\n",
       "    }\n",
       "\n",
       "    .dataframe thead th {\n",
       "        text-align: right;\n",
       "    }\n",
       "</style>\n",
       "<table border=\"1\" class=\"dataframe\">\n",
       "  <thead>\n",
       "    <tr style=\"text-align: right;\">\n",
       "      <th></th>\n",
       "      <th>Unnamed: 0</th>\n",
       "      <th>qa</th>\n",
       "      <th>sentence</th>\n",
       "      <th>s3_prompt</th>\n",
       "      <th>s3_tactic</th>\n",
       "      <th>s3_response</th>\n",
       "      <th>s3_v_prompt</th>\n",
       "      <th>s3_v_ground_truth_scope</th>\n",
       "      <th>s3_v_evaluation</th>\n",
       "      <th>s3_v_reasoning</th>\n",
       "    </tr>\n",
       "  </thead>\n",
       "  <tbody>\n",
       "    <tr>\n",
       "      <th>0</th>\n",
       "      <td>1820</td>\n",
       "      <td>integrability</td>\n",
       "      <td>Interesting, @MichaelPeibo! Would you share th...</td>\n",
       "      <td>\\nBased on the rules provided, analyze the fol...</td>\n",
       "      <td>NaN</td>\n",
       "      <td>The system is being asked to implement a featu...</td>\n",
       "      <td>Now, perform your your audit based on the data...</td>\n",
       "      <td>System-Level Design</td>\n",
       "      <td>correct</td>\n",
       "      <td>I am considering the best way to do this is to...</td>\n",
       "    </tr>\n",
       "    <tr>\n",
       "      <th>1</th>\n",
       "      <td>2587</td>\n",
       "      <td>energy efficiency</td>\n",
       "      <td>&lt; Use new instance of all the pass/analysis ma...</td>\n",
       "      <td>\\nBased on the rules provided, analyze the fol...</td>\n",
       "      <td>NaN</td>\n",
       "      <td>The system is being asked to use a new instanc...</td>\n",
       "      <td>Now, perform your your audit based on the data...</td>\n",
       "      <td>Local Implementation Detail</td>\n",
       "      <td>incorrect</td>\n",
       "      <td>The first AI's decision was incorrect because ...</td>\n",
       "    </tr>\n",
       "    <tr>\n",
       "      <th>2</th>\n",
       "      <td>1156</td>\n",
       "      <td>testability</td>\n",
       "      <td>.. _history:. History. =======. .. toctree::. ...</td>\n",
       "      <td>\\nBased on the rules provided, analyze the fol...</td>\n",
       "      <td>Abstract Data Sources</td>\n",
       "      <td>The system provides an interface to substitute...</td>\n",
       "      <td>Now, perform your your audit based on the data...</td>\n",
       "      <td>Local Implementation Detail</td>\n",
       "      <td>incorrect</td>\n",
       "      <td>The text describes the history and evolution o...</td>\n",
       "    </tr>\n",
       "    <tr>\n",
       "      <th>3</th>\n",
       "      <td>6719</td>\n",
       "      <td>safety</td>\n",
       "      <td>If one input is the very global we're querying...</td>\n",
       "      <td>\\nBased on the rules provided, analyze the fol...</td>\n",
       "      <td>NaN</td>\n",
       "      <td>The system cannot determine aliasing if the qu...</td>\n",
       "      <td>Now, perform your your audit based on the data...</td>\n",
       "      <td>Local Implementation Detail</td>\n",
       "      <td>incorrect</td>\n",
       "      <td>The first AI's decision was incorrect because ...</td>\n",
       "    </tr>\n",
       "    <tr>\n",
       "      <th>4</th>\n",
       "      <td>946</td>\n",
       "      <td>deployability</td>\n",
       "      <td>ghtforward: just hand them to pickle (or. cPic...</td>\n",
       "      <td>\\nBased on the rules provided, analyze the fol...</td>\n",
       "      <td>Abstract Common Services</td>\n",
       "      <td>The system implements similar services once in...</td>\n",
       "      <td>Now, perform your your audit based on the data...</td>\n",
       "      <td>Local Implementation Detail</td>\n",
       "      <td>incorrect</td>\n",
       "      <td>The first AI's decision was incorrect because ...</td>\n",
       "    </tr>\n",
       "  </tbody>\n",
       "</table>\n",
       "</div>"
      ]
     },
     "execution_count": 63,
     "metadata": {},
     "output_type": "execute_result"
    }
   ],
   "execution_count": 63
  },
  {
   "metadata": {
    "ExecuteTime": {
     "end_time": "2025-08-10T07:05:57.574107Z",
     "start_time": "2025-08-10T07:05:57.565669Z"
    }
   },
   "cell_type": "code",
   "source": "df.shape",
   "id": "dd9063717ca413e0",
   "outputs": [
    {
     "data": {
      "text/plain": [
       "(384, 10)"
      ]
     },
     "execution_count": 64,
     "metadata": {},
     "output_type": "execute_result"
    }
   ],
   "execution_count": 64
  },
  {
   "metadata": {
    "ExecuteTime": {
     "end_time": "2025-08-10T07:05:57.712548Z",
     "start_time": "2025-08-10T07:05:57.704452Z"
    }
   },
   "cell_type": "code",
   "source": "df.groupby(\"s3_v_evaluation\").size().rename(\"percentage\") / df.shape[0] * 100",
   "id": "682b5cdd13333424",
   "outputs": [
    {
     "data": {
      "text/plain": [
       "s3_v_evaluation\n",
       "correct      19.791667\n",
       "incorrect    80.208333\n",
       "Name: percentage, dtype: float64"
      ]
     },
     "execution_count": 65,
     "metadata": {},
     "output_type": "execute_result"
    }
   ],
   "execution_count": 65
  },
  {
   "metadata": {
    "ExecuteTime": {
     "end_time": "2025-08-10T07:05:57.864524Z",
     "start_time": "2025-08-10T07:05:57.850342Z"
    }
   },
   "cell_type": "code",
   "source": "df.groupby(\"s3_v_evaluation\").size().rename(\"count\")",
   "id": "557a70b3391e4c00",
   "outputs": [
    {
     "data": {
      "text/plain": [
       "s3_v_evaluation\n",
       "correct       76\n",
       "incorrect    308\n",
       "Name: count, dtype: int64"
      ]
     },
     "execution_count": 66,
     "metadata": {},
     "output_type": "execute_result"
    }
   ],
   "execution_count": 66
  }
 ],
 "metadata": {
  "kernelspec": {
   "display_name": "Python 3",
   "language": "python",
   "name": "python3"
  },
  "language_info": {
   "codemirror_mode": {
    "name": "ipython",
    "version": 2
   },
   "file_extension": ".py",
   "mimetype": "text/x-python",
   "name": "python",
   "nbconvert_exporter": "python",
   "pygments_lexer": "ipython2",
   "version": "2.7.6"
  }
 },
 "nbformat": 4,
 "nbformat_minor": 5
}

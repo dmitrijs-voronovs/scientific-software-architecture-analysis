{
 "cells": [
  {
   "cell_type": "code",
   "id": "8d6593feb9904ca0",
   "metadata": {},
   "source": [
    "from constants.abs_paths import AbsDirPath\n",
    "from processing_pipeline.model.CSVDFHandler import CSVDFHandler\n",
    "from processing_pipeline.utilities.data_transformation import load_all_files"
   ],
   "outputs": [],
   "execution_count": null
  },
  {
   "metadata": {},
   "cell_type": "markdown",
   "source": "# S0 stage",
   "id": "e1fbe1b668ca0b89"
  },
  {
   "metadata": {
    "collapsed": true,
    "ExecuteTime": {
     "end_time": "2025-07-24T07:08:57.764628Z",
     "start_time": "2025-07-24T07:08:57.671800Z"
    }
   },
   "cell_type": "code",
   "outputs": [],
   "execution_count": 13,
   "source": "df = CSVDFHandler().read_df(AbsDirPath.SAMPLES_VERIFIED / \"s0.csv\")",
   "id": "initial_id"
  },
  {
   "metadata": {
    "ExecuteTime": {
     "end_time": "2025-07-24T07:08:57.783222Z",
     "start_time": "2025-07-24T07:08:57.771635Z"
    }
   },
   "cell_type": "code",
   "source": "df.head()",
   "id": "72d5488d751c4f38",
   "outputs": [
    {
     "data": {
      "text/plain": [
       "   Unnamed: 0                                           sentence  \\\n",
       "0        1021   it is ``lld-link.exe`` or MSVC ``link.exe``) ...   \n",
       "1        5749  se are two valid expressions: ~~~ {.cpp} TMath...   \n",
       "2        4197  Test the multi-dimensional probability density...   \n",
       "3        2861  heap-use-after-free in ~TTreeReader; After mer...   \n",
       "4        3417  @pcanal - what's up with Jenkins? - Says it pa...   \n",
       "\n",
       "                                           s0_prompt  s0_to_eliminate  \\\n",
       "0  \\nYou are an expert in analyzing and categoriz...            False   \n",
       "1  \\nYou are an expert in analyzing and categoriz...             True   \n",
       "2  \\nYou are an expert in analyzing and categoriz...             True   \n",
       "3  \\nYou are an expert in analyzing and categoriz...             True   \n",
       "4  \\nYou are an expert in analyzing and categoriz...            False   \n",
       "\n",
       "                                        s0_reasoning  \\\n",
       "0  This content appears to be a technical explana...   \n",
       "1  This content appears to be documentation or co...   \n",
       "2  This content appears to be a set of configurat...   \n",
       "3  This content appears to be a technical log or ...   \n",
       "4  This content appears to be a question posed by...   \n",
       "\n",
       "                                         s0_v_prompt s0_v_correctness  \\\n",
       "0  \\nYou are a meticulous and expert evaluator of...          correct   \n",
       "1  \\nYou are a meticulous and expert evaluator of...          correct   \n",
       "2  \\nYou are a meticulous and expert evaluator of...          correct   \n",
       "3  \\nYou are a meticulous and expert evaluator of...          correct   \n",
       "4  \\nYou are a meticulous and expert evaluator of...          correct   \n",
       "\n",
       "                                      s0_v_reasoning  \n",
       "0  The AI's output correctly identifies that the ...  \n",
       "1  The first AI was tasked with evaluating whethe...  \n",
       "2  The first AI's output correctly eliminates the...  \n",
       "3  The AI's output correctly identifies that the ...  \n",
       "4  The first AI was tasked with evaluating whethe...  "
      ],
      "text/html": [
       "<div>\n",
       "<style scoped>\n",
       "    .dataframe tbody tr th:only-of-type {\n",
       "        vertical-align: middle;\n",
       "    }\n",
       "\n",
       "    .dataframe tbody tr th {\n",
       "        vertical-align: top;\n",
       "    }\n",
       "\n",
       "    .dataframe thead th {\n",
       "        text-align: right;\n",
       "    }\n",
       "</style>\n",
       "<table border=\"1\" class=\"dataframe\">\n",
       "  <thead>\n",
       "    <tr style=\"text-align: right;\">\n",
       "      <th></th>\n",
       "      <th>Unnamed: 0</th>\n",
       "      <th>sentence</th>\n",
       "      <th>s0_prompt</th>\n",
       "      <th>s0_to_eliminate</th>\n",
       "      <th>s0_reasoning</th>\n",
       "      <th>s0_v_prompt</th>\n",
       "      <th>s0_v_correctness</th>\n",
       "      <th>s0_v_reasoning</th>\n",
       "    </tr>\n",
       "  </thead>\n",
       "  <tbody>\n",
       "    <tr>\n",
       "      <th>0</th>\n",
       "      <td>1021</td>\n",
       "      <td>it is ``lld-link.exe`` or MSVC ``link.exe``) ...</td>\n",
       "      <td>\\nYou are an expert in analyzing and categoriz...</td>\n",
       "      <td>False</td>\n",
       "      <td>This content appears to be a technical explana...</td>\n",
       "      <td>\\nYou are a meticulous and expert evaluator of...</td>\n",
       "      <td>correct</td>\n",
       "      <td>The AI's output correctly identifies that the ...</td>\n",
       "    </tr>\n",
       "    <tr>\n",
       "      <th>1</th>\n",
       "      <td>5749</td>\n",
       "      <td>se are two valid expressions: ~~~ {.cpp} TMath...</td>\n",
       "      <td>\\nYou are an expert in analyzing and categoriz...</td>\n",
       "      <td>True</td>\n",
       "      <td>This content appears to be documentation or co...</td>\n",
       "      <td>\\nYou are a meticulous and expert evaluator of...</td>\n",
       "      <td>correct</td>\n",
       "      <td>The first AI was tasked with evaluating whethe...</td>\n",
       "    </tr>\n",
       "    <tr>\n",
       "      <th>2</th>\n",
       "      <td>4197</td>\n",
       "      <td>Test the multi-dimensional probability density...</td>\n",
       "      <td>\\nYou are an expert in analyzing and categoriz...</td>\n",
       "      <td>True</td>\n",
       "      <td>This content appears to be a set of configurat...</td>\n",
       "      <td>\\nYou are a meticulous and expert evaluator of...</td>\n",
       "      <td>correct</td>\n",
       "      <td>The first AI's output correctly eliminates the...</td>\n",
       "    </tr>\n",
       "    <tr>\n",
       "      <th>3</th>\n",
       "      <td>2861</td>\n",
       "      <td>heap-use-after-free in ~TTreeReader; After mer...</td>\n",
       "      <td>\\nYou are an expert in analyzing and categoriz...</td>\n",
       "      <td>True</td>\n",
       "      <td>This content appears to be a technical log or ...</td>\n",
       "      <td>\\nYou are a meticulous and expert evaluator of...</td>\n",
       "      <td>correct</td>\n",
       "      <td>The AI's output correctly identifies that the ...</td>\n",
       "    </tr>\n",
       "    <tr>\n",
       "      <th>4</th>\n",
       "      <td>3417</td>\n",
       "      <td>@pcanal - what's up with Jenkins? - Says it pa...</td>\n",
       "      <td>\\nYou are an expert in analyzing and categoriz...</td>\n",
       "      <td>False</td>\n",
       "      <td>This content appears to be a question posed by...</td>\n",
       "      <td>\\nYou are a meticulous and expert evaluator of...</td>\n",
       "      <td>correct</td>\n",
       "      <td>The first AI was tasked with evaluating whethe...</td>\n",
       "    </tr>\n",
       "  </tbody>\n",
       "</table>\n",
       "</div>"
      ]
     },
     "execution_count": 14,
     "metadata": {},
     "output_type": "execute_result"
    }
   ],
   "execution_count": 14
  },
  {
   "metadata": {
    "ExecuteTime": {
     "end_time": "2025-07-24T07:08:57.838585Z",
     "start_time": "2025-07-24T07:08:57.831632Z"
    }
   },
   "cell_type": "code",
   "source": "df.shape",
   "id": "1098eedf44f78738",
   "outputs": [
    {
     "data": {
      "text/plain": [
       "(384, 8)"
      ]
     },
     "execution_count": 15,
     "metadata": {},
     "output_type": "execute_result"
    }
   ],
   "execution_count": 15
  },
  {
   "metadata": {
    "ExecuteTime": {
     "end_time": "2025-07-24T07:22:36.094766Z",
     "start_time": "2025-07-24T07:22:36.087759Z"
    }
   },
   "cell_type": "code",
   "source": "df.groupby(\"s0_v_correctness\").size().rename(\"count\")",
   "id": "f9e7f2b912fbae57",
   "outputs": [
    {
     "data": {
      "text/plain": [
       "s0_v_correctness\n",
       "correct              348\n",
       "incorrect             25\n",
       "partially correct     11\n",
       "Name: count, dtype: int64"
      ]
     },
     "execution_count": 23,
     "metadata": {},
     "output_type": "execute_result"
    }
   ],
   "execution_count": 23
  },
  {
   "metadata": {
    "ExecuteTime": {
     "end_time": "2025-07-24T07:23:22.919170Z",
     "start_time": "2025-07-24T07:23:22.912172Z"
    }
   },
   "cell_type": "code",
   "source": "df.groupby(\"s0_v_correctness\").size().rename(\"percentage\") / df.shape[0] * 100",
   "id": "ff6c400856b00aa",
   "outputs": [
    {
     "data": {
      "text/plain": [
       "s0_v_correctness\n",
       "correct              90.625000\n",
       "incorrect             6.510417\n",
       "partially correct     2.864583\n",
       "Name: percentage, dtype: float64"
      ]
     },
     "execution_count": 25,
     "metadata": {},
     "output_type": "execute_result"
    }
   ],
   "execution_count": 25
  },
  {
   "metadata": {},
   "cell_type": "code",
   "outputs": [],
   "execution_count": null,
   "source": "",
   "id": "e046611dcf3045ec"
  }
 ],
 "metadata": {
  "kernelspec": {
   "display_name": "Python 3",
   "language": "python",
   "name": "python3"
  },
  "language_info": {
   "codemirror_mode": {
    "name": "ipython",
    "version": 2
   },
   "file_extension": ".py",
   "mimetype": "text/x-python",
   "name": "python",
   "nbconvert_exporter": "python",
   "pygments_lexer": "ipython2",
   "version": "2.7.6"
  }
 },
 "nbformat": 4,
 "nbformat_minor": 5
}

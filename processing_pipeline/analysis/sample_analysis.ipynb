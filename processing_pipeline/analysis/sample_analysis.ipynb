{
 "cells": [
  {
   "cell_type": "code",
   "id": "8d6593feb9904ca0",
   "metadata": {
    "ExecuteTime": {
     "end_time": "2025-08-19T22:49:56.828434Z",
     "start_time": "2025-08-19T22:49:55.569034Z"
    }
   },
   "source": [
    "from pathlib import Path\n",
    "\n",
    "from constants.abs_paths import AbsDirPath\n",
    "from processing_pipeline.model.CSVDFHandler import CSVDFHandler\n",
    "from processing_pipeline.utilities.data_transformation import load_all_files, load_all_csv_files"
   ],
   "outputs": [],
   "execution_count": 1
  },
  {
   "metadata": {},
   "cell_type": "markdown",
   "source": "# S0",
   "id": "e1fbe1b668ca0b89"
  },
  {
   "metadata": {
    "collapsed": true,
    "ExecuteTime": {
     "end_time": "2025-08-19T18:29:56.780545Z",
     "start_time": "2025-08-19T18:29:56.693891Z"
    }
   },
   "cell_type": "code",
   "source": [
    "df = CSVDFHandler().read_df(AbsDirPath.SAMPLES_VERIFIED / \"s0.csv\")\n",
    "# df = load_all_csv_files(AbsDirPath.SAMPLES_VERIFIED, name_contains=\"s0.part\")"
   ],
   "id": "initial_id",
   "outputs": [],
   "execution_count": 509
  },
  {
   "metadata": {
    "ExecuteTime": {
     "end_time": "2025-08-19T18:29:56.804913Z",
     "start_time": "2025-08-19T18:29:56.792519Z"
    }
   },
   "cell_type": "code",
   "source": "df.head()",
   "id": "72d5488d751c4f38",
   "outputs": [
    {
     "data": {
      "text/plain": [
       "   Unnamed: 0                                           sentence  \\\n",
       "0        2041  LoweringError: Failed in nopython mode pipelin...   \n",
       "1       12677  Compute the static offset of the ultimate dest...   \n",
       "2        2997  [WIP] Parallelise reading of sub-branches in T...   \n",
       "3       13110  Create a new node, and save it in the context ...   \n",
       "4        1397  e produces undefined behaviour because the sid...   \n",
       "\n",
       "                                           s0_prompt  s0_to_eliminate  \\\n",
       "0  \\nYou are an expert in analyzing and categoriz...             True   \n",
       "1  \\nYou are an expert in analyzing and categoriz...             True   \n",
       "2  \\nYou are an expert in analyzing and categoriz...            False   \n",
       "3  \\nYou are an expert in analyzing and categoriz...             True   \n",
       "4  \\nYou are an expert in analyzing and categoriz...            False   \n",
       "\n",
       "                                        s0_reasoning  \\\n",
       "0  This is an error message from a program. It co...   \n",
       "1  This appears to be a technical description rel...   \n",
       "2  This content is a commit message that explains...   \n",
       "3  This appears to be an instruction or comment a...   \n",
       "4  This content is primarily technical but contai...   \n",
       "\n",
       "                                         s0_v_prompt  \\\n",
       "0  Now, perform your your audit based on the data...   \n",
       "1  Now, perform your your audit based on the data...   \n",
       "2  Now, perform your your audit based on the data...   \n",
       "3  Now, perform your your audit based on the data...   \n",
       "4  Now, perform your your audit based on the data...   \n",
       "\n",
       "           s0_v_ground_truth_category s0_v_evaluation  \\\n",
       "0  Log File / Trace / Terminal Output         correct   \n",
       "1       Low-Level Implementation Note         correct   \n",
       "2           Interactive Communication         correct   \n",
       "3       Low-Level Implementation Note         correct   \n",
       "4      High-Level Instructional Guide         correct   \n",
       "\n",
       "                                      s0_v_reasoning  \n",
       "0  My verdict is correct because the ground truth...  \n",
       "1  My verdict is correct because the ground truth...  \n",
       "2  My verdict is correct because the ground truth...  \n",
       "3  My verdict is correct because the ground truth...  \n",
       "4  My verdict is correct because the ground truth...  "
      ],
      "text/html": [
       "<div>\n",
       "<style scoped>\n",
       "    .dataframe tbody tr th:only-of-type {\n",
       "        vertical-align: middle;\n",
       "    }\n",
       "\n",
       "    .dataframe tbody tr th {\n",
       "        vertical-align: top;\n",
       "    }\n",
       "\n",
       "    .dataframe thead th {\n",
       "        text-align: right;\n",
       "    }\n",
       "</style>\n",
       "<table border=\"1\" class=\"dataframe\">\n",
       "  <thead>\n",
       "    <tr style=\"text-align: right;\">\n",
       "      <th></th>\n",
       "      <th>Unnamed: 0</th>\n",
       "      <th>sentence</th>\n",
       "      <th>s0_prompt</th>\n",
       "      <th>s0_to_eliminate</th>\n",
       "      <th>s0_reasoning</th>\n",
       "      <th>s0_v_prompt</th>\n",
       "      <th>s0_v_ground_truth_category</th>\n",
       "      <th>s0_v_evaluation</th>\n",
       "      <th>s0_v_reasoning</th>\n",
       "    </tr>\n",
       "  </thead>\n",
       "  <tbody>\n",
       "    <tr>\n",
       "      <th>0</th>\n",
       "      <td>2041</td>\n",
       "      <td>LoweringError: Failed in nopython mode pipelin...</td>\n",
       "      <td>\\nYou are an expert in analyzing and categoriz...</td>\n",
       "      <td>True</td>\n",
       "      <td>This is an error message from a program. It co...</td>\n",
       "      <td>Now, perform your your audit based on the data...</td>\n",
       "      <td>Log File / Trace / Terminal Output</td>\n",
       "      <td>correct</td>\n",
       "      <td>My verdict is correct because the ground truth...</td>\n",
       "    </tr>\n",
       "    <tr>\n",
       "      <th>1</th>\n",
       "      <td>12677</td>\n",
       "      <td>Compute the static offset of the ultimate dest...</td>\n",
       "      <td>\\nYou are an expert in analyzing and categoriz...</td>\n",
       "      <td>True</td>\n",
       "      <td>This appears to be a technical description rel...</td>\n",
       "      <td>Now, perform your your audit based on the data...</td>\n",
       "      <td>Low-Level Implementation Note</td>\n",
       "      <td>correct</td>\n",
       "      <td>My verdict is correct because the ground truth...</td>\n",
       "    </tr>\n",
       "    <tr>\n",
       "      <th>2</th>\n",
       "      <td>2997</td>\n",
       "      <td>[WIP] Parallelise reading of sub-branches in T...</td>\n",
       "      <td>\\nYou are an expert in analyzing and categoriz...</td>\n",
       "      <td>False</td>\n",
       "      <td>This content is a commit message that explains...</td>\n",
       "      <td>Now, perform your your audit based on the data...</td>\n",
       "      <td>Interactive Communication</td>\n",
       "      <td>correct</td>\n",
       "      <td>My verdict is correct because the ground truth...</td>\n",
       "    </tr>\n",
       "    <tr>\n",
       "      <th>3</th>\n",
       "      <td>13110</td>\n",
       "      <td>Create a new node, and save it in the context ...</td>\n",
       "      <td>\\nYou are an expert in analyzing and categoriz...</td>\n",
       "      <td>True</td>\n",
       "      <td>This appears to be an instruction or comment a...</td>\n",
       "      <td>Now, perform your your audit based on the data...</td>\n",
       "      <td>Low-Level Implementation Note</td>\n",
       "      <td>correct</td>\n",
       "      <td>My verdict is correct because the ground truth...</td>\n",
       "    </tr>\n",
       "    <tr>\n",
       "      <th>4</th>\n",
       "      <td>1397</td>\n",
       "      <td>e produces undefined behaviour because the sid...</td>\n",
       "      <td>\\nYou are an expert in analyzing and categoriz...</td>\n",
       "      <td>False</td>\n",
       "      <td>This content is primarily technical but contai...</td>\n",
       "      <td>Now, perform your your audit based on the data...</td>\n",
       "      <td>High-Level Instructional Guide</td>\n",
       "      <td>correct</td>\n",
       "      <td>My verdict is correct because the ground truth...</td>\n",
       "    </tr>\n",
       "  </tbody>\n",
       "</table>\n",
       "</div>"
      ]
     },
     "execution_count": 510,
     "metadata": {},
     "output_type": "execute_result"
    }
   ],
   "execution_count": 510
  },
  {
   "metadata": {
    "ExecuteTime": {
     "end_time": "2025-08-19T18:29:56.883999Z",
     "start_time": "2025-08-19T18:29:56.878611Z"
    }
   },
   "cell_type": "code",
   "source": "df.shape",
   "id": "1098eedf44f78738",
   "outputs": [
    {
     "data": {
      "text/plain": [
       "(384, 9)"
      ]
     },
     "execution_count": 511,
     "metadata": {},
     "output_type": "execute_result"
    }
   ],
   "execution_count": 511
  },
  {
   "metadata": {
    "ExecuteTime": {
     "end_time": "2025-08-19T18:29:57.193429Z",
     "start_time": "2025-08-19T18:29:57.179075Z"
    }
   },
   "cell_type": "code",
   "source": "df.groupby(\"s0_v_evaluation\").size().rename(\"count\")",
   "id": "f9e7f2b912fbae57",
   "outputs": [
    {
     "data": {
      "text/plain": [
       "s0_v_evaluation\n",
       "correct      256\n",
       "incorrect    128\n",
       "Name: count, dtype: int64"
      ]
     },
     "execution_count": 512,
     "metadata": {},
     "output_type": "execute_result"
    }
   ],
   "execution_count": 512
  },
  {
   "metadata": {
    "ExecuteTime": {
     "end_time": "2025-08-19T18:29:57.429782Z",
     "start_time": "2025-08-19T18:29:57.422792Z"
    }
   },
   "cell_type": "code",
   "source": "df.groupby(\"s0_v_evaluation\").size().rename(\"percentage\") / df.shape[0] * 100",
   "id": "ff6c400856b00aa",
   "outputs": [
    {
     "data": {
      "text/plain": [
       "s0_v_evaluation\n",
       "correct      66.666667\n",
       "incorrect    33.333333\n",
       "Name: percentage, dtype: float64"
      ]
     },
     "execution_count": 513,
     "metadata": {},
     "output_type": "execute_result"
    }
   ],
   "execution_count": 513
  },
  {
   "metadata": {},
   "cell_type": "markdown",
   "source": "# S0_manual verification",
   "id": "2673027a31714775"
  },
  {
   "metadata": {
    "collapsed": true,
    "ExecuteTime": {
     "end_time": "2025-08-19T18:29:57.778860Z",
     "start_time": "2025-08-19T18:29:57.663515Z"
    }
   },
   "cell_type": "code",
   "source": "df = CSVDFHandler().read_df(AbsDirPath.SAMPLES_VERIFIED / \"s0_manual_ver.csv\")",
   "id": "a08f433a7eef857a",
   "outputs": [],
   "execution_count": 514
  },
  {
   "metadata": {
    "ExecuteTime": {
     "end_time": "2025-08-19T18:29:57.992663Z",
     "start_time": "2025-08-19T18:29:57.968785Z"
    }
   },
   "cell_type": "code",
   "source": "df.head()",
   "id": "82263a91f6fca84b",
   "outputs": [
    {
     "data": {
      "text/plain": [
       "   Unnamed: 0                                           sentence  \\\n",
       "0        2041  LoweringError: Failed in nopython mode pipelin...   \n",
       "1       12677  Compute the static offset of the ultimate dest...   \n",
       "2        2997  [WIP] Parallelise reading of sub-branches in T...   \n",
       "3       13110  Create a new node, and save it in the context ...   \n",
       "4        1397  e produces undefined behaviour because the sid...   \n",
       "\n",
       "                                           s0_prompt  s0_to_eliminate  \\\n",
       "0  \\nYou are an expert in analyzing and categoriz...             True   \n",
       "1  \\nYou are an expert in analyzing and categoriz...             True   \n",
       "2  \\nYou are an expert in analyzing and categoriz...            False   \n",
       "3  \\nYou are an expert in analyzing and categoriz...             True   \n",
       "4  \\nYou are an expert in analyzing and categoriz...            False   \n",
       "\n",
       "                                        s0_reasoning  dmitry_verify  \\\n",
       "0  This is an error message from a program. It co...              1   \n",
       "1  This appears to be a technical description rel...              1   \n",
       "2  This content is a commit message that explains...              1   \n",
       "3  This appears to be an instruction or comment a...              1   \n",
       "4  This content is primarily technical but contai...              1   \n",
       "\n",
       "                                         s0_v_prompt  \\\n",
       "0  Now, perform your your audit based on the data...   \n",
       "1  Now, perform your your audit based on the data...   \n",
       "2  Now, perform your your audit based on the data...   \n",
       "3  Now, perform your your audit based on the data...   \n",
       "4  Now, perform your your audit based on the data...   \n",
       "\n",
       "           s0_v_ground_truth_category s0_v_evaluation  \\\n",
       "0  Log File / Trace / Terminal Output         correct   \n",
       "1       Low-Level Implementation Note         correct   \n",
       "2           Interactive Communication         correct   \n",
       "3       Low-Level Implementation Note         correct   \n",
       "4      High-Level Instructional Guide         correct   \n",
       "\n",
       "                                      s0_v_reasoning  \n",
       "0  My verdict is correct because the ground truth...  \n",
       "1  My verdict is correct because the ground truth...  \n",
       "2  My verdict is correct because the ground truth...  \n",
       "3  My verdict is correct because the ground truth...  \n",
       "4  My verdict is correct because the ground truth...  "
      ],
      "text/html": [
       "<div>\n",
       "<style scoped>\n",
       "    .dataframe tbody tr th:only-of-type {\n",
       "        vertical-align: middle;\n",
       "    }\n",
       "\n",
       "    .dataframe tbody tr th {\n",
       "        vertical-align: top;\n",
       "    }\n",
       "\n",
       "    .dataframe thead th {\n",
       "        text-align: right;\n",
       "    }\n",
       "</style>\n",
       "<table border=\"1\" class=\"dataframe\">\n",
       "  <thead>\n",
       "    <tr style=\"text-align: right;\">\n",
       "      <th></th>\n",
       "      <th>Unnamed: 0</th>\n",
       "      <th>sentence</th>\n",
       "      <th>s0_prompt</th>\n",
       "      <th>s0_to_eliminate</th>\n",
       "      <th>s0_reasoning</th>\n",
       "      <th>dmitry_verify</th>\n",
       "      <th>s0_v_prompt</th>\n",
       "      <th>s0_v_ground_truth_category</th>\n",
       "      <th>s0_v_evaluation</th>\n",
       "      <th>s0_v_reasoning</th>\n",
       "    </tr>\n",
       "  </thead>\n",
       "  <tbody>\n",
       "    <tr>\n",
       "      <th>0</th>\n",
       "      <td>2041</td>\n",
       "      <td>LoweringError: Failed in nopython mode pipelin...</td>\n",
       "      <td>\\nYou are an expert in analyzing and categoriz...</td>\n",
       "      <td>True</td>\n",
       "      <td>This is an error message from a program. It co...</td>\n",
       "      <td>1</td>\n",
       "      <td>Now, perform your your audit based on the data...</td>\n",
       "      <td>Log File / Trace / Terminal Output</td>\n",
       "      <td>correct</td>\n",
       "      <td>My verdict is correct because the ground truth...</td>\n",
       "    </tr>\n",
       "    <tr>\n",
       "      <th>1</th>\n",
       "      <td>12677</td>\n",
       "      <td>Compute the static offset of the ultimate dest...</td>\n",
       "      <td>\\nYou are an expert in analyzing and categoriz...</td>\n",
       "      <td>True</td>\n",
       "      <td>This appears to be a technical description rel...</td>\n",
       "      <td>1</td>\n",
       "      <td>Now, perform your your audit based on the data...</td>\n",
       "      <td>Low-Level Implementation Note</td>\n",
       "      <td>correct</td>\n",
       "      <td>My verdict is correct because the ground truth...</td>\n",
       "    </tr>\n",
       "    <tr>\n",
       "      <th>2</th>\n",
       "      <td>2997</td>\n",
       "      <td>[WIP] Parallelise reading of sub-branches in T...</td>\n",
       "      <td>\\nYou are an expert in analyzing and categoriz...</td>\n",
       "      <td>False</td>\n",
       "      <td>This content is a commit message that explains...</td>\n",
       "      <td>1</td>\n",
       "      <td>Now, perform your your audit based on the data...</td>\n",
       "      <td>Interactive Communication</td>\n",
       "      <td>correct</td>\n",
       "      <td>My verdict is correct because the ground truth...</td>\n",
       "    </tr>\n",
       "    <tr>\n",
       "      <th>3</th>\n",
       "      <td>13110</td>\n",
       "      <td>Create a new node, and save it in the context ...</td>\n",
       "      <td>\\nYou are an expert in analyzing and categoriz...</td>\n",
       "      <td>True</td>\n",
       "      <td>This appears to be an instruction or comment a...</td>\n",
       "      <td>1</td>\n",
       "      <td>Now, perform your your audit based on the data...</td>\n",
       "      <td>Low-Level Implementation Note</td>\n",
       "      <td>correct</td>\n",
       "      <td>My verdict is correct because the ground truth...</td>\n",
       "    </tr>\n",
       "    <tr>\n",
       "      <th>4</th>\n",
       "      <td>1397</td>\n",
       "      <td>e produces undefined behaviour because the sid...</td>\n",
       "      <td>\\nYou are an expert in analyzing and categoriz...</td>\n",
       "      <td>False</td>\n",
       "      <td>This content is primarily technical but contai...</td>\n",
       "      <td>1</td>\n",
       "      <td>Now, perform your your audit based on the data...</td>\n",
       "      <td>High-Level Instructional Guide</td>\n",
       "      <td>correct</td>\n",
       "      <td>My verdict is correct because the ground truth...</td>\n",
       "    </tr>\n",
       "  </tbody>\n",
       "</table>\n",
       "</div>"
      ]
     },
     "execution_count": 515,
     "metadata": {},
     "output_type": "execute_result"
    }
   ],
   "execution_count": 515
  },
  {
   "metadata": {
    "ExecuteTime": {
     "end_time": "2025-08-19T18:29:58.256625Z",
     "start_time": "2025-08-19T18:29:58.249383Z"
    }
   },
   "cell_type": "code",
   "source": "df.shape",
   "id": "8c380b8e76e2be7a",
   "outputs": [
    {
     "data": {
      "text/plain": [
       "(384, 10)"
      ]
     },
     "execution_count": 516,
     "metadata": {},
     "output_type": "execute_result"
    }
   ],
   "execution_count": 516
  },
  {
   "metadata": {
    "ExecuteTime": {
     "end_time": "2025-08-19T18:29:58.516920Z",
     "start_time": "2025-08-19T18:29:58.511992Z"
    }
   },
   "cell_type": "code",
   "source": "df.dmitry_approves = df.dmitry_approves.astype(bool)",
   "id": "a0b748ccf788cc6e",
   "outputs": [],
   "execution_count": 517
  },
  {
   "metadata": {
    "ExecuteTime": {
     "end_time": "2025-08-19T18:29:58.775648Z",
     "start_time": "2025-08-19T18:29:58.759701Z"
    }
   },
   "cell_type": "code",
   "source": "df.groupby(\"dmitry_approves\").size().rename(\"count\")",
   "id": "9fb1b7ec4694e02c",
   "outputs": [
    {
     "data": {
      "text/plain": [
       "dmitry_verify\n",
       "False     74\n",
       "True     310\n",
       "Name: count, dtype: int64"
      ]
     },
     "execution_count": 518,
     "metadata": {},
     "output_type": "execute_result"
    }
   ],
   "execution_count": 518
  },
  {
   "metadata": {
    "ExecuteTime": {
     "end_time": "2025-08-19T18:29:58.971952Z",
     "start_time": "2025-08-19T18:29:58.961463Z"
    }
   },
   "cell_type": "code",
   "source": "df.groupby(\"dmitry_approves\").size().rename(\"percentage\") / df.shape[0] * 100",
   "id": "f9127e0a98f7b114",
   "outputs": [
    {
     "data": {
      "text/plain": [
       "dmitry_verify\n",
       "False    19.270833\n",
       "True     80.729167\n",
       "Name: percentage, dtype: float64"
      ]
     },
     "execution_count": 519,
     "metadata": {},
     "output_type": "execute_result"
    }
   ],
   "execution_count": 519
  },
  {
   "metadata": {
    "ExecuteTime": {
     "end_time": "2025-08-19T18:29:59.217239Z",
     "start_time": "2025-08-19T18:29:59.193568Z"
    }
   },
   "cell_type": "code",
   "source": "df.groupby([\"dmitry_approves\", \"s0_v_evaluation\"]).size().rename(\"count\")",
   "id": "2d50ef3f53941f10",
   "outputs": [
    {
     "data": {
      "text/plain": [
       "dmitry_verify  s0_v_evaluation\n",
       "False          correct             12\n",
       "               incorrect           62\n",
       "True           correct            244\n",
       "               incorrect           66\n",
       "Name: count, dtype: int64"
      ]
     },
     "execution_count": 520,
     "metadata": {},
     "output_type": "execute_result"
    }
   ],
   "execution_count": 520
  },
  {
   "metadata": {},
   "cell_type": "markdown",
   "source": "# S1",
   "id": "4f0ce7b2864e8259"
  },
  {
   "metadata": {
    "collapsed": true,
    "ExecuteTime": {
     "end_time": "2025-08-19T18:29:59.708271Z",
     "start_time": "2025-08-19T18:29:59.610534Z"
    }
   },
   "cell_type": "code",
   "source": "df = CSVDFHandler().read_df(AbsDirPath.SAMPLES_VERIFIED / \"s1.csv\")",
   "id": "14de1981e612fade",
   "outputs": [],
   "execution_count": 521
  },
  {
   "metadata": {
    "ExecuteTime": {
     "end_time": "2025-08-19T18:29:59.862151Z",
     "start_time": "2025-08-19T18:29:59.841616Z"
    }
   },
   "cell_type": "code",
   "source": "df.head()",
   "id": "69502393758b69ea",
   "outputs": [
    {
     "data": {
      "text/plain": [
       "   Unnamed: 0                qa  \\\n",
       "0           8     deployability   \n",
       "1          36      availability   \n",
       "2         725     deployability   \n",
       "3         328  interoperability   \n",
       "4          54     deployability   \n",
       "\n",
       "                                            sentence  \\\n",
       "0  Patch release of v6.26 series. [:spiral_notepa...   \n",
       "1  Shuffle script for training runs out of memory...   \n",
       "2  Receive message from a socket. This standalone...   \n",
       "3  tegration region is divided into subintervals,...   \n",
       "4  @sawenzel I get your point about thread safety...   \n",
       "\n",
       "                                           s1_prompt  \\\n",
       "0  \\r\\n### Data for Evaluation\\r\\n\\r\\n**1. Qualit...   \n",
       "1  \\r\\n### Data for Evaluation\\r\\n\\r\\n**1. Qualit...   \n",
       "2  \\r\\n### Data for Evaluation\\r\\n\\r\\n**1. Qualit...   \n",
       "3  \\r\\n### Data for Evaluation\\r\\n\\r\\n**1. Qualit...   \n",
       "4  \\r\\n### Data for Evaluation\\r\\n\\r\\n**1. Qualit...   \n",
       "\n",
       "                     s1_analysis_problem_vs_solution  \\\n",
       "0  The text is describing a release process and p...   \n",
       "1  The text describes a problem related to memory...   \n",
       "2  The text describes a problem related to how th...   \n",
       "3  The text describes a mechanism for handling in...   \n",
       "4  The text is primarily discussing issues relate...   \n",
       "\n",
       "                    s1_analysis_mechanism_vs_feature  \\\n",
       "0  This describes a functional feature (a patch r...   \n",
       "1  Yes, it is describing a **problem** rather tha...   \n",
       "2  Yes, it is describing a specific implementatio...   \n",
       "3  This is describing an architectural mechanism ...   \n",
       "4  It mentions clang-formatting using ROOT style ...   \n",
       "\n",
       "                             s1_analysis_causal_link  \\\n",
       "0  The causal link between the described action a...   \n",
       "1  The link between the problem and the quality a...   \n",
       "2  The link between the problem and the quality a...   \n",
       "3  The text explicitly links the mechanism (`gsl_...   \n",
       "4  The causal link between these elements and dep...   \n",
       "\n",
       "                            s1_analysis_rubric_check  s1_true_positive  \\\n",
       "0  The content does not mention any specific mech...             False   \n",
       "1  This mechanism does not match the inclusion cr...             False   \n",
       "2  This mechanism (the specific implementation pa...              True   \n",
       "3  The rubric for interoperability requires excha...              True   \n",
       "4  The rubric inclusion criteria require explicit...             False   \n",
       "\n",
       "                                        s1_reasoning  \\\n",
       "0  The text does not describe an architectural me...   \n",
       "1  The analysis concludes that this text describe...   \n",
       "2  The text identifies a problem in how the funct...   \n",
       "3  The text describes an architectural mechanism ...   \n",
       "4  The text does not provide concrete evidence of...   \n",
       "\n",
       "                                         s1_v_prompt  \\\n",
       "0  Now, perform your your audit based on the data...   \n",
       "1  Now, perform your your audit based on the data...   \n",
       "2  Now, perform your your audit based on the data...   \n",
       "3  Now, perform your your audit based on the data...   \n",
       "4  Now, perform your your audit based on the data...   \n",
       "\n",
       "   s1_v_is_executor_reasoning_valid s1_v_evaluation  \\\n",
       "0                              True         correct   \n",
       "1                             False       incorrect   \n",
       "2                              True         correct   \n",
       "3                              True         correct   \n",
       "4                              True       incorrect   \n",
       "\n",
       "                                      s1_v_reasoning  \n",
       "0  The executor's reasoning was valid because the...  \n",
       "1  The executor's reasoning was invalid because i...  \n",
       "2  The executor's reasoning was valid because the...  \n",
       "3  The user's query is about a programming proble...  \n",
       "4  The text does not contain any specific mechani...  "
      ],
      "text/html": [
       "<div>\n",
       "<style scoped>\n",
       "    .dataframe tbody tr th:only-of-type {\n",
       "        vertical-align: middle;\n",
       "    }\n",
       "\n",
       "    .dataframe tbody tr th {\n",
       "        vertical-align: top;\n",
       "    }\n",
       "\n",
       "    .dataframe thead th {\n",
       "        text-align: right;\n",
       "    }\n",
       "</style>\n",
       "<table border=\"1\" class=\"dataframe\">\n",
       "  <thead>\n",
       "    <tr style=\"text-align: right;\">\n",
       "      <th></th>\n",
       "      <th>Unnamed: 0</th>\n",
       "      <th>qa</th>\n",
       "      <th>sentence</th>\n",
       "      <th>s1_prompt</th>\n",
       "      <th>s1_analysis_problem_vs_solution</th>\n",
       "      <th>s1_analysis_mechanism_vs_feature</th>\n",
       "      <th>s1_analysis_causal_link</th>\n",
       "      <th>s1_analysis_rubric_check</th>\n",
       "      <th>s1_true_positive</th>\n",
       "      <th>s1_reasoning</th>\n",
       "      <th>s1_v_prompt</th>\n",
       "      <th>s1_v_is_executor_reasoning_valid</th>\n",
       "      <th>s1_v_evaluation</th>\n",
       "      <th>s1_v_reasoning</th>\n",
       "    </tr>\n",
       "  </thead>\n",
       "  <tbody>\n",
       "    <tr>\n",
       "      <th>0</th>\n",
       "      <td>8</td>\n",
       "      <td>deployability</td>\n",
       "      <td>Patch release of v6.26 series. [:spiral_notepa...</td>\n",
       "      <td>\\r\\n### Data for Evaluation\\r\\n\\r\\n**1. Qualit...</td>\n",
       "      <td>The text is describing a release process and p...</td>\n",
       "      <td>This describes a functional feature (a patch r...</td>\n",
       "      <td>The causal link between the described action a...</td>\n",
       "      <td>The content does not mention any specific mech...</td>\n",
       "      <td>False</td>\n",
       "      <td>The text does not describe an architectural me...</td>\n",
       "      <td>Now, perform your your audit based on the data...</td>\n",
       "      <td>True</td>\n",
       "      <td>correct</td>\n",
       "      <td>The executor's reasoning was valid because the...</td>\n",
       "    </tr>\n",
       "    <tr>\n",
       "      <th>1</th>\n",
       "      <td>36</td>\n",
       "      <td>availability</td>\n",
       "      <td>Shuffle script for training runs out of memory...</td>\n",
       "      <td>\\r\\n### Data for Evaluation\\r\\n\\r\\n**1. Qualit...</td>\n",
       "      <td>The text describes a problem related to memory...</td>\n",
       "      <td>Yes, it is describing a **problem** rather tha...</td>\n",
       "      <td>The link between the problem and the quality a...</td>\n",
       "      <td>This mechanism does not match the inclusion cr...</td>\n",
       "      <td>False</td>\n",
       "      <td>The analysis concludes that this text describe...</td>\n",
       "      <td>Now, perform your your audit based on the data...</td>\n",
       "      <td>False</td>\n",
       "      <td>incorrect</td>\n",
       "      <td>The executor's reasoning was invalid because i...</td>\n",
       "    </tr>\n",
       "    <tr>\n",
       "      <th>2</th>\n",
       "      <td>725</td>\n",
       "      <td>deployability</td>\n",
       "      <td>Receive message from a socket. This standalone...</td>\n",
       "      <td>\\r\\n### Data for Evaluation\\r\\n\\r\\n**1. Qualit...</td>\n",
       "      <td>The text describes a problem related to how th...</td>\n",
       "      <td>Yes, it is describing a specific implementatio...</td>\n",
       "      <td>The link between the problem and the quality a...</td>\n",
       "      <td>This mechanism (the specific implementation pa...</td>\n",
       "      <td>True</td>\n",
       "      <td>The text identifies a problem in how the funct...</td>\n",
       "      <td>Now, perform your your audit based on the data...</td>\n",
       "      <td>True</td>\n",
       "      <td>correct</td>\n",
       "      <td>The executor's reasoning was valid because the...</td>\n",
       "    </tr>\n",
       "    <tr>\n",
       "      <th>3</th>\n",
       "      <td>328</td>\n",
       "      <td>interoperability</td>\n",
       "      <td>tegration region is divided into subintervals,...</td>\n",
       "      <td>\\r\\n### Data for Evaluation\\r\\n\\r\\n**1. Qualit...</td>\n",
       "      <td>The text describes a mechanism for handling in...</td>\n",
       "      <td>This is describing an architectural mechanism ...</td>\n",
       "      <td>The text explicitly links the mechanism (`gsl_...</td>\n",
       "      <td>The rubric for interoperability requires excha...</td>\n",
       "      <td>True</td>\n",
       "      <td>The text describes an architectural mechanism ...</td>\n",
       "      <td>Now, perform your your audit based on the data...</td>\n",
       "      <td>True</td>\n",
       "      <td>correct</td>\n",
       "      <td>The user's query is about a programming proble...</td>\n",
       "    </tr>\n",
       "    <tr>\n",
       "      <th>4</th>\n",
       "      <td>54</td>\n",
       "      <td>deployability</td>\n",
       "      <td>@sawenzel I get your point about thread safety...</td>\n",
       "      <td>\\r\\n### Data for Evaluation\\r\\n\\r\\n**1. Qualit...</td>\n",
       "      <td>The text is primarily discussing issues relate...</td>\n",
       "      <td>It mentions clang-formatting using ROOT style ...</td>\n",
       "      <td>The causal link between these elements and dep...</td>\n",
       "      <td>The rubric inclusion criteria require explicit...</td>\n",
       "      <td>False</td>\n",
       "      <td>The text does not provide concrete evidence of...</td>\n",
       "      <td>Now, perform your your audit based on the data...</td>\n",
       "      <td>True</td>\n",
       "      <td>incorrect</td>\n",
       "      <td>The text does not contain any specific mechani...</td>\n",
       "    </tr>\n",
       "  </tbody>\n",
       "</table>\n",
       "</div>"
      ]
     },
     "execution_count": 522,
     "metadata": {},
     "output_type": "execute_result"
    }
   ],
   "execution_count": 522
  },
  {
   "metadata": {
    "ExecuteTime": {
     "end_time": "2025-08-19T18:30:00.075441Z",
     "start_time": "2025-08-19T18:30:00.067059Z"
    }
   },
   "cell_type": "code",
   "source": "df.shape",
   "id": "45ecb0c3a443f3c8",
   "outputs": [
    {
     "data": {
      "text/plain": [
       "(384, 14)"
      ]
     },
     "execution_count": 523,
     "metadata": {},
     "output_type": "execute_result"
    }
   ],
   "execution_count": 523
  },
  {
   "metadata": {
    "ExecuteTime": {
     "end_time": "2025-08-19T18:30:00.295547Z",
     "start_time": "2025-08-19T18:30:00.279233Z"
    }
   },
   "cell_type": "code",
   "source": "df.groupby(\"s1_v_evaluation\").size().rename(\"percentage\") / df.shape[0] * 100",
   "id": "5007ff4d3988ff51",
   "outputs": [
    {
     "data": {
      "text/plain": [
       "s1_v_evaluation\n",
       "correct      78.90625\n",
       "incorrect    21.09375\n",
       "Name: percentage, dtype: float64"
      ]
     },
     "execution_count": 524,
     "metadata": {},
     "output_type": "execute_result"
    }
   ],
   "execution_count": 524
  },
  {
   "metadata": {
    "ExecuteTime": {
     "end_time": "2025-08-19T18:30:00.581466Z",
     "start_time": "2025-08-19T18:30:00.572398Z"
    }
   },
   "cell_type": "code",
   "source": "df.groupby(\"s1_v_evaluation\").size().rename(\"count\")",
   "id": "29f4ab7f7a30705",
   "outputs": [
    {
     "data": {
      "text/plain": [
       "s1_v_evaluation\n",
       "correct      303\n",
       "incorrect     81\n",
       "Name: count, dtype: int64"
      ]
     },
     "execution_count": 525,
     "metadata": {},
     "output_type": "execute_result"
    }
   ],
   "execution_count": 525
  },
  {
   "metadata": {
    "ExecuteTime": {
     "end_time": "2025-08-19T18:30:00.826372Z",
     "start_time": "2025-08-19T18:30:00.802620Z"
    }
   },
   "cell_type": "code",
   "source": "df.groupby(\"s1_v_evaluation\").get_group(\"incorrect\")",
   "id": "68b3c0c48c3b92ca",
   "outputs": [
    {
     "data": {
      "text/plain": [
       "     Unnamed: 0             qa  \\\n",
       "1            36   availability   \n",
       "4            54  deployability   \n",
       "5           336   availability   \n",
       "8           316  deployability   \n",
       "10            3   availability   \n",
       "..          ...            ...   \n",
       "360         301      usability   \n",
       "361         731  deployability   \n",
       "362         965   availability   \n",
       "365         351  integrability   \n",
       "372         722      usability   \n",
       "\n",
       "                                              sentence  \\\n",
       "1    Shuffle script for training runs out of memory...   \n",
       "4    @sawenzel I get your point about thread safety...   \n",
       "5    Hello @gunjanbaid , sorry for not replying soo...   \n",
       "8    > So, would the error still be there if you ch...   \n",
       "10      turned out that there was an error on my side.   \n",
       "..                                                 ...   \n",
       "360  Slot called whenever the stats fill style is m...   \n",
       "361  Build only one PyROOT if PYTHON_EXECUTABLE or ...   \n",
       "362  Reimplement TGraph::Sort using std::stable_sor...   \n",
       "365  I think Arial was set as default as it's requi...   \n",
       "372  jsroot: better grouping for context menus; Whi...   \n",
       "\n",
       "                                             s1_prompt  \\\n",
       "1    \\r\\n### Data for Evaluation\\r\\n\\r\\n**1. Qualit...   \n",
       "4    \\r\\n### Data for Evaluation\\r\\n\\r\\n**1. Qualit...   \n",
       "5    \\r\\n### Data for Evaluation\\r\\n\\r\\n**1. Qualit...   \n",
       "8    \\r\\n### Data for Evaluation\\r\\n\\r\\n**1. Qualit...   \n",
       "10   \\r\\n### Data for Evaluation\\r\\n\\r\\n**1. Qualit...   \n",
       "..                                                 ...   \n",
       "360  \\r\\n### Data for Evaluation\\r\\n\\r\\n**1. Qualit...   \n",
       "361  \\r\\n### Data for Evaluation\\r\\n\\r\\n**1. Qualit...   \n",
       "362  \\r\\n### Data for Evaluation\\r\\n\\r\\n**1. Qualit...   \n",
       "365  \\r\\n### Data for Evaluation\\r\\n\\r\\n**1. Qualit...   \n",
       "372  \\r\\n### Data for Evaluation\\r\\n\\r\\n**1. Qualit...   \n",
       "\n",
       "                       s1_analysis_problem_vs_solution  \\\n",
       "1    The text describes a problem related to memory...   \n",
       "4    The text is primarily discussing issues relate...   \n",
       "5    The text does not describe a problem or soluti...   \n",
       "8    The text discusses whether changing an example...   \n",
       "10   The text describes a user's own mistake or mis...   \n",
       "..                                                 ...   \n",
       "360  The text does not present a bug or issue but d...   \n",
       "361  The text does not describe a solution but rath...   \n",
       "362  The text discusses reimplementing a function a...   \n",
       "365  The text is describing a problem (a user error...   \n",
       "372  The text discusses a feature (jsroot) and its ...   \n",
       "\n",
       "                      s1_analysis_mechanism_vs_feature  \\\n",
       "1    Yes, it is describing a **problem** rather tha...   \n",
       "4    It mentions clang-formatting using ROOT style ...   \n",
       "5    It is a feature of the BAM file processing mec...   \n",
       "8    This is a feature because it describes what ha...   \n",
       "10   This statement is about an error, so it doesn'...   \n",
       "..                                                 ...   \n",
       "360  It describes a specific feature (slot call) th...   \n",
       "361  No, it's not describing a mechanism. It's more...   \n",
       "362  This is a feature because it describes the imp...   \n",
       "365  Yes, this describes a solution (a mechanism). ...   \n",
       "372  Yes, it describes an architectural mechanism b...   \n",
       "\n",
       "                               s1_analysis_causal_link  \\\n",
       "1    The link between the problem and the quality a...   \n",
       "4    The causal link between these elements and dep...   \n",
       "5    There is no direct causal link between the BAM...   \n",
       "8    The link between the problem of ordering or de...   \n",
       "10   There's no causal link to an availability mech...   \n",
       "..                                                 ...   \n",
       "360  The link between the slot call and the stats f...   \n",
       "361  The link between the problem (missing configur...   \n",
       "362  The link between the changes and the problem i...   \n",
       "365  The link between the setting and the problem i...   \n",
       "372  The link between the implementation of jsroot ...   \n",
       "\n",
       "                              s1_analysis_rubric_check  s1_true_positive  \\\n",
       "1    This mechanism does not match the inclusion cr...             False   \n",
       "4    The rubric inclusion criteria require explicit...             False   \n",
       "5    The described mechanism matches the inclusion ...              True   \n",
       "8    This mechanism (static object initialization) ...              True   \n",
       "10   The content does not describe any inclusion cr...             False   \n",
       "..                                                 ...               ...   \n",
       "360  This mechanism (slot calls) aligns with the us...              True   \n",
       "361  This mechanism matches the inclusion criteria ...             False   \n",
       "362  This mechanism (reimplementing TGraph::Sort) m...              True   \n",
       "365  This mechanism (the default settings) aligns w...              True   \n",
       "372  This matches the definition of usability as it...              True   \n",
       "\n",
       "                                          s1_reasoning  \\\n",
       "1    The analysis concludes that this text describe...   \n",
       "4    The text does not provide concrete evidence of...   \n",
       "5    The text describes a BAM file processing mecha...   \n",
       "8    The analysis identifies that the problem lies ...   \n",
       "10   This text snippet is describing a system probl...   \n",
       "..                                                 ...   \n",
       "360  The text describes a specific feature (slot ca...   \n",
       "361  The analysis concludes that this is not a true...   \n",
       "362  The text describes an architectural feature (i...   \n",
       "365  The text identifies a problem (user error in m...   \n",
       "372  The analysis concludes that the text describes...   \n",
       "\n",
       "                                           s1_v_prompt  \\\n",
       "1    Now, perform your your audit based on the data...   \n",
       "4    Now, perform your your audit based on the data...   \n",
       "5    Now, perform your your audit based on the data...   \n",
       "8    Now, perform your your audit based on the data...   \n",
       "10   Now, perform your your audit based on the data...   \n",
       "..                                                 ...   \n",
       "360  Now, perform your your audit based on the data...   \n",
       "361  Now, perform your your audit based on the data...   \n",
       "362  Now, perform your your audit based on the data...   \n",
       "365  Now, perform your your audit based on the data...   \n",
       "372  Now, perform your your audit based on the data...   \n",
       "\n",
       "     s1_v_is_executor_reasoning_valid s1_v_evaluation  \\\n",
       "1                               False       incorrect   \n",
       "4                                True       incorrect   \n",
       "5                               False       incorrect   \n",
       "8                               False       incorrect   \n",
       "10                              False       incorrect   \n",
       "..                                ...             ...   \n",
       "360                             False       incorrect   \n",
       "361                             False       incorrect   \n",
       "362                             False       incorrect   \n",
       "365                             False       incorrect   \n",
       "372                             False       incorrect   \n",
       "\n",
       "                                        s1_v_reasoning  \n",
       "1    The executor's reasoning was invalid because i...  \n",
       "4    The text does not contain any specific mechani...  \n",
       "5    The executor's reasoning was invalid because i...  \n",
       "8    The executor incorrectly classified an issue w...  \n",
       "10   The content does not contain any code or speci...  \n",
       "..                                                 ...  \n",
       "360  The executor's reasoning was invalid because i...  \n",
       "361  The executor's reasoning was invalid because i...  \n",
       "362  The executor's reasoning was invalid because t...  \n",
       "365  The executor incorrectly classified a user err...  \n",
       "372  The executor's reasoning was invalid because i...  \n",
       "\n",
       "[81 rows x 14 columns]"
      ],
      "text/html": [
       "<div>\n",
       "<style scoped>\n",
       "    .dataframe tbody tr th:only-of-type {\n",
       "        vertical-align: middle;\n",
       "    }\n",
       "\n",
       "    .dataframe tbody tr th {\n",
       "        vertical-align: top;\n",
       "    }\n",
       "\n",
       "    .dataframe thead th {\n",
       "        text-align: right;\n",
       "    }\n",
       "</style>\n",
       "<table border=\"1\" class=\"dataframe\">\n",
       "  <thead>\n",
       "    <tr style=\"text-align: right;\">\n",
       "      <th></th>\n",
       "      <th>Unnamed: 0</th>\n",
       "      <th>qa</th>\n",
       "      <th>sentence</th>\n",
       "      <th>s1_prompt</th>\n",
       "      <th>s1_analysis_problem_vs_solution</th>\n",
       "      <th>s1_analysis_mechanism_vs_feature</th>\n",
       "      <th>s1_analysis_causal_link</th>\n",
       "      <th>s1_analysis_rubric_check</th>\n",
       "      <th>s1_true_positive</th>\n",
       "      <th>s1_reasoning</th>\n",
       "      <th>s1_v_prompt</th>\n",
       "      <th>s1_v_is_executor_reasoning_valid</th>\n",
       "      <th>s1_v_evaluation</th>\n",
       "      <th>s1_v_reasoning</th>\n",
       "    </tr>\n",
       "  </thead>\n",
       "  <tbody>\n",
       "    <tr>\n",
       "      <th>1</th>\n",
       "      <td>36</td>\n",
       "      <td>availability</td>\n",
       "      <td>Shuffle script for training runs out of memory...</td>\n",
       "      <td>\\r\\n### Data for Evaluation\\r\\n\\r\\n**1. Qualit...</td>\n",
       "      <td>The text describes a problem related to memory...</td>\n",
       "      <td>Yes, it is describing a **problem** rather tha...</td>\n",
       "      <td>The link between the problem and the quality a...</td>\n",
       "      <td>This mechanism does not match the inclusion cr...</td>\n",
       "      <td>False</td>\n",
       "      <td>The analysis concludes that this text describe...</td>\n",
       "      <td>Now, perform your your audit based on the data...</td>\n",
       "      <td>False</td>\n",
       "      <td>incorrect</td>\n",
       "      <td>The executor's reasoning was invalid because i...</td>\n",
       "    </tr>\n",
       "    <tr>\n",
       "      <th>4</th>\n",
       "      <td>54</td>\n",
       "      <td>deployability</td>\n",
       "      <td>@sawenzel I get your point about thread safety...</td>\n",
       "      <td>\\r\\n### Data for Evaluation\\r\\n\\r\\n**1. Qualit...</td>\n",
       "      <td>The text is primarily discussing issues relate...</td>\n",
       "      <td>It mentions clang-formatting using ROOT style ...</td>\n",
       "      <td>The causal link between these elements and dep...</td>\n",
       "      <td>The rubric inclusion criteria require explicit...</td>\n",
       "      <td>False</td>\n",
       "      <td>The text does not provide concrete evidence of...</td>\n",
       "      <td>Now, perform your your audit based on the data...</td>\n",
       "      <td>True</td>\n",
       "      <td>incorrect</td>\n",
       "      <td>The text does not contain any specific mechani...</td>\n",
       "    </tr>\n",
       "    <tr>\n",
       "      <th>5</th>\n",
       "      <td>336</td>\n",
       "      <td>availability</td>\n",
       "      <td>Hello @gunjanbaid , sorry for not replying soo...</td>\n",
       "      <td>\\r\\n### Data for Evaluation\\r\\n\\r\\n**1. Qualit...</td>\n",
       "      <td>The text does not describe a problem or soluti...</td>\n",
       "      <td>It is a feature of the BAM file processing mec...</td>\n",
       "      <td>There is no direct causal link between the BAM...</td>\n",
       "      <td>The described mechanism matches the inclusion ...</td>\n",
       "      <td>True</td>\n",
       "      <td>The text describes a BAM file processing mecha...</td>\n",
       "      <td>Now, perform your your audit based on the data...</td>\n",
       "      <td>False</td>\n",
       "      <td>incorrect</td>\n",
       "      <td>The executor's reasoning was invalid because i...</td>\n",
       "    </tr>\n",
       "    <tr>\n",
       "      <th>8</th>\n",
       "      <td>316</td>\n",
       "      <td>deployability</td>\n",
       "      <td>&gt; So, would the error still be there if you ch...</td>\n",
       "      <td>\\r\\n### Data for Evaluation\\r\\n\\r\\n**1. Qualit...</td>\n",
       "      <td>The text discusses whether changing an example...</td>\n",
       "      <td>This is a feature because it describes what ha...</td>\n",
       "      <td>The link between the problem of ordering or de...</td>\n",
       "      <td>This mechanism (static object initialization) ...</td>\n",
       "      <td>True</td>\n",
       "      <td>The analysis identifies that the problem lies ...</td>\n",
       "      <td>Now, perform your your audit based on the data...</td>\n",
       "      <td>False</td>\n",
       "      <td>incorrect</td>\n",
       "      <td>The executor incorrectly classified an issue w...</td>\n",
       "    </tr>\n",
       "    <tr>\n",
       "      <th>10</th>\n",
       "      <td>3</td>\n",
       "      <td>availability</td>\n",
       "      <td>turned out that there was an error on my side.</td>\n",
       "      <td>\\r\\n### Data for Evaluation\\r\\n\\r\\n**1. Qualit...</td>\n",
       "      <td>The text describes a user's own mistake or mis...</td>\n",
       "      <td>This statement is about an error, so it doesn'...</td>\n",
       "      <td>There's no causal link to an availability mech...</td>\n",
       "      <td>The content does not describe any inclusion cr...</td>\n",
       "      <td>False</td>\n",
       "      <td>This text snippet is describing a system probl...</td>\n",
       "      <td>Now, perform your your audit based on the data...</td>\n",
       "      <td>False</td>\n",
       "      <td>incorrect</td>\n",
       "      <td>The content does not contain any code or speci...</td>\n",
       "    </tr>\n",
       "    <tr>\n",
       "      <th>...</th>\n",
       "      <td>...</td>\n",
       "      <td>...</td>\n",
       "      <td>...</td>\n",
       "      <td>...</td>\n",
       "      <td>...</td>\n",
       "      <td>...</td>\n",
       "      <td>...</td>\n",
       "      <td>...</td>\n",
       "      <td>...</td>\n",
       "      <td>...</td>\n",
       "      <td>...</td>\n",
       "      <td>...</td>\n",
       "      <td>...</td>\n",
       "      <td>...</td>\n",
       "    </tr>\n",
       "    <tr>\n",
       "      <th>360</th>\n",
       "      <td>301</td>\n",
       "      <td>usability</td>\n",
       "      <td>Slot called whenever the stats fill style is m...</td>\n",
       "      <td>\\r\\n### Data for Evaluation\\r\\n\\r\\n**1. Qualit...</td>\n",
       "      <td>The text does not present a bug or issue but d...</td>\n",
       "      <td>It describes a specific feature (slot call) th...</td>\n",
       "      <td>The link between the slot call and the stats f...</td>\n",
       "      <td>This mechanism (slot calls) aligns with the us...</td>\n",
       "      <td>True</td>\n",
       "      <td>The text describes a specific feature (slot ca...</td>\n",
       "      <td>Now, perform your your audit based on the data...</td>\n",
       "      <td>False</td>\n",
       "      <td>incorrect</td>\n",
       "      <td>The executor's reasoning was invalid because i...</td>\n",
       "    </tr>\n",
       "    <tr>\n",
       "      <th>361</th>\n",
       "      <td>731</td>\n",
       "      <td>deployability</td>\n",
       "      <td>Build only one PyROOT if PYTHON_EXECUTABLE or ...</td>\n",
       "      <td>\\r\\n### Data for Evaluation\\r\\n\\r\\n**1. Qualit...</td>\n",
       "      <td>The text does not describe a solution but rath...</td>\n",
       "      <td>No, it's not describing a mechanism. It's more...</td>\n",
       "      <td>The link between the problem (missing configur...</td>\n",
       "      <td>This mechanism matches the inclusion criteria ...</td>\n",
       "      <td>False</td>\n",
       "      <td>The analysis concludes that this is not a true...</td>\n",
       "      <td>Now, perform your your audit based on the data...</td>\n",
       "      <td>False</td>\n",
       "      <td>incorrect</td>\n",
       "      <td>The executor's reasoning was invalid because i...</td>\n",
       "    </tr>\n",
       "    <tr>\n",
       "      <th>362</th>\n",
       "      <td>965</td>\n",
       "      <td>availability</td>\n",
       "      <td>Reimplement TGraph::Sort using std::stable_sor...</td>\n",
       "      <td>\\r\\n### Data for Evaluation\\r\\n\\r\\n**1. Qualit...</td>\n",
       "      <td>The text discusses reimplementing a function a...</td>\n",
       "      <td>This is a feature because it describes the imp...</td>\n",
       "      <td>The link between the changes and the problem i...</td>\n",
       "      <td>This mechanism (reimplementing TGraph::Sort) m...</td>\n",
       "      <td>True</td>\n",
       "      <td>The text describes an architectural feature (i...</td>\n",
       "      <td>Now, perform your your audit based on the data...</td>\n",
       "      <td>False</td>\n",
       "      <td>incorrect</td>\n",
       "      <td>The executor's reasoning was invalid because t...</td>\n",
       "    </tr>\n",
       "    <tr>\n",
       "      <th>365</th>\n",
       "      <td>351</td>\n",
       "      <td>integrability</td>\n",
       "      <td>I think Arial was set as default as it's requi...</td>\n",
       "      <td>\\r\\n### Data for Evaluation\\r\\n\\r\\n**1. Qualit...</td>\n",
       "      <td>The text is describing a problem (a user error...</td>\n",
       "      <td>Yes, this describes a solution (a mechanism). ...</td>\n",
       "      <td>The link between the setting and the problem i...</td>\n",
       "      <td>This mechanism (the default settings) aligns w...</td>\n",
       "      <td>True</td>\n",
       "      <td>The text identifies a problem (user error in m...</td>\n",
       "      <td>Now, perform your your audit based on the data...</td>\n",
       "      <td>False</td>\n",
       "      <td>incorrect</td>\n",
       "      <td>The executor incorrectly classified a user err...</td>\n",
       "    </tr>\n",
       "    <tr>\n",
       "      <th>372</th>\n",
       "      <td>722</td>\n",
       "      <td>usability</td>\n",
       "      <td>jsroot: better grouping for context menus; Whi...</td>\n",
       "      <td>\\r\\n### Data for Evaluation\\r\\n\\r\\n**1. Qualit...</td>\n",
       "      <td>The text discusses a feature (jsroot) and its ...</td>\n",
       "      <td>Yes, it describes an architectural mechanism b...</td>\n",
       "      <td>The link between the implementation of jsroot ...</td>\n",
       "      <td>This matches the definition of usability as it...</td>\n",
       "      <td>True</td>\n",
       "      <td>The analysis concludes that the text describes...</td>\n",
       "      <td>Now, perform your your audit based on the data...</td>\n",
       "      <td>False</td>\n",
       "      <td>incorrect</td>\n",
       "      <td>The executor's reasoning was invalid because i...</td>\n",
       "    </tr>\n",
       "  </tbody>\n",
       "</table>\n",
       "<p>81 rows × 14 columns</p>\n",
       "</div>"
      ]
     },
     "execution_count": 526,
     "metadata": {},
     "output_type": "execute_result"
    }
   ],
   "execution_count": 526
  },
  {
   "metadata": {
    "ExecuteTime": {
     "end_time": "2025-08-19T18:30:01.056927Z",
     "start_time": "2025-08-19T18:30:01.045806Z"
    }
   },
   "cell_type": "code",
   "source": "df[[\"s1_true_positive\", \"s1_v_evaluation\"]].value_counts()",
   "id": "456b8757ef1670a5",
   "outputs": [
    {
     "data": {
      "text/plain": [
       "s1_true_positive  s1_v_evaluation\n",
       "True              correct            157\n",
       "False             correct            146\n",
       "True              incorrect           47\n",
       "False             incorrect           34\n",
       "Name: count, dtype: int64"
      ]
     },
     "execution_count": 527,
     "metadata": {},
     "output_type": "execute_result"
    }
   ],
   "execution_count": 527
  },
  {
   "metadata": {},
   "cell_type": "markdown",
   "source": "# S1_manual verification",
   "id": "b296ac2dd9ba06c0"
  },
  {
   "metadata": {
    "collapsed": true,
    "ExecuteTime": {
     "end_time": "2025-08-19T22:50:00.746907Z",
     "start_time": "2025-08-19T22:50:00.591872Z"
    }
   },
   "cell_type": "code",
   "source": [
    "df = CSVDFHandler().read_df(AbsDirPath.SAMPLES_VERIFIED / \"s1_manual_ver.csv\")\n",
    "# df = load_all_csv_files(AbsDirPath.SAMPLES_VERIFIED, name_contains=\"s0.part\")"
   ],
   "id": "56927f2e785965cb",
   "outputs": [],
   "execution_count": 2
  },
  {
   "metadata": {
    "ExecuteTime": {
     "end_time": "2025-08-19T22:50:00.798212Z",
     "start_time": "2025-08-19T22:50:00.758967Z"
    }
   },
   "cell_type": "code",
   "source": "df.head()",
   "id": "b1ff41da399d1dac",
   "outputs": [
    {
     "data": {
      "text/plain": [
       "   Unnamed: 0                qa  \\\n",
       "0           8     deployability   \n",
       "1          36      availability   \n",
       "2         725     deployability   \n",
       "3         328  interoperability   \n",
       "4          54     deployability   \n",
       "\n",
       "                                            sentence  \\\n",
       "0  Patch release of v6.26 series. [:spiral_notepa...   \n",
       "1  Shuffle script for training runs out of memory...   \n",
       "2  Receive message from a socket. This standalone...   \n",
       "3  tegration region is divided into subintervals,...   \n",
       "4  @sawenzel I get your point about thread safety...   \n",
       "\n",
       "                                           s1_prompt  \\\n",
       "0  \\r\\n### Data for Evaluation\\r\\n\\r\\n**1. Qualit...   \n",
       "1  \\r\\n### Data for Evaluation\\r\\n\\r\\n**1. Qualit...   \n",
       "2  \\r\\n### Data for Evaluation\\r\\n\\r\\n**1. Qualit...   \n",
       "3  \\r\\n### Data for Evaluation\\r\\n\\r\\n**1. Qualit...   \n",
       "4  \\r\\n### Data for Evaluation\\r\\n\\r\\n**1. Qualit...   \n",
       "\n",
       "                     s1_analysis_problem_vs_solution  \\\n",
       "0  The text is describing a release process and p...   \n",
       "1  The text describes a problem related to memory...   \n",
       "2  The text describes a problem related to how th...   \n",
       "3  The text describes a mechanism for handling in...   \n",
       "4  The text is primarily discussing issues relate...   \n",
       "\n",
       "                    s1_analysis_mechanism_vs_feature  \\\n",
       "0  This describes a functional feature (a patch r...   \n",
       "1  Yes, it is describing a **problem** rather tha...   \n",
       "2  Yes, it is describing a specific implementatio...   \n",
       "3  This is describing an architectural mechanism ...   \n",
       "4  It mentions clang-formatting using ROOT style ...   \n",
       "\n",
       "                             s1_analysis_causal_link  \\\n",
       "0  The causal link between the described action a...   \n",
       "1  The link between the problem and the quality a...   \n",
       "2  The link between the problem and the quality a...   \n",
       "3  The text explicitly links the mechanism (`gsl_...   \n",
       "4  The causal link between these elements and dep...   \n",
       "\n",
       "                            s1_analysis_rubric_check  s1_true_positive  \\\n",
       "0  The content does not mention any specific mech...             False   \n",
       "1  This mechanism does not match the inclusion cr...             False   \n",
       "2  This mechanism (the specific implementation pa...              True   \n",
       "3  The rubric for interoperability requires excha...              True   \n",
       "4  The rubric inclusion criteria require explicit...             False   \n",
       "\n",
       "                                        s1_reasoning  dmitry_approves  \\\n",
       "0  The text does not describe an architectural me...                1   \n",
       "1  The analysis concludes that this text describe...                0   \n",
       "2  The text identifies a problem in how the funct...                1   \n",
       "3  The text describes an architectural mechanism ...                1   \n",
       "4  The text does not provide concrete evidence of...                1   \n",
       "\n",
       "                                         s1_v_prompt  \\\n",
       "0  Now, perform your your audit based on the data...   \n",
       "1  Now, perform your your audit based on the data...   \n",
       "2  Now, perform your your audit based on the data...   \n",
       "3  Now, perform your your audit based on the data...   \n",
       "4  Now, perform your your audit based on the data...   \n",
       "\n",
       "   s1_v_is_executor_reasoning_valid s1_v_evaluation  \\\n",
       "0                              True         correct   \n",
       "1                             False       incorrect   \n",
       "2                              True         correct   \n",
       "3                              True         correct   \n",
       "4                              True       incorrect   \n",
       "\n",
       "                                      s1_v_reasoning  \n",
       "0  The executor's reasoning was valid because the...  \n",
       "1  The executor's reasoning was invalid because i...  \n",
       "2  The executor's reasoning was valid because the...  \n",
       "3  The user's query is about a programming proble...  \n",
       "4  The text does not contain any specific mechani...  "
      ],
      "text/html": [
       "<div>\n",
       "<style scoped>\n",
       "    .dataframe tbody tr th:only-of-type {\n",
       "        vertical-align: middle;\n",
       "    }\n",
       "\n",
       "    .dataframe tbody tr th {\n",
       "        vertical-align: top;\n",
       "    }\n",
       "\n",
       "    .dataframe thead th {\n",
       "        text-align: right;\n",
       "    }\n",
       "</style>\n",
       "<table border=\"1\" class=\"dataframe\">\n",
       "  <thead>\n",
       "    <tr style=\"text-align: right;\">\n",
       "      <th></th>\n",
       "      <th>Unnamed: 0</th>\n",
       "      <th>qa</th>\n",
       "      <th>sentence</th>\n",
       "      <th>s1_prompt</th>\n",
       "      <th>s1_analysis_problem_vs_solution</th>\n",
       "      <th>s1_analysis_mechanism_vs_feature</th>\n",
       "      <th>s1_analysis_causal_link</th>\n",
       "      <th>s1_analysis_rubric_check</th>\n",
       "      <th>s1_true_positive</th>\n",
       "      <th>s1_reasoning</th>\n",
       "      <th>dmitry_approves</th>\n",
       "      <th>s1_v_prompt</th>\n",
       "      <th>s1_v_is_executor_reasoning_valid</th>\n",
       "      <th>s1_v_evaluation</th>\n",
       "      <th>s1_v_reasoning</th>\n",
       "    </tr>\n",
       "  </thead>\n",
       "  <tbody>\n",
       "    <tr>\n",
       "      <th>0</th>\n",
       "      <td>8</td>\n",
       "      <td>deployability</td>\n",
       "      <td>Patch release of v6.26 series. [:spiral_notepa...</td>\n",
       "      <td>\\r\\n### Data for Evaluation\\r\\n\\r\\n**1. Qualit...</td>\n",
       "      <td>The text is describing a release process and p...</td>\n",
       "      <td>This describes a functional feature (a patch r...</td>\n",
       "      <td>The causal link between the described action a...</td>\n",
       "      <td>The content does not mention any specific mech...</td>\n",
       "      <td>False</td>\n",
       "      <td>The text does not describe an architectural me...</td>\n",
       "      <td>1</td>\n",
       "      <td>Now, perform your your audit based on the data...</td>\n",
       "      <td>True</td>\n",
       "      <td>correct</td>\n",
       "      <td>The executor's reasoning was valid because the...</td>\n",
       "    </tr>\n",
       "    <tr>\n",
       "      <th>1</th>\n",
       "      <td>36</td>\n",
       "      <td>availability</td>\n",
       "      <td>Shuffle script for training runs out of memory...</td>\n",
       "      <td>\\r\\n### Data for Evaluation\\r\\n\\r\\n**1. Qualit...</td>\n",
       "      <td>The text describes a problem related to memory...</td>\n",
       "      <td>Yes, it is describing a **problem** rather tha...</td>\n",
       "      <td>The link between the problem and the quality a...</td>\n",
       "      <td>This mechanism does not match the inclusion cr...</td>\n",
       "      <td>False</td>\n",
       "      <td>The analysis concludes that this text describe...</td>\n",
       "      <td>0</td>\n",
       "      <td>Now, perform your your audit based on the data...</td>\n",
       "      <td>False</td>\n",
       "      <td>incorrect</td>\n",
       "      <td>The executor's reasoning was invalid because i...</td>\n",
       "    </tr>\n",
       "    <tr>\n",
       "      <th>2</th>\n",
       "      <td>725</td>\n",
       "      <td>deployability</td>\n",
       "      <td>Receive message from a socket. This standalone...</td>\n",
       "      <td>\\r\\n### Data for Evaluation\\r\\n\\r\\n**1. Qualit...</td>\n",
       "      <td>The text describes a problem related to how th...</td>\n",
       "      <td>Yes, it is describing a specific implementatio...</td>\n",
       "      <td>The link between the problem and the quality a...</td>\n",
       "      <td>This mechanism (the specific implementation pa...</td>\n",
       "      <td>True</td>\n",
       "      <td>The text identifies a problem in how the funct...</td>\n",
       "      <td>1</td>\n",
       "      <td>Now, perform your your audit based on the data...</td>\n",
       "      <td>True</td>\n",
       "      <td>correct</td>\n",
       "      <td>The executor's reasoning was valid because the...</td>\n",
       "    </tr>\n",
       "    <tr>\n",
       "      <th>3</th>\n",
       "      <td>328</td>\n",
       "      <td>interoperability</td>\n",
       "      <td>tegration region is divided into subintervals,...</td>\n",
       "      <td>\\r\\n### Data for Evaluation\\r\\n\\r\\n**1. Qualit...</td>\n",
       "      <td>The text describes a mechanism for handling in...</td>\n",
       "      <td>This is describing an architectural mechanism ...</td>\n",
       "      <td>The text explicitly links the mechanism (`gsl_...</td>\n",
       "      <td>The rubric for interoperability requires excha...</td>\n",
       "      <td>True</td>\n",
       "      <td>The text describes an architectural mechanism ...</td>\n",
       "      <td>1</td>\n",
       "      <td>Now, perform your your audit based on the data...</td>\n",
       "      <td>True</td>\n",
       "      <td>correct</td>\n",
       "      <td>The user's query is about a programming proble...</td>\n",
       "    </tr>\n",
       "    <tr>\n",
       "      <th>4</th>\n",
       "      <td>54</td>\n",
       "      <td>deployability</td>\n",
       "      <td>@sawenzel I get your point about thread safety...</td>\n",
       "      <td>\\r\\n### Data for Evaluation\\r\\n\\r\\n**1. Qualit...</td>\n",
       "      <td>The text is primarily discussing issues relate...</td>\n",
       "      <td>It mentions clang-formatting using ROOT style ...</td>\n",
       "      <td>The causal link between these elements and dep...</td>\n",
       "      <td>The rubric inclusion criteria require explicit...</td>\n",
       "      <td>False</td>\n",
       "      <td>The text does not provide concrete evidence of...</td>\n",
       "      <td>1</td>\n",
       "      <td>Now, perform your your audit based on the data...</td>\n",
       "      <td>True</td>\n",
       "      <td>incorrect</td>\n",
       "      <td>The text does not contain any specific mechani...</td>\n",
       "    </tr>\n",
       "  </tbody>\n",
       "</table>\n",
       "</div>"
      ]
     },
     "execution_count": 3,
     "metadata": {},
     "output_type": "execute_result"
    }
   ],
   "execution_count": 3
  },
  {
   "metadata": {
    "ExecuteTime": {
     "end_time": "2025-08-19T22:50:00.916978Z",
     "start_time": "2025-08-19T22:50:00.908424Z"
    }
   },
   "cell_type": "code",
   "source": "df.shape",
   "id": "1e663341944400ea",
   "outputs": [
    {
     "data": {
      "text/plain": [
       "(384, 15)"
      ]
     },
     "execution_count": 4,
     "metadata": {},
     "output_type": "execute_result"
    }
   ],
   "execution_count": 4
  },
  {
   "metadata": {
    "ExecuteTime": {
     "end_time": "2025-08-19T22:50:01.212275Z",
     "start_time": "2025-08-19T22:50:01.201175Z"
    }
   },
   "cell_type": "code",
   "source": "df.dmitry_approves = df.dmitry_approves.astype(bool)",
   "id": "eba7040b89900159",
   "outputs": [],
   "execution_count": 5
  },
  {
   "metadata": {
    "ExecuteTime": {
     "end_time": "2025-08-19T22:50:01.502332Z",
     "start_time": "2025-08-19T22:50:01.491595Z"
    }
   },
   "cell_type": "code",
   "source": "df.groupby(\"dmitry_approves\").size().rename(\"count\")",
   "id": "826bf16fc31b4bb5",
   "outputs": [
    {
     "data": {
      "text/plain": [
       "dmitry_approves\n",
       "False     63\n",
       "True     321\n",
       "Name: count, dtype: int64"
      ]
     },
     "execution_count": 6,
     "metadata": {},
     "output_type": "execute_result"
    }
   ],
   "execution_count": 6
  },
  {
   "metadata": {
    "ExecuteTime": {
     "end_time": "2025-08-19T22:50:01.837195Z",
     "start_time": "2025-08-19T22:50:01.824243Z"
    }
   },
   "cell_type": "code",
   "source": "df.groupby(\"dmitry_approves\").size().rename(\"percentage\") / df.shape[0] * 100",
   "id": "98c9ebc8a1165fce",
   "outputs": [
    {
     "data": {
      "text/plain": [
       "dmitry_approves\n",
       "False    16.40625\n",
       "True     83.59375\n",
       "Name: percentage, dtype: float64"
      ]
     },
     "execution_count": 7,
     "metadata": {},
     "output_type": "execute_result"
    }
   ],
   "execution_count": 7
  },
  {
   "metadata": {
    "ExecuteTime": {
     "end_time": "2025-08-19T22:52:31.231735Z",
     "start_time": "2025-08-19T22:52:31.221651Z"
    }
   },
   "cell_type": "code",
   "source": "df.groupby([\"dmitry_approves\", \"s1_v_evaluation\"]).size().rename(\"count\")",
   "id": "5f675512bbd8ecb1",
   "outputs": [
    {
     "data": {
      "text/plain": [
       "dmitry_approves  s1_v_evaluation\n",
       "False            correct             19\n",
       "                 incorrect           44\n",
       "True             correct            284\n",
       "                 incorrect           37\n",
       "Name: count, dtype: int64"
      ]
     },
     "execution_count": 9,
     "metadata": {},
     "output_type": "execute_result"
    }
   ],
   "execution_count": 9
  },
  {
   "metadata": {},
   "cell_type": "markdown",
   "source": "# S2",
   "id": "eb92280d9b0e7712"
  },
  {
   "metadata": {
    "collapsed": true,
    "ExecuteTime": {
     "end_time": "2025-08-19T19:47:10.711875Z",
     "start_time": "2025-08-19T19:47:10.621085Z"
    }
   },
   "cell_type": "code",
   "source": "df = CSVDFHandler().read_df(AbsDirPath.SAMPLES_VERIFIED / \"s2.csv\")",
   "id": "6e04078c764c956c",
   "outputs": [],
   "execution_count": 638
  },
  {
   "metadata": {
    "ExecuteTime": {
     "end_time": "2025-08-19T19:47:10.747490Z",
     "start_time": "2025-08-19T19:47:10.722016Z"
    }
   },
   "cell_type": "code",
   "source": "df.head()",
   "id": "36e5e951db5573c1",
   "outputs": [
    {
     "data": {
      "text/plain": [
       "   Unnamed: 0                                           sentence  \\\n",
       "0         226  The type MachO::macho_load_command is defined ...   \n",
       "1          88  My HPC team helped me with this error, just th...   \n",
       "2         151  Yes, i'll add a test for this. . Yes, it uses ...   \n",
       "3         124  Thank you very much for pointing me to this! W...   \n",
       "4          51  s should default to using the collapseRequests...   \n",
       "\n",
       "                                           s2_prompt  \\\n",
       "0  ### Data for Evaluation\\r\\n\\r\\n**Content to An...   \n",
       "1  ### Data for Evaluation\\r\\n\\r\\n**Content to An...   \n",
       "2  ### Data for Evaluation\\r\\n\\r\\n**Content to An...   \n",
       "3  ### Data for Evaluation\\r\\n\\r\\n**Content to An...   \n",
       "4  ### Data for Evaluation\\r\\n\\r\\n**Content to An...   \n",
       "\n",
       "                                 s2_analysis_summary  \\\n",
       "0  The text discusses the definition of a specifi...   \n",
       "1  The text discusses a specific error related to...   \n",
       "2  The text discusses adding a test for fold chan...   \n",
       "3  The text discusses a significant architectural...   \n",
       "4  The text discusses a critical architectural de...   \n",
       "\n",
       "                             s2_architectural_signal  \\\n",
       "0                                               True   \n",
       "1                                                Yes   \n",
       "2  Yes, i'll add a test for fold changes using th...   \n",
       "3                                               True   \n",
       "4                                                Yes   \n",
       "\n",
       "                              s2_exclusionary_signal  \\\n",
       "0                     No exclusionary criteria apply   \n",
       "1                                                 No   \n",
       "2                      No exclusionary signals found   \n",
       "3  No exclusionary criteria apply because the tex...   \n",
       "4                                                 No   \n",
       "\n",
       "                                      s2_final_logic  s2_related_to_arch  \\\n",
       "0                                               True                True   \n",
       "1                                               True                True   \n",
       "2                                               True                True   \n",
       "3  The text identifies strong architectural signa...                True   \n",
       "4                                               True                True   \n",
       "\n",
       "                                         s2_v_prompt  \\\n",
       "0  Now, perform your your audit based on the data...   \n",
       "1  Now, perform your your audit based on the data...   \n",
       "2  Now, perform your your audit based on the data...   \n",
       "3  Now, perform your your audit based on the data...   \n",
       "4  Now, perform your your audit based on the data...   \n",
       "\n",
       "   s2_v_ground_truth_classification  \\\n",
       "0                              True   \n",
       "1                              True   \n",
       "2                              True   \n",
       "3                              True   \n",
       "4                              True   \n",
       "\n",
       "                              s2_v_ground_truth_rule s2_v_evaluation  \\\n",
       "0                     A5: Data Modeling & Management         correct   \n",
       "1                         A3: Cross-Cutting Concerns       incorrect   \n",
       "2  A3: Cross-Cutting Concerns & Non-Functional Re...         correct   \n",
       "3                         A3: Cross-Cutting Concerns       incorrect   \n",
       "4  A3: Cross-Cutting Concerns & Non-Functional Re...         correct   \n",
       "\n",
       "                                      s2_v_reasoning  \n",
       "0  The text describes a definition of a type that...  \n",
       "1  The AI's classification is incorrect because t...  \n",
       "2  The text discusses a change to the statistical...  \n",
       "3  The AI's classification is incorrect because t...  \n",
       "4  The text discusses a system-wide configuration...  "
      ],
      "text/html": [
       "<div>\n",
       "<style scoped>\n",
       "    .dataframe tbody tr th:only-of-type {\n",
       "        vertical-align: middle;\n",
       "    }\n",
       "\n",
       "    .dataframe tbody tr th {\n",
       "        vertical-align: top;\n",
       "    }\n",
       "\n",
       "    .dataframe thead th {\n",
       "        text-align: right;\n",
       "    }\n",
       "</style>\n",
       "<table border=\"1\" class=\"dataframe\">\n",
       "  <thead>\n",
       "    <tr style=\"text-align: right;\">\n",
       "      <th></th>\n",
       "      <th>Unnamed: 0</th>\n",
       "      <th>sentence</th>\n",
       "      <th>s2_prompt</th>\n",
       "      <th>s2_analysis_summary</th>\n",
       "      <th>s2_architectural_signal</th>\n",
       "      <th>s2_exclusionary_signal</th>\n",
       "      <th>s2_final_logic</th>\n",
       "      <th>s2_related_to_arch</th>\n",
       "      <th>s2_v_prompt</th>\n",
       "      <th>s2_v_ground_truth_classification</th>\n",
       "      <th>s2_v_ground_truth_rule</th>\n",
       "      <th>s2_v_evaluation</th>\n",
       "      <th>s2_v_reasoning</th>\n",
       "    </tr>\n",
       "  </thead>\n",
       "  <tbody>\n",
       "    <tr>\n",
       "      <th>0</th>\n",
       "      <td>226</td>\n",
       "      <td>The type MachO::macho_load_command is defined ...</td>\n",
       "      <td>### Data for Evaluation\\r\\n\\r\\n**Content to An...</td>\n",
       "      <td>The text discusses the definition of a specifi...</td>\n",
       "      <td>True</td>\n",
       "      <td>No exclusionary criteria apply</td>\n",
       "      <td>True</td>\n",
       "      <td>True</td>\n",
       "      <td>Now, perform your your audit based on the data...</td>\n",
       "      <td>True</td>\n",
       "      <td>A5: Data Modeling &amp; Management</td>\n",
       "      <td>correct</td>\n",
       "      <td>The text describes a definition of a type that...</td>\n",
       "    </tr>\n",
       "    <tr>\n",
       "      <th>1</th>\n",
       "      <td>88</td>\n",
       "      <td>My HPC team helped me with this error, just th...</td>\n",
       "      <td>### Data for Evaluation\\r\\n\\r\\n**Content to An...</td>\n",
       "      <td>The text discusses a specific error related to...</td>\n",
       "      <td>Yes</td>\n",
       "      <td>No</td>\n",
       "      <td>True</td>\n",
       "      <td>True</td>\n",
       "      <td>Now, perform your your audit based on the data...</td>\n",
       "      <td>True</td>\n",
       "      <td>A3: Cross-Cutting Concerns</td>\n",
       "      <td>incorrect</td>\n",
       "      <td>The AI's classification is incorrect because t...</td>\n",
       "    </tr>\n",
       "    <tr>\n",
       "      <th>2</th>\n",
       "      <td>151</td>\n",
       "      <td>Yes, i'll add a test for this. . Yes, it uses ...</td>\n",
       "      <td>### Data for Evaluation\\r\\n\\r\\n**Content to An...</td>\n",
       "      <td>The text discusses adding a test for fold chan...</td>\n",
       "      <td>Yes, i'll add a test for fold changes using th...</td>\n",
       "      <td>No exclusionary signals found</td>\n",
       "      <td>True</td>\n",
       "      <td>True</td>\n",
       "      <td>Now, perform your your audit based on the data...</td>\n",
       "      <td>True</td>\n",
       "      <td>A3: Cross-Cutting Concerns &amp; Non-Functional Re...</td>\n",
       "      <td>correct</td>\n",
       "      <td>The text discusses a change to the statistical...</td>\n",
       "    </tr>\n",
       "    <tr>\n",
       "      <th>3</th>\n",
       "      <td>124</td>\n",
       "      <td>Thank you very much for pointing me to this! W...</td>\n",
       "      <td>### Data for Evaluation\\r\\n\\r\\n**Content to An...</td>\n",
       "      <td>The text discusses a significant architectural...</td>\n",
       "      <td>True</td>\n",
       "      <td>No exclusionary criteria apply because the tex...</td>\n",
       "      <td>The text identifies strong architectural signa...</td>\n",
       "      <td>True</td>\n",
       "      <td>Now, perform your your audit based on the data...</td>\n",
       "      <td>True</td>\n",
       "      <td>A3: Cross-Cutting Concerns</td>\n",
       "      <td>incorrect</td>\n",
       "      <td>The AI's classification is incorrect because t...</td>\n",
       "    </tr>\n",
       "    <tr>\n",
       "      <th>4</th>\n",
       "      <td>51</td>\n",
       "      <td>s should default to using the collapseRequests...</td>\n",
       "      <td>### Data for Evaluation\\r\\n\\r\\n**Content to An...</td>\n",
       "      <td>The text discusses a critical architectural de...</td>\n",
       "      <td>Yes</td>\n",
       "      <td>No</td>\n",
       "      <td>True</td>\n",
       "      <td>True</td>\n",
       "      <td>Now, perform your your audit based on the data...</td>\n",
       "      <td>True</td>\n",
       "      <td>A3: Cross-Cutting Concerns &amp; Non-Functional Re...</td>\n",
       "      <td>correct</td>\n",
       "      <td>The text discusses a system-wide configuration...</td>\n",
       "    </tr>\n",
       "  </tbody>\n",
       "</table>\n",
       "</div>"
      ]
     },
     "execution_count": 639,
     "metadata": {},
     "output_type": "execute_result"
    }
   ],
   "execution_count": 639
  },
  {
   "metadata": {
    "ExecuteTime": {
     "end_time": "2025-08-19T19:47:10.859551Z",
     "start_time": "2025-08-19T19:47:10.846959Z"
    }
   },
   "cell_type": "code",
   "source": "df.shape",
   "id": "dfc251bf7c90e689",
   "outputs": [
    {
     "data": {
      "text/plain": [
       "(260, 13)"
      ]
     },
     "execution_count": 640,
     "metadata": {},
     "output_type": "execute_result"
    }
   ],
   "execution_count": 640
  },
  {
   "metadata": {
    "ExecuteTime": {
     "end_time": "2025-08-19T19:47:11.012453Z",
     "start_time": "2025-08-19T19:47:11.001947Z"
    }
   },
   "cell_type": "code",
   "source": "df.groupby(\"s2_v_evaluation\").size().rename(\"percentage\") / df.shape[0] * 100",
   "id": "bacb4a827563132f",
   "outputs": [
    {
     "data": {
      "text/plain": [
       "s2_v_evaluation\n",
       "correct      60.384615\n",
       "incorrect    39.615385\n",
       "Name: percentage, dtype: float64"
      ]
     },
     "execution_count": 641,
     "metadata": {},
     "output_type": "execute_result"
    }
   ],
   "execution_count": 641
  },
  {
   "metadata": {
    "ExecuteTime": {
     "end_time": "2025-08-19T19:47:11.207944Z",
     "start_time": "2025-08-19T19:47:11.199428Z"
    }
   },
   "cell_type": "code",
   "source": "df.groupby(\"s2_v_evaluation\").size().rename(\"count\")",
   "id": "a279d31344081ec2",
   "outputs": [
    {
     "data": {
      "text/plain": [
       "s2_v_evaluation\n",
       "correct      157\n",
       "incorrect    103\n",
       "Name: count, dtype: int64"
      ]
     },
     "execution_count": 642,
     "metadata": {},
     "output_type": "execute_result"
    }
   ],
   "execution_count": 642
  },
  {
   "metadata": {},
   "cell_type": "markdown",
   "source": "# S3",
   "id": "aff2da4a17be7ce1"
  },
  {
   "metadata": {
    "collapsed": true,
    "ExecuteTime": {
     "end_time": "2025-08-19T18:30:02.892980Z",
     "start_time": "2025-08-19T18:30:02.777516Z"
    }
   },
   "cell_type": "code",
   "source": "df = CSVDFHandler().read_df(AbsDirPath.SAMPLES_VERIFIED / \"s3.csv\")",
   "id": "d6998752caec2f5",
   "outputs": [],
   "execution_count": 533
  },
  {
   "metadata": {
    "ExecuteTime": {
     "end_time": "2025-08-19T18:30:03.145108Z",
     "start_time": "2025-08-19T18:30:03.127610Z"
    }
   },
   "cell_type": "code",
   "source": "df.head()",
   "id": "c3deaa2623f4037",
   "outputs": [
    {
     "data": {
      "text/plain": [
       "   Unnamed: 0             qa  \\\n",
       "0       27922    testability   \n",
       "1        4089  modifiability   \n",
       "2        7174  deployability   \n",
       "3        5247      usability   \n",
       "4        2321   availability   \n",
       "\n",
       "                                            sentence  \\\n",
       "0  rder, our approach is pinning it temporarily u...   \n",
       "1  Hi @moldach . Thank you for reporting this! Fo...   \n",
       "2  API extraction should not generate an actual p...   \n",
       "3  Hi Masaru,. I've filed an internal issue to tr...   \n",
       "4  rent from the make_examples command you posted...   \n",
       "\n",
       "                                           s3_prompt  \\\n",
       "0  \\r\\nBased on the rules provided in the system ...   \n",
       "1  \\r\\nBased on the rules provided in the system ...   \n",
       "2  \\r\\nBased on the rules provided in the system ...   \n",
       "3  \\r\\nBased on the rules provided in the system ...   \n",
       "4  \\r\\nBased on the rules provided in the system ...   \n",
       "\n",
       "                s3_architectural_activity_extraction  \\\n",
       "0  rder, our approach is pinning it temporarily u...   \n",
       "1  I drafted a few new sections in the Quick Star...   \n",
       "2  API extraction should not generate an actual p...   \n",
       "3  Hi Masaru,. I've filed an internal issue to tr...   \n",
       "4  I tested with `sudo docker run -it gcr.io/deep...   \n",
       "\n",
       "                            s3_core_concept_analysis  s3_is_tactic_relevant  \\\n",
       "0  The primary architectural concept identified i...                   True   \n",
       "1                                       Split Module                   True   \n",
       "2  The primary architectural concept is preventin...                   True   \n",
       "3  We'll keep usability for beginners in mind for...                   True   \n",
       "4  The primary architectural concept identified i...                   True   \n",
       "\n",
       "                                 s3_relevance_reason    s3_tactic_evaluation  \\\n",
       "0  The concept identified is central to understan...                    true   \n",
       "1  The extracted sentence discusses a specific ac...                    true   \n",
       "2  The extracted activity prevents generating a p...            split module   \n",
       "3  The text discusses a design decision related t...  Maintain system models   \n",
       "4  The extracted sentence discusses a concrete te...                    true   \n",
       "\n",
       "  s3_selected_tactic                                   s3_justification  \\\n",
       "0                NaN  The concept identified in this text is version...   \n",
       "1       Split Module  The extracted sentence clearly indicates that ...   \n",
       "2       Split Module  The selected tactic 'split module' best matche...   \n",
       "3                NaN  The selected tactic 'Maintain system models' d...   \n",
       "4          Ping/Echo  The extracted sentence discusses the use of Do...   \n",
       "\n",
       "                                         s3_v_prompt s3_v_evaluation  \\\n",
       "0  Now, perform your your audit based on the data...         correct   \n",
       "1  Now, perform your your audit based on the data...         correct   \n",
       "2  Now, perform your your audit based on the data...         correct   \n",
       "3  Now, perform your your audit based on the data...         correct   \n",
       "4  Now, perform your your audit based on the data...         correct   \n",
       "\n",
       "                                      s3_v_reasoning  \n",
       "0  The executor's claim that the discussion about...  \n",
       "1  The executor's claim in Step 1 is that they ar...  \n",
       "2  The executor's claim that the discussion on de...  \n",
       "3  The executor's claim that the text describes a...  \n",
       "4  The executor's claim that the discussion on Do...  "
      ],
      "text/html": [
       "<div>\n",
       "<style scoped>\n",
       "    .dataframe tbody tr th:only-of-type {\n",
       "        vertical-align: middle;\n",
       "    }\n",
       "\n",
       "    .dataframe tbody tr th {\n",
       "        vertical-align: top;\n",
       "    }\n",
       "\n",
       "    .dataframe thead th {\n",
       "        text-align: right;\n",
       "    }\n",
       "</style>\n",
       "<table border=\"1\" class=\"dataframe\">\n",
       "  <thead>\n",
       "    <tr style=\"text-align: right;\">\n",
       "      <th></th>\n",
       "      <th>Unnamed: 0</th>\n",
       "      <th>qa</th>\n",
       "      <th>sentence</th>\n",
       "      <th>s3_prompt</th>\n",
       "      <th>s3_architectural_activity_extraction</th>\n",
       "      <th>s3_core_concept_analysis</th>\n",
       "      <th>s3_is_tactic_relevant</th>\n",
       "      <th>s3_relevance_reason</th>\n",
       "      <th>s3_tactic_evaluation</th>\n",
       "      <th>s3_selected_tactic</th>\n",
       "      <th>s3_justification</th>\n",
       "      <th>s3_v_prompt</th>\n",
       "      <th>s3_v_evaluation</th>\n",
       "      <th>s3_v_reasoning</th>\n",
       "    </tr>\n",
       "  </thead>\n",
       "  <tbody>\n",
       "    <tr>\n",
       "      <th>0</th>\n",
       "      <td>27922</td>\n",
       "      <td>testability</td>\n",
       "      <td>rder, our approach is pinning it temporarily u...</td>\n",
       "      <td>\\r\\nBased on the rules provided in the system ...</td>\n",
       "      <td>rder, our approach is pinning it temporarily u...</td>\n",
       "      <td>The primary architectural concept identified i...</td>\n",
       "      <td>True</td>\n",
       "      <td>The concept identified is central to understan...</td>\n",
       "      <td>true</td>\n",
       "      <td>NaN</td>\n",
       "      <td>The concept identified in this text is version...</td>\n",
       "      <td>Now, perform your your audit based on the data...</td>\n",
       "      <td>correct</td>\n",
       "      <td>The executor's claim that the discussion about...</td>\n",
       "    </tr>\n",
       "    <tr>\n",
       "      <th>1</th>\n",
       "      <td>4089</td>\n",
       "      <td>modifiability</td>\n",
       "      <td>Hi @moldach . Thank you for reporting this! Fo...</td>\n",
       "      <td>\\r\\nBased on the rules provided in the system ...</td>\n",
       "      <td>I drafted a few new sections in the Quick Star...</td>\n",
       "      <td>Split Module</td>\n",
       "      <td>True</td>\n",
       "      <td>The extracted sentence discusses a specific ac...</td>\n",
       "      <td>true</td>\n",
       "      <td>Split Module</td>\n",
       "      <td>The extracted sentence clearly indicates that ...</td>\n",
       "      <td>Now, perform your your audit based on the data...</td>\n",
       "      <td>correct</td>\n",
       "      <td>The executor's claim in Step 1 is that they ar...</td>\n",
       "    </tr>\n",
       "    <tr>\n",
       "      <th>2</th>\n",
       "      <td>7174</td>\n",
       "      <td>deployability</td>\n",
       "      <td>API extraction should not generate an actual p...</td>\n",
       "      <td>\\r\\nBased on the rules provided in the system ...</td>\n",
       "      <td>API extraction should not generate an actual p...</td>\n",
       "      <td>The primary architectural concept is preventin...</td>\n",
       "      <td>True</td>\n",
       "      <td>The extracted activity prevents generating a p...</td>\n",
       "      <td>split module</td>\n",
       "      <td>Split Module</td>\n",
       "      <td>The selected tactic 'split module' best matche...</td>\n",
       "      <td>Now, perform your your audit based on the data...</td>\n",
       "      <td>correct</td>\n",
       "      <td>The executor's claim that the discussion on de...</td>\n",
       "    </tr>\n",
       "    <tr>\n",
       "      <th>3</th>\n",
       "      <td>5247</td>\n",
       "      <td>usability</td>\n",
       "      <td>Hi Masaru,. I've filed an internal issue to tr...</td>\n",
       "      <td>\\r\\nBased on the rules provided in the system ...</td>\n",
       "      <td>Hi Masaru,. I've filed an internal issue to tr...</td>\n",
       "      <td>We'll keep usability for beginners in mind for...</td>\n",
       "      <td>True</td>\n",
       "      <td>The text discusses a design decision related t...</td>\n",
       "      <td>Maintain system models</td>\n",
       "      <td>NaN</td>\n",
       "      <td>The selected tactic 'Maintain system models' d...</td>\n",
       "      <td>Now, perform your your audit based on the data...</td>\n",
       "      <td>correct</td>\n",
       "      <td>The executor's claim that the text describes a...</td>\n",
       "    </tr>\n",
       "    <tr>\n",
       "      <th>4</th>\n",
       "      <td>2321</td>\n",
       "      <td>availability</td>\n",
       "      <td>rent from the make_examples command you posted...</td>\n",
       "      <td>\\r\\nBased on the rules provided in the system ...</td>\n",
       "      <td>I tested with `sudo docker run -it gcr.io/deep...</td>\n",
       "      <td>The primary architectural concept identified i...</td>\n",
       "      <td>True</td>\n",
       "      <td>The extracted sentence discusses a concrete te...</td>\n",
       "      <td>true</td>\n",
       "      <td>Ping/Echo</td>\n",
       "      <td>The extracted sentence discusses the use of Do...</td>\n",
       "      <td>Now, perform your your audit based on the data...</td>\n",
       "      <td>correct</td>\n",
       "      <td>The executor's claim that the discussion on Do...</td>\n",
       "    </tr>\n",
       "  </tbody>\n",
       "</table>\n",
       "</div>"
      ]
     },
     "execution_count": 534,
     "metadata": {},
     "output_type": "execute_result"
    }
   ],
   "execution_count": 534
  },
  {
   "metadata": {
    "ExecuteTime": {
     "end_time": "2025-08-19T18:30:03.385613Z",
     "start_time": "2025-08-19T18:30:03.378152Z"
    }
   },
   "cell_type": "code",
   "source": "df.shape",
   "id": "dd9063717ca413e0",
   "outputs": [
    {
     "data": {
      "text/plain": [
       "(384, 14)"
      ]
     },
     "execution_count": 535,
     "metadata": {},
     "output_type": "execute_result"
    }
   ],
   "execution_count": 535
  },
  {
   "metadata": {
    "ExecuteTime": {
     "end_time": "2025-08-19T18:30:03.608566Z",
     "start_time": "2025-08-19T18:30:03.589705Z"
    }
   },
   "cell_type": "code",
   "source": "df.groupby(\"s3_v_evaluation\").size().rename(\"percentage\") / df.shape[0] * 100",
   "id": "682b5cdd13333424",
   "outputs": [
    {
     "data": {
      "text/plain": [
       "s3_v_evaluation\n",
       "correct      82.552083\n",
       "incorrect    17.447917\n",
       "Name: percentage, dtype: float64"
      ]
     },
     "execution_count": 536,
     "metadata": {},
     "output_type": "execute_result"
    }
   ],
   "execution_count": 536
  },
  {
   "metadata": {
    "ExecuteTime": {
     "end_time": "2025-08-19T18:30:03.922809Z",
     "start_time": "2025-08-19T18:30:03.909678Z"
    }
   },
   "cell_type": "code",
   "source": "df.groupby(\"s3_v_evaluation\").size().rename(\"count\")",
   "id": "557a70b3391e4c00",
   "outputs": [
    {
     "data": {
      "text/plain": [
       "s3_v_evaluation\n",
       "correct      317\n",
       "incorrect     67\n",
       "Name: count, dtype: int64"
      ]
     },
     "execution_count": 537,
     "metadata": {},
     "output_type": "execute_result"
    }
   ],
   "execution_count": 537
  }
 ],
 "metadata": {
  "kernelspec": {
   "display_name": "Python 3",
   "language": "python",
   "name": "python3"
  },
  "language_info": {
   "codemirror_mode": {
    "name": "ipython",
    "version": 2
   },
   "file_extension": ".py",
   "mimetype": "text/x-python",
   "name": "python",
   "nbconvert_exporter": "python",
   "pygments_lexer": "ipython2",
   "version": "2.7.6"
  }
 },
 "nbformat": 4,
 "nbformat_minor": 5
}

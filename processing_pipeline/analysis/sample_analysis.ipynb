{
 "cells": [
  {
   "cell_type": "code",
   "id": "8d6593feb9904ca0",
   "metadata": {
    "ExecuteTime": {
     "end_time": "2025-08-02T21:34:22.324630Z",
     "start_time": "2025-08-02T21:34:20.845909Z"
    }
   },
   "source": [
    "from constants.abs_paths import AbsDirPath\n",
    "from processing_pipeline.model.CSVDFHandler import CSVDFHandler\n",
    "from processing_pipeline.utilities.data_transformation import load_all_files"
   ],
   "outputs": [],
   "execution_count": 1
  },
  {
   "metadata": {},
   "cell_type": "markdown",
   "source": "# S0",
   "id": "e1fbe1b668ca0b89"
  },
  {
   "metadata": {
    "collapsed": true,
    "ExecuteTime": {
     "end_time": "2025-08-04T07:37:01.910438Z",
     "start_time": "2025-08-04T07:37:01.595877Z"
    }
   },
   "cell_type": "code",
   "source": "df = CSVDFHandler().read_df(AbsDirPath.SAMPLES_VERIFIED / \"s0.csv\")",
   "id": "initial_id",
   "outputs": [],
   "execution_count": 12
  },
  {
   "metadata": {
    "ExecuteTime": {
     "end_time": "2025-08-04T07:37:01.951924Z",
     "start_time": "2025-08-04T07:37:01.925745Z"
    }
   },
   "cell_type": "code",
   "source": "df.head()",
   "id": "72d5488d751c4f38",
   "outputs": [
    {
     "data": {
      "text/plain": [
       "   Unnamed: 0                                           sentence  \\\n",
       "0         414  cept on OS X. // http://www-personal.umich.edu...   \n",
       "1         832  e entries,. constant pool indices, global vari...   \n",
       "2        1310  distribution. function (lower tail integral of...   \n",
       "3        4531  Filter __arm_cdp, __arm_ldcl, __arm_stcl in ar...   \n",
       "4        2219  Update scheduler queues after scheduling an in...   \n",
       "\n",
       "                                           s0_prompt  s0_to_eliminate  \\\n",
       "0  \\nYou are an expert in analyzing and categoriz...             True   \n",
       "1  \\nYou are an expert in analyzing and categoriz...             True   \n",
       "2  \\nYou are an expert in analyzing and categoriz...             True   \n",
       "3  \\nYou are an expert in analyzing and categoriz...             True   \n",
       "4  \\nYou are an expert in analyzing and categoriz...             True   \n",
       "\n",
       "                                        s0_reasoning  \\\n",
       "0  This content appears to be code snippets and c...   \n",
       "1  The following is a single-player, I have two q...   \n",
       "2  The content appears to be documentation or com...   \n",
       "3  This appears to be a command-line instruction ...   \n",
       "4  This appears to be a brief description or comm...   \n",
       "\n",
       "                                         s0_v_prompt s0_v_correctness  \\\n",
       "0  Now, perform your evaluation based on the cont...        incorrect   \n",
       "1  Now, perform your evaluation based on the cont...        incorrect   \n",
       "2  Now, perform your evaluation based on the cont...        incorrect   \n",
       "3  Now, perform your evaluation based on the cont...        incorrect   \n",
       "4  Now, perform your evaluation based on the cont...        incorrect   \n",
       "\n",
       "                                      s0_v_reasoning  \n",
       "0  The AI's output classifies the content as to b...  \n",
       "1  The AI output incorrectly classified the sourc...  \n",
       "2  The AI's output incorrectly eliminates the con...  \n",
       "3  The AI's decision to eliminate the source text...  \n",
       "4  The AI's output incorrectly eliminates the con...  "
      ],
      "text/html": [
       "<div>\n",
       "<style scoped>\n",
       "    .dataframe tbody tr th:only-of-type {\n",
       "        vertical-align: middle;\n",
       "    }\n",
       "\n",
       "    .dataframe tbody tr th {\n",
       "        vertical-align: top;\n",
       "    }\n",
       "\n",
       "    .dataframe thead th {\n",
       "        text-align: right;\n",
       "    }\n",
       "</style>\n",
       "<table border=\"1\" class=\"dataframe\">\n",
       "  <thead>\n",
       "    <tr style=\"text-align: right;\">\n",
       "      <th></th>\n",
       "      <th>Unnamed: 0</th>\n",
       "      <th>sentence</th>\n",
       "      <th>s0_prompt</th>\n",
       "      <th>s0_to_eliminate</th>\n",
       "      <th>s0_reasoning</th>\n",
       "      <th>s0_v_prompt</th>\n",
       "      <th>s0_v_correctness</th>\n",
       "      <th>s0_v_reasoning</th>\n",
       "    </tr>\n",
       "  </thead>\n",
       "  <tbody>\n",
       "    <tr>\n",
       "      <th>0</th>\n",
       "      <td>414</td>\n",
       "      <td>cept on OS X. // http://www-personal.umich.edu...</td>\n",
       "      <td>\\nYou are an expert in analyzing and categoriz...</td>\n",
       "      <td>True</td>\n",
       "      <td>This content appears to be code snippets and c...</td>\n",
       "      <td>Now, perform your evaluation based on the cont...</td>\n",
       "      <td>incorrect</td>\n",
       "      <td>The AI's output classifies the content as to b...</td>\n",
       "    </tr>\n",
       "    <tr>\n",
       "      <th>1</th>\n",
       "      <td>832</td>\n",
       "      <td>e entries,. constant pool indices, global vari...</td>\n",
       "      <td>\\nYou are an expert in analyzing and categoriz...</td>\n",
       "      <td>True</td>\n",
       "      <td>The following is a single-player, I have two q...</td>\n",
       "      <td>Now, perform your evaluation based on the cont...</td>\n",
       "      <td>incorrect</td>\n",
       "      <td>The AI output incorrectly classified the sourc...</td>\n",
       "    </tr>\n",
       "    <tr>\n",
       "      <th>2</th>\n",
       "      <td>1310</td>\n",
       "      <td>distribution. function (lower tail integral of...</td>\n",
       "      <td>\\nYou are an expert in analyzing and categoriz...</td>\n",
       "      <td>True</td>\n",
       "      <td>The content appears to be documentation or com...</td>\n",
       "      <td>Now, perform your evaluation based on the cont...</td>\n",
       "      <td>incorrect</td>\n",
       "      <td>The AI's output incorrectly eliminates the con...</td>\n",
       "    </tr>\n",
       "    <tr>\n",
       "      <th>3</th>\n",
       "      <td>4531</td>\n",
       "      <td>Filter __arm_cdp, __arm_ldcl, __arm_stcl in ar...</td>\n",
       "      <td>\\nYou are an expert in analyzing and categoriz...</td>\n",
       "      <td>True</td>\n",
       "      <td>This appears to be a command-line instruction ...</td>\n",
       "      <td>Now, perform your evaluation based on the cont...</td>\n",
       "      <td>incorrect</td>\n",
       "      <td>The AI's decision to eliminate the source text...</td>\n",
       "    </tr>\n",
       "    <tr>\n",
       "      <th>4</th>\n",
       "      <td>2219</td>\n",
       "      <td>Update scheduler queues after scheduling an in...</td>\n",
       "      <td>\\nYou are an expert in analyzing and categoriz...</td>\n",
       "      <td>True</td>\n",
       "      <td>This appears to be a brief description or comm...</td>\n",
       "      <td>Now, perform your evaluation based on the cont...</td>\n",
       "      <td>incorrect</td>\n",
       "      <td>The AI's output incorrectly eliminates the con...</td>\n",
       "    </tr>\n",
       "  </tbody>\n",
       "</table>\n",
       "</div>"
      ]
     },
     "execution_count": 13,
     "metadata": {},
     "output_type": "execute_result"
    }
   ],
   "execution_count": 13
  },
  {
   "metadata": {
    "ExecuteTime": {
     "end_time": "2025-08-04T07:37:02.051580Z",
     "start_time": "2025-08-04T07:37:02.040576Z"
    }
   },
   "cell_type": "code",
   "source": "df.shape",
   "id": "1098eedf44f78738",
   "outputs": [
    {
     "data": {
      "text/plain": [
       "(384, 8)"
      ]
     },
     "execution_count": 14,
     "metadata": {},
     "output_type": "execute_result"
    }
   ],
   "execution_count": 14
  },
  {
   "metadata": {
    "ExecuteTime": {
     "end_time": "2025-08-04T07:37:02.165065Z",
     "start_time": "2025-08-04T07:37:02.150325Z"
    }
   },
   "cell_type": "code",
   "source": "df.groupby(\"s0_v_correctness\").size().rename(\"count\")",
   "id": "f9e7f2b912fbae57",
   "outputs": [
    {
     "data": {
      "text/plain": [
       "s0_v_correctness\n",
       "correct               13\n",
       "incorrect            282\n",
       "partially correct     89\n",
       "Name: count, dtype: int64"
      ]
     },
     "execution_count": 15,
     "metadata": {},
     "output_type": "execute_result"
    }
   ],
   "execution_count": 15
  },
  {
   "metadata": {
    "ExecuteTime": {
     "end_time": "2025-08-04T07:37:02.288006Z",
     "start_time": "2025-08-04T07:37:02.274524Z"
    }
   },
   "cell_type": "code",
   "source": "df.groupby(\"s0_v_correctness\").size().rename(\"percentage\") / df.shape[0] * 100",
   "id": "ff6c400856b00aa",
   "outputs": [
    {
     "data": {
      "text/plain": [
       "s0_v_correctness\n",
       "correct               3.385417\n",
       "incorrect            73.437500\n",
       "partially correct    23.177083\n",
       "Name: percentage, dtype: float64"
      ]
     },
     "execution_count": 16,
     "metadata": {},
     "output_type": "execute_result"
    }
   ],
   "execution_count": 16
  },
  {
   "metadata": {},
   "cell_type": "markdown",
   "source": "# S1",
   "id": "4f0ce7b2864e8259"
  },
  {
   "metadata": {
    "collapsed": true,
    "ExecuteTime": {
     "end_time": "2025-08-04T07:37:02.754531Z",
     "start_time": "2025-08-04T07:37:02.631213Z"
    }
   },
   "cell_type": "code",
   "source": "df = CSVDFHandler().read_df(AbsDirPath.SAMPLES_VERIFIED / \"s1.csv\")",
   "id": "14de1981e612fade",
   "outputs": [],
   "execution_count": 17
  },
  {
   "metadata": {
    "ExecuteTime": {
     "end_time": "2025-08-04T07:37:02.962097Z",
     "start_time": "2025-08-04T07:37:02.940400Z"
    }
   },
   "cell_type": "code",
   "source": "df.head()",
   "id": "69502393758b69ea",
   "outputs": [
    {
     "data": {
      "text/plain": [
       "   Unnamed: 0                 qa  \\\n",
       "0        9028           security   \n",
       "1        1499  energy efficiency   \n",
       "2         685       availability   \n",
       "3        3247  energy efficiency   \n",
       "4        1508           security   \n",
       "\n",
       "                                            sentence  \\\n",
       "0  In the context of a define, even keywords shou...   \n",
       "1  tions are randomly selected to be either left-...   \n",
       "2  tion,. $\\mbox{FCN}$. The width of the function...   \n",
       "3  @guitargeek Potential good news. I am currentl...   \n",
       "4  >> as TTree I/O does not provide bulks,. >. > ...   \n",
       "\n",
       "                                           s1_prompt  s1_true_positive  \\\n",
       "0  \\nYou are a meticulous software engineering ex...              True   \n",
       "1  \\nYou are a meticulous software engineering ex...              True   \n",
       "2  \\nYou are a meticulous software engineering ex...              True   \n",
       "3  \\nYou are a meticulous software engineering ex...             False   \n",
       "4  \\nYou are a meticulous software engineering ex...             False   \n",
       "\n",
       "                                        s1_reasoning  \\\n",
       "0  The content describes how setting the identifi...   \n",
       "1  The content describes how GWP-ASan is configur...   \n",
       "2  The content describes how to calculate paramet...   \n",
       "3  The content appears to be an email message req...   \n",
       "4  The content does not describe a security threa...   \n",
       "\n",
       "                                         s1_v_prompt s1_v_correctness  \\\n",
       "0  Now, perform your evaluation based on the cont...        incorrect   \n",
       "1  Now, perform your evaluation based on the cont...        incorrect   \n",
       "2  Now, perform your evaluation based on the cont...        incorrect   \n",
       "3  Now, perform your evaluation based on the cont...        incorrect   \n",
       "4  Now, perform your evaluation based on the cont...        incorrect   \n",
       "\n",
       "                                      s1_v_reasoning  \n",
       "0  The original prompt requires evaluating if a s...  \n",
       "1  The AI's output classifies the content as a tr...  \n",
       "2  The AI output classifies the source text as a ...  \n",
       "3  The AI's output incorrectly classified the sou...  \n",
       "4  The AI's decision to classify the source text ...  "
      ],
      "text/html": [
       "<div>\n",
       "<style scoped>\n",
       "    .dataframe tbody tr th:only-of-type {\n",
       "        vertical-align: middle;\n",
       "    }\n",
       "\n",
       "    .dataframe tbody tr th {\n",
       "        vertical-align: top;\n",
       "    }\n",
       "\n",
       "    .dataframe thead th {\n",
       "        text-align: right;\n",
       "    }\n",
       "</style>\n",
       "<table border=\"1\" class=\"dataframe\">\n",
       "  <thead>\n",
       "    <tr style=\"text-align: right;\">\n",
       "      <th></th>\n",
       "      <th>Unnamed: 0</th>\n",
       "      <th>qa</th>\n",
       "      <th>sentence</th>\n",
       "      <th>s1_prompt</th>\n",
       "      <th>s1_true_positive</th>\n",
       "      <th>s1_reasoning</th>\n",
       "      <th>s1_v_prompt</th>\n",
       "      <th>s1_v_correctness</th>\n",
       "      <th>s1_v_reasoning</th>\n",
       "    </tr>\n",
       "  </thead>\n",
       "  <tbody>\n",
       "    <tr>\n",
       "      <th>0</th>\n",
       "      <td>9028</td>\n",
       "      <td>security</td>\n",
       "      <td>In the context of a define, even keywords shou...</td>\n",
       "      <td>\\nYou are a meticulous software engineering ex...</td>\n",
       "      <td>True</td>\n",
       "      <td>The content describes how setting the identifi...</td>\n",
       "      <td>Now, perform your evaluation based on the cont...</td>\n",
       "      <td>incorrect</td>\n",
       "      <td>The original prompt requires evaluating if a s...</td>\n",
       "    </tr>\n",
       "    <tr>\n",
       "      <th>1</th>\n",
       "      <td>1499</td>\n",
       "      <td>energy efficiency</td>\n",
       "      <td>tions are randomly selected to be either left-...</td>\n",
       "      <td>\\nYou are a meticulous software engineering ex...</td>\n",
       "      <td>True</td>\n",
       "      <td>The content describes how GWP-ASan is configur...</td>\n",
       "      <td>Now, perform your evaluation based on the cont...</td>\n",
       "      <td>incorrect</td>\n",
       "      <td>The AI's output classifies the content as a tr...</td>\n",
       "    </tr>\n",
       "    <tr>\n",
       "      <th>2</th>\n",
       "      <td>685</td>\n",
       "      <td>availability</td>\n",
       "      <td>tion,. $\\mbox{FCN}$. The width of the function...</td>\n",
       "      <td>\\nYou are a meticulous software engineering ex...</td>\n",
       "      <td>True</td>\n",
       "      <td>The content describes how to calculate paramet...</td>\n",
       "      <td>Now, perform your evaluation based on the cont...</td>\n",
       "      <td>incorrect</td>\n",
       "      <td>The AI output classifies the source text as a ...</td>\n",
       "    </tr>\n",
       "    <tr>\n",
       "      <th>3</th>\n",
       "      <td>3247</td>\n",
       "      <td>energy efficiency</td>\n",
       "      <td>@guitargeek Potential good news. I am currentl...</td>\n",
       "      <td>\\nYou are a meticulous software engineering ex...</td>\n",
       "      <td>False</td>\n",
       "      <td>The content appears to be an email message req...</td>\n",
       "      <td>Now, perform your evaluation based on the cont...</td>\n",
       "      <td>incorrect</td>\n",
       "      <td>The AI's output incorrectly classified the sou...</td>\n",
       "    </tr>\n",
       "    <tr>\n",
       "      <th>4</th>\n",
       "      <td>1508</td>\n",
       "      <td>security</td>\n",
       "      <td>&gt;&gt; as TTree I/O does not provide bulks,. &gt;. &gt; ...</td>\n",
       "      <td>\\nYou are a meticulous software engineering ex...</td>\n",
       "      <td>False</td>\n",
       "      <td>The content does not describe a security threa...</td>\n",
       "      <td>Now, perform your evaluation based on the cont...</td>\n",
       "      <td>incorrect</td>\n",
       "      <td>The AI's decision to classify the source text ...</td>\n",
       "    </tr>\n",
       "  </tbody>\n",
       "</table>\n",
       "</div>"
      ]
     },
     "execution_count": 18,
     "metadata": {},
     "output_type": "execute_result"
    }
   ],
   "execution_count": 18
  },
  {
   "metadata": {
    "ExecuteTime": {
     "end_time": "2025-08-04T07:37:03.277455Z",
     "start_time": "2025-08-04T07:37:03.266243Z"
    }
   },
   "cell_type": "code",
   "source": "df.shape",
   "id": "45ecb0c3a443f3c8",
   "outputs": [
    {
     "data": {
      "text/plain": [
       "(320, 9)"
      ]
     },
     "execution_count": 19,
     "metadata": {},
     "output_type": "execute_result"
    }
   ],
   "execution_count": 19
  },
  {
   "metadata": {
    "ExecuteTime": {
     "end_time": "2025-08-04T07:37:03.463717Z",
     "start_time": "2025-08-04T07:37:03.448452Z"
    }
   },
   "cell_type": "code",
   "source": "df.groupby(\"s1_v_correctness\").size().rename(\"count\")",
   "id": "29f4ab7f7a30705",
   "outputs": [
    {
     "data": {
      "text/plain": [
       "s1_v_correctness\n",
       "incorrect            283\n",
       "partially correct     37\n",
       "Name: count, dtype: int64"
      ]
     },
     "execution_count": 20,
     "metadata": {},
     "output_type": "execute_result"
    }
   ],
   "execution_count": 20
  },
  {
   "metadata": {
    "ExecuteTime": {
     "end_time": "2025-08-04T07:37:03.683023Z",
     "start_time": "2025-08-04T07:37:03.669117Z"
    }
   },
   "cell_type": "code",
   "source": "df.groupby(\"s1_v_correctness\").size().rename(\"percentage\") / df.shape[0] * 100",
   "id": "5007ff4d3988ff51",
   "outputs": [
    {
     "data": {
      "text/plain": [
       "s1_v_correctness\n",
       "incorrect            88.4375\n",
       "partially correct    11.5625\n",
       "Name: percentage, dtype: float64"
      ]
     },
     "execution_count": 21,
     "metadata": {},
     "output_type": "execute_result"
    }
   ],
   "execution_count": 21
  },
  {
   "metadata": {
    "ExecuteTime": {
     "end_time": "2025-08-04T07:37:04.164843Z",
     "start_time": "2025-08-04T07:37:04.158580Z"
    }
   },
   "cell_type": "code",
   "source": "",
   "id": "b6c7a402b53cb889",
   "outputs": [],
   "execution_count": null
  },
  {
   "metadata": {},
   "cell_type": "code",
   "source": "",
   "id": "3708a06a41cfbe6a",
   "outputs": [],
   "execution_count": null
  }
 ],
 "metadata": {
  "kernelspec": {
   "display_name": "Python 3",
   "language": "python",
   "name": "python3"
  },
  "language_info": {
   "codemirror_mode": {
    "name": "ipython",
    "version": 2
   },
   "file_extension": ".py",
   "mimetype": "text/x-python",
   "name": "python",
   "nbconvert_exporter": "python",
   "pygments_lexer": "ipython2",
   "version": "2.7.6"
  }
 },
 "nbformat": 4,
 "nbformat_minor": 5
}

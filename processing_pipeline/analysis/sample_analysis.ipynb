{
 "cells": [
  {
   "cell_type": "code",
   "id": "8d6593feb9904ca0",
   "metadata": {
    "ExecuteTime": {
     "end_time": "2025-08-10T07:05:54.602898Z",
     "start_time": "2025-08-10T07:05:54.589924Z"
    }
   },
   "source": [
    "from constants.abs_paths import AbsDirPath\n",
    "from processing_pipeline.model.CSVDFHandler import CSVDFHandler\n",
    "from processing_pipeline.utilities.data_transformation import load_all_files"
   ],
   "outputs": [],
   "execution_count": 46
  },
  {
   "metadata": {},
   "cell_type": "markdown",
   "source": "# S0",
   "id": "e1fbe1b668ca0b89"
  },
  {
   "metadata": {
    "collapsed": true,
    "ExecuteTime": {
     "end_time": "2025-08-10T07:05:54.738662Z",
     "start_time": "2025-08-10T07:05:54.641480Z"
    }
   },
   "cell_type": "code",
   "source": "df = CSVDFHandler().read_df(AbsDirPath.SAMPLES_VERIFIED / \"s0.csv\")",
   "id": "initial_id",
   "outputs": [],
   "execution_count": 47
  },
  {
   "metadata": {
    "ExecuteTime": {
     "end_time": "2025-08-10T07:05:54.764884Z",
     "start_time": "2025-08-10T07:05:54.749761Z"
    }
   },
   "cell_type": "code",
   "source": "df.head()",
   "id": "72d5488d751c4f38",
   "outputs": [
    {
     "data": {
      "text/plain": [
       "   Unnamed: 0                                           sentence  \\\n",
       "0        2041  LoweringError: Failed in nopython mode pipelin...   \n",
       "1       12677  Compute the static offset of the ultimate dest...   \n",
       "2        2997  [WIP] Parallelise reading of sub-branches in T...   \n",
       "3       13110  Create a new node, and save it in the context ...   \n",
       "4        1397  e produces undefined behaviour because the sid...   \n",
       "\n",
       "                                           s0_prompt  s0_to_eliminate  \\\n",
       "0  \\nYou are an expert in analyzing and categoriz...             True   \n",
       "1  \\nYou are an expert in analyzing and categoriz...             True   \n",
       "2  \\nYou are an expert in analyzing and categoriz...            False   \n",
       "3  \\nYou are an expert in analyzing and categoriz...             True   \n",
       "4  \\nYou are an expert in analyzing and categoriz...            False   \n",
       "\n",
       "                                        s0_reasoning  \\\n",
       "0  This is an error message from a program. It co...   \n",
       "1  This appears to be a technical description rel...   \n",
       "2  This content is a commit message that explains...   \n",
       "3  This appears to be an instruction or comment a...   \n",
       "4  This content is primarily technical but contai...   \n",
       "\n",
       "                                         s0_v_prompt  \\\n",
       "0  Now, perform your your audit based on the data...   \n",
       "1  Now, perform your your audit based on the data...   \n",
       "2  Now, perform your your audit based on the data...   \n",
       "3  Now, perform your your audit based on the data...   \n",
       "4  Now, perform your your audit based on the data...   \n",
       "\n",
       "         s0_v_ground_truth_category s0_v_evaluation  \\\n",
       "0                    Log File/Trace         correct   \n",
       "1  Technical/Scientific Explanation       incorrect   \n",
       "2      Instructional Guide/Tutorial         correct   \n",
       "3      Instructional Guide/Tutorial       incorrect   \n",
       "4      Instructional Guide/Tutorial         correct   \n",
       "\n",
       "                                      s0_v_reasoning  \n",
       "0  My verdict is correct because the ground truth...  \n",
       "1  My verdict is incorrect because the ground tru...  \n",
       "2  My verdict is correct because the ground truth...  \n",
       "3  My verdict is incorrect because the ground tru...  \n",
       "4  My verdict is correct because the ground truth...  "
      ],
      "text/html": [
       "<div>\n",
       "<style scoped>\n",
       "    .dataframe tbody tr th:only-of-type {\n",
       "        vertical-align: middle;\n",
       "    }\n",
       "\n",
       "    .dataframe tbody tr th {\n",
       "        vertical-align: top;\n",
       "    }\n",
       "\n",
       "    .dataframe thead th {\n",
       "        text-align: right;\n",
       "    }\n",
       "</style>\n",
       "<table border=\"1\" class=\"dataframe\">\n",
       "  <thead>\n",
       "    <tr style=\"text-align: right;\">\n",
       "      <th></th>\n",
       "      <th>Unnamed: 0</th>\n",
       "      <th>sentence</th>\n",
       "      <th>s0_prompt</th>\n",
       "      <th>s0_to_eliminate</th>\n",
       "      <th>s0_reasoning</th>\n",
       "      <th>s0_v_prompt</th>\n",
       "      <th>s0_v_ground_truth_category</th>\n",
       "      <th>s0_v_evaluation</th>\n",
       "      <th>s0_v_reasoning</th>\n",
       "    </tr>\n",
       "  </thead>\n",
       "  <tbody>\n",
       "    <tr>\n",
       "      <th>0</th>\n",
       "      <td>2041</td>\n",
       "      <td>LoweringError: Failed in nopython mode pipelin...</td>\n",
       "      <td>\\nYou are an expert in analyzing and categoriz...</td>\n",
       "      <td>True</td>\n",
       "      <td>This is an error message from a program. It co...</td>\n",
       "      <td>Now, perform your your audit based on the data...</td>\n",
       "      <td>Log File/Trace</td>\n",
       "      <td>correct</td>\n",
       "      <td>My verdict is correct because the ground truth...</td>\n",
       "    </tr>\n",
       "    <tr>\n",
       "      <th>1</th>\n",
       "      <td>12677</td>\n",
       "      <td>Compute the static offset of the ultimate dest...</td>\n",
       "      <td>\\nYou are an expert in analyzing and categoriz...</td>\n",
       "      <td>True</td>\n",
       "      <td>This appears to be a technical description rel...</td>\n",
       "      <td>Now, perform your your audit based on the data...</td>\n",
       "      <td>Technical/Scientific Explanation</td>\n",
       "      <td>incorrect</td>\n",
       "      <td>My verdict is incorrect because the ground tru...</td>\n",
       "    </tr>\n",
       "    <tr>\n",
       "      <th>2</th>\n",
       "      <td>2997</td>\n",
       "      <td>[WIP] Parallelise reading of sub-branches in T...</td>\n",
       "      <td>\\nYou are an expert in analyzing and categoriz...</td>\n",
       "      <td>False</td>\n",
       "      <td>This content is a commit message that explains...</td>\n",
       "      <td>Now, perform your your audit based on the data...</td>\n",
       "      <td>Instructional Guide/Tutorial</td>\n",
       "      <td>correct</td>\n",
       "      <td>My verdict is correct because the ground truth...</td>\n",
       "    </tr>\n",
       "    <tr>\n",
       "      <th>3</th>\n",
       "      <td>13110</td>\n",
       "      <td>Create a new node, and save it in the context ...</td>\n",
       "      <td>\\nYou are an expert in analyzing and categoriz...</td>\n",
       "      <td>True</td>\n",
       "      <td>This appears to be an instruction or comment a...</td>\n",
       "      <td>Now, perform your your audit based on the data...</td>\n",
       "      <td>Instructional Guide/Tutorial</td>\n",
       "      <td>incorrect</td>\n",
       "      <td>My verdict is incorrect because the ground tru...</td>\n",
       "    </tr>\n",
       "    <tr>\n",
       "      <th>4</th>\n",
       "      <td>1397</td>\n",
       "      <td>e produces undefined behaviour because the sid...</td>\n",
       "      <td>\\nYou are an expert in analyzing and categoriz...</td>\n",
       "      <td>False</td>\n",
       "      <td>This content is primarily technical but contai...</td>\n",
       "      <td>Now, perform your your audit based on the data...</td>\n",
       "      <td>Instructional Guide/Tutorial</td>\n",
       "      <td>correct</td>\n",
       "      <td>My verdict is correct because the ground truth...</td>\n",
       "    </tr>\n",
       "  </tbody>\n",
       "</table>\n",
       "</div>"
      ]
     },
     "execution_count": 48,
     "metadata": {},
     "output_type": "execute_result"
    }
   ],
   "execution_count": 48
  },
  {
   "metadata": {
    "ExecuteTime": {
     "end_time": "2025-08-10T07:05:55.004928Z",
     "start_time": "2025-08-10T07:05:54.995267Z"
    }
   },
   "cell_type": "code",
   "source": "df.shape",
   "id": "1098eedf44f78738",
   "outputs": [
    {
     "data": {
      "text/plain": [
       "(384, 9)"
      ]
     },
     "execution_count": 49,
     "metadata": {},
     "output_type": "execute_result"
    }
   ],
   "execution_count": 49
  },
  {
   "metadata": {
    "ExecuteTime": {
     "end_time": "2025-08-10T07:05:55.121386Z",
     "start_time": "2025-08-10T07:05:55.110421Z"
    }
   },
   "cell_type": "code",
   "source": "df.groupby(\"s0_v_evaluation\").size().rename(\"count\")",
   "id": "f9e7f2b912fbae57",
   "outputs": [
    {
     "data": {
      "text/plain": [
       "s0_v_evaluation\n",
       "correct      179\n",
       "incorrect    205\n",
       "Name: count, dtype: int64"
      ]
     },
     "execution_count": 50,
     "metadata": {},
     "output_type": "execute_result"
    }
   ],
   "execution_count": 50
  },
  {
   "metadata": {
    "ExecuteTime": {
     "end_time": "2025-08-10T07:05:55.280945Z",
     "start_time": "2025-08-10T07:05:55.270548Z"
    }
   },
   "cell_type": "code",
   "source": "df.groupby(\"s0_v_evaluation\").size().rename(\"percentage\") / df.shape[0] * 100",
   "id": "ff6c400856b00aa",
   "outputs": [
    {
     "data": {
      "text/plain": [
       "s0_v_evaluation\n",
       "correct      46.614583\n",
       "incorrect    53.385417\n",
       "Name: percentage, dtype: float64"
      ]
     },
     "execution_count": 51,
     "metadata": {},
     "output_type": "execute_result"
    }
   ],
   "execution_count": 51
  },
  {
   "metadata": {},
   "cell_type": "markdown",
   "source": "# S1",
   "id": "4f0ce7b2864e8259"
  },
  {
   "metadata": {
    "collapsed": true,
    "ExecuteTime": {
     "end_time": "2025-08-10T07:05:55.484353Z",
     "start_time": "2025-08-10T07:05:55.411842Z"
    }
   },
   "cell_type": "code",
   "source": "df = CSVDFHandler().read_df(AbsDirPath.SAMPLES_VERIFIED / \"s1.csv\")",
   "id": "14de1981e612fade",
   "outputs": [],
   "execution_count": 52
  },
  {
   "metadata": {
    "ExecuteTime": {
     "end_time": "2025-08-10T07:05:55.659090Z",
     "start_time": "2025-08-10T07:05:55.641324Z"
    }
   },
   "cell_type": "code",
   "source": "df.head()",
   "id": "69502393758b69ea",
   "outputs": [
    {
     "data": {
      "text/plain": [
       "   Unnamed: 0                 qa  \\\n",
       "0          44       availability   \n",
       "1        5055          usability   \n",
       "2       10301      modifiability   \n",
       "3        3214   interoperability   \n",
       "4         799  energy efficiency   \n",
       "\n",
       "                                            sentence  \\\n",
       "0  TH1F::Fill()) with the fPosX value of that par...   \n",
       "1  Now, look at each merge-eligible global in tur...   \n",
       "2  Variables that have initialization with side-e...   \n",
       "3  > yes, they are annoying particularly because ...   \n",
       "4  This function tries matching functions in base...   \n",
       "\n",
       "                                           s1_prompt  s1_true_positive  \\\n",
       "0  \\nYou are a meticulous software engineering ex...              True   \n",
       "1  \\nYou are a meticulous software engineering ex...              True   \n",
       "2  \\nYou are a meticulous software engineering ex...              True   \n",
       "3  \\nYou are a meticulous software engineering ex...              True   \n",
       "4  \\nYou are a meticulous software engineering ex...              True   \n",
       "\n",
       "                                        s1_reasoning  \\\n",
       "0  The content describes how to fit a histogram w...   \n",
       "1  The content describes how tracking sets helps ...   \n",
       "2  The content states that variables with initial...   \n",
       "3  The content describes functionality related to...   \n",
       "4  The content describes functionality related to...   \n",
       "\n",
       "                                         s1_v_prompt  \\\n",
       "0  Now, perform your your audit based on the data...   \n",
       "1  Now, perform your your audit based on the data...   \n",
       "2  Now, perform your your audit based on the data...   \n",
       "3  Now, perform your your audit based on the data...   \n",
       "4  Now, perform your your audit based on the data...   \n",
       "\n",
       "   s1_v_ground_truth_intent  \\\n",
       "0  Describing Functionality   \n",
       "1  Describing Functionality   \n",
       "2  Describing Functionality   \n",
       "3  Describing Functionality   \n",
       "4  Describing Functionality   \n",
       "\n",
       "                   s1_v_ground_truth_qa_if_different s1_v_evaluation  \\\n",
       "0  No, I can't do that. You have to be more speci...         correct   \n",
       "1  The following is a list of questions about the...       incorrect   \n",
       "2                                                NaN       incorrect   \n",
       "3                                                NaN       incorrect   \n",
       "4      The user is not defined in the given context.       incorrect   \n",
       "\n",
       "                                      s1_v_reasoning  \n",
       "0  I am not sure what you mean by 'more than' or ...  \n",
       "1  yes i am not sure if that's a good, but I thin...  \n",
       "2  The first AI's decision is incorrect because t...  \n",
       "3  The first AI's decision to classify the senten...  \n",
       "4  I am considering that I have a problem with an...  "
      ],
      "text/html": [
       "<div>\n",
       "<style scoped>\n",
       "    .dataframe tbody tr th:only-of-type {\n",
       "        vertical-align: middle;\n",
       "    }\n",
       "\n",
       "    .dataframe tbody tr th {\n",
       "        vertical-align: top;\n",
       "    }\n",
       "\n",
       "    .dataframe thead th {\n",
       "        text-align: right;\n",
       "    }\n",
       "</style>\n",
       "<table border=\"1\" class=\"dataframe\">\n",
       "  <thead>\n",
       "    <tr style=\"text-align: right;\">\n",
       "      <th></th>\n",
       "      <th>Unnamed: 0</th>\n",
       "      <th>qa</th>\n",
       "      <th>sentence</th>\n",
       "      <th>s1_prompt</th>\n",
       "      <th>s1_true_positive</th>\n",
       "      <th>s1_reasoning</th>\n",
       "      <th>s1_v_prompt</th>\n",
       "      <th>s1_v_ground_truth_intent</th>\n",
       "      <th>s1_v_ground_truth_qa_if_different</th>\n",
       "      <th>s1_v_evaluation</th>\n",
       "      <th>s1_v_reasoning</th>\n",
       "    </tr>\n",
       "  </thead>\n",
       "  <tbody>\n",
       "    <tr>\n",
       "      <th>0</th>\n",
       "      <td>44</td>\n",
       "      <td>availability</td>\n",
       "      <td>TH1F::Fill()) with the fPosX value of that par...</td>\n",
       "      <td>\\nYou are a meticulous software engineering ex...</td>\n",
       "      <td>True</td>\n",
       "      <td>The content describes how to fit a histogram w...</td>\n",
       "      <td>Now, perform your your audit based on the data...</td>\n",
       "      <td>Describing Functionality</td>\n",
       "      <td>No, I can't do that. You have to be more speci...</td>\n",
       "      <td>correct</td>\n",
       "      <td>I am not sure what you mean by 'more than' or ...</td>\n",
       "    </tr>\n",
       "    <tr>\n",
       "      <th>1</th>\n",
       "      <td>5055</td>\n",
       "      <td>usability</td>\n",
       "      <td>Now, look at each merge-eligible global in tur...</td>\n",
       "      <td>\\nYou are a meticulous software engineering ex...</td>\n",
       "      <td>True</td>\n",
       "      <td>The content describes how tracking sets helps ...</td>\n",
       "      <td>Now, perform your your audit based on the data...</td>\n",
       "      <td>Describing Functionality</td>\n",
       "      <td>The following is a list of questions about the...</td>\n",
       "      <td>incorrect</td>\n",
       "      <td>yes i am not sure if that's a good, but I thin...</td>\n",
       "    </tr>\n",
       "    <tr>\n",
       "      <th>2</th>\n",
       "      <td>10301</td>\n",
       "      <td>modifiability</td>\n",
       "      <td>Variables that have initialization with side-e...</td>\n",
       "      <td>\\nYou are a meticulous software engineering ex...</td>\n",
       "      <td>True</td>\n",
       "      <td>The content states that variables with initial...</td>\n",
       "      <td>Now, perform your your audit based on the data...</td>\n",
       "      <td>Describing Functionality</td>\n",
       "      <td>NaN</td>\n",
       "      <td>incorrect</td>\n",
       "      <td>The first AI's decision is incorrect because t...</td>\n",
       "    </tr>\n",
       "    <tr>\n",
       "      <th>3</th>\n",
       "      <td>3214</td>\n",
       "      <td>interoperability</td>\n",
       "      <td>&gt; yes, they are annoying particularly because ...</td>\n",
       "      <td>\\nYou are a meticulous software engineering ex...</td>\n",
       "      <td>True</td>\n",
       "      <td>The content describes functionality related to...</td>\n",
       "      <td>Now, perform your your audit based on the data...</td>\n",
       "      <td>Describing Functionality</td>\n",
       "      <td>NaN</td>\n",
       "      <td>incorrect</td>\n",
       "      <td>The first AI's decision to classify the senten...</td>\n",
       "    </tr>\n",
       "    <tr>\n",
       "      <th>4</th>\n",
       "      <td>799</td>\n",
       "      <td>energy efficiency</td>\n",
       "      <td>This function tries matching functions in base...</td>\n",
       "      <td>\\nYou are a meticulous software engineering ex...</td>\n",
       "      <td>True</td>\n",
       "      <td>The content describes functionality related to...</td>\n",
       "      <td>Now, perform your your audit based on the data...</td>\n",
       "      <td>Describing Functionality</td>\n",
       "      <td>The user is not defined in the given context.</td>\n",
       "      <td>incorrect</td>\n",
       "      <td>I am considering that I have a problem with an...</td>\n",
       "    </tr>\n",
       "  </tbody>\n",
       "</table>\n",
       "</div>"
      ]
     },
     "execution_count": 53,
     "metadata": {},
     "output_type": "execute_result"
    }
   ],
   "execution_count": 53
  },
  {
   "metadata": {
    "ExecuteTime": {
     "end_time": "2025-08-10T07:05:55.833893Z",
     "start_time": "2025-08-10T07:05:55.826359Z"
    }
   },
   "cell_type": "code",
   "source": "df.shape",
   "id": "45ecb0c3a443f3c8",
   "outputs": [
    {
     "data": {
      "text/plain": [
       "(384, 11)"
      ]
     },
     "execution_count": 54,
     "metadata": {},
     "output_type": "execute_result"
    }
   ],
   "execution_count": 54
  },
  {
   "metadata": {
    "ExecuteTime": {
     "end_time": "2025-08-10T07:05:55.987654Z",
     "start_time": "2025-08-10T07:05:55.975924Z"
    }
   },
   "cell_type": "code",
   "source": "df.groupby(\"s1_v_evaluation\").size().rename(\"percentage\") / df.shape[0] * 100",
   "id": "5007ff4d3988ff51",
   "outputs": [
    {
     "data": {
      "text/plain": [
       "s1_v_evaluation\n",
       "correct      25.0\n",
       "incorrect    75.0\n",
       "Name: percentage, dtype: float64"
      ]
     },
     "execution_count": 55,
     "metadata": {},
     "output_type": "execute_result"
    }
   ],
   "execution_count": 55
  },
  {
   "metadata": {
    "ExecuteTime": {
     "end_time": "2025-08-10T07:05:56.157079Z",
     "start_time": "2025-08-10T07:05:56.147888Z"
    }
   },
   "cell_type": "code",
   "source": "df.groupby(\"s1_v_evaluation\").size().rename(\"count\")",
   "id": "29f4ab7f7a30705",
   "outputs": [
    {
     "data": {
      "text/plain": [
       "s1_v_evaluation\n",
       "correct       96\n",
       "incorrect    288\n",
       "Name: count, dtype: int64"
      ]
     },
     "execution_count": 56,
     "metadata": {},
     "output_type": "execute_result"
    }
   ],
   "execution_count": 56
  },
  {
   "metadata": {},
   "cell_type": "markdown",
   "source": "# S2",
   "id": "eb92280d9b0e7712"
  },
  {
   "metadata": {
    "collapsed": true,
    "ExecuteTime": {
     "end_time": "2025-08-10T07:05:56.395873Z",
     "start_time": "2025-08-10T07:05:56.323189Z"
    }
   },
   "cell_type": "code",
   "source": "df = CSVDFHandler().read_df(AbsDirPath.SAMPLES_VERIFIED / \"s2.csv\")",
   "id": "6e04078c764c956c",
   "outputs": [],
   "execution_count": 57
  },
  {
   "metadata": {
    "ExecuteTime": {
     "end_time": "2025-08-10T07:05:56.504534Z",
     "start_time": "2025-08-10T07:05:56.489594Z"
    }
   },
   "cell_type": "code",
   "source": "df.head()",
   "id": "36e5e951db5573c1",
   "outputs": [
    {
     "data": {
      "text/plain": [
       "   Unnamed: 0                                           sentence  \\\n",
       "0        6790  Table to cache MD5 values of sample contexts c...   \n",
       "1         233  Hi @sfchen . In my mind, you can reduce the nu...   \n",
       "2        1061  n the entry basic block afterward. The SROA (S...   \n",
       "3        1823  Update def-ages for registers defined by MI. I...   \n",
       "4        7726  DiagnoseForRangeVariableCopies - Diagnose thre...   \n",
       "\n",
       "                                           s2_prompt  s2_related_to_arch  \\\n",
       "0  \\nYou are an expert in software architecture a...               False   \n",
       "1  \\nYou are an expert in software architecture a...               False   \n",
       "2  \\nYou are an expert in software architecture a...               False   \n",
       "3  \\nYou are an expert in software architecture a...               False   \n",
       "4  \\nYou are an expert in software architecture a...               False   \n",
       "\n",
       "                                        s2_reasoning  \\\n",
       "0  Step 1: The core topic of the content is a tab...   \n",
       "1  Step 1: Initial Analysis\\nThe content appears ...   \n",
       "2  The content discusses low-level optimization t...   \n",
       "3  Step 1: The core topic of the content appears ...   \n",
       "4  The content is about diagnosing and fixing spe...   \n",
       "\n",
       "                                         s2_v_prompt  \\\n",
       "0  Now, perform your your audit based on the data...   \n",
       "1  Now, perform your your audit based on the data...   \n",
       "2  Now, perform your your audit based on the data...   \n",
       "3  Now, perform your your audit based on the data...   \n",
       "4  Now, perform your your audit based on the data...   \n",
       "\n",
       "       s2_v_ground_truth_scope s2_v_evaluation  \\\n",
       "0  Local Implementation Detail         correct   \n",
       "1  Local Implementation Detail         correct   \n",
       "2  Local Implementation Detail         correct   \n",
       "3  Local Implementation Detail         correct   \n",
       "4  Local Implementation Detail         correct   \n",
       "\n",
       "                                      s2_v_reasoning  \n",
       "0  My verdict is correct because the text's scope...  \n",
       "1  My verdict is correct because the text's scope...  \n",
       "2  My verdict is correct because the text's scope...  \n",
       "3  My verdict is correct because the text's scope...  \n",
       "4  My verdict is correct because the text's scope...  "
      ],
      "text/html": [
       "<div>\n",
       "<style scoped>\n",
       "    .dataframe tbody tr th:only-of-type {\n",
       "        vertical-align: middle;\n",
       "    }\n",
       "\n",
       "    .dataframe tbody tr th {\n",
       "        vertical-align: top;\n",
       "    }\n",
       "\n",
       "    .dataframe thead th {\n",
       "        text-align: right;\n",
       "    }\n",
       "</style>\n",
       "<table border=\"1\" class=\"dataframe\">\n",
       "  <thead>\n",
       "    <tr style=\"text-align: right;\">\n",
       "      <th></th>\n",
       "      <th>Unnamed: 0</th>\n",
       "      <th>sentence</th>\n",
       "      <th>s2_prompt</th>\n",
       "      <th>s2_related_to_arch</th>\n",
       "      <th>s2_reasoning</th>\n",
       "      <th>s2_v_prompt</th>\n",
       "      <th>s2_v_ground_truth_scope</th>\n",
       "      <th>s2_v_evaluation</th>\n",
       "      <th>s2_v_reasoning</th>\n",
       "    </tr>\n",
       "  </thead>\n",
       "  <tbody>\n",
       "    <tr>\n",
       "      <th>0</th>\n",
       "      <td>6790</td>\n",
       "      <td>Table to cache MD5 values of sample contexts c...</td>\n",
       "      <td>\\nYou are an expert in software architecture a...</td>\n",
       "      <td>False</td>\n",
       "      <td>Step 1: The core topic of the content is a tab...</td>\n",
       "      <td>Now, perform your your audit based on the data...</td>\n",
       "      <td>Local Implementation Detail</td>\n",
       "      <td>correct</td>\n",
       "      <td>My verdict is correct because the text's scope...</td>\n",
       "    </tr>\n",
       "    <tr>\n",
       "      <th>1</th>\n",
       "      <td>233</td>\n",
       "      <td>Hi @sfchen . In my mind, you can reduce the nu...</td>\n",
       "      <td>\\nYou are an expert in software architecture a...</td>\n",
       "      <td>False</td>\n",
       "      <td>Step 1: Initial Analysis\\nThe content appears ...</td>\n",
       "      <td>Now, perform your your audit based on the data...</td>\n",
       "      <td>Local Implementation Detail</td>\n",
       "      <td>correct</td>\n",
       "      <td>My verdict is correct because the text's scope...</td>\n",
       "    </tr>\n",
       "    <tr>\n",
       "      <th>2</th>\n",
       "      <td>1061</td>\n",
       "      <td>n the entry basic block afterward. The SROA (S...</td>\n",
       "      <td>\\nYou are an expert in software architecture a...</td>\n",
       "      <td>False</td>\n",
       "      <td>The content discusses low-level optimization t...</td>\n",
       "      <td>Now, perform your your audit based on the data...</td>\n",
       "      <td>Local Implementation Detail</td>\n",
       "      <td>correct</td>\n",
       "      <td>My verdict is correct because the text's scope...</td>\n",
       "    </tr>\n",
       "    <tr>\n",
       "      <th>3</th>\n",
       "      <td>1823</td>\n",
       "      <td>Update def-ages for registers defined by MI. I...</td>\n",
       "      <td>\\nYou are an expert in software architecture a...</td>\n",
       "      <td>False</td>\n",
       "      <td>Step 1: The core topic of the content appears ...</td>\n",
       "      <td>Now, perform your your audit based on the data...</td>\n",
       "      <td>Local Implementation Detail</td>\n",
       "      <td>correct</td>\n",
       "      <td>My verdict is correct because the text's scope...</td>\n",
       "    </tr>\n",
       "    <tr>\n",
       "      <th>4</th>\n",
       "      <td>7726</td>\n",
       "      <td>DiagnoseForRangeVariableCopies - Diagnose thre...</td>\n",
       "      <td>\\nYou are an expert in software architecture a...</td>\n",
       "      <td>False</td>\n",
       "      <td>The content is about diagnosing and fixing spe...</td>\n",
       "      <td>Now, perform your your audit based on the data...</td>\n",
       "      <td>Local Implementation Detail</td>\n",
       "      <td>correct</td>\n",
       "      <td>My verdict is correct because the text's scope...</td>\n",
       "    </tr>\n",
       "  </tbody>\n",
       "</table>\n",
       "</div>"
      ]
     },
     "execution_count": 58,
     "metadata": {},
     "output_type": "execute_result"
    }
   ],
   "execution_count": 58
  },
  {
   "metadata": {
    "ExecuteTime": {
     "end_time": "2025-08-10T07:05:56.621956Z",
     "start_time": "2025-08-10T07:05:56.614319Z"
    }
   },
   "cell_type": "code",
   "source": "df.shape",
   "id": "dfc251bf7c90e689",
   "outputs": [
    {
     "data": {
      "text/plain": [
       "(384, 9)"
      ]
     },
     "execution_count": 59,
     "metadata": {},
     "output_type": "execute_result"
    }
   ],
   "execution_count": 59
  },
  {
   "metadata": {
    "ExecuteTime": {
     "end_time": "2025-08-10T07:05:56.819284Z",
     "start_time": "2025-08-10T07:05:56.808243Z"
    }
   },
   "cell_type": "code",
   "source": "df.groupby(\"s2_v_evaluation\").size().rename(\"percentage\") / df.shape[0] * 100",
   "id": "bacb4a827563132f",
   "outputs": [
    {
     "data": {
      "text/plain": [
       "s2_v_evaluation\n",
       "correct      87.239583\n",
       "incorrect    12.760417\n",
       "Name: percentage, dtype: float64"
      ]
     },
     "execution_count": 60,
     "metadata": {},
     "output_type": "execute_result"
    }
   ],
   "execution_count": 60
  },
  {
   "metadata": {
    "ExecuteTime": {
     "end_time": "2025-08-10T07:05:57.022037Z",
     "start_time": "2025-08-10T07:05:57.011071Z"
    }
   },
   "cell_type": "code",
   "source": "df.groupby(\"s2_v_evaluation\").size().rename(\"count\")",
   "id": "a279d31344081ec2",
   "outputs": [
    {
     "data": {
      "text/plain": [
       "s2_v_evaluation\n",
       "correct      335\n",
       "incorrect     49\n",
       "Name: count, dtype: int64"
      ]
     },
     "execution_count": 61,
     "metadata": {},
     "output_type": "execute_result"
    }
   ],
   "execution_count": 61
  },
  {
   "metadata": {},
   "cell_type": "markdown",
   "source": "# S3",
   "id": "aff2da4a17be7ce1"
  },
  {
   "metadata": {
    "collapsed": true,
    "ExecuteTime": {
     "end_time": "2025-08-10T07:05:57.353901Z",
     "start_time": "2025-08-10T07:05:57.259174Z"
    }
   },
   "cell_type": "code",
   "source": "df = CSVDFHandler().read_df(AbsDirPath.SAMPLES_VERIFIED / \"s3.csv\")",
   "id": "d6998752caec2f5",
   "outputs": [],
   "execution_count": 62
  },
  {
   "metadata": {
    "ExecuteTime": {
     "end_time": "2025-08-10T07:05:57.477783Z",
     "start_time": "2025-08-10T07:05:57.462512Z"
    }
   },
   "cell_type": "code",
   "source": "df.head()",
   "id": "c3deaa2623f4037",
   "outputs": [
    {
     "data": {
      "text/plain": [
       "   Unnamed: 0                 qa  \\\n",
       "0        1820      integrability   \n",
       "1        2587  energy efficiency   \n",
       "2        1156        testability   \n",
       "3        6719             safety   \n",
       "4         946      deployability   \n",
       "\n",
       "                                            sentence  \\\n",
       "0  Interesting, @MichaelPeibo! Would you share th...   \n",
       "1  < Use new instance of all the pass/analysis ma...   \n",
       "2  .. _history:. History. =======. .. toctree::. ...   \n",
       "3  If one input is the very global we're querying...   \n",
       "4  ghtforward: just hand them to pickle (or. cPic...   \n",
       "\n",
       "                                           s3_prompt  \\\n",
       "0  \\nBased on the rules provided, analyze the fol...   \n",
       "1  \\nBased on the rules provided, analyze the fol...   \n",
       "2  \\nBased on the rules provided, analyze the fol...   \n",
       "3  \\nBased on the rules provided, analyze the fol...   \n",
       "4  \\nBased on the rules provided, analyze the fol...   \n",
       "\n",
       "                  s3_tactic  \\\n",
       "0                       NaN   \n",
       "1                       NaN   \n",
       "2     Abstract Data Sources   \n",
       "3                       NaN   \n",
       "4  Abstract Common Services   \n",
       "\n",
       "                                         s3_response  \\\n",
       "0  The system is being asked to implement a featu...   \n",
       "1  The system is being asked to use a new instanc...   \n",
       "2  The system provides an interface to substitute...   \n",
       "3  The system cannot determine aliasing if the qu...   \n",
       "4  The system implements similar services once in...   \n",
       "\n",
       "                                         s3_v_prompt  \\\n",
       "0  Now, perform your your audit based on the data...   \n",
       "1  Now, perform your your audit based on the data...   \n",
       "2  Now, perform your your audit based on the data...   \n",
       "3  Now, perform your your audit based on the data...   \n",
       "4  Now, perform your your audit based on the data...   \n",
       "\n",
       "       s3_v_ground_truth_scope s3_v_evaluation  \\\n",
       "0          System-Level Design         correct   \n",
       "1  Local Implementation Detail       incorrect   \n",
       "2  Local Implementation Detail       incorrect   \n",
       "3  Local Implementation Detail       incorrect   \n",
       "4  Local Implementation Detail       incorrect   \n",
       "\n",
       "                                      s3_v_reasoning  \n",
       "0  I am considering the best way to do this is to...  \n",
       "1  The first AI's decision was incorrect because ...  \n",
       "2  The text describes the history and evolution o...  \n",
       "3  The first AI's decision was incorrect because ...  \n",
       "4  The first AI's decision was incorrect because ...  "
      ],
      "text/html": [
       "<div>\n",
       "<style scoped>\n",
       "    .dataframe tbody tr th:only-of-type {\n",
       "        vertical-align: middle;\n",
       "    }\n",
       "\n",
       "    .dataframe tbody tr th {\n",
       "        vertical-align: top;\n",
       "    }\n",
       "\n",
       "    .dataframe thead th {\n",
       "        text-align: right;\n",
       "    }\n",
       "</style>\n",
       "<table border=\"1\" class=\"dataframe\">\n",
       "  <thead>\n",
       "    <tr style=\"text-align: right;\">\n",
       "      <th></th>\n",
       "      <th>Unnamed: 0</th>\n",
       "      <th>qa</th>\n",
       "      <th>sentence</th>\n",
       "      <th>s3_prompt</th>\n",
       "      <th>s3_tactic</th>\n",
       "      <th>s3_response</th>\n",
       "      <th>s3_v_prompt</th>\n",
       "      <th>s3_v_ground_truth_scope</th>\n",
       "      <th>s3_v_evaluation</th>\n",
       "      <th>s3_v_reasoning</th>\n",
       "    </tr>\n",
       "  </thead>\n",
       "  <tbody>\n",
       "    <tr>\n",
       "      <th>0</th>\n",
       "      <td>1820</td>\n",
       "      <td>integrability</td>\n",
       "      <td>Interesting, @MichaelPeibo! Would you share th...</td>\n",
       "      <td>\\nBased on the rules provided, analyze the fol...</td>\n",
       "      <td>NaN</td>\n",
       "      <td>The system is being asked to implement a featu...</td>\n",
       "      <td>Now, perform your your audit based on the data...</td>\n",
       "      <td>System-Level Design</td>\n",
       "      <td>correct</td>\n",
       "      <td>I am considering the best way to do this is to...</td>\n",
       "    </tr>\n",
       "    <tr>\n",
       "      <th>1</th>\n",
       "      <td>2587</td>\n",
       "      <td>energy efficiency</td>\n",
       "      <td>&lt; Use new instance of all the pass/analysis ma...</td>\n",
       "      <td>\\nBased on the rules provided, analyze the fol...</td>\n",
       "      <td>NaN</td>\n",
       "      <td>The system is being asked to use a new instanc...</td>\n",
       "      <td>Now, perform your your audit based on the data...</td>\n",
       "      <td>Local Implementation Detail</td>\n",
       "      <td>incorrect</td>\n",
       "      <td>The first AI's decision was incorrect because ...</td>\n",
       "    </tr>\n",
       "    <tr>\n",
       "      <th>2</th>\n",
       "      <td>1156</td>\n",
       "      <td>testability</td>\n",
       "      <td>.. _history:. History. =======. .. toctree::. ...</td>\n",
       "      <td>\\nBased on the rules provided, analyze the fol...</td>\n",
       "      <td>Abstract Data Sources</td>\n",
       "      <td>The system provides an interface to substitute...</td>\n",
       "      <td>Now, perform your your audit based on the data...</td>\n",
       "      <td>Local Implementation Detail</td>\n",
       "      <td>incorrect</td>\n",
       "      <td>The text describes the history and evolution o...</td>\n",
       "    </tr>\n",
       "    <tr>\n",
       "      <th>3</th>\n",
       "      <td>6719</td>\n",
       "      <td>safety</td>\n",
       "      <td>If one input is the very global we're querying...</td>\n",
       "      <td>\\nBased on the rules provided, analyze the fol...</td>\n",
       "      <td>NaN</td>\n",
       "      <td>The system cannot determine aliasing if the qu...</td>\n",
       "      <td>Now, perform your your audit based on the data...</td>\n",
       "      <td>Local Implementation Detail</td>\n",
       "      <td>incorrect</td>\n",
       "      <td>The first AI's decision was incorrect because ...</td>\n",
       "    </tr>\n",
       "    <tr>\n",
       "      <th>4</th>\n",
       "      <td>946</td>\n",
       "      <td>deployability</td>\n",
       "      <td>ghtforward: just hand them to pickle (or. cPic...</td>\n",
       "      <td>\\nBased on the rules provided, analyze the fol...</td>\n",
       "      <td>Abstract Common Services</td>\n",
       "      <td>The system implements similar services once in...</td>\n",
       "      <td>Now, perform your your audit based on the data...</td>\n",
       "      <td>Local Implementation Detail</td>\n",
       "      <td>incorrect</td>\n",
       "      <td>The first AI's decision was incorrect because ...</td>\n",
       "    </tr>\n",
       "  </tbody>\n",
       "</table>\n",
       "</div>"
      ]
     },
     "execution_count": 63,
     "metadata": {},
     "output_type": "execute_result"
    }
   ],
   "execution_count": 63
  },
  {
   "metadata": {
    "ExecuteTime": {
     "end_time": "2025-08-10T07:05:57.574107Z",
     "start_time": "2025-08-10T07:05:57.565669Z"
    }
   },
   "cell_type": "code",
   "source": "df.shape",
   "id": "dd9063717ca413e0",
   "outputs": [
    {
     "data": {
      "text/plain": [
       "(384, 10)"
      ]
     },
     "execution_count": 64,
     "metadata": {},
     "output_type": "execute_result"
    }
   ],
   "execution_count": 64
  },
  {
   "metadata": {
    "ExecuteTime": {
     "end_time": "2025-08-10T07:05:57.712548Z",
     "start_time": "2025-08-10T07:05:57.704452Z"
    }
   },
   "cell_type": "code",
   "source": "df.groupby(\"s3_v_evaluation\").size().rename(\"percentage\") / df.shape[0] * 100",
   "id": "682b5cdd13333424",
   "outputs": [
    {
     "data": {
      "text/plain": [
       "s3_v_evaluation\n",
       "correct      19.791667\n",
       "incorrect    80.208333\n",
       "Name: percentage, dtype: float64"
      ]
     },
     "execution_count": 65,
     "metadata": {},
     "output_type": "execute_result"
    }
   ],
   "execution_count": 65
  },
  {
   "metadata": {
    "ExecuteTime": {
     "end_time": "2025-08-10T07:05:57.864524Z",
     "start_time": "2025-08-10T07:05:57.850342Z"
    }
   },
   "cell_type": "code",
   "source": "df.groupby(\"s3_v_evaluation\").size().rename(\"count\")",
   "id": "557a70b3391e4c00",
   "outputs": [
    {
     "data": {
      "text/plain": [
       "s3_v_evaluation\n",
       "correct       76\n",
       "incorrect    308\n",
       "Name: count, dtype: int64"
      ]
     },
     "execution_count": 66,
     "metadata": {},
     "output_type": "execute_result"
    }
   ],
   "execution_count": 66
  }
 ],
 "metadata": {
  "kernelspec": {
   "display_name": "Python 3",
   "language": "python",
   "name": "python3"
  },
  "language_info": {
   "codemirror_mode": {
    "name": "ipython",
    "version": 2
   },
   "file_extension": ".py",
   "mimetype": "text/x-python",
   "name": "python",
   "nbconvert_exporter": "python",
   "pygments_lexer": "ipython2",
   "version": "2.7.6"
  }
 },
 "nbformat": 4,
 "nbformat_minor": 5
}

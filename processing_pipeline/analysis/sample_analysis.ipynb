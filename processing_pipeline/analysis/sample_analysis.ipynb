{
 "cells": [
  {
   "cell_type": "code",
   "id": "initial_id",
   "metadata": {
    "collapsed": true,
    "ExecuteTime": {
     "end_time": "2025-07-19T12:37:07.514479Z",
     "start_time": "2025-07-19T12:37:04.718351Z"
    }
   },
   "source": [
    "from constants.abs_paths import AbsDirPath\n",
    "from processing_pipeline.model.CSVDFHandler import CSVDFHandler\n",
    "from processing_pipeline.utilities.data_transformation import load_all_files\n",
    "\n",
    "df = CSVDFHandler().read_df(AbsDirPath.SAMPLES_VERIFIED / \"s0.csv\")"
   ],
   "outputs": [],
   "execution_count": 1
  },
  {
   "metadata": {
    "ExecuteTime": {
     "end_time": "2025-07-19T12:37:07.599964Z",
     "start_time": "2025-07-19T12:37:07.543093Z"
    }
   },
   "cell_type": "code",
   "source": "df.head()",
   "id": "72d5488d751c4f38",
   "outputs": [
    {
     "data": {
      "text/plain": [
       "   Unnamed: 0                                           sentence  \\\n",
       "0        1021   it is ``lld-link.exe`` or MSVC ``link.exe``) ...   \n",
       "1        5749  se are two valid expressions: ~~~ {.cpp} TMath...   \n",
       "2        4197  Test the multi-dimensional probability density...   \n",
       "3        2861  heap-use-after-free in ~TTreeReader; After mer...   \n",
       "4        3417  @pcanal - what's up with Jenkins? - Says it pa...   \n",
       "\n",
       "                                           s0_prompt  s0_to_eliminate  \\\n",
       "0  \\nYou are an expert in analyzing and categoriz...            False   \n",
       "1  \\nYou are an expert in analyzing and categoriz...             True   \n",
       "2  \\nYou are an expert in analyzing and categoriz...             True   \n",
       "3  \\nYou are an expert in analyzing and categoriz...             True   \n",
       "4  \\nYou are an expert in analyzing and categoriz...            False   \n",
       "\n",
       "                                        s0_reasoning  \\\n",
       "0  This content appears to be a technical explana...   \n",
       "1  This content appears to be documentation or co...   \n",
       "2  This content appears to be a set of configurat...   \n",
       "3  This content appears to be a technical log or ...   \n",
       "4  This content appears to be a question posed by...   \n",
       "\n",
       "                                         s0_v_prompt   s0_v_correctness  \\\n",
       "0  \\nYou are a meticulous and expert evaluator of...  partially correct   \n",
       "1  \\nYou are a meticulous and expert evaluator of...  partially correct   \n",
       "2  \\nYou are a meticulous and expert evaluator of...  partially correct   \n",
       "3  \\nYou are a meticulous and expert evaluator of...  partially correct   \n",
       "4  \\nYou are a meticulous and expert evaluator of...  partially correct   \n",
       "\n",
       "                                      s0_v_reasoning  \n",
       "0  The first AI correctly decided to keep this co...  \n",
       "1  The first AI correctly decided to eliminate th...  \n",
       "2  The first AI correctly identified that the con...  \n",
       "3  The first AI correctly identified that the con...  \n",
       "4  The first AI correctly identified that the con...  "
      ],
      "text/html": [
       "<div>\n",
       "<style scoped>\n",
       "    .dataframe tbody tr th:only-of-type {\n",
       "        vertical-align: middle;\n",
       "    }\n",
       "\n",
       "    .dataframe tbody tr th {\n",
       "        vertical-align: top;\n",
       "    }\n",
       "\n",
       "    .dataframe thead th {\n",
       "        text-align: right;\n",
       "    }\n",
       "</style>\n",
       "<table border=\"1\" class=\"dataframe\">\n",
       "  <thead>\n",
       "    <tr style=\"text-align: right;\">\n",
       "      <th></th>\n",
       "      <th>Unnamed: 0</th>\n",
       "      <th>sentence</th>\n",
       "      <th>s0_prompt</th>\n",
       "      <th>s0_to_eliminate</th>\n",
       "      <th>s0_reasoning</th>\n",
       "      <th>s0_v_prompt</th>\n",
       "      <th>s0_v_correctness</th>\n",
       "      <th>s0_v_reasoning</th>\n",
       "    </tr>\n",
       "  </thead>\n",
       "  <tbody>\n",
       "    <tr>\n",
       "      <th>0</th>\n",
       "      <td>1021</td>\n",
       "      <td>it is ``lld-link.exe`` or MSVC ``link.exe``) ...</td>\n",
       "      <td>\\nYou are an expert in analyzing and categoriz...</td>\n",
       "      <td>False</td>\n",
       "      <td>This content appears to be a technical explana...</td>\n",
       "      <td>\\nYou are a meticulous and expert evaluator of...</td>\n",
       "      <td>partially correct</td>\n",
       "      <td>The first AI correctly decided to keep this co...</td>\n",
       "    </tr>\n",
       "    <tr>\n",
       "      <th>1</th>\n",
       "      <td>5749</td>\n",
       "      <td>se are two valid expressions: ~~~ {.cpp} TMath...</td>\n",
       "      <td>\\nYou are an expert in analyzing and categoriz...</td>\n",
       "      <td>True</td>\n",
       "      <td>This content appears to be documentation or co...</td>\n",
       "      <td>\\nYou are a meticulous and expert evaluator of...</td>\n",
       "      <td>partially correct</td>\n",
       "      <td>The first AI correctly decided to eliminate th...</td>\n",
       "    </tr>\n",
       "    <tr>\n",
       "      <th>2</th>\n",
       "      <td>4197</td>\n",
       "      <td>Test the multi-dimensional probability density...</td>\n",
       "      <td>\\nYou are an expert in analyzing and categoriz...</td>\n",
       "      <td>True</td>\n",
       "      <td>This content appears to be a set of configurat...</td>\n",
       "      <td>\\nYou are a meticulous and expert evaluator of...</td>\n",
       "      <td>partially correct</td>\n",
       "      <td>The first AI correctly identified that the con...</td>\n",
       "    </tr>\n",
       "    <tr>\n",
       "      <th>3</th>\n",
       "      <td>2861</td>\n",
       "      <td>heap-use-after-free in ~TTreeReader; After mer...</td>\n",
       "      <td>\\nYou are an expert in analyzing and categoriz...</td>\n",
       "      <td>True</td>\n",
       "      <td>This content appears to be a technical log or ...</td>\n",
       "      <td>\\nYou are a meticulous and expert evaluator of...</td>\n",
       "      <td>partially correct</td>\n",
       "      <td>The first AI correctly identified that the con...</td>\n",
       "    </tr>\n",
       "    <tr>\n",
       "      <th>4</th>\n",
       "      <td>3417</td>\n",
       "      <td>@pcanal - what's up with Jenkins? - Says it pa...</td>\n",
       "      <td>\\nYou are an expert in analyzing and categoriz...</td>\n",
       "      <td>False</td>\n",
       "      <td>This content appears to be a question posed by...</td>\n",
       "      <td>\\nYou are a meticulous and expert evaluator of...</td>\n",
       "      <td>partially correct</td>\n",
       "      <td>The first AI correctly identified that the con...</td>\n",
       "    </tr>\n",
       "  </tbody>\n",
       "</table>\n",
       "</div>"
      ]
     },
     "execution_count": 2,
     "metadata": {},
     "output_type": "execute_result"
    }
   ],
   "execution_count": 2
  },
  {
   "metadata": {
    "ExecuteTime": {
     "end_time": "2025-07-19T12:37:23.927324Z",
     "start_time": "2025-07-19T12:37:23.916913Z"
    }
   },
   "cell_type": "code",
   "source": "df.shape",
   "id": "1098eedf44f78738",
   "outputs": [
    {
     "data": {
      "text/plain": [
       "(384, 8)"
      ]
     },
     "execution_count": 4,
     "metadata": {},
     "output_type": "execute_result"
    }
   ],
   "execution_count": 4
  },
  {
   "metadata": {
    "ExecuteTime": {
     "end_time": "2025-07-19T12:38:54.902392Z",
     "start_time": "2025-07-19T12:38:54.870469Z"
    }
   },
   "cell_type": "code",
   "source": "df.groupby(\"s0_v_correctness\").size()",
   "id": "f9e7f2b912fbae57",
   "outputs": [
    {
     "data": {
      "text/plain": [
       "s0_v_correctness\n",
       "partially correct    384\n",
       "dtype: int64"
      ]
     },
     "execution_count": 6,
     "metadata": {},
     "output_type": "execute_result"
    }
   ],
   "execution_count": 6
  }
 ],
 "metadata": {
  "kernelspec": {
   "display_name": "Python 3",
   "language": "python",
   "name": "python3"
  },
  "language_info": {
   "codemirror_mode": {
    "name": "ipython",
    "version": 2
   },
   "file_extension": ".py",
   "mimetype": "text/x-python",
   "name": "python",
   "nbconvert_exporter": "python",
   "pygments_lexer": "ipython2",
   "version": "2.7.6"
  }
 },
 "nbformat": 4,
 "nbformat_minor": 5
}

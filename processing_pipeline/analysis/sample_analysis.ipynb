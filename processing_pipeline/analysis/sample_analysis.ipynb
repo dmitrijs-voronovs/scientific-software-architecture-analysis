{
 "cells": [
  {
   "cell_type": "code",
   "id": "8d6593feb9904ca0",
   "metadata": {
    "ExecuteTime": {
     "end_time": "2025-08-12T07:53:18.512909Z",
     "start_time": "2025-08-12T07:53:18.506920Z"
    }
   },
   "source": [
    "from pathlib import Path\n",
    "\n",
    "from constants.abs_paths import AbsDirPath\n",
    "from processing_pipeline.model.CSVDFHandler import CSVDFHandler\n",
    "from processing_pipeline.utilities.data_transformation import load_all_files, load_all_csv_files"
   ],
   "outputs": [],
   "execution_count": 2
  },
  {
   "metadata": {},
   "cell_type": "markdown",
   "source": "# S0",
   "id": "e1fbe1b668ca0b89"
  },
  {
   "metadata": {
    "collapsed": true,
    "ExecuteTime": {
     "end_time": "2025-08-10T19:41:46.842676Z",
     "start_time": "2025-08-10T19:41:46.748004Z"
    }
   },
   "cell_type": "code",
   "source": [
    "df = CSVDFHandler().read_df(AbsDirPath.SAMPLES_VERIFIED / \"s0.csv\")\n",
    "# df = load_all_csv_files(AbsDirPath.SAMPLES_VERIFIED, name_contains=\"s0.part\")"
   ],
   "id": "initial_id",
   "outputs": [],
   "execution_count": 67
  },
  {
   "metadata": {
    "ExecuteTime": {
     "end_time": "2025-08-10T19:41:46.868428Z",
     "start_time": "2025-08-10T19:41:46.855334Z"
    }
   },
   "cell_type": "code",
   "source": "df.head()",
   "id": "72d5488d751c4f38",
   "outputs": [
    {
     "data": {
      "text/plain": [
       "   Unnamed: 0                                           sentence  \\\n",
       "0        2041  LoweringError: Failed in nopython mode pipelin...   \n",
       "1       12677  Compute the static offset of the ultimate dest...   \n",
       "2        2997  [WIP] Parallelise reading of sub-branches in T...   \n",
       "3       13110  Create a new node, and save it in the context ...   \n",
       "4        1397  e produces undefined behaviour because the sid...   \n",
       "\n",
       "                                           s0_prompt  s0_to_eliminate  \\\n",
       "0  \\nYou are an expert in analyzing and categoriz...             True   \n",
       "1  \\nYou are an expert in analyzing and categoriz...             True   \n",
       "2  \\nYou are an expert in analyzing and categoriz...            False   \n",
       "3  \\nYou are an expert in analyzing and categoriz...             True   \n",
       "4  \\nYou are an expert in analyzing and categoriz...            False   \n",
       "\n",
       "                                        s0_reasoning  \\\n",
       "0  This is an error message from a program. It co...   \n",
       "1  This appears to be a technical description rel...   \n",
       "2  This content is a commit message that explains...   \n",
       "3  This appears to be an instruction or comment a...   \n",
       "4  This content is primarily technical but contai...   \n",
       "\n",
       "                                         s0_v_prompt  \\\n",
       "0  Now, perform your your audit based on the data...   \n",
       "1  Now, perform your your audit based on the data...   \n",
       "2  Now, perform your your audit based on the data...   \n",
       "3  Now, perform your your audit based on the data...   \n",
       "4  Now, perform your your audit based on the data...   \n",
       "\n",
       "           s0_v_ground_truth_category s0_v_evaluation  \\\n",
       "0  Log File / Trace / Terminal Output         correct   \n",
       "1       Low-Level Implementation Note         correct   \n",
       "2           Interactive Communication         correct   \n",
       "3       Low-Level Implementation Note         correct   \n",
       "4      High-Level Instructional Guide         correct   \n",
       "\n",
       "                                      s0_v_reasoning  \n",
       "0  My verdict is correct because the ground truth...  \n",
       "1  My verdict is correct because the ground truth...  \n",
       "2  My verdict is correct because the ground truth...  \n",
       "3  My verdict is correct because the ground truth...  \n",
       "4  My verdict is correct because the ground truth...  "
      ],
      "text/html": [
       "<div>\n",
       "<style scoped>\n",
       "    .dataframe tbody tr th:only-of-type {\n",
       "        vertical-align: middle;\n",
       "    }\n",
       "\n",
       "    .dataframe tbody tr th {\n",
       "        vertical-align: top;\n",
       "    }\n",
       "\n",
       "    .dataframe thead th {\n",
       "        text-align: right;\n",
       "    }\n",
       "</style>\n",
       "<table border=\"1\" class=\"dataframe\">\n",
       "  <thead>\n",
       "    <tr style=\"text-align: right;\">\n",
       "      <th></th>\n",
       "      <th>Unnamed: 0</th>\n",
       "      <th>sentence</th>\n",
       "      <th>s0_prompt</th>\n",
       "      <th>s0_to_eliminate</th>\n",
       "      <th>s0_reasoning</th>\n",
       "      <th>s0_v_prompt</th>\n",
       "      <th>s0_v_ground_truth_category</th>\n",
       "      <th>s0_v_evaluation</th>\n",
       "      <th>s0_v_reasoning</th>\n",
       "    </tr>\n",
       "  </thead>\n",
       "  <tbody>\n",
       "    <tr>\n",
       "      <th>0</th>\n",
       "      <td>2041</td>\n",
       "      <td>LoweringError: Failed in nopython mode pipelin...</td>\n",
       "      <td>\\nYou are an expert in analyzing and categoriz...</td>\n",
       "      <td>True</td>\n",
       "      <td>This is an error message from a program. It co...</td>\n",
       "      <td>Now, perform your your audit based on the data...</td>\n",
       "      <td>Log File / Trace / Terminal Output</td>\n",
       "      <td>correct</td>\n",
       "      <td>My verdict is correct because the ground truth...</td>\n",
       "    </tr>\n",
       "    <tr>\n",
       "      <th>1</th>\n",
       "      <td>12677</td>\n",
       "      <td>Compute the static offset of the ultimate dest...</td>\n",
       "      <td>\\nYou are an expert in analyzing and categoriz...</td>\n",
       "      <td>True</td>\n",
       "      <td>This appears to be a technical description rel...</td>\n",
       "      <td>Now, perform your your audit based on the data...</td>\n",
       "      <td>Low-Level Implementation Note</td>\n",
       "      <td>correct</td>\n",
       "      <td>My verdict is correct because the ground truth...</td>\n",
       "    </tr>\n",
       "    <tr>\n",
       "      <th>2</th>\n",
       "      <td>2997</td>\n",
       "      <td>[WIP] Parallelise reading of sub-branches in T...</td>\n",
       "      <td>\\nYou are an expert in analyzing and categoriz...</td>\n",
       "      <td>False</td>\n",
       "      <td>This content is a commit message that explains...</td>\n",
       "      <td>Now, perform your your audit based on the data...</td>\n",
       "      <td>Interactive Communication</td>\n",
       "      <td>correct</td>\n",
       "      <td>My verdict is correct because the ground truth...</td>\n",
       "    </tr>\n",
       "    <tr>\n",
       "      <th>3</th>\n",
       "      <td>13110</td>\n",
       "      <td>Create a new node, and save it in the context ...</td>\n",
       "      <td>\\nYou are an expert in analyzing and categoriz...</td>\n",
       "      <td>True</td>\n",
       "      <td>This appears to be an instruction or comment a...</td>\n",
       "      <td>Now, perform your your audit based on the data...</td>\n",
       "      <td>Low-Level Implementation Note</td>\n",
       "      <td>correct</td>\n",
       "      <td>My verdict is correct because the ground truth...</td>\n",
       "    </tr>\n",
       "    <tr>\n",
       "      <th>4</th>\n",
       "      <td>1397</td>\n",
       "      <td>e produces undefined behaviour because the sid...</td>\n",
       "      <td>\\nYou are an expert in analyzing and categoriz...</td>\n",
       "      <td>False</td>\n",
       "      <td>This content is primarily technical but contai...</td>\n",
       "      <td>Now, perform your your audit based on the data...</td>\n",
       "      <td>High-Level Instructional Guide</td>\n",
       "      <td>correct</td>\n",
       "      <td>My verdict is correct because the ground truth...</td>\n",
       "    </tr>\n",
       "  </tbody>\n",
       "</table>\n",
       "</div>"
      ]
     },
     "execution_count": 68,
     "metadata": {},
     "output_type": "execute_result"
    }
   ],
   "execution_count": 68
  },
  {
   "metadata": {
    "ExecuteTime": {
     "end_time": "2025-08-10T19:41:46.945781Z",
     "start_time": "2025-08-10T19:41:46.937566Z"
    }
   },
   "cell_type": "code",
   "source": "df.shape",
   "id": "1098eedf44f78738",
   "outputs": [
    {
     "data": {
      "text/plain": [
       "(384, 9)"
      ]
     },
     "execution_count": 69,
     "metadata": {},
     "output_type": "execute_result"
    }
   ],
   "execution_count": 69
  },
  {
   "metadata": {
    "ExecuteTime": {
     "end_time": "2025-08-10T19:41:47.046984Z",
     "start_time": "2025-08-10T19:41:47.035615Z"
    }
   },
   "cell_type": "code",
   "source": "df.groupby(\"s0_v_evaluation\").size().rename(\"count\")",
   "id": "f9e7f2b912fbae57",
   "outputs": [
    {
     "data": {
      "text/plain": [
       "s0_v_evaluation\n",
       "correct      256\n",
       "incorrect    128\n",
       "Name: count, dtype: int64"
      ]
     },
     "execution_count": 70,
     "metadata": {},
     "output_type": "execute_result"
    }
   ],
   "execution_count": 70
  },
  {
   "metadata": {
    "ExecuteTime": {
     "end_time": "2025-08-10T19:41:47.193533Z",
     "start_time": "2025-08-10T19:41:47.180792Z"
    }
   },
   "cell_type": "code",
   "source": "df.groupby(\"s0_v_evaluation\").size().rename(\"percentage\") / df.shape[0] * 100",
   "id": "ff6c400856b00aa",
   "outputs": [
    {
     "data": {
      "text/plain": [
       "s0_v_evaluation\n",
       "correct      66.666667\n",
       "incorrect    33.333333\n",
       "Name: percentage, dtype: float64"
      ]
     },
     "execution_count": 71,
     "metadata": {},
     "output_type": "execute_result"
    }
   ],
   "execution_count": 71
  },
  {
   "metadata": {},
   "cell_type": "markdown",
   "source": "# S0_manual verification",
   "id": "2673027a31714775"
  },
  {
   "metadata": {
    "collapsed": true,
    "ExecuteTime": {
     "end_time": "2025-08-10T22:08:24.533830Z",
     "start_time": "2025-08-10T22:08:24.444595Z"
    }
   },
   "cell_type": "code",
   "source": [
    "df = CSVDFHandler().read_df(AbsDirPath.SAMPLES_VERIFIED / \"s0_manual_verif.csv\")\n",
    "# df = load_all_csv_files(AbsDirPath.SAMPLES_VERIFIED, name_contains=\"s0.part\")"
   ],
   "id": "a08f433a7eef857a",
   "outputs": [],
   "execution_count": 79
  },
  {
   "metadata": {
    "ExecuteTime": {
     "end_time": "2025-08-10T22:08:26.258304Z",
     "start_time": "2025-08-10T22:08:26.244383Z"
    }
   },
   "cell_type": "code",
   "source": "df.head()",
   "id": "82263a91f6fca84b",
   "outputs": [
    {
     "data": {
      "text/plain": [
       "   Unnamed: 0                                           sentence  \\\n",
       "0        2041  LoweringError: Failed in nopython mode pipelin...   \n",
       "1       12677  Compute the static offset of the ultimate dest...   \n",
       "2        2997  [WIP] Parallelise reading of sub-branches in T...   \n",
       "3       13110  Create a new node, and save it in the context ...   \n",
       "4        1397  e produces undefined behaviour because the sid...   \n",
       "\n",
       "                                           s0_prompt  s0_to_eliminate  \\\n",
       "0  \\nYou are an expert in analyzing and categoriz...             True   \n",
       "1  \\nYou are an expert in analyzing and categoriz...             True   \n",
       "2  \\nYou are an expert in analyzing and categoriz...            False   \n",
       "3  \\nYou are an expert in analyzing and categoriz...             True   \n",
       "4  \\nYou are an expert in analyzing and categoriz...            False   \n",
       "\n",
       "                                        s0_reasoning  dmitry_verify  \\\n",
       "0  This is an error message from a program. It co...              1   \n",
       "1  This appears to be a technical description rel...              1   \n",
       "2  This content is a commit message that explains...              1   \n",
       "3  This appears to be an instruction or comment a...              1   \n",
       "4  This content is primarily technical but contai...              1   \n",
       "\n",
       "                                         s0_v_prompt  \\\n",
       "0  Now, perform your your audit based on the data...   \n",
       "1  Now, perform your your audit based on the data...   \n",
       "2  Now, perform your your audit based on the data...   \n",
       "3  Now, perform your your audit based on the data...   \n",
       "4  Now, perform your your audit based on the data...   \n",
       "\n",
       "           s0_v_ground_truth_category s0_v_evaluation  \\\n",
       "0  Log File / Trace / Terminal Output         correct   \n",
       "1       Low-Level Implementation Note         correct   \n",
       "2           Interactive Communication         correct   \n",
       "3       Low-Level Implementation Note         correct   \n",
       "4      High-Level Instructional Guide         correct   \n",
       "\n",
       "                                      s0_v_reasoning  \n",
       "0  My verdict is correct because the ground truth...  \n",
       "1  My verdict is correct because the ground truth...  \n",
       "2  My verdict is correct because the ground truth...  \n",
       "3  My verdict is correct because the ground truth...  \n",
       "4  My verdict is correct because the ground truth...  "
      ],
      "text/html": [
       "<div>\n",
       "<style scoped>\n",
       "    .dataframe tbody tr th:only-of-type {\n",
       "        vertical-align: middle;\n",
       "    }\n",
       "\n",
       "    .dataframe tbody tr th {\n",
       "        vertical-align: top;\n",
       "    }\n",
       "\n",
       "    .dataframe thead th {\n",
       "        text-align: right;\n",
       "    }\n",
       "</style>\n",
       "<table border=\"1\" class=\"dataframe\">\n",
       "  <thead>\n",
       "    <tr style=\"text-align: right;\">\n",
       "      <th></th>\n",
       "      <th>Unnamed: 0</th>\n",
       "      <th>sentence</th>\n",
       "      <th>s0_prompt</th>\n",
       "      <th>s0_to_eliminate</th>\n",
       "      <th>s0_reasoning</th>\n",
       "      <th>dmitry_verify</th>\n",
       "      <th>s0_v_prompt</th>\n",
       "      <th>s0_v_ground_truth_category</th>\n",
       "      <th>s0_v_evaluation</th>\n",
       "      <th>s0_v_reasoning</th>\n",
       "    </tr>\n",
       "  </thead>\n",
       "  <tbody>\n",
       "    <tr>\n",
       "      <th>0</th>\n",
       "      <td>2041</td>\n",
       "      <td>LoweringError: Failed in nopython mode pipelin...</td>\n",
       "      <td>\\nYou are an expert in analyzing and categoriz...</td>\n",
       "      <td>True</td>\n",
       "      <td>This is an error message from a program. It co...</td>\n",
       "      <td>1</td>\n",
       "      <td>Now, perform your your audit based on the data...</td>\n",
       "      <td>Log File / Trace / Terminal Output</td>\n",
       "      <td>correct</td>\n",
       "      <td>My verdict is correct because the ground truth...</td>\n",
       "    </tr>\n",
       "    <tr>\n",
       "      <th>1</th>\n",
       "      <td>12677</td>\n",
       "      <td>Compute the static offset of the ultimate dest...</td>\n",
       "      <td>\\nYou are an expert in analyzing and categoriz...</td>\n",
       "      <td>True</td>\n",
       "      <td>This appears to be a technical description rel...</td>\n",
       "      <td>1</td>\n",
       "      <td>Now, perform your your audit based on the data...</td>\n",
       "      <td>Low-Level Implementation Note</td>\n",
       "      <td>correct</td>\n",
       "      <td>My verdict is correct because the ground truth...</td>\n",
       "    </tr>\n",
       "    <tr>\n",
       "      <th>2</th>\n",
       "      <td>2997</td>\n",
       "      <td>[WIP] Parallelise reading of sub-branches in T...</td>\n",
       "      <td>\\nYou are an expert in analyzing and categoriz...</td>\n",
       "      <td>False</td>\n",
       "      <td>This content is a commit message that explains...</td>\n",
       "      <td>1</td>\n",
       "      <td>Now, perform your your audit based on the data...</td>\n",
       "      <td>Interactive Communication</td>\n",
       "      <td>correct</td>\n",
       "      <td>My verdict is correct because the ground truth...</td>\n",
       "    </tr>\n",
       "    <tr>\n",
       "      <th>3</th>\n",
       "      <td>13110</td>\n",
       "      <td>Create a new node, and save it in the context ...</td>\n",
       "      <td>\\nYou are an expert in analyzing and categoriz...</td>\n",
       "      <td>True</td>\n",
       "      <td>This appears to be an instruction or comment a...</td>\n",
       "      <td>1</td>\n",
       "      <td>Now, perform your your audit based on the data...</td>\n",
       "      <td>Low-Level Implementation Note</td>\n",
       "      <td>correct</td>\n",
       "      <td>My verdict is correct because the ground truth...</td>\n",
       "    </tr>\n",
       "    <tr>\n",
       "      <th>4</th>\n",
       "      <td>1397</td>\n",
       "      <td>e produces undefined behaviour because the sid...</td>\n",
       "      <td>\\nYou are an expert in analyzing and categoriz...</td>\n",
       "      <td>False</td>\n",
       "      <td>This content is primarily technical but contai...</td>\n",
       "      <td>1</td>\n",
       "      <td>Now, perform your your audit based on the data...</td>\n",
       "      <td>High-Level Instructional Guide</td>\n",
       "      <td>correct</td>\n",
       "      <td>My verdict is correct because the ground truth...</td>\n",
       "    </tr>\n",
       "  </tbody>\n",
       "</table>\n",
       "</div>"
      ]
     },
     "execution_count": 80,
     "metadata": {},
     "output_type": "execute_result"
    }
   ],
   "execution_count": 80
  },
  {
   "metadata": {
    "ExecuteTime": {
     "end_time": "2025-08-10T22:07:37.117886Z",
     "start_time": "2025-08-10T22:07:37.109294Z"
    }
   },
   "cell_type": "code",
   "source": "df.shape",
   "id": "8c380b8e76e2be7a",
   "outputs": [
    {
     "data": {
      "text/plain": [
       "(384, 10)"
      ]
     },
     "execution_count": 76,
     "metadata": {},
     "output_type": "execute_result"
    }
   ],
   "execution_count": 76
  },
  {
   "metadata": {
    "ExecuteTime": {
     "end_time": "2025-08-10T22:10:51.538972Z",
     "start_time": "2025-08-10T22:10:51.533394Z"
    }
   },
   "cell_type": "code",
   "source": "df.dmitry_verify = df.dmitry_verify.astype(bool)",
   "id": "a0b748ccf788cc6e",
   "outputs": [],
   "execution_count": 87
  },
  {
   "metadata": {
    "ExecuteTime": {
     "end_time": "2025-08-10T22:10:53.826166Z",
     "start_time": "2025-08-10T22:10:53.813099Z"
    }
   },
   "cell_type": "code",
   "source": "df.groupby(\"dmitry_verify\").size().rename(\"count\")",
   "id": "9fb1b7ec4694e02c",
   "outputs": [
    {
     "data": {
      "text/plain": [
       "dmitry_verify\n",
       "False     74\n",
       "True     310\n",
       "Name: count, dtype: int64"
      ]
     },
     "execution_count": 88,
     "metadata": {},
     "output_type": "execute_result"
    }
   ],
   "execution_count": 88
  },
  {
   "metadata": {
    "ExecuteTime": {
     "end_time": "2025-08-10T22:10:55.237327Z",
     "start_time": "2025-08-10T22:10:55.226331Z"
    }
   },
   "cell_type": "code",
   "source": "df.groupby(\"dmitry_verify\").size().rename(\"percentage\") / df.shape[0] * 100",
   "id": "f9127e0a98f7b114",
   "outputs": [
    {
     "data": {
      "text/plain": [
       "dmitry_verify\n",
       "False    19.270833\n",
       "True     80.729167\n",
       "Name: percentage, dtype: float64"
      ]
     },
     "execution_count": 89,
     "metadata": {},
     "output_type": "execute_result"
    }
   ],
   "execution_count": 89
  },
  {
   "metadata": {
    "ExecuteTime": {
     "end_time": "2025-08-10T22:11:05.144288Z",
     "start_time": "2025-08-10T22:11:05.134212Z"
    }
   },
   "cell_type": "code",
   "source": "df.groupby([\"dmitry_verify\", \"s0_v_evaluation\"]).size().rename(\"count\")",
   "id": "2d50ef3f53941f10",
   "outputs": [
    {
     "data": {
      "text/plain": [
       "dmitry_verify  s0_v_evaluation\n",
       "False          correct             12\n",
       "               incorrect           62\n",
       "True           correct            244\n",
       "               incorrect           66\n",
       "Name: count, dtype: int64"
      ]
     },
     "execution_count": 90,
     "metadata": {},
     "output_type": "execute_result"
    }
   ],
   "execution_count": 90
  },
  {
   "metadata": {},
   "cell_type": "markdown",
   "source": "# S1",
   "id": "4f0ce7b2864e8259"
  },
  {
   "metadata": {
    "collapsed": true,
    "ExecuteTime": {
     "end_time": "2025-08-12T07:53:27.426524Z",
     "start_time": "2025-08-12T07:53:27.278660Z"
    }
   },
   "cell_type": "code",
   "source": "df = CSVDFHandler().read_df(AbsDirPath.SAMPLES_VERIFIED / \"s1.csv\")",
   "id": "14de1981e612fade",
   "outputs": [],
   "execution_count": 3
  },
  {
   "metadata": {
    "ExecuteTime": {
     "end_time": "2025-08-12T07:53:27.577777Z",
     "start_time": "2025-08-12T07:53:27.457294Z"
    }
   },
   "cell_type": "code",
   "source": "df.head()",
   "id": "69502393758b69ea",
   "outputs": [
    {
     "data": {
      "text/plain": [
       "   Unnamed: 0            qa  \\\n",
       "0          76  availability   \n",
       "1         182  availability   \n",
       "2         199  availability   \n",
       "3         120  availability   \n",
       "4         125  availability   \n",
       "\n",
       "                                            sentence  \\\n",
       "0  For the sake of error recovery (if someone has...   \n",
       "1  If the edge is not an instruction, or it is di...   \n",
       "2  Extract a C string from \\a *offset_ptr. Return...   \n",
       "3  \\return true if there is a clean path from Sav...   \n",
       "4  FreeColorIndex(); TColor *color = new TColor(c...   \n",
       "\n",
       "                                           s1_prompt  \\\n",
       "0  \\n### Data for Evaluation\\n**1. Quality Attrib...   \n",
       "1  \\n### Data for Evaluation\\n**1. Quality Attrib...   \n",
       "2  \\n### Data for Evaluation\\n**1. Quality Attrib...   \n",
       "3  \\n### Data for Evaluation\\n**1. Quality Attrib...   \n",
       "4  \\n### Data for Evaluation\\n**1. Quality Attrib...   \n",
       "\n",
       "                           s1_analysis_context_check  \\\n",
       "0  The content appears to be from a software cont...   \n",
       "1  The content does not appear to be from a softw...   \n",
       "2  The content appears to be from a software cont...   \n",
       "3  The content appears to be related to software ...   \n",
       "4  The content appears to be from a software cont...   \n",
       "\n",
       "                                  s1_analysis_intent  \\\n",
       "0                           Describing Functionality   \n",
       "1                           Describing Functionality   \n",
       "2  This text primarily describes functionality (h...   \n",
       "3                           Describing Functionality   \n",
       "4                           Describing Functionality   \n",
       "\n",
       "                             s1_analysis_scope_match  s1_true_positive  \\\n",
       "0  The intent is describing functionality (how th...             False   \n",
       "1  The intent is about describing functionality c...             False   \n",
       "2  The intent is about code implementation detail...             False   \n",
       "3  The intent of describing functionality (a cond...             False   \n",
       "4  The intent is about providing color-related fu...             False   \n",
       "\n",
       "                                        s1_reasoning  \\\n",
       "0  This content describes an error recovery mecha...   \n",
       "1  This content does not describe a quality attri...   \n",
       "2  This description explains the operation of a f...   \n",
       "3  This is a functional requirement checking for ...   \n",
       "4  The content describes functionality for handli...   \n",
       "\n",
       "                                         s1_v_prompt  \\\n",
       "0  Now, perform your your audit based on the data...   \n",
       "1  Now, perform your your audit based on the data...   \n",
       "2  Now, perform your your audit based on the data...   \n",
       "3  Now, perform your your audit based on the data...   \n",
       "4  Now, perform your your audit based on the data...   \n",
       "\n",
       "   s1_v_ground_truth_intent  s1_v_ground_truth_qa_if_different  \\\n",
       "0  Describing Functionality                                NaN   \n",
       "1  Describing Functionality                                NaN   \n",
       "2  Describing Functionality                                NaN   \n",
       "3  Describing Functionality                                NaN   \n",
       "4  Describing Functionality                                NaN   \n",
       "\n",
       "  s1_v_evaluation                                     s1_v_reasoning  \n",
       "0         correct  My verdict is correct because the text's prima...  \n",
       "1         correct  My verdict is correct because the text's prima...  \n",
       "2         correct  My verdict is correct because the text's prima...  \n",
       "3         correct  My verdict is correct because the text's prima...  \n",
       "4         correct  The text primarily explains how colors are man...  "
      ],
      "text/html": [
       "<div>\n",
       "<style scoped>\n",
       "    .dataframe tbody tr th:only-of-type {\n",
       "        vertical-align: middle;\n",
       "    }\n",
       "\n",
       "    .dataframe tbody tr th {\n",
       "        vertical-align: top;\n",
       "    }\n",
       "\n",
       "    .dataframe thead th {\n",
       "        text-align: right;\n",
       "    }\n",
       "</style>\n",
       "<table border=\"1\" class=\"dataframe\">\n",
       "  <thead>\n",
       "    <tr style=\"text-align: right;\">\n",
       "      <th></th>\n",
       "      <th>Unnamed: 0</th>\n",
       "      <th>qa</th>\n",
       "      <th>sentence</th>\n",
       "      <th>s1_prompt</th>\n",
       "      <th>s1_analysis_context_check</th>\n",
       "      <th>s1_analysis_intent</th>\n",
       "      <th>s1_analysis_scope_match</th>\n",
       "      <th>s1_true_positive</th>\n",
       "      <th>s1_reasoning</th>\n",
       "      <th>s1_v_prompt</th>\n",
       "      <th>s1_v_ground_truth_intent</th>\n",
       "      <th>s1_v_ground_truth_qa_if_different</th>\n",
       "      <th>s1_v_evaluation</th>\n",
       "      <th>s1_v_reasoning</th>\n",
       "    </tr>\n",
       "  </thead>\n",
       "  <tbody>\n",
       "    <tr>\n",
       "      <th>0</th>\n",
       "      <td>76</td>\n",
       "      <td>availability</td>\n",
       "      <td>For the sake of error recovery (if someone has...</td>\n",
       "      <td>\\n### Data for Evaluation\\n**1. Quality Attrib...</td>\n",
       "      <td>The content appears to be from a software cont...</td>\n",
       "      <td>Describing Functionality</td>\n",
       "      <td>The intent is describing functionality (how th...</td>\n",
       "      <td>False</td>\n",
       "      <td>This content describes an error recovery mecha...</td>\n",
       "      <td>Now, perform your your audit based on the data...</td>\n",
       "      <td>Describing Functionality</td>\n",
       "      <td>NaN</td>\n",
       "      <td>correct</td>\n",
       "      <td>My verdict is correct because the text's prima...</td>\n",
       "    </tr>\n",
       "    <tr>\n",
       "      <th>1</th>\n",
       "      <td>182</td>\n",
       "      <td>availability</td>\n",
       "      <td>If the edge is not an instruction, or it is di...</td>\n",
       "      <td>\\n### Data for Evaluation\\n**1. Quality Attrib...</td>\n",
       "      <td>The content does not appear to be from a softw...</td>\n",
       "      <td>Describing Functionality</td>\n",
       "      <td>The intent is about describing functionality c...</td>\n",
       "      <td>False</td>\n",
       "      <td>This content does not describe a quality attri...</td>\n",
       "      <td>Now, perform your your audit based on the data...</td>\n",
       "      <td>Describing Functionality</td>\n",
       "      <td>NaN</td>\n",
       "      <td>correct</td>\n",
       "      <td>My verdict is correct because the text's prima...</td>\n",
       "    </tr>\n",
       "    <tr>\n",
       "      <th>2</th>\n",
       "      <td>199</td>\n",
       "      <td>availability</td>\n",
       "      <td>Extract a C string from \\a *offset_ptr. Return...</td>\n",
       "      <td>\\n### Data for Evaluation\\n**1. Quality Attrib...</td>\n",
       "      <td>The content appears to be from a software cont...</td>\n",
       "      <td>This text primarily describes functionality (h...</td>\n",
       "      <td>The intent is about code implementation detail...</td>\n",
       "      <td>False</td>\n",
       "      <td>This description explains the operation of a f...</td>\n",
       "      <td>Now, perform your your audit based on the data...</td>\n",
       "      <td>Describing Functionality</td>\n",
       "      <td>NaN</td>\n",
       "      <td>correct</td>\n",
       "      <td>My verdict is correct because the text's prima...</td>\n",
       "    </tr>\n",
       "    <tr>\n",
       "      <th>3</th>\n",
       "      <td>120</td>\n",
       "      <td>availability</td>\n",
       "      <td>\\return true if there is a clean path from Sav...</td>\n",
       "      <td>\\n### Data for Evaluation\\n**1. Quality Attrib...</td>\n",
       "      <td>The content appears to be related to software ...</td>\n",
       "      <td>Describing Functionality</td>\n",
       "      <td>The intent of describing functionality (a cond...</td>\n",
       "      <td>False</td>\n",
       "      <td>This is a functional requirement checking for ...</td>\n",
       "      <td>Now, perform your your audit based on the data...</td>\n",
       "      <td>Describing Functionality</td>\n",
       "      <td>NaN</td>\n",
       "      <td>correct</td>\n",
       "      <td>My verdict is correct because the text's prima...</td>\n",
       "    </tr>\n",
       "    <tr>\n",
       "      <th>4</th>\n",
       "      <td>125</td>\n",
       "      <td>availability</td>\n",
       "      <td>FreeColorIndex(); TColor *color = new TColor(c...</td>\n",
       "      <td>\\n### Data for Evaluation\\n**1. Quality Attrib...</td>\n",
       "      <td>The content appears to be from a software cont...</td>\n",
       "      <td>Describing Functionality</td>\n",
       "      <td>The intent is about providing color-related fu...</td>\n",
       "      <td>False</td>\n",
       "      <td>The content describes functionality for handli...</td>\n",
       "      <td>Now, perform your your audit based on the data...</td>\n",
       "      <td>Describing Functionality</td>\n",
       "      <td>NaN</td>\n",
       "      <td>correct</td>\n",
       "      <td>The text primarily explains how colors are man...</td>\n",
       "    </tr>\n",
       "  </tbody>\n",
       "</table>\n",
       "</div>"
      ]
     },
     "execution_count": 4,
     "metadata": {},
     "output_type": "execute_result"
    }
   ],
   "execution_count": 4
  },
  {
   "metadata": {
    "ExecuteTime": {
     "end_time": "2025-08-12T07:53:27.733738Z",
     "start_time": "2025-08-12T07:53:27.719648Z"
    }
   },
   "cell_type": "code",
   "source": "df.shape",
   "id": "45ecb0c3a443f3c8",
   "outputs": [
    {
     "data": {
      "text/plain": [
       "(220, 14)"
      ]
     },
     "execution_count": 5,
     "metadata": {},
     "output_type": "execute_result"
    }
   ],
   "execution_count": 5
  },
  {
   "metadata": {
    "ExecuteTime": {
     "end_time": "2025-08-12T07:53:27.907497Z",
     "start_time": "2025-08-12T07:53:27.891809Z"
    }
   },
   "cell_type": "code",
   "source": "df.groupby(\"s1_v_evaluation\").size().rename(\"percentage\") / df.shape[0] * 100",
   "id": "5007ff4d3988ff51",
   "outputs": [
    {
     "data": {
      "text/plain": [
       "s1_v_evaluation\n",
       "correct      99.090909\n",
       "incorrect     0.909091\n",
       "Name: percentage, dtype: float64"
      ]
     },
     "execution_count": 6,
     "metadata": {},
     "output_type": "execute_result"
    }
   ],
   "execution_count": 6
  },
  {
   "metadata": {
    "ExecuteTime": {
     "end_time": "2025-08-12T07:53:28.157566Z",
     "start_time": "2025-08-12T07:53:28.145227Z"
    }
   },
   "cell_type": "code",
   "source": "df.groupby(\"s1_v_evaluation\").size().rename(\"count\")",
   "id": "29f4ab7f7a30705",
   "outputs": [
    {
     "data": {
      "text/plain": [
       "s1_v_evaluation\n",
       "correct      218\n",
       "incorrect      2\n",
       "Name: count, dtype: int64"
      ]
     },
     "execution_count": 7,
     "metadata": {},
     "output_type": "execute_result"
    }
   ],
   "execution_count": 7
  },
  {
   "metadata": {
    "ExecuteTime": {
     "end_time": "2025-08-12T07:56:05.750063Z",
     "start_time": "2025-08-12T07:56:05.731366Z"
    }
   },
   "cell_type": "code",
   "source": "df.groupby(\"s1_v_evaluation\").get_group(\"incorrect\")",
   "id": "68b3c0c48c3b92ca",
   "outputs": [
    {
     "data": {
      "text/plain": [
       "     Unnamed: 0            qa  \\\n",
       "66           33  availability   \n",
       "117         198  availability   \n",
       "\n",
       "                                              sentence  \\\n",
       "66   if it was successfully removed from the AST we...   \n",
       "117  The copy and move assignment operator is defin...   \n",
       "\n",
       "                                             s1_prompt  \\\n",
       "66   \\n### Data for Evaluation\\n**1. Quality Attrib...   \n",
       "117  \\n### Data for Evaluation\\n**1. Quality Attrib...   \n",
       "\n",
       "                             s1_analysis_context_check  \\\n",
       "66   The content discusses LLVM's implementation de...   \n",
       "117  The content refers to defining an operator (co...   \n",
       "\n",
       "                                    s1_analysis_intent  \\\n",
       "66                        Describing Quality Attribute   \n",
       "117  This content describes a design choice regardi...   \n",
       "\n",
       "                               s1_analysis_scope_match  s1_true_positive  \\\n",
       "66   This intent aligns with the scope of system-le...              True   \n",
       "117  The intent of describing unavailable operation...              True   \n",
       "\n",
       "                                          s1_reasoning  \\\n",
       "66   The content explicitly describes a mechanism (...   \n",
       "117  The definition of copy and move assignment ope...   \n",
       "\n",
       "                                           s1_v_prompt  \\\n",
       "66   Now, perform your your audit based on the data...   \n",
       "117  Now, perform your your audit based on the data...   \n",
       "\n",
       "     s1_v_ground_truth_intent  s1_v_ground_truth_qa_if_different  \\\n",
       "66   Describing Functionality                                NaN   \n",
       "117  Describing Functionality                                NaN   \n",
       "\n",
       "    s1_v_evaluation                                     s1_v_reasoning  \n",
       "66        incorrect  My verdict is incorrect because the text's pri...  \n",
       "117       incorrect  My verdict is Describing Functionality because...  "
      ],
      "text/html": [
       "<div>\n",
       "<style scoped>\n",
       "    .dataframe tbody tr th:only-of-type {\n",
       "        vertical-align: middle;\n",
       "    }\n",
       "\n",
       "    .dataframe tbody tr th {\n",
       "        vertical-align: top;\n",
       "    }\n",
       "\n",
       "    .dataframe thead th {\n",
       "        text-align: right;\n",
       "    }\n",
       "</style>\n",
       "<table border=\"1\" class=\"dataframe\">\n",
       "  <thead>\n",
       "    <tr style=\"text-align: right;\">\n",
       "      <th></th>\n",
       "      <th>Unnamed: 0</th>\n",
       "      <th>qa</th>\n",
       "      <th>sentence</th>\n",
       "      <th>s1_prompt</th>\n",
       "      <th>s1_analysis_context_check</th>\n",
       "      <th>s1_analysis_intent</th>\n",
       "      <th>s1_analysis_scope_match</th>\n",
       "      <th>s1_true_positive</th>\n",
       "      <th>s1_reasoning</th>\n",
       "      <th>s1_v_prompt</th>\n",
       "      <th>s1_v_ground_truth_intent</th>\n",
       "      <th>s1_v_ground_truth_qa_if_different</th>\n",
       "      <th>s1_v_evaluation</th>\n",
       "      <th>s1_v_reasoning</th>\n",
       "    </tr>\n",
       "  </thead>\n",
       "  <tbody>\n",
       "    <tr>\n",
       "      <th>66</th>\n",
       "      <td>33</td>\n",
       "      <td>availability</td>\n",
       "      <td>if it was successfully removed from the AST we...</td>\n",
       "      <td>\\n### Data for Evaluation\\n**1. Quality Attrib...</td>\n",
       "      <td>The content discusses LLVM's implementation de...</td>\n",
       "      <td>Describing Quality Attribute</td>\n",
       "      <td>This intent aligns with the scope of system-le...</td>\n",
       "      <td>True</td>\n",
       "      <td>The content explicitly describes a mechanism (...</td>\n",
       "      <td>Now, perform your your audit based on the data...</td>\n",
       "      <td>Describing Functionality</td>\n",
       "      <td>NaN</td>\n",
       "      <td>incorrect</td>\n",
       "      <td>My verdict is incorrect because the text's pri...</td>\n",
       "    </tr>\n",
       "    <tr>\n",
       "      <th>117</th>\n",
       "      <td>198</td>\n",
       "      <td>availability</td>\n",
       "      <td>The copy and move assignment operator is defin...</td>\n",
       "      <td>\\n### Data for Evaluation\\n**1. Quality Attrib...</td>\n",
       "      <td>The content refers to defining an operator (co...</td>\n",
       "      <td>This content describes a design choice regardi...</td>\n",
       "      <td>The intent of describing unavailable operation...</td>\n",
       "      <td>True</td>\n",
       "      <td>The definition of copy and move assignment ope...</td>\n",
       "      <td>Now, perform your your audit based on the data...</td>\n",
       "      <td>Describing Functionality</td>\n",
       "      <td>NaN</td>\n",
       "      <td>incorrect</td>\n",
       "      <td>My verdict is Describing Functionality because...</td>\n",
       "    </tr>\n",
       "  </tbody>\n",
       "</table>\n",
       "</div>"
      ]
     },
     "execution_count": 9,
     "metadata": {},
     "output_type": "execute_result"
    }
   ],
   "execution_count": 9
  },
  {
   "metadata": {
    "ExecuteTime": {
     "end_time": "2025-08-12T07:57:32.321403Z",
     "start_time": "2025-08-12T07:57:32.289524Z"
    }
   },
   "cell_type": "code",
   "source": "df[[\"s1_true_positive\", \"s1_v_evaluation\"]].value_counts()",
   "id": "456b8757ef1670a5",
   "outputs": [
    {
     "data": {
      "text/plain": [
       "s1_true_positive  s1_v_evaluation\n",
       "False             correct            218\n",
       "True              incorrect            2\n",
       "Name: count, dtype: int64"
      ]
     },
     "execution_count": 10,
     "metadata": {},
     "output_type": "execute_result"
    }
   ],
   "execution_count": 10
  },
  {
   "metadata": {},
   "cell_type": "markdown",
   "source": "# S2",
   "id": "eb92280d9b0e7712"
  },
  {
   "metadata": {
    "collapsed": true,
    "ExecuteTime": {
     "end_time": "2025-08-10T07:05:56.395873Z",
     "start_time": "2025-08-10T07:05:56.323189Z"
    }
   },
   "cell_type": "code",
   "source": "df = CSVDFHandler().read_df(AbsDirPath.SAMPLES_VERIFIED / \"s2.csv\")",
   "id": "6e04078c764c956c",
   "outputs": [],
   "execution_count": 57
  },
  {
   "metadata": {
    "ExecuteTime": {
     "end_time": "2025-08-10T07:05:56.504534Z",
     "start_time": "2025-08-10T07:05:56.489594Z"
    }
   },
   "cell_type": "code",
   "source": "df.head()",
   "id": "36e5e951db5573c1",
   "outputs": [
    {
     "data": {
      "text/plain": [
       "   Unnamed: 0                                           sentence  \\\n",
       "0        6790  Table to cache MD5 values of sample contexts c...   \n",
       "1         233  Hi @sfchen . In my mind, you can reduce the nu...   \n",
       "2        1061  n the entry basic block afterward. The SROA (S...   \n",
       "3        1823  Update def-ages for registers defined by MI. I...   \n",
       "4        7726  DiagnoseForRangeVariableCopies - Diagnose thre...   \n",
       "\n",
       "                                           s2_prompt  s2_related_to_arch  \\\n",
       "0  \\nYou are an expert in software architecture a...               False   \n",
       "1  \\nYou are an expert in software architecture a...               False   \n",
       "2  \\nYou are an expert in software architecture a...               False   \n",
       "3  \\nYou are an expert in software architecture a...               False   \n",
       "4  \\nYou are an expert in software architecture a...               False   \n",
       "\n",
       "                                        s2_reasoning  \\\n",
       "0  Step 1: The core topic of the content is a tab...   \n",
       "1  Step 1: Initial Analysis\\nThe content appears ...   \n",
       "2  The content discusses low-level optimization t...   \n",
       "3  Step 1: The core topic of the content appears ...   \n",
       "4  The content is about diagnosing and fixing spe...   \n",
       "\n",
       "                                         s2_v_prompt  \\\n",
       "0  Now, perform your your audit based on the data...   \n",
       "1  Now, perform your your audit based on the data...   \n",
       "2  Now, perform your your audit based on the data...   \n",
       "3  Now, perform your your audit based on the data...   \n",
       "4  Now, perform your your audit based on the data...   \n",
       "\n",
       "       s2_v_ground_truth_scope s2_v_evaluation  \\\n",
       "0  Local Implementation Detail         correct   \n",
       "1  Local Implementation Detail         correct   \n",
       "2  Local Implementation Detail         correct   \n",
       "3  Local Implementation Detail         correct   \n",
       "4  Local Implementation Detail         correct   \n",
       "\n",
       "                                      s2_v_reasoning  \n",
       "0  My verdict is correct because the text's scope...  \n",
       "1  My verdict is correct because the text's scope...  \n",
       "2  My verdict is correct because the text's scope...  \n",
       "3  My verdict is correct because the text's scope...  \n",
       "4  My verdict is correct because the text's scope...  "
      ],
      "text/html": [
       "<div>\n",
       "<style scoped>\n",
       "    .dataframe tbody tr th:only-of-type {\n",
       "        vertical-align: middle;\n",
       "    }\n",
       "\n",
       "    .dataframe tbody tr th {\n",
       "        vertical-align: top;\n",
       "    }\n",
       "\n",
       "    .dataframe thead th {\n",
       "        text-align: right;\n",
       "    }\n",
       "</style>\n",
       "<table border=\"1\" class=\"dataframe\">\n",
       "  <thead>\n",
       "    <tr style=\"text-align: right;\">\n",
       "      <th></th>\n",
       "      <th>Unnamed: 0</th>\n",
       "      <th>sentence</th>\n",
       "      <th>s2_prompt</th>\n",
       "      <th>s2_related_to_arch</th>\n",
       "      <th>s2_reasoning</th>\n",
       "      <th>s2_v_prompt</th>\n",
       "      <th>s2_v_ground_truth_scope</th>\n",
       "      <th>s2_v_evaluation</th>\n",
       "      <th>s2_v_reasoning</th>\n",
       "    </tr>\n",
       "  </thead>\n",
       "  <tbody>\n",
       "    <tr>\n",
       "      <th>0</th>\n",
       "      <td>6790</td>\n",
       "      <td>Table to cache MD5 values of sample contexts c...</td>\n",
       "      <td>\\nYou are an expert in software architecture a...</td>\n",
       "      <td>False</td>\n",
       "      <td>Step 1: The core topic of the content is a tab...</td>\n",
       "      <td>Now, perform your your audit based on the data...</td>\n",
       "      <td>Local Implementation Detail</td>\n",
       "      <td>correct</td>\n",
       "      <td>My verdict is correct because the text's scope...</td>\n",
       "    </tr>\n",
       "    <tr>\n",
       "      <th>1</th>\n",
       "      <td>233</td>\n",
       "      <td>Hi @sfchen . In my mind, you can reduce the nu...</td>\n",
       "      <td>\\nYou are an expert in software architecture a...</td>\n",
       "      <td>False</td>\n",
       "      <td>Step 1: Initial Analysis\\nThe content appears ...</td>\n",
       "      <td>Now, perform your your audit based on the data...</td>\n",
       "      <td>Local Implementation Detail</td>\n",
       "      <td>correct</td>\n",
       "      <td>My verdict is correct because the text's scope...</td>\n",
       "    </tr>\n",
       "    <tr>\n",
       "      <th>2</th>\n",
       "      <td>1061</td>\n",
       "      <td>n the entry basic block afterward. The SROA (S...</td>\n",
       "      <td>\\nYou are an expert in software architecture a...</td>\n",
       "      <td>False</td>\n",
       "      <td>The content discusses low-level optimization t...</td>\n",
       "      <td>Now, perform your your audit based on the data...</td>\n",
       "      <td>Local Implementation Detail</td>\n",
       "      <td>correct</td>\n",
       "      <td>My verdict is correct because the text's scope...</td>\n",
       "    </tr>\n",
       "    <tr>\n",
       "      <th>3</th>\n",
       "      <td>1823</td>\n",
       "      <td>Update def-ages for registers defined by MI. I...</td>\n",
       "      <td>\\nYou are an expert in software architecture a...</td>\n",
       "      <td>False</td>\n",
       "      <td>Step 1: The core topic of the content appears ...</td>\n",
       "      <td>Now, perform your your audit based on the data...</td>\n",
       "      <td>Local Implementation Detail</td>\n",
       "      <td>correct</td>\n",
       "      <td>My verdict is correct because the text's scope...</td>\n",
       "    </tr>\n",
       "    <tr>\n",
       "      <th>4</th>\n",
       "      <td>7726</td>\n",
       "      <td>DiagnoseForRangeVariableCopies - Diagnose thre...</td>\n",
       "      <td>\\nYou are an expert in software architecture a...</td>\n",
       "      <td>False</td>\n",
       "      <td>The content is about diagnosing and fixing spe...</td>\n",
       "      <td>Now, perform your your audit based on the data...</td>\n",
       "      <td>Local Implementation Detail</td>\n",
       "      <td>correct</td>\n",
       "      <td>My verdict is correct because the text's scope...</td>\n",
       "    </tr>\n",
       "  </tbody>\n",
       "</table>\n",
       "</div>"
      ]
     },
     "execution_count": 58,
     "metadata": {},
     "output_type": "execute_result"
    }
   ],
   "execution_count": 58
  },
  {
   "metadata": {
    "ExecuteTime": {
     "end_time": "2025-08-10T07:05:56.621956Z",
     "start_time": "2025-08-10T07:05:56.614319Z"
    }
   },
   "cell_type": "code",
   "source": "df.shape",
   "id": "dfc251bf7c90e689",
   "outputs": [
    {
     "data": {
      "text/plain": [
       "(384, 9)"
      ]
     },
     "execution_count": 59,
     "metadata": {},
     "output_type": "execute_result"
    }
   ],
   "execution_count": 59
  },
  {
   "metadata": {
    "ExecuteTime": {
     "end_time": "2025-08-10T07:05:56.819284Z",
     "start_time": "2025-08-10T07:05:56.808243Z"
    }
   },
   "cell_type": "code",
   "source": "df.groupby(\"s2_v_evaluation\").size().rename(\"percentage\") / df.shape[0] * 100",
   "id": "bacb4a827563132f",
   "outputs": [
    {
     "data": {
      "text/plain": [
       "s2_v_evaluation\n",
       "correct      87.239583\n",
       "incorrect    12.760417\n",
       "Name: percentage, dtype: float64"
      ]
     },
     "execution_count": 60,
     "metadata": {},
     "output_type": "execute_result"
    }
   ],
   "execution_count": 60
  },
  {
   "metadata": {
    "ExecuteTime": {
     "end_time": "2025-08-10T07:05:57.022037Z",
     "start_time": "2025-08-10T07:05:57.011071Z"
    }
   },
   "cell_type": "code",
   "source": "df.groupby(\"s2_v_evaluation\").size().rename(\"count\")",
   "id": "a279d31344081ec2",
   "outputs": [
    {
     "data": {
      "text/plain": [
       "s2_v_evaluation\n",
       "correct      335\n",
       "incorrect     49\n",
       "Name: count, dtype: int64"
      ]
     },
     "execution_count": 61,
     "metadata": {},
     "output_type": "execute_result"
    }
   ],
   "execution_count": 61
  },
  {
   "metadata": {},
   "cell_type": "markdown",
   "source": "# S3",
   "id": "aff2da4a17be7ce1"
  },
  {
   "metadata": {
    "collapsed": true,
    "ExecuteTime": {
     "end_time": "2025-08-10T07:05:57.353901Z",
     "start_time": "2025-08-10T07:05:57.259174Z"
    }
   },
   "cell_type": "code",
   "source": "df = CSVDFHandler().read_df(AbsDirPath.SAMPLES_VERIFIED / \"s3.csv\")",
   "id": "d6998752caec2f5",
   "outputs": [],
   "execution_count": 62
  },
  {
   "metadata": {
    "ExecuteTime": {
     "end_time": "2025-08-10T07:05:57.477783Z",
     "start_time": "2025-08-10T07:05:57.462512Z"
    }
   },
   "cell_type": "code",
   "source": "df.head()",
   "id": "c3deaa2623f4037",
   "outputs": [
    {
     "data": {
      "text/plain": [
       "   Unnamed: 0                 qa  \\\n",
       "0        1820      integrability   \n",
       "1        2587  energy efficiency   \n",
       "2        1156        testability   \n",
       "3        6719             safety   \n",
       "4         946      deployability   \n",
       "\n",
       "                                            sentence  \\\n",
       "0  Interesting, @MichaelPeibo! Would you share th...   \n",
       "1  < Use new instance of all the pass/analysis ma...   \n",
       "2  .. _history:. History. =======. .. toctree::. ...   \n",
       "3  If one input is the very global we're querying...   \n",
       "4  ghtforward: just hand them to pickle (or. cPic...   \n",
       "\n",
       "                                           s3_prompt  \\\n",
       "0  \\nBased on the rules provided, analyze the fol...   \n",
       "1  \\nBased on the rules provided, analyze the fol...   \n",
       "2  \\nBased on the rules provided, analyze the fol...   \n",
       "3  \\nBased on the rules provided, analyze the fol...   \n",
       "4  \\nBased on the rules provided, analyze the fol...   \n",
       "\n",
       "                  s3_tactic  \\\n",
       "0                       NaN   \n",
       "1                       NaN   \n",
       "2     Abstract Data Sources   \n",
       "3                       NaN   \n",
       "4  Abstract Common Services   \n",
       "\n",
       "                                         s3_response  \\\n",
       "0  The system is being asked to implement a featu...   \n",
       "1  The system is being asked to use a new instanc...   \n",
       "2  The system provides an interface to substitute...   \n",
       "3  The system cannot determine aliasing if the qu...   \n",
       "4  The system implements similar services once in...   \n",
       "\n",
       "                                         s3_v_prompt  \\\n",
       "0  Now, perform your your audit based on the data...   \n",
       "1  Now, perform your your audit based on the data...   \n",
       "2  Now, perform your your audit based on the data...   \n",
       "3  Now, perform your your audit based on the data...   \n",
       "4  Now, perform your your audit based on the data...   \n",
       "\n",
       "       s3_v_ground_truth_scope s3_v_evaluation  \\\n",
       "0          System-Level Design         correct   \n",
       "1  Local Implementation Detail       incorrect   \n",
       "2  Local Implementation Detail       incorrect   \n",
       "3  Local Implementation Detail       incorrect   \n",
       "4  Local Implementation Detail       incorrect   \n",
       "\n",
       "                                      s3_v_reasoning  \n",
       "0  I am considering the best way to do this is to...  \n",
       "1  The first AI's decision was incorrect because ...  \n",
       "2  The text describes the history and evolution o...  \n",
       "3  The first AI's decision was incorrect because ...  \n",
       "4  The first AI's decision was incorrect because ...  "
      ],
      "text/html": [
       "<div>\n",
       "<style scoped>\n",
       "    .dataframe tbody tr th:only-of-type {\n",
       "        vertical-align: middle;\n",
       "    }\n",
       "\n",
       "    .dataframe tbody tr th {\n",
       "        vertical-align: top;\n",
       "    }\n",
       "\n",
       "    .dataframe thead th {\n",
       "        text-align: right;\n",
       "    }\n",
       "</style>\n",
       "<table border=\"1\" class=\"dataframe\">\n",
       "  <thead>\n",
       "    <tr style=\"text-align: right;\">\n",
       "      <th></th>\n",
       "      <th>Unnamed: 0</th>\n",
       "      <th>qa</th>\n",
       "      <th>sentence</th>\n",
       "      <th>s3_prompt</th>\n",
       "      <th>s3_tactic</th>\n",
       "      <th>s3_response</th>\n",
       "      <th>s3_v_prompt</th>\n",
       "      <th>s3_v_ground_truth_scope</th>\n",
       "      <th>s3_v_evaluation</th>\n",
       "      <th>s3_v_reasoning</th>\n",
       "    </tr>\n",
       "  </thead>\n",
       "  <tbody>\n",
       "    <tr>\n",
       "      <th>0</th>\n",
       "      <td>1820</td>\n",
       "      <td>integrability</td>\n",
       "      <td>Interesting, @MichaelPeibo! Would you share th...</td>\n",
       "      <td>\\nBased on the rules provided, analyze the fol...</td>\n",
       "      <td>NaN</td>\n",
       "      <td>The system is being asked to implement a featu...</td>\n",
       "      <td>Now, perform your your audit based on the data...</td>\n",
       "      <td>System-Level Design</td>\n",
       "      <td>correct</td>\n",
       "      <td>I am considering the best way to do this is to...</td>\n",
       "    </tr>\n",
       "    <tr>\n",
       "      <th>1</th>\n",
       "      <td>2587</td>\n",
       "      <td>energy efficiency</td>\n",
       "      <td>&lt; Use new instance of all the pass/analysis ma...</td>\n",
       "      <td>\\nBased on the rules provided, analyze the fol...</td>\n",
       "      <td>NaN</td>\n",
       "      <td>The system is being asked to use a new instanc...</td>\n",
       "      <td>Now, perform your your audit based on the data...</td>\n",
       "      <td>Local Implementation Detail</td>\n",
       "      <td>incorrect</td>\n",
       "      <td>The first AI's decision was incorrect because ...</td>\n",
       "    </tr>\n",
       "    <tr>\n",
       "      <th>2</th>\n",
       "      <td>1156</td>\n",
       "      <td>testability</td>\n",
       "      <td>.. _history:. History. =======. .. toctree::. ...</td>\n",
       "      <td>\\nBased on the rules provided, analyze the fol...</td>\n",
       "      <td>Abstract Data Sources</td>\n",
       "      <td>The system provides an interface to substitute...</td>\n",
       "      <td>Now, perform your your audit based on the data...</td>\n",
       "      <td>Local Implementation Detail</td>\n",
       "      <td>incorrect</td>\n",
       "      <td>The text describes the history and evolution o...</td>\n",
       "    </tr>\n",
       "    <tr>\n",
       "      <th>3</th>\n",
       "      <td>6719</td>\n",
       "      <td>safety</td>\n",
       "      <td>If one input is the very global we're querying...</td>\n",
       "      <td>\\nBased on the rules provided, analyze the fol...</td>\n",
       "      <td>NaN</td>\n",
       "      <td>The system cannot determine aliasing if the qu...</td>\n",
       "      <td>Now, perform your your audit based on the data...</td>\n",
       "      <td>Local Implementation Detail</td>\n",
       "      <td>incorrect</td>\n",
       "      <td>The first AI's decision was incorrect because ...</td>\n",
       "    </tr>\n",
       "    <tr>\n",
       "      <th>4</th>\n",
       "      <td>946</td>\n",
       "      <td>deployability</td>\n",
       "      <td>ghtforward: just hand them to pickle (or. cPic...</td>\n",
       "      <td>\\nBased on the rules provided, analyze the fol...</td>\n",
       "      <td>Abstract Common Services</td>\n",
       "      <td>The system implements similar services once in...</td>\n",
       "      <td>Now, perform your your audit based on the data...</td>\n",
       "      <td>Local Implementation Detail</td>\n",
       "      <td>incorrect</td>\n",
       "      <td>The first AI's decision was incorrect because ...</td>\n",
       "    </tr>\n",
       "  </tbody>\n",
       "</table>\n",
       "</div>"
      ]
     },
     "execution_count": 63,
     "metadata": {},
     "output_type": "execute_result"
    }
   ],
   "execution_count": 63
  },
  {
   "metadata": {
    "ExecuteTime": {
     "end_time": "2025-08-10T07:05:57.574107Z",
     "start_time": "2025-08-10T07:05:57.565669Z"
    }
   },
   "cell_type": "code",
   "source": "df.shape",
   "id": "dd9063717ca413e0",
   "outputs": [
    {
     "data": {
      "text/plain": [
       "(384, 10)"
      ]
     },
     "execution_count": 64,
     "metadata": {},
     "output_type": "execute_result"
    }
   ],
   "execution_count": 64
  },
  {
   "metadata": {
    "ExecuteTime": {
     "end_time": "2025-08-10T07:05:57.712548Z",
     "start_time": "2025-08-10T07:05:57.704452Z"
    }
   },
   "cell_type": "code",
   "source": "df.groupby(\"s3_v_evaluation\").size().rename(\"percentage\") / df.shape[0] * 100",
   "id": "682b5cdd13333424",
   "outputs": [
    {
     "data": {
      "text/plain": [
       "s3_v_evaluation\n",
       "correct      19.791667\n",
       "incorrect    80.208333\n",
       "Name: percentage, dtype: float64"
      ]
     },
     "execution_count": 65,
     "metadata": {},
     "output_type": "execute_result"
    }
   ],
   "execution_count": 65
  },
  {
   "metadata": {
    "ExecuteTime": {
     "end_time": "2025-08-10T07:05:57.864524Z",
     "start_time": "2025-08-10T07:05:57.850342Z"
    }
   },
   "cell_type": "code",
   "source": "df.groupby(\"s3_v_evaluation\").size().rename(\"count\")",
   "id": "557a70b3391e4c00",
   "outputs": [
    {
     "data": {
      "text/plain": [
       "s3_v_evaluation\n",
       "correct       76\n",
       "incorrect    308\n",
       "Name: count, dtype: int64"
      ]
     },
     "execution_count": 66,
     "metadata": {},
     "output_type": "execute_result"
    }
   ],
   "execution_count": 66
  }
 ],
 "metadata": {
  "kernelspec": {
   "display_name": "Python 3",
   "language": "python",
   "name": "python3"
  },
  "language_info": {
   "codemirror_mode": {
    "name": "ipython",
    "version": 2
   },
   "file_extension": ".py",
   "mimetype": "text/x-python",
   "name": "python",
   "nbconvert_exporter": "python",
   "pygments_lexer": "ipython2",
   "version": "2.7.6"
  }
 },
 "nbformat": 4,
 "nbformat_minor": 5
}

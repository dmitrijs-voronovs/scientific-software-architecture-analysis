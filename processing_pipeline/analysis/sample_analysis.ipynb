{
 "cells": [
  {
   "cell_type": "code",
   "id": "8d6593feb9904ca0",
   "metadata": {
    "ExecuteTime": {
     "end_time": "2025-08-07T16:32:39.861371Z",
     "start_time": "2025-08-07T16:32:39.846652Z"
    }
   },
   "source": [
    "from constants.abs_paths import AbsDirPath\n",
    "from processing_pipeline.model.CSVDFHandler import CSVDFHandler\n",
    "from processing_pipeline.utilities.data_transformation import load_all_files"
   ],
   "outputs": [],
   "execution_count": 186
  },
  {
   "metadata": {},
   "cell_type": "markdown",
   "source": "# S0",
   "id": "e1fbe1b668ca0b89"
  },
  {
   "metadata": {
    "collapsed": true,
    "ExecuteTime": {
     "end_time": "2025-08-07T16:32:40.027323Z",
     "start_time": "2025-08-07T16:32:39.928979Z"
    }
   },
   "cell_type": "code",
   "source": "df = CSVDFHandler().read_df(AbsDirPath.SAMPLES_VERIFIED / \"s0.csv\")",
   "id": "initial_id",
   "outputs": [],
   "execution_count": 187
  },
  {
   "metadata": {
    "ExecuteTime": {
     "end_time": "2025-08-07T16:32:40.070772Z",
     "start_time": "2025-08-07T16:32:40.043577Z"
    }
   },
   "cell_type": "code",
   "source": "df.head()",
   "id": "72d5488d751c4f38",
   "outputs": [
    {
     "data": {
      "text/plain": [
       "   Unnamed: 0                                           sentence  \\\n",
       "0       11180  Convert a partial UTF8 sequence to UTF32. If t...   \n",
       "1        1120  ure build. USES_TERMINAL_CONFIGURE 1. USES_TER...   \n",
       "2          43   a. bootstrap build of the compiler. That mean...   \n",
       "3        8013  True iff the specified MMO index has a size th...   \n",
       "4        7553  FIXME: Update the type on all intervening expr...   \n",
       "\n",
       "                                           s0_prompt  s0_to_eliminate  \\\n",
       "0  \\nYou are an expert in analyzing and categoriz...             True   \n",
       "1  \\nYou are an expert in analyzing and categoriz...             True   \n",
       "2  \\nYou are an expert in analyzing and categoriz...             True   \n",
       "3  \\nYou are an expert in analyzing and categoriz...             True   \n",
       "4  \\nYou are an expert in analyzing and categoriz...             True   \n",
       "\n",
       "                                        s0_reasoning  \\\n",
       "0  This is a technical artifact describing a func...   \n",
       "1  This content appears to be a CMake script or c...   \n",
       "2  The content appears to be a technical document...   \n",
       "3  The given content appears to be a technical co...   \n",
       "4  This is a FIXME comment that indicates an inco...   \n",
       "\n",
       "                                         s0_v_prompt  \\\n",
       "0  Now, perform your your audit based on the data...   \n",
       "1  Now, perform your your audit based on the data...   \n",
       "2  Now, perform your your audit based on the data...   \n",
       "3  Now, perform your your audit based on the data...   \n",
       "4  Now, perform your your audit based on the data...   \n",
       "\n",
       "                             s0_v_analysis_core_rule  \\\n",
       "0  The core rule from the original prompt was to ...   \n",
       "1  The core rule from the original prompt was to ...   \n",
       "2  The core rule from the original prompt was to ...   \n",
       "3  The core rule from the original prompt was to ...   \n",
       "4  The core rule from the original prompt was to ...   \n",
       "\n",
       "  s0_v_analysis_is_decision_correct s0_v_analysis_is_reasoning_plausible  \\\n",
       "0                                no                                  yes   \n",
       "1                               yes                                  yes   \n",
       "2                                no                                  yes   \n",
       "3                               yes                                   no   \n",
       "4                                no                                  yes   \n",
       "\n",
       "     s0_v_evaluation                                     s0_v_reasoning  \n",
       "0          incorrect  The first AI's decision was incorrect because ...  \n",
       "1            correct  My verdict is correct because the decision to ...  \n",
       "2  partially correct  My verdict is partially correct because the de...  \n",
       "3  partially correct  The first AI's decision was incorrect because ...  \n",
       "4          incorrect  The first AI's decision was incorrect because ...  "
      ],
      "text/html": [
       "<div>\n",
       "<style scoped>\n",
       "    .dataframe tbody tr th:only-of-type {\n",
       "        vertical-align: middle;\n",
       "    }\n",
       "\n",
       "    .dataframe tbody tr th {\n",
       "        vertical-align: top;\n",
       "    }\n",
       "\n",
       "    .dataframe thead th {\n",
       "        text-align: right;\n",
       "    }\n",
       "</style>\n",
       "<table border=\"1\" class=\"dataframe\">\n",
       "  <thead>\n",
       "    <tr style=\"text-align: right;\">\n",
       "      <th></th>\n",
       "      <th>Unnamed: 0</th>\n",
       "      <th>sentence</th>\n",
       "      <th>s0_prompt</th>\n",
       "      <th>s0_to_eliminate</th>\n",
       "      <th>s0_reasoning</th>\n",
       "      <th>s0_v_prompt</th>\n",
       "      <th>s0_v_analysis_core_rule</th>\n",
       "      <th>s0_v_analysis_is_decision_correct</th>\n",
       "      <th>s0_v_analysis_is_reasoning_plausible</th>\n",
       "      <th>s0_v_evaluation</th>\n",
       "      <th>s0_v_reasoning</th>\n",
       "    </tr>\n",
       "  </thead>\n",
       "  <tbody>\n",
       "    <tr>\n",
       "      <th>0</th>\n",
       "      <td>11180</td>\n",
       "      <td>Convert a partial UTF8 sequence to UTF32. If t...</td>\n",
       "      <td>\\nYou are an expert in analyzing and categoriz...</td>\n",
       "      <td>True</td>\n",
       "      <td>This is a technical artifact describing a func...</td>\n",
       "      <td>Now, perform your your audit based on the data...</td>\n",
       "      <td>The core rule from the original prompt was to ...</td>\n",
       "      <td>no</td>\n",
       "      <td>yes</td>\n",
       "      <td>incorrect</td>\n",
       "      <td>The first AI's decision was incorrect because ...</td>\n",
       "    </tr>\n",
       "    <tr>\n",
       "      <th>1</th>\n",
       "      <td>1120</td>\n",
       "      <td>ure build. USES_TERMINAL_CONFIGURE 1. USES_TER...</td>\n",
       "      <td>\\nYou are an expert in analyzing and categoriz...</td>\n",
       "      <td>True</td>\n",
       "      <td>This content appears to be a CMake script or c...</td>\n",
       "      <td>Now, perform your your audit based on the data...</td>\n",
       "      <td>The core rule from the original prompt was to ...</td>\n",
       "      <td>yes</td>\n",
       "      <td>yes</td>\n",
       "      <td>correct</td>\n",
       "      <td>My verdict is correct because the decision to ...</td>\n",
       "    </tr>\n",
       "    <tr>\n",
       "      <th>2</th>\n",
       "      <td>43</td>\n",
       "      <td>a. bootstrap build of the compiler. That mean...</td>\n",
       "      <td>\\nYou are an expert in analyzing and categoriz...</td>\n",
       "      <td>True</td>\n",
       "      <td>The content appears to be a technical document...</td>\n",
       "      <td>Now, perform your your audit based on the data...</td>\n",
       "      <td>The core rule from the original prompt was to ...</td>\n",
       "      <td>no</td>\n",
       "      <td>yes</td>\n",
       "      <td>partially correct</td>\n",
       "      <td>My verdict is partially correct because the de...</td>\n",
       "    </tr>\n",
       "    <tr>\n",
       "      <th>3</th>\n",
       "      <td>8013</td>\n",
       "      <td>True iff the specified MMO index has a size th...</td>\n",
       "      <td>\\nYou are an expert in analyzing and categoriz...</td>\n",
       "      <td>True</td>\n",
       "      <td>The given content appears to be a technical co...</td>\n",
       "      <td>Now, perform your your audit based on the data...</td>\n",
       "      <td>The core rule from the original prompt was to ...</td>\n",
       "      <td>yes</td>\n",
       "      <td>no</td>\n",
       "      <td>partially correct</td>\n",
       "      <td>The first AI's decision was incorrect because ...</td>\n",
       "    </tr>\n",
       "    <tr>\n",
       "      <th>4</th>\n",
       "      <td>7553</td>\n",
       "      <td>FIXME: Update the type on all intervening expr...</td>\n",
       "      <td>\\nYou are an expert in analyzing and categoriz...</td>\n",
       "      <td>True</td>\n",
       "      <td>This is a FIXME comment that indicates an inco...</td>\n",
       "      <td>Now, perform your your audit based on the data...</td>\n",
       "      <td>The core rule from the original prompt was to ...</td>\n",
       "      <td>no</td>\n",
       "      <td>yes</td>\n",
       "      <td>incorrect</td>\n",
       "      <td>The first AI's decision was incorrect because ...</td>\n",
       "    </tr>\n",
       "  </tbody>\n",
       "</table>\n",
       "</div>"
      ]
     },
     "execution_count": 188,
     "metadata": {},
     "output_type": "execute_result"
    }
   ],
   "execution_count": 188
  },
  {
   "metadata": {
    "ExecuteTime": {
     "end_time": "2025-08-07T16:32:40.180858Z",
     "start_time": "2025-08-07T16:32:40.170849Z"
    }
   },
   "cell_type": "code",
   "source": "df.shape",
   "id": "1098eedf44f78738",
   "outputs": [
    {
     "data": {
      "text/plain": [
       "(80, 11)"
      ]
     },
     "execution_count": 189,
     "metadata": {},
     "output_type": "execute_result"
    }
   ],
   "execution_count": 189
  },
  {
   "metadata": {
    "ExecuteTime": {
     "end_time": "2025-08-07T16:32:40.321480Z",
     "start_time": "2025-08-07T16:32:40.303948Z"
    }
   },
   "cell_type": "code",
   "source": "df.groupby(\"s0_v_evaluation\").size().rename(\"count\")",
   "id": "f9e7f2b912fbae57",
   "outputs": [
    {
     "data": {
      "text/plain": [
       "s0_v_evaluation\n",
       "correct              16\n",
       "incorrect            27\n",
       "partially correct    37\n",
       "Name: count, dtype: int64"
      ]
     },
     "execution_count": 190,
     "metadata": {},
     "output_type": "execute_result"
    }
   ],
   "execution_count": 190
  },
  {
   "metadata": {
    "ExecuteTime": {
     "end_time": "2025-08-07T16:32:40.494267Z",
     "start_time": "2025-08-07T16:32:40.478694Z"
    }
   },
   "cell_type": "code",
   "source": "df.groupby(\"s0_v_evaluation\").size().rename(\"percentage\") / df.shape[0] * 100",
   "id": "ff6c400856b00aa",
   "outputs": [
    {
     "data": {
      "text/plain": [
       "s0_v_evaluation\n",
       "correct              20.00\n",
       "incorrect            33.75\n",
       "partially correct    46.25\n",
       "Name: percentage, dtype: float64"
      ]
     },
     "execution_count": 191,
     "metadata": {},
     "output_type": "execute_result"
    }
   ],
   "execution_count": 191
  },
  {
   "metadata": {},
   "cell_type": "markdown",
   "source": "# S1",
   "id": "4f0ce7b2864e8259"
  },
  {
   "metadata": {
    "collapsed": true,
    "ExecuteTime": {
     "end_time": "2025-08-04T07:37:02.754531Z",
     "start_time": "2025-08-04T07:37:02.631213Z"
    }
   },
   "cell_type": "code",
   "source": "df = CSVDFHandler().read_df(AbsDirPath.SAMPLES_VERIFIED / \"s1.csv\")",
   "id": "14de1981e612fade",
   "outputs": [],
   "execution_count": 17
  },
  {
   "metadata": {
    "ExecuteTime": {
     "end_time": "2025-08-04T07:37:02.962097Z",
     "start_time": "2025-08-04T07:37:02.940400Z"
    }
   },
   "cell_type": "code",
   "source": "df.head()",
   "id": "69502393758b69ea",
   "outputs": [
    {
     "data": {
      "text/plain": [
       "   Unnamed: 0                 qa  \\\n",
       "0        9028           security   \n",
       "1        1499  energy efficiency   \n",
       "2         685       availability   \n",
       "3        3247  energy efficiency   \n",
       "4        1508           security   \n",
       "\n",
       "                                            sentence  \\\n",
       "0  In the context of a define, even keywords shou...   \n",
       "1  tions are randomly selected to be either left-...   \n",
       "2  tion,. $\\mbox{FCN}$. The width of the function...   \n",
       "3  @guitargeek Potential good news. I am currentl...   \n",
       "4  >> as TTree I/O does not provide bulks,. >. > ...   \n",
       "\n",
       "                                           s1_prompt  s1_true_positive  \\\n",
       "0  \\nYou are a meticulous software engineering ex...              True   \n",
       "1  \\nYou are a meticulous software engineering ex...              True   \n",
       "2  \\nYou are a meticulous software engineering ex...              True   \n",
       "3  \\nYou are a meticulous software engineering ex...             False   \n",
       "4  \\nYou are a meticulous software engineering ex...             False   \n",
       "\n",
       "                                        s1_reasoning  \\\n",
       "0  The content describes how setting the identifi...   \n",
       "1  The content describes how GWP-ASan is configur...   \n",
       "2  The content describes how to calculate paramet...   \n",
       "3  The content appears to be an email message req...   \n",
       "4  The content does not describe a security threa...   \n",
       "\n",
       "                                         s1_v_prompt s1_v_correctness  \\\n",
       "0  Now, perform your evaluation based on the cont...        incorrect   \n",
       "1  Now, perform your evaluation based on the cont...        incorrect   \n",
       "2  Now, perform your evaluation based on the cont...        incorrect   \n",
       "3  Now, perform your evaluation based on the cont...        incorrect   \n",
       "4  Now, perform your evaluation based on the cont...        incorrect   \n",
       "\n",
       "                                      s1_v_reasoning  \n",
       "0  The original prompt requires evaluating if a s...  \n",
       "1  The AI's output classifies the content as a tr...  \n",
       "2  The AI output classifies the source text as a ...  \n",
       "3  The AI's output incorrectly classified the sou...  \n",
       "4  The AI's decision to classify the source text ...  "
      ],
      "text/html": [
       "<div>\n",
       "<style scoped>\n",
       "    .dataframe tbody tr th:only-of-type {\n",
       "        vertical-align: middle;\n",
       "    }\n",
       "\n",
       "    .dataframe tbody tr th {\n",
       "        vertical-align: top;\n",
       "    }\n",
       "\n",
       "    .dataframe thead th {\n",
       "        text-align: right;\n",
       "    }\n",
       "</style>\n",
       "<table border=\"1\" class=\"dataframe\">\n",
       "  <thead>\n",
       "    <tr style=\"text-align: right;\">\n",
       "      <th></th>\n",
       "      <th>Unnamed: 0</th>\n",
       "      <th>qa</th>\n",
       "      <th>sentence</th>\n",
       "      <th>s1_prompt</th>\n",
       "      <th>s1_true_positive</th>\n",
       "      <th>s1_reasoning</th>\n",
       "      <th>s1_v_prompt</th>\n",
       "      <th>s1_v_correctness</th>\n",
       "      <th>s1_v_reasoning</th>\n",
       "    </tr>\n",
       "  </thead>\n",
       "  <tbody>\n",
       "    <tr>\n",
       "      <th>0</th>\n",
       "      <td>9028</td>\n",
       "      <td>security</td>\n",
       "      <td>In the context of a define, even keywords shou...</td>\n",
       "      <td>\\nYou are a meticulous software engineering ex...</td>\n",
       "      <td>True</td>\n",
       "      <td>The content describes how setting the identifi...</td>\n",
       "      <td>Now, perform your evaluation based on the cont...</td>\n",
       "      <td>incorrect</td>\n",
       "      <td>The original prompt requires evaluating if a s...</td>\n",
       "    </tr>\n",
       "    <tr>\n",
       "      <th>1</th>\n",
       "      <td>1499</td>\n",
       "      <td>energy efficiency</td>\n",
       "      <td>tions are randomly selected to be either left-...</td>\n",
       "      <td>\\nYou are a meticulous software engineering ex...</td>\n",
       "      <td>True</td>\n",
       "      <td>The content describes how GWP-ASan is configur...</td>\n",
       "      <td>Now, perform your evaluation based on the cont...</td>\n",
       "      <td>incorrect</td>\n",
       "      <td>The AI's output classifies the content as a tr...</td>\n",
       "    </tr>\n",
       "    <tr>\n",
       "      <th>2</th>\n",
       "      <td>685</td>\n",
       "      <td>availability</td>\n",
       "      <td>tion,. $\\mbox{FCN}$. The width of the function...</td>\n",
       "      <td>\\nYou are a meticulous software engineering ex...</td>\n",
       "      <td>True</td>\n",
       "      <td>The content describes how to calculate paramet...</td>\n",
       "      <td>Now, perform your evaluation based on the cont...</td>\n",
       "      <td>incorrect</td>\n",
       "      <td>The AI output classifies the source text as a ...</td>\n",
       "    </tr>\n",
       "    <tr>\n",
       "      <th>3</th>\n",
       "      <td>3247</td>\n",
       "      <td>energy efficiency</td>\n",
       "      <td>@guitargeek Potential good news. I am currentl...</td>\n",
       "      <td>\\nYou are a meticulous software engineering ex...</td>\n",
       "      <td>False</td>\n",
       "      <td>The content appears to be an email message req...</td>\n",
       "      <td>Now, perform your evaluation based on the cont...</td>\n",
       "      <td>incorrect</td>\n",
       "      <td>The AI's output incorrectly classified the sou...</td>\n",
       "    </tr>\n",
       "    <tr>\n",
       "      <th>4</th>\n",
       "      <td>1508</td>\n",
       "      <td>security</td>\n",
       "      <td>&gt;&gt; as TTree I/O does not provide bulks,. &gt;. &gt; ...</td>\n",
       "      <td>\\nYou are a meticulous software engineering ex...</td>\n",
       "      <td>False</td>\n",
       "      <td>The content does not describe a security threa...</td>\n",
       "      <td>Now, perform your evaluation based on the cont...</td>\n",
       "      <td>incorrect</td>\n",
       "      <td>The AI's decision to classify the source text ...</td>\n",
       "    </tr>\n",
       "  </tbody>\n",
       "</table>\n",
       "</div>"
      ]
     },
     "execution_count": 18,
     "metadata": {},
     "output_type": "execute_result"
    }
   ],
   "execution_count": 18
  },
  {
   "metadata": {
    "ExecuteTime": {
     "end_time": "2025-08-04T07:37:03.277455Z",
     "start_time": "2025-08-04T07:37:03.266243Z"
    }
   },
   "cell_type": "code",
   "source": "df.shape",
   "id": "45ecb0c3a443f3c8",
   "outputs": [
    {
     "data": {
      "text/plain": [
       "(320, 9)"
      ]
     },
     "execution_count": 19,
     "metadata": {},
     "output_type": "execute_result"
    }
   ],
   "execution_count": 19
  },
  {
   "metadata": {
    "ExecuteTime": {
     "end_time": "2025-08-04T07:37:03.463717Z",
     "start_time": "2025-08-04T07:37:03.448452Z"
    }
   },
   "cell_type": "code",
   "source": "df.groupby(\"s1_v_evaluation\").size().rename(\"count\")",
   "id": "29f4ab7f7a30705",
   "outputs": [
    {
     "data": {
      "text/plain": [
       "s1_v_correctness\n",
       "incorrect            283\n",
       "partially correct     37\n",
       "Name: count, dtype: int64"
      ]
     },
     "execution_count": 20,
     "metadata": {},
     "output_type": "execute_result"
    }
   ],
   "execution_count": 20
  },
  {
   "metadata": {
    "ExecuteTime": {
     "end_time": "2025-08-04T07:37:03.683023Z",
     "start_time": "2025-08-04T07:37:03.669117Z"
    }
   },
   "cell_type": "code",
   "source": "df.groupby(\"s1_v_evaluation\").size().rename(\"percentage\") / df.shape[0] * 100",
   "id": "5007ff4d3988ff51",
   "outputs": [
    {
     "data": {
      "text/plain": [
       "s1_v_correctness\n",
       "incorrect            88.4375\n",
       "partially correct    11.5625\n",
       "Name: percentage, dtype: float64"
      ]
     },
     "execution_count": 21,
     "metadata": {},
     "output_type": "execute_result"
    }
   ],
   "execution_count": 21
  },
  {
   "metadata": {
    "ExecuteTime": {
     "end_time": "2025-08-05T08:52:46.037028Z",
     "start_time": "2025-08-05T08:52:46.001133Z"
    }
   },
   "cell_type": "code",
   "source": "dfb = df.set_index(\"sentence\")",
   "id": "f2cbf74af82e8e33",
   "outputs": [],
   "execution_count": 24
  },
  {
   "metadata": {
    "ExecuteTime": {
     "end_time": "2025-08-05T08:53:07.374709Z",
     "start_time": "2025-08-05T08:53:07.365232Z"
    }
   },
   "cell_type": "code",
   "source": "dfb.index",
   "id": "1606edabd278b032",
   "outputs": [
    {
     "data": {
      "text/plain": [
       "Index(['In the context of a define, even keywords should be treated as normal identifiers. Setting the kind to identifier is not enough, because we need to treat additional keywords like __except as well, which are already identifiers. Setting the identifier info to null interferes with include guard processing above, and changes preprocessing nesting.',\n",
       "       'tions are randomly selected to be either left- or right-aligned to provide. equal detection of both underflows and overflows. Use after Free Detection. ------------------------. The guarded allocation pool also provides use-after-free detection. Whenever a. sampled allocation is deallocated, we map its guarded slot as inaccessible. Any. memory accesses after deallocation will thus trigger the crash handler, and we. can provide useful information about the source of the error. Please note that the use-after-free detection for a sampled allocation is. transient. To keep memory overhead fixed while still detecting bugs, deallocated. slots are randomly reused to guard future allocations. Usage. =====. GWP-ASan already ships by default in the. `Scudo Hardened Allocator <https://llvm.org/docs/ScudoHardenedAllocator.html>`_,. so building with ``-fsanitize=scudo`` is the quickest and easiest way to try out. GWP-ASan. Options. -------. GWP-ASan's configuration is managed by the supporting allocator. We provide a. generic configuration management library that is used by Scudo. It allows. several aspects of GWP-ASan to be configured through the following methods:. - When the GWP-ASan library is compiled, by setting. ``-DGWP_ASAN_DEFAULT_OPTIONS`` to the options string you want set by default. If you're building GWP-ASan as part of a compiler-rt/LLVM build, add it during. cmake configure time (e.g. ``cmake ... -DGWP_ASAN_DEFAULT_OPTIONS=\"...\"``). If. you're building GWP-ASan outside of compiler-rt, simply ensure that you. specify ``-DGWP_ASAN_DEFAULT_OPTIONS=\"...\"`` when building. ``optional/options_parser.cpp``). - By defining a ``__gwp_asan_default_options`` function in one's program that. returns the options string to be parsed. Said function must have the following. prototype: ``extern C const char* __gwp_asan_default_options(void)``, with a. default visibility. This will override the compile time define;. - Depending on allocator support (Scudo has support for this mecha',\n",
       "       'tion,. $\\mbox{FCN}$. The width of the function minimum, or more generally,. the shape of the function in some neighbourhood of the minimum, gives. information about the *uncertainty* in the best parameter values, often. called by physicists the *parameter errors*. An important feature of M. is that it offers several tools to analyze the parameter errors. $\\mbox{FCN}$ normalization and the error definition . Whatever method is used to calculate the parameter errors, they will. depend on the overall (multiplicative) normalization of. $\\mbox{FCN}$, in the sense that if the value of $\\mbox{FCN}$ is. everywhere multiplied by a constant $\\beta$, then the errors will be. decreased by a factor $\\sqrt{\\beta}$. Additive constants do not change. the parameter errors, but may imply a different goodness-of-fit. confidence level. Assuming that the user knows what the normalization of their. $\\mbox{FCN}$ means, and also that they are interested in parameter. errors, the user can change the error definition which allows them to. define what they means by one error\", in terms of the change in the. $\\mbox{FCN}$ value which should be caused by changing one parameter. by one error\". If the $\\mbox{FCN}$ is the usual chisquare function. (defined below) and if the user wants the usual one-standard-deviation. errors, then the error definition (return value of the FCNBase::up(). method, see [howto:errordef]) should be $1.0$. If the $\\mbox{FCN}$. is a negative-log-likelihood function, then the one-standard-deviation. value for FCNBase::up() to return is $0.5$. If the $\\mbox{FCN}$ is a. chisquare, but the user wants two-standard-deviation errors, then. FCNBase::up() should return $= 4.0$, etc. Note that in the usual case where M is being used to perform a fit to. some experimental data, the parameter errors will be proportional to the. uncertainty in the data, and therefore meaningful parameter errors. cannot be obtained unless the measurement errors of the data are known. In the com',\n",
       "       '@guitargeek Potential good news. I am currently unable to reproduce the problem with the master nor with the tip of v6-32-00-patches. Can you please verify? Thanks.',\n",
       "       '>> as TTree I/O does not provide bulks,. >. > What do you mean? There is a (non-zero copy but still low) bulk i/o interface in TTree already. Only for certain types and it's not exposed by TTreeReader.',\n",
       "       'Hi! :) RGL cmake file has already listed the dependency on ASImage before this. There are functions in TGLViewer that use TImage to export screenshots and to load textures. I assume the problem now is that there is an explicit include of stuff from TASImage. Should we just make this dependency explicit in the initial configure / cmake run? Vincenzo also commented (in the above PR discussion or on MM) that builtin asimage is now always used, there is no external option. And asimage includes fallback implementations of all commonly use graphics file formats. How does TImage work if there is no TASImage? I guess it all just silently fails. And there is no other implementation of the TImage interface. I vote for cmake-time dependency -- as an error or to exclude RGL if asimage=off.',\n",
       "       'When visiting the body, the case statements should automatically get linked up to the switch. We also don't keep a pointer to the body, since all control-flow from the switch goes to case/default statements.',\n",
       "       'Takes a single uhalf operand. Add to the address register of the state machine the value of the (unencoded) operand and set the op_index register to 0. This is the only extended opcode that takes an argument that is not a variable length number. The motivation for DW_LNS_fixed_advance_pc is this: existing assemblers cannot emit DW_LNS_advance_pc or special opcodes because they cannot encode LEB128 numbers or judge when the computation of a special opcode overflows and requires the use of DW_LNS_advance_pc. Such assemblers, however, can use DW_LNS_fixed_advance_pc instead, sacrificing compression.',\n",
       "       'ARMPreAllocLoadStoreOpt has already formed some LDRD/STRD instructions remember them because we may still be able to merge add/sub into them.',\n",
       "       'A utility class used to compute instruction encodings for a code region. It provides a simple API to compute and return instruction encodings as strings. Encodings are cached internally for later usage.',\n",
       "       ...\n",
       "       '> Thanks a lot for the detailed information! It was due to a stupid bug in recently introduced. I suggest a fix in 8486. Thank you very much @guitargeek for prompt fix! . Are there some (approximate) time estimated when the patch is expected to be applied ? (days or weeks or a month?).',\n",
       "       '[RF] Avoid using `std::map` in RooFit pythonizations; Introduce an internal elper class to build a map object that only uses `std::vector`, which can be implicitly converted to `std::map` in C++. This avoids using `std::map` in pythonizations, which can cause assertion failures in Windows debug builds.',\n",
       "       'for only returning the error of the first error type (usally the statistic one), TGraphMultiErrors::kSquareSum for returning the squared sum of the errors of all types (Gaussian propagation) or TGraphMultiErrors::kSum for just returning the sum of the errors from all error types. **Drawing / Painting**. The painting is being performed by the TGraphPainter class like for any other classes. Therefore I added the function TGraphPainter::PaintGraphMultiErrors and included a corresponding line in the TGraphPainter::PaintHelper function. **Drawing / Painting options**. To be able to define different drawing options for the multiple error dimensions the option string can consist of multiple blocks separated by semicolons. The painting method separates the options in multiple options for each y error dimension and one for basic painting and the x errors. In case there are <= NErrorDimensions blocks given, the first block is used for basic painting and for the first dimension of y errors. Y error dimensions without an individual block are painted with “”. Tn case there are NErrorDimensions + 1 given, the first block is used only for basic painting. The remaining blocks are distributed over the y error dimensions In case there are > NErrorDimensions + 1 blocks given an error is returned. All drawing options of TGraphAsymmErrors are implemented. For explanation of the drawing options see TGraphPainter::PaintGraphAsymmErrors. Additionally one can specify x0 or y0 to skip points with x = 0 or y = 0 The Draw option s=%f can be used to multiply the corresponding x errors with %f. This is useful in combination with e.g. option 2 if the boxes are supposed to have only half the width of the bin, in this case the option would be s=0.5. Per default the Fill and Line Styles of the Graph are being used for all error dimensions. To use the specific ones add the draw option s to the first block. In my example plot the drawing options are “a p s ; ; 5 s=0.5” which means the graph is drawn w',\n",
       "       ' Sphinx: http://www.sphinx-doc.org/en/stable/ and published to. http://cppyy.readthedocs.io/en/latest/index.html using a webhook. To create. the docs::. $ pip install sphinx_rtd_theme. Collecting sphinx_rtd_theme. ... Successfully installed sphinx-rtd-theme-0.2.4. $ cd docs. $ make html. The Python code in this module supports:. * Interfacing to the correct backend for CPython or PyPy. * Pythonizations (TBD). Cppyy-backend. -------------. The ``cppyy-backend`` module contains two areas:. * A patched copy of cling. * Wrapper code. Package structure. -----------------. .. _package-structure:. There are four PyPA packages involved in a full installation, with the. following structure::. (A) _cppyy (PyPy). / \\. (1) cppyy (3) cppyy-backend -- (4) cppyy-cling. \\ /. (2) CPyCppyy (CPython). The user-facing package is always ``cppyy`` (1). It is used to select the other (versioned) required packages, based on the. python interpreter for which it is being installed. Below (1) follows a bifurcation based on interpreter. This is needed for functionality and performance: for CPython, there is the. CPyCppyy package (2). It is written in C++, makes use of the Python C-API, and installs as a Python. extension module. For PyPy, there is the builtin module ``_cppyy`` (A). This is not a PyPA package. It is written in RPython as it needs access to low-level pointers, JIT hints,. and the ``_cffi_backend`` backend module (itself builtin). Shared again across interpreters is the backend, which is split in a small. wrapper (3) and a large package that contains Cling/LLVM (4). The former is still under development and expected to be updated frequently. It is small enough to download and build very quickly. The latter, however, takes a long time to build, but since it is very stable,. splitting it off allows the creation of binary wheels that need updating. only infrequently (expected about twice a year). All code is publicly available; see the. :doc:`section on repositories <repositories>`.',\n",
       "       ' a memory location, and anything. stricter than that like a nothrow call. * DSE: Unordered stores can be DSE'ed like normal stores. Monotonic stores can. be DSE'ed in some cases, but it's tricky to reason about, and not especially. important. It is possible in some case for DSE to operate across a stronger. atomic operation, but it is fairly tricky. DSE delegates this reasoning to. MemoryDependencyAnalysis (which is also used by other passes like GVN). * Folding a load: Any atomic load from a constant global can be constant-folded,. because it cannot be observed. Similar reasoning allows sroa with. atomic loads and stores. Atomics and Codegen. ===================. Atomic operations are represented in the SelectionDAG with ``ATOMIC_*`` opcodes. On architectures which use barrier instructions for all atomic ordering (like. ARM), appropriate fences can be emitted by the AtomicExpand Codegen pass if. ``shouldInsertFencesForAtomic()`` returns true. The MachineMemOperand for all atomic operations is currently marked as volatile;. this is not correct in the IR sense of volatile, but CodeGen handles anything. marked volatile very conservatively. This should get fixed at some point. One very important property of the atomic operations is that if your backend. supports any inline lock-free atomic operations of a given size, you should. support *ALL* operations of that size in a lock-free manner. When the target implements atomic ``cmpxchg`` or LL/SC instructions (as most do). this is trivial: all the other operations can be implemented on top of those. primitives. However, on many older CPUs (e.g. ARMv5, SparcV8, Intel 80386) there. are atomic load and store instructions, but no ``cmpxchg`` or LL/SC. As it is. invalid to implement ``atomic load`` using the native instruction, but. ``cmpxchg`` using a library call to a function that uses a mutex, ``atomic. load`` must *also* expand to a library call on such architectures, so that it. can remain atomic with regards to a simulta',\n",
       "       'Divide the string up into simple strings and measure each string.',\n",
       "       'sures the. atomicrmw has. completed before. invalidating the. caches. 5. buffer_inv sc0=1 sc1=1. - Must happen before. any following. global/generic. load/load. atomic/atomicrmw. - Ensures that. following loads. will not see stale. MTYPE NC global data. MTYPE RW and CC memory will. never be stale due to the. memory probes. atomicrmw acq_rel - agent - generic 1. buffer_wbl2 sc1=1. - Must happen before. following s_waitcnt. - Performs L2 writeback to. ensure previous. global/generic. store/atomicrmw are. visible at agent scope. 2. s_waitcnt lgkmcnt(0) &. vmcnt(0). - If TgSplit execution mode,. omit lgkmcnt(0). - If OpenCL, omit. lgkmcnt(0). - Could be split into. separate s_waitcnt. vmcnt(0) and. s_waitcnt. lgkmcnt(0) to allow. them to be. independently moved. according to the. following rules. - s_waitcnt vmcnt(0). must happen after. any preceding. global/generic. load/store/load. atomic/store. atomic/atomicrmw. - s_waitcnt lgkmcnt(0). must happen after. any preceding. local/generic. load/store/load. atomic/store. atomic/atomicrmw. - Must happen before. the following. atomicrmw. - Ensures that all. memory operations. to global have. completed before. performing the. atomicrmw that is. being released. 3. flat_atomic. 4. s_waitcnt vmcnt(0) &. lgkmcnt(0). - If TgSplit execution mode,. omit lgkmcnt(0). - If OpenCL, omit. lgkmcnt(0). - Must happen before. following. buffer_inv. - Ensures the. atomicrmw has. completed before. invalidating the. cache. 5. buffer_inv sc1=1. - Must happen before. any following. global/generic. load/load. atomic/atomicrmw. - Ensures that. following loads. will not see stale. global data. atomicrmw acq_rel - system - generic 1. buffer_wbl2 sc0=1 sc1=1. - Must happen before. following s_waitcnt. - Performs L2 writeback to. ensure previous. global/generic. store/atomicrmw are. visible at system scope. 2. s_waitcnt lgkmcnt(0) &. vmcnt(0). - If TgSplit execution mode,. omit lgkmcnt(0). - If OpenCL, omit. lgkmcnt(0). - Could be split into. separate s',\n",
       "       'ule) violation: i.e. some of the code use one version of `std::span` and some of the code use a different version of `std::span`. Exactly, that's the tricky part of this issue. If no other means are used to avoid problems, and the compilation is successful, directly adding the same name to the std will potentially lead to many surprises. . If I understand correctly, the same is true for `std::string_view`. See `RStringView.hxx`:. ```C++. if defined(R__HAS_STD_STRING_VIEW) || R__MSVC_LANG >= 201703L || __cplusplus >= 201703L. include <string_view>. else. if defined(R__HAS_STD_EXPERIMENTAL_STRING_VIEW). include <experimental/string_view>. else. include RWrap_libcpp_string_view.h\". endif. ```. There is also a feature test macro. If someone uses C++17 and links to the ROOT compiled by C++14, they might encounter the same issue. I think it is a better practice to change a namespace (such as `cxx20::span`, `cxx17::string_view`, etc.) and provide the corresponding implicit conversion when the standard matches. In this way, users will not be disturbed to use normally, and these features are also available inside ROOT. The only symmetry break is in the API. Because the features exposed are not those of the standard library, users may need to manually convert them in some cases, so implicit conversion should be provided. . For example:. ```C++. if __cplusplus >= 202002L. include <span>. endif. namespace cxx20 {. constexpr std::size_t dynamic_extent =. if __cplusplus >= 202002L. std::dynamic_extent;. else. /* something */;. endif. template<class T, std::size_t Extent = dynamic_extent>. class span {. // ... here is the normal implementation. if __cplusplus >= 202002L. public:. constexpr operator std::span<T, Extent>() noexcept;. constexpr span(const std::span<T, Extent>& other) noexcept;. constexpr span& operator=(const std::span<T, Extent>& other) noexcept;. endif. // ... here is the normal implementation, too. };. }. ```. It seems that sometimes ROOT pr',\n",
       "       'I'm quite baffled every time I come in contact with it, how you guys manage to survive with such a testing infrastructure. :confused: I did have a fork of [roottest](https://github.com/root-project/roottest) from a long time ago. https://github.com/krasznaa/roottest. What I didn't have was it being up to date with the main repository. Plus, did I see correctly in your copy-pasted error message that the CI complained about not finding a branch in my roottest fork with the same name as the branch that I opened this PR from? :confused: What the heck? Is it really expected that one would create a branch in both repositories to make a modification to ROOT? After some deliberation I updated the PR as you can see. The setup that you guys have with `ROOTConfig.cmake` being generated twice, and one of them possibly being used already during the main configuration is... unique... (Just so that I stay PC...) I've seen similar configurations being used for header-only libraries in the past, but never for anything that needed an actual build before becoming usable. In any case, making `ROOTConfig.cmake` skip `find_dependency(Vdt)` if `VDT::VDT` is already available as a target, was the most robust thing that I could come up with...',\n",
       "       'NEON's setup for vmlal_u32 is a little more complicated than it is on SSE2, AVX2, and VSX. While PMULUDQ and VMULEUW both perform a mask, VMLAL.U32 performs an upcast. To do the same operation, the 128-bit Q register needs to be split into two 64-bit D registers, performing this operation:: [ a | b ] | ---------. .-------- | | x | | .--------- --------. | [ a & 0xFFFFFFFF | b & 0xFFFFFFFF ],[ a >> 32 | b >> 32 ] Due to significant changes in aarch64, the fastest method for aarch64 is completely different than the fastest method for ARMv7-A. ARMv7-A treats D registers as unions overlaying Q registers, so modifying D11 will modify the high half of Q5. This is similar to how modifying AH will only affect bits 8-15 of AX on x86. VZIP takes two registers, and puts even lanes in one register and odd lanes in the other. On ARMv7-A, this strangely modifies both parameters in place instead of taking the usual 3-operand form. Therefore, if we want to do this, we can simply use a D-form VZIP.32 on the lower and upper halves of the Q register to end up with the high and low halves where we want - all in one instruction. vzip.32 d10, d11 @ d10 = { d10[0], d11[0] }; d11 = { d10[1], d11[1] } Unfortunately we need inline assembly for this: Instructions modifying two registers at once is not possible in GCC or Clang's IR, and they have to create a copy. aarch64 requires a different approach. In order to make it easier to write a decent compiler for aarch64, many quirks were removed, such as conditional execution. NEON was also affected by this. aarch64 cannot access the high bits of a Q-form register, and writes to a D-form register zero the high bits, similar to how writes to W-form scalar registers (or DWORD registers on x86_64) work. The formerly free vget_high intrinsics now require a vext (with a few exceptions) Additionally, VZIP was replaced by ZIP1 and ZIP2, which are the equivalent of PUNPCKL* and P'],\n",
       "      dtype='object', name='sentence', length=320)"
      ]
     },
     "execution_count": 28,
     "metadata": {},
     "output_type": "execute_result"
    }
   ],
   "execution_count": 28
  }
 ],
 "metadata": {
  "kernelspec": {
   "display_name": "Python 3",
   "language": "python",
   "name": "python3"
  },
  "language_info": {
   "codemirror_mode": {
    "name": "ipython",
    "version": 2
   },
   "file_extension": ".py",
   "mimetype": "text/x-python",
   "name": "python",
   "nbconvert_exporter": "python",
   "pygments_lexer": "ipython2",
   "version": "2.7.6"
  }
 },
 "nbformat": 4,
 "nbformat_minor": 5
}

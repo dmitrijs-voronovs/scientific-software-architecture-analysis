{
 "cells": [
  {
   "cell_type": "code",
   "id": "8d6593feb9904ca0",
   "metadata": {
    "ExecuteTime": {
     "end_time": "2025-08-10T10:06:35.652714Z",
     "start_time": "2025-08-10T10:06:34.577965Z"
    }
   },
   "source": [
    "from constants.abs_paths import AbsDirPath\n",
    "from processing_pipeline.model.CSVDFHandler import CSVDFHandler\n",
    "from processing_pipeline.utilities.data_transformation import load_all_files, load_all_csv_files"
   ],
   "outputs": [],
   "execution_count": 1
  },
  {
   "metadata": {},
   "cell_type": "markdown",
   "source": "# S0",
   "id": "e1fbe1b668ca0b89"
  },
  {
   "metadata": {
    "collapsed": true,
    "ExecuteTime": {
     "end_time": "2025-08-10T10:06:35.929757Z",
     "start_time": "2025-08-10T10:06:35.663723Z"
    }
   },
   "cell_type": "code",
   "source": [
    "# df = CSVDFHandler().read_df(AbsDirPath.SAMPLES_VERIFIED / \"s0.csv\")\n",
    "df = load_all_csv_files(AbsDirPath.SAMPLES_VERIFIED, name_contains=\"s0.part\")"
   ],
   "id": "initial_id",
   "outputs": [
    {
     "name": "stdout",
     "output_type": "stream",
     "text": [
      "Loaded C:\\Users\\Dmitrijs\\Documents\\myDocs\\masters\\courses\\thesis\\code\\data\\samples\\verified\\s0.part_0.csv\n",
      "Loaded C:\\Users\\Dmitrijs\\Documents\\myDocs\\masters\\courses\\thesis\\code\\data\\samples\\verified\\s0.part_1.csv\n",
      "Loaded C:\\Users\\Dmitrijs\\Documents\\myDocs\\masters\\courses\\thesis\\code\\data\\samples\\verified\\s0.part_2.csv\n",
      "Loaded C:\\Users\\Dmitrijs\\Documents\\myDocs\\masters\\courses\\thesis\\code\\data\\samples\\verified\\s0.part_3.csv\n"
     ]
    }
   ],
   "execution_count": 2
  },
  {
   "metadata": {
    "ExecuteTime": {
     "end_time": "2025-08-10T10:06:39.206225Z",
     "start_time": "2025-08-10T10:06:39.150277Z"
    }
   },
   "cell_type": "code",
   "source": "df.head()",
   "id": "72d5488d751c4f38",
   "outputs": [
    {
     "data": {
      "text/plain": [
       "   Unnamed: 0                                           sentence  \\\n",
       "0        2041  LoweringError: Failed in nopython mode pipelin...   \n",
       "1        1397  e produces undefined behaviour because the sid...   \n",
       "2       11514  Another limit for the alias checks: The maximu...   \n",
       "3        4356  COFFPlatform.cpp - Utilities for executing COF...   \n",
       "4        1674  es a table of the. shortest instruction sequen...   \n",
       "\n",
       "                                           s0_prompt  s0_to_eliminate  \\\n",
       "0  \\nYou are an expert in analyzing and categoriz...             True   \n",
       "1  \\nYou are an expert in analyzing and categoriz...            False   \n",
       "2  \\nYou are an expert in analyzing and categoriz...             True   \n",
       "3  \\nYou are an expert in analyzing and categoriz...             True   \n",
       "4  \\nYou are an expert in analyzing and categoriz...            False   \n",
       "\n",
       "                                        s0_reasoning  \\\n",
       "0  This is an error message from a program. It co...   \n",
       "1  This content is primarily technical but contai...   \n",
       "2                                                :[{   \n",
       "3  This content appears to be a header or boilerp...   \n",
       "4  This content is primarily technical discussion...   \n",
       "\n",
       "                                         s0_v_prompt  \\\n",
       "0  Now, perform your your audit based on the data...   \n",
       "1  Now, perform your your audit based on the data...   \n",
       "2  Now, perform your your audit based on the data...   \n",
       "3  Now, perform your your audit based on the data...   \n",
       "4  Now, perform your your audit based on the data...   \n",
       "\n",
       "           s0_v_ground_truth_category s0_v_evaluation  \\\n",
       "0  Log File / Trace / Terminal Output         correct   \n",
       "1      High-Level Instructional Guide         correct   \n",
       "2    High-Level Technical Explanation       incorrect   \n",
       "3                  Boilerplate Notice         correct   \n",
       "4    High-Level Technical Explanation         correct   \n",
       "\n",
       "                                      s0_v_reasoning  \n",
       "0  My verdict is correct because the ground truth...  \n",
       "1  My verdict is correct because the ground truth...  \n",
       "2  My verdict is incorrect because the ground tru...  \n",
       "3  My verdict is correct because the ground truth...  \n",
       "4  My verdict is correct because the ground truth...  "
      ],
      "text/html": [
       "<div>\n",
       "<style scoped>\n",
       "    .dataframe tbody tr th:only-of-type {\n",
       "        vertical-align: middle;\n",
       "    }\n",
       "\n",
       "    .dataframe tbody tr th {\n",
       "        vertical-align: top;\n",
       "    }\n",
       "\n",
       "    .dataframe thead th {\n",
       "        text-align: right;\n",
       "    }\n",
       "</style>\n",
       "<table border=\"1\" class=\"dataframe\">\n",
       "  <thead>\n",
       "    <tr style=\"text-align: right;\">\n",
       "      <th></th>\n",
       "      <th>Unnamed: 0</th>\n",
       "      <th>sentence</th>\n",
       "      <th>s0_prompt</th>\n",
       "      <th>s0_to_eliminate</th>\n",
       "      <th>s0_reasoning</th>\n",
       "      <th>s0_v_prompt</th>\n",
       "      <th>s0_v_ground_truth_category</th>\n",
       "      <th>s0_v_evaluation</th>\n",
       "      <th>s0_v_reasoning</th>\n",
       "    </tr>\n",
       "  </thead>\n",
       "  <tbody>\n",
       "    <tr>\n",
       "      <th>0</th>\n",
       "      <td>2041</td>\n",
       "      <td>LoweringError: Failed in nopython mode pipelin...</td>\n",
       "      <td>\\nYou are an expert in analyzing and categoriz...</td>\n",
       "      <td>True</td>\n",
       "      <td>This is an error message from a program. It co...</td>\n",
       "      <td>Now, perform your your audit based on the data...</td>\n",
       "      <td>Log File / Trace / Terminal Output</td>\n",
       "      <td>correct</td>\n",
       "      <td>My verdict is correct because the ground truth...</td>\n",
       "    </tr>\n",
       "    <tr>\n",
       "      <th>1</th>\n",
       "      <td>1397</td>\n",
       "      <td>e produces undefined behaviour because the sid...</td>\n",
       "      <td>\\nYou are an expert in analyzing and categoriz...</td>\n",
       "      <td>False</td>\n",
       "      <td>This content is primarily technical but contai...</td>\n",
       "      <td>Now, perform your your audit based on the data...</td>\n",
       "      <td>High-Level Instructional Guide</td>\n",
       "      <td>correct</td>\n",
       "      <td>My verdict is correct because the ground truth...</td>\n",
       "    </tr>\n",
       "    <tr>\n",
       "      <th>2</th>\n",
       "      <td>11514</td>\n",
       "      <td>Another limit for the alias checks: The maximu...</td>\n",
       "      <td>\\nYou are an expert in analyzing and categoriz...</td>\n",
       "      <td>True</td>\n",
       "      <td>:[{</td>\n",
       "      <td>Now, perform your your audit based on the data...</td>\n",
       "      <td>High-Level Technical Explanation</td>\n",
       "      <td>incorrect</td>\n",
       "      <td>My verdict is incorrect because the ground tru...</td>\n",
       "    </tr>\n",
       "    <tr>\n",
       "      <th>3</th>\n",
       "      <td>4356</td>\n",
       "      <td>COFFPlatform.cpp - Utilities for executing COF...</td>\n",
       "      <td>\\nYou are an expert in analyzing and categoriz...</td>\n",
       "      <td>True</td>\n",
       "      <td>This content appears to be a header or boilerp...</td>\n",
       "      <td>Now, perform your your audit based on the data...</td>\n",
       "      <td>Boilerplate Notice</td>\n",
       "      <td>correct</td>\n",
       "      <td>My verdict is correct because the ground truth...</td>\n",
       "    </tr>\n",
       "    <tr>\n",
       "      <th>4</th>\n",
       "      <td>1674</td>\n",
       "      <td>es a table of the. shortest instruction sequen...</td>\n",
       "      <td>\\nYou are an expert in analyzing and categoriz...</td>\n",
       "      <td>False</td>\n",
       "      <td>This content is primarily technical discussion...</td>\n",
       "      <td>Now, perform your your audit based on the data...</td>\n",
       "      <td>High-Level Technical Explanation</td>\n",
       "      <td>correct</td>\n",
       "      <td>My verdict is correct because the ground truth...</td>\n",
       "    </tr>\n",
       "  </tbody>\n",
       "</table>\n",
       "</div>"
      ]
     },
     "execution_count": 3,
     "metadata": {},
     "output_type": "execute_result"
    }
   ],
   "execution_count": 3
  },
  {
   "metadata": {
    "ExecuteTime": {
     "end_time": "2025-08-10T10:06:41.583625Z",
     "start_time": "2025-08-10T10:06:41.573299Z"
    }
   },
   "cell_type": "code",
   "source": "df.shape",
   "id": "1098eedf44f78738",
   "outputs": [
    {
     "data": {
      "text/plain": [
       "(360, 9)"
      ]
     },
     "execution_count": 4,
     "metadata": {},
     "output_type": "execute_result"
    }
   ],
   "execution_count": 4
  },
  {
   "metadata": {
    "ExecuteTime": {
     "end_time": "2025-08-10T09:50:30.491600Z",
     "start_time": "2025-08-10T09:50:30.474929Z"
    }
   },
   "cell_type": "code",
   "source": "df.groupby(\"s0_v_evaluation\").size().rename(\"count\")",
   "id": "f9e7f2b912fbae57",
   "outputs": [
    {
     "data": {
      "text/plain": [
       "s0_v_evaluation\n",
       "correct      169\n",
       "incorrect    171\n",
       "Name: count, dtype: int64"
      ]
     },
     "execution_count": 296,
     "metadata": {},
     "output_type": "execute_result"
    }
   ],
   "execution_count": 296
  },
  {
   "metadata": {
    "ExecuteTime": {
     "end_time": "2025-08-10T09:50:30.710890Z",
     "start_time": "2025-08-10T09:50:30.691097Z"
    }
   },
   "cell_type": "code",
   "source": "df.groupby(\"s0_v_evaluation\").size().rename(\"percentage\") / df.shape[0] * 100",
   "id": "ff6c400856b00aa",
   "outputs": [
    {
     "data": {
      "text/plain": [
       "s0_v_evaluation\n",
       "correct      49.705882\n",
       "incorrect    50.294118\n",
       "Name: percentage, dtype: float64"
      ]
     },
     "execution_count": 297,
     "metadata": {},
     "output_type": "execute_result"
    }
   ],
   "execution_count": 297
  },
  {
   "metadata": {},
   "cell_type": "markdown",
   "source": "# S1",
   "id": "4f0ce7b2864e8259"
  },
  {
   "metadata": {
    "collapsed": true,
    "ExecuteTime": {
     "end_time": "2025-08-10T07:05:55.484353Z",
     "start_time": "2025-08-10T07:05:55.411842Z"
    }
   },
   "cell_type": "code",
   "source": "df = CSVDFHandler().read_df(AbsDirPath.SAMPLES_VERIFIED / \"s1.csv\")",
   "id": "14de1981e612fade",
   "outputs": [],
   "execution_count": 52
  },
  {
   "metadata": {
    "ExecuteTime": {
     "end_time": "2025-08-10T07:05:55.659090Z",
     "start_time": "2025-08-10T07:05:55.641324Z"
    }
   },
   "cell_type": "code",
   "source": "df.head()",
   "id": "69502393758b69ea",
   "outputs": [
    {
     "data": {
      "text/plain": [
       "   Unnamed: 0                 qa  \\\n",
       "0          44       availability   \n",
       "1        5055          usability   \n",
       "2       10301      modifiability   \n",
       "3        3214   interoperability   \n",
       "4         799  energy efficiency   \n",
       "\n",
       "                                            sentence  \\\n",
       "0  TH1F::Fill()) with the fPosX value of that par...   \n",
       "1  Now, look at each merge-eligible global in tur...   \n",
       "2  Variables that have initialization with side-e...   \n",
       "3  > yes, they are annoying particularly because ...   \n",
       "4  This function tries matching functions in base...   \n",
       "\n",
       "                                           s1_prompt  s1_true_positive  \\\n",
       "0  \\nYou are a meticulous software engineering ex...              True   \n",
       "1  \\nYou are a meticulous software engineering ex...              True   \n",
       "2  \\nYou are a meticulous software engineering ex...              True   \n",
       "3  \\nYou are a meticulous software engineering ex...              True   \n",
       "4  \\nYou are a meticulous software engineering ex...              True   \n",
       "\n",
       "                                        s1_reasoning  \\\n",
       "0  The content describes how to fit a histogram w...   \n",
       "1  The content describes how tracking sets helps ...   \n",
       "2  The content states that variables with initial...   \n",
       "3  The content describes functionality related to...   \n",
       "4  The content describes functionality related to...   \n",
       "\n",
       "                                         s1_v_prompt  \\\n",
       "0  Now, perform your your audit based on the data...   \n",
       "1  Now, perform your your audit based on the data...   \n",
       "2  Now, perform your your audit based on the data...   \n",
       "3  Now, perform your your audit based on the data...   \n",
       "4  Now, perform your your audit based on the data...   \n",
       "\n",
       "   s1_v_ground_truth_intent  \\\n",
       "0  Describing Functionality   \n",
       "1  Describing Functionality   \n",
       "2  Describing Functionality   \n",
       "3  Describing Functionality   \n",
       "4  Describing Functionality   \n",
       "\n",
       "                   s1_v_ground_truth_qa_if_different s1_v_evaluation  \\\n",
       "0  No, I can't do that. You have to be more speci...         correct   \n",
       "1  The following is a list of questions about the...       incorrect   \n",
       "2                                                NaN       incorrect   \n",
       "3                                                NaN       incorrect   \n",
       "4      The user is not defined in the given context.       incorrect   \n",
       "\n",
       "                                      s1_v_reasoning  \n",
       "0  I am not sure what you mean by 'more than' or ...  \n",
       "1  yes i am not sure if that's a good, but I thin...  \n",
       "2  The first AI's decision is incorrect because t...  \n",
       "3  The first AI's decision to classify the senten...  \n",
       "4  I am considering that I have a problem with an...  "
      ],
      "text/html": [
       "<div>\n",
       "<style scoped>\n",
       "    .dataframe tbody tr th:only-of-type {\n",
       "        vertical-align: middle;\n",
       "    }\n",
       "\n",
       "    .dataframe tbody tr th {\n",
       "        vertical-align: top;\n",
       "    }\n",
       "\n",
       "    .dataframe thead th {\n",
       "        text-align: right;\n",
       "    }\n",
       "</style>\n",
       "<table border=\"1\" class=\"dataframe\">\n",
       "  <thead>\n",
       "    <tr style=\"text-align: right;\">\n",
       "      <th></th>\n",
       "      <th>Unnamed: 0</th>\n",
       "      <th>qa</th>\n",
       "      <th>sentence</th>\n",
       "      <th>s1_prompt</th>\n",
       "      <th>s1_true_positive</th>\n",
       "      <th>s1_reasoning</th>\n",
       "      <th>s1_v_prompt</th>\n",
       "      <th>s1_v_ground_truth_intent</th>\n",
       "      <th>s1_v_ground_truth_qa_if_different</th>\n",
       "      <th>s1_v_evaluation</th>\n",
       "      <th>s1_v_reasoning</th>\n",
       "    </tr>\n",
       "  </thead>\n",
       "  <tbody>\n",
       "    <tr>\n",
       "      <th>0</th>\n",
       "      <td>44</td>\n",
       "      <td>availability</td>\n",
       "      <td>TH1F::Fill()) with the fPosX value of that par...</td>\n",
       "      <td>\\nYou are a meticulous software engineering ex...</td>\n",
       "      <td>True</td>\n",
       "      <td>The content describes how to fit a histogram w...</td>\n",
       "      <td>Now, perform your your audit based on the data...</td>\n",
       "      <td>Describing Functionality</td>\n",
       "      <td>No, I can't do that. You have to be more speci...</td>\n",
       "      <td>correct</td>\n",
       "      <td>I am not sure what you mean by 'more than' or ...</td>\n",
       "    </tr>\n",
       "    <tr>\n",
       "      <th>1</th>\n",
       "      <td>5055</td>\n",
       "      <td>usability</td>\n",
       "      <td>Now, look at each merge-eligible global in tur...</td>\n",
       "      <td>\\nYou are a meticulous software engineering ex...</td>\n",
       "      <td>True</td>\n",
       "      <td>The content describes how tracking sets helps ...</td>\n",
       "      <td>Now, perform your your audit based on the data...</td>\n",
       "      <td>Describing Functionality</td>\n",
       "      <td>The following is a list of questions about the...</td>\n",
       "      <td>incorrect</td>\n",
       "      <td>yes i am not sure if that's a good, but I thin...</td>\n",
       "    </tr>\n",
       "    <tr>\n",
       "      <th>2</th>\n",
       "      <td>10301</td>\n",
       "      <td>modifiability</td>\n",
       "      <td>Variables that have initialization with side-e...</td>\n",
       "      <td>\\nYou are a meticulous software engineering ex...</td>\n",
       "      <td>True</td>\n",
       "      <td>The content states that variables with initial...</td>\n",
       "      <td>Now, perform your your audit based on the data...</td>\n",
       "      <td>Describing Functionality</td>\n",
       "      <td>NaN</td>\n",
       "      <td>incorrect</td>\n",
       "      <td>The first AI's decision is incorrect because t...</td>\n",
       "    </tr>\n",
       "    <tr>\n",
       "      <th>3</th>\n",
       "      <td>3214</td>\n",
       "      <td>interoperability</td>\n",
       "      <td>&gt; yes, they are annoying particularly because ...</td>\n",
       "      <td>\\nYou are a meticulous software engineering ex...</td>\n",
       "      <td>True</td>\n",
       "      <td>The content describes functionality related to...</td>\n",
       "      <td>Now, perform your your audit based on the data...</td>\n",
       "      <td>Describing Functionality</td>\n",
       "      <td>NaN</td>\n",
       "      <td>incorrect</td>\n",
       "      <td>The first AI's decision to classify the senten...</td>\n",
       "    </tr>\n",
       "    <tr>\n",
       "      <th>4</th>\n",
       "      <td>799</td>\n",
       "      <td>energy efficiency</td>\n",
       "      <td>This function tries matching functions in base...</td>\n",
       "      <td>\\nYou are a meticulous software engineering ex...</td>\n",
       "      <td>True</td>\n",
       "      <td>The content describes functionality related to...</td>\n",
       "      <td>Now, perform your your audit based on the data...</td>\n",
       "      <td>Describing Functionality</td>\n",
       "      <td>The user is not defined in the given context.</td>\n",
       "      <td>incorrect</td>\n",
       "      <td>I am considering that I have a problem with an...</td>\n",
       "    </tr>\n",
       "  </tbody>\n",
       "</table>\n",
       "</div>"
      ]
     },
     "execution_count": 53,
     "metadata": {},
     "output_type": "execute_result"
    }
   ],
   "execution_count": 53
  },
  {
   "metadata": {
    "ExecuteTime": {
     "end_time": "2025-08-10T07:05:55.833893Z",
     "start_time": "2025-08-10T07:05:55.826359Z"
    }
   },
   "cell_type": "code",
   "source": "df.shape",
   "id": "45ecb0c3a443f3c8",
   "outputs": [
    {
     "data": {
      "text/plain": [
       "(384, 11)"
      ]
     },
     "execution_count": 54,
     "metadata": {},
     "output_type": "execute_result"
    }
   ],
   "execution_count": 54
  },
  {
   "metadata": {
    "ExecuteTime": {
     "end_time": "2025-08-10T07:05:55.987654Z",
     "start_time": "2025-08-10T07:05:55.975924Z"
    }
   },
   "cell_type": "code",
   "source": "df.groupby(\"s1_v_evaluation\").size().rename(\"percentage\") / df.shape[0] * 100",
   "id": "5007ff4d3988ff51",
   "outputs": [
    {
     "data": {
      "text/plain": [
       "s1_v_evaluation\n",
       "correct      25.0\n",
       "incorrect    75.0\n",
       "Name: percentage, dtype: float64"
      ]
     },
     "execution_count": 55,
     "metadata": {},
     "output_type": "execute_result"
    }
   ],
   "execution_count": 55
  },
  {
   "metadata": {
    "ExecuteTime": {
     "end_time": "2025-08-10T08:40:47.116908Z",
     "start_time": "2025-08-10T08:40:46.685535Z"
    }
   },
   "cell_type": "code",
   "source": "df.groupby(\"s1_v_evaluation\").size().rename(\"count\")",
   "id": "29f4ab7f7a30705",
   "outputs": [
    {
     "ename": "KeyError",
     "evalue": "'s1_v_evaluation'",
     "output_type": "error",
     "traceback": [
      "\u001B[1;31m---------------------------------------------------------------------------\u001B[0m",
      "\u001B[1;31mKeyError\u001B[0m                                  Traceback (most recent call last)",
      "Cell \u001B[1;32mIn[140], line 1\u001B[0m\n\u001B[1;32m----> 1\u001B[0m \u001B[43mdf\u001B[49m\u001B[38;5;241;43m.\u001B[39;49m\u001B[43mgroupby\u001B[49m\u001B[43m(\u001B[49m\u001B[38;5;124;43m\"\u001B[39;49m\u001B[38;5;124;43ms1_v_evaluation\u001B[39;49m\u001B[38;5;124;43m\"\u001B[39;49m\u001B[43m)\u001B[49m\u001B[38;5;241m.\u001B[39msize()\u001B[38;5;241m.\u001B[39mrename(\u001B[38;5;124m\"\u001B[39m\u001B[38;5;124mcount\u001B[39m\u001B[38;5;124m\"\u001B[39m)\n",
      "File \u001B[1;32m~\\Documents\\myDocs\\masters\\courses\\thesis\\code\\.venv\\Lib\\site-packages\\pandas\\core\\frame.py:9190\u001B[0m, in \u001B[0;36mDataFrame.groupby\u001B[1;34m(self, by, axis, level, as_index, sort, group_keys, observed, dropna)\u001B[0m\n\u001B[0;32m   9187\u001B[0m \u001B[38;5;28;01mif\u001B[39;00m level \u001B[38;5;129;01mis\u001B[39;00m \u001B[38;5;28;01mNone\u001B[39;00m \u001B[38;5;129;01mand\u001B[39;00m by \u001B[38;5;129;01mis\u001B[39;00m \u001B[38;5;28;01mNone\u001B[39;00m:\n\u001B[0;32m   9188\u001B[0m     \u001B[38;5;28;01mraise\u001B[39;00m \u001B[38;5;167;01mTypeError\u001B[39;00m(\u001B[38;5;124m\"\u001B[39m\u001B[38;5;124mYou have to supply one of \u001B[39m\u001B[38;5;124m'\u001B[39m\u001B[38;5;124mby\u001B[39m\u001B[38;5;124m'\u001B[39m\u001B[38;5;124m and \u001B[39m\u001B[38;5;124m'\u001B[39m\u001B[38;5;124mlevel\u001B[39m\u001B[38;5;124m'\u001B[39m\u001B[38;5;124m\"\u001B[39m)\n\u001B[1;32m-> 9190\u001B[0m \u001B[38;5;28;01mreturn\u001B[39;00m \u001B[43mDataFrameGroupBy\u001B[49m\u001B[43m(\u001B[49m\n\u001B[0;32m   9191\u001B[0m \u001B[43m    \u001B[49m\u001B[43mobj\u001B[49m\u001B[38;5;241;43m=\u001B[39;49m\u001B[38;5;28;43mself\u001B[39;49m\u001B[43m,\u001B[49m\n\u001B[0;32m   9192\u001B[0m \u001B[43m    \u001B[49m\u001B[43mkeys\u001B[49m\u001B[38;5;241;43m=\u001B[39;49m\u001B[43mby\u001B[49m\u001B[43m,\u001B[49m\n\u001B[0;32m   9193\u001B[0m \u001B[43m    \u001B[49m\u001B[43maxis\u001B[49m\u001B[38;5;241;43m=\u001B[39;49m\u001B[43maxis\u001B[49m\u001B[43m,\u001B[49m\n\u001B[0;32m   9194\u001B[0m \u001B[43m    \u001B[49m\u001B[43mlevel\u001B[49m\u001B[38;5;241;43m=\u001B[39;49m\u001B[43mlevel\u001B[49m\u001B[43m,\u001B[49m\n\u001B[0;32m   9195\u001B[0m \u001B[43m    \u001B[49m\u001B[43mas_index\u001B[49m\u001B[38;5;241;43m=\u001B[39;49m\u001B[43mas_index\u001B[49m\u001B[43m,\u001B[49m\n\u001B[0;32m   9196\u001B[0m \u001B[43m    \u001B[49m\u001B[43msort\u001B[49m\u001B[38;5;241;43m=\u001B[39;49m\u001B[43msort\u001B[49m\u001B[43m,\u001B[49m\n\u001B[0;32m   9197\u001B[0m \u001B[43m    \u001B[49m\u001B[43mgroup_keys\u001B[49m\u001B[38;5;241;43m=\u001B[39;49m\u001B[43mgroup_keys\u001B[49m\u001B[43m,\u001B[49m\n\u001B[0;32m   9198\u001B[0m \u001B[43m    \u001B[49m\u001B[43mobserved\u001B[49m\u001B[38;5;241;43m=\u001B[39;49m\u001B[43mobserved\u001B[49m\u001B[43m,\u001B[49m\n\u001B[0;32m   9199\u001B[0m \u001B[43m    \u001B[49m\u001B[43mdropna\u001B[49m\u001B[38;5;241;43m=\u001B[39;49m\u001B[43mdropna\u001B[49m\u001B[43m,\u001B[49m\n\u001B[0;32m   9200\u001B[0m \u001B[43m\u001B[49m\u001B[43m)\u001B[49m\n",
      "File \u001B[1;32m~\\Documents\\myDocs\\masters\\courses\\thesis\\code\\.venv\\Lib\\site-packages\\pandas\\core\\groupby\\groupby.py:1329\u001B[0m, in \u001B[0;36mGroupBy.__init__\u001B[1;34m(self, obj, keys, axis, level, grouper, exclusions, selection, as_index, sort, group_keys, observed, dropna)\u001B[0m\n\u001B[0;32m   1326\u001B[0m \u001B[38;5;28mself\u001B[39m\u001B[38;5;241m.\u001B[39mdropna \u001B[38;5;241m=\u001B[39m dropna\n\u001B[0;32m   1328\u001B[0m \u001B[38;5;28;01mif\u001B[39;00m grouper \u001B[38;5;129;01mis\u001B[39;00m \u001B[38;5;28;01mNone\u001B[39;00m:\n\u001B[1;32m-> 1329\u001B[0m     grouper, exclusions, obj \u001B[38;5;241m=\u001B[39m \u001B[43mget_grouper\u001B[49m\u001B[43m(\u001B[49m\n\u001B[0;32m   1330\u001B[0m \u001B[43m        \u001B[49m\u001B[43mobj\u001B[49m\u001B[43m,\u001B[49m\n\u001B[0;32m   1331\u001B[0m \u001B[43m        \u001B[49m\u001B[43mkeys\u001B[49m\u001B[43m,\u001B[49m\n\u001B[0;32m   1332\u001B[0m \u001B[43m        \u001B[49m\u001B[43maxis\u001B[49m\u001B[38;5;241;43m=\u001B[39;49m\u001B[43maxis\u001B[49m\u001B[43m,\u001B[49m\n\u001B[0;32m   1333\u001B[0m \u001B[43m        \u001B[49m\u001B[43mlevel\u001B[49m\u001B[38;5;241;43m=\u001B[39;49m\u001B[43mlevel\u001B[49m\u001B[43m,\u001B[49m\n\u001B[0;32m   1334\u001B[0m \u001B[43m        \u001B[49m\u001B[43msort\u001B[49m\u001B[38;5;241;43m=\u001B[39;49m\u001B[43msort\u001B[49m\u001B[43m,\u001B[49m\n\u001B[0;32m   1335\u001B[0m \u001B[43m        \u001B[49m\u001B[43mobserved\u001B[49m\u001B[38;5;241;43m=\u001B[39;49m\u001B[38;5;28;43;01mFalse\u001B[39;49;00m\u001B[43m \u001B[49m\u001B[38;5;28;43;01mif\u001B[39;49;00m\u001B[43m \u001B[49m\u001B[43mobserved\u001B[49m\u001B[43m \u001B[49m\u001B[38;5;129;43;01mis\u001B[39;49;00m\u001B[43m \u001B[49m\u001B[43mlib\u001B[49m\u001B[38;5;241;43m.\u001B[39;49m\u001B[43mno_default\u001B[49m\u001B[43m \u001B[49m\u001B[38;5;28;43;01melse\u001B[39;49;00m\u001B[43m \u001B[49m\u001B[43mobserved\u001B[49m\u001B[43m,\u001B[49m\n\u001B[0;32m   1336\u001B[0m \u001B[43m        \u001B[49m\u001B[43mdropna\u001B[49m\u001B[38;5;241;43m=\u001B[39;49m\u001B[38;5;28;43mself\u001B[39;49m\u001B[38;5;241;43m.\u001B[39;49m\u001B[43mdropna\u001B[49m\u001B[43m,\u001B[49m\n\u001B[0;32m   1337\u001B[0m \u001B[43m    \u001B[49m\u001B[43m)\u001B[49m\n\u001B[0;32m   1339\u001B[0m \u001B[38;5;28;01mif\u001B[39;00m observed \u001B[38;5;129;01mis\u001B[39;00m lib\u001B[38;5;241m.\u001B[39mno_default:\n\u001B[0;32m   1340\u001B[0m     \u001B[38;5;28;01mif\u001B[39;00m \u001B[38;5;28many\u001B[39m(ping\u001B[38;5;241m.\u001B[39m_passed_categorical \u001B[38;5;28;01mfor\u001B[39;00m ping \u001B[38;5;129;01min\u001B[39;00m grouper\u001B[38;5;241m.\u001B[39mgroupings):\n",
      "File \u001B[1;32m~\\Documents\\myDocs\\masters\\courses\\thesis\\code\\.venv\\Lib\\site-packages\\pandas\\core\\groupby\\grouper.py:1043\u001B[0m, in \u001B[0;36mget_grouper\u001B[1;34m(obj, key, axis, level, sort, observed, validate, dropna)\u001B[0m\n\u001B[0;32m   1041\u001B[0m         in_axis, level, gpr \u001B[38;5;241m=\u001B[39m \u001B[38;5;28;01mFalse\u001B[39;00m, gpr, \u001B[38;5;28;01mNone\u001B[39;00m\n\u001B[0;32m   1042\u001B[0m     \u001B[38;5;28;01melse\u001B[39;00m:\n\u001B[1;32m-> 1043\u001B[0m         \u001B[38;5;28;01mraise\u001B[39;00m \u001B[38;5;167;01mKeyError\u001B[39;00m(gpr)\n\u001B[0;32m   1044\u001B[0m \u001B[38;5;28;01melif\u001B[39;00m \u001B[38;5;28misinstance\u001B[39m(gpr, Grouper) \u001B[38;5;129;01mand\u001B[39;00m gpr\u001B[38;5;241m.\u001B[39mkey \u001B[38;5;129;01mis\u001B[39;00m \u001B[38;5;129;01mnot\u001B[39;00m \u001B[38;5;28;01mNone\u001B[39;00m:\n\u001B[0;32m   1045\u001B[0m     \u001B[38;5;66;03m# Add key to exclusions\u001B[39;00m\n\u001B[0;32m   1046\u001B[0m     exclusions\u001B[38;5;241m.\u001B[39madd(gpr\u001B[38;5;241m.\u001B[39mkey)\n",
      "\u001B[1;31mKeyError\u001B[0m: 's1_v_evaluation'"
     ]
    }
   ],
   "execution_count": 140
  },
  {
   "metadata": {},
   "cell_type": "markdown",
   "source": "# S2",
   "id": "eb92280d9b0e7712"
  },
  {
   "metadata": {
    "collapsed": true,
    "ExecuteTime": {
     "end_time": "2025-08-10T07:05:56.395873Z",
     "start_time": "2025-08-10T07:05:56.323189Z"
    }
   },
   "cell_type": "code",
   "source": "df = CSVDFHandler().read_df(AbsDirPath.SAMPLES_VERIFIED / \"s2.csv\")",
   "id": "6e04078c764c956c",
   "outputs": [],
   "execution_count": 57
  },
  {
   "metadata": {
    "ExecuteTime": {
     "end_time": "2025-08-10T07:05:56.504534Z",
     "start_time": "2025-08-10T07:05:56.489594Z"
    }
   },
   "cell_type": "code",
   "source": "df.head()",
   "id": "36e5e951db5573c1",
   "outputs": [
    {
     "data": {
      "text/plain": [
       "   Unnamed: 0                                           sentence  \\\n",
       "0        6790  Table to cache MD5 values of sample contexts c...   \n",
       "1         233  Hi @sfchen . In my mind, you can reduce the nu...   \n",
       "2        1061  n the entry basic block afterward. The SROA (S...   \n",
       "3        1823  Update def-ages for registers defined by MI. I...   \n",
       "4        7726  DiagnoseForRangeVariableCopies - Diagnose thre...   \n",
       "\n",
       "                                           s2_prompt  s2_related_to_arch  \\\n",
       "0  \\nYou are an expert in software architecture a...               False   \n",
       "1  \\nYou are an expert in software architecture a...               False   \n",
       "2  \\nYou are an expert in software architecture a...               False   \n",
       "3  \\nYou are an expert in software architecture a...               False   \n",
       "4  \\nYou are an expert in software architecture a...               False   \n",
       "\n",
       "                                        s2_reasoning  \\\n",
       "0  Step 1: The core topic of the content is a tab...   \n",
       "1  Step 1: Initial Analysis\\nThe content appears ...   \n",
       "2  The content discusses low-level optimization t...   \n",
       "3  Step 1: The core topic of the content appears ...   \n",
       "4  The content is about diagnosing and fixing spe...   \n",
       "\n",
       "                                         s2_v_prompt  \\\n",
       "0  Now, perform your your audit based on the data...   \n",
       "1  Now, perform your your audit based on the data...   \n",
       "2  Now, perform your your audit based on the data...   \n",
       "3  Now, perform your your audit based on the data...   \n",
       "4  Now, perform your your audit based on the data...   \n",
       "\n",
       "       s2_v_ground_truth_scope s2_v_evaluation  \\\n",
       "0  Local Implementation Detail         correct   \n",
       "1  Local Implementation Detail         correct   \n",
       "2  Local Implementation Detail         correct   \n",
       "3  Local Implementation Detail         correct   \n",
       "4  Local Implementation Detail         correct   \n",
       "\n",
       "                                      s2_v_reasoning  \n",
       "0  My verdict is correct because the text's scope...  \n",
       "1  My verdict is correct because the text's scope...  \n",
       "2  My verdict is correct because the text's scope...  \n",
       "3  My verdict is correct because the text's scope...  \n",
       "4  My verdict is correct because the text's scope...  "
      ],
      "text/html": [
       "<div>\n",
       "<style scoped>\n",
       "    .dataframe tbody tr th:only-of-type {\n",
       "        vertical-align: middle;\n",
       "    }\n",
       "\n",
       "    .dataframe tbody tr th {\n",
       "        vertical-align: top;\n",
       "    }\n",
       "\n",
       "    .dataframe thead th {\n",
       "        text-align: right;\n",
       "    }\n",
       "</style>\n",
       "<table border=\"1\" class=\"dataframe\">\n",
       "  <thead>\n",
       "    <tr style=\"text-align: right;\">\n",
       "      <th></th>\n",
       "      <th>Unnamed: 0</th>\n",
       "      <th>sentence</th>\n",
       "      <th>s2_prompt</th>\n",
       "      <th>s2_related_to_arch</th>\n",
       "      <th>s2_reasoning</th>\n",
       "      <th>s2_v_prompt</th>\n",
       "      <th>s2_v_ground_truth_scope</th>\n",
       "      <th>s2_v_evaluation</th>\n",
       "      <th>s2_v_reasoning</th>\n",
       "    </tr>\n",
       "  </thead>\n",
       "  <tbody>\n",
       "    <tr>\n",
       "      <th>0</th>\n",
       "      <td>6790</td>\n",
       "      <td>Table to cache MD5 values of sample contexts c...</td>\n",
       "      <td>\\nYou are an expert in software architecture a...</td>\n",
       "      <td>False</td>\n",
       "      <td>Step 1: The core topic of the content is a tab...</td>\n",
       "      <td>Now, perform your your audit based on the data...</td>\n",
       "      <td>Local Implementation Detail</td>\n",
       "      <td>correct</td>\n",
       "      <td>My verdict is correct because the text's scope...</td>\n",
       "    </tr>\n",
       "    <tr>\n",
       "      <th>1</th>\n",
       "      <td>233</td>\n",
       "      <td>Hi @sfchen . In my mind, you can reduce the nu...</td>\n",
       "      <td>\\nYou are an expert in software architecture a...</td>\n",
       "      <td>False</td>\n",
       "      <td>Step 1: Initial Analysis\\nThe content appears ...</td>\n",
       "      <td>Now, perform your your audit based on the data...</td>\n",
       "      <td>Local Implementation Detail</td>\n",
       "      <td>correct</td>\n",
       "      <td>My verdict is correct because the text's scope...</td>\n",
       "    </tr>\n",
       "    <tr>\n",
       "      <th>2</th>\n",
       "      <td>1061</td>\n",
       "      <td>n the entry basic block afterward. The SROA (S...</td>\n",
       "      <td>\\nYou are an expert in software architecture a...</td>\n",
       "      <td>False</td>\n",
       "      <td>The content discusses low-level optimization t...</td>\n",
       "      <td>Now, perform your your audit based on the data...</td>\n",
       "      <td>Local Implementation Detail</td>\n",
       "      <td>correct</td>\n",
       "      <td>My verdict is correct because the text's scope...</td>\n",
       "    </tr>\n",
       "    <tr>\n",
       "      <th>3</th>\n",
       "      <td>1823</td>\n",
       "      <td>Update def-ages for registers defined by MI. I...</td>\n",
       "      <td>\\nYou are an expert in software architecture a...</td>\n",
       "      <td>False</td>\n",
       "      <td>Step 1: The core topic of the content appears ...</td>\n",
       "      <td>Now, perform your your audit based on the data...</td>\n",
       "      <td>Local Implementation Detail</td>\n",
       "      <td>correct</td>\n",
       "      <td>My verdict is correct because the text's scope...</td>\n",
       "    </tr>\n",
       "    <tr>\n",
       "      <th>4</th>\n",
       "      <td>7726</td>\n",
       "      <td>DiagnoseForRangeVariableCopies - Diagnose thre...</td>\n",
       "      <td>\\nYou are an expert in software architecture a...</td>\n",
       "      <td>False</td>\n",
       "      <td>The content is about diagnosing and fixing spe...</td>\n",
       "      <td>Now, perform your your audit based on the data...</td>\n",
       "      <td>Local Implementation Detail</td>\n",
       "      <td>correct</td>\n",
       "      <td>My verdict is correct because the text's scope...</td>\n",
       "    </tr>\n",
       "  </tbody>\n",
       "</table>\n",
       "</div>"
      ]
     },
     "execution_count": 58,
     "metadata": {},
     "output_type": "execute_result"
    }
   ],
   "execution_count": 58
  },
  {
   "metadata": {
    "ExecuteTime": {
     "end_time": "2025-08-10T07:05:56.621956Z",
     "start_time": "2025-08-10T07:05:56.614319Z"
    }
   },
   "cell_type": "code",
   "source": "df.shape",
   "id": "dfc251bf7c90e689",
   "outputs": [
    {
     "data": {
      "text/plain": [
       "(384, 9)"
      ]
     },
     "execution_count": 59,
     "metadata": {},
     "output_type": "execute_result"
    }
   ],
   "execution_count": 59
  },
  {
   "metadata": {
    "ExecuteTime": {
     "end_time": "2025-08-10T07:05:56.819284Z",
     "start_time": "2025-08-10T07:05:56.808243Z"
    }
   },
   "cell_type": "code",
   "source": "df.groupby(\"s2_v_evaluation\").size().rename(\"percentage\") / df.shape[0] * 100",
   "id": "bacb4a827563132f",
   "outputs": [
    {
     "data": {
      "text/plain": [
       "s2_v_evaluation\n",
       "correct      87.239583\n",
       "incorrect    12.760417\n",
       "Name: percentage, dtype: float64"
      ]
     },
     "execution_count": 60,
     "metadata": {},
     "output_type": "execute_result"
    }
   ],
   "execution_count": 60
  },
  {
   "metadata": {
    "ExecuteTime": {
     "end_time": "2025-08-10T07:05:57.022037Z",
     "start_time": "2025-08-10T07:05:57.011071Z"
    }
   },
   "cell_type": "code",
   "source": "df.groupby(\"s2_v_evaluation\").size().rename(\"count\")",
   "id": "a279d31344081ec2",
   "outputs": [
    {
     "data": {
      "text/plain": [
       "s2_v_evaluation\n",
       "correct      335\n",
       "incorrect     49\n",
       "Name: count, dtype: int64"
      ]
     },
     "execution_count": 61,
     "metadata": {},
     "output_type": "execute_result"
    }
   ],
   "execution_count": 61
  },
  {
   "metadata": {},
   "cell_type": "markdown",
   "source": "# S3",
   "id": "aff2da4a17be7ce1"
  },
  {
   "metadata": {
    "collapsed": true,
    "ExecuteTime": {
     "end_time": "2025-08-10T07:05:57.353901Z",
     "start_time": "2025-08-10T07:05:57.259174Z"
    }
   },
   "cell_type": "code",
   "source": "df = CSVDFHandler().read_df(AbsDirPath.SAMPLES_VERIFIED / \"s3.csv\")",
   "id": "d6998752caec2f5",
   "outputs": [],
   "execution_count": 62
  },
  {
   "metadata": {
    "ExecuteTime": {
     "end_time": "2025-08-10T07:05:57.477783Z",
     "start_time": "2025-08-10T07:05:57.462512Z"
    }
   },
   "cell_type": "code",
   "source": "df.head()",
   "id": "c3deaa2623f4037",
   "outputs": [
    {
     "data": {
      "text/plain": [
       "   Unnamed: 0                 qa  \\\n",
       "0        1820      integrability   \n",
       "1        2587  energy efficiency   \n",
       "2        1156        testability   \n",
       "3        6719             safety   \n",
       "4         946      deployability   \n",
       "\n",
       "                                            sentence  \\\n",
       "0  Interesting, @MichaelPeibo! Would you share th...   \n",
       "1  < Use new instance of all the pass/analysis ma...   \n",
       "2  .. _history:. History. =======. .. toctree::. ...   \n",
       "3  If one input is the very global we're querying...   \n",
       "4  ghtforward: just hand them to pickle (or. cPic...   \n",
       "\n",
       "                                           s3_prompt  \\\n",
       "0  \\nBased on the rules provided, analyze the fol...   \n",
       "1  \\nBased on the rules provided, analyze the fol...   \n",
       "2  \\nBased on the rules provided, analyze the fol...   \n",
       "3  \\nBased on the rules provided, analyze the fol...   \n",
       "4  \\nBased on the rules provided, analyze the fol...   \n",
       "\n",
       "                  s3_tactic  \\\n",
       "0                       NaN   \n",
       "1                       NaN   \n",
       "2     Abstract Data Sources   \n",
       "3                       NaN   \n",
       "4  Abstract Common Services   \n",
       "\n",
       "                                         s3_response  \\\n",
       "0  The system is being asked to implement a featu...   \n",
       "1  The system is being asked to use a new instanc...   \n",
       "2  The system provides an interface to substitute...   \n",
       "3  The system cannot determine aliasing if the qu...   \n",
       "4  The system implements similar services once in...   \n",
       "\n",
       "                                         s3_v_prompt  \\\n",
       "0  Now, perform your your audit based on the data...   \n",
       "1  Now, perform your your audit based on the data...   \n",
       "2  Now, perform your your audit based on the data...   \n",
       "3  Now, perform your your audit based on the data...   \n",
       "4  Now, perform your your audit based on the data...   \n",
       "\n",
       "       s3_v_ground_truth_scope s3_v_evaluation  \\\n",
       "0          System-Level Design         correct   \n",
       "1  Local Implementation Detail       incorrect   \n",
       "2  Local Implementation Detail       incorrect   \n",
       "3  Local Implementation Detail       incorrect   \n",
       "4  Local Implementation Detail       incorrect   \n",
       "\n",
       "                                      s3_v_reasoning  \n",
       "0  I am considering the best way to do this is to...  \n",
       "1  The first AI's decision was incorrect because ...  \n",
       "2  The text describes the history and evolution o...  \n",
       "3  The first AI's decision was incorrect because ...  \n",
       "4  The first AI's decision was incorrect because ...  "
      ],
      "text/html": [
       "<div>\n",
       "<style scoped>\n",
       "    .dataframe tbody tr th:only-of-type {\n",
       "        vertical-align: middle;\n",
       "    }\n",
       "\n",
       "    .dataframe tbody tr th {\n",
       "        vertical-align: top;\n",
       "    }\n",
       "\n",
       "    .dataframe thead th {\n",
       "        text-align: right;\n",
       "    }\n",
       "</style>\n",
       "<table border=\"1\" class=\"dataframe\">\n",
       "  <thead>\n",
       "    <tr style=\"text-align: right;\">\n",
       "      <th></th>\n",
       "      <th>Unnamed: 0</th>\n",
       "      <th>qa</th>\n",
       "      <th>sentence</th>\n",
       "      <th>s3_prompt</th>\n",
       "      <th>s3_tactic</th>\n",
       "      <th>s3_response</th>\n",
       "      <th>s3_v_prompt</th>\n",
       "      <th>s3_v_ground_truth_scope</th>\n",
       "      <th>s3_v_evaluation</th>\n",
       "      <th>s3_v_reasoning</th>\n",
       "    </tr>\n",
       "  </thead>\n",
       "  <tbody>\n",
       "    <tr>\n",
       "      <th>0</th>\n",
       "      <td>1820</td>\n",
       "      <td>integrability</td>\n",
       "      <td>Interesting, @MichaelPeibo! Would you share th...</td>\n",
       "      <td>\\nBased on the rules provided, analyze the fol...</td>\n",
       "      <td>NaN</td>\n",
       "      <td>The system is being asked to implement a featu...</td>\n",
       "      <td>Now, perform your your audit based on the data...</td>\n",
       "      <td>System-Level Design</td>\n",
       "      <td>correct</td>\n",
       "      <td>I am considering the best way to do this is to...</td>\n",
       "    </tr>\n",
       "    <tr>\n",
       "      <th>1</th>\n",
       "      <td>2587</td>\n",
       "      <td>energy efficiency</td>\n",
       "      <td>&lt; Use new instance of all the pass/analysis ma...</td>\n",
       "      <td>\\nBased on the rules provided, analyze the fol...</td>\n",
       "      <td>NaN</td>\n",
       "      <td>The system is being asked to use a new instanc...</td>\n",
       "      <td>Now, perform your your audit based on the data...</td>\n",
       "      <td>Local Implementation Detail</td>\n",
       "      <td>incorrect</td>\n",
       "      <td>The first AI's decision was incorrect because ...</td>\n",
       "    </tr>\n",
       "    <tr>\n",
       "      <th>2</th>\n",
       "      <td>1156</td>\n",
       "      <td>testability</td>\n",
       "      <td>.. _history:. History. =======. .. toctree::. ...</td>\n",
       "      <td>\\nBased on the rules provided, analyze the fol...</td>\n",
       "      <td>Abstract Data Sources</td>\n",
       "      <td>The system provides an interface to substitute...</td>\n",
       "      <td>Now, perform your your audit based on the data...</td>\n",
       "      <td>Local Implementation Detail</td>\n",
       "      <td>incorrect</td>\n",
       "      <td>The text describes the history and evolution o...</td>\n",
       "    </tr>\n",
       "    <tr>\n",
       "      <th>3</th>\n",
       "      <td>6719</td>\n",
       "      <td>safety</td>\n",
       "      <td>If one input is the very global we're querying...</td>\n",
       "      <td>\\nBased on the rules provided, analyze the fol...</td>\n",
       "      <td>NaN</td>\n",
       "      <td>The system cannot determine aliasing if the qu...</td>\n",
       "      <td>Now, perform your your audit based on the data...</td>\n",
       "      <td>Local Implementation Detail</td>\n",
       "      <td>incorrect</td>\n",
       "      <td>The first AI's decision was incorrect because ...</td>\n",
       "    </tr>\n",
       "    <tr>\n",
       "      <th>4</th>\n",
       "      <td>946</td>\n",
       "      <td>deployability</td>\n",
       "      <td>ghtforward: just hand them to pickle (or. cPic...</td>\n",
       "      <td>\\nBased on the rules provided, analyze the fol...</td>\n",
       "      <td>Abstract Common Services</td>\n",
       "      <td>The system implements similar services once in...</td>\n",
       "      <td>Now, perform your your audit based on the data...</td>\n",
       "      <td>Local Implementation Detail</td>\n",
       "      <td>incorrect</td>\n",
       "      <td>The first AI's decision was incorrect because ...</td>\n",
       "    </tr>\n",
       "  </tbody>\n",
       "</table>\n",
       "</div>"
      ]
     },
     "execution_count": 63,
     "metadata": {},
     "output_type": "execute_result"
    }
   ],
   "execution_count": 63
  },
  {
   "metadata": {
    "ExecuteTime": {
     "end_time": "2025-08-10T07:05:57.574107Z",
     "start_time": "2025-08-10T07:05:57.565669Z"
    }
   },
   "cell_type": "code",
   "source": "df.shape",
   "id": "dd9063717ca413e0",
   "outputs": [
    {
     "data": {
      "text/plain": [
       "(384, 10)"
      ]
     },
     "execution_count": 64,
     "metadata": {},
     "output_type": "execute_result"
    }
   ],
   "execution_count": 64
  },
  {
   "metadata": {
    "ExecuteTime": {
     "end_time": "2025-08-10T07:05:57.712548Z",
     "start_time": "2025-08-10T07:05:57.704452Z"
    }
   },
   "cell_type": "code",
   "source": "df.groupby(\"s3_v_evaluation\").size().rename(\"percentage\") / df.shape[0] * 100",
   "id": "682b5cdd13333424",
   "outputs": [
    {
     "data": {
      "text/plain": [
       "s3_v_evaluation\n",
       "correct      19.791667\n",
       "incorrect    80.208333\n",
       "Name: percentage, dtype: float64"
      ]
     },
     "execution_count": 65,
     "metadata": {},
     "output_type": "execute_result"
    }
   ],
   "execution_count": 65
  },
  {
   "metadata": {
    "ExecuteTime": {
     "end_time": "2025-08-10T07:05:57.864524Z",
     "start_time": "2025-08-10T07:05:57.850342Z"
    }
   },
   "cell_type": "code",
   "source": "df.groupby(\"s3_v_evaluation\").size().rename(\"count\")",
   "id": "557a70b3391e4c00",
   "outputs": [
    {
     "data": {
      "text/plain": [
       "s3_v_evaluation\n",
       "correct       76\n",
       "incorrect    308\n",
       "Name: count, dtype: int64"
      ]
     },
     "execution_count": 66,
     "metadata": {},
     "output_type": "execute_result"
    }
   ],
   "execution_count": 66
  }
 ],
 "metadata": {
  "kernelspec": {
   "display_name": "Python 3",
   "language": "python",
   "name": "python3"
  },
  "language_info": {
   "codemirror_mode": {
    "name": "ipython",
    "version": 2
   },
   "file_extension": ".py",
   "mimetype": "text/x-python",
   "name": "python",
   "nbconvert_exporter": "python",
   "pygments_lexer": "ipython2",
   "version": "2.7.6"
  }
 },
 "nbformat": 4,
 "nbformat_minor": 5
}

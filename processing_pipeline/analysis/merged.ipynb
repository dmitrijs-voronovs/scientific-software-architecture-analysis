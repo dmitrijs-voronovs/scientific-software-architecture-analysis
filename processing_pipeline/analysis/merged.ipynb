{
 "cells": [
  {
   "cell_type": "code",
   "id": "initial_id",
   "metadata": {
    "collapsed": true
   },
   "source": [
    "from constants.abs_paths import AbsDirPath\n",
    "from processing_pipeline.utilities.data_transformation import load_all_files\n",
    "\n",
    "in_dir = AbsDirPath.MERGED\n",
    "df = load_all_files(in_dir)"
   ],
   "outputs": [],
   "execution_count": null
  },
  {
   "metadata": {},
   "cell_type": "code",
   "source": "df.shape",
   "id": "18b7bfabeeef4b1b",
   "outputs": [],
   "execution_count": null
  },
  {
   "metadata": {},
   "cell_type": "code",
   "source": "df.head(3)",
   "id": "f27c596c078f280e",
   "outputs": [],
   "execution_count": null
  },
  {
   "metadata": {},
   "cell_type": "markdown",
   "source": "# Add columns denoting which stage passed",
   "id": "ff24389999e1db76"
  },
  {
   "metadata": {},
   "cell_type": "code",
   "source": [
    "df[\"prefilter_passed\"] = ~df['s0_to_eliminate'].isna()\n",
    "df['s0_passed'] = df[\"prefilter_passed\"] & (df['s0_to_eliminate'] == False)\n",
    "df['s1_passed'] = df['s0_passed'] & (df['s1_true_positive'] == True)\n",
    "df['s2_passed'] = df['s1_passed'] & (df['s2_related_to_arch'] == True)\n",
    "df['s3_passed'] = df['s2_passed'] & (~df['s3_tactic'].isna()) & (df['s3_tactic'] != \"None\")"
   ],
   "id": "65043ef2b98ae7e",
   "outputs": [],
   "execution_count": null
  },
  {
   "metadata": {},
   "cell_type": "code",
   "source": "df.columns",
   "id": "9f2c8f97fad6321",
   "outputs": [],
   "execution_count": null
  },
  {
   "metadata": {},
   "cell_type": "markdown",
   "source": "# Add column for tactic category",
   "id": "ba5e545f736edb87"
  },
  {
   "metadata": {},
   "cell_type": "code",
   "source": [
    "from cfg.tactics.tactic_to_category_map import tactic_to_category_map\n",
    "\n",
    "df[\"s3_tactic_category\"] = df.s3_tactic.apply(lambda x: tactic_to_category_map.get(x))\n",
    "df.head()"
   ],
   "id": "8f472b6e6bdb5fa2",
   "outputs": [],
   "execution_count": null
  },
  {
   "metadata": {},
   "cell_type": "code",
   "source": "df.groupby(\"s3_tactic_category\").nsimilar.agg(\"sum\")",
   "id": "4e7e7a78a113a190",
   "outputs": [],
   "execution_count": null
  },
  {
   "metadata": {},
   "cell_type": "markdown",
   "source": [
    "# R1\n",
    "## Primary - A quantitative analysis of the prevalence of each quality attribute."
   ],
   "id": "d78d55f9eacdfd03"
  },
  {
   "metadata": {},
   "cell_type": "code",
   "source": [
    "r1_total_count = df[df.s1_passed].nsimilar.sum()\n",
    "r1_total_count"
   ],
   "id": "85142e11473c365e",
   "outputs": [],
   "execution_count": null
  },
  {
   "metadata": {},
   "cell_type": "code",
   "source": [
    "r1 = df[df.s1_passed].groupby(\"qa\").agg(nsimilar=(\"nsimilar\",\"sum\")).sort_values(\"nsimilar\", ascending=False)\n",
    "r1[\"percentage\"] = r1.nsimilar / r1_total_count * 100\n",
    "r1"
   ],
   "id": "7a7207b5da35a217",
   "outputs": [],
   "execution_count": null
  },
  {
   "metadata": {},
   "cell_type": "code",
   "source": [
    "import plotly.express as px\n",
    "px.pie(r1, names=r1.index, values=\"nsimilar\", title=\"R1\")"
   ],
   "id": "6db89ee3753819de",
   "outputs": [],
   "execution_count": null
  },
  {
   "metadata": {},
   "cell_type": "markdown",
   "source": "## Secondary - Repository-Specific Priorities",
   "id": "6525929108a496dc"
  },
  {
   "metadata": {},
   "cell_type": "code",
   "source": [
    "r1_2 = df[df.s1_passed].pivot_table(index=[\"repo_id\"], columns=\"qa\", values=\"nsimilar\", aggfunc=\"sum\")\n",
    "r1_2"
   ],
   "id": "87088268f4b4211a",
   "outputs": [],
   "execution_count": null
  },
  {
   "metadata": {},
   "cell_type": "code",
   "source": [
    "r1_2_pc = r1_2.div(r1_2.sum(axis=1), axis=0) * 100\n",
    "r1_2_pc"
   ],
   "id": "ca822209f63bbc6b",
   "outputs": [],
   "execution_count": null
  },
  {
   "metadata": {},
   "cell_type": "code",
   "source": "px.bar(r1_2_pc, title=\"R1_2\")",
   "id": "46c111e59880d313",
   "outputs": [],
   "execution_count": null
  },
  {
   "metadata": {},
   "cell_type": "markdown",
   "source": "## Secondary 2 - Keyword Performance Analysis",
   "id": "24d88ba5187e19cb"
  },
  {
   "metadata": {},
   "cell_type": "code",
   "source": "df.head()",
   "id": "1624a2e5bab5ad03",
   "outputs": [],
   "execution_count": null
  },
  {
   "metadata": {},
   "cell_type": "code",
   "source": [
    "r1_3 = df.pivot_table(index=\"keyword\", columns=\"s1_passed\", values=\"nsimilar\", aggfunc=\"sum\")\n",
    "r1_3[\"total\"] = r1_3.sum(axis=1)\n",
    "nkw =  r1_3.total.sum()\n",
    "r1_3[\"passed_ratio\"] = r1_3[True] / r1_3.total\n",
    "r1_3[\"popularity_ratio\"] = r1_3.total / nkw\n",
    "r1_3.sort_values(\"total\", ascending=False)"
   ],
   "id": "14e8c26ae4db322f",
   "outputs": [],
   "execution_count": null
  },
  {
   "metadata": {},
   "cell_type": "code",
   "source": [
    "px.scatter(r1_3, x=\"popularity_ratio\", y=\"passed_ratio\", hover_name=r1_3.index, hover_data=[\"passed_ratio\", \"popularity_ratio\", \"total\"])\n",
    "# px.scatter(r1_3, x=\"popularity_ratio\", y=\"passed_ratio\", hover_name=r1_3.index, hover_data=[\"passed_ratio\", \"popularity_ratio\", \"total\"], color=\"total\", color_continuous_scale=px.colors.sequential.Burgyl_r)"
   ],
   "id": "90daa6fa5fc1ec33",
   "outputs": [],
   "execution_count": null
  },
  {
   "metadata": {},
   "cell_type": "markdown",
   "source": [
    "# RQ2\n",
    "## Primary - A strategic analysis of the types of solutions (tactic categories) used for the most important quality attributes. This gives a high-level overview of the solution strategies"
   ],
   "id": "dada9902ffb2745f"
  },
  {
   "metadata": {},
   "cell_type": "code",
   "source": [
    "data_rq2 = df[df.s3_passed]\n",
    "data_rq2.shape"
   ],
   "id": "66582e1b79896129",
   "outputs": [],
   "execution_count": null
  },
  {
   "metadata": {},
   "cell_type": "code",
   "source": [
    "top_qas = df[df.s1_passed].groupby(\"qa\").nsimilar.sum().sort_values(ascending=False).head(4)\n",
    "top_qas = top_qas.index.tolist()\n",
    "top_qas"
   ],
   "id": "c5669ab208a69dbb",
   "outputs": [],
   "execution_count": null
  },
  {
   "metadata": {},
   "cell_type": "code",
   "source": [
    "r2 = data_rq2[data_rq2.qa.isin(top_qas)]\n",
    "r2.groupby([\"qa\", \"s3_tactic_category\"]).nsimilar.sum().reset_index().sort_values([\"qa\",\"nsimilar\"], ascending=[False]*2).groupby(\"qa\").head(3)"
   ],
   "id": "41f3fb5f9719445e",
   "outputs": [],
   "execution_count": null
  },
  {
   "metadata": {},
   "cell_type": "markdown",
   "source": "## Secondary - A detailed \"drill-down\" to see which specific tactics make up the most important categories identified in the primary analysis.",
   "id": "402eb3bb1acc91d5"
  },
  {
   "metadata": {},
   "cell_type": "markdown",
   "source": "### TODO",
   "id": "192c357afd3051d7"
  },
  {
   "metadata": {},
   "cell_type": "code",
   "source": [
    "r2 = data_rq2[data_rq2.qa.isin(top_qas)]\n",
    "r2.groupby([\"qa\", \"s3_tactic\"]).nsimilar.sum().reset_index().sort_values([\"qa\",\"nsimilar\"], ascending=[False]*2).groupby(\"qa\").head(3)"
   ],
   "id": "55acc3c7dbfeb4d5",
   "outputs": [],
   "execution_count": null
  },
  {
   "metadata": {},
   "cell_type": "markdown",
   "source": [
    "# RQ3\n",
    "## Primary -  A comparative analysis of discussion topics across different communication channels (source)."
   ],
   "id": "ff2a05fba395ad7a"
  },
  {
   "metadata": {},
   "cell_type": "code",
   "source": [
    "data_rq3 = df[df['s3_passed']]\n",
    "data_rq3.shape"
   ],
   "id": "5ae250c84350348",
   "outputs": [],
   "execution_count": null
  },
  {
   "metadata": {},
   "cell_type": "code",
   "source": [
    "r3 = data_rq3.pivot_table(index=\"qa\", columns=\"source\", values=\"nsimilar\", aggfunc=\"sum\", fill_value=0)\n",
    "totals = r3.sum(axis=1)\n",
    "r3 = r3.div(totals, axis=0) * 100\n",
    "r3\n"
   ],
   "id": "541674e14eb69bd3",
   "outputs": [],
   "execution_count": null
  },
  {
   "metadata": {},
   "cell_type": "code",
   "source": [
    "r3_2 = data_rq3.pivot_table(index=\"s3_tactic_category\", columns=\"source\", values=\"nsimilar\", aggfunc=\"sum\", fill_value=0)\n",
    "totals = r3_2.sum(axis=1)\n",
    "r3_2 = r3_2.div(totals, axis=0) * 100\n",
    "r3_2"
   ],
   "id": "589a825bf8f4bbc6",
   "outputs": [],
   "execution_count": null
  },
  {
   "metadata": {},
   "cell_type": "markdown",
   "source": "",
   "id": "b16f146d7bbeecaf"
  },
  {
   "metadata": {},
   "cell_type": "code",
   "source": "",
   "id": "fe62b628bd3b9c37",
   "outputs": [],
   "execution_count": null
  },
  {
   "metadata": {},
   "cell_type": "markdown",
   "source": "# Other",
   "id": "f3b5e74f4b2a2520"
  },
  {
   "metadata": {},
   "cell_type": "code",
   "source": "df.source.unique()",
   "id": "8c39e354d80ab7ee",
   "outputs": [],
   "execution_count": null
  },
  {
   "metadata": {},
   "cell_type": "code",
   "source": "df.qa.unique()",
   "id": "957d8c8a569be143",
   "outputs": [],
   "execution_count": null
  },
  {
   "metadata": {},
   "cell_type": "code",
   "source": "df.repo_id.unique()",
   "id": "daae1cde7a673f8c",
   "outputs": [],
   "execution_count": null
  },
  {
   "metadata": {},
   "cell_type": "code",
   "source": "df.columns",
   "id": "581754ffbce94b07",
   "outputs": [],
   "execution_count": null
  },
  {
   "metadata": {},
   "cell_type": "markdown",
   "source": "# Data funnel",
   "id": "fe30eb932a53e6d8"
  },
  {
   "metadata": {},
   "cell_type": "code",
   "source": [
    "funnel = df.groupby(['prefilter_passed',\n",
    "       's0_passed', 's1_passed', 's2_passed', 's3_passed']).nsimilar.agg(\"sum\")\n",
    "funnel"
   ],
   "id": "f8f4b370d5aaf151",
   "outputs": [],
   "execution_count": null
  },
  {
   "metadata": {},
   "cell_type": "code",
   "source": [
    "import pandas as pd\n",
    "\n",
    "# Define the order and names of your funnel stages\n",
    "stages = {\n",
    "    'prefilter_passed': '1. Prefilter',\n",
    "    's0_passed': '2. Stage 0',\n",
    "    's1_passed': '3. Stage 1',\n",
    "    's2_passed': '4. Stage 2',\n",
    "    's3_passed': '5. Stage 3'\n",
    "}\n",
    "\n",
    "# This list will hold the data for each stage\n",
    "funnel_data_list = []\n",
    "\n",
    "# Process each stage\n",
    "for stage_col, stage_name in stages.items():\n",
    "    # 1. Filter for items that passed the current stage\n",
    "    passed_stage_df = df[df[stage_col] == True]\n",
    "\n",
    "    # 2. Group by 'source' and sum 'nsimilar'\n",
    "    stage_summary = passed_stage_df.groupby('source')['nsimilar'].sum().reset_index()\n",
    "\n",
    "    # 3. Add the stage name for plotting\n",
    "    stage_summary['Stage'] = stage_name\n",
    "\n",
    "    funnel_data_list.append(stage_summary)\n",
    "\n",
    "# 4. Combine all stage data into a single DataFrame\n",
    "funnel_plot_df = pd.concat(funnel_data_list, ignore_index=True)\n",
    "\n",
    "print(\"Reshaped data for plotting:\")\n",
    "print(funnel_plot_df)"
   ],
   "id": "2f346451411a74ed",
   "outputs": [],
   "execution_count": null
  },
  {
   "metadata": {},
   "cell_type": "code",
   "source": [
    "px.funnel(funnel_plot_df,\n",
    "                x='nsimilar',\n",
    "                y='Stage',\n",
    "                color='source',\n",
    "                title='Funnel Analysis by Source')"
   ],
   "id": "f353d3ed7d7df71b",
   "outputs": [],
   "execution_count": null
  },
  {
   "metadata": {},
   "cell_type": "code",
   "source": "",
   "id": "cc783d083c841757",
   "outputs": [],
   "execution_count": null
  },
  {
   "metadata": {},
   "cell_type": "code",
   "source": [
    "total_items = df.nsimilar.sum()\n",
    "funnel_df = funnel.reset_index()\n",
    "funnel_df[\"percentage_of_total\"] = funnel_df.nsimilar / total_items * 100\n",
    "funnel_df"
   ],
   "id": "b5929607dcd78f66",
   "outputs": [],
   "execution_count": null
  },
  {
   "metadata": {},
   "cell_type": "markdown",
   "source": "## Crosstab",
   "id": "6be4d3876102558b"
  },
  {
   "metadata": {},
   "cell_type": "code",
   "source": [
    "import pandas as pd\n",
    "\n",
    "df_tactics = df[df['s3_passed'] == True]\n",
    "tactic_crosstab = pd.crosstab(df_tactics['qa'], df_tactics['s3_tactic'])\n",
    "tactic_crosstab"
   ],
   "id": "128fda6f6079775a",
   "outputs": [],
   "execution_count": null
  },
  {
   "metadata": {},
   "cell_type": "code",
   "source": [
    "import pandas as pd\n",
    "\n",
    "df_tactics = df[df['s1_passed']]\n",
    "tactic_crosstab = pd.crosstab(df_tactics['source'], df_tactics['qa'], margins=True)\n",
    "tactic_crosstab"
   ],
   "id": "2127a4b524a44e17",
   "outputs": [],
   "execution_count": null
  },
  {
   "metadata": {},
   "cell_type": "code",
   "source": [
    "tactic_crosstab_totals = tactic_crosstab.loc[\"All\"]\n",
    "tactic_crosstab.div(tactic_crosstab_totals, axis=1) * 100"
   ],
   "id": "9fabc1ca4aeeda3f",
   "outputs": [],
   "execution_count": null
  },
  {
   "metadata": {},
   "cell_type": "code",
   "source": "df.pivot_table(index=[\"source\", \"qa\"], columns=[\"s0_to_eliminate\", \"s1_true_positive\", \"s2_related_to_arch\"], values=\"nsimilar\", aggfunc=\"sum\")",
   "id": "1c52251c39b14fb",
   "outputs": [],
   "execution_count": null
  },
  {
   "metadata": {},
   "cell_type": "code",
   "source": "df.pivot_table(index=[\"source\", \"qa\"], columns=[\"s0_to_eliminate\"], values=\"nsimilar\", aggfunc=[\"sum\"], margins=True)",
   "id": "87a4abdaf8eadf4a",
   "outputs": [],
   "execution_count": null
  },
  {
   "metadata": {},
   "cell_type": "code",
   "source": "df.groupby([\"s0_to_eliminate\", \"s1_true_positive\", \"s2_related_to_arch\", \"s3_tactic\"], dropna=False).nsimilar.agg(\"sum\")",
   "id": "a79c42b40956f10c",
   "outputs": [],
   "execution_count": null
  },
  {
   "metadata": {},
   "cell_type": "code",
   "source": "df.groupby([\"source\", \"s0_to_eliminate\", \"s1_true_positive\", \"s2_related_to_arch\", \"s3_tactic\"], dropna=False).nsimilar.agg(\"sum\")",
   "id": "b66f9d070787e9d4",
   "outputs": [],
   "execution_count": null
  },
  {
   "metadata": {},
   "cell_type": "code",
   "source": "df.groupby([\"source\", \"qa\", \"s0_to_eliminate\", \"s1_true_positive\", \"s2_related_to_arch\", \"s3_tactic\"], dropna=False).nsimilar.agg(\"sum\")",
   "id": "4a4a20a2520222ce",
   "outputs": [],
   "execution_count": null
  },
  {
   "metadata": {},
   "cell_type": "code",
   "source": "df.groupby([\"source\", \"s0_to_eliminate\", \"s1_true_positive\", \"s2_related_to_arch\", \"s3_tactic\"]).nsimilar.agg(\"sum\")",
   "id": "d6c2c427cb14a577",
   "outputs": [],
   "execution_count": null
  },
  {
   "metadata": {},
   "cell_type": "code",
   "source": "df[df[\"s3_tactic\"].notna()]",
   "id": "b11a48e1f8cb09ea",
   "outputs": [],
   "execution_count": null
  },
  {
   "metadata": {},
   "cell_type": "code",
   "source": "",
   "id": "500f4f2829d3688c",
   "outputs": [],
   "execution_count": null
  }
 ],
 "metadata": {
  "kernelspec": {
   "display_name": "Python 3",
   "language": "python",
   "name": "python3"
  },
  "language_info": {
   "codemirror_mode": {
    "name": "ipython",
    "version": 2
   },
   "file_extension": ".py",
   "mimetype": "text/x-python",
   "name": "python",
   "nbconvert_exporter": "python",
   "pygments_lexer": "ipython2",
   "version": "2.7.6"
  }
 },
 "nbformat": 4,
 "nbformat_minor": 5
}

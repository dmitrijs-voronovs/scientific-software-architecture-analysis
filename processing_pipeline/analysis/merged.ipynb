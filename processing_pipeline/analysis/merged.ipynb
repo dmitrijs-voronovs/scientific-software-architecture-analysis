{
 "cells": [
  {
   "cell_type": "code",
   "id": "initial_id",
   "metadata": {
    "collapsed": true,
    "ExecuteTime": {
     "end_time": "2025-08-17T23:33:02.415138Z",
     "start_time": "2025-08-17T23:28:37.702163Z"
    }
   },
   "source": [
    "from constants.abs_paths import AbsDirPath\n",
    "from processing_pipeline.utilities.data_transformation import load_all_files\n",
    "\n",
    "in_dir = AbsDirPath.MERGED\n",
    "df = load_all_files(in_dir)"
   ],
   "outputs": [
    {
     "name": "stdout",
     "output_type": "stream",
     "text": [
      "Loaded C:\\Users\\Dmitrijs\\Documents\\myDocs\\masters\\courses\\thesis\\code\\data\\keywords_2\\merged\\allenai.scispacy.v0.5.5.code_comment.parquet\n",
      "Loaded C:\\Users\\Dmitrijs\\Documents\\myDocs\\masters\\courses\\thesis\\code\\data\\keywords_2\\merged\\allenai.scispacy.v0.5.5.docs.parquet\n",
      "Loaded C:\\Users\\Dmitrijs\\Documents\\myDocs\\masters\\courses\\thesis\\code\\data\\keywords_2\\merged\\allenai.scispacy.v0.5.5.issue.parquet\n",
      "Loaded C:\\Users\\Dmitrijs\\Documents\\myDocs\\masters\\courses\\thesis\\code\\data\\keywords_2\\merged\\allenai.scispacy.v0.5.5.issue.pt_2.parquet\n",
      "Loaded C:\\Users\\Dmitrijs\\Documents\\myDocs\\masters\\courses\\thesis\\code\\data\\keywords_2\\merged\\allenai.scispacy.v0.5.5.issue_comment.parquet\n",
      "Loaded C:\\Users\\Dmitrijs\\Documents\\myDocs\\masters\\courses\\thesis\\code\\data\\keywords_2\\merged\\allenai.scispacy.v0.5.5.issue_comment.pt_2.parquet\n",
      "Loaded C:\\Users\\Dmitrijs\\Documents\\myDocs\\masters\\courses\\thesis\\code\\data\\keywords_2\\merged\\allenai.scispacy.v0.5.5.release.parquet\n",
      "Loaded C:\\Users\\Dmitrijs\\Documents\\myDocs\\masters\\courses\\thesis\\code\\data\\keywords_2\\merged\\google.deepvariant.v1.6.1.code_comment.parquet\n",
      "Loaded C:\\Users\\Dmitrijs\\Documents\\myDocs\\masters\\courses\\thesis\\code\\data\\keywords_2\\merged\\google.deepvariant.v1.6.1.code_comment.pt_2.parquet\n",
      "Loaded C:\\Users\\Dmitrijs\\Documents\\myDocs\\masters\\courses\\thesis\\code\\data\\keywords_2\\merged\\google.deepvariant.v1.6.1.docs.parquet\n",
      "Loaded C:\\Users\\Dmitrijs\\Documents\\myDocs\\masters\\courses\\thesis\\code\\data\\keywords_2\\merged\\google.deepvariant.v1.6.1.issue.parquet\n",
      "Loaded C:\\Users\\Dmitrijs\\Documents\\myDocs\\masters\\courses\\thesis\\code\\data\\keywords_2\\merged\\google.deepvariant.v1.6.1.issue.pt_2.parquet\n",
      "Loaded C:\\Users\\Dmitrijs\\Documents\\myDocs\\masters\\courses\\thesis\\code\\data\\keywords_2\\merged\\google.deepvariant.v1.6.1.issue.pt_3.parquet\n",
      "Loaded C:\\Users\\Dmitrijs\\Documents\\myDocs\\masters\\courses\\thesis\\code\\data\\keywords_2\\merged\\google.deepvariant.v1.6.1.issue.pt_4.parquet\n",
      "Loaded C:\\Users\\Dmitrijs\\Documents\\myDocs\\masters\\courses\\thesis\\code\\data\\keywords_2\\merged\\google.deepvariant.v1.6.1.issue.pt_5.parquet\n",
      "Loaded C:\\Users\\Dmitrijs\\Documents\\myDocs\\masters\\courses\\thesis\\code\\data\\keywords_2\\merged\\google.deepvariant.v1.6.1.issue.pt_6.parquet\n",
      "Loaded C:\\Users\\Dmitrijs\\Documents\\myDocs\\masters\\courses\\thesis\\code\\data\\keywords_2\\merged\\google.deepvariant.v1.6.1.issue_comment.parquet\n",
      "Loaded C:\\Users\\Dmitrijs\\Documents\\myDocs\\masters\\courses\\thesis\\code\\data\\keywords_2\\merged\\google.deepvariant.v1.6.1.issue_comment.pt_2.parquet\n",
      "Loaded C:\\Users\\Dmitrijs\\Documents\\myDocs\\masters\\courses\\thesis\\code\\data\\keywords_2\\merged\\google.deepvariant.v1.6.1.issue_comment.pt_3.parquet\n",
      "Loaded C:\\Users\\Dmitrijs\\Documents\\myDocs\\masters\\courses\\thesis\\code\\data\\keywords_2\\merged\\google.deepvariant.v1.6.1.issue_comment.pt_4.parquet\n",
      "Loaded C:\\Users\\Dmitrijs\\Documents\\myDocs\\masters\\courses\\thesis\\code\\data\\keywords_2\\merged\\google.deepvariant.v1.6.1.issue_comment.pt_5.parquet\n",
      "Loaded C:\\Users\\Dmitrijs\\Documents\\myDocs\\masters\\courses\\thesis\\code\\data\\keywords_2\\merged\\google.deepvariant.v1.6.1.issue_comment.pt_6.parquet\n",
      "Loaded C:\\Users\\Dmitrijs\\Documents\\myDocs\\masters\\courses\\thesis\\code\\data\\keywords_2\\merged\\google.deepvariant.v1.6.1.issue_comment.pt_7.parquet\n",
      "Loaded C:\\Users\\Dmitrijs\\Documents\\myDocs\\masters\\courses\\thesis\\code\\data\\keywords_2\\merged\\google.deepvariant.v1.6.1.issue_comment.pt_8.parquet\n",
      "Loaded C:\\Users\\Dmitrijs\\Documents\\myDocs\\masters\\courses\\thesis\\code\\data\\keywords_2\\merged\\google.deepvariant.v1.6.1.issue_comment.pt_9.parquet\n",
      "Loaded C:\\Users\\Dmitrijs\\Documents\\myDocs\\masters\\courses\\thesis\\code\\data\\keywords_2\\merged\\google.deepvariant.v1.6.1.release.parquet\n",
      "Loaded C:\\Users\\Dmitrijs\\Documents\\myDocs\\masters\\courses\\thesis\\code\\data\\keywords_2\\merged\\OpenGene.fastp.v0.23.4.code_comment.parquet\n",
      "Loaded C:\\Users\\Dmitrijs\\Documents\\myDocs\\masters\\courses\\thesis\\code\\data\\keywords_2\\merged\\OpenGene.fastp.v0.23.4.docs.parquet\n",
      "Loaded C:\\Users\\Dmitrijs\\Documents\\myDocs\\masters\\courses\\thesis\\code\\data\\keywords_2\\merged\\OpenGene.fastp.v0.23.4.issue.parquet\n",
      "Loaded C:\\Users\\Dmitrijs\\Documents\\myDocs\\masters\\courses\\thesis\\code\\data\\keywords_2\\merged\\OpenGene.fastp.v0.23.4.issue_comment.parquet\n",
      "Loaded C:\\Users\\Dmitrijs\\Documents\\myDocs\\masters\\courses\\thesis\\code\\data\\keywords_2\\merged\\OpenGene.fastp.v0.23.4.release.parquet\n",
      "Loaded C:\\Users\\Dmitrijs\\Documents\\myDocs\\masters\\courses\\thesis\\code\\data\\keywords_2\\merged\\root-project.root.v6-32-06.code_comment.parquet\n",
      "Loaded C:\\Users\\Dmitrijs\\Documents\\myDocs\\masters\\courses\\thesis\\code\\data\\keywords_2\\merged\\root-project.root.v6-32-06.code_comment.pt_002.parquet\n",
      "Loaded C:\\Users\\Dmitrijs\\Documents\\myDocs\\masters\\courses\\thesis\\code\\data\\keywords_2\\merged\\root-project.root.v6-32-06.code_comment.pt_003.parquet\n",
      "Loaded C:\\Users\\Dmitrijs\\Documents\\myDocs\\masters\\courses\\thesis\\code\\data\\keywords_2\\merged\\root-project.root.v6-32-06.code_comment.pt_004.parquet\n",
      "Loaded C:\\Users\\Dmitrijs\\Documents\\myDocs\\masters\\courses\\thesis\\code\\data\\keywords_2\\merged\\root-project.root.v6-32-06.code_comment.pt_005.parquet\n",
      "Loaded C:\\Users\\Dmitrijs\\Documents\\myDocs\\masters\\courses\\thesis\\code\\data\\keywords_2\\merged\\root-project.root.v6-32-06.code_comment.pt_006.parquet\n",
      "Loaded C:\\Users\\Dmitrijs\\Documents\\myDocs\\masters\\courses\\thesis\\code\\data\\keywords_2\\merged\\root-project.root.v6-32-06.code_comment.pt_007.parquet\n",
      "Loaded C:\\Users\\Dmitrijs\\Documents\\myDocs\\masters\\courses\\thesis\\code\\data\\keywords_2\\merged\\root-project.root.v6-32-06.code_comment.pt_008.parquet\n",
      "Loaded C:\\Users\\Dmitrijs\\Documents\\myDocs\\masters\\courses\\thesis\\code\\data\\keywords_2\\merged\\root-project.root.v6-32-06.code_comment.pt_009.parquet\n",
      "Loaded C:\\Users\\Dmitrijs\\Documents\\myDocs\\masters\\courses\\thesis\\code\\data\\keywords_2\\merged\\root-project.root.v6-32-06.code_comment.pt_010.parquet\n",
      "Loaded C:\\Users\\Dmitrijs\\Documents\\myDocs\\masters\\courses\\thesis\\code\\data\\keywords_2\\merged\\root-project.root.v6-32-06.code_comment.pt_011.parquet\n",
      "Loaded C:\\Users\\Dmitrijs\\Documents\\myDocs\\masters\\courses\\thesis\\code\\data\\keywords_2\\merged\\root-project.root.v6-32-06.code_comment.pt_012.parquet\n",
      "Loaded C:\\Users\\Dmitrijs\\Documents\\myDocs\\masters\\courses\\thesis\\code\\data\\keywords_2\\merged\\root-project.root.v6-32-06.code_comment.pt_013.parquet\n",
      "Loaded C:\\Users\\Dmitrijs\\Documents\\myDocs\\masters\\courses\\thesis\\code\\data\\keywords_2\\merged\\root-project.root.v6-32-06.code_comment.pt_014.parquet\n",
      "Loaded C:\\Users\\Dmitrijs\\Documents\\myDocs\\masters\\courses\\thesis\\code\\data\\keywords_2\\merged\\root-project.root.v6-32-06.code_comment.pt_015.parquet\n",
      "Loaded C:\\Users\\Dmitrijs\\Documents\\myDocs\\masters\\courses\\thesis\\code\\data\\keywords_2\\merged\\root-project.root.v6-32-06.code_comment.pt_016.parquet\n",
      "Loaded C:\\Users\\Dmitrijs\\Documents\\myDocs\\masters\\courses\\thesis\\code\\data\\keywords_2\\merged\\root-project.root.v6-32-06.code_comment.pt_017.parquet\n",
      "Loaded C:\\Users\\Dmitrijs\\Documents\\myDocs\\masters\\courses\\thesis\\code\\data\\keywords_2\\merged\\root-project.root.v6-32-06.code_comment.pt_018.parquet\n",
      "Loaded C:\\Users\\Dmitrijs\\Documents\\myDocs\\masters\\courses\\thesis\\code\\data\\keywords_2\\merged\\root-project.root.v6-32-06.code_comment.pt_019.parquet\n",
      "Loaded C:\\Users\\Dmitrijs\\Documents\\myDocs\\masters\\courses\\thesis\\code\\data\\keywords_2\\merged\\root-project.root.v6-32-06.code_comment.pt_020.parquet\n",
      "Loaded C:\\Users\\Dmitrijs\\Documents\\myDocs\\masters\\courses\\thesis\\code\\data\\keywords_2\\merged\\root-project.root.v6-32-06.code_comment.pt_021.parquet\n",
      "Loaded C:\\Users\\Dmitrijs\\Documents\\myDocs\\masters\\courses\\thesis\\code\\data\\keywords_2\\merged\\root-project.root.v6-32-06.code_comment.pt_022.parquet\n",
      "Loaded C:\\Users\\Dmitrijs\\Documents\\myDocs\\masters\\courses\\thesis\\code\\data\\keywords_2\\merged\\root-project.root.v6-32-06.code_comment.pt_023.parquet\n",
      "Loaded C:\\Users\\Dmitrijs\\Documents\\myDocs\\masters\\courses\\thesis\\code\\data\\keywords_2\\merged\\root-project.root.v6-32-06.code_comment.pt_024.parquet\n",
      "Loaded C:\\Users\\Dmitrijs\\Documents\\myDocs\\masters\\courses\\thesis\\code\\data\\keywords_2\\merged\\root-project.root.v6-32-06.code_comment.pt_025.parquet\n",
      "Loaded C:\\Users\\Dmitrijs\\Documents\\myDocs\\masters\\courses\\thesis\\code\\data\\keywords_2\\merged\\root-project.root.v6-32-06.code_comment.pt_026.parquet\n",
      "Loaded C:\\Users\\Dmitrijs\\Documents\\myDocs\\masters\\courses\\thesis\\code\\data\\keywords_2\\merged\\root-project.root.v6-32-06.code_comment.pt_027.parquet\n",
      "Loaded C:\\Users\\Dmitrijs\\Documents\\myDocs\\masters\\courses\\thesis\\code\\data\\keywords_2\\merged\\root-project.root.v6-32-06.code_comment.pt_028.parquet\n",
      "Loaded C:\\Users\\Dmitrijs\\Documents\\myDocs\\masters\\courses\\thesis\\code\\data\\keywords_2\\merged\\root-project.root.v6-32-06.code_comment.pt_029.parquet\n",
      "Loaded C:\\Users\\Dmitrijs\\Documents\\myDocs\\masters\\courses\\thesis\\code\\data\\keywords_2\\merged\\root-project.root.v6-32-06.code_comment.pt_030.parquet\n",
      "Loaded C:\\Users\\Dmitrijs\\Documents\\myDocs\\masters\\courses\\thesis\\code\\data\\keywords_2\\merged\\root-project.root.v6-32-06.code_comment.pt_031.parquet\n",
      "Loaded C:\\Users\\Dmitrijs\\Documents\\myDocs\\masters\\courses\\thesis\\code\\data\\keywords_2\\merged\\root-project.root.v6-32-06.code_comment.pt_032.parquet\n",
      "Loaded C:\\Users\\Dmitrijs\\Documents\\myDocs\\masters\\courses\\thesis\\code\\data\\keywords_2\\merged\\root-project.root.v6-32-06.code_comment.pt_033.parquet\n",
      "Loaded C:\\Users\\Dmitrijs\\Documents\\myDocs\\masters\\courses\\thesis\\code\\data\\keywords_2\\merged\\root-project.root.v6-32-06.code_comment.pt_034.parquet\n",
      "Loaded C:\\Users\\Dmitrijs\\Documents\\myDocs\\masters\\courses\\thesis\\code\\data\\keywords_2\\merged\\root-project.root.v6-32-06.code_comment.pt_035.parquet\n",
      "Loaded C:\\Users\\Dmitrijs\\Documents\\myDocs\\masters\\courses\\thesis\\code\\data\\keywords_2\\merged\\root-project.root.v6-32-06.code_comment.pt_036.parquet\n",
      "Loaded C:\\Users\\Dmitrijs\\Documents\\myDocs\\masters\\courses\\thesis\\code\\data\\keywords_2\\merged\\root-project.root.v6-32-06.code_comment.pt_037.parquet\n",
      "Loaded C:\\Users\\Dmitrijs\\Documents\\myDocs\\masters\\courses\\thesis\\code\\data\\keywords_2\\merged\\root-project.root.v6-32-06.code_comment.pt_038.parquet\n",
      "Loaded C:\\Users\\Dmitrijs\\Documents\\myDocs\\masters\\courses\\thesis\\code\\data\\keywords_2\\merged\\root-project.root.v6-32-06.code_comment.pt_039.parquet\n",
      "Loaded C:\\Users\\Dmitrijs\\Documents\\myDocs\\masters\\courses\\thesis\\code\\data\\keywords_2\\merged\\root-project.root.v6-32-06.code_comment.pt_040.parquet\n",
      "Loaded C:\\Users\\Dmitrijs\\Documents\\myDocs\\masters\\courses\\thesis\\code\\data\\keywords_2\\merged\\root-project.root.v6-32-06.code_comment.pt_041.parquet\n",
      "Loaded C:\\Users\\Dmitrijs\\Documents\\myDocs\\masters\\courses\\thesis\\code\\data\\keywords_2\\merged\\root-project.root.v6-32-06.code_comment.pt_042.parquet\n",
      "Loaded C:\\Users\\Dmitrijs\\Documents\\myDocs\\masters\\courses\\thesis\\code\\data\\keywords_2\\merged\\root-project.root.v6-32-06.code_comment.pt_043.parquet\n",
      "Loaded C:\\Users\\Dmitrijs\\Documents\\myDocs\\masters\\courses\\thesis\\code\\data\\keywords_2\\merged\\root-project.root.v6-32-06.code_comment.pt_044.parquet\n",
      "Loaded C:\\Users\\Dmitrijs\\Documents\\myDocs\\masters\\courses\\thesis\\code\\data\\keywords_2\\merged\\root-project.root.v6-32-06.code_comment.pt_045.parquet\n",
      "Loaded C:\\Users\\Dmitrijs\\Documents\\myDocs\\masters\\courses\\thesis\\code\\data\\keywords_2\\merged\\root-project.root.v6-32-06.code_comment.pt_046.parquet\n",
      "Loaded C:\\Users\\Dmitrijs\\Documents\\myDocs\\masters\\courses\\thesis\\code\\data\\keywords_2\\merged\\root-project.root.v6-32-06.code_comment.pt_047.parquet\n",
      "Loaded C:\\Users\\Dmitrijs\\Documents\\myDocs\\masters\\courses\\thesis\\code\\data\\keywords_2\\merged\\root-project.root.v6-32-06.code_comment.pt_048.parquet\n",
      "Loaded C:\\Users\\Dmitrijs\\Documents\\myDocs\\masters\\courses\\thesis\\code\\data\\keywords_2\\merged\\root-project.root.v6-32-06.code_comment.pt_049.parquet\n",
      "Loaded C:\\Users\\Dmitrijs\\Documents\\myDocs\\masters\\courses\\thesis\\code\\data\\keywords_2\\merged\\root-project.root.v6-32-06.code_comment.pt_050.parquet\n",
      "Loaded C:\\Users\\Dmitrijs\\Documents\\myDocs\\masters\\courses\\thesis\\code\\data\\keywords_2\\merged\\root-project.root.v6-32-06.code_comment.pt_051.parquet\n",
      "Loaded C:\\Users\\Dmitrijs\\Documents\\myDocs\\masters\\courses\\thesis\\code\\data\\keywords_2\\merged\\root-project.root.v6-32-06.code_comment.pt_052.parquet\n",
      "Loaded C:\\Users\\Dmitrijs\\Documents\\myDocs\\masters\\courses\\thesis\\code\\data\\keywords_2\\merged\\root-project.root.v6-32-06.code_comment.pt_053.parquet\n",
      "Loaded C:\\Users\\Dmitrijs\\Documents\\myDocs\\masters\\courses\\thesis\\code\\data\\keywords_2\\merged\\root-project.root.v6-32-06.code_comment.pt_054.parquet\n",
      "Loaded C:\\Users\\Dmitrijs\\Documents\\myDocs\\masters\\courses\\thesis\\code\\data\\keywords_2\\merged\\root-project.root.v6-32-06.code_comment.pt_055.parquet\n",
      "Loaded C:\\Users\\Dmitrijs\\Documents\\myDocs\\masters\\courses\\thesis\\code\\data\\keywords_2\\merged\\root-project.root.v6-32-06.code_comment.pt_056.parquet\n",
      "Loaded C:\\Users\\Dmitrijs\\Documents\\myDocs\\masters\\courses\\thesis\\code\\data\\keywords_2\\merged\\root-project.root.v6-32-06.code_comment.pt_057.parquet\n",
      "Loaded C:\\Users\\Dmitrijs\\Documents\\myDocs\\masters\\courses\\thesis\\code\\data\\keywords_2\\merged\\root-project.root.v6-32-06.code_comment.pt_058.parquet\n",
      "Loaded C:\\Users\\Dmitrijs\\Documents\\myDocs\\masters\\courses\\thesis\\code\\data\\keywords_2\\merged\\root-project.root.v6-32-06.code_comment.pt_059.parquet\n",
      "Loaded C:\\Users\\Dmitrijs\\Documents\\myDocs\\masters\\courses\\thesis\\code\\data\\keywords_2\\merged\\root-project.root.v6-32-06.code_comment.pt_060.parquet\n",
      "Loaded C:\\Users\\Dmitrijs\\Documents\\myDocs\\masters\\courses\\thesis\\code\\data\\keywords_2\\merged\\root-project.root.v6-32-06.code_comment.pt_061.parquet\n",
      "Loaded C:\\Users\\Dmitrijs\\Documents\\myDocs\\masters\\courses\\thesis\\code\\data\\keywords_2\\merged\\root-project.root.v6-32-06.code_comment.pt_062.parquet\n",
      "Loaded C:\\Users\\Dmitrijs\\Documents\\myDocs\\masters\\courses\\thesis\\code\\data\\keywords_2\\merged\\root-project.root.v6-32-06.code_comment.pt_063.parquet\n",
      "Loaded C:\\Users\\Dmitrijs\\Documents\\myDocs\\masters\\courses\\thesis\\code\\data\\keywords_2\\merged\\root-project.root.v6-32-06.code_comment.pt_064.parquet\n",
      "Loaded C:\\Users\\Dmitrijs\\Documents\\myDocs\\masters\\courses\\thesis\\code\\data\\keywords_2\\merged\\root-project.root.v6-32-06.code_comment.pt_065.parquet\n",
      "Loaded C:\\Users\\Dmitrijs\\Documents\\myDocs\\masters\\courses\\thesis\\code\\data\\keywords_2\\merged\\root-project.root.v6-32-06.code_comment.pt_066.parquet\n",
      "Loaded C:\\Users\\Dmitrijs\\Documents\\myDocs\\masters\\courses\\thesis\\code\\data\\keywords_2\\merged\\root-project.root.v6-32-06.code_comment.pt_067.parquet\n",
      "Loaded C:\\Users\\Dmitrijs\\Documents\\myDocs\\masters\\courses\\thesis\\code\\data\\keywords_2\\merged\\root-project.root.v6-32-06.code_comment.pt_068.parquet\n",
      "Loaded C:\\Users\\Dmitrijs\\Documents\\myDocs\\masters\\courses\\thesis\\code\\data\\keywords_2\\merged\\root-project.root.v6-32-06.code_comment.pt_069.parquet\n",
      "Loaded C:\\Users\\Dmitrijs\\Documents\\myDocs\\masters\\courses\\thesis\\code\\data\\keywords_2\\merged\\root-project.root.v6-32-06.code_comment.pt_070.parquet\n",
      "Loaded C:\\Users\\Dmitrijs\\Documents\\myDocs\\masters\\courses\\thesis\\code\\data\\keywords_2\\merged\\root-project.root.v6-32-06.code_comment.pt_071.parquet\n",
      "Loaded C:\\Users\\Dmitrijs\\Documents\\myDocs\\masters\\courses\\thesis\\code\\data\\keywords_2\\merged\\root-project.root.v6-32-06.code_comment.pt_072.parquet\n",
      "Loaded C:\\Users\\Dmitrijs\\Documents\\myDocs\\masters\\courses\\thesis\\code\\data\\keywords_2\\merged\\root-project.root.v6-32-06.code_comment.pt_073.parquet\n",
      "Loaded C:\\Users\\Dmitrijs\\Documents\\myDocs\\masters\\courses\\thesis\\code\\data\\keywords_2\\merged\\root-project.root.v6-32-06.code_comment.pt_074.parquet\n",
      "Loaded C:\\Users\\Dmitrijs\\Documents\\myDocs\\masters\\courses\\thesis\\code\\data\\keywords_2\\merged\\root-project.root.v6-32-06.code_comment.pt_075.parquet\n",
      "Loaded C:\\Users\\Dmitrijs\\Documents\\myDocs\\masters\\courses\\thesis\\code\\data\\keywords_2\\merged\\root-project.root.v6-32-06.code_comment.pt_076.parquet\n",
      "Loaded C:\\Users\\Dmitrijs\\Documents\\myDocs\\masters\\courses\\thesis\\code\\data\\keywords_2\\merged\\root-project.root.v6-32-06.code_comment.pt_077.parquet\n",
      "Loaded C:\\Users\\Dmitrijs\\Documents\\myDocs\\masters\\courses\\thesis\\code\\data\\keywords_2\\merged\\root-project.root.v6-32-06.code_comment.pt_078.parquet\n",
      "Loaded C:\\Users\\Dmitrijs\\Documents\\myDocs\\masters\\courses\\thesis\\code\\data\\keywords_2\\merged\\root-project.root.v6-32-06.code_comment.pt_079.parquet\n",
      "Loaded C:\\Users\\Dmitrijs\\Documents\\myDocs\\masters\\courses\\thesis\\code\\data\\keywords_2\\merged\\root-project.root.v6-32-06.code_comment.pt_080.parquet\n",
      "Loaded C:\\Users\\Dmitrijs\\Documents\\myDocs\\masters\\courses\\thesis\\code\\data\\keywords_2\\merged\\root-project.root.v6-32-06.code_comment.pt_081.parquet\n",
      "Loaded C:\\Users\\Dmitrijs\\Documents\\myDocs\\masters\\courses\\thesis\\code\\data\\keywords_2\\merged\\root-project.root.v6-32-06.code_comment.pt_082.parquet\n",
      "Loaded C:\\Users\\Dmitrijs\\Documents\\myDocs\\masters\\courses\\thesis\\code\\data\\keywords_2\\merged\\root-project.root.v6-32-06.code_comment.pt_083.parquet\n",
      "Loaded C:\\Users\\Dmitrijs\\Documents\\myDocs\\masters\\courses\\thesis\\code\\data\\keywords_2\\merged\\root-project.root.v6-32-06.code_comment.pt_084.parquet\n",
      "Loaded C:\\Users\\Dmitrijs\\Documents\\myDocs\\masters\\courses\\thesis\\code\\data\\keywords_2\\merged\\root-project.root.v6-32-06.code_comment.pt_085.parquet\n",
      "Loaded C:\\Users\\Dmitrijs\\Documents\\myDocs\\masters\\courses\\thesis\\code\\data\\keywords_2\\merged\\root-project.root.v6-32-06.code_comment.pt_086.parquet\n",
      "Loaded C:\\Users\\Dmitrijs\\Documents\\myDocs\\masters\\courses\\thesis\\code\\data\\keywords_2\\merged\\root-project.root.v6-32-06.code_comment.pt_087.parquet\n",
      "Loaded C:\\Users\\Dmitrijs\\Documents\\myDocs\\masters\\courses\\thesis\\code\\data\\keywords_2\\merged\\root-project.root.v6-32-06.code_comment.pt_088.parquet\n",
      "Loaded C:\\Users\\Dmitrijs\\Documents\\myDocs\\masters\\courses\\thesis\\code\\data\\keywords_2\\merged\\root-project.root.v6-32-06.code_comment.pt_089.parquet\n",
      "Loaded C:\\Users\\Dmitrijs\\Documents\\myDocs\\masters\\courses\\thesis\\code\\data\\keywords_2\\merged\\root-project.root.v6-32-06.code_comment.pt_090.parquet\n",
      "Loaded C:\\Users\\Dmitrijs\\Documents\\myDocs\\masters\\courses\\thesis\\code\\data\\keywords_2\\merged\\root-project.root.v6-32-06.code_comment.pt_091.parquet\n",
      "Loaded C:\\Users\\Dmitrijs\\Documents\\myDocs\\masters\\courses\\thesis\\code\\data\\keywords_2\\merged\\root-project.root.v6-32-06.code_comment.pt_092.parquet\n",
      "Loaded C:\\Users\\Dmitrijs\\Documents\\myDocs\\masters\\courses\\thesis\\code\\data\\keywords_2\\merged\\root-project.root.v6-32-06.code_comment.pt_093.parquet\n",
      "Loaded C:\\Users\\Dmitrijs\\Documents\\myDocs\\masters\\courses\\thesis\\code\\data\\keywords_2\\merged\\root-project.root.v6-32-06.code_comment.pt_094.parquet\n",
      "Loaded C:\\Users\\Dmitrijs\\Documents\\myDocs\\masters\\courses\\thesis\\code\\data\\keywords_2\\merged\\root-project.root.v6-32-06.code_comment.pt_095.parquet\n",
      "Loaded C:\\Users\\Dmitrijs\\Documents\\myDocs\\masters\\courses\\thesis\\code\\data\\keywords_2\\merged\\root-project.root.v6-32-06.code_comment.pt_096.parquet\n",
      "Loaded C:\\Users\\Dmitrijs\\Documents\\myDocs\\masters\\courses\\thesis\\code\\data\\keywords_2\\merged\\root-project.root.v6-32-06.code_comment.pt_097.parquet\n",
      "Loaded C:\\Users\\Dmitrijs\\Documents\\myDocs\\masters\\courses\\thesis\\code\\data\\keywords_2\\merged\\root-project.root.v6-32-06.code_comment.pt_098.parquet\n",
      "Loaded C:\\Users\\Dmitrijs\\Documents\\myDocs\\masters\\courses\\thesis\\code\\data\\keywords_2\\merged\\root-project.root.v6-32-06.code_comment.pt_099.parquet\n",
      "Loaded C:\\Users\\Dmitrijs\\Documents\\myDocs\\masters\\courses\\thesis\\code\\data\\keywords_2\\merged\\root-project.root.v6-32-06.code_comment.pt_100.parquet\n",
      "Loaded C:\\Users\\Dmitrijs\\Documents\\myDocs\\masters\\courses\\thesis\\code\\data\\keywords_2\\merged\\root-project.root.v6-32-06.code_comment.pt_101.parquet\n",
      "Loaded C:\\Users\\Dmitrijs\\Documents\\myDocs\\masters\\courses\\thesis\\code\\data\\keywords_2\\merged\\root-project.root.v6-32-06.code_comment.pt_102.parquet\n",
      "Loaded C:\\Users\\Dmitrijs\\Documents\\myDocs\\masters\\courses\\thesis\\code\\data\\keywords_2\\merged\\root-project.root.v6-32-06.code_comment.pt_103.parquet\n",
      "Loaded C:\\Users\\Dmitrijs\\Documents\\myDocs\\masters\\courses\\thesis\\code\\data\\keywords_2\\merged\\root-project.root.v6-32-06.code_comment.pt_104.parquet\n",
      "Loaded C:\\Users\\Dmitrijs\\Documents\\myDocs\\masters\\courses\\thesis\\code\\data\\keywords_2\\merged\\root-project.root.v6-32-06.code_comment.pt_105.parquet\n",
      "Loaded C:\\Users\\Dmitrijs\\Documents\\myDocs\\masters\\courses\\thesis\\code\\data\\keywords_2\\merged\\root-project.root.v6-32-06.code_comment.pt_106.parquet\n",
      "Loaded C:\\Users\\Dmitrijs\\Documents\\myDocs\\masters\\courses\\thesis\\code\\data\\keywords_2\\merged\\root-project.root.v6-32-06.code_comment.pt_107.parquet\n",
      "Loaded C:\\Users\\Dmitrijs\\Documents\\myDocs\\masters\\courses\\thesis\\code\\data\\keywords_2\\merged\\root-project.root.v6-32-06.code_comment.pt_108.parquet\n",
      "Loaded C:\\Users\\Dmitrijs\\Documents\\myDocs\\masters\\courses\\thesis\\code\\data\\keywords_2\\merged\\root-project.root.v6-32-06.code_comment.pt_109.parquet\n",
      "Loaded C:\\Users\\Dmitrijs\\Documents\\myDocs\\masters\\courses\\thesis\\code\\data\\keywords_2\\merged\\root-project.root.v6-32-06.code_comment.pt_110.parquet\n",
      "Loaded C:\\Users\\Dmitrijs\\Documents\\myDocs\\masters\\courses\\thesis\\code\\data\\keywords_2\\merged\\root-project.root.v6-32-06.code_comment.pt_111.parquet\n",
      "Loaded C:\\Users\\Dmitrijs\\Documents\\myDocs\\masters\\courses\\thesis\\code\\data\\keywords_2\\merged\\root-project.root.v6-32-06.code_comment.pt_112.parquet\n",
      "Loaded C:\\Users\\Dmitrijs\\Documents\\myDocs\\masters\\courses\\thesis\\code\\data\\keywords_2\\merged\\root-project.root.v6-32-06.code_comment.pt_113.parquet\n",
      "Loaded C:\\Users\\Dmitrijs\\Documents\\myDocs\\masters\\courses\\thesis\\code\\data\\keywords_2\\merged\\root-project.root.v6-32-06.code_comment.pt_114.parquet\n",
      "Loaded C:\\Users\\Dmitrijs\\Documents\\myDocs\\masters\\courses\\thesis\\code\\data\\keywords_2\\merged\\root-project.root.v6-32-06.code_comment.pt_115.parquet\n",
      "Loaded C:\\Users\\Dmitrijs\\Documents\\myDocs\\masters\\courses\\thesis\\code\\data\\keywords_2\\merged\\root-project.root.v6-32-06.code_comment.pt_116.parquet\n",
      "Loaded C:\\Users\\Dmitrijs\\Documents\\myDocs\\masters\\courses\\thesis\\code\\data\\keywords_2\\merged\\root-project.root.v6-32-06.code_comment.pt_117.parquet\n",
      "Loaded C:\\Users\\Dmitrijs\\Documents\\myDocs\\masters\\courses\\thesis\\code\\data\\keywords_2\\merged\\root-project.root.v6-32-06.code_comment.pt_118.parquet\n",
      "Loaded C:\\Users\\Dmitrijs\\Documents\\myDocs\\masters\\courses\\thesis\\code\\data\\keywords_2\\merged\\root-project.root.v6-32-06.code_comment.pt_119.parquet\n",
      "Loaded C:\\Users\\Dmitrijs\\Documents\\myDocs\\masters\\courses\\thesis\\code\\data\\keywords_2\\merged\\root-project.root.v6-32-06.code_comment.pt_120.parquet\n",
      "Loaded C:\\Users\\Dmitrijs\\Documents\\myDocs\\masters\\courses\\thesis\\code\\data\\keywords_2\\merged\\root-project.root.v6-32-06.code_comment.pt_121.parquet\n",
      "Loaded C:\\Users\\Dmitrijs\\Documents\\myDocs\\masters\\courses\\thesis\\code\\data\\keywords_2\\merged\\root-project.root.v6-32-06.code_comment.pt_122.parquet\n",
      "Loaded C:\\Users\\Dmitrijs\\Documents\\myDocs\\masters\\courses\\thesis\\code\\data\\keywords_2\\merged\\root-project.root.v6-32-06.code_comment.pt_123.parquet\n",
      "Loaded C:\\Users\\Dmitrijs\\Documents\\myDocs\\masters\\courses\\thesis\\code\\data\\keywords_2\\merged\\root-project.root.v6-32-06.code_comment.pt_124.parquet\n",
      "Loaded C:\\Users\\Dmitrijs\\Documents\\myDocs\\masters\\courses\\thesis\\code\\data\\keywords_2\\merged\\root-project.root.v6-32-06.code_comment.pt_125.parquet\n",
      "Loaded C:\\Users\\Dmitrijs\\Documents\\myDocs\\masters\\courses\\thesis\\code\\data\\keywords_2\\merged\\root-project.root.v6-32-06.code_comment.pt_126.parquet\n",
      "Loaded C:\\Users\\Dmitrijs\\Documents\\myDocs\\masters\\courses\\thesis\\code\\data\\keywords_2\\merged\\root-project.root.v6-32-06.code_comment.pt_127.parquet\n",
      "Loaded C:\\Users\\Dmitrijs\\Documents\\myDocs\\masters\\courses\\thesis\\code\\data\\keywords_2\\merged\\root-project.root.v6-32-06.code_comment.pt_128.parquet\n",
      "Loaded C:\\Users\\Dmitrijs\\Documents\\myDocs\\masters\\courses\\thesis\\code\\data\\keywords_2\\merged\\root-project.root.v6-32-06.code_comment.pt_129.parquet\n",
      "Loaded C:\\Users\\Dmitrijs\\Documents\\myDocs\\masters\\courses\\thesis\\code\\data\\keywords_2\\merged\\root-project.root.v6-32-06.code_comment.pt_130.parquet\n",
      "Loaded C:\\Users\\Dmitrijs\\Documents\\myDocs\\masters\\courses\\thesis\\code\\data\\keywords_2\\merged\\root-project.root.v6-32-06.code_comment.pt_131.parquet\n",
      "Loaded C:\\Users\\Dmitrijs\\Documents\\myDocs\\masters\\courses\\thesis\\code\\data\\keywords_2\\merged\\root-project.root.v6-32-06.code_comment.pt_132.parquet\n",
      "Loaded C:\\Users\\Dmitrijs\\Documents\\myDocs\\masters\\courses\\thesis\\code\\data\\keywords_2\\merged\\root-project.root.v6-32-06.code_comment.pt_133.parquet\n",
      "Loaded C:\\Users\\Dmitrijs\\Documents\\myDocs\\masters\\courses\\thesis\\code\\data\\keywords_2\\merged\\root-project.root.v6-32-06.code_comment.pt_134.parquet\n",
      "Loaded C:\\Users\\Dmitrijs\\Documents\\myDocs\\masters\\courses\\thesis\\code\\data\\keywords_2\\merged\\root-project.root.v6-32-06.code_comment.pt_135.parquet\n",
      "Loaded C:\\Users\\Dmitrijs\\Documents\\myDocs\\masters\\courses\\thesis\\code\\data\\keywords_2\\merged\\root-project.root.v6-32-06.code_comment.pt_136.parquet\n",
      "Loaded C:\\Users\\Dmitrijs\\Documents\\myDocs\\masters\\courses\\thesis\\code\\data\\keywords_2\\merged\\root-project.root.v6-32-06.code_comment.pt_137.parquet\n",
      "Loaded C:\\Users\\Dmitrijs\\Documents\\myDocs\\masters\\courses\\thesis\\code\\data\\keywords_2\\merged\\root-project.root.v6-32-06.code_comment.pt_138.parquet\n",
      "Loaded C:\\Users\\Dmitrijs\\Documents\\myDocs\\masters\\courses\\thesis\\code\\data\\keywords_2\\merged\\root-project.root.v6-32-06.code_comment.pt_139.parquet\n",
      "Loaded C:\\Users\\Dmitrijs\\Documents\\myDocs\\masters\\courses\\thesis\\code\\data\\keywords_2\\merged\\root-project.root.v6-32-06.code_comment.pt_140.parquet\n",
      "Loaded C:\\Users\\Dmitrijs\\Documents\\myDocs\\masters\\courses\\thesis\\code\\data\\keywords_2\\merged\\root-project.root.v6-32-06.code_comment.pt_141.parquet\n",
      "Loaded C:\\Users\\Dmitrijs\\Documents\\myDocs\\masters\\courses\\thesis\\code\\data\\keywords_2\\merged\\root-project.root.v6-32-06.code_comment.pt_142.parquet\n",
      "Loaded C:\\Users\\Dmitrijs\\Documents\\myDocs\\masters\\courses\\thesis\\code\\data\\keywords_2\\merged\\root-project.root.v6-32-06.code_comment.pt_143.parquet\n",
      "Loaded C:\\Users\\Dmitrijs\\Documents\\myDocs\\masters\\courses\\thesis\\code\\data\\keywords_2\\merged\\root-project.root.v6-32-06.code_comment.pt_144.parquet\n",
      "Loaded C:\\Users\\Dmitrijs\\Documents\\myDocs\\masters\\courses\\thesis\\code\\data\\keywords_2\\merged\\root-project.root.v6-32-06.code_comment.pt_145.parquet\n",
      "Loaded C:\\Users\\Dmitrijs\\Documents\\myDocs\\masters\\courses\\thesis\\code\\data\\keywords_2\\merged\\root-project.root.v6-32-06.code_comment.pt_146.parquet\n",
      "Loaded C:\\Users\\Dmitrijs\\Documents\\myDocs\\masters\\courses\\thesis\\code\\data\\keywords_2\\merged\\root-project.root.v6-32-06.code_comment.pt_147.parquet\n",
      "Loaded C:\\Users\\Dmitrijs\\Documents\\myDocs\\masters\\courses\\thesis\\code\\data\\keywords_2\\merged\\root-project.root.v6-32-06.code_comment.pt_148.parquet\n",
      "Loaded C:\\Users\\Dmitrijs\\Documents\\myDocs\\masters\\courses\\thesis\\code\\data\\keywords_2\\merged\\root-project.root.v6-32-06.code_comment.pt_149.parquet\n",
      "Loaded C:\\Users\\Dmitrijs\\Documents\\myDocs\\masters\\courses\\thesis\\code\\data\\keywords_2\\merged\\root-project.root.v6-32-06.code_comment.pt_150.parquet\n",
      "Loaded C:\\Users\\Dmitrijs\\Documents\\myDocs\\masters\\courses\\thesis\\code\\data\\keywords_2\\merged\\root-project.root.v6-32-06.code_comment.pt_151.parquet\n",
      "Loaded C:\\Users\\Dmitrijs\\Documents\\myDocs\\masters\\courses\\thesis\\code\\data\\keywords_2\\merged\\root-project.root.v6-32-06.code_comment.pt_152.parquet\n",
      "Loaded C:\\Users\\Dmitrijs\\Documents\\myDocs\\masters\\courses\\thesis\\code\\data\\keywords_2\\merged\\root-project.root.v6-32-06.code_comment.pt_153.parquet\n",
      "Loaded C:\\Users\\Dmitrijs\\Documents\\myDocs\\masters\\courses\\thesis\\code\\data\\keywords_2\\merged\\root-project.root.v6-32-06.code_comment.pt_154.parquet\n",
      "Loaded C:\\Users\\Dmitrijs\\Documents\\myDocs\\masters\\courses\\thesis\\code\\data\\keywords_2\\merged\\root-project.root.v6-32-06.code_comment.pt_155.parquet\n",
      "Loaded C:\\Users\\Dmitrijs\\Documents\\myDocs\\masters\\courses\\thesis\\code\\data\\keywords_2\\merged\\root-project.root.v6-32-06.code_comment.pt_156.parquet\n",
      "Loaded C:\\Users\\Dmitrijs\\Documents\\myDocs\\masters\\courses\\thesis\\code\\data\\keywords_2\\merged\\root-project.root.v6-32-06.code_comment.pt_157.parquet\n",
      "Loaded C:\\Users\\Dmitrijs\\Documents\\myDocs\\masters\\courses\\thesis\\code\\data\\keywords_2\\merged\\root-project.root.v6-32-06.code_comment.pt_158.parquet\n",
      "Loaded C:\\Users\\Dmitrijs\\Documents\\myDocs\\masters\\courses\\thesis\\code\\data\\keywords_2\\merged\\root-project.root.v6-32-06.code_comment.pt_159.parquet\n",
      "Loaded C:\\Users\\Dmitrijs\\Documents\\myDocs\\masters\\courses\\thesis\\code\\data\\keywords_2\\merged\\root-project.root.v6-32-06.code_comment.pt_160.parquet\n",
      "Loaded C:\\Users\\Dmitrijs\\Documents\\myDocs\\masters\\courses\\thesis\\code\\data\\keywords_2\\merged\\root-project.root.v6-32-06.docs.parquet\n",
      "Loaded C:\\Users\\Dmitrijs\\Documents\\myDocs\\masters\\courses\\thesis\\code\\data\\keywords_2\\merged\\root-project.root.v6-32-06.docs.pt_02.parquet\n",
      "Loaded C:\\Users\\Dmitrijs\\Documents\\myDocs\\masters\\courses\\thesis\\code\\data\\keywords_2\\merged\\root-project.root.v6-32-06.docs.pt_03.parquet\n",
      "Loaded C:\\Users\\Dmitrijs\\Documents\\myDocs\\masters\\courses\\thesis\\code\\data\\keywords_2\\merged\\root-project.root.v6-32-06.docs.pt_04.parquet\n",
      "Loaded C:\\Users\\Dmitrijs\\Documents\\myDocs\\masters\\courses\\thesis\\code\\data\\keywords_2\\merged\\root-project.root.v6-32-06.docs.pt_05.parquet\n",
      "Loaded C:\\Users\\Dmitrijs\\Documents\\myDocs\\masters\\courses\\thesis\\code\\data\\keywords_2\\merged\\root-project.root.v6-32-06.docs.pt_06.parquet\n",
      "Loaded C:\\Users\\Dmitrijs\\Documents\\myDocs\\masters\\courses\\thesis\\code\\data\\keywords_2\\merged\\root-project.root.v6-32-06.docs.pt_07.parquet\n",
      "Loaded C:\\Users\\Dmitrijs\\Documents\\myDocs\\masters\\courses\\thesis\\code\\data\\keywords_2\\merged\\root-project.root.v6-32-06.docs.pt_08.parquet\n",
      "Loaded C:\\Users\\Dmitrijs\\Documents\\myDocs\\masters\\courses\\thesis\\code\\data\\keywords_2\\merged\\root-project.root.v6-32-06.docs.pt_09.parquet\n",
      "Loaded C:\\Users\\Dmitrijs\\Documents\\myDocs\\masters\\courses\\thesis\\code\\data\\keywords_2\\merged\\root-project.root.v6-32-06.docs.pt_10.parquet\n",
      "Loaded C:\\Users\\Dmitrijs\\Documents\\myDocs\\masters\\courses\\thesis\\code\\data\\keywords_2\\merged\\root-project.root.v6-32-06.docs.pt_11.parquet\n",
      "Loaded C:\\Users\\Dmitrijs\\Documents\\myDocs\\masters\\courses\\thesis\\code\\data\\keywords_2\\merged\\root-project.root.v6-32-06.docs.pt_12.parquet\n",
      "Loaded C:\\Users\\Dmitrijs\\Documents\\myDocs\\masters\\courses\\thesis\\code\\data\\keywords_2\\merged\\root-project.root.v6-32-06.docs.pt_13.parquet\n",
      "Loaded C:\\Users\\Dmitrijs\\Documents\\myDocs\\masters\\courses\\thesis\\code\\data\\keywords_2\\merged\\root-project.root.v6-32-06.docs.pt_14.parquet\n",
      "Loaded C:\\Users\\Dmitrijs\\Documents\\myDocs\\masters\\courses\\thesis\\code\\data\\keywords_2\\merged\\root-project.root.v6-32-06.docs.pt_15.parquet\n",
      "Loaded C:\\Users\\Dmitrijs\\Documents\\myDocs\\masters\\courses\\thesis\\code\\data\\keywords_2\\merged\\root-project.root.v6-32-06.docs.pt_16.parquet\n",
      "Loaded C:\\Users\\Dmitrijs\\Documents\\myDocs\\masters\\courses\\thesis\\code\\data\\keywords_2\\merged\\root-project.root.v6-32-06.docs.pt_17.parquet\n",
      "Loaded C:\\Users\\Dmitrijs\\Documents\\myDocs\\masters\\courses\\thesis\\code\\data\\keywords_2\\merged\\root-project.root.v6-32-06.docs.pt_18.parquet\n",
      "Loaded C:\\Users\\Dmitrijs\\Documents\\myDocs\\masters\\courses\\thesis\\code\\data\\keywords_2\\merged\\root-project.root.v6-32-06.docs.pt_19.parquet\n",
      "Loaded C:\\Users\\Dmitrijs\\Documents\\myDocs\\masters\\courses\\thesis\\code\\data\\keywords_2\\merged\\root-project.root.v6-32-06.docs.pt_20.parquet\n",
      "Loaded C:\\Users\\Dmitrijs\\Documents\\myDocs\\masters\\courses\\thesis\\code\\data\\keywords_2\\merged\\root-project.root.v6-32-06.docs.pt_21.parquet\n",
      "Loaded C:\\Users\\Dmitrijs\\Documents\\myDocs\\masters\\courses\\thesis\\code\\data\\keywords_2\\merged\\root-project.root.v6-32-06.docs.pt_22.parquet\n",
      "Loaded C:\\Users\\Dmitrijs\\Documents\\myDocs\\masters\\courses\\thesis\\code\\data\\keywords_2\\merged\\root-project.root.v6-32-06.docs.pt_23.parquet\n",
      "Loaded C:\\Users\\Dmitrijs\\Documents\\myDocs\\masters\\courses\\thesis\\code\\data\\keywords_2\\merged\\root-project.root.v6-32-06.docs.pt_24.parquet\n",
      "Loaded C:\\Users\\Dmitrijs\\Documents\\myDocs\\masters\\courses\\thesis\\code\\data\\keywords_2\\merged\\root-project.root.v6-32-06.docs.pt_25.parquet\n",
      "Loaded C:\\Users\\Dmitrijs\\Documents\\myDocs\\masters\\courses\\thesis\\code\\data\\keywords_2\\merged\\root-project.root.v6-32-06.docs.pt_26.parquet\n",
      "Loaded C:\\Users\\Dmitrijs\\Documents\\myDocs\\masters\\courses\\thesis\\code\\data\\keywords_2\\merged\\root-project.root.v6-32-06.docs.pt_27.parquet\n",
      "Loaded C:\\Users\\Dmitrijs\\Documents\\myDocs\\masters\\courses\\thesis\\code\\data\\keywords_2\\merged\\root-project.root.v6-32-06.docs.pt_28.parquet\n",
      "Loaded C:\\Users\\Dmitrijs\\Documents\\myDocs\\masters\\courses\\thesis\\code\\data\\keywords_2\\merged\\root-project.root.v6-32-06.docs.pt_29.parquet\n",
      "Loaded C:\\Users\\Dmitrijs\\Documents\\myDocs\\masters\\courses\\thesis\\code\\data\\keywords_2\\merged\\root-project.root.v6-32-06.docs.pt_30.parquet\n",
      "Loaded C:\\Users\\Dmitrijs\\Documents\\myDocs\\masters\\courses\\thesis\\code\\data\\keywords_2\\merged\\root-project.root.v6-32-06.docs.pt_31.parquet\n",
      "Loaded C:\\Users\\Dmitrijs\\Documents\\myDocs\\masters\\courses\\thesis\\code\\data\\keywords_2\\merged\\root-project.root.v6-32-06.docs.pt_32.parquet\n",
      "Loaded C:\\Users\\Dmitrijs\\Documents\\myDocs\\masters\\courses\\thesis\\code\\data\\keywords_2\\merged\\root-project.root.v6-32-06.docs.pt_33.parquet\n",
      "Loaded C:\\Users\\Dmitrijs\\Documents\\myDocs\\masters\\courses\\thesis\\code\\data\\keywords_2\\merged\\root-project.root.v6-32-06.docs.pt_34.parquet\n",
      "Loaded C:\\Users\\Dmitrijs\\Documents\\myDocs\\masters\\courses\\thesis\\code\\data\\keywords_2\\merged\\root-project.root.v6-32-06.docs.pt_35.parquet\n",
      "Loaded C:\\Users\\Dmitrijs\\Documents\\myDocs\\masters\\courses\\thesis\\code\\data\\keywords_2\\merged\\root-project.root.v6-32-06.docs.pt_36.parquet\n",
      "Loaded C:\\Users\\Dmitrijs\\Documents\\myDocs\\masters\\courses\\thesis\\code\\data\\keywords_2\\merged\\root-project.root.v6-32-06.docs.pt_37.parquet\n",
      "Loaded C:\\Users\\Dmitrijs\\Documents\\myDocs\\masters\\courses\\thesis\\code\\data\\keywords_2\\merged\\root-project.root.v6-32-06.docs.pt_38.parquet\n",
      "Loaded C:\\Users\\Dmitrijs\\Documents\\myDocs\\masters\\courses\\thesis\\code\\data\\keywords_2\\merged\\root-project.root.v6-32-06.docs.pt_39.parquet\n",
      "Loaded C:\\Users\\Dmitrijs\\Documents\\myDocs\\masters\\courses\\thesis\\code\\data\\keywords_2\\merged\\root-project.root.v6-32-06.docs.pt_40.parquet\n",
      "Loaded C:\\Users\\Dmitrijs\\Documents\\myDocs\\masters\\courses\\thesis\\code\\data\\keywords_2\\merged\\root-project.root.v6-32-06.docs.pt_41.parquet\n",
      "Loaded C:\\Users\\Dmitrijs\\Documents\\myDocs\\masters\\courses\\thesis\\code\\data\\keywords_2\\merged\\root-project.root.v6-32-06.docs.pt_42.parquet\n",
      "Loaded C:\\Users\\Dmitrijs\\Documents\\myDocs\\masters\\courses\\thesis\\code\\data\\keywords_2\\merged\\root-project.root.v6-32-06.docs.pt_43.parquet\n",
      "Loaded C:\\Users\\Dmitrijs\\Documents\\myDocs\\masters\\courses\\thesis\\code\\data\\keywords_2\\merged\\root-project.root.v6-32-06.docs.pt_44.parquet\n",
      "Loaded C:\\Users\\Dmitrijs\\Documents\\myDocs\\masters\\courses\\thesis\\code\\data\\keywords_2\\merged\\root-project.root.v6-32-06.docs.pt_45.parquet\n",
      "Loaded C:\\Users\\Dmitrijs\\Documents\\myDocs\\masters\\courses\\thesis\\code\\data\\keywords_2\\merged\\root-project.root.v6-32-06.docs.pt_46.parquet\n",
      "Loaded C:\\Users\\Dmitrijs\\Documents\\myDocs\\masters\\courses\\thesis\\code\\data\\keywords_2\\merged\\root-project.root.v6-32-06.docs.pt_47.parquet\n",
      "Loaded C:\\Users\\Dmitrijs\\Documents\\myDocs\\masters\\courses\\thesis\\code\\data\\keywords_2\\merged\\root-project.root.v6-32-06.docs.pt_48.parquet\n",
      "Loaded C:\\Users\\Dmitrijs\\Documents\\myDocs\\masters\\courses\\thesis\\code\\data\\keywords_2\\merged\\root-project.root.v6-32-06.docs.pt_49.parquet\n",
      "Loaded C:\\Users\\Dmitrijs\\Documents\\myDocs\\masters\\courses\\thesis\\code\\data\\keywords_2\\merged\\root-project.root.v6-32-06.issue.parquet\n",
      "Loaded C:\\Users\\Dmitrijs\\Documents\\myDocs\\masters\\courses\\thesis\\code\\data\\keywords_2\\merged\\root-project.root.v6-32-06.issue.pt_02.parquet\n",
      "Loaded C:\\Users\\Dmitrijs\\Documents\\myDocs\\masters\\courses\\thesis\\code\\data\\keywords_2\\merged\\root-project.root.v6-32-06.issue.pt_03.parquet\n",
      "Loaded C:\\Users\\Dmitrijs\\Documents\\myDocs\\masters\\courses\\thesis\\code\\data\\keywords_2\\merged\\root-project.root.v6-32-06.issue.pt_04.parquet\n",
      "Loaded C:\\Users\\Dmitrijs\\Documents\\myDocs\\masters\\courses\\thesis\\code\\data\\keywords_2\\merged\\root-project.root.v6-32-06.issue.pt_05.parquet\n",
      "Loaded C:\\Users\\Dmitrijs\\Documents\\myDocs\\masters\\courses\\thesis\\code\\data\\keywords_2\\merged\\root-project.root.v6-32-06.issue.pt_06.parquet\n",
      "Loaded C:\\Users\\Dmitrijs\\Documents\\myDocs\\masters\\courses\\thesis\\code\\data\\keywords_2\\merged\\root-project.root.v6-32-06.issue.pt_07.parquet\n",
      "Loaded C:\\Users\\Dmitrijs\\Documents\\myDocs\\masters\\courses\\thesis\\code\\data\\keywords_2\\merged\\root-project.root.v6-32-06.issue.pt_08.parquet\n",
      "Loaded C:\\Users\\Dmitrijs\\Documents\\myDocs\\masters\\courses\\thesis\\code\\data\\keywords_2\\merged\\root-project.root.v6-32-06.issue.pt_09.parquet\n",
      "Loaded C:\\Users\\Dmitrijs\\Documents\\myDocs\\masters\\courses\\thesis\\code\\data\\keywords_2\\merged\\root-project.root.v6-32-06.issue.pt_10.parquet\n",
      "Loaded C:\\Users\\Dmitrijs\\Documents\\myDocs\\masters\\courses\\thesis\\code\\data\\keywords_2\\merged\\root-project.root.v6-32-06.issue.pt_11.parquet\n",
      "Loaded C:\\Users\\Dmitrijs\\Documents\\myDocs\\masters\\courses\\thesis\\code\\data\\keywords_2\\merged\\root-project.root.v6-32-06.issue.pt_12.parquet\n",
      "Loaded C:\\Users\\Dmitrijs\\Documents\\myDocs\\masters\\courses\\thesis\\code\\data\\keywords_2\\merged\\root-project.root.v6-32-06.issue.pt_13.parquet\n",
      "Loaded C:\\Users\\Dmitrijs\\Documents\\myDocs\\masters\\courses\\thesis\\code\\data\\keywords_2\\merged\\root-project.root.v6-32-06.issue.pt_14.parquet\n",
      "Loaded C:\\Users\\Dmitrijs\\Documents\\myDocs\\masters\\courses\\thesis\\code\\data\\keywords_2\\merged\\root-project.root.v6-32-06.issue.pt_15.parquet\n",
      "Loaded C:\\Users\\Dmitrijs\\Documents\\myDocs\\masters\\courses\\thesis\\code\\data\\keywords_2\\merged\\root-project.root.v6-32-06.issue.pt_16.parquet\n",
      "Loaded C:\\Users\\Dmitrijs\\Documents\\myDocs\\masters\\courses\\thesis\\code\\data\\keywords_2\\merged\\root-project.root.v6-32-06.issue.pt_17.parquet\n",
      "Loaded C:\\Users\\Dmitrijs\\Documents\\myDocs\\masters\\courses\\thesis\\code\\data\\keywords_2\\merged\\root-project.root.v6-32-06.issue.pt_18.parquet\n",
      "Loaded C:\\Users\\Dmitrijs\\Documents\\myDocs\\masters\\courses\\thesis\\code\\data\\keywords_2\\merged\\root-project.root.v6-32-06.issue.pt_19.parquet\n",
      "Loaded C:\\Users\\Dmitrijs\\Documents\\myDocs\\masters\\courses\\thesis\\code\\data\\keywords_2\\merged\\root-project.root.v6-32-06.issue.pt_20.parquet\n",
      "Loaded C:\\Users\\Dmitrijs\\Documents\\myDocs\\masters\\courses\\thesis\\code\\data\\keywords_2\\merged\\root-project.root.v6-32-06.issue.pt_21.parquet\n",
      "Loaded C:\\Users\\Dmitrijs\\Documents\\myDocs\\masters\\courses\\thesis\\code\\data\\keywords_2\\merged\\root-project.root.v6-32-06.issue.pt_22.parquet\n",
      "Loaded C:\\Users\\Dmitrijs\\Documents\\myDocs\\masters\\courses\\thesis\\code\\data\\keywords_2\\merged\\root-project.root.v6-32-06.issue.pt_23.parquet\n",
      "Loaded C:\\Users\\Dmitrijs\\Documents\\myDocs\\masters\\courses\\thesis\\code\\data\\keywords_2\\merged\\root-project.root.v6-32-06.issue.pt_24.parquet\n",
      "Loaded C:\\Users\\Dmitrijs\\Documents\\myDocs\\masters\\courses\\thesis\\code\\data\\keywords_2\\merged\\root-project.root.v6-32-06.issue.pt_25.parquet\n",
      "Loaded C:\\Users\\Dmitrijs\\Documents\\myDocs\\masters\\courses\\thesis\\code\\data\\keywords_2\\merged\\root-project.root.v6-32-06.issue.pt_26.parquet\n",
      "Loaded C:\\Users\\Dmitrijs\\Documents\\myDocs\\masters\\courses\\thesis\\code\\data\\keywords_2\\merged\\root-project.root.v6-32-06.issue.pt_27.parquet\n",
      "Loaded C:\\Users\\Dmitrijs\\Documents\\myDocs\\masters\\courses\\thesis\\code\\data\\keywords_2\\merged\\root-project.root.v6-32-06.issue.pt_28.parquet\n",
      "Loaded C:\\Users\\Dmitrijs\\Documents\\myDocs\\masters\\courses\\thesis\\code\\data\\keywords_2\\merged\\root-project.root.v6-32-06.issue.pt_29.parquet\n",
      "Loaded C:\\Users\\Dmitrijs\\Documents\\myDocs\\masters\\courses\\thesis\\code\\data\\keywords_2\\merged\\root-project.root.v6-32-06.issue.pt_30.parquet\n",
      "Loaded C:\\Users\\Dmitrijs\\Documents\\myDocs\\masters\\courses\\thesis\\code\\data\\keywords_2\\merged\\root-project.root.v6-32-06.issue.pt_31.parquet\n",
      "Loaded C:\\Users\\Dmitrijs\\Documents\\myDocs\\masters\\courses\\thesis\\code\\data\\keywords_2\\merged\\root-project.root.v6-32-06.issue.pt_32.parquet\n",
      "Loaded C:\\Users\\Dmitrijs\\Documents\\myDocs\\masters\\courses\\thesis\\code\\data\\keywords_2\\merged\\root-project.root.v6-32-06.issue.pt_33.parquet\n",
      "Loaded C:\\Users\\Dmitrijs\\Documents\\myDocs\\masters\\courses\\thesis\\code\\data\\keywords_2\\merged\\root-project.root.v6-32-06.issue_comment.parquet\n",
      "Loaded C:\\Users\\Dmitrijs\\Documents\\myDocs\\masters\\courses\\thesis\\code\\data\\keywords_2\\merged\\root-project.root.v6-32-06.issue_comment.pt_02.parquet\n",
      "Loaded C:\\Users\\Dmitrijs\\Documents\\myDocs\\masters\\courses\\thesis\\code\\data\\keywords_2\\merged\\root-project.root.v6-32-06.issue_comment.pt_03.parquet\n",
      "Loaded C:\\Users\\Dmitrijs\\Documents\\myDocs\\masters\\courses\\thesis\\code\\data\\keywords_2\\merged\\root-project.root.v6-32-06.issue_comment.pt_04.parquet\n",
      "Loaded C:\\Users\\Dmitrijs\\Documents\\myDocs\\masters\\courses\\thesis\\code\\data\\keywords_2\\merged\\root-project.root.v6-32-06.issue_comment.pt_05.parquet\n",
      "Loaded C:\\Users\\Dmitrijs\\Documents\\myDocs\\masters\\courses\\thesis\\code\\data\\keywords_2\\merged\\root-project.root.v6-32-06.issue_comment.pt_06.parquet\n",
      "Loaded C:\\Users\\Dmitrijs\\Documents\\myDocs\\masters\\courses\\thesis\\code\\data\\keywords_2\\merged\\root-project.root.v6-32-06.issue_comment.pt_07.parquet\n",
      "Loaded C:\\Users\\Dmitrijs\\Documents\\myDocs\\masters\\courses\\thesis\\code\\data\\keywords_2\\merged\\root-project.root.v6-32-06.issue_comment.pt_08.parquet\n",
      "Loaded C:\\Users\\Dmitrijs\\Documents\\myDocs\\masters\\courses\\thesis\\code\\data\\keywords_2\\merged\\root-project.root.v6-32-06.issue_comment.pt_09.parquet\n",
      "Loaded C:\\Users\\Dmitrijs\\Documents\\myDocs\\masters\\courses\\thesis\\code\\data\\keywords_2\\merged\\root-project.root.v6-32-06.issue_comment.pt_10.parquet\n",
      "Loaded C:\\Users\\Dmitrijs\\Documents\\myDocs\\masters\\courses\\thesis\\code\\data\\keywords_2\\merged\\root-project.root.v6-32-06.issue_comment.pt_11.parquet\n",
      "Loaded C:\\Users\\Dmitrijs\\Documents\\myDocs\\masters\\courses\\thesis\\code\\data\\keywords_2\\merged\\root-project.root.v6-32-06.issue_comment.pt_12.parquet\n",
      "Loaded C:\\Users\\Dmitrijs\\Documents\\myDocs\\masters\\courses\\thesis\\code\\data\\keywords_2\\merged\\root-project.root.v6-32-06.issue_comment.pt_13.parquet\n",
      "Loaded C:\\Users\\Dmitrijs\\Documents\\myDocs\\masters\\courses\\thesis\\code\\data\\keywords_2\\merged\\root-project.root.v6-32-06.issue_comment.pt_14.parquet\n",
      "Loaded C:\\Users\\Dmitrijs\\Documents\\myDocs\\masters\\courses\\thesis\\code\\data\\keywords_2\\merged\\root-project.root.v6-32-06.issue_comment.pt_15.parquet\n",
      "Loaded C:\\Users\\Dmitrijs\\Documents\\myDocs\\masters\\courses\\thesis\\code\\data\\keywords_2\\merged\\root-project.root.v6-32-06.issue_comment.pt_16.parquet\n",
      "Loaded C:\\Users\\Dmitrijs\\Documents\\myDocs\\masters\\courses\\thesis\\code\\data\\keywords_2\\merged\\root-project.root.v6-32-06.issue_comment.pt_17.parquet\n",
      "Loaded C:\\Users\\Dmitrijs\\Documents\\myDocs\\masters\\courses\\thesis\\code\\data\\keywords_2\\merged\\root-project.root.v6-32-06.issue_comment.pt_18.parquet\n",
      "Loaded C:\\Users\\Dmitrijs\\Documents\\myDocs\\masters\\courses\\thesis\\code\\data\\keywords_2\\merged\\root-project.root.v6-32-06.issue_comment.pt_19.parquet\n",
      "Loaded C:\\Users\\Dmitrijs\\Documents\\myDocs\\masters\\courses\\thesis\\code\\data\\keywords_2\\merged\\root-project.root.v6-32-06.issue_comment.pt_20.parquet\n",
      "Loaded C:\\Users\\Dmitrijs\\Documents\\myDocs\\masters\\courses\\thesis\\code\\data\\keywords_2\\merged\\root-project.root.v6-32-06.issue_comment.pt_21.parquet\n",
      "Loaded C:\\Users\\Dmitrijs\\Documents\\myDocs\\masters\\courses\\thesis\\code\\data\\keywords_2\\merged\\root-project.root.v6-32-06.issue_comment.pt_22.parquet\n",
      "Error while loading C:\\Users\\Dmitrijs\\Documents\\myDocs\\masters\\courses\\thesis\\code\\data\\keywords_2\\merged\\root-project.root.v6-32-06.issue_comment.pt_23.parquet\n",
      "Loaded C:\\Users\\Dmitrijs\\Documents\\myDocs\\masters\\courses\\thesis\\code\\data\\keywords_2\\merged\\root-project.root.v6-32-06.issue_comment.pt_24.parquet\n",
      "Loaded C:\\Users\\Dmitrijs\\Documents\\myDocs\\masters\\courses\\thesis\\code\\data\\keywords_2\\merged\\root-project.root.v6-32-06.issue_comment.pt_25.parquet\n",
      "Loaded C:\\Users\\Dmitrijs\\Documents\\myDocs\\masters\\courses\\thesis\\code\\data\\keywords_2\\merged\\root-project.root.v6-32-06.issue_comment.pt_26.parquet\n",
      "Loaded C:\\Users\\Dmitrijs\\Documents\\myDocs\\masters\\courses\\thesis\\code\\data\\keywords_2\\merged\\root-project.root.v6-32-06.issue_comment.pt_27.parquet\n",
      "Loaded C:\\Users\\Dmitrijs\\Documents\\myDocs\\masters\\courses\\thesis\\code\\data\\keywords_2\\merged\\root-project.root.v6-32-06.issue_comment.pt_28.parquet\n",
      "Loaded C:\\Users\\Dmitrijs\\Documents\\myDocs\\masters\\courses\\thesis\\code\\data\\keywords_2\\merged\\root-project.root.v6-32-06.issue_comment.pt_29.parquet\n",
      "Loaded C:\\Users\\Dmitrijs\\Documents\\myDocs\\masters\\courses\\thesis\\code\\data\\keywords_2\\merged\\root-project.root.v6-32-06.issue_comment.pt_30.parquet\n",
      "Loaded C:\\Users\\Dmitrijs\\Documents\\myDocs\\masters\\courses\\thesis\\code\\data\\keywords_2\\merged\\root-project.root.v6-32-06.issue_comment.pt_31.parquet\n",
      "Error while loading C:\\Users\\Dmitrijs\\Documents\\myDocs\\masters\\courses\\thesis\\code\\data\\keywords_2\\merged\\root-project.root.v6-32-06.issue_comment.pt_32.parquet\n",
      "Error while loading C:\\Users\\Dmitrijs\\Documents\\myDocs\\masters\\courses\\thesis\\code\\data\\keywords_2\\merged\\root-project.root.v6-32-06.issue_comment.pt_33.parquet\n",
      "Loaded C:\\Users\\Dmitrijs\\Documents\\myDocs\\masters\\courses\\thesis\\code\\data\\keywords_2\\merged\\root-project.root.v6-32-06.issue_comment.pt_34.parquet\n",
      "Loaded C:\\Users\\Dmitrijs\\Documents\\myDocs\\masters\\courses\\thesis\\code\\data\\keywords_2\\merged\\root-project.root.v6-32-06.release.parquet\n",
      "Error while loading C:\\Users\\Dmitrijs\\Documents\\myDocs\\masters\\courses\\thesis\\code\\data\\keywords_2\\merged\\root-project.root.v6-32-06.wiki.parquet\n",
      "Loaded C:\\Users\\Dmitrijs\\Documents\\myDocs\\masters\\courses\\thesis\\code\\data\\keywords_2\\merged\\root-project.root.v6-32-06.wiki.pt_2.parquet\n",
      "Error while loading C:\\Users\\Dmitrijs\\Documents\\myDocs\\masters\\courses\\thesis\\code\\data\\keywords_2\\merged\\scverse.scanpy.1.10.2.code_comment.parquet\n",
      "Loaded C:\\Users\\Dmitrijs\\Documents\\myDocs\\masters\\courses\\thesis\\code\\data\\keywords_2\\merged\\scverse.scanpy.1.10.2.code_comment.pt_2.parquet\n",
      "Loaded C:\\Users\\Dmitrijs\\Documents\\myDocs\\masters\\courses\\thesis\\code\\data\\keywords_2\\merged\\scverse.scanpy.1.10.2.docs.parquet\n",
      "Error while loading C:\\Users\\Dmitrijs\\Documents\\myDocs\\masters\\courses\\thesis\\code\\data\\keywords_2\\merged\\scverse.scanpy.1.10.2.issue.parquet\n",
      "Error while loading C:\\Users\\Dmitrijs\\Documents\\myDocs\\masters\\courses\\thesis\\code\\data\\keywords_2\\merged\\scverse.scanpy.1.10.2.issue.pt_2.parquet\n",
      "Error while loading C:\\Users\\Dmitrijs\\Documents\\myDocs\\masters\\courses\\thesis\\code\\data\\keywords_2\\merged\\scverse.scanpy.1.10.2.issue.pt_3.parquet\n",
      "Error while loading C:\\Users\\Dmitrijs\\Documents\\myDocs\\masters\\courses\\thesis\\code\\data\\keywords_2\\merged\\scverse.scanpy.1.10.2.issue.pt_4.parquet\n",
      "Error while loading C:\\Users\\Dmitrijs\\Documents\\myDocs\\masters\\courses\\thesis\\code\\data\\keywords_2\\merged\\scverse.scanpy.1.10.2.issue.pt_5.parquet\n",
      "Error while loading C:\\Users\\Dmitrijs\\Documents\\myDocs\\masters\\courses\\thesis\\code\\data\\keywords_2\\merged\\scverse.scanpy.1.10.2.issue.pt_6.parquet\n",
      "Error while loading C:\\Users\\Dmitrijs\\Documents\\myDocs\\masters\\courses\\thesis\\code\\data\\keywords_2\\merged\\scverse.scanpy.1.10.2.issue.pt_7.parquet\n",
      "Error while loading C:\\Users\\Dmitrijs\\Documents\\myDocs\\masters\\courses\\thesis\\code\\data\\keywords_2\\merged\\scverse.scanpy.1.10.2.issue.pt_8.parquet\n",
      "Loaded C:\\Users\\Dmitrijs\\Documents\\myDocs\\masters\\courses\\thesis\\code\\data\\keywords_2\\merged\\scverse.scanpy.1.10.2.issue.pt_9.parquet\n",
      "Error while loading C:\\Users\\Dmitrijs\\Documents\\myDocs\\masters\\courses\\thesis\\code\\data\\keywords_2\\merged\\scverse.scanpy.1.10.2.issue_comment.parquet\n",
      "Error while loading C:\\Users\\Dmitrijs\\Documents\\myDocs\\masters\\courses\\thesis\\code\\data\\keywords_2\\merged\\scverse.scanpy.1.10.2.issue_comment.pt_02.parquet\n",
      "Error while loading C:\\Users\\Dmitrijs\\Documents\\myDocs\\masters\\courses\\thesis\\code\\data\\keywords_2\\merged\\scverse.scanpy.1.10.2.issue_comment.pt_03.parquet\n",
      "Error while loading C:\\Users\\Dmitrijs\\Documents\\myDocs\\masters\\courses\\thesis\\code\\data\\keywords_2\\merged\\scverse.scanpy.1.10.2.issue_comment.pt_04.parquet\n",
      "Error while loading C:\\Users\\Dmitrijs\\Documents\\myDocs\\masters\\courses\\thesis\\code\\data\\keywords_2\\merged\\scverse.scanpy.1.10.2.issue_comment.pt_05.parquet\n",
      "Error while loading C:\\Users\\Dmitrijs\\Documents\\myDocs\\masters\\courses\\thesis\\code\\data\\keywords_2\\merged\\scverse.scanpy.1.10.2.issue_comment.pt_06.parquet\n",
      "Error while loading C:\\Users\\Dmitrijs\\Documents\\myDocs\\masters\\courses\\thesis\\code\\data\\keywords_2\\merged\\scverse.scanpy.1.10.2.issue_comment.pt_07.parquet\n",
      "Error while loading C:\\Users\\Dmitrijs\\Documents\\myDocs\\masters\\courses\\thesis\\code\\data\\keywords_2\\merged\\scverse.scanpy.1.10.2.issue_comment.pt_08.parquet\n",
      "Error while loading C:\\Users\\Dmitrijs\\Documents\\myDocs\\masters\\courses\\thesis\\code\\data\\keywords_2\\merged\\scverse.scanpy.1.10.2.issue_comment.pt_09.parquet\n",
      "Error while loading C:\\Users\\Dmitrijs\\Documents\\myDocs\\masters\\courses\\thesis\\code\\data\\keywords_2\\merged\\scverse.scanpy.1.10.2.issue_comment.pt_10.parquet\n",
      "Error while loading C:\\Users\\Dmitrijs\\Documents\\myDocs\\masters\\courses\\thesis\\code\\data\\keywords_2\\merged\\scverse.scanpy.1.10.2.issue_comment.pt_11.parquet\n",
      "Error while loading C:\\Users\\Dmitrijs\\Documents\\myDocs\\masters\\courses\\thesis\\code\\data\\keywords_2\\merged\\scverse.scanpy.1.10.2.wiki.parquet\n",
      "Error while loading C:\\Users\\Dmitrijs\\Documents\\myDocs\\masters\\courses\\thesis\\code\\data\\keywords_2\\merged\\scverse.scanpy.1.10.2.wiki.pt_2.parquet\n"
     ]
    },
    {
     "ename": "MemoryError",
     "evalue": "Unable to allocate 11.2 MiB for an array with shape (1473965,) and data type int64",
     "output_type": "error",
     "traceback": [
      "\u001B[1;31m---------------------------------------------------------------------------\u001B[0m",
      "\u001B[1;31mMemoryError\u001B[0m                               Traceback (most recent call last)",
      "Cell \u001B[1;32mIn[2], line 5\u001B[0m\n\u001B[0;32m      2\u001B[0m \u001B[38;5;28;01mfrom\u001B[39;00m\u001B[38;5;250m \u001B[39m\u001B[38;5;21;01mprocessing_pipeline\u001B[39;00m\u001B[38;5;21;01m.\u001B[39;00m\u001B[38;5;21;01mutilities\u001B[39;00m\u001B[38;5;21;01m.\u001B[39;00m\u001B[38;5;21;01mdata_transformation\u001B[39;00m\u001B[38;5;250m \u001B[39m\u001B[38;5;28;01mimport\u001B[39;00m load_all_files\n\u001B[0;32m      4\u001B[0m in_dir \u001B[38;5;241m=\u001B[39m AbsDirPath\u001B[38;5;241m.\u001B[39mMERGED\n\u001B[1;32m----> 5\u001B[0m df \u001B[38;5;241m=\u001B[39m \u001B[43mload_all_files\u001B[49m\u001B[43m(\u001B[49m\u001B[43min_dir\u001B[49m\u001B[43m)\u001B[49m\n",
      "File \u001B[1;32m~\\Documents\\myDocs\\masters\\courses\\thesis\\code\\processing_pipeline\\utilities\\data_transformation.py:36\u001B[0m, in \u001B[0;36mload_all_files\u001B[1;34m(in_dir, name_contains)\u001B[0m\n\u001B[0;32m     33\u001B[0m     \u001B[38;5;28;01mexcept\u001B[39;00m:\n\u001B[0;32m     34\u001B[0m         \u001B[38;5;28mprint\u001B[39m(\u001B[38;5;124mf\u001B[39m\u001B[38;5;124m\"\u001B[39m\u001B[38;5;124mError while loading \u001B[39m\u001B[38;5;132;01m{\u001B[39;00mfile_path\u001B[38;5;132;01m}\u001B[39;00m\u001B[38;5;124m\"\u001B[39m)\n\u001B[1;32m---> 36\u001B[0m df \u001B[38;5;241m=\u001B[39m \u001B[43mpd\u001B[49m\u001B[38;5;241;43m.\u001B[39;49m\u001B[43mconcat\u001B[49m\u001B[43m(\u001B[49m\u001B[43mdfs\u001B[49m\u001B[43m)\u001B[49m\n\u001B[0;32m     37\u001B[0m \u001B[38;5;28;01mreturn\u001B[39;00m df\n",
      "File \u001B[1;32m~\\Documents\\myDocs\\masters\\courses\\thesis\\code\\.venv\\Lib\\site-packages\\pandas\\core\\reshape\\concat.py:395\u001B[0m, in \u001B[0;36mconcat\u001B[1;34m(objs, axis, join, ignore_index, keys, levels, names, verify_integrity, sort, copy)\u001B[0m\n\u001B[0;32m    380\u001B[0m     copy \u001B[38;5;241m=\u001B[39m \u001B[38;5;28;01mFalse\u001B[39;00m\n\u001B[0;32m    382\u001B[0m op \u001B[38;5;241m=\u001B[39m _Concatenator(\n\u001B[0;32m    383\u001B[0m     objs,\n\u001B[0;32m    384\u001B[0m     axis\u001B[38;5;241m=\u001B[39maxis,\n\u001B[1;32m   (...)\u001B[0m\n\u001B[0;32m    392\u001B[0m     sort\u001B[38;5;241m=\u001B[39msort,\n\u001B[0;32m    393\u001B[0m )\n\u001B[1;32m--> 395\u001B[0m \u001B[38;5;28;01mreturn\u001B[39;00m \u001B[43mop\u001B[49m\u001B[38;5;241;43m.\u001B[39;49m\u001B[43mget_result\u001B[49m\u001B[43m(\u001B[49m\u001B[43m)\u001B[49m\n",
      "File \u001B[1;32m~\\Documents\\myDocs\\masters\\courses\\thesis\\code\\.venv\\Lib\\site-packages\\pandas\\core\\reshape\\concat.py:671\u001B[0m, in \u001B[0;36m_Concatenator.get_result\u001B[1;34m(self)\u001B[0m\n\u001B[0;32m    669\u001B[0m \u001B[38;5;28;01mfor\u001B[39;00m obj \u001B[38;5;129;01min\u001B[39;00m \u001B[38;5;28mself\u001B[39m\u001B[38;5;241m.\u001B[39mobjs:\n\u001B[0;32m    670\u001B[0m     indexers \u001B[38;5;241m=\u001B[39m {}\n\u001B[1;32m--> 671\u001B[0m     \u001B[38;5;28;01mfor\u001B[39;00m ax, new_labels \u001B[38;5;129;01min\u001B[39;00m \u001B[38;5;28menumerate\u001B[39m(\u001B[38;5;28;43mself\u001B[39;49m\u001B[38;5;241;43m.\u001B[39;49m\u001B[43mnew_axes\u001B[49m):\n\u001B[0;32m    672\u001B[0m         \u001B[38;5;66;03m# ::-1 to convert BlockManager ax to DataFrame ax\u001B[39;00m\n\u001B[0;32m    673\u001B[0m         \u001B[38;5;28;01mif\u001B[39;00m ax \u001B[38;5;241m==\u001B[39m \u001B[38;5;28mself\u001B[39m\u001B[38;5;241m.\u001B[39mbm_axis:\n\u001B[0;32m    674\u001B[0m             \u001B[38;5;66;03m# Suppress reindexing on concat axis\u001B[39;00m\n\u001B[0;32m    675\u001B[0m             \u001B[38;5;28;01mcontinue\u001B[39;00m\n",
      "File \u001B[1;32mpandas/_libs/properties.pyx:36\u001B[0m, in \u001B[0;36mpandas._libs.properties.CachedProperty.__get__\u001B[1;34m()\u001B[0m\n",
      "File \u001B[1;32m~\\Documents\\myDocs\\masters\\courses\\thesis\\code\\.venv\\Lib\\site-packages\\pandas\\core\\reshape\\concat.py:703\u001B[0m, in \u001B[0;36m_Concatenator.new_axes\u001B[1;34m(self)\u001B[0m\n\u001B[0;32m    699\u001B[0m \u001B[38;5;129m@cache_readonly\u001B[39m\n\u001B[0;32m    700\u001B[0m \u001B[38;5;28;01mdef\u001B[39;00m\u001B[38;5;250m \u001B[39m\u001B[38;5;21mnew_axes\u001B[39m(\u001B[38;5;28mself\u001B[39m) \u001B[38;5;241m-\u001B[39m\u001B[38;5;241m>\u001B[39m \u001B[38;5;28mlist\u001B[39m[Index]:\n\u001B[0;32m    701\u001B[0m     ndim \u001B[38;5;241m=\u001B[39m \u001B[38;5;28mself\u001B[39m\u001B[38;5;241m.\u001B[39m_get_result_dim()\n\u001B[0;32m    702\u001B[0m     \u001B[38;5;28;01mreturn\u001B[39;00m [\n\u001B[1;32m--> 703\u001B[0m         \u001B[38;5;28;43mself\u001B[39;49m\u001B[38;5;241;43m.\u001B[39;49m\u001B[43m_get_concat_axis\u001B[49m \u001B[38;5;28;01mif\u001B[39;00m i \u001B[38;5;241m==\u001B[39m \u001B[38;5;28mself\u001B[39m\u001B[38;5;241m.\u001B[39mbm_axis \u001B[38;5;28;01melse\u001B[39;00m \u001B[38;5;28mself\u001B[39m\u001B[38;5;241m.\u001B[39m_get_comb_axis(i)\n\u001B[0;32m    704\u001B[0m         \u001B[38;5;28;01mfor\u001B[39;00m i \u001B[38;5;129;01min\u001B[39;00m \u001B[38;5;28mrange\u001B[39m(ndim)\n\u001B[0;32m    705\u001B[0m     ]\n",
      "File \u001B[1;32mpandas/_libs/properties.pyx:36\u001B[0m, in \u001B[0;36mpandas._libs.properties.CachedProperty.__get__\u001B[1;34m()\u001B[0m\n",
      "File \u001B[1;32m~\\Documents\\myDocs\\masters\\courses\\thesis\\code\\.venv\\Lib\\site-packages\\pandas\\core\\reshape\\concat.py:760\u001B[0m, in \u001B[0;36m_Concatenator._get_concat_axis\u001B[1;34m(self)\u001B[0m\n\u001B[0;32m    758\u001B[0m     \u001B[38;5;28;01mif\u001B[39;00m \u001B[38;5;28mself\u001B[39m\u001B[38;5;241m.\u001B[39mlevels \u001B[38;5;129;01mis\u001B[39;00m \u001B[38;5;129;01mnot\u001B[39;00m \u001B[38;5;28;01mNone\u001B[39;00m:\n\u001B[0;32m    759\u001B[0m         \u001B[38;5;28;01mraise\u001B[39;00m \u001B[38;5;167;01mValueError\u001B[39;00m(\u001B[38;5;124m\"\u001B[39m\u001B[38;5;124mlevels supported only when keys is not None\u001B[39m\u001B[38;5;124m\"\u001B[39m)\n\u001B[1;32m--> 760\u001B[0m     concat_axis \u001B[38;5;241m=\u001B[39m \u001B[43m_concat_indexes\u001B[49m\u001B[43m(\u001B[49m\u001B[43mindexes\u001B[49m\u001B[43m)\u001B[49m\n\u001B[0;32m    761\u001B[0m \u001B[38;5;28;01melse\u001B[39;00m:\n\u001B[0;32m    762\u001B[0m     concat_axis \u001B[38;5;241m=\u001B[39m _make_concat_multiindex(\n\u001B[0;32m    763\u001B[0m         indexes, \u001B[38;5;28mself\u001B[39m\u001B[38;5;241m.\u001B[39mkeys, \u001B[38;5;28mself\u001B[39m\u001B[38;5;241m.\u001B[39mlevels, \u001B[38;5;28mself\u001B[39m\u001B[38;5;241m.\u001B[39mnames\n\u001B[0;32m    764\u001B[0m     )\n",
      "File \u001B[1;32m~\\Documents\\myDocs\\masters\\courses\\thesis\\code\\.venv\\Lib\\site-packages\\pandas\\core\\reshape\\concat.py:778\u001B[0m, in \u001B[0;36m_concat_indexes\u001B[1;34m(indexes)\u001B[0m\n\u001B[0;32m    777\u001B[0m \u001B[38;5;28;01mdef\u001B[39;00m\u001B[38;5;250m \u001B[39m\u001B[38;5;21m_concat_indexes\u001B[39m(indexes) \u001B[38;5;241m-\u001B[39m\u001B[38;5;241m>\u001B[39m Index:\n\u001B[1;32m--> 778\u001B[0m     \u001B[38;5;28;01mreturn\u001B[39;00m \u001B[43mindexes\u001B[49m\u001B[43m[\u001B[49m\u001B[38;5;241;43m0\u001B[39;49m\u001B[43m]\u001B[49m\u001B[38;5;241;43m.\u001B[39;49m\u001B[43mappend\u001B[49m\u001B[43m(\u001B[49m\u001B[43mindexes\u001B[49m\u001B[43m[\u001B[49m\u001B[38;5;241;43m1\u001B[39;49m\u001B[43m:\u001B[49m\u001B[43m]\u001B[49m\u001B[43m)\u001B[49m\n",
      "File \u001B[1;32m~\\Documents\\myDocs\\masters\\courses\\thesis\\code\\.venv\\Lib\\site-packages\\pandas\\core\\indexes\\base.py:5501\u001B[0m, in \u001B[0;36mIndex.append\u001B[1;34m(self, other)\u001B[0m\n\u001B[0;32m   5498\u001B[0m names \u001B[38;5;241m=\u001B[39m {obj\u001B[38;5;241m.\u001B[39mname \u001B[38;5;28;01mfor\u001B[39;00m obj \u001B[38;5;129;01min\u001B[39;00m to_concat}\n\u001B[0;32m   5499\u001B[0m name \u001B[38;5;241m=\u001B[39m \u001B[38;5;28;01mNone\u001B[39;00m \u001B[38;5;28;01mif\u001B[39;00m \u001B[38;5;28mlen\u001B[39m(names) \u001B[38;5;241m>\u001B[39m \u001B[38;5;241m1\u001B[39m \u001B[38;5;28;01melse\u001B[39;00m \u001B[38;5;28mself\u001B[39m\u001B[38;5;241m.\u001B[39mname\n\u001B[1;32m-> 5501\u001B[0m \u001B[38;5;28;01mreturn\u001B[39;00m \u001B[38;5;28;43mself\u001B[39;49m\u001B[38;5;241;43m.\u001B[39;49m\u001B[43m_concat\u001B[49m\u001B[43m(\u001B[49m\u001B[43mto_concat\u001B[49m\u001B[43m,\u001B[49m\u001B[43m \u001B[49m\u001B[43mname\u001B[49m\u001B[43m)\u001B[49m\n",
      "File \u001B[1;32m~\\Documents\\myDocs\\masters\\courses\\thesis\\code\\.venv\\Lib\\site-packages\\pandas\\core\\indexes\\range.py:982\u001B[0m, in \u001B[0;36mRangeIndex._concat\u001B[1;34m(self, indexes, name)\u001B[0m\n\u001B[0;32m    977\u001B[0m non_consecutive \u001B[38;5;241m=\u001B[39m (step \u001B[38;5;241m!=\u001B[39m rng\u001B[38;5;241m.\u001B[39mstep \u001B[38;5;129;01mand\u001B[39;00m \u001B[38;5;28mlen\u001B[39m(rng) \u001B[38;5;241m>\u001B[39m \u001B[38;5;241m1\u001B[39m) \u001B[38;5;129;01mor\u001B[39;00m (\n\u001B[0;32m    978\u001B[0m     next_ \u001B[38;5;129;01mis\u001B[39;00m \u001B[38;5;129;01mnot\u001B[39;00m \u001B[38;5;28;01mNone\u001B[39;00m \u001B[38;5;129;01mand\u001B[39;00m rng\u001B[38;5;241m.\u001B[39mstart \u001B[38;5;241m!=\u001B[39m next_\n\u001B[0;32m    979\u001B[0m )\n\u001B[0;32m    980\u001B[0m \u001B[38;5;28;01mif\u001B[39;00m non_consecutive:\n\u001B[0;32m    981\u001B[0m     result \u001B[38;5;241m=\u001B[39m \u001B[38;5;28mself\u001B[39m\u001B[38;5;241m.\u001B[39m_constructor(\n\u001B[1;32m--> 982\u001B[0m         \u001B[43mnp\u001B[49m\u001B[38;5;241;43m.\u001B[39;49m\u001B[43mconcatenate\u001B[49m\u001B[43m(\u001B[49m\u001B[43m[\u001B[49m\u001B[43mx\u001B[49m\u001B[38;5;241;43m.\u001B[39;49m\u001B[43m_values\u001B[49m\u001B[43m \u001B[49m\u001B[38;5;28;43;01mfor\u001B[39;49;00m\u001B[43m \u001B[49m\u001B[43mx\u001B[49m\u001B[43m \u001B[49m\u001B[38;5;129;43;01min\u001B[39;49;00m\u001B[43m \u001B[49m\u001B[43mrng_indexes\u001B[49m\u001B[43m]\u001B[49m\u001B[43m)\u001B[49m\n\u001B[0;32m    983\u001B[0m     )\n\u001B[0;32m    984\u001B[0m     \u001B[38;5;28;01mreturn\u001B[39;00m result\u001B[38;5;241m.\u001B[39mrename(name)\n\u001B[0;32m    986\u001B[0m \u001B[38;5;28;01mif\u001B[39;00m step \u001B[38;5;129;01mis\u001B[39;00m \u001B[38;5;129;01mnot\u001B[39;00m \u001B[38;5;28;01mNone\u001B[39;00m:\n",
      "\u001B[1;31mMemoryError\u001B[0m: Unable to allocate 11.2 MiB for an array with shape (1473965,) and data type int64"
     ]
    }
   ],
   "execution_count": 2
  },
  {
   "metadata": {},
   "cell_type": "code",
   "source": "df.shape",
   "id": "18b7bfabeeef4b1b",
   "outputs": [],
   "execution_count": null
  },
  {
   "metadata": {},
   "cell_type": "code",
   "source": "df.head(3)",
   "id": "f27c596c078f280e",
   "outputs": [],
   "execution_count": null
  },
  {
   "metadata": {},
   "cell_type": "markdown",
   "source": "# Add columns denoting which stage passed",
   "id": "ff24389999e1db76"
  },
  {
   "metadata": {},
   "cell_type": "code",
   "source": [
    "# df[\"prefilter_passed\"] = ~df['s0_to_eliminate'].isna()\n",
    "# df['s0_passed'] = df[\"prefilter_passed\"] & (df['s0_to_eliminate'] == False)\n",
    "# df['s1_passed'] = df['s0_passed'] & (df['s1_true_positive'] == True)\n",
    "# df['s2_passed'] = df['s1_passed'] & (df['s2_related_to_arch'] == True)\n",
    "# df['s3_passed'] = df['s2_passed'] & (~df['s3_selected_tactic'].isna()) & (df['s3_selected_tactic'] != \"None\")"
   ],
   "id": "65043ef2b98ae7e",
   "outputs": [],
   "execution_count": null
  },
  {
   "metadata": {},
   "cell_type": "code",
   "source": "# df.columns",
   "id": "9f2c8f97fad6321",
   "outputs": [],
   "execution_count": null
  },
  {
   "metadata": {},
   "cell_type": "markdown",
   "source": "# Add column for tactic category",
   "id": "ba5e545f736edb87"
  },
  {
   "metadata": {},
   "cell_type": "code",
   "source": [
    "from cfg.tactics.tactic_to_category_map import tactic_to_category_map\n",
    "\n",
    "df[\"s3_tactic_category\"] = df.s3_selected_tactic.apply(lambda x: tactic_to_category_map.get(x))\n",
    "df.head()"
   ],
   "id": "8f472b6e6bdb5fa2",
   "outputs": [],
   "execution_count": null
  },
  {
   "metadata": {},
   "cell_type": "code",
   "source": "df.groupby(\"s3_tactic_category\").nsimilar.agg(\"sum\")",
   "id": "4e7e7a78a113a190",
   "outputs": [],
   "execution_count": null
  },
  {
   "metadata": {},
   "cell_type": "markdown",
   "source": [
    "# R1\n",
    "## Primary - A quantitative analysis of the prevalence of each quality attribute."
   ],
   "id": "d78d55f9eacdfd03"
  },
  {
   "metadata": {},
   "cell_type": "code",
   "source": [
    "r1_total_count = df[df.s1_passed].nsimilar.sum()\n",
    "r1_total_count"
   ],
   "id": "85142e11473c365e",
   "outputs": [],
   "execution_count": null
  },
  {
   "metadata": {},
   "cell_type": "code",
   "source": [
    "r1 = df[df.s1_passed].groupby(\"qa\").agg(nsimilar=(\"nsimilar\",\"sum\")).sort_values(\"nsimilar\", ascending=False)\n",
    "r1[\"percentage\"] = r1.nsimilar / r1_total_count * 100\n",
    "r1"
   ],
   "id": "7a7207b5da35a217",
   "outputs": [],
   "execution_count": null
  },
  {
   "metadata": {},
   "cell_type": "code",
   "source": [
    "import plotly.express as px\n",
    "px.pie(r1, names=r1.index, values=\"nsimilar\", title=\"R1\")"
   ],
   "id": "6db89ee3753819de",
   "outputs": [],
   "execution_count": null
  },
  {
   "metadata": {},
   "cell_type": "markdown",
   "source": "## Secondary - Repository-Specific Priorities",
   "id": "6525929108a496dc"
  },
  {
   "metadata": {},
   "cell_type": "code",
   "source": [
    "r1_2 = df[df.s1_passed].pivot_table(index=[\"repo_id\"], columns=\"qa\", values=\"nsimilar\", aggfunc=\"sum\")\n",
    "r1_2"
   ],
   "id": "87088268f4b4211a",
   "outputs": [],
   "execution_count": null
  },
  {
   "metadata": {},
   "cell_type": "code",
   "source": [
    "r1_2_pc = r1_2.div(r1_2.sum(axis=1), axis=0) * 100\n",
    "r1_2_pc"
   ],
   "id": "ca822209f63bbc6b",
   "outputs": [],
   "execution_count": null
  },
  {
   "metadata": {},
   "cell_type": "code",
   "source": "px.bar(r1_2_pc, title=\"R1_2\")",
   "id": "46c111e59880d313",
   "outputs": [],
   "execution_count": null
  },
  {
   "metadata": {},
   "cell_type": "markdown",
   "source": "## Secondary 2 - Keyword Performance Analysis",
   "id": "24d88ba5187e19cb"
  },
  {
   "metadata": {},
   "cell_type": "code",
   "source": "df.head()",
   "id": "1624a2e5bab5ad03",
   "outputs": [],
   "execution_count": null
  },
  {
   "metadata": {},
   "cell_type": "code",
   "source": [
    "r1_3 = df.pivot_table(index=\"keyword\", columns=\"s1_passed\", values=\"nsimilar\", aggfunc=\"sum\")\n",
    "r1_3[\"total\"] = r1_3.sum(axis=1)\n",
    "nkw =  r1_3.total.sum()\n",
    "r1_3[\"passed_ratio\"] = r1_3[True] / r1_3.total\n",
    "r1_3[\"popularity_ratio\"] = r1_3.total / nkw\n",
    "r1_3.sort_values(\"total\", ascending=False)"
   ],
   "id": "14e8c26ae4db322f",
   "outputs": [],
   "execution_count": null
  },
  {
   "metadata": {},
   "cell_type": "code",
   "source": [
    "px.scatter(r1_3, x=\"popularity_ratio\", y=\"passed_ratio\", hover_name=r1_3.index, hover_data=[\"passed_ratio\", \"popularity_ratio\", \"total\"])\n",
    "# px.scatter(r1_3, x=\"popularity_ratio\", y=\"passed_ratio\", hover_name=r1_3.index, hover_data=[\"passed_ratio\", \"popularity_ratio\", \"total\"], color=\"total\", color_continuous_scale=px.colors.sequential.Burgyl_r)"
   ],
   "id": "90daa6fa5fc1ec33",
   "outputs": [],
   "execution_count": null
  },
  {
   "metadata": {},
   "cell_type": "markdown",
   "source": [
    "# RQ2\n",
    "## Primary - A strategic analysis of the types of solutions (tactic categories) used for the most important quality attributes. This gives a high-level overview of the solution strategies"
   ],
   "id": "dada9902ffb2745f"
  },
  {
   "metadata": {},
   "cell_type": "code",
   "source": [
    "data_rq2 = df[df.s3_passed]\n",
    "data_rq2.shape"
   ],
   "id": "66582e1b79896129",
   "outputs": [],
   "execution_count": null
  },
  {
   "metadata": {},
   "cell_type": "code",
   "source": [
    "top_qas = df[df.s1_passed].groupby(\"qa\").nsimilar.sum().sort_values(ascending=False).head(4)\n",
    "top_qas = top_qas.index.tolist()\n",
    "top_qas"
   ],
   "id": "c5669ab208a69dbb",
   "outputs": [],
   "execution_count": null
  },
  {
   "metadata": {},
   "cell_type": "code",
   "source": [
    "r2 = data_rq2[data_rq2.qa.isin(top_qas)]\n",
    "r2.groupby([\"qa\", \"s3_tactic_category\"]).nsimilar.sum().reset_index().sort_values([\"qa\",\"nsimilar\"], ascending=[False]*2).groupby(\"qa\").head(3)"
   ],
   "id": "41f3fb5f9719445e",
   "outputs": [],
   "execution_count": null
  },
  {
   "metadata": {},
   "cell_type": "markdown",
   "source": "## Secondary - A detailed \"drill-down\" to see which specific tactics make up the most important categories identified in the primary analysis.",
   "id": "402eb3bb1acc91d5"
  },
  {
   "metadata": {},
   "cell_type": "markdown",
   "source": "### TODO",
   "id": "192c357afd3051d7"
  },
  {
   "metadata": {},
   "cell_type": "code",
   "source": [
    "r2 = data_rq2[data_rq2.qa.isin(top_qas)]\n",
    "r2.groupby([\"qa\", \"s3_selected_tactic\"]).nsimilar.sum().reset_index().sort_values([\"qa\",\"nsimilar\"], ascending=[False]*2).groupby(\"qa\").head(3)"
   ],
   "id": "55acc3c7dbfeb4d5",
   "outputs": [],
   "execution_count": null
  },
  {
   "metadata": {},
   "cell_type": "markdown",
   "source": [
    "# RQ3\n",
    "## Primary -  A comparative analysis of discussion topics across different communication channels (source)."
   ],
   "id": "ff2a05fba395ad7a"
  },
  {
   "metadata": {},
   "cell_type": "code",
   "source": [
    "data_rq3 = df[df['s3_passed']]\n",
    "data_rq3.shape"
   ],
   "id": "5ae250c84350348",
   "outputs": [],
   "execution_count": null
  },
  {
   "metadata": {},
   "cell_type": "code",
   "source": [
    "r3 = data_rq3.pivot_table(index=\"qa\", columns=\"source\", values=\"nsimilar\", aggfunc=\"sum\", fill_value=0)\n",
    "totals = r3.sum(axis=1)\n",
    "r3 = r3.div(totals, axis=0) * 100\n",
    "r3\n"
   ],
   "id": "541674e14eb69bd3",
   "outputs": [],
   "execution_count": null
  },
  {
   "metadata": {},
   "cell_type": "code",
   "source": [
    "r3_2 = data_rq3.pivot_table(index=\"s3_tactic_category\", columns=\"source\", values=\"nsimilar\", aggfunc=\"sum\", fill_value=0)\n",
    "totals = r3_2.sum(axis=1)\n",
    "r3_2 = r3_2.div(totals, axis=0) * 100\n",
    "r3_2"
   ],
   "id": "589a825bf8f4bbc6",
   "outputs": [],
   "execution_count": null
  },
  {
   "metadata": {},
   "cell_type": "markdown",
   "source": "",
   "id": "b16f146d7bbeecaf"
  },
  {
   "metadata": {},
   "cell_type": "code",
   "source": "",
   "id": "fe62b628bd3b9c37",
   "outputs": [],
   "execution_count": null
  },
  {
   "metadata": {},
   "cell_type": "markdown",
   "source": "# Other",
   "id": "f3b5e74f4b2a2520"
  },
  {
   "metadata": {},
   "cell_type": "code",
   "source": "df.source.unique()",
   "id": "8c39e354d80ab7ee",
   "outputs": [],
   "execution_count": null
  },
  {
   "metadata": {},
   "cell_type": "code",
   "source": "df.qa.unique()",
   "id": "957d8c8a569be143",
   "outputs": [],
   "execution_count": null
  },
  {
   "metadata": {},
   "cell_type": "code",
   "source": "df.repo_id.unique()",
   "id": "daae1cde7a673f8c",
   "outputs": [],
   "execution_count": null
  },
  {
   "metadata": {},
   "cell_type": "code",
   "source": "df.columns",
   "id": "581754ffbce94b07",
   "outputs": [],
   "execution_count": null
  },
  {
   "metadata": {},
   "cell_type": "markdown",
   "source": "# Data funnel",
   "id": "fe30eb932a53e6d8"
  },
  {
   "metadata": {},
   "cell_type": "code",
   "source": [
    "funnel = df.groupby(['prefilter_passed',\n",
    "       's0_passed', 's1_passed', 's2_passed', 's3_passed']).nsimilar.agg(\"sum\")\n",
    "funnel"
   ],
   "id": "f8f4b370d5aaf151",
   "outputs": [],
   "execution_count": null
  },
  {
   "metadata": {},
   "cell_type": "code",
   "source": [
    "import pandas as pd\n",
    "\n",
    "# Define the order and names of your funnel stages\n",
    "stages = {\n",
    "    'prefilter_passed': '1. Prefilter',\n",
    "    's0_passed': '2. Stage 0',\n",
    "    's1_passed': '3. Stage 1',\n",
    "    's2_passed': '4. Stage 2',\n",
    "    's3_passed': '5. Stage 3'\n",
    "}\n",
    "\n",
    "# This list will hold the data for each stage\n",
    "funnel_data_list = []\n",
    "\n",
    "# Process each stage\n",
    "for stage_col, stage_name in stages.items():\n",
    "    # 1. Filter for items that passed the current stage\n",
    "    passed_stage_df = df[df[stage_col] == True]\n",
    "\n",
    "    # 2. Group by 'source' and sum 'nsimilar'\n",
    "    stage_summary = passed_stage_df.groupby('source')['nsimilar'].sum().reset_index()\n",
    "\n",
    "    # 3. Add the stage name for plotting\n",
    "    stage_summary['Stage'] = stage_name\n",
    "\n",
    "    funnel_data_list.append(stage_summary)\n",
    "\n",
    "# 4. Combine all stage data into a single DataFrame\n",
    "funnel_plot_df = pd.concat(funnel_data_list, ignore_index=True)\n",
    "\n",
    "print(\"Reshaped data for plotting:\")\n",
    "print(funnel_plot_df)"
   ],
   "id": "2f346451411a74ed",
   "outputs": [],
   "execution_count": null
  },
  {
   "metadata": {},
   "cell_type": "code",
   "source": [
    "px.funnel(funnel_plot_df,\n",
    "                x='nsimilar',\n",
    "                y='Stage',\n",
    "                color='source',\n",
    "                title='Funnel Analysis by Source')"
   ],
   "id": "f353d3ed7d7df71b",
   "outputs": [],
   "execution_count": null
  },
  {
   "metadata": {},
   "cell_type": "code",
   "source": "",
   "id": "cc783d083c841757",
   "outputs": [],
   "execution_count": null
  },
  {
   "metadata": {},
   "cell_type": "code",
   "source": [
    "total_items = df.nsimilar.sum()\n",
    "funnel_df = funnel.reset_index()\n",
    "funnel_df[\"percentage_of_total\"] = funnel_df.nsimilar / total_items * 100\n",
    "funnel_df"
   ],
   "id": "b5929607dcd78f66",
   "outputs": [],
   "execution_count": null
  },
  {
   "metadata": {},
   "cell_type": "markdown",
   "source": "## Crosstab",
   "id": "6be4d3876102558b"
  },
  {
   "metadata": {},
   "cell_type": "code",
   "source": [
    "import pandas as pd\n",
    "\n",
    "df_tactics = df[df['s3_passed'] == True]\n",
    "tactic_crosstab = pd.crosstab(df_tactics['qa'], df_tactics['s3_selected_tactic'])\n",
    "tactic_crosstab"
   ],
   "id": "128fda6f6079775a",
   "outputs": [],
   "execution_count": null
  },
  {
   "metadata": {},
   "cell_type": "code",
   "source": [
    "import pandas as pd\n",
    "\n",
    "df_tactics = df[df['s1_passed']]\n",
    "tactic_crosstab = pd.crosstab(df_tactics['source'], df_tactics['qa'], margins=True)\n",
    "tactic_crosstab"
   ],
   "id": "2127a4b524a44e17",
   "outputs": [],
   "execution_count": null
  },
  {
   "metadata": {},
   "cell_type": "code",
   "source": [
    "tactic_crosstab_totals = tactic_crosstab.loc[\"All\"]\n",
    "tactic_crosstab.div(tactic_crosstab_totals, axis=1) * 100"
   ],
   "id": "9fabc1ca4aeeda3f",
   "outputs": [],
   "execution_count": null
  },
  {
   "metadata": {},
   "cell_type": "code",
   "source": "df.pivot_table(index=[\"source\", \"qa\"], columns=[\"s0_to_eliminate\", \"s1_true_positive\", \"s2_related_to_arch\"], values=\"nsimilar\", aggfunc=\"sum\")",
   "id": "1c52251c39b14fb",
   "outputs": [],
   "execution_count": null
  },
  {
   "metadata": {},
   "cell_type": "code",
   "source": "df.pivot_table(index=[\"source\", \"qa\"], columns=[\"s0_to_eliminate\"], values=\"nsimilar\", aggfunc=[\"sum\"], margins=True)",
   "id": "87a4abdaf8eadf4a",
   "outputs": [],
   "execution_count": null
  },
  {
   "metadata": {},
   "cell_type": "code",
   "source": "df.groupby([\"s0_to_eliminate\", \"s1_true_positive\", \"s2_related_to_arch\", \"s3_selected_tactic\"], dropna=False).nsimilar.agg(\"sum\")",
   "id": "a79c42b40956f10c",
   "outputs": [],
   "execution_count": null
  },
  {
   "metadata": {},
   "cell_type": "code",
   "source": "df.groupby([\"source\", \"s0_to_eliminate\", \"s1_true_positive\", \"s2_related_to_arch\", \"s3_selected_tactic\"], dropna=False).nsimilar.agg(\"sum\")",
   "id": "b66f9d070787e9d4",
   "outputs": [],
   "execution_count": null
  },
  {
   "metadata": {},
   "cell_type": "code",
   "source": "df.groupby([\"source\", \"qa\", \"s0_to_eliminate\", \"s1_true_positive\", \"s2_related_to_arch\", \"s3_selected_tactic\"], dropna=False).nsimilar.agg(\"sum\")",
   "id": "4a4a20a2520222ce",
   "outputs": [],
   "execution_count": null
  },
  {
   "metadata": {},
   "cell_type": "code",
   "source": "df.groupby([\"source\", \"s0_to_eliminate\", \"s1_true_positive\", \"s2_related_to_arch\", \"s3_selected_tactic\"]).nsimilar.agg(\"sum\")",
   "id": "d6c2c427cb14a577",
   "outputs": [],
   "execution_count": null
  },
  {
   "metadata": {},
   "cell_type": "code",
   "source": "df[df[\"s3_selected_tactic\"].notna()]",
   "id": "b11a48e1f8cb09ea",
   "outputs": [],
   "execution_count": null
  },
  {
   "metadata": {},
   "cell_type": "code",
   "source": "",
   "id": "500f4f2829d3688c",
   "outputs": [],
   "execution_count": null
  }
 ],
 "metadata": {
  "kernelspec": {
   "display_name": "Python 3",
   "language": "python",
   "name": "python3"
  },
  "language_info": {
   "codemirror_mode": {
    "name": "ipython",
    "version": 2
   },
   "file_extension": ".py",
   "mimetype": "text/x-python",
   "name": "python",
   "nbconvert_exporter": "python",
   "pygments_lexer": "ipython2",
   "version": "2.7.6"
  }
 },
 "nbformat": 4,
 "nbformat_minor": 5
}

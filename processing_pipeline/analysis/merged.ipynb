{
 "cells": [
  {
   "cell_type": "code",
   "id": "initial_id",
   "metadata": {
    "collapsed": true,
    "ExecuteTime": {
     "end_time": "2025-07-29T19:46:04.531995Z",
     "start_time": "2025-07-29T19:45:41.258314Z"
    }
   },
   "source": [
    "from constants.abs_paths import AbsDirPath\n",
    "from processing_pipeline.utilities.data_transformation import load_all_files\n",
    "\n",
    "in_dir = AbsDirPath.MERGED\n",
    "df = load_all_files(in_dir)"
   ],
   "outputs": [
    {
     "name": "stdout",
     "output_type": "stream",
     "text": [
      "Loaded C:\\Users\\Dmitrijs\\Documents\\myDocs\\masters\\courses\\thesis\\code\\data\\keywords\\merged\\allenai.scispacy.v0.5.5.code_comment.parquet\n",
      "Loaded C:\\Users\\Dmitrijs\\Documents\\myDocs\\masters\\courses\\thesis\\code\\data\\keywords\\merged\\allenai.scispacy.v0.5.5.docs.parquet\n",
      "Loaded C:\\Users\\Dmitrijs\\Documents\\myDocs\\masters\\courses\\thesis\\code\\data\\keywords\\merged\\allenai.scispacy.v0.5.5.issue.0.parquet\n",
      "Loaded C:\\Users\\Dmitrijs\\Documents\\myDocs\\masters\\courses\\thesis\\code\\data\\keywords\\merged\\allenai.scispacy.v0.5.5.issue.1.parquet\n",
      "Loaded C:\\Users\\Dmitrijs\\Documents\\myDocs\\masters\\courses\\thesis\\code\\data\\keywords\\merged\\allenai.scispacy.v0.5.5.issue.2.parquet\n",
      "Loaded C:\\Users\\Dmitrijs\\Documents\\myDocs\\masters\\courses\\thesis\\code\\data\\keywords\\merged\\allenai.scispacy.v0.5.5.issue_comment.parquet\n",
      "Loaded C:\\Users\\Dmitrijs\\Documents\\myDocs\\masters\\courses\\thesis\\code\\data\\keywords\\merged\\allenai.scispacy.v0.5.5.release.parquet\n",
      "Loaded C:\\Users\\Dmitrijs\\Documents\\myDocs\\masters\\courses\\thesis\\code\\data\\keywords\\merged\\google.deepvariant.v1.6.1.code_comment.parquet\n",
      "Loaded C:\\Users\\Dmitrijs\\Documents\\myDocs\\masters\\courses\\thesis\\code\\data\\keywords\\merged\\google.deepvariant.v1.6.1.docs.parquet\n",
      "Loaded C:\\Users\\Dmitrijs\\Documents\\myDocs\\masters\\courses\\thesis\\code\\data\\keywords\\merged\\google.deepvariant.v1.6.1.issue.0.parquet\n",
      "Loaded C:\\Users\\Dmitrijs\\Documents\\myDocs\\masters\\courses\\thesis\\code\\data\\keywords\\merged\\google.deepvariant.v1.6.1.issue.1.parquet\n",
      "Loaded C:\\Users\\Dmitrijs\\Documents\\myDocs\\masters\\courses\\thesis\\code\\data\\keywords\\merged\\google.deepvariant.v1.6.1.issue.2.parquet\n",
      "Loaded C:\\Users\\Dmitrijs\\Documents\\myDocs\\masters\\courses\\thesis\\code\\data\\keywords\\merged\\google.deepvariant.v1.6.1.issue.3.parquet\n",
      "Loaded C:\\Users\\Dmitrijs\\Documents\\myDocs\\masters\\courses\\thesis\\code\\data\\keywords\\merged\\google.deepvariant.v1.6.1.issue.4.parquet\n",
      "Loaded C:\\Users\\Dmitrijs\\Documents\\myDocs\\masters\\courses\\thesis\\code\\data\\keywords\\merged\\google.deepvariant.v1.6.1.issue.5.parquet\n",
      "Loaded C:\\Users\\Dmitrijs\\Documents\\myDocs\\masters\\courses\\thesis\\code\\data\\keywords\\merged\\google.deepvariant.v1.6.1.issue.6.parquet\n",
      "Loaded C:\\Users\\Dmitrijs\\Documents\\myDocs\\masters\\courses\\thesis\\code\\data\\keywords\\merged\\google.deepvariant.v1.6.1.issue.7.parquet\n",
      "Loaded C:\\Users\\Dmitrijs\\Documents\\myDocs\\masters\\courses\\thesis\\code\\data\\keywords\\merged\\google.deepvariant.v1.6.1.issue_comment.00.parquet\n",
      "Loaded C:\\Users\\Dmitrijs\\Documents\\myDocs\\masters\\courses\\thesis\\code\\data\\keywords\\merged\\google.deepvariant.v1.6.1.issue_comment.01.parquet\n",
      "Loaded C:\\Users\\Dmitrijs\\Documents\\myDocs\\masters\\courses\\thesis\\code\\data\\keywords\\merged\\google.deepvariant.v1.6.1.issue_comment.02.parquet\n",
      "Loaded C:\\Users\\Dmitrijs\\Documents\\myDocs\\masters\\courses\\thesis\\code\\data\\keywords\\merged\\google.deepvariant.v1.6.1.issue_comment.03.parquet\n",
      "Loaded C:\\Users\\Dmitrijs\\Documents\\myDocs\\masters\\courses\\thesis\\code\\data\\keywords\\merged\\google.deepvariant.v1.6.1.issue_comment.04.parquet\n",
      "Loaded C:\\Users\\Dmitrijs\\Documents\\myDocs\\masters\\courses\\thesis\\code\\data\\keywords\\merged\\google.deepvariant.v1.6.1.issue_comment.05.parquet\n",
      "Loaded C:\\Users\\Dmitrijs\\Documents\\myDocs\\masters\\courses\\thesis\\code\\data\\keywords\\merged\\google.deepvariant.v1.6.1.issue_comment.06.parquet\n",
      "Loaded C:\\Users\\Dmitrijs\\Documents\\myDocs\\masters\\courses\\thesis\\code\\data\\keywords\\merged\\google.deepvariant.v1.6.1.issue_comment.07.parquet\n",
      "Loaded C:\\Users\\Dmitrijs\\Documents\\myDocs\\masters\\courses\\thesis\\code\\data\\keywords\\merged\\google.deepvariant.v1.6.1.issue_comment.08.parquet\n",
      "Loaded C:\\Users\\Dmitrijs\\Documents\\myDocs\\masters\\courses\\thesis\\code\\data\\keywords\\merged\\google.deepvariant.v1.6.1.issue_comment.09.parquet\n",
      "Loaded C:\\Users\\Dmitrijs\\Documents\\myDocs\\masters\\courses\\thesis\\code\\data\\keywords\\merged\\google.deepvariant.v1.6.1.issue_comment.10.parquet\n",
      "Loaded C:\\Users\\Dmitrijs\\Documents\\myDocs\\masters\\courses\\thesis\\code\\data\\keywords\\merged\\google.deepvariant.v1.6.1.issue_comment.11.parquet\n",
      "Loaded C:\\Users\\Dmitrijs\\Documents\\myDocs\\masters\\courses\\thesis\\code\\data\\keywords\\merged\\google.deepvariant.v1.6.1.issue_comment.12.parquet\n",
      "Loaded C:\\Users\\Dmitrijs\\Documents\\myDocs\\masters\\courses\\thesis\\code\\data\\keywords\\merged\\google.deepvariant.v1.6.1.issue_comment.13.parquet\n",
      "Loaded C:\\Users\\Dmitrijs\\Documents\\myDocs\\masters\\courses\\thesis\\code\\data\\keywords\\merged\\google.deepvariant.v1.6.1.release.parquet\n",
      "Loaded C:\\Users\\Dmitrijs\\Documents\\myDocs\\masters\\courses\\thesis\\code\\data\\keywords\\merged\\OpenGene.fastp.v0.23.4.code_comment.parquet\n",
      "Loaded C:\\Users\\Dmitrijs\\Documents\\myDocs\\masters\\courses\\thesis\\code\\data\\keywords\\merged\\OpenGene.fastp.v0.23.4.docs.parquet\n",
      "Loaded C:\\Users\\Dmitrijs\\Documents\\myDocs\\masters\\courses\\thesis\\code\\data\\keywords\\merged\\OpenGene.fastp.v0.23.4.issue.parquet\n",
      "Loaded C:\\Users\\Dmitrijs\\Documents\\myDocs\\masters\\courses\\thesis\\code\\data\\keywords\\merged\\OpenGene.fastp.v0.23.4.issue_comment.parquet\n",
      "Loaded C:\\Users\\Dmitrijs\\Documents\\myDocs\\masters\\courses\\thesis\\code\\data\\keywords\\merged\\OpenGene.fastp.v0.23.4.release.parquet\n",
      "Loaded C:\\Users\\Dmitrijs\\Documents\\myDocs\\masters\\courses\\thesis\\code\\data\\keywords\\merged\\root-project.root.v6-32-06.code_comment.000.parquet\n",
      "Loaded C:\\Users\\Dmitrijs\\Documents\\myDocs\\masters\\courses\\thesis\\code\\data\\keywords\\merged\\root-project.root.v6-32-06.code_comment.001.parquet\n",
      "Loaded C:\\Users\\Dmitrijs\\Documents\\myDocs\\masters\\courses\\thesis\\code\\data\\keywords\\merged\\root-project.root.v6-32-06.code_comment.002.parquet\n",
      "Loaded C:\\Users\\Dmitrijs\\Documents\\myDocs\\masters\\courses\\thesis\\code\\data\\keywords\\merged\\root-project.root.v6-32-06.code_comment.003.parquet\n",
      "Loaded C:\\Users\\Dmitrijs\\Documents\\myDocs\\masters\\courses\\thesis\\code\\data\\keywords\\merged\\root-project.root.v6-32-06.code_comment.004.parquet\n",
      "Loaded C:\\Users\\Dmitrijs\\Documents\\myDocs\\masters\\courses\\thesis\\code\\data\\keywords\\merged\\root-project.root.v6-32-06.code_comment.005.parquet\n",
      "Loaded C:\\Users\\Dmitrijs\\Documents\\myDocs\\masters\\courses\\thesis\\code\\data\\keywords\\merged\\root-project.root.v6-32-06.code_comment.006.parquet\n",
      "Loaded C:\\Users\\Dmitrijs\\Documents\\myDocs\\masters\\courses\\thesis\\code\\data\\keywords\\merged\\root-project.root.v6-32-06.code_comment.007.parquet\n",
      "Loaded C:\\Users\\Dmitrijs\\Documents\\myDocs\\masters\\courses\\thesis\\code\\data\\keywords\\merged\\root-project.root.v6-32-06.code_comment.008.parquet\n",
      "Loaded C:\\Users\\Dmitrijs\\Documents\\myDocs\\masters\\courses\\thesis\\code\\data\\keywords\\merged\\root-project.root.v6-32-06.code_comment.009.parquet\n",
      "Loaded C:\\Users\\Dmitrijs\\Documents\\myDocs\\masters\\courses\\thesis\\code\\data\\keywords\\merged\\root-project.root.v6-32-06.code_comment.010.parquet\n",
      "Loaded C:\\Users\\Dmitrijs\\Documents\\myDocs\\masters\\courses\\thesis\\code\\data\\keywords\\merged\\root-project.root.v6-32-06.code_comment.011.parquet\n",
      "Loaded C:\\Users\\Dmitrijs\\Documents\\myDocs\\masters\\courses\\thesis\\code\\data\\keywords\\merged\\root-project.root.v6-32-06.code_comment.012.parquet\n",
      "Loaded C:\\Users\\Dmitrijs\\Documents\\myDocs\\masters\\courses\\thesis\\code\\data\\keywords\\merged\\root-project.root.v6-32-06.code_comment.013.parquet\n",
      "Loaded C:\\Users\\Dmitrijs\\Documents\\myDocs\\masters\\courses\\thesis\\code\\data\\keywords\\merged\\root-project.root.v6-32-06.code_comment.014.parquet\n",
      "Loaded C:\\Users\\Dmitrijs\\Documents\\myDocs\\masters\\courses\\thesis\\code\\data\\keywords\\merged\\root-project.root.v6-32-06.code_comment.015.parquet\n",
      "Loaded C:\\Users\\Dmitrijs\\Documents\\myDocs\\masters\\courses\\thesis\\code\\data\\keywords\\merged\\root-project.root.v6-32-06.code_comment.016.parquet\n",
      "Loaded C:\\Users\\Dmitrijs\\Documents\\myDocs\\masters\\courses\\thesis\\code\\data\\keywords\\merged\\root-project.root.v6-32-06.code_comment.017.parquet\n",
      "Loaded C:\\Users\\Dmitrijs\\Documents\\myDocs\\masters\\courses\\thesis\\code\\data\\keywords\\merged\\root-project.root.v6-32-06.code_comment.018.parquet\n",
      "Loaded C:\\Users\\Dmitrijs\\Documents\\myDocs\\masters\\courses\\thesis\\code\\data\\keywords\\merged\\root-project.root.v6-32-06.code_comment.019.parquet\n",
      "Loaded C:\\Users\\Dmitrijs\\Documents\\myDocs\\masters\\courses\\thesis\\code\\data\\keywords\\merged\\root-project.root.v6-32-06.code_comment.020.parquet\n",
      "Loaded C:\\Users\\Dmitrijs\\Documents\\myDocs\\masters\\courses\\thesis\\code\\data\\keywords\\merged\\root-project.root.v6-32-06.code_comment.021.parquet\n",
      "Loaded C:\\Users\\Dmitrijs\\Documents\\myDocs\\masters\\courses\\thesis\\code\\data\\keywords\\merged\\root-project.root.v6-32-06.code_comment.022.parquet\n",
      "Loaded C:\\Users\\Dmitrijs\\Documents\\myDocs\\masters\\courses\\thesis\\code\\data\\keywords\\merged\\root-project.root.v6-32-06.code_comment.023.parquet\n",
      "Loaded C:\\Users\\Dmitrijs\\Documents\\myDocs\\masters\\courses\\thesis\\code\\data\\keywords\\merged\\root-project.root.v6-32-06.code_comment.024.parquet\n",
      "Loaded C:\\Users\\Dmitrijs\\Documents\\myDocs\\masters\\courses\\thesis\\code\\data\\keywords\\merged\\root-project.root.v6-32-06.code_comment.025.parquet\n",
      "Loaded C:\\Users\\Dmitrijs\\Documents\\myDocs\\masters\\courses\\thesis\\code\\data\\keywords\\merged\\root-project.root.v6-32-06.code_comment.026.parquet\n",
      "Loaded C:\\Users\\Dmitrijs\\Documents\\myDocs\\masters\\courses\\thesis\\code\\data\\keywords\\merged\\root-project.root.v6-32-06.code_comment.027.parquet\n",
      "Loaded C:\\Users\\Dmitrijs\\Documents\\myDocs\\masters\\courses\\thesis\\code\\data\\keywords\\merged\\root-project.root.v6-32-06.code_comment.028.parquet\n",
      "Loaded C:\\Users\\Dmitrijs\\Documents\\myDocs\\masters\\courses\\thesis\\code\\data\\keywords\\merged\\root-project.root.v6-32-06.code_comment.029.parquet\n",
      "Loaded C:\\Users\\Dmitrijs\\Documents\\myDocs\\masters\\courses\\thesis\\code\\data\\keywords\\merged\\root-project.root.v6-32-06.code_comment.030.parquet\n",
      "Loaded C:\\Users\\Dmitrijs\\Documents\\myDocs\\masters\\courses\\thesis\\code\\data\\keywords\\merged\\root-project.root.v6-32-06.code_comment.031.parquet\n",
      "Loaded C:\\Users\\Dmitrijs\\Documents\\myDocs\\masters\\courses\\thesis\\code\\data\\keywords\\merged\\root-project.root.v6-32-06.code_comment.032.parquet\n",
      "Loaded C:\\Users\\Dmitrijs\\Documents\\myDocs\\masters\\courses\\thesis\\code\\data\\keywords\\merged\\root-project.root.v6-32-06.code_comment.033.parquet\n",
      "Loaded C:\\Users\\Dmitrijs\\Documents\\myDocs\\masters\\courses\\thesis\\code\\data\\keywords\\merged\\root-project.root.v6-32-06.code_comment.034.parquet\n",
      "Loaded C:\\Users\\Dmitrijs\\Documents\\myDocs\\masters\\courses\\thesis\\code\\data\\keywords\\merged\\root-project.root.v6-32-06.code_comment.035.parquet\n",
      "Loaded C:\\Users\\Dmitrijs\\Documents\\myDocs\\masters\\courses\\thesis\\code\\data\\keywords\\merged\\root-project.root.v6-32-06.code_comment.036.parquet\n",
      "Loaded C:\\Users\\Dmitrijs\\Documents\\myDocs\\masters\\courses\\thesis\\code\\data\\keywords\\merged\\root-project.root.v6-32-06.code_comment.037.parquet\n",
      "Loaded C:\\Users\\Dmitrijs\\Documents\\myDocs\\masters\\courses\\thesis\\code\\data\\keywords\\merged\\root-project.root.v6-32-06.code_comment.038.parquet\n",
      "Loaded C:\\Users\\Dmitrijs\\Documents\\myDocs\\masters\\courses\\thesis\\code\\data\\keywords\\merged\\root-project.root.v6-32-06.code_comment.039.parquet\n",
      "Loaded C:\\Users\\Dmitrijs\\Documents\\myDocs\\masters\\courses\\thesis\\code\\data\\keywords\\merged\\root-project.root.v6-32-06.code_comment.040.parquet\n",
      "Loaded C:\\Users\\Dmitrijs\\Documents\\myDocs\\masters\\courses\\thesis\\code\\data\\keywords\\merged\\root-project.root.v6-32-06.code_comment.041.parquet\n",
      "Loaded C:\\Users\\Dmitrijs\\Documents\\myDocs\\masters\\courses\\thesis\\code\\data\\keywords\\merged\\root-project.root.v6-32-06.code_comment.042.parquet\n",
      "Loaded C:\\Users\\Dmitrijs\\Documents\\myDocs\\masters\\courses\\thesis\\code\\data\\keywords\\merged\\root-project.root.v6-32-06.code_comment.043.parquet\n",
      "Loaded C:\\Users\\Dmitrijs\\Documents\\myDocs\\masters\\courses\\thesis\\code\\data\\keywords\\merged\\root-project.root.v6-32-06.code_comment.044.parquet\n",
      "Loaded C:\\Users\\Dmitrijs\\Documents\\myDocs\\masters\\courses\\thesis\\code\\data\\keywords\\merged\\root-project.root.v6-32-06.code_comment.045.parquet\n",
      "Loaded C:\\Users\\Dmitrijs\\Documents\\myDocs\\masters\\courses\\thesis\\code\\data\\keywords\\merged\\root-project.root.v6-32-06.code_comment.046.parquet\n",
      "Loaded C:\\Users\\Dmitrijs\\Documents\\myDocs\\masters\\courses\\thesis\\code\\data\\keywords\\merged\\root-project.root.v6-32-06.code_comment.047.parquet\n",
      "Loaded C:\\Users\\Dmitrijs\\Documents\\myDocs\\masters\\courses\\thesis\\code\\data\\keywords\\merged\\root-project.root.v6-32-06.code_comment.048.parquet\n",
      "Loaded C:\\Users\\Dmitrijs\\Documents\\myDocs\\masters\\courses\\thesis\\code\\data\\keywords\\merged\\root-project.root.v6-32-06.code_comment.049.parquet\n",
      "Loaded C:\\Users\\Dmitrijs\\Documents\\myDocs\\masters\\courses\\thesis\\code\\data\\keywords\\merged\\root-project.root.v6-32-06.code_comment.050.parquet\n",
      "Loaded C:\\Users\\Dmitrijs\\Documents\\myDocs\\masters\\courses\\thesis\\code\\data\\keywords\\merged\\root-project.root.v6-32-06.code_comment.051.parquet\n",
      "Loaded C:\\Users\\Dmitrijs\\Documents\\myDocs\\masters\\courses\\thesis\\code\\data\\keywords\\merged\\root-project.root.v6-32-06.code_comment.052.parquet\n",
      "Loaded C:\\Users\\Dmitrijs\\Documents\\myDocs\\masters\\courses\\thesis\\code\\data\\keywords\\merged\\root-project.root.v6-32-06.code_comment.053.parquet\n",
      "Loaded C:\\Users\\Dmitrijs\\Documents\\myDocs\\masters\\courses\\thesis\\code\\data\\keywords\\merged\\root-project.root.v6-32-06.code_comment.054.parquet\n",
      "Loaded C:\\Users\\Dmitrijs\\Documents\\myDocs\\masters\\courses\\thesis\\code\\data\\keywords\\merged\\root-project.root.v6-32-06.code_comment.055.parquet\n",
      "Loaded C:\\Users\\Dmitrijs\\Documents\\myDocs\\masters\\courses\\thesis\\code\\data\\keywords\\merged\\root-project.root.v6-32-06.code_comment.056.parquet\n",
      "Loaded C:\\Users\\Dmitrijs\\Documents\\myDocs\\masters\\courses\\thesis\\code\\data\\keywords\\merged\\root-project.root.v6-32-06.code_comment.057.parquet\n",
      "Loaded C:\\Users\\Dmitrijs\\Documents\\myDocs\\masters\\courses\\thesis\\code\\data\\keywords\\merged\\root-project.root.v6-32-06.code_comment.058.parquet\n",
      "Loaded C:\\Users\\Dmitrijs\\Documents\\myDocs\\masters\\courses\\thesis\\code\\data\\keywords\\merged\\root-project.root.v6-32-06.code_comment.059.parquet\n",
      "Loaded C:\\Users\\Dmitrijs\\Documents\\myDocs\\masters\\courses\\thesis\\code\\data\\keywords\\merged\\root-project.root.v6-32-06.code_comment.060.parquet\n",
      "Loaded C:\\Users\\Dmitrijs\\Documents\\myDocs\\masters\\courses\\thesis\\code\\data\\keywords\\merged\\root-project.root.v6-32-06.code_comment.061.parquet\n",
      "Loaded C:\\Users\\Dmitrijs\\Documents\\myDocs\\masters\\courses\\thesis\\code\\data\\keywords\\merged\\root-project.root.v6-32-06.code_comment.062.parquet\n",
      "Loaded C:\\Users\\Dmitrijs\\Documents\\myDocs\\masters\\courses\\thesis\\code\\data\\keywords\\merged\\root-project.root.v6-32-06.code_comment.063.parquet\n",
      "Loaded C:\\Users\\Dmitrijs\\Documents\\myDocs\\masters\\courses\\thesis\\code\\data\\keywords\\merged\\root-project.root.v6-32-06.code_comment.064.parquet\n",
      "Loaded C:\\Users\\Dmitrijs\\Documents\\myDocs\\masters\\courses\\thesis\\code\\data\\keywords\\merged\\root-project.root.v6-32-06.code_comment.065.parquet\n",
      "Loaded C:\\Users\\Dmitrijs\\Documents\\myDocs\\masters\\courses\\thesis\\code\\data\\keywords\\merged\\root-project.root.v6-32-06.code_comment.066.parquet\n",
      "Loaded C:\\Users\\Dmitrijs\\Documents\\myDocs\\masters\\courses\\thesis\\code\\data\\keywords\\merged\\root-project.root.v6-32-06.code_comment.067.parquet\n",
      "Loaded C:\\Users\\Dmitrijs\\Documents\\myDocs\\masters\\courses\\thesis\\code\\data\\keywords\\merged\\root-project.root.v6-32-06.code_comment.068.parquet\n",
      "Loaded C:\\Users\\Dmitrijs\\Documents\\myDocs\\masters\\courses\\thesis\\code\\data\\keywords\\merged\\root-project.root.v6-32-06.code_comment.069.parquet\n",
      "Loaded C:\\Users\\Dmitrijs\\Documents\\myDocs\\masters\\courses\\thesis\\code\\data\\keywords\\merged\\root-project.root.v6-32-06.code_comment.070.parquet\n",
      "Loaded C:\\Users\\Dmitrijs\\Documents\\myDocs\\masters\\courses\\thesis\\code\\data\\keywords\\merged\\root-project.root.v6-32-06.code_comment.071.parquet\n",
      "Loaded C:\\Users\\Dmitrijs\\Documents\\myDocs\\masters\\courses\\thesis\\code\\data\\keywords\\merged\\root-project.root.v6-32-06.code_comment.072.parquet\n",
      "Loaded C:\\Users\\Dmitrijs\\Documents\\myDocs\\masters\\courses\\thesis\\code\\data\\keywords\\merged\\root-project.root.v6-32-06.code_comment.073.parquet\n",
      "Loaded C:\\Users\\Dmitrijs\\Documents\\myDocs\\masters\\courses\\thesis\\code\\data\\keywords\\merged\\root-project.root.v6-32-06.code_comment.074.parquet\n",
      "Loaded C:\\Users\\Dmitrijs\\Documents\\myDocs\\masters\\courses\\thesis\\code\\data\\keywords\\merged\\root-project.root.v6-32-06.code_comment.075.parquet\n",
      "Loaded C:\\Users\\Dmitrijs\\Documents\\myDocs\\masters\\courses\\thesis\\code\\data\\keywords\\merged\\root-project.root.v6-32-06.code_comment.076.parquet\n",
      "Loaded C:\\Users\\Dmitrijs\\Documents\\myDocs\\masters\\courses\\thesis\\code\\data\\keywords\\merged\\root-project.root.v6-32-06.code_comment.077.parquet\n",
      "Loaded C:\\Users\\Dmitrijs\\Documents\\myDocs\\masters\\courses\\thesis\\code\\data\\keywords\\merged\\root-project.root.v6-32-06.code_comment.078.parquet\n",
      "Loaded C:\\Users\\Dmitrijs\\Documents\\myDocs\\masters\\courses\\thesis\\code\\data\\keywords\\merged\\root-project.root.v6-32-06.code_comment.079.parquet\n",
      "Loaded C:\\Users\\Dmitrijs\\Documents\\myDocs\\masters\\courses\\thesis\\code\\data\\keywords\\merged\\root-project.root.v6-32-06.code_comment.080.parquet\n",
      "Loaded C:\\Users\\Dmitrijs\\Documents\\myDocs\\masters\\courses\\thesis\\code\\data\\keywords\\merged\\root-project.root.v6-32-06.code_comment.081.parquet\n",
      "Loaded C:\\Users\\Dmitrijs\\Documents\\myDocs\\masters\\courses\\thesis\\code\\data\\keywords\\merged\\root-project.root.v6-32-06.code_comment.082.parquet\n",
      "Loaded C:\\Users\\Dmitrijs\\Documents\\myDocs\\masters\\courses\\thesis\\code\\data\\keywords\\merged\\root-project.root.v6-32-06.code_comment.083.parquet\n",
      "Loaded C:\\Users\\Dmitrijs\\Documents\\myDocs\\masters\\courses\\thesis\\code\\data\\keywords\\merged\\root-project.root.v6-32-06.code_comment.084.parquet\n",
      "Loaded C:\\Users\\Dmitrijs\\Documents\\myDocs\\masters\\courses\\thesis\\code\\data\\keywords\\merged\\root-project.root.v6-32-06.code_comment.085.parquet\n",
      "Loaded C:\\Users\\Dmitrijs\\Documents\\myDocs\\masters\\courses\\thesis\\code\\data\\keywords\\merged\\root-project.root.v6-32-06.code_comment.086.parquet\n",
      "Loaded C:\\Users\\Dmitrijs\\Documents\\myDocs\\masters\\courses\\thesis\\code\\data\\keywords\\merged\\root-project.root.v6-32-06.code_comment.087.parquet\n",
      "Loaded C:\\Users\\Dmitrijs\\Documents\\myDocs\\masters\\courses\\thesis\\code\\data\\keywords\\merged\\root-project.root.v6-32-06.code_comment.088.parquet\n",
      "Loaded C:\\Users\\Dmitrijs\\Documents\\myDocs\\masters\\courses\\thesis\\code\\data\\keywords\\merged\\root-project.root.v6-32-06.code_comment.089.parquet\n",
      "Loaded C:\\Users\\Dmitrijs\\Documents\\myDocs\\masters\\courses\\thesis\\code\\data\\keywords\\merged\\root-project.root.v6-32-06.code_comment.090.parquet\n",
      "Loaded C:\\Users\\Dmitrijs\\Documents\\myDocs\\masters\\courses\\thesis\\code\\data\\keywords\\merged\\root-project.root.v6-32-06.code_comment.091.parquet\n",
      "Loaded C:\\Users\\Dmitrijs\\Documents\\myDocs\\masters\\courses\\thesis\\code\\data\\keywords\\merged\\root-project.root.v6-32-06.code_comment.092.parquet\n",
      "Loaded C:\\Users\\Dmitrijs\\Documents\\myDocs\\masters\\courses\\thesis\\code\\data\\keywords\\merged\\root-project.root.v6-32-06.code_comment.093.parquet\n",
      "Loaded C:\\Users\\Dmitrijs\\Documents\\myDocs\\masters\\courses\\thesis\\code\\data\\keywords\\merged\\root-project.root.v6-32-06.code_comment.094.parquet\n",
      "Loaded C:\\Users\\Dmitrijs\\Documents\\myDocs\\masters\\courses\\thesis\\code\\data\\keywords\\merged\\root-project.root.v6-32-06.code_comment.095.parquet\n",
      "Loaded C:\\Users\\Dmitrijs\\Documents\\myDocs\\masters\\courses\\thesis\\code\\data\\keywords\\merged\\root-project.root.v6-32-06.code_comment.096.parquet\n",
      "Loaded C:\\Users\\Dmitrijs\\Documents\\myDocs\\masters\\courses\\thesis\\code\\data\\keywords\\merged\\root-project.root.v6-32-06.code_comment.097.parquet\n",
      "Loaded C:\\Users\\Dmitrijs\\Documents\\myDocs\\masters\\courses\\thesis\\code\\data\\keywords\\merged\\root-project.root.v6-32-06.code_comment.098.parquet\n",
      "Loaded C:\\Users\\Dmitrijs\\Documents\\myDocs\\masters\\courses\\thesis\\code\\data\\keywords\\merged\\root-project.root.v6-32-06.code_comment.099.parquet\n",
      "Loaded C:\\Users\\Dmitrijs\\Documents\\myDocs\\masters\\courses\\thesis\\code\\data\\keywords\\merged\\root-project.root.v6-32-06.code_comment.100.parquet\n",
      "Loaded C:\\Users\\Dmitrijs\\Documents\\myDocs\\masters\\courses\\thesis\\code\\data\\keywords\\merged\\root-project.root.v6-32-06.code_comment.101.parquet\n",
      "Loaded C:\\Users\\Dmitrijs\\Documents\\myDocs\\masters\\courses\\thesis\\code\\data\\keywords\\merged\\root-project.root.v6-32-06.code_comment.102.parquet\n",
      "Loaded C:\\Users\\Dmitrijs\\Documents\\myDocs\\masters\\courses\\thesis\\code\\data\\keywords\\merged\\root-project.root.v6-32-06.code_comment.103.parquet\n",
      "Loaded C:\\Users\\Dmitrijs\\Documents\\myDocs\\masters\\courses\\thesis\\code\\data\\keywords\\merged\\root-project.root.v6-32-06.code_comment.104.parquet\n",
      "Loaded C:\\Users\\Dmitrijs\\Documents\\myDocs\\masters\\courses\\thesis\\code\\data\\keywords\\merged\\root-project.root.v6-32-06.code_comment.105.parquet\n",
      "Loaded C:\\Users\\Dmitrijs\\Documents\\myDocs\\masters\\courses\\thesis\\code\\data\\keywords\\merged\\root-project.root.v6-32-06.code_comment.106.parquet\n",
      "Loaded C:\\Users\\Dmitrijs\\Documents\\myDocs\\masters\\courses\\thesis\\code\\data\\keywords\\merged\\root-project.root.v6-32-06.code_comment.107.parquet\n",
      "Loaded C:\\Users\\Dmitrijs\\Documents\\myDocs\\masters\\courses\\thesis\\code\\data\\keywords\\merged\\root-project.root.v6-32-06.code_comment.108.parquet\n",
      "Loaded C:\\Users\\Dmitrijs\\Documents\\myDocs\\masters\\courses\\thesis\\code\\data\\keywords\\merged\\root-project.root.v6-32-06.code_comment.109.parquet\n",
      "Loaded C:\\Users\\Dmitrijs\\Documents\\myDocs\\masters\\courses\\thesis\\code\\data\\keywords\\merged\\root-project.root.v6-32-06.code_comment.110.parquet\n",
      "Loaded C:\\Users\\Dmitrijs\\Documents\\myDocs\\masters\\courses\\thesis\\code\\data\\keywords\\merged\\root-project.root.v6-32-06.code_comment.111.parquet\n",
      "Loaded C:\\Users\\Dmitrijs\\Documents\\myDocs\\masters\\courses\\thesis\\code\\data\\keywords\\merged\\root-project.root.v6-32-06.code_comment.112.parquet\n",
      "Loaded C:\\Users\\Dmitrijs\\Documents\\myDocs\\masters\\courses\\thesis\\code\\data\\keywords\\merged\\root-project.root.v6-32-06.code_comment.113.parquet\n",
      "Loaded C:\\Users\\Dmitrijs\\Documents\\myDocs\\masters\\courses\\thesis\\code\\data\\keywords\\merged\\root-project.root.v6-32-06.code_comment.114.parquet\n",
      "Loaded C:\\Users\\Dmitrijs\\Documents\\myDocs\\masters\\courses\\thesis\\code\\data\\keywords\\merged\\root-project.root.v6-32-06.code_comment.115.parquet\n",
      "Loaded C:\\Users\\Dmitrijs\\Documents\\myDocs\\masters\\courses\\thesis\\code\\data\\keywords\\merged\\root-project.root.v6-32-06.code_comment.116.parquet\n",
      "Loaded C:\\Users\\Dmitrijs\\Documents\\myDocs\\masters\\courses\\thesis\\code\\data\\keywords\\merged\\root-project.root.v6-32-06.code_comment.117.parquet\n",
      "Loaded C:\\Users\\Dmitrijs\\Documents\\myDocs\\masters\\courses\\thesis\\code\\data\\keywords\\merged\\root-project.root.v6-32-06.code_comment.118.parquet\n",
      "Loaded C:\\Users\\Dmitrijs\\Documents\\myDocs\\masters\\courses\\thesis\\code\\data\\keywords\\merged\\root-project.root.v6-32-06.code_comment.119.parquet\n",
      "Loaded C:\\Users\\Dmitrijs\\Documents\\myDocs\\masters\\courses\\thesis\\code\\data\\keywords\\merged\\root-project.root.v6-32-06.code_comment.120.parquet\n",
      "Loaded C:\\Users\\Dmitrijs\\Documents\\myDocs\\masters\\courses\\thesis\\code\\data\\keywords\\merged\\root-project.root.v6-32-06.code_comment.121.parquet\n",
      "Loaded C:\\Users\\Dmitrijs\\Documents\\myDocs\\masters\\courses\\thesis\\code\\data\\keywords\\merged\\root-project.root.v6-32-06.code_comment.122.parquet\n",
      "Loaded C:\\Users\\Dmitrijs\\Documents\\myDocs\\masters\\courses\\thesis\\code\\data\\keywords\\merged\\root-project.root.v6-32-06.code_comment.123.parquet\n",
      "Loaded C:\\Users\\Dmitrijs\\Documents\\myDocs\\masters\\courses\\thesis\\code\\data\\keywords\\merged\\root-project.root.v6-32-06.code_comment.124.parquet\n",
      "Loaded C:\\Users\\Dmitrijs\\Documents\\myDocs\\masters\\courses\\thesis\\code\\data\\keywords\\merged\\root-project.root.v6-32-06.code_comment.125.parquet\n",
      "Loaded C:\\Users\\Dmitrijs\\Documents\\myDocs\\masters\\courses\\thesis\\code\\data\\keywords\\merged\\root-project.root.v6-32-06.code_comment.126.parquet\n",
      "Loaded C:\\Users\\Dmitrijs\\Documents\\myDocs\\masters\\courses\\thesis\\code\\data\\keywords\\merged\\root-project.root.v6-32-06.code_comment.127.parquet\n",
      "Loaded C:\\Users\\Dmitrijs\\Documents\\myDocs\\masters\\courses\\thesis\\code\\data\\keywords\\merged\\root-project.root.v6-32-06.code_comment.128.parquet\n",
      "Loaded C:\\Users\\Dmitrijs\\Documents\\myDocs\\masters\\courses\\thesis\\code\\data\\keywords\\merged\\root-project.root.v6-32-06.code_comment.129.parquet\n",
      "Loaded C:\\Users\\Dmitrijs\\Documents\\myDocs\\masters\\courses\\thesis\\code\\data\\keywords\\merged\\root-project.root.v6-32-06.code_comment.130.parquet\n",
      "Loaded C:\\Users\\Dmitrijs\\Documents\\myDocs\\masters\\courses\\thesis\\code\\data\\keywords\\merged\\root-project.root.v6-32-06.code_comment.131.parquet\n",
      "Loaded C:\\Users\\Dmitrijs\\Documents\\myDocs\\masters\\courses\\thesis\\code\\data\\keywords\\merged\\root-project.root.v6-32-06.code_comment.132.parquet\n",
      "Loaded C:\\Users\\Dmitrijs\\Documents\\myDocs\\masters\\courses\\thesis\\code\\data\\keywords\\merged\\root-project.root.v6-32-06.code_comment.133.parquet\n",
      "Loaded C:\\Users\\Dmitrijs\\Documents\\myDocs\\masters\\courses\\thesis\\code\\data\\keywords\\merged\\root-project.root.v6-32-06.code_comment.134.parquet\n",
      "Loaded C:\\Users\\Dmitrijs\\Documents\\myDocs\\masters\\courses\\thesis\\code\\data\\keywords\\merged\\root-project.root.v6-32-06.code_comment.135.parquet\n",
      "Loaded C:\\Users\\Dmitrijs\\Documents\\myDocs\\masters\\courses\\thesis\\code\\data\\keywords\\merged\\root-project.root.v6-32-06.code_comment.136.parquet\n",
      "Loaded C:\\Users\\Dmitrijs\\Documents\\myDocs\\masters\\courses\\thesis\\code\\data\\keywords\\merged\\root-project.root.v6-32-06.code_comment.137.parquet\n",
      "Loaded C:\\Users\\Dmitrijs\\Documents\\myDocs\\masters\\courses\\thesis\\code\\data\\keywords\\merged\\root-project.root.v6-32-06.code_comment.138.parquet\n",
      "Loaded C:\\Users\\Dmitrijs\\Documents\\myDocs\\masters\\courses\\thesis\\code\\data\\keywords\\merged\\root-project.root.v6-32-06.code_comment.139.parquet\n",
      "Loaded C:\\Users\\Dmitrijs\\Documents\\myDocs\\masters\\courses\\thesis\\code\\data\\keywords\\merged\\root-project.root.v6-32-06.code_comment.140.parquet\n",
      "Loaded C:\\Users\\Dmitrijs\\Documents\\myDocs\\masters\\courses\\thesis\\code\\data\\keywords\\merged\\root-project.root.v6-32-06.docs.000.parquet\n",
      "Loaded C:\\Users\\Dmitrijs\\Documents\\myDocs\\masters\\courses\\thesis\\code\\data\\keywords\\merged\\root-project.root.v6-32-06.docs.001.parquet\n",
      "Loaded C:\\Users\\Dmitrijs\\Documents\\myDocs\\masters\\courses\\thesis\\code\\data\\keywords\\merged\\root-project.root.v6-32-06.docs.002.parquet\n",
      "Loaded C:\\Users\\Dmitrijs\\Documents\\myDocs\\masters\\courses\\thesis\\code\\data\\keywords\\merged\\root-project.root.v6-32-06.docs.003.parquet\n",
      "Loaded C:\\Users\\Dmitrijs\\Documents\\myDocs\\masters\\courses\\thesis\\code\\data\\keywords\\merged\\root-project.root.v6-32-06.docs.004.parquet\n",
      "Loaded C:\\Users\\Dmitrijs\\Documents\\myDocs\\masters\\courses\\thesis\\code\\data\\keywords\\merged\\root-project.root.v6-32-06.docs.005.parquet\n",
      "Loaded C:\\Users\\Dmitrijs\\Documents\\myDocs\\masters\\courses\\thesis\\code\\data\\keywords\\merged\\root-project.root.v6-32-06.docs.006.parquet\n",
      "Loaded C:\\Users\\Dmitrijs\\Documents\\myDocs\\masters\\courses\\thesis\\code\\data\\keywords\\merged\\root-project.root.v6-32-06.docs.007.parquet\n",
      "Loaded C:\\Users\\Dmitrijs\\Documents\\myDocs\\masters\\courses\\thesis\\code\\data\\keywords\\merged\\root-project.root.v6-32-06.docs.008.parquet\n",
      "Loaded C:\\Users\\Dmitrijs\\Documents\\myDocs\\masters\\courses\\thesis\\code\\data\\keywords\\merged\\root-project.root.v6-32-06.docs.009.parquet\n",
      "Loaded C:\\Users\\Dmitrijs\\Documents\\myDocs\\masters\\courses\\thesis\\code\\data\\keywords\\merged\\root-project.root.v6-32-06.docs.010.parquet\n",
      "Loaded C:\\Users\\Dmitrijs\\Documents\\myDocs\\masters\\courses\\thesis\\code\\data\\keywords\\merged\\root-project.root.v6-32-06.docs.011.parquet\n",
      "Loaded C:\\Users\\Dmitrijs\\Documents\\myDocs\\masters\\courses\\thesis\\code\\data\\keywords\\merged\\root-project.root.v6-32-06.docs.012.parquet\n",
      "Loaded C:\\Users\\Dmitrijs\\Documents\\myDocs\\masters\\courses\\thesis\\code\\data\\keywords\\merged\\root-project.root.v6-32-06.docs.013.parquet\n",
      "Loaded C:\\Users\\Dmitrijs\\Documents\\myDocs\\masters\\courses\\thesis\\code\\data\\keywords\\merged\\root-project.root.v6-32-06.docs.014.parquet\n",
      "Loaded C:\\Users\\Dmitrijs\\Documents\\myDocs\\masters\\courses\\thesis\\code\\data\\keywords\\merged\\root-project.root.v6-32-06.docs.015.parquet\n",
      "Loaded C:\\Users\\Dmitrijs\\Documents\\myDocs\\masters\\courses\\thesis\\code\\data\\keywords\\merged\\root-project.root.v6-32-06.docs.016.parquet\n",
      "Loaded C:\\Users\\Dmitrijs\\Documents\\myDocs\\masters\\courses\\thesis\\code\\data\\keywords\\merged\\root-project.root.v6-32-06.docs.017.parquet\n",
      "Loaded C:\\Users\\Dmitrijs\\Documents\\myDocs\\masters\\courses\\thesis\\code\\data\\keywords\\merged\\root-project.root.v6-32-06.docs.018.parquet\n",
      "Loaded C:\\Users\\Dmitrijs\\Documents\\myDocs\\masters\\courses\\thesis\\code\\data\\keywords\\merged\\root-project.root.v6-32-06.docs.019.parquet\n",
      "Loaded C:\\Users\\Dmitrijs\\Documents\\myDocs\\masters\\courses\\thesis\\code\\data\\keywords\\merged\\root-project.root.v6-32-06.docs.020.parquet\n",
      "Loaded C:\\Users\\Dmitrijs\\Documents\\myDocs\\masters\\courses\\thesis\\code\\data\\keywords\\merged\\root-project.root.v6-32-06.docs.021.parquet\n",
      "Loaded C:\\Users\\Dmitrijs\\Documents\\myDocs\\masters\\courses\\thesis\\code\\data\\keywords\\merged\\root-project.root.v6-32-06.docs.022.parquet\n",
      "Loaded C:\\Users\\Dmitrijs\\Documents\\myDocs\\masters\\courses\\thesis\\code\\data\\keywords\\merged\\root-project.root.v6-32-06.docs.023.parquet\n",
      "Loaded C:\\Users\\Dmitrijs\\Documents\\myDocs\\masters\\courses\\thesis\\code\\data\\keywords\\merged\\root-project.root.v6-32-06.docs.024.parquet\n",
      "Loaded C:\\Users\\Dmitrijs\\Documents\\myDocs\\masters\\courses\\thesis\\code\\data\\keywords\\merged\\root-project.root.v6-32-06.docs.025.parquet\n",
      "Loaded C:\\Users\\Dmitrijs\\Documents\\myDocs\\masters\\courses\\thesis\\code\\data\\keywords\\merged\\root-project.root.v6-32-06.docs.026.parquet\n",
      "Loaded C:\\Users\\Dmitrijs\\Documents\\myDocs\\masters\\courses\\thesis\\code\\data\\keywords\\merged\\root-project.root.v6-32-06.docs.027.parquet\n",
      "Loaded C:\\Users\\Dmitrijs\\Documents\\myDocs\\masters\\courses\\thesis\\code\\data\\keywords\\merged\\root-project.root.v6-32-06.docs.028.parquet\n",
      "Loaded C:\\Users\\Dmitrijs\\Documents\\myDocs\\masters\\courses\\thesis\\code\\data\\keywords\\merged\\root-project.root.v6-32-06.docs.029.parquet\n",
      "Loaded C:\\Users\\Dmitrijs\\Documents\\myDocs\\masters\\courses\\thesis\\code\\data\\keywords\\merged\\root-project.root.v6-32-06.docs.030.parquet\n",
      "Loaded C:\\Users\\Dmitrijs\\Documents\\myDocs\\masters\\courses\\thesis\\code\\data\\keywords\\merged\\root-project.root.v6-32-06.docs.031.parquet\n",
      "Loaded C:\\Users\\Dmitrijs\\Documents\\myDocs\\masters\\courses\\thesis\\code\\data\\keywords\\merged\\root-project.root.v6-32-06.docs.032.parquet\n",
      "Loaded C:\\Users\\Dmitrijs\\Documents\\myDocs\\masters\\courses\\thesis\\code\\data\\keywords\\merged\\root-project.root.v6-32-06.docs.033.parquet\n",
      "Loaded C:\\Users\\Dmitrijs\\Documents\\myDocs\\masters\\courses\\thesis\\code\\data\\keywords\\merged\\root-project.root.v6-32-06.docs.034.parquet\n",
      "Loaded C:\\Users\\Dmitrijs\\Documents\\myDocs\\masters\\courses\\thesis\\code\\data\\keywords\\merged\\root-project.root.v6-32-06.docs.035.parquet\n",
      "Loaded C:\\Users\\Dmitrijs\\Documents\\myDocs\\masters\\courses\\thesis\\code\\data\\keywords\\merged\\root-project.root.v6-32-06.docs.036.parquet\n",
      "Loaded C:\\Users\\Dmitrijs\\Documents\\myDocs\\masters\\courses\\thesis\\code\\data\\keywords\\merged\\root-project.root.v6-32-06.docs.037.parquet\n",
      "Loaded C:\\Users\\Dmitrijs\\Documents\\myDocs\\masters\\courses\\thesis\\code\\data\\keywords\\merged\\root-project.root.v6-32-06.docs.038.parquet\n",
      "Loaded C:\\Users\\Dmitrijs\\Documents\\myDocs\\masters\\courses\\thesis\\code\\data\\keywords\\merged\\root-project.root.v6-32-06.docs.039.parquet\n",
      "Loaded C:\\Users\\Dmitrijs\\Documents\\myDocs\\masters\\courses\\thesis\\code\\data\\keywords\\merged\\root-project.root.v6-32-06.docs.040.parquet\n",
      "Loaded C:\\Users\\Dmitrijs\\Documents\\myDocs\\masters\\courses\\thesis\\code\\data\\keywords\\merged\\root-project.root.v6-32-06.docs.041.parquet\n",
      "Loaded C:\\Users\\Dmitrijs\\Documents\\myDocs\\masters\\courses\\thesis\\code\\data\\keywords\\merged\\root-project.root.v6-32-06.docs.042.parquet\n",
      "Loaded C:\\Users\\Dmitrijs\\Documents\\myDocs\\masters\\courses\\thesis\\code\\data\\keywords\\merged\\root-project.root.v6-32-06.docs.043.parquet\n",
      "Loaded C:\\Users\\Dmitrijs\\Documents\\myDocs\\masters\\courses\\thesis\\code\\data\\keywords\\merged\\root-project.root.v6-32-06.docs.044.parquet\n",
      "Loaded C:\\Users\\Dmitrijs\\Documents\\myDocs\\masters\\courses\\thesis\\code\\data\\keywords\\merged\\root-project.root.v6-32-06.docs.045.parquet\n",
      "Loaded C:\\Users\\Dmitrijs\\Documents\\myDocs\\masters\\courses\\thesis\\code\\data\\keywords\\merged\\root-project.root.v6-32-06.docs.046.parquet\n",
      "Loaded C:\\Users\\Dmitrijs\\Documents\\myDocs\\masters\\courses\\thesis\\code\\data\\keywords\\merged\\root-project.root.v6-32-06.docs.047.parquet\n",
      "Loaded C:\\Users\\Dmitrijs\\Documents\\myDocs\\masters\\courses\\thesis\\code\\data\\keywords\\merged\\root-project.root.v6-32-06.docs.048.parquet\n",
      "Loaded C:\\Users\\Dmitrijs\\Documents\\myDocs\\masters\\courses\\thesis\\code\\data\\keywords\\merged\\root-project.root.v6-32-06.docs.049.parquet\n",
      "Loaded C:\\Users\\Dmitrijs\\Documents\\myDocs\\masters\\courses\\thesis\\code\\data\\keywords\\merged\\root-project.root.v6-32-06.docs.050.parquet\n",
      "Loaded C:\\Users\\Dmitrijs\\Documents\\myDocs\\masters\\courses\\thesis\\code\\data\\keywords\\merged\\root-project.root.v6-32-06.docs.051.parquet\n",
      "Loaded C:\\Users\\Dmitrijs\\Documents\\myDocs\\masters\\courses\\thesis\\code\\data\\keywords\\merged\\root-project.root.v6-32-06.docs.052.parquet\n",
      "Loaded C:\\Users\\Dmitrijs\\Documents\\myDocs\\masters\\courses\\thesis\\code\\data\\keywords\\merged\\root-project.root.v6-32-06.docs.053.parquet\n",
      "Loaded C:\\Users\\Dmitrijs\\Documents\\myDocs\\masters\\courses\\thesis\\code\\data\\keywords\\merged\\root-project.root.v6-32-06.docs.054.parquet\n",
      "Loaded C:\\Users\\Dmitrijs\\Documents\\myDocs\\masters\\courses\\thesis\\code\\data\\keywords\\merged\\root-project.root.v6-32-06.docs.055.parquet\n",
      "Loaded C:\\Users\\Dmitrijs\\Documents\\myDocs\\masters\\courses\\thesis\\code\\data\\keywords\\merged\\root-project.root.v6-32-06.docs.056.parquet\n",
      "Loaded C:\\Users\\Dmitrijs\\Documents\\myDocs\\masters\\courses\\thesis\\code\\data\\keywords\\merged\\root-project.root.v6-32-06.docs.057.parquet\n",
      "Loaded C:\\Users\\Dmitrijs\\Documents\\myDocs\\masters\\courses\\thesis\\code\\data\\keywords\\merged\\root-project.root.v6-32-06.docs.058.parquet\n",
      "Loaded C:\\Users\\Dmitrijs\\Documents\\myDocs\\masters\\courses\\thesis\\code\\data\\keywords\\merged\\root-project.root.v6-32-06.docs.059.parquet\n",
      "Loaded C:\\Users\\Dmitrijs\\Documents\\myDocs\\masters\\courses\\thesis\\code\\data\\keywords\\merged\\root-project.root.v6-32-06.docs.060.parquet\n",
      "Loaded C:\\Users\\Dmitrijs\\Documents\\myDocs\\masters\\courses\\thesis\\code\\data\\keywords\\merged\\root-project.root.v6-32-06.docs.061.parquet\n",
      "Loaded C:\\Users\\Dmitrijs\\Documents\\myDocs\\masters\\courses\\thesis\\code\\data\\keywords\\merged\\root-project.root.v6-32-06.docs.062.parquet\n",
      "Loaded C:\\Users\\Dmitrijs\\Documents\\myDocs\\masters\\courses\\thesis\\code\\data\\keywords\\merged\\root-project.root.v6-32-06.docs.063.parquet\n",
      "Loaded C:\\Users\\Dmitrijs\\Documents\\myDocs\\masters\\courses\\thesis\\code\\data\\keywords\\merged\\root-project.root.v6-32-06.docs.064.parquet\n",
      "Loaded C:\\Users\\Dmitrijs\\Documents\\myDocs\\masters\\courses\\thesis\\code\\data\\keywords\\merged\\root-project.root.v6-32-06.docs.065.parquet\n",
      "Loaded C:\\Users\\Dmitrijs\\Documents\\myDocs\\masters\\courses\\thesis\\code\\data\\keywords\\merged\\root-project.root.v6-32-06.docs.066.parquet\n",
      "Loaded C:\\Users\\Dmitrijs\\Documents\\myDocs\\masters\\courses\\thesis\\code\\data\\keywords\\merged\\root-project.root.v6-32-06.docs.067.parquet\n",
      "Loaded C:\\Users\\Dmitrijs\\Documents\\myDocs\\masters\\courses\\thesis\\code\\data\\keywords\\merged\\root-project.root.v6-32-06.docs.068.parquet\n",
      "Loaded C:\\Users\\Dmitrijs\\Documents\\myDocs\\masters\\courses\\thesis\\code\\data\\keywords\\merged\\root-project.root.v6-32-06.docs.069.parquet\n",
      "Loaded C:\\Users\\Dmitrijs\\Documents\\myDocs\\masters\\courses\\thesis\\code\\data\\keywords\\merged\\root-project.root.v6-32-06.docs.070.parquet\n",
      "Loaded C:\\Users\\Dmitrijs\\Documents\\myDocs\\masters\\courses\\thesis\\code\\data\\keywords\\merged\\root-project.root.v6-32-06.docs.071.parquet\n",
      "Loaded C:\\Users\\Dmitrijs\\Documents\\myDocs\\masters\\courses\\thesis\\code\\data\\keywords\\merged\\root-project.root.v6-32-06.docs.072.parquet\n",
      "Loaded C:\\Users\\Dmitrijs\\Documents\\myDocs\\masters\\courses\\thesis\\code\\data\\keywords\\merged\\root-project.root.v6-32-06.docs.073.parquet\n",
      "Loaded C:\\Users\\Dmitrijs\\Documents\\myDocs\\masters\\courses\\thesis\\code\\data\\keywords\\merged\\root-project.root.v6-32-06.docs.074.parquet\n",
      "Loaded C:\\Users\\Dmitrijs\\Documents\\myDocs\\masters\\courses\\thesis\\code\\data\\keywords\\merged\\root-project.root.v6-32-06.docs.075.parquet\n",
      "Loaded C:\\Users\\Dmitrijs\\Documents\\myDocs\\masters\\courses\\thesis\\code\\data\\keywords\\merged\\root-project.root.v6-32-06.docs.076.parquet\n",
      "Loaded C:\\Users\\Dmitrijs\\Documents\\myDocs\\masters\\courses\\thesis\\code\\data\\keywords\\merged\\root-project.root.v6-32-06.docs.077.parquet\n",
      "Loaded C:\\Users\\Dmitrijs\\Documents\\myDocs\\masters\\courses\\thesis\\code\\data\\keywords\\merged\\root-project.root.v6-32-06.docs.078.parquet\n",
      "Loaded C:\\Users\\Dmitrijs\\Documents\\myDocs\\masters\\courses\\thesis\\code\\data\\keywords\\merged\\root-project.root.v6-32-06.docs.079.parquet\n",
      "Loaded C:\\Users\\Dmitrijs\\Documents\\myDocs\\masters\\courses\\thesis\\code\\data\\keywords\\merged\\root-project.root.v6-32-06.docs.080.parquet\n",
      "Loaded C:\\Users\\Dmitrijs\\Documents\\myDocs\\masters\\courses\\thesis\\code\\data\\keywords\\merged\\root-project.root.v6-32-06.docs.081.parquet\n",
      "Loaded C:\\Users\\Dmitrijs\\Documents\\myDocs\\masters\\courses\\thesis\\code\\data\\keywords\\merged\\root-project.root.v6-32-06.docs.082.parquet\n",
      "Loaded C:\\Users\\Dmitrijs\\Documents\\myDocs\\masters\\courses\\thesis\\code\\data\\keywords\\merged\\root-project.root.v6-32-06.docs.083.parquet\n",
      "Loaded C:\\Users\\Dmitrijs\\Documents\\myDocs\\masters\\courses\\thesis\\code\\data\\keywords\\merged\\root-project.root.v6-32-06.docs.084.parquet\n",
      "Loaded C:\\Users\\Dmitrijs\\Documents\\myDocs\\masters\\courses\\thesis\\code\\data\\keywords\\merged\\root-project.root.v6-32-06.docs.085.parquet\n",
      "Loaded C:\\Users\\Dmitrijs\\Documents\\myDocs\\masters\\courses\\thesis\\code\\data\\keywords\\merged\\root-project.root.v6-32-06.docs.086.parquet\n",
      "Loaded C:\\Users\\Dmitrijs\\Documents\\myDocs\\masters\\courses\\thesis\\code\\data\\keywords\\merged\\root-project.root.v6-32-06.docs.087.parquet\n",
      "Loaded C:\\Users\\Dmitrijs\\Documents\\myDocs\\masters\\courses\\thesis\\code\\data\\keywords\\merged\\root-project.root.v6-32-06.docs.088.parquet\n",
      "Loaded C:\\Users\\Dmitrijs\\Documents\\myDocs\\masters\\courses\\thesis\\code\\data\\keywords\\merged\\root-project.root.v6-32-06.docs.089.parquet\n",
      "Loaded C:\\Users\\Dmitrijs\\Documents\\myDocs\\masters\\courses\\thesis\\code\\data\\keywords\\merged\\root-project.root.v6-32-06.docs.090.parquet\n",
      "Loaded C:\\Users\\Dmitrijs\\Documents\\myDocs\\masters\\courses\\thesis\\code\\data\\keywords\\merged\\root-project.root.v6-32-06.docs.091.parquet\n",
      "Loaded C:\\Users\\Dmitrijs\\Documents\\myDocs\\masters\\courses\\thesis\\code\\data\\keywords\\merged\\root-project.root.v6-32-06.docs.092.parquet\n",
      "Loaded C:\\Users\\Dmitrijs\\Documents\\myDocs\\masters\\courses\\thesis\\code\\data\\keywords\\merged\\root-project.root.v6-32-06.docs.093.parquet\n",
      "Loaded C:\\Users\\Dmitrijs\\Documents\\myDocs\\masters\\courses\\thesis\\code\\data\\keywords\\merged\\root-project.root.v6-32-06.docs.094.parquet\n",
      "Loaded C:\\Users\\Dmitrijs\\Documents\\myDocs\\masters\\courses\\thesis\\code\\data\\keywords\\merged\\root-project.root.v6-32-06.docs.095.parquet\n",
      "Loaded C:\\Users\\Dmitrijs\\Documents\\myDocs\\masters\\courses\\thesis\\code\\data\\keywords\\merged\\root-project.root.v6-32-06.docs.096.parquet\n",
      "Loaded C:\\Users\\Dmitrijs\\Documents\\myDocs\\masters\\courses\\thesis\\code\\data\\keywords\\merged\\root-project.root.v6-32-06.docs.097.parquet\n",
      "Loaded C:\\Users\\Dmitrijs\\Documents\\myDocs\\masters\\courses\\thesis\\code\\data\\keywords\\merged\\root-project.root.v6-32-06.docs.098.parquet\n",
      "Loaded C:\\Users\\Dmitrijs\\Documents\\myDocs\\masters\\courses\\thesis\\code\\data\\keywords\\merged\\root-project.root.v6-32-06.docs.099.parquet\n",
      "Loaded C:\\Users\\Dmitrijs\\Documents\\myDocs\\masters\\courses\\thesis\\code\\data\\keywords\\merged\\root-project.root.v6-32-06.docs.100.parquet\n",
      "Loaded C:\\Users\\Dmitrijs\\Documents\\myDocs\\masters\\courses\\thesis\\code\\data\\keywords\\merged\\root-project.root.v6-32-06.docs.101.parquet\n",
      "Loaded C:\\Users\\Dmitrijs\\Documents\\myDocs\\masters\\courses\\thesis\\code\\data\\keywords\\merged\\root-project.root.v6-32-06.docs.102.parquet\n",
      "Loaded C:\\Users\\Dmitrijs\\Documents\\myDocs\\masters\\courses\\thesis\\code\\data\\keywords\\merged\\root-project.root.v6-32-06.docs.103.parquet\n",
      "Loaded C:\\Users\\Dmitrijs\\Documents\\myDocs\\masters\\courses\\thesis\\code\\data\\keywords\\merged\\root-project.root.v6-32-06.docs.104.parquet\n",
      "Loaded C:\\Users\\Dmitrijs\\Documents\\myDocs\\masters\\courses\\thesis\\code\\data\\keywords\\merged\\root-project.root.v6-32-06.docs.105.parquet\n",
      "Loaded C:\\Users\\Dmitrijs\\Documents\\myDocs\\masters\\courses\\thesis\\code\\data\\keywords\\merged\\root-project.root.v6-32-06.docs.106.parquet\n",
      "Loaded C:\\Users\\Dmitrijs\\Documents\\myDocs\\masters\\courses\\thesis\\code\\data\\keywords\\merged\\root-project.root.v6-32-06.docs.107.parquet\n",
      "Loaded C:\\Users\\Dmitrijs\\Documents\\myDocs\\masters\\courses\\thesis\\code\\data\\keywords\\merged\\root-project.root.v6-32-06.docs.108.parquet\n",
      "Loaded C:\\Users\\Dmitrijs\\Documents\\myDocs\\masters\\courses\\thesis\\code\\data\\keywords\\merged\\root-project.root.v6-32-06.docs.109.parquet\n",
      "Loaded C:\\Users\\Dmitrijs\\Documents\\myDocs\\masters\\courses\\thesis\\code\\data\\keywords\\merged\\root-project.root.v6-32-06.docs.110.parquet\n",
      "Loaded C:\\Users\\Dmitrijs\\Documents\\myDocs\\masters\\courses\\thesis\\code\\data\\keywords\\merged\\root-project.root.v6-32-06.docs.111.parquet\n",
      "Loaded C:\\Users\\Dmitrijs\\Documents\\myDocs\\masters\\courses\\thesis\\code\\data\\keywords\\merged\\root-project.root.v6-32-06.docs.112.parquet\n",
      "Loaded C:\\Users\\Dmitrijs\\Documents\\myDocs\\masters\\courses\\thesis\\code\\data\\keywords\\merged\\root-project.root.v6-32-06.docs.113.parquet\n",
      "Loaded C:\\Users\\Dmitrijs\\Documents\\myDocs\\masters\\courses\\thesis\\code\\data\\keywords\\merged\\root-project.root.v6-32-06.docs.114.parquet\n",
      "Loaded C:\\Users\\Dmitrijs\\Documents\\myDocs\\masters\\courses\\thesis\\code\\data\\keywords\\merged\\root-project.root.v6-32-06.docs.115.parquet\n",
      "Loaded C:\\Users\\Dmitrijs\\Documents\\myDocs\\masters\\courses\\thesis\\code\\data\\keywords\\merged\\root-project.root.v6-32-06.docs.116.parquet\n",
      "Loaded C:\\Users\\Dmitrijs\\Documents\\myDocs\\masters\\courses\\thesis\\code\\data\\keywords\\merged\\root-project.root.v6-32-06.docs.117.parquet\n",
      "Loaded C:\\Users\\Dmitrijs\\Documents\\myDocs\\masters\\courses\\thesis\\code\\data\\keywords\\merged\\root-project.root.v6-32-06.docs.118.parquet\n",
      "Loaded C:\\Users\\Dmitrijs\\Documents\\myDocs\\masters\\courses\\thesis\\code\\data\\keywords\\merged\\root-project.root.v6-32-06.docs.119.parquet\n",
      "Loaded C:\\Users\\Dmitrijs\\Documents\\myDocs\\masters\\courses\\thesis\\code\\data\\keywords\\merged\\root-project.root.v6-32-06.docs.120.parquet\n",
      "Loaded C:\\Users\\Dmitrijs\\Documents\\myDocs\\masters\\courses\\thesis\\code\\data\\keywords\\merged\\root-project.root.v6-32-06.docs.121.parquet\n",
      "Loaded C:\\Users\\Dmitrijs\\Documents\\myDocs\\masters\\courses\\thesis\\code\\data\\keywords\\merged\\root-project.root.v6-32-06.issue.00.parquet\n",
      "Loaded C:\\Users\\Dmitrijs\\Documents\\myDocs\\masters\\courses\\thesis\\code\\data\\keywords\\merged\\root-project.root.v6-32-06.issue.01.parquet\n",
      "Loaded C:\\Users\\Dmitrijs\\Documents\\myDocs\\masters\\courses\\thesis\\code\\data\\keywords\\merged\\root-project.root.v6-32-06.issue.02.parquet\n",
      "Loaded C:\\Users\\Dmitrijs\\Documents\\myDocs\\masters\\courses\\thesis\\code\\data\\keywords\\merged\\root-project.root.v6-32-06.issue.03.parquet\n",
      "Loaded C:\\Users\\Dmitrijs\\Documents\\myDocs\\masters\\courses\\thesis\\code\\data\\keywords\\merged\\root-project.root.v6-32-06.issue.04.parquet\n",
      "Loaded C:\\Users\\Dmitrijs\\Documents\\myDocs\\masters\\courses\\thesis\\code\\data\\keywords\\merged\\root-project.root.v6-32-06.issue.05.parquet\n",
      "Loaded C:\\Users\\Dmitrijs\\Documents\\myDocs\\masters\\courses\\thesis\\code\\data\\keywords\\merged\\root-project.root.v6-32-06.issue.06.parquet\n",
      "Loaded C:\\Users\\Dmitrijs\\Documents\\myDocs\\masters\\courses\\thesis\\code\\data\\keywords\\merged\\root-project.root.v6-32-06.issue.07.parquet\n",
      "Loaded C:\\Users\\Dmitrijs\\Documents\\myDocs\\masters\\courses\\thesis\\code\\data\\keywords\\merged\\root-project.root.v6-32-06.issue.08.parquet\n",
      "Loaded C:\\Users\\Dmitrijs\\Documents\\myDocs\\masters\\courses\\thesis\\code\\data\\keywords\\merged\\root-project.root.v6-32-06.issue.09.parquet\n",
      "Loaded C:\\Users\\Dmitrijs\\Documents\\myDocs\\masters\\courses\\thesis\\code\\data\\keywords\\merged\\root-project.root.v6-32-06.issue.10.parquet\n",
      "Loaded C:\\Users\\Dmitrijs\\Documents\\myDocs\\masters\\courses\\thesis\\code\\data\\keywords\\merged\\root-project.root.v6-32-06.issue.11.parquet\n",
      "Loaded C:\\Users\\Dmitrijs\\Documents\\myDocs\\masters\\courses\\thesis\\code\\data\\keywords\\merged\\root-project.root.v6-32-06.issue.12.parquet\n",
      "Loaded C:\\Users\\Dmitrijs\\Documents\\myDocs\\masters\\courses\\thesis\\code\\data\\keywords\\merged\\root-project.root.v6-32-06.issue.13.parquet\n",
      "Loaded C:\\Users\\Dmitrijs\\Documents\\myDocs\\masters\\courses\\thesis\\code\\data\\keywords\\merged\\root-project.root.v6-32-06.issue.14.parquet\n",
      "Loaded C:\\Users\\Dmitrijs\\Documents\\myDocs\\masters\\courses\\thesis\\code\\data\\keywords\\merged\\root-project.root.v6-32-06.issue.15.parquet\n",
      "Loaded C:\\Users\\Dmitrijs\\Documents\\myDocs\\masters\\courses\\thesis\\code\\data\\keywords\\merged\\root-project.root.v6-32-06.issue.16.parquet\n",
      "Loaded C:\\Users\\Dmitrijs\\Documents\\myDocs\\masters\\courses\\thesis\\code\\data\\keywords\\merged\\root-project.root.v6-32-06.issue.17.parquet\n",
      "Loaded C:\\Users\\Dmitrijs\\Documents\\myDocs\\masters\\courses\\thesis\\code\\data\\keywords\\merged\\root-project.root.v6-32-06.issue.18.parquet\n",
      "Loaded C:\\Users\\Dmitrijs\\Documents\\myDocs\\masters\\courses\\thesis\\code\\data\\keywords\\merged\\root-project.root.v6-32-06.issue.19.parquet\n",
      "Loaded C:\\Users\\Dmitrijs\\Documents\\myDocs\\masters\\courses\\thesis\\code\\data\\keywords\\merged\\root-project.root.v6-32-06.issue.20.parquet\n",
      "Loaded C:\\Users\\Dmitrijs\\Documents\\myDocs\\masters\\courses\\thesis\\code\\data\\keywords\\merged\\root-project.root.v6-32-06.issue.21.parquet\n",
      "Loaded C:\\Users\\Dmitrijs\\Documents\\myDocs\\masters\\courses\\thesis\\code\\data\\keywords\\merged\\root-project.root.v6-32-06.issue.22.parquet\n",
      "Loaded C:\\Users\\Dmitrijs\\Documents\\myDocs\\masters\\courses\\thesis\\code\\data\\keywords\\merged\\root-project.root.v6-32-06.issue.23.parquet\n",
      "Loaded C:\\Users\\Dmitrijs\\Documents\\myDocs\\masters\\courses\\thesis\\code\\data\\keywords\\merged\\root-project.root.v6-32-06.issue.24.parquet\n",
      "Loaded C:\\Users\\Dmitrijs\\Documents\\myDocs\\masters\\courses\\thesis\\code\\data\\keywords\\merged\\root-project.root.v6-32-06.issue.25.parquet\n",
      "Loaded C:\\Users\\Dmitrijs\\Documents\\myDocs\\masters\\courses\\thesis\\code\\data\\keywords\\merged\\root-project.root.v6-32-06.issue.26.parquet\n",
      "Loaded C:\\Users\\Dmitrijs\\Documents\\myDocs\\masters\\courses\\thesis\\code\\data\\keywords\\merged\\root-project.root.v6-32-06.issue.27.parquet\n",
      "Loaded C:\\Users\\Dmitrijs\\Documents\\myDocs\\masters\\courses\\thesis\\code\\data\\keywords\\merged\\root-project.root.v6-32-06.issue.28.parquet\n",
      "Loaded C:\\Users\\Dmitrijs\\Documents\\myDocs\\masters\\courses\\thesis\\code\\data\\keywords\\merged\\root-project.root.v6-32-06.issue.29.parquet\n",
      "Loaded C:\\Users\\Dmitrijs\\Documents\\myDocs\\masters\\courses\\thesis\\code\\data\\keywords\\merged\\root-project.root.v6-32-06.issue.30.parquet\n",
      "Loaded C:\\Users\\Dmitrijs\\Documents\\myDocs\\masters\\courses\\thesis\\code\\data\\keywords\\merged\\root-project.root.v6-32-06.issue.31.parquet\n",
      "Loaded C:\\Users\\Dmitrijs\\Documents\\myDocs\\masters\\courses\\thesis\\code\\data\\keywords\\merged\\root-project.root.v6-32-06.issue.32.parquet\n",
      "Loaded C:\\Users\\Dmitrijs\\Documents\\myDocs\\masters\\courses\\thesis\\code\\data\\keywords\\merged\\root-project.root.v6-32-06.issue.33.parquet\n",
      "Loaded C:\\Users\\Dmitrijs\\Documents\\myDocs\\masters\\courses\\thesis\\code\\data\\keywords\\merged\\root-project.root.v6-32-06.issue.34.parquet\n",
      "Loaded C:\\Users\\Dmitrijs\\Documents\\myDocs\\masters\\courses\\thesis\\code\\data\\keywords\\merged\\root-project.root.v6-32-06.issue.35.parquet\n",
      "Loaded C:\\Users\\Dmitrijs\\Documents\\myDocs\\masters\\courses\\thesis\\code\\data\\keywords\\merged\\root-project.root.v6-32-06.issue.36.parquet\n",
      "Loaded C:\\Users\\Dmitrijs\\Documents\\myDocs\\masters\\courses\\thesis\\code\\data\\keywords\\merged\\root-project.root.v6-32-06.issue.37.parquet\n",
      "Loaded C:\\Users\\Dmitrijs\\Documents\\myDocs\\masters\\courses\\thesis\\code\\data\\keywords\\merged\\root-project.root.v6-32-06.issue.38.parquet\n",
      "Loaded C:\\Users\\Dmitrijs\\Documents\\myDocs\\masters\\courses\\thesis\\code\\data\\keywords\\merged\\root-project.root.v6-32-06.issue.39.parquet\n",
      "Loaded C:\\Users\\Dmitrijs\\Documents\\myDocs\\masters\\courses\\thesis\\code\\data\\keywords\\merged\\root-project.root.v6-32-06.issue.40.parquet\n",
      "Loaded C:\\Users\\Dmitrijs\\Documents\\myDocs\\masters\\courses\\thesis\\code\\data\\keywords\\merged\\root-project.root.v6-32-06.issue.41.parquet\n",
      "Loaded C:\\Users\\Dmitrijs\\Documents\\myDocs\\masters\\courses\\thesis\\code\\data\\keywords\\merged\\root-project.root.v6-32-06.issue.42.parquet\n",
      "Loaded C:\\Users\\Dmitrijs\\Documents\\myDocs\\masters\\courses\\thesis\\code\\data\\keywords\\merged\\root-project.root.v6-32-06.issue.43.parquet\n",
      "Loaded C:\\Users\\Dmitrijs\\Documents\\myDocs\\masters\\courses\\thesis\\code\\data\\keywords\\merged\\root-project.root.v6-32-06.issue.44.parquet\n",
      "Loaded C:\\Users\\Dmitrijs\\Documents\\myDocs\\masters\\courses\\thesis\\code\\data\\keywords\\merged\\root-project.root.v6-32-06.issue.45.parquet\n",
      "Loaded C:\\Users\\Dmitrijs\\Documents\\myDocs\\masters\\courses\\thesis\\code\\data\\keywords\\merged\\root-project.root.v6-32-06.issue_comment.00.parquet\n",
      "Loaded C:\\Users\\Dmitrijs\\Documents\\myDocs\\masters\\courses\\thesis\\code\\data\\keywords\\merged\\root-project.root.v6-32-06.issue_comment.01.parquet\n",
      "Loaded C:\\Users\\Dmitrijs\\Documents\\myDocs\\masters\\courses\\thesis\\code\\data\\keywords\\merged\\root-project.root.v6-32-06.issue_comment.02.parquet\n",
      "Loaded C:\\Users\\Dmitrijs\\Documents\\myDocs\\masters\\courses\\thesis\\code\\data\\keywords\\merged\\root-project.root.v6-32-06.issue_comment.03.parquet\n",
      "Loaded C:\\Users\\Dmitrijs\\Documents\\myDocs\\masters\\courses\\thesis\\code\\data\\keywords\\merged\\root-project.root.v6-32-06.issue_comment.04.parquet\n",
      "Loaded C:\\Users\\Dmitrijs\\Documents\\myDocs\\masters\\courses\\thesis\\code\\data\\keywords\\merged\\root-project.root.v6-32-06.issue_comment.05.parquet\n",
      "Loaded C:\\Users\\Dmitrijs\\Documents\\myDocs\\masters\\courses\\thesis\\code\\data\\keywords\\merged\\root-project.root.v6-32-06.issue_comment.06.parquet\n",
      "Loaded C:\\Users\\Dmitrijs\\Documents\\myDocs\\masters\\courses\\thesis\\code\\data\\keywords\\merged\\root-project.root.v6-32-06.issue_comment.07.parquet\n",
      "Loaded C:\\Users\\Dmitrijs\\Documents\\myDocs\\masters\\courses\\thesis\\code\\data\\keywords\\merged\\root-project.root.v6-32-06.issue_comment.08.parquet\n",
      "Loaded C:\\Users\\Dmitrijs\\Documents\\myDocs\\masters\\courses\\thesis\\code\\data\\keywords\\merged\\root-project.root.v6-32-06.issue_comment.09.parquet\n",
      "Loaded C:\\Users\\Dmitrijs\\Documents\\myDocs\\masters\\courses\\thesis\\code\\data\\keywords\\merged\\root-project.root.v6-32-06.issue_comment.10.parquet\n",
      "Loaded C:\\Users\\Dmitrijs\\Documents\\myDocs\\masters\\courses\\thesis\\code\\data\\keywords\\merged\\root-project.root.v6-32-06.issue_comment.11.parquet\n",
      "Loaded C:\\Users\\Dmitrijs\\Documents\\myDocs\\masters\\courses\\thesis\\code\\data\\keywords\\merged\\root-project.root.v6-32-06.issue_comment.12.parquet\n",
      "Loaded C:\\Users\\Dmitrijs\\Documents\\myDocs\\masters\\courses\\thesis\\code\\data\\keywords\\merged\\root-project.root.v6-32-06.issue_comment.13.parquet\n",
      "Loaded C:\\Users\\Dmitrijs\\Documents\\myDocs\\masters\\courses\\thesis\\code\\data\\keywords\\merged\\root-project.root.v6-32-06.issue_comment.14.parquet\n",
      "Loaded C:\\Users\\Dmitrijs\\Documents\\myDocs\\masters\\courses\\thesis\\code\\data\\keywords\\merged\\root-project.root.v6-32-06.issue_comment.15.parquet\n",
      "Loaded C:\\Users\\Dmitrijs\\Documents\\myDocs\\masters\\courses\\thesis\\code\\data\\keywords\\merged\\root-project.root.v6-32-06.issue_comment.16.parquet\n",
      "Loaded C:\\Users\\Dmitrijs\\Documents\\myDocs\\masters\\courses\\thesis\\code\\data\\keywords\\merged\\root-project.root.v6-32-06.issue_comment.17.parquet\n",
      "Loaded C:\\Users\\Dmitrijs\\Documents\\myDocs\\masters\\courses\\thesis\\code\\data\\keywords\\merged\\root-project.root.v6-32-06.issue_comment.18.parquet\n",
      "Loaded C:\\Users\\Dmitrijs\\Documents\\myDocs\\masters\\courses\\thesis\\code\\data\\keywords\\merged\\root-project.root.v6-32-06.issue_comment.19.parquet\n",
      "Loaded C:\\Users\\Dmitrijs\\Documents\\myDocs\\masters\\courses\\thesis\\code\\data\\keywords\\merged\\root-project.root.v6-32-06.issue_comment.20.parquet\n",
      "Loaded C:\\Users\\Dmitrijs\\Documents\\myDocs\\masters\\courses\\thesis\\code\\data\\keywords\\merged\\root-project.root.v6-32-06.issue_comment.21.parquet\n",
      "Loaded C:\\Users\\Dmitrijs\\Documents\\myDocs\\masters\\courses\\thesis\\code\\data\\keywords\\merged\\root-project.root.v6-32-06.issue_comment.22.parquet\n",
      "Loaded C:\\Users\\Dmitrijs\\Documents\\myDocs\\masters\\courses\\thesis\\code\\data\\keywords\\merged\\root-project.root.v6-32-06.issue_comment.23.parquet\n",
      "Loaded C:\\Users\\Dmitrijs\\Documents\\myDocs\\masters\\courses\\thesis\\code\\data\\keywords\\merged\\root-project.root.v6-32-06.issue_comment.24.parquet\n",
      "Loaded C:\\Users\\Dmitrijs\\Documents\\myDocs\\masters\\courses\\thesis\\code\\data\\keywords\\merged\\root-project.root.v6-32-06.issue_comment.25.parquet\n",
      "Loaded C:\\Users\\Dmitrijs\\Documents\\myDocs\\masters\\courses\\thesis\\code\\data\\keywords\\merged\\root-project.root.v6-32-06.issue_comment.26.parquet\n",
      "Loaded C:\\Users\\Dmitrijs\\Documents\\myDocs\\masters\\courses\\thesis\\code\\data\\keywords\\merged\\root-project.root.v6-32-06.issue_comment.27.parquet\n",
      "Loaded C:\\Users\\Dmitrijs\\Documents\\myDocs\\masters\\courses\\thesis\\code\\data\\keywords\\merged\\root-project.root.v6-32-06.issue_comment.28.parquet\n",
      "Loaded C:\\Users\\Dmitrijs\\Documents\\myDocs\\masters\\courses\\thesis\\code\\data\\keywords\\merged\\root-project.root.v6-32-06.issue_comment.29.parquet\n",
      "Loaded C:\\Users\\Dmitrijs\\Documents\\myDocs\\masters\\courses\\thesis\\code\\data\\keywords\\merged\\root-project.root.v6-32-06.issue_comment.30.parquet\n",
      "Loaded C:\\Users\\Dmitrijs\\Documents\\myDocs\\masters\\courses\\thesis\\code\\data\\keywords\\merged\\root-project.root.v6-32-06.issue_comment.31.parquet\n",
      "Loaded C:\\Users\\Dmitrijs\\Documents\\myDocs\\masters\\courses\\thesis\\code\\data\\keywords\\merged\\root-project.root.v6-32-06.issue_comment.32.parquet\n",
      "Loaded C:\\Users\\Dmitrijs\\Documents\\myDocs\\masters\\courses\\thesis\\code\\data\\keywords\\merged\\root-project.root.v6-32-06.issue_comment.33.parquet\n",
      "Loaded C:\\Users\\Dmitrijs\\Documents\\myDocs\\masters\\courses\\thesis\\code\\data\\keywords\\merged\\root-project.root.v6-32-06.issue_comment.34.parquet\n",
      "Loaded C:\\Users\\Dmitrijs\\Documents\\myDocs\\masters\\courses\\thesis\\code\\data\\keywords\\merged\\root-project.root.v6-32-06.issue_comment.35.parquet\n",
      "Loaded C:\\Users\\Dmitrijs\\Documents\\myDocs\\masters\\courses\\thesis\\code\\data\\keywords\\merged\\root-project.root.v6-32-06.issue_comment.36.parquet\n",
      "Loaded C:\\Users\\Dmitrijs\\Documents\\myDocs\\masters\\courses\\thesis\\code\\data\\keywords\\merged\\root-project.root.v6-32-06.issue_comment.37.parquet\n",
      "Loaded C:\\Users\\Dmitrijs\\Documents\\myDocs\\masters\\courses\\thesis\\code\\data\\keywords\\merged\\root-project.root.v6-32-06.issue_comment.38.parquet\n",
      "Loaded C:\\Users\\Dmitrijs\\Documents\\myDocs\\masters\\courses\\thesis\\code\\data\\keywords\\merged\\root-project.root.v6-32-06.issue_comment.39.parquet\n",
      "Loaded C:\\Users\\Dmitrijs\\Documents\\myDocs\\masters\\courses\\thesis\\code\\data\\keywords\\merged\\root-project.root.v6-32-06.issue_comment.40.parquet\n",
      "Loaded C:\\Users\\Dmitrijs\\Documents\\myDocs\\masters\\courses\\thesis\\code\\data\\keywords\\merged\\root-project.root.v6-32-06.issue_comment.41.parquet\n",
      "Loaded C:\\Users\\Dmitrijs\\Documents\\myDocs\\masters\\courses\\thesis\\code\\data\\keywords\\merged\\root-project.root.v6-32-06.issue_comment.42.parquet\n",
      "Loaded C:\\Users\\Dmitrijs\\Documents\\myDocs\\masters\\courses\\thesis\\code\\data\\keywords\\merged\\root-project.root.v6-32-06.release.parquet\n",
      "Loaded C:\\Users\\Dmitrijs\\Documents\\myDocs\\masters\\courses\\thesis\\code\\data\\keywords\\merged\\root-project.root.v6-32-06.wiki.0.parquet\n",
      "Loaded C:\\Users\\Dmitrijs\\Documents\\myDocs\\masters\\courses\\thesis\\code\\data\\keywords\\merged\\root-project.root.v6-32-06.wiki.1.parquet\n",
      "Loaded C:\\Users\\Dmitrijs\\Documents\\myDocs\\masters\\courses\\thesis\\code\\data\\keywords\\merged\\root-project.root.v6-32-06.wiki.2.parquet\n",
      "Loaded C:\\Users\\Dmitrijs\\Documents\\myDocs\\masters\\courses\\thesis\\code\\data\\keywords\\merged\\scverse.scanpy.1.10.2.code_comment.parquet\n",
      "Loaded C:\\Users\\Dmitrijs\\Documents\\myDocs\\masters\\courses\\thesis\\code\\data\\keywords\\merged\\scverse.scanpy.1.10.2.docs.parquet\n",
      "Loaded C:\\Users\\Dmitrijs\\Documents\\myDocs\\masters\\courses\\thesis\\code\\data\\keywords\\merged\\scverse.scanpy.1.10.2.issue.00.parquet\n",
      "Loaded C:\\Users\\Dmitrijs\\Documents\\myDocs\\masters\\courses\\thesis\\code\\data\\keywords\\merged\\scverse.scanpy.1.10.2.issue.01.parquet\n",
      "Loaded C:\\Users\\Dmitrijs\\Documents\\myDocs\\masters\\courses\\thesis\\code\\data\\keywords\\merged\\scverse.scanpy.1.10.2.issue.02.parquet\n",
      "Loaded C:\\Users\\Dmitrijs\\Documents\\myDocs\\masters\\courses\\thesis\\code\\data\\keywords\\merged\\scverse.scanpy.1.10.2.issue.03.parquet\n",
      "Loaded C:\\Users\\Dmitrijs\\Documents\\myDocs\\masters\\courses\\thesis\\code\\data\\keywords\\merged\\scverse.scanpy.1.10.2.issue.04.parquet\n",
      "Loaded C:\\Users\\Dmitrijs\\Documents\\myDocs\\masters\\courses\\thesis\\code\\data\\keywords\\merged\\scverse.scanpy.1.10.2.issue.05.parquet\n",
      "Loaded C:\\Users\\Dmitrijs\\Documents\\myDocs\\masters\\courses\\thesis\\code\\data\\keywords\\merged\\scverse.scanpy.1.10.2.issue.06.parquet\n",
      "Loaded C:\\Users\\Dmitrijs\\Documents\\myDocs\\masters\\courses\\thesis\\code\\data\\keywords\\merged\\scverse.scanpy.1.10.2.issue.07.parquet\n",
      "Loaded C:\\Users\\Dmitrijs\\Documents\\myDocs\\masters\\courses\\thesis\\code\\data\\keywords\\merged\\scverse.scanpy.1.10.2.issue.08.parquet\n",
      "Loaded C:\\Users\\Dmitrijs\\Documents\\myDocs\\masters\\courses\\thesis\\code\\data\\keywords\\merged\\scverse.scanpy.1.10.2.issue.09.parquet\n",
      "Loaded C:\\Users\\Dmitrijs\\Documents\\myDocs\\masters\\courses\\thesis\\code\\data\\keywords\\merged\\scverse.scanpy.1.10.2.issue.10.parquet\n",
      "Loaded C:\\Users\\Dmitrijs\\Documents\\myDocs\\masters\\courses\\thesis\\code\\data\\keywords\\merged\\scverse.scanpy.1.10.2.issue.11.parquet\n",
      "Loaded C:\\Users\\Dmitrijs\\Documents\\myDocs\\masters\\courses\\thesis\\code\\data\\keywords\\merged\\scverse.scanpy.1.10.2.issue.12.parquet\n",
      "Loaded C:\\Users\\Dmitrijs\\Documents\\myDocs\\masters\\courses\\thesis\\code\\data\\keywords\\merged\\scverse.scanpy.1.10.2.issue.13.parquet\n",
      "Loaded C:\\Users\\Dmitrijs\\Documents\\myDocs\\masters\\courses\\thesis\\code\\data\\keywords\\merged\\scverse.scanpy.1.10.2.issue_comment.00.parquet\n",
      "Loaded C:\\Users\\Dmitrijs\\Documents\\myDocs\\masters\\courses\\thesis\\code\\data\\keywords\\merged\\scverse.scanpy.1.10.2.issue_comment.01.parquet\n",
      "Loaded C:\\Users\\Dmitrijs\\Documents\\myDocs\\masters\\courses\\thesis\\code\\data\\keywords\\merged\\scverse.scanpy.1.10.2.issue_comment.02.parquet\n",
      "Loaded C:\\Users\\Dmitrijs\\Documents\\myDocs\\masters\\courses\\thesis\\code\\data\\keywords\\merged\\scverse.scanpy.1.10.2.issue_comment.03.parquet\n",
      "Loaded C:\\Users\\Dmitrijs\\Documents\\myDocs\\masters\\courses\\thesis\\code\\data\\keywords\\merged\\scverse.scanpy.1.10.2.issue_comment.04.parquet\n",
      "Loaded C:\\Users\\Dmitrijs\\Documents\\myDocs\\masters\\courses\\thesis\\code\\data\\keywords\\merged\\scverse.scanpy.1.10.2.issue_comment.05.parquet\n",
      "Loaded C:\\Users\\Dmitrijs\\Documents\\myDocs\\masters\\courses\\thesis\\code\\data\\keywords\\merged\\scverse.scanpy.1.10.2.issue_comment.06.parquet\n",
      "Loaded C:\\Users\\Dmitrijs\\Documents\\myDocs\\masters\\courses\\thesis\\code\\data\\keywords\\merged\\scverse.scanpy.1.10.2.issue_comment.07.parquet\n",
      "Loaded C:\\Users\\Dmitrijs\\Documents\\myDocs\\masters\\courses\\thesis\\code\\data\\keywords\\merged\\scverse.scanpy.1.10.2.issue_comment.08.parquet\n",
      "Loaded C:\\Users\\Dmitrijs\\Documents\\myDocs\\masters\\courses\\thesis\\code\\data\\keywords\\merged\\scverse.scanpy.1.10.2.issue_comment.09.parquet\n",
      "Loaded C:\\Users\\Dmitrijs\\Documents\\myDocs\\masters\\courses\\thesis\\code\\data\\keywords\\merged\\scverse.scanpy.1.10.2.issue_comment.10.parquet\n",
      "Loaded C:\\Users\\Dmitrijs\\Documents\\myDocs\\masters\\courses\\thesis\\code\\data\\keywords\\merged\\scverse.scanpy.1.10.2.issue_comment.11.parquet\n",
      "Loaded C:\\Users\\Dmitrijs\\Documents\\myDocs\\masters\\courses\\thesis\\code\\data\\keywords\\merged\\scverse.scanpy.1.10.2.issue_comment.12.parquet\n",
      "Loaded C:\\Users\\Dmitrijs\\Documents\\myDocs\\masters\\courses\\thesis\\code\\data\\keywords\\merged\\scverse.scanpy.1.10.2.issue_comment.13.parquet\n",
      "Loaded C:\\Users\\Dmitrijs\\Documents\\myDocs\\masters\\courses\\thesis\\code\\data\\keywords\\merged\\scverse.scanpy.1.10.2.wiki.0.parquet\n",
      "Loaded C:\\Users\\Dmitrijs\\Documents\\myDocs\\masters\\courses\\thesis\\code\\data\\keywords\\merged\\scverse.scanpy.1.10.2.wiki.1.parquet\n",
      "Loaded C:\\Users\\Dmitrijs\\Documents\\myDocs\\masters\\courses\\thesis\\code\\data\\keywords\\merged\\scverse.scanpy.1.10.2.wiki.2.parquet\n"
     ]
    }
   ],
   "execution_count": 28
  },
  {
   "metadata": {
    "ExecuteTime": {
     "end_time": "2025-07-29T19:46:28.383619Z",
     "start_time": "2025-07-29T19:46:28.343730Z"
    }
   },
   "cell_type": "code",
   "source": "df.shape",
   "id": "18b7bfabeeef4b1b",
   "outputs": [
    {
     "data": {
      "text/plain": [
       "(1601472, 20)"
      ]
     },
     "execution_count": 29,
     "metadata": {},
     "output_type": "execute_result"
    }
   ],
   "execution_count": 29
  },
  {
   "metadata": {
    "ExecuteTime": {
     "end_time": "2025-07-29T19:46:29.755960Z",
     "start_time": "2025-07-29T19:46:29.686917Z"
    }
   },
   "cell_type": "code",
   "source": "df.head(3)",
   "id": "f27c596c078f280e",
   "outputs": [
    {
     "data": {
      "text/plain": [
       "                                                  id keyword keyword_raw  \\\n",
       "0  allenai/scispacy/v0.5.5.code_comment.availabil...    down        down   \n",
       "1  allenai/scispacy/v0.5.5.code_comment.availabil...    down        down   \n",
       "2  allenai/scispacy/v0.5.5.code_comment.availabil...    down        down   \n",
       "\n",
       "                                            sentence            qa  \\\n",
       "0  Given something that might be a URL (or might ...  availability   \n",
       "1  Given a URL, look for the corresponding datase...  availability   \n",
       "2  Download to temporary file, then copy to cache...  availability   \n",
       "\n",
       "         source                                                url  \\\n",
       "0  code_comment  https://github.com/allenai/scispacy/tree/v0.5....   \n",
       "1  code_comment  https://github.com/allenai/scispacy/tree/v0.5....   \n",
       "2  code_comment  https://github.com/allenai/scispacy/tree/v0.5....   \n",
       "\n",
       "                   repo_id matched_word          unique_matched_words  \\\n",
       "0  allenai/scispacy/v0.5.5     download  download, Download, DOWNLOAD   \n",
       "1  allenai/scispacy/v0.5.5     download  download, Download, DOWNLOAD   \n",
       "2  allenai/scispacy/v0.5.5     download  download, Download, DOWNLOAD   \n",
       "\n",
       "   nunique_matched_words  nsimilar s0_to_eliminate  \\\n",
       "0                      3         1           False   \n",
       "1                      3         1            True   \n",
       "2                      3         2           False   \n",
       "\n",
       "                                        s0_reasoning s1_true_positive  \\\n",
       "0  This content describes a function that process...             True   \n",
       "1  This is a technical instruction or algorithm d...             None   \n",
       "2  This is a brief instruction about handling dow...             True   \n",
       "\n",
       "                                        s1_reasoning s2_related_to_arch  \\\n",
       "0  The content describes functionality related to...              False   \n",
       "1                                               None               None   \n",
       "2  The content describes a mechanism for handling...              False   \n",
       "\n",
       "                                        s2_reasoning s3_tactic s3_response  \n",
       "0  Step 1: Initial Analysis\\nThe content describe...      None        None  \n",
       "1                                               None      None        None  \n",
       "2  The content describes a specific implementatio...      None        None  "
      ],
      "text/html": [
       "<div>\n",
       "<style scoped>\n",
       "    .dataframe tbody tr th:only-of-type {\n",
       "        vertical-align: middle;\n",
       "    }\n",
       "\n",
       "    .dataframe tbody tr th {\n",
       "        vertical-align: top;\n",
       "    }\n",
       "\n",
       "    .dataframe thead th {\n",
       "        text-align: right;\n",
       "    }\n",
       "</style>\n",
       "<table border=\"1\" class=\"dataframe\">\n",
       "  <thead>\n",
       "    <tr style=\"text-align: right;\">\n",
       "      <th></th>\n",
       "      <th>id</th>\n",
       "      <th>keyword</th>\n",
       "      <th>keyword_raw</th>\n",
       "      <th>sentence</th>\n",
       "      <th>qa</th>\n",
       "      <th>source</th>\n",
       "      <th>url</th>\n",
       "      <th>repo_id</th>\n",
       "      <th>matched_word</th>\n",
       "      <th>unique_matched_words</th>\n",
       "      <th>nunique_matched_words</th>\n",
       "      <th>nsimilar</th>\n",
       "      <th>s0_to_eliminate</th>\n",
       "      <th>s0_reasoning</th>\n",
       "      <th>s1_true_positive</th>\n",
       "      <th>s1_reasoning</th>\n",
       "      <th>s2_related_to_arch</th>\n",
       "      <th>s2_reasoning</th>\n",
       "      <th>s3_tactic</th>\n",
       "      <th>s3_response</th>\n",
       "    </tr>\n",
       "  </thead>\n",
       "  <tbody>\n",
       "    <tr>\n",
       "      <th>0</th>\n",
       "      <td>allenai/scispacy/v0.5.5.code_comment.availabil...</td>\n",
       "      <td>down</td>\n",
       "      <td>down</td>\n",
       "      <td>Given something that might be a URL (or might ...</td>\n",
       "      <td>availability</td>\n",
       "      <td>code_comment</td>\n",
       "      <td>https://github.com/allenai/scispacy/tree/v0.5....</td>\n",
       "      <td>allenai/scispacy/v0.5.5</td>\n",
       "      <td>download</td>\n",
       "      <td>download, Download, DOWNLOAD</td>\n",
       "      <td>3</td>\n",
       "      <td>1</td>\n",
       "      <td>False</td>\n",
       "      <td>This content describes a function that process...</td>\n",
       "      <td>True</td>\n",
       "      <td>The content describes functionality related to...</td>\n",
       "      <td>False</td>\n",
       "      <td>Step 1: Initial Analysis\\nThe content describe...</td>\n",
       "      <td>None</td>\n",
       "      <td>None</td>\n",
       "    </tr>\n",
       "    <tr>\n",
       "      <th>1</th>\n",
       "      <td>allenai/scispacy/v0.5.5.code_comment.availabil...</td>\n",
       "      <td>down</td>\n",
       "      <td>down</td>\n",
       "      <td>Given a URL, look for the corresponding datase...</td>\n",
       "      <td>availability</td>\n",
       "      <td>code_comment</td>\n",
       "      <td>https://github.com/allenai/scispacy/tree/v0.5....</td>\n",
       "      <td>allenai/scispacy/v0.5.5</td>\n",
       "      <td>download</td>\n",
       "      <td>download, Download, DOWNLOAD</td>\n",
       "      <td>3</td>\n",
       "      <td>1</td>\n",
       "      <td>True</td>\n",
       "      <td>This is a technical instruction or algorithm d...</td>\n",
       "      <td>None</td>\n",
       "      <td>None</td>\n",
       "      <td>None</td>\n",
       "      <td>None</td>\n",
       "      <td>None</td>\n",
       "      <td>None</td>\n",
       "    </tr>\n",
       "    <tr>\n",
       "      <th>2</th>\n",
       "      <td>allenai/scispacy/v0.5.5.code_comment.availabil...</td>\n",
       "      <td>down</td>\n",
       "      <td>down</td>\n",
       "      <td>Download to temporary file, then copy to cache...</td>\n",
       "      <td>availability</td>\n",
       "      <td>code_comment</td>\n",
       "      <td>https://github.com/allenai/scispacy/tree/v0.5....</td>\n",
       "      <td>allenai/scispacy/v0.5.5</td>\n",
       "      <td>download</td>\n",
       "      <td>download, Download, DOWNLOAD</td>\n",
       "      <td>3</td>\n",
       "      <td>2</td>\n",
       "      <td>False</td>\n",
       "      <td>This is a brief instruction about handling dow...</td>\n",
       "      <td>True</td>\n",
       "      <td>The content describes a mechanism for handling...</td>\n",
       "      <td>False</td>\n",
       "      <td>The content describes a specific implementatio...</td>\n",
       "      <td>None</td>\n",
       "      <td>None</td>\n",
       "    </tr>\n",
       "  </tbody>\n",
       "</table>\n",
       "</div>"
      ]
     },
     "execution_count": 30,
     "metadata": {},
     "output_type": "execute_result"
    }
   ],
   "execution_count": 30
  },
  {
   "metadata": {},
   "cell_type": "markdown",
   "source": "# Add columns denoting which stage passed",
   "id": "ff24389999e1db76"
  },
  {
   "metadata": {
    "ExecuteTime": {
     "end_time": "2025-07-29T19:46:35.441314Z",
     "start_time": "2025-07-29T19:46:34.541228Z"
    }
   },
   "cell_type": "code",
   "source": [
    "df[\"prefilter_passed\"] = ~df['s0_to_eliminate'].isna()\n",
    "df['s0_passed'] = df[\"prefilter_passed\"] & (df['s0_to_eliminate'] == False)\n",
    "df['s1_passed'] = df['s0_passed'] & (df['s1_true_positive'] == True)\n",
    "df['s2_passed'] = df['s1_passed'] & (df['s2_related_to_arch'] == True)\n",
    "df['s3_passed'] = df['s2_passed'] & (~df['s3_tactic'].isna()) & (df['s3_tactic'] != \"None\")"
   ],
   "id": "65043ef2b98ae7e",
   "outputs": [],
   "execution_count": 31
  },
  {
   "metadata": {
    "ExecuteTime": {
     "end_time": "2025-07-29T19:46:36.068926Z",
     "start_time": "2025-07-29T19:46:36.043985Z"
    }
   },
   "cell_type": "code",
   "source": "df.columns",
   "id": "9f2c8f97fad6321",
   "outputs": [
    {
     "data": {
      "text/plain": [
       "Index(['id', 'keyword', 'keyword_raw', 'sentence', 'qa', 'source', 'url',\n",
       "       'repo_id', 'matched_word', 'unique_matched_words',\n",
       "       'nunique_matched_words', 'nsimilar', 's0_to_eliminate', 's0_reasoning',\n",
       "       's1_true_positive', 's1_reasoning', 's2_related_to_arch',\n",
       "       's2_reasoning', 's3_tactic', 's3_response', 'prefilter_passed',\n",
       "       's0_passed', 's1_passed', 's2_passed', 's3_passed'],\n",
       "      dtype='object')"
      ]
     },
     "execution_count": 32,
     "metadata": {},
     "output_type": "execute_result"
    }
   ],
   "execution_count": 32
  },
  {
   "metadata": {},
   "cell_type": "markdown",
   "source": "# Add column for tactic category",
   "id": "ba5e545f736edb87"
  },
  {
   "metadata": {
    "ExecuteTime": {
     "end_time": "2025-07-29T19:46:39.270986Z",
     "start_time": "2025-07-29T19:46:38.623046Z"
    }
   },
   "cell_type": "code",
   "source": [
    "from cfg.tactics.tactic_to_category_map import tactic_to_category_map\n",
    "\n",
    "df[\"s3_tactic_category\"] = df.s3_tactic.apply(lambda x: tactic_to_category_map.get(x))\n",
    "df.head()"
   ],
   "id": "8f472b6e6bdb5fa2",
   "outputs": [
    {
     "data": {
      "text/plain": [
       "                                                  id  keyword keyword_raw  \\\n",
       "0  allenai/scispacy/v0.5.5.code_comment.availabil...     down        down   \n",
       "1  allenai/scispacy/v0.5.5.code_comment.availabil...     down        down   \n",
       "2  allenai/scispacy/v0.5.5.code_comment.availabil...     down        down   \n",
       "3  allenai/scispacy/v0.5.5.code_comment.availabil...    avail       avail   \n",
       "4  allenai/scispacy/v0.5.5.code_comment.availabil...  consist     consist   \n",
       "\n",
       "                                            sentence            qa  \\\n",
       "0  Given something that might be a URL (or might ...  availability   \n",
       "1  Given a URL, look for the corresponding datase...  availability   \n",
       "2  Download to temporary file, then copy to cache...  availability   \n",
       "3  A candidate generator for entity linking to a ...  availability   \n",
       "4  A spacy pipeline component which identifies en...  availability   \n",
       "\n",
       "         source                                                url  \\\n",
       "0  code_comment  https://github.com/allenai/scispacy/tree/v0.5....   \n",
       "1  code_comment  https://github.com/allenai/scispacy/tree/v0.5....   \n",
       "2  code_comment  https://github.com/allenai/scispacy/tree/v0.5....   \n",
       "3  code_comment  https://github.com/allenai/scispacy/tree/v0.5....   \n",
       "4  code_comment  https://github.com/allenai/scispacy/tree/v0.5....   \n",
       "\n",
       "                   repo_id matched_word             unique_matched_words  ...  \\\n",
       "0  allenai/scispacy/v0.5.5     download     download, Download, DOWNLOAD  ...   \n",
       "1  allenai/scispacy/v0.5.5     download     download, Download, DOWNLOAD  ...   \n",
       "2  allenai/scispacy/v0.5.5     download     download, Download, DOWNLOAD  ...   \n",
       "3  allenai/scispacy/v0.5.5    available  available, Available, AVAILABLE  ...   \n",
       "4  allenai/scispacy/v0.5.5     consists               consists, Consists  ...   \n",
       "\n",
       "   s2_related_to_arch                                       s2_reasoning  \\\n",
       "0               False  Step 1: Initial Analysis\\nThe content describe...   \n",
       "1                None                                               None   \n",
       "2               False  The content describes a specific implementatio...   \n",
       "3                True  The content describes a candidate generator fo...   \n",
       "4                None                                               None   \n",
       "\n",
       "  s3_tactic                                        s3_response  \\\n",
       "0      None                                               None   \n",
       "1      None                                               None   \n",
       "2      None                                               None   \n",
       "3      None  The system is implementing a candidate generat...   \n",
       "4      None                                               None   \n",
       "\n",
       "  prefilter_passed s0_passed s1_passed s2_passed s3_passed s3_tactic_category  \n",
       "0             True      True      True     False     False               None  \n",
       "1             True     False     False     False     False               None  \n",
       "2             True      True      True     False     False               None  \n",
       "3             True      True      True      True     False               None  \n",
       "4             True     False     False     False     False               None  \n",
       "\n",
       "[5 rows x 26 columns]"
      ],
      "text/html": [
       "<div>\n",
       "<style scoped>\n",
       "    .dataframe tbody tr th:only-of-type {\n",
       "        vertical-align: middle;\n",
       "    }\n",
       "\n",
       "    .dataframe tbody tr th {\n",
       "        vertical-align: top;\n",
       "    }\n",
       "\n",
       "    .dataframe thead th {\n",
       "        text-align: right;\n",
       "    }\n",
       "</style>\n",
       "<table border=\"1\" class=\"dataframe\">\n",
       "  <thead>\n",
       "    <tr style=\"text-align: right;\">\n",
       "      <th></th>\n",
       "      <th>id</th>\n",
       "      <th>keyword</th>\n",
       "      <th>keyword_raw</th>\n",
       "      <th>sentence</th>\n",
       "      <th>qa</th>\n",
       "      <th>source</th>\n",
       "      <th>url</th>\n",
       "      <th>repo_id</th>\n",
       "      <th>matched_word</th>\n",
       "      <th>unique_matched_words</th>\n",
       "      <th>...</th>\n",
       "      <th>s2_related_to_arch</th>\n",
       "      <th>s2_reasoning</th>\n",
       "      <th>s3_tactic</th>\n",
       "      <th>s3_response</th>\n",
       "      <th>prefilter_passed</th>\n",
       "      <th>s0_passed</th>\n",
       "      <th>s1_passed</th>\n",
       "      <th>s2_passed</th>\n",
       "      <th>s3_passed</th>\n",
       "      <th>s3_tactic_category</th>\n",
       "    </tr>\n",
       "  </thead>\n",
       "  <tbody>\n",
       "    <tr>\n",
       "      <th>0</th>\n",
       "      <td>allenai/scispacy/v0.5.5.code_comment.availabil...</td>\n",
       "      <td>down</td>\n",
       "      <td>down</td>\n",
       "      <td>Given something that might be a URL (or might ...</td>\n",
       "      <td>availability</td>\n",
       "      <td>code_comment</td>\n",
       "      <td>https://github.com/allenai/scispacy/tree/v0.5....</td>\n",
       "      <td>allenai/scispacy/v0.5.5</td>\n",
       "      <td>download</td>\n",
       "      <td>download, Download, DOWNLOAD</td>\n",
       "      <td>...</td>\n",
       "      <td>False</td>\n",
       "      <td>Step 1: Initial Analysis\\nThe content describe...</td>\n",
       "      <td>None</td>\n",
       "      <td>None</td>\n",
       "      <td>True</td>\n",
       "      <td>True</td>\n",
       "      <td>True</td>\n",
       "      <td>False</td>\n",
       "      <td>False</td>\n",
       "      <td>None</td>\n",
       "    </tr>\n",
       "    <tr>\n",
       "      <th>1</th>\n",
       "      <td>allenai/scispacy/v0.5.5.code_comment.availabil...</td>\n",
       "      <td>down</td>\n",
       "      <td>down</td>\n",
       "      <td>Given a URL, look for the corresponding datase...</td>\n",
       "      <td>availability</td>\n",
       "      <td>code_comment</td>\n",
       "      <td>https://github.com/allenai/scispacy/tree/v0.5....</td>\n",
       "      <td>allenai/scispacy/v0.5.5</td>\n",
       "      <td>download</td>\n",
       "      <td>download, Download, DOWNLOAD</td>\n",
       "      <td>...</td>\n",
       "      <td>None</td>\n",
       "      <td>None</td>\n",
       "      <td>None</td>\n",
       "      <td>None</td>\n",
       "      <td>True</td>\n",
       "      <td>False</td>\n",
       "      <td>False</td>\n",
       "      <td>False</td>\n",
       "      <td>False</td>\n",
       "      <td>None</td>\n",
       "    </tr>\n",
       "    <tr>\n",
       "      <th>2</th>\n",
       "      <td>allenai/scispacy/v0.5.5.code_comment.availabil...</td>\n",
       "      <td>down</td>\n",
       "      <td>down</td>\n",
       "      <td>Download to temporary file, then copy to cache...</td>\n",
       "      <td>availability</td>\n",
       "      <td>code_comment</td>\n",
       "      <td>https://github.com/allenai/scispacy/tree/v0.5....</td>\n",
       "      <td>allenai/scispacy/v0.5.5</td>\n",
       "      <td>download</td>\n",
       "      <td>download, Download, DOWNLOAD</td>\n",
       "      <td>...</td>\n",
       "      <td>False</td>\n",
       "      <td>The content describes a specific implementatio...</td>\n",
       "      <td>None</td>\n",
       "      <td>None</td>\n",
       "      <td>True</td>\n",
       "      <td>True</td>\n",
       "      <td>True</td>\n",
       "      <td>False</td>\n",
       "      <td>False</td>\n",
       "      <td>None</td>\n",
       "    </tr>\n",
       "    <tr>\n",
       "      <th>3</th>\n",
       "      <td>allenai/scispacy/v0.5.5.code_comment.availabil...</td>\n",
       "      <td>avail</td>\n",
       "      <td>avail</td>\n",
       "      <td>A candidate generator for entity linking to a ...</td>\n",
       "      <td>availability</td>\n",
       "      <td>code_comment</td>\n",
       "      <td>https://github.com/allenai/scispacy/tree/v0.5....</td>\n",
       "      <td>allenai/scispacy/v0.5.5</td>\n",
       "      <td>available</td>\n",
       "      <td>available, Available, AVAILABLE</td>\n",
       "      <td>...</td>\n",
       "      <td>True</td>\n",
       "      <td>The content describes a candidate generator fo...</td>\n",
       "      <td>None</td>\n",
       "      <td>The system is implementing a candidate generat...</td>\n",
       "      <td>True</td>\n",
       "      <td>True</td>\n",
       "      <td>True</td>\n",
       "      <td>True</td>\n",
       "      <td>False</td>\n",
       "      <td>None</td>\n",
       "    </tr>\n",
       "    <tr>\n",
       "      <th>4</th>\n",
       "      <td>allenai/scispacy/v0.5.5.code_comment.availabil...</td>\n",
       "      <td>consist</td>\n",
       "      <td>consist</td>\n",
       "      <td>A spacy pipeline component which identifies en...</td>\n",
       "      <td>availability</td>\n",
       "      <td>code_comment</td>\n",
       "      <td>https://github.com/allenai/scispacy/tree/v0.5....</td>\n",
       "      <td>allenai/scispacy/v0.5.5</td>\n",
       "      <td>consists</td>\n",
       "      <td>consists, Consists</td>\n",
       "      <td>...</td>\n",
       "      <td>None</td>\n",
       "      <td>None</td>\n",
       "      <td>None</td>\n",
       "      <td>None</td>\n",
       "      <td>True</td>\n",
       "      <td>False</td>\n",
       "      <td>False</td>\n",
       "      <td>False</td>\n",
       "      <td>False</td>\n",
       "      <td>None</td>\n",
       "    </tr>\n",
       "  </tbody>\n",
       "</table>\n",
       "<p>5 rows × 26 columns</p>\n",
       "</div>"
      ]
     },
     "execution_count": 33,
     "metadata": {},
     "output_type": "execute_result"
    }
   ],
   "execution_count": 33
  },
  {
   "metadata": {
    "ExecuteTime": {
     "end_time": "2025-07-30T07:23:31.780001Z",
     "start_time": "2025-07-30T07:23:31.697050Z"
    }
   },
   "cell_type": "code",
   "source": "df.groupby(\"s3_tactic_category\").nsimilar.agg(\"sum\")",
   "id": "4e7e7a78a113a190",
   "outputs": [
    {
     "data": {
      "text/plain": [
       "s3_tactic_category\n",
       "Control Resource Demand                       1763\n",
       "Control and Observe System State              1261\n",
       "Defer Binding                                   59\n",
       "Detect Attacks                                  33\n",
       "Detect Faults                                  180\n",
       "Increase Cohesion                               17\n",
       "Limit Complexity                               202\n",
       "Manage Interfaces                             1930\n",
       "Manage Resources                              3189\n",
       "Prevent Faults                                1260\n",
       "React to Attacks                                20\n",
       "Recover from Attacks                             2\n",
       "Recover from Faults_Preparation and Repair      82\n",
       "Recover from Faults_Reintroduction               1\n",
       "Reduce Coupling                                206\n",
       "Reduce Size of a Module                        207\n",
       "Resist Attacks                                1072\n",
       "Resource Adaptation                           3056\n",
       "Resource Allocation                            179\n",
       "Resource Monitoring                              7\n",
       "Separate the User Interface                    146\n",
       "Support System Initiative                      157\n",
       "Support User Initiative                         56\n",
       "Name: nsimilar, dtype: int64"
      ]
     },
     "execution_count": 35,
     "metadata": {},
     "output_type": "execute_result"
    }
   ],
   "execution_count": 35
  },
  {
   "metadata": {},
   "cell_type": "markdown",
   "source": [
    "# R1\n",
    "## Primary - A quantitative analysis of the prevalence of each quality attribute."
   ],
   "id": "d78d55f9eacdfd03"
  },
  {
   "metadata": {
    "ExecuteTime": {
     "end_time": "2025-07-30T07:30:52.292769Z",
     "start_time": "2025-07-30T07:30:51.602721Z"
    }
   },
   "cell_type": "code",
   "source": [
    "r1_total_count = df[df.s1_passed].nsimilar.sum()\n",
    "r1_total_count"
   ],
   "id": "85142e11473c365e",
   "outputs": [
    {
     "data": {
      "text/plain": [
       "np.int64(620919)"
      ]
     },
     "execution_count": 46,
     "metadata": {},
     "output_type": "execute_result"
    }
   ],
   "execution_count": 46
  },
  {
   "metadata": {
    "ExecuteTime": {
     "end_time": "2025-07-30T07:41:50.779408Z",
     "start_time": "2025-07-30T07:41:50.276500Z"
    }
   },
   "cell_type": "code",
   "source": [
    "r1 = df[df.s1_passed].groupby(\"qa\").agg(nsimilar=(\"nsimilar\",\"sum\")).sort_values(\"nsimilar\", ascending=False)\n",
    "r1[\"percentage\"] = r1.nsimilar / r1_total_count * 100\n",
    "r1"
   ],
   "id": "7a7207b5da35a217",
   "outputs": [
    {
     "data": {
      "text/plain": [
       "                   nsimilar  percentage\n",
       "qa                                     \n",
       "usability             81624   13.145676\n",
       "safety                74280   11.962913\n",
       "deployability         69972   11.269103\n",
       "integrability         55903    9.003268\n",
       "performance           54407    8.762335\n",
       "modifiability         53923    8.684386\n",
       "testability           50777    8.177717\n",
       "security              50093    8.067558\n",
       "interoperability      43368    6.984486\n",
       "energy efficiency     39520    6.364759\n",
       "availability          33043    5.321628\n",
       "reliability           14009    2.256172"
      ],
      "text/html": [
       "<div>\n",
       "<style scoped>\n",
       "    .dataframe tbody tr th:only-of-type {\n",
       "        vertical-align: middle;\n",
       "    }\n",
       "\n",
       "    .dataframe tbody tr th {\n",
       "        vertical-align: top;\n",
       "    }\n",
       "\n",
       "    .dataframe thead th {\n",
       "        text-align: right;\n",
       "    }\n",
       "</style>\n",
       "<table border=\"1\" class=\"dataframe\">\n",
       "  <thead>\n",
       "    <tr style=\"text-align: right;\">\n",
       "      <th></th>\n",
       "      <th>nsimilar</th>\n",
       "      <th>percentage</th>\n",
       "    </tr>\n",
       "    <tr>\n",
       "      <th>qa</th>\n",
       "      <th></th>\n",
       "      <th></th>\n",
       "    </tr>\n",
       "  </thead>\n",
       "  <tbody>\n",
       "    <tr>\n",
       "      <th>usability</th>\n",
       "      <td>81624</td>\n",
       "      <td>13.145676</td>\n",
       "    </tr>\n",
       "    <tr>\n",
       "      <th>safety</th>\n",
       "      <td>74280</td>\n",
       "      <td>11.962913</td>\n",
       "    </tr>\n",
       "    <tr>\n",
       "      <th>deployability</th>\n",
       "      <td>69972</td>\n",
       "      <td>11.269103</td>\n",
       "    </tr>\n",
       "    <tr>\n",
       "      <th>integrability</th>\n",
       "      <td>55903</td>\n",
       "      <td>9.003268</td>\n",
       "    </tr>\n",
       "    <tr>\n",
       "      <th>performance</th>\n",
       "      <td>54407</td>\n",
       "      <td>8.762335</td>\n",
       "    </tr>\n",
       "    <tr>\n",
       "      <th>modifiability</th>\n",
       "      <td>53923</td>\n",
       "      <td>8.684386</td>\n",
       "    </tr>\n",
       "    <tr>\n",
       "      <th>testability</th>\n",
       "      <td>50777</td>\n",
       "      <td>8.177717</td>\n",
       "    </tr>\n",
       "    <tr>\n",
       "      <th>security</th>\n",
       "      <td>50093</td>\n",
       "      <td>8.067558</td>\n",
       "    </tr>\n",
       "    <tr>\n",
       "      <th>interoperability</th>\n",
       "      <td>43368</td>\n",
       "      <td>6.984486</td>\n",
       "    </tr>\n",
       "    <tr>\n",
       "      <th>energy efficiency</th>\n",
       "      <td>39520</td>\n",
       "      <td>6.364759</td>\n",
       "    </tr>\n",
       "    <tr>\n",
       "      <th>availability</th>\n",
       "      <td>33043</td>\n",
       "      <td>5.321628</td>\n",
       "    </tr>\n",
       "    <tr>\n",
       "      <th>reliability</th>\n",
       "      <td>14009</td>\n",
       "      <td>2.256172</td>\n",
       "    </tr>\n",
       "  </tbody>\n",
       "</table>\n",
       "</div>"
      ]
     },
     "execution_count": 56,
     "metadata": {},
     "output_type": "execute_result"
    }
   ],
   "execution_count": 56
  },
  {
   "metadata": {
    "ExecuteTime": {
     "end_time": "2025-07-30T07:44:13.991421Z",
     "start_time": "2025-07-30T07:44:13.920242Z"
    }
   },
   "cell_type": "code",
   "source": [
    "import plotly.express as px\n",
    "px.pie(r1, names=r1.index, values=\"nsimilar\", title=\"R1\")"
   ],
   "id": "6db89ee3753819de",
   "outputs": [
    {
     "data": {
      "application/vnd.plotly.v1+json": {
       "data": [
        {
         "domain": {
          "x": [
           0.0,
           1.0
          ],
          "y": [
           0.0,
           1.0
          ]
         },
         "hovertemplate": "qa=%{label}<br>nsimilar=%{value}<extra></extra>",
         "labels": [
          "usability",
          "safety",
          "deployability",
          "integrability",
          "performance",
          "modifiability",
          "testability",
          "security",
          "interoperability",
          "energy efficiency",
          "availability",
          "reliability"
         ],
         "legendgroup": "",
         "name": "",
         "showlegend": true,
         "values": {
          "dtype": "i4",
          "bdata": "2D4BACgiAQBUEQEAX9oAAIfUAACj0gAAWcYAAK3DAABoqQAAYJoAABOBAAC5NgAA"
         },
         "type": "pie"
        }
       ],
       "layout": {
        "template": {
         "data": {
          "histogram2dcontour": [
           {
            "type": "histogram2dcontour",
            "colorbar": {
             "outlinewidth": 0,
             "ticks": ""
            },
            "colorscale": [
             [
              0.0,
              "#0d0887"
             ],
             [
              0.1111111111111111,
              "#46039f"
             ],
             [
              0.2222222222222222,
              "#7201a8"
             ],
             [
              0.3333333333333333,
              "#9c179e"
             ],
             [
              0.4444444444444444,
              "#bd3786"
             ],
             [
              0.5555555555555556,
              "#d8576b"
             ],
             [
              0.6666666666666666,
              "#ed7953"
             ],
             [
              0.7777777777777778,
              "#fb9f3a"
             ],
             [
              0.8888888888888888,
              "#fdca26"
             ],
             [
              1.0,
              "#f0f921"
             ]
            ]
           }
          ],
          "choropleth": [
           {
            "type": "choropleth",
            "colorbar": {
             "outlinewidth": 0,
             "ticks": ""
            }
           }
          ],
          "histogram2d": [
           {
            "type": "histogram2d",
            "colorbar": {
             "outlinewidth": 0,
             "ticks": ""
            },
            "colorscale": [
             [
              0.0,
              "#0d0887"
             ],
             [
              0.1111111111111111,
              "#46039f"
             ],
             [
              0.2222222222222222,
              "#7201a8"
             ],
             [
              0.3333333333333333,
              "#9c179e"
             ],
             [
              0.4444444444444444,
              "#bd3786"
             ],
             [
              0.5555555555555556,
              "#d8576b"
             ],
             [
              0.6666666666666666,
              "#ed7953"
             ],
             [
              0.7777777777777778,
              "#fb9f3a"
             ],
             [
              0.8888888888888888,
              "#fdca26"
             ],
             [
              1.0,
              "#f0f921"
             ]
            ]
           }
          ],
          "heatmap": [
           {
            "type": "heatmap",
            "colorbar": {
             "outlinewidth": 0,
             "ticks": ""
            },
            "colorscale": [
             [
              0.0,
              "#0d0887"
             ],
             [
              0.1111111111111111,
              "#46039f"
             ],
             [
              0.2222222222222222,
              "#7201a8"
             ],
             [
              0.3333333333333333,
              "#9c179e"
             ],
             [
              0.4444444444444444,
              "#bd3786"
             ],
             [
              0.5555555555555556,
              "#d8576b"
             ],
             [
              0.6666666666666666,
              "#ed7953"
             ],
             [
              0.7777777777777778,
              "#fb9f3a"
             ],
             [
              0.8888888888888888,
              "#fdca26"
             ],
             [
              1.0,
              "#f0f921"
             ]
            ]
           }
          ],
          "contourcarpet": [
           {
            "type": "contourcarpet",
            "colorbar": {
             "outlinewidth": 0,
             "ticks": ""
            }
           }
          ],
          "contour": [
           {
            "type": "contour",
            "colorbar": {
             "outlinewidth": 0,
             "ticks": ""
            },
            "colorscale": [
             [
              0.0,
              "#0d0887"
             ],
             [
              0.1111111111111111,
              "#46039f"
             ],
             [
              0.2222222222222222,
              "#7201a8"
             ],
             [
              0.3333333333333333,
              "#9c179e"
             ],
             [
              0.4444444444444444,
              "#bd3786"
             ],
             [
              0.5555555555555556,
              "#d8576b"
             ],
             [
              0.6666666666666666,
              "#ed7953"
             ],
             [
              0.7777777777777778,
              "#fb9f3a"
             ],
             [
              0.8888888888888888,
              "#fdca26"
             ],
             [
              1.0,
              "#f0f921"
             ]
            ]
           }
          ],
          "surface": [
           {
            "type": "surface",
            "colorbar": {
             "outlinewidth": 0,
             "ticks": ""
            },
            "colorscale": [
             [
              0.0,
              "#0d0887"
             ],
             [
              0.1111111111111111,
              "#46039f"
             ],
             [
              0.2222222222222222,
              "#7201a8"
             ],
             [
              0.3333333333333333,
              "#9c179e"
             ],
             [
              0.4444444444444444,
              "#bd3786"
             ],
             [
              0.5555555555555556,
              "#d8576b"
             ],
             [
              0.6666666666666666,
              "#ed7953"
             ],
             [
              0.7777777777777778,
              "#fb9f3a"
             ],
             [
              0.8888888888888888,
              "#fdca26"
             ],
             [
              1.0,
              "#f0f921"
             ]
            ]
           }
          ],
          "mesh3d": [
           {
            "type": "mesh3d",
            "colorbar": {
             "outlinewidth": 0,
             "ticks": ""
            }
           }
          ],
          "scatter": [
           {
            "fillpattern": {
             "fillmode": "overlay",
             "size": 10,
             "solidity": 0.2
            },
            "type": "scatter"
           }
          ],
          "parcoords": [
           {
            "type": "parcoords",
            "line": {
             "colorbar": {
              "outlinewidth": 0,
              "ticks": ""
             }
            }
           }
          ],
          "scatterpolargl": [
           {
            "type": "scatterpolargl",
            "marker": {
             "colorbar": {
              "outlinewidth": 0,
              "ticks": ""
             }
            }
           }
          ],
          "bar": [
           {
            "error_x": {
             "color": "#2a3f5f"
            },
            "error_y": {
             "color": "#2a3f5f"
            },
            "marker": {
             "line": {
              "color": "#E5ECF6",
              "width": 0.5
             },
             "pattern": {
              "fillmode": "overlay",
              "size": 10,
              "solidity": 0.2
             }
            },
            "type": "bar"
           }
          ],
          "scattergeo": [
           {
            "type": "scattergeo",
            "marker": {
             "colorbar": {
              "outlinewidth": 0,
              "ticks": ""
             }
            }
           }
          ],
          "scatterpolar": [
           {
            "type": "scatterpolar",
            "marker": {
             "colorbar": {
              "outlinewidth": 0,
              "ticks": ""
             }
            }
           }
          ],
          "histogram": [
           {
            "marker": {
             "pattern": {
              "fillmode": "overlay",
              "size": 10,
              "solidity": 0.2
             }
            },
            "type": "histogram"
           }
          ],
          "scattergl": [
           {
            "type": "scattergl",
            "marker": {
             "colorbar": {
              "outlinewidth": 0,
              "ticks": ""
             }
            }
           }
          ],
          "scatter3d": [
           {
            "type": "scatter3d",
            "line": {
             "colorbar": {
              "outlinewidth": 0,
              "ticks": ""
             }
            },
            "marker": {
             "colorbar": {
              "outlinewidth": 0,
              "ticks": ""
             }
            }
           }
          ],
          "scattermap": [
           {
            "type": "scattermap",
            "marker": {
             "colorbar": {
              "outlinewidth": 0,
              "ticks": ""
             }
            }
           }
          ],
          "scattermapbox": [
           {
            "type": "scattermapbox",
            "marker": {
             "colorbar": {
              "outlinewidth": 0,
              "ticks": ""
             }
            }
           }
          ],
          "scatterternary": [
           {
            "type": "scatterternary",
            "marker": {
             "colorbar": {
              "outlinewidth": 0,
              "ticks": ""
             }
            }
           }
          ],
          "scattercarpet": [
           {
            "type": "scattercarpet",
            "marker": {
             "colorbar": {
              "outlinewidth": 0,
              "ticks": ""
             }
            }
           }
          ],
          "carpet": [
           {
            "aaxis": {
             "endlinecolor": "#2a3f5f",
             "gridcolor": "white",
             "linecolor": "white",
             "minorgridcolor": "white",
             "startlinecolor": "#2a3f5f"
            },
            "baxis": {
             "endlinecolor": "#2a3f5f",
             "gridcolor": "white",
             "linecolor": "white",
             "minorgridcolor": "white",
             "startlinecolor": "#2a3f5f"
            },
            "type": "carpet"
           }
          ],
          "table": [
           {
            "cells": {
             "fill": {
              "color": "#EBF0F8"
             },
             "line": {
              "color": "white"
             }
            },
            "header": {
             "fill": {
              "color": "#C8D4E3"
             },
             "line": {
              "color": "white"
             }
            },
            "type": "table"
           }
          ],
          "barpolar": [
           {
            "marker": {
             "line": {
              "color": "#E5ECF6",
              "width": 0.5
             },
             "pattern": {
              "fillmode": "overlay",
              "size": 10,
              "solidity": 0.2
             }
            },
            "type": "barpolar"
           }
          ],
          "pie": [
           {
            "automargin": true,
            "type": "pie"
           }
          ]
         },
         "layout": {
          "autotypenumbers": "strict",
          "colorway": [
           "#636efa",
           "#EF553B",
           "#00cc96",
           "#ab63fa",
           "#FFA15A",
           "#19d3f3",
           "#FF6692",
           "#B6E880",
           "#FF97FF",
           "#FECB52"
          ],
          "font": {
           "color": "#2a3f5f"
          },
          "hovermode": "closest",
          "hoverlabel": {
           "align": "left"
          },
          "paper_bgcolor": "white",
          "plot_bgcolor": "#E5ECF6",
          "polar": {
           "bgcolor": "#E5ECF6",
           "angularaxis": {
            "gridcolor": "white",
            "linecolor": "white",
            "ticks": ""
           },
           "radialaxis": {
            "gridcolor": "white",
            "linecolor": "white",
            "ticks": ""
           }
          },
          "ternary": {
           "bgcolor": "#E5ECF6",
           "aaxis": {
            "gridcolor": "white",
            "linecolor": "white",
            "ticks": ""
           },
           "baxis": {
            "gridcolor": "white",
            "linecolor": "white",
            "ticks": ""
           },
           "caxis": {
            "gridcolor": "white",
            "linecolor": "white",
            "ticks": ""
           }
          },
          "coloraxis": {
           "colorbar": {
            "outlinewidth": 0,
            "ticks": ""
           }
          },
          "colorscale": {
           "sequential": [
            [
             0.0,
             "#0d0887"
            ],
            [
             0.1111111111111111,
             "#46039f"
            ],
            [
             0.2222222222222222,
             "#7201a8"
            ],
            [
             0.3333333333333333,
             "#9c179e"
            ],
            [
             0.4444444444444444,
             "#bd3786"
            ],
            [
             0.5555555555555556,
             "#d8576b"
            ],
            [
             0.6666666666666666,
             "#ed7953"
            ],
            [
             0.7777777777777778,
             "#fb9f3a"
            ],
            [
             0.8888888888888888,
             "#fdca26"
            ],
            [
             1.0,
             "#f0f921"
            ]
           ],
           "sequentialminus": [
            [
             0.0,
             "#0d0887"
            ],
            [
             0.1111111111111111,
             "#46039f"
            ],
            [
             0.2222222222222222,
             "#7201a8"
            ],
            [
             0.3333333333333333,
             "#9c179e"
            ],
            [
             0.4444444444444444,
             "#bd3786"
            ],
            [
             0.5555555555555556,
             "#d8576b"
            ],
            [
             0.6666666666666666,
             "#ed7953"
            ],
            [
             0.7777777777777778,
             "#fb9f3a"
            ],
            [
             0.8888888888888888,
             "#fdca26"
            ],
            [
             1.0,
             "#f0f921"
            ]
           ],
           "diverging": [
            [
             0,
             "#8e0152"
            ],
            [
             0.1,
             "#c51b7d"
            ],
            [
             0.2,
             "#de77ae"
            ],
            [
             0.3,
             "#f1b6da"
            ],
            [
             0.4,
             "#fde0ef"
            ],
            [
             0.5,
             "#f7f7f7"
            ],
            [
             0.6,
             "#e6f5d0"
            ],
            [
             0.7,
             "#b8e186"
            ],
            [
             0.8,
             "#7fbc41"
            ],
            [
             0.9,
             "#4d9221"
            ],
            [
             1,
             "#276419"
            ]
           ]
          },
          "xaxis": {
           "gridcolor": "white",
           "linecolor": "white",
           "ticks": "",
           "title": {
            "standoff": 15
           },
           "zerolinecolor": "white",
           "automargin": true,
           "zerolinewidth": 2
          },
          "yaxis": {
           "gridcolor": "white",
           "linecolor": "white",
           "ticks": "",
           "title": {
            "standoff": 15
           },
           "zerolinecolor": "white",
           "automargin": true,
           "zerolinewidth": 2
          },
          "scene": {
           "xaxis": {
            "backgroundcolor": "#E5ECF6",
            "gridcolor": "white",
            "linecolor": "white",
            "showbackground": true,
            "ticks": "",
            "zerolinecolor": "white",
            "gridwidth": 2
           },
           "yaxis": {
            "backgroundcolor": "#E5ECF6",
            "gridcolor": "white",
            "linecolor": "white",
            "showbackground": true,
            "ticks": "",
            "zerolinecolor": "white",
            "gridwidth": 2
           },
           "zaxis": {
            "backgroundcolor": "#E5ECF6",
            "gridcolor": "white",
            "linecolor": "white",
            "showbackground": true,
            "ticks": "",
            "zerolinecolor": "white",
            "gridwidth": 2
           }
          },
          "shapedefaults": {
           "line": {
            "color": "#2a3f5f"
           }
          },
          "annotationdefaults": {
           "arrowcolor": "#2a3f5f",
           "arrowhead": 0,
           "arrowwidth": 1
          },
          "geo": {
           "bgcolor": "white",
           "landcolor": "#E5ECF6",
           "subunitcolor": "white",
           "showland": true,
           "showlakes": true,
           "lakecolor": "white"
          },
          "title": {
           "x": 0.05
          },
          "mapbox": {
           "style": "light"
          }
         }
        },
        "legend": {
         "tracegroupgap": 0
        },
        "title": {
         "text": "R1"
        }
       },
       "config": {
        "plotlyServerURL": "https://plot.ly"
       }
      }
     },
     "metadata": {},
     "output_type": "display_data"
    }
   ],
   "execution_count": 62
  },
  {
   "metadata": {},
   "cell_type": "markdown",
   "source": "## Secondary - Repository-Specific Priorities",
   "id": "6525929108a496dc"
  },
  {
   "metadata": {
    "ExecuteTime": {
     "end_time": "2025-07-30T07:59:33.791928Z",
     "start_time": "2025-07-30T07:59:33.039807Z"
    }
   },
   "cell_type": "code",
   "source": [
    "r1_2 = df[df.s1_passed].pivot_table(index=[\"repo_id\"], columns=\"qa\", values=\"nsimilar\", aggfunc=\"sum\")\n",
    "r1_2"
   ],
   "id": "87088268f4b4211a",
   "outputs": [
    {
     "data": {
      "text/plain": [
       "qa                          availability  deployability  energy efficiency  \\\n",
       "repo_id                                                                      \n",
       "OpenGene/fastp/v0.23.4               393            663                590   \n",
       "allenai/scispacy/v0.5.5              292            875                464   \n",
       "google/deepvariant/v1.6.1           1692           4075               2320   \n",
       "root-project/root/v6-32-06         27648          57117              33905   \n",
       "scverse/scanpy/1.10.2               3018           7242               2241   \n",
       "\n",
       "qa                          integrability  interoperability  modifiability  \\\n",
       "repo_id                                                                      \n",
       "OpenGene/fastp/v0.23.4               1046               742            754   \n",
       "allenai/scispacy/v0.5.5               637               313            424   \n",
       "google/deepvariant/v1.6.1            2286              1676           1696   \n",
       "root-project/root/v6-32-06          46686             37623          46281   \n",
       "scverse/scanpy/1.10.2                5248              3014           4768   \n",
       "\n",
       "qa                          performance  reliability  safety  security  \\\n",
       "repo_id                                                                  \n",
       "OpenGene/fastp/v0.23.4              467          142     790       440   \n",
       "allenai/scispacy/v0.5.5             513          117     498       548   \n",
       "google/deepvariant/v1.6.1          2824          604    3353      2153   \n",
       "root-project/root/v6-32-06        46662        12110   63228     43588   \n",
       "scverse/scanpy/1.10.2              3941         1036    6411      3364   \n",
       "\n",
       "qa                          testability  usability  \n",
       "repo_id                                             \n",
       "OpenGene/fastp/v0.23.4              269       1111  \n",
       "allenai/scispacy/v0.5.5             346        718  \n",
       "google/deepvariant/v1.6.1          2468       5830  \n",
       "root-project/root/v6-32-06        42232      65132  \n",
       "scverse/scanpy/1.10.2              5462       8833  "
      ],
      "text/html": [
       "<div>\n",
       "<style scoped>\n",
       "    .dataframe tbody tr th:only-of-type {\n",
       "        vertical-align: middle;\n",
       "    }\n",
       "\n",
       "    .dataframe tbody tr th {\n",
       "        vertical-align: top;\n",
       "    }\n",
       "\n",
       "    .dataframe thead th {\n",
       "        text-align: right;\n",
       "    }\n",
       "</style>\n",
       "<table border=\"1\" class=\"dataframe\">\n",
       "  <thead>\n",
       "    <tr style=\"text-align: right;\">\n",
       "      <th>qa</th>\n",
       "      <th>availability</th>\n",
       "      <th>deployability</th>\n",
       "      <th>energy efficiency</th>\n",
       "      <th>integrability</th>\n",
       "      <th>interoperability</th>\n",
       "      <th>modifiability</th>\n",
       "      <th>performance</th>\n",
       "      <th>reliability</th>\n",
       "      <th>safety</th>\n",
       "      <th>security</th>\n",
       "      <th>testability</th>\n",
       "      <th>usability</th>\n",
       "    </tr>\n",
       "    <tr>\n",
       "      <th>repo_id</th>\n",
       "      <th></th>\n",
       "      <th></th>\n",
       "      <th></th>\n",
       "      <th></th>\n",
       "      <th></th>\n",
       "      <th></th>\n",
       "      <th></th>\n",
       "      <th></th>\n",
       "      <th></th>\n",
       "      <th></th>\n",
       "      <th></th>\n",
       "      <th></th>\n",
       "    </tr>\n",
       "  </thead>\n",
       "  <tbody>\n",
       "    <tr>\n",
       "      <th>OpenGene/fastp/v0.23.4</th>\n",
       "      <td>393</td>\n",
       "      <td>663</td>\n",
       "      <td>590</td>\n",
       "      <td>1046</td>\n",
       "      <td>742</td>\n",
       "      <td>754</td>\n",
       "      <td>467</td>\n",
       "      <td>142</td>\n",
       "      <td>790</td>\n",
       "      <td>440</td>\n",
       "      <td>269</td>\n",
       "      <td>1111</td>\n",
       "    </tr>\n",
       "    <tr>\n",
       "      <th>allenai/scispacy/v0.5.5</th>\n",
       "      <td>292</td>\n",
       "      <td>875</td>\n",
       "      <td>464</td>\n",
       "      <td>637</td>\n",
       "      <td>313</td>\n",
       "      <td>424</td>\n",
       "      <td>513</td>\n",
       "      <td>117</td>\n",
       "      <td>498</td>\n",
       "      <td>548</td>\n",
       "      <td>346</td>\n",
       "      <td>718</td>\n",
       "    </tr>\n",
       "    <tr>\n",
       "      <th>google/deepvariant/v1.6.1</th>\n",
       "      <td>1692</td>\n",
       "      <td>4075</td>\n",
       "      <td>2320</td>\n",
       "      <td>2286</td>\n",
       "      <td>1676</td>\n",
       "      <td>1696</td>\n",
       "      <td>2824</td>\n",
       "      <td>604</td>\n",
       "      <td>3353</td>\n",
       "      <td>2153</td>\n",
       "      <td>2468</td>\n",
       "      <td>5830</td>\n",
       "    </tr>\n",
       "    <tr>\n",
       "      <th>root-project/root/v6-32-06</th>\n",
       "      <td>27648</td>\n",
       "      <td>57117</td>\n",
       "      <td>33905</td>\n",
       "      <td>46686</td>\n",
       "      <td>37623</td>\n",
       "      <td>46281</td>\n",
       "      <td>46662</td>\n",
       "      <td>12110</td>\n",
       "      <td>63228</td>\n",
       "      <td>43588</td>\n",
       "      <td>42232</td>\n",
       "      <td>65132</td>\n",
       "    </tr>\n",
       "    <tr>\n",
       "      <th>scverse/scanpy/1.10.2</th>\n",
       "      <td>3018</td>\n",
       "      <td>7242</td>\n",
       "      <td>2241</td>\n",
       "      <td>5248</td>\n",
       "      <td>3014</td>\n",
       "      <td>4768</td>\n",
       "      <td>3941</td>\n",
       "      <td>1036</td>\n",
       "      <td>6411</td>\n",
       "      <td>3364</td>\n",
       "      <td>5462</td>\n",
       "      <td>8833</td>\n",
       "    </tr>\n",
       "  </tbody>\n",
       "</table>\n",
       "</div>"
      ]
     },
     "execution_count": 77,
     "metadata": {},
     "output_type": "execute_result"
    }
   ],
   "execution_count": 77
  },
  {
   "metadata": {
    "ExecuteTime": {
     "end_time": "2025-07-30T07:55:31.190291Z",
     "start_time": "2025-07-30T07:55:31.133629Z"
    }
   },
   "cell_type": "code",
   "source": [
    "r1_2_pc = r1_2.div(r1_2.sum(axis=1), axis=0) * 100\n",
    "r1_2_pc"
   ],
   "id": "ca822209f63bbc6b",
   "outputs": [
    {
     "data": {
      "text/plain": [
       "qa                          availability  deployability  energy efficiency  \\\n",
       "repo_id                                                                      \n",
       "OpenGene/fastp/v0.23.4          5.391186       9.317192           7.885953   \n",
       "allenai/scispacy/v0.5.5         5.345201      17.373081           7.031176   \n",
       "google/deepvariant/v1.6.1       6.056916      12.697135           6.376063   \n",
       "root-project/root/v6-32-06      5.393953      12.130909           7.184916   \n",
       "scverse/scanpy/1.10.2           5.715650      16.824861           4.290478   \n",
       "\n",
       "qa                          integrability  interoperability  modifiability  \\\n",
       "repo_id                                                                      \n",
       "OpenGene/fastp/v0.23.4          15.155287          9.730158      10.007354   \n",
       "allenai/scispacy/v0.5.5          8.279175          5.491193       8.250918   \n",
       "google/deepvariant/v1.6.1        8.255592          6.323036       5.741697   \n",
       "root-project/root/v6-32-06       8.940985          7.423804       8.325616   \n",
       "scverse/scanpy/1.10.2            8.808272          5.561731       8.818960   \n",
       "\n",
       "qa                          performance  reliability     safety  security  \\\n",
       "repo_id                                                                     \n",
       "OpenGene/fastp/v0.23.4         6.528257     2.517395  10.759744  6.098320   \n",
       "allenai/scispacy/v0.5.5        7.860036     1.770745  10.869360  9.183385   \n",
       "google/deepvariant/v1.6.1      9.854273     2.489345  13.275527  6.906338   \n",
       "root-project/root/v6-32-06     8.321707     2.234079  12.140654  8.914785   \n",
       "scverse/scanpy/1.10.2          6.823721     1.864837  12.111819  6.083344   \n",
       "\n",
       "qa                          testability  usability  \n",
       "repo_id                                             \n",
       "OpenGene/fastp/v0.23.4         3.252814  13.356339  \n",
       "allenai/scispacy/v0.5.5        5.340492  13.205237  \n",
       "google/deepvariant/v1.6.1      7.210755  14.813324  \n",
       "root-project/root/v6-32-06     7.218292  11.770301  \n",
       "scverse/scanpy/1.10.2          8.880955  14.215372  "
      ],
      "text/html": [
       "<div>\n",
       "<style scoped>\n",
       "    .dataframe tbody tr th:only-of-type {\n",
       "        vertical-align: middle;\n",
       "    }\n",
       "\n",
       "    .dataframe tbody tr th {\n",
       "        vertical-align: top;\n",
       "    }\n",
       "\n",
       "    .dataframe thead th {\n",
       "        text-align: right;\n",
       "    }\n",
       "</style>\n",
       "<table border=\"1\" class=\"dataframe\">\n",
       "  <thead>\n",
       "    <tr style=\"text-align: right;\">\n",
       "      <th>qa</th>\n",
       "      <th>availability</th>\n",
       "      <th>deployability</th>\n",
       "      <th>energy efficiency</th>\n",
       "      <th>integrability</th>\n",
       "      <th>interoperability</th>\n",
       "      <th>modifiability</th>\n",
       "      <th>performance</th>\n",
       "      <th>reliability</th>\n",
       "      <th>safety</th>\n",
       "      <th>security</th>\n",
       "      <th>testability</th>\n",
       "      <th>usability</th>\n",
       "    </tr>\n",
       "    <tr>\n",
       "      <th>repo_id</th>\n",
       "      <th></th>\n",
       "      <th></th>\n",
       "      <th></th>\n",
       "      <th></th>\n",
       "      <th></th>\n",
       "      <th></th>\n",
       "      <th></th>\n",
       "      <th></th>\n",
       "      <th></th>\n",
       "      <th></th>\n",
       "      <th></th>\n",
       "      <th></th>\n",
       "    </tr>\n",
       "  </thead>\n",
       "  <tbody>\n",
       "    <tr>\n",
       "      <th>OpenGene/fastp/v0.23.4</th>\n",
       "      <td>5.391186</td>\n",
       "      <td>9.317192</td>\n",
       "      <td>7.885953</td>\n",
       "      <td>15.155287</td>\n",
       "      <td>9.730158</td>\n",
       "      <td>10.007354</td>\n",
       "      <td>6.528257</td>\n",
       "      <td>2.517395</td>\n",
       "      <td>10.759744</td>\n",
       "      <td>6.098320</td>\n",
       "      <td>3.252814</td>\n",
       "      <td>13.356339</td>\n",
       "    </tr>\n",
       "    <tr>\n",
       "      <th>allenai/scispacy/v0.5.5</th>\n",
       "      <td>5.345201</td>\n",
       "      <td>17.373081</td>\n",
       "      <td>7.031176</td>\n",
       "      <td>8.279175</td>\n",
       "      <td>5.491193</td>\n",
       "      <td>8.250918</td>\n",
       "      <td>7.860036</td>\n",
       "      <td>1.770745</td>\n",
       "      <td>10.869360</td>\n",
       "      <td>9.183385</td>\n",
       "      <td>5.340492</td>\n",
       "      <td>13.205237</td>\n",
       "    </tr>\n",
       "    <tr>\n",
       "      <th>google/deepvariant/v1.6.1</th>\n",
       "      <td>6.056916</td>\n",
       "      <td>12.697135</td>\n",
       "      <td>6.376063</td>\n",
       "      <td>8.255592</td>\n",
       "      <td>6.323036</td>\n",
       "      <td>5.741697</td>\n",
       "      <td>9.854273</td>\n",
       "      <td>2.489345</td>\n",
       "      <td>13.275527</td>\n",
       "      <td>6.906338</td>\n",
       "      <td>7.210755</td>\n",
       "      <td>14.813324</td>\n",
       "    </tr>\n",
       "    <tr>\n",
       "      <th>root-project/root/v6-32-06</th>\n",
       "      <td>5.393953</td>\n",
       "      <td>12.130909</td>\n",
       "      <td>7.184916</td>\n",
       "      <td>8.940985</td>\n",
       "      <td>7.423804</td>\n",
       "      <td>8.325616</td>\n",
       "      <td>8.321707</td>\n",
       "      <td>2.234079</td>\n",
       "      <td>12.140654</td>\n",
       "      <td>8.914785</td>\n",
       "      <td>7.218292</td>\n",
       "      <td>11.770301</td>\n",
       "    </tr>\n",
       "    <tr>\n",
       "      <th>scverse/scanpy/1.10.2</th>\n",
       "      <td>5.715650</td>\n",
       "      <td>16.824861</td>\n",
       "      <td>4.290478</td>\n",
       "      <td>8.808272</td>\n",
       "      <td>5.561731</td>\n",
       "      <td>8.818960</td>\n",
       "      <td>6.823721</td>\n",
       "      <td>1.864837</td>\n",
       "      <td>12.111819</td>\n",
       "      <td>6.083344</td>\n",
       "      <td>8.880955</td>\n",
       "      <td>14.215372</td>\n",
       "    </tr>\n",
       "  </tbody>\n",
       "</table>\n",
       "</div>"
      ]
     },
     "execution_count": 75,
     "metadata": {},
     "output_type": "execute_result"
    }
   ],
   "execution_count": 75
  },
  {
   "metadata": {
    "ExecuteTime": {
     "end_time": "2025-07-30T07:55:55.500823Z",
     "start_time": "2025-07-30T07:55:55.233002Z"
    }
   },
   "cell_type": "code",
   "source": "px.bar(r1_2_pc, title=\"R1_2\")",
   "id": "46c111e59880d313",
   "outputs": [
    {
     "data": {
      "application/vnd.plotly.v1+json": {
       "data": [
        {
         "hovertemplate": "qa=availability<br>repo_id=%{x}<br>value=%{y}<extra></extra>",
         "legendgroup": "availability",
         "marker": {
          "color": "#636efa",
          "pattern": {
           "shape": ""
          }
         },
         "name": "availability",
         "orientation": "v",
         "showlegend": true,
         "textposition": "auto",
         "x": [
          "OpenGene/fastp/v0.23.4",
          "allenai/scispacy/v0.5.5",
          "google/deepvariant/v1.6.1",
          "root-project/root/v6-32-06",
          "scverse/scanpy/1.10.2"
         ],
         "xaxis": "x",
         "y": {
          "dtype": "f8",
          "bdata": "sM1ZI5OQFUAh0yxlfGEVQMkyrzpIOhhAmW9rYWiTFUCl6Y9N09wWQA=="
         },
         "yaxis": "y",
         "type": "bar"
        },
        {
         "hovertemplate": "qa=deployability<br>repo_id=%{x}<br>value=%{y}<extra></extra>",
         "legendgroup": "deployability",
         "marker": {
          "color": "#EF553B",
          "pattern": {
           "shape": ""
          }
         },
         "name": "deployability",
         "orientation": "v",
         "showlegend": true,
         "textposition": "auto",
         "x": [
          "OpenGene/fastp/v0.23.4",
          "allenai/scispacy/v0.5.5",
          "google/deepvariant/v1.6.1",
          "root-project/root/v6-32-06",
          "scverse/scanpy/1.10.2"
         ],
         "xaxis": "x",
         "y": {
          "dtype": "f8",
          "bdata": "shC792aiIkDKhvo6gl8xQOUr7tHuZClAgLgzgAZDKEBIJvURKtMwQA=="
         },
         "yaxis": "y",
         "type": "bar"
        },
        {
         "hovertemplate": "qa=energy efficiency<br>repo_id=%{x}<br>value=%{y}<extra></extra>",
         "legendgroup": "energy efficiency",
         "marker": {
          "color": "#00cc96",
          "pattern": {
           "shape": ""
          }
         },
         "name": "energy efficiency",
         "orientation": "v",
         "showlegend": true,
         "textposition": "auto",
         "x": [
          "OpenGene/fastp/v0.23.4",
          "allenai/scispacy/v0.5.5",
          "google/deepvariant/v1.6.1",
          "root-project/root/v6-32-06",
          "scverse/scanpy/1.10.2"
         ],
         "xaxis": "x",
         "y": {
          "dtype": "f8",
          "bdata": "xSfeZDeLH0Awec617B8cQJc1BqkWgRlA2fsihFq9HEC8tXQtcykRQA=="
         },
         "yaxis": "y",
         "type": "bar"
        },
        {
         "hovertemplate": "qa=integrability<br>repo_id=%{x}<br>value=%{y}<extra></extra>",
         "legendgroup": "integrability",
         "marker": {
          "color": "#ab63fa",
          "pattern": {
           "shape": ""
          }
         },
         "name": "integrability",
         "orientation": "v",
         "showlegend": true,
         "textposition": "auto",
         "x": [
          "OpenGene/fastp/v0.23.4",
          "allenai/scispacy/v0.5.5",
          "google/deepvariant/v1.6.1",
          "root-project/root/v6-32-06",
          "scverse/scanpy/1.10.2"
         ],
         "xaxis": "x",
         "y": {
          "dtype": "f8",
          "bdata": "Ni9Ut4FPLkD033gD8I4gQECv+ALdgiBAxftxucjhIUCUyp3J1Z0hQA=="
         },
         "yaxis": "y",
         "type": "bar"
        },
        {
         "hovertemplate": "qa=interoperability<br>repo_id=%{x}<br>value=%{y}<extra></extra>",
         "legendgroup": "interoperability",
         "marker": {
          "color": "#FFA15A",
          "pattern": {
           "shape": ""
          }
         },
         "name": "interoperability",
         "orientation": "v",
         "showlegend": true,
         "textposition": "auto",
         "x": [
          "OpenGene/fastp/v0.23.4",
          "allenai/scispacy/v0.5.5",
          "google/deepvariant/v1.6.1",
          "root-project/root/v6-32-06",
          "scverse/scanpy/1.10.2"
         ],
         "xaxis": "x",
         "y": {
          "dtype": "f8",
          "bdata": "MIhUP9d1I0CTnQFl+/YVQMDZV9PJShlAH7LOrPmxHUBTcEt9Nj8WQA=="
         },
         "yaxis": "y",
         "type": "bar"
        },
        {
         "hovertemplate": "qa=modifiability<br>repo_id=%{x}<br>value=%{y}<extra></extra>",
         "legendgroup": "modifiability",
         "marker": {
          "color": "#19d3f3",
          "pattern": {
           "shape": ""
          }
         },
         "name": "modifiability",
         "orientation": "v",
         "showlegend": true,
         "textposition": "auto",
         "x": [
          "OpenGene/fastp/v0.23.4",
          "allenai/scispacy/v0.5.5",
          "google/deepvariant/v1.6.1",
          "root-project/root/v6-32-06",
          "scverse/scanpy/1.10.2"
         ],
         "xaxis": "x",
         "y": {
          "dtype": "f8",
          "bdata": "+f6i7cMDJEAbxFNeeIAgQBafW31/9xZAYI51MremIEAEnbzJTqMhQA=="
         },
         "yaxis": "y",
         "type": "bar"
        },
        {
         "hovertemplate": "qa=performance<br>repo_id=%{x}<br>value=%{y}<extra></extra>",
         "legendgroup": "performance",
         "marker": {
          "color": "#FF6692",
          "pattern": {
           "shape": ""
          }
         },
         "name": "performance",
         "orientation": "v",
         "showlegend": true,
         "textposition": "auto",
         "x": [
          "OpenGene/fastp/v0.23.4",
          "allenai/scispacy/v0.5.5",
          "google/deepvariant/v1.6.1",
          "root-project/root/v6-32-06",
          "scverse/scanpy/1.10.2"
         ],
         "xaxis": "x",
         "y": {
          "dtype": "f8",
          "bdata": "kxkCa+8cGkBeMPo4rXAfQOl/MzljtSNAgL0qxbakIEDCV4ZmfUsbQA=="
         },
         "yaxis": "y",
         "type": "bar"
        },
        {
         "hovertemplate": "qa=reliability<br>repo_id=%{x}<br>value=%{y}<extra></extra>",
         "legendgroup": "reliability",
         "marker": {
          "color": "#B6E880",
          "pattern": {
           "shape": ""
          }
         },
         "name": "reliability",
         "orientation": "v",
         "showlegend": true,
         "textposition": "auto",
         "x": [
          "OpenGene/fastp/v0.23.4",
          "allenai/scispacy/v0.5.5",
          "google/deepvariant/v1.6.1",
          "root-project/root/v6-32-06",
          "scverse/scanpy/1.10.2"
         ],
         "xaxis": "x",
         "y": {
          "dtype": "f8",
          "bdata": "9gmQPqAjBECjNAG++FT8PxeSgOwt6gNAXgIR32TfAUAOtXEOX9b9Pw=="
         },
         "yaxis": "y",
         "type": "bar"
        },
        {
         "hovertemplate": "qa=safety<br>repo_id=%{x}<br>value=%{y}<extra></extra>",
         "legendgroup": "safety",
         "marker": {
          "color": "#FF97FF",
          "pattern": {
           "shape": ""
          }
         },
         "name": "safety",
         "orientation": "v",
         "showlegend": true,
         "textposition": "auto",
         "x": [
          "OpenGene/fastp/v0.23.4",
          "allenai/scispacy/v0.5.5",
          "google/deepvariant/v1.6.1",
          "root-project/root/v6-32-06",
          "scverse/scanpy/1.10.2"
         ],
         "xaxis": "x",
         "y": {
          "dtype": "f8",
          "bdata": "Pfh3NP2EJUAtLm3QHL0lQJD/itoRjSpAIMF3vgNIKEBRPzpVQDkoQA=="
         },
         "yaxis": "y",
         "type": "bar"
        },
        {
         "hovertemplate": "qa=security<br>repo_id=%{x}<br>value=%{y}<extra></extra>",
         "legendgroup": "security",
         "marker": {
          "color": "#FECB52",
          "pattern": {
           "shape": ""
          }
         },
         "name": "security",
         "orientation": "v",
         "showlegend": true,
         "textposition": "auto",
         "x": [
          "OpenGene/fastp/v0.23.4",
          "allenai/scispacy/v0.5.5",
          "google/deepvariant/v1.6.1",
          "root-project/root/v6-32-06",
          "scverse/scanpy/1.10.2"
         ],
         "xaxis": "x",
         "y": {
          "dtype": "f8",
          "bdata": "amp89a1kGEAlWxyo5F0iQPbL1QEXoBtAAIT+sl7UIUBZRKUiWFUYQA=="
         },
         "yaxis": "y",
         "type": "bar"
        },
        {
         "hovertemplate": "qa=testability<br>repo_id=%{x}<br>value=%{y}<extra></extra>",
         "legendgroup": "testability",
         "marker": {
          "color": "#636efa",
          "pattern": {
           "shape": ""
          }
         },
         "name": "testability",
         "orientation": "v",
         "showlegend": true,
         "textposition": "auto",
         "x": [
          "OpenGene/fastp/v0.23.4",
          "allenai/scispacy/v0.5.5",
          "google/deepvariant/v1.6.1",
          "root-project/root/v6-32-06",
          "scverse/scanpy/1.10.2"
         ],
         "xaxis": "x",
         "y": {
          "dtype": "f8",
          "bdata": "rW4+jcMFCkAuH8vYqVwVQCTuXxjQ1xxAS+rAA4jfHEBWLjyXDMMhQA=="
         },
         "yaxis": "y",
         "type": "bar"
        },
        {
         "hovertemplate": "qa=usability<br>repo_id=%{x}<br>value=%{y}<extra></extra>",
         "legendgroup": "usability",
         "marker": {
          "color": "#EF553B",
          "pattern": {
           "shape": ""
          }
         },
         "name": "usability",
         "orientation": "v",
         "showlegend": true,
         "textposition": "auto",
         "x": [
          "OpenGene/fastp/v0.23.4",
          "allenai/scispacy/v0.5.5",
          "google/deepvariant/v1.6.1",
          "root-project/root/v6-32-06",
          "scverse/scanpy/1.10.2"
         ],
         "xaxis": "x",
         "y": {
          "dtype": "f8",
          "bdata": "z2UyCHK2KkC/gRPPFGkqQDYz6/RroC1ANnZw2mSKJ0Cn0bg5RW4sQA=="
         },
         "yaxis": "y",
         "type": "bar"
        }
       ],
       "layout": {
        "template": {
         "data": {
          "histogram2dcontour": [
           {
            "type": "histogram2dcontour",
            "colorbar": {
             "outlinewidth": 0,
             "ticks": ""
            },
            "colorscale": [
             [
              0.0,
              "#0d0887"
             ],
             [
              0.1111111111111111,
              "#46039f"
             ],
             [
              0.2222222222222222,
              "#7201a8"
             ],
             [
              0.3333333333333333,
              "#9c179e"
             ],
             [
              0.4444444444444444,
              "#bd3786"
             ],
             [
              0.5555555555555556,
              "#d8576b"
             ],
             [
              0.6666666666666666,
              "#ed7953"
             ],
             [
              0.7777777777777778,
              "#fb9f3a"
             ],
             [
              0.8888888888888888,
              "#fdca26"
             ],
             [
              1.0,
              "#f0f921"
             ]
            ]
           }
          ],
          "choropleth": [
           {
            "type": "choropleth",
            "colorbar": {
             "outlinewidth": 0,
             "ticks": ""
            }
           }
          ],
          "histogram2d": [
           {
            "type": "histogram2d",
            "colorbar": {
             "outlinewidth": 0,
             "ticks": ""
            },
            "colorscale": [
             [
              0.0,
              "#0d0887"
             ],
             [
              0.1111111111111111,
              "#46039f"
             ],
             [
              0.2222222222222222,
              "#7201a8"
             ],
             [
              0.3333333333333333,
              "#9c179e"
             ],
             [
              0.4444444444444444,
              "#bd3786"
             ],
             [
              0.5555555555555556,
              "#d8576b"
             ],
             [
              0.6666666666666666,
              "#ed7953"
             ],
             [
              0.7777777777777778,
              "#fb9f3a"
             ],
             [
              0.8888888888888888,
              "#fdca26"
             ],
             [
              1.0,
              "#f0f921"
             ]
            ]
           }
          ],
          "heatmap": [
           {
            "type": "heatmap",
            "colorbar": {
             "outlinewidth": 0,
             "ticks": ""
            },
            "colorscale": [
             [
              0.0,
              "#0d0887"
             ],
             [
              0.1111111111111111,
              "#46039f"
             ],
             [
              0.2222222222222222,
              "#7201a8"
             ],
             [
              0.3333333333333333,
              "#9c179e"
             ],
             [
              0.4444444444444444,
              "#bd3786"
             ],
             [
              0.5555555555555556,
              "#d8576b"
             ],
             [
              0.6666666666666666,
              "#ed7953"
             ],
             [
              0.7777777777777778,
              "#fb9f3a"
             ],
             [
              0.8888888888888888,
              "#fdca26"
             ],
             [
              1.0,
              "#f0f921"
             ]
            ]
           }
          ],
          "contourcarpet": [
           {
            "type": "contourcarpet",
            "colorbar": {
             "outlinewidth": 0,
             "ticks": ""
            }
           }
          ],
          "contour": [
           {
            "type": "contour",
            "colorbar": {
             "outlinewidth": 0,
             "ticks": ""
            },
            "colorscale": [
             [
              0.0,
              "#0d0887"
             ],
             [
              0.1111111111111111,
              "#46039f"
             ],
             [
              0.2222222222222222,
              "#7201a8"
             ],
             [
              0.3333333333333333,
              "#9c179e"
             ],
             [
              0.4444444444444444,
              "#bd3786"
             ],
             [
              0.5555555555555556,
              "#d8576b"
             ],
             [
              0.6666666666666666,
              "#ed7953"
             ],
             [
              0.7777777777777778,
              "#fb9f3a"
             ],
             [
              0.8888888888888888,
              "#fdca26"
             ],
             [
              1.0,
              "#f0f921"
             ]
            ]
           }
          ],
          "surface": [
           {
            "type": "surface",
            "colorbar": {
             "outlinewidth": 0,
             "ticks": ""
            },
            "colorscale": [
             [
              0.0,
              "#0d0887"
             ],
             [
              0.1111111111111111,
              "#46039f"
             ],
             [
              0.2222222222222222,
              "#7201a8"
             ],
             [
              0.3333333333333333,
              "#9c179e"
             ],
             [
              0.4444444444444444,
              "#bd3786"
             ],
             [
              0.5555555555555556,
              "#d8576b"
             ],
             [
              0.6666666666666666,
              "#ed7953"
             ],
             [
              0.7777777777777778,
              "#fb9f3a"
             ],
             [
              0.8888888888888888,
              "#fdca26"
             ],
             [
              1.0,
              "#f0f921"
             ]
            ]
           }
          ],
          "mesh3d": [
           {
            "type": "mesh3d",
            "colorbar": {
             "outlinewidth": 0,
             "ticks": ""
            }
           }
          ],
          "scatter": [
           {
            "fillpattern": {
             "fillmode": "overlay",
             "size": 10,
             "solidity": 0.2
            },
            "type": "scatter"
           }
          ],
          "parcoords": [
           {
            "type": "parcoords",
            "line": {
             "colorbar": {
              "outlinewidth": 0,
              "ticks": ""
             }
            }
           }
          ],
          "scatterpolargl": [
           {
            "type": "scatterpolargl",
            "marker": {
             "colorbar": {
              "outlinewidth": 0,
              "ticks": ""
             }
            }
           }
          ],
          "bar": [
           {
            "error_x": {
             "color": "#2a3f5f"
            },
            "error_y": {
             "color": "#2a3f5f"
            },
            "marker": {
             "line": {
              "color": "#E5ECF6",
              "width": 0.5
             },
             "pattern": {
              "fillmode": "overlay",
              "size": 10,
              "solidity": 0.2
             }
            },
            "type": "bar"
           }
          ],
          "scattergeo": [
           {
            "type": "scattergeo",
            "marker": {
             "colorbar": {
              "outlinewidth": 0,
              "ticks": ""
             }
            }
           }
          ],
          "scatterpolar": [
           {
            "type": "scatterpolar",
            "marker": {
             "colorbar": {
              "outlinewidth": 0,
              "ticks": ""
             }
            }
           }
          ],
          "histogram": [
           {
            "marker": {
             "pattern": {
              "fillmode": "overlay",
              "size": 10,
              "solidity": 0.2
             }
            },
            "type": "histogram"
           }
          ],
          "scattergl": [
           {
            "type": "scattergl",
            "marker": {
             "colorbar": {
              "outlinewidth": 0,
              "ticks": ""
             }
            }
           }
          ],
          "scatter3d": [
           {
            "type": "scatter3d",
            "line": {
             "colorbar": {
              "outlinewidth": 0,
              "ticks": ""
             }
            },
            "marker": {
             "colorbar": {
              "outlinewidth": 0,
              "ticks": ""
             }
            }
           }
          ],
          "scattermap": [
           {
            "type": "scattermap",
            "marker": {
             "colorbar": {
              "outlinewidth": 0,
              "ticks": ""
             }
            }
           }
          ],
          "scattermapbox": [
           {
            "type": "scattermapbox",
            "marker": {
             "colorbar": {
              "outlinewidth": 0,
              "ticks": ""
             }
            }
           }
          ],
          "scatterternary": [
           {
            "type": "scatterternary",
            "marker": {
             "colorbar": {
              "outlinewidth": 0,
              "ticks": ""
             }
            }
           }
          ],
          "scattercarpet": [
           {
            "type": "scattercarpet",
            "marker": {
             "colorbar": {
              "outlinewidth": 0,
              "ticks": ""
             }
            }
           }
          ],
          "carpet": [
           {
            "aaxis": {
             "endlinecolor": "#2a3f5f",
             "gridcolor": "white",
             "linecolor": "white",
             "minorgridcolor": "white",
             "startlinecolor": "#2a3f5f"
            },
            "baxis": {
             "endlinecolor": "#2a3f5f",
             "gridcolor": "white",
             "linecolor": "white",
             "minorgridcolor": "white",
             "startlinecolor": "#2a3f5f"
            },
            "type": "carpet"
           }
          ],
          "table": [
           {
            "cells": {
             "fill": {
              "color": "#EBF0F8"
             },
             "line": {
              "color": "white"
             }
            },
            "header": {
             "fill": {
              "color": "#C8D4E3"
             },
             "line": {
              "color": "white"
             }
            },
            "type": "table"
           }
          ],
          "barpolar": [
           {
            "marker": {
             "line": {
              "color": "#E5ECF6",
              "width": 0.5
             },
             "pattern": {
              "fillmode": "overlay",
              "size": 10,
              "solidity": 0.2
             }
            },
            "type": "barpolar"
           }
          ],
          "pie": [
           {
            "automargin": true,
            "type": "pie"
           }
          ]
         },
         "layout": {
          "autotypenumbers": "strict",
          "colorway": [
           "#636efa",
           "#EF553B",
           "#00cc96",
           "#ab63fa",
           "#FFA15A",
           "#19d3f3",
           "#FF6692",
           "#B6E880",
           "#FF97FF",
           "#FECB52"
          ],
          "font": {
           "color": "#2a3f5f"
          },
          "hovermode": "closest",
          "hoverlabel": {
           "align": "left"
          },
          "paper_bgcolor": "white",
          "plot_bgcolor": "#E5ECF6",
          "polar": {
           "bgcolor": "#E5ECF6",
           "angularaxis": {
            "gridcolor": "white",
            "linecolor": "white",
            "ticks": ""
           },
           "radialaxis": {
            "gridcolor": "white",
            "linecolor": "white",
            "ticks": ""
           }
          },
          "ternary": {
           "bgcolor": "#E5ECF6",
           "aaxis": {
            "gridcolor": "white",
            "linecolor": "white",
            "ticks": ""
           },
           "baxis": {
            "gridcolor": "white",
            "linecolor": "white",
            "ticks": ""
           },
           "caxis": {
            "gridcolor": "white",
            "linecolor": "white",
            "ticks": ""
           }
          },
          "coloraxis": {
           "colorbar": {
            "outlinewidth": 0,
            "ticks": ""
           }
          },
          "colorscale": {
           "sequential": [
            [
             0.0,
             "#0d0887"
            ],
            [
             0.1111111111111111,
             "#46039f"
            ],
            [
             0.2222222222222222,
             "#7201a8"
            ],
            [
             0.3333333333333333,
             "#9c179e"
            ],
            [
             0.4444444444444444,
             "#bd3786"
            ],
            [
             0.5555555555555556,
             "#d8576b"
            ],
            [
             0.6666666666666666,
             "#ed7953"
            ],
            [
             0.7777777777777778,
             "#fb9f3a"
            ],
            [
             0.8888888888888888,
             "#fdca26"
            ],
            [
             1.0,
             "#f0f921"
            ]
           ],
           "sequentialminus": [
            [
             0.0,
             "#0d0887"
            ],
            [
             0.1111111111111111,
             "#46039f"
            ],
            [
             0.2222222222222222,
             "#7201a8"
            ],
            [
             0.3333333333333333,
             "#9c179e"
            ],
            [
             0.4444444444444444,
             "#bd3786"
            ],
            [
             0.5555555555555556,
             "#d8576b"
            ],
            [
             0.6666666666666666,
             "#ed7953"
            ],
            [
             0.7777777777777778,
             "#fb9f3a"
            ],
            [
             0.8888888888888888,
             "#fdca26"
            ],
            [
             1.0,
             "#f0f921"
            ]
           ],
           "diverging": [
            [
             0,
             "#8e0152"
            ],
            [
             0.1,
             "#c51b7d"
            ],
            [
             0.2,
             "#de77ae"
            ],
            [
             0.3,
             "#f1b6da"
            ],
            [
             0.4,
             "#fde0ef"
            ],
            [
             0.5,
             "#f7f7f7"
            ],
            [
             0.6,
             "#e6f5d0"
            ],
            [
             0.7,
             "#b8e186"
            ],
            [
             0.8,
             "#7fbc41"
            ],
            [
             0.9,
             "#4d9221"
            ],
            [
             1,
             "#276419"
            ]
           ]
          },
          "xaxis": {
           "gridcolor": "white",
           "linecolor": "white",
           "ticks": "",
           "title": {
            "standoff": 15
           },
           "zerolinecolor": "white",
           "automargin": true,
           "zerolinewidth": 2
          },
          "yaxis": {
           "gridcolor": "white",
           "linecolor": "white",
           "ticks": "",
           "title": {
            "standoff": 15
           },
           "zerolinecolor": "white",
           "automargin": true,
           "zerolinewidth": 2
          },
          "scene": {
           "xaxis": {
            "backgroundcolor": "#E5ECF6",
            "gridcolor": "white",
            "linecolor": "white",
            "showbackground": true,
            "ticks": "",
            "zerolinecolor": "white",
            "gridwidth": 2
           },
           "yaxis": {
            "backgroundcolor": "#E5ECF6",
            "gridcolor": "white",
            "linecolor": "white",
            "showbackground": true,
            "ticks": "",
            "zerolinecolor": "white",
            "gridwidth": 2
           },
           "zaxis": {
            "backgroundcolor": "#E5ECF6",
            "gridcolor": "white",
            "linecolor": "white",
            "showbackground": true,
            "ticks": "",
            "zerolinecolor": "white",
            "gridwidth": 2
           }
          },
          "shapedefaults": {
           "line": {
            "color": "#2a3f5f"
           }
          },
          "annotationdefaults": {
           "arrowcolor": "#2a3f5f",
           "arrowhead": 0,
           "arrowwidth": 1
          },
          "geo": {
           "bgcolor": "white",
           "landcolor": "#E5ECF6",
           "subunitcolor": "white",
           "showland": true,
           "showlakes": true,
           "lakecolor": "white"
          },
          "title": {
           "x": 0.05
          },
          "mapbox": {
           "style": "light"
          }
         }
        },
        "xaxis": {
         "anchor": "y",
         "domain": [
          0.0,
          1.0
         ],
         "title": {
          "text": "repo_id"
         }
        },
        "yaxis": {
         "anchor": "x",
         "domain": [
          0.0,
          1.0
         ],
         "title": {
          "text": "value"
         }
        },
        "legend": {
         "title": {
          "text": "qa"
         },
         "tracegroupgap": 0
        },
        "title": {
         "text": "R1_2"
        },
        "barmode": "relative"
       },
       "config": {
        "plotlyServerURL": "https://plot.ly"
       }
      }
     },
     "metadata": {},
     "output_type": "display_data"
    }
   ],
   "execution_count": 76
  },
  {
   "metadata": {},
   "cell_type": "markdown",
   "source": "## Secondary 2 - Keyword Performance Analysis",
   "id": "24d88ba5187e19cb"
  },
  {
   "metadata": {
    "ExecuteTime": {
     "end_time": "2025-07-30T18:55:00.841646Z",
     "start_time": "2025-07-30T18:55:00.746198Z"
    }
   },
   "cell_type": "code",
   "source": "df.head()",
   "id": "1624a2e5bab5ad03",
   "outputs": [
    {
     "data": {
      "text/plain": [
       "                                                  id  keyword keyword_raw  \\\n",
       "0  allenai/scispacy/v0.5.5.code_comment.availabil...     down        down   \n",
       "1  allenai/scispacy/v0.5.5.code_comment.availabil...     down        down   \n",
       "2  allenai/scispacy/v0.5.5.code_comment.availabil...     down        down   \n",
       "3  allenai/scispacy/v0.5.5.code_comment.availabil...    avail       avail   \n",
       "4  allenai/scispacy/v0.5.5.code_comment.availabil...  consist     consist   \n",
       "\n",
       "                                            sentence            qa  \\\n",
       "0  Given something that might be a URL (or might ...  availability   \n",
       "1  Given a URL, look for the corresponding datase...  availability   \n",
       "2  Download to temporary file, then copy to cache...  availability   \n",
       "3  A candidate generator for entity linking to a ...  availability   \n",
       "4  A spacy pipeline component which identifies en...  availability   \n",
       "\n",
       "         source                                                url  \\\n",
       "0  code_comment  https://github.com/allenai/scispacy/tree/v0.5....   \n",
       "1  code_comment  https://github.com/allenai/scispacy/tree/v0.5....   \n",
       "2  code_comment  https://github.com/allenai/scispacy/tree/v0.5....   \n",
       "3  code_comment  https://github.com/allenai/scispacy/tree/v0.5....   \n",
       "4  code_comment  https://github.com/allenai/scispacy/tree/v0.5....   \n",
       "\n",
       "                   repo_id matched_word             unique_matched_words  ...  \\\n",
       "0  allenai/scispacy/v0.5.5     download     download, Download, DOWNLOAD  ...   \n",
       "1  allenai/scispacy/v0.5.5     download     download, Download, DOWNLOAD  ...   \n",
       "2  allenai/scispacy/v0.5.5     download     download, Download, DOWNLOAD  ...   \n",
       "3  allenai/scispacy/v0.5.5    available  available, Available, AVAILABLE  ...   \n",
       "4  allenai/scispacy/v0.5.5     consists               consists, Consists  ...   \n",
       "\n",
       "   s2_related_to_arch                                       s2_reasoning  \\\n",
       "0               False  Step 1: Initial Analysis\\nThe content describe...   \n",
       "1                None                                               None   \n",
       "2               False  The content describes a specific implementatio...   \n",
       "3                True  The content describes a candidate generator fo...   \n",
       "4                None                                               None   \n",
       "\n",
       "  s3_tactic                                        s3_response  \\\n",
       "0      None                                               None   \n",
       "1      None                                               None   \n",
       "2      None                                               None   \n",
       "3      None  The system is implementing a candidate generat...   \n",
       "4      None                                               None   \n",
       "\n",
       "  prefilter_passed s0_passed s1_passed s2_passed s3_passed s3_tactic_category  \n",
       "0             True      True      True     False     False               None  \n",
       "1             True     False     False     False     False               None  \n",
       "2             True      True      True     False     False               None  \n",
       "3             True      True      True      True     False               None  \n",
       "4             True     False     False     False     False               None  \n",
       "\n",
       "[5 rows x 26 columns]"
      ],
      "text/html": [
       "<div>\n",
       "<style scoped>\n",
       "    .dataframe tbody tr th:only-of-type {\n",
       "        vertical-align: middle;\n",
       "    }\n",
       "\n",
       "    .dataframe tbody tr th {\n",
       "        vertical-align: top;\n",
       "    }\n",
       "\n",
       "    .dataframe thead th {\n",
       "        text-align: right;\n",
       "    }\n",
       "</style>\n",
       "<table border=\"1\" class=\"dataframe\">\n",
       "  <thead>\n",
       "    <tr style=\"text-align: right;\">\n",
       "      <th></th>\n",
       "      <th>id</th>\n",
       "      <th>keyword</th>\n",
       "      <th>keyword_raw</th>\n",
       "      <th>sentence</th>\n",
       "      <th>qa</th>\n",
       "      <th>source</th>\n",
       "      <th>url</th>\n",
       "      <th>repo_id</th>\n",
       "      <th>matched_word</th>\n",
       "      <th>unique_matched_words</th>\n",
       "      <th>...</th>\n",
       "      <th>s2_related_to_arch</th>\n",
       "      <th>s2_reasoning</th>\n",
       "      <th>s3_tactic</th>\n",
       "      <th>s3_response</th>\n",
       "      <th>prefilter_passed</th>\n",
       "      <th>s0_passed</th>\n",
       "      <th>s1_passed</th>\n",
       "      <th>s2_passed</th>\n",
       "      <th>s3_passed</th>\n",
       "      <th>s3_tactic_category</th>\n",
       "    </tr>\n",
       "  </thead>\n",
       "  <tbody>\n",
       "    <tr>\n",
       "      <th>0</th>\n",
       "      <td>allenai/scispacy/v0.5.5.code_comment.availabil...</td>\n",
       "      <td>down</td>\n",
       "      <td>down</td>\n",
       "      <td>Given something that might be a URL (or might ...</td>\n",
       "      <td>availability</td>\n",
       "      <td>code_comment</td>\n",
       "      <td>https://github.com/allenai/scispacy/tree/v0.5....</td>\n",
       "      <td>allenai/scispacy/v0.5.5</td>\n",
       "      <td>download</td>\n",
       "      <td>download, Download, DOWNLOAD</td>\n",
       "      <td>...</td>\n",
       "      <td>False</td>\n",
       "      <td>Step 1: Initial Analysis\\nThe content describe...</td>\n",
       "      <td>None</td>\n",
       "      <td>None</td>\n",
       "      <td>True</td>\n",
       "      <td>True</td>\n",
       "      <td>True</td>\n",
       "      <td>False</td>\n",
       "      <td>False</td>\n",
       "      <td>None</td>\n",
       "    </tr>\n",
       "    <tr>\n",
       "      <th>1</th>\n",
       "      <td>allenai/scispacy/v0.5.5.code_comment.availabil...</td>\n",
       "      <td>down</td>\n",
       "      <td>down</td>\n",
       "      <td>Given a URL, look for the corresponding datase...</td>\n",
       "      <td>availability</td>\n",
       "      <td>code_comment</td>\n",
       "      <td>https://github.com/allenai/scispacy/tree/v0.5....</td>\n",
       "      <td>allenai/scispacy/v0.5.5</td>\n",
       "      <td>download</td>\n",
       "      <td>download, Download, DOWNLOAD</td>\n",
       "      <td>...</td>\n",
       "      <td>None</td>\n",
       "      <td>None</td>\n",
       "      <td>None</td>\n",
       "      <td>None</td>\n",
       "      <td>True</td>\n",
       "      <td>False</td>\n",
       "      <td>False</td>\n",
       "      <td>False</td>\n",
       "      <td>False</td>\n",
       "      <td>None</td>\n",
       "    </tr>\n",
       "    <tr>\n",
       "      <th>2</th>\n",
       "      <td>allenai/scispacy/v0.5.5.code_comment.availabil...</td>\n",
       "      <td>down</td>\n",
       "      <td>down</td>\n",
       "      <td>Download to temporary file, then copy to cache...</td>\n",
       "      <td>availability</td>\n",
       "      <td>code_comment</td>\n",
       "      <td>https://github.com/allenai/scispacy/tree/v0.5....</td>\n",
       "      <td>allenai/scispacy/v0.5.5</td>\n",
       "      <td>download</td>\n",
       "      <td>download, Download, DOWNLOAD</td>\n",
       "      <td>...</td>\n",
       "      <td>False</td>\n",
       "      <td>The content describes a specific implementatio...</td>\n",
       "      <td>None</td>\n",
       "      <td>None</td>\n",
       "      <td>True</td>\n",
       "      <td>True</td>\n",
       "      <td>True</td>\n",
       "      <td>False</td>\n",
       "      <td>False</td>\n",
       "      <td>None</td>\n",
       "    </tr>\n",
       "    <tr>\n",
       "      <th>3</th>\n",
       "      <td>allenai/scispacy/v0.5.5.code_comment.availabil...</td>\n",
       "      <td>avail</td>\n",
       "      <td>avail</td>\n",
       "      <td>A candidate generator for entity linking to a ...</td>\n",
       "      <td>availability</td>\n",
       "      <td>code_comment</td>\n",
       "      <td>https://github.com/allenai/scispacy/tree/v0.5....</td>\n",
       "      <td>allenai/scispacy/v0.5.5</td>\n",
       "      <td>available</td>\n",
       "      <td>available, Available, AVAILABLE</td>\n",
       "      <td>...</td>\n",
       "      <td>True</td>\n",
       "      <td>The content describes a candidate generator fo...</td>\n",
       "      <td>None</td>\n",
       "      <td>The system is implementing a candidate generat...</td>\n",
       "      <td>True</td>\n",
       "      <td>True</td>\n",
       "      <td>True</td>\n",
       "      <td>True</td>\n",
       "      <td>False</td>\n",
       "      <td>None</td>\n",
       "    </tr>\n",
       "    <tr>\n",
       "      <th>4</th>\n",
       "      <td>allenai/scispacy/v0.5.5.code_comment.availabil...</td>\n",
       "      <td>consist</td>\n",
       "      <td>consist</td>\n",
       "      <td>A spacy pipeline component which identifies en...</td>\n",
       "      <td>availability</td>\n",
       "      <td>code_comment</td>\n",
       "      <td>https://github.com/allenai/scispacy/tree/v0.5....</td>\n",
       "      <td>allenai/scispacy/v0.5.5</td>\n",
       "      <td>consists</td>\n",
       "      <td>consists, Consists</td>\n",
       "      <td>...</td>\n",
       "      <td>None</td>\n",
       "      <td>None</td>\n",
       "      <td>None</td>\n",
       "      <td>None</td>\n",
       "      <td>True</td>\n",
       "      <td>False</td>\n",
       "      <td>False</td>\n",
       "      <td>False</td>\n",
       "      <td>False</td>\n",
       "      <td>None</td>\n",
       "    </tr>\n",
       "  </tbody>\n",
       "</table>\n",
       "<p>5 rows × 26 columns</p>\n",
       "</div>"
      ]
     },
     "execution_count": 80,
     "metadata": {},
     "output_type": "execute_result"
    }
   ],
   "execution_count": 80
  },
  {
   "metadata": {
    "ExecuteTime": {
     "end_time": "2025-07-30T19:13:32.485043Z",
     "start_time": "2025-07-30T19:13:31.669574Z"
    }
   },
   "cell_type": "code",
   "source": [
    "r1_3 = df.pivot_table(index=\"keyword\", columns=\"s1_passed\", values=\"nsimilar\", aggfunc=\"sum\")\n",
    "r1_3[\"total\"] = r1_3.sum(axis=1)\n",
    "nkw =  r1_3.total.sum()\n",
    "r1_3[\"passed_ratio\"] = r1_3[True] / r1_3.total\n",
    "r1_3[\"popularity_ratio\"] = r1_3.total / nkw\n",
    "r1_3.sort_values(\"total\", ascending=False)"
   ],
   "id": "14e8c26ae4db322f",
   "outputs": [
    {
     "data": {
      "text/plain": [
       "s1_passed        False     True     total  passed_ratio  popularity_ratio\n",
       "keyword                                                                  \n",
       "error          91251.0  35728.0  126979.0      0.281369      6.365341e-02\n",
       "test           54812.0  26291.0   81103.0      0.324168      4.065619e-02\n",
       "depend         41351.0  23573.0   64924.0      0.363086      3.254581e-02\n",
       "version        43375.0  20494.0   63869.0      0.320876      3.201694e-02\n",
       "modul          44973.0  17002.0   61975.0      0.274336      3.106750e-02\n",
       "...                ...      ...       ...           ...               ...\n",
       "tenant             1.0      NaN       1.0           NaN      5.012908e-07\n",
       "trojan             NaN      1.0       1.0      1.000000      5.012908e-07\n",
       "guardrail          NaN      1.0       1.0      1.000000      5.012908e-07\n",
       "chang environ      1.0      NaN       1.0           NaN      5.012908e-07\n",
       "xss                1.0      NaN       1.0           NaN      5.012908e-07\n",
       "\n",
       "[523 rows x 5 columns]"
      ],
      "text/html": [
       "<div>\n",
       "<style scoped>\n",
       "    .dataframe tbody tr th:only-of-type {\n",
       "        vertical-align: middle;\n",
       "    }\n",
       "\n",
       "    .dataframe tbody tr th {\n",
       "        vertical-align: top;\n",
       "    }\n",
       "\n",
       "    .dataframe thead th {\n",
       "        text-align: right;\n",
       "    }\n",
       "</style>\n",
       "<table border=\"1\" class=\"dataframe\">\n",
       "  <thead>\n",
       "    <tr style=\"text-align: right;\">\n",
       "      <th>s1_passed</th>\n",
       "      <th>False</th>\n",
       "      <th>True</th>\n",
       "      <th>total</th>\n",
       "      <th>passed_ratio</th>\n",
       "      <th>popularity_ratio</th>\n",
       "    </tr>\n",
       "    <tr>\n",
       "      <th>keyword</th>\n",
       "      <th></th>\n",
       "      <th></th>\n",
       "      <th></th>\n",
       "      <th></th>\n",
       "      <th></th>\n",
       "    </tr>\n",
       "  </thead>\n",
       "  <tbody>\n",
       "    <tr>\n",
       "      <th>error</th>\n",
       "      <td>91251.0</td>\n",
       "      <td>35728.0</td>\n",
       "      <td>126979.0</td>\n",
       "      <td>0.281369</td>\n",
       "      <td>6.365341e-02</td>\n",
       "    </tr>\n",
       "    <tr>\n",
       "      <th>test</th>\n",
       "      <td>54812.0</td>\n",
       "      <td>26291.0</td>\n",
       "      <td>81103.0</td>\n",
       "      <td>0.324168</td>\n",
       "      <td>4.065619e-02</td>\n",
       "    </tr>\n",
       "    <tr>\n",
       "      <th>depend</th>\n",
       "      <td>41351.0</td>\n",
       "      <td>23573.0</td>\n",
       "      <td>64924.0</td>\n",
       "      <td>0.363086</td>\n",
       "      <td>3.254581e-02</td>\n",
       "    </tr>\n",
       "    <tr>\n",
       "      <th>version</th>\n",
       "      <td>43375.0</td>\n",
       "      <td>20494.0</td>\n",
       "      <td>63869.0</td>\n",
       "      <td>0.320876</td>\n",
       "      <td>3.201694e-02</td>\n",
       "    </tr>\n",
       "    <tr>\n",
       "      <th>modul</th>\n",
       "      <td>44973.0</td>\n",
       "      <td>17002.0</td>\n",
       "      <td>61975.0</td>\n",
       "      <td>0.274336</td>\n",
       "      <td>3.106750e-02</td>\n",
       "    </tr>\n",
       "    <tr>\n",
       "      <th>...</th>\n",
       "      <td>...</td>\n",
       "      <td>...</td>\n",
       "      <td>...</td>\n",
       "      <td>...</td>\n",
       "      <td>...</td>\n",
       "    </tr>\n",
       "    <tr>\n",
       "      <th>tenant</th>\n",
       "      <td>1.0</td>\n",
       "      <td>NaN</td>\n",
       "      <td>1.0</td>\n",
       "      <td>NaN</td>\n",
       "      <td>5.012908e-07</td>\n",
       "    </tr>\n",
       "    <tr>\n",
       "      <th>trojan</th>\n",
       "      <td>NaN</td>\n",
       "      <td>1.0</td>\n",
       "      <td>1.0</td>\n",
       "      <td>1.000000</td>\n",
       "      <td>5.012908e-07</td>\n",
       "    </tr>\n",
       "    <tr>\n",
       "      <th>guardrail</th>\n",
       "      <td>NaN</td>\n",
       "      <td>1.0</td>\n",
       "      <td>1.0</td>\n",
       "      <td>1.000000</td>\n",
       "      <td>5.012908e-07</td>\n",
       "    </tr>\n",
       "    <tr>\n",
       "      <th>chang environ</th>\n",
       "      <td>1.0</td>\n",
       "      <td>NaN</td>\n",
       "      <td>1.0</td>\n",
       "      <td>NaN</td>\n",
       "      <td>5.012908e-07</td>\n",
       "    </tr>\n",
       "    <tr>\n",
       "      <th>xss</th>\n",
       "      <td>1.0</td>\n",
       "      <td>NaN</td>\n",
       "      <td>1.0</td>\n",
       "      <td>NaN</td>\n",
       "      <td>5.012908e-07</td>\n",
       "    </tr>\n",
       "  </tbody>\n",
       "</table>\n",
       "<p>523 rows × 5 columns</p>\n",
       "</div>"
      ]
     },
     "execution_count": 92,
     "metadata": {},
     "output_type": "execute_result"
    }
   ],
   "execution_count": 92
  },
  {
   "metadata": {
    "ExecuteTime": {
     "end_time": "2025-07-30T20:53:30.668230Z",
     "start_time": "2025-07-30T20:53:30.564196Z"
    }
   },
   "cell_type": "code",
   "source": [
    "px.scatter(r1_3, x=\"popularity_ratio\", y=\"passed_ratio\", hover_name=r1_3.index, hover_data=[\"passed_ratio\", \"popularity_ratio\", \"total\"])\n",
    "# px.scatter(r1_3, x=\"popularity_ratio\", y=\"passed_ratio\", hover_name=r1_3.index, hover_data=[\"passed_ratio\", \"popularity_ratio\", \"total\"], color=\"total\", color_continuous_scale=px.colors.sequential.Burgyl_r)"
   ],
   "id": "90daa6fa5fc1ec33",
   "outputs": [
    {
     "data": {
      "application/vnd.plotly.v1+json": {
       "data": [
        {
         "customdata": {
          "dtype": "f8",
          "bdata": "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",
          "shape": "523, 1"
         },
         "hovertemplate": "<b>%{hovertext}</b><br><br>popularity_ratio=%{x}<br>passed_ratio=%{y}<br>total=%{customdata[0]}<extra></extra>",
         "hovertext": [
          "a/b",
          "abstract",
          "access",
          "accid",
          "adapt",
          "adversar",
          "aesthet",
          "alert",
          "alloc",
          "anomal",
          "api",
          "applic perform",
          "apt",
          "architectur",
          "architectur descript",
          "architectur design",
          "artifact",
          "assert",
          "assess",
          "asynch",
          "asynchron",
          "attack",
          "attest",
          "audit",
          "auth",
          "authenticat",
          "authoriz",
          "automat",
          "autosc",
          "avail",
          "availab",
          "avoid",
          "backup",
          "bare metal",
          "barrier",
          "batch",
          "batter",
          "behavi",
          "best-cas",
          "bind",
          "black-box",
          "bottleneck",
          "bridg",
          "broker",
          "buffer",
          "build",
          "cach",
          "canary",
          "cancel",
          "carbon",
          "certif",
          "chang environ",
          "chang system",
          "charg",
          "checkpoint",
          "checksum",
          "clarit",
          "clear",
          "client-serv",
          "clock",
          "close",
          "cloud",
          "cloud deploy",
          "cloud resourc",
          "cluster",
          "cognit",
          "command",
          "command-lin",
          "commiss",
          "compatib",
          "compl",
          "complian",
          "compon",
          "compon base",
          "compon integr",
          "compon interfac",
          "compon models",
          "compon provid",
          "compon use",
          "compos",
          "comput resourc",
          "concern",
          "concurren",
          "confidential",
          "configur",
          "configurat",
          "confirm",
          "conflict",
          "connector",
          "consist",
          "contain",
          "content",
          "context",
          "context-sensit",
          "continu",
          "contract",
          "control",
          "convers",
          "cookie",
          "cool",
          "cooperat",
          "coordinat",
          "core",
          "cost estim",
          "coupl",
          "coverag",
          "cpu",
          "crypto",
          "cryptograph",
          "current",
          "cursor",
          "custom",
          "cve",
          "data-flow",
          "datagram",
          "deadlock",
          "deco",
          "decrypt",
          "defend",
          "degrad",
          "denial-of-servic",
          "denorm",
          "depend",
          "dependab",
          "deploy",
          "design decis",
          "detect",
          "diagno",
          "dialog",
          "disclos",
          "discov",
          "discover",
          "disk",
          "distribut",
          "dns",
          "document",
          "doe",
          "down",
          "downtim",
          "drain",
          "draw",
          "echo",
          "effectiv",
          "efficien",
          "egress",
          "empow",
          "emul",
          "encapsul",
          "encapsulat",
          "encrypt",
          "endpoint",
          "energ",
          "energ consum",
          "ergonom",
          "error",
          "escal",
          "estimat",
          "event",
          "event-bas",
          "event-driven",
          "evolv",
          "except",
          "exchang",
          "execut time",
          "experien",
          "expir",
          "expos",
          "exten",
          "fail",
          "failov",
          "failur",
          "fault",
          "feedback",
          "filter",
          "firewal",
          "flowgraph",
          "fmea",
          "format",
          "framework compon",
          "frequenc",
          "fully manag",
          "fuzzy",
          "garbl",
          "gateway",
          "gdpr",
          "gestur",
          "govern",
          "gpu",
          "graph-bas",
          "green",
          "growth",
          "guardrail",
          "guid",
          "guidanc",
          "ha",
          "hack",
          "haproxy",
          "hard-wir",
          "hardcod",
          "harden",
          "hash",
          "hazard",
          "heal",
          "heat",
          "help",
          "heterogen",
          "hint",
          "hook",
          "hot",
          "i/o",
          "ident",
          "idl",
          "immut",
          "impact analys",
          "imperson",
          "improv perform",
          "incid",
          "incid respons",
          "incompatib",
          "indicat",
          "infrastructur",
          "ingress",
          "inherit",
          "inject",
          "input",
          "instal",
          "instrument",
          "integr",
          "integr test",
          "interact",
          "intercept",
          "interfac",
          "interfac design",
          "interlock",
          "interm",
          "intermediar",
          "interop",
          "interoperab",
          "intrus",
          "intuit",
          "iop",
          "ipsec",
          "iso",
          "isol",
          "joul",
          "jwt",
          "keystrok",
          "latenc",
          "layer",
          "learn",
          "legitim",
          "licens use",
          "lineag",
          "load",
          "load balanc",
          "load test",
          "loader",
          "lock",
          "log",
          "loss",
          "maintain",
          "mainten",
          "malwar",
          "manag",
          "manag environ",
          "manag tool",
          "markov",
          "marshal",
          "mask",
          "measur",
          "mediat",
          "memor",
          "menu",
          "messag",
          "meter",
          "middlewar",
          "minim",
          "mismatch",
          "misus",
          "mock",
          "mock-up",
          "models",
          "modif",
          "modul",
          "modula",
          "modular",
          "monitor",
          "mous",
          "mtls",
          "mttr",
          "multi-mod",
          "multi-thread",
          "multiplex",
          "multiprocessor",
          "mvc",
          "navigat",
          "network",
          "nist",
          "non-atom",
          "nonlinear",
          "obfusc",
          "observ",
          "one-tim",
          "ontolog",
          "operat",
          "optim",
          "optim perform",
          "optimiz",
          "orb",
          "orchestr",
          "outag",
          "outbound",
          "overhead",
          "pac",
          "parallel",
          "paramet",
          "password",
          "patch",
          "paus",
          "penetr",
          "perform",
          "perform analys",
          "perform efficien",
          "perform evalu",
          "perform issu",
          "perform metric",
          "perform optim",
          "perform target",
          "perform test",
          "permiss",
          "person",
          "ping",
          "pipelin",
          "plan",
          "platform",
          "plug",
          "plug-and-play",
          "plug-in",
          "point-in-tim",
          "poisson",
          "polic",
          "polymorph",
          "portab",
          "power",
          "pra",
          "predict",
          "prefer",
          "prevent",
          "primar channel",
          "privil",
          "probe",
          "process models",
          "product environ",
          "product famil",
          "profil",
          "progress",
          "protocol",
          "prototyp",
          "provis",
          "prox",
          "pub",
          "qualit assur",
          "queue",
          "rca",
          "reboot",
          "recov",
          "reduc",
          "redundan",
          "refactor",
          "registr",
          "regress",
          "reindex",
          "releas",
          "reliab",
          "reme",
          "rendezv",
          "repair",
          "replic",
          "repositor",
          "requir adapt",
          "requir chang",
          "rerout",
          "resilien",
          "resourc",
          "resourc usag",
          "respons time",
          "responsibil",
          "responsiv",
          "restor",
          "restrict appl",
          "resum",
          "retent",
          "reu",
          "review",
          "revoc",
          "revok",
          "risk",
          "risk assess",
          "robust",
          "roll",
          "rollback",
          "rotat",
          "rout",
          "rpc",
          "rpo",
          "rsa",
          "rto",
          "safe",
          "safety analys",
          "safety requir",
          "sandbox",
          "sanit",
          "satisfa",
          "scalab",
          "scale",
          "scanner",
          "scenario",
          "schedul",
          "schema",
          "secur",
          "self-check",
          "semant",
          "sensit data",
          "sensor",
          "servic",
          "session",
          "share",
          "shortcut",
          "sign",
          "simpl",
          "simul",
          "skeleton",
          "sla",
          "sli",
          "slo",
          "soap",
          "soc",
          "socket",
          "source-to-sourc",
          "specif",
          "spy",
          "ssh",
          "ssl",
          "stabil",
          "stack",
          "stage",
          "standard",
          "standardiz",
          "standby",
          "state",
          "statu",
          "stead",
          "stolen",
          "stop",
          "stride",
          "stub",
          "sub",
          "support",
          "sustainab",
          "synch",
          "syntact",
          "system chang",
          "system environ",
          "target system",
          "team",
          "temperatur",
          "tenant",
          "test",
          "therm",
          "threat",
          "throttl",
          "throughput",
          "time",
          "timeout",
          "tip",
          "toggl",
          "token",
          "toler",
          "toleran",
          "tool",
          "toolchain",
          "topic",
          "trace",
          "transform",
          "translat",
          "triag",
          "trojan",
          "trust",
          "tune",
          "ui",
          "unavail",
          "understand",
          "undo",
          "unhandl",
          "unit",
          "unload",
          "unsaf",
          "updat",
          "upgrad",
          "uptim",
          "usab",
          "user",
          "ux",
          "valid",
          "validat",
          "variab",
          "verif",
          "version",
          "visual",
          "voltag",
          "vpn",
          "walkthrough",
          "watchdog",
          "watt",
          "widget",
          "wizard",
          "workflow",
          "workload",
          "worm",
          "wrap",
          "wrapper",
          "xml",
          "xss"
         ],
         "legendgroup": "",
         "marker": {
          "color": "#636efa",
          "symbol": "circle"
         },
         "mode": "markers",
         "name": "",
         "orientation": "v",
         "showlegend": false,
         "x": {
          "dtype": "f8",
          "bdata": "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"
         },
         "xaxis": "x",
         "y": {
          "dtype": "f8",
          "bdata": "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"
         },
         "yaxis": "y",
         "type": "scatter"
        }
       ],
       "layout": {
        "template": {
         "data": {
          "histogram2dcontour": [
           {
            "type": "histogram2dcontour",
            "colorbar": {
             "outlinewidth": 0,
             "ticks": ""
            },
            "colorscale": [
             [
              0.0,
              "#0d0887"
             ],
             [
              0.1111111111111111,
              "#46039f"
             ],
             [
              0.2222222222222222,
              "#7201a8"
             ],
             [
              0.3333333333333333,
              "#9c179e"
             ],
             [
              0.4444444444444444,
              "#bd3786"
             ],
             [
              0.5555555555555556,
              "#d8576b"
             ],
             [
              0.6666666666666666,
              "#ed7953"
             ],
             [
              0.7777777777777778,
              "#fb9f3a"
             ],
             [
              0.8888888888888888,
              "#fdca26"
             ],
             [
              1.0,
              "#f0f921"
             ]
            ]
           }
          ],
          "choropleth": [
           {
            "type": "choropleth",
            "colorbar": {
             "outlinewidth": 0,
             "ticks": ""
            }
           }
          ],
          "histogram2d": [
           {
            "type": "histogram2d",
            "colorbar": {
             "outlinewidth": 0,
             "ticks": ""
            },
            "colorscale": [
             [
              0.0,
              "#0d0887"
             ],
             [
              0.1111111111111111,
              "#46039f"
             ],
             [
              0.2222222222222222,
              "#7201a8"
             ],
             [
              0.3333333333333333,
              "#9c179e"
             ],
             [
              0.4444444444444444,
              "#bd3786"
             ],
             [
              0.5555555555555556,
              "#d8576b"
             ],
             [
              0.6666666666666666,
              "#ed7953"
             ],
             [
              0.7777777777777778,
              "#fb9f3a"
             ],
             [
              0.8888888888888888,
              "#fdca26"
             ],
             [
              1.0,
              "#f0f921"
             ]
            ]
           }
          ],
          "heatmap": [
           {
            "type": "heatmap",
            "colorbar": {
             "outlinewidth": 0,
             "ticks": ""
            },
            "colorscale": [
             [
              0.0,
              "#0d0887"
             ],
             [
              0.1111111111111111,
              "#46039f"
             ],
             [
              0.2222222222222222,
              "#7201a8"
             ],
             [
              0.3333333333333333,
              "#9c179e"
             ],
             [
              0.4444444444444444,
              "#bd3786"
             ],
             [
              0.5555555555555556,
              "#d8576b"
             ],
             [
              0.6666666666666666,
              "#ed7953"
             ],
             [
              0.7777777777777778,
              "#fb9f3a"
             ],
             [
              0.8888888888888888,
              "#fdca26"
             ],
             [
              1.0,
              "#f0f921"
             ]
            ]
           }
          ],
          "contourcarpet": [
           {
            "type": "contourcarpet",
            "colorbar": {
             "outlinewidth": 0,
             "ticks": ""
            }
           }
          ],
          "contour": [
           {
            "type": "contour",
            "colorbar": {
             "outlinewidth": 0,
             "ticks": ""
            },
            "colorscale": [
             [
              0.0,
              "#0d0887"
             ],
             [
              0.1111111111111111,
              "#46039f"
             ],
             [
              0.2222222222222222,
              "#7201a8"
             ],
             [
              0.3333333333333333,
              "#9c179e"
             ],
             [
              0.4444444444444444,
              "#bd3786"
             ],
             [
              0.5555555555555556,
              "#d8576b"
             ],
             [
              0.6666666666666666,
              "#ed7953"
             ],
             [
              0.7777777777777778,
              "#fb9f3a"
             ],
             [
              0.8888888888888888,
              "#fdca26"
             ],
             [
              1.0,
              "#f0f921"
             ]
            ]
           }
          ],
          "surface": [
           {
            "type": "surface",
            "colorbar": {
             "outlinewidth": 0,
             "ticks": ""
            },
            "colorscale": [
             [
              0.0,
              "#0d0887"
             ],
             [
              0.1111111111111111,
              "#46039f"
             ],
             [
              0.2222222222222222,
              "#7201a8"
             ],
             [
              0.3333333333333333,
              "#9c179e"
             ],
             [
              0.4444444444444444,
              "#bd3786"
             ],
             [
              0.5555555555555556,
              "#d8576b"
             ],
             [
              0.6666666666666666,
              "#ed7953"
             ],
             [
              0.7777777777777778,
              "#fb9f3a"
             ],
             [
              0.8888888888888888,
              "#fdca26"
             ],
             [
              1.0,
              "#f0f921"
             ]
            ]
           }
          ],
          "mesh3d": [
           {
            "type": "mesh3d",
            "colorbar": {
             "outlinewidth": 0,
             "ticks": ""
            }
           }
          ],
          "scatter": [
           {
            "fillpattern": {
             "fillmode": "overlay",
             "size": 10,
             "solidity": 0.2
            },
            "type": "scatter"
           }
          ],
          "parcoords": [
           {
            "type": "parcoords",
            "line": {
             "colorbar": {
              "outlinewidth": 0,
              "ticks": ""
             }
            }
           }
          ],
          "scatterpolargl": [
           {
            "type": "scatterpolargl",
            "marker": {
             "colorbar": {
              "outlinewidth": 0,
              "ticks": ""
             }
            }
           }
          ],
          "bar": [
           {
            "error_x": {
             "color": "#2a3f5f"
            },
            "error_y": {
             "color": "#2a3f5f"
            },
            "marker": {
             "line": {
              "color": "#E5ECF6",
              "width": 0.5
             },
             "pattern": {
              "fillmode": "overlay",
              "size": 10,
              "solidity": 0.2
             }
            },
            "type": "bar"
           }
          ],
          "scattergeo": [
           {
            "type": "scattergeo",
            "marker": {
             "colorbar": {
              "outlinewidth": 0,
              "ticks": ""
             }
            }
           }
          ],
          "scatterpolar": [
           {
            "type": "scatterpolar",
            "marker": {
             "colorbar": {
              "outlinewidth": 0,
              "ticks": ""
             }
            }
           }
          ],
          "histogram": [
           {
            "marker": {
             "pattern": {
              "fillmode": "overlay",
              "size": 10,
              "solidity": 0.2
             }
            },
            "type": "histogram"
           }
          ],
          "scattergl": [
           {
            "type": "scattergl",
            "marker": {
             "colorbar": {
              "outlinewidth": 0,
              "ticks": ""
             }
            }
           }
          ],
          "scatter3d": [
           {
            "type": "scatter3d",
            "line": {
             "colorbar": {
              "outlinewidth": 0,
              "ticks": ""
             }
            },
            "marker": {
             "colorbar": {
              "outlinewidth": 0,
              "ticks": ""
             }
            }
           }
          ],
          "scattermap": [
           {
            "type": "scattermap",
            "marker": {
             "colorbar": {
              "outlinewidth": 0,
              "ticks": ""
             }
            }
           }
          ],
          "scattermapbox": [
           {
            "type": "scattermapbox",
            "marker": {
             "colorbar": {
              "outlinewidth": 0,
              "ticks": ""
             }
            }
           }
          ],
          "scatterternary": [
           {
            "type": "scatterternary",
            "marker": {
             "colorbar": {
              "outlinewidth": 0,
              "ticks": ""
             }
            }
           }
          ],
          "scattercarpet": [
           {
            "type": "scattercarpet",
            "marker": {
             "colorbar": {
              "outlinewidth": 0,
              "ticks": ""
             }
            }
           }
          ],
          "carpet": [
           {
            "aaxis": {
             "endlinecolor": "#2a3f5f",
             "gridcolor": "white",
             "linecolor": "white",
             "minorgridcolor": "white",
             "startlinecolor": "#2a3f5f"
            },
            "baxis": {
             "endlinecolor": "#2a3f5f",
             "gridcolor": "white",
             "linecolor": "white",
             "minorgridcolor": "white",
             "startlinecolor": "#2a3f5f"
            },
            "type": "carpet"
           }
          ],
          "table": [
           {
            "cells": {
             "fill": {
              "color": "#EBF0F8"
             },
             "line": {
              "color": "white"
             }
            },
            "header": {
             "fill": {
              "color": "#C8D4E3"
             },
             "line": {
              "color": "white"
             }
            },
            "type": "table"
           }
          ],
          "barpolar": [
           {
            "marker": {
             "line": {
              "color": "#E5ECF6",
              "width": 0.5
             },
             "pattern": {
              "fillmode": "overlay",
              "size": 10,
              "solidity": 0.2
             }
            },
            "type": "barpolar"
           }
          ],
          "pie": [
           {
            "automargin": true,
            "type": "pie"
           }
          ]
         },
         "layout": {
          "autotypenumbers": "strict",
          "colorway": [
           "#636efa",
           "#EF553B",
           "#00cc96",
           "#ab63fa",
           "#FFA15A",
           "#19d3f3",
           "#FF6692",
           "#B6E880",
           "#FF97FF",
           "#FECB52"
          ],
          "font": {
           "color": "#2a3f5f"
          },
          "hovermode": "closest",
          "hoverlabel": {
           "align": "left"
          },
          "paper_bgcolor": "white",
          "plot_bgcolor": "#E5ECF6",
          "polar": {
           "bgcolor": "#E5ECF6",
           "angularaxis": {
            "gridcolor": "white",
            "linecolor": "white",
            "ticks": ""
           },
           "radialaxis": {
            "gridcolor": "white",
            "linecolor": "white",
            "ticks": ""
           }
          },
          "ternary": {
           "bgcolor": "#E5ECF6",
           "aaxis": {
            "gridcolor": "white",
            "linecolor": "white",
            "ticks": ""
           },
           "baxis": {
            "gridcolor": "white",
            "linecolor": "white",
            "ticks": ""
           },
           "caxis": {
            "gridcolor": "white",
            "linecolor": "white",
            "ticks": ""
           }
          },
          "coloraxis": {
           "colorbar": {
            "outlinewidth": 0,
            "ticks": ""
           }
          },
          "colorscale": {
           "sequential": [
            [
             0.0,
             "#0d0887"
            ],
            [
             0.1111111111111111,
             "#46039f"
            ],
            [
             0.2222222222222222,
             "#7201a8"
            ],
            [
             0.3333333333333333,
             "#9c179e"
            ],
            [
             0.4444444444444444,
             "#bd3786"
            ],
            [
             0.5555555555555556,
             "#d8576b"
            ],
            [
             0.6666666666666666,
             "#ed7953"
            ],
            [
             0.7777777777777778,
             "#fb9f3a"
            ],
            [
             0.8888888888888888,
             "#fdca26"
            ],
            [
             1.0,
             "#f0f921"
            ]
           ],
           "sequentialminus": [
            [
             0.0,
             "#0d0887"
            ],
            [
             0.1111111111111111,
             "#46039f"
            ],
            [
             0.2222222222222222,
             "#7201a8"
            ],
            [
             0.3333333333333333,
             "#9c179e"
            ],
            [
             0.4444444444444444,
             "#bd3786"
            ],
            [
             0.5555555555555556,
             "#d8576b"
            ],
            [
             0.6666666666666666,
             "#ed7953"
            ],
            [
             0.7777777777777778,
             "#fb9f3a"
            ],
            [
             0.8888888888888888,
             "#fdca26"
            ],
            [
             1.0,
             "#f0f921"
            ]
           ],
           "diverging": [
            [
             0,
             "#8e0152"
            ],
            [
             0.1,
             "#c51b7d"
            ],
            [
             0.2,
             "#de77ae"
            ],
            [
             0.3,
             "#f1b6da"
            ],
            [
             0.4,
             "#fde0ef"
            ],
            [
             0.5,
             "#f7f7f7"
            ],
            [
             0.6,
             "#e6f5d0"
            ],
            [
             0.7,
             "#b8e186"
            ],
            [
             0.8,
             "#7fbc41"
            ],
            [
             0.9,
             "#4d9221"
            ],
            [
             1,
             "#276419"
            ]
           ]
          },
          "xaxis": {
           "gridcolor": "white",
           "linecolor": "white",
           "ticks": "",
           "title": {
            "standoff": 15
           },
           "zerolinecolor": "white",
           "automargin": true,
           "zerolinewidth": 2
          },
          "yaxis": {
           "gridcolor": "white",
           "linecolor": "white",
           "ticks": "",
           "title": {
            "standoff": 15
           },
           "zerolinecolor": "white",
           "automargin": true,
           "zerolinewidth": 2
          },
          "scene": {
           "xaxis": {
            "backgroundcolor": "#E5ECF6",
            "gridcolor": "white",
            "linecolor": "white",
            "showbackground": true,
            "ticks": "",
            "zerolinecolor": "white",
            "gridwidth": 2
           },
           "yaxis": {
            "backgroundcolor": "#E5ECF6",
            "gridcolor": "white",
            "linecolor": "white",
            "showbackground": true,
            "ticks": "",
            "zerolinecolor": "white",
            "gridwidth": 2
           },
           "zaxis": {
            "backgroundcolor": "#E5ECF6",
            "gridcolor": "white",
            "linecolor": "white",
            "showbackground": true,
            "ticks": "",
            "zerolinecolor": "white",
            "gridwidth": 2
           }
          },
          "shapedefaults": {
           "line": {
            "color": "#2a3f5f"
           }
          },
          "annotationdefaults": {
           "arrowcolor": "#2a3f5f",
           "arrowhead": 0,
           "arrowwidth": 1
          },
          "geo": {
           "bgcolor": "white",
           "landcolor": "#E5ECF6",
           "subunitcolor": "white",
           "showland": true,
           "showlakes": true,
           "lakecolor": "white"
          },
          "title": {
           "x": 0.05
          },
          "mapbox": {
           "style": "light"
          }
         }
        },
        "xaxis": {
         "anchor": "y",
         "domain": [
          0.0,
          1.0
         ],
         "title": {
          "text": "popularity_ratio"
         }
        },
        "yaxis": {
         "anchor": "x",
         "domain": [
          0.0,
          1.0
         ],
         "title": {
          "text": "passed_ratio"
         }
        },
        "legend": {
         "tracegroupgap": 0
        },
        "margin": {
         "t": 60
        }
       },
       "config": {
        "plotlyServerURL": "https://plot.ly"
       }
      }
     },
     "metadata": {},
     "output_type": "display_data"
    }
   ],
   "execution_count": 139
  },
  {
   "metadata": {},
   "cell_type": "markdown",
   "source": [
    "# RQ2\n",
    "## Primary - A strategic analysis of the types of solutions (tactic categories) used for the most important quality attributes. This gives a high-level overview of the solution strategies"
   ],
   "id": "dada9902ffb2745f"
  },
  {
   "metadata": {
    "ExecuteTime": {
     "end_time": "2025-07-30T19:51:53.491407Z",
     "start_time": "2025-07-30T19:51:53.434549Z"
    }
   },
   "cell_type": "code",
   "source": [
    "data_rq2 = df[df.s3_passed]\n",
    "data_rq2.shape"
   ],
   "id": "66582e1b79896129",
   "outputs": [
    {
     "data": {
      "text/plain": [
       "(12077, 26)"
      ]
     },
     "execution_count": 103,
     "metadata": {},
     "output_type": "execute_result"
    }
   ],
   "execution_count": 103
  },
  {
   "metadata": {
    "ExecuteTime": {
     "end_time": "2025-07-30T19:57:04.409197Z",
     "start_time": "2025-07-30T19:57:03.654462Z"
    }
   },
   "cell_type": "code",
   "source": [
    "top_qas = df[df.s1_passed].groupby(\"qa\").nsimilar.sum().sort_values(ascending=False).head(4)\n",
    "top_qas = top_qas.index.tolist()\n",
    "top_qas"
   ],
   "id": "c5669ab208a69dbb",
   "outputs": [
    {
     "data": {
      "text/plain": [
       "['usability', 'safety', 'deployability', 'integrability']"
      ]
     },
     "execution_count": 111,
     "metadata": {},
     "output_type": "execute_result"
    }
   ],
   "execution_count": 111
  },
  {
   "metadata": {
    "ExecuteTime": {
     "end_time": "2025-07-30T20:43:29.100246Z",
     "start_time": "2025-07-30T20:43:29.080381Z"
    }
   },
   "cell_type": "code",
   "source": [
    "r2 = data_rq2[data_rq2.qa.isin(top_qas)]\n",
    "r2.groupby([\"qa\", \"s3_tactic_category\"]).nsimilar.sum().reset_index().sort_values([\"qa\",\"nsimilar\"], ascending=[False]*2).groupby(\"qa\").head(3)"
   ],
   "id": "41f3fb5f9719445e",
   "outputs": [
    {
     "data": {
      "text/plain": [
       "               qa                s3_tactic_category  nsimilar\n",
       "17      usability                    Resist Attacks       819\n",
       "19      usability         Support System Initiative       157\n",
       "20      usability           Support User Initiative        56\n",
       "14         safety                    Prevent Faults      1170\n",
       "13         safety                     Detect Faults       138\n",
       "16         safety                    Resist Attacks        61\n",
       "9   integrability                 Manage Interfaces      1056\n",
       "6   integrability           Control Resource Demand        71\n",
       "7   integrability  Control and Observe System State        14\n",
       "4   deployability               Resource Adaptation      1342\n",
       "3   deployability           Reduce Size of a Module       110\n",
       "2   deployability                   Reduce Coupling        69"
      ],
      "text/html": [
       "<div>\n",
       "<style scoped>\n",
       "    .dataframe tbody tr th:only-of-type {\n",
       "        vertical-align: middle;\n",
       "    }\n",
       "\n",
       "    .dataframe tbody tr th {\n",
       "        vertical-align: top;\n",
       "    }\n",
       "\n",
       "    .dataframe thead th {\n",
       "        text-align: right;\n",
       "    }\n",
       "</style>\n",
       "<table border=\"1\" class=\"dataframe\">\n",
       "  <thead>\n",
       "    <tr style=\"text-align: right;\">\n",
       "      <th></th>\n",
       "      <th>qa</th>\n",
       "      <th>s3_tactic_category</th>\n",
       "      <th>nsimilar</th>\n",
       "    </tr>\n",
       "  </thead>\n",
       "  <tbody>\n",
       "    <tr>\n",
       "      <th>17</th>\n",
       "      <td>usability</td>\n",
       "      <td>Resist Attacks</td>\n",
       "      <td>819</td>\n",
       "    </tr>\n",
       "    <tr>\n",
       "      <th>19</th>\n",
       "      <td>usability</td>\n",
       "      <td>Support System Initiative</td>\n",
       "      <td>157</td>\n",
       "    </tr>\n",
       "    <tr>\n",
       "      <th>20</th>\n",
       "      <td>usability</td>\n",
       "      <td>Support User Initiative</td>\n",
       "      <td>56</td>\n",
       "    </tr>\n",
       "    <tr>\n",
       "      <th>14</th>\n",
       "      <td>safety</td>\n",
       "      <td>Prevent Faults</td>\n",
       "      <td>1170</td>\n",
       "    </tr>\n",
       "    <tr>\n",
       "      <th>13</th>\n",
       "      <td>safety</td>\n",
       "      <td>Detect Faults</td>\n",
       "      <td>138</td>\n",
       "    </tr>\n",
       "    <tr>\n",
       "      <th>16</th>\n",
       "      <td>safety</td>\n",
       "      <td>Resist Attacks</td>\n",
       "      <td>61</td>\n",
       "    </tr>\n",
       "    <tr>\n",
       "      <th>9</th>\n",
       "      <td>integrability</td>\n",
       "      <td>Manage Interfaces</td>\n",
       "      <td>1056</td>\n",
       "    </tr>\n",
       "    <tr>\n",
       "      <th>6</th>\n",
       "      <td>integrability</td>\n",
       "      <td>Control Resource Demand</td>\n",
       "      <td>71</td>\n",
       "    </tr>\n",
       "    <tr>\n",
       "      <th>7</th>\n",
       "      <td>integrability</td>\n",
       "      <td>Control and Observe System State</td>\n",
       "      <td>14</td>\n",
       "    </tr>\n",
       "    <tr>\n",
       "      <th>4</th>\n",
       "      <td>deployability</td>\n",
       "      <td>Resource Adaptation</td>\n",
       "      <td>1342</td>\n",
       "    </tr>\n",
       "    <tr>\n",
       "      <th>3</th>\n",
       "      <td>deployability</td>\n",
       "      <td>Reduce Size of a Module</td>\n",
       "      <td>110</td>\n",
       "    </tr>\n",
       "    <tr>\n",
       "      <th>2</th>\n",
       "      <td>deployability</td>\n",
       "      <td>Reduce Coupling</td>\n",
       "      <td>69</td>\n",
       "    </tr>\n",
       "  </tbody>\n",
       "</table>\n",
       "</div>"
      ]
     },
     "execution_count": 137,
     "metadata": {},
     "output_type": "execute_result"
    }
   ],
   "execution_count": 137
  },
  {
   "metadata": {},
   "cell_type": "markdown",
   "source": "## Secondary - A detailed \"drill-down\" to see which specific tactics make up the most important categories identified in the primary analysis.",
   "id": "402eb3bb1acc91d5"
  },
  {
   "metadata": {},
   "cell_type": "markdown",
   "source": "### TODO",
   "id": "192c357afd3051d7"
  },
  {
   "metadata": {
    "ExecuteTime": {
     "end_time": "2025-07-30T20:48:33.219699Z",
     "start_time": "2025-07-30T20:48:33.189064Z"
    }
   },
   "cell_type": "code",
   "source": [
    "r2 = data_rq2[data_rq2.qa.isin(top_qas)]\n",
    "r2.groupby([\"qa\", \"s3_tactic\"]).nsimilar.sum().reset_index().sort_values([\"qa\",\"nsimilar\"], ascending=[False]*2).groupby(\"qa\").head(3)"
   ],
   "id": "55acc3c7dbfeb4d5",
   "outputs": [
    {
     "data": {
      "text/plain": [
       "               qa               s3_tactic  nsimilar\n",
       "45      usability       Separate Entities       819\n",
       "41      usability  Maintain system models       120\n",
       "42      usability    Maintain task models        35\n",
       "33         safety    Removal from Service      1112\n",
       "24         safety    Condition Monitoring        93\n",
       "31         safety        Predictive Model        58\n",
       "21  integrability        Tailor Interface       945\n",
       "19  integrability             Orchestrate       111\n",
       "18  integrability    Manage Sampling Rate        71\n",
       "7   deployability         Reduce Overhead      1342\n",
       "11  deployability            Split Module       110\n",
       "8   deployability                Refactor        42"
      ],
      "text/html": [
       "<div>\n",
       "<style scoped>\n",
       "    .dataframe tbody tr th:only-of-type {\n",
       "        vertical-align: middle;\n",
       "    }\n",
       "\n",
       "    .dataframe tbody tr th {\n",
       "        vertical-align: top;\n",
       "    }\n",
       "\n",
       "    .dataframe thead th {\n",
       "        text-align: right;\n",
       "    }\n",
       "</style>\n",
       "<table border=\"1\" class=\"dataframe\">\n",
       "  <thead>\n",
       "    <tr style=\"text-align: right;\">\n",
       "      <th></th>\n",
       "      <th>qa</th>\n",
       "      <th>s3_tactic</th>\n",
       "      <th>nsimilar</th>\n",
       "    </tr>\n",
       "  </thead>\n",
       "  <tbody>\n",
       "    <tr>\n",
       "      <th>45</th>\n",
       "      <td>usability</td>\n",
       "      <td>Separate Entities</td>\n",
       "      <td>819</td>\n",
       "    </tr>\n",
       "    <tr>\n",
       "      <th>41</th>\n",
       "      <td>usability</td>\n",
       "      <td>Maintain system models</td>\n",
       "      <td>120</td>\n",
       "    </tr>\n",
       "    <tr>\n",
       "      <th>42</th>\n",
       "      <td>usability</td>\n",
       "      <td>Maintain task models</td>\n",
       "      <td>35</td>\n",
       "    </tr>\n",
       "    <tr>\n",
       "      <th>33</th>\n",
       "      <td>safety</td>\n",
       "      <td>Removal from Service</td>\n",
       "      <td>1112</td>\n",
       "    </tr>\n",
       "    <tr>\n",
       "      <th>24</th>\n",
       "      <td>safety</td>\n",
       "      <td>Condition Monitoring</td>\n",
       "      <td>93</td>\n",
       "    </tr>\n",
       "    <tr>\n",
       "      <th>31</th>\n",
       "      <td>safety</td>\n",
       "      <td>Predictive Model</td>\n",
       "      <td>58</td>\n",
       "    </tr>\n",
       "    <tr>\n",
       "      <th>21</th>\n",
       "      <td>integrability</td>\n",
       "      <td>Tailor Interface</td>\n",
       "      <td>945</td>\n",
       "    </tr>\n",
       "    <tr>\n",
       "      <th>19</th>\n",
       "      <td>integrability</td>\n",
       "      <td>Orchestrate</td>\n",
       "      <td>111</td>\n",
       "    </tr>\n",
       "    <tr>\n",
       "      <th>18</th>\n",
       "      <td>integrability</td>\n",
       "      <td>Manage Sampling Rate</td>\n",
       "      <td>71</td>\n",
       "    </tr>\n",
       "    <tr>\n",
       "      <th>7</th>\n",
       "      <td>deployability</td>\n",
       "      <td>Reduce Overhead</td>\n",
       "      <td>1342</td>\n",
       "    </tr>\n",
       "    <tr>\n",
       "      <th>11</th>\n",
       "      <td>deployability</td>\n",
       "      <td>Split Module</td>\n",
       "      <td>110</td>\n",
       "    </tr>\n",
       "    <tr>\n",
       "      <th>8</th>\n",
       "      <td>deployability</td>\n",
       "      <td>Refactor</td>\n",
       "      <td>42</td>\n",
       "    </tr>\n",
       "  </tbody>\n",
       "</table>\n",
       "</div>"
      ]
     },
     "execution_count": 138,
     "metadata": {},
     "output_type": "execute_result"
    }
   ],
   "execution_count": 138
  },
  {
   "metadata": {},
   "cell_type": "markdown",
   "source": [
    "# RQ3\n",
    "## Primary -  A comparative analysis of discussion topics across different communication channels (source)."
   ],
   "id": "ff2a05fba395ad7a"
  },
  {
   "metadata": {
    "ExecuteTime": {
     "end_time": "2025-07-30T21:27:05.166015Z",
     "start_time": "2025-07-30T21:27:04.627731Z"
    }
   },
   "cell_type": "code",
   "source": [
    "data_rq3 = df[df['s3_passed']]\n",
    "data_rq3.shape"
   ],
   "id": "5ae250c84350348",
   "outputs": [
    {
     "data": {
      "text/plain": [
       "(12077, 26)"
      ]
     },
     "execution_count": 140,
     "metadata": {},
     "output_type": "execute_result"
    }
   ],
   "execution_count": 140
  },
  {
   "metadata": {
    "ExecuteTime": {
     "end_time": "2025-07-30T21:57:28.019754Z",
     "start_time": "2025-07-30T21:57:27.990477Z"
    }
   },
   "cell_type": "code",
   "source": [
    "r3 = data_rq3.pivot_table(index=\"qa\", columns=\"source\", values=\"nsimilar\", aggfunc=\"sum\", fill_value=0)\n",
    "totals = r3.sum(axis=1)\n",
    "r3 = r3.div(totals, axis=0) * 100\n",
    "r3\n"
   ],
   "id": "541674e14eb69bd3",
   "outputs": [
    {
     "data": {
      "text/plain": [
       "source             code_comment       docs      issue  issue_comment  \\\n",
       "qa                                                                     \n",
       "availability          38.709677  25.000000  29.838710       6.451613   \n",
       "deployability         23.337438  12.192118  51.600985      12.253695   \n",
       "energy efficiency     29.931973  16.326531  43.990930       8.390023   \n",
       "integrability         32.460733  20.855148  35.863874      10.209424   \n",
       "interoperability      29.968783  22.580645  34.235172      12.486993   \n",
       "modifiability         23.071672  10.921502  56.109215       9.419795   \n",
       "performance           25.920900  21.306708  30.166731      21.675068   \n",
       "reliability           38.805970  22.388060  19.402985      19.402985   \n",
       "safety                21.785714  15.785714  50.357143      11.928571   \n",
       "security              35.627530  19.028340  35.627530       9.716599   \n",
       "testability           27.569100  15.024805  36.853296      20.198441   \n",
       "usability             19.692603  35.062440  29.779059      14.793468   \n",
       "\n",
       "source              release      wiki  \n",
       "qa                                     \n",
       "availability       0.000000  0.000000  \n",
       "deployability      0.369458  0.246305  \n",
       "energy efficiency  1.133787  0.226757  \n",
       "integrability      0.087260  0.523560  \n",
       "interoperability   0.312175  0.416233  \n",
       "modifiability      0.341297  0.136519  \n",
       "performance        0.484684  0.445909  \n",
       "reliability        0.000000  0.000000  \n",
       "safety             0.000000  0.142857  \n",
       "security           0.000000  0.000000  \n",
       "testability        0.212615  0.141743  \n",
       "usability          0.000000  0.672430  "
      ],
      "text/html": [
       "<div>\n",
       "<style scoped>\n",
       "    .dataframe tbody tr th:only-of-type {\n",
       "        vertical-align: middle;\n",
       "    }\n",
       "\n",
       "    .dataframe tbody tr th {\n",
       "        vertical-align: top;\n",
       "    }\n",
       "\n",
       "    .dataframe thead th {\n",
       "        text-align: right;\n",
       "    }\n",
       "</style>\n",
       "<table border=\"1\" class=\"dataframe\">\n",
       "  <thead>\n",
       "    <tr style=\"text-align: right;\">\n",
       "      <th>source</th>\n",
       "      <th>code_comment</th>\n",
       "      <th>docs</th>\n",
       "      <th>issue</th>\n",
       "      <th>issue_comment</th>\n",
       "      <th>release</th>\n",
       "      <th>wiki</th>\n",
       "    </tr>\n",
       "    <tr>\n",
       "      <th>qa</th>\n",
       "      <th></th>\n",
       "      <th></th>\n",
       "      <th></th>\n",
       "      <th></th>\n",
       "      <th></th>\n",
       "      <th></th>\n",
       "    </tr>\n",
       "  </thead>\n",
       "  <tbody>\n",
       "    <tr>\n",
       "      <th>availability</th>\n",
       "      <td>38.709677</td>\n",
       "      <td>25.000000</td>\n",
       "      <td>29.838710</td>\n",
       "      <td>6.451613</td>\n",
       "      <td>0.000000</td>\n",
       "      <td>0.000000</td>\n",
       "    </tr>\n",
       "    <tr>\n",
       "      <th>deployability</th>\n",
       "      <td>23.337438</td>\n",
       "      <td>12.192118</td>\n",
       "      <td>51.600985</td>\n",
       "      <td>12.253695</td>\n",
       "      <td>0.369458</td>\n",
       "      <td>0.246305</td>\n",
       "    </tr>\n",
       "    <tr>\n",
       "      <th>energy efficiency</th>\n",
       "      <td>29.931973</td>\n",
       "      <td>16.326531</td>\n",
       "      <td>43.990930</td>\n",
       "      <td>8.390023</td>\n",
       "      <td>1.133787</td>\n",
       "      <td>0.226757</td>\n",
       "    </tr>\n",
       "    <tr>\n",
       "      <th>integrability</th>\n",
       "      <td>32.460733</td>\n",
       "      <td>20.855148</td>\n",
       "      <td>35.863874</td>\n",
       "      <td>10.209424</td>\n",
       "      <td>0.087260</td>\n",
       "      <td>0.523560</td>\n",
       "    </tr>\n",
       "    <tr>\n",
       "      <th>interoperability</th>\n",
       "      <td>29.968783</td>\n",
       "      <td>22.580645</td>\n",
       "      <td>34.235172</td>\n",
       "      <td>12.486993</td>\n",
       "      <td>0.312175</td>\n",
       "      <td>0.416233</td>\n",
       "    </tr>\n",
       "    <tr>\n",
       "      <th>modifiability</th>\n",
       "      <td>23.071672</td>\n",
       "      <td>10.921502</td>\n",
       "      <td>56.109215</td>\n",
       "      <td>9.419795</td>\n",
       "      <td>0.341297</td>\n",
       "      <td>0.136519</td>\n",
       "    </tr>\n",
       "    <tr>\n",
       "      <th>performance</th>\n",
       "      <td>25.920900</td>\n",
       "      <td>21.306708</td>\n",
       "      <td>30.166731</td>\n",
       "      <td>21.675068</td>\n",
       "      <td>0.484684</td>\n",
       "      <td>0.445909</td>\n",
       "    </tr>\n",
       "    <tr>\n",
       "      <th>reliability</th>\n",
       "      <td>38.805970</td>\n",
       "      <td>22.388060</td>\n",
       "      <td>19.402985</td>\n",
       "      <td>19.402985</td>\n",
       "      <td>0.000000</td>\n",
       "      <td>0.000000</td>\n",
       "    </tr>\n",
       "    <tr>\n",
       "      <th>safety</th>\n",
       "      <td>21.785714</td>\n",
       "      <td>15.785714</td>\n",
       "      <td>50.357143</td>\n",
       "      <td>11.928571</td>\n",
       "      <td>0.000000</td>\n",
       "      <td>0.142857</td>\n",
       "    </tr>\n",
       "    <tr>\n",
       "      <th>security</th>\n",
       "      <td>35.627530</td>\n",
       "      <td>19.028340</td>\n",
       "      <td>35.627530</td>\n",
       "      <td>9.716599</td>\n",
       "      <td>0.000000</td>\n",
       "      <td>0.000000</td>\n",
       "    </tr>\n",
       "    <tr>\n",
       "      <th>testability</th>\n",
       "      <td>27.569100</td>\n",
       "      <td>15.024805</td>\n",
       "      <td>36.853296</td>\n",
       "      <td>20.198441</td>\n",
       "      <td>0.212615</td>\n",
       "      <td>0.141743</td>\n",
       "    </tr>\n",
       "    <tr>\n",
       "      <th>usability</th>\n",
       "      <td>19.692603</td>\n",
       "      <td>35.062440</td>\n",
       "      <td>29.779059</td>\n",
       "      <td>14.793468</td>\n",
       "      <td>0.000000</td>\n",
       "      <td>0.672430</td>\n",
       "    </tr>\n",
       "  </tbody>\n",
       "</table>\n",
       "</div>"
      ]
     },
     "execution_count": 152,
     "metadata": {},
     "output_type": "execute_result"
    }
   ],
   "execution_count": 152
  },
  {
   "metadata": {
    "ExecuteTime": {
     "end_time": "2025-07-30T21:57:29.343635Z",
     "start_time": "2025-07-30T21:57:29.319531Z"
    }
   },
   "cell_type": "code",
   "source": [
    "r3_2 = data_rq3.pivot_table(index=\"s3_tactic_category\", columns=\"source\", values=\"nsimilar\", aggfunc=\"sum\", fill_value=0)\n",
    "totals = r3_2.sum(axis=1)\n",
    "r3_2 = r3_2.div(totals, axis=0) * 100\n",
    "r3_2"
   ],
   "id": "589a825bf8f4bbc6",
   "outputs": [
    {
     "data": {
      "text/plain": [
       "source                                      code_comment       docs  \\\n",
       "s3_tactic_category                                                    \n",
       "Control Resource Demand                        32.047646  22.178106   \n",
       "Control and Observe System State               27.676447  17.129262   \n",
       "Defer Binding                                  22.033898  33.898305   \n",
       "Detect Attacks                                 39.393939   3.030303   \n",
       "Detect Faults                                  47.777778  27.222222   \n",
       "Increase Cohesion                               0.000000  17.647059   \n",
       "Limit Complexity                               31.188119   9.405941   \n",
       "Manage Interfaces                              31.709845  18.704663   \n",
       "Manage Resources                               23.047977  23.769207   \n",
       "Prevent Faults                                 18.333333  15.000000   \n",
       "React to Attacks                               35.000000   5.000000   \n",
       "Recover from Attacks                            0.000000  50.000000   \n",
       "Recover from Faults_Preparation and Repair     54.878049  14.634146   \n",
       "Recover from Faults_Reintroduction            100.000000   0.000000   \n",
       "Reduce Coupling                                27.669903   9.223301   \n",
       "Reduce Size of a Module                        14.492754   6.763285   \n",
       "Resist Attacks                                 21.455224  31.902985   \n",
       "Resource Adaptation                            21.073298  11.191099   \n",
       "Resource Allocation                            47.486034  20.670391   \n",
       "Resource Monitoring                            42.857143   0.000000   \n",
       "Separate the User Interface                    56.164384  17.808219   \n",
       "Support System Initiative                      33.757962  42.675159   \n",
       "Support User Initiative                         5.357143  14.285714   \n",
       "\n",
       "source                                          issue  issue_comment  \\\n",
       "s3_tactic_category                                                     \n",
       "Control Resource Demand                     23.425978      21.837777   \n",
       "Control and Observe System State            34.258525      20.539255   \n",
       "Defer Binding                               20.338983      23.728814   \n",
       "Detect Attacks                              42.424242      15.151515   \n",
       "Detect Faults                               13.333333      11.666667   \n",
       "Increase Cohesion                           52.941176      29.411765   \n",
       "Limit Complexity                            45.544554      13.861386   \n",
       "Manage Interfaces                           37.409326      11.450777   \n",
       "Manage Resources                            30.072123      21.919097   \n",
       "Prevent Faults                              54.523810      11.984127   \n",
       "React to Attacks                            40.000000      20.000000   \n",
       "Recover from Attacks                         0.000000      50.000000   \n",
       "Recover from Faults_Preparation and Repair  18.292683      12.195122   \n",
       "Recover from Faults_Reintroduction           0.000000       0.000000   \n",
       "Reduce Coupling                             45.631068      17.475728   \n",
       "Reduce Size of a Module                     54.106280      24.637681   \n",
       "Resist Attacks                              33.675373      12.593284   \n",
       "Resource Adaptation                         57.133508       9.849476   \n",
       "Resource Allocation                         28.491620       2.793296   \n",
       "Resource Monitoring                         28.571429      28.571429   \n",
       "Separate the User Interface                 20.547945       5.479452   \n",
       "Support System Initiative                   12.738854       9.554140   \n",
       "Support User Initiative                     35.714286      42.857143   \n",
       "\n",
       "source                                       release      wiki  \n",
       "s3_tactic_category                                              \n",
       "Control Resource Demand                     0.397050  0.113443  \n",
       "Control and Observe System State            0.237906  0.158604  \n",
       "Defer Binding                               0.000000  0.000000  \n",
       "Detect Attacks                              0.000000  0.000000  \n",
       "Detect Faults                               0.000000  0.000000  \n",
       "Increase Cohesion                           0.000000  0.000000  \n",
       "Limit Complexity                            0.000000  0.000000  \n",
       "Manage Interfaces                           0.207254  0.518135  \n",
       "Manage Resources                            0.564440  0.627156  \n",
       "Prevent Faults                              0.000000  0.158730  \n",
       "React to Attacks                            0.000000  0.000000  \n",
       "Recover from Attacks                        0.000000  0.000000  \n",
       "Recover from Faults_Preparation and Repair  0.000000  0.000000  \n",
       "Recover from Faults_Reintroduction          0.000000  0.000000  \n",
       "Reduce Coupling                             0.000000  0.000000  \n",
       "Reduce Size of a Module                     0.000000  0.000000  \n",
       "Resist Attacks                              0.000000  0.373134  \n",
       "Resource Adaptation                         0.523560  0.229058  \n",
       "Resource Allocation                         0.000000  0.558659  \n",
       "Resource Monitoring                         0.000000  0.000000  \n",
       "Separate the User Interface                 0.000000  0.000000  \n",
       "Support System Initiative                   0.000000  1.273885  \n",
       "Support User Initiative                     0.000000  1.785714  "
      ],
      "text/html": [
       "<div>\n",
       "<style scoped>\n",
       "    .dataframe tbody tr th:only-of-type {\n",
       "        vertical-align: middle;\n",
       "    }\n",
       "\n",
       "    .dataframe tbody tr th {\n",
       "        vertical-align: top;\n",
       "    }\n",
       "\n",
       "    .dataframe thead th {\n",
       "        text-align: right;\n",
       "    }\n",
       "</style>\n",
       "<table border=\"1\" class=\"dataframe\">\n",
       "  <thead>\n",
       "    <tr style=\"text-align: right;\">\n",
       "      <th>source</th>\n",
       "      <th>code_comment</th>\n",
       "      <th>docs</th>\n",
       "      <th>issue</th>\n",
       "      <th>issue_comment</th>\n",
       "      <th>release</th>\n",
       "      <th>wiki</th>\n",
       "    </tr>\n",
       "    <tr>\n",
       "      <th>s3_tactic_category</th>\n",
       "      <th></th>\n",
       "      <th></th>\n",
       "      <th></th>\n",
       "      <th></th>\n",
       "      <th></th>\n",
       "      <th></th>\n",
       "    </tr>\n",
       "  </thead>\n",
       "  <tbody>\n",
       "    <tr>\n",
       "      <th>Control Resource Demand</th>\n",
       "      <td>32.047646</td>\n",
       "      <td>22.178106</td>\n",
       "      <td>23.425978</td>\n",
       "      <td>21.837777</td>\n",
       "      <td>0.397050</td>\n",
       "      <td>0.113443</td>\n",
       "    </tr>\n",
       "    <tr>\n",
       "      <th>Control and Observe System State</th>\n",
       "      <td>27.676447</td>\n",
       "      <td>17.129262</td>\n",
       "      <td>34.258525</td>\n",
       "      <td>20.539255</td>\n",
       "      <td>0.237906</td>\n",
       "      <td>0.158604</td>\n",
       "    </tr>\n",
       "    <tr>\n",
       "      <th>Defer Binding</th>\n",
       "      <td>22.033898</td>\n",
       "      <td>33.898305</td>\n",
       "      <td>20.338983</td>\n",
       "      <td>23.728814</td>\n",
       "      <td>0.000000</td>\n",
       "      <td>0.000000</td>\n",
       "    </tr>\n",
       "    <tr>\n",
       "      <th>Detect Attacks</th>\n",
       "      <td>39.393939</td>\n",
       "      <td>3.030303</td>\n",
       "      <td>42.424242</td>\n",
       "      <td>15.151515</td>\n",
       "      <td>0.000000</td>\n",
       "      <td>0.000000</td>\n",
       "    </tr>\n",
       "    <tr>\n",
       "      <th>Detect Faults</th>\n",
       "      <td>47.777778</td>\n",
       "      <td>27.222222</td>\n",
       "      <td>13.333333</td>\n",
       "      <td>11.666667</td>\n",
       "      <td>0.000000</td>\n",
       "      <td>0.000000</td>\n",
       "    </tr>\n",
       "    <tr>\n",
       "      <th>Increase Cohesion</th>\n",
       "      <td>0.000000</td>\n",
       "      <td>17.647059</td>\n",
       "      <td>52.941176</td>\n",
       "      <td>29.411765</td>\n",
       "      <td>0.000000</td>\n",
       "      <td>0.000000</td>\n",
       "    </tr>\n",
       "    <tr>\n",
       "      <th>Limit Complexity</th>\n",
       "      <td>31.188119</td>\n",
       "      <td>9.405941</td>\n",
       "      <td>45.544554</td>\n",
       "      <td>13.861386</td>\n",
       "      <td>0.000000</td>\n",
       "      <td>0.000000</td>\n",
       "    </tr>\n",
       "    <tr>\n",
       "      <th>Manage Interfaces</th>\n",
       "      <td>31.709845</td>\n",
       "      <td>18.704663</td>\n",
       "      <td>37.409326</td>\n",
       "      <td>11.450777</td>\n",
       "      <td>0.207254</td>\n",
       "      <td>0.518135</td>\n",
       "    </tr>\n",
       "    <tr>\n",
       "      <th>Manage Resources</th>\n",
       "      <td>23.047977</td>\n",
       "      <td>23.769207</td>\n",
       "      <td>30.072123</td>\n",
       "      <td>21.919097</td>\n",
       "      <td>0.564440</td>\n",
       "      <td>0.627156</td>\n",
       "    </tr>\n",
       "    <tr>\n",
       "      <th>Prevent Faults</th>\n",
       "      <td>18.333333</td>\n",
       "      <td>15.000000</td>\n",
       "      <td>54.523810</td>\n",
       "      <td>11.984127</td>\n",
       "      <td>0.000000</td>\n",
       "      <td>0.158730</td>\n",
       "    </tr>\n",
       "    <tr>\n",
       "      <th>React to Attacks</th>\n",
       "      <td>35.000000</td>\n",
       "      <td>5.000000</td>\n",
       "      <td>40.000000</td>\n",
       "      <td>20.000000</td>\n",
       "      <td>0.000000</td>\n",
       "      <td>0.000000</td>\n",
       "    </tr>\n",
       "    <tr>\n",
       "      <th>Recover from Attacks</th>\n",
       "      <td>0.000000</td>\n",
       "      <td>50.000000</td>\n",
       "      <td>0.000000</td>\n",
       "      <td>50.000000</td>\n",
       "      <td>0.000000</td>\n",
       "      <td>0.000000</td>\n",
       "    </tr>\n",
       "    <tr>\n",
       "      <th>Recover from Faults_Preparation and Repair</th>\n",
       "      <td>54.878049</td>\n",
       "      <td>14.634146</td>\n",
       "      <td>18.292683</td>\n",
       "      <td>12.195122</td>\n",
       "      <td>0.000000</td>\n",
       "      <td>0.000000</td>\n",
       "    </tr>\n",
       "    <tr>\n",
       "      <th>Recover from Faults_Reintroduction</th>\n",
       "      <td>100.000000</td>\n",
       "      <td>0.000000</td>\n",
       "      <td>0.000000</td>\n",
       "      <td>0.000000</td>\n",
       "      <td>0.000000</td>\n",
       "      <td>0.000000</td>\n",
       "    </tr>\n",
       "    <tr>\n",
       "      <th>Reduce Coupling</th>\n",
       "      <td>27.669903</td>\n",
       "      <td>9.223301</td>\n",
       "      <td>45.631068</td>\n",
       "      <td>17.475728</td>\n",
       "      <td>0.000000</td>\n",
       "      <td>0.000000</td>\n",
       "    </tr>\n",
       "    <tr>\n",
       "      <th>Reduce Size of a Module</th>\n",
       "      <td>14.492754</td>\n",
       "      <td>6.763285</td>\n",
       "      <td>54.106280</td>\n",
       "      <td>24.637681</td>\n",
       "      <td>0.000000</td>\n",
       "      <td>0.000000</td>\n",
       "    </tr>\n",
       "    <tr>\n",
       "      <th>Resist Attacks</th>\n",
       "      <td>21.455224</td>\n",
       "      <td>31.902985</td>\n",
       "      <td>33.675373</td>\n",
       "      <td>12.593284</td>\n",
       "      <td>0.000000</td>\n",
       "      <td>0.373134</td>\n",
       "    </tr>\n",
       "    <tr>\n",
       "      <th>Resource Adaptation</th>\n",
       "      <td>21.073298</td>\n",
       "      <td>11.191099</td>\n",
       "      <td>57.133508</td>\n",
       "      <td>9.849476</td>\n",
       "      <td>0.523560</td>\n",
       "      <td>0.229058</td>\n",
       "    </tr>\n",
       "    <tr>\n",
       "      <th>Resource Allocation</th>\n",
       "      <td>47.486034</td>\n",
       "      <td>20.670391</td>\n",
       "      <td>28.491620</td>\n",
       "      <td>2.793296</td>\n",
       "      <td>0.000000</td>\n",
       "      <td>0.558659</td>\n",
       "    </tr>\n",
       "    <tr>\n",
       "      <th>Resource Monitoring</th>\n",
       "      <td>42.857143</td>\n",
       "      <td>0.000000</td>\n",
       "      <td>28.571429</td>\n",
       "      <td>28.571429</td>\n",
       "      <td>0.000000</td>\n",
       "      <td>0.000000</td>\n",
       "    </tr>\n",
       "    <tr>\n",
       "      <th>Separate the User Interface</th>\n",
       "      <td>56.164384</td>\n",
       "      <td>17.808219</td>\n",
       "      <td>20.547945</td>\n",
       "      <td>5.479452</td>\n",
       "      <td>0.000000</td>\n",
       "      <td>0.000000</td>\n",
       "    </tr>\n",
       "    <tr>\n",
       "      <th>Support System Initiative</th>\n",
       "      <td>33.757962</td>\n",
       "      <td>42.675159</td>\n",
       "      <td>12.738854</td>\n",
       "      <td>9.554140</td>\n",
       "      <td>0.000000</td>\n",
       "      <td>1.273885</td>\n",
       "    </tr>\n",
       "    <tr>\n",
       "      <th>Support User Initiative</th>\n",
       "      <td>5.357143</td>\n",
       "      <td>14.285714</td>\n",
       "      <td>35.714286</td>\n",
       "      <td>42.857143</td>\n",
       "      <td>0.000000</td>\n",
       "      <td>1.785714</td>\n",
       "    </tr>\n",
       "  </tbody>\n",
       "</table>\n",
       "</div>"
      ]
     },
     "execution_count": 153,
     "metadata": {},
     "output_type": "execute_result"
    }
   ],
   "execution_count": 153
  },
  {
   "metadata": {},
   "cell_type": "markdown",
   "source": "",
   "id": "b16f146d7bbeecaf"
  },
  {
   "metadata": {},
   "cell_type": "code",
   "outputs": [],
   "execution_count": null,
   "source": "",
   "id": "fe62b628bd3b9c37"
  },
  {
   "metadata": {},
   "cell_type": "markdown",
   "source": "# Other",
   "id": "f3b5e74f4b2a2520"
  },
  {
   "metadata": {
    "ExecuteTime": {
     "end_time": "2025-07-29T12:16:23.629143Z",
     "start_time": "2025-07-29T12:16:23.494685Z"
    }
   },
   "cell_type": "code",
   "source": "df.source.unique()",
   "id": "8c39e354d80ab7ee",
   "outputs": [
    {
     "data": {
      "text/plain": [
       "array(['code_comment', 'docs', 'issue', 'issue_comment', 'release',\n",
       "       'wiki'], dtype=object)"
      ]
     },
     "execution_count": 4,
     "metadata": {},
     "output_type": "execute_result"
    }
   ],
   "execution_count": 4
  },
  {
   "metadata": {
    "ExecuteTime": {
     "end_time": "2025-07-29T12:16:23.831835Z",
     "start_time": "2025-07-29T12:16:23.687040Z"
    }
   },
   "cell_type": "code",
   "source": "df.qa.unique()",
   "id": "957d8c8a569be143",
   "outputs": [
    {
     "data": {
      "text/plain": [
       "array(['availability', 'deployability', 'energy efficiency',\n",
       "       'integrability', 'interoperability', 'modifiability',\n",
       "       'performance', 'reliability', 'safety', 'security', 'testability',\n",
       "       'usability'], dtype=object)"
      ]
     },
     "execution_count": 5,
     "metadata": {},
     "output_type": "execute_result"
    }
   ],
   "execution_count": 5
  },
  {
   "metadata": {
    "ExecuteTime": {
     "end_time": "2025-07-29T12:16:24.109427Z",
     "start_time": "2025-07-29T12:16:23.908840Z"
    }
   },
   "cell_type": "code",
   "source": "df.repo_id.unique()",
   "id": "daae1cde7a673f8c",
   "outputs": [
    {
     "data": {
      "text/plain": [
       "array(['allenai/scispacy/v0.5.5', 'google/deepvariant/v1.6.1',\n",
       "       'OpenGene/fastp/v0.23.4', 'root-project/root/v6-32-06',\n",
       "       'scverse/scanpy/1.10.2'], dtype=object)"
      ]
     },
     "execution_count": 6,
     "metadata": {},
     "output_type": "execute_result"
    }
   ],
   "execution_count": 6
  },
  {
   "metadata": {
    "ExecuteTime": {
     "end_time": "2025-07-29T12:16:24.379885Z",
     "start_time": "2025-07-29T12:16:24.369852Z"
    }
   },
   "cell_type": "code",
   "source": "df.columns",
   "id": "581754ffbce94b07",
   "outputs": [
    {
     "data": {
      "text/plain": [
       "Index(['id', 'keyword', 'keyword_raw', 'sentence', 'qa', 'source', 'url',\n",
       "       'repo_id', 'matched_word', 'unique_matched_words',\n",
       "       'nunique_matched_words', 'nsimilar', 's0_to_eliminate', 's0_reasoning',\n",
       "       's1_true_positive', 's1_reasoning', 's2_related_to_arch',\n",
       "       's2_reasoning', 's3_tactic', 's3_response', 'prefilter_passed',\n",
       "       's0_passed', 's1_passed', 's2_passed', 's3_passed'],\n",
       "      dtype='object')"
      ]
     },
     "execution_count": 7,
     "metadata": {},
     "output_type": "execute_result"
    }
   ],
   "execution_count": 7
  },
  {
   "metadata": {},
   "cell_type": "markdown",
   "source": "# Data funnel",
   "id": "fe30eb932a53e6d8"
  },
  {
   "metadata": {
    "ExecuteTime": {
     "end_time": "2025-07-29T12:20:54.380236Z",
     "start_time": "2025-07-29T12:20:54.075309Z"
    }
   },
   "cell_type": "code",
   "source": [
    "funnel = df.groupby(['prefilter_passed',\n",
    "       's0_passed', 's1_passed', 's2_passed', 's3_passed']).nsimilar.agg(\"sum\")\n",
    "funnel"
   ],
   "id": "f8f4b370d5aaf151",
   "outputs": [
    {
     "data": {
      "text/plain": [
       "prefilter_passed  s0_passed  s1_passed  s2_passed  s3_passed\n",
       "False             False      False      False      False         103326\n",
       "True              False      False      False      False        1220672\n",
       "                  True       False      False      False          49933\n",
       "                             True       False      False         525789\n",
       "                                        True       False          80045\n",
       "                                                   True           15085\n",
       "Name: nsimilar, dtype: int64"
      ]
     },
     "execution_count": 13,
     "metadata": {},
     "output_type": "execute_result"
    }
   ],
   "execution_count": 13
  },
  {
   "metadata": {
    "ExecuteTime": {
     "end_time": "2025-07-30T21:50:46.744058Z",
     "start_time": "2025-07-30T21:50:41.345973Z"
    }
   },
   "cell_type": "code",
   "source": [
    "import pandas as pd\n",
    "\n",
    "# Define the order and names of your funnel stages\n",
    "stages = {\n",
    "    'prefilter_passed': '1. Prefilter',\n",
    "    's0_passed': '2. Stage 0',\n",
    "    's1_passed': '3. Stage 1',\n",
    "    's2_passed': '4. Stage 2',\n",
    "    's3_passed': '5. Stage 3'\n",
    "}\n",
    "\n",
    "# This list will hold the data for each stage\n",
    "funnel_data_list = []\n",
    "\n",
    "# Process each stage\n",
    "for stage_col, stage_name in stages.items():\n",
    "    # 1. Filter for items that passed the current stage\n",
    "    passed_stage_df = df[df[stage_col] == True]\n",
    "\n",
    "    # 2. Group by 'source' and sum 'nsimilar'\n",
    "    stage_summary = passed_stage_df.groupby('source')['nsimilar'].sum().reset_index()\n",
    "\n",
    "    # 3. Add the stage name for plotting\n",
    "    stage_summary['Stage'] = stage_name\n",
    "\n",
    "    funnel_data_list.append(stage_summary)\n",
    "\n",
    "# 4. Combine all stage data into a single DataFrame\n",
    "funnel_plot_df = pd.concat(funnel_data_list, ignore_index=True)\n",
    "\n",
    "print(\"Reshaped data for plotting:\")\n",
    "print(funnel_plot_df)"
   ],
   "id": "2f346451411a74ed",
   "outputs": [
    {
     "name": "stdout",
     "output_type": "stream",
     "text": [
      "Reshaped data for plotting:\n",
      "           source  nsimilar         Stage\n",
      "0    code_comment    968267  1. Prefilter\n",
      "1            docs    260477  1. Prefilter\n",
      "2           issue    308571  1. Prefilter\n",
      "3   issue_comment    331911  1. Prefilter\n",
      "4         release      1099  1. Prefilter\n",
      "5            wiki     21199  1. Prefilter\n",
      "6    code_comment    306518    2. Stage 0\n",
      "7            docs     71142    2. Stage 0\n",
      "8           issue    130079    2. Stage 0\n",
      "9   issue_comment    159928    2. Stage 0\n",
      "10        release       699    2. Stage 0\n",
      "11           wiki      2486    2. Stage 0\n",
      "12   code_comment    288182    3. Stage 1\n",
      "13           docs     68007    3. Stage 1\n",
      "14          issue    122615    3. Stage 1\n",
      "15  issue_comment    139048    3. Stage 1\n",
      "16        release       641    3. Stage 1\n",
      "17           wiki      2426    3. Stage 1\n",
      "18   code_comment     18638    4. Stage 2\n",
      "19           docs     17077    4. Stage 2\n",
      "20          issue     28888    4. Stage 2\n",
      "21  issue_comment     29756    4. Stage 2\n",
      "22        release       190    4. Stage 2\n",
      "23           wiki       581    4. Stage 2\n",
      "24   code_comment      3907    5. Stage 3\n",
      "25           docs      2876    5. Stage 3\n",
      "26          issue      5823    5. Stage 3\n",
      "27  issue_comment      2380    5. Stage 3\n",
      "28        release        48    5. Stage 3\n",
      "29           wiki        51    5. Stage 3\n"
     ]
    }
   ],
   "execution_count": 149
  },
  {
   "metadata": {
    "ExecuteTime": {
     "end_time": "2025-07-30T21:51:32.283754Z",
     "start_time": "2025-07-30T21:51:32.165791Z"
    }
   },
   "cell_type": "code",
   "source": [
    "px.funnel(funnel_plot_df,\n",
    "                x='nsimilar',\n",
    "                y='Stage',\n",
    "                color='source',\n",
    "                title='Funnel Analysis by Source')"
   ],
   "id": "f353d3ed7d7df71b",
   "outputs": [
    {
     "data": {
      "application/vnd.plotly.v1+json": {
       "data": [
        {
         "hovertemplate": "source=code_comment<br>nsimilar=%{x}<br>Stage=%{y}<extra></extra>",
         "legendgroup": "code_comment",
         "marker": {
          "color": "#636efa"
         },
         "name": "code_comment",
         "orientation": "h",
         "showlegend": true,
         "x": {
          "dtype": "i4",
          "bdata": "S8YOAFatBAC2ZQQAzkgAAEMPAAA="
         },
         "xaxis": "x",
         "y": [
          "1. Prefilter",
          "2. Stage 0",
          "3. Stage 1",
          "4. Stage 2",
          "5. Stage 3"
         ],
         "yaxis": "y",
         "type": "funnel"
        },
        {
         "hovertemplate": "source=docs<br>nsimilar=%{x}<br>Stage=%{y}<extra></extra>",
         "legendgroup": "docs",
         "marker": {
          "color": "#EF553B"
         },
         "name": "docs",
         "orientation": "h",
         "showlegend": true,
         "x": {
          "dtype": "i4",
          "bdata": "ffkDAOYVAQCnCQEAtUIAADwLAAA="
         },
         "xaxis": "x",
         "y": [
          "1. Prefilter",
          "2. Stage 0",
          "3. Stage 1",
          "4. Stage 2",
          "5. Stage 3"
         ],
         "yaxis": "y",
         "type": "funnel"
        },
        {
         "hovertemplate": "source=issue<br>nsimilar=%{x}<br>Stage=%{y}<extra></extra>",
         "legendgroup": "issue",
         "marker": {
          "color": "#00cc96"
         },
         "name": "issue",
         "orientation": "h",
         "showlegend": true,
         "x": {
          "dtype": "i4",
          "bdata": "W7UEAB/8AQD33gEA2HAAAL8WAAA="
         },
         "xaxis": "x",
         "y": [
          "1. Prefilter",
          "2. Stage 0",
          "3. Stage 1",
          "4. Stage 2",
          "5. Stage 3"
         ],
         "yaxis": "y",
         "type": "funnel"
        },
        {
         "hovertemplate": "source=issue_comment<br>nsimilar=%{x}<br>Stage=%{y}<extra></extra>",
         "legendgroup": "issue_comment",
         "marker": {
          "color": "#ab63fa"
         },
         "name": "issue_comment",
         "orientation": "h",
         "showlegend": true,
         "x": {
          "dtype": "i4",
          "bdata": "hxAFALhwAgAoHwIAPHQAAEwJAAA="
         },
         "xaxis": "x",
         "y": [
          "1. Prefilter",
          "2. Stage 0",
          "3. Stage 1",
          "4. Stage 2",
          "5. Stage 3"
         ],
         "yaxis": "y",
         "type": "funnel"
        },
        {
         "hovertemplate": "source=release<br>nsimilar=%{x}<br>Stage=%{y}<extra></extra>",
         "legendgroup": "release",
         "marker": {
          "color": "#FFA15A"
         },
         "name": "release",
         "orientation": "h",
         "showlegend": true,
         "x": {
          "dtype": "i2",
          "bdata": "SwS7AoECvgAwAA=="
         },
         "xaxis": "x",
         "y": [
          "1. Prefilter",
          "2. Stage 0",
          "3. Stage 1",
          "4. Stage 2",
          "5. Stage 3"
         ],
         "yaxis": "y",
         "type": "funnel"
        },
        {
         "hovertemplate": "source=wiki<br>nsimilar=%{x}<br>Stage=%{y}<extra></extra>",
         "legendgroup": "wiki",
         "marker": {
          "color": "#19d3f3"
         },
         "name": "wiki",
         "orientation": "h",
         "showlegend": true,
         "x": {
          "dtype": "i2",
          "bdata": "z1K2CXoJRQIzAA=="
         },
         "xaxis": "x",
         "y": [
          "1. Prefilter",
          "2. Stage 0",
          "3. Stage 1",
          "4. Stage 2",
          "5. Stage 3"
         ],
         "yaxis": "y",
         "type": "funnel"
        }
       ],
       "layout": {
        "template": {
         "data": {
          "histogram2dcontour": [
           {
            "type": "histogram2dcontour",
            "colorbar": {
             "outlinewidth": 0,
             "ticks": ""
            },
            "colorscale": [
             [
              0.0,
              "#0d0887"
             ],
             [
              0.1111111111111111,
              "#46039f"
             ],
             [
              0.2222222222222222,
              "#7201a8"
             ],
             [
              0.3333333333333333,
              "#9c179e"
             ],
             [
              0.4444444444444444,
              "#bd3786"
             ],
             [
              0.5555555555555556,
              "#d8576b"
             ],
             [
              0.6666666666666666,
              "#ed7953"
             ],
             [
              0.7777777777777778,
              "#fb9f3a"
             ],
             [
              0.8888888888888888,
              "#fdca26"
             ],
             [
              1.0,
              "#f0f921"
             ]
            ]
           }
          ],
          "choropleth": [
           {
            "type": "choropleth",
            "colorbar": {
             "outlinewidth": 0,
             "ticks": ""
            }
           }
          ],
          "histogram2d": [
           {
            "type": "histogram2d",
            "colorbar": {
             "outlinewidth": 0,
             "ticks": ""
            },
            "colorscale": [
             [
              0.0,
              "#0d0887"
             ],
             [
              0.1111111111111111,
              "#46039f"
             ],
             [
              0.2222222222222222,
              "#7201a8"
             ],
             [
              0.3333333333333333,
              "#9c179e"
             ],
             [
              0.4444444444444444,
              "#bd3786"
             ],
             [
              0.5555555555555556,
              "#d8576b"
             ],
             [
              0.6666666666666666,
              "#ed7953"
             ],
             [
              0.7777777777777778,
              "#fb9f3a"
             ],
             [
              0.8888888888888888,
              "#fdca26"
             ],
             [
              1.0,
              "#f0f921"
             ]
            ]
           }
          ],
          "heatmap": [
           {
            "type": "heatmap",
            "colorbar": {
             "outlinewidth": 0,
             "ticks": ""
            },
            "colorscale": [
             [
              0.0,
              "#0d0887"
             ],
             [
              0.1111111111111111,
              "#46039f"
             ],
             [
              0.2222222222222222,
              "#7201a8"
             ],
             [
              0.3333333333333333,
              "#9c179e"
             ],
             [
              0.4444444444444444,
              "#bd3786"
             ],
             [
              0.5555555555555556,
              "#d8576b"
             ],
             [
              0.6666666666666666,
              "#ed7953"
             ],
             [
              0.7777777777777778,
              "#fb9f3a"
             ],
             [
              0.8888888888888888,
              "#fdca26"
             ],
             [
              1.0,
              "#f0f921"
             ]
            ]
           }
          ],
          "contourcarpet": [
           {
            "type": "contourcarpet",
            "colorbar": {
             "outlinewidth": 0,
             "ticks": ""
            }
           }
          ],
          "contour": [
           {
            "type": "contour",
            "colorbar": {
             "outlinewidth": 0,
             "ticks": ""
            },
            "colorscale": [
             [
              0.0,
              "#0d0887"
             ],
             [
              0.1111111111111111,
              "#46039f"
             ],
             [
              0.2222222222222222,
              "#7201a8"
             ],
             [
              0.3333333333333333,
              "#9c179e"
             ],
             [
              0.4444444444444444,
              "#bd3786"
             ],
             [
              0.5555555555555556,
              "#d8576b"
             ],
             [
              0.6666666666666666,
              "#ed7953"
             ],
             [
              0.7777777777777778,
              "#fb9f3a"
             ],
             [
              0.8888888888888888,
              "#fdca26"
             ],
             [
              1.0,
              "#f0f921"
             ]
            ]
           }
          ],
          "surface": [
           {
            "type": "surface",
            "colorbar": {
             "outlinewidth": 0,
             "ticks": ""
            },
            "colorscale": [
             [
              0.0,
              "#0d0887"
             ],
             [
              0.1111111111111111,
              "#46039f"
             ],
             [
              0.2222222222222222,
              "#7201a8"
             ],
             [
              0.3333333333333333,
              "#9c179e"
             ],
             [
              0.4444444444444444,
              "#bd3786"
             ],
             [
              0.5555555555555556,
              "#d8576b"
             ],
             [
              0.6666666666666666,
              "#ed7953"
             ],
             [
              0.7777777777777778,
              "#fb9f3a"
             ],
             [
              0.8888888888888888,
              "#fdca26"
             ],
             [
              1.0,
              "#f0f921"
             ]
            ]
           }
          ],
          "mesh3d": [
           {
            "type": "mesh3d",
            "colorbar": {
             "outlinewidth": 0,
             "ticks": ""
            }
           }
          ],
          "scatter": [
           {
            "fillpattern": {
             "fillmode": "overlay",
             "size": 10,
             "solidity": 0.2
            },
            "type": "scatter"
           }
          ],
          "parcoords": [
           {
            "type": "parcoords",
            "line": {
             "colorbar": {
              "outlinewidth": 0,
              "ticks": ""
             }
            }
           }
          ],
          "scatterpolargl": [
           {
            "type": "scatterpolargl",
            "marker": {
             "colorbar": {
              "outlinewidth": 0,
              "ticks": ""
             }
            }
           }
          ],
          "bar": [
           {
            "error_x": {
             "color": "#2a3f5f"
            },
            "error_y": {
             "color": "#2a3f5f"
            },
            "marker": {
             "line": {
              "color": "#E5ECF6",
              "width": 0.5
             },
             "pattern": {
              "fillmode": "overlay",
              "size": 10,
              "solidity": 0.2
             }
            },
            "type": "bar"
           }
          ],
          "scattergeo": [
           {
            "type": "scattergeo",
            "marker": {
             "colorbar": {
              "outlinewidth": 0,
              "ticks": ""
             }
            }
           }
          ],
          "scatterpolar": [
           {
            "type": "scatterpolar",
            "marker": {
             "colorbar": {
              "outlinewidth": 0,
              "ticks": ""
             }
            }
           }
          ],
          "histogram": [
           {
            "marker": {
             "pattern": {
              "fillmode": "overlay",
              "size": 10,
              "solidity": 0.2
             }
            },
            "type": "histogram"
           }
          ],
          "scattergl": [
           {
            "type": "scattergl",
            "marker": {
             "colorbar": {
              "outlinewidth": 0,
              "ticks": ""
             }
            }
           }
          ],
          "scatter3d": [
           {
            "type": "scatter3d",
            "line": {
             "colorbar": {
              "outlinewidth": 0,
              "ticks": ""
             }
            },
            "marker": {
             "colorbar": {
              "outlinewidth": 0,
              "ticks": ""
             }
            }
           }
          ],
          "scattermap": [
           {
            "type": "scattermap",
            "marker": {
             "colorbar": {
              "outlinewidth": 0,
              "ticks": ""
             }
            }
           }
          ],
          "scattermapbox": [
           {
            "type": "scattermapbox",
            "marker": {
             "colorbar": {
              "outlinewidth": 0,
              "ticks": ""
             }
            }
           }
          ],
          "scatterternary": [
           {
            "type": "scatterternary",
            "marker": {
             "colorbar": {
              "outlinewidth": 0,
              "ticks": ""
             }
            }
           }
          ],
          "scattercarpet": [
           {
            "type": "scattercarpet",
            "marker": {
             "colorbar": {
              "outlinewidth": 0,
              "ticks": ""
             }
            }
           }
          ],
          "carpet": [
           {
            "aaxis": {
             "endlinecolor": "#2a3f5f",
             "gridcolor": "white",
             "linecolor": "white",
             "minorgridcolor": "white",
             "startlinecolor": "#2a3f5f"
            },
            "baxis": {
             "endlinecolor": "#2a3f5f",
             "gridcolor": "white",
             "linecolor": "white",
             "minorgridcolor": "white",
             "startlinecolor": "#2a3f5f"
            },
            "type": "carpet"
           }
          ],
          "table": [
           {
            "cells": {
             "fill": {
              "color": "#EBF0F8"
             },
             "line": {
              "color": "white"
             }
            },
            "header": {
             "fill": {
              "color": "#C8D4E3"
             },
             "line": {
              "color": "white"
             }
            },
            "type": "table"
           }
          ],
          "barpolar": [
           {
            "marker": {
             "line": {
              "color": "#E5ECF6",
              "width": 0.5
             },
             "pattern": {
              "fillmode": "overlay",
              "size": 10,
              "solidity": 0.2
             }
            },
            "type": "barpolar"
           }
          ],
          "pie": [
           {
            "automargin": true,
            "type": "pie"
           }
          ]
         },
         "layout": {
          "autotypenumbers": "strict",
          "colorway": [
           "#636efa",
           "#EF553B",
           "#00cc96",
           "#ab63fa",
           "#FFA15A",
           "#19d3f3",
           "#FF6692",
           "#B6E880",
           "#FF97FF",
           "#FECB52"
          ],
          "font": {
           "color": "#2a3f5f"
          },
          "hovermode": "closest",
          "hoverlabel": {
           "align": "left"
          },
          "paper_bgcolor": "white",
          "plot_bgcolor": "#E5ECF6",
          "polar": {
           "bgcolor": "#E5ECF6",
           "angularaxis": {
            "gridcolor": "white",
            "linecolor": "white",
            "ticks": ""
           },
           "radialaxis": {
            "gridcolor": "white",
            "linecolor": "white",
            "ticks": ""
           }
          },
          "ternary": {
           "bgcolor": "#E5ECF6",
           "aaxis": {
            "gridcolor": "white",
            "linecolor": "white",
            "ticks": ""
           },
           "baxis": {
            "gridcolor": "white",
            "linecolor": "white",
            "ticks": ""
           },
           "caxis": {
            "gridcolor": "white",
            "linecolor": "white",
            "ticks": ""
           }
          },
          "coloraxis": {
           "colorbar": {
            "outlinewidth": 0,
            "ticks": ""
           }
          },
          "colorscale": {
           "sequential": [
            [
             0.0,
             "#0d0887"
            ],
            [
             0.1111111111111111,
             "#46039f"
            ],
            [
             0.2222222222222222,
             "#7201a8"
            ],
            [
             0.3333333333333333,
             "#9c179e"
            ],
            [
             0.4444444444444444,
             "#bd3786"
            ],
            [
             0.5555555555555556,
             "#d8576b"
            ],
            [
             0.6666666666666666,
             "#ed7953"
            ],
            [
             0.7777777777777778,
             "#fb9f3a"
            ],
            [
             0.8888888888888888,
             "#fdca26"
            ],
            [
             1.0,
             "#f0f921"
            ]
           ],
           "sequentialminus": [
            [
             0.0,
             "#0d0887"
            ],
            [
             0.1111111111111111,
             "#46039f"
            ],
            [
             0.2222222222222222,
             "#7201a8"
            ],
            [
             0.3333333333333333,
             "#9c179e"
            ],
            [
             0.4444444444444444,
             "#bd3786"
            ],
            [
             0.5555555555555556,
             "#d8576b"
            ],
            [
             0.6666666666666666,
             "#ed7953"
            ],
            [
             0.7777777777777778,
             "#fb9f3a"
            ],
            [
             0.8888888888888888,
             "#fdca26"
            ],
            [
             1.0,
             "#f0f921"
            ]
           ],
           "diverging": [
            [
             0,
             "#8e0152"
            ],
            [
             0.1,
             "#c51b7d"
            ],
            [
             0.2,
             "#de77ae"
            ],
            [
             0.3,
             "#f1b6da"
            ],
            [
             0.4,
             "#fde0ef"
            ],
            [
             0.5,
             "#f7f7f7"
            ],
            [
             0.6,
             "#e6f5d0"
            ],
            [
             0.7,
             "#b8e186"
            ],
            [
             0.8,
             "#7fbc41"
            ],
            [
             0.9,
             "#4d9221"
            ],
            [
             1,
             "#276419"
            ]
           ]
          },
          "xaxis": {
           "gridcolor": "white",
           "linecolor": "white",
           "ticks": "",
           "title": {
            "standoff": 15
           },
           "zerolinecolor": "white",
           "automargin": true,
           "zerolinewidth": 2
          },
          "yaxis": {
           "gridcolor": "white",
           "linecolor": "white",
           "ticks": "",
           "title": {
            "standoff": 15
           },
           "zerolinecolor": "white",
           "automargin": true,
           "zerolinewidth": 2
          },
          "scene": {
           "xaxis": {
            "backgroundcolor": "#E5ECF6",
            "gridcolor": "white",
            "linecolor": "white",
            "showbackground": true,
            "ticks": "",
            "zerolinecolor": "white",
            "gridwidth": 2
           },
           "yaxis": {
            "backgroundcolor": "#E5ECF6",
            "gridcolor": "white",
            "linecolor": "white",
            "showbackground": true,
            "ticks": "",
            "zerolinecolor": "white",
            "gridwidth": 2
           },
           "zaxis": {
            "backgroundcolor": "#E5ECF6",
            "gridcolor": "white",
            "linecolor": "white",
            "showbackground": true,
            "ticks": "",
            "zerolinecolor": "white",
            "gridwidth": 2
           }
          },
          "shapedefaults": {
           "line": {
            "color": "#2a3f5f"
           }
          },
          "annotationdefaults": {
           "arrowcolor": "#2a3f5f",
           "arrowhead": 0,
           "arrowwidth": 1
          },
          "geo": {
           "bgcolor": "white",
           "landcolor": "#E5ECF6",
           "subunitcolor": "white",
           "showland": true,
           "showlakes": true,
           "lakecolor": "white"
          },
          "title": {
           "x": 0.05
          },
          "mapbox": {
           "style": "light"
          }
         }
        },
        "xaxis": {
         "anchor": "y",
         "domain": [
          0.0,
          1.0
         ],
         "title": {
          "text": "nsimilar"
         }
        },
        "yaxis": {
         "anchor": "x",
         "domain": [
          0.0,
          1.0
         ],
         "title": {
          "text": "Stage"
         }
        },
        "legend": {
         "title": {
          "text": "source"
         },
         "tracegroupgap": 0
        },
        "title": {
         "text": "Funnel Analysis by Source"
        }
       },
       "config": {
        "plotlyServerURL": "https://plot.ly"
       }
      }
     },
     "metadata": {},
     "output_type": "display_data"
    }
   ],
   "execution_count": 150
  },
  {
   "metadata": {},
   "cell_type": "code",
   "outputs": [],
   "execution_count": null,
   "source": "",
   "id": "cc783d083c841757"
  },
  {
   "metadata": {
    "ExecuteTime": {
     "end_time": "2025-07-29T12:20:55.559899Z",
     "start_time": "2025-07-29T12:20:55.534118Z"
    }
   },
   "cell_type": "code",
   "source": [
    "total_items = df.nsimilar.sum()\n",
    "funnel_df = funnel.reset_index()\n",
    "funnel_df[\"percentage_of_total\"] = funnel_df.nsimilar / total_items * 100\n",
    "funnel_df"
   ],
   "id": "b5929607dcd78f66",
   "outputs": [
    {
     "data": {
      "text/plain": [
       "   prefilter_passed  s0_passed  s1_passed  s2_passed  s3_passed  nsimilar  \\\n",
       "0             False      False      False      False      False    103326   \n",
       "1              True      False      False      False      False   1220672   \n",
       "2              True       True      False      False      False     49933   \n",
       "3              True       True       True      False      False    525789   \n",
       "4              True       True       True       True      False     80045   \n",
       "5              True       True       True       True       True     15085   \n",
       "\n",
       "   percentage_of_total  \n",
       "0             5.179638  \n",
       "1            61.191167  \n",
       "2             2.503095  \n",
       "3            26.357320  \n",
       "4             4.012582  \n",
       "5             0.756197  "
      ],
      "text/html": [
       "<div>\n",
       "<style scoped>\n",
       "    .dataframe tbody tr th:only-of-type {\n",
       "        vertical-align: middle;\n",
       "    }\n",
       "\n",
       "    .dataframe tbody tr th {\n",
       "        vertical-align: top;\n",
       "    }\n",
       "\n",
       "    .dataframe thead th {\n",
       "        text-align: right;\n",
       "    }\n",
       "</style>\n",
       "<table border=\"1\" class=\"dataframe\">\n",
       "  <thead>\n",
       "    <tr style=\"text-align: right;\">\n",
       "      <th></th>\n",
       "      <th>prefilter_passed</th>\n",
       "      <th>s0_passed</th>\n",
       "      <th>s1_passed</th>\n",
       "      <th>s2_passed</th>\n",
       "      <th>s3_passed</th>\n",
       "      <th>nsimilar</th>\n",
       "      <th>percentage_of_total</th>\n",
       "    </tr>\n",
       "  </thead>\n",
       "  <tbody>\n",
       "    <tr>\n",
       "      <th>0</th>\n",
       "      <td>False</td>\n",
       "      <td>False</td>\n",
       "      <td>False</td>\n",
       "      <td>False</td>\n",
       "      <td>False</td>\n",
       "      <td>103326</td>\n",
       "      <td>5.179638</td>\n",
       "    </tr>\n",
       "    <tr>\n",
       "      <th>1</th>\n",
       "      <td>True</td>\n",
       "      <td>False</td>\n",
       "      <td>False</td>\n",
       "      <td>False</td>\n",
       "      <td>False</td>\n",
       "      <td>1220672</td>\n",
       "      <td>61.191167</td>\n",
       "    </tr>\n",
       "    <tr>\n",
       "      <th>2</th>\n",
       "      <td>True</td>\n",
       "      <td>True</td>\n",
       "      <td>False</td>\n",
       "      <td>False</td>\n",
       "      <td>False</td>\n",
       "      <td>49933</td>\n",
       "      <td>2.503095</td>\n",
       "    </tr>\n",
       "    <tr>\n",
       "      <th>3</th>\n",
       "      <td>True</td>\n",
       "      <td>True</td>\n",
       "      <td>True</td>\n",
       "      <td>False</td>\n",
       "      <td>False</td>\n",
       "      <td>525789</td>\n",
       "      <td>26.357320</td>\n",
       "    </tr>\n",
       "    <tr>\n",
       "      <th>4</th>\n",
       "      <td>True</td>\n",
       "      <td>True</td>\n",
       "      <td>True</td>\n",
       "      <td>True</td>\n",
       "      <td>False</td>\n",
       "      <td>80045</td>\n",
       "      <td>4.012582</td>\n",
       "    </tr>\n",
       "    <tr>\n",
       "      <th>5</th>\n",
       "      <td>True</td>\n",
       "      <td>True</td>\n",
       "      <td>True</td>\n",
       "      <td>True</td>\n",
       "      <td>True</td>\n",
       "      <td>15085</td>\n",
       "      <td>0.756197</td>\n",
       "    </tr>\n",
       "  </tbody>\n",
       "</table>\n",
       "</div>"
      ]
     },
     "execution_count": 14,
     "metadata": {},
     "output_type": "execute_result"
    }
   ],
   "execution_count": 14
  },
  {
   "metadata": {},
   "cell_type": "markdown",
   "source": "## Crosstab",
   "id": "6be4d3876102558b"
  },
  {
   "metadata": {
    "ExecuteTime": {
     "end_time": "2025-07-29T12:56:12.693626Z",
     "start_time": "2025-07-29T12:56:12.597570Z"
    }
   },
   "cell_type": "code",
   "source": [
    "import pandas as pd\n",
    "\n",
    "df_tactics = df[df['s3_passed'] == True]\n",
    "tactic_crosstab = pd.crosstab(df_tactics['qa'], df_tactics['s3_tactic'])\n",
    "tactic_crosstab"
   ],
   "id": "128fda6f6079775a",
   "outputs": [
    {
     "data": {
      "text/plain": [
       "s3_tactic          Abstract Common Services  Abstract Data Sources  \\\n",
       "qa                                                                   \n",
       "availability                              0                      0   \n",
       "deployability                            10                      0   \n",
       "energy efficiency                         0                      0   \n",
       "integrability                             2                      0   \n",
       "interoperability                          1                      0   \n",
       "modifiability                            41                      0   \n",
       "performance                               0                      0   \n",
       "reliability                               0                      0   \n",
       "safety                                    0                      0   \n",
       "security                                  0                      0   \n",
       "testability                               0                    950   \n",
       "usability                                 0                      0   \n",
       "\n",
       "s3_tactic          Active Redundancy  Aggregate  Authenticate Actors  \\\n",
       "qa                                                                     \n",
       "availability                       5          0                    0   \n",
       "deployability                      0          0                    0   \n",
       "energy efficiency                  0          0                    0   \n",
       "integrability                      0          0                    0   \n",
       "interoperability                   0          0                    0   \n",
       "modifiability                      0          0                    0   \n",
       "performance                        0          0                    0   \n",
       "reliability                        2          0                    0   \n",
       "safety                             6          0                    0   \n",
       "security                           0          0                    8   \n",
       "testability                        0          0                    0   \n",
       "usability                          0         25                    0   \n",
       "\n",
       "s3_tactic          Authorize Actors  Bound Execution Times  Bound Queue Sizes  \\\n",
       "qa                                                                              \n",
       "availability                      0                      0                  0   \n",
       "deployability                     0                      0                  0   \n",
       "energy efficiency                 0                      0                  0   \n",
       "integrability                     0                      0                  0   \n",
       "interoperability                  0                      0                  0   \n",
       "modifiability                     0                      0                  0   \n",
       "performance                       0                   1086               2252   \n",
       "reliability                       0                      0                  0   \n",
       "safety                            9                      0                  0   \n",
       "security                         16                      0                  0   \n",
       "testability                       0                      0                  0   \n",
       "usability                         0                      0                  0   \n",
       "\n",
       "s3_tactic          Cancel  Change Default Settings  ...  Startup Time Binding  \\\n",
       "qa                                                  ...                         \n",
       "availability            0                        0  ...                     0   \n",
       "deployability           0                        0  ...                     2   \n",
       "energy efficiency       0                        0  ...                     0   \n",
       "integrability           0                        0  ...                     1   \n",
       "interoperability        0                        0  ...                     1   \n",
       "modifiability           0                        0  ...                     0   \n",
       "performance             0                        0  ...                     0   \n",
       "reliability             0                        0  ...                     0   \n",
       "safety                  0                        0  ...                     0   \n",
       "security                0                       12  ...                     0   \n",
       "testability             0                        0  ...                     0   \n",
       "usability               9                        0  ...                     0   \n",
       "\n",
       "s3_tactic          Static Classification  Tailor Interface  Timestamp  \\\n",
       "qa                                                                      \n",
       "availability                           0                 0          2   \n",
       "deployability                          0                 0          0   \n",
       "energy efficiency                      5                 0          0   \n",
       "integrability                          0               735          0   \n",
       "interoperability                       0               635          0   \n",
       "modifiability                          0                 0          0   \n",
       "performance                            0                 0          0   \n",
       "reliability                            0                 0          0   \n",
       "safety                                 0                 0          0   \n",
       "security                               0                 0          0   \n",
       "testability                            0                 0          0   \n",
       "usability                              0                 0          0   \n",
       "\n",
       "s3_tactic          Transactions  Undo  Use an Intermediary  \\\n",
       "qa                                                           \n",
       "availability                  1     0                    0   \n",
       "deployability                 0     0                    5   \n",
       "energy efficiency             0     0                    0   \n",
       "integrability                 0     0                    0   \n",
       "interoperability              0     0                    0   \n",
       "modifiability                 0     0                    5   \n",
       "performance                   0     0                    0   \n",
       "reliability                   0     0                    0   \n",
       "safety                        0     0                    0   \n",
       "security                      0     0                    0   \n",
       "testability                   0     0                    0   \n",
       "usability                     0    13                    0   \n",
       "\n",
       "s3_tactic          Verify Message Integrity  Vertical Scaling  Voting  \n",
       "qa                                                                     \n",
       "availability                              0                 0       0  \n",
       "deployability                             0                 0       0  \n",
       "energy efficiency                         0                26       0  \n",
       "integrability                             0                 0       0  \n",
       "interoperability                          0                 0       0  \n",
       "modifiability                             0                 0       0  \n",
       "performance                               0                 0       0  \n",
       "reliability                               0                 0       0  \n",
       "safety                                    0                 0       2  \n",
       "security                                  9                 0       0  \n",
       "testability                               0                 0       0  \n",
       "usability                                 0                 0       0  \n",
       "\n",
       "[12 rows x 83 columns]"
      ],
      "text/html": [
       "<div>\n",
       "<style scoped>\n",
       "    .dataframe tbody tr th:only-of-type {\n",
       "        vertical-align: middle;\n",
       "    }\n",
       "\n",
       "    .dataframe tbody tr th {\n",
       "        vertical-align: top;\n",
       "    }\n",
       "\n",
       "    .dataframe thead th {\n",
       "        text-align: right;\n",
       "    }\n",
       "</style>\n",
       "<table border=\"1\" class=\"dataframe\">\n",
       "  <thead>\n",
       "    <tr style=\"text-align: right;\">\n",
       "      <th>s3_tactic</th>\n",
       "      <th>Abstract Common Services</th>\n",
       "      <th>Abstract Data Sources</th>\n",
       "      <th>Active Redundancy</th>\n",
       "      <th>Aggregate</th>\n",
       "      <th>Authenticate Actors</th>\n",
       "      <th>Authorize Actors</th>\n",
       "      <th>Bound Execution Times</th>\n",
       "      <th>Bound Queue Sizes</th>\n",
       "      <th>Cancel</th>\n",
       "      <th>Change Default Settings</th>\n",
       "      <th>...</th>\n",
       "      <th>Startup Time Binding</th>\n",
       "      <th>Static Classification</th>\n",
       "      <th>Tailor Interface</th>\n",
       "      <th>Timestamp</th>\n",
       "      <th>Transactions</th>\n",
       "      <th>Undo</th>\n",
       "      <th>Use an Intermediary</th>\n",
       "      <th>Verify Message Integrity</th>\n",
       "      <th>Vertical Scaling</th>\n",
       "      <th>Voting</th>\n",
       "    </tr>\n",
       "    <tr>\n",
       "      <th>qa</th>\n",
       "      <th></th>\n",
       "      <th></th>\n",
       "      <th></th>\n",
       "      <th></th>\n",
       "      <th></th>\n",
       "      <th></th>\n",
       "      <th></th>\n",
       "      <th></th>\n",
       "      <th></th>\n",
       "      <th></th>\n",
       "      <th></th>\n",
       "      <th></th>\n",
       "      <th></th>\n",
       "      <th></th>\n",
       "      <th></th>\n",
       "      <th></th>\n",
       "      <th></th>\n",
       "      <th></th>\n",
       "      <th></th>\n",
       "      <th></th>\n",
       "      <th></th>\n",
       "    </tr>\n",
       "  </thead>\n",
       "  <tbody>\n",
       "    <tr>\n",
       "      <th>availability</th>\n",
       "      <td>0</td>\n",
       "      <td>0</td>\n",
       "      <td>5</td>\n",
       "      <td>0</td>\n",
       "      <td>0</td>\n",
       "      <td>0</td>\n",
       "      <td>0</td>\n",
       "      <td>0</td>\n",
       "      <td>0</td>\n",
       "      <td>0</td>\n",
       "      <td>...</td>\n",
       "      <td>0</td>\n",
       "      <td>0</td>\n",
       "      <td>0</td>\n",
       "      <td>2</td>\n",
       "      <td>1</td>\n",
       "      <td>0</td>\n",
       "      <td>0</td>\n",
       "      <td>0</td>\n",
       "      <td>0</td>\n",
       "      <td>0</td>\n",
       "    </tr>\n",
       "    <tr>\n",
       "      <th>deployability</th>\n",
       "      <td>10</td>\n",
       "      <td>0</td>\n",
       "      <td>0</td>\n",
       "      <td>0</td>\n",
       "      <td>0</td>\n",
       "      <td>0</td>\n",
       "      <td>0</td>\n",
       "      <td>0</td>\n",
       "      <td>0</td>\n",
       "      <td>0</td>\n",
       "      <td>...</td>\n",
       "      <td>2</td>\n",
       "      <td>0</td>\n",
       "      <td>0</td>\n",
       "      <td>0</td>\n",
       "      <td>0</td>\n",
       "      <td>0</td>\n",
       "      <td>5</td>\n",
       "      <td>0</td>\n",
       "      <td>0</td>\n",
       "      <td>0</td>\n",
       "    </tr>\n",
       "    <tr>\n",
       "      <th>energy efficiency</th>\n",
       "      <td>0</td>\n",
       "      <td>0</td>\n",
       "      <td>0</td>\n",
       "      <td>0</td>\n",
       "      <td>0</td>\n",
       "      <td>0</td>\n",
       "      <td>0</td>\n",
       "      <td>0</td>\n",
       "      <td>0</td>\n",
       "      <td>0</td>\n",
       "      <td>...</td>\n",
       "      <td>0</td>\n",
       "      <td>5</td>\n",
       "      <td>0</td>\n",
       "      <td>0</td>\n",
       "      <td>0</td>\n",
       "      <td>0</td>\n",
       "      <td>0</td>\n",
       "      <td>0</td>\n",
       "      <td>26</td>\n",
       "      <td>0</td>\n",
       "    </tr>\n",
       "    <tr>\n",
       "      <th>integrability</th>\n",
       "      <td>2</td>\n",
       "      <td>0</td>\n",
       "      <td>0</td>\n",
       "      <td>0</td>\n",
       "      <td>0</td>\n",
       "      <td>0</td>\n",
       "      <td>0</td>\n",
       "      <td>0</td>\n",
       "      <td>0</td>\n",
       "      <td>0</td>\n",
       "      <td>...</td>\n",
       "      <td>1</td>\n",
       "      <td>0</td>\n",
       "      <td>735</td>\n",
       "      <td>0</td>\n",
       "      <td>0</td>\n",
       "      <td>0</td>\n",
       "      <td>0</td>\n",
       "      <td>0</td>\n",
       "      <td>0</td>\n",
       "      <td>0</td>\n",
       "    </tr>\n",
       "    <tr>\n",
       "      <th>interoperability</th>\n",
       "      <td>1</td>\n",
       "      <td>0</td>\n",
       "      <td>0</td>\n",
       "      <td>0</td>\n",
       "      <td>0</td>\n",
       "      <td>0</td>\n",
       "      <td>0</td>\n",
       "      <td>0</td>\n",
       "      <td>0</td>\n",
       "      <td>0</td>\n",
       "      <td>...</td>\n",
       "      <td>1</td>\n",
       "      <td>0</td>\n",
       "      <td>635</td>\n",
       "      <td>0</td>\n",
       "      <td>0</td>\n",
       "      <td>0</td>\n",
       "      <td>0</td>\n",
       "      <td>0</td>\n",
       "      <td>0</td>\n",
       "      <td>0</td>\n",
       "    </tr>\n",
       "    <tr>\n",
       "      <th>modifiability</th>\n",
       "      <td>41</td>\n",
       "      <td>0</td>\n",
       "      <td>0</td>\n",
       "      <td>0</td>\n",
       "      <td>0</td>\n",
       "      <td>0</td>\n",
       "      <td>0</td>\n",
       "      <td>0</td>\n",
       "      <td>0</td>\n",
       "      <td>0</td>\n",
       "      <td>...</td>\n",
       "      <td>0</td>\n",
       "      <td>0</td>\n",
       "      <td>0</td>\n",
       "      <td>0</td>\n",
       "      <td>0</td>\n",
       "      <td>0</td>\n",
       "      <td>5</td>\n",
       "      <td>0</td>\n",
       "      <td>0</td>\n",
       "      <td>0</td>\n",
       "    </tr>\n",
       "    <tr>\n",
       "      <th>performance</th>\n",
       "      <td>0</td>\n",
       "      <td>0</td>\n",
       "      <td>0</td>\n",
       "      <td>0</td>\n",
       "      <td>0</td>\n",
       "      <td>0</td>\n",
       "      <td>1086</td>\n",
       "      <td>2252</td>\n",
       "      <td>0</td>\n",
       "      <td>0</td>\n",
       "      <td>...</td>\n",
       "      <td>0</td>\n",
       "      <td>0</td>\n",
       "      <td>0</td>\n",
       "      <td>0</td>\n",
       "      <td>0</td>\n",
       "      <td>0</td>\n",
       "      <td>0</td>\n",
       "      <td>0</td>\n",
       "      <td>0</td>\n",
       "      <td>0</td>\n",
       "    </tr>\n",
       "    <tr>\n",
       "      <th>reliability</th>\n",
       "      <td>0</td>\n",
       "      <td>0</td>\n",
       "      <td>2</td>\n",
       "      <td>0</td>\n",
       "      <td>0</td>\n",
       "      <td>0</td>\n",
       "      <td>0</td>\n",
       "      <td>0</td>\n",
       "      <td>0</td>\n",
       "      <td>0</td>\n",
       "      <td>...</td>\n",
       "      <td>0</td>\n",
       "      <td>0</td>\n",
       "      <td>0</td>\n",
       "      <td>0</td>\n",
       "      <td>0</td>\n",
       "      <td>0</td>\n",
       "      <td>0</td>\n",
       "      <td>0</td>\n",
       "      <td>0</td>\n",
       "      <td>0</td>\n",
       "    </tr>\n",
       "    <tr>\n",
       "      <th>safety</th>\n",
       "      <td>0</td>\n",
       "      <td>0</td>\n",
       "      <td>6</td>\n",
       "      <td>0</td>\n",
       "      <td>0</td>\n",
       "      <td>9</td>\n",
       "      <td>0</td>\n",
       "      <td>0</td>\n",
       "      <td>0</td>\n",
       "      <td>0</td>\n",
       "      <td>...</td>\n",
       "      <td>0</td>\n",
       "      <td>0</td>\n",
       "      <td>0</td>\n",
       "      <td>0</td>\n",
       "      <td>0</td>\n",
       "      <td>0</td>\n",
       "      <td>0</td>\n",
       "      <td>0</td>\n",
       "      <td>0</td>\n",
       "      <td>2</td>\n",
       "    </tr>\n",
       "    <tr>\n",
       "      <th>security</th>\n",
       "      <td>0</td>\n",
       "      <td>0</td>\n",
       "      <td>0</td>\n",
       "      <td>0</td>\n",
       "      <td>8</td>\n",
       "      <td>16</td>\n",
       "      <td>0</td>\n",
       "      <td>0</td>\n",
       "      <td>0</td>\n",
       "      <td>12</td>\n",
       "      <td>...</td>\n",
       "      <td>0</td>\n",
       "      <td>0</td>\n",
       "      <td>0</td>\n",
       "      <td>0</td>\n",
       "      <td>0</td>\n",
       "      <td>0</td>\n",
       "      <td>0</td>\n",
       "      <td>9</td>\n",
       "      <td>0</td>\n",
       "      <td>0</td>\n",
       "    </tr>\n",
       "    <tr>\n",
       "      <th>testability</th>\n",
       "      <td>0</td>\n",
       "      <td>950</td>\n",
       "      <td>0</td>\n",
       "      <td>0</td>\n",
       "      <td>0</td>\n",
       "      <td>0</td>\n",
       "      <td>0</td>\n",
       "      <td>0</td>\n",
       "      <td>0</td>\n",
       "      <td>0</td>\n",
       "      <td>...</td>\n",
       "      <td>0</td>\n",
       "      <td>0</td>\n",
       "      <td>0</td>\n",
       "      <td>0</td>\n",
       "      <td>0</td>\n",
       "      <td>0</td>\n",
       "      <td>0</td>\n",
       "      <td>0</td>\n",
       "      <td>0</td>\n",
       "      <td>0</td>\n",
       "    </tr>\n",
       "    <tr>\n",
       "      <th>usability</th>\n",
       "      <td>0</td>\n",
       "      <td>0</td>\n",
       "      <td>0</td>\n",
       "      <td>25</td>\n",
       "      <td>0</td>\n",
       "      <td>0</td>\n",
       "      <td>0</td>\n",
       "      <td>0</td>\n",
       "      <td>9</td>\n",
       "      <td>0</td>\n",
       "      <td>...</td>\n",
       "      <td>0</td>\n",
       "      <td>0</td>\n",
       "      <td>0</td>\n",
       "      <td>0</td>\n",
       "      <td>0</td>\n",
       "      <td>13</td>\n",
       "      <td>0</td>\n",
       "      <td>0</td>\n",
       "      <td>0</td>\n",
       "      <td>0</td>\n",
       "    </tr>\n",
       "  </tbody>\n",
       "</table>\n",
       "<p>12 rows × 83 columns</p>\n",
       "</div>"
      ]
     },
     "execution_count": 19,
     "metadata": {},
     "output_type": "execute_result"
    }
   ],
   "execution_count": 19
  },
  {
   "metadata": {
    "ExecuteTime": {
     "end_time": "2025-07-29T12:57:55.592759Z",
     "start_time": "2025-07-29T12:57:54.614989Z"
    }
   },
   "cell_type": "code",
   "source": [
    "import pandas as pd\n",
    "\n",
    "df_tactics = df[df['s1_passed']]\n",
    "tactic_crosstab = pd.crosstab(df_tactics['source'], df_tactics['qa'], margins=True)\n",
    "tactic_crosstab"
   ],
   "id": "2127a4b524a44e17",
   "outputs": [
    {
     "data": {
      "text/plain": [
       "qa             availability  deployability  energy efficiency  integrability  \\\n",
       "source                                                                         \n",
       "code_comment          11808          18901              16894          21111   \n",
       "docs                   3167           6925               3802           5853   \n",
       "issue                  4738          12865               5184           7626   \n",
       "issue_comment          6162          16288               5658           9728   \n",
       "release                  22            114                 34             33   \n",
       "wiki                    135            301                126            323   \n",
       "All                   26032          55394              31698          44674   \n",
       "\n",
       "qa             interoperability  modifiability  performance  reliability  \\\n",
       "source                                                                     \n",
       "code_comment              18108          20759        20169         5130   \n",
       "docs                       5717           5726         5676         1217   \n",
       "issue                      4972           7428         7036         2248   \n",
       "issue_comment              6295           8469         9450         3313   \n",
       "release                      25             36           45           11   \n",
       "wiki                        191            178          146           34   \n",
       "All                       35308          42596        42522        11953   \n",
       "\n",
       "qa             safety  security  testability  usability     All  \n",
       "source                                                           \n",
       "code_comment    26947     21739        16788      27694  226048  \n",
       "docs             6101      5148         5009       9883   64224  \n",
       "issue           12372      6798         8507      13006   92780  \n",
       "issue_comment   14574      7822        11090      16540  115389  \n",
       "release            49        58           26         76     529  \n",
       "wiki              159       206          169        382    2350  \n",
       "All             60202     41771        41589      67581  501320  "
      ],
      "text/html": [
       "<div>\n",
       "<style scoped>\n",
       "    .dataframe tbody tr th:only-of-type {\n",
       "        vertical-align: middle;\n",
       "    }\n",
       "\n",
       "    .dataframe tbody tr th {\n",
       "        vertical-align: top;\n",
       "    }\n",
       "\n",
       "    .dataframe thead th {\n",
       "        text-align: right;\n",
       "    }\n",
       "</style>\n",
       "<table border=\"1\" class=\"dataframe\">\n",
       "  <thead>\n",
       "    <tr style=\"text-align: right;\">\n",
       "      <th>qa</th>\n",
       "      <th>availability</th>\n",
       "      <th>deployability</th>\n",
       "      <th>energy efficiency</th>\n",
       "      <th>integrability</th>\n",
       "      <th>interoperability</th>\n",
       "      <th>modifiability</th>\n",
       "      <th>performance</th>\n",
       "      <th>reliability</th>\n",
       "      <th>safety</th>\n",
       "      <th>security</th>\n",
       "      <th>testability</th>\n",
       "      <th>usability</th>\n",
       "      <th>All</th>\n",
       "    </tr>\n",
       "    <tr>\n",
       "      <th>source</th>\n",
       "      <th></th>\n",
       "      <th></th>\n",
       "      <th></th>\n",
       "      <th></th>\n",
       "      <th></th>\n",
       "      <th></th>\n",
       "      <th></th>\n",
       "      <th></th>\n",
       "      <th></th>\n",
       "      <th></th>\n",
       "      <th></th>\n",
       "      <th></th>\n",
       "      <th></th>\n",
       "    </tr>\n",
       "  </thead>\n",
       "  <tbody>\n",
       "    <tr>\n",
       "      <th>code_comment</th>\n",
       "      <td>11808</td>\n",
       "      <td>18901</td>\n",
       "      <td>16894</td>\n",
       "      <td>21111</td>\n",
       "      <td>18108</td>\n",
       "      <td>20759</td>\n",
       "      <td>20169</td>\n",
       "      <td>5130</td>\n",
       "      <td>26947</td>\n",
       "      <td>21739</td>\n",
       "      <td>16788</td>\n",
       "      <td>27694</td>\n",
       "      <td>226048</td>\n",
       "    </tr>\n",
       "    <tr>\n",
       "      <th>docs</th>\n",
       "      <td>3167</td>\n",
       "      <td>6925</td>\n",
       "      <td>3802</td>\n",
       "      <td>5853</td>\n",
       "      <td>5717</td>\n",
       "      <td>5726</td>\n",
       "      <td>5676</td>\n",
       "      <td>1217</td>\n",
       "      <td>6101</td>\n",
       "      <td>5148</td>\n",
       "      <td>5009</td>\n",
       "      <td>9883</td>\n",
       "      <td>64224</td>\n",
       "    </tr>\n",
       "    <tr>\n",
       "      <th>issue</th>\n",
       "      <td>4738</td>\n",
       "      <td>12865</td>\n",
       "      <td>5184</td>\n",
       "      <td>7626</td>\n",
       "      <td>4972</td>\n",
       "      <td>7428</td>\n",
       "      <td>7036</td>\n",
       "      <td>2248</td>\n",
       "      <td>12372</td>\n",
       "      <td>6798</td>\n",
       "      <td>8507</td>\n",
       "      <td>13006</td>\n",
       "      <td>92780</td>\n",
       "    </tr>\n",
       "    <tr>\n",
       "      <th>issue_comment</th>\n",
       "      <td>6162</td>\n",
       "      <td>16288</td>\n",
       "      <td>5658</td>\n",
       "      <td>9728</td>\n",
       "      <td>6295</td>\n",
       "      <td>8469</td>\n",
       "      <td>9450</td>\n",
       "      <td>3313</td>\n",
       "      <td>14574</td>\n",
       "      <td>7822</td>\n",
       "      <td>11090</td>\n",
       "      <td>16540</td>\n",
       "      <td>115389</td>\n",
       "    </tr>\n",
       "    <tr>\n",
       "      <th>release</th>\n",
       "      <td>22</td>\n",
       "      <td>114</td>\n",
       "      <td>34</td>\n",
       "      <td>33</td>\n",
       "      <td>25</td>\n",
       "      <td>36</td>\n",
       "      <td>45</td>\n",
       "      <td>11</td>\n",
       "      <td>49</td>\n",
       "      <td>58</td>\n",
       "      <td>26</td>\n",
       "      <td>76</td>\n",
       "      <td>529</td>\n",
       "    </tr>\n",
       "    <tr>\n",
       "      <th>wiki</th>\n",
       "      <td>135</td>\n",
       "      <td>301</td>\n",
       "      <td>126</td>\n",
       "      <td>323</td>\n",
       "      <td>191</td>\n",
       "      <td>178</td>\n",
       "      <td>146</td>\n",
       "      <td>34</td>\n",
       "      <td>159</td>\n",
       "      <td>206</td>\n",
       "      <td>169</td>\n",
       "      <td>382</td>\n",
       "      <td>2350</td>\n",
       "    </tr>\n",
       "    <tr>\n",
       "      <th>All</th>\n",
       "      <td>26032</td>\n",
       "      <td>55394</td>\n",
       "      <td>31698</td>\n",
       "      <td>44674</td>\n",
       "      <td>35308</td>\n",
       "      <td>42596</td>\n",
       "      <td>42522</td>\n",
       "      <td>11953</td>\n",
       "      <td>60202</td>\n",
       "      <td>41771</td>\n",
       "      <td>41589</td>\n",
       "      <td>67581</td>\n",
       "      <td>501320</td>\n",
       "    </tr>\n",
       "  </tbody>\n",
       "</table>\n",
       "</div>"
      ]
     },
     "execution_count": 22,
     "metadata": {},
     "output_type": "execute_result"
    }
   ],
   "execution_count": 22
  },
  {
   "metadata": {
    "ExecuteTime": {
     "end_time": "2025-07-29T13:06:12.159519Z",
     "start_time": "2025-07-29T13:06:12.117209Z"
    }
   },
   "cell_type": "code",
   "source": [
    "tactic_crosstab_totals = tactic_crosstab.loc[\"All\"]\n",
    "tactic_crosstab.div(tactic_crosstab_totals, axis=1) * 100"
   ],
   "id": "9fabc1ca4aeeda3f",
   "outputs": [
    {
     "data": {
      "text/plain": [
       "qa             availability  deployability  energy efficiency  integrability  \\\n",
       "source                                                                         \n",
       "code_comment      45.359557      34.121024          53.296738      47.255674   \n",
       "docs              12.165796      12.501354          11.994448      13.101580   \n",
       "issue             18.200676      23.224537          16.354344      17.070332   \n",
       "issue_comment     23.670867      29.403907          17.849707      21.775529   \n",
       "release            0.084511       0.205798           0.107262       0.073868   \n",
       "wiki               0.518593       0.543380           0.397501       0.723016   \n",
       "All              100.000000     100.000000         100.000000     100.000000   \n",
       "\n",
       "qa             interoperability  modifiability  performance  reliability  \\\n",
       "source                                                                     \n",
       "code_comment          51.285828      48.734623    47.431918    42.918096   \n",
       "docs                  16.191798      13.442577    13.348384    10.181544   \n",
       "issue                 14.081794      17.438257    16.546729    18.806994   \n",
       "issue_comment         17.828821      19.882149    22.223790    27.716891   \n",
       "release                0.070805       0.084515     0.105828     0.092027   \n",
       "wiki                   0.540954       0.417880     0.343352     0.284447   \n",
       "All                  100.000000     100.000000   100.000000   100.000000   \n",
       "\n",
       "qa                 safety    security  testability   usability         All  \n",
       "source                                                                      \n",
       "code_comment    44.760971   52.043284    40.366443   40.978973   45.090561  \n",
       "docs            10.134215   12.324340    12.044050   14.623933   12.810979  \n",
       "issue           20.550812   16.274449    20.454928   19.245054   18.507141  \n",
       "issue_comment   24.208498   18.725910    26.665705   24.474335   23.017035  \n",
       "release          0.081393    0.138852     0.062517    0.112458    0.105521  \n",
       "wiki             0.264111    0.493165     0.406357    0.565248    0.468762  \n",
       "All            100.000000  100.000000   100.000000  100.000000  100.000000  "
      ],
      "text/html": [
       "<div>\n",
       "<style scoped>\n",
       "    .dataframe tbody tr th:only-of-type {\n",
       "        vertical-align: middle;\n",
       "    }\n",
       "\n",
       "    .dataframe tbody tr th {\n",
       "        vertical-align: top;\n",
       "    }\n",
       "\n",
       "    .dataframe thead th {\n",
       "        text-align: right;\n",
       "    }\n",
       "</style>\n",
       "<table border=\"1\" class=\"dataframe\">\n",
       "  <thead>\n",
       "    <tr style=\"text-align: right;\">\n",
       "      <th>qa</th>\n",
       "      <th>availability</th>\n",
       "      <th>deployability</th>\n",
       "      <th>energy efficiency</th>\n",
       "      <th>integrability</th>\n",
       "      <th>interoperability</th>\n",
       "      <th>modifiability</th>\n",
       "      <th>performance</th>\n",
       "      <th>reliability</th>\n",
       "      <th>safety</th>\n",
       "      <th>security</th>\n",
       "      <th>testability</th>\n",
       "      <th>usability</th>\n",
       "      <th>All</th>\n",
       "    </tr>\n",
       "    <tr>\n",
       "      <th>source</th>\n",
       "      <th></th>\n",
       "      <th></th>\n",
       "      <th></th>\n",
       "      <th></th>\n",
       "      <th></th>\n",
       "      <th></th>\n",
       "      <th></th>\n",
       "      <th></th>\n",
       "      <th></th>\n",
       "      <th></th>\n",
       "      <th></th>\n",
       "      <th></th>\n",
       "      <th></th>\n",
       "    </tr>\n",
       "  </thead>\n",
       "  <tbody>\n",
       "    <tr>\n",
       "      <th>code_comment</th>\n",
       "      <td>45.359557</td>\n",
       "      <td>34.121024</td>\n",
       "      <td>53.296738</td>\n",
       "      <td>47.255674</td>\n",
       "      <td>51.285828</td>\n",
       "      <td>48.734623</td>\n",
       "      <td>47.431918</td>\n",
       "      <td>42.918096</td>\n",
       "      <td>44.760971</td>\n",
       "      <td>52.043284</td>\n",
       "      <td>40.366443</td>\n",
       "      <td>40.978973</td>\n",
       "      <td>45.090561</td>\n",
       "    </tr>\n",
       "    <tr>\n",
       "      <th>docs</th>\n",
       "      <td>12.165796</td>\n",
       "      <td>12.501354</td>\n",
       "      <td>11.994448</td>\n",
       "      <td>13.101580</td>\n",
       "      <td>16.191798</td>\n",
       "      <td>13.442577</td>\n",
       "      <td>13.348384</td>\n",
       "      <td>10.181544</td>\n",
       "      <td>10.134215</td>\n",
       "      <td>12.324340</td>\n",
       "      <td>12.044050</td>\n",
       "      <td>14.623933</td>\n",
       "      <td>12.810979</td>\n",
       "    </tr>\n",
       "    <tr>\n",
       "      <th>issue</th>\n",
       "      <td>18.200676</td>\n",
       "      <td>23.224537</td>\n",
       "      <td>16.354344</td>\n",
       "      <td>17.070332</td>\n",
       "      <td>14.081794</td>\n",
       "      <td>17.438257</td>\n",
       "      <td>16.546729</td>\n",
       "      <td>18.806994</td>\n",
       "      <td>20.550812</td>\n",
       "      <td>16.274449</td>\n",
       "      <td>20.454928</td>\n",
       "      <td>19.245054</td>\n",
       "      <td>18.507141</td>\n",
       "    </tr>\n",
       "    <tr>\n",
       "      <th>issue_comment</th>\n",
       "      <td>23.670867</td>\n",
       "      <td>29.403907</td>\n",
       "      <td>17.849707</td>\n",
       "      <td>21.775529</td>\n",
       "      <td>17.828821</td>\n",
       "      <td>19.882149</td>\n",
       "      <td>22.223790</td>\n",
       "      <td>27.716891</td>\n",
       "      <td>24.208498</td>\n",
       "      <td>18.725910</td>\n",
       "      <td>26.665705</td>\n",
       "      <td>24.474335</td>\n",
       "      <td>23.017035</td>\n",
       "    </tr>\n",
       "    <tr>\n",
       "      <th>release</th>\n",
       "      <td>0.084511</td>\n",
       "      <td>0.205798</td>\n",
       "      <td>0.107262</td>\n",
       "      <td>0.073868</td>\n",
       "      <td>0.070805</td>\n",
       "      <td>0.084515</td>\n",
       "      <td>0.105828</td>\n",
       "      <td>0.092027</td>\n",
       "      <td>0.081393</td>\n",
       "      <td>0.138852</td>\n",
       "      <td>0.062517</td>\n",
       "      <td>0.112458</td>\n",
       "      <td>0.105521</td>\n",
       "    </tr>\n",
       "    <tr>\n",
       "      <th>wiki</th>\n",
       "      <td>0.518593</td>\n",
       "      <td>0.543380</td>\n",
       "      <td>0.397501</td>\n",
       "      <td>0.723016</td>\n",
       "      <td>0.540954</td>\n",
       "      <td>0.417880</td>\n",
       "      <td>0.343352</td>\n",
       "      <td>0.284447</td>\n",
       "      <td>0.264111</td>\n",
       "      <td>0.493165</td>\n",
       "      <td>0.406357</td>\n",
       "      <td>0.565248</td>\n",
       "      <td>0.468762</td>\n",
       "    </tr>\n",
       "    <tr>\n",
       "      <th>All</th>\n",
       "      <td>100.000000</td>\n",
       "      <td>100.000000</td>\n",
       "      <td>100.000000</td>\n",
       "      <td>100.000000</td>\n",
       "      <td>100.000000</td>\n",
       "      <td>100.000000</td>\n",
       "      <td>100.000000</td>\n",
       "      <td>100.000000</td>\n",
       "      <td>100.000000</td>\n",
       "      <td>100.000000</td>\n",
       "      <td>100.000000</td>\n",
       "      <td>100.000000</td>\n",
       "      <td>100.000000</td>\n",
       "    </tr>\n",
       "  </tbody>\n",
       "</table>\n",
       "</div>"
      ]
     },
     "execution_count": 27,
     "metadata": {},
     "output_type": "execute_result"
    }
   ],
   "execution_count": 27
  },
  {
   "metadata": {
    "ExecuteTime": {
     "end_time": "2025-07-28T22:40:52.050466Z",
     "start_time": "2025-07-28T22:40:50.963726Z"
    }
   },
   "cell_type": "code",
   "source": "df.pivot_table(index=[\"source\", \"qa\"], columns=[\"s0_to_eliminate\", \"s1_true_positive\", \"s2_related_to_arch\"], values=\"nsimilar\", aggfunc=\"sum\")",
   "id": "1c52251c39b14fb",
   "outputs": [
    {
     "data": {
      "text/plain": [
       "s0_to_eliminate                 False      \n",
       "s1_true_positive                 True      \n",
       "s2_related_to_arch              False True \n",
       "source       qa                            \n",
       "code_comment availability       14863   798\n",
       "             deployability      22537  2058\n",
       "             energy efficiency  20247  1429\n",
       "             integrability      25333  1935\n",
       "             interoperability   21498  1535\n",
       "...                               ...   ...\n",
       "wiki         reliability           24    11\n",
       "             safety               103    57\n",
       "             security             179    44\n",
       "             testability          122    54\n",
       "             usability            279   110\n",
       "\n",
       "[72 rows x 2 columns]"
      ],
      "text/html": [
       "<div>\n",
       "<style scoped>\n",
       "    .dataframe tbody tr th:only-of-type {\n",
       "        vertical-align: middle;\n",
       "    }\n",
       "\n",
       "    .dataframe tbody tr th {\n",
       "        vertical-align: top;\n",
       "    }\n",
       "\n",
       "    .dataframe thead tr th {\n",
       "        text-align: left;\n",
       "    }\n",
       "\n",
       "    .dataframe thead tr:last-of-type th {\n",
       "        text-align: right;\n",
       "    }\n",
       "</style>\n",
       "<table border=\"1\" class=\"dataframe\">\n",
       "  <thead>\n",
       "    <tr>\n",
       "      <th></th>\n",
       "      <th>s0_to_eliminate</th>\n",
       "      <th colspan=\"2\" halign=\"left\">False</th>\n",
       "    </tr>\n",
       "    <tr>\n",
       "      <th></th>\n",
       "      <th>s1_true_positive</th>\n",
       "      <th colspan=\"2\" halign=\"left\">True</th>\n",
       "    </tr>\n",
       "    <tr>\n",
       "      <th></th>\n",
       "      <th>s2_related_to_arch</th>\n",
       "      <th>False</th>\n",
       "      <th>True</th>\n",
       "    </tr>\n",
       "    <tr>\n",
       "      <th>source</th>\n",
       "      <th>qa</th>\n",
       "      <th></th>\n",
       "      <th></th>\n",
       "    </tr>\n",
       "  </thead>\n",
       "  <tbody>\n",
       "    <tr>\n",
       "      <th rowspan=\"5\" valign=\"top\">code_comment</th>\n",
       "      <th>availability</th>\n",
       "      <td>14863</td>\n",
       "      <td>798</td>\n",
       "    </tr>\n",
       "    <tr>\n",
       "      <th>deployability</th>\n",
       "      <td>22537</td>\n",
       "      <td>2058</td>\n",
       "    </tr>\n",
       "    <tr>\n",
       "      <th>energy efficiency</th>\n",
       "      <td>20247</td>\n",
       "      <td>1429</td>\n",
       "    </tr>\n",
       "    <tr>\n",
       "      <th>integrability</th>\n",
       "      <td>25333</td>\n",
       "      <td>1935</td>\n",
       "    </tr>\n",
       "    <tr>\n",
       "      <th>interoperability</th>\n",
       "      <td>21498</td>\n",
       "      <td>1535</td>\n",
       "    </tr>\n",
       "    <tr>\n",
       "      <th>...</th>\n",
       "      <th>...</th>\n",
       "      <td>...</td>\n",
       "      <td>...</td>\n",
       "    </tr>\n",
       "    <tr>\n",
       "      <th rowspan=\"5\" valign=\"top\">wiki</th>\n",
       "      <th>reliability</th>\n",
       "      <td>24</td>\n",
       "      <td>11</td>\n",
       "    </tr>\n",
       "    <tr>\n",
       "      <th>safety</th>\n",
       "      <td>103</td>\n",
       "      <td>57</td>\n",
       "    </tr>\n",
       "    <tr>\n",
       "      <th>security</th>\n",
       "      <td>179</td>\n",
       "      <td>44</td>\n",
       "    </tr>\n",
       "    <tr>\n",
       "      <th>testability</th>\n",
       "      <td>122</td>\n",
       "      <td>54</td>\n",
       "    </tr>\n",
       "    <tr>\n",
       "      <th>usability</th>\n",
       "      <td>279</td>\n",
       "      <td>110</td>\n",
       "    </tr>\n",
       "  </tbody>\n",
       "</table>\n",
       "<p>72 rows × 2 columns</p>\n",
       "</div>"
      ]
     },
     "execution_count": 13,
     "metadata": {},
     "output_type": "execute_result"
    }
   ],
   "execution_count": 13
  },
  {
   "metadata": {
    "ExecuteTime": {
     "end_time": "2025-07-28T22:40:56.478812Z",
     "start_time": "2025-07-28T22:40:54.809454Z"
    }
   },
   "cell_type": "code",
   "source": "df.pivot_table(index=[\"source\", \"qa\"], columns=[\"s0_to_eliminate\"], values=\"nsimilar\", aggfunc=[\"sum\"], margins=True)",
   "id": "87a4abdaf8eadf4a",
   "outputs": [
    {
     "data": {
      "text/plain": [
       "                                   sum                  \n",
       "s0_to_eliminate                  False     True      All\n",
       "source       qa                                         \n",
       "code_comment availability        17010    37627    54637\n",
       "             deployability       29456    65810    95266\n",
       "             energy efficiency   22643    47049    69692\n",
       "             integrability       28180    68841    97021\n",
       "             interoperability    24650    53301    77951\n",
       "...                                ...      ...      ...\n",
       "wiki         safety                167     1283     1450\n",
       "             security              238     1573     1811\n",
       "             testability           176     1184     1360\n",
       "             usability             390     2983     3373\n",
       "All                             670852  1220672  1891524\n",
       "\n",
       "[73 rows x 3 columns]"
      ],
      "text/html": [
       "<div>\n",
       "<style scoped>\n",
       "    .dataframe tbody tr th:only-of-type {\n",
       "        vertical-align: middle;\n",
       "    }\n",
       "\n",
       "    .dataframe tbody tr th {\n",
       "        vertical-align: top;\n",
       "    }\n",
       "\n",
       "    .dataframe thead tr th {\n",
       "        text-align: left;\n",
       "    }\n",
       "\n",
       "    .dataframe thead tr:last-of-type th {\n",
       "        text-align: right;\n",
       "    }\n",
       "</style>\n",
       "<table border=\"1\" class=\"dataframe\">\n",
       "  <thead>\n",
       "    <tr>\n",
       "      <th></th>\n",
       "      <th></th>\n",
       "      <th colspan=\"3\" halign=\"left\">sum</th>\n",
       "    </tr>\n",
       "    <tr>\n",
       "      <th></th>\n",
       "      <th>s0_to_eliminate</th>\n",
       "      <th>False</th>\n",
       "      <th>True</th>\n",
       "      <th>All</th>\n",
       "    </tr>\n",
       "    <tr>\n",
       "      <th>source</th>\n",
       "      <th>qa</th>\n",
       "      <th></th>\n",
       "      <th></th>\n",
       "      <th></th>\n",
       "    </tr>\n",
       "  </thead>\n",
       "  <tbody>\n",
       "    <tr>\n",
       "      <th rowspan=\"5\" valign=\"top\">code_comment</th>\n",
       "      <th>availability</th>\n",
       "      <td>17010</td>\n",
       "      <td>37627</td>\n",
       "      <td>54637</td>\n",
       "    </tr>\n",
       "    <tr>\n",
       "      <th>deployability</th>\n",
       "      <td>29456</td>\n",
       "      <td>65810</td>\n",
       "      <td>95266</td>\n",
       "    </tr>\n",
       "    <tr>\n",
       "      <th>energy efficiency</th>\n",
       "      <td>22643</td>\n",
       "      <td>47049</td>\n",
       "      <td>69692</td>\n",
       "    </tr>\n",
       "    <tr>\n",
       "      <th>integrability</th>\n",
       "      <td>28180</td>\n",
       "      <td>68841</td>\n",
       "      <td>97021</td>\n",
       "    </tr>\n",
       "    <tr>\n",
       "      <th>interoperability</th>\n",
       "      <td>24650</td>\n",
       "      <td>53301</td>\n",
       "      <td>77951</td>\n",
       "    </tr>\n",
       "    <tr>\n",
       "      <th>...</th>\n",
       "      <th>...</th>\n",
       "      <td>...</td>\n",
       "      <td>...</td>\n",
       "      <td>...</td>\n",
       "    </tr>\n",
       "    <tr>\n",
       "      <th rowspan=\"4\" valign=\"top\">wiki</th>\n",
       "      <th>safety</th>\n",
       "      <td>167</td>\n",
       "      <td>1283</td>\n",
       "      <td>1450</td>\n",
       "    </tr>\n",
       "    <tr>\n",
       "      <th>security</th>\n",
       "      <td>238</td>\n",
       "      <td>1573</td>\n",
       "      <td>1811</td>\n",
       "    </tr>\n",
       "    <tr>\n",
       "      <th>testability</th>\n",
       "      <td>176</td>\n",
       "      <td>1184</td>\n",
       "      <td>1360</td>\n",
       "    </tr>\n",
       "    <tr>\n",
       "      <th>usability</th>\n",
       "      <td>390</td>\n",
       "      <td>2983</td>\n",
       "      <td>3373</td>\n",
       "    </tr>\n",
       "    <tr>\n",
       "      <th>All</th>\n",
       "      <th></th>\n",
       "      <td>670852</td>\n",
       "      <td>1220672</td>\n",
       "      <td>1891524</td>\n",
       "    </tr>\n",
       "  </tbody>\n",
       "</table>\n",
       "<p>73 rows × 3 columns</p>\n",
       "</div>"
      ]
     },
     "execution_count": 14,
     "metadata": {},
     "output_type": "execute_result"
    }
   ],
   "execution_count": 14
  },
  {
   "metadata": {
    "ExecuteTime": {
     "end_time": "2025-07-28T22:42:53.073394Z",
     "start_time": "2025-07-28T22:42:52.211866Z"
    }
   },
   "cell_type": "code",
   "source": "df.groupby([\"s0_to_eliminate\", \"s1_true_positive\", \"s2_related_to_arch\", \"s3_tactic\"], dropna=False).nsimilar.agg(\"sum\")",
   "id": "a79c42b40956f10c",
   "outputs": [
    {
     "data": {
      "text/plain": [
       "s0_to_eliminate  s1_true_positive  s2_related_to_arch  s3_tactic               \n",
       "False            True              False               NaN                          525789\n",
       "                                   True                Abstract Common Services         64\n",
       "                                                       Abstract Data Sources          1153\n",
       "                                                       Active Redundancy                13\n",
       "                                                       Aggregate                        26\n",
       "                                                                                    ...   \n",
       "                                                       Vertical Scaling                 31\n",
       "                                                       Voting                            3\n",
       "                 False             NaN                 NaN                           49933\n",
       "True             NaN               NaN                 NaN                         1220672\n",
       "NaN              NaN               NaN                 NaN                          103326\n",
       "Name: nsimilar, Length: 88, dtype: int64"
      ]
     },
     "execution_count": 19,
     "metadata": {},
     "output_type": "execute_result"
    }
   ],
   "execution_count": 19
  },
  {
   "metadata": {
    "ExecuteTime": {
     "end_time": "2025-07-28T22:40:57.897623Z",
     "start_time": "2025-07-28T22:40:56.651901Z"
    }
   },
   "cell_type": "code",
   "outputs": [
    {
     "data": {
      "text/plain": [
       "source        s0_to_eliminate  s1_true_positive  s2_related_to_arch  s3_tactic               \n",
       "code_comment  False            True              False               NaN                         269544\n",
       "                                                 True                Abstract Common Services        38\n",
       "                                                                     Abstract Data Sources          307\n",
       "                                                                     Active Redundancy                3\n",
       "                                                                     Aggregate                        2\n",
       "                                                                                                  ...  \n",
       "wiki          False            True              True                Removal from Service             1\n",
       "                                                                     Separate Entities                4\n",
       "                                                                     Tailor Interface                 8\n",
       "                               False             NaN                 NaN                             60\n",
       "              True             NaN               NaN                 NaN                          18713\n",
       "Name: nsimilar, Length: 285, dtype: int64"
      ]
     },
     "execution_count": 15,
     "metadata": {},
     "output_type": "execute_result"
    }
   ],
   "execution_count": 15,
   "source": "df.groupby([\"source\", \"s0_to_eliminate\", \"s1_true_positive\", \"s2_related_to_arch\", \"s3_tactic\"], dropna=False).nsimilar.agg(\"sum\")",
   "id": "b66f9d070787e9d4"
  },
  {
   "metadata": {
    "ExecuteTime": {
     "end_time": "2025-07-28T22:40:59.484825Z",
     "start_time": "2025-07-28T22:40:58.045585Z"
    }
   },
   "cell_type": "code",
   "source": "df.groupby([\"source\", \"qa\", \"s0_to_eliminate\", \"s1_true_positive\", \"s2_related_to_arch\", \"s3_tactic\"], dropna=False).nsimilar.agg(\"sum\")",
   "id": "4a4a20a2520222ce",
   "outputs": [
    {
     "data": {
      "text/plain": [
       "source        qa            s0_to_eliminate  s1_true_positive  s2_related_to_arch  s3_tactic             \n",
       "code_comment  availability  False            True              False               NaN                       14863\n",
       "                                                               True                Active Redundancy             3\n",
       "                                                                                   Condition Monitoring          6\n",
       "                                                                                   Degradation                   2\n",
       "                                                                                   Exception Detection           1\n",
       "                                                                                                             ...  \n",
       "wiki          usability     False            True              True                Maintain system models        2\n",
       "                                                                                   None                        103\n",
       "                                                                                   Separate Entities             4\n",
       "                                             False             NaN                 NaN                           1\n",
       "                            True             NaN               NaN                 NaN                        2983\n",
       "Name: nsimilar, Length: 710, dtype: int64"
      ]
     },
     "execution_count": 16,
     "metadata": {},
     "output_type": "execute_result"
    }
   ],
   "execution_count": 16
  },
  {
   "metadata": {
    "ExecuteTime": {
     "end_time": "2025-07-28T22:41:00.245781Z",
     "start_time": "2025-07-28T22:40:59.618653Z"
    }
   },
   "cell_type": "code",
   "source": "df.groupby([\"source\", \"s0_to_eliminate\", \"s1_true_positive\", \"s2_related_to_arch\", \"s3_tactic\"]).nsimilar.agg(\"sum\")",
   "id": "d6c2c427cb14a577",
   "outputs": [
    {
     "data": {
      "text/plain": [
       "source        s0_to_eliminate  s1_true_positive  s2_related_to_arch  s3_tactic               \n",
       "code_comment  False            True              True                Abstract Common Services     38\n",
       "                                                                     Abstract Data Sources       307\n",
       "                                                                     Active Redundancy             3\n",
       "                                                                     Aggregate                     2\n",
       "                                                                     Authenticate Actors          11\n",
       "                                                                                                ... \n",
       "wiki          False            True              True                Predictive Model              1\n",
       "                                                                     Reduce Overhead               7\n",
       "                                                                     Removal from Service          1\n",
       "                                                                     Separate Entities             4\n",
       "                                                                     Tailor Interface              8\n",
       "Name: nsimilar, Length: 262, dtype: int64"
      ]
     },
     "execution_count": 17,
     "metadata": {},
     "output_type": "execute_result"
    }
   ],
   "execution_count": 17
  },
  {
   "metadata": {
    "ExecuteTime": {
     "end_time": "2025-07-28T22:41:00.482227Z",
     "start_time": "2025-07-28T22:41:00.361588Z"
    }
   },
   "cell_type": "code",
   "source": "df[df[\"s3_tactic\"].notna()]",
   "id": "b11a48e1f8cb09ea",
   "outputs": [
    {
     "data": {
      "text/plain": [
       "                                                     id   keyword keyword_raw  \\\n",
       "3     allenai/scispacy/v0.5.5.code_comment.availabil...     avail       avail   \n",
       "8     allenai/scispacy/v0.5.5.code_comment.deployabi...   contain     contain   \n",
       "53    allenai/scispacy/v0.5.5.code_comment.energy ef...   current     current   \n",
       "85    allenai/scispacy/v0.5.5.code_comment.integrabi...  configur    configur   \n",
       "86    allenai/scispacy/v0.5.5.code_comment.integrabi...       sub         sub   \n",
       "...                                                 ...       ...         ...   \n",
       "2418  scverse/scanpy/1.10.2.wiki.usability.c6c00c0ca...      help        help   \n",
       "2426  scverse/scanpy/1.10.2.wiki.usability.c9ae0abe1...      guid        guid   \n",
       "2471  scverse/scanpy/1.10.2.wiki.usability.d81ef3b6a...  document    document   \n",
       "2504  scverse/scanpy/1.10.2.wiki.usability.e0e296713...    visual      visual   \n",
       "2646  scverse/scanpy/1.10.2.wiki.usability.fffdbffb3...      help        help   \n",
       "\n",
       "                                               sentence                 qa  \\\n",
       "3     A candidate generator for entity linking to a ...       availability   \n",
       "8      in a pre-indexed approximate nearest neighbou...      deployability   \n",
       "53    A candidate generator for entity linking to a ...  energy efficiency   \n",
       "85    A candidate generator for entity linking to a ...      integrability   \n",
       "86    A candidate generator for entity linking to a ...      integrability   \n",
       "...                                                 ...                ...   \n",
       "2418   API. API. Discussion . Need help? Reach out o...          usability   \n",
       "2426  1.5.0 2020-05-15#. The 1.5.0 release adds a lo...          usability   \n",
       "2471  n on this while working on a PR:. Only run a s...          usability   \n",
       "2504  [\"figure.figsize\"] = (4, 4). sc.pl.umap(adata,...          usability   \n",
       "2646  rum to get your questions answered! https://di...          usability   \n",
       "\n",
       "            source                                                url  \\\n",
       "3     code_comment  https://github.com/allenai/scispacy/tree/v0.5....   \n",
       "8     code_comment  https://github.com/allenai/scispacy/tree/v0.5....   \n",
       "53    code_comment  https://github.com/allenai/scispacy/tree/v0.5....   \n",
       "85    code_comment  https://github.com/allenai/scispacy/tree/v0.5....   \n",
       "86    code_comment  https://github.com/allenai/scispacy/tree/v0.5....   \n",
       "...            ...                                                ...   \n",
       "2418          wiki  https://scanpy.readthedocs.io/en/stable/index....   \n",
       "2426          wiki  https://scanpy.readthedocs.io/en/stable/releas...   \n",
       "2471          wiki  https://scanpy.readthedocs.io/en/stable/dev/te...   \n",
       "2504          wiki  https://scanpy.readthedocs.io/en/stable/tutori...   \n",
       "2646          wiki  https://scanpy.readthedocs.io/en/stable/index....   \n",
       "\n",
       "                      repo_id   matched_word  \\\n",
       "3     allenai/scispacy/v0.5.5      available   \n",
       "8     allenai/scispacy/v0.5.5        contain   \n",
       "53    allenai/scispacy/v0.5.5      currently   \n",
       "85    allenai/scispacy/v0.5.5     configured   \n",
       "86    allenai/scispacy/v0.5.5        subject   \n",
       "...                       ...            ...   \n",
       "2418    scverse/scanpy/1.10.2        helping   \n",
       "2426    scverse/scanpy/1.10.2          guide   \n",
       "2471    scverse/scanpy/1.10.2  documentation   \n",
       "2504    scverse/scanpy/1.10.2     visualized   \n",
       "2646    scverse/scanpy/1.10.2         helped   \n",
       "\n",
       "                             unique_matched_words  nunique_matched_words  \\\n",
       "3                 available, Available, AVAILABLE                      3   \n",
       "8                                contain, Contain                      2   \n",
       "53                Currently, currently, CURRENTLY                      3   \n",
       "85                         configured, Configured                      2   \n",
       "86                               Subject, subject                      2   \n",
       "...                                           ...                    ...   \n",
       "2418                                      helping                      1   \n",
       "2426                                 guide, Guide                      2   \n",
       "2471  documentation, Documentation, DOCUMENTATION                      3   \n",
       "2504                                   visualized                      1   \n",
       "2646                               helped, Helped                      2   \n",
       "\n",
       "      nsimilar s0_to_eliminate  \\\n",
       "3            1           False   \n",
       "8            1           False   \n",
       "53           1           False   \n",
       "85           1           False   \n",
       "86           1           False   \n",
       "...        ...             ...   \n",
       "2418         1           False   \n",
       "2426         1           False   \n",
       "2471         1           False   \n",
       "2504         1           False   \n",
       "2646         1           False   \n",
       "\n",
       "                                           s0_reasoning s1_true_positive  \\\n",
       "3     This content describes a technical system for ...             True   \n",
       "8     This content describes a technical system and ...             True   \n",
       "53    This content describes a technical system for ...             True   \n",
       "85    This content describes a technical system for ...             True   \n",
       "86    This content describes a technical system for ...             True   \n",
       "...                                                 ...              ...   \n",
       "2418  This content is a mix of API documentation, re...             True   \n",
       "2426  This content describes a software release (ver...             True   \n",
       "2471  This content appears to be instructions and ad...             True   \n",
       "2504  This content includes detailed explanations ab...             True   \n",
       "2646  This content appears to be a community announc...             True   \n",
       "\n",
       "                                           s1_reasoning s2_related_to_arch  \\\n",
       "3     The content describes how the candidate genera...               True   \n",
       "8     The content describes how an approximate neare...               True   \n",
       "53    The content describes how the candidate genera...               True   \n",
       "85    The content describes how the candidate genera...               True   \n",
       "86    The content describes how the candidate genera...               True   \n",
       "...                                                 ...                ...   \n",
       "2418  The content describes how users can get help t...               True   \n",
       "2426  The content describes new functionality added ...               True   \n",
       "2471  The content describes how to run tests with sp...               True   \n",
       "2504  The content describes how to use specific func...               True   \n",
       "2646  The content describes how users can find resou...               True   \n",
       "\n",
       "                                           s2_reasoning s3_tactic  \\\n",
       "3     The content describes a candidate generator fo...      None   \n",
       "8     The content describes a system-level component...      None   \n",
       "53    The content describes a candidate generator fo...      None   \n",
       "85    The content describes a candidate generator fo...      None   \n",
       "86    The content describes a candidate generator fo...      None   \n",
       "...                                                 ...       ...   \n",
       "2418  Step 1: The core topic of the content is about...      None   \n",
       "2426  The content describes updates and new function...      None   \n",
       "2471  **Step 1:** The core topic of the content appe...      None   \n",
       "2504  The content is primarily about the system-leve...      None   \n",
       "2646  The content discusses system-level architectur...      None   \n",
       "\n",
       "                                            s3_response  \n",
       "3     The system is implementing a candidate generat...  \n",
       "8     The system describes an approximate nearest ne...  \n",
       "53    The system is being described as a candidate g...  \n",
       "85    The system is being described as a candidate g...  \n",
       "86    The system is being described as a candidate g...  \n",
       "...                                                 ...  \n",
       "2418  The system is providing information about the ...  \n",
       "2426  The system is being described in terms of its ...  \n",
       "2471  The system provides guidance on running tests ...  \n",
       "2504  The system is being asked to perform data visu...  \n",
       "2646  The system is being provided with information ...  \n",
       "\n",
       "[79137 rows x 20 columns]"
      ],
      "text/html": [
       "<div>\n",
       "<style scoped>\n",
       "    .dataframe tbody tr th:only-of-type {\n",
       "        vertical-align: middle;\n",
       "    }\n",
       "\n",
       "    .dataframe tbody tr th {\n",
       "        vertical-align: top;\n",
       "    }\n",
       "\n",
       "    .dataframe thead th {\n",
       "        text-align: right;\n",
       "    }\n",
       "</style>\n",
       "<table border=\"1\" class=\"dataframe\">\n",
       "  <thead>\n",
       "    <tr style=\"text-align: right;\">\n",
       "      <th></th>\n",
       "      <th>id</th>\n",
       "      <th>keyword</th>\n",
       "      <th>keyword_raw</th>\n",
       "      <th>sentence</th>\n",
       "      <th>qa</th>\n",
       "      <th>source</th>\n",
       "      <th>url</th>\n",
       "      <th>repo_id</th>\n",
       "      <th>matched_word</th>\n",
       "      <th>unique_matched_words</th>\n",
       "      <th>nunique_matched_words</th>\n",
       "      <th>nsimilar</th>\n",
       "      <th>s0_to_eliminate</th>\n",
       "      <th>s0_reasoning</th>\n",
       "      <th>s1_true_positive</th>\n",
       "      <th>s1_reasoning</th>\n",
       "      <th>s2_related_to_arch</th>\n",
       "      <th>s2_reasoning</th>\n",
       "      <th>s3_tactic</th>\n",
       "      <th>s3_response</th>\n",
       "    </tr>\n",
       "  </thead>\n",
       "  <tbody>\n",
       "    <tr>\n",
       "      <th>3</th>\n",
       "      <td>allenai/scispacy/v0.5.5.code_comment.availabil...</td>\n",
       "      <td>avail</td>\n",
       "      <td>avail</td>\n",
       "      <td>A candidate generator for entity linking to a ...</td>\n",
       "      <td>availability</td>\n",
       "      <td>code_comment</td>\n",
       "      <td>https://github.com/allenai/scispacy/tree/v0.5....</td>\n",
       "      <td>allenai/scispacy/v0.5.5</td>\n",
       "      <td>available</td>\n",
       "      <td>available, Available, AVAILABLE</td>\n",
       "      <td>3</td>\n",
       "      <td>1</td>\n",
       "      <td>False</td>\n",
       "      <td>This content describes a technical system for ...</td>\n",
       "      <td>True</td>\n",
       "      <td>The content describes how the candidate genera...</td>\n",
       "      <td>True</td>\n",
       "      <td>The content describes a candidate generator fo...</td>\n",
       "      <td>None</td>\n",
       "      <td>The system is implementing a candidate generat...</td>\n",
       "    </tr>\n",
       "    <tr>\n",
       "      <th>8</th>\n",
       "      <td>allenai/scispacy/v0.5.5.code_comment.deployabi...</td>\n",
       "      <td>contain</td>\n",
       "      <td>contain</td>\n",
       "      <td>in a pre-indexed approximate nearest neighbou...</td>\n",
       "      <td>deployability</td>\n",
       "      <td>code_comment</td>\n",
       "      <td>https://github.com/allenai/scispacy/tree/v0.5....</td>\n",
       "      <td>allenai/scispacy/v0.5.5</td>\n",
       "      <td>contain</td>\n",
       "      <td>contain, Contain</td>\n",
       "      <td>2</td>\n",
       "      <td>1</td>\n",
       "      <td>False</td>\n",
       "      <td>This content describes a technical system and ...</td>\n",
       "      <td>True</td>\n",
       "      <td>The content describes how an approximate neare...</td>\n",
       "      <td>True</td>\n",
       "      <td>The content describes a system-level component...</td>\n",
       "      <td>None</td>\n",
       "      <td>The system describes an approximate nearest ne...</td>\n",
       "    </tr>\n",
       "    <tr>\n",
       "      <th>53</th>\n",
       "      <td>allenai/scispacy/v0.5.5.code_comment.energy ef...</td>\n",
       "      <td>current</td>\n",
       "      <td>current</td>\n",
       "      <td>A candidate generator for entity linking to a ...</td>\n",
       "      <td>energy efficiency</td>\n",
       "      <td>code_comment</td>\n",
       "      <td>https://github.com/allenai/scispacy/tree/v0.5....</td>\n",
       "      <td>allenai/scispacy/v0.5.5</td>\n",
       "      <td>currently</td>\n",
       "      <td>Currently, currently, CURRENTLY</td>\n",
       "      <td>3</td>\n",
       "      <td>1</td>\n",
       "      <td>False</td>\n",
       "      <td>This content describes a technical system for ...</td>\n",
       "      <td>True</td>\n",
       "      <td>The content describes how the candidate genera...</td>\n",
       "      <td>True</td>\n",
       "      <td>The content describes a candidate generator fo...</td>\n",
       "      <td>None</td>\n",
       "      <td>The system is being described as a candidate g...</td>\n",
       "    </tr>\n",
       "    <tr>\n",
       "      <th>85</th>\n",
       "      <td>allenai/scispacy/v0.5.5.code_comment.integrabi...</td>\n",
       "      <td>configur</td>\n",
       "      <td>configur</td>\n",
       "      <td>A candidate generator for entity linking to a ...</td>\n",
       "      <td>integrability</td>\n",
       "      <td>code_comment</td>\n",
       "      <td>https://github.com/allenai/scispacy/tree/v0.5....</td>\n",
       "      <td>allenai/scispacy/v0.5.5</td>\n",
       "      <td>configured</td>\n",
       "      <td>configured, Configured</td>\n",
       "      <td>2</td>\n",
       "      <td>1</td>\n",
       "      <td>False</td>\n",
       "      <td>This content describes a technical system for ...</td>\n",
       "      <td>True</td>\n",
       "      <td>The content describes how the candidate genera...</td>\n",
       "      <td>True</td>\n",
       "      <td>The content describes a candidate generator fo...</td>\n",
       "      <td>None</td>\n",
       "      <td>The system is being described as a candidate g...</td>\n",
       "    </tr>\n",
       "    <tr>\n",
       "      <th>86</th>\n",
       "      <td>allenai/scispacy/v0.5.5.code_comment.integrabi...</td>\n",
       "      <td>sub</td>\n",
       "      <td>sub</td>\n",
       "      <td>A candidate generator for entity linking to a ...</td>\n",
       "      <td>integrability</td>\n",
       "      <td>code_comment</td>\n",
       "      <td>https://github.com/allenai/scispacy/tree/v0.5....</td>\n",
       "      <td>allenai/scispacy/v0.5.5</td>\n",
       "      <td>subject</td>\n",
       "      <td>Subject, subject</td>\n",
       "      <td>2</td>\n",
       "      <td>1</td>\n",
       "      <td>False</td>\n",
       "      <td>This content describes a technical system for ...</td>\n",
       "      <td>True</td>\n",
       "      <td>The content describes how the candidate genera...</td>\n",
       "      <td>True</td>\n",
       "      <td>The content describes a candidate generator fo...</td>\n",
       "      <td>None</td>\n",
       "      <td>The system is being described as a candidate g...</td>\n",
       "    </tr>\n",
       "    <tr>\n",
       "      <th>...</th>\n",
       "      <td>...</td>\n",
       "      <td>...</td>\n",
       "      <td>...</td>\n",
       "      <td>...</td>\n",
       "      <td>...</td>\n",
       "      <td>...</td>\n",
       "      <td>...</td>\n",
       "      <td>...</td>\n",
       "      <td>...</td>\n",
       "      <td>...</td>\n",
       "      <td>...</td>\n",
       "      <td>...</td>\n",
       "      <td>...</td>\n",
       "      <td>...</td>\n",
       "      <td>...</td>\n",
       "      <td>...</td>\n",
       "      <td>...</td>\n",
       "      <td>...</td>\n",
       "      <td>...</td>\n",
       "      <td>...</td>\n",
       "    </tr>\n",
       "    <tr>\n",
       "      <th>2418</th>\n",
       "      <td>scverse/scanpy/1.10.2.wiki.usability.c6c00c0ca...</td>\n",
       "      <td>help</td>\n",
       "      <td>help</td>\n",
       "      <td>API. API. Discussion . Need help? Reach out o...</td>\n",
       "      <td>usability</td>\n",
       "      <td>wiki</td>\n",
       "      <td>https://scanpy.readthedocs.io/en/stable/index....</td>\n",
       "      <td>scverse/scanpy/1.10.2</td>\n",
       "      <td>helping</td>\n",
       "      <td>helping</td>\n",
       "      <td>1</td>\n",
       "      <td>1</td>\n",
       "      <td>False</td>\n",
       "      <td>This content is a mix of API documentation, re...</td>\n",
       "      <td>True</td>\n",
       "      <td>The content describes how users can get help t...</td>\n",
       "      <td>True</td>\n",
       "      <td>Step 1: The core topic of the content is about...</td>\n",
       "      <td>None</td>\n",
       "      <td>The system is providing information about the ...</td>\n",
       "    </tr>\n",
       "    <tr>\n",
       "      <th>2426</th>\n",
       "      <td>scverse/scanpy/1.10.2.wiki.usability.c9ae0abe1...</td>\n",
       "      <td>guid</td>\n",
       "      <td>guid</td>\n",
       "      <td>1.5.0 2020-05-15#. The 1.5.0 release adds a lo...</td>\n",
       "      <td>usability</td>\n",
       "      <td>wiki</td>\n",
       "      <td>https://scanpy.readthedocs.io/en/stable/releas...</td>\n",
       "      <td>scverse/scanpy/1.10.2</td>\n",
       "      <td>guide</td>\n",
       "      <td>guide, Guide</td>\n",
       "      <td>2</td>\n",
       "      <td>1</td>\n",
       "      <td>False</td>\n",
       "      <td>This content describes a software release (ver...</td>\n",
       "      <td>True</td>\n",
       "      <td>The content describes new functionality added ...</td>\n",
       "      <td>True</td>\n",
       "      <td>The content describes updates and new function...</td>\n",
       "      <td>None</td>\n",
       "      <td>The system is being described in terms of its ...</td>\n",
       "    </tr>\n",
       "    <tr>\n",
       "      <th>2471</th>\n",
       "      <td>scverse/scanpy/1.10.2.wiki.usability.d81ef3b6a...</td>\n",
       "      <td>document</td>\n",
       "      <td>document</td>\n",
       "      <td>n on this while working on a PR:. Only run a s...</td>\n",
       "      <td>usability</td>\n",
       "      <td>wiki</td>\n",
       "      <td>https://scanpy.readthedocs.io/en/stable/dev/te...</td>\n",
       "      <td>scverse/scanpy/1.10.2</td>\n",
       "      <td>documentation</td>\n",
       "      <td>documentation, Documentation, DOCUMENTATION</td>\n",
       "      <td>3</td>\n",
       "      <td>1</td>\n",
       "      <td>False</td>\n",
       "      <td>This content appears to be instructions and ad...</td>\n",
       "      <td>True</td>\n",
       "      <td>The content describes how to run tests with sp...</td>\n",
       "      <td>True</td>\n",
       "      <td>**Step 1:** The core topic of the content appe...</td>\n",
       "      <td>None</td>\n",
       "      <td>The system provides guidance on running tests ...</td>\n",
       "    </tr>\n",
       "    <tr>\n",
       "      <th>2504</th>\n",
       "      <td>scverse/scanpy/1.10.2.wiki.usability.e0e296713...</td>\n",
       "      <td>visual</td>\n",
       "      <td>visual</td>\n",
       "      <td>[\"figure.figsize\"] = (4, 4). sc.pl.umap(adata,...</td>\n",
       "      <td>usability</td>\n",
       "      <td>wiki</td>\n",
       "      <td>https://scanpy.readthedocs.io/en/stable/tutori...</td>\n",
       "      <td>scverse/scanpy/1.10.2</td>\n",
       "      <td>visualized</td>\n",
       "      <td>visualized</td>\n",
       "      <td>1</td>\n",
       "      <td>1</td>\n",
       "      <td>False</td>\n",
       "      <td>This content includes detailed explanations ab...</td>\n",
       "      <td>True</td>\n",
       "      <td>The content describes how to use specific func...</td>\n",
       "      <td>True</td>\n",
       "      <td>The content is primarily about the system-leve...</td>\n",
       "      <td>None</td>\n",
       "      <td>The system is being asked to perform data visu...</td>\n",
       "    </tr>\n",
       "    <tr>\n",
       "      <th>2646</th>\n",
       "      <td>scverse/scanpy/1.10.2.wiki.usability.fffdbffb3...</td>\n",
       "      <td>help</td>\n",
       "      <td>help</td>\n",
       "      <td>rum to get your questions answered! https://di...</td>\n",
       "      <td>usability</td>\n",
       "      <td>wiki</td>\n",
       "      <td>https://scanpy.readthedocs.io/en/stable/index....</td>\n",
       "      <td>scverse/scanpy/1.10.2</td>\n",
       "      <td>helped</td>\n",
       "      <td>helped, Helped</td>\n",
       "      <td>2</td>\n",
       "      <td>1</td>\n",
       "      <td>False</td>\n",
       "      <td>This content appears to be a community announc...</td>\n",
       "      <td>True</td>\n",
       "      <td>The content describes how users can find resou...</td>\n",
       "      <td>True</td>\n",
       "      <td>The content discusses system-level architectur...</td>\n",
       "      <td>None</td>\n",
       "      <td>The system is being provided with information ...</td>\n",
       "    </tr>\n",
       "  </tbody>\n",
       "</table>\n",
       "<p>79137 rows × 20 columns</p>\n",
       "</div>"
      ]
     },
     "execution_count": 18,
     "metadata": {},
     "output_type": "execute_result"
    }
   ],
   "execution_count": 18
  },
  {
   "metadata": {
    "ExecuteTime": {
     "end_time": "2025-07-28T22:41:00.639476Z",
     "start_time": "2025-07-28T22:41:00.634236Z"
    }
   },
   "cell_type": "code",
   "source": "",
   "id": "500f4f2829d3688c",
   "outputs": [],
   "execution_count": null
  }
 ],
 "metadata": {
  "kernelspec": {
   "display_name": "Python 3",
   "language": "python",
   "name": "python3"
  },
  "language_info": {
   "codemirror_mode": {
    "name": "ipython",
    "version": 2
   },
   "file_extension": ".py",
   "mimetype": "text/x-python",
   "name": "python",
   "nbconvert_exporter": "python",
   "pygments_lexer": "ipython2",
   "version": "2.7.6"
  }
 },
 "nbformat": 4,
 "nbformat_minor": 5
}

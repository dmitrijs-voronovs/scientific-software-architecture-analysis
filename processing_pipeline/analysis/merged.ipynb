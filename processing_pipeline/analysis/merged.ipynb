{
 "cells": [
  {
   "cell_type": "code",
   "id": "a92e5b7d73da0062",
   "metadata": {
    "ExecuteTime": {
     "end_time": "2025-08-28T09:17:43.820536Z",
     "start_time": "2025-08-28T09:17:43.637329Z"
    }
   },
   "source": [
    "from cfg.tactics.tactic_description import tactic_descriptions\n",
    "from constants.abs_paths import AbsDirPath\n",
    "from processing_pipeline.utilities.data_transformation import load_all_files\n",
    "import pandas as pd\n"
   ],
   "outputs": [],
   "execution_count": 1
  },
  {
   "metadata": {
    "collapsed": true,
    "ExecuteTime": {
     "end_time": "2025-08-28T09:17:50.841769Z",
     "start_time": "2025-08-28T09:17:43.833244Z"
    }
   },
   "cell_type": "code",
   "source": [
    "in_dir = AbsDirPath.MERGED\n",
    "essential_columns = ['keyword', 'sentence', 'qa', 'source', 'url', 'repo_id', 'matched_word', 'nsimilar',\n",
    "                     'prefilter_passed', 's0_passed', 's1_passed', 's2_passed', 's3_passed', 's3_tactic',\n",
    "                     's3_tactic_category']\n",
    "df = load_all_files(in_dir, columns=essential_columns)"
   ],
   "id": "initial_id",
   "outputs": [
    {
     "name": "stdout",
     "output_type": "stream",
     "text": [
      "Loaded 335 files, [WindowsPath('C:/Users/Dmitrijs/Documents/myDocs/masters/courses/thesis/code/data/keywords_2/merged/allenai.scispacy.v0.5.5.code_comment.parquet'), WindowsPath('C:/Users/Dmitrijs/Documents/myDocs/masters/courses/thesis/code/data/keywords_2/merged/allenai.scispacy.v0.5.5.docs.parquet'), WindowsPath('C:/Users/Dmitrijs/Documents/myDocs/masters/courses/thesis/code/data/keywords_2/merged/allenai.scispacy.v0.5.5.issue.parquet'), WindowsPath('C:/Users/Dmitrijs/Documents/myDocs/masters/courses/thesis/code/data/keywords_2/merged/allenai.scispacy.v0.5.5.issue.pt_2.parquet'), WindowsPath('C:/Users/Dmitrijs/Documents/myDocs/masters/courses/thesis/code/data/keywords_2/merged/allenai.scispacy.v0.5.5.issue_comment.parquet'), WindowsPath('C:/Users/Dmitrijs/Documents/myDocs/masters/courses/thesis/code/data/keywords_2/merged/allenai.scispacy.v0.5.5.issue_comment.pt_2.parquet'), WindowsPath('C:/Users/Dmitrijs/Documents/myDocs/masters/courses/thesis/code/data/keywords_2/merged/allenai.scispacy.v0.5.5.release.parquet'), WindowsPath('C:/Users/Dmitrijs/Documents/myDocs/masters/courses/thesis/code/data/keywords_2/merged/google.deepvariant.v1.6.1.code_comment.parquet'), WindowsPath('C:/Users/Dmitrijs/Documents/myDocs/masters/courses/thesis/code/data/keywords_2/merged/google.deepvariant.v1.6.1.code_comment.pt_2.parquet'), WindowsPath('C:/Users/Dmitrijs/Documents/myDocs/masters/courses/thesis/code/data/keywords_2/merged/google.deepvariant.v1.6.1.docs.parquet'), WindowsPath('C:/Users/Dmitrijs/Documents/myDocs/masters/courses/thesis/code/data/keywords_2/merged/google.deepvariant.v1.6.1.issue.parquet'), WindowsPath('C:/Users/Dmitrijs/Documents/myDocs/masters/courses/thesis/code/data/keywords_2/merged/google.deepvariant.v1.6.1.issue.pt_2.parquet'), WindowsPath('C:/Users/Dmitrijs/Documents/myDocs/masters/courses/thesis/code/data/keywords_2/merged/google.deepvariant.v1.6.1.issue.pt_3.parquet'), WindowsPath('C:/Users/Dmitrijs/Documents/myDocs/masters/courses/thesis/code/data/keywords_2/merged/google.deepvariant.v1.6.1.issue.pt_4.parquet'), WindowsPath('C:/Users/Dmitrijs/Documents/myDocs/masters/courses/thesis/code/data/keywords_2/merged/google.deepvariant.v1.6.1.issue.pt_5.parquet'), WindowsPath('C:/Users/Dmitrijs/Documents/myDocs/masters/courses/thesis/code/data/keywords_2/merged/google.deepvariant.v1.6.1.issue.pt_6.parquet'), WindowsPath('C:/Users/Dmitrijs/Documents/myDocs/masters/courses/thesis/code/data/keywords_2/merged/google.deepvariant.v1.6.1.issue_comment.parquet'), WindowsPath('C:/Users/Dmitrijs/Documents/myDocs/masters/courses/thesis/code/data/keywords_2/merged/google.deepvariant.v1.6.1.issue_comment.pt_2.parquet'), WindowsPath('C:/Users/Dmitrijs/Documents/myDocs/masters/courses/thesis/code/data/keywords_2/merged/google.deepvariant.v1.6.1.issue_comment.pt_3.parquet'), WindowsPath('C:/Users/Dmitrijs/Documents/myDocs/masters/courses/thesis/code/data/keywords_2/merged/google.deepvariant.v1.6.1.issue_comment.pt_4.parquet'), WindowsPath('C:/Users/Dmitrijs/Documents/myDocs/masters/courses/thesis/code/data/keywords_2/merged/google.deepvariant.v1.6.1.issue_comment.pt_5.parquet'), WindowsPath('C:/Users/Dmitrijs/Documents/myDocs/masters/courses/thesis/code/data/keywords_2/merged/google.deepvariant.v1.6.1.issue_comment.pt_6.parquet'), WindowsPath('C:/Users/Dmitrijs/Documents/myDocs/masters/courses/thesis/code/data/keywords_2/merged/google.deepvariant.v1.6.1.issue_comment.pt_7.parquet'), WindowsPath('C:/Users/Dmitrijs/Documents/myDocs/masters/courses/thesis/code/data/keywords_2/merged/google.deepvariant.v1.6.1.issue_comment.pt_8.parquet'), WindowsPath('C:/Users/Dmitrijs/Documents/myDocs/masters/courses/thesis/code/data/keywords_2/merged/google.deepvariant.v1.6.1.issue_comment.pt_9.parquet'), WindowsPath('C:/Users/Dmitrijs/Documents/myDocs/masters/courses/thesis/code/data/keywords_2/merged/google.deepvariant.v1.6.1.release.parquet'), WindowsPath('C:/Users/Dmitrijs/Documents/myDocs/masters/courses/thesis/code/data/keywords_2/merged/OpenGene.fastp.v0.23.4.code_comment.parquet'), WindowsPath('C:/Users/Dmitrijs/Documents/myDocs/masters/courses/thesis/code/data/keywords_2/merged/OpenGene.fastp.v0.23.4.docs.parquet'), WindowsPath('C:/Users/Dmitrijs/Documents/myDocs/masters/courses/thesis/code/data/keywords_2/merged/OpenGene.fastp.v0.23.4.issue.parquet'), WindowsPath('C:/Users/Dmitrijs/Documents/myDocs/masters/courses/thesis/code/data/keywords_2/merged/OpenGene.fastp.v0.23.4.issue_comment.parquet'), WindowsPath('C:/Users/Dmitrijs/Documents/myDocs/masters/courses/thesis/code/data/keywords_2/merged/OpenGene.fastp.v0.23.4.release.parquet'), WindowsPath('C:/Users/Dmitrijs/Documents/myDocs/masters/courses/thesis/code/data/keywords_2/merged/root-project.root.v6-32-06.code_comment.parquet'), WindowsPath('C:/Users/Dmitrijs/Documents/myDocs/masters/courses/thesis/code/data/keywords_2/merged/root-project.root.v6-32-06.code_comment.pt_002.parquet'), WindowsPath('C:/Users/Dmitrijs/Documents/myDocs/masters/courses/thesis/code/data/keywords_2/merged/root-project.root.v6-32-06.code_comment.pt_003.parquet'), WindowsPath('C:/Users/Dmitrijs/Documents/myDocs/masters/courses/thesis/code/data/keywords_2/merged/root-project.root.v6-32-06.code_comment.pt_004.parquet'), WindowsPath('C:/Users/Dmitrijs/Documents/myDocs/masters/courses/thesis/code/data/keywords_2/merged/root-project.root.v6-32-06.code_comment.pt_005.parquet'), WindowsPath('C:/Users/Dmitrijs/Documents/myDocs/masters/courses/thesis/code/data/keywords_2/merged/root-project.root.v6-32-06.code_comment.pt_006.parquet'), WindowsPath('C:/Users/Dmitrijs/Documents/myDocs/masters/courses/thesis/code/data/keywords_2/merged/root-project.root.v6-32-06.code_comment.pt_007.parquet'), WindowsPath('C:/Users/Dmitrijs/Documents/myDocs/masters/courses/thesis/code/data/keywords_2/merged/root-project.root.v6-32-06.code_comment.pt_008.parquet'), WindowsPath('C:/Users/Dmitrijs/Documents/myDocs/masters/courses/thesis/code/data/keywords_2/merged/root-project.root.v6-32-06.code_comment.pt_009.parquet'), WindowsPath('C:/Users/Dmitrijs/Documents/myDocs/masters/courses/thesis/code/data/keywords_2/merged/root-project.root.v6-32-06.code_comment.pt_010.parquet'), WindowsPath('C:/Users/Dmitrijs/Documents/myDocs/masters/courses/thesis/code/data/keywords_2/merged/root-project.root.v6-32-06.code_comment.pt_011.parquet'), WindowsPath('C:/Users/Dmitrijs/Documents/myDocs/masters/courses/thesis/code/data/keywords_2/merged/root-project.root.v6-32-06.code_comment.pt_012.parquet'), WindowsPath('C:/Users/Dmitrijs/Documents/myDocs/masters/courses/thesis/code/data/keywords_2/merged/root-project.root.v6-32-06.code_comment.pt_013.parquet'), WindowsPath('C:/Users/Dmitrijs/Documents/myDocs/masters/courses/thesis/code/data/keywords_2/merged/root-project.root.v6-32-06.code_comment.pt_014.parquet'), WindowsPath('C:/Users/Dmitrijs/Documents/myDocs/masters/courses/thesis/code/data/keywords_2/merged/root-project.root.v6-32-06.code_comment.pt_015.parquet'), WindowsPath('C:/Users/Dmitrijs/Documents/myDocs/masters/courses/thesis/code/data/keywords_2/merged/root-project.root.v6-32-06.code_comment.pt_016.parquet'), WindowsPath('C:/Users/Dmitrijs/Documents/myDocs/masters/courses/thesis/code/data/keywords_2/merged/root-project.root.v6-32-06.code_comment.pt_017.parquet'), WindowsPath('C:/Users/Dmitrijs/Documents/myDocs/masters/courses/thesis/code/data/keywords_2/merged/root-project.root.v6-32-06.code_comment.pt_018.parquet'), WindowsPath('C:/Users/Dmitrijs/Documents/myDocs/masters/courses/thesis/code/data/keywords_2/merged/root-project.root.v6-32-06.code_comment.pt_019.parquet'), WindowsPath('C:/Users/Dmitrijs/Documents/myDocs/masters/courses/thesis/code/data/keywords_2/merged/root-project.root.v6-32-06.code_comment.pt_020.parquet'), WindowsPath('C:/Users/Dmitrijs/Documents/myDocs/masters/courses/thesis/code/data/keywords_2/merged/root-project.root.v6-32-06.code_comment.pt_021.parquet'), WindowsPath('C:/Users/Dmitrijs/Documents/myDocs/masters/courses/thesis/code/data/keywords_2/merged/root-project.root.v6-32-06.code_comment.pt_022.parquet'), WindowsPath('C:/Users/Dmitrijs/Documents/myDocs/masters/courses/thesis/code/data/keywords_2/merged/root-project.root.v6-32-06.code_comment.pt_023.parquet'), WindowsPath('C:/Users/Dmitrijs/Documents/myDocs/masters/courses/thesis/code/data/keywords_2/merged/root-project.root.v6-32-06.code_comment.pt_024.parquet'), WindowsPath('C:/Users/Dmitrijs/Documents/myDocs/masters/courses/thesis/code/data/keywords_2/merged/root-project.root.v6-32-06.code_comment.pt_025.parquet'), WindowsPath('C:/Users/Dmitrijs/Documents/myDocs/masters/courses/thesis/code/data/keywords_2/merged/root-project.root.v6-32-06.code_comment.pt_026.parquet'), WindowsPath('C:/Users/Dmitrijs/Documents/myDocs/masters/courses/thesis/code/data/keywords_2/merged/root-project.root.v6-32-06.code_comment.pt_027.parquet'), WindowsPath('C:/Users/Dmitrijs/Documents/myDocs/masters/courses/thesis/code/data/keywords_2/merged/root-project.root.v6-32-06.code_comment.pt_028.parquet'), WindowsPath('C:/Users/Dmitrijs/Documents/myDocs/masters/courses/thesis/code/data/keywords_2/merged/root-project.root.v6-32-06.code_comment.pt_029.parquet'), WindowsPath('C:/Users/Dmitrijs/Documents/myDocs/masters/courses/thesis/code/data/keywords_2/merged/root-project.root.v6-32-06.code_comment.pt_030.parquet'), WindowsPath('C:/Users/Dmitrijs/Documents/myDocs/masters/courses/thesis/code/data/keywords_2/merged/root-project.root.v6-32-06.code_comment.pt_031.parquet'), WindowsPath('C:/Users/Dmitrijs/Documents/myDocs/masters/courses/thesis/code/data/keywords_2/merged/root-project.root.v6-32-06.code_comment.pt_032.parquet'), WindowsPath('C:/Users/Dmitrijs/Documents/myDocs/masters/courses/thesis/code/data/keywords_2/merged/root-project.root.v6-32-06.code_comment.pt_033.parquet'), WindowsPath('C:/Users/Dmitrijs/Documents/myDocs/masters/courses/thesis/code/data/keywords_2/merged/root-project.root.v6-32-06.code_comment.pt_034.parquet'), WindowsPath('C:/Users/Dmitrijs/Documents/myDocs/masters/courses/thesis/code/data/keywords_2/merged/root-project.root.v6-32-06.code_comment.pt_035.parquet'), WindowsPath('C:/Users/Dmitrijs/Documents/myDocs/masters/courses/thesis/code/data/keywords_2/merged/root-project.root.v6-32-06.code_comment.pt_036.parquet'), WindowsPath('C:/Users/Dmitrijs/Documents/myDocs/masters/courses/thesis/code/data/keywords_2/merged/root-project.root.v6-32-06.code_comment.pt_037.parquet'), WindowsPath('C:/Users/Dmitrijs/Documents/myDocs/masters/courses/thesis/code/data/keywords_2/merged/root-project.root.v6-32-06.code_comment.pt_038.parquet'), WindowsPath('C:/Users/Dmitrijs/Documents/myDocs/masters/courses/thesis/code/data/keywords_2/merged/root-project.root.v6-32-06.code_comment.pt_039.parquet'), WindowsPath('C:/Users/Dmitrijs/Documents/myDocs/masters/courses/thesis/code/data/keywords_2/merged/root-project.root.v6-32-06.code_comment.pt_040.parquet'), WindowsPath('C:/Users/Dmitrijs/Documents/myDocs/masters/courses/thesis/code/data/keywords_2/merged/root-project.root.v6-32-06.code_comment.pt_041.parquet'), WindowsPath('C:/Users/Dmitrijs/Documents/myDocs/masters/courses/thesis/code/data/keywords_2/merged/root-project.root.v6-32-06.code_comment.pt_042.parquet'), WindowsPath('C:/Users/Dmitrijs/Documents/myDocs/masters/courses/thesis/code/data/keywords_2/merged/root-project.root.v6-32-06.code_comment.pt_043.parquet'), WindowsPath('C:/Users/Dmitrijs/Documents/myDocs/masters/courses/thesis/code/data/keywords_2/merged/root-project.root.v6-32-06.code_comment.pt_044.parquet'), WindowsPath('C:/Users/Dmitrijs/Documents/myDocs/masters/courses/thesis/code/data/keywords_2/merged/root-project.root.v6-32-06.code_comment.pt_045.parquet'), WindowsPath('C:/Users/Dmitrijs/Documents/myDocs/masters/courses/thesis/code/data/keywords_2/merged/root-project.root.v6-32-06.code_comment.pt_046.parquet'), WindowsPath('C:/Users/Dmitrijs/Documents/myDocs/masters/courses/thesis/code/data/keywords_2/merged/root-project.root.v6-32-06.code_comment.pt_047.parquet'), WindowsPath('C:/Users/Dmitrijs/Documents/myDocs/masters/courses/thesis/code/data/keywords_2/merged/root-project.root.v6-32-06.code_comment.pt_048.parquet'), WindowsPath('C:/Users/Dmitrijs/Documents/myDocs/masters/courses/thesis/code/data/keywords_2/merged/root-project.root.v6-32-06.code_comment.pt_049.parquet'), WindowsPath('C:/Users/Dmitrijs/Documents/myDocs/masters/courses/thesis/code/data/keywords_2/merged/root-project.root.v6-32-06.code_comment.pt_050.parquet'), WindowsPath('C:/Users/Dmitrijs/Documents/myDocs/masters/courses/thesis/code/data/keywords_2/merged/root-project.root.v6-32-06.code_comment.pt_051.parquet'), WindowsPath('C:/Users/Dmitrijs/Documents/myDocs/masters/courses/thesis/code/data/keywords_2/merged/root-project.root.v6-32-06.code_comment.pt_052.parquet'), WindowsPath('C:/Users/Dmitrijs/Documents/myDocs/masters/courses/thesis/code/data/keywords_2/merged/root-project.root.v6-32-06.code_comment.pt_053.parquet'), WindowsPath('C:/Users/Dmitrijs/Documents/myDocs/masters/courses/thesis/code/data/keywords_2/merged/root-project.root.v6-32-06.code_comment.pt_054.parquet'), WindowsPath('C:/Users/Dmitrijs/Documents/myDocs/masters/courses/thesis/code/data/keywords_2/merged/root-project.root.v6-32-06.code_comment.pt_055.parquet'), WindowsPath('C:/Users/Dmitrijs/Documents/myDocs/masters/courses/thesis/code/data/keywords_2/merged/root-project.root.v6-32-06.code_comment.pt_056.parquet'), WindowsPath('C:/Users/Dmitrijs/Documents/myDocs/masters/courses/thesis/code/data/keywords_2/merged/root-project.root.v6-32-06.code_comment.pt_057.parquet'), WindowsPath('C:/Users/Dmitrijs/Documents/myDocs/masters/courses/thesis/code/data/keywords_2/merged/root-project.root.v6-32-06.code_comment.pt_058.parquet'), WindowsPath('C:/Users/Dmitrijs/Documents/myDocs/masters/courses/thesis/code/data/keywords_2/merged/root-project.root.v6-32-06.code_comment.pt_059.parquet'), WindowsPath('C:/Users/Dmitrijs/Documents/myDocs/masters/courses/thesis/code/data/keywords_2/merged/root-project.root.v6-32-06.code_comment.pt_060.parquet'), WindowsPath('C:/Users/Dmitrijs/Documents/myDocs/masters/courses/thesis/code/data/keywords_2/merged/root-project.root.v6-32-06.code_comment.pt_061.parquet'), WindowsPath('C:/Users/Dmitrijs/Documents/myDocs/masters/courses/thesis/code/data/keywords_2/merged/root-project.root.v6-32-06.code_comment.pt_062.parquet'), WindowsPath('C:/Users/Dmitrijs/Documents/myDocs/masters/courses/thesis/code/data/keywords_2/merged/root-project.root.v6-32-06.code_comment.pt_063.parquet'), WindowsPath('C:/Users/Dmitrijs/Documents/myDocs/masters/courses/thesis/code/data/keywords_2/merged/root-project.root.v6-32-06.code_comment.pt_064.parquet'), WindowsPath('C:/Users/Dmitrijs/Documents/myDocs/masters/courses/thesis/code/data/keywords_2/merged/root-project.root.v6-32-06.code_comment.pt_065.parquet'), WindowsPath('C:/Users/Dmitrijs/Documents/myDocs/masters/courses/thesis/code/data/keywords_2/merged/root-project.root.v6-32-06.code_comment.pt_066.parquet'), WindowsPath('C:/Users/Dmitrijs/Documents/myDocs/masters/courses/thesis/code/data/keywords_2/merged/root-project.root.v6-32-06.code_comment.pt_067.parquet'), WindowsPath('C:/Users/Dmitrijs/Documents/myDocs/masters/courses/thesis/code/data/keywords_2/merged/root-project.root.v6-32-06.code_comment.pt_068.parquet'), WindowsPath('C:/Users/Dmitrijs/Documents/myDocs/masters/courses/thesis/code/data/keywords_2/merged/root-project.root.v6-32-06.code_comment.pt_069.parquet'), WindowsPath('C:/Users/Dmitrijs/Documents/myDocs/masters/courses/thesis/code/data/keywords_2/merged/root-project.root.v6-32-06.code_comment.pt_070.parquet'), WindowsPath('C:/Users/Dmitrijs/Documents/myDocs/masters/courses/thesis/code/data/keywords_2/merged/root-project.root.v6-32-06.code_comment.pt_071.parquet'), WindowsPath('C:/Users/Dmitrijs/Documents/myDocs/masters/courses/thesis/code/data/keywords_2/merged/root-project.root.v6-32-06.code_comment.pt_072.parquet'), WindowsPath('C:/Users/Dmitrijs/Documents/myDocs/masters/courses/thesis/code/data/keywords_2/merged/root-project.root.v6-32-06.code_comment.pt_073.parquet'), WindowsPath('C:/Users/Dmitrijs/Documents/myDocs/masters/courses/thesis/code/data/keywords_2/merged/root-project.root.v6-32-06.code_comment.pt_074.parquet'), WindowsPath('C:/Users/Dmitrijs/Documents/myDocs/masters/courses/thesis/code/data/keywords_2/merged/root-project.root.v6-32-06.code_comment.pt_075.parquet'), WindowsPath('C:/Users/Dmitrijs/Documents/myDocs/masters/courses/thesis/code/data/keywords_2/merged/root-project.root.v6-32-06.code_comment.pt_076.parquet'), WindowsPath('C:/Users/Dmitrijs/Documents/myDocs/masters/courses/thesis/code/data/keywords_2/merged/root-project.root.v6-32-06.code_comment.pt_077.parquet'), WindowsPath('C:/Users/Dmitrijs/Documents/myDocs/masters/courses/thesis/code/data/keywords_2/merged/root-project.root.v6-32-06.code_comment.pt_078.parquet'), WindowsPath('C:/Users/Dmitrijs/Documents/myDocs/masters/courses/thesis/code/data/keywords_2/merged/root-project.root.v6-32-06.code_comment.pt_079.parquet'), WindowsPath('C:/Users/Dmitrijs/Documents/myDocs/masters/courses/thesis/code/data/keywords_2/merged/root-project.root.v6-32-06.code_comment.pt_080.parquet'), WindowsPath('C:/Users/Dmitrijs/Documents/myDocs/masters/courses/thesis/code/data/keywords_2/merged/root-project.root.v6-32-06.code_comment.pt_081.parquet'), WindowsPath('C:/Users/Dmitrijs/Documents/myDocs/masters/courses/thesis/code/data/keywords_2/merged/root-project.root.v6-32-06.code_comment.pt_082.parquet'), WindowsPath('C:/Users/Dmitrijs/Documents/myDocs/masters/courses/thesis/code/data/keywords_2/merged/root-project.root.v6-32-06.code_comment.pt_083.parquet'), WindowsPath('C:/Users/Dmitrijs/Documents/myDocs/masters/courses/thesis/code/data/keywords_2/merged/root-project.root.v6-32-06.code_comment.pt_084.parquet'), WindowsPath('C:/Users/Dmitrijs/Documents/myDocs/masters/courses/thesis/code/data/keywords_2/merged/root-project.root.v6-32-06.code_comment.pt_085.parquet'), WindowsPath('C:/Users/Dmitrijs/Documents/myDocs/masters/courses/thesis/code/data/keywords_2/merged/root-project.root.v6-32-06.code_comment.pt_086.parquet'), WindowsPath('C:/Users/Dmitrijs/Documents/myDocs/masters/courses/thesis/code/data/keywords_2/merged/root-project.root.v6-32-06.code_comment.pt_087.parquet'), WindowsPath('C:/Users/Dmitrijs/Documents/myDocs/masters/courses/thesis/code/data/keywords_2/merged/root-project.root.v6-32-06.code_comment.pt_088.parquet'), WindowsPath('C:/Users/Dmitrijs/Documents/myDocs/masters/courses/thesis/code/data/keywords_2/merged/root-project.root.v6-32-06.code_comment.pt_089.parquet'), WindowsPath('C:/Users/Dmitrijs/Documents/myDocs/masters/courses/thesis/code/data/keywords_2/merged/root-project.root.v6-32-06.code_comment.pt_090.parquet'), WindowsPath('C:/Users/Dmitrijs/Documents/myDocs/masters/courses/thesis/code/data/keywords_2/merged/root-project.root.v6-32-06.code_comment.pt_091.parquet'), WindowsPath('C:/Users/Dmitrijs/Documents/myDocs/masters/courses/thesis/code/data/keywords_2/merged/root-project.root.v6-32-06.code_comment.pt_092.parquet'), WindowsPath('C:/Users/Dmitrijs/Documents/myDocs/masters/courses/thesis/code/data/keywords_2/merged/root-project.root.v6-32-06.code_comment.pt_093.parquet'), WindowsPath('C:/Users/Dmitrijs/Documents/myDocs/masters/courses/thesis/code/data/keywords_2/merged/root-project.root.v6-32-06.code_comment.pt_094.parquet'), WindowsPath('C:/Users/Dmitrijs/Documents/myDocs/masters/courses/thesis/code/data/keywords_2/merged/root-project.root.v6-32-06.code_comment.pt_095.parquet'), WindowsPath('C:/Users/Dmitrijs/Documents/myDocs/masters/courses/thesis/code/data/keywords_2/merged/root-project.root.v6-32-06.code_comment.pt_096.parquet'), WindowsPath('C:/Users/Dmitrijs/Documents/myDocs/masters/courses/thesis/code/data/keywords_2/merged/root-project.root.v6-32-06.code_comment.pt_097.parquet'), WindowsPath('C:/Users/Dmitrijs/Documents/myDocs/masters/courses/thesis/code/data/keywords_2/merged/root-project.root.v6-32-06.code_comment.pt_098.parquet'), WindowsPath('C:/Users/Dmitrijs/Documents/myDocs/masters/courses/thesis/code/data/keywords_2/merged/root-project.root.v6-32-06.code_comment.pt_099.parquet'), WindowsPath('C:/Users/Dmitrijs/Documents/myDocs/masters/courses/thesis/code/data/keywords_2/merged/root-project.root.v6-32-06.code_comment.pt_100.parquet'), WindowsPath('C:/Users/Dmitrijs/Documents/myDocs/masters/courses/thesis/code/data/keywords_2/merged/root-project.root.v6-32-06.code_comment.pt_101.parquet'), WindowsPath('C:/Users/Dmitrijs/Documents/myDocs/masters/courses/thesis/code/data/keywords_2/merged/root-project.root.v6-32-06.code_comment.pt_102.parquet'), WindowsPath('C:/Users/Dmitrijs/Documents/myDocs/masters/courses/thesis/code/data/keywords_2/merged/root-project.root.v6-32-06.code_comment.pt_103.parquet'), WindowsPath('C:/Users/Dmitrijs/Documents/myDocs/masters/courses/thesis/code/data/keywords_2/merged/root-project.root.v6-32-06.code_comment.pt_104.parquet'), WindowsPath('C:/Users/Dmitrijs/Documents/myDocs/masters/courses/thesis/code/data/keywords_2/merged/root-project.root.v6-32-06.code_comment.pt_105.parquet'), WindowsPath('C:/Users/Dmitrijs/Documents/myDocs/masters/courses/thesis/code/data/keywords_2/merged/root-project.root.v6-32-06.code_comment.pt_106.parquet'), WindowsPath('C:/Users/Dmitrijs/Documents/myDocs/masters/courses/thesis/code/data/keywords_2/merged/root-project.root.v6-32-06.code_comment.pt_107.parquet'), WindowsPath('C:/Users/Dmitrijs/Documents/myDocs/masters/courses/thesis/code/data/keywords_2/merged/root-project.root.v6-32-06.code_comment.pt_108.parquet'), WindowsPath('C:/Users/Dmitrijs/Documents/myDocs/masters/courses/thesis/code/data/keywords_2/merged/root-project.root.v6-32-06.code_comment.pt_109.parquet'), WindowsPath('C:/Users/Dmitrijs/Documents/myDocs/masters/courses/thesis/code/data/keywords_2/merged/root-project.root.v6-32-06.code_comment.pt_110.parquet'), WindowsPath('C:/Users/Dmitrijs/Documents/myDocs/masters/courses/thesis/code/data/keywords_2/merged/root-project.root.v6-32-06.code_comment.pt_111.parquet'), WindowsPath('C:/Users/Dmitrijs/Documents/myDocs/masters/courses/thesis/code/data/keywords_2/merged/root-project.root.v6-32-06.code_comment.pt_112.parquet'), WindowsPath('C:/Users/Dmitrijs/Documents/myDocs/masters/courses/thesis/code/data/keywords_2/merged/root-project.root.v6-32-06.code_comment.pt_113.parquet'), WindowsPath('C:/Users/Dmitrijs/Documents/myDocs/masters/courses/thesis/code/data/keywords_2/merged/root-project.root.v6-32-06.code_comment.pt_114.parquet'), WindowsPath('C:/Users/Dmitrijs/Documents/myDocs/masters/courses/thesis/code/data/keywords_2/merged/root-project.root.v6-32-06.code_comment.pt_115.parquet'), WindowsPath('C:/Users/Dmitrijs/Documents/myDocs/masters/courses/thesis/code/data/keywords_2/merged/root-project.root.v6-32-06.code_comment.pt_116.parquet'), WindowsPath('C:/Users/Dmitrijs/Documents/myDocs/masters/courses/thesis/code/data/keywords_2/merged/root-project.root.v6-32-06.code_comment.pt_117.parquet'), WindowsPath('C:/Users/Dmitrijs/Documents/myDocs/masters/courses/thesis/code/data/keywords_2/merged/root-project.root.v6-32-06.code_comment.pt_118.parquet'), WindowsPath('C:/Users/Dmitrijs/Documents/myDocs/masters/courses/thesis/code/data/keywords_2/merged/root-project.root.v6-32-06.code_comment.pt_119.parquet'), WindowsPath('C:/Users/Dmitrijs/Documents/myDocs/masters/courses/thesis/code/data/keywords_2/merged/root-project.root.v6-32-06.code_comment.pt_120.parquet'), WindowsPath('C:/Users/Dmitrijs/Documents/myDocs/masters/courses/thesis/code/data/keywords_2/merged/root-project.root.v6-32-06.code_comment.pt_121.parquet'), WindowsPath('C:/Users/Dmitrijs/Documents/myDocs/masters/courses/thesis/code/data/keywords_2/merged/root-project.root.v6-32-06.code_comment.pt_122.parquet'), WindowsPath('C:/Users/Dmitrijs/Documents/myDocs/masters/courses/thesis/code/data/keywords_2/merged/root-project.root.v6-32-06.code_comment.pt_123.parquet'), WindowsPath('C:/Users/Dmitrijs/Documents/myDocs/masters/courses/thesis/code/data/keywords_2/merged/root-project.root.v6-32-06.code_comment.pt_124.parquet'), WindowsPath('C:/Users/Dmitrijs/Documents/myDocs/masters/courses/thesis/code/data/keywords_2/merged/root-project.root.v6-32-06.code_comment.pt_125.parquet'), WindowsPath('C:/Users/Dmitrijs/Documents/myDocs/masters/courses/thesis/code/data/keywords_2/merged/root-project.root.v6-32-06.code_comment.pt_126.parquet'), WindowsPath('C:/Users/Dmitrijs/Documents/myDocs/masters/courses/thesis/code/data/keywords_2/merged/root-project.root.v6-32-06.code_comment.pt_127.parquet'), WindowsPath('C:/Users/Dmitrijs/Documents/myDocs/masters/courses/thesis/code/data/keywords_2/merged/root-project.root.v6-32-06.code_comment.pt_128.parquet'), WindowsPath('C:/Users/Dmitrijs/Documents/myDocs/masters/courses/thesis/code/data/keywords_2/merged/root-project.root.v6-32-06.code_comment.pt_129.parquet'), WindowsPath('C:/Users/Dmitrijs/Documents/myDocs/masters/courses/thesis/code/data/keywords_2/merged/root-project.root.v6-32-06.code_comment.pt_130.parquet'), WindowsPath('C:/Users/Dmitrijs/Documents/myDocs/masters/courses/thesis/code/data/keywords_2/merged/root-project.root.v6-32-06.code_comment.pt_131.parquet'), WindowsPath('C:/Users/Dmitrijs/Documents/myDocs/masters/courses/thesis/code/data/keywords_2/merged/root-project.root.v6-32-06.code_comment.pt_132.parquet'), WindowsPath('C:/Users/Dmitrijs/Documents/myDocs/masters/courses/thesis/code/data/keywords_2/merged/root-project.root.v6-32-06.code_comment.pt_133.parquet'), WindowsPath('C:/Users/Dmitrijs/Documents/myDocs/masters/courses/thesis/code/data/keywords_2/merged/root-project.root.v6-32-06.code_comment.pt_134.parquet'), WindowsPath('C:/Users/Dmitrijs/Documents/myDocs/masters/courses/thesis/code/data/keywords_2/merged/root-project.root.v6-32-06.code_comment.pt_135.parquet'), WindowsPath('C:/Users/Dmitrijs/Documents/myDocs/masters/courses/thesis/code/data/keywords_2/merged/root-project.root.v6-32-06.code_comment.pt_136.parquet'), WindowsPath('C:/Users/Dmitrijs/Documents/myDocs/masters/courses/thesis/code/data/keywords_2/merged/root-project.root.v6-32-06.code_comment.pt_137.parquet'), WindowsPath('C:/Users/Dmitrijs/Documents/myDocs/masters/courses/thesis/code/data/keywords_2/merged/root-project.root.v6-32-06.code_comment.pt_138.parquet'), WindowsPath('C:/Users/Dmitrijs/Documents/myDocs/masters/courses/thesis/code/data/keywords_2/merged/root-project.root.v6-32-06.code_comment.pt_139.parquet'), WindowsPath('C:/Users/Dmitrijs/Documents/myDocs/masters/courses/thesis/code/data/keywords_2/merged/root-project.root.v6-32-06.code_comment.pt_140.parquet'), WindowsPath('C:/Users/Dmitrijs/Documents/myDocs/masters/courses/thesis/code/data/keywords_2/merged/root-project.root.v6-32-06.code_comment.pt_141.parquet'), WindowsPath('C:/Users/Dmitrijs/Documents/myDocs/masters/courses/thesis/code/data/keywords_2/merged/root-project.root.v6-32-06.code_comment.pt_142.parquet'), WindowsPath('C:/Users/Dmitrijs/Documents/myDocs/masters/courses/thesis/code/data/keywords_2/merged/root-project.root.v6-32-06.code_comment.pt_143.parquet'), WindowsPath('C:/Users/Dmitrijs/Documents/myDocs/masters/courses/thesis/code/data/keywords_2/merged/root-project.root.v6-32-06.code_comment.pt_144.parquet'), WindowsPath('C:/Users/Dmitrijs/Documents/myDocs/masters/courses/thesis/code/data/keywords_2/merged/root-project.root.v6-32-06.code_comment.pt_145.parquet'), WindowsPath('C:/Users/Dmitrijs/Documents/myDocs/masters/courses/thesis/code/data/keywords_2/merged/root-project.root.v6-32-06.code_comment.pt_146.parquet'), WindowsPath('C:/Users/Dmitrijs/Documents/myDocs/masters/courses/thesis/code/data/keywords_2/merged/root-project.root.v6-32-06.code_comment.pt_147.parquet'), WindowsPath('C:/Users/Dmitrijs/Documents/myDocs/masters/courses/thesis/code/data/keywords_2/merged/root-project.root.v6-32-06.code_comment.pt_148.parquet'), WindowsPath('C:/Users/Dmitrijs/Documents/myDocs/masters/courses/thesis/code/data/keywords_2/merged/root-project.root.v6-32-06.code_comment.pt_149.parquet'), WindowsPath('C:/Users/Dmitrijs/Documents/myDocs/masters/courses/thesis/code/data/keywords_2/merged/root-project.root.v6-32-06.code_comment.pt_150.parquet'), WindowsPath('C:/Users/Dmitrijs/Documents/myDocs/masters/courses/thesis/code/data/keywords_2/merged/root-project.root.v6-32-06.code_comment.pt_151.parquet'), WindowsPath('C:/Users/Dmitrijs/Documents/myDocs/masters/courses/thesis/code/data/keywords_2/merged/root-project.root.v6-32-06.code_comment.pt_152.parquet'), WindowsPath('C:/Users/Dmitrijs/Documents/myDocs/masters/courses/thesis/code/data/keywords_2/merged/root-project.root.v6-32-06.code_comment.pt_153.parquet'), WindowsPath('C:/Users/Dmitrijs/Documents/myDocs/masters/courses/thesis/code/data/keywords_2/merged/root-project.root.v6-32-06.code_comment.pt_154.parquet'), WindowsPath('C:/Users/Dmitrijs/Documents/myDocs/masters/courses/thesis/code/data/keywords_2/merged/root-project.root.v6-32-06.code_comment.pt_155.parquet'), WindowsPath('C:/Users/Dmitrijs/Documents/myDocs/masters/courses/thesis/code/data/keywords_2/merged/root-project.root.v6-32-06.code_comment.pt_156.parquet'), WindowsPath('C:/Users/Dmitrijs/Documents/myDocs/masters/courses/thesis/code/data/keywords_2/merged/root-project.root.v6-32-06.code_comment.pt_157.parquet'), WindowsPath('C:/Users/Dmitrijs/Documents/myDocs/masters/courses/thesis/code/data/keywords_2/merged/root-project.root.v6-32-06.code_comment.pt_158.parquet'), WindowsPath('C:/Users/Dmitrijs/Documents/myDocs/masters/courses/thesis/code/data/keywords_2/merged/root-project.root.v6-32-06.code_comment.pt_159.parquet'), WindowsPath('C:/Users/Dmitrijs/Documents/myDocs/masters/courses/thesis/code/data/keywords_2/merged/root-project.root.v6-32-06.code_comment.pt_160.parquet'), WindowsPath('C:/Users/Dmitrijs/Documents/myDocs/masters/courses/thesis/code/data/keywords_2/merged/root-project.root.v6-32-06.docs.parquet'), WindowsPath('C:/Users/Dmitrijs/Documents/myDocs/masters/courses/thesis/code/data/keywords_2/merged/root-project.root.v6-32-06.docs.pt_02.parquet'), WindowsPath('C:/Users/Dmitrijs/Documents/myDocs/masters/courses/thesis/code/data/keywords_2/merged/root-project.root.v6-32-06.docs.pt_03.parquet'), WindowsPath('C:/Users/Dmitrijs/Documents/myDocs/masters/courses/thesis/code/data/keywords_2/merged/root-project.root.v6-32-06.docs.pt_04.parquet'), WindowsPath('C:/Users/Dmitrijs/Documents/myDocs/masters/courses/thesis/code/data/keywords_2/merged/root-project.root.v6-32-06.docs.pt_05.parquet'), WindowsPath('C:/Users/Dmitrijs/Documents/myDocs/masters/courses/thesis/code/data/keywords_2/merged/root-project.root.v6-32-06.docs.pt_06.parquet'), WindowsPath('C:/Users/Dmitrijs/Documents/myDocs/masters/courses/thesis/code/data/keywords_2/merged/root-project.root.v6-32-06.docs.pt_07.parquet'), WindowsPath('C:/Users/Dmitrijs/Documents/myDocs/masters/courses/thesis/code/data/keywords_2/merged/root-project.root.v6-32-06.docs.pt_08.parquet'), WindowsPath('C:/Users/Dmitrijs/Documents/myDocs/masters/courses/thesis/code/data/keywords_2/merged/root-project.root.v6-32-06.docs.pt_09.parquet'), WindowsPath('C:/Users/Dmitrijs/Documents/myDocs/masters/courses/thesis/code/data/keywords_2/merged/root-project.root.v6-32-06.docs.pt_10.parquet'), WindowsPath('C:/Users/Dmitrijs/Documents/myDocs/masters/courses/thesis/code/data/keywords_2/merged/root-project.root.v6-32-06.docs.pt_11.parquet'), WindowsPath('C:/Users/Dmitrijs/Documents/myDocs/masters/courses/thesis/code/data/keywords_2/merged/root-project.root.v6-32-06.docs.pt_12.parquet'), WindowsPath('C:/Users/Dmitrijs/Documents/myDocs/masters/courses/thesis/code/data/keywords_2/merged/root-project.root.v6-32-06.docs.pt_13.parquet'), WindowsPath('C:/Users/Dmitrijs/Documents/myDocs/masters/courses/thesis/code/data/keywords_2/merged/root-project.root.v6-32-06.docs.pt_14.parquet'), WindowsPath('C:/Users/Dmitrijs/Documents/myDocs/masters/courses/thesis/code/data/keywords_2/merged/root-project.root.v6-32-06.docs.pt_15.parquet'), WindowsPath('C:/Users/Dmitrijs/Documents/myDocs/masters/courses/thesis/code/data/keywords_2/merged/root-project.root.v6-32-06.docs.pt_16.parquet'), WindowsPath('C:/Users/Dmitrijs/Documents/myDocs/masters/courses/thesis/code/data/keywords_2/merged/root-project.root.v6-32-06.docs.pt_17.parquet'), WindowsPath('C:/Users/Dmitrijs/Documents/myDocs/masters/courses/thesis/code/data/keywords_2/merged/root-project.root.v6-32-06.docs.pt_18.parquet'), WindowsPath('C:/Users/Dmitrijs/Documents/myDocs/masters/courses/thesis/code/data/keywords_2/merged/root-project.root.v6-32-06.docs.pt_19.parquet'), WindowsPath('C:/Users/Dmitrijs/Documents/myDocs/masters/courses/thesis/code/data/keywords_2/merged/root-project.root.v6-32-06.docs.pt_20.parquet'), WindowsPath('C:/Users/Dmitrijs/Documents/myDocs/masters/courses/thesis/code/data/keywords_2/merged/root-project.root.v6-32-06.docs.pt_21.parquet'), WindowsPath('C:/Users/Dmitrijs/Documents/myDocs/masters/courses/thesis/code/data/keywords_2/merged/root-project.root.v6-32-06.docs.pt_22.parquet'), WindowsPath('C:/Users/Dmitrijs/Documents/myDocs/masters/courses/thesis/code/data/keywords_2/merged/root-project.root.v6-32-06.docs.pt_23.parquet'), WindowsPath('C:/Users/Dmitrijs/Documents/myDocs/masters/courses/thesis/code/data/keywords_2/merged/root-project.root.v6-32-06.docs.pt_24.parquet'), WindowsPath('C:/Users/Dmitrijs/Documents/myDocs/masters/courses/thesis/code/data/keywords_2/merged/root-project.root.v6-32-06.docs.pt_25.parquet'), WindowsPath('C:/Users/Dmitrijs/Documents/myDocs/masters/courses/thesis/code/data/keywords_2/merged/root-project.root.v6-32-06.docs.pt_26.parquet'), WindowsPath('C:/Users/Dmitrijs/Documents/myDocs/masters/courses/thesis/code/data/keywords_2/merged/root-project.root.v6-32-06.docs.pt_27.parquet'), WindowsPath('C:/Users/Dmitrijs/Documents/myDocs/masters/courses/thesis/code/data/keywords_2/merged/root-project.root.v6-32-06.docs.pt_28.parquet'), WindowsPath('C:/Users/Dmitrijs/Documents/myDocs/masters/courses/thesis/code/data/keywords_2/merged/root-project.root.v6-32-06.docs.pt_29.parquet'), WindowsPath('C:/Users/Dmitrijs/Documents/myDocs/masters/courses/thesis/code/data/keywords_2/merged/root-project.root.v6-32-06.docs.pt_30.parquet'), WindowsPath('C:/Users/Dmitrijs/Documents/myDocs/masters/courses/thesis/code/data/keywords_2/merged/root-project.root.v6-32-06.docs.pt_31.parquet'), WindowsPath('C:/Users/Dmitrijs/Documents/myDocs/masters/courses/thesis/code/data/keywords_2/merged/root-project.root.v6-32-06.docs.pt_32.parquet'), WindowsPath('C:/Users/Dmitrijs/Documents/myDocs/masters/courses/thesis/code/data/keywords_2/merged/root-project.root.v6-32-06.docs.pt_33.parquet'), WindowsPath('C:/Users/Dmitrijs/Documents/myDocs/masters/courses/thesis/code/data/keywords_2/merged/root-project.root.v6-32-06.docs.pt_34.parquet'), WindowsPath('C:/Users/Dmitrijs/Documents/myDocs/masters/courses/thesis/code/data/keywords_2/merged/root-project.root.v6-32-06.docs.pt_35.parquet'), WindowsPath('C:/Users/Dmitrijs/Documents/myDocs/masters/courses/thesis/code/data/keywords_2/merged/root-project.root.v6-32-06.docs.pt_36.parquet'), WindowsPath('C:/Users/Dmitrijs/Documents/myDocs/masters/courses/thesis/code/data/keywords_2/merged/root-project.root.v6-32-06.docs.pt_37.parquet'), WindowsPath('C:/Users/Dmitrijs/Documents/myDocs/masters/courses/thesis/code/data/keywords_2/merged/root-project.root.v6-32-06.docs.pt_38.parquet'), WindowsPath('C:/Users/Dmitrijs/Documents/myDocs/masters/courses/thesis/code/data/keywords_2/merged/root-project.root.v6-32-06.docs.pt_39.parquet'), WindowsPath('C:/Users/Dmitrijs/Documents/myDocs/masters/courses/thesis/code/data/keywords_2/merged/root-project.root.v6-32-06.docs.pt_40.parquet'), WindowsPath('C:/Users/Dmitrijs/Documents/myDocs/masters/courses/thesis/code/data/keywords_2/merged/root-project.root.v6-32-06.docs.pt_41.parquet'), WindowsPath('C:/Users/Dmitrijs/Documents/myDocs/masters/courses/thesis/code/data/keywords_2/merged/root-project.root.v6-32-06.docs.pt_42.parquet'), WindowsPath('C:/Users/Dmitrijs/Documents/myDocs/masters/courses/thesis/code/data/keywords_2/merged/root-project.root.v6-32-06.docs.pt_43.parquet'), WindowsPath('C:/Users/Dmitrijs/Documents/myDocs/masters/courses/thesis/code/data/keywords_2/merged/root-project.root.v6-32-06.docs.pt_44.parquet'), WindowsPath('C:/Users/Dmitrijs/Documents/myDocs/masters/courses/thesis/code/data/keywords_2/merged/root-project.root.v6-32-06.docs.pt_45.parquet'), WindowsPath('C:/Users/Dmitrijs/Documents/myDocs/masters/courses/thesis/code/data/keywords_2/merged/root-project.root.v6-32-06.docs.pt_46.parquet'), WindowsPath('C:/Users/Dmitrijs/Documents/myDocs/masters/courses/thesis/code/data/keywords_2/merged/root-project.root.v6-32-06.docs.pt_47.parquet'), WindowsPath('C:/Users/Dmitrijs/Documents/myDocs/masters/courses/thesis/code/data/keywords_2/merged/root-project.root.v6-32-06.docs.pt_48.parquet'), WindowsPath('C:/Users/Dmitrijs/Documents/myDocs/masters/courses/thesis/code/data/keywords_2/merged/root-project.root.v6-32-06.docs.pt_49.parquet'), WindowsPath('C:/Users/Dmitrijs/Documents/myDocs/masters/courses/thesis/code/data/keywords_2/merged/root-project.root.v6-32-06.issue.parquet'), WindowsPath('C:/Users/Dmitrijs/Documents/myDocs/masters/courses/thesis/code/data/keywords_2/merged/root-project.root.v6-32-06.issue.pt_02.parquet'), WindowsPath('C:/Users/Dmitrijs/Documents/myDocs/masters/courses/thesis/code/data/keywords_2/merged/root-project.root.v6-32-06.issue.pt_03.parquet'), WindowsPath('C:/Users/Dmitrijs/Documents/myDocs/masters/courses/thesis/code/data/keywords_2/merged/root-project.root.v6-32-06.issue.pt_04.parquet'), WindowsPath('C:/Users/Dmitrijs/Documents/myDocs/masters/courses/thesis/code/data/keywords_2/merged/root-project.root.v6-32-06.issue.pt_05.parquet'), WindowsPath('C:/Users/Dmitrijs/Documents/myDocs/masters/courses/thesis/code/data/keywords_2/merged/root-project.root.v6-32-06.issue.pt_06.parquet'), WindowsPath('C:/Users/Dmitrijs/Documents/myDocs/masters/courses/thesis/code/data/keywords_2/merged/root-project.root.v6-32-06.issue.pt_07.parquet'), WindowsPath('C:/Users/Dmitrijs/Documents/myDocs/masters/courses/thesis/code/data/keywords_2/merged/root-project.root.v6-32-06.issue.pt_08.parquet'), WindowsPath('C:/Users/Dmitrijs/Documents/myDocs/masters/courses/thesis/code/data/keywords_2/merged/root-project.root.v6-32-06.issue.pt_09.parquet'), WindowsPath('C:/Users/Dmitrijs/Documents/myDocs/masters/courses/thesis/code/data/keywords_2/merged/root-project.root.v6-32-06.issue.pt_10.parquet'), WindowsPath('C:/Users/Dmitrijs/Documents/myDocs/masters/courses/thesis/code/data/keywords_2/merged/root-project.root.v6-32-06.issue.pt_11.parquet'), WindowsPath('C:/Users/Dmitrijs/Documents/myDocs/masters/courses/thesis/code/data/keywords_2/merged/root-project.root.v6-32-06.issue.pt_12.parquet'), WindowsPath('C:/Users/Dmitrijs/Documents/myDocs/masters/courses/thesis/code/data/keywords_2/merged/root-project.root.v6-32-06.issue.pt_13.parquet'), WindowsPath('C:/Users/Dmitrijs/Documents/myDocs/masters/courses/thesis/code/data/keywords_2/merged/root-project.root.v6-32-06.issue.pt_14.parquet'), WindowsPath('C:/Users/Dmitrijs/Documents/myDocs/masters/courses/thesis/code/data/keywords_2/merged/root-project.root.v6-32-06.issue.pt_15.parquet'), WindowsPath('C:/Users/Dmitrijs/Documents/myDocs/masters/courses/thesis/code/data/keywords_2/merged/root-project.root.v6-32-06.issue.pt_16.parquet'), WindowsPath('C:/Users/Dmitrijs/Documents/myDocs/masters/courses/thesis/code/data/keywords_2/merged/root-project.root.v6-32-06.issue.pt_17.parquet'), WindowsPath('C:/Users/Dmitrijs/Documents/myDocs/masters/courses/thesis/code/data/keywords_2/merged/root-project.root.v6-32-06.issue.pt_18.parquet'), WindowsPath('C:/Users/Dmitrijs/Documents/myDocs/masters/courses/thesis/code/data/keywords_2/merged/root-project.root.v6-32-06.issue.pt_19.parquet'), WindowsPath('C:/Users/Dmitrijs/Documents/myDocs/masters/courses/thesis/code/data/keywords_2/merged/root-project.root.v6-32-06.issue.pt_20.parquet'), WindowsPath('C:/Users/Dmitrijs/Documents/myDocs/masters/courses/thesis/code/data/keywords_2/merged/root-project.root.v6-32-06.issue.pt_21.parquet'), WindowsPath('C:/Users/Dmitrijs/Documents/myDocs/masters/courses/thesis/code/data/keywords_2/merged/root-project.root.v6-32-06.issue.pt_22.parquet'), WindowsPath('C:/Users/Dmitrijs/Documents/myDocs/masters/courses/thesis/code/data/keywords_2/merged/root-project.root.v6-32-06.issue.pt_23.parquet'), WindowsPath('C:/Users/Dmitrijs/Documents/myDocs/masters/courses/thesis/code/data/keywords_2/merged/root-project.root.v6-32-06.issue.pt_24.parquet'), WindowsPath('C:/Users/Dmitrijs/Documents/myDocs/masters/courses/thesis/code/data/keywords_2/merged/root-project.root.v6-32-06.issue.pt_25.parquet'), WindowsPath('C:/Users/Dmitrijs/Documents/myDocs/masters/courses/thesis/code/data/keywords_2/merged/root-project.root.v6-32-06.issue.pt_26.parquet'), WindowsPath('C:/Users/Dmitrijs/Documents/myDocs/masters/courses/thesis/code/data/keywords_2/merged/root-project.root.v6-32-06.issue.pt_27.parquet'), WindowsPath('C:/Users/Dmitrijs/Documents/myDocs/masters/courses/thesis/code/data/keywords_2/merged/root-project.root.v6-32-06.issue.pt_28.parquet'), WindowsPath('C:/Users/Dmitrijs/Documents/myDocs/masters/courses/thesis/code/data/keywords_2/merged/root-project.root.v6-32-06.issue.pt_29.parquet'), WindowsPath('C:/Users/Dmitrijs/Documents/myDocs/masters/courses/thesis/code/data/keywords_2/merged/root-project.root.v6-32-06.issue.pt_30.parquet'), WindowsPath('C:/Users/Dmitrijs/Documents/myDocs/masters/courses/thesis/code/data/keywords_2/merged/root-project.root.v6-32-06.issue.pt_31.parquet'), WindowsPath('C:/Users/Dmitrijs/Documents/myDocs/masters/courses/thesis/code/data/keywords_2/merged/root-project.root.v6-32-06.issue.pt_32.parquet'), WindowsPath('C:/Users/Dmitrijs/Documents/myDocs/masters/courses/thesis/code/data/keywords_2/merged/root-project.root.v6-32-06.issue.pt_33.parquet'), WindowsPath('C:/Users/Dmitrijs/Documents/myDocs/masters/courses/thesis/code/data/keywords_2/merged/root-project.root.v6-32-06.issue_comment.parquet'), WindowsPath('C:/Users/Dmitrijs/Documents/myDocs/masters/courses/thesis/code/data/keywords_2/merged/root-project.root.v6-32-06.issue_comment.pt_02.parquet'), WindowsPath('C:/Users/Dmitrijs/Documents/myDocs/masters/courses/thesis/code/data/keywords_2/merged/root-project.root.v6-32-06.issue_comment.pt_03.parquet'), WindowsPath('C:/Users/Dmitrijs/Documents/myDocs/masters/courses/thesis/code/data/keywords_2/merged/root-project.root.v6-32-06.issue_comment.pt_04.parquet'), WindowsPath('C:/Users/Dmitrijs/Documents/myDocs/masters/courses/thesis/code/data/keywords_2/merged/root-project.root.v6-32-06.issue_comment.pt_05.parquet'), WindowsPath('C:/Users/Dmitrijs/Documents/myDocs/masters/courses/thesis/code/data/keywords_2/merged/root-project.root.v6-32-06.issue_comment.pt_06.parquet'), WindowsPath('C:/Users/Dmitrijs/Documents/myDocs/masters/courses/thesis/code/data/keywords_2/merged/root-project.root.v6-32-06.issue_comment.pt_07.parquet'), WindowsPath('C:/Users/Dmitrijs/Documents/myDocs/masters/courses/thesis/code/data/keywords_2/merged/root-project.root.v6-32-06.issue_comment.pt_08.parquet'), WindowsPath('C:/Users/Dmitrijs/Documents/myDocs/masters/courses/thesis/code/data/keywords_2/merged/root-project.root.v6-32-06.issue_comment.pt_09.parquet'), WindowsPath('C:/Users/Dmitrijs/Documents/myDocs/masters/courses/thesis/code/data/keywords_2/merged/root-project.root.v6-32-06.issue_comment.pt_10.parquet'), WindowsPath('C:/Users/Dmitrijs/Documents/myDocs/masters/courses/thesis/code/data/keywords_2/merged/root-project.root.v6-32-06.issue_comment.pt_11.parquet'), WindowsPath('C:/Users/Dmitrijs/Documents/myDocs/masters/courses/thesis/code/data/keywords_2/merged/root-project.root.v6-32-06.issue_comment.pt_12.parquet'), WindowsPath('C:/Users/Dmitrijs/Documents/myDocs/masters/courses/thesis/code/data/keywords_2/merged/root-project.root.v6-32-06.issue_comment.pt_13.parquet'), WindowsPath('C:/Users/Dmitrijs/Documents/myDocs/masters/courses/thesis/code/data/keywords_2/merged/root-project.root.v6-32-06.issue_comment.pt_14.parquet'), WindowsPath('C:/Users/Dmitrijs/Documents/myDocs/masters/courses/thesis/code/data/keywords_2/merged/root-project.root.v6-32-06.issue_comment.pt_15.parquet'), WindowsPath('C:/Users/Dmitrijs/Documents/myDocs/masters/courses/thesis/code/data/keywords_2/merged/root-project.root.v6-32-06.issue_comment.pt_16.parquet'), WindowsPath('C:/Users/Dmitrijs/Documents/myDocs/masters/courses/thesis/code/data/keywords_2/merged/root-project.root.v6-32-06.issue_comment.pt_17.parquet'), WindowsPath('C:/Users/Dmitrijs/Documents/myDocs/masters/courses/thesis/code/data/keywords_2/merged/root-project.root.v6-32-06.issue_comment.pt_18.parquet'), WindowsPath('C:/Users/Dmitrijs/Documents/myDocs/masters/courses/thesis/code/data/keywords_2/merged/root-project.root.v6-32-06.issue_comment.pt_19.parquet'), WindowsPath('C:/Users/Dmitrijs/Documents/myDocs/masters/courses/thesis/code/data/keywords_2/merged/root-project.root.v6-32-06.issue_comment.pt_20.parquet'), WindowsPath('C:/Users/Dmitrijs/Documents/myDocs/masters/courses/thesis/code/data/keywords_2/merged/root-project.root.v6-32-06.issue_comment.pt_21.parquet'), WindowsPath('C:/Users/Dmitrijs/Documents/myDocs/masters/courses/thesis/code/data/keywords_2/merged/root-project.root.v6-32-06.issue_comment.pt_22.parquet'), WindowsPath('C:/Users/Dmitrijs/Documents/myDocs/masters/courses/thesis/code/data/keywords_2/merged/root-project.root.v6-32-06.issue_comment.pt_23.parquet'), WindowsPath('C:/Users/Dmitrijs/Documents/myDocs/masters/courses/thesis/code/data/keywords_2/merged/root-project.root.v6-32-06.issue_comment.pt_24.parquet'), WindowsPath('C:/Users/Dmitrijs/Documents/myDocs/masters/courses/thesis/code/data/keywords_2/merged/root-project.root.v6-32-06.issue_comment.pt_25.parquet'), WindowsPath('C:/Users/Dmitrijs/Documents/myDocs/masters/courses/thesis/code/data/keywords_2/merged/root-project.root.v6-32-06.issue_comment.pt_26.parquet'), WindowsPath('C:/Users/Dmitrijs/Documents/myDocs/masters/courses/thesis/code/data/keywords_2/merged/root-project.root.v6-32-06.issue_comment.pt_27.parquet'), WindowsPath('C:/Users/Dmitrijs/Documents/myDocs/masters/courses/thesis/code/data/keywords_2/merged/root-project.root.v6-32-06.issue_comment.pt_28.parquet'), WindowsPath('C:/Users/Dmitrijs/Documents/myDocs/masters/courses/thesis/code/data/keywords_2/merged/root-project.root.v6-32-06.issue_comment.pt_29.parquet'), WindowsPath('C:/Users/Dmitrijs/Documents/myDocs/masters/courses/thesis/code/data/keywords_2/merged/root-project.root.v6-32-06.issue_comment.pt_30.parquet'), WindowsPath('C:/Users/Dmitrijs/Documents/myDocs/masters/courses/thesis/code/data/keywords_2/merged/root-project.root.v6-32-06.issue_comment.pt_31.parquet'), WindowsPath('C:/Users/Dmitrijs/Documents/myDocs/masters/courses/thesis/code/data/keywords_2/merged/root-project.root.v6-32-06.issue_comment.pt_32.parquet'), WindowsPath('C:/Users/Dmitrijs/Documents/myDocs/masters/courses/thesis/code/data/keywords_2/merged/root-project.root.v6-32-06.issue_comment.pt_33.parquet'), WindowsPath('C:/Users/Dmitrijs/Documents/myDocs/masters/courses/thesis/code/data/keywords_2/merged/root-project.root.v6-32-06.issue_comment.pt_34.parquet'), WindowsPath('C:/Users/Dmitrijs/Documents/myDocs/masters/courses/thesis/code/data/keywords_2/merged/root-project.root.v6-32-06.release.parquet'), WindowsPath('C:/Users/Dmitrijs/Documents/myDocs/masters/courses/thesis/code/data/keywords_2/merged/root-project.root.v6-32-06.wiki.parquet'), WindowsPath('C:/Users/Dmitrijs/Documents/myDocs/masters/courses/thesis/code/data/keywords_2/merged/root-project.root.v6-32-06.wiki.pt_2.parquet'), WindowsPath('C:/Users/Dmitrijs/Documents/myDocs/masters/courses/thesis/code/data/keywords_2/merged/scverse.scanpy.1.10.2.code_comment.parquet'), WindowsPath('C:/Users/Dmitrijs/Documents/myDocs/masters/courses/thesis/code/data/keywords_2/merged/scverse.scanpy.1.10.2.code_comment.pt_2.parquet'), WindowsPath('C:/Users/Dmitrijs/Documents/myDocs/masters/courses/thesis/code/data/keywords_2/merged/scverse.scanpy.1.10.2.docs.parquet'), WindowsPath('C:/Users/Dmitrijs/Documents/myDocs/masters/courses/thesis/code/data/keywords_2/merged/scverse.scanpy.1.10.2.issue.parquet'), WindowsPath('C:/Users/Dmitrijs/Documents/myDocs/masters/courses/thesis/code/data/keywords_2/merged/scverse.scanpy.1.10.2.issue.pt_2.parquet'), WindowsPath('C:/Users/Dmitrijs/Documents/myDocs/masters/courses/thesis/code/data/keywords_2/merged/scverse.scanpy.1.10.2.issue.pt_3.parquet'), WindowsPath('C:/Users/Dmitrijs/Documents/myDocs/masters/courses/thesis/code/data/keywords_2/merged/scverse.scanpy.1.10.2.issue.pt_4.parquet'), WindowsPath('C:/Users/Dmitrijs/Documents/myDocs/masters/courses/thesis/code/data/keywords_2/merged/scverse.scanpy.1.10.2.issue.pt_5.parquet'), WindowsPath('C:/Users/Dmitrijs/Documents/myDocs/masters/courses/thesis/code/data/keywords_2/merged/scverse.scanpy.1.10.2.issue.pt_6.parquet'), WindowsPath('C:/Users/Dmitrijs/Documents/myDocs/masters/courses/thesis/code/data/keywords_2/merged/scverse.scanpy.1.10.2.issue.pt_7.parquet'), WindowsPath('C:/Users/Dmitrijs/Documents/myDocs/masters/courses/thesis/code/data/keywords_2/merged/scverse.scanpy.1.10.2.issue.pt_8.parquet'), WindowsPath('C:/Users/Dmitrijs/Documents/myDocs/masters/courses/thesis/code/data/keywords_2/merged/scverse.scanpy.1.10.2.issue.pt_9.parquet'), WindowsPath('C:/Users/Dmitrijs/Documents/myDocs/masters/courses/thesis/code/data/keywords_2/merged/scverse.scanpy.1.10.2.issue_comment.parquet'), WindowsPath('C:/Users/Dmitrijs/Documents/myDocs/masters/courses/thesis/code/data/keywords_2/merged/scverse.scanpy.1.10.2.issue_comment.pt_02.parquet'), WindowsPath('C:/Users/Dmitrijs/Documents/myDocs/masters/courses/thesis/code/data/keywords_2/merged/scverse.scanpy.1.10.2.issue_comment.pt_03.parquet'), WindowsPath('C:/Users/Dmitrijs/Documents/myDocs/masters/courses/thesis/code/data/keywords_2/merged/scverse.scanpy.1.10.2.issue_comment.pt_04.parquet'), WindowsPath('C:/Users/Dmitrijs/Documents/myDocs/masters/courses/thesis/code/data/keywords_2/merged/scverse.scanpy.1.10.2.issue_comment.pt_05.parquet'), WindowsPath('C:/Users/Dmitrijs/Documents/myDocs/masters/courses/thesis/code/data/keywords_2/merged/scverse.scanpy.1.10.2.issue_comment.pt_06.parquet'), WindowsPath('C:/Users/Dmitrijs/Documents/myDocs/masters/courses/thesis/code/data/keywords_2/merged/scverse.scanpy.1.10.2.issue_comment.pt_07.parquet'), WindowsPath('C:/Users/Dmitrijs/Documents/myDocs/masters/courses/thesis/code/data/keywords_2/merged/scverse.scanpy.1.10.2.issue_comment.pt_08.parquet'), WindowsPath('C:/Users/Dmitrijs/Documents/myDocs/masters/courses/thesis/code/data/keywords_2/merged/scverse.scanpy.1.10.2.issue_comment.pt_09.parquet'), WindowsPath('C:/Users/Dmitrijs/Documents/myDocs/masters/courses/thesis/code/data/keywords_2/merged/scverse.scanpy.1.10.2.issue_comment.pt_10.parquet'), WindowsPath('C:/Users/Dmitrijs/Documents/myDocs/masters/courses/thesis/code/data/keywords_2/merged/scverse.scanpy.1.10.2.issue_comment.pt_11.parquet'), WindowsPath('C:/Users/Dmitrijs/Documents/myDocs/masters/courses/thesis/code/data/keywords_2/merged/scverse.scanpy.1.10.2.wiki.parquet'), WindowsPath('C:/Users/Dmitrijs/Documents/myDocs/masters/courses/thesis/code/data/keywords_2/merged/scverse.scanpy.1.10.2.wiki.pt_2.parquet')]\n"
     ]
    }
   ],
   "execution_count": 2
  },
  {
   "metadata": {
    "ExecuteTime": {
     "end_time": "2025-08-28T09:17:51.312606Z",
     "start_time": "2025-08-28T09:17:51.302518Z"
    }
   },
   "cell_type": "code",
   "source": "df.shape",
   "id": "18b7bfabeeef4b1b",
   "outputs": [
    {
     "data": {
      "text/plain": [
       "(1601472, 15)"
      ]
     },
     "execution_count": 3,
     "metadata": {},
     "output_type": "execute_result"
    }
   ],
   "execution_count": 3
  },
  {
   "metadata": {
    "ExecuteTime": {
     "end_time": "2025-08-28T09:17:51.374614Z",
     "start_time": "2025-08-28T09:17:51.350054Z"
    }
   },
   "cell_type": "code",
   "source": "df.head(5)",
   "id": "f27c596c078f280e",
   "outputs": [
    {
     "data": {
      "text/plain": [
       "   keyword                                           sentence            qa  \\\n",
       "0     down  Given something that might be a URL (or might ...  availability   \n",
       "1     down  Given a URL, look for the corresponding datase...  availability   \n",
       "2     down  Download to temporary file, then copy to cache...  availability   \n",
       "3    avail  A candidate generator for entity linking to a ...  availability   \n",
       "4  consist  A spacy pipeline component which identifies en...  availability   \n",
       "\n",
       "         source                                                url  \\\n",
       "0  code_comment  https://github.com/allenai/scispacy/tree/v0.5....   \n",
       "1  code_comment  https://github.com/allenai/scispacy/tree/v0.5....   \n",
       "2  code_comment  https://github.com/allenai/scispacy/tree/v0.5....   \n",
       "3  code_comment  https://github.com/allenai/scispacy/tree/v0.5....   \n",
       "4  code_comment  https://github.com/allenai/scispacy/tree/v0.5....   \n",
       "\n",
       "                   repo_id matched_word  nsimilar  prefilter_passed  \\\n",
       "0  allenai/scispacy/v0.5.5     download         1              True   \n",
       "1  allenai/scispacy/v0.5.5     download         1              True   \n",
       "2  allenai/scispacy/v0.5.5     download         2              True   \n",
       "3  allenai/scispacy/v0.5.5    available         1              True   \n",
       "4  allenai/scispacy/v0.5.5     consists         1              True   \n",
       "\n",
       "   s0_passed  s1_passed  s2_passed  s3_passed s3_tactic s3_tactic_category  \n",
       "0       True       True      False      False       NaN                NaN  \n",
       "1      False      False      False      False       NaN                NaN  \n",
       "2       True       True       True      False      None                NaN  \n",
       "3       True      False      False      False       NaN                NaN  \n",
       "4      False      False      False      False       NaN                NaN  "
      ],
      "text/html": [
       "<div>\n",
       "<style scoped>\n",
       "    .dataframe tbody tr th:only-of-type {\n",
       "        vertical-align: middle;\n",
       "    }\n",
       "\n",
       "    .dataframe tbody tr th {\n",
       "        vertical-align: top;\n",
       "    }\n",
       "\n",
       "    .dataframe thead th {\n",
       "        text-align: right;\n",
       "    }\n",
       "</style>\n",
       "<table border=\"1\" class=\"dataframe\">\n",
       "  <thead>\n",
       "    <tr style=\"text-align: right;\">\n",
       "      <th></th>\n",
       "      <th>keyword</th>\n",
       "      <th>sentence</th>\n",
       "      <th>qa</th>\n",
       "      <th>source</th>\n",
       "      <th>url</th>\n",
       "      <th>repo_id</th>\n",
       "      <th>matched_word</th>\n",
       "      <th>nsimilar</th>\n",
       "      <th>prefilter_passed</th>\n",
       "      <th>s0_passed</th>\n",
       "      <th>s1_passed</th>\n",
       "      <th>s2_passed</th>\n",
       "      <th>s3_passed</th>\n",
       "      <th>s3_tactic</th>\n",
       "      <th>s3_tactic_category</th>\n",
       "    </tr>\n",
       "  </thead>\n",
       "  <tbody>\n",
       "    <tr>\n",
       "      <th>0</th>\n",
       "      <td>down</td>\n",
       "      <td>Given something that might be a URL (or might ...</td>\n",
       "      <td>availability</td>\n",
       "      <td>code_comment</td>\n",
       "      <td>https://github.com/allenai/scispacy/tree/v0.5....</td>\n",
       "      <td>allenai/scispacy/v0.5.5</td>\n",
       "      <td>download</td>\n",
       "      <td>1</td>\n",
       "      <td>True</td>\n",
       "      <td>True</td>\n",
       "      <td>True</td>\n",
       "      <td>False</td>\n",
       "      <td>False</td>\n",
       "      <td>NaN</td>\n",
       "      <td>NaN</td>\n",
       "    </tr>\n",
       "    <tr>\n",
       "      <th>1</th>\n",
       "      <td>down</td>\n",
       "      <td>Given a URL, look for the corresponding datase...</td>\n",
       "      <td>availability</td>\n",
       "      <td>code_comment</td>\n",
       "      <td>https://github.com/allenai/scispacy/tree/v0.5....</td>\n",
       "      <td>allenai/scispacy/v0.5.5</td>\n",
       "      <td>download</td>\n",
       "      <td>1</td>\n",
       "      <td>True</td>\n",
       "      <td>False</td>\n",
       "      <td>False</td>\n",
       "      <td>False</td>\n",
       "      <td>False</td>\n",
       "      <td>NaN</td>\n",
       "      <td>NaN</td>\n",
       "    </tr>\n",
       "    <tr>\n",
       "      <th>2</th>\n",
       "      <td>down</td>\n",
       "      <td>Download to temporary file, then copy to cache...</td>\n",
       "      <td>availability</td>\n",
       "      <td>code_comment</td>\n",
       "      <td>https://github.com/allenai/scispacy/tree/v0.5....</td>\n",
       "      <td>allenai/scispacy/v0.5.5</td>\n",
       "      <td>download</td>\n",
       "      <td>2</td>\n",
       "      <td>True</td>\n",
       "      <td>True</td>\n",
       "      <td>True</td>\n",
       "      <td>True</td>\n",
       "      <td>False</td>\n",
       "      <td>None</td>\n",
       "      <td>NaN</td>\n",
       "    </tr>\n",
       "    <tr>\n",
       "      <th>3</th>\n",
       "      <td>avail</td>\n",
       "      <td>A candidate generator for entity linking to a ...</td>\n",
       "      <td>availability</td>\n",
       "      <td>code_comment</td>\n",
       "      <td>https://github.com/allenai/scispacy/tree/v0.5....</td>\n",
       "      <td>allenai/scispacy/v0.5.5</td>\n",
       "      <td>available</td>\n",
       "      <td>1</td>\n",
       "      <td>True</td>\n",
       "      <td>True</td>\n",
       "      <td>False</td>\n",
       "      <td>False</td>\n",
       "      <td>False</td>\n",
       "      <td>NaN</td>\n",
       "      <td>NaN</td>\n",
       "    </tr>\n",
       "    <tr>\n",
       "      <th>4</th>\n",
       "      <td>consist</td>\n",
       "      <td>A spacy pipeline component which identifies en...</td>\n",
       "      <td>availability</td>\n",
       "      <td>code_comment</td>\n",
       "      <td>https://github.com/allenai/scispacy/tree/v0.5....</td>\n",
       "      <td>allenai/scispacy/v0.5.5</td>\n",
       "      <td>consists</td>\n",
       "      <td>1</td>\n",
       "      <td>True</td>\n",
       "      <td>False</td>\n",
       "      <td>False</td>\n",
       "      <td>False</td>\n",
       "      <td>False</td>\n",
       "      <td>NaN</td>\n",
       "      <td>NaN</td>\n",
       "    </tr>\n",
       "  </tbody>\n",
       "</table>\n",
       "</div>"
      ]
     },
     "execution_count": 4,
     "metadata": {},
     "output_type": "execute_result"
    }
   ],
   "execution_count": 4
  },
  {
   "metadata": {
    "ExecuteTime": {
     "end_time": "2025-08-28T09:17:51.625715Z",
     "start_time": "2025-08-28T09:17:51.616890Z"
    }
   },
   "cell_type": "code",
   "source": [
    "# df = df[~df.repo_id.str.contains(\"root-project\")]\n",
    "# df.shape"
   ],
   "id": "5595848bac90755f",
   "outputs": [],
   "execution_count": 5
  },
  {
   "metadata": {},
   "cell_type": "markdown",
   "source": "## Overview",
   "id": "736777294daa4e12"
  },
  {
   "metadata": {
    "ExecuteTime": {
     "end_time": "2025-08-28T09:17:51.785758Z",
     "start_time": "2025-08-28T09:17:51.724598Z"
    }
   },
   "cell_type": "code",
   "source": "df[df.s3_passed == True].sample(10)",
   "id": "4200522ab629e958",
   "outputs": [
    {
     "data": {
      "text/plain": [
       "          keyword                                           sentence  \\\n",
       "990308   translat   c. typedef struct {. Elf_Word cgp_from;. Elf_...   \n",
       "328760      state  ParseStmt.cpp - Statement and Block Parser Par...   \n",
       "1579895     compl  Hi Alex! Sorry for this long delay, I just for...   \n",
       "1177564     updat  [CMake] Update XRootD builtin to version 5.5.2...   \n",
       "387107     semant  In the case of a split sub object is TClonesAr...   \n",
       "845299      close  The order in the returned sequence is the orde...   \n",
       "1499049    releas  parquet support for visium HD; <!--. Thanks fo...   \n",
       "1179233   version  Make TBufferMerger agnostic about users model ...   \n",
       "600815     except  MipsELFStreamer.h - ELF Object Output --------...   \n",
       "776804     depend  Did we discover that the shuffle does not actu...   \n",
       "\n",
       "                       qa         source  \\\n",
       "990308   interoperability           docs   \n",
       "328760      integrability   code_comment   \n",
       "1579895          security  issue_comment   \n",
       "1177564     deployability          issue   \n",
       "387107   interoperability   code_comment   \n",
       "845299          usability   code_comment   \n",
       "1499049     deployability          issue   \n",
       "1179233     deployability          issue   \n",
       "600815             safety   code_comment   \n",
       "776804        testability   code_comment   \n",
       "\n",
       "                                                       url  \\\n",
       "990308   https://github.com/root-project/root/tree/v6-3...   \n",
       "328760   https://github.com/root-project/root/tree/v6-3...   \n",
       "1579895       https://github.com/scverse/scanpy/issues/346   \n",
       "1177564    https://github.com/root-project/root/pull/12247   \n",
       "387107   https://github.com/root-project/root/tree/v6-3...   \n",
       "845299   https://github.com/root-project/root/tree/v6-3...   \n",
       "1499049        https://github.com/scverse/scanpy/pull/2992   \n",
       "1179233     https://github.com/root-project/root/pull/2245   \n",
       "600815   https://github.com/root-project/root/tree/v6-3...   \n",
       "776804   https://github.com/root-project/root/tree/v6-3...   \n",
       "\n",
       "                            repo_id matched_word  nsimilar  prefilter_passed  \\\n",
       "990308   root-project/root/v6-32-06  translation         1              True   \n",
       "328760   root-project/root/v6-32-06    statement         2              True   \n",
       "1579895       scverse/scanpy/1.10.2   completely         1              True   \n",
       "1177564  root-project/root/v6-32-06       update         1              True   \n",
       "387107   root-project/root/v6-32-06     semantic         1              True   \n",
       "845299   root-project/root/v6-32-06      closest         1              True   \n",
       "1499049       scverse/scanpy/1.10.2      release         2              True   \n",
       "1179233  root-project/root/v6-32-06      version         1              True   \n",
       "600815   root-project/root/v6-32-06   exceptions         1              True   \n",
       "776804   root-project/root/v6-32-06       depend         1              True   \n",
       "\n",
       "         s0_passed  s1_passed  s2_passed  s3_passed  \\\n",
       "990308        True       True       True       True   \n",
       "328760        True       True       True       True   \n",
       "1579895       True       True       True       True   \n",
       "1177564       True       True       True       True   \n",
       "387107        True       True       True       True   \n",
       "845299        True       True       True       True   \n",
       "1499049       True       True       True       True   \n",
       "1179233       True       True       True       True   \n",
       "600815        True       True       True       True   \n",
       "776804        True       True       True       True   \n",
       "\n",
       "                           s3_tactic                s3_tactic_category  \n",
       "990308              Discover Service                            Locate  \n",
       "328760              Discover Service                            Locate  \n",
       "1579895      Change Default Settings                    Resist Attacks  \n",
       "1177564                 Split Module           Reduce Size of a Module  \n",
       "387107        Localize State Storage  Control and Observe System State  \n",
       "845299             Separate Entities                    Resist Attacks  \n",
       "1499049                  Encapsulate       Separate the User Interface  \n",
       "1179233                 Split Module           Reduce Size of a Module  \n",
       "600815          Condition Monitoring                     Detect Faults  \n",
       "776804   Limit Structural Complexity                  Limit Complexity  "
      ],
      "text/html": [
       "<div>\n",
       "<style scoped>\n",
       "    .dataframe tbody tr th:only-of-type {\n",
       "        vertical-align: middle;\n",
       "    }\n",
       "\n",
       "    .dataframe tbody tr th {\n",
       "        vertical-align: top;\n",
       "    }\n",
       "\n",
       "    .dataframe thead th {\n",
       "        text-align: right;\n",
       "    }\n",
       "</style>\n",
       "<table border=\"1\" class=\"dataframe\">\n",
       "  <thead>\n",
       "    <tr style=\"text-align: right;\">\n",
       "      <th></th>\n",
       "      <th>keyword</th>\n",
       "      <th>sentence</th>\n",
       "      <th>qa</th>\n",
       "      <th>source</th>\n",
       "      <th>url</th>\n",
       "      <th>repo_id</th>\n",
       "      <th>matched_word</th>\n",
       "      <th>nsimilar</th>\n",
       "      <th>prefilter_passed</th>\n",
       "      <th>s0_passed</th>\n",
       "      <th>s1_passed</th>\n",
       "      <th>s2_passed</th>\n",
       "      <th>s3_passed</th>\n",
       "      <th>s3_tactic</th>\n",
       "      <th>s3_tactic_category</th>\n",
       "    </tr>\n",
       "  </thead>\n",
       "  <tbody>\n",
       "    <tr>\n",
       "      <th>990308</th>\n",
       "      <td>translat</td>\n",
       "      <td>c. typedef struct {. Elf_Word cgp_from;. Elf_...</td>\n",
       "      <td>interoperability</td>\n",
       "      <td>docs</td>\n",
       "      <td>https://github.com/root-project/root/tree/v6-3...</td>\n",
       "      <td>root-project/root/v6-32-06</td>\n",
       "      <td>translation</td>\n",
       "      <td>1</td>\n",
       "      <td>True</td>\n",
       "      <td>True</td>\n",
       "      <td>True</td>\n",
       "      <td>True</td>\n",
       "      <td>True</td>\n",
       "      <td>Discover Service</td>\n",
       "      <td>Locate</td>\n",
       "    </tr>\n",
       "    <tr>\n",
       "      <th>328760</th>\n",
       "      <td>state</td>\n",
       "      <td>ParseStmt.cpp - Statement and Block Parser Par...</td>\n",
       "      <td>integrability</td>\n",
       "      <td>code_comment</td>\n",
       "      <td>https://github.com/root-project/root/tree/v6-3...</td>\n",
       "      <td>root-project/root/v6-32-06</td>\n",
       "      <td>statement</td>\n",
       "      <td>2</td>\n",
       "      <td>True</td>\n",
       "      <td>True</td>\n",
       "      <td>True</td>\n",
       "      <td>True</td>\n",
       "      <td>True</td>\n",
       "      <td>Discover Service</td>\n",
       "      <td>Locate</td>\n",
       "    </tr>\n",
       "    <tr>\n",
       "      <th>1579895</th>\n",
       "      <td>compl</td>\n",
       "      <td>Hi Alex! Sorry for this long delay, I just for...</td>\n",
       "      <td>security</td>\n",
       "      <td>issue_comment</td>\n",
       "      <td>https://github.com/scverse/scanpy/issues/346</td>\n",
       "      <td>scverse/scanpy/1.10.2</td>\n",
       "      <td>completely</td>\n",
       "      <td>1</td>\n",
       "      <td>True</td>\n",
       "      <td>True</td>\n",
       "      <td>True</td>\n",
       "      <td>True</td>\n",
       "      <td>True</td>\n",
       "      <td>Change Default Settings</td>\n",
       "      <td>Resist Attacks</td>\n",
       "    </tr>\n",
       "    <tr>\n",
       "      <th>1177564</th>\n",
       "      <td>updat</td>\n",
       "      <td>[CMake] Update XRootD builtin to version 5.5.2...</td>\n",
       "      <td>deployability</td>\n",
       "      <td>issue</td>\n",
       "      <td>https://github.com/root-project/root/pull/12247</td>\n",
       "      <td>root-project/root/v6-32-06</td>\n",
       "      <td>update</td>\n",
       "      <td>1</td>\n",
       "      <td>True</td>\n",
       "      <td>True</td>\n",
       "      <td>True</td>\n",
       "      <td>True</td>\n",
       "      <td>True</td>\n",
       "      <td>Split Module</td>\n",
       "      <td>Reduce Size of a Module</td>\n",
       "    </tr>\n",
       "    <tr>\n",
       "      <th>387107</th>\n",
       "      <td>semant</td>\n",
       "      <td>In the case of a split sub object is TClonesAr...</td>\n",
       "      <td>interoperability</td>\n",
       "      <td>code_comment</td>\n",
       "      <td>https://github.com/root-project/root/tree/v6-3...</td>\n",
       "      <td>root-project/root/v6-32-06</td>\n",
       "      <td>semantic</td>\n",
       "      <td>1</td>\n",
       "      <td>True</td>\n",
       "      <td>True</td>\n",
       "      <td>True</td>\n",
       "      <td>True</td>\n",
       "      <td>True</td>\n",
       "      <td>Localize State Storage</td>\n",
       "      <td>Control and Observe System State</td>\n",
       "    </tr>\n",
       "    <tr>\n",
       "      <th>845299</th>\n",
       "      <td>close</td>\n",
       "      <td>The order in the returned sequence is the orde...</td>\n",
       "      <td>usability</td>\n",
       "      <td>code_comment</td>\n",
       "      <td>https://github.com/root-project/root/tree/v6-3...</td>\n",
       "      <td>root-project/root/v6-32-06</td>\n",
       "      <td>closest</td>\n",
       "      <td>1</td>\n",
       "      <td>True</td>\n",
       "      <td>True</td>\n",
       "      <td>True</td>\n",
       "      <td>True</td>\n",
       "      <td>True</td>\n",
       "      <td>Separate Entities</td>\n",
       "      <td>Resist Attacks</td>\n",
       "    </tr>\n",
       "    <tr>\n",
       "      <th>1499049</th>\n",
       "      <td>releas</td>\n",
       "      <td>parquet support for visium HD; &lt;!--. Thanks fo...</td>\n",
       "      <td>deployability</td>\n",
       "      <td>issue</td>\n",
       "      <td>https://github.com/scverse/scanpy/pull/2992</td>\n",
       "      <td>scverse/scanpy/1.10.2</td>\n",
       "      <td>release</td>\n",
       "      <td>2</td>\n",
       "      <td>True</td>\n",
       "      <td>True</td>\n",
       "      <td>True</td>\n",
       "      <td>True</td>\n",
       "      <td>True</td>\n",
       "      <td>Encapsulate</td>\n",
       "      <td>Separate the User Interface</td>\n",
       "    </tr>\n",
       "    <tr>\n",
       "      <th>1179233</th>\n",
       "      <td>version</td>\n",
       "      <td>Make TBufferMerger agnostic about users model ...</td>\n",
       "      <td>deployability</td>\n",
       "      <td>issue</td>\n",
       "      <td>https://github.com/root-project/root/pull/2245</td>\n",
       "      <td>root-project/root/v6-32-06</td>\n",
       "      <td>version</td>\n",
       "      <td>1</td>\n",
       "      <td>True</td>\n",
       "      <td>True</td>\n",
       "      <td>True</td>\n",
       "      <td>True</td>\n",
       "      <td>True</td>\n",
       "      <td>Split Module</td>\n",
       "      <td>Reduce Size of a Module</td>\n",
       "    </tr>\n",
       "    <tr>\n",
       "      <th>600815</th>\n",
       "      <td>except</td>\n",
       "      <td>MipsELFStreamer.h - ELF Object Output --------...</td>\n",
       "      <td>safety</td>\n",
       "      <td>code_comment</td>\n",
       "      <td>https://github.com/root-project/root/tree/v6-3...</td>\n",
       "      <td>root-project/root/v6-32-06</td>\n",
       "      <td>exceptions</td>\n",
       "      <td>1</td>\n",
       "      <td>True</td>\n",
       "      <td>True</td>\n",
       "      <td>True</td>\n",
       "      <td>True</td>\n",
       "      <td>True</td>\n",
       "      <td>Condition Monitoring</td>\n",
       "      <td>Detect Faults</td>\n",
       "    </tr>\n",
       "    <tr>\n",
       "      <th>776804</th>\n",
       "      <td>depend</td>\n",
       "      <td>Did we discover that the shuffle does not actu...</td>\n",
       "      <td>testability</td>\n",
       "      <td>code_comment</td>\n",
       "      <td>https://github.com/root-project/root/tree/v6-3...</td>\n",
       "      <td>root-project/root/v6-32-06</td>\n",
       "      <td>depend</td>\n",
       "      <td>1</td>\n",
       "      <td>True</td>\n",
       "      <td>True</td>\n",
       "      <td>True</td>\n",
       "      <td>True</td>\n",
       "      <td>True</td>\n",
       "      <td>Limit Structural Complexity</td>\n",
       "      <td>Limit Complexity</td>\n",
       "    </tr>\n",
       "  </tbody>\n",
       "</table>\n",
       "</div>"
      ]
     },
     "execution_count": 6,
     "metadata": {},
     "output_type": "execute_result"
    }
   ],
   "execution_count": 6
  },
  {
   "metadata": {
    "ExecuteTime": {
     "end_time": "2025-08-28T09:17:52.049824Z",
     "start_time": "2025-08-28T09:17:52.034772Z"
    }
   },
   "cell_type": "code",
   "source": "df.columns",
   "id": "9d9b5933f3c8d2db",
   "outputs": [
    {
     "data": {
      "text/plain": [
       "Index(['keyword', 'sentence', 'qa', 'source', 'url', 'repo_id', 'matched_word',\n",
       "       'nsimilar', 'prefilter_passed', 's0_passed', 's1_passed', 's2_passed',\n",
       "       's3_passed', 's3_tactic', 's3_tactic_category'],\n",
       "      dtype='object')"
      ]
     },
     "execution_count": 7,
     "metadata": {},
     "output_type": "execute_result"
    }
   ],
   "execution_count": 7
  },
  {
   "metadata": {
    "ExecuteTime": {
     "end_time": "2025-08-28T09:17:52.777513Z",
     "start_time": "2025-08-28T09:17:52.256671Z"
    }
   },
   "cell_type": "code",
   "source": "df.info()",
   "id": "19d3a1ec582374ae",
   "outputs": [
    {
     "name": "stdout",
     "output_type": "stream",
     "text": [
      "<class 'pandas.core.frame.DataFrame'>\n",
      "RangeIndex: 1601472 entries, 0 to 1601471\n",
      "Data columns (total 15 columns):\n",
      " #   Column              Non-Null Count    Dtype   \n",
      "---  ------              --------------    -----   \n",
      " 0   keyword             1601472 non-null  category\n",
      " 1   sentence            1601472 non-null  string  \n",
      " 2   qa                  1601472 non-null  category\n",
      " 3   source              1601472 non-null  category\n",
      " 4   url                 1601472 non-null  string  \n",
      " 5   repo_id             1601472 non-null  category\n",
      " 6   matched_word        1601472 non-null  string  \n",
      " 7   nsimilar            1601472 non-null  int64   \n",
      " 8   prefilter_passed    1601472 non-null  bool    \n",
      " 9   s0_passed           1601472 non-null  bool    \n",
      " 10  s1_passed           1601472 non-null  bool    \n",
      " 11  s2_passed           1601472 non-null  bool    \n",
      " 12  s3_passed           1601472 non-null  bool    \n",
      " 13  s3_tactic           75073 non-null    category\n",
      " 14  s3_tactic_category  46647 non-null    category\n",
      "dtypes: bool(5), category(6), int64(1), string(3)\n",
      "memory usage: 67.2 MB\n"
     ]
    }
   ],
   "execution_count": 8
  },
  {
   "metadata": {},
   "cell_type": "markdown",
   "source": "# Data funnel",
   "id": "cc0af853dea9af5f"
  },
  {
   "metadata": {
    "ExecuteTime": {
     "end_time": "2025-08-28T09:17:53.544273Z",
     "start_time": "2025-08-28T09:17:52.968225Z"
    }
   },
   "cell_type": "code",
   "source": [
    "df_grouped = df.groupby(['prefilter_passed',\n",
    "       's0_passed', 's1_passed', 's2_passed', 's3_passed']).nsimilar.agg(\"sum\")\n",
    "df_grouped = pd.DataFrame(df_grouped).reset_index()\n",
    "df_grouped"
   ],
   "id": "8286b8f01706af98",
   "outputs": [
    {
     "data": {
      "text/plain": [
       "   prefilter_passed  s0_passed  s1_passed  s2_passed  s3_passed  nsimilar\n",
       "0             False      False      False      False      False    103326\n",
       "1              True      False      False      False      False   1220672\n",
       "2              True       True      False      False      False    290264\n",
       "3              True       True       True      False      False     10726\n",
       "4              True       True       True       True      False    310531\n",
       "5              True       True       True       True       True     59331"
      ],
      "text/html": [
       "<div>\n",
       "<style scoped>\n",
       "    .dataframe tbody tr th:only-of-type {\n",
       "        vertical-align: middle;\n",
       "    }\n",
       "\n",
       "    .dataframe tbody tr th {\n",
       "        vertical-align: top;\n",
       "    }\n",
       "\n",
       "    .dataframe thead th {\n",
       "        text-align: right;\n",
       "    }\n",
       "</style>\n",
       "<table border=\"1\" class=\"dataframe\">\n",
       "  <thead>\n",
       "    <tr style=\"text-align: right;\">\n",
       "      <th></th>\n",
       "      <th>prefilter_passed</th>\n",
       "      <th>s0_passed</th>\n",
       "      <th>s1_passed</th>\n",
       "      <th>s2_passed</th>\n",
       "      <th>s3_passed</th>\n",
       "      <th>nsimilar</th>\n",
       "    </tr>\n",
       "  </thead>\n",
       "  <tbody>\n",
       "    <tr>\n",
       "      <th>0</th>\n",
       "      <td>False</td>\n",
       "      <td>False</td>\n",
       "      <td>False</td>\n",
       "      <td>False</td>\n",
       "      <td>False</td>\n",
       "      <td>103326</td>\n",
       "    </tr>\n",
       "    <tr>\n",
       "      <th>1</th>\n",
       "      <td>True</td>\n",
       "      <td>False</td>\n",
       "      <td>False</td>\n",
       "      <td>False</td>\n",
       "      <td>False</td>\n",
       "      <td>1220672</td>\n",
       "    </tr>\n",
       "    <tr>\n",
       "      <th>2</th>\n",
       "      <td>True</td>\n",
       "      <td>True</td>\n",
       "      <td>False</td>\n",
       "      <td>False</td>\n",
       "      <td>False</td>\n",
       "      <td>290264</td>\n",
       "    </tr>\n",
       "    <tr>\n",
       "      <th>3</th>\n",
       "      <td>True</td>\n",
       "      <td>True</td>\n",
       "      <td>True</td>\n",
       "      <td>False</td>\n",
       "      <td>False</td>\n",
       "      <td>10726</td>\n",
       "    </tr>\n",
       "    <tr>\n",
       "      <th>4</th>\n",
       "      <td>True</td>\n",
       "      <td>True</td>\n",
       "      <td>True</td>\n",
       "      <td>True</td>\n",
       "      <td>False</td>\n",
       "      <td>310531</td>\n",
       "    </tr>\n",
       "    <tr>\n",
       "      <th>5</th>\n",
       "      <td>True</td>\n",
       "      <td>True</td>\n",
       "      <td>True</td>\n",
       "      <td>True</td>\n",
       "      <td>True</td>\n",
       "      <td>59331</td>\n",
       "    </tr>\n",
       "  </tbody>\n",
       "</table>\n",
       "</div>"
      ]
     },
     "execution_count": 9,
     "metadata": {},
     "output_type": "execute_result"
    }
   ],
   "execution_count": 9
  },
  {
   "metadata": {
    "ExecuteTime": {
     "end_time": "2025-08-28T09:17:53.805634Z",
     "start_time": "2025-08-28T09:17:53.778706Z"
    }
   },
   "cell_type": "code",
   "source": [
    "\n",
    "# 2. Calculate the sequential funnel counts\n",
    "initial_matches = df_grouped['nsimilar'].sum()\n",
    "passed_prefilter = df_grouped[df_grouped['prefilter_passed'] == True]['nsimilar'].sum()\n",
    "passed_s0 = df_grouped[df_grouped['s0_passed'] == True]['nsimilar'].sum()\n",
    "passed_s1 = df_grouped[df_grouped['s1_passed'] == True]['nsimilar'].sum()\n",
    "passed_s2 = df_grouped[df_grouped['s2_passed'] == True]['nsimilar'].sum()\n",
    "passed_s3 = df_grouped[df_grouped['s3_passed'] == True]['nsimilar'].sum()\n",
    "\n",
    "funnel_counts = {\n",
    "    'Stage': [\n",
    "        'Initial Keyword Matches',\n",
    "        'Prefilter Passed',\n",
    "        'S0: Noise Filter Passed',\n",
    "        'S1: QA Relevance Passed',\n",
    "        'S2: Arch. Relevance Passed',\n",
    "        'S3: Tactic Extracted'\n",
    "    ],\n",
    "    'Items Remaining': [\n",
    "        initial_matches,\n",
    "        passed_prefilter,\n",
    "        passed_s0,\n",
    "        passed_s1,\n",
    "        passed_s2,\n",
    "        passed_s3\n",
    "    ]\n",
    "}\n",
    "df_funnel_table = pd.DataFrame(funnel_counts)\n",
    "\n",
    "# 3. Generate the formatted table for the thesis\n",
    "df_funnel_table_formatted = df_funnel_table.copy()\n",
    "df_funnel_table_formatted['% of Previous'] = (df_funnel_table_formatted['Items Remaining'] / df_funnel_table_formatted['Items Remaining'].shift(1)).fillna(1.0)\n",
    "df_funnel_table_formatted['% of Previous'] = df_funnel_table_formatted['% of Previous'].map('{:.1%}'.format)\n",
    "df_funnel_table_formatted['Items Remaining'] = df_funnel_table_formatted['Items Remaining'].map('{:,}'.format)\n",
    "\n",
    "print(\"--- Table 1: Data Reduction Funnel Across Processing Stages ---\")\n",
    "df_funnel_table_formatted.set_index(\"Stage\")\n"
   ],
   "id": "542b3df18995717f",
   "outputs": [
    {
     "name": "stdout",
     "output_type": "stream",
     "text": [
      "--- Table 1: Data Reduction Funnel Across Processing Stages ---\n"
     ]
    },
    {
     "data": {
      "text/plain": [
       "                           Items Remaining % of Previous\n",
       "Stage                                                   \n",
       "Initial Keyword Matches          1,994,850        100.0%\n",
       "Prefilter Passed                 1,891,524         94.8%\n",
       "S0: Noise Filter Passed            670,852         35.5%\n",
       "S1: QA Relevance Passed            380,588         56.7%\n",
       "S2: Arch. Relevance Passed         369,862         97.2%\n",
       "S3: Tactic Extracted                59,331         16.0%"
      ],
      "text/html": [
       "<div>\n",
       "<style scoped>\n",
       "    .dataframe tbody tr th:only-of-type {\n",
       "        vertical-align: middle;\n",
       "    }\n",
       "\n",
       "    .dataframe tbody tr th {\n",
       "        vertical-align: top;\n",
       "    }\n",
       "\n",
       "    .dataframe thead th {\n",
       "        text-align: right;\n",
       "    }\n",
       "</style>\n",
       "<table border=\"1\" class=\"dataframe\">\n",
       "  <thead>\n",
       "    <tr style=\"text-align: right;\">\n",
       "      <th></th>\n",
       "      <th>Items Remaining</th>\n",
       "      <th>% of Previous</th>\n",
       "    </tr>\n",
       "    <tr>\n",
       "      <th>Stage</th>\n",
       "      <th></th>\n",
       "      <th></th>\n",
       "    </tr>\n",
       "  </thead>\n",
       "  <tbody>\n",
       "    <tr>\n",
       "      <th>Initial Keyword Matches</th>\n",
       "      <td>1,994,850</td>\n",
       "      <td>100.0%</td>\n",
       "    </tr>\n",
       "    <tr>\n",
       "      <th>Prefilter Passed</th>\n",
       "      <td>1,891,524</td>\n",
       "      <td>94.8%</td>\n",
       "    </tr>\n",
       "    <tr>\n",
       "      <th>S0: Noise Filter Passed</th>\n",
       "      <td>670,852</td>\n",
       "      <td>35.5%</td>\n",
       "    </tr>\n",
       "    <tr>\n",
       "      <th>S1: QA Relevance Passed</th>\n",
       "      <td>380,588</td>\n",
       "      <td>56.7%</td>\n",
       "    </tr>\n",
       "    <tr>\n",
       "      <th>S2: Arch. Relevance Passed</th>\n",
       "      <td>369,862</td>\n",
       "      <td>97.2%</td>\n",
       "    </tr>\n",
       "    <tr>\n",
       "      <th>S3: Tactic Extracted</th>\n",
       "      <td>59,331</td>\n",
       "      <td>16.0%</td>\n",
       "    </tr>\n",
       "  </tbody>\n",
       "</table>\n",
       "</div>"
      ]
     },
     "execution_count": 10,
     "metadata": {},
     "output_type": "execute_result"
    }
   ],
   "execution_count": 10
  },
  {
   "metadata": {
    "ExecuteTime": {
     "end_time": "2025-08-28T09:17:54.517931Z",
     "start_time": "2025-08-28T09:17:53.896371Z"
    }
   },
   "cell_type": "code",
   "source": [
    "import kaleido\n",
    "import plotly.express as px\n"
   ],
   "id": "7a0091bee0e82dd3",
   "outputs": [],
   "execution_count": 11
  },
  {
   "metadata": {
    "ExecuteTime": {
     "end_time": "2025-08-28T09:18:05.606516Z",
     "start_time": "2025-08-28T09:17:54.958437Z"
    }
   },
   "cell_type": "code",
   "source": [
    "\n",
    "# --- Generate Figure 1 (Funnel Chart Version) ---\n",
    "fig = px.funnel(\n",
    "    df_funnel_table,\n",
    "    x='Items Remaining',\n",
    "    y='Stage',\n",
    "    # title='Figure 1: Data Filtering Funnel'\n",
    ")\n",
    "\n",
    "# Add data labels to the chart for clarity\n",
    "# This shows the absolute value and the percentage of the previous stage\n",
    "fig.update_traces(textinfo=\"value+percent previous\")\n",
    "\n",
    "fig.show()\n",
    "fig.write_image(\"figure_1_data_funnel_chart.png\", scale=3)\n",
    "\n",
    "# To save a static version for your paper:\n",
    "# fig.write_image(\"figure_1_data_funnel_chart.png\", scale=3)"
   ],
   "id": "4cef333d2157abf",
   "outputs": [
    {
     "data": {
      "application/vnd.plotly.v1+json": {
       "data": [
        {
         "hovertemplate": "Items Remaining=%{x}<br>Stage=%{y}<extra></extra>",
         "legendgroup": "",
         "marker": {
          "color": "#636efa"
         },
         "name": "",
         "orientation": "h",
         "showlegend": false,
         "x": {
          "dtype": "i4",
          "bdata": "YnAeAMTcHACEPAoArM4FAMakBQDD5wAA"
         },
         "xaxis": "x",
         "y": [
          "Initial Keyword Matches",
          "Prefilter Passed",
          "S0: Noise Filter Passed",
          "S1: QA Relevance Passed",
          "S2: Arch. Relevance Passed",
          "S3: Tactic Extracted"
         ],
         "yaxis": "y",
         "type": "funnel",
         "textinfo": "value+percent previous"
        }
       ],
       "layout": {
        "template": {
         "data": {
          "histogram2dcontour": [
           {
            "type": "histogram2dcontour",
            "colorbar": {
             "outlinewidth": 0,
             "ticks": ""
            },
            "colorscale": [
             [
              0.0,
              "#0d0887"
             ],
             [
              0.1111111111111111,
              "#46039f"
             ],
             [
              0.2222222222222222,
              "#7201a8"
             ],
             [
              0.3333333333333333,
              "#9c179e"
             ],
             [
              0.4444444444444444,
              "#bd3786"
             ],
             [
              0.5555555555555556,
              "#d8576b"
             ],
             [
              0.6666666666666666,
              "#ed7953"
             ],
             [
              0.7777777777777778,
              "#fb9f3a"
             ],
             [
              0.8888888888888888,
              "#fdca26"
             ],
             [
              1.0,
              "#f0f921"
             ]
            ]
           }
          ],
          "choropleth": [
           {
            "type": "choropleth",
            "colorbar": {
             "outlinewidth": 0,
             "ticks": ""
            }
           }
          ],
          "histogram2d": [
           {
            "type": "histogram2d",
            "colorbar": {
             "outlinewidth": 0,
             "ticks": ""
            },
            "colorscale": [
             [
              0.0,
              "#0d0887"
             ],
             [
              0.1111111111111111,
              "#46039f"
             ],
             [
              0.2222222222222222,
              "#7201a8"
             ],
             [
              0.3333333333333333,
              "#9c179e"
             ],
             [
              0.4444444444444444,
              "#bd3786"
             ],
             [
              0.5555555555555556,
              "#d8576b"
             ],
             [
              0.6666666666666666,
              "#ed7953"
             ],
             [
              0.7777777777777778,
              "#fb9f3a"
             ],
             [
              0.8888888888888888,
              "#fdca26"
             ],
             [
              1.0,
              "#f0f921"
             ]
            ]
           }
          ],
          "heatmap": [
           {
            "type": "heatmap",
            "colorbar": {
             "outlinewidth": 0,
             "ticks": ""
            },
            "colorscale": [
             [
              0.0,
              "#0d0887"
             ],
             [
              0.1111111111111111,
              "#46039f"
             ],
             [
              0.2222222222222222,
              "#7201a8"
             ],
             [
              0.3333333333333333,
              "#9c179e"
             ],
             [
              0.4444444444444444,
              "#bd3786"
             ],
             [
              0.5555555555555556,
              "#d8576b"
             ],
             [
              0.6666666666666666,
              "#ed7953"
             ],
             [
              0.7777777777777778,
              "#fb9f3a"
             ],
             [
              0.8888888888888888,
              "#fdca26"
             ],
             [
              1.0,
              "#f0f921"
             ]
            ]
           }
          ],
          "contourcarpet": [
           {
            "type": "contourcarpet",
            "colorbar": {
             "outlinewidth": 0,
             "ticks": ""
            }
           }
          ],
          "contour": [
           {
            "type": "contour",
            "colorbar": {
             "outlinewidth": 0,
             "ticks": ""
            },
            "colorscale": [
             [
              0.0,
              "#0d0887"
             ],
             [
              0.1111111111111111,
              "#46039f"
             ],
             [
              0.2222222222222222,
              "#7201a8"
             ],
             [
              0.3333333333333333,
              "#9c179e"
             ],
             [
              0.4444444444444444,
              "#bd3786"
             ],
             [
              0.5555555555555556,
              "#d8576b"
             ],
             [
              0.6666666666666666,
              "#ed7953"
             ],
             [
              0.7777777777777778,
              "#fb9f3a"
             ],
             [
              0.8888888888888888,
              "#fdca26"
             ],
             [
              1.0,
              "#f0f921"
             ]
            ]
           }
          ],
          "surface": [
           {
            "type": "surface",
            "colorbar": {
             "outlinewidth": 0,
             "ticks": ""
            },
            "colorscale": [
             [
              0.0,
              "#0d0887"
             ],
             [
              0.1111111111111111,
              "#46039f"
             ],
             [
              0.2222222222222222,
              "#7201a8"
             ],
             [
              0.3333333333333333,
              "#9c179e"
             ],
             [
              0.4444444444444444,
              "#bd3786"
             ],
             [
              0.5555555555555556,
              "#d8576b"
             ],
             [
              0.6666666666666666,
              "#ed7953"
             ],
             [
              0.7777777777777778,
              "#fb9f3a"
             ],
             [
              0.8888888888888888,
              "#fdca26"
             ],
             [
              1.0,
              "#f0f921"
             ]
            ]
           }
          ],
          "mesh3d": [
           {
            "type": "mesh3d",
            "colorbar": {
             "outlinewidth": 0,
             "ticks": ""
            }
           }
          ],
          "scatter": [
           {
            "fillpattern": {
             "fillmode": "overlay",
             "size": 10,
             "solidity": 0.2
            },
            "type": "scatter"
           }
          ],
          "parcoords": [
           {
            "type": "parcoords",
            "line": {
             "colorbar": {
              "outlinewidth": 0,
              "ticks": ""
             }
            }
           }
          ],
          "scatterpolargl": [
           {
            "type": "scatterpolargl",
            "marker": {
             "colorbar": {
              "outlinewidth": 0,
              "ticks": ""
             }
            }
           }
          ],
          "bar": [
           {
            "error_x": {
             "color": "#2a3f5f"
            },
            "error_y": {
             "color": "#2a3f5f"
            },
            "marker": {
             "line": {
              "color": "#E5ECF6",
              "width": 0.5
             },
             "pattern": {
              "fillmode": "overlay",
              "size": 10,
              "solidity": 0.2
             }
            },
            "type": "bar"
           }
          ],
          "scattergeo": [
           {
            "type": "scattergeo",
            "marker": {
             "colorbar": {
              "outlinewidth": 0,
              "ticks": ""
             }
            }
           }
          ],
          "scatterpolar": [
           {
            "type": "scatterpolar",
            "marker": {
             "colorbar": {
              "outlinewidth": 0,
              "ticks": ""
             }
            }
           }
          ],
          "histogram": [
           {
            "marker": {
             "pattern": {
              "fillmode": "overlay",
              "size": 10,
              "solidity": 0.2
             }
            },
            "type": "histogram"
           }
          ],
          "scattergl": [
           {
            "type": "scattergl",
            "marker": {
             "colorbar": {
              "outlinewidth": 0,
              "ticks": ""
             }
            }
           }
          ],
          "scatter3d": [
           {
            "type": "scatter3d",
            "line": {
             "colorbar": {
              "outlinewidth": 0,
              "ticks": ""
             }
            },
            "marker": {
             "colorbar": {
              "outlinewidth": 0,
              "ticks": ""
             }
            }
           }
          ],
          "scattermap": [
           {
            "type": "scattermap",
            "marker": {
             "colorbar": {
              "outlinewidth": 0,
              "ticks": ""
             }
            }
           }
          ],
          "scattermapbox": [
           {
            "type": "scattermapbox",
            "marker": {
             "colorbar": {
              "outlinewidth": 0,
              "ticks": ""
             }
            }
           }
          ],
          "scatterternary": [
           {
            "type": "scatterternary",
            "marker": {
             "colorbar": {
              "outlinewidth": 0,
              "ticks": ""
             }
            }
           }
          ],
          "scattercarpet": [
           {
            "type": "scattercarpet",
            "marker": {
             "colorbar": {
              "outlinewidth": 0,
              "ticks": ""
             }
            }
           }
          ],
          "carpet": [
           {
            "aaxis": {
             "endlinecolor": "#2a3f5f",
             "gridcolor": "white",
             "linecolor": "white",
             "minorgridcolor": "white",
             "startlinecolor": "#2a3f5f"
            },
            "baxis": {
             "endlinecolor": "#2a3f5f",
             "gridcolor": "white",
             "linecolor": "white",
             "minorgridcolor": "white",
             "startlinecolor": "#2a3f5f"
            },
            "type": "carpet"
           }
          ],
          "table": [
           {
            "cells": {
             "fill": {
              "color": "#EBF0F8"
             },
             "line": {
              "color": "white"
             }
            },
            "header": {
             "fill": {
              "color": "#C8D4E3"
             },
             "line": {
              "color": "white"
             }
            },
            "type": "table"
           }
          ],
          "barpolar": [
           {
            "marker": {
             "line": {
              "color": "#E5ECF6",
              "width": 0.5
             },
             "pattern": {
              "fillmode": "overlay",
              "size": 10,
              "solidity": 0.2
             }
            },
            "type": "barpolar"
           }
          ],
          "pie": [
           {
            "automargin": true,
            "type": "pie"
           }
          ]
         },
         "layout": {
          "autotypenumbers": "strict",
          "colorway": [
           "#636efa",
           "#EF553B",
           "#00cc96",
           "#ab63fa",
           "#FFA15A",
           "#19d3f3",
           "#FF6692",
           "#B6E880",
           "#FF97FF",
           "#FECB52"
          ],
          "font": {
           "color": "#2a3f5f"
          },
          "hovermode": "closest",
          "hoverlabel": {
           "align": "left"
          },
          "paper_bgcolor": "white",
          "plot_bgcolor": "#E5ECF6",
          "polar": {
           "bgcolor": "#E5ECF6",
           "angularaxis": {
            "gridcolor": "white",
            "linecolor": "white",
            "ticks": ""
           },
           "radialaxis": {
            "gridcolor": "white",
            "linecolor": "white",
            "ticks": ""
           }
          },
          "ternary": {
           "bgcolor": "#E5ECF6",
           "aaxis": {
            "gridcolor": "white",
            "linecolor": "white",
            "ticks": ""
           },
           "baxis": {
            "gridcolor": "white",
            "linecolor": "white",
            "ticks": ""
           },
           "caxis": {
            "gridcolor": "white",
            "linecolor": "white",
            "ticks": ""
           }
          },
          "coloraxis": {
           "colorbar": {
            "outlinewidth": 0,
            "ticks": ""
           }
          },
          "colorscale": {
           "sequential": [
            [
             0.0,
             "#0d0887"
            ],
            [
             0.1111111111111111,
             "#46039f"
            ],
            [
             0.2222222222222222,
             "#7201a8"
            ],
            [
             0.3333333333333333,
             "#9c179e"
            ],
            [
             0.4444444444444444,
             "#bd3786"
            ],
            [
             0.5555555555555556,
             "#d8576b"
            ],
            [
             0.6666666666666666,
             "#ed7953"
            ],
            [
             0.7777777777777778,
             "#fb9f3a"
            ],
            [
             0.8888888888888888,
             "#fdca26"
            ],
            [
             1.0,
             "#f0f921"
            ]
           ],
           "sequentialminus": [
            [
             0.0,
             "#0d0887"
            ],
            [
             0.1111111111111111,
             "#46039f"
            ],
            [
             0.2222222222222222,
             "#7201a8"
            ],
            [
             0.3333333333333333,
             "#9c179e"
            ],
            [
             0.4444444444444444,
             "#bd3786"
            ],
            [
             0.5555555555555556,
             "#d8576b"
            ],
            [
             0.6666666666666666,
             "#ed7953"
            ],
            [
             0.7777777777777778,
             "#fb9f3a"
            ],
            [
             0.8888888888888888,
             "#fdca26"
            ],
            [
             1.0,
             "#f0f921"
            ]
           ],
           "diverging": [
            [
             0,
             "#8e0152"
            ],
            [
             0.1,
             "#c51b7d"
            ],
            [
             0.2,
             "#de77ae"
            ],
            [
             0.3,
             "#f1b6da"
            ],
            [
             0.4,
             "#fde0ef"
            ],
            [
             0.5,
             "#f7f7f7"
            ],
            [
             0.6,
             "#e6f5d0"
            ],
            [
             0.7,
             "#b8e186"
            ],
            [
             0.8,
             "#7fbc41"
            ],
            [
             0.9,
             "#4d9221"
            ],
            [
             1,
             "#276419"
            ]
           ]
          },
          "xaxis": {
           "gridcolor": "white",
           "linecolor": "white",
           "ticks": "",
           "title": {
            "standoff": 15
           },
           "zerolinecolor": "white",
           "automargin": true,
           "zerolinewidth": 2
          },
          "yaxis": {
           "gridcolor": "white",
           "linecolor": "white",
           "ticks": "",
           "title": {
            "standoff": 15
           },
           "zerolinecolor": "white",
           "automargin": true,
           "zerolinewidth": 2
          },
          "scene": {
           "xaxis": {
            "backgroundcolor": "#E5ECF6",
            "gridcolor": "white",
            "linecolor": "white",
            "showbackground": true,
            "ticks": "",
            "zerolinecolor": "white",
            "gridwidth": 2
           },
           "yaxis": {
            "backgroundcolor": "#E5ECF6",
            "gridcolor": "white",
            "linecolor": "white",
            "showbackground": true,
            "ticks": "",
            "zerolinecolor": "white",
            "gridwidth": 2
           },
           "zaxis": {
            "backgroundcolor": "#E5ECF6",
            "gridcolor": "white",
            "linecolor": "white",
            "showbackground": true,
            "ticks": "",
            "zerolinecolor": "white",
            "gridwidth": 2
           }
          },
          "shapedefaults": {
           "line": {
            "color": "#2a3f5f"
           }
          },
          "annotationdefaults": {
           "arrowcolor": "#2a3f5f",
           "arrowhead": 0,
           "arrowwidth": 1
          },
          "geo": {
           "bgcolor": "white",
           "landcolor": "#E5ECF6",
           "subunitcolor": "white",
           "showland": true,
           "showlakes": true,
           "lakecolor": "white"
          },
          "title": {
           "x": 0.05
          },
          "mapbox": {
           "style": "light"
          }
         }
        },
        "xaxis": {
         "anchor": "y",
         "domain": [
          0.0,
          1.0
         ],
         "title": {
          "text": "Items Remaining"
         }
        },
        "yaxis": {
         "anchor": "x",
         "domain": [
          0.0,
          1.0
         ],
         "title": {
          "text": "Stage"
         }
        },
        "legend": {
         "tracegroupgap": 0
        },
        "margin": {
         "t": 60
        }
       },
       "config": {
        "plotlyServerURL": "https://plot.ly"
       }
      }
     },
     "metadata": {},
     "output_type": "display_data"
    }
   ],
   "execution_count": 12
  },
  {
   "metadata": {
    "ExecuteTime": {
     "end_time": "2025-08-28T09:18:06.249873Z",
     "start_time": "2025-08-28T09:18:05.637042Z"
    }
   },
   "cell_type": "code",
   "source": [
    "import pandas as pd\n",
    "\n",
    "# --- Split Funnel Analysis by Repository ---\n",
    "# ASSUMPTION: The full DataFrame 'df' is loaded with all necessary columns.\n",
    "\n",
    "# 1. Define the stages and their corresponding filter columns in order.\n",
    "stages = {\n",
    "    'Initial Matches': None, # Base case, no filter\n",
    "    'Prefilter Passed': 'prefilter_passed',\n",
    "    'S0: Noise Filter Passed': 's0_passed',\n",
    "    'S1: QA Relevance Passed': 's1_passed',\n",
    "    'S2: Arch. Relevance Passed': 's2_passed',\n",
    "    'S3: Tactic Extracted': 's3_passed'\n",
    "}\n",
    "\n",
    "# 2. Group the data by repository and calculate the count for each stage.\n",
    "funnel_by_repo = {}\n",
    "for repo_id, repo_df in df.groupby('repo_id'):\n",
    "    stage_counts = {}\n",
    "    # Apply filters sequentially\n",
    "    current_df = repo_df\n",
    "    for stage_name, col in stages.items():\n",
    "        if col:\n",
    "            current_df = current_df[current_df[col] == True]\n",
    "        stage_counts[stage_name] = current_df['nsimilar'].sum()\n",
    "    funnel_by_repo[repo_id] = stage_counts\n",
    "\n",
    "# 3. Convert the results to a DataFrame.\n",
    "df_funnel_repo_abs = pd.DataFrame(funnel_by_repo).T # Transpose to have repos as rows\n",
    "\n",
    "# 4. Calculate the percentage of the previous stage for each repository.\n",
    "# We iterate through columns to calculate the percentage relative to the previous column.\n",
    "df_funnel_repo_rel = df_funnel_repo_abs.copy()\n",
    "for i in range(1, len(df_funnel_repo_rel.columns)):\n",
    "    prev_col = df_funnel_repo_rel.columns[i-1]\n",
    "    curr_col = df_funnel_repo_rel.columns[i]\n",
    "    df_funnel_repo_rel[curr_col] = df_funnel_repo_abs[curr_col] / df_funnel_repo_abs[prev_col]\n",
    "\n",
    "# Format the first column as 100%\n",
    "df_funnel_repo_rel[df_funnel_repo_rel.columns[0]] = 1.0\n",
    "\n",
    "# 5. Format the relative DataFrame as percentages for presentation.\n",
    "df_funnel_repo_formatted = df_funnel_repo_rel.map(lambda x: f\"{x:.1%}\")\n",
    "\n",
    "print(\"--- Table 2: Funnel Pass-Through Rates by Repository ---\")\n",
    "# To display the styled DataFrame in Jupyter:\n",
    "df_funnel_repo_formatted"
   ],
   "id": "e755d6e82897fbc6",
   "outputs": [
    {
     "name": "stderr",
     "output_type": "stream",
     "text": [
      "C:\\Users\\Dmitrijs\\AppData\\Local\\Temp\\ipykernel_35168\\4141509039.py:18: FutureWarning:\n",
      "\n",
      "The default of observed=False is deprecated and will be changed to True in a future version of pandas. Pass observed=False to retain current behavior or observed=True to adopt the future default and silence this warning.\n",
      "\n"
     ]
    },
    {
     "name": "stdout",
     "output_type": "stream",
     "text": [
      "--- Table 2: Funnel Pass-Through Rates by Repository ---\n"
     ]
    },
    {
     "data": {
      "text/plain": [
       "                           Initial Matches Prefilter Passed  \\\n",
       "OpenGene/fastp/v0.23.4              100.0%            98.3%   \n",
       "allenai/scispacy/v0.5.5             100.0%            99.3%   \n",
       "google/deepvariant/v1.6.1           100.0%            97.5%   \n",
       "root-project/root/v6-32-06          100.0%            94.2%   \n",
       "scverse/scanpy/1.10.2               100.0%            99.4%   \n",
       "\n",
       "                           S0: Noise Filter Passed S1: QA Relevance Passed  \\\n",
       "OpenGene/fastp/v0.23.4                       44.7%                   53.8%   \n",
       "allenai/scispacy/v0.5.5                      35.9%                   48.6%   \n",
       "google/deepvariant/v1.6.1                    35.9%                   46.7%   \n",
       "root-project/root/v6-32-06                   34.5%                   58.7%   \n",
       "scverse/scanpy/1.10.2                        44.9%                   46.2%   \n",
       "\n",
       "                           S2: Arch. Relevance Passed S3: Tactic Extracted  \n",
       "OpenGene/fastp/v0.23.4                          55.5%                63.0%  \n",
       "allenai/scispacy/v0.5.5                         67.1%                51.2%  \n",
       "google/deepvariant/v1.6.1                       76.5%                41.0%  \n",
       "root-project/root/v6-32-06                      99.3%                11.5%  \n",
       "scverse/scanpy/1.10.2                           94.6%                50.7%  "
      ],
      "text/html": [
       "<div>\n",
       "<style scoped>\n",
       "    .dataframe tbody tr th:only-of-type {\n",
       "        vertical-align: middle;\n",
       "    }\n",
       "\n",
       "    .dataframe tbody tr th {\n",
       "        vertical-align: top;\n",
       "    }\n",
       "\n",
       "    .dataframe thead th {\n",
       "        text-align: right;\n",
       "    }\n",
       "</style>\n",
       "<table border=\"1\" class=\"dataframe\">\n",
       "  <thead>\n",
       "    <tr style=\"text-align: right;\">\n",
       "      <th></th>\n",
       "      <th>Initial Matches</th>\n",
       "      <th>Prefilter Passed</th>\n",
       "      <th>S0: Noise Filter Passed</th>\n",
       "      <th>S1: QA Relevance Passed</th>\n",
       "      <th>S2: Arch. Relevance Passed</th>\n",
       "      <th>S3: Tactic Extracted</th>\n",
       "    </tr>\n",
       "  </thead>\n",
       "  <tbody>\n",
       "    <tr>\n",
       "      <th>OpenGene/fastp/v0.23.4</th>\n",
       "      <td>100.0%</td>\n",
       "      <td>98.3%</td>\n",
       "      <td>44.7%</td>\n",
       "      <td>53.8%</td>\n",
       "      <td>55.5%</td>\n",
       "      <td>63.0%</td>\n",
       "    </tr>\n",
       "    <tr>\n",
       "      <th>allenai/scispacy/v0.5.5</th>\n",
       "      <td>100.0%</td>\n",
       "      <td>99.3%</td>\n",
       "      <td>35.9%</td>\n",
       "      <td>48.6%</td>\n",
       "      <td>67.1%</td>\n",
       "      <td>51.2%</td>\n",
       "    </tr>\n",
       "    <tr>\n",
       "      <th>google/deepvariant/v1.6.1</th>\n",
       "      <td>100.0%</td>\n",
       "      <td>97.5%</td>\n",
       "      <td>35.9%</td>\n",
       "      <td>46.7%</td>\n",
       "      <td>76.5%</td>\n",
       "      <td>41.0%</td>\n",
       "    </tr>\n",
       "    <tr>\n",
       "      <th>root-project/root/v6-32-06</th>\n",
       "      <td>100.0%</td>\n",
       "      <td>94.2%</td>\n",
       "      <td>34.5%</td>\n",
       "      <td>58.7%</td>\n",
       "      <td>99.3%</td>\n",
       "      <td>11.5%</td>\n",
       "    </tr>\n",
       "    <tr>\n",
       "      <th>scverse/scanpy/1.10.2</th>\n",
       "      <td>100.0%</td>\n",
       "      <td>99.4%</td>\n",
       "      <td>44.9%</td>\n",
       "      <td>46.2%</td>\n",
       "      <td>94.6%</td>\n",
       "      <td>50.7%</td>\n",
       "    </tr>\n",
       "  </tbody>\n",
       "</table>\n",
       "</div>"
      ]
     },
     "execution_count": 13,
     "metadata": {},
     "output_type": "execute_result"
    }
   ],
   "execution_count": 13
  },
  {
   "metadata": {
    "ExecuteTime": {
     "end_time": "2025-08-28T09:18:06.901499Z",
     "start_time": "2025-08-28T09:18:06.295734Z"
    }
   },
   "cell_type": "code",
   "source": [
    "import pandas as pd\n",
    "\n",
    "# --- Split Funnel Analysis by Communication Channel ---\n",
    "# ASSUMPTION: The full DataFrame 'df' is loaded.\n",
    "\n",
    "# 1. Define the stages in order.\n",
    "stages = {\n",
    "    'Initial Matches': None,\n",
    "    'Prefilter Passed': 'prefilter_passed',\n",
    "    'S0: Noise Filter Passed': 's0_passed',\n",
    "    'S1: QA Relevance Passed': 's1_passed',\n",
    "    'S2: Arch. Relevance Passed': 's2_passed',\n",
    "    'S3: Tactic Extracted': 's3_passed'\n",
    "}\n",
    "\n",
    "# 2. Group data by source and calculate counts for each stage.\n",
    "funnel_by_source = {}\n",
    "for source_name, source_df in df.groupby('source'):\n",
    "    stage_counts = {}\n",
    "    current_df = source_df\n",
    "    for stage_name, col in stages.items():\n",
    "        if col:\n",
    "            current_df = current_df[current_df[col] == True]\n",
    "        stage_counts[stage_name] = current_df['nsimilar'].sum()\n",
    "    funnel_by_source[source_name] = stage_counts\n",
    "\n",
    "# 3. Convert the results to a DataFrame.\n",
    "df_funnel_source_abs = pd.DataFrame(funnel_by_source).T\n",
    "\n",
    "# 4. Calculate the percentage of the previous stage for each source.\n",
    "df_funnel_source_rel = df_funnel_source_abs.copy()\n",
    "for i in range(1, len(df_funnel_source_rel.columns)):\n",
    "    prev_col = df_funnel_source_rel.columns[i-1]\n",
    "    curr_col = df_funnel_source_rel.columns[i]\n",
    "    df_funnel_source_rel[curr_col] = df_funnel_source_abs[curr_col].divide(df_funnel_source_abs[prev_col]).fillna(0)\n",
    "\n",
    "df_funnel_source_rel[df_funnel_source_rel.columns[0]] = 1.0\n",
    "\n",
    "# 5. Format the DataFrame into strings using .map().\n",
    "df_funnel_source_formatted = df_funnel_source_rel.map(lambda x: f\"{x:.1%}\")\n",
    "\n",
    "print(\"--- Table 3: Funnel Pass-Through Rates by Communication Channel ---\")\n",
    "df_funnel_source_formatted\n"
   ],
   "id": "e082ed0730933706",
   "outputs": [
    {
     "name": "stderr",
     "output_type": "stream",
     "text": [
      "C:\\Users\\Dmitrijs\\AppData\\Local\\Temp\\ipykernel_35168\\2280003639.py:18: FutureWarning:\n",
      "\n",
      "The default of observed=False is deprecated and will be changed to True in a future version of pandas. Pass observed=False to retain current behavior or observed=True to adopt the future default and silence this warning.\n",
      "\n"
     ]
    },
    {
     "name": "stdout",
     "output_type": "stream",
     "text": [
      "--- Table 3: Funnel Pass-Through Rates by Communication Channel ---\n"
     ]
    },
    {
     "data": {
      "text/plain": [
       "              Initial Matches Prefilter Passed S0: Noise Filter Passed  \\\n",
       "code_comment           100.0%            91.3%                   31.7%   \n",
       "docs                   100.0%           100.0%                   27.3%   \n",
       "issue                  100.0%            99.2%                   42.2%   \n",
       "issue_comment          100.0%            97.4%                   48.2%   \n",
       "release                100.0%            98.9%                   63.6%   \n",
       "wiki                   100.0%           100.0%                   11.7%   \n",
       "\n",
       "              S1: QA Relevance Passed S2: Arch. Relevance Passed  \\\n",
       "code_comment                    60.3%                      98.1%   \n",
       "docs                            67.6%                      97.3%   \n",
       "issue                           55.5%                      93.7%   \n",
       "issue_comment                   46.1%                      99.5%   \n",
       "release                         57.5%                      53.7%   \n",
       "wiki                            60.1%                      50.8%   \n",
       "\n",
       "              S3: Tactic Extracted  \n",
       "code_comment                 13.2%  \n",
       "docs                          8.2%  \n",
       "issue                        19.4%  \n",
       "issue_comment                24.5%  \n",
       "release                      59.7%  \n",
       "wiki                         44.4%  "
      ],
      "text/html": [
       "<div>\n",
       "<style scoped>\n",
       "    .dataframe tbody tr th:only-of-type {\n",
       "        vertical-align: middle;\n",
       "    }\n",
       "\n",
       "    .dataframe tbody tr th {\n",
       "        vertical-align: top;\n",
       "    }\n",
       "\n",
       "    .dataframe thead th {\n",
       "        text-align: right;\n",
       "    }\n",
       "</style>\n",
       "<table border=\"1\" class=\"dataframe\">\n",
       "  <thead>\n",
       "    <tr style=\"text-align: right;\">\n",
       "      <th></th>\n",
       "      <th>Initial Matches</th>\n",
       "      <th>Prefilter Passed</th>\n",
       "      <th>S0: Noise Filter Passed</th>\n",
       "      <th>S1: QA Relevance Passed</th>\n",
       "      <th>S2: Arch. Relevance Passed</th>\n",
       "      <th>S3: Tactic Extracted</th>\n",
       "    </tr>\n",
       "  </thead>\n",
       "  <tbody>\n",
       "    <tr>\n",
       "      <th>code_comment</th>\n",
       "      <td>100.0%</td>\n",
       "      <td>91.3%</td>\n",
       "      <td>31.7%</td>\n",
       "      <td>60.3%</td>\n",
       "      <td>98.1%</td>\n",
       "      <td>13.2%</td>\n",
       "    </tr>\n",
       "    <tr>\n",
       "      <th>docs</th>\n",
       "      <td>100.0%</td>\n",
       "      <td>100.0%</td>\n",
       "      <td>27.3%</td>\n",
       "      <td>67.6%</td>\n",
       "      <td>97.3%</td>\n",
       "      <td>8.2%</td>\n",
       "    </tr>\n",
       "    <tr>\n",
       "      <th>issue</th>\n",
       "      <td>100.0%</td>\n",
       "      <td>99.2%</td>\n",
       "      <td>42.2%</td>\n",
       "      <td>55.5%</td>\n",
       "      <td>93.7%</td>\n",
       "      <td>19.4%</td>\n",
       "    </tr>\n",
       "    <tr>\n",
       "      <th>issue_comment</th>\n",
       "      <td>100.0%</td>\n",
       "      <td>97.4%</td>\n",
       "      <td>48.2%</td>\n",
       "      <td>46.1%</td>\n",
       "      <td>99.5%</td>\n",
       "      <td>24.5%</td>\n",
       "    </tr>\n",
       "    <tr>\n",
       "      <th>release</th>\n",
       "      <td>100.0%</td>\n",
       "      <td>98.9%</td>\n",
       "      <td>63.6%</td>\n",
       "      <td>57.5%</td>\n",
       "      <td>53.7%</td>\n",
       "      <td>59.7%</td>\n",
       "    </tr>\n",
       "    <tr>\n",
       "      <th>wiki</th>\n",
       "      <td>100.0%</td>\n",
       "      <td>100.0%</td>\n",
       "      <td>11.7%</td>\n",
       "      <td>60.1%</td>\n",
       "      <td>50.8%</td>\n",
       "      <td>44.4%</td>\n",
       "    </tr>\n",
       "  </tbody>\n",
       "</table>\n",
       "</div>"
      ]
     },
     "execution_count": 14,
     "metadata": {},
     "output_type": "execute_result"
    }
   ],
   "execution_count": 14
  },
  {
   "metadata": {},
   "cell_type": "markdown",
   "source": [
    "# R1\n",
    "## Primary - A quantitative analysis of the prevalence of each quality attribute."
   ],
   "id": "d78d55f9eacdfd03"
  },
  {
   "metadata": {
    "ExecuteTime": {
     "end_time": "2025-08-28T09:18:08.095915Z",
     "start_time": "2025-08-28T09:18:08.091609Z"
    }
   },
   "cell_type": "code",
   "source": [
    "import pandas as pd\n",
    "import matplotlib.pyplot as plt\n",
    "import seaborn as sns"
   ],
   "id": "2e05b924c5632d4",
   "outputs": [],
   "execution_count": 15
  },
  {
   "metadata": {
    "ExecuteTime": {
     "end_time": "2025-08-28T09:18:08.360128Z",
     "start_time": "2025-08-28T09:18:08.244610Z"
    }
   },
   "cell_type": "code",
   "source": [
    "\n",
    "# --- RQ1 Primary Analysis Code ---\n",
    "# ASSUMPTION: The DataFrame 'df' is loaded and contains the full, cleaned dataset.\n",
    "\n",
    "# 1. Filter for discussions that are relevant to a Quality Attribute (s1_passed).\n",
    "s1_passed_df = df[df['s1_passed'] == True].copy()\n",
    "\n",
    "# 2. Group by quality attribute and aggregate the counts using 'nsimilar'.\n",
    "qa_counts = s1_passed_df.groupby('qa')['nsimilar'].sum().reset_index()\n",
    "qa_counts.rename(columns={'nsimilar': 'Absolute Frequency'}, inplace=True)\n",
    "\n",
    "# 3. Calculate the relative frequency (percentage).\n",
    "total_discussions = qa_counts['Absolute Frequency'].sum()\n",
    "qa_counts['Percentage (%)'] = (qa_counts['Absolute Frequency'] / total_discussions) * 100\n",
    "\n",
    "# 4. Sort the results for clear presentation in the table and chart.\n",
    "qa_counts_sorted = qa_counts.sort_values(by='Absolute Frequency', ascending=False)\n"
   ],
   "id": "12a78b04ae97c7f7",
   "outputs": [
    {
     "name": "stderr",
     "output_type": "stream",
     "text": [
      "C:\\Users\\Dmitrijs\\AppData\\Local\\Temp\\ipykernel_35168\\3973534672.py:8: FutureWarning:\n",
      "\n",
      "The default of observed=False is deprecated and will be changed to True in a future version of pandas. Pass observed=False to retain current behavior or observed=True to adopt the future default and silence this warning.\n",
      "\n"
     ]
    }
   ],
   "execution_count": 16
  },
  {
   "metadata": {
    "ExecuteTime": {
     "end_time": "2025-08-28T09:18:08.473680Z",
     "start_time": "2025-08-28T09:18:08.458173Z"
    }
   },
   "cell_type": "code",
   "source": [
    "\n",
    "# --- Generate Table 4 ---\n",
    "print(\"Table 4: Overall Frequency of Quality Attribute Discussions\")\n",
    "qa_table_formatted = qa_counts_sorted.copy()\n",
    "qa_table_formatted['Percentage (%)'] = qa_table_formatted['Percentage (%)'].map('{:.1f}%'.format)\n",
    "qa_table_formatted.set_index('qa', inplace=True)\n",
    "qa_table_formatted\n",
    "# print(qa_table_formatted.to_markdown())"
   ],
   "id": "1c0ef9efc2488830",
   "outputs": [
    {
     "name": "stdout",
     "output_type": "stream",
     "text": [
      "Table 4: Overall Frequency of Quality Attribute Discussions\n"
     ]
    },
    {
     "data": {
      "text/plain": [
       "                   Absolute Frequency Percentage (%)\n",
       "qa                                                  \n",
       "usability                       52839          13.9%\n",
       "safety                          49070          12.9%\n",
       "performance                     38623          10.1%\n",
       "integrability                   36565           9.6%\n",
       "modifiability                   36029           9.5%\n",
       "security                        34783           9.1%\n",
       "deployability                   33076           8.7%\n",
       "interoperability                30446           8.0%\n",
       "testability                     30072           7.9%\n",
       "energy efficiency               18815           4.9%\n",
       "availability                    12994           3.4%\n",
       "reliability                      7276           1.9%"
      ],
      "text/html": [
       "<div>\n",
       "<style scoped>\n",
       "    .dataframe tbody tr th:only-of-type {\n",
       "        vertical-align: middle;\n",
       "    }\n",
       "\n",
       "    .dataframe tbody tr th {\n",
       "        vertical-align: top;\n",
       "    }\n",
       "\n",
       "    .dataframe thead th {\n",
       "        text-align: right;\n",
       "    }\n",
       "</style>\n",
       "<table border=\"1\" class=\"dataframe\">\n",
       "  <thead>\n",
       "    <tr style=\"text-align: right;\">\n",
       "      <th></th>\n",
       "      <th>Absolute Frequency</th>\n",
       "      <th>Percentage (%)</th>\n",
       "    </tr>\n",
       "    <tr>\n",
       "      <th>qa</th>\n",
       "      <th></th>\n",
       "      <th></th>\n",
       "    </tr>\n",
       "  </thead>\n",
       "  <tbody>\n",
       "    <tr>\n",
       "      <th>usability</th>\n",
       "      <td>52839</td>\n",
       "      <td>13.9%</td>\n",
       "    </tr>\n",
       "    <tr>\n",
       "      <th>safety</th>\n",
       "      <td>49070</td>\n",
       "      <td>12.9%</td>\n",
       "    </tr>\n",
       "    <tr>\n",
       "      <th>performance</th>\n",
       "      <td>38623</td>\n",
       "      <td>10.1%</td>\n",
       "    </tr>\n",
       "    <tr>\n",
       "      <th>integrability</th>\n",
       "      <td>36565</td>\n",
       "      <td>9.6%</td>\n",
       "    </tr>\n",
       "    <tr>\n",
       "      <th>modifiability</th>\n",
       "      <td>36029</td>\n",
       "      <td>9.5%</td>\n",
       "    </tr>\n",
       "    <tr>\n",
       "      <th>security</th>\n",
       "      <td>34783</td>\n",
       "      <td>9.1%</td>\n",
       "    </tr>\n",
       "    <tr>\n",
       "      <th>deployability</th>\n",
       "      <td>33076</td>\n",
       "      <td>8.7%</td>\n",
       "    </tr>\n",
       "    <tr>\n",
       "      <th>interoperability</th>\n",
       "      <td>30446</td>\n",
       "      <td>8.0%</td>\n",
       "    </tr>\n",
       "    <tr>\n",
       "      <th>testability</th>\n",
       "      <td>30072</td>\n",
       "      <td>7.9%</td>\n",
       "    </tr>\n",
       "    <tr>\n",
       "      <th>energy efficiency</th>\n",
       "      <td>18815</td>\n",
       "      <td>4.9%</td>\n",
       "    </tr>\n",
       "    <tr>\n",
       "      <th>availability</th>\n",
       "      <td>12994</td>\n",
       "      <td>3.4%</td>\n",
       "    </tr>\n",
       "    <tr>\n",
       "      <th>reliability</th>\n",
       "      <td>7276</td>\n",
       "      <td>1.9%</td>\n",
       "    </tr>\n",
       "  </tbody>\n",
       "</table>\n",
       "</div>"
      ]
     },
     "execution_count": 17,
     "metadata": {},
     "output_type": "execute_result"
    }
   ],
   "execution_count": 17
  },
  {
   "metadata": {
    "ExecuteTime": {
     "end_time": "2025-08-28T09:18:10.181585Z",
     "start_time": "2025-08-28T09:18:08.752132Z"
    }
   },
   "cell_type": "code",
   "source": [
    "\n",
    "\n",
    "# --- Generate Figure 2 ---\n",
    "# Using a horizontal bar chart is preferable to a pie chart for comparing rankings.\n",
    "plt.style.use('seaborn-v0_8-whitegrid')\n",
    "fig, ax = plt.subplots(figsize=(10, 8))\n",
    "# Create the bar plot\n",
    "sorted_order = qa_counts_sorted['qa'].tolist()\n",
    "sns.barplot(x='Absolute Frequency', y='qa', data=qa_counts_sorted, ax=ax, color='cornflowerblue', orient='h', order=sorted_order)\n",
    "\n",
    "for patch in ax.patches:\n",
    "    width = patch.get_width()\n",
    "    y = patch.get_y() + patch.get_height() / 2\n",
    "    ax.text(width + 400, y, f'{int(width)}', va='center')\n",
    "\n",
    "# Add labels and a descriptive title\n",
    "ax.set_xlabel('Number of Discussions (Sum of nsimilar)', fontsize=12)\n",
    "ax.set_ylabel('Quality Attribute', fontsize=12)\n",
    "# ax.set_title('Figure 2: Overall Frequency of Quality Attribute Discussions', fontsize=14, weight='bold')\n",
    "\n",
    "# Ensure the layout is tight and save the figure for the thesis document\n",
    "plt.tight_layout()\n",
    "plt.savefig('figure_2_qa_prevalence.png', dpi=300)\n",
    "plt.show()\n"
   ],
   "id": "a4b5ca9bd9453faf",
   "outputs": [
    {
     "data": {
      "text/plain": [
       "<Figure size 1000x800 with 1 Axes>"
      ],
      "image/png": "[encoded data removed]"
     },
     "metadata": {},
     "output_type": "display_data"
    }
   ],
   "execution_count": 18
  },
  {
   "metadata": {},
   "cell_type": "markdown",
   "source": [
    "\n",
    "### RQ1 Primary Analysis: Overall Quality Attribute Prevalence\n",
    "\n",
    "The primary analysis for RQ1 identifies the most frequently discussed quality attributes (QAs) across the entire dataset, establishing a foundational understanding of the architectural priorities in compute-intensive scientific software. The analysis aggregated all discussions that passed the S1 relevance filter. The results, presented in Table 4 and visualized in Figure 2, quantify the absolute and relative frequencies of each of the twelve quality attributes under investigation.\n",
    "\n",
    "***\n",
    "\n",
    "The analysis reveals a distinct hierarchy of architectural concerns among developers of scientific software. **Usability** (13.9%) and **Safety** (12.9%) emerge as the two most prominent quality attributes. This primary focus suggests that ensuring the software is not only operable by its intended scientific audience but also produces correct and trustworthy results are paramount concerns.\n",
    "\n",
    "Following these, a cluster of high-priority attributes includes **Performance** (10.1%), **Integrability** (9.6%), **Modifiability** (9.5%), and **Security** (9.1%). The significant attention given to performance aligns with the compute-intensive nature of the selected projects. The strong emphasis on integrability and modifiability highlights the importance of creating software that can be easily incorporated into larger research pipelines and can evolve with changing scientific requirements.\n",
    "\n",
    "Conversely, a notable finding is the remarkably low prevalence of discussions related to **Reliability**, which at 1.9% is the least-discussed attribute by a significant margin. This suggests that developers may use other terms, such as \"safety,\" to discuss system robustness, or that explicit reliability tactics are a less frequent topic of conversation compared to other architectural concerns. **Availability** (3.4%) and **Energy Efficiency** (4.9%) also represent areas of comparatively lower focus."
   ],
   "id": "80c1e3e3b95fd45f"
  },
  {
   "metadata": {
    "ExecuteTime": {
     "end_time": "2025-08-28T09:18:10.455599Z",
     "start_time": "2025-08-28T09:18:10.244672Z"
    }
   },
   "cell_type": "code",
   "source": [
    "import pandas as pd\n",
    "import seaborn as sns\n",
    "import matplotlib.pyplot as plt\n",
    "from scipy.stats import pearsonr\n",
    "\n",
    "# --- Correlation Analysis Code ---\n",
    "# ASSUMPTION: The DataFrame 'df' is loaded, and 'qa_counts_sorted' from the\n",
    "# previous primary analysis is available in memory.\n",
    "\n",
    "# 1. Calculate the number of unique keywords for each QA.\n",
    "keyword_uniqueness = df.groupby('qa')['keyword'].nunique().reset_index()\n",
    "keyword_uniqueness.rename(columns={'keyword': 'Unique Keyword Count'}, inplace=True)\n",
    "\n",
    "# 2. Merge this with your existing QA frequency data.\n",
    "# We use 'qa_counts' before it was sorted to ensure a clean merge, then re-add the sorted version.\n",
    "analysis_df = pd.merge(qa_counts_sorted, keyword_uniqueness, on='qa')\n",
    "analysis_df"
   ],
   "id": "b83431f91426fd26",
   "outputs": [
    {
     "name": "stderr",
     "output_type": "stream",
     "text": [
      "C:\\Users\\Dmitrijs\\AppData\\Local\\Temp\\ipykernel_35168\\971927742.py:11: FutureWarning:\n",
      "\n",
      "The default of observed=False is deprecated and will be changed to True in a future version of pandas. Pass observed=False to retain current behavior or observed=True to adopt the future default and silence this warning.\n",
      "\n"
     ]
    },
    {
     "data": {
      "text/plain": [
       "                   qa  Absolute Frequency  Percentage (%)  \\\n",
       "0           usability               52839       13.883517   \n",
       "1              safety               49070       12.893207   \n",
       "2         performance               38623       10.148244   \n",
       "3       integrability               36565        9.607502   \n",
       "4       modifiability               36029        9.466667   \n",
       "5            security               34783        9.139279   \n",
       "6       deployability               33076        8.690763   \n",
       "7    interoperability               30446        7.999727   \n",
       "8         testability               30072        7.901458   \n",
       "9   energy efficiency               18815        4.943666   \n",
       "10       availability               12994        3.414191   \n",
       "11        reliability                7276        1.911779   \n",
       "\n",
       "    Unique Keyword Count  \n",
       "0                     68  \n",
       "1                     50  \n",
       "2                     64  \n",
       "3                     56  \n",
       "4                     48  \n",
       "5                    107  \n",
       "6                     49  \n",
       "7                     57  \n",
       "8                     40  \n",
       "9                     45  \n",
       "10                    44  \n",
       "11                    51  "
      ],
      "text/html": [
       "<div>\n",
       "<style scoped>\n",
       "    .dataframe tbody tr th:only-of-type {\n",
       "        vertical-align: middle;\n",
       "    }\n",
       "\n",
       "    .dataframe tbody tr th {\n",
       "        vertical-align: top;\n",
       "    }\n",
       "\n",
       "    .dataframe thead th {\n",
       "        text-align: right;\n",
       "    }\n",
       "</style>\n",
       "<table border=\"1\" class=\"dataframe\">\n",
       "  <thead>\n",
       "    <tr style=\"text-align: right;\">\n",
       "      <th></th>\n",
       "      <th>qa</th>\n",
       "      <th>Absolute Frequency</th>\n",
       "      <th>Percentage (%)</th>\n",
       "      <th>Unique Keyword Count</th>\n",
       "    </tr>\n",
       "  </thead>\n",
       "  <tbody>\n",
       "    <tr>\n",
       "      <th>0</th>\n",
       "      <td>usability</td>\n",
       "      <td>52839</td>\n",
       "      <td>13.883517</td>\n",
       "      <td>68</td>\n",
       "    </tr>\n",
       "    <tr>\n",
       "      <th>1</th>\n",
       "      <td>safety</td>\n",
       "      <td>49070</td>\n",
       "      <td>12.893207</td>\n",
       "      <td>50</td>\n",
       "    </tr>\n",
       "    <tr>\n",
       "      <th>2</th>\n",
       "      <td>performance</td>\n",
       "      <td>38623</td>\n",
       "      <td>10.148244</td>\n",
       "      <td>64</td>\n",
       "    </tr>\n",
       "    <tr>\n",
       "      <th>3</th>\n",
       "      <td>integrability</td>\n",
       "      <td>36565</td>\n",
       "      <td>9.607502</td>\n",
       "      <td>56</td>\n",
       "    </tr>\n",
       "    <tr>\n",
       "      <th>4</th>\n",
       "      <td>modifiability</td>\n",
       "      <td>36029</td>\n",
       "      <td>9.466667</td>\n",
       "      <td>48</td>\n",
       "    </tr>\n",
       "    <tr>\n",
       "      <th>5</th>\n",
       "      <td>security</td>\n",
       "      <td>34783</td>\n",
       "      <td>9.139279</td>\n",
       "      <td>107</td>\n",
       "    </tr>\n",
       "    <tr>\n",
       "      <th>6</th>\n",
       "      <td>deployability</td>\n",
       "      <td>33076</td>\n",
       "      <td>8.690763</td>\n",
       "      <td>49</td>\n",
       "    </tr>\n",
       "    <tr>\n",
       "      <th>7</th>\n",
       "      <td>interoperability</td>\n",
       "      <td>30446</td>\n",
       "      <td>7.999727</td>\n",
       "      <td>57</td>\n",
       "    </tr>\n",
       "    <tr>\n",
       "      <th>8</th>\n",
       "      <td>testability</td>\n",
       "      <td>30072</td>\n",
       "      <td>7.901458</td>\n",
       "      <td>40</td>\n",
       "    </tr>\n",
       "    <tr>\n",
       "      <th>9</th>\n",
       "      <td>energy efficiency</td>\n",
       "      <td>18815</td>\n",
       "      <td>4.943666</td>\n",
       "      <td>45</td>\n",
       "    </tr>\n",
       "    <tr>\n",
       "      <th>10</th>\n",
       "      <td>availability</td>\n",
       "      <td>12994</td>\n",
       "      <td>3.414191</td>\n",
       "      <td>44</td>\n",
       "    </tr>\n",
       "    <tr>\n",
       "      <th>11</th>\n",
       "      <td>reliability</td>\n",
       "      <td>7276</td>\n",
       "      <td>1.911779</td>\n",
       "      <td>51</td>\n",
       "    </tr>\n",
       "  </tbody>\n",
       "</table>\n",
       "</div>"
      ]
     },
     "execution_count": 19,
     "metadata": {},
     "output_type": "execute_result"
    }
   ],
   "execution_count": 19
  },
  {
   "metadata": {
    "ExecuteTime": {
     "end_time": "2025-08-28T09:18:10.593418Z",
     "start_time": "2025-08-28T09:18:10.574755Z"
    }
   },
   "cell_type": "code",
   "source": [
    "# 3. Calculate the Pearson correlation coefficient and the p-value.\n",
    "correlation, p_value = pearsonr(analysis_df['Unique Keyword Count'], analysis_df['Absolute Frequency'])\n",
    "\n",
    "print(f\"--- Correlation Analysis ---\")\n",
    "print(f\"Pearson Correlation Coefficient: {correlation:.4f}\")\n",
    "print(f\"P-value: {p_value:.4f}\")\n",
    "print(\"--------------------------\\n\")"
   ],
   "id": "a92381db261c2af9",
   "outputs": [
    {
     "name": "stdout",
     "output_type": "stream",
     "text": [
      "--- Correlation Analysis ---\n",
      "Pearson Correlation Coefficient: 0.3166\n",
      "P-value: 0.3160\n",
      "--------------------------\n",
      "\n"
     ]
    }
   ],
   "execution_count": 20
  },
  {
   "metadata": {
    "ExecuteTime": {
     "end_time": "2025-08-28T09:18:12.474368Z",
     "start_time": "2025-08-28T09:18:10.737031Z"
    }
   },
   "cell_type": "code",
   "source": [
    "\n",
    "\n",
    "# --- Generate Figure X: Regression Plot ---\n",
    "plt.style.use('seaborn-v0_8-whitegrid')\n",
    "fig, ax = plt.subplots(figsize=(11, 7))\n",
    "\n",
    "# Create a regression plot to show the scatter plot and the line of best fit.\n",
    "sns.regplot(\n",
    "    data=analysis_df,\n",
    "    x='Unique Keyword Count',\n",
    "    y='Absolute Frequency',\n",
    "    ax=ax,\n",
    "    ci=95, # Show the 95% confidence interval for the regression estimate\n",
    "    scatter_kws={'s': 80} # Make the scatter points a bit larger\n",
    ")\n",
    "\n",
    "# Add text labels to each point for clarity\n",
    "for i, row in analysis_df.iterrows():\n",
    "    ax.text(row['Unique Keyword Count'] + 0.5, row['Absolute Frequency'], row['qa'],\n",
    "            horizontalalignment='left', size='small', color='black')\n",
    "\n",
    "# Add titles and labels\n",
    "# ax.set_title('Figure X: QA Discussion Frequency vs. Unique Keyword Count', fontsize=14, weight='bold')\n",
    "ax.set_xlabel('Number of Unique Keywords per QA', fontsize=12)\n",
    "ax.set_ylabel('Absolute Frequency of Discussions', fontsize=12)\n",
    "\n",
    "# Improve layout and save the figure\n",
    "plt.tight_layout()\n",
    "plt.savefig('figure_3_correlation_plot.png', dpi=300)\n",
    "plt.show()\n",
    "\n",
    "# Display the final data table\n",
    "# print(\"Data for the plot:\")\n",
    "# print(analysis_df.to_markdown(index=False))"
   ],
   "id": "aa92ca9a019672aa",
   "outputs": [
    {
     "data": {
      "text/plain": [
       "<Figure size 1100x700 with 1 Axes>"
      ],
      "image/png": "[encoded data removed]"
     },
     "metadata": {},
     "output_type": "display_data"
    }
   ],
   "execution_count": 21
  },
  {
   "metadata": {},
   "cell_type": "markdown",
   "source": [
    "### ## RQ1 Secondary Analysis: Vocabulary Size vs. Discussion Frequency\n",
    "\n",
    "An analysis was conducted to determine if a relationship exists between the size of a quality attribute's vocabulary and its overall discussion frequency. The Pearson correlation coefficient was calculated, and the relationship was visualized using a regression plot (Figure X).\n",
    "\n",
    "The analysis revealed a weak positive correlation (Pearson's r = 0.32) between the number of unique keywords and the absolute frequency of discussions. However, with a p-value of 0.32, this correlation is **not statistically significant**. This finding suggests that simply having a larger number of associated keywords for a quality attribute is not a reliable predictor of a higher discussion volume.\n",
    "\n",
    "The regression plot in Figure X visually confirms this weak relationship, showing a wide confidence interval around the regression line. The plot also highlights several key outliers that help explain the lack of a strong trend. **Security**, for instance, is a significant outlier, possessing the largest vocabulary by a wide margin (107 unique keywords) but only a moderate discussion frequency. This suggests that the language around security is highly specific and diverse, but individual terms may be used less often. In contrast, **Safety** and **Usability** achieve high discussion frequencies with much smaller vocabularies (50 and 68 keywords, respectively), indicating their prevalence is driven by a more concentrated set of high-impact terms. This outcome underscores that the *popularity* of specific keywords is a more influential factor in discussion frequency than the sheer size of the vocabulary."
   ],
   "id": "1b56d2959dcfec2b"
  },
  {
   "metadata": {},
   "cell_type": "markdown",
   "source": "## Secondary - Repository-Specific Priorities",
   "id": "6525929108a496dc"
  },
  {
   "metadata": {
    "ExecuteTime": {
     "end_time": "2025-08-28T09:18:12.761392Z",
     "start_time": "2025-08-28T09:18:12.570357Z"
    }
   },
   "cell_type": "code",
   "source": [
    "r1_2 = df[df.s1_passed].pivot_table(index=[\"repo_id\"], columns=\"qa\", values=\"nsimilar\", aggfunc=\"sum\")\n",
    "r1_2"
   ],
   "id": "87088268f4b4211a",
   "outputs": [
    {
     "name": "stderr",
     "output_type": "stream",
     "text": [
      "C:\\Users\\Dmitrijs\\AppData\\Local\\Temp\\ipykernel_35168\\3060825801.py:1: FutureWarning:\n",
      "\n",
      "The default value of observed=False is deprecated and will change to observed=True in a future version of pandas. Specify observed=False to silence this warning and retain the current behavior\n",
      "\n"
     ]
    },
    {
     "data": {
      "text/plain": [
       "qa                          availability  deployability  energy efficiency  \\\n",
       "repo_id                                                                      \n",
       "OpenGene/fastp/v0.23.4               163            278                274   \n",
       "allenai/scispacy/v0.5.5              112            453                314   \n",
       "google/deepvariant/v1.6.1            623           2046               1245   \n",
       "root-project/root/v6-32-06         10946          26675              15910   \n",
       "scverse/scanpy/1.10.2               1150           3624               1072   \n",
       "\n",
       "qa                          integrability  interoperability  modifiability  \\\n",
       "repo_id                                                                      \n",
       "OpenGene/fastp/v0.23.4                650               450            500   \n",
       "allenai/scispacy/v0.5.5               421               215            318   \n",
       "google/deepvariant/v1.6.1             606              1079           1065   \n",
       "root-project/root/v6-32-06          31768             26868          31195   \n",
       "scverse/scanpy/1.10.2                3120              1834           2951   \n",
       "\n",
       "qa                          performance  reliability  safety  security  \\\n",
       "repo_id                                                                  \n",
       "OpenGene/fastp/v0.23.4              309           66     448       258   \n",
       "allenai/scispacy/v0.5.5             342           64     357       413   \n",
       "google/deepvariant/v1.6.1          1812          317    1966      1356   \n",
       "root-project/root/v6-32-06        33975         6427   43067     30957   \n",
       "scverse/scanpy/1.10.2              2185          402    3232      1799   \n",
       "\n",
       "qa                          testability  usability  \n",
       "repo_id                                             \n",
       "OpenGene/fastp/v0.23.4              126        656  \n",
       "allenai/scispacy/v0.5.5             229        446  \n",
       "google/deepvariant/v1.6.1          1418       3125  \n",
       "root-project/root/v6-32-06        25421      43933  \n",
       "scverse/scanpy/1.10.2              2878       4679  "
      ],
      "text/html": [
       "<div>\n",
       "<style scoped>\n",
       "    .dataframe tbody tr th:only-of-type {\n",
       "        vertical-align: middle;\n",
       "    }\n",
       "\n",
       "    .dataframe tbody tr th {\n",
       "        vertical-align: top;\n",
       "    }\n",
       "\n",
       "    .dataframe thead th {\n",
       "        text-align: right;\n",
       "    }\n",
       "</style>\n",
       "<table border=\"1\" class=\"dataframe\">\n",
       "  <thead>\n",
       "    <tr style=\"text-align: right;\">\n",
       "      <th>qa</th>\n",
       "      <th>availability</th>\n",
       "      <th>deployability</th>\n",
       "      <th>energy efficiency</th>\n",
       "      <th>integrability</th>\n",
       "      <th>interoperability</th>\n",
       "      <th>modifiability</th>\n",
       "      <th>performance</th>\n",
       "      <th>reliability</th>\n",
       "      <th>safety</th>\n",
       "      <th>security</th>\n",
       "      <th>testability</th>\n",
       "      <th>usability</th>\n",
       "    </tr>\n",
       "    <tr>\n",
       "      <th>repo_id</th>\n",
       "      <th></th>\n",
       "      <th></th>\n",
       "      <th></th>\n",
       "      <th></th>\n",
       "      <th></th>\n",
       "      <th></th>\n",
       "      <th></th>\n",
       "      <th></th>\n",
       "      <th></th>\n",
       "      <th></th>\n",
       "      <th></th>\n",
       "      <th></th>\n",
       "    </tr>\n",
       "  </thead>\n",
       "  <tbody>\n",
       "    <tr>\n",
       "      <th>OpenGene/fastp/v0.23.4</th>\n",
       "      <td>163</td>\n",
       "      <td>278</td>\n",
       "      <td>274</td>\n",
       "      <td>650</td>\n",
       "      <td>450</td>\n",
       "      <td>500</td>\n",
       "      <td>309</td>\n",
       "      <td>66</td>\n",
       "      <td>448</td>\n",
       "      <td>258</td>\n",
       "      <td>126</td>\n",
       "      <td>656</td>\n",
       "    </tr>\n",
       "    <tr>\n",
       "      <th>allenai/scispacy/v0.5.5</th>\n",
       "      <td>112</td>\n",
       "      <td>453</td>\n",
       "      <td>314</td>\n",
       "      <td>421</td>\n",
       "      <td>215</td>\n",
       "      <td>318</td>\n",
       "      <td>342</td>\n",
       "      <td>64</td>\n",
       "      <td>357</td>\n",
       "      <td>413</td>\n",
       "      <td>229</td>\n",
       "      <td>446</td>\n",
       "    </tr>\n",
       "    <tr>\n",
       "      <th>google/deepvariant/v1.6.1</th>\n",
       "      <td>623</td>\n",
       "      <td>2046</td>\n",
       "      <td>1245</td>\n",
       "      <td>606</td>\n",
       "      <td>1079</td>\n",
       "      <td>1065</td>\n",
       "      <td>1812</td>\n",
       "      <td>317</td>\n",
       "      <td>1966</td>\n",
       "      <td>1356</td>\n",
       "      <td>1418</td>\n",
       "      <td>3125</td>\n",
       "    </tr>\n",
       "    <tr>\n",
       "      <th>root-project/root/v6-32-06</th>\n",
       "      <td>10946</td>\n",
       "      <td>26675</td>\n",
       "      <td>15910</td>\n",
       "      <td>31768</td>\n",
       "      <td>26868</td>\n",
       "      <td>31195</td>\n",
       "      <td>33975</td>\n",
       "      <td>6427</td>\n",
       "      <td>43067</td>\n",
       "      <td>30957</td>\n",
       "      <td>25421</td>\n",
       "      <td>43933</td>\n",
       "    </tr>\n",
       "    <tr>\n",
       "      <th>scverse/scanpy/1.10.2</th>\n",
       "      <td>1150</td>\n",
       "      <td>3624</td>\n",
       "      <td>1072</td>\n",
       "      <td>3120</td>\n",
       "      <td>1834</td>\n",
       "      <td>2951</td>\n",
       "      <td>2185</td>\n",
       "      <td>402</td>\n",
       "      <td>3232</td>\n",
       "      <td>1799</td>\n",
       "      <td>2878</td>\n",
       "      <td>4679</td>\n",
       "    </tr>\n",
       "  </tbody>\n",
       "</table>\n",
       "</div>"
      ]
     },
     "execution_count": 22,
     "metadata": {},
     "output_type": "execute_result"
    }
   ],
   "execution_count": 22
  },
  {
   "metadata": {
    "ExecuteTime": {
     "end_time": "2025-08-28T09:18:13.005249Z",
     "start_time": "2025-08-28T09:18:12.963842Z"
    }
   },
   "cell_type": "code",
   "source": [
    "r1_2_pc = r1_2.div(r1_2.sum(axis=1), axis=0) * 100\n",
    "r1_2_pc"
   ],
   "id": "ca822209f63bbc6b",
   "outputs": [
    {
     "data": {
      "text/plain": [
       "qa                          availability  deployability  energy efficiency  \\\n",
       "repo_id                                                                      \n",
       "OpenGene/fastp/v0.23.4          3.901388       6.653901           6.558162   \n",
       "allenai/scispacy/v0.5.5         3.040174      12.296417           8.523344   \n",
       "google/deepvariant/v1.6.1       3.739945      12.282387           7.473886   \n",
       "root-project/root/v6-32-06      3.345948       8.153951           4.863332   \n",
       "scverse/scanpy/1.10.2           3.975662      12.528521           3.706008   \n",
       "\n",
       "qa                          integrability  interoperability  modifiability  \\\n",
       "repo_id                                                                      \n",
       "OpenGene/fastp/v0.23.4          15.557683         10.770704      11.967449   \n",
       "allenai/scispacy/v0.5.5         11.427796          5.836048       8.631922   \n",
       "google/deepvariant/v1.6.1        3.637892          6.477368       6.393325   \n",
       "root-project/root/v6-32-06       9.710768          8.212947       9.535615   \n",
       "scverse/scanpy/1.10.2           10.786144          6.340317      10.201894   \n",
       "\n",
       "qa                          performance  reliability     safety   security  \\\n",
       "repo_id                                                                      \n",
       "OpenGene/fastp/v0.23.4         7.395883     1.579703  10.722834   6.175203   \n",
       "allenai/scispacy/v0.5.5        9.283388     1.737242   9.690554  11.210641   \n",
       "google/deepvariant/v1.6.1     10.877656     1.902990  11.802137   8.140233   \n",
       "root-project/root/v6-32-06    10.385398     1.964590  13.164620   9.462863   \n",
       "scverse/scanpy/1.10.2          7.553758     1.389753  11.173339   6.219318   \n",
       "\n",
       "qa                          testability  usability  \n",
       "repo_id                                             \n",
       "OpenGene/fastp/v0.23.4         3.015797  15.701292  \n",
       "allenai/scispacy/v0.5.5        6.216069  12.106406  \n",
       "google/deepvariant/v1.6.1      8.512426  18.759755  \n",
       "root-project/root/v6-32-06     7.770632  13.429336  \n",
       "scverse/scanpy/1.10.2          9.949526  16.175759  "
      ],
      "text/html": [
       "<div>\n",
       "<style scoped>\n",
       "    .dataframe tbody tr th:only-of-type {\n",
       "        vertical-align: middle;\n",
       "    }\n",
       "\n",
       "    .dataframe tbody tr th {\n",
       "        vertical-align: top;\n",
       "    }\n",
       "\n",
       "    .dataframe thead th {\n",
       "        text-align: right;\n",
       "    }\n",
       "</style>\n",
       "<table border=\"1\" class=\"dataframe\">\n",
       "  <thead>\n",
       "    <tr style=\"text-align: right;\">\n",
       "      <th>qa</th>\n",
       "      <th>availability</th>\n",
       "      <th>deployability</th>\n",
       "      <th>energy efficiency</th>\n",
       "      <th>integrability</th>\n",
       "      <th>interoperability</th>\n",
       "      <th>modifiability</th>\n",
       "      <th>performance</th>\n",
       "      <th>reliability</th>\n",
       "      <th>safety</th>\n",
       "      <th>security</th>\n",
       "      <th>testability</th>\n",
       "      <th>usability</th>\n",
       "    </tr>\n",
       "    <tr>\n",
       "      <th>repo_id</th>\n",
       "      <th></th>\n",
       "      <th></th>\n",
       "      <th></th>\n",
       "      <th></th>\n",
       "      <th></th>\n",
       "      <th></th>\n",
       "      <th></th>\n",
       "      <th></th>\n",
       "      <th></th>\n",
       "      <th></th>\n",
       "      <th></th>\n",
       "      <th></th>\n",
       "    </tr>\n",
       "  </thead>\n",
       "  <tbody>\n",
       "    <tr>\n",
       "      <th>OpenGene/fastp/v0.23.4</th>\n",
       "      <td>3.901388</td>\n",
       "      <td>6.653901</td>\n",
       "      <td>6.558162</td>\n",
       "      <td>15.557683</td>\n",
       "      <td>10.770704</td>\n",
       "      <td>11.967449</td>\n",
       "      <td>7.395883</td>\n",
       "      <td>1.579703</td>\n",
       "      <td>10.722834</td>\n",
       "      <td>6.175203</td>\n",
       "      <td>3.015797</td>\n",
       "      <td>15.701292</td>\n",
       "    </tr>\n",
       "    <tr>\n",
       "      <th>allenai/scispacy/v0.5.5</th>\n",
       "      <td>3.040174</td>\n",
       "      <td>12.296417</td>\n",
       "      <td>8.523344</td>\n",
       "      <td>11.427796</td>\n",
       "      <td>5.836048</td>\n",
       "      <td>8.631922</td>\n",
       "      <td>9.283388</td>\n",
       "      <td>1.737242</td>\n",
       "      <td>9.690554</td>\n",
       "      <td>11.210641</td>\n",
       "      <td>6.216069</td>\n",
       "      <td>12.106406</td>\n",
       "    </tr>\n",
       "    <tr>\n",
       "      <th>google/deepvariant/v1.6.1</th>\n",
       "      <td>3.739945</td>\n",
       "      <td>12.282387</td>\n",
       "      <td>7.473886</td>\n",
       "      <td>3.637892</td>\n",
       "      <td>6.477368</td>\n",
       "      <td>6.393325</td>\n",
       "      <td>10.877656</td>\n",
       "      <td>1.902990</td>\n",
       "      <td>11.802137</td>\n",
       "      <td>8.140233</td>\n",
       "      <td>8.512426</td>\n",
       "      <td>18.759755</td>\n",
       "    </tr>\n",
       "    <tr>\n",
       "      <th>root-project/root/v6-32-06</th>\n",
       "      <td>3.345948</td>\n",
       "      <td>8.153951</td>\n",
       "      <td>4.863332</td>\n",
       "      <td>9.710768</td>\n",
       "      <td>8.212947</td>\n",
       "      <td>9.535615</td>\n",
       "      <td>10.385398</td>\n",
       "      <td>1.964590</td>\n",
       "      <td>13.164620</td>\n",
       "      <td>9.462863</td>\n",
       "      <td>7.770632</td>\n",
       "      <td>13.429336</td>\n",
       "    </tr>\n",
       "    <tr>\n",
       "      <th>scverse/scanpy/1.10.2</th>\n",
       "      <td>3.975662</td>\n",
       "      <td>12.528521</td>\n",
       "      <td>3.706008</td>\n",
       "      <td>10.786144</td>\n",
       "      <td>6.340317</td>\n",
       "      <td>10.201894</td>\n",
       "      <td>7.553758</td>\n",
       "      <td>1.389753</td>\n",
       "      <td>11.173339</td>\n",
       "      <td>6.219318</td>\n",
       "      <td>9.949526</td>\n",
       "      <td>16.175759</td>\n",
       "    </tr>\n",
       "  </tbody>\n",
       "</table>\n",
       "</div>"
      ]
     },
     "execution_count": 23,
     "metadata": {},
     "output_type": "execute_result"
    }
   ],
   "execution_count": 23
  },
  {
   "metadata": {
    "ExecuteTime": {
     "end_time": "2025-08-28T09:18:16.051664Z",
     "start_time": "2025-08-28T09:18:13.265184Z"
    }
   },
   "cell_type": "code",
   "source": [
    "import seaborn as sns\n",
    "import matplotlib.pyplot as plt\n",
    "\n",
    "plt.style.use('default')\n",
    "fig, ax = plt.subplots(figsize=(12, 10))\n",
    "\n",
    "sns.heatmap(r1_2_pc,\n",
    "            annot=True,\n",
    "            fmt=\".1f\",\n",
    "            linewidths=.5,\n",
    "            cmap='Blues',\n",
    "            ax=ax,\n",
    "            cbar_kws={'label': 'Percentage of Discussions within Repository (%)'})\n",
    "\n",
    "# ax.set_title('Figure 4: Relative Focus on Quality Attributes Across Repositories', fontsize=16, weight='bold', pad=20)\n",
    "ax.set_xlabel('Repository', fontsize=12)\n",
    "ax.set_ylabel('Quality Attribute', fontsize=12)\n",
    "\n",
    "plt.xticks(rotation=45, ha='right')\n",
    "plt.yticks(rotation=0)\n",
    "plt.tight_layout()\n",
    "plt.savefig('figure_4_qa_heatmap.png', dpi=300)\n",
    "\n",
    "plt.show()"
   ],
   "id": "cc8b19707f736e53",
   "outputs": [
    {
     "data": {
      "text/plain": [
       "<Figure size 1200x1000 with 2 Axes>"
      ],
      "image/png": "[encoded data removed]"
     },
     "metadata": {},
     "output_type": "display_data"
    }
   ],
   "execution_count": 24
  },
  {
   "metadata": {},
   "cell_type": "markdown",
   "source": [
    "## RQ1 Secondary Analysis: Repository-Specific Architectural Priorities\n",
    "\n",
    "To investigate whether architectural priorities are project-dependent, the discussions of quality attributes were normalized within each repository. This normalization provides a direct comparison of the *proportional focus* on each attribute, independent of a project's overall size or activity level. The resulting distribution, visualized as a heatmap in Figure [XXX], reveals distinct architectural profiles for each project, although several common themes are apparent.\n",
    "\n",
    "A primary observation is the consistent, high-level focus on **Usability**. This attribute is among the most discussed for four of the five projects, with a particularly strong emphasis in `google/deepvariant` (18.8%) and `scverse/scanpy` (16.2%). This widespread priority suggests that for developers of specialized scientific software, ensuring tools are accessible and operable for their target scientific audience is a key architectural driver. Another commonality is the shared focus on **Deployability**, which is a top concern for libraries like `allenai/scispacy` (12.3%) and `scverse/scanpy` (12.5%). In contrast, **Reliability** is consistently the least-discussed attribute across all projects, never exceeding 2% of the conversation.\n",
    "\n",
    "Beyond these shared themes, the analysis highlights unique priorities that align with the specific purpose and nature of each project.\n",
    "* The most pronounced project-specific focus is on **Integrability** (15.6%) in `OpenGene/fastp`. As a command-line tool designed for \"all-in-one preprocessing for FastQ files\", its ability to function as a well-behaved component within larger bioinformatics workflows is a clear architectural priority.\n",
    "* For `allenai/scispacy`, a Python library for biomedical text processing, the dominant concern is **Deployability** (12.3%). This quantitative finding is directly substantiated by the project's documentation, which dedicates a significant section to resolving installation complexities across different platforms and environments.\n",
    "* The `root-project/root` framework, which is used to process exabytes of high-energy physics data, shows a proportionally high focus on **Safety** (13.2%). This suggests a heightened concern for correctness and the prevention of data corruption, which is logical given the scale and criticality of its application domain.\n",
    "* For `scverse/scanpy`, the priorities are **Usability** (16.2%) and **Deployability** (12.5%). This aligns with its role as a \"scalable toolkit for analyzing single-cell gene expression data\" that is part of the larger `scverse` \"computational ecosystem\". For a library intended for researchers, ensuring it can be easily installed and integrated into various analytical workflows is a primary architectural concern.\n",
    "* Finally, the pronounced focus on **Usability** (18.8%) in `google/deepvariant` reflects its stated goal of providing an \"Ease of use\" tool where complex deep-learning models are packaged for straightforward application by genomics researchers.\n",
    "\n",
    "These distinct profiles indicate that while a common set of architectural challenges exists, the specific domain and intended function of a scientific software project are critical drivers of its architectural trade-offs."
   ],
   "id": "7a1a83e36db92c9a"
  },
  {
   "metadata": {},
   "cell_type": "markdown",
   "source": "## Secondary 2 - Keyword Performance Analysis",
   "id": "24d88ba5187e19cb"
  },
  {
   "metadata": {
    "ExecuteTime": {
     "end_time": "2025-08-28T09:18:16.300319Z",
     "start_time": "2025-08-28T09:18:16.249529Z"
    }
   },
   "cell_type": "code",
   "source": "df.head()",
   "id": "1624a2e5bab5ad03",
   "outputs": [
    {
     "data": {
      "text/plain": [
       "   keyword                                           sentence            qa  \\\n",
       "0     down  Given something that might be a URL (or might ...  availability   \n",
       "1     down  Given a URL, look for the corresponding datase...  availability   \n",
       "2     down  Download to temporary file, then copy to cache...  availability   \n",
       "3    avail  A candidate generator for entity linking to a ...  availability   \n",
       "4  consist  A spacy pipeline component which identifies en...  availability   \n",
       "\n",
       "         source                                                url  \\\n",
       "0  code_comment  https://github.com/allenai/scispacy/tree/v0.5....   \n",
       "1  code_comment  https://github.com/allenai/scispacy/tree/v0.5....   \n",
       "2  code_comment  https://github.com/allenai/scispacy/tree/v0.5....   \n",
       "3  code_comment  https://github.com/allenai/scispacy/tree/v0.5....   \n",
       "4  code_comment  https://github.com/allenai/scispacy/tree/v0.5....   \n",
       "\n",
       "                   repo_id matched_word  nsimilar  prefilter_passed  \\\n",
       "0  allenai/scispacy/v0.5.5     download         1              True   \n",
       "1  allenai/scispacy/v0.5.5     download         1              True   \n",
       "2  allenai/scispacy/v0.5.5     download         2              True   \n",
       "3  allenai/scispacy/v0.5.5    available         1              True   \n",
       "4  allenai/scispacy/v0.5.5     consists         1              True   \n",
       "\n",
       "   s0_passed  s1_passed  s2_passed  s3_passed s3_tactic s3_tactic_category  \n",
       "0       True       True      False      False       NaN                NaN  \n",
       "1      False      False      False      False       NaN                NaN  \n",
       "2       True       True       True      False      None                NaN  \n",
       "3       True      False      False      False       NaN                NaN  \n",
       "4      False      False      False      False       NaN                NaN  "
      ],
      "text/html": [
       "<div>\n",
       "<style scoped>\n",
       "    .dataframe tbody tr th:only-of-type {\n",
       "        vertical-align: middle;\n",
       "    }\n",
       "\n",
       "    .dataframe tbody tr th {\n",
       "        vertical-align: top;\n",
       "    }\n",
       "\n",
       "    .dataframe thead th {\n",
       "        text-align: right;\n",
       "    }\n",
       "</style>\n",
       "<table border=\"1\" class=\"dataframe\">\n",
       "  <thead>\n",
       "    <tr style=\"text-align: right;\">\n",
       "      <th></th>\n",
       "      <th>keyword</th>\n",
       "      <th>sentence</th>\n",
       "      <th>qa</th>\n",
       "      <th>source</th>\n",
       "      <th>url</th>\n",
       "      <th>repo_id</th>\n",
       "      <th>matched_word</th>\n",
       "      <th>nsimilar</th>\n",
       "      <th>prefilter_passed</th>\n",
       "      <th>s0_passed</th>\n",
       "      <th>s1_passed</th>\n",
       "      <th>s2_passed</th>\n",
       "      <th>s3_passed</th>\n",
       "      <th>s3_tactic</th>\n",
       "      <th>s3_tactic_category</th>\n",
       "    </tr>\n",
       "  </thead>\n",
       "  <tbody>\n",
       "    <tr>\n",
       "      <th>0</th>\n",
       "      <td>down</td>\n",
       "      <td>Given something that might be a URL (or might ...</td>\n",
       "      <td>availability</td>\n",
       "      <td>code_comment</td>\n",
       "      <td>https://github.com/allenai/scispacy/tree/v0.5....</td>\n",
       "      <td>allenai/scispacy/v0.5.5</td>\n",
       "      <td>download</td>\n",
       "      <td>1</td>\n",
       "      <td>True</td>\n",
       "      <td>True</td>\n",
       "      <td>True</td>\n",
       "      <td>False</td>\n",
       "      <td>False</td>\n",
       "      <td>NaN</td>\n",
       "      <td>NaN</td>\n",
       "    </tr>\n",
       "    <tr>\n",
       "      <th>1</th>\n",
       "      <td>down</td>\n",
       "      <td>Given a URL, look for the corresponding datase...</td>\n",
       "      <td>availability</td>\n",
       "      <td>code_comment</td>\n",
       "      <td>https://github.com/allenai/scispacy/tree/v0.5....</td>\n",
       "      <td>allenai/scispacy/v0.5.5</td>\n",
       "      <td>download</td>\n",
       "      <td>1</td>\n",
       "      <td>True</td>\n",
       "      <td>False</td>\n",
       "      <td>False</td>\n",
       "      <td>False</td>\n",
       "      <td>False</td>\n",
       "      <td>NaN</td>\n",
       "      <td>NaN</td>\n",
       "    </tr>\n",
       "    <tr>\n",
       "      <th>2</th>\n",
       "      <td>down</td>\n",
       "      <td>Download to temporary file, then copy to cache...</td>\n",
       "      <td>availability</td>\n",
       "      <td>code_comment</td>\n",
       "      <td>https://github.com/allenai/scispacy/tree/v0.5....</td>\n",
       "      <td>allenai/scispacy/v0.5.5</td>\n",
       "      <td>download</td>\n",
       "      <td>2</td>\n",
       "      <td>True</td>\n",
       "      <td>True</td>\n",
       "      <td>True</td>\n",
       "      <td>True</td>\n",
       "      <td>False</td>\n",
       "      <td>None</td>\n",
       "      <td>NaN</td>\n",
       "    </tr>\n",
       "    <tr>\n",
       "      <th>3</th>\n",
       "      <td>avail</td>\n",
       "      <td>A candidate generator for entity linking to a ...</td>\n",
       "      <td>availability</td>\n",
       "      <td>code_comment</td>\n",
       "      <td>https://github.com/allenai/scispacy/tree/v0.5....</td>\n",
       "      <td>allenai/scispacy/v0.5.5</td>\n",
       "      <td>available</td>\n",
       "      <td>1</td>\n",
       "      <td>True</td>\n",
       "      <td>True</td>\n",
       "      <td>False</td>\n",
       "      <td>False</td>\n",
       "      <td>False</td>\n",
       "      <td>NaN</td>\n",
       "      <td>NaN</td>\n",
       "    </tr>\n",
       "    <tr>\n",
       "      <th>4</th>\n",
       "      <td>consist</td>\n",
       "      <td>A spacy pipeline component which identifies en...</td>\n",
       "      <td>availability</td>\n",
       "      <td>code_comment</td>\n",
       "      <td>https://github.com/allenai/scispacy/tree/v0.5....</td>\n",
       "      <td>allenai/scispacy/v0.5.5</td>\n",
       "      <td>consists</td>\n",
       "      <td>1</td>\n",
       "      <td>True</td>\n",
       "      <td>False</td>\n",
       "      <td>False</td>\n",
       "      <td>False</td>\n",
       "      <td>False</td>\n",
       "      <td>NaN</td>\n",
       "      <td>NaN</td>\n",
       "    </tr>\n",
       "  </tbody>\n",
       "</table>\n",
       "</div>"
      ]
     },
     "execution_count": 25,
     "metadata": {},
     "output_type": "execute_result"
    }
   ],
   "execution_count": 25
  },
  {
   "metadata": {
    "ExecuteTime": {
     "end_time": "2025-08-28T09:18:16.732858Z",
     "start_time": "2025-08-28T09:18:16.472599Z"
    }
   },
   "cell_type": "code",
   "source": [
    "r1_3 = df.pivot_table(index=\"keyword\", columns=\"s1_passed\", values=\"nsimilar\", aggfunc=\"sum\")\n",
    "r1_3[\"total\"] = r1_3.sum(axis=1)\n",
    "nkw =  r1_3.total.sum()\n",
    "r1_3[\"passed_ratio\"] = r1_3[True] / r1_3.total\n",
    "r1_3[\"popularity_ratio\"] = r1_3.total / nkw\n",
    "r1_3.sort_values(\"total\", ascending=False)"
   ],
   "id": "14e8c26ae4db322f",
   "outputs": [
    {
     "name": "stderr",
     "output_type": "stream",
     "text": [
      "C:\\Users\\Dmitrijs\\AppData\\Local\\Temp\\ipykernel_35168\\681951998.py:1: FutureWarning:\n",
      "\n",
      "The default value of observed=False is deprecated and will change to observed=True in a future version of pandas. Specify observed=False to silence this warning and retain the current behavior\n",
      "\n"
     ]
    },
    {
     "data": {
      "text/plain": [
       "s1_passed       False   True   total  passed_ratio  popularity_ratio\n",
       "keyword                                                             \n",
       "error          107640  19339  126979      0.152301      6.365341e-02\n",
       "test            65431  15672   81103      0.193236      4.065619e-02\n",
       "depend          50426  14498   64924      0.223307      3.254581e-02\n",
       "version         52257  11612   63869      0.181810      3.201694e-02\n",
       "modul           51628  10347   61975      0.166954      3.106750e-02\n",
       "...               ...    ...     ...           ...               ...\n",
       "tenant              1      0       1      0.000000      5.012908e-07\n",
       "trojan              0      1       1      1.000000      5.012908e-07\n",
       "guardrail           1      0       1      0.000000      5.012908e-07\n",
       "chang environ       1      0       1      0.000000      5.012908e-07\n",
       "xss                 1      0       1      0.000000      5.012908e-07\n",
       "\n",
       "[523 rows x 5 columns]"
      ],
      "text/html": [
       "<div>\n",
       "<style scoped>\n",
       "    .dataframe tbody tr th:only-of-type {\n",
       "        vertical-align: middle;\n",
       "    }\n",
       "\n",
       "    .dataframe tbody tr th {\n",
       "        vertical-align: top;\n",
       "    }\n",
       "\n",
       "    .dataframe thead th {\n",
       "        text-align: right;\n",
       "    }\n",
       "</style>\n",
       "<table border=\"1\" class=\"dataframe\">\n",
       "  <thead>\n",
       "    <tr style=\"text-align: right;\">\n",
       "      <th>s1_passed</th>\n",
       "      <th>False</th>\n",
       "      <th>True</th>\n",
       "      <th>total</th>\n",
       "      <th>passed_ratio</th>\n",
       "      <th>popularity_ratio</th>\n",
       "    </tr>\n",
       "    <tr>\n",
       "      <th>keyword</th>\n",
       "      <th></th>\n",
       "      <th></th>\n",
       "      <th></th>\n",
       "      <th></th>\n",
       "      <th></th>\n",
       "    </tr>\n",
       "  </thead>\n",
       "  <tbody>\n",
       "    <tr>\n",
       "      <th>error</th>\n",
       "      <td>107640</td>\n",
       "      <td>19339</td>\n",
       "      <td>126979</td>\n",
       "      <td>0.152301</td>\n",
       "      <td>6.365341e-02</td>\n",
       "    </tr>\n",
       "    <tr>\n",
       "      <th>test</th>\n",
       "      <td>65431</td>\n",
       "      <td>15672</td>\n",
       "      <td>81103</td>\n",
       "      <td>0.193236</td>\n",
       "      <td>4.065619e-02</td>\n",
       "    </tr>\n",
       "    <tr>\n",
       "      <th>depend</th>\n",
       "      <td>50426</td>\n",
       "      <td>14498</td>\n",
       "      <td>64924</td>\n",
       "      <td>0.223307</td>\n",
       "      <td>3.254581e-02</td>\n",
       "    </tr>\n",
       "    <tr>\n",
       "      <th>version</th>\n",
       "      <td>52257</td>\n",
       "      <td>11612</td>\n",
       "      <td>63869</td>\n",
       "      <td>0.181810</td>\n",
       "      <td>3.201694e-02</td>\n",
       "    </tr>\n",
       "    <tr>\n",
       "      <th>modul</th>\n",
       "      <td>51628</td>\n",
       "      <td>10347</td>\n",
       "      <td>61975</td>\n",
       "      <td>0.166954</td>\n",
       "      <td>3.106750e-02</td>\n",
       "    </tr>\n",
       "    <tr>\n",
       "      <th>...</th>\n",
       "      <td>...</td>\n",
       "      <td>...</td>\n",
       "      <td>...</td>\n",
       "      <td>...</td>\n",
       "      <td>...</td>\n",
       "    </tr>\n",
       "    <tr>\n",
       "      <th>tenant</th>\n",
       "      <td>1</td>\n",
       "      <td>0</td>\n",
       "      <td>1</td>\n",
       "      <td>0.000000</td>\n",
       "      <td>5.012908e-07</td>\n",
       "    </tr>\n",
       "    <tr>\n",
       "      <th>trojan</th>\n",
       "      <td>0</td>\n",
       "      <td>1</td>\n",
       "      <td>1</td>\n",
       "      <td>1.000000</td>\n",
       "      <td>5.012908e-07</td>\n",
       "    </tr>\n",
       "    <tr>\n",
       "      <th>guardrail</th>\n",
       "      <td>1</td>\n",
       "      <td>0</td>\n",
       "      <td>1</td>\n",
       "      <td>0.000000</td>\n",
       "      <td>5.012908e-07</td>\n",
       "    </tr>\n",
       "    <tr>\n",
       "      <th>chang environ</th>\n",
       "      <td>1</td>\n",
       "      <td>0</td>\n",
       "      <td>1</td>\n",
       "      <td>0.000000</td>\n",
       "      <td>5.012908e-07</td>\n",
       "    </tr>\n",
       "    <tr>\n",
       "      <th>xss</th>\n",
       "      <td>1</td>\n",
       "      <td>0</td>\n",
       "      <td>1</td>\n",
       "      <td>0.000000</td>\n",
       "      <td>5.012908e-07</td>\n",
       "    </tr>\n",
       "  </tbody>\n",
       "</table>\n",
       "<p>523 rows × 5 columns</p>\n",
       "</div>"
      ]
     },
     "execution_count": 26,
     "metadata": {},
     "output_type": "execute_result"
    }
   ],
   "execution_count": 26
  },
  {
   "metadata": {
    "ExecuteTime": {
     "end_time": "2025-08-28T09:18:17.061634Z",
     "start_time": "2025-08-28T09:18:17.057741Z"
    }
   },
   "cell_type": "code",
   "source": [
    "# px.scatter(r1_3, x=\"popularity_ratio\", y=\"passed_ratio\", hover_name=r1_3.index, hover_data=[\"passed_ratio\", \"popularity_ratio\", \"total\"])\n",
    "# # px.scatter(r1_3, x=\"popularity_ratio\", y=\"passed_ratio\", hover_name=r1_3.index, hover_data=[\"passed_ratio\", \"popularity_ratio\", \"total\"], color=\"total\", color_continuous_scale=px.colors.sequential.Burgyl_r)"
   ],
   "id": "90daa6fa5fc1ec33",
   "outputs": [],
   "execution_count": 27
  },
  {
   "metadata": {
    "ExecuteTime": {
     "end_time": "2025-08-28T09:18:18.231551Z",
     "start_time": "2025-08-28T09:18:17.398181Z"
    }
   },
   "cell_type": "code",
   "source": [
    "import pandas as pd\n",
    "import plotly.express as px\n",
    "\n",
    "keyword_perf = df.pivot_table(index=\"keyword\",\n",
    "                              columns=\"s1_passed\",\n",
    "                              values=\"nsimilar\",\n",
    "                              aggfunc=\"sum\",\n",
    "                              fill_value=0)\n",
    "\n",
    "keyword_perf.rename(columns={True: 'passed_count', False: 'failed_count'}, inplace=True)\n",
    "\n",
    "# 3. Calculate total occurrences and precision (passed_ratio).\n",
    "keyword_perf[\"total_count\"] = keyword_perf[\"passed_count\"] + keyword_perf[\"failed_count\"]\n",
    "keyword_perf[\"precision\"] = keyword_perf[\"passed_count\"] / keyword_perf[\"total_count\"]\n",
    "\n",
    "# 4. Calculate popularity as a percentage of all discussions.\n",
    "total_matches = keyword_perf[\"total_count\"].sum()\n",
    "keyword_perf[\"popularity\"] = keyword_perf[\"total_count\"] / total_matches\n",
    "\n",
    "# 5. Find the primary Quality Attribute for each keyword for coloring.\n",
    "keyword_qa_map = df.groupby('keyword')['qa'].agg(lambda x: x.value_counts().index[0])\n",
    "keyword_perf = keyword_perf.join(keyword_qa_map.rename('primary_qa'))\n",
    "keyword_perf\n"
   ],
   "id": "8db4d2ff8609256b",
   "outputs": [
    {
     "name": "stderr",
     "output_type": "stream",
     "text": [
      "C:\\Users\\Dmitrijs\\AppData\\Local\\Temp\\ipykernel_35168\\3643391971.py:4: FutureWarning:\n",
      "\n",
      "The default value of observed=False is deprecated and will change to observed=True in a future version of pandas. Specify observed=False to silence this warning and retain the current behavior\n",
      "\n",
      "C:\\Users\\Dmitrijs\\AppData\\Local\\Temp\\ipykernel_35168\\3643391971.py:21: FutureWarning:\n",
      "\n",
      "The default of observed=False is deprecated and will be changed to True in a future version of pandas. Pass observed=False to retain current behavior or observed=True to adopt the future default and silence this warning.\n",
      "\n"
     ]
    },
    {
     "data": {
      "text/plain": [
       "          failed_count  passed_count  total_count  precision    popularity  \\\n",
       "keyword                                                                      \n",
       "a/b                 53            14           67   0.208955  3.358649e-05   \n",
       "abstract          4044           770         4814   0.159950  2.413214e-03   \n",
       "access            7457          2584        10041   0.257345  5.033461e-03   \n",
       "accid              221            92          313   0.293930  1.569040e-04   \n",
       "adapt             6031          1918         7949   0.241288  3.984761e-03   \n",
       "...                ...           ...          ...        ...           ...   \n",
       "worm                 7             0            7   0.000000  3.509036e-06   \n",
       "wrap              3459          1090         4549   0.239613  2.280372e-03   \n",
       "wrapper           1830           491         2321   0.211547  1.163496e-03   \n",
       "xml               1531           229         1760   0.130114  8.822719e-04   \n",
       "xss                  1             0            1   0.000000  5.012908e-07   \n",
       "\n",
       "                primary_qa  \n",
       "keyword                     \n",
       "a/b          deployability  \n",
       "abstract     integrability  \n",
       "access            security  \n",
       "accid               safety  \n",
       "adapt        integrability  \n",
       "...                    ...  \n",
       "worm              security  \n",
       "wrap         integrability  \n",
       "wrapper   interoperability  \n",
       "xml       interoperability  \n",
       "xss               security  \n",
       "\n",
       "[523 rows x 6 columns]"
      ],
      "text/html": [
       "<div>\n",
       "<style scoped>\n",
       "    .dataframe tbody tr th:only-of-type {\n",
       "        vertical-align: middle;\n",
       "    }\n",
       "\n",
       "    .dataframe tbody tr th {\n",
       "        vertical-align: top;\n",
       "    }\n",
       "\n",
       "    .dataframe thead th {\n",
       "        text-align: right;\n",
       "    }\n",
       "</style>\n",
       "<table border=\"1\" class=\"dataframe\">\n",
       "  <thead>\n",
       "    <tr style=\"text-align: right;\">\n",
       "      <th></th>\n",
       "      <th>failed_count</th>\n",
       "      <th>passed_count</th>\n",
       "      <th>total_count</th>\n",
       "      <th>precision</th>\n",
       "      <th>popularity</th>\n",
       "      <th>primary_qa</th>\n",
       "    </tr>\n",
       "    <tr>\n",
       "      <th>keyword</th>\n",
       "      <th></th>\n",
       "      <th></th>\n",
       "      <th></th>\n",
       "      <th></th>\n",
       "      <th></th>\n",
       "      <th></th>\n",
       "    </tr>\n",
       "  </thead>\n",
       "  <tbody>\n",
       "    <tr>\n",
       "      <th>a/b</th>\n",
       "      <td>53</td>\n",
       "      <td>14</td>\n",
       "      <td>67</td>\n",
       "      <td>0.208955</td>\n",
       "      <td>3.358649e-05</td>\n",
       "      <td>deployability</td>\n",
       "    </tr>\n",
       "    <tr>\n",
       "      <th>abstract</th>\n",
       "      <td>4044</td>\n",
       "      <td>770</td>\n",
       "      <td>4814</td>\n",
       "      <td>0.159950</td>\n",
       "      <td>2.413214e-03</td>\n",
       "      <td>integrability</td>\n",
       "    </tr>\n",
       "    <tr>\n",
       "      <th>access</th>\n",
       "      <td>7457</td>\n",
       "      <td>2584</td>\n",
       "      <td>10041</td>\n",
       "      <td>0.257345</td>\n",
       "      <td>5.033461e-03</td>\n",
       "      <td>security</td>\n",
       "    </tr>\n",
       "    <tr>\n",
       "      <th>accid</th>\n",
       "      <td>221</td>\n",
       "      <td>92</td>\n",
       "      <td>313</td>\n",
       "      <td>0.293930</td>\n",
       "      <td>1.569040e-04</td>\n",
       "      <td>safety</td>\n",
       "    </tr>\n",
       "    <tr>\n",
       "      <th>adapt</th>\n",
       "      <td>6031</td>\n",
       "      <td>1918</td>\n",
       "      <td>7949</td>\n",
       "      <td>0.241288</td>\n",
       "      <td>3.984761e-03</td>\n",
       "      <td>integrability</td>\n",
       "    </tr>\n",
       "    <tr>\n",
       "      <th>...</th>\n",
       "      <td>...</td>\n",
       "      <td>...</td>\n",
       "      <td>...</td>\n",
       "      <td>...</td>\n",
       "      <td>...</td>\n",
       "      <td>...</td>\n",
       "    </tr>\n",
       "    <tr>\n",
       "      <th>worm</th>\n",
       "      <td>7</td>\n",
       "      <td>0</td>\n",
       "      <td>7</td>\n",
       "      <td>0.000000</td>\n",
       "      <td>3.509036e-06</td>\n",
       "      <td>security</td>\n",
       "    </tr>\n",
       "    <tr>\n",
       "      <th>wrap</th>\n",
       "      <td>3459</td>\n",
       "      <td>1090</td>\n",
       "      <td>4549</td>\n",
       "      <td>0.239613</td>\n",
       "      <td>2.280372e-03</td>\n",
       "      <td>integrability</td>\n",
       "    </tr>\n",
       "    <tr>\n",
       "      <th>wrapper</th>\n",
       "      <td>1830</td>\n",
       "      <td>491</td>\n",
       "      <td>2321</td>\n",
       "      <td>0.211547</td>\n",
       "      <td>1.163496e-03</td>\n",
       "      <td>interoperability</td>\n",
       "    </tr>\n",
       "    <tr>\n",
       "      <th>xml</th>\n",
       "      <td>1531</td>\n",
       "      <td>229</td>\n",
       "      <td>1760</td>\n",
       "      <td>0.130114</td>\n",
       "      <td>8.822719e-04</td>\n",
       "      <td>interoperability</td>\n",
       "    </tr>\n",
       "    <tr>\n",
       "      <th>xss</th>\n",
       "      <td>1</td>\n",
       "      <td>0</td>\n",
       "      <td>1</td>\n",
       "      <td>0.000000</td>\n",
       "      <td>5.012908e-07</td>\n",
       "      <td>security</td>\n",
       "    </tr>\n",
       "  </tbody>\n",
       "</table>\n",
       "<p>523 rows × 6 columns</p>\n",
       "</div>"
      ]
     },
     "execution_count": 28,
     "metadata": {},
     "output_type": "execute_result"
    }
   ],
   "execution_count": 28
  },
  {
   "metadata": {
    "ExecuteTime": {
     "end_time": "2025-08-28T09:18:27.026844Z",
     "start_time": "2025-08-28T09:18:18.300565Z"
    }
   },
   "cell_type": "code",
   "source": [
    "import numpy as np\n",
    "\n",
    "# --- Generate Figure 4 ---\n",
    "# Create an enhanced scatter plot (bubble chart).\n",
    "keyword_perf['bubble_size'] = np.log(keyword_perf['total_count'] + 1)\n",
    "\n",
    "fig = px.scatter(\n",
    "    keyword_perf.reset_index(),\n",
    "    x=\"popularity\",\n",
    "    y=\"precision\",\n",
    "    size=\"bubble_size\",          # *** FIX: Use the new log-scaled size ***\n",
    "    color=\"primary_qa\",\n",
    "    hover_name=\"keyword\",\n",
    "    # We still show the ORIGINAL total_count on hover for accurate data inspection\n",
    "    hover_data=[\"precision\", \"popularity\", \"total_count\", \"primary_qa\"],\n",
    "    log_x=True,\n",
    "    # title=\"Figure 5: Keyword Performance Analysis: Precision vs. Popularity\",\n",
    "    size_max=20,\n",
    "    opacity=0.5,\n",
    ")\n",
    "\n",
    "\n",
    "# Add quadrant lines based on median values for interpretation\n",
    "median_precision = keyword_perf[\"precision\"].median()\n",
    "median_popularity = keyword_perf[\"popularity\"].median()\n",
    "\n",
    "fig.add_hline(y=median_precision, line_dash=\"dot\", annotation_text=\"Median Precision\")\n",
    "fig.add_vline(x=median_popularity, line_dash=\"dot\", annotation_text=\"Median Popularity\")\n",
    "\n",
    "\n",
    "# Update layout for a professional look\n",
    "fig.update_layout(\n",
    "    xaxis_title=\"Keyword Popularity (Log Scale)\",\n",
    "    yaxis_title=\"Keyword Precision (s1_passed Rate)\",\n",
    "    font=dict(size=12)\n",
    ")\n",
    "\n",
    "fig.show()\n",
    "fig.write_image(\"figure_5_keyword_performance.png\", scale=3)\n",
    "\n",
    "# To save the figure for your thesis:\n",
    "# fig.write_image(\"figure_4_keyword_performance.png\", scale=3)"
   ],
   "id": "31c386a03a9b856e",
   "outputs": [
    {
     "data": {
      "application/vnd.plotly.v1+json": {
       "data": [
        {
         "customdata": [
          [
           67,
           "deployability"
          ],
          [
           14278,
           "deployability"
          ],
          [
           320,
           "deployability"
          ],
          [
           117,
           "deployability"
          ],
          [
           9288,
           "deployability"
          ],
          [
           41013,
           "deployability"
          ],
          [
           16,
           "deployability"
          ],
          [
           8885,
           "deployability"
          ],
          [
           1,
           "deployability"
          ],
          [
           2914,
           "deployability"
          ],
          [
           2706,
           "deployability"
          ],
          [
           20157,
           "deployability"
          ],
          [
           3239,
           "deployability"
          ],
          [
           64924,
           "deployability"
          ],
          [
           128,
           "deployability"
          ],
          [
           4,
           "deployability"
          ],
          [
           659,
           "deployability"
          ],
          [
           9904,
           "deployability"
          ],
          [
           279,
           "deployability"
          ],
          [
           6898,
           "deployability"
          ],
          [
           24,
           "deployability"
          ],
          [
           12605,
           "deployability"
          ],
          [
           3664,
           "deployability"
          ],
          [
           522,
           "deployability"
          ],
          [
           8,
           "deployability"
          ],
          [
           70,
           "deployability"
          ],
          [
           5399,
           "deployability"
          ],
          [
           8845,
           "deployability"
          ],
          [
           252,
           "deployability"
          ],
          [
           96,
           "deployability"
          ],
          [
           12300,
           "deployability"
          ],
          [
           1820,
           "deployability"
          ],
          [
           482,
           "deployability"
          ],
          [
           965,
           "deployability"
          ],
          [
           518,
           "deployability"
          ]
         ],
         "hovertemplate": "<b>%{hovertext}</b><br><br>primary_qa=%{customdata[1]}<br>popularity=%{x}<br>precision=%{y}<br>bubble_size=%{marker.size}<br>total_count=%{customdata[0]}<extra></extra>",
         "hovertext": [
          "a/b",
          "api",
          "artifact",
          "audit",
          "automat",
          "build",
          "canary",
          "cluster",
          "commiss",
          "compos",
          "configurat",
          "contain",
          "continu",
          "depend",
          "deploy",
          "gateway",
          "infrastructur",
          "instal",
          "loader",
          "observ",
          "orchestr",
          "patch",
          "pipelin",
          "probe",
          "product environ",
          "provis",
          "recov",
          "releas",
          "roll",
          "rollback",
          "stack",
          "stage",
          "toggl",
          "toolchain",
          "unload"
         ],
         "legendgroup": "deployability",
         "marker": {
          "color": "#636efa",
          "opacity": 0.5,
          "size": {
           "dtype": "f8",
           "bdata": "Oc67oMbgEEC0DpI2EiIjQB6Iaqn0FRdAt3CmWS4VE0BAeM2f7kUiQLhl011LPiVAen/6wWuqBkAMgOIROS8iQO85+v5CLuY/SB3MjRbpH0CyuIJYSJ0fQG3AElKd0iNACR4jDKoqIEANiZBDdykmQMu2talycBNAM43t90HA+T8xziS4DfgZQFBazZjOZiJAnM8lSQaKFkAAcVStoq0hQDON7fdBwAlAMEq7aETiIkBSy9ZTxWkgQAE6K7nPCRlACwOteuqTAUDJ1iT0+wwRQE4vy/s0MCFAG0TeuOksIkCedajaMCIWQPhL5QiBTBJAUT14JrrVIkCGjb/9TwceQFCxIElWuBhAjvj/qB5+G0BJu28X8wEZQA=="
          },
          "sizemode": "area",
          "sizeref": 0.029379462181811103,
          "symbol": "circle"
         },
         "mode": "markers",
         "name": "deployability",
         "orientation": "v",
         "showlegend": true,
         "x": {
          "dtype": "f8",
          "bdata": "QFMa2OabAT+t27UWHFF9PwCsb7mRBiU/wB4A7AHADj+csJiTKBJzP5eyTrOIDZU/APDyLQ7S4D4eBQYxUz5yPwDw8i0O0qA+/OngrODuVz+cPTY8izlWP+3F35mtsYQ/UpfrLDaaWj86Fw0E2KmgPwDw8i0O0hA/APDyLQ7SwD7oLyRAXaY1Pyg1jST0VXQ/kMMTdO1UIj9uwCEhwFNsPwBo7EQVO+k+mpZjIbbheT9goTRezRdeP7Cu2HQoJjE/APDyLQ7S0D6AtkGCv2UCPznosJDgK2Y/cpVMn0wpcj9AJDv1xY4gPwBo7EQVOwk/GqM9CmRBeT+QyKozV+VNP+Bng7J+qy8/WGGaueezPz/QyHxYhAQxPw=="
         },
         "xaxis": "x",
         "y": {
          "dtype": "f8",
          "bdata": "eqBydgu/yj+uuQK8d0fNP2ZmZmZmZso/kymZkimZwj9abw9qZxPIP+Cj6qXfIrk/AAAAAAAAAADjNrNklSPJPwAAAAAAAAAAPGwYBdP/wD9lk0022WTDP6AbFapwzcA/of2xrLEIvj+3EzL/VJXMPwAAAAAAANI/AAAAAAAA0D9v1sj5r7nGP11gBZkqC8c/r2dJ0OtZwj++tvKKMILGP1VVVVVVVdU/8uBsO/pLzz+H+7PzLh7JPzcoK8TYB7g/AAAAAAAA2D8d1EEd1EG9P81aw1jQmsk/m7Qgbm9Owj+SJEmSJEmyP1VVVVVVVck/vlvmu2W+uz8e5mEe5mG+Px4kvh0kvq0/sS4Q58UevD+SJEmSJEnCPw=="
         },
         "yaxis": "y",
         "type": "scatter"
        },
        {
         "customdata": [
          [
           4814,
           "integrability"
          ],
          [
           7949,
           "integrability"
          ],
          [
           283,
           "integrability"
          ],
          [
           7676,
           "integrability"
          ],
          [
           250,
           "integrability"
          ],
          [
           28,
           "integrability"
          ],
          [
           9493,
           "integrability"
          ],
          [
           171,
           "integrability"
          ],
          [
           5,
           "integrability"
          ],
          [
           1,
           "integrability"
          ],
          [
           1,
           "integrability"
          ],
          [
           2,
           "integrability"
          ],
          [
           13,
           "integrability"
          ],
          [
           14216,
           "integrability"
          ],
          [
           1482,
           "integrability"
          ],
          [
           2154,
           "integrability"
          ],
          [
           1190,
           "integrability"
          ],
          [
           255,
           "integrability"
          ],
          [
           143,
           "integrability"
          ],
          [
           11202,
           "integrability"
          ],
          [
           4543,
           "integrability"
          ],
          [
           2,
           "integrability"
          ],
          [
           12,
           "integrability"
          ],
          [
           1158,
           "integrability"
          ],
          [
           36,
           "integrability"
          ],
          [
           23,
           "integrability"
          ],
          [
           64,
           "integrability"
          ],
          [
           13682,
           "integrability"
          ],
          [
           2,
           "integrability"
          ],
          [
           340,
           "integrability"
          ],
          [
           91,
           "integrability"
          ],
          [
           99,
           "integrability"
          ],
          [
           1,
           "integrability"
          ],
          [
           2810,
           "integrability"
          ],
          [
           7402,
           "integrability"
          ],
          [
           2356,
           "integrability"
          ],
          [
           2888,
           "integrability"
          ],
          [
           605,
           "integrability"
          ],
          [
           142,
           "integrability"
          ],
          [
           27065,
           "integrability"
          ],
          [
           24855,
           "integrability"
          ],
          [
           11,
           "integrability"
          ],
          [
           289,
           "integrability"
          ],
          [
           15418,
           "integrability"
          ],
          [
           6008,
           "integrability"
          ],
          [
           4549,
           "integrability"
          ]
         ],
         "hovertemplate": "<b>%{hovertext}</b><br><br>primary_qa=%{customdata[1]}<br>popularity=%{x}<br>precision=%{y}<br>bubble_size=%{marker.size}<br>total_count=%{customdata[0]}<extra></extra>",
         "hovertext": [
          "abstract",
          "adapt",
          "asynchron",
          "batch",
          "bridg",
          "broker",
          "buffer",
          "complian",
          "compon integr",
          "compon interfac",
          "compon models",
          "compon provid",
          "compon use",
          "configur",
          "contract",
          "coupl",
          "discover",
          "encapsulat",
          "endpoint",
          "event",
          "filter",
          "framework compon",
          "graph-bas",
          "inject",
          "integr test",
          "intermediar",
          "mediat",
          "messag",
          "middlewar",
          "modular",
          "non-atom",
          "plug-in",
          "product famil",
          "protocol",
          "pub",
          "queue",
          "rout",
          "schema",
          "standardiz",
          "state",
          "sub",
          "target system",
          "topic",
          "transform",
          "translat",
          "wrap"
         ],
         "legendgroup": "integrability",
         "marker": {
          "color": "#EF553B",
          "opacity": 0.5,
          "size": {
           "dtype": "f8",
           "bdata": "F5YI43/1IEB4NkkXPPYhQEVl47OMmBZAjlf9B1jkIUDiodRVEBoWQB/+zcs48ApA5bxhzxtRIkCEBMnKCJcUQAIgKvoLq/w/7zn6/kIu5j/vOfr+Qi7mPwsDrXrqk/E/p7vXFsocBUD5ZKLa1x8jQPi8guoQNR1A1l/PVMKzHkC02bach1QcQO85+v5CLhZAfZ7TvBbhE0COwfYN26UiQB5BsBnX1yBACwOteuqT8T9RjDErBIUEQKPFFO6jOBxAvcc67ijjDED5LJJ8p2wJQHUplJOSshBABb6H3D0MI0ALA6166pPxP1MxCADZUxdAdGinvk8WEkAWVbW7sWsSQO85+v5CLuY/H6dz/OLDH0C0Nr1pvNEhQEM/OyWCDx9AownB5unfH0AxQqYlpaAZQM5hWPHz2RNAz8KkPH1pJEA+3nWi4D0kQH2e07wW4QNAmqnBQ/WtFkDuUD/uZUkjQBoh/UHrZiFAS7V9DoTYIEA="
          },
          "sizemode": "area",
          "sizeref": 0.029379462181811103,
          "symbol": "circle"
         },
         "mode": "markers",
         "name": "integrability",
         "orientation": "v",
         "showlegend": true,
         "x": {
          "dtype": "f8",
          "bdata": "0uVAauDEYz8yA0YSU1JwP1CPy6w1mCI/RAWcEqaFbz9gPt/YIW0gPwAkadCYb+0+7gxvPup9cz+gjGLxnngWPwCsb7mRBsU+APDyLQ7SoD4A8PItDtKgPgDw8i0O0rA+AMaqCldV2z781DwbhTB9P1gYgIUBWEg/7MLTae2wUT/o0WV6G4xDPxD9xB88wSA/IGhV16vKEj9PA7WDPAB3PxGjFpr6p2I/APDyLQ7SsD4AaOxEFTvZPmg69giLBUM/AE6x80/s8j4AOQ1i9C3oPgDw8i0O0gA/9w6eztMXfD8A8PItDtKwPsCmBtX6ViY/QG1VKazqBz9AyxPv7QQKPwDw8i0O0qA+zJOL9DUUVz/2JMnfmGVuPxj520+lWVM/cJTL/jW4Vz+YkEvBNeAzP0CC+boHqRI//mNfdD7Jiz8Ot7z6aISJPwAKLn/TINc+8EDfASL9Ij9TytpPV6h/PwjXZcwbrGg/K95nX0muYj8="
         },
         "xaxis": "x",
         "y": {
          "dtype": "f8",
          "bdata": "jvPCET95xD+IHnw6iOLOP9odjWwY/9I/BCDwCMO2yj/Jdr6fGi/NP9u2bdu2bcs/BRB2zrgPxT92E9lNZDfRPwAAAAAAAAAAAAAAAAAAAAAAAAAAAADwPwAAAAAAAAAAFDuxEzux0z96jlN8sTDOPxQ7sRM7sbM/mLoTmQz/0z8TXO4SXO7SP5GQkJCQkNA/LSkHRIZ7xT+mtw5+eojGPzWwd0wN7M0/AAAAAAAA4D+rqqqqqqriP8TXCKTvdtE/x3Ecx3Ec1z+RhSxkIQvZPwAAAAAAANU/1imyH7mVxz8AAAAAAAAAABUVFRUVFdU/H+/xHu/xzj8xb2dIzNvJPwAAAAAAAAAA4x9lOekAxz9EzrJr35q9P1HZPERvAMs/kTvM4EtN0z+oD5dX5UrLPyDRCpsDicY/gb0luiBcxD+ZI4Ax1tzJP0YXXXTRRdc/+QcXJjVE0z+o6Ir9UdfMP89gXB+cKs0/yKDrYaSrzj8="
         },
         "yaxis": "y",
         "type": "scatter"
        },
        {
         "customdata": [
          [
           10041,
           "security"
          ],
          [
           1,
           "security"
          ],
          [
           422,
           "security"
          ],
          [
           120,
           "security"
          ],
          [
           107,
           "security"
          ],
          [
           2,
           "security"
          ],
          [
           9619,
           "security"
          ],
          [
           432,
           "security"
          ],
          [
           117,
           "security"
          ],
          [
           13882,
           "security"
          ],
          [
           457,
           "security"
          ],
          [
           1036,
           "security"
          ],
          [
           651,
           "security"
          ],
          [
           340,
           "security"
          ],
          [
           39,
           "security"
          ],
          [
           116,
           "security"
          ],
          [
           59,
           "security"
          ],
          [
           67,
           "security"
          ],
          [
           15,
           "security"
          ],
          [
           16,
           "security"
          ],
          [
           25,
           "security"
          ],
          [
           1,
           "security"
          ],
          [
           23,
           "security"
          ],
          [
           14,
           "security"
          ],
          [
           1,
           "security"
          ],
          [
           81,
           "security"
          ],
          [
           122,
           "security"
          ],
          [
           936,
           "security"
          ],
          [
           12,
           "security"
          ],
          [
           7,
           "security"
          ],
          [
           5,
           "security"
          ],
          [
           87,
           "security"
          ],
          [
           1,
           "security"
          ],
          [
           903,
           "security"
          ],
          [
           186,
           "security"
          ],
          [
           226,
           "security"
          ],
          [
           3932,
           "security"
          ],
          [
           16845,
           "security"
          ],
          [
           327,
           "security"
          ],
          [
           1,
           "security"
          ],
          [
           3,
           "security"
          ],
          [
           147,
           "security"
          ],
          [
           106,
           "security"
          ],
          [
           1,
           "security"
          ],
          [
           389,
           "security"
          ],
          [
           4,
           "security"
          ],
          [
           53,
           "security"
          ],
          [
           23,
           "security"
          ],
          [
           4371,
           "security"
          ],
          [
           43928,
           "security"
          ],
          [
           1329,
           "security"
          ],
          [
           1,
           "security"
          ],
          [
           65,
           "security"
          ],
          [
           3393,
           "security"
          ],
          [
           8924,
           "security"
          ],
          [
           2,
           "security"
          ],
          [
           2460,
           "security"
          ],
          [
           57,
           "security"
          ],
          [
           19,
           "security"
          ],
          [
           40,
           "security"
          ],
          [
           2,
           "security"
          ],
          [
           152,
           "security"
          ],
          [
           7,
           "security"
          ],
          [
           685,
           "security"
          ],
          [
           71,
           "security"
          ],
          [
           6,
           "security"
          ],
          [
           4,
           "security"
          ],
          [
           9,
           "security"
          ],
          [
           2834,
           "security"
          ],
          [
           94,
           "security"
          ],
          [
           142,
           "security"
          ],
          [
           46,
           "security"
          ],
          [
           2024,
           "security"
          ],
          [
           11,
           "security"
          ],
          [
           1649,
           "security"
          ],
          [
           13899,
           "security"
          ],
          [
           4,
           "security"
          ],
          [
           345,
           "security"
          ],
          [
           233,
           "security"
          ],
          [
           18,
           "security"
          ],
          [
           843,
           "security"
          ],
          [
           2062,
           "security"
          ],
          [
           1,
           "security"
          ],
          [
           20,
           "security"
          ],
          [
           6519,
           "security"
          ],
          [
           47,
           "security"
          ],
          [
           1,
           "security"
          ],
          [
           224,
           "security"
          ],
          [
           1573,
           "security"
          ],
          [
           8,
           "security"
          ],
          [
           7,
           "security"
          ],
          [
           1,
           "security"
          ]
         ],
         "hovertemplate": "<b>%{hovertext}</b><br><br>primary_qa=%{customdata[1]}<br>popularity=%{x}<br>precision=%{y}<br>bubble_size=%{marker.size}<br>total_count=%{customdata[0]}<extra></extra>",
         "hovertext": [
          "access",
          "adversar",
          "apt",
          "assess",
          "attack",
          "attest",
          "auth",
          "authenticat",
          "authoriz",
          "availab",
          "barrier",
          "certif",
          "checksum",
          "command-lin",
          "confidential",
          "cookie",
          "crypto",
          "cryptograph",
          "cve",
          "decrypt",
          "defend",
          "denial-of-servic",
          "disclos",
          "dns",
          "empow",
          "encrypt",
          "expir",
          "expos",
          "firewal",
          "garbl",
          "gdpr",
          "govern",
          "guardrail",
          "hack",
          "hardcod",
          "harden",
          "hash",
          "ident",
          "immut",
          "imperson",
          "incid respons",
          "intercept",
          "intrus",
          "ipsec",
          "iso",
          "jwt",
          "legitim",
          "lineag",
          "lock",
          "log",
          "loss",
          "malwar",
          "misus",
          "models",
          "modif",
          "mtls",
          "network",
          "nist",
          "obfusc",
          "one-tim",
          "outbound",
          "password",
          "penetr",
          "polic",
          "privil",
          "retent",
          "revoc",
          "revok",
          "rotat",
          "rsa",
          "sandbox",
          "scanner",
          "secur",
          "sensit data",
          "session",
          "sign",
          "soc",
          "ssh",
          "ssl",
          "stolen",
          "stride",
          "team",
          "tenant",
          "threat",
          "token",
          "triag",
          "trojan",
          "trust",
          "validat",
          "vpn",
          "worm",
          "xss"
         ],
         "legendgroup": "security",
         "marker": {
          "color": "#00cc96",
          "opacity": 0.5,
          "size": {
           "dtype": "f8",
           "bdata": "390yFddtIkDvOfr+Qi7mP+D5HlWCMBhATDd/t+MuE0DEUMCbgLoSQAsDrXrqk/E/6A045dtXIkDGdJF4b0gYQLdwplkuFRNA9TX91KsTI0ABkNL+6YEYQMqrD8y+xhtA92M4zZDrGUBTMQgA2VMXQA1yMjvTgg1ArkfvUncME0CLMmXcm2AQQDnOu6DG4BBA7zn6/kIuBkB6f/rBa6oGQM0a8OqUEApA7zn6/kIu5j/5LJJ8p2wJQB9ITTkWqgVA7zn6/kIu5j9lnaYCe6ARQOmWckGtPxNAXGbIXeheG0BRjDErBIUEQHOrOz+yogBAAiAq+gur/D9gcV37yugRQO85+v5CLuY/FVnReTE6G0Bj27y8p+wUQKsR7hgmsxVAitqgn+eNIEA0FXN4t3YjQOErZcILLBdA7zn6/kIu5j/vOfr+Qi72P1ry2zYl/RNAW0e/CvqwEkDvOfr+Qi7mP3axHpJV3RdAM43t90HA+T8ME8J3cOkPQPksknynbAlAoMUXaRXEIEDG4iTucmElQLeaaYyQxRxA7zn6/kIu5j+mI0raNMIQQDO9RXxwQiBA2O6VE3cxIkALA6166pPxP1MhqAm5Ox9ATUbGxeQ9EECR43N7QvcHQE6sjkVltQ1ACwOteuqT8T9CwVMeKx8UQHOrOz+yogBA/wqFYp4fGkA/V/RcThsRQFdaMq5yIv8/M43t90HA+T8WVbW7sWsCQO38NKSXzB9A47z9gCs3EkDOYVjx89kTQLbwkC8azQ5ApMmjdgt0HkB9ntO8FuEDQEDqQNZVoh1AFDDmO0wUI0Azje33QcD5P8XBo9jAYhdA7I7Osj/SFUAsswQGNo4HQHcAXz/e8xpABsZVHxWHHkDvOfr+Qi7mP7Gub5QuWwhAQYeJ1bSQIUB1u1A8OPgOQO85+v5CLuY/H0hNORaqFUCKJIRmDHIdQAsDrXrqkwFAc6s7P7KiAEDvOfr+Qi7mPw=="
          },
          "sizemode": "area",
          "sizeref": 0.029379462181811103,
          "symbol": "circle"
         },
         "mode": "markers",
         "name": "security",
         "orientation": "v",
         "showlegend": true,
         "x": {
          "dtype": "f8",
          "bdata": "PO1BcfeddD8A8PItDtKgPqB3vl9Duis/AIInltqJDz9AKdK0Lx8MPwDw8i0O0rA+f/lDViXAcz8A9Yntd2IsP8AeAOwBwA4/Uz09p/SAfD9wrgZQ+wYuP9DIfFiEBEE/KGRsBxVjNT/ApgbV+lYmP4AUAEgBgPQ+AFNIs7l8Dj+A6rckSgP/PkBTGtjmmwE/AIInltqJ3z4A8PItDtLgPgCXyyc2SOo+APDyLQ7SoD4AOQ1i9C3oPgAkadCYb90+APDyLQ7SoD7Adyfy2UkFP8CMy4M1CBA/wB4A7AHAPj8AaOxEFTvZPgAkadCYb80+AKxvuZEGxT5APnZGi90GPwDw8i0O0qA+SPYJAniqPT/ABMWaPHEYP8DvIAnhsh0/5PWbHKUlYD/p6RU8N0uBP5BQsRxQfCU/APDyLQ7SoD4AaOxEFTu5PqD/xEg8URM/gF0afOfbCz8A8PItDtKgPrAm0osvjyk/APDyLQ7SwD6AXRp859v7PgA5DWL0Leg+fa+ogSjzYT8dHTlimIyWP/yLIuee1EU/APDyLQ7SoD7Au6pmVhUBP94b4L0B3ls/MgVOMtNScj8A8PItDtKwPkhPMQhQNFQ/gLvYQSn2/T4AfZDWcPnjPgCsb7mRBvU+APDyLQ7SsD4AfZDWcPkTPwAkadCYb80+GIZ5+AeBNj9Agvm6B6kCPwBo7EQVO8k+APDyLQ7SwD4ATrHzT+zSPpxsFR+sRlc/gNB804S0CD9Agvm6B6kSPwA5DWL0Lfg+MBdpA5ifUD8ACi5/0yDXPvx2flVDFks/Y6bFPuSJfD8A8PItDtLAPnBl7BsVqyY/4Dikz12eHj8ATrHzT+ziPih+p1jasTs/JFnDxn3vUD8A8PItDtKgPgCsb7mRBuU+2VVBcVDFaj+A0HzThLT4PgDw8i0O0qA+ACRp0JhvHT8sbxVIrNZJPwDw8i0O0tA+ACRp0JhvzT4A8PItDtKgPg=="
         },
         "xaxis": "x",
         "y": {
          "dtype": "f8",
          "bdata": "dH9Br1Z40D8AAAAAAADwPyRWw8UPYcA/VVVVVVVV1T91LQc3+4XYPwAAAAAAAAAADAT4o7Wtuz8T2ktoL6HFPxQ7sRM7scM/SiWxoWCUzT8+iTOEdLDNP/+qcS/wr5o/wbxgXjAvyD+7urq6urrKP57YiZ3Yic0/jbDc0wjLzT+Uui+PrQjKP2e38Ksxkb4/ERERERER4T8AAAAAAAAAAHsUrkfhesQ/AAAAAAAAAAALWchCFrLQP9u2bdu2bds/AAAAAAAAAADg6db8sEiJP23ep7hkCMY/BEZgBEZg1D9VVVVVVVXFPwAAAAAAAAAAMzMzMzMz4z9huacRlnvKPwAAAAAAAAAAkiRJkiRJ0j8eeeSRRx7ZP/6QwNsPCdw/rb/gR/Sayz9OYDuxOpLCP5ITYVwmOdE/AAAAAAAAAAAAAAAAAAAAAC+n4OUUvMw/0CE1wXgr2z8AAAAAAAAAAISLPFSAWbg/AAAAAAAA0D/BeCv7HFLTPzi96U1vetM/kdzOfD+s0T8L4QeNVZfGP3uAdf6Hnrk/AAAAAAAAAACamZmZmZnJP5c0hwC5bM8/Sl3F+Ljsxz8AAAAAAADgP+QbO76x48s/OovpLKazyD8or6G8hvLaPwAAAAAAAMA/AAAAAAAAAAAor6G8hvLKPwAAAAAAAAAAlXqYCK0Vzj9ItMLmQKLVP1VVVVVVVcU/AAAAAAAAAAAcx3Ecx3HMP0FK/dYKpMQ/QUyuICZXsD8yfrvUk/HLP5GFLGQhC8k/etOb3vSmtz9GF1100UW3P5Q3Opn18sM/wszZDTANzD8AAAAAAADQP1ixebzShMU/8Dae8N3Gsz8cx3Ecx3HMP0WajPPaLcs/Y8f7JsVqvj8AAAAAAAAAAAAAAAAAANA/+Qezl5/gyD9BTK4gJlfQPwAAAAAAAPA/JUmSJEmS0j/Id6Cu45XLPwAAAAAAANA/AAAAAAAAAAAAAAAAAAAAAA=="
         },
         "yaxis": "y",
         "type": "scatter"
        },
        {
         "customdata": [
          [
           313,
           "safety"
          ],
          [
           76,
           "safety"
          ],
          [
           6,
           "safety"
          ],
          [
           7577,
           "safety"
          ],
          [
           21096,
           "safety"
          ],
          [
           6568,
           "safety"
          ],
          [
           23827,
           "safety"
          ],
          [
           305,
           "safety"
          ],
          [
           324,
           "safety"
          ],
          [
           35309,
           "safety"
          ],
          [
           23,
           "safety"
          ],
          [
           596,
           "safety"
          ],
          [
           2426,
           "safety"
          ],
          [
           1184,
           "safety"
          ],
          [
           4848,
           "safety"
          ],
          [
           1,
           "safety"
          ],
          [
           14,
           "safety"
          ],
          [
           1404,
           "safety"
          ],
          [
           42,
           "safety"
          ],
          [
           13201,
           "safety"
          ],
          [
           12,
           "safety"
          ],
          [
           4296,
           "safety"
          ],
          [
           600,
           "safety"
          ],
          [
           4477,
           "safety"
          ],
          [
           36,
           "safety"
          ],
          [
           2,
           "safety"
          ],
          [
           2062,
           "safety"
          ],
          [
           81103,
           "safety"
          ],
          [
           623,
           "safety"
          ],
          [
           95,
           "safety"
          ],
          [
           483,
           "safety"
          ],
          [
           47356,
           "safety"
          ],
          [
           7641,
           "safety"
          ]
         ],
         "hovertemplate": "<b>%{hovertext}</b><br><br>primary_qa=%{customdata[1]}<br>popularity=%{x}<br>precision=%{y}<br>bubble_size=%{marker.size}<br>total_count=%{customdata[0]}<extra></extra>",
         "hovertext": [
          "accid",
          "alert",
          "anomal",
          "avoid",
          "compl",
          "detect",
          "except",
          "hazard",
          "hot",
          "input",
          "interlock",
          "isol",
          "maintain",
          "permiss",
          "prevent",
          "primar channel",
          "process models",
          "reme",
          "resilien",
          "resourc",
          "restrict appl",
          "review",
          "risk",
          "safe",
          "safety analys",
          "safety requir",
          "sanit",
          "test",
          "timeout",
          "unhandl",
          "unsaf",
          "updat",
          "valid"
         ],
         "legendgroup": "safety",
         "marker": {
          "color": "#ab63fa",
          "opacity": 0.5,
          "size": {
           "dtype": "f8",
           "bdata": "mk/532D/FkA8MkyHDmARQFdaMq5yIv8/BbIfx7LdIUCwV4767OkjQAn7jTOKlCFAdLGocEAoJECACDN+8+QWQMKMjxGjIhdAJ2eCsZ/xJED5LJJ8p2wJQEkOQ7hSkRlAza+QIXotH0CCVVamW08cQLGGNisa+SBA7zn6/kIu5j8fSE05FqoFQIeJq1a9/RxAEewUFvAWDkD5Bo5W6/kiQFGMMSsEhQRAWroiaTm7IEBMuEBFKZgZQI3/UF1Z0CBAvcc67ijjDEALA6166pPxPwbGVR8Vhx5AugC4uGKbJkDjI8Eznr4ZQPikB37kQRJAyMU9d3S6GEDoV3qs64clQOOHHhkB4iFA"
          },
          "sizemode": "area",
          "sizeref": 0.029379462181811103,
          "symbol": "circle"
         },
         "mode": "markers",
         "name": "safety",
         "orientation": "v",
         "showlegend": true,
         "x": {
          "dtype": "f8",
          "bdata": "cAcuVtOQJD8AfZDWcPkDPwBo7EQVO8k+F7bfWpIdbz9G7umBd6iFP9gNrrzT+Go/36j69jp2iD/wb77kQgokP8B3J/LZSSU/sBhvG/gfkj8AOQ1i9C3oPmDLfIGElDM/zAbuS9PsUz+A5SBl4HJDPxCKYsie6GM/APDyLQ7SoD4AJGnQmG/dPhAXAHEBEEc/ANtOnLIT9j5QY3tp/hp7PwBo7EQVO9k+uEwx30+kYT9AsdidKLYzP/MYmR+YYmI/AE6x80/s8j4A8PItDtKwPiRZw8Z971A/sAcvWuPQpD8IG+lAmHc0P0CcNAzN9wg/0FqxwFC8Lz9Jr/ftEU+YP9eBl5PaYG8/"
         },
         "xaxis": "x",
         "y": {
          "dtype": "f8",
          "bdata": "k6yVkb7P0j9eQ3kN5TXEP1VVVVVVVcU/HnHMZfM81D8F/EwDVrLPP/uy+uzoYc4/gDEbD7bVvz+lK4ypFvXMP7FIGXi6Nc8/QANAL1dDyD9kIQtZyELGP9j6NmCoptM/iAIE8VJD1T8q8lk3mCK3P7EBYjTeV9Q/AAAAAAAA8D/btm3btm3LPySRZ847Esk/YhiGYRiG4T/jyHn4Q9/HPwAAAAAAAAAAKIzqNDnIzD/9YskvlvzSP09NGGMXs9Q/VVVVVVVV1T8AAAAAAADwP0EkojWYzcw/HWT1DvO7yD9GCgm2ixTCP88tcer33LI/dFcpJuiu0j9RtFPfWI7HP+FXKd5Bos0/"
         },
         "yaxis": "y",
         "type": "scatter"
        },
        {
         "customdata": [
          [
           29,
           "usability"
          ],
          [
           5858,
           "usability"
          ],
          [
           551,
           "usability"
          ],
          [
           80,
           "usability"
          ],
          [
           4876,
           "usability"
          ],
          [
           5662,
           "usability"
          ],
          [
           4,
           "usability"
          ],
          [
           9222,
           "usability"
          ],
          [
           1530,
           "usability"
          ],
          [
           87,
           "usability"
          ],
          [
           1161,
           "usability"
          ],
          [
           4032,
           "usability"
          ],
          [
           662,
           "usability"
          ],
          [
           594,
           "usability"
          ],
          [
           6586,
           "usability"
          ],
          [
           1020,
           "usability"
          ],
          [
           2250,
           "usability"
          ],
          [
           4,
           "usability"
          ],
          [
           399,
           "usability"
          ],
          [
           821,
           "usability"
          ],
          [
           8,
           "usability"
          ],
          [
           2788,
           "usability"
          ],
          [
           94,
           "usability"
          ],
          [
           10294,
           "usability"
          ],
          [
           1308,
           "usability"
          ],
          [
           4998,
           "usability"
          ],
          [
           1751,
           "usability"
          ],
          [
           4,
           "usability"
          ],
          [
           156,
           "usability"
          ],
          [
           3,
           "usability"
          ],
          [
           1298,
           "usability"
          ],
          [
           1687,
           "usability"
          ],
          [
           31949,
           "usability"
          ],
          [
           2392,
           "usability"
          ],
          [
           7113,
           "usability"
          ],
          [
           1,
           "usability"
          ],
          [
           1113,
           "usability"
          ],
          [
           22,
           "usability"
          ],
          [
           495,
           "usability"
          ],
          [
           84,
           "usability"
          ],
          [
           21463,
           "usability"
          ],
          [
           901,
           "usability"
          ],
          [
           2405,
           "usability"
          ],
          [
           1147,
           "usability"
          ],
          [
           3352,
           "usability"
          ],
          [
           18,
           "usability"
          ],
          [
           484,
           "usability"
          ],
          [
           80,
           "usability"
          ],
          [
           222,
           "usability"
          ],
          [
           23763,
           "usability"
          ],
          [
           2869,
           "usability"
          ],
          [
           2446,
           "usability"
          ],
          [
           18960,
           "usability"
          ],
          [
           505,
           "usability"
          ],
          [
           10935,
           "usability"
          ],
          [
           144,
           "usability"
          ],
          [
           468,
           "usability"
          ],
          [
           519,
           "usability"
          ],
          [
           20570,
           "usability"
          ],
          [
           37,
           "usability"
          ],
          [
           2220,
           "usability"
          ],
          [
           9,
           "usability"
          ],
          [
           1248,
           "usability"
          ],
          [
           1,
           "usability"
          ],
          [
           899,
           "usability"
          ]
         ],
         "hovertemplate": "<b>%{hovertext}</b><br><br>primary_qa=%{customdata[1]}<br>popularity=%{x}<br>precision=%{y}<br>bubble_size=%{marker.size}<br>total_count=%{customdata[0]}<extra></extra>",
         "hovertext": [
          "aesthet",
          "behavi",
          "cancel",
          "clarit",
          "clear",
          "close",
          "cognit",
          "command",
          "confirm",
          "context-sensit",
          "cursor",
          "custom",
          "dialog",
          "discov",
          "document",
          "effectiv",
          "efficien",
          "ergonom",
          "experien",
          "feedback",
          "gestur",
          "guid",
          "guidanc",
          "help",
          "hint",
          "indicat",
          "interact",
          "interfac design",
          "intuit",
          "keystrok",
          "latenc",
          "learn",
          "memor",
          "menu",
          "minim",
          "mock-up",
          "mous",
          "multi-mod",
          "navigat",
          "paus",
          "perform",
          "person",
          "prefer",
          "progress",
          "prototyp",
          "responsiv",
          "resum",
          "satisfa",
          "shortcut",
          "simpl",
          "statu",
          "stop",
          "support",
          "tip",
          "tool",
          "ui",
          "undo",
          "usab",
          "user",
          "ux",
          "visual",
          "walkthrough",
          "widget",
          "wizard",
          "workflow"
         ],
         "legendgroup": "usability",
         "marker": {
          "color": "#FFA15A",
          "opacity": 0.5,
          "size": {
           "dtype": "f8",
           "bdata": "m9YL+aY1C0BFd+vV+VkhQHTwMb0SQRlACwOteuqTEUC/IjTaDPwgQNACOReOSCFAM43t90HA+T/K9ZMCSEIiQAkw20OvVR1AYHFd+8roEUBVws6YSTscQHJcD5XCmiBAqEZBlbL8GUCgOYUK440ZQMR5wt3wlSFAOncontK2G0ChFrGSY+AeQDON7fdBwPk/keNze0L3F0CdCGB50tgaQAsDrXrqkwFAn8PORde7H0DjvP2AKzcSQJOcA2yUeiJA+XFJaES1HEAG9DZUswghQGNGa/HB3x1AM43t90HA+T9cCBqAmDkUQO85+v5CLvY/ibU8F2qtHEC1Rz6fprkdQBOzqEZtviRAGSPOxQcfH0Ac3XIKWb0hQO85+v5CLuY/3Iiw6hYQHEDws9H9fRUJQKWyxaOI0xhACqP4XkbFEUBoIhx7wfIjQAs5Zt7sNxtAnJnJBJQkH0A4exIO4C4cQBF2y3k3PCBALLMEBjaOB0BFr+CGkbwYQAsDrXrqkxFANhoJo/GgFUDCJwjr3yYkQEeXLiwo2R9AF6l2guE1H0D2ZZ18RbMjQNy8hzr55xhADCq6ZoGZIkBcYuLjLOgTQMOntJw3mhhAL/8xs+sDGUAMrlya/9wjQKhBw8XGGQ1APfrrYabSHkAWVbW7sWsCQKD9OIs4hRxA7zn6/kIu5j+b1gv5pjUbQA=="
          },
          "sizemode": "area",
          "sizeref": 0.029379462181811103,
          "symbol": "circle"
         },
         "mode": "markers",
         "name": "usability",
         "orientation": "v",
         "showlegend": true,
         "x": {
          "dtype": "f8",
          "bdata": "AFNIs7l87j5+EXeHag5oP0jxckIOGjI/AKxvuZEGBT808zJhDgZkP4IxxFldQGc/APDyLQ7SwD6N61lWd+9yP5h7py/aIUk/QD52RovdBj+csJiTKBJDP0AkO/XFjmA/UBxpVZi/NT9w2E5zsoMzPya/oQzAC2s/EP3EHzzBQD8sJvsTxnpSPwDw8i0O0sA+EKSdGWQ3Kj/YDa680/g6PwDw8i0O0tA+uDeNTfTlVj+A0HzThLQIP/U1XTH0InU/kFCxHFB8RT+aT1ENUIZkP+QpEr8vw0w/APDyLQ7SwD6AFABIAYAUPwBo7EQVO7k+OHE++UJSRT/k+jLcDrZLP5TvOCduZpA/UL6qj1alUz/nMKu/xjVtPwDw8i0O0qA+XE1x6U9IQj8ACi5/0yDnPghfbLUUQzA/ANtOnLITBj9eazkL7AiGP1gD3POlmT0/Fmm15qvAUz9U3vdhSddCP9CeNDXNh1s/AE6x80/s4j7ATd/OIs0vPwCsb7mRBgU/QFixl1AsHT/vtczoaGWIP3ZzHh1DkFc/JOZgb+AWVD88YqzoFHeDP7gdUvwulzA/TaBl3eNzdj8ATrHzT+wSP8AeAOwBwC4/SMKTX+0MMT+iSWAdOR6FP4DlIGXgcvM+KNfOXrI7Uj8ATrHzT+zSPoAUAEgBgEQ/APDyLQ7SoD5oEK7l04g9Pw=="
         },
         "xaxis": "x",
         "y": {
          "dtype": "f8",
          "bdata": "3dMIyz2N4D8vcYEn/OvUP9BXhbcDSMM/AAAAAAAA1D/TXELsSeDMP+dW0bvtlco/AAAAAAAA0D9txLr0mL/HP5vwRZvwRcs/lnsaYbmn0T9oL6G9hPbCP8/zPM/zPM8/gDFA518MwD9hECXNwu7TP2jHt5SzQs4/FRUVFRUV1T+tjgkezBPVPwAAAAAAANA/KmKpiKUi1j9L0FQwceHJPwAAAAAAAMA/e7m/pgp7yT9BTK4gJlfQPzdSUadUrs0/7J6j2cbuyT8RnpM15yXKP4T9VhtD080/AAAAAAAA0D9cvuVbvuXbP1VVVVVVVdU/gCP2EO2v0j8dNa4cNa7MP/tCvazyetA/KXD3HRcvuz8NiSC45EXKPwAAAAAAAAAAbgmvX2ClyT900UUXXXTBPzbosdhz4NI/t23btm3bxj8GS0LGPvfRP0XpDyiX/Ms/pzplFWuq0z/6LfbDFq7MP/a62p7UDLk/VVVVVVVV1T8vuuiiiy7KPwAAAAAAANA/fdYNpshnzT//i6+jAunRP4Mj6sAWHcI/YoaSnEzexj/B4QspAjbOPxosMVf0jsY/jINbHbZLwj8AAAAAAADIP1y+5Vu+5cs/X8A2p6s80z9cb16m9OfNPxxMkc+6wcQ/CcSFmpNAzD8cx3Ecx3HcPxqkQRqkQcY/AAAAAAAA8D/5B0wn0grOPw=="
         },
         "yaxis": "y",
         "type": "scatter"
        },
        {
         "customdata": [
          [
           13951,
           "energy efficiency"
          ],
          [
           11,
           "energy efficiency"
          ],
          [
           13,
           "energy efficiency"
          ],
          [
           321,
           "energy efficiency"
          ],
          [
           318,
           "energy efficiency"
          ],
          [
           993,
           "energy efficiency"
          ],
          [
           315,
           "energy efficiency"
          ],
          [
           14855,
           "energy efficiency"
          ],
          [
           6154,
           "energy efficiency"
          ],
          [
           20918,
           "energy efficiency"
          ],
          [
           20,
           "energy efficiency"
          ],
          [
           12509,
           "energy efficiency"
          ],
          [
           329,
           "energy efficiency"
          ],
          [
           1,
           "energy efficiency"
          ],
          [
           2279,
           "energy efficiency"
          ],
          [
           675,
           "energy efficiency"
          ],
          [
           1199,
           "energy efficiency"
          ],
          [
           546,
           "energy efficiency"
          ],
          [
           234,
           "energy efficiency"
          ],
          [
           2,
           "energy efficiency"
          ],
          [
           40954,
           "energy efficiency"
          ],
          [
           12741,
           "energy efficiency"
          ],
          [
           1330,
           "energy efficiency"
          ],
          [
           16,
           "energy efficiency"
          ],
          [
           10819,
           "energy efficiency"
          ],
          [
           1996,
           "energy efficiency"
          ],
          [
           1650,
           "energy efficiency"
          ],
          [
           8791,
           "energy efficiency"
          ],
          [
           5606,
           "energy efficiency"
          ],
          [
           44,
           "energy efficiency"
          ],
          [
           5812,
           "energy efficiency"
          ],
          [
           11,
           "energy efficiency"
          ],
          [
           4,
           "energy efficiency"
          ],
          [
           22,
           "energy efficiency"
          ],
          [
           89,
           "energy efficiency"
          ],
          [
           11,
           "energy efficiency"
          ],
          [
           10,
           "energy efficiency"
          ],
          [
           2,
           "energy efficiency"
          ]
         ],
         "hovertemplate": "<b>%{hovertext}</b><br><br>primary_qa=%{customdata[1]}<br>popularity=%{x}<br>precision=%{y}<br>bubble_size=%{marker.size}<br>total_count=%{customdata[0]}<extra></extra>",
         "hovertext": [
          "alloc",
          "batter",
          "carbon",
          "charg",
          "clock",
          "cloud",
          "cool",
          "core",
          "cpu",
          "current",
          "drain",
          "draw",
          "energ",
          "energ consum",
          "estimat",
          "frequenc",
          "green",
          "heat",
          "idl",
          "joul",
          "load",
          "manag",
          "measur",
          "meter",
          "optim",
          "power",
          "predict",
          "profil",
          "reduc",
          "resourc usag",
          "schedul",
          "sensor",
          "standby",
          "sustainab",
          "temperatur",
          "therm",
          "voltag",
          "watt"
         ],
         "legendgroup": "energy efficiency",
         "marker": {
          "color": "#19d3f3",
          "opacity": 0.5,
          "size": {
           "dtype": "f8",
           "bdata": "3CMOqTUWI0B9ntO8FuEDQKe71xbKHAVAzLdUCiQZF0C1mqZBjg8XQJ20kP9gmxtA7z9uSeEFF0AaZWd8WjYjQGmfldM1cyFAtq5nZ5blI0Cxrm+ULlsIQJEbpGta3iJA84ZFWEUyF0DvOfr+Qi7mP1/TRj9/7R5AzRrw6pQQGkBUJB8aPVwcQMnVRm3BNxlAqNvDlZ3WFUALA6166pPxP2P/6K2OPSVAIHpe6MLnIkDy0j6TVcYcQHp/+sFrqgZAmksarAuUIkCDzJB2yWUeQGv0+Kn0oh1AVjqiJccpIkCJ0UiAd0MhQKTJo3YLdA5Awq/KtPBVIUB9ntO8FuEDQDON7fdBwPk/8LPR/X0VCUAQLDEbzv8RQH2e07wW4QNATDd/t+MuA0ALA6166pPxPw=="
          },
          "sizemode": "area",
          "sizeref": 0.029379462181811103,
          "symbol": "circle"
         },
         "mode": "markers",
         "name": "energy efficiency",
         "orientation": "v",
         "showlegend": true,
         "x": {
          "dtype": "f8",
          "bdata": "KVHQlTmlfD8ACi5/0yDXPgDGqgpXVds+8J6dx2MXJT8gxhOd7eQkPzzVDkCyT0A/UO2JcneyJD8lYGKmZ4B+P9YfyY2YRWk/myJ6Sq95hT8ArG+5kQblPsq92fY/r3k/cDYNOfSdJT8A8PItDtKgPtK2YYe/t1I/aMeTse0sNj+ENE0a9LFDP/ARAB8B8DE/wB4A7AHAHj8A8PItDtKwPp2ExeDHBZU/Ft+m3TIpej+4CK5q09hFPwDw8i0O0uA+pw//aeo2dj/oRMjRuGRQP7jzCdl3Gks/fQtfJ+oMcj86XyMofgVnPwAKLn/TIPc+DPeyng7eZz8ACi5/0yDXPgDw8i0O0sA+AAouf9Mg5z7A1eW3G2QHPwAKLn/TINc+AKxvuZEG1T4A8PItDtKwPg=="
         },
         "xaxis": "x",
         "y": {
          "dtype": "f8",
          "bdata": "+rsEAm7rvj9GF1100UXHPwAAAAAAAAAAp67l4Ga/sD+5U7RwBoTCP2FnT0zY2cM/G63RGq3Ryj/Jw6kTXSGwP1eVmcL5Dsw/j+O9tmJtwT+amZmZmZnJPxBYZcjAxLo/yyNCU+1Xtz8AAAAAAAAAAIGAOI8zg8A/8qGnArO4wz+nrpL/naSzPxmVURmVUck/lUzJlEzJtD8AAAAAAAAAAOQejQjkwMc/FCLgiYrdxj9YfMVXfMXHPwAAAAAAAMA/lK46cJOjxT8+Hd2ry4HBPwyYxoBpDMg/eFUfFPv+xD/vGBXDuMPLPxdddNFFF80/bdOQMoW8yj9GF1100UW3PwAAAAAAAAAAXXTRRRdd1D+e8YxnPOO5P0YXXXTRRcc/AAAAAAAAAAAAAAAAAAAAAA=="
         },
         "yaxis": "y",
         "type": "scatter"
        },
        {
         "customdata": [
          [
           2,
           "performance"
          ],
          [
           306,
           "performance"
          ],
          [
           10,
           "performance"
          ],
          [
           2,
           "performance"
          ],
          [
           175,
           "performance"
          ],
          [
           7757,
           "performance"
          ],
          [
           8,
           "performance"
          ],
          [
           26,
           "performance"
          ],
          [
           541,
           "performance"
          ],
          [
           6395,
           "performance"
          ],
          [
           1,
           "performance"
          ],
          [
           124,
           "performance"
          ],
          [
           346,
           "performance"
          ],
          [
           1273,
           "performance"
          ],
          [
           2,
           "performance"
          ],
          [
           90,
           "performance"
          ],
          [
           8125,
           "performance"
          ],
          [
           3351,
           "performance"
          ],
          [
           1420,
           "performance"
          ],
          [
           120,
           "performance"
          ],
          [
           63,
           "performance"
          ],
          [
           9,
           "performance"
          ],
          [
           2,
           "performance"
          ],
          [
           420,
           "performance"
          ],
          [
           167,
           "performance"
          ],
          [
           11,
           "performance"
          ],
          [
           27,
           "performance"
          ],
          [
           9601,
           "performance"
          ],
          [
           644,
           "performance"
          ],
          [
           3184,
           "performance"
          ],
          [
           34,
           "performance"
          ],
          [
           5,
           "performance"
          ],
          [
           26,
           "performance"
          ],
          [
           35,
           "performance"
          ],
          [
           4,
           "performance"
          ],
          [
           49,
           "performance"
          ],
          [
           13,
           "performance"
          ],
          [
           502,
           "performance"
          ],
          [
           1828,
           "performance"
          ],
          [
           60,
           "performance"
          ],
          [
           5,
           "performance"
          ],
          [
           6,
           "performance"
          ],
          [
           1600,
           "performance"
          ],
          [
           16917,
           "performance"
          ],
          [
           713,
           "performance"
          ],
          [
           18,
           "performance"
          ],
          [
           154,
           "performance"
          ],
          [
           17404,
           "performance"
          ],
          [
           468,
           "performance"
          ],
          [
           50,
           "performance"
          ]
         ],
         "hovertemplate": "<b>%{hovertext}</b><br><br>primary_qa=%{customdata[1]}<br>popularity=%{x}<br>precision=%{y}<br>bubble_size=%{marker.size}<br>total_count=%{customdata[0]}<extra></extra>",
         "hovertext": [
          "applic perform",
          "asynch",
          "autosc",
          "best-cas",
          "bottleneck",
          "cach",
          "cloud resourc",
          "comput resourc",
          "concurren",
          "content",
          "datagram",
          "deadlock",
          "denorm",
          "disk",
          "event-driven",
          "execut time",
          "failur",
          "gpu",
          "i/o",
          "improv perform",
          "iop",
          "load balanc",
          "load test",
          "multi-thread",
          "multiplex",
          "multiprocessor",
          "optim perform",
          "optimiz",
          "overhead",
          "parallel",
          "perform analys",
          "perform efficien",
          "perform evalu",
          "perform issu",
          "perform metric",
          "perform optim",
          "perform target",
          "perform test",
          "refactor",
          "reindex",
          "rendezv",
          "respons time",
          "scalab",
          "scale",
          "synch",
          "throttl",
          "throughput",
          "time",
          "tune",
          "workload"
         ],
         "legendgroup": "performance",
         "marker": {
          "color": "#FF6692",
          "opacity": 0.5,
          "size": {
           "dtype": "f8",
           "bdata": "CwOteuqT8T+sO6TGSugWQEw3f7fjLgNACwOteuqT8T+duDxbk64UQKbiBLq36SFACwOteuqTAUCQhAO4310KQEQ37zVaLhlAx/VkC+CGIUDvOfr+Qi7mP+cp8nkxUBNAdTcmZbVlF0CSOpHMg5kcQAsDrXrqk/E/vlwlwR4LEkDK00gocgEiQMv8A2EQPCBAOywAvVUJHUBMN3+34y4TQHOrOz+yohBAFlW1u7FrAkALA6166pPxP0abCfGnKxhAEq3VafB+FEB9ntO8FuEDQCNKltZaqApAtM6lauZWIkAYGrEng+AZQFGrVvXlISBAxfMPU1pxDEACICr6C6v8P5CEA7jfXQpAAiAq+gurDEAzje33QcD5P68brLfSSw9Ap7vXFsocBUD/lrlj4uEYQCa/Dx7NCx5ADWwS64hxEEACICr6C6v8P1daMq5yIv8/x6MiBXeDHUDxYuF65ngjQFNeFIuVSBpALLMEBjaOB0D6+EOidywUQB/bxDhuhyNAw6e0nDeaGED/AFH/YHQPQA=="
          },
          "sizemode": "area",
          "sizeref": 0.029379462181811103,
          "symbol": "circle"
         },
         "mode": "markers",
         "name": "performance",
         "orientation": "v",
         "showlegend": true,
         "x": {
          "dtype": "f8",
          "bdata": "APDyLQ7SsD7gYuzyFBskPwCsb7mRBtU+APDyLQ7SsD4gJNJiL/8WPyOjZHrN2m8/APDyLQ7S0D4AxqoKV1XrPpgyjfvzxTE/FTtdg/RCaj8A8PItDtKgPoBYg7x9SxA/YFgaKue7Jj/cQp8gIulEPwDw8i0O0rA+gKGd8GOnBz9au0Jg1q5wP3LgbvOyhVs/0OK3qUlTRz8AgieW2okPP0AkO/XFjgA/AE6x80/s0j4A8PItDtKwPsCRYkOfmCs/IPXyfw7yFT8ACi5/0yDXPgD1ie13Yuw+2CBKLq+2cz/gkcvVNSg1PyCxbwuSJlo/AB/SEC/f8T4ArG+5kQbFPgDGqgpXVes+gLZBgr9l8j4A8PItDtLAPoD/W7alwfk+AMaqCldV2z5QMQ3n830wP3CuBlD7Bk4/AIInltqJ/z4ArG+5kQbFPgBo7EQVO8k+AJfLJzZISj83mwmMI16BPzjP/L6EbDc/AE6x80/s4j7ASEgPuTwUP9E/7+8h3oE/wB4A7AHALj8Al8snNkj6Pg=="
         },
         "xaxis": "x",
         "y": {
          "dtype": "f8",
          "bdata": "AAAAAAAAAAD0nkn0nknUP5qZmZmZmbk/AAAAAAAA4D8tb4xgor/TP85I6tmJ68s/AAAAAAAA0D/ZiZ3YiZ3YP3RHvTCtOtQ/424q1CS4yD8AAAAAAAAAAFNKKaWUUto/Q3+SsaiGyT8UM5KxNd3UPwAAAAAAAAAAOY7jOI7j2D+ac4fZqOXDP5LDAHo1XM8/987rM+iq0T+JiIiIiIjYPxiGYRiGYcg/HMdxHMdx7D8AAAAAAADgP8h+7Md+7Nc/Tmu2T1QPuj9GF1100UXHP1VVVVVVVdU/gEANj4uOzj+c3vSmN73ZPw5jtfW3B84/09LS0tLSwj8AAAAAAAAAABQ7sRM7sbM/HdRBHdRB3T8AAAAAAADoPzTWh8b60Ng/FDuxEzuxsz8FAc31/WWUP0ClkRzlr9Y/VVVVVVVVtT+amZmZmZnJPwAAAAAAAOA/MzMzMzMz0z91whagOaDEP6YpLN3YhM4/VVVVVVVV1T/Oyk+Is/LTP5o8BmoKsdE/GIERGIERyD97FK5H4XrUPw=="
         },
         "yaxis": "y",
         "type": "scatter"
        },
        {
         "customdata": [
          [
           2167,
           "interoperability"
          ],
          [
           41,
           "interoperability"
          ],
          [
           3562,
           "interoperability"
          ],
          [
           5,
           "interoperability"
          ],
          [
           1571,
           "interoperability"
          ],
          [
           11,
           "interoperability"
          ],
          [
           5436,
           "interoperability"
          ],
          [
           21,
           "interoperability"
          ],
          [
           3666,
           "interoperability"
          ],
          [
           6675,
           "interoperability"
          ],
          [
           6,
           "interoperability"
          ],
          [
           162,
           "interoperability"
          ],
          [
           10895,
           "interoperability"
          ],
          [
           73,
           "interoperability"
          ],
          [
           790,
           "interoperability"
          ],
          [
           61,
           "interoperability"
          ],
          [
           3,
           "interoperability"
          ],
          [
           83,
           "interoperability"
          ],
          [
           837,
           "interoperability"
          ],
          [
           55,
           "interoperability"
          ],
          [
           3,
           "interoperability"
          ],
          [
           3769,
           "interoperability"
          ],
          [
           2218,
           "interoperability"
          ],
          [
           1,
           "interoperability"
          ],
          [
           1553,
           "interoperability"
          ],
          [
           701,
           "interoperability"
          ],
          [
           1631,
           "interoperability"
          ],
          [
           18,
           "interoperability"
          ],
          [
           3081,
           "interoperability"
          ],
          [
           4760,
           "interoperability"
          ],
          [
           212,
           "interoperability"
          ],
          [
           1,
           "interoperability"
          ],
          [
           1107,
           "interoperability"
          ],
          [
           29957,
           "interoperability"
          ],
          [
           5548,
           "interoperability"
          ],
          [
           270,
           "interoperability"
          ],
          [
           2321,
           "interoperability"
          ],
          [
           1760,
           "interoperability"
          ]
         ],
         "hovertemplate": "<b>%{hovertext}</b><br><br>primary_qa=%{customdata[1]}<br>popularity=%{x}<br>precision=%{y}<br>bubble_size=%{marker.size}<br>total_count=%{customdata[0]}<extra></extra>",
         "hovertext": [
          "architectur",
          "client-serv",
          "compatib",
          "compon base",
          "conflict",
          "connector",
          "convers",
          "cooperat",
          "coordinat",
          "distribut",
          "event-bas",
          "exchang",
          "format",
          "heterogen",
          "incompatib",
          "interoperab",
          "licens use",
          "marshal",
          "mismatch",
          "ontolog",
          "orb",
          "platform",
          "plug",
          "plug-and-play",
          "prox",
          "registr",
          "repositor",
          "rpc",
          "semant",
          "share",
          "skeleton",
          "soap",
          "socket",
          "specif",
          "standard",
          "syntact",
          "wrapper",
          "xml"
         ],
         "legendgroup": "interoperability",
         "marker": {
          "color": "#B6E880",
          "opacity": 0.5,
          "size": {
           "dtype": "f8",
           "bdata": "wMWt9eq5HkAtPS5Uv+YNQNSA8MJRWyBAAiAq+gur/D+hl4wYv3AdQH2e07wW4QNAtjS3AbQzIUDIxT13dLoIQPzTldUMaiBAknyp+8+cIUBXWjKuciL/P3vVeQ0AYBRAsjeLG6GXIkAdq/zWXDcRQPIZwAV1sRpA69wnhC+CEEDvOfr+Qi72P9Rl9gkouRFAGWtJApDsGkBQbCrL9RkQQO85+v5CLvY/4TetrDt4IEAyTns3utEeQO85+v5CLuY/dYI0IfRkHUCuz3lROjcaQLXkBF8alx1ALLMEBjaOB0AyGfgnEREgQLsalJ257yBAjBfQkvZxFUDvOfr+Qi7mP4dhszGPChxAaofsaXedJEAD72uaJD4hQAbwD9aRaBZAjn/rRjAAH0Agp0wgAeUdQA=="
          },
          "sizemode": "area",
          "sizeref": 0.029379462181811103,
          "symbol": "circle"
         },
         "mode": "markers",
         "name": "interoperability",
         "orientation": "v",
         "showlegend": true,
         "x": {
          "dtype": "f8",
          "bdata": "sm3ewELMUT+AQ98qIo31PuzHailXQV0/AKxvuZEGxT60df5AQ85JPwAKLn/TINc+BCp7UcZSZj8A206cshPmPhwewOEBHF4/fVaBe1Bpaz8AaOxEFTvJPsB3J/LZSRU/oTCsS91edj/AGWksmC8DP1DY5eAb9Dk/wIzLgzUIAD8AaOxEFTu5PkAPl2Nq0AU/WKUdLmR/Oz+AjPleCOn8PgBo7EQVO7k+7rVPWJL0Xj9sWkPbfTdSPwDw8i0O0qA+fLAvAZKCST+YHelpmAc3P8SxrxWSyko/AE6x80/s4j5OGeCUAU5ZP+jRZXobjGM/gF0afOfbGz8A8PItDtKgPvRgLNQUL0I/u7UbVVLBjj+Uzry0hMhmPyA5dvSKvSE/PvLSUQ4QUz+AjPleCOlMPw=="
         },
         "xaxis": "x",
         "y": {
          "dtype": "f8",
          "bdata": "qll/Br+Jzj8ZnI/B+RjcP7JCcEdzptI/mpmZmZmZyT9f6Lo3TmDLP0YXXXTRRbc/93Ft1X1cyz+e53me53nOP1VVVVVVVcU/RYbBzmuHxz9VVVVVVVXFP3Icx3Ecx9E/CjjhAVCdxz+oUKFChQrVPzG/q8VNmM8/yRCso8371D8AAAAAAAAAAB9yWTFQwrs/C7nHV+2YzD9KkKcEeUrAPwAAAAAAAAAACJlLXy2Exj/HIKqjTwvDPwAAAAAAAAAAKx65zSCpzj/9p0SUsmPLPz/xYXBMh84/HMdxHMdxrD8fLMWjJSPRPwp4Uwp4U8o/8lb2OaQmyD8AAAAAAAAAAAFvYEVcq8k/YSPEeFy/yz9g6H+h/4XOP0jWufKAZM0/nMsqvPYTyz+oBHlKkKfAPw=="
         },
         "yaxis": "y",
         "type": "scatter"
        },
        {
         "customdata": [
          [
           3,
           "modifiability"
          ],
          [
           2,
           "modifiability"
          ],
          [
           7169,
           "modifiability"
          ],
          [
           1,
           "modifiability"
          ],
          [
           2,
           "modifiability"
          ],
          [
           14001,
           "modifiability"
          ],
          [
           31,
           "modifiability"
          ],
          [
           4194,
           "modifiability"
          ],
          [
           41,
           "modifiability"
          ],
          [
           257,
           "modifiability"
          ],
          [
           113,
           "modifiability"
          ],
          [
           10138,
           "modifiability"
          ],
          [
           1,
           "modifiability"
          ],
          [
           2099,
           "modifiability"
          ],
          [
           21720,
           "modifiability"
          ],
          [
           1018,
           "modifiability"
          ],
          [
           323,
           "modifiability"
          ],
          [
           3115,
           "modifiability"
          ],
          [
           61975,
           "modifiability"
          ],
          [
           21,
           "modifiability"
          ],
          [
           61,
           "modifiability"
          ],
          [
           21853,
           "modifiability"
          ],
          [
           226,
           "modifiability"
          ],
          [
           341,
           "modifiability"
          ],
          [
           2,
           "modifiability"
          ],
          [
           59,
           "modifiability"
          ],
          [
           291,
           "modifiability"
          ],
          [
           1282,
           "modifiability"
          ],
          [
           2,
           "modifiability"
          ],
          [
           406,
           "modifiability"
          ],
          [
           7,
           "modifiability"
          ],
          [
           2,
           "modifiability"
          ],
          [
           2149,
           "modifiability"
          ],
          [
           20183,
           "modifiability"
          ],
          [
           63869,
           "modifiability"
          ]
         ],
         "hovertemplate": "<b>%{hovertext}</b><br><br>primary_qa=%{customdata[1]}<br>popularity=%{x}<br>precision=%{y}<br>bubble_size=%{marker.size}<br>total_count=%{customdata[0]}<extra></extra>",
         "hovertext": [
          "architectur descript",
          "architectur design",
          "bind",
          "chang environ",
          "chang system",
          "compon",
          "cost estim",
          "deco",
          "design decis",
          "encapsul",
          "evolv",
          "exten",
          "impact analys",
          "inherit",
          "interfac",
          "interm",
          "interop",
          "layer",
          "modul",
          "mvc",
          "pac",
          "paramet",
          "polymorph",
          "portab",
          "requir adapt",
          "requir chang",
          "responsibil",
          "reu",
          "risk assess",
          "scenario",
          "system chang",
          "system environ",
          "upgrad",
          "variab",
          "version"
         ],
         "legendgroup": "modifiability",
         "marker": {
          "color": "#FF97FF",
          "opacity": 0.5,
          "size": {
           "dtype": "f8",
           "bdata": "7zn6/kIu9j8LA6166pPxP/SFHcZcwSFA7zn6/kIu5j8LA6166pPxPzfNo4sKGCNAa8i4vtO5C0Ayz1mR7K4gQC09LlS/5g1ACf6UCTs2FkCX4YwB3vESQFsChBbDciJA7zn6/kIu5j9uLO0FSZkeQIBuGY7Z+CNATaobnNC0G0CGkWs6ex8XQBwfxDKvFiBABDiIT6oRJkDIxT13dLoIQOvcJ4QvghBAUMcArfn7I0CrEe4YJrMVQFkiOKDYVhdACwOteuqT8T+LMmXcm2AQQGK+4PL+tBZAXrFTK7mgHEALA6166pPxP4T/3FIGCRhAc6s7P7KiAEALA6166pPxP+CD4GZhsR5ATooLRUbTI0DcOaTpEyEmQA=="
          },
          "sizemode": "area",
          "sizeref": 0.029379462181811103,
          "symbol": "circle"
         },
         "mode": "markers",
         "name": "modifiability",
         "orientation": "v",
         "showlegend": true,
         "x": {
          "dtype": "f8",
          "bdata": "AGjsRBU7uT4A8PItDtKwPi8DTPGlcG0/APDyLQ7SoD4A8PItDtKwPsAc+MuBv3w/gFiDvH1L8D7+X8zEFDlhP4BD3yoijfU+8OIgPODiID/A7yAJ4bINP6M1PSz00HQ/APDyLQ7SoD663FdIST1RP+ruKYx3TIY/mAOuGNO4QD/QhPnjBzklP8phI1F+lVk/Z49rjSjQnz8A206cshPmPsCMy4M1CAA/xWuhEWxvhj/A7yAJ4bIdP7CZNOPMZyY/APDyLQ7SsD6A6rckSgP/PtAmOx7GHiM/eKWGwPoORT8A8PItDtKwPqBI33wirSo/ACRp0JhvzT4A8PItDtKwPhYL9yBqplE/nnCi74K4hD8Pu51bhmSgPw=="
         },
         "xaxis": "x",
         "y": {
          "dtype": "f8",
          "bdata": "AAAAAAAAAAAAAAAAAADgP672BHUzX8Y/AAAAAAAAAAAAAAAAAAAAAAnJHZMy0sg/ttZaa6211j99L2sy057LPxmcj8H5GMw/HeMc4xzjzD80+bJBky/bPwl390w8rs4/AAAAAAAAAACbv68lCXfQP2hXs9aBTc4/4pZkmGXuzj91JMaCCfzGP2PYpVqTfcg/cwaxKMNexT+e53me53neP8kQrKPN+9Q/cG1qX/sGzD/7IYG3HxLYP5VSSimllNI/AAAAAAAA4D/vy2MrgobTPxfidT5z39Y/kZSMoG5r0z8AAAAAAADgP7vErIUCOtY/kiRJkiRJ0j8AAAAAAADgP8YONO8IEc0/+NDjAY2lzD/GFWjQiUXHPw=="
         },
         "yaxis": "y",
         "type": "scatter"
        },
        {
         "customdata": [
          [
           2897,
           "testability"
          ],
          [
           3,
           "testability"
          ],
          [
           1028,
           "testability"
          ],
          [
           9043,
           "testability"
          ],
          [
           10969,
           "testability"
          ],
          [
           1523,
           "testability"
          ],
          [
           26,
           "testability"
          ],
          [
           519,
           "testability"
          ],
          [
           2,
           "testability"
          ],
          [
           33,
           "testability"
          ],
          [
           12,
           "testability"
          ],
          [
           697,
           "testability"
          ],
          [
           1524,
           "testability"
          ],
          [
           199,
           "testability"
          ],
          [
           351,
           "testability"
          ],
          [
           1759,
           "testability"
          ],
          [
           2,
           "testability"
          ],
          [
           969,
           "testability"
          ],
          [
           1,
           "testability"
          ],
          [
           1156,
           "testability"
          ],
          [
           5,
           "testability"
          ],
          [
           78,
           "testability"
          ],
          [
           1046,
           "testability"
          ],
          [
           3226,
           "testability"
          ],
          [
           2293,
           "testability"
          ],
          [
           6601,
           "testability"
          ],
          [
           2692,
           "testability"
          ]
         ],
         "hovertemplate": "<b>%{hovertext}</b><br><br>primary_qa=%{customdata[1]}<br>popularity=%{x}<br>precision=%{y}<br>bubble_size=%{marker.size}<br>total_count=%{customdata[0]}<extra></extra>",
         "hovertext": [
          "assert",
          "black-box",
          "concern",
          "context",
          "control",
          "coverag",
          "data-flow",
          "emul",
          "flowgraph",
          "fuzzy",
          "hard-wir",
          "hook",
          "instrument",
          "mock",
          "modula",
          "plan",
          "qualit assur",
          "regress",
          "self-check",
          "simul",
          "source-to-sourc",
          "spy",
          "stub",
          "trace",
          "understand",
          "unit",
          "verif"
         ],
         "legendgroup": "testability",
         "marker": {
          "color": "#FECB52",
          "opacity": 0.5,
          "size": {
           "dtype": "f8",
           "bdata": "UTmrRxnjH0DvOfr+Qi72P4QEUaHQvhtAMl+lJz84IkCQOI1FGJsiQIH9yfL9UB1AkIQDuN9dCkAv/zGz6wMZQAsDrXrqk/E/9g25gfw1DEBRjDErBIUEQJ6gNVlgMRpApzIJ56lRHUBTnJQbejEVQNv/G7tbdBdAKGMXOWzkHUALA6166pPxP4P2v+ZZghtA7zn6/kIu5j8fUUct3zYcQAIgKvoLq/w/c7GviVB6EUAjmgGYktAbQAxWVhWbKCBAyUBF+8PzHkAB53cBG5chQC/11xP5lx9A"
          },
          "sizemode": "area",
          "sizeref": 0.029379462181811103,
          "symbol": "circle"
         },
         "mode": "markers",
         "name": "testability",
         "orientation": "v",
         "showlegend": true,
         "x": {
          "dtype": "f8",
          "bdata": "vkW/TiLLVz8AaOxEFTu5PvDiIDzg4kA/n+QIV2CRcj9scnYMw4V2P3QS15ZqBEk/AMaqCldV6z5IwpNf7QwxPwDw8i0O0rA+gIdin55Y8T4AaOxEFTvZPrg3jU305TY/MI9iGp8IST8gsW8LkiYaPxAXAHEBECc/xA9u29PkTD8A8PItDtKwPjhH9tWL1T8/APDyLQ7SoD7wQN8BIv1CPwCsb7mRBsU+gBQASAGABD8oqO97kS5BP4zs4NXgflo/9h8yIC/VUj/n0uz5hBtrP3jUZaMbHFY/"
         },
         "xaxis": "x",
         "y": {
          "dtype": "f8",
          "bdata": "hznlfiRzyT9VVVVVVVXVPybaJdol2tU/2DuKv+YTyz9FMoaaWyPNP1zv0IfIDco/FDuxEzuxwz+LIWTjdSfQPwAAAAAAAAAAVVVVVVVV1T8AAAAAAAAAAJGdazMUkc0/IOVH+VF+xD9go3dF5kvDP79GwWnxa9Q/HrGhd3Zuxz8AAAAAAADgP57hWmhNg8c/AAAAAAAAAAAyyF71iyLJP5qZmZmZmdk/l2/5lm/5tj+1DSyyPAzFP+VR7Gu4TsA/u5gIBx2M1T8xXTWgdW/GP9tfhCSge8s/"
         },
         "yaxis": "y",
         "type": "scatter"
        },
        {
         "customdata": [
          [
           13958,
           "availability"
          ],
          [
           411,
           "availability"
          ],
          [
           948,
           "availability"
          ],
          [
           5376,
           "availability"
          ],
          [
           230,
           "availability"
          ],
          [
           5559,
           "availability"
          ],
          [
           6,
           "availability"
          ],
          [
           438,
           "availability"
          ],
          [
           126979,
           "availability"
          ],
          [
           80,
           "availability"
          ],
          [
           4,
           "availability"
          ],
          [
           2515,
           "availability"
          ],
          [
           82,
           "availability"
          ],
          [
           1,
           "availability"
          ],
          [
           59,
           "availability"
          ],
          [
           936,
           "availability"
          ],
          [
           314,
           "availability"
          ],
          [
           258,
           "availability"
          ],
          [
           7342,
           "availability"
          ],
          [
           3390,
           "availability"
          ],
          [
           4,
           "availability"
          ],
          [
           21056,
           "availability"
          ],
          [
           14,
           "availability"
          ],
          [
           452,
           "availability"
          ],
          [
           18,
           "availability"
          ],
          [
           3852,
           "availability"
          ],
          [
           858,
           "availability"
          ],
          [
           324,
           "availability"
          ],
          [
           559,
           "availability"
          ],
          [
           903,
           "availability"
          ],
          [
           5206,
           "availability"
          ],
          [
           2,
           "availability"
          ],
          [
           12,
           "availability"
          ],
          [
           6,
           "availability"
          ],
          [
           26,
           "availability"
          ],
          [
           607,
           "availability"
          ],
          [
           348,
           "availability"
          ],
          [
           20,
           "availability"
          ],
          [
           30,
           "availability"
          ]
         ],
         "hovertemplate": "<b>%{hovertext}</b><br><br>primary_qa=%{customdata[1]}<br>popularity=%{x}<br>precision=%{y}<br>bubble_size=%{marker.size}<br>total_count=%{customdata[0]}<extra></extra>",
         "hovertext": [
          "avail",
          "backup",
          "checkpoint",
          "consist",
          "degrad",
          "down",
          "downtim",
          "echo",
          "error",
          "escal",
          "failov",
          "fault",
          "ha",
          "haproxy",
          "heal",
          "incid",
          "mainten",
          "markov",
          "mask",
          "monitor",
          "mttr",
          "operat",
          "outag",
          "ping",
          "reboot",
          "redundan",
          "reliab",
          "repair",
          "replic",
          "robust",
          "servic",
          "sla",
          "sli",
          "slo",
          "stead",
          "toler",
          "unavail",
          "uptim",
          "watchdog"
         ],
         "legendgroup": "availability",
         "marker": {
          "color": "#636efa",
          "opacity": 0.5,
          "size": {
           "dtype": "f8",
           "bdata": "JOvEZ3cWI0BoohclhxUYQA/2ukjwaxtAKoqKhQUuIUD+cvclCcUVQAwi2CwoPyFAV1oyrnIi/z+YwZ4Dh1YYQD/1Y/LpgCdACwOteuqTEUAzje33QcD5Pxcy2RdbUh9AguRijeSsEUDvOfr+Qi7mP4syZdybYBBAXGbIXeheG0Boe95mogIXQHT6qSIxOhZAWAT5xJHNIUAgEfeT/EEgQDON7fdBwPk/CEzTOvToI0AfSE05FqoFQBZB42ysdhhALLMEBjaOB0BeKrIJYoMgQK8FzUnoBRtAwoyPEaMiF0DaFgWpzk8ZQBVZ0XkxOhtANMKTm5IdIUALA6166pPxP1GMMSsEhQRAV1oyrnIi/z+QhAO4310KQMy9XuIEpBlAYFlW+ZdrF0Cxrm+ULlsIQForkUjOeAtA"
          },
          "sizemode": "area",
          "sizeref": 0.029379462181811103,
          "symbol": "circle"
         },
         "mode": "markers",
         "name": "availability",
         "orientation": "v",
         "showlegend": true,
         "x": {
          "dtype": "f8",
          "bdata": "TV7qiOeofD9QB8XDPAErP2DQE0HuJD8/ANtOnLITZj9Ah5B6cTkeP5llfB4V1GY/AGjsRBU7yT6gpp1CZMcsP2ydmPeWS7A/AKxvuZEGBT8A8PItDtLAPno1rSn0p1Q/gEPfKiKNBT8A8PItDtKgPoDqtyRKA/8+wB4A7AHAPj9g+ltkpaEkP+DVTkqy8yA/8tWcKoUmbj/E4I74stdbPwDw8i0O0sA+cDYNOfSdhT8AJGnQmG/dPsDvIAnhsi0/AE6x80/s4j5obmyrFaNfPzAcAMMBMDw/wHcn8tlJJT8IvSp7Vl0yP0j2CQJ4qj0/yqWmxfpgZT8A8PItDtKwPgBo7EQVO9k+AGjsRBU7yT4AxqoKV1XrPoiDec8H8TM/QD52RovdJj8ArG+5kQblPgCCJ5baie8+"
         },
         "xaxis": "x",
         "y": {
          "dtype": "f8",
          "bdata": "1V3WZAEeyj9Q7TmZvkq4Py1uwvyuFsc/z/M8z/O8zj8Q435dUvnQPxccUj9nssI/VVVVVVVVxT8srrG4xuK6P08sDX6XfsM/zczMzMzMvD8AAAAAAAAAAPtZxE1syMU/uxK1K1G7sj8AAAAAAAAAAFcEDSd1X74/GIERGIERqD/7HpEThLvRPzJnzBlzxrw/RIUfJJbBuD/B2w8JvP3APwAAAAAAAAAA3L2sEqjovT+SJEmSJEmyP3pqYaWnFrY/chzHcRzH0T/TDUQAFXvLP6n0vsBRM9I/wdOt+WGRwj8UO7ETO7HDPwpEcOzSKNA/CP472n/Etj8AAAAAAAAAAAAAAAAAAAAAAAAAAAAAAAB2Yid2YifWP95O2wj1Jbo/7mmE5Z5GuD+amZmZmZm5P5qZmZmZmbk/"
         },
         "yaxis": "y",
         "type": "scatter"
        },
        {
         "customdata": [
          [
           6,
           "reliability"
          ],
          [
           1,
           "reliability"
          ],
          [
           5,
           "reliability"
          ],
          [
           11130,
           "reliability"
          ],
          [
           11,
           "reliability"
          ],
          [
           3,
           "reliability"
          ],
          [
           32293,
           "reliability"
          ],
          [
           3,
           "reliability"
          ],
          [
           3,
           "reliability"
          ],
          [
           70,
           "reliability"
          ],
          [
           4,
           "reliability"
          ],
          [
           46658,
           "reliability"
          ],
          [
           1,
           "reliability"
          ],
          [
           2,
           "reliability"
          ],
          [
           30,
           "reliability"
          ],
          [
           1,
           "reliability"
          ],
          [
           527,
           "reliability"
          ],
          [
           2,
           "reliability"
          ],
          [
           10,
           "reliability"
          ],
          [
           9,
           "reliability"
          ],
          [
           3984,
           "reliability"
          ],
          [
           69,
           "reliability"
          ],
          [
           1,
           "reliability"
          ],
          [
           170,
           "reliability"
          ],
          [
           535,
           "reliability"
          ]
         ],
         "hovertemplate": "<b>%{hovertext}</b><br><br>primary_qa=%{customdata[1]}<br>popularity=%{x}<br>precision=%{y}<br>bubble_size=%{marker.size}<br>total_count=%{customdata[0]}<extra></extra>",
         "hovertext": [
          "bare metal",
          "cloud deploy",
          "dependab",
          "diagno",
          "doe",
          "egress",
          "fail",
          "fmea",
          "fully manag",
          "growth",
          "ingress",
          "integr",
          "manag environ",
          "manag tool",
          "nonlinear",
          "point-in-tim",
          "poisson",
          "pra",
          "rca",
          "rerout",
          "restor",
          "rpo",
          "rto",
          "stabil",
          "toleran"
         ],
         "legendgroup": "reliability",
         "marker": {
          "color": "#EF553B",
          "opacity": 0.5,
          "size": {
           "dtype": "f8",
           "bdata": "V1oyrnIi/z/vOfr+Qi7mPwIgKvoLq/w/PTq19I2iIkB9ntO8FuEDQO85+v5CLvY/dcJA9ujDJEDvOfr+Qi72P+85+v5CLvY/ydYk9PsMEUAzje33QcD5P4EqHmlRgCVA7zn6/kIu5j8LA6166pPxP1orkUjOeAtA7zn6/kIu5j9g+ef5jRMZQAsDrXrqk/E/TDd/t+MuA0AWVbW7sWsCQLgoAzuhlCBAIUFniXX+EEDvOfr+Qi7mPxzbWEAQkRRA5+bFEPQiGUA="
          },
          "sizemode": "area",
          "sizeref": 0.029379462181811103,
          "symbol": "circle"
         },
         "mode": "markers",
         "name": "reliability",
         "orientation": "v",
         "showlegend": true,
         "x": {
          "dtype": "f8",
          "bdata": "AGjsRBU7yT4A8PItDtKgPgCsb7mRBsU+s6DN42Padj8ACi5/0yDXPgBo7EQVO7k+eWxUraKTkD8AaOxEFTu5PgBo7EQVO7k+gLZBgr9lAj8A8PItDtLAPoQepXhY85c/APDyLQ7SoD4A8PItDtKwPgCCJ5baie8+APDyLQ7SoD4IjkuYNVAxPwDw8i0O0rA+AKxvuZEG1T4ATrHzT+zSPnBLscpPXGA/wOqJSXciAj8A8PItDtKgPsCmBtX6VhY/yFkD0X2TMT8="
         },
         "xaxis": "x",
         "y": {
          "dtype": "f8",
          "bdata": "AAAAAAAAAAAAAAAAAADwPzMzMzMzM+M/sRuej+bcxj8AAAAAAAAAAFVVVVVVVdU/8+dR1I2Zvj8AAAAAAADwP1VVVVVVVdU/UAd1UAd10D8AAAAAAADQP2wEzWVj3sY/AAAAAAAAAAAAAAAAAADgP5qZmZmZmbk/AAAAAAAAAAA/kdsEqj7BPwAAAAAAAAAAmpmZmZmZyT8AAAAAAAAAAJWnhe7Y1cA/grl2YK4dyD8AAAAAAAAAAFFRUVFRUdE/FUxHzSV3wT8="
         },
         "yaxis": "y",
         "type": "scatter"
        }
       ],
       "layout": {
        "template": {
         "data": {
          "histogram2dcontour": [
           {
            "type": "histogram2dcontour",
            "colorbar": {
             "outlinewidth": 0,
             "ticks": ""
            },
            "colorscale": [
             [
              0.0,
              "#0d0887"
             ],
             [
              0.1111111111111111,
              "#46039f"
             ],
             [
              0.2222222222222222,
              "#7201a8"
             ],
             [
              0.3333333333333333,
              "#9c179e"
             ],
             [
              0.4444444444444444,
              "#bd3786"
             ],
             [
              0.5555555555555556,
              "#d8576b"
             ],
             [
              0.6666666666666666,
              "#ed7953"
             ],
             [
              0.7777777777777778,
              "#fb9f3a"
             ],
             [
              0.8888888888888888,
              "#fdca26"
             ],
             [
              1.0,
              "#f0f921"
             ]
            ]
           }
          ],
          "choropleth": [
           {
            "type": "choropleth",
            "colorbar": {
             "outlinewidth": 0,
             "ticks": ""
            }
           }
          ],
          "histogram2d": [
           {
            "type": "histogram2d",
            "colorbar": {
             "outlinewidth": 0,
             "ticks": ""
            },
            "colorscale": [
             [
              0.0,
              "#0d0887"
             ],
             [
              0.1111111111111111,
              "#46039f"
             ],
             [
              0.2222222222222222,
              "#7201a8"
             ],
             [
              0.3333333333333333,
              "#9c179e"
             ],
             [
              0.4444444444444444,
              "#bd3786"
             ],
             [
              0.5555555555555556,
              "#d8576b"
             ],
             [
              0.6666666666666666,
              "#ed7953"
             ],
             [
              0.7777777777777778,
              "#fb9f3a"
             ],
             [
              0.8888888888888888,
              "#fdca26"
             ],
             [
              1.0,
              "#f0f921"
             ]
            ]
           }
          ],
          "heatmap": [
           {
            "type": "heatmap",
            "colorbar": {
             "outlinewidth": 0,
             "ticks": ""
            },
            "colorscale": [
             [
              0.0,
              "#0d0887"
             ],
             [
              0.1111111111111111,
              "#46039f"
             ],
             [
              0.2222222222222222,
              "#7201a8"
             ],
             [
              0.3333333333333333,
              "#9c179e"
             ],
             [
              0.4444444444444444,
              "#bd3786"
             ],
             [
              0.5555555555555556,
              "#d8576b"
             ],
             [
              0.6666666666666666,
              "#ed7953"
             ],
             [
              0.7777777777777778,
              "#fb9f3a"
             ],
             [
              0.8888888888888888,
              "#fdca26"
             ],
             [
              1.0,
              "#f0f921"
             ]
            ]
           }
          ],
          "contourcarpet": [
           {
            "type": "contourcarpet",
            "colorbar": {
             "outlinewidth": 0,
             "ticks": ""
            }
           }
          ],
          "contour": [
           {
            "type": "contour",
            "colorbar": {
             "outlinewidth": 0,
             "ticks": ""
            },
            "colorscale": [
             [
              0.0,
              "#0d0887"
             ],
             [
              0.1111111111111111,
              "#46039f"
             ],
             [
              0.2222222222222222,
              "#7201a8"
             ],
             [
              0.3333333333333333,
              "#9c179e"
             ],
             [
              0.4444444444444444,
              "#bd3786"
             ],
             [
              0.5555555555555556,
              "#d8576b"
             ],
             [
              0.6666666666666666,
              "#ed7953"
             ],
             [
              0.7777777777777778,
              "#fb9f3a"
             ],
             [
              0.8888888888888888,
              "#fdca26"
             ],
             [
              1.0,
              "#f0f921"
             ]
            ]
           }
          ],
          "surface": [
           {
            "type": "surface",
            "colorbar": {
             "outlinewidth": 0,
             "ticks": ""
            },
            "colorscale": [
             [
              0.0,
              "#0d0887"
             ],
             [
              0.1111111111111111,
              "#46039f"
             ],
             [
              0.2222222222222222,
              "#7201a8"
             ],
             [
              0.3333333333333333,
              "#9c179e"
             ],
             [
              0.4444444444444444,
              "#bd3786"
             ],
             [
              0.5555555555555556,
              "#d8576b"
             ],
             [
              0.6666666666666666,
              "#ed7953"
             ],
             [
              0.7777777777777778,
              "#fb9f3a"
             ],
             [
              0.8888888888888888,
              "#fdca26"
             ],
             [
              1.0,
              "#f0f921"
             ]
            ]
           }
          ],
          "mesh3d": [
           {
            "type": "mesh3d",
            "colorbar": {
             "outlinewidth": 0,
             "ticks": ""
            }
           }
          ],
          "scatter": [
           {
            "fillpattern": {
             "fillmode": "overlay",
             "size": 10,
             "solidity": 0.2
            },
            "type": "scatter"
           }
          ],
          "parcoords": [
           {
            "type": "parcoords",
            "line": {
             "colorbar": {
              "outlinewidth": 0,
              "ticks": ""
             }
            }
           }
          ],
          "scatterpolargl": [
           {
            "type": "scatterpolargl",
            "marker": {
             "colorbar": {
              "outlinewidth": 0,
              "ticks": ""
             }
            }
           }
          ],
          "bar": [
           {
            "error_x": {
             "color": "#2a3f5f"
            },
            "error_y": {
             "color": "#2a3f5f"
            },
            "marker": {
             "line": {
              "color": "#E5ECF6",
              "width": 0.5
             },
             "pattern": {
              "fillmode": "overlay",
              "size": 10,
              "solidity": 0.2
             }
            },
            "type": "bar"
           }
          ],
          "scattergeo": [
           {
            "type": "scattergeo",
            "marker": {
             "colorbar": {
              "outlinewidth": 0,
              "ticks": ""
             }
            }
           }
          ],
          "scatterpolar": [
           {
            "type": "scatterpolar",
            "marker": {
             "colorbar": {
              "outlinewidth": 0,
              "ticks": ""
             }
            }
           }
          ],
          "histogram": [
           {
            "marker": {
             "pattern": {
              "fillmode": "overlay",
              "size": 10,
              "solidity": 0.2
             }
            },
            "type": "histogram"
           }
          ],
          "scattergl": [
           {
            "type": "scattergl",
            "marker": {
             "colorbar": {
              "outlinewidth": 0,
              "ticks": ""
             }
            }
           }
          ],
          "scatter3d": [
           {
            "type": "scatter3d",
            "line": {
             "colorbar": {
              "outlinewidth": 0,
              "ticks": ""
             }
            },
            "marker": {
             "colorbar": {
              "outlinewidth": 0,
              "ticks": ""
             }
            }
           }
          ],
          "scattermap": [
           {
            "type": "scattermap",
            "marker": {
             "colorbar": {
              "outlinewidth": 0,
              "ticks": ""
             }
            }
           }
          ],
          "scattermapbox": [
           {
            "type": "scattermapbox",
            "marker": {
             "colorbar": {
              "outlinewidth": 0,
              "ticks": ""
             }
            }
           }
          ],
          "scatterternary": [
           {
            "type": "scatterternary",
            "marker": {
             "colorbar": {
              "outlinewidth": 0,
              "ticks": ""
             }
            }
           }
          ],
          "scattercarpet": [
           {
            "type": "scattercarpet",
            "marker": {
             "colorbar": {
              "outlinewidth": 0,
              "ticks": ""
             }
            }
           }
          ],
          "carpet": [
           {
            "aaxis": {
             "endlinecolor": "#2a3f5f",
             "gridcolor": "white",
             "linecolor": "white",
             "minorgridcolor": "white",
             "startlinecolor": "#2a3f5f"
            },
            "baxis": {
             "endlinecolor": "#2a3f5f",
             "gridcolor": "white",
             "linecolor": "white",
             "minorgridcolor": "white",
             "startlinecolor": "#2a3f5f"
            },
            "type": "carpet"
           }
          ],
          "table": [
           {
            "cells": {
             "fill": {
              "color": "#EBF0F8"
             },
             "line": {
              "color": "white"
             }
            },
            "header": {
             "fill": {
              "color": "#C8D4E3"
             },
             "line": {
              "color": "white"
             }
            },
            "type": "table"
           }
          ],
          "barpolar": [
           {
            "marker": {
             "line": {
              "color": "#E5ECF6",
              "width": 0.5
             },
             "pattern": {
              "fillmode": "overlay",
              "size": 10,
              "solidity": 0.2
             }
            },
            "type": "barpolar"
           }
          ],
          "pie": [
           {
            "automargin": true,
            "type": "pie"
           }
          ]
         },
         "layout": {
          "autotypenumbers": "strict",
          "colorway": [
           "#636efa",
           "#EF553B",
           "#00cc96",
           "#ab63fa",
           "#FFA15A",
           "#19d3f3",
           "#FF6692",
           "#B6E880",
           "#FF97FF",
           "#FECB52"
          ],
          "font": {
           "color": "#2a3f5f"
          },
          "hovermode": "closest",
          "hoverlabel": {
           "align": "left"
          },
          "paper_bgcolor": "white",
          "plot_bgcolor": "#E5ECF6",
          "polar": {
           "bgcolor": "#E5ECF6",
           "angularaxis": {
            "gridcolor": "white",
            "linecolor": "white",
            "ticks": ""
           },
           "radialaxis": {
            "gridcolor": "white",
            "linecolor": "white",
            "ticks": ""
           }
          },
          "ternary": {
           "bgcolor": "#E5ECF6",
           "aaxis": {
            "gridcolor": "white",
            "linecolor": "white",
            "ticks": ""
           },
           "baxis": {
            "gridcolor": "white",
            "linecolor": "white",
            "ticks": ""
           },
           "caxis": {
            "gridcolor": "white",
            "linecolor": "white",
            "ticks": ""
           }
          },
          "coloraxis": {
           "colorbar": {
            "outlinewidth": 0,
            "ticks": ""
           }
          },
          "colorscale": {
           "sequential": [
            [
             0.0,
             "#0d0887"
            ],
            [
             0.1111111111111111,
             "#46039f"
            ],
            [
             0.2222222222222222,
             "#7201a8"
            ],
            [
             0.3333333333333333,
             "#9c179e"
            ],
            [
             0.4444444444444444,
             "#bd3786"
            ],
            [
             0.5555555555555556,
             "#d8576b"
            ],
            [
             0.6666666666666666,
             "#ed7953"
            ],
            [
             0.7777777777777778,
             "#fb9f3a"
            ],
            [
             0.8888888888888888,
             "#fdca26"
            ],
            [
             1.0,
             "#f0f921"
            ]
           ],
           "sequentialminus": [
            [
             0.0,
             "#0d0887"
            ],
            [
             0.1111111111111111,
             "#46039f"
            ],
            [
             0.2222222222222222,
             "#7201a8"
            ],
            [
             0.3333333333333333,
             "#9c179e"
            ],
            [
             0.4444444444444444,
             "#bd3786"
            ],
            [
             0.5555555555555556,
             "#d8576b"
            ],
            [
             0.6666666666666666,
             "#ed7953"
            ],
            [
             0.7777777777777778,
             "#fb9f3a"
            ],
            [
             0.8888888888888888,
             "#fdca26"
            ],
            [
             1.0,
             "#f0f921"
            ]
           ],
           "diverging": [
            [
             0,
             "#8e0152"
            ],
            [
             0.1,
             "#c51b7d"
            ],
            [
             0.2,
             "#de77ae"
            ],
            [
             0.3,
             "#f1b6da"
            ],
            [
             0.4,
             "#fde0ef"
            ],
            [
             0.5,
             "#f7f7f7"
            ],
            [
             0.6,
             "#e6f5d0"
            ],
            [
             0.7,
             "#b8e186"
            ],
            [
             0.8,
             "#7fbc41"
            ],
            [
             0.9,
             "#4d9221"
            ],
            [
             1,
             "#276419"
            ]
           ]
          },
          "xaxis": {
           "gridcolor": "white",
           "linecolor": "white",
           "ticks": "",
           "title": {
            "standoff": 15
           },
           "zerolinecolor": "white",
           "automargin": true,
           "zerolinewidth": 2
          },
          "yaxis": {
           "gridcolor": "white",
           "linecolor": "white",
           "ticks": "",
           "title": {
            "standoff": 15
           },
           "zerolinecolor": "white",
           "automargin": true,
           "zerolinewidth": 2
          },
          "scene": {
           "xaxis": {
            "backgroundcolor": "#E5ECF6",
            "gridcolor": "white",
            "linecolor": "white",
            "showbackground": true,
            "ticks": "",
            "zerolinecolor": "white",
            "gridwidth": 2
           },
           "yaxis": {
            "backgroundcolor": "#E5ECF6",
            "gridcolor": "white",
            "linecolor": "white",
            "showbackground": true,
            "ticks": "",
            "zerolinecolor": "white",
            "gridwidth": 2
           },
           "zaxis": {
            "backgroundcolor": "#E5ECF6",
            "gridcolor": "white",
            "linecolor": "white",
            "showbackground": true,
            "ticks": "",
            "zerolinecolor": "white",
            "gridwidth": 2
           }
          },
          "shapedefaults": {
           "line": {
            "color": "#2a3f5f"
           }
          },
          "annotationdefaults": {
           "arrowcolor": "#2a3f5f",
           "arrowhead": 0,
           "arrowwidth": 1
          },
          "geo": {
           "bgcolor": "white",
           "landcolor": "#E5ECF6",
           "subunitcolor": "white",
           "showland": true,
           "showlakes": true,
           "lakecolor": "white"
          },
          "title": {
           "x": 0.05
          },
          "mapbox": {
           "style": "light"
          }
         }
        },
        "xaxis": {
         "anchor": "y",
         "domain": [
          0.0,
          1.0
         ],
         "title": {
          "text": "Keyword Popularity (Log Scale)"
         },
         "type": "log"
        },
        "yaxis": {
         "anchor": "x",
         "domain": [
          0.0,
          1.0
         ],
         "title": {
          "text": "Keyword Precision (s1_passed Rate)"
         }
        },
        "legend": {
         "title": {
          "text": "primary_qa"
         },
         "tracegroupgap": 0,
         "itemsizing": "constant"
        },
        "margin": {
         "t": 60
        },
        "shapes": [
         {
          "line": {
           "dash": "dot"
          },
          "type": "line",
          "x0": 0,
          "x1": 1,
          "xref": "x domain",
          "y0": 0.20259938837920488,
          "y1": 0.20259938837920488,
          "yref": "y"
         },
         {
          "line": {
           "dash": "dot"
          },
          "type": "line",
          "x0": 1.6241822693435597E-4,
          "x1": 1.6241822693435597E-4,
          "xref": "x",
          "y0": 0,
          "y1": 1,
          "yref": "y domain"
         }
        ],
        "annotations": [
         {
          "showarrow": false,
          "text": "Median Precision",
          "x": 1,
          "xanchor": "right",
          "xref": "x domain",
          "y": 0.20259938837920488,
          "yanchor": "bottom",
          "yref": "y"
         },
         {
          "showarrow": false,
          "text": "Median Popularity",
          "x": 1.6241822693435597E-4,
          "xanchor": "left",
          "xref": "x",
          "y": 1,
          "yanchor": "top",
          "yref": "y domain"
         }
        ],
        "font": {
         "size": 12
        }
       },
       "config": {
        "plotlyServerURL": "https://plot.ly"
       }
      }
     },
     "metadata": {},
     "output_type": "display_data"
    }
   ],
   "execution_count": 29
  },
  {
   "metadata": {},
   "cell_type": "markdown",
   "source": [
    "## RQ1 Secondary Analysis: Keyword Performance Validation\n",
    "To validate the semi-automated keyword generation methodology, an analysis was conducted to evaluate the performance of each individual keyword. The goal is to measure two key properties:\n",
    "\n",
    "- Precision: The percentage of times a keyword match was a true positive (i.e., passed the S1 relevance filter). This indicates the keyword's reliability.\n",
    "- Popularity: The keyword's total frequency relative to all other keywords. This indicates the keyword's reach or recall power.\n",
    "\n",
    "The relationship between these two metrics is visualized in the scatter plot in Figure 4. The plot is divided into four quadrants based on the median precision and popularity, allowing for the classification of keywords into distinct performance categories. This analysis not only validates the keyword set but also provides valuable insights for future research in automated architectural knowledge extraction."
   ],
   "id": "a53cca3c275c622b"
  },
  {
   "metadata": {},
   "cell_type": "markdown",
   "source": [
    "\n",
    "### ## RQ1 Secondary Analysis: Keyword Performance Validation\n",
    "\n",
    "The bubble chart in Figure 4 visualizes the performance of each keyword by plotting its precision (the `s1_passed` rate) against its popularity (its frequency on a logarithmic scale). The size of each bubble corresponds to the keyword's total number of occurrences. The chart is bisected by the median precision (≈0.22) and median popularity, dividing it into four analytical quadrants.\n",
    "\n",
    "The overall trend reveals a clear trade-off between a keyword's reach and its reliability. There is a dense concentration of keywords with moderate-to-high popularity but relatively low precision, while the highest-precision keywords are almost exclusively found in the long tail of low-popularity terms. This indicates that the most frequently used terms are often ambiguous, whereas the most unambiguous terms are rarely used. This pattern strongly validates the necessity of the multi-stage filtering pipeline, which is designed to handle the noise introduced by high-popularity keywords.\n",
    "\n",
    "Analyzing the extreme values from this distribution provides further insight:\n",
    "\n",
    "* **High-Precision, Low-Popularity Keywords:** The table of the top 20 most precise keywords confirms the pattern seen in the top-left quadrant of the chart. Many keywords, such as `fmea`, `trojan`, and `wizard`, achieve perfect precision (`1.0`), meaning every time they were found, the discussion was relevant. However, these terms are exceptionally rare, often appearing only once or twice in the entire multi-million-row dataset. These are highly specific, \"niche\" terms that serve as excellent but infrequent indicators of an architectural discussion.\n",
    "\n",
    "* **High-Popularity, Low-Precision Keywords:** Conversely, the table of the 20 most popular keywords illustrates the challenge of ambiguity. These keywords, located in the bottom-right quadrant, are the workhorses for identifying potential discussions but come with significant noise. For example, `error` is the most popular keyword, accounting for over 6% of all matches, but has a low precision of only `0.15`. Likewise, common software development terms like `build` (precision `0.098`), `depend` (precision `0.22`), and `version` (precision `0.18`) are powerful for recall but require subsequent filtering to isolate relevant architectural content."
   ],
   "id": "a35b1565941c7b41"
  },
  {
   "metadata": {},
   "cell_type": "markdown",
   "source": "^^ That is good for HTML export, to play around and check further",
   "id": "7f5a16104f9eb289"
  },
  {
   "metadata": {
    "ExecuteTime": {
     "end_time": "2025-08-28T09:18:27.106088Z",
     "start_time": "2025-08-28T09:18:27.075575Z"
    }
   },
   "cell_type": "code",
   "source": [
    "import plotly.express as px\n",
    "\n",
    "# --- Top 20 Most Precise Keywords ---\n",
    "top_20_precise = keyword_perf.nlargest(20, 'precision')\n",
    "top_20_precise.drop(columns=[\"bubble_size\"])"
   ],
   "id": "ba45d3495fba70fc",
   "outputs": [
    {
     "data": {
      "text/plain": [
       "                    failed_count  passed_count  total_count  precision  \\\n",
       "keyword                                                                  \n",
       "adversar                       0             1            1   1.000000   \n",
       "cloud deploy                   0             1            1   1.000000   \n",
       "compon models                  0             1            1   1.000000   \n",
       "fmea                           0             3            3   1.000000   \n",
       "primar channel                 0             1            1   1.000000   \n",
       "safety requir                  0             2            2   1.000000   \n",
       "trojan                         0             1            1   1.000000   \n",
       "wizard                         0             1            1   1.000000   \n",
       "load balanc                    1             8            9   0.888889   \n",
       "perform metric                 1             3            4   0.750000   \n",
       "dependab                       2             3            5   0.600000   \n",
       "gdpr                           2             3            5   0.600000   \n",
       "graph-bas                      5             7           12   0.583333   \n",
       "resilien                      19            23           42   0.547619   \n",
       "cve                            7             8           15   0.533333   \n",
       "aesthet                       14            15           29   0.517241   \n",
       "architectur design             1             1            2   0.500000   \n",
       "best-cas                       1             1            2   0.500000   \n",
       "framework compon               1             1            2   0.500000   \n",
       "load test                      1             1            2   0.500000   \n",
       "\n",
       "                      popularity     primary_qa  \n",
       "keyword                                          \n",
       "adversar            5.012908e-07       security  \n",
       "cloud deploy        5.012908e-07    reliability  \n",
       "compon models       5.012908e-07  integrability  \n",
       "fmea                1.503872e-06    reliability  \n",
       "primar channel      5.012908e-07         safety  \n",
       "safety requir       1.002582e-06         safety  \n",
       "trojan              5.012908e-07       security  \n",
       "wizard              5.012908e-07      usability  \n",
       "load balanc         4.511617e-06    performance  \n",
       "perform metric      2.005163e-06    performance  \n",
       "dependab            2.506454e-06    reliability  \n",
       "gdpr                2.506454e-06       security  \n",
       "graph-bas           6.015490e-06  integrability  \n",
       "resilien            2.105421e-05         safety  \n",
       "cve                 7.519362e-06       security  \n",
       "aesthet             1.453743e-05      usability  \n",
       "architectur design  1.002582e-06  modifiability  \n",
       "best-cas            1.002582e-06    performance  \n",
       "framework compon    1.002582e-06  integrability  \n",
       "load test           1.002582e-06    performance  "
      ],
      "text/html": [
       "<div>\n",
       "<style scoped>\n",
       "    .dataframe tbody tr th:only-of-type {\n",
       "        vertical-align: middle;\n",
       "    }\n",
       "\n",
       "    .dataframe tbody tr th {\n",
       "        vertical-align: top;\n",
       "    }\n",
       "\n",
       "    .dataframe thead th {\n",
       "        text-align: right;\n",
       "    }\n",
       "</style>\n",
       "<table border=\"1\" class=\"dataframe\">\n",
       "  <thead>\n",
       "    <tr style=\"text-align: right;\">\n",
       "      <th></th>\n",
       "      <th>failed_count</th>\n",
       "      <th>passed_count</th>\n",
       "      <th>total_count</th>\n",
       "      <th>precision</th>\n",
       "      <th>popularity</th>\n",
       "      <th>primary_qa</th>\n",
       "    </tr>\n",
       "    <tr>\n",
       "      <th>keyword</th>\n",
       "      <th></th>\n",
       "      <th></th>\n",
       "      <th></th>\n",
       "      <th></th>\n",
       "      <th></th>\n",
       "      <th></th>\n",
       "    </tr>\n",
       "  </thead>\n",
       "  <tbody>\n",
       "    <tr>\n",
       "      <th>adversar</th>\n",
       "      <td>0</td>\n",
       "      <td>1</td>\n",
       "      <td>1</td>\n",
       "      <td>1.000000</td>\n",
       "      <td>5.012908e-07</td>\n",
       "      <td>security</td>\n",
       "    </tr>\n",
       "    <tr>\n",
       "      <th>cloud deploy</th>\n",
       "      <td>0</td>\n",
       "      <td>1</td>\n",
       "      <td>1</td>\n",
       "      <td>1.000000</td>\n",
       "      <td>5.012908e-07</td>\n",
       "      <td>reliability</td>\n",
       "    </tr>\n",
       "    <tr>\n",
       "      <th>compon models</th>\n",
       "      <td>0</td>\n",
       "      <td>1</td>\n",
       "      <td>1</td>\n",
       "      <td>1.000000</td>\n",
       "      <td>5.012908e-07</td>\n",
       "      <td>integrability</td>\n",
       "    </tr>\n",
       "    <tr>\n",
       "      <th>fmea</th>\n",
       "      <td>0</td>\n",
       "      <td>3</td>\n",
       "      <td>3</td>\n",
       "      <td>1.000000</td>\n",
       "      <td>1.503872e-06</td>\n",
       "      <td>reliability</td>\n",
       "    </tr>\n",
       "    <tr>\n",
       "      <th>primar channel</th>\n",
       "      <td>0</td>\n",
       "      <td>1</td>\n",
       "      <td>1</td>\n",
       "      <td>1.000000</td>\n",
       "      <td>5.012908e-07</td>\n",
       "      <td>safety</td>\n",
       "    </tr>\n",
       "    <tr>\n",
       "      <th>safety requir</th>\n",
       "      <td>0</td>\n",
       "      <td>2</td>\n",
       "      <td>2</td>\n",
       "      <td>1.000000</td>\n",
       "      <td>1.002582e-06</td>\n",
       "      <td>safety</td>\n",
       "    </tr>\n",
       "    <tr>\n",
       "      <th>trojan</th>\n",
       "      <td>0</td>\n",
       "      <td>1</td>\n",
       "      <td>1</td>\n",
       "      <td>1.000000</td>\n",
       "      <td>5.012908e-07</td>\n",
       "      <td>security</td>\n",
       "    </tr>\n",
       "    <tr>\n",
       "      <th>wizard</th>\n",
       "      <td>0</td>\n",
       "      <td>1</td>\n",
       "      <td>1</td>\n",
       "      <td>1.000000</td>\n",
       "      <td>5.012908e-07</td>\n",
       "      <td>usability</td>\n",
       "    </tr>\n",
       "    <tr>\n",
       "      <th>load balanc</th>\n",
       "      <td>1</td>\n",
       "      <td>8</td>\n",
       "      <td>9</td>\n",
       "      <td>0.888889</td>\n",
       "      <td>4.511617e-06</td>\n",
       "      <td>performance</td>\n",
       "    </tr>\n",
       "    <tr>\n",
       "      <th>perform metric</th>\n",
       "      <td>1</td>\n",
       "      <td>3</td>\n",
       "      <td>4</td>\n",
       "      <td>0.750000</td>\n",
       "      <td>2.005163e-06</td>\n",
       "      <td>performance</td>\n",
       "    </tr>\n",
       "    <tr>\n",
       "      <th>dependab</th>\n",
       "      <td>2</td>\n",
       "      <td>3</td>\n",
       "      <td>5</td>\n",
       "      <td>0.600000</td>\n",
       "      <td>2.506454e-06</td>\n",
       "      <td>reliability</td>\n",
       "    </tr>\n",
       "    <tr>\n",
       "      <th>gdpr</th>\n",
       "      <td>2</td>\n",
       "      <td>3</td>\n",
       "      <td>5</td>\n",
       "      <td>0.600000</td>\n",
       "      <td>2.506454e-06</td>\n",
       "      <td>security</td>\n",
       "    </tr>\n",
       "    <tr>\n",
       "      <th>graph-bas</th>\n",
       "      <td>5</td>\n",
       "      <td>7</td>\n",
       "      <td>12</td>\n",
       "      <td>0.583333</td>\n",
       "      <td>6.015490e-06</td>\n",
       "      <td>integrability</td>\n",
       "    </tr>\n",
       "    <tr>\n",
       "      <th>resilien</th>\n",
       "      <td>19</td>\n",
       "      <td>23</td>\n",
       "      <td>42</td>\n",
       "      <td>0.547619</td>\n",
       "      <td>2.105421e-05</td>\n",
       "      <td>safety</td>\n",
       "    </tr>\n",
       "    <tr>\n",
       "      <th>cve</th>\n",
       "      <td>7</td>\n",
       "      <td>8</td>\n",
       "      <td>15</td>\n",
       "      <td>0.533333</td>\n",
       "      <td>7.519362e-06</td>\n",
       "      <td>security</td>\n",
       "    </tr>\n",
       "    <tr>\n",
       "      <th>aesthet</th>\n",
       "      <td>14</td>\n",
       "      <td>15</td>\n",
       "      <td>29</td>\n",
       "      <td>0.517241</td>\n",
       "      <td>1.453743e-05</td>\n",
       "      <td>usability</td>\n",
       "    </tr>\n",
       "    <tr>\n",
       "      <th>architectur design</th>\n",
       "      <td>1</td>\n",
       "      <td>1</td>\n",
       "      <td>2</td>\n",
       "      <td>0.500000</td>\n",
       "      <td>1.002582e-06</td>\n",
       "      <td>modifiability</td>\n",
       "    </tr>\n",
       "    <tr>\n",
       "      <th>best-cas</th>\n",
       "      <td>1</td>\n",
       "      <td>1</td>\n",
       "      <td>2</td>\n",
       "      <td>0.500000</td>\n",
       "      <td>1.002582e-06</td>\n",
       "      <td>performance</td>\n",
       "    </tr>\n",
       "    <tr>\n",
       "      <th>framework compon</th>\n",
       "      <td>1</td>\n",
       "      <td>1</td>\n",
       "      <td>2</td>\n",
       "      <td>0.500000</td>\n",
       "      <td>1.002582e-06</td>\n",
       "      <td>integrability</td>\n",
       "    </tr>\n",
       "    <tr>\n",
       "      <th>load test</th>\n",
       "      <td>1</td>\n",
       "      <td>1</td>\n",
       "      <td>2</td>\n",
       "      <td>0.500000</td>\n",
       "      <td>1.002582e-06</td>\n",
       "      <td>performance</td>\n",
       "    </tr>\n",
       "  </tbody>\n",
       "</table>\n",
       "</div>"
      ]
     },
     "execution_count": 30,
     "metadata": {},
     "output_type": "execute_result"
    }
   ],
   "execution_count": 30
  },
  {
   "metadata": {
    "ExecuteTime": {
     "end_time": "2025-08-28T09:18:27.299308Z",
     "start_time": "2025-08-28T09:18:27.270552Z"
    }
   },
   "cell_type": "code",
   "source": [
    "import plotly.express as px\n",
    "\n",
    "# --- Top 20 Most Popular Keywords ---\n",
    "top_20_popular = keyword_perf.nlargest(20, 'total_count')\n",
    "top_20_popular.drop(columns=[\"bubble_size\"])"
   ],
   "id": "6d9467a86de88887",
   "outputs": [
    {
     "data": {
      "text/plain": [
       "          failed_count  passed_count  total_count  precision  popularity  \\\n",
       "keyword                                                                    \n",
       "error           107640         19339       126979   0.152301    0.063653   \n",
       "test             65431         15672        81103   0.193236    0.040656   \n",
       "depend           50426         14498        64924   0.223307    0.032546   \n",
       "version          52257         11612        63869   0.181810    0.032017   \n",
       "modul            51628         10347        61975   0.166954    0.031067   \n",
       "updat            38641          8715        47356   0.184032    0.023739   \n",
       "integr           38322          8336        46658   0.178662    0.023389   \n",
       "log              36175          7753        43928   0.176493    0.022021   \n",
       "build            36986          4027        41013   0.098188    0.020559   \n",
       "load             33354          7600        40954   0.185574    0.020530   \n",
       "input            28616          6693        35309   0.189555    0.017700   \n",
       "fail             28433          3860        32293   0.119531    0.016188   \n",
       "memor            23722          8227        31949   0.257504    0.016016   \n",
       "specif           23463          6494        29957   0.216777    0.015017   \n",
       "state            22760          4305        27065   0.159062    0.013567   \n",
       "sub              19833          5022        24855   0.202052    0.012460   \n",
       "except           20864          2963        23827   0.124355    0.011944   \n",
       "simpl            17113          6650        23763   0.279847    0.011912   \n",
       "paramet          17068          4785        21853   0.218963    0.010955   \n",
       "interfac         16578          5142        21720   0.236740    0.010888   \n",
       "\n",
       "                 primary_qa  \n",
       "keyword                      \n",
       "error          availability  \n",
       "test                 safety  \n",
       "depend        deployability  \n",
       "version       modifiability  \n",
       "modul         modifiability  \n",
       "updat                safety  \n",
       "integr          reliability  \n",
       "log                security  \n",
       "build         deployability  \n",
       "load      energy efficiency  \n",
       "input                safety  \n",
       "fail            reliability  \n",
       "memor             usability  \n",
       "specif     interoperability  \n",
       "state         integrability  \n",
       "sub           integrability  \n",
       "except               safety  \n",
       "simpl             usability  \n",
       "paramet       modifiability  \n",
       "interfac      modifiability  "
      ],
      "text/html": [
       "<div>\n",
       "<style scoped>\n",
       "    .dataframe tbody tr th:only-of-type {\n",
       "        vertical-align: middle;\n",
       "    }\n",
       "\n",
       "    .dataframe tbody tr th {\n",
       "        vertical-align: top;\n",
       "    }\n",
       "\n",
       "    .dataframe thead th {\n",
       "        text-align: right;\n",
       "    }\n",
       "</style>\n",
       "<table border=\"1\" class=\"dataframe\">\n",
       "  <thead>\n",
       "    <tr style=\"text-align: right;\">\n",
       "      <th></th>\n",
       "      <th>failed_count</th>\n",
       "      <th>passed_count</th>\n",
       "      <th>total_count</th>\n",
       "      <th>precision</th>\n",
       "      <th>popularity</th>\n",
       "      <th>primary_qa</th>\n",
       "    </tr>\n",
       "    <tr>\n",
       "      <th>keyword</th>\n",
       "      <th></th>\n",
       "      <th></th>\n",
       "      <th></th>\n",
       "      <th></th>\n",
       "      <th></th>\n",
       "      <th></th>\n",
       "    </tr>\n",
       "  </thead>\n",
       "  <tbody>\n",
       "    <tr>\n",
       "      <th>error</th>\n",
       "      <td>107640</td>\n",
       "      <td>19339</td>\n",
       "      <td>126979</td>\n",
       "      <td>0.152301</td>\n",
       "      <td>0.063653</td>\n",
       "      <td>availability</td>\n",
       "    </tr>\n",
       "    <tr>\n",
       "      <th>test</th>\n",
       "      <td>65431</td>\n",
       "      <td>15672</td>\n",
       "      <td>81103</td>\n",
       "      <td>0.193236</td>\n",
       "      <td>0.040656</td>\n",
       "      <td>safety</td>\n",
       "    </tr>\n",
       "    <tr>\n",
       "      <th>depend</th>\n",
       "      <td>50426</td>\n",
       "      <td>14498</td>\n",
       "      <td>64924</td>\n",
       "      <td>0.223307</td>\n",
       "      <td>0.032546</td>\n",
       "      <td>deployability</td>\n",
       "    </tr>\n",
       "    <tr>\n",
       "      <th>version</th>\n",
       "      <td>52257</td>\n",
       "      <td>11612</td>\n",
       "      <td>63869</td>\n",
       "      <td>0.181810</td>\n",
       "      <td>0.032017</td>\n",
       "      <td>modifiability</td>\n",
       "    </tr>\n",
       "    <tr>\n",
       "      <th>modul</th>\n",
       "      <td>51628</td>\n",
       "      <td>10347</td>\n",
       "      <td>61975</td>\n",
       "      <td>0.166954</td>\n",
       "      <td>0.031067</td>\n",
       "      <td>modifiability</td>\n",
       "    </tr>\n",
       "    <tr>\n",
       "      <th>updat</th>\n",
       "      <td>38641</td>\n",
       "      <td>8715</td>\n",
       "      <td>47356</td>\n",
       "      <td>0.184032</td>\n",
       "      <td>0.023739</td>\n",
       "      <td>safety</td>\n",
       "    </tr>\n",
       "    <tr>\n",
       "      <th>integr</th>\n",
       "      <td>38322</td>\n",
       "      <td>8336</td>\n",
       "      <td>46658</td>\n",
       "      <td>0.178662</td>\n",
       "      <td>0.023389</td>\n",
       "      <td>reliability</td>\n",
       "    </tr>\n",
       "    <tr>\n",
       "      <th>log</th>\n",
       "      <td>36175</td>\n",
       "      <td>7753</td>\n",
       "      <td>43928</td>\n",
       "      <td>0.176493</td>\n",
       "      <td>0.022021</td>\n",
       "      <td>security</td>\n",
       "    </tr>\n",
       "    <tr>\n",
       "      <th>build</th>\n",
       "      <td>36986</td>\n",
       "      <td>4027</td>\n",
       "      <td>41013</td>\n",
       "      <td>0.098188</td>\n",
       "      <td>0.020559</td>\n",
       "      <td>deployability</td>\n",
       "    </tr>\n",
       "    <tr>\n",
       "      <th>load</th>\n",
       "      <td>33354</td>\n",
       "      <td>7600</td>\n",
       "      <td>40954</td>\n",
       "      <td>0.185574</td>\n",
       "      <td>0.020530</td>\n",
       "      <td>energy efficiency</td>\n",
       "    </tr>\n",
       "    <tr>\n",
       "      <th>input</th>\n",
       "      <td>28616</td>\n",
       "      <td>6693</td>\n",
       "      <td>35309</td>\n",
       "      <td>0.189555</td>\n",
       "      <td>0.017700</td>\n",
       "      <td>safety</td>\n",
       "    </tr>\n",
       "    <tr>\n",
       "      <th>fail</th>\n",
       "      <td>28433</td>\n",
       "      <td>3860</td>\n",
       "      <td>32293</td>\n",
       "      <td>0.119531</td>\n",
       "      <td>0.016188</td>\n",
       "      <td>reliability</td>\n",
       "    </tr>\n",
       "    <tr>\n",
       "      <th>memor</th>\n",
       "      <td>23722</td>\n",
       "      <td>8227</td>\n",
       "      <td>31949</td>\n",
       "      <td>0.257504</td>\n",
       "      <td>0.016016</td>\n",
       "      <td>usability</td>\n",
       "    </tr>\n",
       "    <tr>\n",
       "      <th>specif</th>\n",
       "      <td>23463</td>\n",
       "      <td>6494</td>\n",
       "      <td>29957</td>\n",
       "      <td>0.216777</td>\n",
       "      <td>0.015017</td>\n",
       "      <td>interoperability</td>\n",
       "    </tr>\n",
       "    <tr>\n",
       "      <th>state</th>\n",
       "      <td>22760</td>\n",
       "      <td>4305</td>\n",
       "      <td>27065</td>\n",
       "      <td>0.159062</td>\n",
       "      <td>0.013567</td>\n",
       "      <td>integrability</td>\n",
       "    </tr>\n",
       "    <tr>\n",
       "      <th>sub</th>\n",
       "      <td>19833</td>\n",
       "      <td>5022</td>\n",
       "      <td>24855</td>\n",
       "      <td>0.202052</td>\n",
       "      <td>0.012460</td>\n",
       "      <td>integrability</td>\n",
       "    </tr>\n",
       "    <tr>\n",
       "      <th>except</th>\n",
       "      <td>20864</td>\n",
       "      <td>2963</td>\n",
       "      <td>23827</td>\n",
       "      <td>0.124355</td>\n",
       "      <td>0.011944</td>\n",
       "      <td>safety</td>\n",
       "    </tr>\n",
       "    <tr>\n",
       "      <th>simpl</th>\n",
       "      <td>17113</td>\n",
       "      <td>6650</td>\n",
       "      <td>23763</td>\n",
       "      <td>0.279847</td>\n",
       "      <td>0.011912</td>\n",
       "      <td>usability</td>\n",
       "    </tr>\n",
       "    <tr>\n",
       "      <th>paramet</th>\n",
       "      <td>17068</td>\n",
       "      <td>4785</td>\n",
       "      <td>21853</td>\n",
       "      <td>0.218963</td>\n",
       "      <td>0.010955</td>\n",
       "      <td>modifiability</td>\n",
       "    </tr>\n",
       "    <tr>\n",
       "      <th>interfac</th>\n",
       "      <td>16578</td>\n",
       "      <td>5142</td>\n",
       "      <td>21720</td>\n",
       "      <td>0.236740</td>\n",
       "      <td>0.010888</td>\n",
       "      <td>modifiability</td>\n",
       "    </tr>\n",
       "  </tbody>\n",
       "</table>\n",
       "</div>"
      ]
     },
     "execution_count": 31,
     "metadata": {},
     "output_type": "execute_result"
    }
   ],
   "execution_count": 31
  },
  {
   "metadata": {},
   "cell_type": "markdown",
   "source": [
    "# RQ2\n",
    "## Primary - A strategic analysis of the types of solutions (tactic categories) used for the most important quality attributes. This gives a high-level overview of the solution strategies"
   ],
   "id": "dada9902ffb2745f"
  },
  {
   "metadata": {
    "ExecuteTime": {
     "end_time": "2025-08-28T09:18:27.468278Z",
     "start_time": "2025-08-28T09:18:27.445469Z"
    }
   },
   "cell_type": "code",
   "source": [
    "data_rq2 = df[df.s3_passed]\n",
    "data_rq2.shape"
   ],
   "id": "66582e1b79896129",
   "outputs": [
    {
     "data": {
      "text/plain": [
       "(46647, 15)"
      ]
     },
     "execution_count": 32,
     "metadata": {},
     "output_type": "execute_result"
    }
   ],
   "execution_count": 32
  },
  {
   "metadata": {
    "ExecuteTime": {
     "end_time": "2025-08-28T09:18:27.830488Z",
     "start_time": "2025-08-28T09:18:27.748882Z"
    }
   },
   "cell_type": "code",
   "source": [
    "top_qas = df[df.s1_passed].groupby(\"qa\").nsimilar.sum().sort_values(ascending=False).head(4)\n",
    "top_qas = top_qas.index.tolist()\n",
    "top_qas"
   ],
   "id": "c5669ab208a69dbb",
   "outputs": [
    {
     "name": "stderr",
     "output_type": "stream",
     "text": [
      "C:\\Users\\Dmitrijs\\AppData\\Local\\Temp\\ipykernel_35168\\728511989.py:1: FutureWarning:\n",
      "\n",
      "The default of observed=False is deprecated and will be changed to True in a future version of pandas. Pass observed=False to retain current behavior or observed=True to adopt the future default and silence this warning.\n",
      "\n"
     ]
    },
    {
     "data": {
      "text/plain": [
       "['usability', 'safety', 'performance', 'integrability']"
      ]
     },
     "execution_count": 33,
     "metadata": {},
     "output_type": "execute_result"
    }
   ],
   "execution_count": 33
  },
  {
   "metadata": {
    "ExecuteTime": {
     "end_time": "2025-08-28T09:18:28.097184Z",
     "start_time": "2025-08-28T09:18:28.053733Z"
    }
   },
   "cell_type": "code",
   "source": [
    "r2 = data_rq2[data_rq2.qa.isin(top_qas)]\n",
    "r2.groupby([\"qa\", \"s3_tactic_category\"]).nsimilar.sum().reset_index().sort_values([\"qa\",\"nsimilar\"], ascending=[False]*2).groupby(\"qa\").head(3)"
   ],
   "id": "41f3fb5f9719445e",
   "outputs": [
    {
     "name": "stderr",
     "output_type": "stream",
     "text": [
      "C:\\Users\\Dmitrijs\\AppData\\Local\\Temp\\ipykernel_35168\\1100276095.py:2: FutureWarning:\n",
      "\n",
      "The default of observed=False is deprecated and will be changed to True in a future version of pandas. Pass observed=False to retain current behavior or observed=True to adopt the future default and silence this warning.\n",
      "\n",
      "C:\\Users\\Dmitrijs\\AppData\\Local\\Temp\\ipykernel_35168\\1100276095.py:2: FutureWarning:\n",
      "\n",
      "The default of observed=False is deprecated and will be changed to True in a future version of pandas. Pass observed=False to retain current behavior or observed=True to adopt the future default and silence this warning.\n",
      "\n"
     ]
    },
    {
     "data": {
      "text/plain": [
       "                    qa                          s3_tactic_category  nsimilar\n",
       "285          usability                 Separate the User Interface      2756\n",
       "286          usability                   Support System Initiative      1784\n",
       "281          usability                              Resist Attacks      1150\n",
       "240        testability                     Control Resource Demand         0\n",
       "241        testability            Control and Observe System State         0\n",
       "242        testability                               Defer Binding         0\n",
       "216           security                     Control Resource Demand         0\n",
       "217           security            Control and Observe System State         0\n",
       "218           security                               Defer Binding         0\n",
       "196             safety                               Detect Faults       924\n",
       "193             safety            Control and Observe System State       815\n",
       "205             safety  Recover from Faults_Preparation and Repair       578\n",
       "168        reliability                     Control Resource Demand         0\n",
       "169        reliability            Control and Observe System State         0\n",
       "170        reliability                               Defer Binding         0\n",
       "144        performance                     Control Resource Demand      1959\n",
       "153        performance                            Manage Resources      1064\n",
       "162        performance                         Resource Adaptation        89\n",
       "120      modifiability                     Control Resource Demand         0\n",
       "121      modifiability            Control and Observe System State         0\n",
       "122      modifiability                               Defer Binding         0\n",
       "96    interoperability                     Control Resource Demand         0\n",
       "97    interoperability            Control and Observe System State         0\n",
       "98    interoperability                               Defer Binding         0\n",
       "79       integrability                                      Locate      7135\n",
       "73       integrability            Control and Observe System State      2768\n",
       "80       integrability                           Manage Interfaces       957\n",
       "48   energy efficiency                     Control Resource Demand         0\n",
       "49   energy efficiency            Control and Observe System State         0\n",
       "50   energy efficiency                               Defer Binding         0\n",
       "24       deployability                     Control Resource Demand         0\n",
       "25       deployability            Control and Observe System State         0\n",
       "26       deployability                               Defer Binding         0\n",
       "0         availability                     Control Resource Demand         0\n",
       "1         availability            Control and Observe System State         0\n",
       "2         availability                               Defer Binding         0"
      ],
      "text/html": [
       "<div>\n",
       "<style scoped>\n",
       "    .dataframe tbody tr th:only-of-type {\n",
       "        vertical-align: middle;\n",
       "    }\n",
       "\n",
       "    .dataframe tbody tr th {\n",
       "        vertical-align: top;\n",
       "    }\n",
       "\n",
       "    .dataframe thead th {\n",
       "        text-align: right;\n",
       "    }\n",
       "</style>\n",
       "<table border=\"1\" class=\"dataframe\">\n",
       "  <thead>\n",
       "    <tr style=\"text-align: right;\">\n",
       "      <th></th>\n",
       "      <th>qa</th>\n",
       "      <th>s3_tactic_category</th>\n",
       "      <th>nsimilar</th>\n",
       "    </tr>\n",
       "  </thead>\n",
       "  <tbody>\n",
       "    <tr>\n",
       "      <th>285</th>\n",
       "      <td>usability</td>\n",
       "      <td>Separate the User Interface</td>\n",
       "      <td>2756</td>\n",
       "    </tr>\n",
       "    <tr>\n",
       "      <th>286</th>\n",
       "      <td>usability</td>\n",
       "      <td>Support System Initiative</td>\n",
       "      <td>1784</td>\n",
       "    </tr>\n",
       "    <tr>\n",
       "      <th>281</th>\n",
       "      <td>usability</td>\n",
       "      <td>Resist Attacks</td>\n",
       "      <td>1150</td>\n",
       "    </tr>\n",
       "    <tr>\n",
       "      <th>240</th>\n",
       "      <td>testability</td>\n",
       "      <td>Control Resource Demand</td>\n",
       "      <td>0</td>\n",
       "    </tr>\n",
       "    <tr>\n",
       "      <th>241</th>\n",
       "      <td>testability</td>\n",
       "      <td>Control and Observe System State</td>\n",
       "      <td>0</td>\n",
       "    </tr>\n",
       "    <tr>\n",
       "      <th>242</th>\n",
       "      <td>testability</td>\n",
       "      <td>Defer Binding</td>\n",
       "      <td>0</td>\n",
       "    </tr>\n",
       "    <tr>\n",
       "      <th>216</th>\n",
       "      <td>security</td>\n",
       "      <td>Control Resource Demand</td>\n",
       "      <td>0</td>\n",
       "    </tr>\n",
       "    <tr>\n",
       "      <th>217</th>\n",
       "      <td>security</td>\n",
       "      <td>Control and Observe System State</td>\n",
       "      <td>0</td>\n",
       "    </tr>\n",
       "    <tr>\n",
       "      <th>218</th>\n",
       "      <td>security</td>\n",
       "      <td>Defer Binding</td>\n",
       "      <td>0</td>\n",
       "    </tr>\n",
       "    <tr>\n",
       "      <th>196</th>\n",
       "      <td>safety</td>\n",
       "      <td>Detect Faults</td>\n",
       "      <td>924</td>\n",
       "    </tr>\n",
       "    <tr>\n",
       "      <th>193</th>\n",
       "      <td>safety</td>\n",
       "      <td>Control and Observe System State</td>\n",
       "      <td>815</td>\n",
       "    </tr>\n",
       "    <tr>\n",
       "      <th>205</th>\n",
       "      <td>safety</td>\n",
       "      <td>Recover from Faults_Preparation and Repair</td>\n",
       "      <td>578</td>\n",
       "    </tr>\n",
       "    <tr>\n",
       "      <th>168</th>\n",
       "      <td>reliability</td>\n",
       "      <td>Control Resource Demand</td>\n",
       "      <td>0</td>\n",
       "    </tr>\n",
       "    <tr>\n",
       "      <th>169</th>\n",
       "      <td>reliability</td>\n",
       "      <td>Control and Observe System State</td>\n",
       "      <td>0</td>\n",
       "    </tr>\n",
       "    <tr>\n",
       "      <th>170</th>\n",
       "      <td>reliability</td>\n",
       "      <td>Defer Binding</td>\n",
       "      <td>0</td>\n",
       "    </tr>\n",
       "    <tr>\n",
       "      <th>144</th>\n",
       "      <td>performance</td>\n",
       "      <td>Control Resource Demand</td>\n",
       "      <td>1959</td>\n",
       "    </tr>\n",
       "    <tr>\n",
       "      <th>153</th>\n",
       "      <td>performance</td>\n",
       "      <td>Manage Resources</td>\n",
       "      <td>1064</td>\n",
       "    </tr>\n",
       "    <tr>\n",
       "      <th>162</th>\n",
       "      <td>performance</td>\n",
       "      <td>Resource Adaptation</td>\n",
       "      <td>89</td>\n",
       "    </tr>\n",
       "    <tr>\n",
       "      <th>120</th>\n",
       "      <td>modifiability</td>\n",
       "      <td>Control Resource Demand</td>\n",
       "      <td>0</td>\n",
       "    </tr>\n",
       "    <tr>\n",
       "      <th>121</th>\n",
       "      <td>modifiability</td>\n",
       "      <td>Control and Observe System State</td>\n",
       "      <td>0</td>\n",
       "    </tr>\n",
       "    <tr>\n",
       "      <th>122</th>\n",
       "      <td>modifiability</td>\n",
       "      <td>Defer Binding</td>\n",
       "      <td>0</td>\n",
       "    </tr>\n",
       "    <tr>\n",
       "      <th>96</th>\n",
       "      <td>interoperability</td>\n",
       "      <td>Control Resource Demand</td>\n",
       "      <td>0</td>\n",
       "    </tr>\n",
       "    <tr>\n",
       "      <th>97</th>\n",
       "      <td>interoperability</td>\n",
       "      <td>Control and Observe System State</td>\n",
       "      <td>0</td>\n",
       "    </tr>\n",
       "    <tr>\n",
       "      <th>98</th>\n",
       "      <td>interoperability</td>\n",
       "      <td>Defer Binding</td>\n",
       "      <td>0</td>\n",
       "    </tr>\n",
       "    <tr>\n",
       "      <th>79</th>\n",
       "      <td>integrability</td>\n",
       "      <td>Locate</td>\n",
       "      <td>7135</td>\n",
       "    </tr>\n",
       "    <tr>\n",
       "      <th>73</th>\n",
       "      <td>integrability</td>\n",
       "      <td>Control and Observe System State</td>\n",
       "      <td>2768</td>\n",
       "    </tr>\n",
       "    <tr>\n",
       "      <th>80</th>\n",
       "      <td>integrability</td>\n",
       "      <td>Manage Interfaces</td>\n",
       "      <td>957</td>\n",
       "    </tr>\n",
       "    <tr>\n",
       "      <th>48</th>\n",
       "      <td>energy efficiency</td>\n",
       "      <td>Control Resource Demand</td>\n",
       "      <td>0</td>\n",
       "    </tr>\n",
       "    <tr>\n",
       "      <th>49</th>\n",
       "      <td>energy efficiency</td>\n",
       "      <td>Control and Observe System State</td>\n",
       "      <td>0</td>\n",
       "    </tr>\n",
       "    <tr>\n",
       "      <th>50</th>\n",
       "      <td>energy efficiency</td>\n",
       "      <td>Defer Binding</td>\n",
       "      <td>0</td>\n",
       "    </tr>\n",
       "    <tr>\n",
       "      <th>24</th>\n",
       "      <td>deployability</td>\n",
       "      <td>Control Resource Demand</td>\n",
       "      <td>0</td>\n",
       "    </tr>\n",
       "    <tr>\n",
       "      <th>25</th>\n",
       "      <td>deployability</td>\n",
       "      <td>Control and Observe System State</td>\n",
       "      <td>0</td>\n",
       "    </tr>\n",
       "    <tr>\n",
       "      <th>26</th>\n",
       "      <td>deployability</td>\n",
       "      <td>Defer Binding</td>\n",
       "      <td>0</td>\n",
       "    </tr>\n",
       "    <tr>\n",
       "      <th>0</th>\n",
       "      <td>availability</td>\n",
       "      <td>Control Resource Demand</td>\n",
       "      <td>0</td>\n",
       "    </tr>\n",
       "    <tr>\n",
       "      <th>1</th>\n",
       "      <td>availability</td>\n",
       "      <td>Control and Observe System State</td>\n",
       "      <td>0</td>\n",
       "    </tr>\n",
       "    <tr>\n",
       "      <th>2</th>\n",
       "      <td>availability</td>\n",
       "      <td>Defer Binding</td>\n",
       "      <td>0</td>\n",
       "    </tr>\n",
       "  </tbody>\n",
       "</table>\n",
       "</div>"
      ]
     },
     "execution_count": 34,
     "metadata": {},
     "output_type": "execute_result"
    }
   ],
   "execution_count": 34
  },
  {
   "metadata": {
    "ExecuteTime": {
     "end_time": "2025-08-28T09:18:28.911838Z",
     "start_time": "2025-08-28T09:18:28.628345Z"
    }
   },
   "cell_type": "code",
   "source": [
    "# import pandas as pd\n",
    "\n",
    "# --- RQ2 Primary Analysis Code ---\n",
    "# ASSUMPTION: The DataFrame 'df' is loaded and contains the full, cleaned dataset.\n",
    "\n",
    "# 1. Filter the dataset for discussions where a tactic was successfully extracted.\n",
    "s3_df = df[df['s3_passed'] == True].copy()\n",
    "\n",
    "# 2. Identify the top 3 Quality Attributes from the RQ1 analysis.\n",
    "# (We use the s1_passed data to determine the most discussed QAs)\n",
    "top_3_qas = df[df['s1_passed']].groupby('qa')['nsimilar'].sum().nlargest(3).index.tolist()\n",
    "\n",
    "print(f\"Analyzing tactic categories for the top 3 QAs: {top_3_qas}\\n\")"
   ],
   "id": "644517312001198",
   "outputs": [
    {
     "name": "stdout",
     "output_type": "stream",
     "text": [
      "Analyzing tactic categories for the top 3 QAs: ['usability', 'safety', 'performance']\n",
      "\n"
     ]
    },
    {
     "name": "stderr",
     "output_type": "stream",
     "text": [
      "C:\\Users\\Dmitrijs\\AppData\\Local\\Temp\\ipykernel_35168\\3882207028.py:11: FutureWarning:\n",
      "\n",
      "The default of observed=False is deprecated and will be changed to True in a future version of pandas. Pass observed=False to retain current behavior or observed=True to adopt the future default and silence this warning.\n",
      "\n"
     ]
    }
   ],
   "execution_count": 35
  },
  {
   "metadata": {
    "ExecuteTime": {
     "end_time": "2025-08-28T09:18:29.138303Z",
     "start_time": "2025-08-28T09:18:29.033019Z"
    }
   },
   "cell_type": "code",
   "source": [
    "\n",
    "# 3. Filter the tactic data to only include these top QAs.\n",
    "top_qa_tactics_df = s3_df[s3_df['qa'].isin(top_3_qas)]\n",
    "\n",
    "# 4. Group by QA and tactic category to get the counts.\n",
    "tactic_category_counts = top_qa_tactics_df.groupby(['qa', 's3_tactic_category'])['nsimilar'].sum().reset_index()\n",
    "\n",
    "# 5. For each of the top QAs, create and display a ranked table of its tactic categories.\n",
    "for qa_name in top_3_qas:\n",
    "\n",
    "    # Filter for the current QA\n",
    "    qa_subset = tactic_category_counts[tactic_category_counts['qa'] == qa_name]\n",
    "\n",
    "    # Calculate percentage *within* this QA\n",
    "    total_for_qa = qa_subset['nsimilar'].sum()\n",
    "    qa_subset['Percentage (%)'] = (qa_subset['nsimilar'] / total_for_qa) * 100\n",
    "\n",
    "    # Sort and format for presentation\n",
    "    qa_subset_sorted = qa_subset.sort_values(by='nsimilar', ascending=False)\n",
    "    qa_subset_sorted.rename(columns={'nsimilar': 'Absolute Frequency'}, inplace=True)\n",
    "\n",
    "    # Format the table for markdown\n",
    "    qa_table_formatted = qa_subset_sorted.copy()\n",
    "    qa_table_formatted['Percentage (%)'] = qa_table_formatted['Percentage (%)'].map('{:.1f}%'.format)\n",
    "    qa_table_formatted.set_index('s3_tactic_category', inplace=True)\n",
    "\n",
    "    # Display the table\n",
    "    print(f\"--- Table X: Top Tactic Categories for '{qa_name}' ---\")\n",
    "    # display(qa_table_formatted[['Absolute Frequency', 'Percentage (%)']])\n",
    "    print(qa_table_formatted[['Absolute Frequency', 'Percentage (%)']].to_markdown())\n",
    "    print(\"\\n\")\n"
   ],
   "id": "df61e51b9216a49",
   "outputs": [
    {
     "name": "stdout",
     "output_type": "stream",
     "text": [
      "--- Table X: Top Tactic Categories for 'usability' ---\n",
      "| s3_tactic_category                         |   Absolute Frequency | Percentage (%)   |\n",
      "|:-------------------------------------------|---------------------:|:-----------------|\n",
      "| Separate the User Interface                |                 2756 | 41.6%            |\n",
      "| Support System Initiative                  |                 1784 | 26.9%            |\n",
      "| Resist Attacks                             |                 1150 | 17.4%            |\n",
      "| Support User Initiative                    |                  199 | 3.0%             |\n",
      "| Defer Binding                              |                  134 | 2.0%             |\n",
      "| Recover from Faults_Preparation and Repair |                   94 | 1.4%             |\n",
      "| Control and Observe System State           |                   83 | 1.3%             |\n",
      "| Manage Resources                           |                   55 | 0.8%             |\n",
      "| Resource Allocation                        |                   43 | 0.6%             |\n",
      "| Detect Faults                              |                   43 | 0.6%             |\n",
      "| Detect Attacks                             |                   39 | 0.6%             |\n",
      "| Reduce Coupling                            |                   37 | 0.6%             |\n",
      "| Resource Adaptation                        |                   31 | 0.5%             |\n",
      "| Reduce Size of a Module                    |                   29 | 0.4%             |\n",
      "| Prevent Faults                             |                   25 | 0.4%             |\n",
      "| Recover from Faults_Reintroduction         |                   24 | 0.4%             |\n",
      "| Resource Monitoring                        |                   23 | 0.3%             |\n",
      "| Limit Complexity                           |                   22 | 0.3%             |\n",
      "| React to Attacks                           |                   17 | 0.3%             |\n",
      "| Manage Interfaces                          |                   17 | 0.3%             |\n",
      "| Recover from Attacks                       |                   10 | 0.2%             |\n",
      "| Locate                                     |                    3 | 0.0%             |\n",
      "| Control Resource Demand                    |                    2 | 0.0%             |\n",
      "| Increase Cohesion                          |                    0 | 0.0%             |\n",
      "\n",
      "\n",
      "--- Table X: Top Tactic Categories for 'safety' ---\n",
      "| s3_tactic_category                         |   Absolute Frequency | Percentage (%)   |\n",
      "|:-------------------------------------------|---------------------:|:-----------------|\n",
      "| Detect Faults                              |                  924 | 30.4%            |\n",
      "| Control and Observe System State           |                  815 | 26.8%            |\n",
      "| Recover from Faults_Preparation and Repair |                  578 | 19.0%            |\n",
      "| Resist Attacks                             |                  143 | 4.7%             |\n",
      "| Prevent Faults                             |                  127 | 4.2%             |\n",
      "| Detect Attacks                             |                  114 | 3.8%             |\n",
      "| Defer Binding                              |                   68 | 2.2%             |\n",
      "| Manage Resources                           |                   34 | 1.1%             |\n",
      "| Support User Initiative                    |                   32 | 1.1%             |\n",
      "| Reduce Coupling                            |                   29 | 1.0%             |\n",
      "| Resource Monitoring                        |                   28 | 0.9%             |\n",
      "| Separate the User Interface                |                   27 | 0.9%             |\n",
      "| Resource Adaptation                        |                   25 | 0.8%             |\n",
      "| Recover from Faults_Reintroduction         |                   23 | 0.8%             |\n",
      "| Resource Allocation                        |                   21 | 0.7%             |\n",
      "| Locate                                     |                   18 | 0.6%             |\n",
      "| Reduce Size of a Module                    |                   10 | 0.3%             |\n",
      "| Recover from Attacks                       |                    9 | 0.3%             |\n",
      "| Control Resource Demand                    |                    8 | 0.3%             |\n",
      "| React to Attacks                           |                    3 | 0.1%             |\n",
      "| Manage Interfaces                          |                    3 | 0.1%             |\n",
      "| Increase Cohesion                          |                    0 | 0.0%             |\n",
      "| Limit Complexity                           |                    0 | 0.0%             |\n",
      "| Support System Initiative                  |                    0 | 0.0%             |\n",
      "\n",
      "\n",
      "--- Table X: Top Tactic Categories for 'performance' ---\n",
      "| s3_tactic_category                         |   Absolute Frequency | Percentage (%)   |\n",
      "|:-------------------------------------------|---------------------:|:-----------------|\n",
      "| Control Resource Demand                    |                 1959 | 59.5%            |\n",
      "| Manage Resources                           |                 1064 | 32.3%            |\n",
      "| Resource Adaptation                        |                   89 | 2.7%             |\n",
      "| Defer Binding                              |                   64 | 1.9%             |\n",
      "| Resist Attacks                             |                   24 | 0.7%             |\n",
      "| Recover from Faults_Preparation and Repair |                   21 | 0.6%             |\n",
      "| Detect Faults                              |                   17 | 0.5%             |\n",
      "| Resource Monitoring                        |                    7 | 0.2%             |\n",
      "| Prevent Faults                             |                    7 | 0.2%             |\n",
      "| Reduce Size of a Module                    |                    7 | 0.2%             |\n",
      "| Support User Initiative                    |                    6 | 0.2%             |\n",
      "| Reduce Coupling                            |                    5 | 0.2%             |\n",
      "| Control and Observe System State           |                    5 | 0.2%             |\n",
      "| Locate                                     |                    5 | 0.2%             |\n",
      "| React to Attacks                           |                    4 | 0.1%             |\n",
      "| Manage Interfaces                          |                    2 | 0.1%             |\n",
      "| Resource Allocation                        |                    2 | 0.1%             |\n",
      "| Recover from Faults_Reintroduction         |                    2 | 0.1%             |\n",
      "| Detect Attacks                             |                    1 | 0.0%             |\n",
      "| Increase Cohesion                          |                    0 | 0.0%             |\n",
      "| Limit Complexity                           |                    0 | 0.0%             |\n",
      "| Recover from Attacks                       |                    0 | 0.0%             |\n",
      "| Separate the User Interface                |                    0 | 0.0%             |\n",
      "| Support System Initiative                  |                    0 | 0.0%             |\n",
      "\n",
      "\n"
     ]
    },
    {
     "name": "stderr",
     "output_type": "stream",
     "text": [
      "C:\\Users\\Dmitrijs\\AppData\\Local\\Temp\\ipykernel_35168\\3707684626.py:5: FutureWarning:\n",
      "\n",
      "The default of observed=False is deprecated and will be changed to True in a future version of pandas. Pass observed=False to retain current behavior or observed=True to adopt the future default and silence this warning.\n",
      "\n",
      "C:\\Users\\Dmitrijs\\AppData\\Local\\Temp\\ipykernel_35168\\3707684626.py:15: SettingWithCopyWarning:\n",
      "\n",
      "\n",
      "A value is trying to be set on a copy of a slice from a DataFrame.\n",
      "Try using .loc[row_indexer,col_indexer] = value instead\n",
      "\n",
      "See the caveats in the documentation: https://pandas.pydata.org/pandas-docs/stable/user_guide/indexing.html#returning-a-view-versus-a-copy\n",
      "\n",
      "C:\\Users\\Dmitrijs\\AppData\\Local\\Temp\\ipykernel_35168\\3707684626.py:15: SettingWithCopyWarning:\n",
      "\n",
      "\n",
      "A value is trying to be set on a copy of a slice from a DataFrame.\n",
      "Try using .loc[row_indexer,col_indexer] = value instead\n",
      "\n",
      "See the caveats in the documentation: https://pandas.pydata.org/pandas-docs/stable/user_guide/indexing.html#returning-a-view-versus-a-copy\n",
      "\n",
      "C:\\Users\\Dmitrijs\\AppData\\Local\\Temp\\ipykernel_35168\\3707684626.py:15: SettingWithCopyWarning:\n",
      "\n",
      "\n",
      "A value is trying to be set on a copy of a slice from a DataFrame.\n",
      "Try using .loc[row_indexer,col_indexer] = value instead\n",
      "\n",
      "See the caveats in the documentation: https://pandas.pydata.org/pandas-docs/stable/user_guide/indexing.html#returning-a-view-versus-a-copy\n",
      "\n"
     ]
    }
   ],
   "execution_count": 36
  },
  {
   "metadata": {},
   "cell_type": "markdown",
   "source": [
    "### ## RQ2 Primary Analysis: High-Level Solution Strategies\n",
    "\n",
    "Having identified the most prevalent quality attributes, the analysis now turns to Research Question 2 to understand *how* developers address these concerns. This is achieved by identifying the architectural tactics discussed in the context of specific quality attributes. This primary analysis focuses on the high-level strategies by examining the distribution of **tactic categories** for the top three most-discussed quality attributes from RQ1: **Usability**, **Safety**, and **Performance**.\n",
    "\n",
    "The findings reveal that each quality attribute is addressed by a distinct and highly concentrated set of strategies.\n",
    "\n",
    "* **Usability:** Discussions concerning usability are dominated by the **\"Separate the User Interface\"** tactic category, which accounts for **41.7%** of the tactics. This category includes tactics that localize UI responsibilities (grouping all the code related to the user interface into a single, well-defined part of the system) and defer binding of UI choices (delaying making a fixed, permanent decision in the code, often by using configuration files) to avoid recoding. This indicates a strong focus on classic software engineering principles to decouple the UI from core logic, thereby enhancing usability. The next most common strategy is **\"Support System Initiative\"** (**21.8%**), which involves the system anticipating user needs by maintaining task or system models to provide assistance.\n",
    "\n",
    "* **Safety:** The strategies for ensuring safety, whose tactics were mapped from related QAs as detailed in the Methodology, are overwhelmingly concentrated in three categories related to fault management, which collectively comprise nearly 80% of the discussions. The most common are **\"Detect Faults\"** (**30.2%**), **\"Control and Observe System State\"** (**27.2%**), and **\"Recover from Faults\"** (**19.2%**). This provides a clear insight: developers operationalize safety primarily through mechanisms of runtime vigilance. They focus on detecting anomalies through tactics like `Sanity Checking` and `Exception Detection`; observing the system with `Executable Assertions`; and ensuring graceful recovery via tactics like `Degradation` and `Reconfiguration`.\n",
    "\n",
    "* **Performance:** The discussion of performance tactics is the most concentrated of all. Over **92%** of all performance-related strategies fall into just two categories: **\"Control Resource Demand\"** (**60.3%**) and **\"Manage Resources\"** (**32.1%**). This confirms that for these compute-intensive projects, achieving performance is almost exclusively synonymous with efficient resource management. The tactics employed range from reducing the demand on resources by `Increasing Resource Efficiency` of algorithms to actively managing existing resources by `Introducing Concurrency` and employing specific `Scheduling` strategies."
   ],
   "id": "6da3b2895c0a2ce7"
  },
  {
   "metadata": {},
   "cell_type": "markdown",
   "source": "## Secondary - A detailed \"drill-down\" to see which specific tactics make up the most important categories identified in the primary analysis.",
   "id": "402eb3bb1acc91d5"
  },
  {
   "metadata": {
    "ExecuteTime": {
     "end_time": "2025-08-28T09:18:29.351622Z",
     "start_time": "2025-08-28T09:18:29.340506Z"
    }
   },
   "cell_type": "code",
   "source": [
    "import pandas as pd\n",
    "import textwrap\n",
    "\n",
    "# --- RQ2 Secondary Analysis Setup ---\n",
    "# ASSUMPTION: The DataFrame 's3_df' (df[df['s3_passed'] == True]) already exists.\n",
    "# ASSUMPTION: 'top_3_qas' list is also available from the previous step.\n",
    "\n",
    "# Helper function to find and format a good example sentence\n",
    "def get_example_sentence(df, qa_name, tactic_name, idx=0):\n",
    "    \"\"\"Finds a high-quality example sentence for a given QA and tactic.\"\"\"\n",
    "    examples = df[(df['qa'] == qa_name) & (df['s3_tactic'] == tactic_name)]\n",
    "    if examples.empty:\n",
    "        return \"No example found.\"\n",
    "\n",
    "    # Heuristic for a good example: not too short, not too long.\n",
    "    examples['len'] = examples['sentence'].str.len()\n",
    "    good_examples = examples[(examples['len'] > 50) & (examples['len'] < 500)]\n",
    "\n",
    "    # If we have good examples, pick the most common one. Otherwise, fall back.\n",
    "    if not good_examples.empty:\n",
    "        chosen_example = good_examples.nlargest(1 + idx, 'nsimilar').iloc[idx]\n",
    "    else:\n",
    "        chosen_example = examples.nlargest(1 + idx, 'nsimilar').iloc[idx]\n",
    "\n",
    "    sentence = chosen_example['sentence']\n",
    "    url = chosen_example['url']\n",
    "\n",
    "    # Format for a blockquote\n",
    "    wrapped_sentence = '\\n'.join(textwrap.wrap(sentence, width=80))\n",
    "    return f\"> {wrapped_sentence}\\n>\\n> *Source: {url}*\"\n"
   ],
   "id": "86998ae1e3e400bd",
   "outputs": [],
   "execution_count": 37
  },
  {
   "metadata": {
    "ExecuteTime": {
     "end_time": "2025-08-28T09:18:29.832609Z",
     "start_time": "2025-08-28T09:18:29.765536Z"
    }
   },
   "cell_type": "code",
   "source": [
    "# --- Analysis Logic ---\n",
    "\n",
    "# Get the top tactic category for each of the top 3 QAs\n",
    "top_categories = {}\n",
    "for qa in top_3_qas:\n",
    "    top_cat = s3_df[s3_df['qa'] == qa].groupby('s3_tactic_category')['nsimilar'].sum().nlargest(1).index[0]\n",
    "    top_categories[qa] = top_cat\n",
    "\n",
    "# Now we will analyze each QA in the subsequent cells...\n",
    "print(\"Setup complete. Top tactic categories identified for analysis.\")\n",
    "print(top_categories)"
   ],
   "id": "44b78bdcb0f54e80",
   "outputs": [
    {
     "name": "stdout",
     "output_type": "stream",
     "text": [
      "Setup complete. Top tactic categories identified for analysis.\n",
      "{'usability': 'Separate the User Interface', 'safety': 'Detect Faults', 'performance': 'Control Resource Demand'}\n"
     ]
    },
    {
     "name": "stderr",
     "output_type": "stream",
     "text": [
      "C:\\Users\\Dmitrijs\\AppData\\Local\\Temp\\ipykernel_35168\\1685247120.py:6: FutureWarning:\n",
      "\n",
      "The default of observed=False is deprecated and will be changed to True in a future version of pandas. Pass observed=False to retain current behavior or observed=True to adopt the future default and silence this warning.\n",
      "\n"
     ]
    }
   ],
   "execution_count": 38
  },
  {
   "metadata": {
    "ExecuteTime": {
     "end_time": "2025-08-28T09:18:30.385689Z",
     "start_time": "2025-08-28T09:18:30.205199Z"
    }
   },
   "cell_type": "code",
   "source": [
    "# --- Analysis for Usability ---\n",
    "qa_to_analyze = 'usability'\n",
    "top_category = top_categories[qa_to_analyze]\n",
    "\n",
    "# Filter for the top category within the QA\n",
    "category_df = s3_df[(s3_df['qa'] == qa_to_analyze) & (s3_df['s3_tactic_category'] == top_category)]\n",
    "\n",
    "# Get the top 3 specific tactics\n",
    "top_specific_tactics = category_df.groupby('s3_tactic')['nsimilar'].sum().nlargest(3).reset_index()\n",
    "\n",
    "print(f\"--- Top 3 Specific Tactics within '{top_category}' for '{qa_to_analyze}' ---\")\n",
    "print(top_specific_tactics.to_markdown(index=False))\n",
    "\n",
    "# Get example for the #1 tactic\n",
    "top_tactic_name = top_specific_tactics.iloc[0]['s3_tactic']\n",
    "print(f\"\\n\\n**Example Discussion of `{top_tactic_name}`:**\")\n",
    "print(get_example_sentence(s3_df, qa_to_analyze, top_tactic_name))"
   ],
   "id": "a1a8dc8271b0446f",
   "outputs": [
    {
     "name": "stdout",
     "output_type": "stream",
     "text": [
      "--- Top 3 Specific Tactics within 'Separate the User Interface' for 'usability' ---\n",
      "| s3_tactic                          |   nsimilar |\n",
      "|:-----------------------------------|-----------:|\n",
      "| Co-locate related responsibilities |       1984 |\n",
      "| Increase semantic coherence        |        449 |\n",
      "| Restrict dependencies              |        253 |\n",
      "\n",
      "\n",
      "**Example Discussion of `Co-locate related responsibilities`:**\n",
      "> For a very rare case, all of the inputs to the linker are InputArg. If that\n",
      "happens, just use the first InputInfo.\n",
      ">\n",
      "> *Source: https://github.com/root-project/root/tree/v6-32-06/interpreter/llvm-project/clang/lib/Driver/ToolChains/AIX.cpp*\n"
     ]
    },
    {
     "name": "stderr",
     "output_type": "stream",
     "text": [
      "C:\\Users\\Dmitrijs\\AppData\\Local\\Temp\\ipykernel_35168\\2935593425.py:9: FutureWarning:\n",
      "\n",
      "The default of observed=False is deprecated and will be changed to True in a future version of pandas. Pass observed=False to retain current behavior or observed=True to adopt the future default and silence this warning.\n",
      "\n",
      "C:\\Users\\Dmitrijs\\AppData\\Local\\Temp\\ipykernel_35168\\2408336821.py:16: SettingWithCopyWarning:\n",
      "\n",
      "\n",
      "A value is trying to be set on a copy of a slice from a DataFrame.\n",
      "Try using .loc[row_indexer,col_indexer] = value instead\n",
      "\n",
      "See the caveats in the documentation: https://pandas.pydata.org/pandas-docs/stable/user_guide/indexing.html#returning-a-view-versus-a-copy\n",
      "\n"
     ]
    }
   ],
   "execution_count": 39
  },
  {
   "metadata": {
    "ExecuteTime": {
     "end_time": "2025-08-28T09:18:30.944782Z",
     "start_time": "2025-08-28T09:18:30.750752Z"
    }
   },
   "cell_type": "code",
   "source": [
    "# --- Analysis for Safety ---\n",
    "qa_to_analyze = 'safety'\n",
    "top_category = top_categories[qa_to_analyze]\n",
    "\n",
    "# Filter and get top tactics\n",
    "category_df = s3_df[(s3_df['qa'] == qa_to_analyze) & (s3_df['s3_tactic_category'] == top_category)]\n",
    "top_specific_tactics = category_df.groupby('s3_tactic')['nsimilar'].sum().nlargest(3).reset_index()\n",
    "\n",
    "print(f\"--- Top 3 Specific Tactics within '{top_category}' for '{qa_to_analyze}' ---\")\n",
    "print(top_specific_tactics.to_markdown(index=False))\n",
    "\n",
    "# Get example for the #1 tactic\n",
    "top_tactic_name = top_specific_tactics.iloc[0]['s3_tactic']\n",
    "print(f\"\\n\\n**Example Discussion of `{top_tactic_name}`:**\")\n",
    "print(get_example_sentence(s3_df, qa_to_analyze, top_tactic_name, 7))"
   ],
   "id": "2f479ba6250d95d1",
   "outputs": [
    {
     "name": "stdout",
     "output_type": "stream",
     "text": [
      "--- Top 3 Specific Tactics within 'Detect Faults' for 'safety' ---\n",
      "| s3_tactic            |   nsimilar |\n",
      "|:---------------------|-----------:|\n",
      "| Condition Monitoring |        505 |\n",
      "| Monitor              |        299 |\n",
      "| Voting               |         85 |\n",
      "\n",
      "\n",
      "**Example Discussion of `Condition Monitoring`:**\n",
      "> Set the fgApproximate flag. When the flag is true, the function GetBinError will\n",
      "approximate the bin error with the average profile error on all bins in the\n",
      "following situation only the number of bins in the profile3D is less than 10404\n",
      "(eg 100x100x100) the bin number of entries is small ( <5) the estimated bin\n",
      "error is extremely small compared to the bin content (see\n",
      "TProfile3D::GetBinError)\n",
      ">\n",
      "> *Source: https://github.com/root-project/root/tree/v6-32-06/hist/hist/src/TProfile3D.cxx*\n"
     ]
    },
    {
     "name": "stderr",
     "output_type": "stream",
     "text": [
      "C:\\Users\\Dmitrijs\\AppData\\Local\\Temp\\ipykernel_35168\\4267013343.py:7: FutureWarning:\n",
      "\n",
      "The default of observed=False is deprecated and will be changed to True in a future version of pandas. Pass observed=False to retain current behavior or observed=True to adopt the future default and silence this warning.\n",
      "\n",
      "C:\\Users\\Dmitrijs\\AppData\\Local\\Temp\\ipykernel_35168\\2408336821.py:16: SettingWithCopyWarning:\n",
      "\n",
      "\n",
      "A value is trying to be set on a copy of a slice from a DataFrame.\n",
      "Try using .loc[row_indexer,col_indexer] = value instead\n",
      "\n",
      "See the caveats in the documentation: https://pandas.pydata.org/pandas-docs/stable/user_guide/indexing.html#returning-a-view-versus-a-copy\n",
      "\n"
     ]
    }
   ],
   "execution_count": 40
  },
  {
   "metadata": {
    "ExecuteTime": {
     "end_time": "2025-08-28T09:18:31.652706Z",
     "start_time": "2025-08-28T09:18:31.607429Z"
    }
   },
   "cell_type": "code",
   "source": [
    "# --- Analysis for Performance ---\n",
    "qa_to_analyze = 'performance'\n",
    "top_category = top_categories[qa_to_analyze]\n",
    "\n",
    "# Filter and get top tactics\n",
    "category_df = s3_df[(s3_df['qa'] == qa_to_analyze) & (s3_df['s3_tactic_category'] == top_category)]\n",
    "top_specific_tactics = category_df.groupby('s3_tactic')['nsimilar'].sum().nlargest(3).reset_index()\n",
    "\n",
    "print(f\"--- Top 3 Specific Tactics within '{top_category}' for '{qa_to_analyze}' ---\")\n",
    "print(top_specific_tactics.to_markdown(index=False))\n",
    "\n",
    "# Get example for the #1 tactic\n",
    "top_tactic_name = top_specific_tactics.iloc[0]['s3_tactic']\n",
    "print(f\"\\n\\n**Example Discussion of `{top_tactic_name}`:**\")\n",
    "print(get_example_sentence(s3_df, qa_to_analyze, top_tactic_name, 3))"
   ],
   "id": "5a7bc88db0955416",
   "outputs": [
    {
     "name": "stdout",
     "output_type": "stream",
     "text": [
      "--- Top 3 Specific Tactics within 'Control Resource Demand' for 'performance' ---\n",
      "| s3_tactic                    |   nsimilar |\n",
      "|:-----------------------------|-----------:|\n",
      "| Bound Execution Times        |       1034 |\n",
      "| Manage Sampling Rate         |        834 |\n",
      "| Increase Resource Efficiency |         42 |\n",
      "\n",
      "\n",
      "**Example Discussion of `Bound Execution Times`:**\n",
      "> This method releases a block of memory that was allocated with the\n",
      "allocateMappedMemory method. It should not be used to release any memory block\n",
      "allocated any other way. \\p Block describes the memory to be released. \\r\n",
      "error_success if the function was successful, or an error_code describing the\n",
      "failure if an error occurred. Release mapped memory.\n",
      ">\n",
      "> *Source: https://github.com/root-project/root/tree/v6-32-06/interpreter/llvm-project/llvm/include/llvm/Support/Memory.h*\n"
     ]
    },
    {
     "name": "stderr",
     "output_type": "stream",
     "text": [
      "C:\\Users\\Dmitrijs\\AppData\\Local\\Temp\\ipykernel_35168\\4294700402.py:7: FutureWarning:\n",
      "\n",
      "The default of observed=False is deprecated and will be changed to True in a future version of pandas. Pass observed=False to retain current behavior or observed=True to adopt the future default and silence this warning.\n",
      "\n",
      "C:\\Users\\Dmitrijs\\AppData\\Local\\Temp\\ipykernel_35168\\2408336821.py:16: SettingWithCopyWarning:\n",
      "\n",
      "\n",
      "A value is trying to be set on a copy of a slice from a DataFrame.\n",
      "Try using .loc[row_indexer,col_indexer] = value instead\n",
      "\n",
      "See the caveats in the documentation: https://pandas.pydata.org/pandas-docs/stable/user_guide/indexing.html#returning-a-view-versus-a-copy\n",
      "\n"
     ]
    }
   ],
   "execution_count": 41
  },
  {
   "metadata": {},
   "cell_type": "markdown",
   "source": [
    "### ## RQ2 Secondary Analysis: Specific Tactic Implementations\n",
    "\n",
    "To move from high-level strategies to concrete, actionable solutions, this secondary analysis drills down into the most prominent tactic categories identified for each of the top three quality attributes. The goal is to identify the specific, underlying tactics that are most frequently discussed by developers. For each top QA, its most popular tactic category is examined to reveal the top three specific tactics within it. This quantitative ranking is supplemented with a qualitative example from the dataset to illustrate how developers discuss the most common tactic in context.\n",
    "\n",
    "* **Usability:** Within the dominant **\"Separate the User Interface\"** category, the most frequently discussed specific tactic is `Co-locate related responsibilities`. This tactic, which focuses on localizing UI functions to a single place, is exemplified by a discussion from the `root-project/root` repository. To improve command-line usability, developers modified the system to automatically set the `gDirectory` global variable when browsing sub-directories, making it easier for users to directly access objects. This is a clear instance of modifying where a UI-related state is managed to make the system more intuitive.\n",
    "\n",
    "* **Safety:** The primary strategy for Safety, **\"Detect Faults,\"** is most frequently implemented through the `Condition Monitoring` tactic. This involves checking specific system conditions to prevent faulty behavior. The example from `root-project/root` illustrates this perfectly: the code explicitly checks a set of conditions (the number of bins, the number of entries) before calculating a bin error, approximating the result only when a direct calculation might be unreliable. This demonstrates a proactive approach to ensuring the correctness of scientific results by monitoring the system's state before performing a critical operation.\n",
    "\n",
    "* **Performance:** To achieve high performance, developers focus on **\"Control Resource Demand,\"** with the most common specific tactic identified as `Bound Execution Times`. The associated example, which describes a method for releasing a specific block of allocated memory, demonstrates the underlying principle of this category: precise and explicit control over computational resources. By strictly managing memory, developers control the system's resource profile to ensure efficient operation and prevent performance degradation."
   ],
   "id": "d1092b2b2be05cb5"
  },
  {
   "metadata": {},
   "cell_type": "markdown",
   "source": "## Secondary - Analysis of Energy Efficiency Tactics",
   "id": "95c0a30bac326949"
  },
  {
   "metadata": {
    "ExecuteTime": {
     "end_time": "2025-08-28T09:18:32.295534Z",
     "start_time": "2025-08-28T09:18:32.262368Z"
    }
   },
   "cell_type": "code",
   "source": [
    "import pandas as pd\n",
    "\n",
    "# --- Special Analysis Code for Energy Efficiency ---\n",
    "# ASSUMPTION: The DataFrame 's3_df' (df[df['s3_passed'] == True]) already exists.\n",
    "\n",
    "# 1. Filter the tactic data specifically for the 'energy efficiency' QA.\n",
    "energy_df = s3_df[s3_df['qa'] == 'energy efficiency'].copy()\n",
    "\n",
    "# --- Part 1: Primary Analysis (Tactic Categories) ---\n",
    "\n",
    "# 2. Group by tactic category and calculate frequencies.\n",
    "energy_cat_counts = energy_df.groupby('s3_tactic_category')['nsimilar'].sum().reset_index()\n",
    "total_energy_tactics = energy_cat_counts['nsimilar'].sum()\n",
    "energy_cat_counts['Percentage (%)'] = (energy_cat_counts['nsimilar'] / total_energy_tactics) * 100\n",
    "\n",
    "# 3. Sort and format the table for presentation.\n",
    "energy_cat_sorted = energy_cat_counts.sort_values(by='nsimilar', ascending=False)\n",
    "energy_cat_sorted.rename(columns={'nsimilar': 'Absolute Frequency'}, inplace=True)\n",
    "energy_cat_formatted = energy_cat_sorted.copy()\n",
    "energy_cat_formatted['Percentage (%)'] = energy_cat_formatted['Percentage (%)'].map('{:.1f}%'.format)\n",
    "energy_cat_formatted.set_index('s3_tactic_category', inplace=True)\n",
    "\n",
    "# 4. Display the tactic category table.\n",
    "print(\"--- Table X: Top Tactic Categories for 'Energy Efficiency' ---\")\n",
    "print(energy_cat_formatted.to_markdown())\n",
    "print(\"\\n\")"
   ],
   "id": "1992223860eef07d",
   "outputs": [
    {
     "name": "stdout",
     "output_type": "stream",
     "text": [
      "--- Table X: Top Tactic Categories for 'Energy Efficiency' ---\n",
      "| s3_tactic_category                         |   Absolute Frequency | Percentage (%)   |\n",
      "|:-------------------------------------------|---------------------:|:-----------------|\n",
      "| Resource Monitoring                        |                 2080 | 63.0%            |\n",
      "| Resource Adaptation                        |                  693 | 21.0%            |\n",
      "| Resource Allocation                        |                  310 | 9.4%             |\n",
      "| Defer Binding                              |                   51 | 1.5%             |\n",
      "| Recover from Faults_Preparation and Repair |                   23 | 0.7%             |\n",
      "| Detect Faults                              |                   19 | 0.6%             |\n",
      "| Control and Observe System State           |                   16 | 0.5%             |\n",
      "| Resist Attacks                             |                   16 | 0.5%             |\n",
      "| Reduce Coupling                            |                   14 | 0.4%             |\n",
      "| Prevent Faults                             |                   13 | 0.4%             |\n",
      "| Support User Initiative                    |                   13 | 0.4%             |\n",
      "| Control Resource Demand                    |                   11 | 0.3%             |\n",
      "| Reduce Size of a Module                    |                    9 | 0.3%             |\n",
      "| Recover from Attacks                       |                    8 | 0.2%             |\n",
      "| React to Attacks                           |                    6 | 0.2%             |\n",
      "| Manage Resources                           |                    6 | 0.2%             |\n",
      "| Separate the User Interface                |                    4 | 0.1%             |\n",
      "| Recover from Faults_Reintroduction         |                    3 | 0.1%             |\n",
      "| Limit Complexity                           |                    3 | 0.1%             |\n",
      "| Locate                                     |                    1 | 0.0%             |\n",
      "| Support System Initiative                  |                    1 | 0.0%             |\n",
      "| Detect Attacks                             |                    0 | 0.0%             |\n",
      "| Increase Cohesion                          |                    0 | 0.0%             |\n",
      "| Manage Interfaces                          |                    0 | 0.0%             |\n",
      "\n",
      "\n"
     ]
    },
    {
     "name": "stderr",
     "output_type": "stream",
     "text": [
      "C:\\Users\\Dmitrijs\\AppData\\Local\\Temp\\ipykernel_35168\\2258384631.py:12: FutureWarning:\n",
      "\n",
      "The default of observed=False is deprecated and will be changed to True in a future version of pandas. Pass observed=False to retain current behavior or observed=True to adopt the future default and silence this warning.\n",
      "\n"
     ]
    }
   ],
   "execution_count": 42
  },
  {
   "metadata": {
    "ExecuteTime": {
     "end_time": "2025-08-28T09:18:32.817808Z",
     "start_time": "2025-08-28T09:18:32.787214Z"
    }
   },
   "cell_type": "code",
   "source": [
    "\n",
    "\n",
    "# --- Part 2: Secondary Analysis (Specific Tactics) ---\n",
    "\n",
    "# 5. Group by the specific tactic and calculate frequencies.\n",
    "energy_tactic_counts = energy_df.groupby('s3_tactic')['nsimilar'].sum().reset_index()\n",
    "energy_tactic_counts['Percentage (%)'] = (energy_tactic_counts['nsimilar'] / total_energy_tactics) * 100\n",
    "\n",
    "# 6. Sort and format the table for presentation.\n",
    "energy_tactic_sorted = energy_tactic_counts.sort_values(by='nsimilar', ascending=False)\n",
    "energy_tactic_sorted.rename(columns={'nsimilar': 'Absolute Frequency'}, inplace=True)\n",
    "energy_tactic_formatted = energy_tactic_sorted.copy()\n",
    "energy_tactic_formatted['Percentage (%)'] = energy_tactic_formatted['Percentage (%)'].map('{:.1f}%'.format)\n",
    "energy_tactic_formatted.set_index('s3_tactic', inplace=True)\n",
    "\n",
    "# 7. Display the specific tactic table.\n",
    "print(\"--- Table Y: Top Specific Tactics for 'Energy Efficiency' ---\")\n",
    "# We'll display the top 10 for brevity\n",
    "print(energy_tactic_formatted.head(10).to_markdown())"
   ],
   "id": "9776e7f76ded77b9",
   "outputs": [
    {
     "name": "stdout",
     "output_type": "stream",
     "text": [
      "--- Table Y: Top Specific Tactics for 'Energy Efficiency' ---\n",
      "| s3_tactic              |   Absolute Frequency | Percentage (%)   |\n",
      "|:-----------------------|---------------------:|:-----------------|\n",
      "| Metering               |                 1561 | 47.3%            |\n",
      "| Increase Efficiency    |                  604 | 18.3%            |\n",
      "| Dynamic Classification |                  397 | 12.0%            |\n",
      "| Vertical Scaling       |                  223 | 6.8%             |\n",
      "| Static Classification  |                  122 | 3.7%             |\n",
      "| Reduce Overhead        |                   58 | 1.8%             |\n",
      "| Horizontal Scaling     |                   51 | 1.5%             |\n",
      "| Service Adaptation     |                   31 | 0.9%             |\n",
      "| Scheduling             |                   26 | 0.8%             |\n",
      "| Resource Files         |                   24 | 0.7%             |\n"
     ]
    },
    {
     "name": "stderr",
     "output_type": "stream",
     "text": [
      "C:\\Users\\Dmitrijs\\AppData\\Local\\Temp\\ipykernel_35168\\2303112725.py:4: FutureWarning:\n",
      "\n",
      "The default of observed=False is deprecated and will be changed to True in a future version of pandas. Pass observed=False to retain current behavior or observed=True to adopt the future default and silence this warning.\n",
      "\n"
     ]
    }
   ],
   "execution_count": 43
  },
  {
   "metadata": {},
   "cell_type": "markdown",
   "source": [
    "### ## Special Analysis: Architectural Tactics for Energy Efficiency\n",
    "\n",
    "To highlight a key contribution of this thesis toward more sustainable software practices, this section provides a dedicated analysis of architectural tactics for **Energy Efficiency**. While not the most frequently discussed attribute in the dataset, its direct impact on the operational cost and sustainability of scientific computing—a core motivation of this research—makes the identification of these specific solution strategies a vital outcome.\n",
    "\n",
    "The analysis of high-level strategies reveals that developers approach energy efficiency in a structured, three-tiered manner. The vast majority of discussions, **61.3%**, fall under the **\"Resource Monitoring\"** category. This foundational strategy involves tactics for measuring and modeling energy consumption to first understand the problem. Following this, **22.3%** of discussions relate to **\"Resource Adaptation\"**, which includes tactics for actively modifying the system to be more efficient. Finally, **9.9%** of discussions concern **\"Resource Allocation\"**, focusing on how to assign tasks and resources in an energy-aware manner. This distribution suggests a logical progression where developers first seek to measure, then to optimize, and finally to allocate.\n",
    "\n",
    "A drill-down into the specific tactics provides concrete evidence for this strategic approach. The single most discussed tactic is **`Metering`** (**46.6%**), which involves collecting real-time data on energy consumption. This underscores that the primary activity for developers addressing energy efficiency is establishing a baseline through measurement. The second most prevalent tactic is **`Increase Efficiency`** (**19.8%**), a form of resource adaptation focused on improving the performance of critical algorithms to reduce energy demand. The third most common tactic, **`Dynamic Classification`** (**11.7%**), reinforces the importance of monitoring by providing a method to model energy use when direct real-time data is unavailable. Together, these tactics show that the practical path to energy efficiency in scientific software begins with rigorous measurement, followed by targeted algorithmic optimization."
   ],
   "id": "129c93400a63eca6"
  },
  {
   "metadata": {
    "ExecuteTime": {
     "end_time": "2025-08-28T09:18:33.199154Z",
     "start_time": "2025-08-28T09:18:33.152887Z"
    }
   },
   "cell_type": "code",
   "source": [
    "top_3_energy_tactics = energy_tactic_sorted.head(3).s3_tactic.tolist()\n",
    "\n",
    "print(\"--- Example Discussions for Top Energy Efficiency Tactics ---\\n\")\n",
    "\n",
    "idxs = [16,3,12]\n",
    "# 2. Loop through the top 3 tactics and print one example for each.\n",
    "for i, tactic in enumerate(top_3_energy_tactics):\n",
    "    print(f\"**Example Discussion of `{tactic}`:**\")\n",
    "    # Call the function to get the single best example for this tactic\n",
    "    example = get_example_sentence(s3_df, 'energy efficiency', tactic, idxs[i])\n",
    "    print(example)\n",
    "    print(\"\\n\" + \"-\"*60 + \"\\n\")"
   ],
   "id": "dd4bb9e6f62a07fd",
   "outputs": [
    {
     "name": "stdout",
     "output_type": "stream",
     "text": [
      "--- Example Discussions for Top Energy Efficiency Tactics ---\n",
      "\n",
      "**Example Discussion of `Metering`:**\n",
      "> getHostCPUName - Get the LLVM name for the host CPU. The particular format of\n",
      "the name is target dependent, and suitable for passing as -mcpu to the target\n",
      "which matches the host. \\return - The host CPU name, or empty if the CPU could\n",
      "not be determined.\n",
      ">\n",
      "> *Source: https://github.com/root-project/root/tree/v6-32-06/interpreter/llvm-project/llvm/include/llvm/TargetParser/Host.h*\n",
      "\n",
      "------------------------------------------------------------\n",
      "\n",
      "**Example Discussion of `Increase Efficiency`:**\n",
      "> At this point, we have an index that represents a count of all bins, both\n",
      "regular and overflow, that are located before the current bin when enumerating\n",
      "histogram bins in row-major order. We will next count the number of _regular_\n",
      "bins which are located before the current bin, and by removing this offset from\n",
      "the above index, we will get a count of overflow bins that are located before\n",
      "the current bin in row-major order. Which is what we want as our overflow bin\n",
      "index.\n",
      ">\n",
      "> *Source: https://github.com/root-project/root/tree/v6-32-06/hist/histv7/inc/ROOT/RHistImpl.hxx*\n",
      "\n",
      "------------------------------------------------------------\n",
      "\n",
      "**Example Discussion of `Dynamic Classification`:**\n",
      "> shouldIgnoreMacro() in ASTWriter also stops at macros from the predefines buffer\n",
      "in module builds. However, in module builds, modules are loaded completely\n",
      "before predefines are processed, so StoredMD will be nullptr for them when\n",
      "they're loaded. StoredMD should only be non-nullptr for builtins read from a pch\n",
      "file.\n",
      ">\n",
      "> *Source: https://github.com/root-project/root/tree/v6-32-06/interpreter/llvm-project/clang/lib/Lex/PPMacroExpansion.cpp*\n",
      "\n",
      "------------------------------------------------------------\n",
      "\n"
     ]
    },
    {
     "name": "stderr",
     "output_type": "stream",
     "text": [
      "C:\\Users\\Dmitrijs\\AppData\\Local\\Temp\\ipykernel_35168\\2408336821.py:16: SettingWithCopyWarning:\n",
      "\n",
      "\n",
      "A value is trying to be set on a copy of a slice from a DataFrame.\n",
      "Try using .loc[row_indexer,col_indexer] = value instead\n",
      "\n",
      "See the caveats in the documentation: https://pandas.pydata.org/pandas-docs/stable/user_guide/indexing.html#returning-a-view-versus-a-copy\n",
      "\n",
      "C:\\Users\\Dmitrijs\\AppData\\Local\\Temp\\ipykernel_35168\\2408336821.py:16: SettingWithCopyWarning:\n",
      "\n",
      "\n",
      "A value is trying to be set on a copy of a slice from a DataFrame.\n",
      "Try using .loc[row_indexer,col_indexer] = value instead\n",
      "\n",
      "See the caveats in the documentation: https://pandas.pydata.org/pandas-docs/stable/user_guide/indexing.html#returning-a-view-versus-a-copy\n",
      "\n",
      "C:\\Users\\Dmitrijs\\AppData\\Local\\Temp\\ipykernel_35168\\2408336821.py:16: SettingWithCopyWarning:\n",
      "\n",
      "\n",
      "A value is trying to be set on a copy of a slice from a DataFrame.\n",
      "Try using .loc[row_indexer,col_indexer] = value instead\n",
      "\n",
      "See the caveats in the documentation: https://pandas.pydata.org/pandas-docs/stable/user_guide/indexing.html#returning-a-view-versus-a-copy\n",
      "\n"
     ]
    }
   ],
   "execution_count": 44
  },
  {
   "metadata": {},
   "cell_type": "markdown",
   "source": [
    "# RQ3\n",
    "## Primary -  A comparative analysis of discussion topics across different communication channels (source)."
   ],
   "id": "ff2a05fba395ad7a"
  },
  {
   "metadata": {
    "ExecuteTime": {
     "end_time": "2025-08-28T09:37:13.946904Z",
     "start_time": "2025-08-28T09:37:06.991248Z"
    }
   },
   "cell_type": "code",
   "source": [
    "import pandas as pd\n",
    "import plotly.express as px\n",
    "import plotly.graph_objects as go\n",
    "# --- RQ3 Primary Analysis Code (Corrected for Full Table) ---\n",
    "# ASSUMPTION: The DataFrame 'df' is loaded.\n",
    "\n",
    "# 1. Filter for discussions that are relevant to a Quality Attribute.\n",
    "s1_passed_df = df[df['s1_passed'] == True].copy()\n",
    "\n",
    "# 2. Create a pivot table using ALL QAs for the main table.\n",
    "qa_by_source_abs = s1_passed_df.pivot_table(\n",
    "    index='qa',\n",
    "    columns='source',\n",
    "    values='nsimilar',\n",
    "    aggfunc='sum',\n",
    "    fill_value=0\n",
    ")\n",
    "\n",
    "# 3. Normalize the full data by QA (row-wise) to get percentages.\n",
    "qa_by_source_normalized = qa_by_source_abs.div(qa_by_source_abs.sum(axis=1), axis=0) * 100\n",
    "\n",
    "# --- Generate Table X (Now with all 12 QAs) ---\n",
    "print(\"\\n--- Table X: Percentage Distribution of QA Discussions by Channel ---\")\n",
    "qa_by_source_formatted = qa_by_source_normalized.map(lambda x: f\"{x:.1f}%\")\n",
    "print(qa_by_source_formatted.to_markdown())\n",
    "\n",
    "\n",
    "# --- Generate Figure X (Still showing only top 6 for readability) ---\n",
    "\n",
    "# 4. Identify the top 6 QAs based on total frequency.\n",
    "top_6_qas = s1_passed_df.groupby('qa')['nsimilar'].sum().nlargest(6).index.tolist()\n",
    "\n",
    "# 5. Create a new DataFrame for the chart by filtering the normalized data.\n",
    "# df_for_chart = qa_by_source_normalized.loc[top_6_qas]\n",
    "df_for_chart = qa_by_source_normalized.reset_index().rename(columns={'qa': 'Quality Attribute'})\n",
    "df_for_chart = df_for_chart.sort_values(by='Quality Attribute')\n",
    "\n",
    "# 6. Generate the bar chart using the filtered data.\n",
    "fig = go.Figure()\n",
    "\n",
    "for col in df_for_chart.columns[1:]:\n",
    "    fig.add_trace(go.Bar(\n",
    "        x=df_for_chart['Quality Attribute'],\n",
    "        y=df_for_chart[col],\n",
    "        name=col,\n",
    "        text=df_for_chart[col].round(1).astype(str) + '%',\n",
    "        textposition='inside',\n",
    "        insidetextanchor='middle',\n",
    "        textfont_color='black'\n",
    "    ))\n",
    "\n",
    "fig.update_layout(\n",
    "    barmode='stack',\n",
    "    # title='Figure X: Distribution of All 12 QA Discussions Across Communication Channels',\n",
    "    xaxis_title='Quality Attribute',\n",
    "    yaxis_title='Percentage of Discussions (%)',\n",
    "    legend_title='Communication Channel',\n",
    "    legend_orientation='h',\n",
    "    height=800,\n",
    ")\n",
    "\n",
    "\n",
    "fig.update_layout(\n",
    "    xaxis={'categoryorder':'total descending'},\n",
    "    yaxis_title='Percentage of Discussions (%)',\n",
    "    legend_title='Communication Channel'\n",
    ")\n",
    "fig.show()\n",
    "fig.write_image(\"figure_6_qa_by_channel.png\", scale=3)"
   ],
   "id": "7924b61901dbf0d6",
   "outputs": [
    {
     "name": "stdout",
     "output_type": "stream",
     "text": [
      "\n",
      "--- Table X: Percentage Distribution of QA Discussions by Channel ---\n",
      "| qa                | code_comment   | docs   | issue   | issue_comment   | release   | wiki   |\n",
      "|:------------------|:---------------|:-------|:--------|:----------------|:----------|:-------|\n",
      "| availability      | 45.8%          | 14.6%  | 19.1%   | 19.8%           | 0.1%      | 0.5%   |\n",
      "| deployability     | 32.8%          | 13.2%  | 24.6%   | 28.7%           | 0.2%      | 0.4%   |\n",
      "| energy efficiency | 50.1%          | 13.1%  | 18.2%   | 18.1%           | 0.2%      | 0.3%   |\n",
      "| integrability     | 52.0%          | 13.0%  | 17.8%   | 16.5%           | 0.1%      | 0.6%   |\n",
      "| interoperability  | 55.0%          | 15.9%  | 14.0%   | 14.6%           | 0.1%      | 0.5%   |\n",
      "| modifiability     | 52.5%          | 12.0%  | 17.9%   | 17.1%           | 0.1%      | 0.3%   |\n",
      "| performance       | 51.5%          | 12.8%  | 17.7%   | 17.7%           | 0.1%      | 0.3%   |\n",
      "| reliability       | 47.8%          | 12.3%  | 20.2%   | 19.3%           | 0.1%      | 0.3%   |\n",
      "| safety            | 48.9%          | 9.9%   | 20.7%   | 20.2%           | 0.1%      | 0.2%   |\n",
      "| security          | 56.2%          | 12.5%  | 15.6%   | 15.1%           | 0.1%      | 0.5%   |\n",
      "| testability       | 44.6%          | 7.7%   | 22.6%   | 24.7%           | 0.1%      | 0.4%   |\n",
      "| usability         | 44.7%          | 15.3%  | 19.2%   | 20.2%           | 0.1%      | 0.5%   |\n"
     ]
    },
    {
     "name": "stderr",
     "output_type": "stream",
     "text": [
      "C:\\Users\\Dmitrijs\\AppData\\Local\\Temp\\ipykernel_35168\\1796589770.py:11: FutureWarning:\n",
      "\n",
      "The default value of observed=False is deprecated and will change to observed=True in a future version of pandas. Specify observed=False to silence this warning and retain the current behavior\n",
      "\n",
      "C:\\Users\\Dmitrijs\\AppData\\Local\\Temp\\ipykernel_35168\\1796589770.py:31: FutureWarning:\n",
      "\n",
      "The default of observed=False is deprecated and will be changed to True in a future version of pandas. Pass observed=False to retain current behavior or observed=True to adopt the future default and silence this warning.\n",
      "\n"
     ]
    },
    {
     "data": {
      "application/vnd.plotly.v1+json": {
       "data": [
        {
         "insidetextanchor": "middle",
         "name": "code_comment",
         "text": [
          "45.8%",
          "32.8%",
          "50.1%",
          "52.0%",
          "55.0%",
          "52.5%",
          "51.5%",
          "47.8%",
          "48.9%",
          "56.2%",
          "44.6%",
          "44.7%"
         ],
         "textfont": {
          "color": "black"
         },
         "textposition": "inside",
         "x": [
          "availability",
          "deployability",
          "energy efficiency",
          "integrability",
          "interoperability",
          "modifiability",
          "performance",
          "reliability",
          "safety",
          "security",
          "testability",
          "usability"
         ],
         "y": {
          "dtype": "f8",
          "bdata": "jQAy6w/sRkBsbzVKr2pAQCB+NiUvCUlA06UPsV7/SUCIldwVdH9LQAfyRXxGQEpA6h44s7+6SUD/hN0uSehHQPIvu/SHdkhAbtVnnKMWTEBwSrWGmk1GQCE9MStLU0ZA"
         },
         "type": "bar"
        },
        {
         "insidetextanchor": "middle",
         "name": "docs",
         "text": [
          "14.6%",
          "13.2%",
          "13.1%",
          "13.0%",
          "15.9%",
          "12.0%",
          "12.8%",
          "12.3%",
          "9.9%",
          "12.5%",
          "7.7%",
          "15.3%"
         ],
         "textfont": {
          "color": "black"
         },
         "textposition": "inside",
         "x": [
          "availability",
          "deployability",
          "energy efficiency",
          "integrability",
          "interoperability",
          "modifiability",
          "performance",
          "reliability",
          "safety",
          "security",
          "testability",
          "usability"
         ],
         "y": {
          "dtype": "f8",
          "bdata": "PMHYY1pKLUD7KYQfHn8qQHtuuHO5PipAJH/Q/Cr0KUCz48TcCNcvQOYo1CHzDihA0b+Mk1WPKUBvlyS0AKEoQGdt7Ssi0yNA+wN9Gi8AKUCzKoOmfaUeQMNm6gUNgC5A"
         },
         "type": "bar"
        },
        {
         "insidetextanchor": "middle",
         "name": "issue",
         "text": [
          "19.1%",
          "24.6%",
          "18.2%",
          "17.8%",
          "14.0%",
          "17.9%",
          "17.7%",
          "20.2%",
          "20.7%",
          "15.6%",
          "22.6%",
          "19.2%"
         ],
         "textfont": {
          "color": "black"
         },
         "textposition": "inside",
         "x": [
          "availability",
          "deployability",
          "energy efficiency",
          "integrability",
          "interoperability",
          "modifiability",
          "performance",
          "reliability",
          "safety",
          "security",
          "testability",
          "usability"
         ],
         "y": {
          "dtype": "f8",
          "bdata": "wCJO4eoXM0BCAhMCMZU4QKuBOsyiPTJAKkl2fQDSMUBGtt9/FOsrQHlODOxX8jFAnAf8iFuyMUAFLrtKlzc0QMB1DfpVsDRAUUeaoq0oL0AlMz+g4aE2QKc8fwZFPzNA"
         },
         "type": "bar"
        },
        {
         "insidetextanchor": "middle",
         "name": "issue_comment",
         "text": [
          "19.8%",
          "28.7%",
          "18.1%",
          "16.5%",
          "14.6%",
          "17.1%",
          "17.7%",
          "19.3%",
          "20.2%",
          "15.1%",
          "24.7%",
          "20.2%"
         ],
         "textfont": {
          "color": "black"
         },
         "textposition": "inside",
         "x": [
          "availability",
          "deployability",
          "energy efficiency",
          "integrability",
          "interoperability",
          "modifiability",
          "performance",
          "reliability",
          "safety",
          "security",
          "testability",
          "usability"
         ],
         "y": {
          "dtype": "f8",
          "bdata": "DPXVCg3VM0BQGmaWHrQ8QDXBeCv7HDJAyR80vwp9MECHMTnBUjEtQGJxh1K1JTFAO+g9/Ki3MUDmunCNaVYzQKPzRhBYODRAmp8VOlQ0LkC9L60/d6c4QEOEm1s8OjRA"
         },
         "type": "bar"
        },
        {
         "insidetextanchor": "middle",
         "name": "release",
         "text": [
          "0.1%",
          "0.2%",
          "0.2%",
          "0.1%",
          "0.1%",
          "0.1%",
          "0.1%",
          "0.1%",
          "0.1%",
          "0.1%",
          "0.1%",
          "0.1%"
         ],
         "textfont": {
          "color": "black"
         },
         "textposition": "inside",
         "x": [
          "availability",
          "deployability",
          "energy efficiency",
          "integrability",
          "interoperability",
          "modifiability",
          "performance",
          "reliability",
          "safety",
          "security",
          "testability",
          "usability"
         ],
         "y": {
          "dtype": "f8",
          "bdata": "fgyjlrGFvz80tS9nZ8TIP+xLzCftFsU/FV1Nfmhntj9luO14n/OvP1dVOZehcrc/+qT61ymJtj/tY06ptyWsP+rHGO/LsbA/uFpm80+PwD/NcVfEU260P+LQ+qEBecA/"
         },
         "type": "bar"
        },
        {
         "insidetextanchor": "middle",
         "name": "wiki",
         "text": [
          "0.5%",
          "0.4%",
          "0.3%",
          "0.6%",
          "0.5%",
          "0.3%",
          "0.3%",
          "0.3%",
          "0.2%",
          "0.5%",
          "0.4%",
          "0.5%"
         ],
         "textfont": {
          "color": "black"
         },
         "textposition": "inside",
         "x": [
          "availability",
          "deployability",
          "energy efficiency",
          "integrability",
          "interoperability",
          "modifiability",
          "performance",
          "reliability",
          "safety",
          "security",
          "testability",
          "usability"
         ],
         "y": {
          "dtype": "f8",
          "bdata": "tts4fVaN3T9FC+QifQ7cPyBC/GxKXtI//s73SU835D+wFN5mfdndP2eTw5dlHtI/xvHdLQiS0D9Vi4YMZbbQP2GfsyeV/8c/Zl9idjVg4D+7h/lQFWnXP0v0ZlLwu98/"
         },
         "type": "bar"
        }
       ],
       "layout": {
        "template": {
         "data": {
          "histogram2dcontour": [
           {
            "type": "histogram2dcontour",
            "colorbar": {
             "outlinewidth": 0,
             "ticks": ""
            },
            "colorscale": [
             [
              0.0,
              "#0d0887"
             ],
             [
              0.1111111111111111,
              "#46039f"
             ],
             [
              0.2222222222222222,
              "#7201a8"
             ],
             [
              0.3333333333333333,
              "#9c179e"
             ],
             [
              0.4444444444444444,
              "#bd3786"
             ],
             [
              0.5555555555555556,
              "#d8576b"
             ],
             [
              0.6666666666666666,
              "#ed7953"
             ],
             [
              0.7777777777777778,
              "#fb9f3a"
             ],
             [
              0.8888888888888888,
              "#fdca26"
             ],
             [
              1.0,
              "#f0f921"
             ]
            ]
           }
          ],
          "choropleth": [
           {
            "type": "choropleth",
            "colorbar": {
             "outlinewidth": 0,
             "ticks": ""
            }
           }
          ],
          "histogram2d": [
           {
            "type": "histogram2d",
            "colorbar": {
             "outlinewidth": 0,
             "ticks": ""
            },
            "colorscale": [
             [
              0.0,
              "#0d0887"
             ],
             [
              0.1111111111111111,
              "#46039f"
             ],
             [
              0.2222222222222222,
              "#7201a8"
             ],
             [
              0.3333333333333333,
              "#9c179e"
             ],
             [
              0.4444444444444444,
              "#bd3786"
             ],
             [
              0.5555555555555556,
              "#d8576b"
             ],
             [
              0.6666666666666666,
              "#ed7953"
             ],
             [
              0.7777777777777778,
              "#fb9f3a"
             ],
             [
              0.8888888888888888,
              "#fdca26"
             ],
             [
              1.0,
              "#f0f921"
             ]
            ]
           }
          ],
          "heatmap": [
           {
            "type": "heatmap",
            "colorbar": {
             "outlinewidth": 0,
             "ticks": ""
            },
            "colorscale": [
             [
              0.0,
              "#0d0887"
             ],
             [
              0.1111111111111111,
              "#46039f"
             ],
             [
              0.2222222222222222,
              "#7201a8"
             ],
             [
              0.3333333333333333,
              "#9c179e"
             ],
             [
              0.4444444444444444,
              "#bd3786"
             ],
             [
              0.5555555555555556,
              "#d8576b"
             ],
             [
              0.6666666666666666,
              "#ed7953"
             ],
             [
              0.7777777777777778,
              "#fb9f3a"
             ],
             [
              0.8888888888888888,
              "#fdca26"
             ],
             [
              1.0,
              "#f0f921"
             ]
            ]
           }
          ],
          "contourcarpet": [
           {
            "type": "contourcarpet",
            "colorbar": {
             "outlinewidth": 0,
             "ticks": ""
            }
           }
          ],
          "contour": [
           {
            "type": "contour",
            "colorbar": {
             "outlinewidth": 0,
             "ticks": ""
            },
            "colorscale": [
             [
              0.0,
              "#0d0887"
             ],
             [
              0.1111111111111111,
              "#46039f"
             ],
             [
              0.2222222222222222,
              "#7201a8"
             ],
             [
              0.3333333333333333,
              "#9c179e"
             ],
             [
              0.4444444444444444,
              "#bd3786"
             ],
             [
              0.5555555555555556,
              "#d8576b"
             ],
             [
              0.6666666666666666,
              "#ed7953"
             ],
             [
              0.7777777777777778,
              "#fb9f3a"
             ],
             [
              0.8888888888888888,
              "#fdca26"
             ],
             [
              1.0,
              "#f0f921"
             ]
            ]
           }
          ],
          "surface": [
           {
            "type": "surface",
            "colorbar": {
             "outlinewidth": 0,
             "ticks": ""
            },
            "colorscale": [
             [
              0.0,
              "#0d0887"
             ],
             [
              0.1111111111111111,
              "#46039f"
             ],
             [
              0.2222222222222222,
              "#7201a8"
             ],
             [
              0.3333333333333333,
              "#9c179e"
             ],
             [
              0.4444444444444444,
              "#bd3786"
             ],
             [
              0.5555555555555556,
              "#d8576b"
             ],
             [
              0.6666666666666666,
              "#ed7953"
             ],
             [
              0.7777777777777778,
              "#fb9f3a"
             ],
             [
              0.8888888888888888,
              "#fdca26"
             ],
             [
              1.0,
              "#f0f921"
             ]
            ]
           }
          ],
          "mesh3d": [
           {
            "type": "mesh3d",
            "colorbar": {
             "outlinewidth": 0,
             "ticks": ""
            }
           }
          ],
          "scatter": [
           {
            "fillpattern": {
             "fillmode": "overlay",
             "size": 10,
             "solidity": 0.2
            },
            "type": "scatter"
           }
          ],
          "parcoords": [
           {
            "type": "parcoords",
            "line": {
             "colorbar": {
              "outlinewidth": 0,
              "ticks": ""
             }
            }
           }
          ],
          "scatterpolargl": [
           {
            "type": "scatterpolargl",
            "marker": {
             "colorbar": {
              "outlinewidth": 0,
              "ticks": ""
             }
            }
           }
          ],
          "bar": [
           {
            "error_x": {
             "color": "#2a3f5f"
            },
            "error_y": {
             "color": "#2a3f5f"
            },
            "marker": {
             "line": {
              "color": "#E5ECF6",
              "width": 0.5
             },
             "pattern": {
              "fillmode": "overlay",
              "size": 10,
              "solidity": 0.2
             }
            },
            "type": "bar"
           }
          ],
          "scattergeo": [
           {
            "type": "scattergeo",
            "marker": {
             "colorbar": {
              "outlinewidth": 0,
              "ticks": ""
             }
            }
           }
          ],
          "scatterpolar": [
           {
            "type": "scatterpolar",
            "marker": {
             "colorbar": {
              "outlinewidth": 0,
              "ticks": ""
             }
            }
           }
          ],
          "histogram": [
           {
            "marker": {
             "pattern": {
              "fillmode": "overlay",
              "size": 10,
              "solidity": 0.2
             }
            },
            "type": "histogram"
           }
          ],
          "scattergl": [
           {
            "type": "scattergl",
            "marker": {
             "colorbar": {
              "outlinewidth": 0,
              "ticks": ""
             }
            }
           }
          ],
          "scatter3d": [
           {
            "type": "scatter3d",
            "line": {
             "colorbar": {
              "outlinewidth": 0,
              "ticks": ""
             }
            },
            "marker": {
             "colorbar": {
              "outlinewidth": 0,
              "ticks": ""
             }
            }
           }
          ],
          "scattermap": [
           {
            "type": "scattermap",
            "marker": {
             "colorbar": {
              "outlinewidth": 0,
              "ticks": ""
             }
            }
           }
          ],
          "scattermapbox": [
           {
            "type": "scattermapbox",
            "marker": {
             "colorbar": {
              "outlinewidth": 0,
              "ticks": ""
             }
            }
           }
          ],
          "scatterternary": [
           {
            "type": "scatterternary",
            "marker": {
             "colorbar": {
              "outlinewidth": 0,
              "ticks": ""
             }
            }
           }
          ],
          "scattercarpet": [
           {
            "type": "scattercarpet",
            "marker": {
             "colorbar": {
              "outlinewidth": 0,
              "ticks": ""
             }
            }
           }
          ],
          "carpet": [
           {
            "aaxis": {
             "endlinecolor": "#2a3f5f",
             "gridcolor": "white",
             "linecolor": "white",
             "minorgridcolor": "white",
             "startlinecolor": "#2a3f5f"
            },
            "baxis": {
             "endlinecolor": "#2a3f5f",
             "gridcolor": "white",
             "linecolor": "white",
             "minorgridcolor": "white",
             "startlinecolor": "#2a3f5f"
            },
            "type": "carpet"
           }
          ],
          "table": [
           {
            "cells": {
             "fill": {
              "color": "#EBF0F8"
             },
             "line": {
              "color": "white"
             }
            },
            "header": {
             "fill": {
              "color": "#C8D4E3"
             },
             "line": {
              "color": "white"
             }
            },
            "type": "table"
           }
          ],
          "barpolar": [
           {
            "marker": {
             "line": {
              "color": "#E5ECF6",
              "width": 0.5
             },
             "pattern": {
              "fillmode": "overlay",
              "size": 10,
              "solidity": 0.2
             }
            },
            "type": "barpolar"
           }
          ],
          "pie": [
           {
            "automargin": true,
            "type": "pie"
           }
          ]
         },
         "layout": {
          "autotypenumbers": "strict",
          "colorway": [
           "#636efa",
           "#EF553B",
           "#00cc96",
           "#ab63fa",
           "#FFA15A",
           "#19d3f3",
           "#FF6692",
           "#B6E880",
           "#FF97FF",
           "#FECB52"
          ],
          "font": {
           "color": "#2a3f5f"
          },
          "hovermode": "closest",
          "hoverlabel": {
           "align": "left"
          },
          "paper_bgcolor": "white",
          "plot_bgcolor": "#E5ECF6",
          "polar": {
           "bgcolor": "#E5ECF6",
           "angularaxis": {
            "gridcolor": "white",
            "linecolor": "white",
            "ticks": ""
           },
           "radialaxis": {
            "gridcolor": "white",
            "linecolor": "white",
            "ticks": ""
           }
          },
          "ternary": {
           "bgcolor": "#E5ECF6",
           "aaxis": {
            "gridcolor": "white",
            "linecolor": "white",
            "ticks": ""
           },
           "baxis": {
            "gridcolor": "white",
            "linecolor": "white",
            "ticks": ""
           },
           "caxis": {
            "gridcolor": "white",
            "linecolor": "white",
            "ticks": ""
           }
          },
          "coloraxis": {
           "colorbar": {
            "outlinewidth": 0,
            "ticks": ""
           }
          },
          "colorscale": {
           "sequential": [
            [
             0.0,
             "#0d0887"
            ],
            [
             0.1111111111111111,
             "#46039f"
            ],
            [
             0.2222222222222222,
             "#7201a8"
            ],
            [
             0.3333333333333333,
             "#9c179e"
            ],
            [
             0.4444444444444444,
             "#bd3786"
            ],
            [
             0.5555555555555556,
             "#d8576b"
            ],
            [
             0.6666666666666666,
             "#ed7953"
            ],
            [
             0.7777777777777778,
             "#fb9f3a"
            ],
            [
             0.8888888888888888,
             "#fdca26"
            ],
            [
             1.0,
             "#f0f921"
            ]
           ],
           "sequentialminus": [
            [
             0.0,
             "#0d0887"
            ],
            [
             0.1111111111111111,
             "#46039f"
            ],
            [
             0.2222222222222222,
             "#7201a8"
            ],
            [
             0.3333333333333333,
             "#9c179e"
            ],
            [
             0.4444444444444444,
             "#bd3786"
            ],
            [
             0.5555555555555556,
             "#d8576b"
            ],
            [
             0.6666666666666666,
             "#ed7953"
            ],
            [
             0.7777777777777778,
             "#fb9f3a"
            ],
            [
             0.8888888888888888,
             "#fdca26"
            ],
            [
             1.0,
             "#f0f921"
            ]
           ],
           "diverging": [
            [
             0,
             "#8e0152"
            ],
            [
             0.1,
             "#c51b7d"
            ],
            [
             0.2,
             "#de77ae"
            ],
            [
             0.3,
             "#f1b6da"
            ],
            [
             0.4,
             "#fde0ef"
            ],
            [
             0.5,
             "#f7f7f7"
            ],
            [
             0.6,
             "#e6f5d0"
            ],
            [
             0.7,
             "#b8e186"
            ],
            [
             0.8,
             "#7fbc41"
            ],
            [
             0.9,
             "#4d9221"
            ],
            [
             1,
             "#276419"
            ]
           ]
          },
          "xaxis": {
           "gridcolor": "white",
           "linecolor": "white",
           "ticks": "",
           "title": {
            "standoff": 15
           },
           "zerolinecolor": "white",
           "automargin": true,
           "zerolinewidth": 2
          },
          "yaxis": {
           "gridcolor": "white",
           "linecolor": "white",
           "ticks": "",
           "title": {
            "standoff": 15
           },
           "zerolinecolor": "white",
           "automargin": true,
           "zerolinewidth": 2
          },
          "scene": {
           "xaxis": {
            "backgroundcolor": "#E5ECF6",
            "gridcolor": "white",
            "linecolor": "white",
            "showbackground": true,
            "ticks": "",
            "zerolinecolor": "white",
            "gridwidth": 2
           },
           "yaxis": {
            "backgroundcolor": "#E5ECF6",
            "gridcolor": "white",
            "linecolor": "white",
            "showbackground": true,
            "ticks": "",
            "zerolinecolor": "white",
            "gridwidth": 2
           },
           "zaxis": {
            "backgroundcolor": "#E5ECF6",
            "gridcolor": "white",
            "linecolor": "white",
            "showbackground": true,
            "ticks": "",
            "zerolinecolor": "white",
            "gridwidth": 2
           }
          },
          "shapedefaults": {
           "line": {
            "color": "#2a3f5f"
           }
          },
          "annotationdefaults": {
           "arrowcolor": "#2a3f5f",
           "arrowhead": 0,
           "arrowwidth": 1
          },
          "geo": {
           "bgcolor": "white",
           "landcolor": "#E5ECF6",
           "subunitcolor": "white",
           "showland": true,
           "showlakes": true,
           "lakecolor": "white"
          },
          "title": {
           "x": 0.05
          },
          "mapbox": {
           "style": "light"
          }
         }
        },
        "legend": {
         "title": {
          "text": "Communication Channel"
         },
         "orientation": "h"
        },
        "barmode": "stack",
        "xaxis": {
         "title": {
          "text": "Quality Attribute"
         },
         "categoryorder": "total descending"
        },
        "yaxis": {
         "title": {
          "text": "Percentage of Discussions (%)"
         }
        },
        "height": 800
       },
       "config": {
        "plotlyServerURL": "https://plot.ly"
       }
      }
     },
     "metadata": {},
     "output_type": "display_data"
    }
   ],
   "execution_count": 51
  },
  {
   "metadata": {},
   "cell_type": "markdown",
   "source": "## RQ4\n",
   "id": "d5feec9a5801c81c"
  },
  {
   "metadata": {
    "ExecuteTime": {
     "end_time": "2025-08-21T02:59:37.457418Z",
     "start_time": "2025-08-21T02:59:37.425037Z"
    }
   },
   "cell_type": "code",
   "source": [
    "import pandas as pd\n",
    "\n",
    "# --- Guideline Example Extraction Script ---\n",
    "# ASSUMPTION: The DataFrame 's3_df' (df[df['s3_passed'] == True]) already exists.\n",
    "\n",
    "# 1. Define the key tactics we want to find examples for.\n",
    "# These are the most prominent tactics from your previous analysis for each guideline.\n",
    "key_tactics = [\n",
    "    'Bound Execution Times',      # For the Performance/Resource Management guideline\n",
    "    'Condition Monitoring',       # For the Safety/Correctness guideline\n",
    "    'Co-locate related responsibilities' # For the Usability/UI Separation guideline\n",
    "]\n",
    "\n",
    "# A dictionary to store the results\n",
    "top_examples = {}\n",
    "\n",
    "# 2. Loop through each key tactic to find its top 10 examples.\n",
    "for tactic in key_tactics:\n",
    "    # Filter the DataFrame for the current tactic\n",
    "    tactic_df = s3_df[s3_df['s3_tactic'] == tactic]\n",
    "\n",
    "    # Sort by 'nsimilar' to find the most popular/common discussions and get the top 10\n",
    "    top_10 = tactic_df.sort_values(by='nsimilar', ascending=False).head(10)\n",
    "\n",
    "    # Store the results\n",
    "    top_examples[tactic] = top_10[['sentence', 'nsimilar', 'url']]\n",
    "\n",
    "# 3. Print the results in a clear format.\n",
    "for tactic, examples_df in top_examples.items():\n",
    "    print(f\"--- Top 10 Examples for: {tactic} ---\")\n",
    "    if examples_df.empty:\n",
    "        print(\"No examples found for this tactic.\")\n",
    "    else:\n",
    "        for index, row in examples_df.iterrows():\n",
    "            print(f\"  - (nsimilar: {row['nsimilar']}) {row['sentence']}\")\n",
    "            print(f\"    (Source: {row['url']})\\n\")\n",
    "    print(\"\\n\" + \"=\"*80 + \"\\n\")"
   ],
   "id": "70213cea079cf15a",
   "outputs": [
    {
     "name": "stdout",
     "output_type": "stream",
     "text": [
      "--- Top 10 Examples for: Bound Execution Times ---\n",
      "  - (nsimilar: 8) See if the pointer expression is an AddRec like {base,+,1} on the current loop, which indicates a strided load. If we have something else, it's a random load we can't handle.\n",
      "    (Source: https://github.com/root-project/root/tree/v6-32-06/interpreter/llvm-project/llvm/lib/Target/Hexagon/HexagonLoopIdiomRecognition.cpp)\n",
      "\n",
      "  - (nsimilar: 7) llvm-opt-report - generate optimization report from YAML. ========================================================. .. program:: llvm-opt-report. SYNOPSIS. --------. :program:`llvm-opt-report` [*options*] [input]. DESCRIPTION. -----------. :program:`llvm-opt-report` is a tool to generate an optimization report from YAML optimization record files. You need to create an input YAML optimization record file before running :program:`llvm-opt-report`. It provides information on the execution time, memory usage, and other details of each optimization pass. .. code-block:: console. $ clang -c foo.c -o foo.o -O3 -fsave-optimization-record. Then, you create a report using the :program:`llvm-opt-report` command with the YAML optimization record file :file:`foo.opt.yaml` as input. .. code-block:: console. $ llvm-opt-report foo.opt.yaml -o foo.lst. foo.lst is the generated optimization report. .. code-block::. < foo.c. 1 | void bar();. 2 | void foo() { bar(); }. 3 |. 4 | void Test(int *res, int *c, int *d, int *p, int n) {. 5 | int i;. 6 |. 7 | pragma clang loop vectorize(assume_safety). 8 V4,1 | for (i = 0; i < 1600; i++) {. 9 | res[i] = (p[i] == 0) ? res[i] : res[i] + d[i];. 10 | }. 11 |. 12 U16 | for (i = 0; i < 16; i++) {. 13 | res[i] = (p[i] == 0) ? res[i] : res[i] + d[i];. 14 | }. 15 |. 16 I | foo();. 17 |. 18 | foo(); bar(); foo();. I | ^. I | ^. 19 | }. 20 |. Symbols printed on the left side of the program indicate what kind of optimization was performed. The meanings of the symbols are as follows:. - I: The function is inlined. - U: The loop is unrolled. The following number indicates the unroll factor. - V: The loop is vectorized. The following numbers indicate the vector length and the interleave factor. .. note:: . If a specific line of code is output twice, it means that the same optimization pass was applied to that . line of code twice, and the pass was able to further optimize the code on the second iteration. OPTIONS. -------. If ``input`` is ``-`` or omitted\n",
      "    (Source: https://github.com/root-project/root/tree/v6-32-06/interpreter/llvm-project/llvm/docs/CommandGuide/llvm-opt-report.rst)\n",
      "\n",
      "  - (nsimilar: 6) OK, one more change. The log functions now all return the current time and have the optional parameter `time: datetime`. If you pass something there, the time will be logged:. ```py. start = log.info('foo'). do stuff. log.hint('bar', time=start) --> bar (00:00:02). ```. You can customize where the time ends up via `log.*('blah {time_passed}: blub', time=...)`\n",
      "    (Source: https://github.com/scverse/scanpy/pull/676)\n",
      "\n",
      "  - (nsimilar: 6) Scale; This contribution holds modifications to the existing scale function which turns out to be a faster implementation than the original one. We have introduced flavors - default and use_fastpp , where use_fastpp is our faster implementation of the scale function.The scale function modification provides an overall speedup of approx **~2x** in comparison to the already existing scale function. **Usage** : sc.pp.scale(adata,max_value=10,flavor='use_fastpp')\n",
      "    (Source: https://github.com/scverse/scanpy/pull/2457)\n",
      "\n",
      "  - (nsimilar: 5) PHI instructions that use an alloca and are subsequently loaded can be rewritten to load both input pointers in the pred blocks and then PHI the results, allowing the load of the alloca to be promoted. From this: %P2 = phi [i32* %Alloca, i32* %Other] %V = load i32* %P2 to: %V1 = load i32* %Alloca -> will be mem2reg'd ... %V2 = load i32* %Other ... %V = phi [i32 %V1, i32 %V2] We can do this to a select if its only uses are loads and if the operands to the select can be loaded unconditionally. FIXME: This should be hoisted into a generic utility, likely in Transforms/Util/Local.h\n",
      "    (Source: https://github.com/root-project/root/tree/v6-32-06/interpreter/llvm-project/llvm/lib/Transforms/Scalar/SROA.cpp)\n",
      "\n",
      "  - (nsimilar: 5) Hey @ywen1407! The ideal case is that you don't pre-filter the gene sets before concatenating. Then, if you have aligned both sets of samples to the same genome, everything should be fine and you can filter out genes afterwards. Otherwise an outer join would only assume all values you filtered out were 0, which is probably not the way forward. That's why the only decent option you really have is an inner join. I assume you should have the unfiltered objects somewhere though. Regarding memory use: ComBat is something we (actually, this was thanks to @Marius1311) just re-implemented from python and R code that was flying around. We do not generally optimize methods that were published elsewhere. How much RAM are you using that it's crashing? I think Marius even made ComBat usable for sparse matrices, so it's already using less memory than it was before. 38K cells doesn't sound like something that would require more than 16GB RAM. I can run datsasets with 50k locally. You can of course always try other batch correction/data integration methods that are less memory intensive such as BBKNN or scVI. We tested scalability of data integration tools (also BBKNN and ComBat memory use) here: https://www.biorxiv.org/content/10.1101/2020.05.22.111161v2. However, ComBat is one of the least memory intensive methods out there... so maybe there is little room for optimization here...\n",
      "    (Source: https://github.com/scverse/scanpy/issues/1431)\n",
      "\n",
      "  - (nsimilar: 5) count < and > to be able to skip template contents\n",
      "    (Source: https://github.com/root-project/root/tree/v6-32-06/bindings/pyroot/cppyy/cppyy-backend/clingwrapper/src/clingwrapper.cxx)\n",
      "\n",
      "  - (nsimilar: 5) Enable configurable GPU memory allocation of call_variants; To port DeepVariant to Apache Spark, the resource allocation should be configurable, including CPU vCores, main memory and GPU memory. In this pull request, we add two more parameters (enable_configurable_gpu and per_process_gpu_memory_fraction) to let users have more flexibility to allocate the resource of GPU memory. If enable_configurable_gpu is true, each call_variants process will allocate GPU memory by the value of per_process_gpu_memory_fraction. (Default is 100) Please help to check whether the modification is proper or not. .\n",
      "    (Source: https://github.com/google/deepvariant/pull/159)\n",
      "\n",
      "  - (nsimilar: 5) This placement form of operator new[] uses the ASTContext's allocator for obtaining memory. We intentionally avoid using a nothrow specification here so that the calls to this operator will not perform a null check on the result -- the underlying allocator never returns null pointers. Usage looks like this (assuming there's an ASTContext Context in scope): @code Default alignment (8) char *data = new (Context) char[10]; Specific alignment char *data = new (Context, 4) char[10]; @endcode Memory allocated through this placement new[] operator does not need to be explicitly freed, as ASTContext will free all of this memory when it gets destroyed. Please note that you cannot use delete on the pointer. @param Bytes The number of bytes to allocate. Calculated by the compiler. @param C The ASTContext that provides the allocator. @param Alignment The alignment of the allocated memory (if the underlying allocator supports it). @return The allocated memory. Could be nullptr.\n",
      "    (Source: https://github.com/root-project/root/tree/v6-32-06/interpreter/llvm-project/clang/include/clang/AST/ASTContext.h)\n",
      "\n",
      "  - (nsimilar: 4) Add latency if DefMI is a real instruction. Transients get latency 0.\n",
      "    (Source: https://github.com/root-project/root/tree/v6-32-06/interpreter/llvm-project/llvm/lib/CodeGen/MachineTraceMetrics.cpp)\n",
      "\n",
      "\n",
      "================================================================================\n",
      "\n",
      "--- Top 10 Examples for: Condition Monitoring ---\n",
      "  - (nsimilar: 9) Run the event loop and merge histograms of the respective processes RunGraphs allows to run the event loops of the separate RDataFrame graphs concurrently. This results in an improved usage of the available resources if each separate RDataFrame can not utilize all available resources, e.g., because not enough data is available.\n",
      "    (Source: https://github.com/root-project/root/tree/v6-32-06/tutorials/dataframe/df105_WBosonAnalysis.py)\n",
      "\n",
      "  - (nsimilar: 8) This function takes an error, and appends a string of text to the end of that error. Since appending to an Error isn't supported behavior of an Error, this function technically creates a new error with the combined message and consumes the old error. @param Err Source error. @param After Text to append at the end of Err's error message.\n",
      "    (Source: https://github.com/root-project/root/tree/v6-32-06/interpreter/llvm-project/llvm/lib/InterfaceStub/ELFObjHandler.cpp)\n",
      "\n",
      "  - (nsimilar: 6) Run the event loop and merge histograms of the respective processes RunGraphs allows to run the event loops of the separate RDataFrame graphs concurrently. This results in an improved usage of the available resources if each separate RDataFrame can not utilize all available resources, e.g., because not enough data is available.\n",
      "    (Source: https://github.com/root-project/root/tree/v6-32-06/tutorials/dataframe/df105_WBosonAnalysis.py)\n",
      "\n",
      "  - (nsimilar: 5) @(#)root/test:$name: $:$id: stressHistogram.cxx,v 1.15 2002/10/25 10:47:51 rdm exp $ Authors: David Gonzalez Maline November 2008 Here there is a set of tests for the histogram classes (including // histograms and profiles). The methods tested work on: // 1. Projection testing (with and without weights) // 2. Rebinning // 3. Addition, multiplication an division operations. // 4. Building and copying instances. // 5. I/O functionality (including reference with older versions). // 6. Labeling. // 7. Interpolation // To see the tests individually, at the bottom of the file the tests // are exectued using the structure TTestSuite, that defines the // subset, the number of routines to be tested as well as the pointes // for these. Every tests is mean to be simple enough to be understood // without much comments. // Finally, for debugging reasons, the struct compareOptions can be // used to define the level of output of the tests, beging set // generally for the whole suit in defaultEqualOptions. // >> stressHistogram 1 : to print result for all tests // >> stressHistogram 2 : ro print each comparison, done for each bin // An example of output when all the tests run OK is shown below: // Starting stress H I S T O G R A M * Test 1: Testing Histogram Projections without weights....................OK Test 2: Testing Profile Projections without weights......................OK Test 3: Testing Histogram Projections with weights.......................OK Test 4: Testing Profile Projections with weights.......................OK Test 5: Projection with Range for Histograms and Profiles................OK Test 6: Histogram Rebinning..............................................OK Test 7: Add tests for 1D, 2D and 3D Histograms and Profiles..............OK Test 8: Multiply tests for 1D, 2D and 3D Histograms......................OK Test 9: Divide tests for 1D, 2D and 3D Histograms........................OK Test 10: Copy tests for 1D, 2D \n",
      "    (Source: https://github.com/root-project/root/tree/v6-32-06/test/stressHistogram.cxx)\n",
      "\n",
      "  - (nsimilar: 4) Math domain error in rank_genes_groups function; I get the error below when trying to run the following:. `>>> sc.tl.rank_genes_groups(adata, louvain', groups=['5','16','19','30'], reference='0', method='wilcoxon')`. ```bash. C:\\Users\\myuser\\Anaconda3\\lib\\site-packages\\scanpy\\tools\\_rank_genes_groups.py:298: RuntimeWarning: overflow encountered in long_scalars. (n_active * m_active * (n_active + m_active + 1) / 12)). ---------------------------------------------------------------------------. ValueError Traceback (most recent call last). <ipython-input-160-dd19114ff660> in <module>. 1 adata.obs['groups'] = ['group 1'= ['0'], group 2'= ['5','16','19','30']]. ----> 2 sc.tl.rank_genes_groups(adata, louvain', groups=['5','16','19','30'], reference='0', method='wilcoxon') wilcoxon-rank-sum/mann-whitney u test, the default of Seurat. ~\\Anaconda3\\lib\\site-packages\\scanpy\\tools\\_rank_genes_groups.py in rank_genes_groups(adata, groupby, use_raw, groups, reference, n_genes, rankby_abs, key_added, copy, method, corr_method, **kwds). 296 . 297 scores = (scores - (n_active * (n_active + m_active + 1) / 2)) / sqrt(. --> 298 (n_active * m_active * (n_active + m_active + 1) / 12)). 299 scores[np.isnan(scores)] = 0. 300 pvals = 2 * stats.distributions.norm.sf(np.abs(scores)). ValueError: math domain error. ```. Here `adata` is real data from our lab, not the tutorial data. Have been trying to replicate the cluster analysis tutorial. All previous steps work fine. Interestingly, if I remove group 5 from the list of groups it works. Also, this error only happens with the `wilcoxon` method, not with `t-test`.\n",
      "    (Source: https://github.com/scverse/scanpy/issues/530)\n",
      "\n",
      "  - (nsimilar: 4) Creates test code by generating and organizing these functions into the test case. The test case consists of an outer function setup to invoke an inner function within an environment having multiple catch and single finally blocks. This inner function is also setup to invoke a throw function within an evironment similar in nature to the outer function's catch and finally blocks. Each of these two functions catch mutually exclusive subsets (even or odd) of the type info types configured for this this. All generated functions have a runtime argument which holds a type info type to throw that each function takes and passes it to the inner one if such a inner function exists. This type info type is looked at by the generated throw function to see whether or not it should throw a generated exception with the same type info type, or instead call a supplied a function which in turn will throw a foreign exception. @param module code for module instance @param builder builder instance @param fpm a function pass manager holding optional IR to IR transformations @param nativeThrowFunctName name of external function which will throw a foreign exception @returns outermost generated test function.\n",
      "    (Source: https://github.com/root-project/root/tree/v6-32-06/interpreter/llvm-project/llvm/examples/ExceptionDemo/ExceptionDemo.cpp)\n",
      "\n",
      "  - (nsimilar: 4) Sorry I missed the logging. I also didn't see the `sc.settings.logfile` option, which obviously makes absolute sense and is convenient to have persistent records when working interactively with anndata objects. I guess just more consistent logging across scanpy functions would be really great. Something like `sc.logging.get_operations(adata_id=id(adata))` would also be super cool, but would it be able to retrieve records of operations performed within rounds of object serialization? e.g.:. ```python. adata = sc.read_10x_h5(\"./10x_run/outs/filtered_gene_matrix.h5\"). sc.pp.normalize_per_cell(adata, 1000). sc.pp.log1p(adata). sc.pp.pca(adata). adata.write(\"./cache/01_simple_process.h5ad\"). adata = sc.read(\"./cache/01_simple_process.h5ad\"). sc.pp.scale(adata). adata.write(\"./cache/01_simple_process.h5ad\"). print(sc.logging.get_operations(adata_id=id(adata))). ```. would probably forget the first set of operations? ```. Where id(1) is a stand in for value like `id(adata)`. {\"call\": scale\", adata_id\": id(1)}. {\"call\": write\", args : {\"filename\": ./cache/01_simple_process.h5ad\"}, adata_id\": id(1)}. ```. I guess one solution would be to follow the path of ids up the log to retrieve all which seems doable, so this could be a good system. The one thing this wouldn't cover though is persistence within the h5ad object itself. This would be useful in the case of sharing the object with someone for example. As I mentioned before, I'm not sure this is a widespread use case yet, but could be useful.\n",
      "    (Source: https://github.com/scverse/scanpy/issues/472)\n",
      "\n",
      "  - (nsimilar: 4) Hi,. `sc.tl.rank_genes_groups()` treats each gene as an independent variable in the test. Thus, the only difference if you were to subset the genes would be that the multiple testing correction would be over fewer genes. You can also do that manually by looking at the `adata.uns['rank_genes']['pvals'][CLUSTER_ID]` and doing the multiple-testing correction yourself over the gene set you care about. However, the p-values of this test are inflated anyway, and therefore they should be used with caution. You should be able to extract your test results of interest by doing something along the lines of this:. ```. CLUST_ID = 0. gene_list = ['Gabrg1', Ntrk1', Htr1a', Plaur', Il31ra', Gabrg3', P2rx3', Oprk1', P2ry1', Cnih3']. gene_mask = [gene in gene_list for gene in adata.uns['rank_genes']['names'][CLUST_ID]]. results = adata.uns['rank_genes']['pvals'][CLUST_ID][gene_mask]. ```. Then you need to perform multiple testing correction over those p-values. And that would be the result you would get from a subsetting. However, multiple-testing over only those values, assumes you will not use the other gene results for anything. If you use the other gene results for something else, then you should just use the results of `sc.tl.rank_genes_groups()` as it is. Also note that `sc.tl.rank_genes_groups()` doesn't really tell you the contribution of genes to the clustering, but it just tells you what genes are characteristic of a cluster in the output. Those aren't the same things. For example, one gene could have been responsible for partitioning the data into 2 parts, but then after subclustering those 2 parts it may not show up as a marker gene in the `sc.tl.rank_genes_groups` results.\n",
      "    (Source: https://github.com/scverse/scanpy/issues/748)\n",
      "\n",
      "  - (nsimilar: 4) Project specific IO is interesting but IMO makes it even more complicated in some ways. The current biggest problem we face is that no one knows where to go to read certain formats.... scanpy? muon? squidpy? Scanpy has read visium but squidpy is the spatial package? I can analyze atac data in scanpy but need to use muon to read the file? Seurat has basically every reader one would need. This kind of fractured environment is not going to help us gain ground. > Who manages the sub-packages? Scverse (also it's one package not many). We are talking about 5-15 readers that have been touched a handful of times in 4-5 years. I don't think this is a complicated package to maintain. Agree that one person needs to take the lead on releases (probably very infrequent). > I feel like complicated dependency management was what we were trying to avoid here. Where is the complicated dependency management? We have a core set of readers (h5, pandas, scipy) and more complex readers (lazy import). We can have a conda env file too for everything if we want. Even anndata lazy imports loom for example. It's a small price to pay for ecosystem synchronization and enhanced user experience. > Packages which read in package specific formats with a minimal set of dependencies. It's also unclear to me what package specific stuff muon has in particular. The way I see it there's one `read_10x_h5(return_anndata=True, return_mudata=False, gex_only=None)` I don't think muon is loading any extra information or putting it in any package specific places? > How does this impact users vs. developers? Developers: (1) export `scio` readers into their packages, can contribute improvements to readers, (2), access to many more practical readers for their packages (scvi-tools has no 10x h5 reader because we don't feel the need to depend on scanpy for one function). Users: (1) no impact if they continue using the packages they like (e.g., scanpy reader will be completely unchanged). (2) Can go ahead and just use\n",
      "    (Source: https://github.com/scverse/scanpy/issues/1387)\n",
      "\n",
      "  - (nsimilar: 4) OK, one more change. The log functions now all return the current time and have the optional parameter `time: datetime`. If you pass something there, the time will be logged:. ```py. start = log.info('foo'). do stuff. log.hint('bar', time=start) --> bar (00:00:02). ```. You can customize where the time ends up via `log.*('blah {time_passed}: blub', time=...)`\n",
      "    (Source: https://github.com/scverse/scanpy/pull/676)\n",
      "\n",
      "\n",
      "================================================================================\n",
      "\n",
      "--- Top 10 Examples for: Co-locate related responsibilities ---\n",
      "  - (nsimilar: 10) Payload Management APIs (Cloned from absl::Status) A payload may be attached to a status to provide additional context to an error that may not be satisfied by an existing `tsl::error::Code`. Typically, this payload serves one of several purposes: It may provide more fine-grained semantic information about the error to facilitate actionable remedies. It may provide human-readable contexual information that is more appropriate to display to an end user. A payload consists of a [key,value] pair, where the key is a string referring to a unique type URL and the value is an object of type `absl::Cord` to hold the contextual data. The type URL should be unique and follow the format of a URL (https://en.wikipedia.org/wiki/URL) and, ideally, provide some documentation or schema on how to interpret its associated data. For example, the default type URL for a protobuf message type is type.googleapis.com/packagename.messagename\". Other custom wire formats should define the format of type URL in a similar practice so as to minimize the chance of conflict between type URLs. Users should ensure that the type URL can be mapped to a concrete C++ type if they want to deserialize the payload and read it effectively. To attach a payload to a status object, call `Status::SetPayload()`, passing it the type URL and an `absl::Cord` of associated data. Similarly, to extract the payload from a status, call `Status::GetPayload()`. You may attach multiple payloads (with differing type URLs) to any given status object, provided that the status is currently exhibiting an error code (i.e. is not OK). TODO: Use absl::Cord for payload value type. The Payload-related APIs are cloned from absl::Status. Returns the payload of a status given its unique `type_url` key, if present.\n",
      "    (Source: https://github.com/google/deepvariant/tree/v1.6.1/third_party/nucleus/core/status.h)\n",
      "\n",
      "  - (nsimilar: 9) \\file \\ingroup tutorial_fit \\notebook -js Estimate the error in the integral of a fitted function taking into account the errors in the parameters resulting from the fit. The error is estimated also using the correlations values obtained from the fit run the macro doing: ~~~{.cpp} .x ErrorIntegral.C ~~~ After having computed the integral and its error using the integral and the integral error using the generic functions TF1::Integral and TF1::IntegralError, we compute the integrals and its error analytically using the fact that the fitting function is \\f$ f(x) = p[1]* sin(p[0]*x) \\f$. Therefore we have: integral in [0,1] : `ic = p[1]* (1-std::cos(p[0]) )/p[0]` derivative of integral with respect to p0: `c0c = p[1] * (std::cos(p[0]) + p[0]*std::sin(p[0]) -1.)/p[0]/p[0]` derivative of integral with respect to p1: `c1c = (1-std::cos(p[0]) )/p[0]` and then we can compute the integral error using error propagation and the covariance matrix for the parameters p obtained from the fit. integral error : `sic = std::sqrt( c0c*c0c * covMatrix(0,0) + c1c*c1c * covMatrix(1,1) + 2.* c0c*c1c * covMatrix(0,1))` Note that, if possible, one should fit directly the function integral, which are the number of events of the different components (e.g. signal and background). In this way one obtains a better and more correct estimate of the integrals uncertainties, since they are obtained directly from the fit without using the approximation of error propagation. This is possible in ROOT. when using the TF1NormSum class, see the tutorial fitNormSum.C \\macro_image \\macro_output \\macro_code \\author Lorenzo Moneta\n",
      "    (Source: https://github.com/root-project/root/tree/v6-32-06/tutorials/fit/ErrorIntegral.C)\n",
      "\n",
      "  - (nsimilar: 8) We have reads that support ref, alt1, alt2 and alt3 in the pileup. Alt3 doesn't have enough support to be a real alt allele. Because there are insertion and deletion alleles we have a complex mapping between input alleles and the resulting Variant alleles. Some reads support ref and won't show up in the support map; the reads supporting alt3 get mapped to supporting the kSupportingUncalledAllele allele, and the reads for the insertion and deletion need to map properly from their initial read alleles to different variant alleles.\n",
      "    (Source: https://github.com/google/deepvariant/tree/v1.6.1/deepvariant/variant_calling_multisample_trio_test.cc)\n",
      "\n",
      "  - (nsimilar: 7) For a very rare case, all of the inputs to the linker are InputArg. If that happens, just use the first InputInfo.\n",
      "    (Source: https://github.com/root-project/root/tree/v6-32-06/interpreter/llvm-project/clang/lib/Driver/ToolChains/AIX.cpp)\n",
      "\n",
      "  - (nsimilar: 7) For a very rare case, all of the inputs to the linker are InputArg. If that happens, just use the first InputInfo.\n",
      "    (Source: https://github.com/root-project/root/tree/v6-32-06/interpreter/llvm-project/clang/lib/Driver/ToolChains/AIX.cpp)\n",
      "\n",
      "  - (nsimilar: 7) For a very rare case, all of the inputs to the linker are InputArg. If that happens, just use the first InputInfo.\n",
      "    (Source: https://github.com/root-project/root/tree/v6-32-06/interpreter/llvm-project/clang/lib/Driver/ToolChains/AIX.cpp)\n",
      "\n",
      "  - (nsimilar: 7) Hi @LiYi0604,. Just change your script to the following, and it should run:. ```. docker run \\. -v /data2/share/home/liyi/TEs/dv/input\":\"/input \\. -v /data2/share/home/liyi/TEs/dv/output\":\"/output \\. google/deepvariant:\"1.5.0 \\. /opt/deepvariant/bin/run_deepvariant \\. --model_type=WGS \\. --ref=/input/C162-2_final.fasta \\. --reads=/input/C111_mapped.bam \\. --output_vcf=/output/C111.vcf.gz \\. --output_gvcf=/output/C111.g.vcf.gz \\. --intermediate_results_dir /output/intermediate_results_dir \\. --num_shards=5. ```. Basically `\"/data2/share/home/liyi/TEs/dv/input\":\"/input\"` makes the folder available inside the docker container as `/input`, so you don't need the long name. Hope it helps,. Paul\n",
      "    (Source: https://github.com/google/deepvariant/issues/577)\n",
      "\n",
      "  - (nsimilar: 6) this macro plots the resulting MVA distributions (Signal and Background overlayed) of different MVA methods run in TMVA (e.g. running TMVAnalysis.C). input: - Input file (result from TMVA) use of TMVA plotting TStyle\n",
      "    (Source: https://github.com/root-project/root/tree/v6-32-06/tmva/tmvagui/src/deviations.cxx)\n",
      "\n",
      "  - (nsimilar: 6) The issue stems from a mismatch between the set of channels the model was trained on and the channels in the examples generated during `run_deepvariant`. The important bit in the logs you posted is:. ```. From /90daydata/pbarc/haley.arnold/AI_Model_Training/Samples/deepvariant_output/training_dir_test2/checkpoints/ckpt-58/example_info.json: Shape of input examples: [100, 221, 6], Channels of input examples: [1, 2, 3, 4, 5, 6]. I0327 22:12:15.248034 139725850806080 dv_utils.py:365] From /local/scratch/haley.arnold/14698718/tmpg5h0cte0/make_examples.tfrecord-00000-of-00001.gz.example_info.json: Shape of input examples: [100, 221, 7], Channels of input examples: [1, 2, 3, 4, 5, 6, 19]. W0327 22:12:15.248203 139725850806080 call_variants.py:541] Input shape [100, 221, 7] and model shape [100, 221, 6] does not match. W0327 22:12:15.248327 139725850806080 call_variants.py:549] Input channels [1, 2, 3, 4, 5, 6, 19] and model channels [1, 2, 3, 4, 5, 6] do not match. ```. Your customized model was trained on `[1, 2, 3, 4, 5, 6]` (the `BASE_CHANNELS`) but the examples in `make_examples.tfrecord-00000-of-00001.gz` have an extra channel, 19 (`insert_size`), which gets [added to the WGS model preset](https://github.com/google/deepvariant/blob/r1.6.1/scripts/run_deepvariant.py#L369). . You can either:. a) include `--channels insert_size\"` when [generating the training data](https://github.com/google/deepvariant/blob/r1.6.1/docs/deepvariant-training-case-study.md#training-set). b) don't set `--model_type WGS` when you call `run_deepvariant` (which you may not need to do regardless if you provide a `customized_model`). . The choice comes down to if you want to include the channel or not. Experiments have shown it provides a slight accuracy boost for WGS, but its not strictly necessary.\n",
      "    (Source: https://github.com/google/deepvariant/issues/797)\n",
      "\n",
      "  - (nsimilar: 5) @Zjianglin So the last thing you are missing is that you are not binding your `lustre` folder. Basically the `/lustre/Data/toolsDB/HostRefs/Human_hs37d5/` folder is not seen within your Singularity container at runtime, so you will need to bind that folder like this:. ```. singularity run -B /lustre/Data/toolsDB/HostRefs/Human_hs37d5/:/lustre/Data/toolsDB/HostRefs/Human_hs37d5/ /lustre/Data/toolsDB/deepvariant.sif ls -al /lustre/Data/toolsDB/HostRefs/Human_hs37d5/*. ```. For more information on binding paths, below is a link that expands on how it works:. https://docs.sylabs.io/guides/3.0/user-guide/bind_paths_and_mounts.html\n",
      "    (Source: https://github.com/google/deepvariant/issues/653)\n",
      "\n",
      "\n",
      "================================================================================\n",
      "\n"
     ]
    }
   ],
   "execution_count": 94
  }
 ],
 "metadata": {
  "kernelspec": {
   "display_name": "Python 3",
   "language": "python",
   "name": "python3"
  },
  "language_info": {
   "codemirror_mode": {
    "name": "ipython",
    "version": 2
   },
   "file_extension": ".py",
   "mimetype": "text/x-python",
   "name": "python",
   "nbconvert_exporter": "python",
   "pygments_lexer": "ipython2",
   "version": "2.7.6"
  }
 },
 "nbformat": 4,
 "nbformat_minor": 5
}

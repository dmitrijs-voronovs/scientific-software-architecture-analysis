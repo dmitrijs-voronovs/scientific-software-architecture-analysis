{
 "cells": [
  {
   "cell_type": "code",
   "id": "a92e5b7d73da0062",
   "metadata": {
    "ExecuteTime": {
     "end_time": "2025-08-20T00:53:40.737645Z",
     "start_time": "2025-08-20T00:53:40.734120Z"
    }
   },
   "source": [
    "from cfg.tactics.tactic_description import tactic_descriptions\n",
    "from constants.abs_paths import AbsDirPath\n",
    "from processing_pipeline.utilities.data_transformation import load_all_files\n",
    "import pandas as pd\n"
   ],
   "outputs": [],
   "execution_count": 18
  },
  {
   "metadata": {
    "collapsed": true,
    "ExecuteTime": {
     "end_time": "2025-08-20T00:14:59.791310Z",
     "start_time": "2025-08-20T00:14:56.794862Z"
    }
   },
   "cell_type": "code",
   "source": [
    "in_dir = AbsDirPath.MERGED\n",
    "essential_columns = ['keyword', 'sentence', 'qa', 'source', 'url', 'repo_id', 'matched_word', 'nsimilar',\n",
    "                     'prefilter_passed', 's0_passed', 's1_passed', 's2_passed', 's3_passed', 's3_tactic',\n",
    "                     's3_tactic_category']\n",
    "df = load_all_files(in_dir, columns=essential_columns)"
   ],
   "id": "initial_id",
   "outputs": [
    {
     "name": "stdout",
     "output_type": "stream",
     "text": [
      "Loaded 335 files, [WindowsPath('C:/Users/Dmitrijs/Documents/myDocs/masters/courses/thesis/code/data/keywords_2/merged/allenai.scispacy.v0.5.5.code_comment.parquet'), WindowsPath('C:/Users/Dmitrijs/Documents/myDocs/masters/courses/thesis/code/data/keywords_2/merged/allenai.scispacy.v0.5.5.docs.parquet'), WindowsPath('C:/Users/Dmitrijs/Documents/myDocs/masters/courses/thesis/code/data/keywords_2/merged/allenai.scispacy.v0.5.5.issue.parquet'), WindowsPath('C:/Users/Dmitrijs/Documents/myDocs/masters/courses/thesis/code/data/keywords_2/merged/allenai.scispacy.v0.5.5.issue.pt_2.parquet'), WindowsPath('C:/Users/Dmitrijs/Documents/myDocs/masters/courses/thesis/code/data/keywords_2/merged/allenai.scispacy.v0.5.5.issue_comment.parquet'), WindowsPath('C:/Users/Dmitrijs/Documents/myDocs/masters/courses/thesis/code/data/keywords_2/merged/allenai.scispacy.v0.5.5.issue_comment.pt_2.parquet'), WindowsPath('C:/Users/Dmitrijs/Documents/myDocs/masters/courses/thesis/code/data/keywords_2/merged/allenai.scispacy.v0.5.5.release.parquet'), WindowsPath('C:/Users/Dmitrijs/Documents/myDocs/masters/courses/thesis/code/data/keywords_2/merged/google.deepvariant.v1.6.1.code_comment.parquet'), WindowsPath('C:/Users/Dmitrijs/Documents/myDocs/masters/courses/thesis/code/data/keywords_2/merged/google.deepvariant.v1.6.1.code_comment.pt_2.parquet'), WindowsPath('C:/Users/Dmitrijs/Documents/myDocs/masters/courses/thesis/code/data/keywords_2/merged/google.deepvariant.v1.6.1.docs.parquet'), WindowsPath('C:/Users/Dmitrijs/Documents/myDocs/masters/courses/thesis/code/data/keywords_2/merged/google.deepvariant.v1.6.1.issue.parquet'), WindowsPath('C:/Users/Dmitrijs/Documents/myDocs/masters/courses/thesis/code/data/keywords_2/merged/google.deepvariant.v1.6.1.issue.pt_2.parquet'), WindowsPath('C:/Users/Dmitrijs/Documents/myDocs/masters/courses/thesis/code/data/keywords_2/merged/google.deepvariant.v1.6.1.issue.pt_3.parquet'), WindowsPath('C:/Users/Dmitrijs/Documents/myDocs/masters/courses/thesis/code/data/keywords_2/merged/google.deepvariant.v1.6.1.issue.pt_4.parquet'), WindowsPath('C:/Users/Dmitrijs/Documents/myDocs/masters/courses/thesis/code/data/keywords_2/merged/google.deepvariant.v1.6.1.issue.pt_5.parquet'), WindowsPath('C:/Users/Dmitrijs/Documents/myDocs/masters/courses/thesis/code/data/keywords_2/merged/google.deepvariant.v1.6.1.issue.pt_6.parquet'), WindowsPath('C:/Users/Dmitrijs/Documents/myDocs/masters/courses/thesis/code/data/keywords_2/merged/google.deepvariant.v1.6.1.issue_comment.parquet'), WindowsPath('C:/Users/Dmitrijs/Documents/myDocs/masters/courses/thesis/code/data/keywords_2/merged/google.deepvariant.v1.6.1.issue_comment.pt_2.parquet'), WindowsPath('C:/Users/Dmitrijs/Documents/myDocs/masters/courses/thesis/code/data/keywords_2/merged/google.deepvariant.v1.6.1.issue_comment.pt_3.parquet'), WindowsPath('C:/Users/Dmitrijs/Documents/myDocs/masters/courses/thesis/code/data/keywords_2/merged/google.deepvariant.v1.6.1.issue_comment.pt_4.parquet'), WindowsPath('C:/Users/Dmitrijs/Documents/myDocs/masters/courses/thesis/code/data/keywords_2/merged/google.deepvariant.v1.6.1.issue_comment.pt_5.parquet'), WindowsPath('C:/Users/Dmitrijs/Documents/myDocs/masters/courses/thesis/code/data/keywords_2/merged/google.deepvariant.v1.6.1.issue_comment.pt_6.parquet'), WindowsPath('C:/Users/Dmitrijs/Documents/myDocs/masters/courses/thesis/code/data/keywords_2/merged/google.deepvariant.v1.6.1.issue_comment.pt_7.parquet'), WindowsPath('C:/Users/Dmitrijs/Documents/myDocs/masters/courses/thesis/code/data/keywords_2/merged/google.deepvariant.v1.6.1.issue_comment.pt_8.parquet'), WindowsPath('C:/Users/Dmitrijs/Documents/myDocs/masters/courses/thesis/code/data/keywords_2/merged/google.deepvariant.v1.6.1.issue_comment.pt_9.parquet'), WindowsPath('C:/Users/Dmitrijs/Documents/myDocs/masters/courses/thesis/code/data/keywords_2/merged/google.deepvariant.v1.6.1.release.parquet'), WindowsPath('C:/Users/Dmitrijs/Documents/myDocs/masters/courses/thesis/code/data/keywords_2/merged/OpenGene.fastp.v0.23.4.code_comment.parquet'), WindowsPath('C:/Users/Dmitrijs/Documents/myDocs/masters/courses/thesis/code/data/keywords_2/merged/OpenGene.fastp.v0.23.4.docs.parquet'), WindowsPath('C:/Users/Dmitrijs/Documents/myDocs/masters/courses/thesis/code/data/keywords_2/merged/OpenGene.fastp.v0.23.4.issue.parquet'), WindowsPath('C:/Users/Dmitrijs/Documents/myDocs/masters/courses/thesis/code/data/keywords_2/merged/OpenGene.fastp.v0.23.4.issue_comment.parquet'), WindowsPath('C:/Users/Dmitrijs/Documents/myDocs/masters/courses/thesis/code/data/keywords_2/merged/OpenGene.fastp.v0.23.4.release.parquet'), WindowsPath('C:/Users/Dmitrijs/Documents/myDocs/masters/courses/thesis/code/data/keywords_2/merged/root-project.root.v6-32-06.code_comment.parquet'), WindowsPath('C:/Users/Dmitrijs/Documents/myDocs/masters/courses/thesis/code/data/keywords_2/merged/root-project.root.v6-32-06.code_comment.pt_002.parquet'), WindowsPath('C:/Users/Dmitrijs/Documents/myDocs/masters/courses/thesis/code/data/keywords_2/merged/root-project.root.v6-32-06.code_comment.pt_003.parquet'), WindowsPath('C:/Users/Dmitrijs/Documents/myDocs/masters/courses/thesis/code/data/keywords_2/merged/root-project.root.v6-32-06.code_comment.pt_004.parquet'), WindowsPath('C:/Users/Dmitrijs/Documents/myDocs/masters/courses/thesis/code/data/keywords_2/merged/root-project.root.v6-32-06.code_comment.pt_005.parquet'), WindowsPath('C:/Users/Dmitrijs/Documents/myDocs/masters/courses/thesis/code/data/keywords_2/merged/root-project.root.v6-32-06.code_comment.pt_006.parquet'), WindowsPath('C:/Users/Dmitrijs/Documents/myDocs/masters/courses/thesis/code/data/keywords_2/merged/root-project.root.v6-32-06.code_comment.pt_007.parquet'), WindowsPath('C:/Users/Dmitrijs/Documents/myDocs/masters/courses/thesis/code/data/keywords_2/merged/root-project.root.v6-32-06.code_comment.pt_008.parquet'), WindowsPath('C:/Users/Dmitrijs/Documents/myDocs/masters/courses/thesis/code/data/keywords_2/merged/root-project.root.v6-32-06.code_comment.pt_009.parquet'), WindowsPath('C:/Users/Dmitrijs/Documents/myDocs/masters/courses/thesis/code/data/keywords_2/merged/root-project.root.v6-32-06.code_comment.pt_010.parquet'), WindowsPath('C:/Users/Dmitrijs/Documents/myDocs/masters/courses/thesis/code/data/keywords_2/merged/root-project.root.v6-32-06.code_comment.pt_011.parquet'), WindowsPath('C:/Users/Dmitrijs/Documents/myDocs/masters/courses/thesis/code/data/keywords_2/merged/root-project.root.v6-32-06.code_comment.pt_012.parquet'), WindowsPath('C:/Users/Dmitrijs/Documents/myDocs/masters/courses/thesis/code/data/keywords_2/merged/root-project.root.v6-32-06.code_comment.pt_013.parquet'), WindowsPath('C:/Users/Dmitrijs/Documents/myDocs/masters/courses/thesis/code/data/keywords_2/merged/root-project.root.v6-32-06.code_comment.pt_014.parquet'), WindowsPath('C:/Users/Dmitrijs/Documents/myDocs/masters/courses/thesis/code/data/keywords_2/merged/root-project.root.v6-32-06.code_comment.pt_015.parquet'), WindowsPath('C:/Users/Dmitrijs/Documents/myDocs/masters/courses/thesis/code/data/keywords_2/merged/root-project.root.v6-32-06.code_comment.pt_016.parquet'), WindowsPath('C:/Users/Dmitrijs/Documents/myDocs/masters/courses/thesis/code/data/keywords_2/merged/root-project.root.v6-32-06.code_comment.pt_017.parquet'), WindowsPath('C:/Users/Dmitrijs/Documents/myDocs/masters/courses/thesis/code/data/keywords_2/merged/root-project.root.v6-32-06.code_comment.pt_018.parquet'), WindowsPath('C:/Users/Dmitrijs/Documents/myDocs/masters/courses/thesis/code/data/keywords_2/merged/root-project.root.v6-32-06.code_comment.pt_019.parquet'), WindowsPath('C:/Users/Dmitrijs/Documents/myDocs/masters/courses/thesis/code/data/keywords_2/merged/root-project.root.v6-32-06.code_comment.pt_020.parquet'), WindowsPath('C:/Users/Dmitrijs/Documents/myDocs/masters/courses/thesis/code/data/keywords_2/merged/root-project.root.v6-32-06.code_comment.pt_021.parquet'), WindowsPath('C:/Users/Dmitrijs/Documents/myDocs/masters/courses/thesis/code/data/keywords_2/merged/root-project.root.v6-32-06.code_comment.pt_022.parquet'), WindowsPath('C:/Users/Dmitrijs/Documents/myDocs/masters/courses/thesis/code/data/keywords_2/merged/root-project.root.v6-32-06.code_comment.pt_023.parquet'), WindowsPath('C:/Users/Dmitrijs/Documents/myDocs/masters/courses/thesis/code/data/keywords_2/merged/root-project.root.v6-32-06.code_comment.pt_024.parquet'), WindowsPath('C:/Users/Dmitrijs/Documents/myDocs/masters/courses/thesis/code/data/keywords_2/merged/root-project.root.v6-32-06.code_comment.pt_025.parquet'), WindowsPath('C:/Users/Dmitrijs/Documents/myDocs/masters/courses/thesis/code/data/keywords_2/merged/root-project.root.v6-32-06.code_comment.pt_026.parquet'), WindowsPath('C:/Users/Dmitrijs/Documents/myDocs/masters/courses/thesis/code/data/keywords_2/merged/root-project.root.v6-32-06.code_comment.pt_027.parquet'), WindowsPath('C:/Users/Dmitrijs/Documents/myDocs/masters/courses/thesis/code/data/keywords_2/merged/root-project.root.v6-32-06.code_comment.pt_028.parquet'), WindowsPath('C:/Users/Dmitrijs/Documents/myDocs/masters/courses/thesis/code/data/keywords_2/merged/root-project.root.v6-32-06.code_comment.pt_029.parquet'), WindowsPath('C:/Users/Dmitrijs/Documents/myDocs/masters/courses/thesis/code/data/keywords_2/merged/root-project.root.v6-32-06.code_comment.pt_030.parquet'), WindowsPath('C:/Users/Dmitrijs/Documents/myDocs/masters/courses/thesis/code/data/keywords_2/merged/root-project.root.v6-32-06.code_comment.pt_031.parquet'), WindowsPath('C:/Users/Dmitrijs/Documents/myDocs/masters/courses/thesis/code/data/keywords_2/merged/root-project.root.v6-32-06.code_comment.pt_032.parquet'), WindowsPath('C:/Users/Dmitrijs/Documents/myDocs/masters/courses/thesis/code/data/keywords_2/merged/root-project.root.v6-32-06.code_comment.pt_033.parquet'), WindowsPath('C:/Users/Dmitrijs/Documents/myDocs/masters/courses/thesis/code/data/keywords_2/merged/root-project.root.v6-32-06.code_comment.pt_034.parquet'), WindowsPath('C:/Users/Dmitrijs/Documents/myDocs/masters/courses/thesis/code/data/keywords_2/merged/root-project.root.v6-32-06.code_comment.pt_035.parquet'), WindowsPath('C:/Users/Dmitrijs/Documents/myDocs/masters/courses/thesis/code/data/keywords_2/merged/root-project.root.v6-32-06.code_comment.pt_036.parquet'), WindowsPath('C:/Users/Dmitrijs/Documents/myDocs/masters/courses/thesis/code/data/keywords_2/merged/root-project.root.v6-32-06.code_comment.pt_037.parquet'), WindowsPath('C:/Users/Dmitrijs/Documents/myDocs/masters/courses/thesis/code/data/keywords_2/merged/root-project.root.v6-32-06.code_comment.pt_038.parquet'), WindowsPath('C:/Users/Dmitrijs/Documents/myDocs/masters/courses/thesis/code/data/keywords_2/merged/root-project.root.v6-32-06.code_comment.pt_039.parquet'), WindowsPath('C:/Users/Dmitrijs/Documents/myDocs/masters/courses/thesis/code/data/keywords_2/merged/root-project.root.v6-32-06.code_comment.pt_040.parquet'), WindowsPath('C:/Users/Dmitrijs/Documents/myDocs/masters/courses/thesis/code/data/keywords_2/merged/root-project.root.v6-32-06.code_comment.pt_041.parquet'), WindowsPath('C:/Users/Dmitrijs/Documents/myDocs/masters/courses/thesis/code/data/keywords_2/merged/root-project.root.v6-32-06.code_comment.pt_042.parquet'), WindowsPath('C:/Users/Dmitrijs/Documents/myDocs/masters/courses/thesis/code/data/keywords_2/merged/root-project.root.v6-32-06.code_comment.pt_043.parquet'), WindowsPath('C:/Users/Dmitrijs/Documents/myDocs/masters/courses/thesis/code/data/keywords_2/merged/root-project.root.v6-32-06.code_comment.pt_044.parquet'), WindowsPath('C:/Users/Dmitrijs/Documents/myDocs/masters/courses/thesis/code/data/keywords_2/merged/root-project.root.v6-32-06.code_comment.pt_045.parquet'), WindowsPath('C:/Users/Dmitrijs/Documents/myDocs/masters/courses/thesis/code/data/keywords_2/merged/root-project.root.v6-32-06.code_comment.pt_046.parquet'), WindowsPath('C:/Users/Dmitrijs/Documents/myDocs/masters/courses/thesis/code/data/keywords_2/merged/root-project.root.v6-32-06.code_comment.pt_047.parquet'), WindowsPath('C:/Users/Dmitrijs/Documents/myDocs/masters/courses/thesis/code/data/keywords_2/merged/root-project.root.v6-32-06.code_comment.pt_048.parquet'), WindowsPath('C:/Users/Dmitrijs/Documents/myDocs/masters/courses/thesis/code/data/keywords_2/merged/root-project.root.v6-32-06.code_comment.pt_049.parquet'), WindowsPath('C:/Users/Dmitrijs/Documents/myDocs/masters/courses/thesis/code/data/keywords_2/merged/root-project.root.v6-32-06.code_comment.pt_050.parquet'), WindowsPath('C:/Users/Dmitrijs/Documents/myDocs/masters/courses/thesis/code/data/keywords_2/merged/root-project.root.v6-32-06.code_comment.pt_051.parquet'), WindowsPath('C:/Users/Dmitrijs/Documents/myDocs/masters/courses/thesis/code/data/keywords_2/merged/root-project.root.v6-32-06.code_comment.pt_052.parquet'), WindowsPath('C:/Users/Dmitrijs/Documents/myDocs/masters/courses/thesis/code/data/keywords_2/merged/root-project.root.v6-32-06.code_comment.pt_053.parquet'), WindowsPath('C:/Users/Dmitrijs/Documents/myDocs/masters/courses/thesis/code/data/keywords_2/merged/root-project.root.v6-32-06.code_comment.pt_054.parquet'), WindowsPath('C:/Users/Dmitrijs/Documents/myDocs/masters/courses/thesis/code/data/keywords_2/merged/root-project.root.v6-32-06.code_comment.pt_055.parquet'), WindowsPath('C:/Users/Dmitrijs/Documents/myDocs/masters/courses/thesis/code/data/keywords_2/merged/root-project.root.v6-32-06.code_comment.pt_056.parquet'), WindowsPath('C:/Users/Dmitrijs/Documents/myDocs/masters/courses/thesis/code/data/keywords_2/merged/root-project.root.v6-32-06.code_comment.pt_057.parquet'), WindowsPath('C:/Users/Dmitrijs/Documents/myDocs/masters/courses/thesis/code/data/keywords_2/merged/root-project.root.v6-32-06.code_comment.pt_058.parquet'), WindowsPath('C:/Users/Dmitrijs/Documents/myDocs/masters/courses/thesis/code/data/keywords_2/merged/root-project.root.v6-32-06.code_comment.pt_059.parquet'), WindowsPath('C:/Users/Dmitrijs/Documents/myDocs/masters/courses/thesis/code/data/keywords_2/merged/root-project.root.v6-32-06.code_comment.pt_060.parquet'), WindowsPath('C:/Users/Dmitrijs/Documents/myDocs/masters/courses/thesis/code/data/keywords_2/merged/root-project.root.v6-32-06.code_comment.pt_061.parquet'), WindowsPath('C:/Users/Dmitrijs/Documents/myDocs/masters/courses/thesis/code/data/keywords_2/merged/root-project.root.v6-32-06.code_comment.pt_062.parquet'), WindowsPath('C:/Users/Dmitrijs/Documents/myDocs/masters/courses/thesis/code/data/keywords_2/merged/root-project.root.v6-32-06.code_comment.pt_063.parquet'), WindowsPath('C:/Users/Dmitrijs/Documents/myDocs/masters/courses/thesis/code/data/keywords_2/merged/root-project.root.v6-32-06.code_comment.pt_064.parquet'), WindowsPath('C:/Users/Dmitrijs/Documents/myDocs/masters/courses/thesis/code/data/keywords_2/merged/root-project.root.v6-32-06.code_comment.pt_065.parquet'), WindowsPath('C:/Users/Dmitrijs/Documents/myDocs/masters/courses/thesis/code/data/keywords_2/merged/root-project.root.v6-32-06.code_comment.pt_066.parquet'), WindowsPath('C:/Users/Dmitrijs/Documents/myDocs/masters/courses/thesis/code/data/keywords_2/merged/root-project.root.v6-32-06.code_comment.pt_067.parquet'), WindowsPath('C:/Users/Dmitrijs/Documents/myDocs/masters/courses/thesis/code/data/keywords_2/merged/root-project.root.v6-32-06.code_comment.pt_068.parquet'), WindowsPath('C:/Users/Dmitrijs/Documents/myDocs/masters/courses/thesis/code/data/keywords_2/merged/root-project.root.v6-32-06.code_comment.pt_069.parquet'), WindowsPath('C:/Users/Dmitrijs/Documents/myDocs/masters/courses/thesis/code/data/keywords_2/merged/root-project.root.v6-32-06.code_comment.pt_070.parquet'), WindowsPath('C:/Users/Dmitrijs/Documents/myDocs/masters/courses/thesis/code/data/keywords_2/merged/root-project.root.v6-32-06.code_comment.pt_071.parquet'), WindowsPath('C:/Users/Dmitrijs/Documents/myDocs/masters/courses/thesis/code/data/keywords_2/merged/root-project.root.v6-32-06.code_comment.pt_072.parquet'), WindowsPath('C:/Users/Dmitrijs/Documents/myDocs/masters/courses/thesis/code/data/keywords_2/merged/root-project.root.v6-32-06.code_comment.pt_073.parquet'), WindowsPath('C:/Users/Dmitrijs/Documents/myDocs/masters/courses/thesis/code/data/keywords_2/merged/root-project.root.v6-32-06.code_comment.pt_074.parquet'), WindowsPath('C:/Users/Dmitrijs/Documents/myDocs/masters/courses/thesis/code/data/keywords_2/merged/root-project.root.v6-32-06.code_comment.pt_075.parquet'), WindowsPath('C:/Users/Dmitrijs/Documents/myDocs/masters/courses/thesis/code/data/keywords_2/merged/root-project.root.v6-32-06.code_comment.pt_076.parquet'), WindowsPath('C:/Users/Dmitrijs/Documents/myDocs/masters/courses/thesis/code/data/keywords_2/merged/root-project.root.v6-32-06.code_comment.pt_077.parquet'), WindowsPath('C:/Users/Dmitrijs/Documents/myDocs/masters/courses/thesis/code/data/keywords_2/merged/root-project.root.v6-32-06.code_comment.pt_078.parquet'), WindowsPath('C:/Users/Dmitrijs/Documents/myDocs/masters/courses/thesis/code/data/keywords_2/merged/root-project.root.v6-32-06.code_comment.pt_079.parquet'), WindowsPath('C:/Users/Dmitrijs/Documents/myDocs/masters/courses/thesis/code/data/keywords_2/merged/root-project.root.v6-32-06.code_comment.pt_080.parquet'), WindowsPath('C:/Users/Dmitrijs/Documents/myDocs/masters/courses/thesis/code/data/keywords_2/merged/root-project.root.v6-32-06.code_comment.pt_081.parquet'), WindowsPath('C:/Users/Dmitrijs/Documents/myDocs/masters/courses/thesis/code/data/keywords_2/merged/root-project.root.v6-32-06.code_comment.pt_082.parquet'), WindowsPath('C:/Users/Dmitrijs/Documents/myDocs/masters/courses/thesis/code/data/keywords_2/merged/root-project.root.v6-32-06.code_comment.pt_083.parquet'), WindowsPath('C:/Users/Dmitrijs/Documents/myDocs/masters/courses/thesis/code/data/keywords_2/merged/root-project.root.v6-32-06.code_comment.pt_084.parquet'), WindowsPath('C:/Users/Dmitrijs/Documents/myDocs/masters/courses/thesis/code/data/keywords_2/merged/root-project.root.v6-32-06.code_comment.pt_085.parquet'), WindowsPath('C:/Users/Dmitrijs/Documents/myDocs/masters/courses/thesis/code/data/keywords_2/merged/root-project.root.v6-32-06.code_comment.pt_086.parquet'), WindowsPath('C:/Users/Dmitrijs/Documents/myDocs/masters/courses/thesis/code/data/keywords_2/merged/root-project.root.v6-32-06.code_comment.pt_087.parquet'), WindowsPath('C:/Users/Dmitrijs/Documents/myDocs/masters/courses/thesis/code/data/keywords_2/merged/root-project.root.v6-32-06.code_comment.pt_088.parquet'), WindowsPath('C:/Users/Dmitrijs/Documents/myDocs/masters/courses/thesis/code/data/keywords_2/merged/root-project.root.v6-32-06.code_comment.pt_089.parquet'), WindowsPath('C:/Users/Dmitrijs/Documents/myDocs/masters/courses/thesis/code/data/keywords_2/merged/root-project.root.v6-32-06.code_comment.pt_090.parquet'), WindowsPath('C:/Users/Dmitrijs/Documents/myDocs/masters/courses/thesis/code/data/keywords_2/merged/root-project.root.v6-32-06.code_comment.pt_091.parquet'), WindowsPath('C:/Users/Dmitrijs/Documents/myDocs/masters/courses/thesis/code/data/keywords_2/merged/root-project.root.v6-32-06.code_comment.pt_092.parquet'), WindowsPath('C:/Users/Dmitrijs/Documents/myDocs/masters/courses/thesis/code/data/keywords_2/merged/root-project.root.v6-32-06.code_comment.pt_093.parquet'), WindowsPath('C:/Users/Dmitrijs/Documents/myDocs/masters/courses/thesis/code/data/keywords_2/merged/root-project.root.v6-32-06.code_comment.pt_094.parquet'), WindowsPath('C:/Users/Dmitrijs/Documents/myDocs/masters/courses/thesis/code/data/keywords_2/merged/root-project.root.v6-32-06.code_comment.pt_095.parquet'), WindowsPath('C:/Users/Dmitrijs/Documents/myDocs/masters/courses/thesis/code/data/keywords_2/merged/root-project.root.v6-32-06.code_comment.pt_096.parquet'), WindowsPath('C:/Users/Dmitrijs/Documents/myDocs/masters/courses/thesis/code/data/keywords_2/merged/root-project.root.v6-32-06.code_comment.pt_097.parquet'), WindowsPath('C:/Users/Dmitrijs/Documents/myDocs/masters/courses/thesis/code/data/keywords_2/merged/root-project.root.v6-32-06.code_comment.pt_098.parquet'), WindowsPath('C:/Users/Dmitrijs/Documents/myDocs/masters/courses/thesis/code/data/keywords_2/merged/root-project.root.v6-32-06.code_comment.pt_099.parquet'), WindowsPath('C:/Users/Dmitrijs/Documents/myDocs/masters/courses/thesis/code/data/keywords_2/merged/root-project.root.v6-32-06.code_comment.pt_100.parquet'), WindowsPath('C:/Users/Dmitrijs/Documents/myDocs/masters/courses/thesis/code/data/keywords_2/merged/root-project.root.v6-32-06.code_comment.pt_101.parquet'), WindowsPath('C:/Users/Dmitrijs/Documents/myDocs/masters/courses/thesis/code/data/keywords_2/merged/root-project.root.v6-32-06.code_comment.pt_102.parquet'), WindowsPath('C:/Users/Dmitrijs/Documents/myDocs/masters/courses/thesis/code/data/keywords_2/merged/root-project.root.v6-32-06.code_comment.pt_103.parquet'), WindowsPath('C:/Users/Dmitrijs/Documents/myDocs/masters/courses/thesis/code/data/keywords_2/merged/root-project.root.v6-32-06.code_comment.pt_104.parquet'), WindowsPath('C:/Users/Dmitrijs/Documents/myDocs/masters/courses/thesis/code/data/keywords_2/merged/root-project.root.v6-32-06.code_comment.pt_105.parquet'), WindowsPath('C:/Users/Dmitrijs/Documents/myDocs/masters/courses/thesis/code/data/keywords_2/merged/root-project.root.v6-32-06.code_comment.pt_106.parquet'), WindowsPath('C:/Users/Dmitrijs/Documents/myDocs/masters/courses/thesis/code/data/keywords_2/merged/root-project.root.v6-32-06.code_comment.pt_107.parquet'), WindowsPath('C:/Users/Dmitrijs/Documents/myDocs/masters/courses/thesis/code/data/keywords_2/merged/root-project.root.v6-32-06.code_comment.pt_108.parquet'), WindowsPath('C:/Users/Dmitrijs/Documents/myDocs/masters/courses/thesis/code/data/keywords_2/merged/root-project.root.v6-32-06.code_comment.pt_109.parquet'), WindowsPath('C:/Users/Dmitrijs/Documents/myDocs/masters/courses/thesis/code/data/keywords_2/merged/root-project.root.v6-32-06.code_comment.pt_110.parquet'), WindowsPath('C:/Users/Dmitrijs/Documents/myDocs/masters/courses/thesis/code/data/keywords_2/merged/root-project.root.v6-32-06.code_comment.pt_111.parquet'), WindowsPath('C:/Users/Dmitrijs/Documents/myDocs/masters/courses/thesis/code/data/keywords_2/merged/root-project.root.v6-32-06.code_comment.pt_112.parquet'), WindowsPath('C:/Users/Dmitrijs/Documents/myDocs/masters/courses/thesis/code/data/keywords_2/merged/root-project.root.v6-32-06.code_comment.pt_113.parquet'), WindowsPath('C:/Users/Dmitrijs/Documents/myDocs/masters/courses/thesis/code/data/keywords_2/merged/root-project.root.v6-32-06.code_comment.pt_114.parquet'), WindowsPath('C:/Users/Dmitrijs/Documents/myDocs/masters/courses/thesis/code/data/keywords_2/merged/root-project.root.v6-32-06.code_comment.pt_115.parquet'), WindowsPath('C:/Users/Dmitrijs/Documents/myDocs/masters/courses/thesis/code/data/keywords_2/merged/root-project.root.v6-32-06.code_comment.pt_116.parquet'), WindowsPath('C:/Users/Dmitrijs/Documents/myDocs/masters/courses/thesis/code/data/keywords_2/merged/root-project.root.v6-32-06.code_comment.pt_117.parquet'), WindowsPath('C:/Users/Dmitrijs/Documents/myDocs/masters/courses/thesis/code/data/keywords_2/merged/root-project.root.v6-32-06.code_comment.pt_118.parquet'), WindowsPath('C:/Users/Dmitrijs/Documents/myDocs/masters/courses/thesis/code/data/keywords_2/merged/root-project.root.v6-32-06.code_comment.pt_119.parquet'), WindowsPath('C:/Users/Dmitrijs/Documents/myDocs/masters/courses/thesis/code/data/keywords_2/merged/root-project.root.v6-32-06.code_comment.pt_120.parquet'), WindowsPath('C:/Users/Dmitrijs/Documents/myDocs/masters/courses/thesis/code/data/keywords_2/merged/root-project.root.v6-32-06.code_comment.pt_121.parquet'), WindowsPath('C:/Users/Dmitrijs/Documents/myDocs/masters/courses/thesis/code/data/keywords_2/merged/root-project.root.v6-32-06.code_comment.pt_122.parquet'), WindowsPath('C:/Users/Dmitrijs/Documents/myDocs/masters/courses/thesis/code/data/keywords_2/merged/root-project.root.v6-32-06.code_comment.pt_123.parquet'), WindowsPath('C:/Users/Dmitrijs/Documents/myDocs/masters/courses/thesis/code/data/keywords_2/merged/root-project.root.v6-32-06.code_comment.pt_124.parquet'), WindowsPath('C:/Users/Dmitrijs/Documents/myDocs/masters/courses/thesis/code/data/keywords_2/merged/root-project.root.v6-32-06.code_comment.pt_125.parquet'), WindowsPath('C:/Users/Dmitrijs/Documents/myDocs/masters/courses/thesis/code/data/keywords_2/merged/root-project.root.v6-32-06.code_comment.pt_126.parquet'), WindowsPath('C:/Users/Dmitrijs/Documents/myDocs/masters/courses/thesis/code/data/keywords_2/merged/root-project.root.v6-32-06.code_comment.pt_127.parquet'), WindowsPath('C:/Users/Dmitrijs/Documents/myDocs/masters/courses/thesis/code/data/keywords_2/merged/root-project.root.v6-32-06.code_comment.pt_128.parquet'), WindowsPath('C:/Users/Dmitrijs/Documents/myDocs/masters/courses/thesis/code/data/keywords_2/merged/root-project.root.v6-32-06.code_comment.pt_129.parquet'), WindowsPath('C:/Users/Dmitrijs/Documents/myDocs/masters/courses/thesis/code/data/keywords_2/merged/root-project.root.v6-32-06.code_comment.pt_130.parquet'), WindowsPath('C:/Users/Dmitrijs/Documents/myDocs/masters/courses/thesis/code/data/keywords_2/merged/root-project.root.v6-32-06.code_comment.pt_131.parquet'), WindowsPath('C:/Users/Dmitrijs/Documents/myDocs/masters/courses/thesis/code/data/keywords_2/merged/root-project.root.v6-32-06.code_comment.pt_132.parquet'), WindowsPath('C:/Users/Dmitrijs/Documents/myDocs/masters/courses/thesis/code/data/keywords_2/merged/root-project.root.v6-32-06.code_comment.pt_133.parquet'), WindowsPath('C:/Users/Dmitrijs/Documents/myDocs/masters/courses/thesis/code/data/keywords_2/merged/root-project.root.v6-32-06.code_comment.pt_134.parquet'), WindowsPath('C:/Users/Dmitrijs/Documents/myDocs/masters/courses/thesis/code/data/keywords_2/merged/root-project.root.v6-32-06.code_comment.pt_135.parquet'), WindowsPath('C:/Users/Dmitrijs/Documents/myDocs/masters/courses/thesis/code/data/keywords_2/merged/root-project.root.v6-32-06.code_comment.pt_136.parquet'), WindowsPath('C:/Users/Dmitrijs/Documents/myDocs/masters/courses/thesis/code/data/keywords_2/merged/root-project.root.v6-32-06.code_comment.pt_137.parquet'), WindowsPath('C:/Users/Dmitrijs/Documents/myDocs/masters/courses/thesis/code/data/keywords_2/merged/root-project.root.v6-32-06.code_comment.pt_138.parquet'), WindowsPath('C:/Users/Dmitrijs/Documents/myDocs/masters/courses/thesis/code/data/keywords_2/merged/root-project.root.v6-32-06.code_comment.pt_139.parquet'), WindowsPath('C:/Users/Dmitrijs/Documents/myDocs/masters/courses/thesis/code/data/keywords_2/merged/root-project.root.v6-32-06.code_comment.pt_140.parquet'), WindowsPath('C:/Users/Dmitrijs/Documents/myDocs/masters/courses/thesis/code/data/keywords_2/merged/root-project.root.v6-32-06.code_comment.pt_141.parquet'), WindowsPath('C:/Users/Dmitrijs/Documents/myDocs/masters/courses/thesis/code/data/keywords_2/merged/root-project.root.v6-32-06.code_comment.pt_142.parquet'), WindowsPath('C:/Users/Dmitrijs/Documents/myDocs/masters/courses/thesis/code/data/keywords_2/merged/root-project.root.v6-32-06.code_comment.pt_143.parquet'), WindowsPath('C:/Users/Dmitrijs/Documents/myDocs/masters/courses/thesis/code/data/keywords_2/merged/root-project.root.v6-32-06.code_comment.pt_144.parquet'), WindowsPath('C:/Users/Dmitrijs/Documents/myDocs/masters/courses/thesis/code/data/keywords_2/merged/root-project.root.v6-32-06.code_comment.pt_145.parquet'), WindowsPath('C:/Users/Dmitrijs/Documents/myDocs/masters/courses/thesis/code/data/keywords_2/merged/root-project.root.v6-32-06.code_comment.pt_146.parquet'), WindowsPath('C:/Users/Dmitrijs/Documents/myDocs/masters/courses/thesis/code/data/keywords_2/merged/root-project.root.v6-32-06.code_comment.pt_147.parquet'), WindowsPath('C:/Users/Dmitrijs/Documents/myDocs/masters/courses/thesis/code/data/keywords_2/merged/root-project.root.v6-32-06.code_comment.pt_148.parquet'), WindowsPath('C:/Users/Dmitrijs/Documents/myDocs/masters/courses/thesis/code/data/keywords_2/merged/root-project.root.v6-32-06.code_comment.pt_149.parquet'), WindowsPath('C:/Users/Dmitrijs/Documents/myDocs/masters/courses/thesis/code/data/keywords_2/merged/root-project.root.v6-32-06.code_comment.pt_150.parquet'), WindowsPath('C:/Users/Dmitrijs/Documents/myDocs/masters/courses/thesis/code/data/keywords_2/merged/root-project.root.v6-32-06.code_comment.pt_151.parquet'), WindowsPath('C:/Users/Dmitrijs/Documents/myDocs/masters/courses/thesis/code/data/keywords_2/merged/root-project.root.v6-32-06.code_comment.pt_152.parquet'), WindowsPath('C:/Users/Dmitrijs/Documents/myDocs/masters/courses/thesis/code/data/keywords_2/merged/root-project.root.v6-32-06.code_comment.pt_153.parquet'), WindowsPath('C:/Users/Dmitrijs/Documents/myDocs/masters/courses/thesis/code/data/keywords_2/merged/root-project.root.v6-32-06.code_comment.pt_154.parquet'), WindowsPath('C:/Users/Dmitrijs/Documents/myDocs/masters/courses/thesis/code/data/keywords_2/merged/root-project.root.v6-32-06.code_comment.pt_155.parquet'), WindowsPath('C:/Users/Dmitrijs/Documents/myDocs/masters/courses/thesis/code/data/keywords_2/merged/root-project.root.v6-32-06.code_comment.pt_156.parquet'), WindowsPath('C:/Users/Dmitrijs/Documents/myDocs/masters/courses/thesis/code/data/keywords_2/merged/root-project.root.v6-32-06.code_comment.pt_157.parquet'), WindowsPath('C:/Users/Dmitrijs/Documents/myDocs/masters/courses/thesis/code/data/keywords_2/merged/root-project.root.v6-32-06.code_comment.pt_158.parquet'), WindowsPath('C:/Users/Dmitrijs/Documents/myDocs/masters/courses/thesis/code/data/keywords_2/merged/root-project.root.v6-32-06.code_comment.pt_159.parquet'), WindowsPath('C:/Users/Dmitrijs/Documents/myDocs/masters/courses/thesis/code/data/keywords_2/merged/root-project.root.v6-32-06.code_comment.pt_160.parquet'), WindowsPath('C:/Users/Dmitrijs/Documents/myDocs/masters/courses/thesis/code/data/keywords_2/merged/root-project.root.v6-32-06.docs.parquet'), WindowsPath('C:/Users/Dmitrijs/Documents/myDocs/masters/courses/thesis/code/data/keywords_2/merged/root-project.root.v6-32-06.docs.pt_02.parquet'), WindowsPath('C:/Users/Dmitrijs/Documents/myDocs/masters/courses/thesis/code/data/keywords_2/merged/root-project.root.v6-32-06.docs.pt_03.parquet'), WindowsPath('C:/Users/Dmitrijs/Documents/myDocs/masters/courses/thesis/code/data/keywords_2/merged/root-project.root.v6-32-06.docs.pt_04.parquet'), WindowsPath('C:/Users/Dmitrijs/Documents/myDocs/masters/courses/thesis/code/data/keywords_2/merged/root-project.root.v6-32-06.docs.pt_05.parquet'), WindowsPath('C:/Users/Dmitrijs/Documents/myDocs/masters/courses/thesis/code/data/keywords_2/merged/root-project.root.v6-32-06.docs.pt_06.parquet'), WindowsPath('C:/Users/Dmitrijs/Documents/myDocs/masters/courses/thesis/code/data/keywords_2/merged/root-project.root.v6-32-06.docs.pt_07.parquet'), WindowsPath('C:/Users/Dmitrijs/Documents/myDocs/masters/courses/thesis/code/data/keywords_2/merged/root-project.root.v6-32-06.docs.pt_08.parquet'), WindowsPath('C:/Users/Dmitrijs/Documents/myDocs/masters/courses/thesis/code/data/keywords_2/merged/root-project.root.v6-32-06.docs.pt_09.parquet'), WindowsPath('C:/Users/Dmitrijs/Documents/myDocs/masters/courses/thesis/code/data/keywords_2/merged/root-project.root.v6-32-06.docs.pt_10.parquet'), WindowsPath('C:/Users/Dmitrijs/Documents/myDocs/masters/courses/thesis/code/data/keywords_2/merged/root-project.root.v6-32-06.docs.pt_11.parquet'), WindowsPath('C:/Users/Dmitrijs/Documents/myDocs/masters/courses/thesis/code/data/keywords_2/merged/root-project.root.v6-32-06.docs.pt_12.parquet'), WindowsPath('C:/Users/Dmitrijs/Documents/myDocs/masters/courses/thesis/code/data/keywords_2/merged/root-project.root.v6-32-06.docs.pt_13.parquet'), WindowsPath('C:/Users/Dmitrijs/Documents/myDocs/masters/courses/thesis/code/data/keywords_2/merged/root-project.root.v6-32-06.docs.pt_14.parquet'), WindowsPath('C:/Users/Dmitrijs/Documents/myDocs/masters/courses/thesis/code/data/keywords_2/merged/root-project.root.v6-32-06.docs.pt_15.parquet'), WindowsPath('C:/Users/Dmitrijs/Documents/myDocs/masters/courses/thesis/code/data/keywords_2/merged/root-project.root.v6-32-06.docs.pt_16.parquet'), WindowsPath('C:/Users/Dmitrijs/Documents/myDocs/masters/courses/thesis/code/data/keywords_2/merged/root-project.root.v6-32-06.docs.pt_17.parquet'), WindowsPath('C:/Users/Dmitrijs/Documents/myDocs/masters/courses/thesis/code/data/keywords_2/merged/root-project.root.v6-32-06.docs.pt_18.parquet'), WindowsPath('C:/Users/Dmitrijs/Documents/myDocs/masters/courses/thesis/code/data/keywords_2/merged/root-project.root.v6-32-06.docs.pt_19.parquet'), WindowsPath('C:/Users/Dmitrijs/Documents/myDocs/masters/courses/thesis/code/data/keywords_2/merged/root-project.root.v6-32-06.docs.pt_20.parquet'), WindowsPath('C:/Users/Dmitrijs/Documents/myDocs/masters/courses/thesis/code/data/keywords_2/merged/root-project.root.v6-32-06.docs.pt_21.parquet'), WindowsPath('C:/Users/Dmitrijs/Documents/myDocs/masters/courses/thesis/code/data/keywords_2/merged/root-project.root.v6-32-06.docs.pt_22.parquet'), WindowsPath('C:/Users/Dmitrijs/Documents/myDocs/masters/courses/thesis/code/data/keywords_2/merged/root-project.root.v6-32-06.docs.pt_23.parquet'), WindowsPath('C:/Users/Dmitrijs/Documents/myDocs/masters/courses/thesis/code/data/keywords_2/merged/root-project.root.v6-32-06.docs.pt_24.parquet'), WindowsPath('C:/Users/Dmitrijs/Documents/myDocs/masters/courses/thesis/code/data/keywords_2/merged/root-project.root.v6-32-06.docs.pt_25.parquet'), WindowsPath('C:/Users/Dmitrijs/Documents/myDocs/masters/courses/thesis/code/data/keywords_2/merged/root-project.root.v6-32-06.docs.pt_26.parquet'), WindowsPath('C:/Users/Dmitrijs/Documents/myDocs/masters/courses/thesis/code/data/keywords_2/merged/root-project.root.v6-32-06.docs.pt_27.parquet'), WindowsPath('C:/Users/Dmitrijs/Documents/myDocs/masters/courses/thesis/code/data/keywords_2/merged/root-project.root.v6-32-06.docs.pt_28.parquet'), WindowsPath('C:/Users/Dmitrijs/Documents/myDocs/masters/courses/thesis/code/data/keywords_2/merged/root-project.root.v6-32-06.docs.pt_29.parquet'), WindowsPath('C:/Users/Dmitrijs/Documents/myDocs/masters/courses/thesis/code/data/keywords_2/merged/root-project.root.v6-32-06.docs.pt_30.parquet'), WindowsPath('C:/Users/Dmitrijs/Documents/myDocs/masters/courses/thesis/code/data/keywords_2/merged/root-project.root.v6-32-06.docs.pt_31.parquet'), WindowsPath('C:/Users/Dmitrijs/Documents/myDocs/masters/courses/thesis/code/data/keywords_2/merged/root-project.root.v6-32-06.docs.pt_32.parquet'), WindowsPath('C:/Users/Dmitrijs/Documents/myDocs/masters/courses/thesis/code/data/keywords_2/merged/root-project.root.v6-32-06.docs.pt_33.parquet'), WindowsPath('C:/Users/Dmitrijs/Documents/myDocs/masters/courses/thesis/code/data/keywords_2/merged/root-project.root.v6-32-06.docs.pt_34.parquet'), WindowsPath('C:/Users/Dmitrijs/Documents/myDocs/masters/courses/thesis/code/data/keywords_2/merged/root-project.root.v6-32-06.docs.pt_35.parquet'), WindowsPath('C:/Users/Dmitrijs/Documents/myDocs/masters/courses/thesis/code/data/keywords_2/merged/root-project.root.v6-32-06.docs.pt_36.parquet'), WindowsPath('C:/Users/Dmitrijs/Documents/myDocs/masters/courses/thesis/code/data/keywords_2/merged/root-project.root.v6-32-06.docs.pt_37.parquet'), WindowsPath('C:/Users/Dmitrijs/Documents/myDocs/masters/courses/thesis/code/data/keywords_2/merged/root-project.root.v6-32-06.docs.pt_38.parquet'), WindowsPath('C:/Users/Dmitrijs/Documents/myDocs/masters/courses/thesis/code/data/keywords_2/merged/root-project.root.v6-32-06.docs.pt_39.parquet'), WindowsPath('C:/Users/Dmitrijs/Documents/myDocs/masters/courses/thesis/code/data/keywords_2/merged/root-project.root.v6-32-06.docs.pt_40.parquet'), WindowsPath('C:/Users/Dmitrijs/Documents/myDocs/masters/courses/thesis/code/data/keywords_2/merged/root-project.root.v6-32-06.docs.pt_41.parquet'), WindowsPath('C:/Users/Dmitrijs/Documents/myDocs/masters/courses/thesis/code/data/keywords_2/merged/root-project.root.v6-32-06.docs.pt_42.parquet'), WindowsPath('C:/Users/Dmitrijs/Documents/myDocs/masters/courses/thesis/code/data/keywords_2/merged/root-project.root.v6-32-06.docs.pt_43.parquet'), WindowsPath('C:/Users/Dmitrijs/Documents/myDocs/masters/courses/thesis/code/data/keywords_2/merged/root-project.root.v6-32-06.docs.pt_44.parquet'), WindowsPath('C:/Users/Dmitrijs/Documents/myDocs/masters/courses/thesis/code/data/keywords_2/merged/root-project.root.v6-32-06.docs.pt_45.parquet'), WindowsPath('C:/Users/Dmitrijs/Documents/myDocs/masters/courses/thesis/code/data/keywords_2/merged/root-project.root.v6-32-06.docs.pt_46.parquet'), WindowsPath('C:/Users/Dmitrijs/Documents/myDocs/masters/courses/thesis/code/data/keywords_2/merged/root-project.root.v6-32-06.docs.pt_47.parquet'), WindowsPath('C:/Users/Dmitrijs/Documents/myDocs/masters/courses/thesis/code/data/keywords_2/merged/root-project.root.v6-32-06.docs.pt_48.parquet'), WindowsPath('C:/Users/Dmitrijs/Documents/myDocs/masters/courses/thesis/code/data/keywords_2/merged/root-project.root.v6-32-06.docs.pt_49.parquet'), WindowsPath('C:/Users/Dmitrijs/Documents/myDocs/masters/courses/thesis/code/data/keywords_2/merged/root-project.root.v6-32-06.issue.parquet'), WindowsPath('C:/Users/Dmitrijs/Documents/myDocs/masters/courses/thesis/code/data/keywords_2/merged/root-project.root.v6-32-06.issue.pt_02.parquet'), WindowsPath('C:/Users/Dmitrijs/Documents/myDocs/masters/courses/thesis/code/data/keywords_2/merged/root-project.root.v6-32-06.issue.pt_03.parquet'), WindowsPath('C:/Users/Dmitrijs/Documents/myDocs/masters/courses/thesis/code/data/keywords_2/merged/root-project.root.v6-32-06.issue.pt_04.parquet'), WindowsPath('C:/Users/Dmitrijs/Documents/myDocs/masters/courses/thesis/code/data/keywords_2/merged/root-project.root.v6-32-06.issue.pt_05.parquet'), WindowsPath('C:/Users/Dmitrijs/Documents/myDocs/masters/courses/thesis/code/data/keywords_2/merged/root-project.root.v6-32-06.issue.pt_06.parquet'), WindowsPath('C:/Users/Dmitrijs/Documents/myDocs/masters/courses/thesis/code/data/keywords_2/merged/root-project.root.v6-32-06.issue.pt_07.parquet'), WindowsPath('C:/Users/Dmitrijs/Documents/myDocs/masters/courses/thesis/code/data/keywords_2/merged/root-project.root.v6-32-06.issue.pt_08.parquet'), WindowsPath('C:/Users/Dmitrijs/Documents/myDocs/masters/courses/thesis/code/data/keywords_2/merged/root-project.root.v6-32-06.issue.pt_09.parquet'), WindowsPath('C:/Users/Dmitrijs/Documents/myDocs/masters/courses/thesis/code/data/keywords_2/merged/root-project.root.v6-32-06.issue.pt_10.parquet'), WindowsPath('C:/Users/Dmitrijs/Documents/myDocs/masters/courses/thesis/code/data/keywords_2/merged/root-project.root.v6-32-06.issue.pt_11.parquet'), WindowsPath('C:/Users/Dmitrijs/Documents/myDocs/masters/courses/thesis/code/data/keywords_2/merged/root-project.root.v6-32-06.issue.pt_12.parquet'), WindowsPath('C:/Users/Dmitrijs/Documents/myDocs/masters/courses/thesis/code/data/keywords_2/merged/root-project.root.v6-32-06.issue.pt_13.parquet'), WindowsPath('C:/Users/Dmitrijs/Documents/myDocs/masters/courses/thesis/code/data/keywords_2/merged/root-project.root.v6-32-06.issue.pt_14.parquet'), WindowsPath('C:/Users/Dmitrijs/Documents/myDocs/masters/courses/thesis/code/data/keywords_2/merged/root-project.root.v6-32-06.issue.pt_15.parquet'), WindowsPath('C:/Users/Dmitrijs/Documents/myDocs/masters/courses/thesis/code/data/keywords_2/merged/root-project.root.v6-32-06.issue.pt_16.parquet'), WindowsPath('C:/Users/Dmitrijs/Documents/myDocs/masters/courses/thesis/code/data/keywords_2/merged/root-project.root.v6-32-06.issue.pt_17.parquet'), WindowsPath('C:/Users/Dmitrijs/Documents/myDocs/masters/courses/thesis/code/data/keywords_2/merged/root-project.root.v6-32-06.issue.pt_18.parquet'), WindowsPath('C:/Users/Dmitrijs/Documents/myDocs/masters/courses/thesis/code/data/keywords_2/merged/root-project.root.v6-32-06.issue.pt_19.parquet'), WindowsPath('C:/Users/Dmitrijs/Documents/myDocs/masters/courses/thesis/code/data/keywords_2/merged/root-project.root.v6-32-06.issue.pt_20.parquet'), WindowsPath('C:/Users/Dmitrijs/Documents/myDocs/masters/courses/thesis/code/data/keywords_2/merged/root-project.root.v6-32-06.issue.pt_21.parquet'), WindowsPath('C:/Users/Dmitrijs/Documents/myDocs/masters/courses/thesis/code/data/keywords_2/merged/root-project.root.v6-32-06.issue.pt_22.parquet'), WindowsPath('C:/Users/Dmitrijs/Documents/myDocs/masters/courses/thesis/code/data/keywords_2/merged/root-project.root.v6-32-06.issue.pt_23.parquet'), WindowsPath('C:/Users/Dmitrijs/Documents/myDocs/masters/courses/thesis/code/data/keywords_2/merged/root-project.root.v6-32-06.issue.pt_24.parquet'), WindowsPath('C:/Users/Dmitrijs/Documents/myDocs/masters/courses/thesis/code/data/keywords_2/merged/root-project.root.v6-32-06.issue.pt_25.parquet'), WindowsPath('C:/Users/Dmitrijs/Documents/myDocs/masters/courses/thesis/code/data/keywords_2/merged/root-project.root.v6-32-06.issue.pt_26.parquet'), WindowsPath('C:/Users/Dmitrijs/Documents/myDocs/masters/courses/thesis/code/data/keywords_2/merged/root-project.root.v6-32-06.issue.pt_27.parquet'), WindowsPath('C:/Users/Dmitrijs/Documents/myDocs/masters/courses/thesis/code/data/keywords_2/merged/root-project.root.v6-32-06.issue.pt_28.parquet'), WindowsPath('C:/Users/Dmitrijs/Documents/myDocs/masters/courses/thesis/code/data/keywords_2/merged/root-project.root.v6-32-06.issue.pt_29.parquet'), WindowsPath('C:/Users/Dmitrijs/Documents/myDocs/masters/courses/thesis/code/data/keywords_2/merged/root-project.root.v6-32-06.issue.pt_30.parquet'), WindowsPath('C:/Users/Dmitrijs/Documents/myDocs/masters/courses/thesis/code/data/keywords_2/merged/root-project.root.v6-32-06.issue.pt_31.parquet'), WindowsPath('C:/Users/Dmitrijs/Documents/myDocs/masters/courses/thesis/code/data/keywords_2/merged/root-project.root.v6-32-06.issue.pt_32.parquet'), WindowsPath('C:/Users/Dmitrijs/Documents/myDocs/masters/courses/thesis/code/data/keywords_2/merged/root-project.root.v6-32-06.issue.pt_33.parquet'), WindowsPath('C:/Users/Dmitrijs/Documents/myDocs/masters/courses/thesis/code/data/keywords_2/merged/root-project.root.v6-32-06.issue_comment.parquet'), WindowsPath('C:/Users/Dmitrijs/Documents/myDocs/masters/courses/thesis/code/data/keywords_2/merged/root-project.root.v6-32-06.issue_comment.pt_02.parquet'), WindowsPath('C:/Users/Dmitrijs/Documents/myDocs/masters/courses/thesis/code/data/keywords_2/merged/root-project.root.v6-32-06.issue_comment.pt_03.parquet'), WindowsPath('C:/Users/Dmitrijs/Documents/myDocs/masters/courses/thesis/code/data/keywords_2/merged/root-project.root.v6-32-06.issue_comment.pt_04.parquet'), WindowsPath('C:/Users/Dmitrijs/Documents/myDocs/masters/courses/thesis/code/data/keywords_2/merged/root-project.root.v6-32-06.issue_comment.pt_05.parquet'), WindowsPath('C:/Users/Dmitrijs/Documents/myDocs/masters/courses/thesis/code/data/keywords_2/merged/root-project.root.v6-32-06.issue_comment.pt_06.parquet'), WindowsPath('C:/Users/Dmitrijs/Documents/myDocs/masters/courses/thesis/code/data/keywords_2/merged/root-project.root.v6-32-06.issue_comment.pt_07.parquet'), WindowsPath('C:/Users/Dmitrijs/Documents/myDocs/masters/courses/thesis/code/data/keywords_2/merged/root-project.root.v6-32-06.issue_comment.pt_08.parquet'), WindowsPath('C:/Users/Dmitrijs/Documents/myDocs/masters/courses/thesis/code/data/keywords_2/merged/root-project.root.v6-32-06.issue_comment.pt_09.parquet'), WindowsPath('C:/Users/Dmitrijs/Documents/myDocs/masters/courses/thesis/code/data/keywords_2/merged/root-project.root.v6-32-06.issue_comment.pt_10.parquet'), WindowsPath('C:/Users/Dmitrijs/Documents/myDocs/masters/courses/thesis/code/data/keywords_2/merged/root-project.root.v6-32-06.issue_comment.pt_11.parquet'), WindowsPath('C:/Users/Dmitrijs/Documents/myDocs/masters/courses/thesis/code/data/keywords_2/merged/root-project.root.v6-32-06.issue_comment.pt_12.parquet'), WindowsPath('C:/Users/Dmitrijs/Documents/myDocs/masters/courses/thesis/code/data/keywords_2/merged/root-project.root.v6-32-06.issue_comment.pt_13.parquet'), WindowsPath('C:/Users/Dmitrijs/Documents/myDocs/masters/courses/thesis/code/data/keywords_2/merged/root-project.root.v6-32-06.issue_comment.pt_14.parquet'), WindowsPath('C:/Users/Dmitrijs/Documents/myDocs/masters/courses/thesis/code/data/keywords_2/merged/root-project.root.v6-32-06.issue_comment.pt_15.parquet'), WindowsPath('C:/Users/Dmitrijs/Documents/myDocs/masters/courses/thesis/code/data/keywords_2/merged/root-project.root.v6-32-06.issue_comment.pt_16.parquet'), WindowsPath('C:/Users/Dmitrijs/Documents/myDocs/masters/courses/thesis/code/data/keywords_2/merged/root-project.root.v6-32-06.issue_comment.pt_17.parquet'), WindowsPath('C:/Users/Dmitrijs/Documents/myDocs/masters/courses/thesis/code/data/keywords_2/merged/root-project.root.v6-32-06.issue_comment.pt_18.parquet'), WindowsPath('C:/Users/Dmitrijs/Documents/myDocs/masters/courses/thesis/code/data/keywords_2/merged/root-project.root.v6-32-06.issue_comment.pt_19.parquet'), WindowsPath('C:/Users/Dmitrijs/Documents/myDocs/masters/courses/thesis/code/data/keywords_2/merged/root-project.root.v6-32-06.issue_comment.pt_20.parquet'), WindowsPath('C:/Users/Dmitrijs/Documents/myDocs/masters/courses/thesis/code/data/keywords_2/merged/root-project.root.v6-32-06.issue_comment.pt_21.parquet'), WindowsPath('C:/Users/Dmitrijs/Documents/myDocs/masters/courses/thesis/code/data/keywords_2/merged/root-project.root.v6-32-06.issue_comment.pt_22.parquet'), WindowsPath('C:/Users/Dmitrijs/Documents/myDocs/masters/courses/thesis/code/data/keywords_2/merged/root-project.root.v6-32-06.issue_comment.pt_23.parquet'), WindowsPath('C:/Users/Dmitrijs/Documents/myDocs/masters/courses/thesis/code/data/keywords_2/merged/root-project.root.v6-32-06.issue_comment.pt_24.parquet'), WindowsPath('C:/Users/Dmitrijs/Documents/myDocs/masters/courses/thesis/code/data/keywords_2/merged/root-project.root.v6-32-06.issue_comment.pt_25.parquet'), WindowsPath('C:/Users/Dmitrijs/Documents/myDocs/masters/courses/thesis/code/data/keywords_2/merged/root-project.root.v6-32-06.issue_comment.pt_26.parquet'), WindowsPath('C:/Users/Dmitrijs/Documents/myDocs/masters/courses/thesis/code/data/keywords_2/merged/root-project.root.v6-32-06.issue_comment.pt_27.parquet'), WindowsPath('C:/Users/Dmitrijs/Documents/myDocs/masters/courses/thesis/code/data/keywords_2/merged/root-project.root.v6-32-06.issue_comment.pt_28.parquet'), WindowsPath('C:/Users/Dmitrijs/Documents/myDocs/masters/courses/thesis/code/data/keywords_2/merged/root-project.root.v6-32-06.issue_comment.pt_29.parquet'), WindowsPath('C:/Users/Dmitrijs/Documents/myDocs/masters/courses/thesis/code/data/keywords_2/merged/root-project.root.v6-32-06.issue_comment.pt_30.parquet'), WindowsPath('C:/Users/Dmitrijs/Documents/myDocs/masters/courses/thesis/code/data/keywords_2/merged/root-project.root.v6-32-06.issue_comment.pt_31.parquet'), WindowsPath('C:/Users/Dmitrijs/Documents/myDocs/masters/courses/thesis/code/data/keywords_2/merged/root-project.root.v6-32-06.issue_comment.pt_32.parquet'), WindowsPath('C:/Users/Dmitrijs/Documents/myDocs/masters/courses/thesis/code/data/keywords_2/merged/root-project.root.v6-32-06.issue_comment.pt_33.parquet'), WindowsPath('C:/Users/Dmitrijs/Documents/myDocs/masters/courses/thesis/code/data/keywords_2/merged/root-project.root.v6-32-06.issue_comment.pt_34.parquet'), WindowsPath('C:/Users/Dmitrijs/Documents/myDocs/masters/courses/thesis/code/data/keywords_2/merged/root-project.root.v6-32-06.release.parquet'), WindowsPath('C:/Users/Dmitrijs/Documents/myDocs/masters/courses/thesis/code/data/keywords_2/merged/root-project.root.v6-32-06.wiki.parquet'), WindowsPath('C:/Users/Dmitrijs/Documents/myDocs/masters/courses/thesis/code/data/keywords_2/merged/root-project.root.v6-32-06.wiki.pt_2.parquet'), WindowsPath('C:/Users/Dmitrijs/Documents/myDocs/masters/courses/thesis/code/data/keywords_2/merged/scverse.scanpy.1.10.2.code_comment.parquet'), WindowsPath('C:/Users/Dmitrijs/Documents/myDocs/masters/courses/thesis/code/data/keywords_2/merged/scverse.scanpy.1.10.2.code_comment.pt_2.parquet'), WindowsPath('C:/Users/Dmitrijs/Documents/myDocs/masters/courses/thesis/code/data/keywords_2/merged/scverse.scanpy.1.10.2.docs.parquet'), WindowsPath('C:/Users/Dmitrijs/Documents/myDocs/masters/courses/thesis/code/data/keywords_2/merged/scverse.scanpy.1.10.2.issue.parquet'), WindowsPath('C:/Users/Dmitrijs/Documents/myDocs/masters/courses/thesis/code/data/keywords_2/merged/scverse.scanpy.1.10.2.issue.pt_2.parquet'), WindowsPath('C:/Users/Dmitrijs/Documents/myDocs/masters/courses/thesis/code/data/keywords_2/merged/scverse.scanpy.1.10.2.issue.pt_3.parquet'), WindowsPath('C:/Users/Dmitrijs/Documents/myDocs/masters/courses/thesis/code/data/keywords_2/merged/scverse.scanpy.1.10.2.issue.pt_4.parquet'), WindowsPath('C:/Users/Dmitrijs/Documents/myDocs/masters/courses/thesis/code/data/keywords_2/merged/scverse.scanpy.1.10.2.issue.pt_5.parquet'), WindowsPath('C:/Users/Dmitrijs/Documents/myDocs/masters/courses/thesis/code/data/keywords_2/merged/scverse.scanpy.1.10.2.issue.pt_6.parquet'), WindowsPath('C:/Users/Dmitrijs/Documents/myDocs/masters/courses/thesis/code/data/keywords_2/merged/scverse.scanpy.1.10.2.issue.pt_7.parquet'), WindowsPath('C:/Users/Dmitrijs/Documents/myDocs/masters/courses/thesis/code/data/keywords_2/merged/scverse.scanpy.1.10.2.issue.pt_8.parquet'), WindowsPath('C:/Users/Dmitrijs/Documents/myDocs/masters/courses/thesis/code/data/keywords_2/merged/scverse.scanpy.1.10.2.issue.pt_9.parquet'), WindowsPath('C:/Users/Dmitrijs/Documents/myDocs/masters/courses/thesis/code/data/keywords_2/merged/scverse.scanpy.1.10.2.issue_comment.parquet'), WindowsPath('C:/Users/Dmitrijs/Documents/myDocs/masters/courses/thesis/code/data/keywords_2/merged/scverse.scanpy.1.10.2.issue_comment.pt_02.parquet'), WindowsPath('C:/Users/Dmitrijs/Documents/myDocs/masters/courses/thesis/code/data/keywords_2/merged/scverse.scanpy.1.10.2.issue_comment.pt_03.parquet'), WindowsPath('C:/Users/Dmitrijs/Documents/myDocs/masters/courses/thesis/code/data/keywords_2/merged/scverse.scanpy.1.10.2.issue_comment.pt_04.parquet'), WindowsPath('C:/Users/Dmitrijs/Documents/myDocs/masters/courses/thesis/code/data/keywords_2/merged/scverse.scanpy.1.10.2.issue_comment.pt_05.parquet'), WindowsPath('C:/Users/Dmitrijs/Documents/myDocs/masters/courses/thesis/code/data/keywords_2/merged/scverse.scanpy.1.10.2.issue_comment.pt_06.parquet'), WindowsPath('C:/Users/Dmitrijs/Documents/myDocs/masters/courses/thesis/code/data/keywords_2/merged/scverse.scanpy.1.10.2.issue_comment.pt_07.parquet'), WindowsPath('C:/Users/Dmitrijs/Documents/myDocs/masters/courses/thesis/code/data/keywords_2/merged/scverse.scanpy.1.10.2.issue_comment.pt_08.parquet'), WindowsPath('C:/Users/Dmitrijs/Documents/myDocs/masters/courses/thesis/code/data/keywords_2/merged/scverse.scanpy.1.10.2.issue_comment.pt_09.parquet'), WindowsPath('C:/Users/Dmitrijs/Documents/myDocs/masters/courses/thesis/code/data/keywords_2/merged/scverse.scanpy.1.10.2.issue_comment.pt_10.parquet'), WindowsPath('C:/Users/Dmitrijs/Documents/myDocs/masters/courses/thesis/code/data/keywords_2/merged/scverse.scanpy.1.10.2.issue_comment.pt_11.parquet'), WindowsPath('C:/Users/Dmitrijs/Documents/myDocs/masters/courses/thesis/code/data/keywords_2/merged/scverse.scanpy.1.10.2.wiki.parquet'), WindowsPath('C:/Users/Dmitrijs/Documents/myDocs/masters/courses/thesis/code/data/keywords_2/merged/scverse.scanpy.1.10.2.wiki.pt_2.parquet')]\n"
     ]
    }
   ],
   "execution_count": 5
  },
  {
   "metadata": {
    "ExecuteTime": {
     "end_time": "2025-08-20T00:15:02.766835Z",
     "start_time": "2025-08-20T00:15:02.759927Z"
    }
   },
   "cell_type": "code",
   "source": "df.shape",
   "id": "18b7bfabeeef4b1b",
   "outputs": [
    {
     "data": {
      "text/plain": [
       "(1601472, 15)"
      ]
     },
     "execution_count": 6,
     "metadata": {},
     "output_type": "execute_result"
    }
   ],
   "execution_count": 6
  },
  {
   "metadata": {
    "ExecuteTime": {
     "end_time": "2025-08-20T00:15:04.441705Z",
     "start_time": "2025-08-20T00:15:04.428383Z"
    }
   },
   "cell_type": "code",
   "source": "df.head(5)",
   "id": "f27c596c078f280e",
   "outputs": [
    {
     "data": {
      "text/plain": [
       "   keyword                                           sentence            qa  \\\n",
       "0     down  Given something that might be a URL (or might ...  availability   \n",
       "1     down  Given a URL, look for the corresponding datase...  availability   \n",
       "2     down  Download to temporary file, then copy to cache...  availability   \n",
       "3    avail  A candidate generator for entity linking to a ...  availability   \n",
       "4  consist  A spacy pipeline component which identifies en...  availability   \n",
       "\n",
       "         source                                                url  \\\n",
       "0  code_comment  https://github.com/allenai/scispacy/tree/v0.5....   \n",
       "1  code_comment  https://github.com/allenai/scispacy/tree/v0.5....   \n",
       "2  code_comment  https://github.com/allenai/scispacy/tree/v0.5....   \n",
       "3  code_comment  https://github.com/allenai/scispacy/tree/v0.5....   \n",
       "4  code_comment  https://github.com/allenai/scispacy/tree/v0.5....   \n",
       "\n",
       "                   repo_id matched_word  nsimilar  prefilter_passed  \\\n",
       "0  allenai/scispacy/v0.5.5     download         1              True   \n",
       "1  allenai/scispacy/v0.5.5     download         1              True   \n",
       "2  allenai/scispacy/v0.5.5     download         2              True   \n",
       "3  allenai/scispacy/v0.5.5    available         1              True   \n",
       "4  allenai/scispacy/v0.5.5     consists         1              True   \n",
       "\n",
       "   s0_passed  s1_passed  s2_passed  s3_passed s3_tactic s3_tactic_category  \n",
       "0       True       True      False      False       NaN                NaN  \n",
       "1      False      False      False      False       NaN                NaN  \n",
       "2       True       True       True      False      None                NaN  \n",
       "3       True      False      False      False       NaN                NaN  \n",
       "4      False      False      False      False       NaN                NaN  "
      ],
      "text/html": [
       "<div>\n",
       "<style scoped>\n",
       "    .dataframe tbody tr th:only-of-type {\n",
       "        vertical-align: middle;\n",
       "    }\n",
       "\n",
       "    .dataframe tbody tr th {\n",
       "        vertical-align: top;\n",
       "    }\n",
       "\n",
       "    .dataframe thead th {\n",
       "        text-align: right;\n",
       "    }\n",
       "</style>\n",
       "<table border=\"1\" class=\"dataframe\">\n",
       "  <thead>\n",
       "    <tr style=\"text-align: right;\">\n",
       "      <th></th>\n",
       "      <th>keyword</th>\n",
       "      <th>sentence</th>\n",
       "      <th>qa</th>\n",
       "      <th>source</th>\n",
       "      <th>url</th>\n",
       "      <th>repo_id</th>\n",
       "      <th>matched_word</th>\n",
       "      <th>nsimilar</th>\n",
       "      <th>prefilter_passed</th>\n",
       "      <th>s0_passed</th>\n",
       "      <th>s1_passed</th>\n",
       "      <th>s2_passed</th>\n",
       "      <th>s3_passed</th>\n",
       "      <th>s3_tactic</th>\n",
       "      <th>s3_tactic_category</th>\n",
       "    </tr>\n",
       "  </thead>\n",
       "  <tbody>\n",
       "    <tr>\n",
       "      <th>0</th>\n",
       "      <td>down</td>\n",
       "      <td>Given something that might be a URL (or might ...</td>\n",
       "      <td>availability</td>\n",
       "      <td>code_comment</td>\n",
       "      <td>https://github.com/allenai/scispacy/tree/v0.5....</td>\n",
       "      <td>allenai/scispacy/v0.5.5</td>\n",
       "      <td>download</td>\n",
       "      <td>1</td>\n",
       "      <td>True</td>\n",
       "      <td>True</td>\n",
       "      <td>True</td>\n",
       "      <td>False</td>\n",
       "      <td>False</td>\n",
       "      <td>NaN</td>\n",
       "      <td>NaN</td>\n",
       "    </tr>\n",
       "    <tr>\n",
       "      <th>1</th>\n",
       "      <td>down</td>\n",
       "      <td>Given a URL, look for the corresponding datase...</td>\n",
       "      <td>availability</td>\n",
       "      <td>code_comment</td>\n",
       "      <td>https://github.com/allenai/scispacy/tree/v0.5....</td>\n",
       "      <td>allenai/scispacy/v0.5.5</td>\n",
       "      <td>download</td>\n",
       "      <td>1</td>\n",
       "      <td>True</td>\n",
       "      <td>False</td>\n",
       "      <td>False</td>\n",
       "      <td>False</td>\n",
       "      <td>False</td>\n",
       "      <td>NaN</td>\n",
       "      <td>NaN</td>\n",
       "    </tr>\n",
       "    <tr>\n",
       "      <th>2</th>\n",
       "      <td>down</td>\n",
       "      <td>Download to temporary file, then copy to cache...</td>\n",
       "      <td>availability</td>\n",
       "      <td>code_comment</td>\n",
       "      <td>https://github.com/allenai/scispacy/tree/v0.5....</td>\n",
       "      <td>allenai/scispacy/v0.5.5</td>\n",
       "      <td>download</td>\n",
       "      <td>2</td>\n",
       "      <td>True</td>\n",
       "      <td>True</td>\n",
       "      <td>True</td>\n",
       "      <td>True</td>\n",
       "      <td>False</td>\n",
       "      <td>None</td>\n",
       "      <td>NaN</td>\n",
       "    </tr>\n",
       "    <tr>\n",
       "      <th>3</th>\n",
       "      <td>avail</td>\n",
       "      <td>A candidate generator for entity linking to a ...</td>\n",
       "      <td>availability</td>\n",
       "      <td>code_comment</td>\n",
       "      <td>https://github.com/allenai/scispacy/tree/v0.5....</td>\n",
       "      <td>allenai/scispacy/v0.5.5</td>\n",
       "      <td>available</td>\n",
       "      <td>1</td>\n",
       "      <td>True</td>\n",
       "      <td>True</td>\n",
       "      <td>False</td>\n",
       "      <td>False</td>\n",
       "      <td>False</td>\n",
       "      <td>NaN</td>\n",
       "      <td>NaN</td>\n",
       "    </tr>\n",
       "    <tr>\n",
       "      <th>4</th>\n",
       "      <td>consist</td>\n",
       "      <td>A spacy pipeline component which identifies en...</td>\n",
       "      <td>availability</td>\n",
       "      <td>code_comment</td>\n",
       "      <td>https://github.com/allenai/scispacy/tree/v0.5....</td>\n",
       "      <td>allenai/scispacy/v0.5.5</td>\n",
       "      <td>consists</td>\n",
       "      <td>1</td>\n",
       "      <td>True</td>\n",
       "      <td>False</td>\n",
       "      <td>False</td>\n",
       "      <td>False</td>\n",
       "      <td>False</td>\n",
       "      <td>NaN</td>\n",
       "      <td>NaN</td>\n",
       "    </tr>\n",
       "  </tbody>\n",
       "</table>\n",
       "</div>"
      ]
     },
     "execution_count": 7,
     "metadata": {},
     "output_type": "execute_result"
    }
   ],
   "execution_count": 7
  },
  {
   "metadata": {
    "ExecuteTime": {
     "end_time": "2025-08-19T23:46:16.244767Z",
     "start_time": "2025-08-19T23:46:16.204601Z"
    }
   },
   "cell_type": "code",
   "source": [
    "# df = df[~df.repo_id.str.contains(\"root-project\")]\n",
    "# df.shape"
   ],
   "id": "5595848bac90755f",
   "outputs": [
    {
     "data": {
      "text/plain": [
       "(225414, 15)"
      ]
     },
     "execution_count": 7,
     "metadata": {},
     "output_type": "execute_result"
    }
   ],
   "execution_count": 7
  },
  {
   "metadata": {},
   "cell_type": "markdown",
   "source": "## Overview",
   "id": "736777294daa4e12"
  },
  {
   "metadata": {
    "ExecuteTime": {
     "end_time": "2025-08-18T08:54:33.257903Z",
     "start_time": "2025-08-18T08:54:33.203430Z"
    }
   },
   "cell_type": "code",
   "source": "df[df.s3_passed == True].sample(10)",
   "id": "4200522ab629e958",
   "outputs": [
    {
     "data": {
      "text/plain": [
       "                                                     keyword keyword_raw  \\\n",
       "id                                                                         \n",
       "OpenGene/fastp/v0.23.4.code_comment.safety.2718...     error       error   \n",
       "allenai/scispacy/v0.5.5.issue_comment.deployabi...     modul       modul   \n",
       "OpenGene/fastp/v0.23.4.code_comment.integrabili...    buffer      buffer   \n",
       "allenai/scispacy/v0.5.5.code_comment.usability....   perform     perform   \n",
       "allenai/scispacy/v0.5.5.issue_comment.availabil...      down        down   \n",
       "OpenGene/fastp/v0.23.4.issue.safety.5199778d834...     compl       compl   \n",
       "root-project/root/v6-32-06.code_comment.integra...    buffer      buffer   \n",
       "OpenGene/fastp/v0.23.4.issue.deployability.2261...     scale       scale   \n",
       "root-project/root/v6-32-06.code_comment.integra...  interfac    interfac   \n",
       "OpenGene/fastp/v0.23.4.issue.safety.f755e786ca7...    detect      detect   \n",
       "\n",
       "                                                                                             sentence  \\\n",
       "id                                                                                                      \n",
       "OpenGene/fastp/v0.23.4.code_comment.safety.2718...  Converts, formats, and writes the arguments to...   \n",
       "allenai/scispacy/v0.5.5.issue_comment.deployabi...  You can use the entity ruler (https://spacy.io...   \n",
       "OpenGene/fastp/v0.23.4.code_comment.integrabili...  inflateBack() does a raw inflate with a single...   \n",
       "allenai/scispacy/v0.5.5.code_comment.usability....  ctorizer to embed mention text into a sparse e...   \n",
       "allenai/scispacy/v0.5.5.issue_comment.availabil...  Hi, so this is an issue with something I have ...   \n",
       "OpenGene/fastp/v0.23.4.issue.safety.5199778d834...  Trimming for polyA/T/C; improved runtimes for ...   \n",
       "root-project/root/v6-32-06.code_comment.integra...  inflateBack() does a raw inflate with a single...   \n",
       "OpenGene/fastp/v0.23.4.issue.deployability.2261...  Plots: y-axis scaling | plot of 3 trimming; Re...   \n",
       "root-project/root/v6-32-06.code_comment.integra...  The zlib compression library provides in-memor...   \n",
       "OpenGene/fastp/v0.23.4.issue.safety.f755e786ca7...   part of a bash workflow, and two files have g...   \n",
       "\n",
       "                                                               qa  \\\n",
       "id                                                                  \n",
       "OpenGene/fastp/v0.23.4.code_comment.safety.2718...         safety   \n",
       "allenai/scispacy/v0.5.5.issue_comment.deployabi...  deployability   \n",
       "OpenGene/fastp/v0.23.4.code_comment.integrabili...  integrability   \n",
       "allenai/scispacy/v0.5.5.code_comment.usability....      usability   \n",
       "allenai/scispacy/v0.5.5.issue_comment.availabil...   availability   \n",
       "OpenGene/fastp/v0.23.4.issue.safety.5199778d834...         safety   \n",
       "root-project/root/v6-32-06.code_comment.integra...  integrability   \n",
       "OpenGene/fastp/v0.23.4.issue.deployability.2261...  deployability   \n",
       "root-project/root/v6-32-06.code_comment.integra...  integrability   \n",
       "OpenGene/fastp/v0.23.4.issue.safety.f755e786ca7...         safety   \n",
       "\n",
       "                                                                                                  url  \\\n",
       "id                                                                                                      \n",
       "OpenGene/fastp/v0.23.4.code_comment.safety.2718...  https://github.com/OpenGene/fastp/tree/v0.23.4...   \n",
       "allenai/scispacy/v0.5.5.issue_comment.deployabi...     https://github.com/allenai/scispacy/issues/226   \n",
       "OpenGene/fastp/v0.23.4.code_comment.integrabili...  https://github.com/OpenGene/fastp/tree/v0.23.4...   \n",
       "allenai/scispacy/v0.5.5.code_comment.usability....  https://github.com/allenai/scispacy/tree/v0.5....   \n",
       "allenai/scispacy/v0.5.5.issue_comment.availabil...     https://github.com/allenai/scispacy/issues/450   \n",
       "OpenGene/fastp/v0.23.4.issue.safety.5199778d834...        https://github.com/OpenGene/fastp/issues/33   \n",
       "root-project/root/v6-32-06.code_comment.integra...  https://github.com/root-project/root/tree/v6-3...   \n",
       "OpenGene/fastp/v0.23.4.issue.deployability.2261...       https://github.com/OpenGene/fastp/issues/206   \n",
       "root-project/root/v6-32-06.code_comment.integra...  https://github.com/root-project/root/tree/v6-3...   \n",
       "OpenGene/fastp/v0.23.4.issue.safety.f755e786ca7...       https://github.com/OpenGene/fastp/issues/377   \n",
       "\n",
       "                                                   matched_word  \\\n",
       "id                                                                \n",
       "OpenGene/fastp/v0.23.4.code_comment.safety.2718...        error   \n",
       "allenai/scispacy/v0.5.5.issue_comment.deployabi...       module   \n",
       "OpenGene/fastp/v0.23.4.code_comment.integrabili...      buffers   \n",
       "allenai/scispacy/v0.5.5.code_comment.usability....  performance   \n",
       "allenai/scispacy/v0.5.5.issue_comment.availabil...    downgrade   \n",
       "OpenGene/fastp/v0.23.4.issue.safety.5199778d834...   complexity   \n",
       "root-project/root/v6-32-06.code_comment.integra...       buffer   \n",
       "OpenGene/fastp/v0.23.4.issue.deployability.2261...        scale   \n",
       "root-project/root/v6-32-06.code_comment.integra...    interface   \n",
       "OpenGene/fastp/v0.23.4.issue.safety.f755e786ca7...    detecting   \n",
       "\n",
       "                                                                          unique_matched_words  \\\n",
       "id                                                                                               \n",
       "OpenGene/fastp/v0.23.4.code_comment.safety.2718...                  error, Error, ERROR, ERRor   \n",
       "allenai/scispacy/v0.5.5.issue_comment.deployabi...                      module, Module, MODULE   \n",
       "OpenGene/fastp/v0.23.4.code_comment.integrabili...                            buffers, Buffers   \n",
       "allenai/scispacy/v0.5.5.code_comment.usability....       performance, Performance, PERFORMANCE   \n",
       "allenai/scispacy/v0.5.5.issue_comment.availabil...                        downgrade, Downgrade   \n",
       "OpenGene/fastp/v0.23.4.issue.safety.5199778d834...                      complexity, Complexity   \n",
       "root-project/root/v6-32-06.code_comment.integra...                      Buffer, buffer, BUFFER   \n",
       "OpenGene/fastp/v0.23.4.issue.deployability.2261...                         scale, Scale, SCALE   \n",
       "root-project/root/v6-32-06.code_comment.integra...  interface, Interface, INTERFACE, InterFace   \n",
       "OpenGene/fastp/v0.23.4.issue.safety.f755e786ca7...                        detecting, Detecting   \n",
       "\n",
       "                                                    nunique_matched_words  \\\n",
       "id                                                                          \n",
       "OpenGene/fastp/v0.23.4.code_comment.safety.2718...                      4   \n",
       "allenai/scispacy/v0.5.5.issue_comment.deployabi...                      3   \n",
       "OpenGene/fastp/v0.23.4.code_comment.integrabili...                      2   \n",
       "allenai/scispacy/v0.5.5.code_comment.usability....                      3   \n",
       "allenai/scispacy/v0.5.5.issue_comment.availabil...                      2   \n",
       "OpenGene/fastp/v0.23.4.issue.safety.5199778d834...                      2   \n",
       "root-project/root/v6-32-06.code_comment.integra...                      3   \n",
       "OpenGene/fastp/v0.23.4.issue.deployability.2261...                      3   \n",
       "root-project/root/v6-32-06.code_comment.integra...                      4   \n",
       "OpenGene/fastp/v0.23.4.issue.safety.f755e786ca7...                      2   \n",
       "\n",
       "                                                    nsimilar  \\\n",
       "id                                                             \n",
       "OpenGene/fastp/v0.23.4.code_comment.safety.2718...         2   \n",
       "allenai/scispacy/v0.5.5.issue_comment.deployabi...         1   \n",
       "OpenGene/fastp/v0.23.4.code_comment.integrabili...         1   \n",
       "allenai/scispacy/v0.5.5.code_comment.usability....         1   \n",
       "allenai/scispacy/v0.5.5.issue_comment.availabil...         1   \n",
       "OpenGene/fastp/v0.23.4.issue.safety.5199778d834...         1   \n",
       "root-project/root/v6-32-06.code_comment.integra...         3   \n",
       "OpenGene/fastp/v0.23.4.issue.deployability.2261...         1   \n",
       "root-project/root/v6-32-06.code_comment.integra...         2   \n",
       "OpenGene/fastp/v0.23.4.issue.safety.f755e786ca7...         1   \n",
       "\n",
       "                                                    prefilter_passed  ...  \\\n",
       "id                                                                    ...   \n",
       "OpenGene/fastp/v0.23.4.code_comment.safety.2718...              True  ...   \n",
       "allenai/scispacy/v0.5.5.issue_comment.deployabi...              True  ...   \n",
       "OpenGene/fastp/v0.23.4.code_comment.integrabili...              True  ...   \n",
       "allenai/scispacy/v0.5.5.code_comment.usability....              True  ...   \n",
       "allenai/scispacy/v0.5.5.issue_comment.availabil...              True  ...   \n",
       "OpenGene/fastp/v0.23.4.issue.safety.5199778d834...              True  ...   \n",
       "root-project/root/v6-32-06.code_comment.integra...              True  ...   \n",
       "OpenGene/fastp/v0.23.4.issue.deployability.2261...              True  ...   \n",
       "root-project/root/v6-32-06.code_comment.integra...              True  ...   \n",
       "OpenGene/fastp/v0.23.4.issue.safety.f755e786ca7...              True  ...   \n",
       "\n",
       "                                                   s2_passed  \\\n",
       "id                                                             \n",
       "OpenGene/fastp/v0.23.4.code_comment.safety.2718...      True   \n",
       "allenai/scispacy/v0.5.5.issue_comment.deployabi...      True   \n",
       "OpenGene/fastp/v0.23.4.code_comment.integrabili...      True   \n",
       "allenai/scispacy/v0.5.5.code_comment.usability....      True   \n",
       "allenai/scispacy/v0.5.5.issue_comment.availabil...      True   \n",
       "OpenGene/fastp/v0.23.4.issue.safety.5199778d834...      True   \n",
       "root-project/root/v6-32-06.code_comment.integra...      True   \n",
       "OpenGene/fastp/v0.23.4.issue.deployability.2261...      True   \n",
       "root-project/root/v6-32-06.code_comment.integra...      True   \n",
       "OpenGene/fastp/v0.23.4.issue.safety.f755e786ca7...      True   \n",
       "\n",
       "                                                                 s3_architectural_activity_extraction  \\\n",
       "id                                                                                                      \n",
       "OpenGene/fastp/v0.23.4.code_comment.safety.2718...  Converts, formats, and writes the arguments to...   \n",
       "allenai/scispacy/v0.5.5.issue_comment.deployabi...  You can use the entity ruler instead of the ne...   \n",
       "OpenGene/fastp/v0.23.4.code_comment.integrabili...  inflateBack() does a raw inflate with a single...   \n",
       "allenai/scispacy/v0.5.5.code_comment.usability....  ctorizer to embed mention text into a sparse e...   \n",
       "allenai/scispacy/v0.5.5.issue_comment.availabil...  After doing those two things you should have t...   \n",
       "OpenGene/fastp/v0.23.4.issue.safety.5199778d834...  We did a test run with fastp and atropos and f...   \n",
       "root-project/root/v6-32-06.code_comment.integra...  inflateBack() does a raw inflate with a single...   \n",
       "OpenGene/fastp/v0.23.4.issue.deployability.2261...  Plots: y-axis scaling | plot of 3 trimming; Re...   \n",
       "root-project/root/v6-32-06.code_comment.integra...  The zlib compression library provides in-memor...   \n",
       "OpenGene/fastp/v0.23.4.issue.safety.f755e786ca7...  part of a bash workflow, and two files have gi...   \n",
       "\n",
       "                                                                             s3_core_concept_analysis  \\\n",
       "id                                                                                                      \n",
       "OpenGene/fastp/v0.23.4.code_comment.safety.2718...  The number of bytes written to the compressed ...   \n",
       "allenai/scispacy/v0.5.5.issue_comment.deployabi...  The extracted sentences indicate that the syst...   \n",
       "OpenGene/fastp/v0.23.4.code_comment.integrabili...  The primary architectural concept is the use o...   \n",
       "allenai/scispacy/v0.5.5.code_comment.usability....  The primary architectural concept identified i...   \n",
       "allenai/scispacy/v0.5.5.issue_comment.availabil...  The primary architectural concept is 'Removal ...   \n",
       "OpenGene/fastp/v0.23.4.issue.safety.5199778d834...                            PolyX sequences removal   \n",
       "root-project/root/v6-32-06.code_comment.integra...  The primary architectural concept is the use o...   \n",
       "OpenGene/fastp/v0.23.4.issue.deployability.2261...  The concept of y-axis scaling for plots, parti...   \n",
       "root-project/root/v6-32-06.code_comment.integra...                                               Zlib   \n",
       "OpenGene/fastp/v0.23.4.issue.safety.f755e786ca7...  The primary architectural concept identified i...   \n",
       "\n",
       "                                                   s3_is_tactic_relevant  \\\n",
       "id                                                                         \n",
       "OpenGene/fastp/v0.23.4.code_comment.safety.2718...                  True   \n",
       "allenai/scispacy/v0.5.5.issue_comment.deployabi...                  True   \n",
       "OpenGene/fastp/v0.23.4.code_comment.integrabili...                  True   \n",
       "allenai/scispacy/v0.5.5.code_comment.usability....                  True   \n",
       "allenai/scispacy/v0.5.5.issue_comment.availabil...                  True   \n",
       "OpenGene/fastp/v0.23.4.issue.safety.5199778d834...                  True   \n",
       "root-project/root/v6-32-06.code_comment.integra...                  True   \n",
       "OpenGene/fastp/v0.23.4.issue.deployability.2261...                  True   \n",
       "root-project/root/v6-32-06.code_comment.integra...                  True   \n",
       "OpenGene/fastp/v0.23.4.issue.safety.f755e786ca7...                  True   \n",
       "\n",
       "                                                                                  s3_relevance_reason  \\\n",
       "id                                                                                                      \n",
       "OpenGene/fastp/v0.23.4.code_comment.safety.2718...  The concept of limiting the number of bytes wr...   \n",
       "allenai/scispacy/v0.5.5.issue_comment.deployabi...  The extracted sentences describe a concrete te...   \n",
       "OpenGene/fastp/v0.23.4.code_comment.integrabili...  The core concept involves a deliberate design ...   \n",
       "allenai/scispacy/v0.5.5.code_comment.usability....  The concept 'Increase semantic coherence' is r...   \n",
       "allenai/scispacy/v0.5.5.issue_comment.availabil...  The core concept of 'Removal from Service' des...   \n",
       "OpenGene/fastp/v0.23.4.issue.safety.5199778d834...  The extracted sentence discusses the removal o...   \n",
       "root-project/root/v6-32-06.code_comment.integra...  The core concept involves a deliberate design ...   \n",
       "OpenGene/fastp/v0.23.4.issue.deployability.2261...  The extracted sentence discusses the y-axis sc...   \n",
       "root-project/root/v6-32-06.code_comment.integra...  The text discusses the differences between the...   \n",
       "OpenGene/fastp/v0.23.4.issue.safety.f755e786ca7...  The identified segmentation fault error is a c...   \n",
       "\n",
       "                                                                                 s3_tactic_evaluation  \\\n",
       "id                                                                                                      \n",
       "OpenGene/fastp/v0.23.4.code_comment.safety.2718...                                               true   \n",
       "allenai/scispacy/v0.5.5.issue_comment.deployabi...                                               true   \n",
       "OpenGene/fastp/v0.23.4.code_comment.integrabili...                                   Discover Service   \n",
       "allenai/scispacy/v0.5.5.code_comment.usability....                                               true   \n",
       "allenai/scispacy/v0.5.5.issue_comment.availabil...                                               true   \n",
       "OpenGene/fastp/v0.23.4.issue.safety.5199778d834...                                               true   \n",
       "root-project/root/v6-32-06.code_comment.integra...                                   Discover Service   \n",
       "OpenGene/fastp/v0.23.4.issue.deployability.2261...                                               true   \n",
       "root-project/root/v6-32-06.code_comment.integra...                                   Discover Service   \n",
       "OpenGene/fastp/v0.23.4.issue.safety.f755e786ca7...  The segmentation fault error is directly tied ...   \n",
       "\n",
       "                                                             s3_selected_tactic  \\\n",
       "id                                                                                \n",
       "OpenGene/fastp/v0.23.4.code_comment.safety.2718...                 Limit Access   \n",
       "allenai/scispacy/v0.5.5.issue_comment.deployabi...                         Undo   \n",
       "OpenGene/fastp/v0.23.4.code_comment.integrabili...             Discover Service   \n",
       "allenai/scispacy/v0.5.5.code_comment.usability....  Increase semantic coherence   \n",
       "allenai/scispacy/v0.5.5.issue_comment.availabil...         Removal from Service   \n",
       "OpenGene/fastp/v0.23.4.issue.safety.5199778d834...                 Polymorphism   \n",
       "root-project/root/v6-32-06.code_comment.integra...             Discover Service   \n",
       "OpenGene/fastp/v0.23.4.issue.deployability.2261...                  Encapsulate   \n",
       "root-project/root/v6-32-06.code_comment.integra...             Discover Service   \n",
       "OpenGene/fastp/v0.23.4.issue.safety.f755e786ca7...        Detect Service Denial   \n",
       "\n",
       "                                                                                     s3_justification  \\\n",
       "id                                                                                                      \n",
       "OpenGene/fastp/v0.23.4.code_comment.safety.2718...  The selected tactic 'Limit Access' best matche...   \n",
       "allenai/scispacy/v0.5.5.issue_comment.deployabi...  The extracted sentences describe a concrete ar...   \n",
       "OpenGene/fastp/v0.23.4.code_comment.integrabili...  The selected tactic 'Discover Service' is the ...   \n",
       "allenai/scispacy/v0.5.5.code_comment.usability....  The selected tactic 'Increase semantic coheren...   \n",
       "allenai/scispacy/v0.5.5.issue_comment.availabil...  The selected tactic is the best fit because it...   \n",
       "OpenGene/fastp/v0.23.4.issue.safety.5199778d834...  The selected tactic 'Polymorphism' is justifie...   \n",
       "root-project/root/v6-32-06.code_comment.integra...  The selected tactic 'Discover Service' is the ...   \n",
       "OpenGene/fastp/v0.23.4.issue.deployability.2261...  The extracted sentence discusses y-axis scalin...   \n",
       "root-project/root/v6-32-06.code_comment.integra...  The selected tactic 'Discover Service' best ma...   \n",
       "OpenGene/fastp/v0.23.4.issue.safety.f755e786ca7...  The segmentation fault error in the ILLIUM Tru...   \n",
       "\n",
       "                                                   s3_passed  \\\n",
       "id                                                             \n",
       "OpenGene/fastp/v0.23.4.code_comment.safety.2718...      True   \n",
       "allenai/scispacy/v0.5.5.issue_comment.deployabi...      True   \n",
       "OpenGene/fastp/v0.23.4.code_comment.integrabili...      True   \n",
       "allenai/scispacy/v0.5.5.code_comment.usability....      True   \n",
       "allenai/scispacy/v0.5.5.issue_comment.availabil...      True   \n",
       "OpenGene/fastp/v0.23.4.issue.safety.5199778d834...      True   \n",
       "root-project/root/v6-32-06.code_comment.integra...      True   \n",
       "OpenGene/fastp/v0.23.4.issue.deployability.2261...      True   \n",
       "root-project/root/v6-32-06.code_comment.integra...      True   \n",
       "OpenGene/fastp/v0.23.4.issue.safety.f755e786ca7...      True   \n",
       "\n",
       "                                                             s3_tactic_category  \n",
       "id                                                                               \n",
       "OpenGene/fastp/v0.23.4.code_comment.safety.2718...               Resist Attacks  \n",
       "allenai/scispacy/v0.5.5.issue_comment.deployabi...      Support User Initiative  \n",
       "OpenGene/fastp/v0.23.4.code_comment.integrabili...                       Locate  \n",
       "allenai/scispacy/v0.5.5.code_comment.usability....  Separate the User Interface  \n",
       "allenai/scispacy/v0.5.5.issue_comment.availabil...               Prevent Faults  \n",
       "OpenGene/fastp/v0.23.4.issue.safety.5199778d834...                Defer Binding  \n",
       "root-project/root/v6-32-06.code_comment.integra...                       Locate  \n",
       "OpenGene/fastp/v0.23.4.issue.deployability.2261...  Separate the User Interface  \n",
       "root-project/root/v6-32-06.code_comment.integra...                       Locate  \n",
       "OpenGene/fastp/v0.23.4.issue.safety.f755e786ca7...               Detect Attacks  \n",
       "\n",
       "[10 rows x 38 columns]"
      ],
      "text/html": [
       "<div>\n",
       "<style scoped>\n",
       "    .dataframe tbody tr th:only-of-type {\n",
       "        vertical-align: middle;\n",
       "    }\n",
       "\n",
       "    .dataframe tbody tr th {\n",
       "        vertical-align: top;\n",
       "    }\n",
       "\n",
       "    .dataframe thead th {\n",
       "        text-align: right;\n",
       "    }\n",
       "</style>\n",
       "<table border=\"1\" class=\"dataframe\">\n",
       "  <thead>\n",
       "    <tr style=\"text-align: right;\">\n",
       "      <th></th>\n",
       "      <th>keyword</th>\n",
       "      <th>keyword_raw</th>\n",
       "      <th>sentence</th>\n",
       "      <th>qa</th>\n",
       "      <th>url</th>\n",
       "      <th>matched_word</th>\n",
       "      <th>unique_matched_words</th>\n",
       "      <th>nunique_matched_words</th>\n",
       "      <th>nsimilar</th>\n",
       "      <th>prefilter_passed</th>\n",
       "      <th>...</th>\n",
       "      <th>s2_passed</th>\n",
       "      <th>s3_architectural_activity_extraction</th>\n",
       "      <th>s3_core_concept_analysis</th>\n",
       "      <th>s3_is_tactic_relevant</th>\n",
       "      <th>s3_relevance_reason</th>\n",
       "      <th>s3_tactic_evaluation</th>\n",
       "      <th>s3_selected_tactic</th>\n",
       "      <th>s3_justification</th>\n",
       "      <th>s3_passed</th>\n",
       "      <th>s3_tactic_category</th>\n",
       "    </tr>\n",
       "    <tr>\n",
       "      <th>id</th>\n",
       "      <th></th>\n",
       "      <th></th>\n",
       "      <th></th>\n",
       "      <th></th>\n",
       "      <th></th>\n",
       "      <th></th>\n",
       "      <th></th>\n",
       "      <th></th>\n",
       "      <th></th>\n",
       "      <th></th>\n",
       "      <th></th>\n",
       "      <th></th>\n",
       "      <th></th>\n",
       "      <th></th>\n",
       "      <th></th>\n",
       "      <th></th>\n",
       "      <th></th>\n",
       "      <th></th>\n",
       "      <th></th>\n",
       "      <th></th>\n",
       "      <th></th>\n",
       "    </tr>\n",
       "  </thead>\n",
       "  <tbody>\n",
       "    <tr>\n",
       "      <th>OpenGene/fastp/v0.23.4.code_comment.safety.27183ebb431d2bd9562f75fb6fe7e240.error.error</th>\n",
       "      <td>error</td>\n",
       "      <td>error</td>\n",
       "      <td>Converts, formats, and writes the arguments to...</td>\n",
       "      <td>safety</td>\n",
       "      <td>https://github.com/OpenGene/fastp/tree/v0.23.4...</td>\n",
       "      <td>error</td>\n",
       "      <td>error, Error, ERROR, ERRor</td>\n",
       "      <td>4</td>\n",
       "      <td>2</td>\n",
       "      <td>True</td>\n",
       "      <td>...</td>\n",
       "      <td>True</td>\n",
       "      <td>Converts, formats, and writes the arguments to...</td>\n",
       "      <td>The number of bytes written to the compressed ...</td>\n",
       "      <td>True</td>\n",
       "      <td>The concept of limiting the number of bytes wr...</td>\n",
       "      <td>true</td>\n",
       "      <td>Limit Access</td>\n",
       "      <td>The selected tactic 'Limit Access' best matche...</td>\n",
       "      <td>True</td>\n",
       "      <td>Resist Attacks</td>\n",
       "    </tr>\n",
       "    <tr>\n",
       "      <th>allenai/scispacy/v0.5.5.issue_comment.deployability.1d0beb3d673fc88acc29b113b89569fa.modul.module</th>\n",
       "      <td>modul</td>\n",
       "      <td>modul</td>\n",
       "      <td>You can use the entity ruler (https://spacy.io...</td>\n",
       "      <td>deployability</td>\n",
       "      <td>https://github.com/allenai/scispacy/issues/226</td>\n",
       "      <td>module</td>\n",
       "      <td>module, Module, MODULE</td>\n",
       "      <td>3</td>\n",
       "      <td>1</td>\n",
       "      <td>True</td>\n",
       "      <td>...</td>\n",
       "      <td>True</td>\n",
       "      <td>You can use the entity ruler instead of the ne...</td>\n",
       "      <td>The extracted sentences indicate that the syst...</td>\n",
       "      <td>True</td>\n",
       "      <td>The extracted sentences describe a concrete te...</td>\n",
       "      <td>true</td>\n",
       "      <td>Undo</td>\n",
       "      <td>The extracted sentences describe a concrete ar...</td>\n",
       "      <td>True</td>\n",
       "      <td>Support User Initiative</td>\n",
       "    </tr>\n",
       "    <tr>\n",
       "      <th>OpenGene/fastp/v0.23.4.code_comment.integrability.7d07d40bf15300b3b80a7e836ef260f9.buffer.buffers</th>\n",
       "      <td>buffer</td>\n",
       "      <td>buffer</td>\n",
       "      <td>inflateBack() does a raw inflate with a single...</td>\n",
       "      <td>integrability</td>\n",
       "      <td>https://github.com/OpenGene/fastp/tree/v0.23.4...</td>\n",
       "      <td>buffers</td>\n",
       "      <td>buffers, Buffers</td>\n",
       "      <td>2</td>\n",
       "      <td>1</td>\n",
       "      <td>True</td>\n",
       "      <td>...</td>\n",
       "      <td>True</td>\n",
       "      <td>inflateBack() does a raw inflate with a single...</td>\n",
       "      <td>The primary architectural concept is the use o...</td>\n",
       "      <td>True</td>\n",
       "      <td>The core concept involves a deliberate design ...</td>\n",
       "      <td>Discover Service</td>\n",
       "      <td>Discover Service</td>\n",
       "      <td>The selected tactic 'Discover Service' is the ...</td>\n",
       "      <td>True</td>\n",
       "      <td>Locate</td>\n",
       "    </tr>\n",
       "    <tr>\n",
       "      <th>allenai/scispacy/v0.5.5.code_comment.usability.b61771d3d54aa4e2e05c8f73c7bef3d9.perform.performance</th>\n",
       "      <td>perform</td>\n",
       "      <td>perform</td>\n",
       "      <td>ctorizer to embed mention text into a sparse e...</td>\n",
       "      <td>usability</td>\n",
       "      <td>https://github.com/allenai/scispacy/tree/v0.5....</td>\n",
       "      <td>performance</td>\n",
       "      <td>performance, Performance, PERFORMANCE</td>\n",
       "      <td>3</td>\n",
       "      <td>1</td>\n",
       "      <td>True</td>\n",
       "      <td>...</td>\n",
       "      <td>True</td>\n",
       "      <td>ctorizer to embed mention text into a sparse e...</td>\n",
       "      <td>The primary architectural concept identified i...</td>\n",
       "      <td>True</td>\n",
       "      <td>The concept 'Increase semantic coherence' is r...</td>\n",
       "      <td>true</td>\n",
       "      <td>Increase semantic coherence</td>\n",
       "      <td>The selected tactic 'Increase semantic coheren...</td>\n",
       "      <td>True</td>\n",
       "      <td>Separate the User Interface</td>\n",
       "    </tr>\n",
       "    <tr>\n",
       "      <th>allenai/scispacy/v0.5.5.issue_comment.availability.2acbfe103244420334f0c052f2274c9a.down.downgrade</th>\n",
       "      <td>down</td>\n",
       "      <td>down</td>\n",
       "      <td>Hi, so this is an issue with something I have ...</td>\n",
       "      <td>availability</td>\n",
       "      <td>https://github.com/allenai/scispacy/issues/450</td>\n",
       "      <td>downgrade</td>\n",
       "      <td>downgrade, Downgrade</td>\n",
       "      <td>2</td>\n",
       "      <td>1</td>\n",
       "      <td>True</td>\n",
       "      <td>...</td>\n",
       "      <td>True</td>\n",
       "      <td>After doing those two things you should have t...</td>\n",
       "      <td>The primary architectural concept is 'Removal ...</td>\n",
       "      <td>True</td>\n",
       "      <td>The core concept of 'Removal from Service' des...</td>\n",
       "      <td>true</td>\n",
       "      <td>Removal from Service</td>\n",
       "      <td>The selected tactic is the best fit because it...</td>\n",
       "      <td>True</td>\n",
       "      <td>Prevent Faults</td>\n",
       "    </tr>\n",
       "    <tr>\n",
       "      <th>OpenGene/fastp/v0.23.4.issue.safety.5199778d834b74b976e5254f0c072c18.compl.complexity</th>\n",
       "      <td>compl</td>\n",
       "      <td>compl</td>\n",
       "      <td>Trimming for polyA/T/C; improved runtimes for ...</td>\n",
       "      <td>safety</td>\n",
       "      <td>https://github.com/OpenGene/fastp/issues/33</td>\n",
       "      <td>complexity</td>\n",
       "      <td>complexity, Complexity</td>\n",
       "      <td>2</td>\n",
       "      <td>1</td>\n",
       "      <td>True</td>\n",
       "      <td>...</td>\n",
       "      <td>True</td>\n",
       "      <td>We did a test run with fastp and atropos and f...</td>\n",
       "      <td>PolyX sequences removal</td>\n",
       "      <td>True</td>\n",
       "      <td>The extracted sentence discusses the removal o...</td>\n",
       "      <td>true</td>\n",
       "      <td>Polymorphism</td>\n",
       "      <td>The selected tactic 'Polymorphism' is justifie...</td>\n",
       "      <td>True</td>\n",
       "      <td>Defer Binding</td>\n",
       "    </tr>\n",
       "    <tr>\n",
       "      <th>root-project/root/v6-32-06.code_comment.integrability.7d07d40bf15300b3b80a7e836ef260f9.buffer.buffer</th>\n",
       "      <td>buffer</td>\n",
       "      <td>buffer</td>\n",
       "      <td>inflateBack() does a raw inflate with a single...</td>\n",
       "      <td>integrability</td>\n",
       "      <td>https://github.com/root-project/root/tree/v6-3...</td>\n",
       "      <td>buffer</td>\n",
       "      <td>Buffer, buffer, BUFFER</td>\n",
       "      <td>3</td>\n",
       "      <td>3</td>\n",
       "      <td>True</td>\n",
       "      <td>...</td>\n",
       "      <td>True</td>\n",
       "      <td>inflateBack() does a raw inflate with a single...</td>\n",
       "      <td>The primary architectural concept is the use o...</td>\n",
       "      <td>True</td>\n",
       "      <td>The core concept involves a deliberate design ...</td>\n",
       "      <td>Discover Service</td>\n",
       "      <td>Discover Service</td>\n",
       "      <td>The selected tactic 'Discover Service' is the ...</td>\n",
       "      <td>True</td>\n",
       "      <td>Locate</td>\n",
       "    </tr>\n",
       "    <tr>\n",
       "      <th>OpenGene/fastp/v0.23.4.issue.deployability.2261ae8cfa5f7f0438dd9f184b27c230.scale.scale</th>\n",
       "      <td>scale</td>\n",
       "      <td>scale</td>\n",
       "      <td>Plots: y-axis scaling | plot of 3 trimming; Re...</td>\n",
       "      <td>deployability</td>\n",
       "      <td>https://github.com/OpenGene/fastp/issues/206</td>\n",
       "      <td>scale</td>\n",
       "      <td>scale, Scale, SCALE</td>\n",
       "      <td>3</td>\n",
       "      <td>1</td>\n",
       "      <td>True</td>\n",
       "      <td>...</td>\n",
       "      <td>True</td>\n",
       "      <td>Plots: y-axis scaling | plot of 3 trimming; Re...</td>\n",
       "      <td>The concept of y-axis scaling for plots, parti...</td>\n",
       "      <td>True</td>\n",
       "      <td>The extracted sentence discusses the y-axis sc...</td>\n",
       "      <td>true</td>\n",
       "      <td>Encapsulate</td>\n",
       "      <td>The extracted sentence discusses y-axis scalin...</td>\n",
       "      <td>True</td>\n",
       "      <td>Separate the User Interface</td>\n",
       "    </tr>\n",
       "    <tr>\n",
       "      <th>root-project/root/v6-32-06.code_comment.integrability.4b050a04a757ec50a06905782533b8a7.interfac.interface</th>\n",
       "      <td>interfac</td>\n",
       "      <td>interfac</td>\n",
       "      <td>The zlib compression library provides in-memor...</td>\n",
       "      <td>integrability</td>\n",
       "      <td>https://github.com/root-project/root/tree/v6-3...</td>\n",
       "      <td>interface</td>\n",
       "      <td>interface, Interface, INTERFACE, InterFace</td>\n",
       "      <td>4</td>\n",
       "      <td>2</td>\n",
       "      <td>True</td>\n",
       "      <td>...</td>\n",
       "      <td>True</td>\n",
       "      <td>The zlib compression library provides in-memor...</td>\n",
       "      <td>Zlib</td>\n",
       "      <td>True</td>\n",
       "      <td>The text discusses the differences between the...</td>\n",
       "      <td>Discover Service</td>\n",
       "      <td>Discover Service</td>\n",
       "      <td>The selected tactic 'Discover Service' best ma...</td>\n",
       "      <td>True</td>\n",
       "      <td>Locate</td>\n",
       "    </tr>\n",
       "    <tr>\n",
       "      <th>OpenGene/fastp/v0.23.4.issue.safety.f755e786ca7c1c816adea4acaf49306f.detect.detecting</th>\n",
       "      <td>detect</td>\n",
       "      <td>detect</td>\n",
       "      <td>part of a bash workflow, and two files have g...</td>\n",
       "      <td>safety</td>\n",
       "      <td>https://github.com/OpenGene/fastp/issues/377</td>\n",
       "      <td>detecting</td>\n",
       "      <td>detecting, Detecting</td>\n",
       "      <td>2</td>\n",
       "      <td>1</td>\n",
       "      <td>True</td>\n",
       "      <td>...</td>\n",
       "      <td>True</td>\n",
       "      <td>part of a bash workflow, and two files have gi...</td>\n",
       "      <td>The primary architectural concept identified i...</td>\n",
       "      <td>True</td>\n",
       "      <td>The identified segmentation fault error is a c...</td>\n",
       "      <td>The segmentation fault error is directly tied ...</td>\n",
       "      <td>Detect Service Denial</td>\n",
       "      <td>The segmentation fault error in the ILLIUM Tru...</td>\n",
       "      <td>True</td>\n",
       "      <td>Detect Attacks</td>\n",
       "    </tr>\n",
       "  </tbody>\n",
       "</table>\n",
       "<p>10 rows × 38 columns</p>\n",
       "</div>"
      ]
     },
     "execution_count": 19,
     "metadata": {},
     "output_type": "execute_result"
    }
   ],
   "execution_count": 19
  },
  {
   "metadata": {
    "ExecuteTime": {
     "end_time": "2025-08-18T08:53:18.344414Z",
     "start_time": "2025-08-18T08:53:18.335679Z"
    }
   },
   "cell_type": "code",
   "source": "df.columns",
   "id": "9d9b5933f3c8d2db",
   "outputs": [
    {
     "data": {
      "text/plain": [
       "Index(['keyword', 'keyword_raw', 'sentence', 'qa', 'url', 'matched_word',\n",
       "       'unique_matched_words', 'nunique_matched_words', 'nsimilar',\n",
       "       'prefilter_passed', 's0_prompt', 's0_to_eliminate', 's0_reasoning',\n",
       "       's0_passed', 's1_prompt', 's1_analysis_problem_vs_solution',\n",
       "       's1_analysis_mechanism_vs_feature', 's1_analysis_causal_link',\n",
       "       's1_analysis_rubric_check', 's1_true_positive', 's1_reasoning',\n",
       "       's1_passed', 's2_prompt', 's2_analysis_summary',\n",
       "       's2_architectural_signal', 's2_exclusionary_signal', 's2_final_logic',\n",
       "       's2_related_to_arch', 's2_passed',\n",
       "       's3_architectural_activity_extraction', 's3_core_concept_analysis',\n",
       "       's3_is_tactic_relevant', 's3_relevance_reason', 's3_tactic_evaluation',\n",
       "       's3_selected_tactic', 's3_justification', 's3_passed',\n",
       "       's3_tactic_category'],\n",
       "      dtype='object')"
      ]
     },
     "execution_count": 18,
     "metadata": {},
     "output_type": "execute_result"
    }
   ],
   "execution_count": 18
  },
  {
   "metadata": {
    "ExecuteTime": {
     "end_time": "2025-08-20T00:47:16.515650Z",
     "start_time": "2025-08-20T00:47:13.917609Z"
    }
   },
   "cell_type": "code",
   "source": "df.info()",
   "id": "19d3a1ec582374ae",
   "outputs": [
    {
     "name": "stdout",
     "output_type": "stream",
     "text": [
      "<class 'pandas.core.frame.DataFrame'>\n",
      "RangeIndex: 1601472 entries, 0 to 1601471\n",
      "Data columns (total 15 columns):\n",
      " #   Column              Non-Null Count    Dtype   \n",
      "---  ------              --------------    -----   \n",
      " 0   keyword             1601472 non-null  category\n",
      " 1   sentence            1601472 non-null  string  \n",
      " 2   qa                  1601472 non-null  category\n",
      " 3   source              1601472 non-null  category\n",
      " 4   url                 1601472 non-null  string  \n",
      " 5   repo_id             1601472 non-null  category\n",
      " 6   matched_word        1601472 non-null  string  \n",
      " 7   nsimilar            1601472 non-null  int64   \n",
      " 8   prefilter_passed    1601472 non-null  bool    \n",
      " 9   s0_passed           1601472 non-null  bool    \n",
      " 10  s1_passed           1601472 non-null  bool    \n",
      " 11  s2_passed           1601472 non-null  bool    \n",
      " 12  s3_passed           1601472 non-null  bool    \n",
      " 13  s3_tactic           50748 non-null    category\n",
      " 14  s3_tactic_category  28794 non-null    category\n",
      "dtypes: bool(5), category(6), int64(1), string(3)\n",
      "memory usage: 67.2 MB\n"
     ]
    }
   ],
   "execution_count": 8
  },
  {
   "metadata": {},
   "cell_type": "markdown",
   "source": "## Add tactic descriptions",
   "id": "f41c2cde6b2cacff"
  },
  {
   "metadata": {
    "ExecuteTime": {
     "end_time": "2025-08-20T00:55:43.258259Z",
     "start_time": "2025-08-20T00:55:43.187105Z"
    }
   },
   "cell_type": "code",
   "source": [
    "df.loc[df.s3_passed,\"s3_tactic_desc\"] = df.s3_tactic.apply(lambda x: tactic_descriptions.get(x, pd.NA))\n",
    "df[df.s3_passed].head()"
   ],
   "id": "aaed365893fbb328",
   "outputs": [
    {
     "data": {
      "text/plain": [
       "      keyword                                           sentence  \\\n",
       "66      bridg  nmslib hyperparameters (very important) guide:...   \n",
       "77   configur  In order to avoid loading spacy models repeate...   \n",
       "113     bridg  nmslib hyperparameters (very important) guide:...   \n",
       "195      load  In order to avoid loading spacy models repeate...   \n",
       "196      load  In order to avoid loading spacy models repeate...   \n",
       "\n",
       "                   qa        source  \\\n",
       "66      integrability  code_comment   \n",
       "77      integrability  code_comment   \n",
       "113  interoperability  code_comment   \n",
       "195       performance  code_comment   \n",
       "196       performance  code_comment   \n",
       "\n",
       "                                                   url  \\\n",
       "66   https://github.com/allenai/scispacy/tree/v0.5....   \n",
       "77   https://github.com/allenai/scispacy/tree/v0.5....   \n",
       "113  https://github.com/allenai/scispacy/tree/v0.5....   \n",
       "195  https://github.com/allenai/scispacy/tree/v0.5....   \n",
       "196  https://github.com/allenai/scispacy/tree/v0.5....   \n",
       "\n",
       "                     repo_id   matched_word  nsimilar  prefilter_passed  \\\n",
       "66   allenai/scispacy/v0.5.5        bridges         1              True   \n",
       "77   allenai/scispacy/v0.5.5  configuration         1              True   \n",
       "113  allenai/scispacy/v0.5.5        bridges         1              True   \n",
       "195  allenai/scispacy/v0.5.5         loaded         1              True   \n",
       "196  allenai/scispacy/v0.5.5        loading         1              True   \n",
       "\n",
       "     s0_passed  s1_passed  s2_passed  s3_passed          s3_tactic  \\\n",
       "66        True       True       True       True   Discover Service   \n",
       "77        True       True       True       True   Discover Service   \n",
       "113       True       True       True       True   Discover Service   \n",
       "195       True       True       True       True  Bound Queue Sizes   \n",
       "196       True       True       True       True  Bound Queue Sizes   \n",
       "\n",
       "    s3_tactic_category                                     s3_tactic_desc  \n",
       "66              Locate  Locates a service through searching a known di...  \n",
       "77              Locate  Locates a service through searching a known di...  \n",
       "113             Locate  Locates a service through searching a known di...  \n",
       "195   Manage Resources  Control the maximum number of queued arrivals ...  \n",
       "196   Manage Resources  Control the maximum number of queued arrivals ...  "
      ],
      "text/html": [
       "<div>\n",
       "<style scoped>\n",
       "    .dataframe tbody tr th:only-of-type {\n",
       "        vertical-align: middle;\n",
       "    }\n",
       "\n",
       "    .dataframe tbody tr th {\n",
       "        vertical-align: top;\n",
       "    }\n",
       "\n",
       "    .dataframe thead th {\n",
       "        text-align: right;\n",
       "    }\n",
       "</style>\n",
       "<table border=\"1\" class=\"dataframe\">\n",
       "  <thead>\n",
       "    <tr style=\"text-align: right;\">\n",
       "      <th></th>\n",
       "      <th>keyword</th>\n",
       "      <th>sentence</th>\n",
       "      <th>qa</th>\n",
       "      <th>source</th>\n",
       "      <th>url</th>\n",
       "      <th>repo_id</th>\n",
       "      <th>matched_word</th>\n",
       "      <th>nsimilar</th>\n",
       "      <th>prefilter_passed</th>\n",
       "      <th>s0_passed</th>\n",
       "      <th>s1_passed</th>\n",
       "      <th>s2_passed</th>\n",
       "      <th>s3_passed</th>\n",
       "      <th>s3_tactic</th>\n",
       "      <th>s3_tactic_category</th>\n",
       "      <th>s3_tactic_desc</th>\n",
       "    </tr>\n",
       "  </thead>\n",
       "  <tbody>\n",
       "    <tr>\n",
       "      <th>66</th>\n",
       "      <td>bridg</td>\n",
       "      <td>nmslib hyperparameters (very important) guide:...</td>\n",
       "      <td>integrability</td>\n",
       "      <td>code_comment</td>\n",
       "      <td>https://github.com/allenai/scispacy/tree/v0.5....</td>\n",
       "      <td>allenai/scispacy/v0.5.5</td>\n",
       "      <td>bridges</td>\n",
       "      <td>1</td>\n",
       "      <td>True</td>\n",
       "      <td>True</td>\n",
       "      <td>True</td>\n",
       "      <td>True</td>\n",
       "      <td>True</td>\n",
       "      <td>Discover Service</td>\n",
       "      <td>Locate</td>\n",
       "      <td>Locates a service through searching a known di...</td>\n",
       "    </tr>\n",
       "    <tr>\n",
       "      <th>77</th>\n",
       "      <td>configur</td>\n",
       "      <td>In order to avoid loading spacy models repeate...</td>\n",
       "      <td>integrability</td>\n",
       "      <td>code_comment</td>\n",
       "      <td>https://github.com/allenai/scispacy/tree/v0.5....</td>\n",
       "      <td>allenai/scispacy/v0.5.5</td>\n",
       "      <td>configuration</td>\n",
       "      <td>1</td>\n",
       "      <td>True</td>\n",
       "      <td>True</td>\n",
       "      <td>True</td>\n",
       "      <td>True</td>\n",
       "      <td>True</td>\n",
       "      <td>Discover Service</td>\n",
       "      <td>Locate</td>\n",
       "      <td>Locates a service through searching a known di...</td>\n",
       "    </tr>\n",
       "    <tr>\n",
       "      <th>113</th>\n",
       "      <td>bridg</td>\n",
       "      <td>nmslib hyperparameters (very important) guide:...</td>\n",
       "      <td>interoperability</td>\n",
       "      <td>code_comment</td>\n",
       "      <td>https://github.com/allenai/scispacy/tree/v0.5....</td>\n",
       "      <td>allenai/scispacy/v0.5.5</td>\n",
       "      <td>bridges</td>\n",
       "      <td>1</td>\n",
       "      <td>True</td>\n",
       "      <td>True</td>\n",
       "      <td>True</td>\n",
       "      <td>True</td>\n",
       "      <td>True</td>\n",
       "      <td>Discover Service</td>\n",
       "      <td>Locate</td>\n",
       "      <td>Locates a service through searching a known di...</td>\n",
       "    </tr>\n",
       "    <tr>\n",
       "      <th>195</th>\n",
       "      <td>load</td>\n",
       "      <td>In order to avoid loading spacy models repeate...</td>\n",
       "      <td>performance</td>\n",
       "      <td>code_comment</td>\n",
       "      <td>https://github.com/allenai/scispacy/tree/v0.5....</td>\n",
       "      <td>allenai/scispacy/v0.5.5</td>\n",
       "      <td>loaded</td>\n",
       "      <td>1</td>\n",
       "      <td>True</td>\n",
       "      <td>True</td>\n",
       "      <td>True</td>\n",
       "      <td>True</td>\n",
       "      <td>True</td>\n",
       "      <td>Bound Queue Sizes</td>\n",
       "      <td>Manage Resources</td>\n",
       "      <td>Control the maximum number of queued arrivals ...</td>\n",
       "    </tr>\n",
       "    <tr>\n",
       "      <th>196</th>\n",
       "      <td>load</td>\n",
       "      <td>In order to avoid loading spacy models repeate...</td>\n",
       "      <td>performance</td>\n",
       "      <td>code_comment</td>\n",
       "      <td>https://github.com/allenai/scispacy/tree/v0.5....</td>\n",
       "      <td>allenai/scispacy/v0.5.5</td>\n",
       "      <td>loading</td>\n",
       "      <td>1</td>\n",
       "      <td>True</td>\n",
       "      <td>True</td>\n",
       "      <td>True</td>\n",
       "      <td>True</td>\n",
       "      <td>True</td>\n",
       "      <td>Bound Queue Sizes</td>\n",
       "      <td>Manage Resources</td>\n",
       "      <td>Control the maximum number of queued arrivals ...</td>\n",
       "    </tr>\n",
       "  </tbody>\n",
       "</table>\n",
       "</div>"
      ]
     },
     "execution_count": 21,
     "metadata": {},
     "output_type": "execute_result"
    }
   ],
   "execution_count": 21
  },
  {
   "metadata": {},
   "cell_type": "markdown",
   "source": [
    "# R1\n",
    "## Primary - A quantitative analysis of the prevalence of each quality attribute."
   ],
   "id": "d78d55f9eacdfd03"
  },
  {
   "metadata": {
    "ExecuteTime": {
     "end_time": "2025-08-20T01:16:39.161335Z",
     "start_time": "2025-08-20T01:16:39.008363Z"
    }
   },
   "cell_type": "code",
   "source": [
    "r1_total_count = df[df.s1_passed].nsimilar.sum()\n",
    "r1_total_count"
   ],
   "id": "85142e11473c365e",
   "outputs": [
    {
     "data": {
      "text/plain": [
       "np.int64(380588)"
      ]
     },
     "execution_count": 22,
     "metadata": {},
     "output_type": "execute_result"
    }
   ],
   "execution_count": 22
  },
  {
   "metadata": {
    "ExecuteTime": {
     "end_time": "2025-08-20T01:16:39.258582Z",
     "start_time": "2025-08-20T01:16:39.167383Z"
    }
   },
   "cell_type": "code",
   "source": [
    "r1 = df[df.s1_passed].groupby(\"qa\").agg(nsimilar=(\"nsimilar\",\"sum\")).sort_values(\"nsimilar\", ascending=False)\n",
    "r1[\"percentage\"] = r1.nsimilar / r1_total_count * 100\n",
    "r1"
   ],
   "id": "7a7207b5da35a217",
   "outputs": [
    {
     "name": "stderr",
     "output_type": "stream",
     "text": [
      "C:\\Users\\Dmitrijs\\AppData\\Local\\Temp\\ipykernel_29812\\509027393.py:1: FutureWarning: The default of observed=False is deprecated and will be changed to True in a future version of pandas. Pass observed=False to retain current behavior or observed=True to adopt the future default and silence this warning.\n",
      "  r1 = df[df.s1_passed].groupby(\"qa\").agg(nsimilar=(\"nsimilar\",\"sum\")).sort_values(\"nsimilar\", ascending=False)\n"
     ]
    },
    {
     "data": {
      "text/plain": [
       "                   nsimilar  percentage\n",
       "qa                                     \n",
       "usability             52839   13.883517\n",
       "safety                49070   12.893207\n",
       "performance           38623   10.148244\n",
       "integrability         36565    9.607502\n",
       "modifiability         36029    9.466667\n",
       "security              34783    9.139279\n",
       "deployability         33076    8.690763\n",
       "interoperability      30446    7.999727\n",
       "testability           30072    7.901458\n",
       "energy efficiency     18815    4.943666\n",
       "availability          12994    3.414191\n",
       "reliability            7276    1.911779"
      ],
      "text/html": [
       "<div>\n",
       "<style scoped>\n",
       "    .dataframe tbody tr th:only-of-type {\n",
       "        vertical-align: middle;\n",
       "    }\n",
       "\n",
       "    .dataframe tbody tr th {\n",
       "        vertical-align: top;\n",
       "    }\n",
       "\n",
       "    .dataframe thead th {\n",
       "        text-align: right;\n",
       "    }\n",
       "</style>\n",
       "<table border=\"1\" class=\"dataframe\">\n",
       "  <thead>\n",
       "    <tr style=\"text-align: right;\">\n",
       "      <th></th>\n",
       "      <th>nsimilar</th>\n",
       "      <th>percentage</th>\n",
       "    </tr>\n",
       "    <tr>\n",
       "      <th>qa</th>\n",
       "      <th></th>\n",
       "      <th></th>\n",
       "    </tr>\n",
       "  </thead>\n",
       "  <tbody>\n",
       "    <tr>\n",
       "      <th>usability</th>\n",
       "      <td>52839</td>\n",
       "      <td>13.883517</td>\n",
       "    </tr>\n",
       "    <tr>\n",
       "      <th>safety</th>\n",
       "      <td>49070</td>\n",
       "      <td>12.893207</td>\n",
       "    </tr>\n",
       "    <tr>\n",
       "      <th>performance</th>\n",
       "      <td>38623</td>\n",
       "      <td>10.148244</td>\n",
       "    </tr>\n",
       "    <tr>\n",
       "      <th>integrability</th>\n",
       "      <td>36565</td>\n",
       "      <td>9.607502</td>\n",
       "    </tr>\n",
       "    <tr>\n",
       "      <th>modifiability</th>\n",
       "      <td>36029</td>\n",
       "      <td>9.466667</td>\n",
       "    </tr>\n",
       "    <tr>\n",
       "      <th>security</th>\n",
       "      <td>34783</td>\n",
       "      <td>9.139279</td>\n",
       "    </tr>\n",
       "    <tr>\n",
       "      <th>deployability</th>\n",
       "      <td>33076</td>\n",
       "      <td>8.690763</td>\n",
       "    </tr>\n",
       "    <tr>\n",
       "      <th>interoperability</th>\n",
       "      <td>30446</td>\n",
       "      <td>7.999727</td>\n",
       "    </tr>\n",
       "    <tr>\n",
       "      <th>testability</th>\n",
       "      <td>30072</td>\n",
       "      <td>7.901458</td>\n",
       "    </tr>\n",
       "    <tr>\n",
       "      <th>energy efficiency</th>\n",
       "      <td>18815</td>\n",
       "      <td>4.943666</td>\n",
       "    </tr>\n",
       "    <tr>\n",
       "      <th>availability</th>\n",
       "      <td>12994</td>\n",
       "      <td>3.414191</td>\n",
       "    </tr>\n",
       "    <tr>\n",
       "      <th>reliability</th>\n",
       "      <td>7276</td>\n",
       "      <td>1.911779</td>\n",
       "    </tr>\n",
       "  </tbody>\n",
       "</table>\n",
       "</div>"
      ]
     },
     "execution_count": 23,
     "metadata": {},
     "output_type": "execute_result"
    }
   ],
   "execution_count": 23
  },
  {
   "metadata": {},
   "cell_type": "code",
   "outputs": [],
   "execution_count": null,
   "source": [
    "import pandas as pd\n",
    "import matplotlib.pyplot as plt\n",
    "import seaborn as sns"
   ],
   "id": "2e05b924c5632d4"
  },
  {
   "metadata": {
    "ExecuteTime": {
     "end_time": "2025-08-20T01:46:15.097533Z",
     "start_time": "2025-08-20T01:46:14.944101Z"
    }
   },
   "cell_type": "code",
   "source": [
    "\n",
    "# --- RQ1 Primary Analysis Code ---\n",
    "# ASSUMPTION: The DataFrame 'df' is loaded and contains the full, cleaned dataset.\n",
    "\n",
    "# 1. Filter for discussions that are relevant to a Quality Attribute (s1_passed).\n",
    "s1_passed_df = df[df['s1_passed'] == True].copy()\n",
    "\n",
    "# 2. Group by quality attribute and aggregate the counts using 'nsimilar'.\n",
    "qa_counts = s1_passed_df.groupby('qa')['nsimilar'].sum().reset_index()\n",
    "qa_counts.rename(columns={'nsimilar': 'Absolute Frequency'}, inplace=True)\n",
    "\n",
    "# 3. Calculate the relative frequency (percentage).\n",
    "total_discussions = qa_counts['Absolute Frequency'].sum()\n",
    "qa_counts['Percentage (%)'] = (qa_counts['Absolute Frequency'] / total_discussions) * 100\n",
    "\n",
    "# 4. Sort the results for clear presentation in the table and chart.\n",
    "qa_counts_sorted = qa_counts.sort_values(by='Absolute Frequency', ascending=False)\n"
   ],
   "id": "12a78b04ae97c7f7",
   "outputs": [
    {
     "name": "stderr",
     "output_type": "stream",
     "text": [
      "C:\\Users\\Dmitrijs\\AppData\\Local\\Temp\\ipykernel_29812\\3973534672.py:8: FutureWarning:\n",
      "\n",
      "The default of observed=False is deprecated and will be changed to True in a future version of pandas. Pass observed=False to retain current behavior or observed=True to adopt the future default and silence this warning.\n",
      "\n"
     ]
    }
   ],
   "execution_count": 35
  },
  {
   "metadata": {
    "ExecuteTime": {
     "end_time": "2025-08-20T01:46:29.578595Z",
     "start_time": "2025-08-20T01:46:29.569193Z"
    }
   },
   "cell_type": "code",
   "source": [
    "\n",
    "# --- Generate Table 4 ---\n",
    "print(\"Table 4: Overall Frequency of Quality Attribute Discussions\")\n",
    "qa_table_formatted = qa_counts_sorted.copy()\n",
    "qa_table_formatted['Percentage (%)'] = qa_table_formatted['Percentage (%)'].map('{:.1f}%'.format)\n",
    "qa_table_formatted.set_index('qa', inplace=True)\n",
    "qa_table_formatted\n",
    "# print(qa_table_formatted.to_markdown())"
   ],
   "id": "1c0ef9efc2488830",
   "outputs": [
    {
     "name": "stdout",
     "output_type": "stream",
     "text": [
      "Table 4: Overall Frequency of Quality Attribute Discussions\n"
     ]
    },
    {
     "data": {
      "text/plain": [
       "                   Absolute Frequency Percentage (%)\n",
       "qa                                                  \n",
       "usability                       52839          13.9%\n",
       "safety                          49070          12.9%\n",
       "performance                     38623          10.1%\n",
       "integrability                   36565           9.6%\n",
       "modifiability                   36029           9.5%\n",
       "security                        34783           9.1%\n",
       "deployability                   33076           8.7%\n",
       "interoperability                30446           8.0%\n",
       "testability                     30072           7.9%\n",
       "energy efficiency               18815           4.9%\n",
       "availability                    12994           3.4%\n",
       "reliability                      7276           1.9%"
      ],
      "text/html": [
       "<div>\n",
       "<style scoped>\n",
       "    .dataframe tbody tr th:only-of-type {\n",
       "        vertical-align: middle;\n",
       "    }\n",
       "\n",
       "    .dataframe tbody tr th {\n",
       "        vertical-align: top;\n",
       "    }\n",
       "\n",
       "    .dataframe thead th {\n",
       "        text-align: right;\n",
       "    }\n",
       "</style>\n",
       "<table border=\"1\" class=\"dataframe\">\n",
       "  <thead>\n",
       "    <tr style=\"text-align: right;\">\n",
       "      <th></th>\n",
       "      <th>Absolute Frequency</th>\n",
       "      <th>Percentage (%)</th>\n",
       "    </tr>\n",
       "    <tr>\n",
       "      <th>qa</th>\n",
       "      <th></th>\n",
       "      <th></th>\n",
       "    </tr>\n",
       "  </thead>\n",
       "  <tbody>\n",
       "    <tr>\n",
       "      <th>usability</th>\n",
       "      <td>52839</td>\n",
       "      <td>13.9%</td>\n",
       "    </tr>\n",
       "    <tr>\n",
       "      <th>safety</th>\n",
       "      <td>49070</td>\n",
       "      <td>12.9%</td>\n",
       "    </tr>\n",
       "    <tr>\n",
       "      <th>performance</th>\n",
       "      <td>38623</td>\n",
       "      <td>10.1%</td>\n",
       "    </tr>\n",
       "    <tr>\n",
       "      <th>integrability</th>\n",
       "      <td>36565</td>\n",
       "      <td>9.6%</td>\n",
       "    </tr>\n",
       "    <tr>\n",
       "      <th>modifiability</th>\n",
       "      <td>36029</td>\n",
       "      <td>9.5%</td>\n",
       "    </tr>\n",
       "    <tr>\n",
       "      <th>security</th>\n",
       "      <td>34783</td>\n",
       "      <td>9.1%</td>\n",
       "    </tr>\n",
       "    <tr>\n",
       "      <th>deployability</th>\n",
       "      <td>33076</td>\n",
       "      <td>8.7%</td>\n",
       "    </tr>\n",
       "    <tr>\n",
       "      <th>interoperability</th>\n",
       "      <td>30446</td>\n",
       "      <td>8.0%</td>\n",
       "    </tr>\n",
       "    <tr>\n",
       "      <th>testability</th>\n",
       "      <td>30072</td>\n",
       "      <td>7.9%</td>\n",
       "    </tr>\n",
       "    <tr>\n",
       "      <th>energy efficiency</th>\n",
       "      <td>18815</td>\n",
       "      <td>4.9%</td>\n",
       "    </tr>\n",
       "    <tr>\n",
       "      <th>availability</th>\n",
       "      <td>12994</td>\n",
       "      <td>3.4%</td>\n",
       "    </tr>\n",
       "    <tr>\n",
       "      <th>reliability</th>\n",
       "      <td>7276</td>\n",
       "      <td>1.9%</td>\n",
       "    </tr>\n",
       "  </tbody>\n",
       "</table>\n",
       "</div>"
      ]
     },
     "execution_count": 38,
     "metadata": {},
     "output_type": "execute_result"
    }
   ],
   "execution_count": 38
  },
  {
   "metadata": {
    "ExecuteTime": {
     "end_time": "2025-08-20T01:54:54.319796Z",
     "start_time": "2025-08-20T01:54:53.023964Z"
    }
   },
   "cell_type": "code",
   "source": [
    "\n",
    "\n",
    "# --- Generate Figure 2 ---\n",
    "# Using a horizontal bar chart is preferable to a pie chart for comparing rankings.\n",
    "plt.style.use('seaborn-v0_8-whitegrid')\n",
    "fig, ax = plt.subplots(figsize=(10, 8))\n",
    "# Create the bar plot\n",
    "sorted_order = qa_counts_sorted['qa'].tolist()\n",
    "sns.barplot(x='Absolute Frequency', y='qa', data=qa_counts_sorted, ax=ax, color='cornflowerblue', orient='h', order=sorted_order)\n",
    "\n",
    "for patch in ax.patches:\n",
    "    width = patch.get_width()\n",
    "    y = patch.get_y() + patch.get_height() / 2\n",
    "    ax.text(width + 400, y, f'{int(width)}', va='center')\n",
    "\n",
    "# Add labels and a descriptive title\n",
    "ax.set_xlabel('Number of Discussions (Sum of nsimilar)', fontsize=12)\n",
    "ax.set_ylabel('Quality Attribute', fontsize=12)\n",
    "ax.set_title('Figure 2: Overall Frequency of Quality Attribute Discussions', fontsize=14, weight='bold')\n",
    "\n",
    "# Ensure the layout is tight and save the figure for the thesis document\n",
    "plt.tight_layout()\n",
    "plt.savefig('figure_2_qa_prevalence.png', dpi=300)\n",
    "plt.show()\n"
   ],
   "id": "a4b5ca9bd9453faf",
   "outputs": [
    {
     "data": {
      "text/plain": [
       "<Figure size 1000x800 with 1 Axes>"
      ],
      "image/png": "[encoded data removed]"
     },
     "metadata": {},
     "output_type": "display_data"
    }
   ],
   "execution_count": 41
  },
  {
   "metadata": {},
   "cell_type": "markdown",
   "source": [
    "\n",
    "### RQ1 Primary Analysis: Overall Quality Attribute Prevalence\n",
    "\n",
    "The primary analysis for RQ1 identifies the most frequently discussed quality attributes (QAs) across the entire dataset, establishing a foundational understanding of the architectural priorities in compute-intensive scientific software. The analysis aggregated all discussions that passed the S1 relevance filter. The results, presented in Table 4 and visualized in Figure 2, quantify the absolute and relative frequencies of each of the twelve quality attributes under investigation.\n",
    "\n",
    "***\n",
    "\n",
    "The analysis reveals a distinct hierarchy of architectural concerns among developers of scientific software. **Usability** (13.9%) and **Safety** (12.9%) emerge as the two most prominent quality attributes. This primary focus suggests that ensuring the software is not only operable by its intended scientific audience but also produces correct and trustworthy results are paramount concerns.\n",
    "\n",
    "Following these, a cluster of high-priority attributes includes **Performance** (10.1%), **Integrability** (9.6%), **Modifiability** (9.5%), and **Security** (9.1%). The significant attention given to performance aligns with the compute-intensive nature of the selected projects. The strong emphasis on integrability and modifiability highlights the importance of creating software that can be easily incorporated into larger research pipelines and can evolve with changing scientific requirements.\n",
    "\n",
    "Conversely, a notable finding is the remarkably low prevalence of discussions related to **Reliability**, which at 1.9% is the least-discussed attribute by a significant margin. This suggests that developers may use other terms, such as \"safety,\" to discuss system robustness, or that explicit reliability tactics are a less frequent topic of conversation compared to other architectural concerns. **Availability** (3.4%) and **Energy Efficiency** (4.9%) also represent areas of comparatively lower focus."
   ],
   "id": "80c1e3e3b95fd45f"
  },
  {
   "metadata": {},
   "cell_type": "markdown",
   "source": "#TODO: Check relation with number of unique keywords of the same QA. Maybe it has a nice correlation",
   "id": "76c6ba33f7fa1c18"
  },
  {
   "metadata": {
    "ExecuteTime": {
     "end_time": "2025-08-20T02:57:10.145690Z",
     "start_time": "2025-08-20T02:57:07.827931Z"
    }
   },
   "cell_type": "code",
   "source": [
    "import pandas as pd\n",
    "import seaborn as sns\n",
    "import matplotlib.pyplot as plt\n",
    "from scipy.stats import pearsonr\n",
    "\n",
    "# --- Correlation Analysis Code ---\n",
    "# ASSUMPTION: The DataFrame 'df' is loaded, and 'qa_counts_sorted' from the\n",
    "# previous primary analysis is available in memory.\n",
    "\n",
    "# 1. Calculate the number of unique keywords for each QA.\n",
    "keyword_uniqueness = df.groupby('qa')['keyword'].nunique().reset_index()\n",
    "keyword_uniqueness.rename(columns={'keyword': 'Unique Keyword Count'}, inplace=True)\n",
    "\n",
    "# 2. Merge this with your existing QA frequency data.\n",
    "# We use 'qa_counts' before it was sorted to ensure a clean merge, then re-add the sorted version.\n",
    "analysis_df = pd.merge(qa_counts_sorted, keyword_uniqueness, on='qa')\n",
    "analysis_df"
   ],
   "id": "b83431f91426fd26",
   "outputs": [
    {
     "name": "stderr",
     "output_type": "stream",
     "text": [
      "C:\\Users\\Dmitrijs\\AppData\\Local\\Temp\\ipykernel_29812\\971927742.py:11: FutureWarning:\n",
      "\n",
      "The default of observed=False is deprecated and will be changed to True in a future version of pandas. Pass observed=False to retain current behavior or observed=True to adopt the future default and silence this warning.\n",
      "\n"
     ]
    },
    {
     "data": {
      "text/plain": [
       "                   qa  Absolute Frequency  Percentage (%)  \\\n",
       "0           usability               52839       13.883517   \n",
       "1              safety               49070       12.893207   \n",
       "2         performance               38623       10.148244   \n",
       "3       integrability               36565        9.607502   \n",
       "4       modifiability               36029        9.466667   \n",
       "5            security               34783        9.139279   \n",
       "6       deployability               33076        8.690763   \n",
       "7    interoperability               30446        7.999727   \n",
       "8         testability               30072        7.901458   \n",
       "9   energy efficiency               18815        4.943666   \n",
       "10       availability               12994        3.414191   \n",
       "11        reliability                7276        1.911779   \n",
       "\n",
       "    Unique Keyword Count  \n",
       "0                     68  \n",
       "1                     50  \n",
       "2                     64  \n",
       "3                     56  \n",
       "4                     48  \n",
       "5                    107  \n",
       "6                     49  \n",
       "7                     57  \n",
       "8                     40  \n",
       "9                     45  \n",
       "10                    44  \n",
       "11                    51  "
      ],
      "text/html": [
       "<div>\n",
       "<style scoped>\n",
       "    .dataframe tbody tr th:only-of-type {\n",
       "        vertical-align: middle;\n",
       "    }\n",
       "\n",
       "    .dataframe tbody tr th {\n",
       "        vertical-align: top;\n",
       "    }\n",
       "\n",
       "    .dataframe thead th {\n",
       "        text-align: right;\n",
       "    }\n",
       "</style>\n",
       "<table border=\"1\" class=\"dataframe\">\n",
       "  <thead>\n",
       "    <tr style=\"text-align: right;\">\n",
       "      <th></th>\n",
       "      <th>qa</th>\n",
       "      <th>Absolute Frequency</th>\n",
       "      <th>Percentage (%)</th>\n",
       "      <th>Unique Keyword Count</th>\n",
       "    </tr>\n",
       "  </thead>\n",
       "  <tbody>\n",
       "    <tr>\n",
       "      <th>0</th>\n",
       "      <td>usability</td>\n",
       "      <td>52839</td>\n",
       "      <td>13.883517</td>\n",
       "      <td>68</td>\n",
       "    </tr>\n",
       "    <tr>\n",
       "      <th>1</th>\n",
       "      <td>safety</td>\n",
       "      <td>49070</td>\n",
       "      <td>12.893207</td>\n",
       "      <td>50</td>\n",
       "    </tr>\n",
       "    <tr>\n",
       "      <th>2</th>\n",
       "      <td>performance</td>\n",
       "      <td>38623</td>\n",
       "      <td>10.148244</td>\n",
       "      <td>64</td>\n",
       "    </tr>\n",
       "    <tr>\n",
       "      <th>3</th>\n",
       "      <td>integrability</td>\n",
       "      <td>36565</td>\n",
       "      <td>9.607502</td>\n",
       "      <td>56</td>\n",
       "    </tr>\n",
       "    <tr>\n",
       "      <th>4</th>\n",
       "      <td>modifiability</td>\n",
       "      <td>36029</td>\n",
       "      <td>9.466667</td>\n",
       "      <td>48</td>\n",
       "    </tr>\n",
       "    <tr>\n",
       "      <th>5</th>\n",
       "      <td>security</td>\n",
       "      <td>34783</td>\n",
       "      <td>9.139279</td>\n",
       "      <td>107</td>\n",
       "    </tr>\n",
       "    <tr>\n",
       "      <th>6</th>\n",
       "      <td>deployability</td>\n",
       "      <td>33076</td>\n",
       "      <td>8.690763</td>\n",
       "      <td>49</td>\n",
       "    </tr>\n",
       "    <tr>\n",
       "      <th>7</th>\n",
       "      <td>interoperability</td>\n",
       "      <td>30446</td>\n",
       "      <td>7.999727</td>\n",
       "      <td>57</td>\n",
       "    </tr>\n",
       "    <tr>\n",
       "      <th>8</th>\n",
       "      <td>testability</td>\n",
       "      <td>30072</td>\n",
       "      <td>7.901458</td>\n",
       "      <td>40</td>\n",
       "    </tr>\n",
       "    <tr>\n",
       "      <th>9</th>\n",
       "      <td>energy efficiency</td>\n",
       "      <td>18815</td>\n",
       "      <td>4.943666</td>\n",
       "      <td>45</td>\n",
       "    </tr>\n",
       "    <tr>\n",
       "      <th>10</th>\n",
       "      <td>availability</td>\n",
       "      <td>12994</td>\n",
       "      <td>3.414191</td>\n",
       "      <td>44</td>\n",
       "    </tr>\n",
       "    <tr>\n",
       "      <th>11</th>\n",
       "      <td>reliability</td>\n",
       "      <td>7276</td>\n",
       "      <td>1.911779</td>\n",
       "      <td>51</td>\n",
       "    </tr>\n",
       "  </tbody>\n",
       "</table>\n",
       "</div>"
      ]
     },
     "execution_count": 78,
     "metadata": {},
     "output_type": "execute_result"
    }
   ],
   "execution_count": 78
  },
  {
   "metadata": {
    "ExecuteTime": {
     "end_time": "2025-08-20T02:57:23.926962Z",
     "start_time": "2025-08-20T02:57:23.920821Z"
    }
   },
   "cell_type": "code",
   "source": [
    "# 3. Calculate the Pearson correlation coefficient and the p-value.\n",
    "correlation, p_value = pearsonr(analysis_df['Unique Keyword Count'], analysis_df['Absolute Frequency'])\n",
    "\n",
    "print(f\"--- Correlation Analysis ---\")\n",
    "print(f\"Pearson Correlation Coefficient: {correlation:.4f}\")\n",
    "print(f\"P-value: {p_value:.4f}\")\n",
    "print(\"--------------------------\\n\")"
   ],
   "id": "a92381db261c2af9",
   "outputs": [
    {
     "name": "stdout",
     "output_type": "stream",
     "text": [
      "--- Correlation Analysis ---\n",
      "Pearson Correlation Coefficient: 0.3166\n",
      "P-value: 0.3160\n",
      "--------------------------\n",
      "\n"
     ]
    }
   ],
   "execution_count": 80
  },
  {
   "metadata": {
    "ExecuteTime": {
     "end_time": "2025-08-20T02:57:56.764517Z",
     "start_time": "2025-08-20T02:57:55.172716Z"
    }
   },
   "cell_type": "code",
   "source": [
    "\n",
    "\n",
    "# --- Generate Figure X: Regression Plot ---\n",
    "plt.style.use('seaborn-v0_8-whitegrid')\n",
    "fig, ax = plt.subplots(figsize=(11, 7))\n",
    "\n",
    "# Create a regression plot to show the scatter plot and the line of best fit.\n",
    "sns.regplot(\n",
    "    data=analysis_df,\n",
    "    x='Unique Keyword Count',\n",
    "    y='Absolute Frequency',\n",
    "    ax=ax,\n",
    "    ci=95, # Show the 95% confidence interval for the regression estimate\n",
    "    scatter_kws={'s': 80} # Make the scatter points a bit larger\n",
    ")\n",
    "\n",
    "# Add text labels to each point for clarity\n",
    "for i, row in analysis_df.iterrows():\n",
    "    ax.text(row['Unique Keyword Count'] + 0.5, row['Absolute Frequency'], row['qa'],\n",
    "            horizontalalignment='left', size='small', color='black')\n",
    "\n",
    "# Add titles and labels\n",
    "ax.set_title('Figure X: QA Discussion Frequency vs. Unique Keyword Count', fontsize=14, weight='bold')\n",
    "ax.set_xlabel('Number of Unique Keywords per QA', fontsize=12)\n",
    "ax.set_ylabel('Absolute Frequency of Discussions', fontsize=12)\n",
    "\n",
    "# Improve layout and save the figure\n",
    "plt.tight_layout()\n",
    "plt.savefig('figure_X_correlation_plot.png', dpi=300)\n",
    "plt.show()\n",
    "\n",
    "# Display the final data table\n",
    "# print(\"Data for the plot:\")\n",
    "# print(analysis_df.to_markdown(index=False))"
   ],
   "id": "aa92ca9a019672aa",
   "outputs": [
    {
     "data": {
      "text/plain": [
       "<Figure size 1100x700 with 1 Axes>"
      ],
      "image/png": "[encoded data removed]"
     },
     "metadata": {},
     "output_type": "display_data"
    },
    {
     "name": "stdout",
     "output_type": "stream",
     "text": [
      "Data for the plot:\n",
      "| qa                |   Absolute Frequency |   Percentage (%) |   Unique Keyword Count |\n",
      "|:------------------|---------------------:|-----------------:|-----------------------:|\n",
      "| usability         |                52839 |         13.8835  |                     68 |\n",
      "| safety            |                49070 |         12.8932  |                     50 |\n",
      "| performance       |                38623 |         10.1482  |                     64 |\n",
      "| integrability     |                36565 |          9.6075  |                     56 |\n",
      "| modifiability     |                36029 |          9.46667 |                     48 |\n",
      "| security          |                34783 |          9.13928 |                    107 |\n",
      "| deployability     |                33076 |          8.69076 |                     49 |\n",
      "| interoperability  |                30446 |          7.99973 |                     57 |\n",
      "| testability       |                30072 |          7.90146 |                     40 |\n",
      "| energy efficiency |                18815 |          4.94367 |                     45 |\n",
      "| availability      |                12994 |          3.41419 |                     44 |\n",
      "| reliability       |                 7276 |          1.91178 |                     51 |\n"
     ]
    }
   ],
   "execution_count": 81
  },
  {
   "metadata": {},
   "cell_type": "markdown",
   "source": [
    "### ## RQ1 Secondary Analysis: Vocabulary Size vs. Discussion Frequency\n",
    "\n",
    "An analysis was conducted to determine if a relationship exists between the size of a quality attribute's vocabulary and its overall discussion frequency. The Pearson correlation coefficient was calculated, and the relationship was visualized using a regression plot (Figure X).\n",
    "\n",
    "The analysis revealed a weak positive correlation (Pearson's r = 0.32) between the number of unique keywords and the absolute frequency of discussions. However, with a p-value of 0.32, this correlation is **not statistically significant**. This finding suggests that simply having a larger number of associated keywords for a quality attribute is not a reliable predictor of a higher discussion volume.\n",
    "\n",
    "The regression plot in Figure X visually confirms this weak relationship, showing a wide confidence interval around the regression line. The plot also highlights several key outliers that help explain the lack of a strong trend. **Security**, for instance, is a significant outlier, possessing the largest vocabulary by a wide margin (107 unique keywords) but only a moderate discussion frequency. This suggests that the language around security is highly specific and diverse, but individual terms may be used less often. In contrast, **Safety** and **Usability** achieve high discussion frequencies with much smaller vocabularies (50 and 68 keywords, respectively), indicating their prevalence is driven by a more concentrated set of high-impact terms. This outcome underscores that the *popularity* of specific keywords is a more influential factor in discussion frequency than the sheer size of the vocabulary."
   ],
   "id": "1b56d2959dcfec2b"
  },
  {
   "metadata": {},
   "cell_type": "markdown",
   "source": "## Secondary - Repository-Specific Priorities",
   "id": "6525929108a496dc"
  },
  {
   "metadata": {
    "ExecuteTime": {
     "end_time": "2025-08-20T01:16:40.390265Z",
     "start_time": "2025-08-20T01:16:40.220283Z"
    }
   },
   "cell_type": "code",
   "source": [
    "r1_2 = df[df.s1_passed].pivot_table(index=[\"repo_id\"], columns=\"qa\", values=\"nsimilar\", aggfunc=\"sum\")\n",
    "r1_2"
   ],
   "id": "87088268f4b4211a",
   "outputs": [
    {
     "name": "stderr",
     "output_type": "stream",
     "text": [
      "C:\\Users\\Dmitrijs\\AppData\\Local\\Temp\\ipykernel_29812\\3060825801.py:1: FutureWarning:\n",
      "\n",
      "The default value of observed=False is deprecated and will change to observed=True in a future version of pandas. Specify observed=False to silence this warning and retain the current behavior\n",
      "\n"
     ]
    },
    {
     "data": {
      "text/plain": [
       "qa                          availability  deployability  energy efficiency  \\\n",
       "repo_id                                                                      \n",
       "OpenGene/fastp/v0.23.4               163            278                274   \n",
       "allenai/scispacy/v0.5.5              112            453                314   \n",
       "google/deepvariant/v1.6.1            623           2046               1245   \n",
       "root-project/root/v6-32-06         10946          26675              15910   \n",
       "scverse/scanpy/1.10.2               1150           3624               1072   \n",
       "\n",
       "qa                          integrability  interoperability  modifiability  \\\n",
       "repo_id                                                                      \n",
       "OpenGene/fastp/v0.23.4                650               450            500   \n",
       "allenai/scispacy/v0.5.5               421               215            318   \n",
       "google/deepvariant/v1.6.1             606              1079           1065   \n",
       "root-project/root/v6-32-06          31768             26868          31195   \n",
       "scverse/scanpy/1.10.2                3120              1834           2951   \n",
       "\n",
       "qa                          performance  reliability  safety  security  \\\n",
       "repo_id                                                                  \n",
       "OpenGene/fastp/v0.23.4              309           66     448       258   \n",
       "allenai/scispacy/v0.5.5             342           64     357       413   \n",
       "google/deepvariant/v1.6.1          1812          317    1966      1356   \n",
       "root-project/root/v6-32-06        33975         6427   43067     30957   \n",
       "scverse/scanpy/1.10.2              2185          402    3232      1799   \n",
       "\n",
       "qa                          testability  usability  \n",
       "repo_id                                             \n",
       "OpenGene/fastp/v0.23.4              126        656  \n",
       "allenai/scispacy/v0.5.5             229        446  \n",
       "google/deepvariant/v1.6.1          1418       3125  \n",
       "root-project/root/v6-32-06        25421      43933  \n",
       "scverse/scanpy/1.10.2              2878       4679  "
      ],
      "text/html": [
       "<div>\n",
       "<style scoped>\n",
       "    .dataframe tbody tr th:only-of-type {\n",
       "        vertical-align: middle;\n",
       "    }\n",
       "\n",
       "    .dataframe tbody tr th {\n",
       "        vertical-align: top;\n",
       "    }\n",
       "\n",
       "    .dataframe thead th {\n",
       "        text-align: right;\n",
       "    }\n",
       "</style>\n",
       "<table border=\"1\" class=\"dataframe\">\n",
       "  <thead>\n",
       "    <tr style=\"text-align: right;\">\n",
       "      <th>qa</th>\n",
       "      <th>availability</th>\n",
       "      <th>deployability</th>\n",
       "      <th>energy efficiency</th>\n",
       "      <th>integrability</th>\n",
       "      <th>interoperability</th>\n",
       "      <th>modifiability</th>\n",
       "      <th>performance</th>\n",
       "      <th>reliability</th>\n",
       "      <th>safety</th>\n",
       "      <th>security</th>\n",
       "      <th>testability</th>\n",
       "      <th>usability</th>\n",
       "    </tr>\n",
       "    <tr>\n",
       "      <th>repo_id</th>\n",
       "      <th></th>\n",
       "      <th></th>\n",
       "      <th></th>\n",
       "      <th></th>\n",
       "      <th></th>\n",
       "      <th></th>\n",
       "      <th></th>\n",
       "      <th></th>\n",
       "      <th></th>\n",
       "      <th></th>\n",
       "      <th></th>\n",
       "      <th></th>\n",
       "    </tr>\n",
       "  </thead>\n",
       "  <tbody>\n",
       "    <tr>\n",
       "      <th>OpenGene/fastp/v0.23.4</th>\n",
       "      <td>163</td>\n",
       "      <td>278</td>\n",
       "      <td>274</td>\n",
       "      <td>650</td>\n",
       "      <td>450</td>\n",
       "      <td>500</td>\n",
       "      <td>309</td>\n",
       "      <td>66</td>\n",
       "      <td>448</td>\n",
       "      <td>258</td>\n",
       "      <td>126</td>\n",
       "      <td>656</td>\n",
       "    </tr>\n",
       "    <tr>\n",
       "      <th>allenai/scispacy/v0.5.5</th>\n",
       "      <td>112</td>\n",
       "      <td>453</td>\n",
       "      <td>314</td>\n",
       "      <td>421</td>\n",
       "      <td>215</td>\n",
       "      <td>318</td>\n",
       "      <td>342</td>\n",
       "      <td>64</td>\n",
       "      <td>357</td>\n",
       "      <td>413</td>\n",
       "      <td>229</td>\n",
       "      <td>446</td>\n",
       "    </tr>\n",
       "    <tr>\n",
       "      <th>google/deepvariant/v1.6.1</th>\n",
       "      <td>623</td>\n",
       "      <td>2046</td>\n",
       "      <td>1245</td>\n",
       "      <td>606</td>\n",
       "      <td>1079</td>\n",
       "      <td>1065</td>\n",
       "      <td>1812</td>\n",
       "      <td>317</td>\n",
       "      <td>1966</td>\n",
       "      <td>1356</td>\n",
       "      <td>1418</td>\n",
       "      <td>3125</td>\n",
       "    </tr>\n",
       "    <tr>\n",
       "      <th>root-project/root/v6-32-06</th>\n",
       "      <td>10946</td>\n",
       "      <td>26675</td>\n",
       "      <td>15910</td>\n",
       "      <td>31768</td>\n",
       "      <td>26868</td>\n",
       "      <td>31195</td>\n",
       "      <td>33975</td>\n",
       "      <td>6427</td>\n",
       "      <td>43067</td>\n",
       "      <td>30957</td>\n",
       "      <td>25421</td>\n",
       "      <td>43933</td>\n",
       "    </tr>\n",
       "    <tr>\n",
       "      <th>scverse/scanpy/1.10.2</th>\n",
       "      <td>1150</td>\n",
       "      <td>3624</td>\n",
       "      <td>1072</td>\n",
       "      <td>3120</td>\n",
       "      <td>1834</td>\n",
       "      <td>2951</td>\n",
       "      <td>2185</td>\n",
       "      <td>402</td>\n",
       "      <td>3232</td>\n",
       "      <td>1799</td>\n",
       "      <td>2878</td>\n",
       "      <td>4679</td>\n",
       "    </tr>\n",
       "  </tbody>\n",
       "</table>\n",
       "</div>"
      ]
     },
     "execution_count": 25,
     "metadata": {},
     "output_type": "execute_result"
    }
   ],
   "execution_count": 25
  },
  {
   "metadata": {
    "ExecuteTime": {
     "end_time": "2025-08-20T01:16:40.483072Z",
     "start_time": "2025-08-20T01:16:40.454398Z"
    }
   },
   "cell_type": "code",
   "source": [
    "r1_2_pc = r1_2.div(r1_2.sum(axis=1), axis=0) * 100\n",
    "r1_2_pc"
   ],
   "id": "ca822209f63bbc6b",
   "outputs": [
    {
     "data": {
      "text/plain": [
       "qa                          availability  deployability  energy efficiency  \\\n",
       "repo_id                                                                      \n",
       "OpenGene/fastp/v0.23.4          3.901388       6.653901           6.558162   \n",
       "allenai/scispacy/v0.5.5         3.040174      12.296417           8.523344   \n",
       "google/deepvariant/v1.6.1       3.739945      12.282387           7.473886   \n",
       "root-project/root/v6-32-06      3.345948       8.153951           4.863332   \n",
       "scverse/scanpy/1.10.2           3.975662      12.528521           3.706008   \n",
       "\n",
       "qa                          integrability  interoperability  modifiability  \\\n",
       "repo_id                                                                      \n",
       "OpenGene/fastp/v0.23.4          15.557683         10.770704      11.967449   \n",
       "allenai/scispacy/v0.5.5         11.427796          5.836048       8.631922   \n",
       "google/deepvariant/v1.6.1        3.637892          6.477368       6.393325   \n",
       "root-project/root/v6-32-06       9.710768          8.212947       9.535615   \n",
       "scverse/scanpy/1.10.2           10.786144          6.340317      10.201894   \n",
       "\n",
       "qa                          performance  reliability     safety   security  \\\n",
       "repo_id                                                                      \n",
       "OpenGene/fastp/v0.23.4         7.395883     1.579703  10.722834   6.175203   \n",
       "allenai/scispacy/v0.5.5        9.283388     1.737242   9.690554  11.210641   \n",
       "google/deepvariant/v1.6.1     10.877656     1.902990  11.802137   8.140233   \n",
       "root-project/root/v6-32-06    10.385398     1.964590  13.164620   9.462863   \n",
       "scverse/scanpy/1.10.2          7.553758     1.389753  11.173339   6.219318   \n",
       "\n",
       "qa                          testability  usability  \n",
       "repo_id                                             \n",
       "OpenGene/fastp/v0.23.4         3.015797  15.701292  \n",
       "allenai/scispacy/v0.5.5        6.216069  12.106406  \n",
       "google/deepvariant/v1.6.1      8.512426  18.759755  \n",
       "root-project/root/v6-32-06     7.770632  13.429336  \n",
       "scverse/scanpy/1.10.2          9.949526  16.175759  "
      ],
      "text/html": [
       "<div>\n",
       "<style scoped>\n",
       "    .dataframe tbody tr th:only-of-type {\n",
       "        vertical-align: middle;\n",
       "    }\n",
       "\n",
       "    .dataframe tbody tr th {\n",
       "        vertical-align: top;\n",
       "    }\n",
       "\n",
       "    .dataframe thead th {\n",
       "        text-align: right;\n",
       "    }\n",
       "</style>\n",
       "<table border=\"1\" class=\"dataframe\">\n",
       "  <thead>\n",
       "    <tr style=\"text-align: right;\">\n",
       "      <th>qa</th>\n",
       "      <th>availability</th>\n",
       "      <th>deployability</th>\n",
       "      <th>energy efficiency</th>\n",
       "      <th>integrability</th>\n",
       "      <th>interoperability</th>\n",
       "      <th>modifiability</th>\n",
       "      <th>performance</th>\n",
       "      <th>reliability</th>\n",
       "      <th>safety</th>\n",
       "      <th>security</th>\n",
       "      <th>testability</th>\n",
       "      <th>usability</th>\n",
       "    </tr>\n",
       "    <tr>\n",
       "      <th>repo_id</th>\n",
       "      <th></th>\n",
       "      <th></th>\n",
       "      <th></th>\n",
       "      <th></th>\n",
       "      <th></th>\n",
       "      <th></th>\n",
       "      <th></th>\n",
       "      <th></th>\n",
       "      <th></th>\n",
       "      <th></th>\n",
       "      <th></th>\n",
       "      <th></th>\n",
       "    </tr>\n",
       "  </thead>\n",
       "  <tbody>\n",
       "    <tr>\n",
       "      <th>OpenGene/fastp/v0.23.4</th>\n",
       "      <td>3.901388</td>\n",
       "      <td>6.653901</td>\n",
       "      <td>6.558162</td>\n",
       "      <td>15.557683</td>\n",
       "      <td>10.770704</td>\n",
       "      <td>11.967449</td>\n",
       "      <td>7.395883</td>\n",
       "      <td>1.579703</td>\n",
       "      <td>10.722834</td>\n",
       "      <td>6.175203</td>\n",
       "      <td>3.015797</td>\n",
       "      <td>15.701292</td>\n",
       "    </tr>\n",
       "    <tr>\n",
       "      <th>allenai/scispacy/v0.5.5</th>\n",
       "      <td>3.040174</td>\n",
       "      <td>12.296417</td>\n",
       "      <td>8.523344</td>\n",
       "      <td>11.427796</td>\n",
       "      <td>5.836048</td>\n",
       "      <td>8.631922</td>\n",
       "      <td>9.283388</td>\n",
       "      <td>1.737242</td>\n",
       "      <td>9.690554</td>\n",
       "      <td>11.210641</td>\n",
       "      <td>6.216069</td>\n",
       "      <td>12.106406</td>\n",
       "    </tr>\n",
       "    <tr>\n",
       "      <th>google/deepvariant/v1.6.1</th>\n",
       "      <td>3.739945</td>\n",
       "      <td>12.282387</td>\n",
       "      <td>7.473886</td>\n",
       "      <td>3.637892</td>\n",
       "      <td>6.477368</td>\n",
       "      <td>6.393325</td>\n",
       "      <td>10.877656</td>\n",
       "      <td>1.902990</td>\n",
       "      <td>11.802137</td>\n",
       "      <td>8.140233</td>\n",
       "      <td>8.512426</td>\n",
       "      <td>18.759755</td>\n",
       "    </tr>\n",
       "    <tr>\n",
       "      <th>root-project/root/v6-32-06</th>\n",
       "      <td>3.345948</td>\n",
       "      <td>8.153951</td>\n",
       "      <td>4.863332</td>\n",
       "      <td>9.710768</td>\n",
       "      <td>8.212947</td>\n",
       "      <td>9.535615</td>\n",
       "      <td>10.385398</td>\n",
       "      <td>1.964590</td>\n",
       "      <td>13.164620</td>\n",
       "      <td>9.462863</td>\n",
       "      <td>7.770632</td>\n",
       "      <td>13.429336</td>\n",
       "    </tr>\n",
       "    <tr>\n",
       "      <th>scverse/scanpy/1.10.2</th>\n",
       "      <td>3.975662</td>\n",
       "      <td>12.528521</td>\n",
       "      <td>3.706008</td>\n",
       "      <td>10.786144</td>\n",
       "      <td>6.340317</td>\n",
       "      <td>10.201894</td>\n",
       "      <td>7.553758</td>\n",
       "      <td>1.389753</td>\n",
       "      <td>11.173339</td>\n",
       "      <td>6.219318</td>\n",
       "      <td>9.949526</td>\n",
       "      <td>16.175759</td>\n",
       "    </tr>\n",
       "  </tbody>\n",
       "</table>\n",
       "</div>"
      ]
     },
     "execution_count": 26,
     "metadata": {},
     "output_type": "execute_result"
    }
   ],
   "execution_count": 26
  },
  {
   "metadata": {
    "ExecuteTime": {
     "end_time": "2025-08-20T01:20:25.056319Z",
     "start_time": "2025-08-20T01:20:23.593762Z"
    }
   },
   "cell_type": "code",
   "source": [
    "import seaborn as sns\n",
    "import matplotlib.pyplot as plt\n",
    "\n",
    "plt.style.use('default')\n",
    "fig, ax = plt.subplots(figsize=(12, 10))\n",
    "\n",
    "sns.heatmap(r1_2_pc,\n",
    "            annot=True,\n",
    "            fmt=\".1f\",\n",
    "            linewidths=.5,\n",
    "            cmap='Blues',\n",
    "            ax=ax,\n",
    "            cbar_kws={'label': 'Percentage of Discussions within Repository (%)'})\n",
    "\n",
    "ax.set_title('Figure 3: Relative Focus on Quality Attributes Across Repositories', fontsize=16, weight='bold', pad=20)\n",
    "ax.set_xlabel('Repository', fontsize=12)\n",
    "ax.set_ylabel('Quality Attribute', fontsize=12)\n",
    "\n",
    "plt.xticks(rotation=45, ha='right')\n",
    "plt.yticks(rotation=0)\n",
    "plt.tight_layout()\n",
    "plt.savefig('figure_3_qa_heatmap.png', dpi=300)\n",
    "\n",
    "plt.show()"
   ],
   "id": "cc8b19707f736e53",
   "outputs": [
    {
     "data": {
      "text/plain": [
       "<Figure size 1200x1000 with 2 Axes>"
      ],
      "image/png": "[encoded data removed]"
     },
     "metadata": {},
     "output_type": "display_data"
    }
   ],
   "execution_count": 34
  },
  {
   "metadata": {},
   "cell_type": "markdown",
   "source": [
    "## RQ1 Secondary Analysis: Repository-Specific Architectural Priorities\n",
    "\n",
    "To investigate whether architectural priorities are project-dependent, the discussions of quality attributes were normalized within each repository. This normalization provides a direct comparison of the *proportional focus* on each attribute, independent of a project's overall size or activity level. The resulting distribution, visualized as a heatmap in Figure [XXX], reveals distinct architectural profiles for each project, although several common themes are apparent.\n",
    "\n",
    "A primary observation is the consistent, high-level focus on **Usability**. This attribute is among the most discussed for four of the five projects, with a particularly strong emphasis in `google/deepvariant` (18.8%) and `scverse/scanpy` (16.2%). This widespread priority suggests that for developers of specialized scientific software, ensuring tools are accessible and operable for their target scientific audience is a key architectural driver. Another commonality is the shared focus on **Deployability**, which is a top concern for libraries like `allenai/scispacy` (12.3%) and `scverse/scanpy` (12.5%). In contrast, **Reliability** is consistently the least-discussed attribute across all projects, never exceeding 2% of the conversation.\n",
    "\n",
    "Beyond these shared themes, the analysis highlights unique priorities that align with the specific purpose and nature of each project.\n",
    "* The most pronounced project-specific focus is on **Integrability** (15.6%) in `OpenGene/fastp`. As a command-line tool designed for \"all-in-one preprocessing for FastQ files\", its ability to function as a well-behaved component within larger bioinformatics workflows is a clear architectural priority.\n",
    "* For `allenai/scispacy`, a Python library for biomedical text processing, the dominant concern is **Deployability** (12.3%). This quantitative finding is directly substantiated by the project's documentation, which dedicates a significant section to resolving installation complexities across different platforms and environments.\n",
    "* The `root-project/root` framework, which is used to process exabytes of high-energy physics data, shows a proportionally high focus on **Safety** (13.2%). This suggests a heightened concern for correctness and the prevention of data corruption, which is logical given the scale and criticality of its application domain.\n",
    "* For `scverse/scanpy`, the priorities are **Usability** (16.2%) and **Deployability** (12.5%). This aligns with its role as a \"scalable toolkit for analyzing single-cell gene expression data\" that is part of the larger `scverse` \"computational ecosystem\". For a library intended for researchers, ensuring it can be easily installed and integrated into various analytical workflows is a primary architectural concern.\n",
    "* Finally, the pronounced focus on **Usability** (18.8%) in `google/deepvariant` reflects its stated goal of providing an \"Ease of use\" tool where complex deep-learning models are packaged for straightforward application by genomics researchers.\n",
    "\n",
    "These distinct profiles indicate that while a common set of architectural challenges exists, the specific domain and intended function of a scientific software project are critical drivers of its architectural trade-offs."
   ],
   "id": "7a1a83e36db92c9a"
  },
  {
   "metadata": {},
   "cell_type": "markdown",
   "source": "## Secondary 2 - Keyword Performance Analysis",
   "id": "24d88ba5187e19cb"
  },
  {
   "metadata": {},
   "cell_type": "code",
   "source": "df.head()",
   "id": "1624a2e5bab5ad03",
   "outputs": [],
   "execution_count": null
  },
  {
   "metadata": {
    "ExecuteTime": {
     "end_time": "2025-08-20T02:05:35.606362Z",
     "start_time": "2025-08-20T02:05:35.463521Z"
    }
   },
   "cell_type": "code",
   "source": [
    "r1_3 = df.pivot_table(index=\"keyword\", columns=\"s1_passed\", values=\"nsimilar\", aggfunc=\"sum\")\n",
    "r1_3[\"total\"] = r1_3.sum(axis=1)\n",
    "nkw =  r1_3.total.sum()\n",
    "r1_3[\"passed_ratio\"] = r1_3[True] / r1_3.total\n",
    "r1_3[\"popularity_ratio\"] = r1_3.total / nkw\n",
    "r1_3.sort_values(\"total\", ascending=False)"
   ],
   "id": "14e8c26ae4db322f",
   "outputs": [
    {
     "name": "stderr",
     "output_type": "stream",
     "text": [
      "C:\\Users\\Dmitrijs\\AppData\\Local\\Temp\\ipykernel_29812\\681951998.py:1: FutureWarning:\n",
      "\n",
      "The default value of observed=False is deprecated and will change to observed=True in a future version of pandas. Specify observed=False to silence this warning and retain the current behavior\n",
      "\n"
     ]
    },
    {
     "data": {
      "text/plain": [
       "s1_passed       False   True   total  passed_ratio  popularity_ratio\n",
       "keyword                                                             \n",
       "error          107640  19339  126979      0.152301      6.365341e-02\n",
       "test            65431  15672   81103      0.193236      4.065619e-02\n",
       "depend          50426  14498   64924      0.223307      3.254581e-02\n",
       "version         52257  11612   63869      0.181810      3.201694e-02\n",
       "modul           51628  10347   61975      0.166954      3.106750e-02\n",
       "...               ...    ...     ...           ...               ...\n",
       "tenant              1      0       1      0.000000      5.012908e-07\n",
       "trojan              0      1       1      1.000000      5.012908e-07\n",
       "guardrail           1      0       1      0.000000      5.012908e-07\n",
       "chang environ       1      0       1      0.000000      5.012908e-07\n",
       "xss                 1      0       1      0.000000      5.012908e-07\n",
       "\n",
       "[523 rows x 5 columns]"
      ],
      "text/html": [
       "<div>\n",
       "<style scoped>\n",
       "    .dataframe tbody tr th:only-of-type {\n",
       "        vertical-align: middle;\n",
       "    }\n",
       "\n",
       "    .dataframe tbody tr th {\n",
       "        vertical-align: top;\n",
       "    }\n",
       "\n",
       "    .dataframe thead th {\n",
       "        text-align: right;\n",
       "    }\n",
       "</style>\n",
       "<table border=\"1\" class=\"dataframe\">\n",
       "  <thead>\n",
       "    <tr style=\"text-align: right;\">\n",
       "      <th>s1_passed</th>\n",
       "      <th>False</th>\n",
       "      <th>True</th>\n",
       "      <th>total</th>\n",
       "      <th>passed_ratio</th>\n",
       "      <th>popularity_ratio</th>\n",
       "    </tr>\n",
       "    <tr>\n",
       "      <th>keyword</th>\n",
       "      <th></th>\n",
       "      <th></th>\n",
       "      <th></th>\n",
       "      <th></th>\n",
       "      <th></th>\n",
       "    </tr>\n",
       "  </thead>\n",
       "  <tbody>\n",
       "    <tr>\n",
       "      <th>error</th>\n",
       "      <td>107640</td>\n",
       "      <td>19339</td>\n",
       "      <td>126979</td>\n",
       "      <td>0.152301</td>\n",
       "      <td>6.365341e-02</td>\n",
       "    </tr>\n",
       "    <tr>\n",
       "      <th>test</th>\n",
       "      <td>65431</td>\n",
       "      <td>15672</td>\n",
       "      <td>81103</td>\n",
       "      <td>0.193236</td>\n",
       "      <td>4.065619e-02</td>\n",
       "    </tr>\n",
       "    <tr>\n",
       "      <th>depend</th>\n",
       "      <td>50426</td>\n",
       "      <td>14498</td>\n",
       "      <td>64924</td>\n",
       "      <td>0.223307</td>\n",
       "      <td>3.254581e-02</td>\n",
       "    </tr>\n",
       "    <tr>\n",
       "      <th>version</th>\n",
       "      <td>52257</td>\n",
       "      <td>11612</td>\n",
       "      <td>63869</td>\n",
       "      <td>0.181810</td>\n",
       "      <td>3.201694e-02</td>\n",
       "    </tr>\n",
       "    <tr>\n",
       "      <th>modul</th>\n",
       "      <td>51628</td>\n",
       "      <td>10347</td>\n",
       "      <td>61975</td>\n",
       "      <td>0.166954</td>\n",
       "      <td>3.106750e-02</td>\n",
       "    </tr>\n",
       "    <tr>\n",
       "      <th>...</th>\n",
       "      <td>...</td>\n",
       "      <td>...</td>\n",
       "      <td>...</td>\n",
       "      <td>...</td>\n",
       "      <td>...</td>\n",
       "    </tr>\n",
       "    <tr>\n",
       "      <th>tenant</th>\n",
       "      <td>1</td>\n",
       "      <td>0</td>\n",
       "      <td>1</td>\n",
       "      <td>0.000000</td>\n",
       "      <td>5.012908e-07</td>\n",
       "    </tr>\n",
       "    <tr>\n",
       "      <th>trojan</th>\n",
       "      <td>0</td>\n",
       "      <td>1</td>\n",
       "      <td>1</td>\n",
       "      <td>1.000000</td>\n",
       "      <td>5.012908e-07</td>\n",
       "    </tr>\n",
       "    <tr>\n",
       "      <th>guardrail</th>\n",
       "      <td>1</td>\n",
       "      <td>0</td>\n",
       "      <td>1</td>\n",
       "      <td>0.000000</td>\n",
       "      <td>5.012908e-07</td>\n",
       "    </tr>\n",
       "    <tr>\n",
       "      <th>chang environ</th>\n",
       "      <td>1</td>\n",
       "      <td>0</td>\n",
       "      <td>1</td>\n",
       "      <td>0.000000</td>\n",
       "      <td>5.012908e-07</td>\n",
       "    </tr>\n",
       "    <tr>\n",
       "      <th>xss</th>\n",
       "      <td>1</td>\n",
       "      <td>0</td>\n",
       "      <td>1</td>\n",
       "      <td>0.000000</td>\n",
       "      <td>5.012908e-07</td>\n",
       "    </tr>\n",
       "  </tbody>\n",
       "</table>\n",
       "<p>523 rows × 5 columns</p>\n",
       "</div>"
      ]
     },
     "execution_count": 42,
     "metadata": {},
     "output_type": "execute_result"
    }
   ],
   "execution_count": 42
  },
  {
   "metadata": {},
   "cell_type": "code",
   "source": [
    "# px.scatter(r1_3, x=\"popularity_ratio\", y=\"passed_ratio\", hover_name=r1_3.index, hover_data=[\"passed_ratio\", \"popularity_ratio\", \"total\"])\n",
    "# # px.scatter(r1_3, x=\"popularity_ratio\", y=\"passed_ratio\", hover_name=r1_3.index, hover_data=[\"passed_ratio\", \"popularity_ratio\", \"total\"], color=\"total\", color_continuous_scale=px.colors.sequential.Burgyl_r)"
   ],
   "id": "90daa6fa5fc1ec33",
   "outputs": [],
   "execution_count": null
  },
  {
   "metadata": {
    "ExecuteTime": {
     "end_time": "2025-08-20T02:08:56.911305Z",
     "start_time": "2025-08-20T02:08:56.543395Z"
    }
   },
   "cell_type": "code",
   "source": [
    "import pandas as pd\n",
    "import plotly.express as px\n",
    "\n",
    "keyword_perf = df.pivot_table(index=\"keyword\",\n",
    "                              columns=\"s1_passed\",\n",
    "                              values=\"nsimilar\",\n",
    "                              aggfunc=\"sum\",\n",
    "                              fill_value=0)\n",
    "\n",
    "keyword_perf.rename(columns={True: 'passed_count', False: 'failed_count'}, inplace=True)\n",
    "\n",
    "# 3. Calculate total occurrences and precision (passed_ratio).\n",
    "keyword_perf[\"total_count\"] = keyword_perf[\"passed_count\"] + keyword_perf[\"failed_count\"]\n",
    "keyword_perf[\"precision\"] = keyword_perf[\"passed_count\"] / keyword_perf[\"total_count\"]\n",
    "\n",
    "# 4. Calculate popularity as a percentage of all discussions.\n",
    "total_matches = keyword_perf[\"total_count\"].sum()\n",
    "keyword_perf[\"popularity\"] = keyword_perf[\"total_count\"] / total_matches\n",
    "\n",
    "# 5. Find the primary Quality Attribute for each keyword for coloring.\n",
    "keyword_qa_map = df.groupby('keyword')['qa'].agg(lambda x: x.value_counts().index[0])\n",
    "keyword_perf = keyword_perf.join(keyword_qa_map.rename('primary_qa'))\n",
    "keyword_perf\n"
   ],
   "id": "8db4d2ff8609256b",
   "outputs": [
    {
     "name": "stderr",
     "output_type": "stream",
     "text": [
      "C:\\Users\\Dmitrijs\\AppData\\Local\\Temp\\ipykernel_29812\\3643391971.py:4: FutureWarning:\n",
      "\n",
      "The default value of observed=False is deprecated and will change to observed=True in a future version of pandas. Specify observed=False to silence this warning and retain the current behavior\n",
      "\n",
      "C:\\Users\\Dmitrijs\\AppData\\Local\\Temp\\ipykernel_29812\\3643391971.py:21: FutureWarning:\n",
      "\n",
      "The default of observed=False is deprecated and will be changed to True in a future version of pandas. Pass observed=False to retain current behavior or observed=True to adopt the future default and silence this warning.\n",
      "\n"
     ]
    },
    {
     "data": {
      "text/plain": [
       "          failed_count  passed_count  total_count  precision    popularity  \\\n",
       "keyword                                                                      \n",
       "a/b                 53            14           67   0.208955  3.358649e-05   \n",
       "abstract          4044           770         4814   0.159950  2.413214e-03   \n",
       "access            7457          2584        10041   0.257345  5.033461e-03   \n",
       "accid              221            92          313   0.293930  1.569040e-04   \n",
       "adapt             6031          1918         7949   0.241288  3.984761e-03   \n",
       "...                ...           ...          ...        ...           ...   \n",
       "worm                 7             0            7   0.000000  3.509036e-06   \n",
       "wrap              3459          1090         4549   0.239613  2.280372e-03   \n",
       "wrapper           1830           491         2321   0.211547  1.163496e-03   \n",
       "xml               1531           229         1760   0.130114  8.822719e-04   \n",
       "xss                  1             0            1   0.000000  5.012908e-07   \n",
       "\n",
       "                primary_qa  \n",
       "keyword                     \n",
       "a/b          deployability  \n",
       "abstract     integrability  \n",
       "access            security  \n",
       "accid               safety  \n",
       "adapt        integrability  \n",
       "...                    ...  \n",
       "worm              security  \n",
       "wrap         integrability  \n",
       "wrapper   interoperability  \n",
       "xml       interoperability  \n",
       "xss               security  \n",
       "\n",
       "[523 rows x 6 columns]"
      ],
      "text/html": [
       "<div>\n",
       "<style scoped>\n",
       "    .dataframe tbody tr th:only-of-type {\n",
       "        vertical-align: middle;\n",
       "    }\n",
       "\n",
       "    .dataframe tbody tr th {\n",
       "        vertical-align: top;\n",
       "    }\n",
       "\n",
       "    .dataframe thead th {\n",
       "        text-align: right;\n",
       "    }\n",
       "</style>\n",
       "<table border=\"1\" class=\"dataframe\">\n",
       "  <thead>\n",
       "    <tr style=\"text-align: right;\">\n",
       "      <th></th>\n",
       "      <th>failed_count</th>\n",
       "      <th>passed_count</th>\n",
       "      <th>total_count</th>\n",
       "      <th>precision</th>\n",
       "      <th>popularity</th>\n",
       "      <th>primary_qa</th>\n",
       "    </tr>\n",
       "    <tr>\n",
       "      <th>keyword</th>\n",
       "      <th></th>\n",
       "      <th></th>\n",
       "      <th></th>\n",
       "      <th></th>\n",
       "      <th></th>\n",
       "      <th></th>\n",
       "    </tr>\n",
       "  </thead>\n",
       "  <tbody>\n",
       "    <tr>\n",
       "      <th>a/b</th>\n",
       "      <td>53</td>\n",
       "      <td>14</td>\n",
       "      <td>67</td>\n",
       "      <td>0.208955</td>\n",
       "      <td>3.358649e-05</td>\n",
       "      <td>deployability</td>\n",
       "    </tr>\n",
       "    <tr>\n",
       "      <th>abstract</th>\n",
       "      <td>4044</td>\n",
       "      <td>770</td>\n",
       "      <td>4814</td>\n",
       "      <td>0.159950</td>\n",
       "      <td>2.413214e-03</td>\n",
       "      <td>integrability</td>\n",
       "    </tr>\n",
       "    <tr>\n",
       "      <th>access</th>\n",
       "      <td>7457</td>\n",
       "      <td>2584</td>\n",
       "      <td>10041</td>\n",
       "      <td>0.257345</td>\n",
       "      <td>5.033461e-03</td>\n",
       "      <td>security</td>\n",
       "    </tr>\n",
       "    <tr>\n",
       "      <th>accid</th>\n",
       "      <td>221</td>\n",
       "      <td>92</td>\n",
       "      <td>313</td>\n",
       "      <td>0.293930</td>\n",
       "      <td>1.569040e-04</td>\n",
       "      <td>safety</td>\n",
       "    </tr>\n",
       "    <tr>\n",
       "      <th>adapt</th>\n",
       "      <td>6031</td>\n",
       "      <td>1918</td>\n",
       "      <td>7949</td>\n",
       "      <td>0.241288</td>\n",
       "      <td>3.984761e-03</td>\n",
       "      <td>integrability</td>\n",
       "    </tr>\n",
       "    <tr>\n",
       "      <th>...</th>\n",
       "      <td>...</td>\n",
       "      <td>...</td>\n",
       "      <td>...</td>\n",
       "      <td>...</td>\n",
       "      <td>...</td>\n",
       "      <td>...</td>\n",
       "    </tr>\n",
       "    <tr>\n",
       "      <th>worm</th>\n",
       "      <td>7</td>\n",
       "      <td>0</td>\n",
       "      <td>7</td>\n",
       "      <td>0.000000</td>\n",
       "      <td>3.509036e-06</td>\n",
       "      <td>security</td>\n",
       "    </tr>\n",
       "    <tr>\n",
       "      <th>wrap</th>\n",
       "      <td>3459</td>\n",
       "      <td>1090</td>\n",
       "      <td>4549</td>\n",
       "      <td>0.239613</td>\n",
       "      <td>2.280372e-03</td>\n",
       "      <td>integrability</td>\n",
       "    </tr>\n",
       "    <tr>\n",
       "      <th>wrapper</th>\n",
       "      <td>1830</td>\n",
       "      <td>491</td>\n",
       "      <td>2321</td>\n",
       "      <td>0.211547</td>\n",
       "      <td>1.163496e-03</td>\n",
       "      <td>interoperability</td>\n",
       "    </tr>\n",
       "    <tr>\n",
       "      <th>xml</th>\n",
       "      <td>1531</td>\n",
       "      <td>229</td>\n",
       "      <td>1760</td>\n",
       "      <td>0.130114</td>\n",
       "      <td>8.822719e-04</td>\n",
       "      <td>interoperability</td>\n",
       "    </tr>\n",
       "    <tr>\n",
       "      <th>xss</th>\n",
       "      <td>1</td>\n",
       "      <td>0</td>\n",
       "      <td>1</td>\n",
       "      <td>0.000000</td>\n",
       "      <td>5.012908e-07</td>\n",
       "      <td>security</td>\n",
       "    </tr>\n",
       "  </tbody>\n",
       "</table>\n",
       "<p>523 rows × 6 columns</p>\n",
       "</div>"
      ]
     },
     "execution_count": 45,
     "metadata": {},
     "output_type": "execute_result"
    }
   ],
   "execution_count": 45
  },
  {
   "metadata": {
    "ExecuteTime": {
     "end_time": "2025-08-20T02:33:44.266167Z",
     "start_time": "2025-08-20T02:33:44.117687Z"
    }
   },
   "cell_type": "code",
   "source": [
    "import numpy as np\n",
    "\n",
    "# --- Generate Figure 4 ---\n",
    "# Create an enhanced scatter plot (bubble chart).\n",
    "keyword_perf['bubble_size'] = np.log(keyword_perf['total_count'] + 1)\n",
    "\n",
    "fig = px.scatter(\n",
    "    keyword_perf.reset_index(),\n",
    "    x=\"popularity\",\n",
    "    y=\"precision\",\n",
    "    size=\"bubble_size\",          # *** FIX: Use the new log-scaled size ***\n",
    "    color=\"primary_qa\",\n",
    "    hover_name=\"keyword\",\n",
    "    # We still show the ORIGINAL total_count on hover for accurate data inspection\n",
    "    hover_data=[\"precision\", \"popularity\", \"total_count\", \"primary_qa\"],\n",
    "    log_x=True,\n",
    "    title=\"Figure 4: Keyword Performance Analysis: Precision vs. Popularity\",\n",
    "    size_max=20,\n",
    "    opacity=0.5,\n",
    ")\n",
    "\n",
    "\n",
    "# Add quadrant lines based on median values for interpretation\n",
    "median_precision = keyword_perf[\"precision\"].median()\n",
    "median_popularity = keyword_perf[\"popularity\"].median()\n",
    "\n",
    "fig.add_hline(y=median_precision, line_dash=\"dot\", annotation_text=\"Median Precision\")\n",
    "fig.add_vline(x=median_popularity, line_dash=\"dot\", annotation_text=\"Median Popularity\")\n",
    "\n",
    "\n",
    "# Update layout for a professional look\n",
    "fig.update_layout(\n",
    "    xaxis_title=\"Keyword Popularity (Log Scale)\",\n",
    "    yaxis_title=\"Keyword Precision (s1_passed Rate)\",\n",
    "    font=dict(size=12)\n",
    ")\n",
    "\n",
    "fig.show()\n",
    "\n",
    "# To save the figure for your thesis:\n",
    "# fig.write_image(\"figure_4_keyword_performance.png\", scale=3)"
   ],
   "id": "31c386a03a9b856e",
   "outputs": [
    {
     "data": {
      "application/vnd.plotly.v1+json": {
       "data": [
        {
         "customdata": [
          [
           67,
           "deployability"
          ],
          [
           14278,
           "deployability"
          ],
          [
           320,
           "deployability"
          ],
          [
           117,
           "deployability"
          ],
          [
           9288,
           "deployability"
          ],
          [
           41013,
           "deployability"
          ],
          [
           16,
           "deployability"
          ],
          [
           8885,
           "deployability"
          ],
          [
           1,
           "deployability"
          ],
          [
           2914,
           "deployability"
          ],
          [
           2706,
           "deployability"
          ],
          [
           20157,
           "deployability"
          ],
          [
           3239,
           "deployability"
          ],
          [
           64924,
           "deployability"
          ],
          [
           128,
           "deployability"
          ],
          [
           4,
           "deployability"
          ],
          [
           659,
           "deployability"
          ],
          [
           9904,
           "deployability"
          ],
          [
           279,
           "deployability"
          ],
          [
           6898,
           "deployability"
          ],
          [
           24,
           "deployability"
          ],
          [
           12605,
           "deployability"
          ],
          [
           3664,
           "deployability"
          ],
          [
           522,
           "deployability"
          ],
          [
           8,
           "deployability"
          ],
          [
           70,
           "deployability"
          ],
          [
           5399,
           "deployability"
          ],
          [
           8845,
           "deployability"
          ],
          [
           252,
           "deployability"
          ],
          [
           96,
           "deployability"
          ],
          [
           12300,
           "deployability"
          ],
          [
           1820,
           "deployability"
          ],
          [
           482,
           "deployability"
          ],
          [
           965,
           "deployability"
          ],
          [
           518,
           "deployability"
          ]
         ],
         "hovertemplate": "<b>%{hovertext}</b><br><br>primary_qa=%{customdata[1]}<br>popularity=%{x}<br>precision=%{y}<br>bubble_size=%{marker.size}<br>total_count=%{customdata[0]}<extra></extra>",
         "hovertext": [
          "a/b",
          "api",
          "artifact",
          "audit",
          "automat",
          "build",
          "canary",
          "cluster",
          "commiss",
          "compos",
          "configurat",
          "contain",
          "continu",
          "depend",
          "deploy",
          "gateway",
          "infrastructur",
          "instal",
          "loader",
          "observ",
          "orchestr",
          "patch",
          "pipelin",
          "probe",
          "product environ",
          "provis",
          "recov",
          "releas",
          "roll",
          "rollback",
          "stack",
          "stage",
          "toggl",
          "toolchain",
          "unload"
         ],
         "legendgroup": "deployability",
         "marker": {
          "color": "#636efa",
          "opacity": 0.5,
          "size": {
           "dtype": "f8",
           "bdata": "Oc67oMbgEEC0DpI2EiIjQB6Iaqn0FRdAt3CmWS4VE0BAeM2f7kUiQLhl011LPiVAen/6wWuqBkAMgOIROS8iQO85+v5CLuY/SB3MjRbpH0CyuIJYSJ0fQG3AElKd0iNACR4jDKoqIEANiZBDdykmQMu2talycBNAM43t90HA+T8xziS4DfgZQFBazZjOZiJAnM8lSQaKFkAAcVStoq0hQDON7fdBwAlAMEq7aETiIkBSy9ZTxWkgQAE6K7nPCRlACwOteuqTAUDJ1iT0+wwRQE4vy/s0MCFAG0TeuOksIkCedajaMCIWQPhL5QiBTBJAUT14JrrVIkCGjb/9TwceQFCxIElWuBhAjvj/qB5+G0BJu28X8wEZQA=="
          },
          "sizemode": "area",
          "sizeref": 0.029379462181811103,
          "symbol": "circle"
         },
         "mode": "markers",
         "name": "deployability",
         "orientation": "v",
         "showlegend": true,
         "x": {
          "dtype": "f8",
          "bdata": "QFMa2OabAT+t27UWHFF9PwCsb7mRBiU/wB4A7AHADj+csJiTKBJzP5eyTrOIDZU/APDyLQ7S4D4eBQYxUz5yPwDw8i0O0qA+/OngrODuVz+cPTY8izlWP+3F35mtsYQ/UpfrLDaaWj86Fw0E2KmgPwDw8i0O0hA/APDyLQ7SwD7oLyRAXaY1Pyg1jST0VXQ/kMMTdO1UIj9uwCEhwFNsPwBo7EQVO+k+mpZjIbbheT9goTRezRdeP7Cu2HQoJjE/APDyLQ7S0D6AtkGCv2UCPznosJDgK2Y/cpVMn0wpcj9AJDv1xY4gPwBo7EQVOwk/GqM9CmRBeT+QyKozV+VNP+Bng7J+qy8/WGGaueezPz/QyHxYhAQxPw=="
         },
         "xaxis": "x",
         "y": {
          "dtype": "f8",
          "bdata": "eqBydgu/yj+uuQK8d0fNP2ZmZmZmZso/kymZkimZwj9abw9qZxPIP+Cj6qXfIrk/AAAAAAAAAADjNrNklSPJPwAAAAAAAAAAPGwYBdP/wD9lk0022WTDP6AbFapwzcA/of2xrLEIvj+3EzL/VJXMPwAAAAAAANI/AAAAAAAA0D9v1sj5r7nGP11gBZkqC8c/r2dJ0OtZwj++tvKKMILGP1VVVVVVVdU/8uBsO/pLzz+H+7PzLh7JPzcoK8TYB7g/AAAAAAAA2D8d1EEd1EG9P81aw1jQmsk/m7Qgbm9Owj+SJEmSJEmyP1VVVVVVVck/vlvmu2W+uz8e5mEe5mG+Px4kvh0kvq0/sS4Q58UevD+SJEmSJEnCPw=="
         },
         "yaxis": "y",
         "type": "scatter"
        },
        {
         "customdata": [
          [
           4814,
           "integrability"
          ],
          [
           7949,
           "integrability"
          ],
          [
           283,
           "integrability"
          ],
          [
           7676,
           "integrability"
          ],
          [
           250,
           "integrability"
          ],
          [
           28,
           "integrability"
          ],
          [
           9493,
           "integrability"
          ],
          [
           171,
           "integrability"
          ],
          [
           5,
           "integrability"
          ],
          [
           1,
           "integrability"
          ],
          [
           1,
           "integrability"
          ],
          [
           2,
           "integrability"
          ],
          [
           13,
           "integrability"
          ],
          [
           14216,
           "integrability"
          ],
          [
           1482,
           "integrability"
          ],
          [
           2154,
           "integrability"
          ],
          [
           1190,
           "integrability"
          ],
          [
           255,
           "integrability"
          ],
          [
           143,
           "integrability"
          ],
          [
           11202,
           "integrability"
          ],
          [
           4543,
           "integrability"
          ],
          [
           2,
           "integrability"
          ],
          [
           12,
           "integrability"
          ],
          [
           1158,
           "integrability"
          ],
          [
           36,
           "integrability"
          ],
          [
           23,
           "integrability"
          ],
          [
           64,
           "integrability"
          ],
          [
           13682,
           "integrability"
          ],
          [
           2,
           "integrability"
          ],
          [
           340,
           "integrability"
          ],
          [
           91,
           "integrability"
          ],
          [
           99,
           "integrability"
          ],
          [
           1,
           "integrability"
          ],
          [
           2810,
           "integrability"
          ],
          [
           7402,
           "integrability"
          ],
          [
           2356,
           "integrability"
          ],
          [
           2888,
           "integrability"
          ],
          [
           605,
           "integrability"
          ],
          [
           142,
           "integrability"
          ],
          [
           27065,
           "integrability"
          ],
          [
           24855,
           "integrability"
          ],
          [
           11,
           "integrability"
          ],
          [
           289,
           "integrability"
          ],
          [
           15418,
           "integrability"
          ],
          [
           6008,
           "integrability"
          ],
          [
           4549,
           "integrability"
          ]
         ],
         "hovertemplate": "<b>%{hovertext}</b><br><br>primary_qa=%{customdata[1]}<br>popularity=%{x}<br>precision=%{y}<br>bubble_size=%{marker.size}<br>total_count=%{customdata[0]}<extra></extra>",
         "hovertext": [
          "abstract",
          "adapt",
          "asynchron",
          "batch",
          "bridg",
          "broker",
          "buffer",
          "complian",
          "compon integr",
          "compon interfac",
          "compon models",
          "compon provid",
          "compon use",
          "configur",
          "contract",
          "coupl",
          "discover",
          "encapsulat",
          "endpoint",
          "event",
          "filter",
          "framework compon",
          "graph-bas",
          "inject",
          "integr test",
          "intermediar",
          "mediat",
          "messag",
          "middlewar",
          "modular",
          "non-atom",
          "plug-in",
          "product famil",
          "protocol",
          "pub",
          "queue",
          "rout",
          "schema",
          "standardiz",
          "state",
          "sub",
          "target system",
          "topic",
          "transform",
          "translat",
          "wrap"
         ],
         "legendgroup": "integrability",
         "marker": {
          "color": "#EF553B",
          "opacity": 0.5,
          "size": {
           "dtype": "f8",
           "bdata": "F5YI43/1IEB4NkkXPPYhQEVl47OMmBZAjlf9B1jkIUDiodRVEBoWQB/+zcs48ApA5bxhzxtRIkCEBMnKCJcUQAIgKvoLq/w/7zn6/kIu5j/vOfr+Qi7mPwsDrXrqk/E/p7vXFsocBUD5ZKLa1x8jQPi8guoQNR1A1l/PVMKzHkC02bach1QcQO85+v5CLhZAfZ7TvBbhE0COwfYN26UiQB5BsBnX1yBACwOteuqT8T9RjDErBIUEQKPFFO6jOBxAvcc67ijjDED5LJJ8p2wJQHUplJOSshBABb6H3D0MI0ALA6166pPxP1MxCADZUxdAdGinvk8WEkAWVbW7sWsSQO85+v5CLuY/H6dz/OLDH0C0Nr1pvNEhQEM/OyWCDx9AownB5unfH0AxQqYlpaAZQM5hWPHz2RNAz8KkPH1pJEA+3nWi4D0kQH2e07wW4QNAmqnBQ/WtFkDuUD/uZUkjQBoh/UHrZiFAS7V9DoTYIEA="
          },
          "sizemode": "area",
          "sizeref": 0.029379462181811103,
          "symbol": "circle"
         },
         "mode": "markers",
         "name": "integrability",
         "orientation": "v",
         "showlegend": true,
         "x": {
          "dtype": "f8",
          "bdata": "0uVAauDEYz8yA0YSU1JwP1CPy6w1mCI/RAWcEqaFbz9gPt/YIW0gPwAkadCYb+0+7gxvPup9cz+gjGLxnngWPwCsb7mRBsU+APDyLQ7SoD4A8PItDtKgPgDw8i0O0rA+AMaqCldV2z781DwbhTB9P1gYgIUBWEg/7MLTae2wUT/o0WV6G4xDPxD9xB88wSA/IGhV16vKEj9PA7WDPAB3PxGjFpr6p2I/APDyLQ7SsD4AaOxEFTvZPmg69giLBUM/AE6x80/s8j4AOQ1i9C3oPgDw8i0O0gA/9w6eztMXfD8A8PItDtKwPsCmBtX6ViY/QG1VKazqBz9AyxPv7QQKPwDw8i0O0qA+zJOL9DUUVz/2JMnfmGVuPxj520+lWVM/cJTL/jW4Vz+YkEvBNeAzP0CC+boHqRI//mNfdD7Jiz8Ot7z6aISJPwAKLn/TINc+8EDfASL9Ij9TytpPV6h/PwjXZcwbrGg/K95nX0muYj8="
         },
         "xaxis": "x",
         "y": {
          "dtype": "f8",
          "bdata": "jvPCET95xD+IHnw6iOLOP9odjWwY/9I/BCDwCMO2yj/Jdr6fGi/NP9u2bdu2bcs/BRB2zrgPxT92E9lNZDfRPwAAAAAAAAAAAAAAAAAAAAAAAAAAAADwPwAAAAAAAAAAFDuxEzux0z96jlN8sTDOPxQ7sRM7sbM/mLoTmQz/0z8TXO4SXO7SP5GQkJCQkNA/LSkHRIZ7xT+mtw5+eojGPzWwd0wN7M0/AAAAAAAA4D+rqqqqqqriP8TXCKTvdtE/x3Ecx3Ec1z+RhSxkIQvZPwAAAAAAANU/1imyH7mVxz8AAAAAAAAAABUVFRUVFdU/H+/xHu/xzj8xb2dIzNvJPwAAAAAAAAAA4x9lOekAxz9EzrJr35q9P1HZPERvAMs/kTvM4EtN0z+oD5dX5UrLPyDRCpsDicY/gb0luiBcxD+ZI4Ax1tzJP0YXXXTRRdc/+QcXJjVE0z+o6Ir9UdfMP89gXB+cKs0/yKDrYaSrzj8="
         },
         "yaxis": "y",
         "type": "scatter"
        },
        {
         "customdata": [
          [
           10041,
           "security"
          ],
          [
           1,
           "security"
          ],
          [
           422,
           "security"
          ],
          [
           120,
           "security"
          ],
          [
           107,
           "security"
          ],
          [
           2,
           "security"
          ],
          [
           9619,
           "security"
          ],
          [
           432,
           "security"
          ],
          [
           117,
           "security"
          ],
          [
           13882,
           "security"
          ],
          [
           457,
           "security"
          ],
          [
           1036,
           "security"
          ],
          [
           651,
           "security"
          ],
          [
           340,
           "security"
          ],
          [
           39,
           "security"
          ],
          [
           116,
           "security"
          ],
          [
           59,
           "security"
          ],
          [
           67,
           "security"
          ],
          [
           15,
           "security"
          ],
          [
           16,
           "security"
          ],
          [
           25,
           "security"
          ],
          [
           1,
           "security"
          ],
          [
           23,
           "security"
          ],
          [
           14,
           "security"
          ],
          [
           1,
           "security"
          ],
          [
           81,
           "security"
          ],
          [
           122,
           "security"
          ],
          [
           936,
           "security"
          ],
          [
           12,
           "security"
          ],
          [
           7,
           "security"
          ],
          [
           5,
           "security"
          ],
          [
           87,
           "security"
          ],
          [
           1,
           "security"
          ],
          [
           903,
           "security"
          ],
          [
           186,
           "security"
          ],
          [
           226,
           "security"
          ],
          [
           3932,
           "security"
          ],
          [
           16845,
           "security"
          ],
          [
           327,
           "security"
          ],
          [
           1,
           "security"
          ],
          [
           3,
           "security"
          ],
          [
           147,
           "security"
          ],
          [
           106,
           "security"
          ],
          [
           1,
           "security"
          ],
          [
           389,
           "security"
          ],
          [
           4,
           "security"
          ],
          [
           53,
           "security"
          ],
          [
           23,
           "security"
          ],
          [
           4371,
           "security"
          ],
          [
           43928,
           "security"
          ],
          [
           1329,
           "security"
          ],
          [
           1,
           "security"
          ],
          [
           65,
           "security"
          ],
          [
           3393,
           "security"
          ],
          [
           8924,
           "security"
          ],
          [
           2,
           "security"
          ],
          [
           2460,
           "security"
          ],
          [
           57,
           "security"
          ],
          [
           19,
           "security"
          ],
          [
           40,
           "security"
          ],
          [
           2,
           "security"
          ],
          [
           152,
           "security"
          ],
          [
           7,
           "security"
          ],
          [
           685,
           "security"
          ],
          [
           71,
           "security"
          ],
          [
           6,
           "security"
          ],
          [
           4,
           "security"
          ],
          [
           9,
           "security"
          ],
          [
           2834,
           "security"
          ],
          [
           94,
           "security"
          ],
          [
           142,
           "security"
          ],
          [
           46,
           "security"
          ],
          [
           2024,
           "security"
          ],
          [
           11,
           "security"
          ],
          [
           1649,
           "security"
          ],
          [
           13899,
           "security"
          ],
          [
           4,
           "security"
          ],
          [
           345,
           "security"
          ],
          [
           233,
           "security"
          ],
          [
           18,
           "security"
          ],
          [
           843,
           "security"
          ],
          [
           2062,
           "security"
          ],
          [
           1,
           "security"
          ],
          [
           20,
           "security"
          ],
          [
           6519,
           "security"
          ],
          [
           47,
           "security"
          ],
          [
           1,
           "security"
          ],
          [
           224,
           "security"
          ],
          [
           1573,
           "security"
          ],
          [
           8,
           "security"
          ],
          [
           7,
           "security"
          ],
          [
           1,
           "security"
          ]
         ],
         "hovertemplate": "<b>%{hovertext}</b><br><br>primary_qa=%{customdata[1]}<br>popularity=%{x}<br>precision=%{y}<br>bubble_size=%{marker.size}<br>total_count=%{customdata[0]}<extra></extra>",
         "hovertext": [
          "access",
          "adversar",
          "apt",
          "assess",
          "attack",
          "attest",
          "auth",
          "authenticat",
          "authoriz",
          "availab",
          "barrier",
          "certif",
          "checksum",
          "command-lin",
          "confidential",
          "cookie",
          "crypto",
          "cryptograph",
          "cve",
          "decrypt",
          "defend",
          "denial-of-servic",
          "disclos",
          "dns",
          "empow",
          "encrypt",
          "expir",
          "expos",
          "firewal",
          "garbl",
          "gdpr",
          "govern",
          "guardrail",
          "hack",
          "hardcod",
          "harden",
          "hash",
          "ident",
          "immut",
          "imperson",
          "incid respons",
          "intercept",
          "intrus",
          "ipsec",
          "iso",
          "jwt",
          "legitim",
          "lineag",
          "lock",
          "log",
          "loss",
          "malwar",
          "misus",
          "models",
          "modif",
          "mtls",
          "network",
          "nist",
          "obfusc",
          "one-tim",
          "outbound",
          "password",
          "penetr",
          "polic",
          "privil",
          "retent",
          "revoc",
          "revok",
          "rotat",
          "rsa",
          "sandbox",
          "scanner",
          "secur",
          "sensit data",
          "session",
          "sign",
          "soc",
          "ssh",
          "ssl",
          "stolen",
          "stride",
          "team",
          "tenant",
          "threat",
          "token",
          "triag",
          "trojan",
          "trust",
          "validat",
          "vpn",
          "worm",
          "xss"
         ],
         "legendgroup": "security",
         "marker": {
          "color": "#00cc96",
          "opacity": 0.5,
          "size": {
           "dtype": "f8",
           "bdata": "390yFddtIkDvOfr+Qi7mP+D5HlWCMBhATDd/t+MuE0DEUMCbgLoSQAsDrXrqk/E/6A045dtXIkDGdJF4b0gYQLdwplkuFRNA9TX91KsTI0ABkNL+6YEYQMqrD8y+xhtA92M4zZDrGUBTMQgA2VMXQA1yMjvTgg1ArkfvUncME0CLMmXcm2AQQDnOu6DG4BBA7zn6/kIuBkB6f/rBa6oGQM0a8OqUEApA7zn6/kIu5j/5LJJ8p2wJQB9ITTkWqgVA7zn6/kIu5j9lnaYCe6ARQOmWckGtPxNAXGbIXeheG0BRjDErBIUEQHOrOz+yogBAAiAq+gur/D9gcV37yugRQO85+v5CLuY/FVnReTE6G0Bj27y8p+wUQKsR7hgmsxVAitqgn+eNIEA0FXN4t3YjQOErZcILLBdA7zn6/kIu5j/vOfr+Qi72P1ry2zYl/RNAW0e/CvqwEkDvOfr+Qi7mP3axHpJV3RdAM43t90HA+T8ME8J3cOkPQPksknynbAlAoMUXaRXEIEDG4iTucmElQLeaaYyQxRxA7zn6/kIu5j+mI0raNMIQQDO9RXxwQiBA2O6VE3cxIkALA6166pPxP1MhqAm5Ox9ATUbGxeQ9EECR43N7QvcHQE6sjkVltQ1ACwOteuqT8T9CwVMeKx8UQHOrOz+yogBA/wqFYp4fGkA/V/RcThsRQFdaMq5yIv8/M43t90HA+T8WVbW7sWsCQO38NKSXzB9A47z9gCs3EkDOYVjx89kTQLbwkC8azQ5ApMmjdgt0HkB9ntO8FuEDQEDqQNZVoh1AFDDmO0wUI0Azje33QcD5P8XBo9jAYhdA7I7Osj/SFUAsswQGNo4HQHcAXz/e8xpABsZVHxWHHkDvOfr+Qi7mP7Gub5QuWwhAQYeJ1bSQIUB1u1A8OPgOQO85+v5CLuY/H0hNORaqFUCKJIRmDHIdQAsDrXrqkwFAc6s7P7KiAEDvOfr+Qi7mPw=="
          },
          "sizemode": "area",
          "sizeref": 0.029379462181811103,
          "symbol": "circle"
         },
         "mode": "markers",
         "name": "security",
         "orientation": "v",
         "showlegend": true,
         "x": {
          "dtype": "f8",
          "bdata": "PO1BcfeddD8A8PItDtKgPqB3vl9Duis/AIInltqJDz9AKdK0Lx8MPwDw8i0O0rA+f/lDViXAcz8A9Yntd2IsP8AeAOwBwA4/Uz09p/SAfD9wrgZQ+wYuP9DIfFiEBEE/KGRsBxVjNT/ApgbV+lYmP4AUAEgBgPQ+AFNIs7l8Dj+A6rckSgP/PkBTGtjmmwE/AIInltqJ3z4A8PItDtLgPgCXyyc2SOo+APDyLQ7SoD4AOQ1i9C3oPgAkadCYb90+APDyLQ7SoD7Adyfy2UkFP8CMy4M1CBA/wB4A7AHAPj8AaOxEFTvZPgAkadCYb80+AKxvuZEGxT5APnZGi90GPwDw8i0O0qA+SPYJAniqPT/ABMWaPHEYP8DvIAnhsh0/5PWbHKUlYD/p6RU8N0uBP5BQsRxQfCU/APDyLQ7SoD4AaOxEFTu5PqD/xEg8URM/gF0afOfbCz8A8PItDtKgPrAm0osvjyk/APDyLQ7SwD6AXRp859v7PgA5DWL0Leg+fa+ogSjzYT8dHTlimIyWP/yLIuee1EU/APDyLQ7SoD7Au6pmVhUBP94b4L0B3ls/MgVOMtNScj8A8PItDtKwPkhPMQhQNFQ/gLvYQSn2/T4AfZDWcPnjPgCsb7mRBvU+APDyLQ7SsD4AfZDWcPkTPwAkadCYb80+GIZ5+AeBNj9Agvm6B6kCPwBo7EQVO8k+APDyLQ7SwD4ATrHzT+zSPpxsFR+sRlc/gNB804S0CD9Agvm6B6kSPwA5DWL0Lfg+MBdpA5ifUD8ACi5/0yDXPvx2flVDFks/Y6bFPuSJfD8A8PItDtLAPnBl7BsVqyY/4Dikz12eHj8ATrHzT+ziPih+p1jasTs/JFnDxn3vUD8A8PItDtKgPgCsb7mRBuU+2VVBcVDFaj+A0HzThLT4PgDw8i0O0qA+ACRp0JhvHT8sbxVIrNZJPwDw8i0O0tA+ACRp0JhvzT4A8PItDtKgPg=="
         },
         "xaxis": "x",
         "y": {
          "dtype": "f8",
          "bdata": "dH9Br1Z40D8AAAAAAADwPyRWw8UPYcA/VVVVVVVV1T91LQc3+4XYPwAAAAAAAAAADAT4o7Wtuz8T2ktoL6HFPxQ7sRM7scM/SiWxoWCUzT8+iTOEdLDNP/+qcS/wr5o/wbxgXjAvyD+7urq6urrKP57YiZ3Yic0/jbDc0wjLzT+Uui+PrQjKP2e38Ksxkb4/ERERERER4T8AAAAAAAAAAHsUrkfhesQ/AAAAAAAAAAALWchCFrLQP9u2bdu2bds/AAAAAAAAAADg6db8sEiJP23ep7hkCMY/BEZgBEZg1D9VVVVVVVXFPwAAAAAAAAAAMzMzMzMz4z9huacRlnvKPwAAAAAAAAAAkiRJkiRJ0j8eeeSRRx7ZP/6QwNsPCdw/rb/gR/Sayz9OYDuxOpLCP5ITYVwmOdE/AAAAAAAAAAAAAAAAAAAAAC+n4OUUvMw/0CE1wXgr2z8AAAAAAAAAAISLPFSAWbg/AAAAAAAA0D/BeCv7HFLTPzi96U1vetM/kdzOfD+s0T8L4QeNVZfGP3uAdf6Hnrk/AAAAAAAAAACamZmZmZnJP5c0hwC5bM8/Sl3F+Ljsxz8AAAAAAADgP+QbO76x48s/OovpLKazyD8or6G8hvLaPwAAAAAAAMA/AAAAAAAAAAAor6G8hvLKPwAAAAAAAAAAlXqYCK0Vzj9ItMLmQKLVP1VVVVVVVcU/AAAAAAAAAAAcx3Ecx3HMP0FK/dYKpMQ/QUyuICZXsD8yfrvUk/HLP5GFLGQhC8k/etOb3vSmtz9GF1100UW3P5Q3Opn18sM/wszZDTANzD8AAAAAAADQP1ixebzShMU/8Dae8N3Gsz8cx3Ecx3HMP0WajPPaLcs/Y8f7JsVqvj8AAAAAAAAAAAAAAAAAANA/+Qezl5/gyD9BTK4gJlfQPwAAAAAAAPA/JUmSJEmS0j/Id6Cu45XLPwAAAAAAANA/AAAAAAAAAAAAAAAAAAAAAA=="
         },
         "yaxis": "y",
         "type": "scatter"
        },
        {
         "customdata": [
          [
           313,
           "safety"
          ],
          [
           76,
           "safety"
          ],
          [
           6,
           "safety"
          ],
          [
           7577,
           "safety"
          ],
          [
           21096,
           "safety"
          ],
          [
           6568,
           "safety"
          ],
          [
           23827,
           "safety"
          ],
          [
           305,
           "safety"
          ],
          [
           324,
           "safety"
          ],
          [
           35309,
           "safety"
          ],
          [
           23,
           "safety"
          ],
          [
           596,
           "safety"
          ],
          [
           2426,
           "safety"
          ],
          [
           1184,
           "safety"
          ],
          [
           4848,
           "safety"
          ],
          [
           1,
           "safety"
          ],
          [
           14,
           "safety"
          ],
          [
           1404,
           "safety"
          ],
          [
           42,
           "safety"
          ],
          [
           13201,
           "safety"
          ],
          [
           12,
           "safety"
          ],
          [
           4296,
           "safety"
          ],
          [
           600,
           "safety"
          ],
          [
           4477,
           "safety"
          ],
          [
           36,
           "safety"
          ],
          [
           2,
           "safety"
          ],
          [
           2062,
           "safety"
          ],
          [
           81103,
           "safety"
          ],
          [
           623,
           "safety"
          ],
          [
           95,
           "safety"
          ],
          [
           483,
           "safety"
          ],
          [
           47356,
           "safety"
          ],
          [
           7641,
           "safety"
          ]
         ],
         "hovertemplate": "<b>%{hovertext}</b><br><br>primary_qa=%{customdata[1]}<br>popularity=%{x}<br>precision=%{y}<br>bubble_size=%{marker.size}<br>total_count=%{customdata[0]}<extra></extra>",
         "hovertext": [
          "accid",
          "alert",
          "anomal",
          "avoid",
          "compl",
          "detect",
          "except",
          "hazard",
          "hot",
          "input",
          "interlock",
          "isol",
          "maintain",
          "permiss",
          "prevent",
          "primar channel",
          "process models",
          "reme",
          "resilien",
          "resourc",
          "restrict appl",
          "review",
          "risk",
          "safe",
          "safety analys",
          "safety requir",
          "sanit",
          "test",
          "timeout",
          "unhandl",
          "unsaf",
          "updat",
          "valid"
         ],
         "legendgroup": "safety",
         "marker": {
          "color": "#ab63fa",
          "opacity": 0.5,
          "size": {
           "dtype": "f8",
           "bdata": "mk/532D/FkA8MkyHDmARQFdaMq5yIv8/BbIfx7LdIUCwV4767OkjQAn7jTOKlCFAdLGocEAoJECACDN+8+QWQMKMjxGjIhdAJ2eCsZ/xJED5LJJ8p2wJQEkOQ7hSkRlAza+QIXotH0CCVVamW08cQLGGNisa+SBA7zn6/kIu5j8fSE05FqoFQIeJq1a9/RxAEewUFvAWDkD5Bo5W6/kiQFGMMSsEhQRAWroiaTm7IEBMuEBFKZgZQI3/UF1Z0CBAvcc67ijjDEALA6166pPxPwbGVR8Vhx5AugC4uGKbJkDjI8Eznr4ZQPikB37kQRJAyMU9d3S6GEDoV3qs64clQOOHHhkB4iFA"
          },
          "sizemode": "area",
          "sizeref": 0.029379462181811103,
          "symbol": "circle"
         },
         "mode": "markers",
         "name": "safety",
         "orientation": "v",
         "showlegend": true,
         "x": {
          "dtype": "f8",
          "bdata": "cAcuVtOQJD8AfZDWcPkDPwBo7EQVO8k+F7bfWpIdbz9G7umBd6iFP9gNrrzT+Go/36j69jp2iD/wb77kQgokP8B3J/LZSSU/sBhvG/gfkj8AOQ1i9C3oPmDLfIGElDM/zAbuS9PsUz+A5SBl4HJDPxCKYsie6GM/APDyLQ7SoD4AJGnQmG/dPhAXAHEBEEc/ANtOnLIT9j5QY3tp/hp7PwBo7EQVO9k+uEwx30+kYT9AsdidKLYzP/MYmR+YYmI/AE6x80/s8j4A8PItDtKwPiRZw8Z971A/sAcvWuPQpD8IG+lAmHc0P0CcNAzN9wg/0FqxwFC8Lz9Jr/ftEU+YP9eBl5PaYG8/"
         },
         "xaxis": "x",
         "y": {
          "dtype": "f8",
          "bdata": "k6yVkb7P0j9eQ3kN5TXEP1VVVVVVVcU/HnHMZfM81D8F/EwDVrLPP/uy+uzoYc4/gDEbD7bVvz+lK4ypFvXMP7FIGXi6Nc8/QANAL1dDyD9kIQtZyELGP9j6NmCoptM/iAIE8VJD1T8q8lk3mCK3P7EBYjTeV9Q/AAAAAAAA8D/btm3btm3LPySRZ847Esk/YhiGYRiG4T/jyHn4Q9/HPwAAAAAAAAAAKIzqNDnIzD/9YskvlvzSP09NGGMXs9Q/VVVVVVVV1T8AAAAAAADwP0EkojWYzcw/HWT1DvO7yD9GCgm2ixTCP88tcer33LI/dFcpJuiu0j9RtFPfWI7HP+FXKd5Bos0/"
         },
         "yaxis": "y",
         "type": "scatter"
        },
        {
         "customdata": [
          [
           29,
           "usability"
          ],
          [
           5858,
           "usability"
          ],
          [
           551,
           "usability"
          ],
          [
           80,
           "usability"
          ],
          [
           4876,
           "usability"
          ],
          [
           5662,
           "usability"
          ],
          [
           4,
           "usability"
          ],
          [
           9222,
           "usability"
          ],
          [
           1530,
           "usability"
          ],
          [
           87,
           "usability"
          ],
          [
           1161,
           "usability"
          ],
          [
           4032,
           "usability"
          ],
          [
           662,
           "usability"
          ],
          [
           594,
           "usability"
          ],
          [
           6586,
           "usability"
          ],
          [
           1020,
           "usability"
          ],
          [
           2250,
           "usability"
          ],
          [
           4,
           "usability"
          ],
          [
           399,
           "usability"
          ],
          [
           821,
           "usability"
          ],
          [
           8,
           "usability"
          ],
          [
           2788,
           "usability"
          ],
          [
           94,
           "usability"
          ],
          [
           10294,
           "usability"
          ],
          [
           1308,
           "usability"
          ],
          [
           4998,
           "usability"
          ],
          [
           1751,
           "usability"
          ],
          [
           4,
           "usability"
          ],
          [
           156,
           "usability"
          ],
          [
           3,
           "usability"
          ],
          [
           1298,
           "usability"
          ],
          [
           1687,
           "usability"
          ],
          [
           31949,
           "usability"
          ],
          [
           2392,
           "usability"
          ],
          [
           7113,
           "usability"
          ],
          [
           1,
           "usability"
          ],
          [
           1113,
           "usability"
          ],
          [
           22,
           "usability"
          ],
          [
           495,
           "usability"
          ],
          [
           84,
           "usability"
          ],
          [
           21463,
           "usability"
          ],
          [
           901,
           "usability"
          ],
          [
           2405,
           "usability"
          ],
          [
           1147,
           "usability"
          ],
          [
           3352,
           "usability"
          ],
          [
           18,
           "usability"
          ],
          [
           484,
           "usability"
          ],
          [
           80,
           "usability"
          ],
          [
           222,
           "usability"
          ],
          [
           23763,
           "usability"
          ],
          [
           2869,
           "usability"
          ],
          [
           2446,
           "usability"
          ],
          [
           18960,
           "usability"
          ],
          [
           505,
           "usability"
          ],
          [
           10935,
           "usability"
          ],
          [
           144,
           "usability"
          ],
          [
           468,
           "usability"
          ],
          [
           519,
           "usability"
          ],
          [
           20570,
           "usability"
          ],
          [
           37,
           "usability"
          ],
          [
           2220,
           "usability"
          ],
          [
           9,
           "usability"
          ],
          [
           1248,
           "usability"
          ],
          [
           1,
           "usability"
          ],
          [
           899,
           "usability"
          ]
         ],
         "hovertemplate": "<b>%{hovertext}</b><br><br>primary_qa=%{customdata[1]}<br>popularity=%{x}<br>precision=%{y}<br>bubble_size=%{marker.size}<br>total_count=%{customdata[0]}<extra></extra>",
         "hovertext": [
          "aesthet",
          "behavi",
          "cancel",
          "clarit",
          "clear",
          "close",
          "cognit",
          "command",
          "confirm",
          "context-sensit",
          "cursor",
          "custom",
          "dialog",
          "discov",
          "document",
          "effectiv",
          "efficien",
          "ergonom",
          "experien",
          "feedback",
          "gestur",
          "guid",
          "guidanc",
          "help",
          "hint",
          "indicat",
          "interact",
          "interfac design",
          "intuit",
          "keystrok",
          "latenc",
          "learn",
          "memor",
          "menu",
          "minim",
          "mock-up",
          "mous",
          "multi-mod",
          "navigat",
          "paus",
          "perform",
          "person",
          "prefer",
          "progress",
          "prototyp",
          "responsiv",
          "resum",
          "satisfa",
          "shortcut",
          "simpl",
          "statu",
          "stop",
          "support",
          "tip",
          "tool",
          "ui",
          "undo",
          "usab",
          "user",
          "ux",
          "visual",
          "walkthrough",
          "widget",
          "wizard",
          "workflow"
         ],
         "legendgroup": "usability",
         "marker": {
          "color": "#FFA15A",
          "opacity": 0.5,
          "size": {
           "dtype": "f8",
           "bdata": "m9YL+aY1C0BFd+vV+VkhQHTwMb0SQRlACwOteuqTEUC/IjTaDPwgQNACOReOSCFAM43t90HA+T/K9ZMCSEIiQAkw20OvVR1AYHFd+8roEUBVws6YSTscQHJcD5XCmiBAqEZBlbL8GUCgOYUK440ZQMR5wt3wlSFAOncontK2G0ChFrGSY+AeQDON7fdBwPk/keNze0L3F0CdCGB50tgaQAsDrXrqkwFAn8PORde7H0DjvP2AKzcSQJOcA2yUeiJA+XFJaES1HEAG9DZUswghQGNGa/HB3x1AM43t90HA+T9cCBqAmDkUQO85+v5CLvY/ibU8F2qtHEC1Rz6fprkdQBOzqEZtviRAGSPOxQcfH0Ac3XIKWb0hQO85+v5CLuY/3Iiw6hYQHEDws9H9fRUJQKWyxaOI0xhACqP4XkbFEUBoIhx7wfIjQAs5Zt7sNxtAnJnJBJQkH0A4exIO4C4cQBF2y3k3PCBALLMEBjaOB0BFr+CGkbwYQAsDrXrqkxFANhoJo/GgFUDCJwjr3yYkQEeXLiwo2R9AF6l2guE1H0D2ZZ18RbMjQNy8hzr55xhADCq6ZoGZIkBcYuLjLOgTQMOntJw3mhhAL/8xs+sDGUAMrlya/9wjQKhBw8XGGQ1APfrrYabSHkAWVbW7sWsCQKD9OIs4hRxA7zn6/kIu5j+b1gv5pjUbQA=="
          },
          "sizemode": "area",
          "sizeref": 0.029379462181811103,
          "symbol": "circle"
         },
         "mode": "markers",
         "name": "usability",
         "orientation": "v",
         "showlegend": true,
         "x": {
          "dtype": "f8",
          "bdata": "AFNIs7l87j5+EXeHag5oP0jxckIOGjI/AKxvuZEGBT808zJhDgZkP4IxxFldQGc/APDyLQ7SwD6N61lWd+9yP5h7py/aIUk/QD52RovdBj+csJiTKBJDP0AkO/XFjmA/UBxpVZi/NT9w2E5zsoMzPya/oQzAC2s/EP3EHzzBQD8sJvsTxnpSPwDw8i0O0sA+EKSdGWQ3Kj/YDa680/g6PwDw8i0O0tA+uDeNTfTlVj+A0HzThLQIP/U1XTH0InU/kFCxHFB8RT+aT1ENUIZkP+QpEr8vw0w/APDyLQ7SwD6AFABIAYAUPwBo7EQVO7k+OHE++UJSRT/k+jLcDrZLP5TvOCduZpA/UL6qj1alUz/nMKu/xjVtPwDw8i0O0qA+XE1x6U9IQj8ACi5/0yDnPghfbLUUQzA/ANtOnLITBj9eazkL7AiGP1gD3POlmT0/Fmm15qvAUz9U3vdhSddCP9CeNDXNh1s/AE6x80/s4j7ATd/OIs0vPwCsb7mRBgU/QFixl1AsHT/vtczoaGWIP3ZzHh1DkFc/JOZgb+AWVD88YqzoFHeDP7gdUvwulzA/TaBl3eNzdj8ATrHzT+wSP8AeAOwBwC4/SMKTX+0MMT+iSWAdOR6FP4DlIGXgcvM+KNfOXrI7Uj8ATrHzT+zSPoAUAEgBgEQ/APDyLQ7SoD5oEK7l04g9Pw=="
         },
         "xaxis": "x",
         "y": {
          "dtype": "f8",
          "bdata": "3dMIyz2N4D8vcYEn/OvUP9BXhbcDSMM/AAAAAAAA1D/TXELsSeDMP+dW0bvtlco/AAAAAAAA0D9txLr0mL/HP5vwRZvwRcs/lnsaYbmn0T9oL6G9hPbCP8/zPM/zPM8/gDFA518MwD9hECXNwu7TP2jHt5SzQs4/FRUVFRUV1T+tjgkezBPVPwAAAAAAANA/KmKpiKUi1j9L0FQwceHJPwAAAAAAAMA/e7m/pgp7yT9BTK4gJlfQPzdSUadUrs0/7J6j2cbuyT8RnpM15yXKP4T9VhtD080/AAAAAAAA0D9cvuVbvuXbP1VVVVVVVdU/gCP2EO2v0j8dNa4cNa7MP/tCvazyetA/KXD3HRcvuz8NiSC45EXKPwAAAAAAAAAAbgmvX2ClyT900UUXXXTBPzbosdhz4NI/t23btm3bxj8GS0LGPvfRP0XpDyiX/Ms/pzplFWuq0z/6LfbDFq7MP/a62p7UDLk/VVVVVVVV1T8vuuiiiy7KPwAAAAAAANA/fdYNpshnzT//i6+jAunRP4Mj6sAWHcI/YoaSnEzexj/B4QspAjbOPxosMVf0jsY/jINbHbZLwj8AAAAAAADIP1y+5Vu+5cs/X8A2p6s80z9cb16m9OfNPxxMkc+6wcQ/CcSFmpNAzD8cx3Ecx3HcPxqkQRqkQcY/AAAAAAAA8D/5B0wn0grOPw=="
         },
         "yaxis": "y",
         "type": "scatter"
        },
        {
         "customdata": [
          [
           13951,
           "energy efficiency"
          ],
          [
           11,
           "energy efficiency"
          ],
          [
           13,
           "energy efficiency"
          ],
          [
           321,
           "energy efficiency"
          ],
          [
           318,
           "energy efficiency"
          ],
          [
           993,
           "energy efficiency"
          ],
          [
           315,
           "energy efficiency"
          ],
          [
           14855,
           "energy efficiency"
          ],
          [
           6154,
           "energy efficiency"
          ],
          [
           20918,
           "energy efficiency"
          ],
          [
           20,
           "energy efficiency"
          ],
          [
           12509,
           "energy efficiency"
          ],
          [
           329,
           "energy efficiency"
          ],
          [
           1,
           "energy efficiency"
          ],
          [
           2279,
           "energy efficiency"
          ],
          [
           675,
           "energy efficiency"
          ],
          [
           1199,
           "energy efficiency"
          ],
          [
           546,
           "energy efficiency"
          ],
          [
           234,
           "energy efficiency"
          ],
          [
           2,
           "energy efficiency"
          ],
          [
           40954,
           "energy efficiency"
          ],
          [
           12741,
           "energy efficiency"
          ],
          [
           1330,
           "energy efficiency"
          ],
          [
           16,
           "energy efficiency"
          ],
          [
           10819,
           "energy efficiency"
          ],
          [
           1996,
           "energy efficiency"
          ],
          [
           1650,
           "energy efficiency"
          ],
          [
           8791,
           "energy efficiency"
          ],
          [
           5606,
           "energy efficiency"
          ],
          [
           44,
           "energy efficiency"
          ],
          [
           5812,
           "energy efficiency"
          ],
          [
           11,
           "energy efficiency"
          ],
          [
           4,
           "energy efficiency"
          ],
          [
           22,
           "energy efficiency"
          ],
          [
           89,
           "energy efficiency"
          ],
          [
           11,
           "energy efficiency"
          ],
          [
           10,
           "energy efficiency"
          ],
          [
           2,
           "energy efficiency"
          ]
         ],
         "hovertemplate": "<b>%{hovertext}</b><br><br>primary_qa=%{customdata[1]}<br>popularity=%{x}<br>precision=%{y}<br>bubble_size=%{marker.size}<br>total_count=%{customdata[0]}<extra></extra>",
         "hovertext": [
          "alloc",
          "batter",
          "carbon",
          "charg",
          "clock",
          "cloud",
          "cool",
          "core",
          "cpu",
          "current",
          "drain",
          "draw",
          "energ",
          "energ consum",
          "estimat",
          "frequenc",
          "green",
          "heat",
          "idl",
          "joul",
          "load",
          "manag",
          "measur",
          "meter",
          "optim",
          "power",
          "predict",
          "profil",
          "reduc",
          "resourc usag",
          "schedul",
          "sensor",
          "standby",
          "sustainab",
          "temperatur",
          "therm",
          "voltag",
          "watt"
         ],
         "legendgroup": "energy efficiency",
         "marker": {
          "color": "#19d3f3",
          "opacity": 0.5,
          "size": {
           "dtype": "f8",
           "bdata": "3CMOqTUWI0B9ntO8FuEDQKe71xbKHAVAzLdUCiQZF0C1mqZBjg8XQJ20kP9gmxtA7z9uSeEFF0AaZWd8WjYjQGmfldM1cyFAtq5nZ5blI0Cxrm+ULlsIQJEbpGta3iJA84ZFWEUyF0DvOfr+Qi7mP1/TRj9/7R5AzRrw6pQQGkBUJB8aPVwcQMnVRm3BNxlAqNvDlZ3WFUALA6166pPxP2P/6K2OPSVAIHpe6MLnIkDy0j6TVcYcQHp/+sFrqgZAmksarAuUIkCDzJB2yWUeQGv0+Kn0oh1AVjqiJccpIkCJ0UiAd0MhQKTJo3YLdA5Awq/KtPBVIUB9ntO8FuEDQDON7fdBwPk/8LPR/X0VCUAQLDEbzv8RQH2e07wW4QNATDd/t+MuA0ALA6166pPxPw=="
          },
          "sizemode": "area",
          "sizeref": 0.029379462181811103,
          "symbol": "circle"
         },
         "mode": "markers",
         "name": "energy efficiency",
         "orientation": "v",
         "showlegend": true,
         "x": {
          "dtype": "f8",
          "bdata": "KVHQlTmlfD8ACi5/0yDXPgDGqgpXVds+8J6dx2MXJT8gxhOd7eQkPzzVDkCyT0A/UO2JcneyJD8lYGKmZ4B+P9YfyY2YRWk/myJ6Sq95hT8ArG+5kQblPsq92fY/r3k/cDYNOfSdJT8A8PItDtKgPtK2YYe/t1I/aMeTse0sNj+ENE0a9LFDP/ARAB8B8DE/wB4A7AHAHj8A8PItDtKwPp2ExeDHBZU/Ft+m3TIpej+4CK5q09hFPwDw8i0O0uA+pw//aeo2dj/oRMjRuGRQP7jzCdl3Gks/fQtfJ+oMcj86XyMofgVnPwAKLn/TIPc+DPeyng7eZz8ACi5/0yDXPgDw8i0O0sA+AAouf9Mg5z7A1eW3G2QHPwAKLn/TINc+AKxvuZEG1T4A8PItDtKwPg=="
         },
         "xaxis": "x",
         "y": {
          "dtype": "f8",
          "bdata": "+rsEAm7rvj9GF1100UXHPwAAAAAAAAAAp67l4Ga/sD+5U7RwBoTCP2FnT0zY2cM/G63RGq3Ryj/Jw6kTXSGwP1eVmcL5Dsw/j+O9tmJtwT+amZmZmZnJPxBYZcjAxLo/yyNCU+1Xtz8AAAAAAAAAAIGAOI8zg8A/8qGnArO4wz+nrpL/naSzPxmVURmVUck/lUzJlEzJtD8AAAAAAAAAAOQejQjkwMc/FCLgiYrdxj9YfMVXfMXHPwAAAAAAAMA/lK46cJOjxT8+Hd2ry4HBPwyYxoBpDMg/eFUfFPv+xD/vGBXDuMPLPxdddNFFF80/bdOQMoW8yj9GF1100UW3PwAAAAAAAAAAXXTRRRdd1D+e8YxnPOO5P0YXXXTRRcc/AAAAAAAAAAAAAAAAAAAAAA=="
         },
         "yaxis": "y",
         "type": "scatter"
        },
        {
         "customdata": [
          [
           2,
           "performance"
          ],
          [
           306,
           "performance"
          ],
          [
           10,
           "performance"
          ],
          [
           2,
           "performance"
          ],
          [
           175,
           "performance"
          ],
          [
           7757,
           "performance"
          ],
          [
           8,
           "performance"
          ],
          [
           26,
           "performance"
          ],
          [
           541,
           "performance"
          ],
          [
           6395,
           "performance"
          ],
          [
           1,
           "performance"
          ],
          [
           124,
           "performance"
          ],
          [
           346,
           "performance"
          ],
          [
           1273,
           "performance"
          ],
          [
           2,
           "performance"
          ],
          [
           90,
           "performance"
          ],
          [
           8125,
           "performance"
          ],
          [
           3351,
           "performance"
          ],
          [
           1420,
           "performance"
          ],
          [
           120,
           "performance"
          ],
          [
           63,
           "performance"
          ],
          [
           9,
           "performance"
          ],
          [
           2,
           "performance"
          ],
          [
           420,
           "performance"
          ],
          [
           167,
           "performance"
          ],
          [
           11,
           "performance"
          ],
          [
           27,
           "performance"
          ],
          [
           9601,
           "performance"
          ],
          [
           644,
           "performance"
          ],
          [
           3184,
           "performance"
          ],
          [
           34,
           "performance"
          ],
          [
           5,
           "performance"
          ],
          [
           26,
           "performance"
          ],
          [
           35,
           "performance"
          ],
          [
           4,
           "performance"
          ],
          [
           49,
           "performance"
          ],
          [
           13,
           "performance"
          ],
          [
           502,
           "performance"
          ],
          [
           1828,
           "performance"
          ],
          [
           60,
           "performance"
          ],
          [
           5,
           "performance"
          ],
          [
           6,
           "performance"
          ],
          [
           1600,
           "performance"
          ],
          [
           16917,
           "performance"
          ],
          [
           713,
           "performance"
          ],
          [
           18,
           "performance"
          ],
          [
           154,
           "performance"
          ],
          [
           17404,
           "performance"
          ],
          [
           468,
           "performance"
          ],
          [
           50,
           "performance"
          ]
         ],
         "hovertemplate": "<b>%{hovertext}</b><br><br>primary_qa=%{customdata[1]}<br>popularity=%{x}<br>precision=%{y}<br>bubble_size=%{marker.size}<br>total_count=%{customdata[0]}<extra></extra>",
         "hovertext": [
          "applic perform",
          "asynch",
          "autosc",
          "best-cas",
          "bottleneck",
          "cach",
          "cloud resourc",
          "comput resourc",
          "concurren",
          "content",
          "datagram",
          "deadlock",
          "denorm",
          "disk",
          "event-driven",
          "execut time",
          "failur",
          "gpu",
          "i/o",
          "improv perform",
          "iop",
          "load balanc",
          "load test",
          "multi-thread",
          "multiplex",
          "multiprocessor",
          "optim perform",
          "optimiz",
          "overhead",
          "parallel",
          "perform analys",
          "perform efficien",
          "perform evalu",
          "perform issu",
          "perform metric",
          "perform optim",
          "perform target",
          "perform test",
          "refactor",
          "reindex",
          "rendezv",
          "respons time",
          "scalab",
          "scale",
          "synch",
          "throttl",
          "throughput",
          "time",
          "tune",
          "workload"
         ],
         "legendgroup": "performance",
         "marker": {
          "color": "#FF6692",
          "opacity": 0.5,
          "size": {
           "dtype": "f8",
           "bdata": "CwOteuqT8T+sO6TGSugWQEw3f7fjLgNACwOteuqT8T+duDxbk64UQKbiBLq36SFACwOteuqTAUCQhAO4310KQEQ37zVaLhlAx/VkC+CGIUDvOfr+Qi7mP+cp8nkxUBNAdTcmZbVlF0CSOpHMg5kcQAsDrXrqk/E/vlwlwR4LEkDK00gocgEiQMv8A2EQPCBAOywAvVUJHUBMN3+34y4TQHOrOz+yohBAFlW1u7FrAkALA6166pPxP0abCfGnKxhAEq3VafB+FEB9ntO8FuEDQCNKltZaqApAtM6lauZWIkAYGrEng+AZQFGrVvXlISBAxfMPU1pxDEACICr6C6v8P5CEA7jfXQpAAiAq+gurDEAzje33QcD5P68brLfSSw9Ap7vXFsocBUD/lrlj4uEYQCa/Dx7NCx5ADWwS64hxEEACICr6C6v8P1daMq5yIv8/x6MiBXeDHUDxYuF65ngjQFNeFIuVSBpALLMEBjaOB0D6+EOidywUQB/bxDhuhyNAw6e0nDeaGED/AFH/YHQPQA=="
          },
          "sizemode": "area",
          "sizeref": 0.029379462181811103,
          "symbol": "circle"
         },
         "mode": "markers",
         "name": "performance",
         "orientation": "v",
         "showlegend": true,
         "x": {
          "dtype": "f8",
          "bdata": "APDyLQ7SsD7gYuzyFBskPwCsb7mRBtU+APDyLQ7SsD4gJNJiL/8WPyOjZHrN2m8/APDyLQ7S0D4AxqoKV1XrPpgyjfvzxTE/FTtdg/RCaj8A8PItDtKgPoBYg7x9SxA/YFgaKue7Jj/cQp8gIulEPwDw8i0O0rA+gKGd8GOnBz9au0Jg1q5wP3LgbvOyhVs/0OK3qUlTRz8AgieW2okPP0AkO/XFjgA/AE6x80/s0j4A8PItDtKwPsCRYkOfmCs/IPXyfw7yFT8ACi5/0yDXPgD1ie13Yuw+2CBKLq+2cz/gkcvVNSg1PyCxbwuSJlo/AB/SEC/f8T4ArG+5kQbFPgDGqgpXVes+gLZBgr9l8j4A8PItDtLAPoD/W7alwfk+AMaqCldV2z5QMQ3n830wP3CuBlD7Bk4/AIInltqJ/z4ArG+5kQbFPgBo7EQVO8k+AJfLJzZISj83mwmMI16BPzjP/L6EbDc/AE6x80/s4j7ASEgPuTwUP9E/7+8h3oE/wB4A7AHALj8Al8snNkj6Pg=="
         },
         "xaxis": "x",
         "y": {
          "dtype": "f8",
          "bdata": "AAAAAAAAAAD0nkn0nknUP5qZmZmZmbk/AAAAAAAA4D8tb4xgor/TP85I6tmJ68s/AAAAAAAA0D/ZiZ3YiZ3YP3RHvTCtOtQ/424q1CS4yD8AAAAAAAAAAFNKKaWUUto/Q3+SsaiGyT8UM5KxNd3UPwAAAAAAAAAAOY7jOI7j2D+ac4fZqOXDP5LDAHo1XM8/987rM+iq0T+JiIiIiIjYPxiGYRiGYcg/HMdxHMdx7D8AAAAAAADgP8h+7Md+7Nc/Tmu2T1QPuj9GF1100UXHP1VVVVVVVdU/gEANj4uOzj+c3vSmN73ZPw5jtfW3B84/09LS0tLSwj8AAAAAAAAAABQ7sRM7sbM/HdRBHdRB3T8AAAAAAADoPzTWh8b60Ng/FDuxEzuxsz8FAc31/WWUP0ClkRzlr9Y/VVVVVVVVtT+amZmZmZnJPwAAAAAAAOA/MzMzMzMz0z91whagOaDEP6YpLN3YhM4/VVVVVVVV1T/Oyk+Is/LTP5o8BmoKsdE/GIERGIERyD97FK5H4XrUPw=="
         },
         "yaxis": "y",
         "type": "scatter"
        },
        {
         "customdata": [
          [
           2167,
           "interoperability"
          ],
          [
           41,
           "interoperability"
          ],
          [
           3562,
           "interoperability"
          ],
          [
           5,
           "interoperability"
          ],
          [
           1571,
           "interoperability"
          ],
          [
           11,
           "interoperability"
          ],
          [
           5436,
           "interoperability"
          ],
          [
           21,
           "interoperability"
          ],
          [
           3666,
           "interoperability"
          ],
          [
           6675,
           "interoperability"
          ],
          [
           6,
           "interoperability"
          ],
          [
           162,
           "interoperability"
          ],
          [
           10895,
           "interoperability"
          ],
          [
           73,
           "interoperability"
          ],
          [
           790,
           "interoperability"
          ],
          [
           61,
           "interoperability"
          ],
          [
           3,
           "interoperability"
          ],
          [
           83,
           "interoperability"
          ],
          [
           837,
           "interoperability"
          ],
          [
           55,
           "interoperability"
          ],
          [
           3,
           "interoperability"
          ],
          [
           3769,
           "interoperability"
          ],
          [
           2218,
           "interoperability"
          ],
          [
           1,
           "interoperability"
          ],
          [
           1553,
           "interoperability"
          ],
          [
           701,
           "interoperability"
          ],
          [
           1631,
           "interoperability"
          ],
          [
           18,
           "interoperability"
          ],
          [
           3081,
           "interoperability"
          ],
          [
           4760,
           "interoperability"
          ],
          [
           212,
           "interoperability"
          ],
          [
           1,
           "interoperability"
          ],
          [
           1107,
           "interoperability"
          ],
          [
           29957,
           "interoperability"
          ],
          [
           5548,
           "interoperability"
          ],
          [
           270,
           "interoperability"
          ],
          [
           2321,
           "interoperability"
          ],
          [
           1760,
           "interoperability"
          ]
         ],
         "hovertemplate": "<b>%{hovertext}</b><br><br>primary_qa=%{customdata[1]}<br>popularity=%{x}<br>precision=%{y}<br>bubble_size=%{marker.size}<br>total_count=%{customdata[0]}<extra></extra>",
         "hovertext": [
          "architectur",
          "client-serv",
          "compatib",
          "compon base",
          "conflict",
          "connector",
          "convers",
          "cooperat",
          "coordinat",
          "distribut",
          "event-bas",
          "exchang",
          "format",
          "heterogen",
          "incompatib",
          "interoperab",
          "licens use",
          "marshal",
          "mismatch",
          "ontolog",
          "orb",
          "platform",
          "plug",
          "plug-and-play",
          "prox",
          "registr",
          "repositor",
          "rpc",
          "semant",
          "share",
          "skeleton",
          "soap",
          "socket",
          "specif",
          "standard",
          "syntact",
          "wrapper",
          "xml"
         ],
         "legendgroup": "interoperability",
         "marker": {
          "color": "#B6E880",
          "opacity": 0.5,
          "size": {
           "dtype": "f8",
           "bdata": "wMWt9eq5HkAtPS5Uv+YNQNSA8MJRWyBAAiAq+gur/D+hl4wYv3AdQH2e07wW4QNAtjS3AbQzIUDIxT13dLoIQPzTldUMaiBAknyp+8+cIUBXWjKuciL/P3vVeQ0AYBRAsjeLG6GXIkAdq/zWXDcRQPIZwAV1sRpA69wnhC+CEEDvOfr+Qi72P9Rl9gkouRFAGWtJApDsGkBQbCrL9RkQQO85+v5CLvY/4TetrDt4IEAyTns3utEeQO85+v5CLuY/dYI0IfRkHUCuz3lROjcaQLXkBF8alx1ALLMEBjaOB0AyGfgnEREgQLsalJ257yBAjBfQkvZxFUDvOfr+Qi7mP4dhszGPChxAaofsaXedJEAD72uaJD4hQAbwD9aRaBZAjn/rRjAAH0Agp0wgAeUdQA=="
          },
          "sizemode": "area",
          "sizeref": 0.029379462181811103,
          "symbol": "circle"
         },
         "mode": "markers",
         "name": "interoperability",
         "orientation": "v",
         "showlegend": true,
         "x": {
          "dtype": "f8",
          "bdata": "sm3ewELMUT+AQ98qIo31PuzHailXQV0/AKxvuZEGxT60df5AQ85JPwAKLn/TINc+BCp7UcZSZj8A206cshPmPhwewOEBHF4/fVaBe1Bpaz8AaOxEFTvJPsB3J/LZSRU/oTCsS91edj/AGWksmC8DP1DY5eAb9Dk/wIzLgzUIAD8AaOxEFTu5PkAPl2Nq0AU/WKUdLmR/Oz+AjPleCOn8PgBo7EQVO7k+7rVPWJL0Xj9sWkPbfTdSPwDw8i0O0qA+fLAvAZKCST+YHelpmAc3P8SxrxWSyko/AE6x80/s4j5OGeCUAU5ZP+jRZXobjGM/gF0afOfbGz8A8PItDtKgPvRgLNQUL0I/u7UbVVLBjj+Uzry0hMhmPyA5dvSKvSE/PvLSUQ4QUz+AjPleCOlMPw=="
         },
         "xaxis": "x",
         "y": {
          "dtype": "f8",
          "bdata": "qll/Br+Jzj8ZnI/B+RjcP7JCcEdzptI/mpmZmZmZyT9f6Lo3TmDLP0YXXXTRRbc/93Ft1X1cyz+e53me53nOP1VVVVVVVcU/RYbBzmuHxz9VVVVVVVXFP3Icx3Ecx9E/CjjhAVCdxz+oUKFChQrVPzG/q8VNmM8/yRCso8371D8AAAAAAAAAAB9yWTFQwrs/C7nHV+2YzD9KkKcEeUrAPwAAAAAAAAAACJlLXy2Exj/HIKqjTwvDPwAAAAAAAAAAKx65zSCpzj/9p0SUsmPLPz/xYXBMh84/HMdxHMdxrD8fLMWjJSPRPwp4Uwp4U8o/8lb2OaQmyD8AAAAAAAAAAAFvYEVcq8k/YSPEeFy/yz9g6H+h/4XOP0jWufKAZM0/nMsqvPYTyz+oBHlKkKfAPw=="
         },
         "yaxis": "y",
         "type": "scatter"
        },
        {
         "customdata": [
          [
           3,
           "modifiability"
          ],
          [
           2,
           "modifiability"
          ],
          [
           7169,
           "modifiability"
          ],
          [
           1,
           "modifiability"
          ],
          [
           2,
           "modifiability"
          ],
          [
           14001,
           "modifiability"
          ],
          [
           31,
           "modifiability"
          ],
          [
           4194,
           "modifiability"
          ],
          [
           41,
           "modifiability"
          ],
          [
           257,
           "modifiability"
          ],
          [
           113,
           "modifiability"
          ],
          [
           10138,
           "modifiability"
          ],
          [
           1,
           "modifiability"
          ],
          [
           2099,
           "modifiability"
          ],
          [
           21720,
           "modifiability"
          ],
          [
           1018,
           "modifiability"
          ],
          [
           323,
           "modifiability"
          ],
          [
           3115,
           "modifiability"
          ],
          [
           61975,
           "modifiability"
          ],
          [
           21,
           "modifiability"
          ],
          [
           61,
           "modifiability"
          ],
          [
           21853,
           "modifiability"
          ],
          [
           226,
           "modifiability"
          ],
          [
           341,
           "modifiability"
          ],
          [
           2,
           "modifiability"
          ],
          [
           59,
           "modifiability"
          ],
          [
           291,
           "modifiability"
          ],
          [
           1282,
           "modifiability"
          ],
          [
           2,
           "modifiability"
          ],
          [
           406,
           "modifiability"
          ],
          [
           7,
           "modifiability"
          ],
          [
           2,
           "modifiability"
          ],
          [
           2149,
           "modifiability"
          ],
          [
           20183,
           "modifiability"
          ],
          [
           63869,
           "modifiability"
          ]
         ],
         "hovertemplate": "<b>%{hovertext}</b><br><br>primary_qa=%{customdata[1]}<br>popularity=%{x}<br>precision=%{y}<br>bubble_size=%{marker.size}<br>total_count=%{customdata[0]}<extra></extra>",
         "hovertext": [
          "architectur descript",
          "architectur design",
          "bind",
          "chang environ",
          "chang system",
          "compon",
          "cost estim",
          "deco",
          "design decis",
          "encapsul",
          "evolv",
          "exten",
          "impact analys",
          "inherit",
          "interfac",
          "interm",
          "interop",
          "layer",
          "modul",
          "mvc",
          "pac",
          "paramet",
          "polymorph",
          "portab",
          "requir adapt",
          "requir chang",
          "responsibil",
          "reu",
          "risk assess",
          "scenario",
          "system chang",
          "system environ",
          "upgrad",
          "variab",
          "version"
         ],
         "legendgroup": "modifiability",
         "marker": {
          "color": "#FF97FF",
          "opacity": 0.5,
          "size": {
           "dtype": "f8",
           "bdata": "7zn6/kIu9j8LA6166pPxP/SFHcZcwSFA7zn6/kIu5j8LA6166pPxPzfNo4sKGCNAa8i4vtO5C0Ayz1mR7K4gQC09LlS/5g1ACf6UCTs2FkCX4YwB3vESQFsChBbDciJA7zn6/kIu5j9uLO0FSZkeQIBuGY7Z+CNATaobnNC0G0CGkWs6ex8XQBwfxDKvFiBABDiIT6oRJkDIxT13dLoIQOvcJ4QvghBAUMcArfn7I0CrEe4YJrMVQFkiOKDYVhdACwOteuqT8T+LMmXcm2AQQGK+4PL+tBZAXrFTK7mgHEALA6166pPxP4T/3FIGCRhAc6s7P7KiAEALA6166pPxP+CD4GZhsR5ATooLRUbTI0DcOaTpEyEmQA=="
          },
          "sizemode": "area",
          "sizeref": 0.029379462181811103,
          "symbol": "circle"
         },
         "mode": "markers",
         "name": "modifiability",
         "orientation": "v",
         "showlegend": true,
         "x": {
          "dtype": "f8",
          "bdata": "AGjsRBU7uT4A8PItDtKwPi8DTPGlcG0/APDyLQ7SoD4A8PItDtKwPsAc+MuBv3w/gFiDvH1L8D7+X8zEFDlhP4BD3yoijfU+8OIgPODiID/A7yAJ4bINP6M1PSz00HQ/APDyLQ7SoD663FdIST1RP+ruKYx3TIY/mAOuGNO4QD/QhPnjBzklP8phI1F+lVk/Z49rjSjQnz8A206cshPmPsCMy4M1CAA/xWuhEWxvhj/A7yAJ4bIdP7CZNOPMZyY/APDyLQ7SsD6A6rckSgP/PtAmOx7GHiM/eKWGwPoORT8A8PItDtKwPqBI33wirSo/ACRp0JhvzT4A8PItDtKwPhYL9yBqplE/nnCi74K4hD8Pu51bhmSgPw=="
         },
         "xaxis": "x",
         "y": {
          "dtype": "f8",
          "bdata": "AAAAAAAAAAAAAAAAAADgP672BHUzX8Y/AAAAAAAAAAAAAAAAAAAAAAnJHZMy0sg/ttZaa6211j99L2sy057LPxmcj8H5GMw/HeMc4xzjzD80+bJBky/bPwl390w8rs4/AAAAAAAAAACbv68lCXfQP2hXs9aBTc4/4pZkmGXuzj91JMaCCfzGP2PYpVqTfcg/cwaxKMNexT+e53me53neP8kQrKPN+9Q/cG1qX/sGzD/7IYG3HxLYP5VSSimllNI/AAAAAAAA4D/vy2MrgobTPxfidT5z39Y/kZSMoG5r0z8AAAAAAADgP7vErIUCOtY/kiRJkiRJ0j8AAAAAAADgP8YONO8IEc0/+NDjAY2lzD/GFWjQiUXHPw=="
         },
         "yaxis": "y",
         "type": "scatter"
        },
        {
         "customdata": [
          [
           2897,
           "testability"
          ],
          [
           3,
           "testability"
          ],
          [
           1028,
           "testability"
          ],
          [
           9043,
           "testability"
          ],
          [
           10969,
           "testability"
          ],
          [
           1523,
           "testability"
          ],
          [
           26,
           "testability"
          ],
          [
           519,
           "testability"
          ],
          [
           2,
           "testability"
          ],
          [
           33,
           "testability"
          ],
          [
           12,
           "testability"
          ],
          [
           697,
           "testability"
          ],
          [
           1524,
           "testability"
          ],
          [
           199,
           "testability"
          ],
          [
           351,
           "testability"
          ],
          [
           1759,
           "testability"
          ],
          [
           2,
           "testability"
          ],
          [
           969,
           "testability"
          ],
          [
           1,
           "testability"
          ],
          [
           1156,
           "testability"
          ],
          [
           5,
           "testability"
          ],
          [
           78,
           "testability"
          ],
          [
           1046,
           "testability"
          ],
          [
           3226,
           "testability"
          ],
          [
           2293,
           "testability"
          ],
          [
           6601,
           "testability"
          ],
          [
           2692,
           "testability"
          ]
         ],
         "hovertemplate": "<b>%{hovertext}</b><br><br>primary_qa=%{customdata[1]}<br>popularity=%{x}<br>precision=%{y}<br>bubble_size=%{marker.size}<br>total_count=%{customdata[0]}<extra></extra>",
         "hovertext": [
          "assert",
          "black-box",
          "concern",
          "context",
          "control",
          "coverag",
          "data-flow",
          "emul",
          "flowgraph",
          "fuzzy",
          "hard-wir",
          "hook",
          "instrument",
          "mock",
          "modula",
          "plan",
          "qualit assur",
          "regress",
          "self-check",
          "simul",
          "source-to-sourc",
          "spy",
          "stub",
          "trace",
          "understand",
          "unit",
          "verif"
         ],
         "legendgroup": "testability",
         "marker": {
          "color": "#FECB52",
          "opacity": 0.5,
          "size": {
           "dtype": "f8",
           "bdata": "UTmrRxnjH0DvOfr+Qi72P4QEUaHQvhtAMl+lJz84IkCQOI1FGJsiQIH9yfL9UB1AkIQDuN9dCkAv/zGz6wMZQAsDrXrqk/E/9g25gfw1DEBRjDErBIUEQJ6gNVlgMRpApzIJ56lRHUBTnJQbejEVQNv/G7tbdBdAKGMXOWzkHUALA6166pPxP4P2v+ZZghtA7zn6/kIu5j8fUUct3zYcQAIgKvoLq/w/c7GviVB6EUAjmgGYktAbQAxWVhWbKCBAyUBF+8PzHkAB53cBG5chQC/11xP5lx9A"
          },
          "sizemode": "area",
          "sizeref": 0.029379462181811103,
          "symbol": "circle"
         },
         "mode": "markers",
         "name": "testability",
         "orientation": "v",
         "showlegend": true,
         "x": {
          "dtype": "f8",
          "bdata": "vkW/TiLLVz8AaOxEFTu5PvDiIDzg4kA/n+QIV2CRcj9scnYMw4V2P3QS15ZqBEk/AMaqCldV6z5IwpNf7QwxPwDw8i0O0rA+gIdin55Y8T4AaOxEFTvZPrg3jU305TY/MI9iGp8IST8gsW8LkiYaPxAXAHEBECc/xA9u29PkTD8A8PItDtKwPjhH9tWL1T8/APDyLQ7SoD7wQN8BIv1CPwCsb7mRBsU+gBQASAGABD8oqO97kS5BP4zs4NXgflo/9h8yIC/VUj/n0uz5hBtrP3jUZaMbHFY/"
         },
         "xaxis": "x",
         "y": {
          "dtype": "f8",
          "bdata": "hznlfiRzyT9VVVVVVVXVPybaJdol2tU/2DuKv+YTyz9FMoaaWyPNP1zv0IfIDco/FDuxEzuxwz+LIWTjdSfQPwAAAAAAAAAAVVVVVVVV1T8AAAAAAAAAAJGdazMUkc0/IOVH+VF+xD9go3dF5kvDP79GwWnxa9Q/HrGhd3Zuxz8AAAAAAADgP57hWmhNg8c/AAAAAAAAAAAyyF71iyLJP5qZmZmZmdk/l2/5lm/5tj+1DSyyPAzFP+VR7Gu4TsA/u5gIBx2M1T8xXTWgdW/GP9tfhCSge8s/"
         },
         "yaxis": "y",
         "type": "scatter"
        },
        {
         "customdata": [
          [
           13958,
           "availability"
          ],
          [
           411,
           "availability"
          ],
          [
           948,
           "availability"
          ],
          [
           5376,
           "availability"
          ],
          [
           230,
           "availability"
          ],
          [
           5559,
           "availability"
          ],
          [
           6,
           "availability"
          ],
          [
           438,
           "availability"
          ],
          [
           126979,
           "availability"
          ],
          [
           80,
           "availability"
          ],
          [
           4,
           "availability"
          ],
          [
           2515,
           "availability"
          ],
          [
           82,
           "availability"
          ],
          [
           1,
           "availability"
          ],
          [
           59,
           "availability"
          ],
          [
           936,
           "availability"
          ],
          [
           314,
           "availability"
          ],
          [
           258,
           "availability"
          ],
          [
           7342,
           "availability"
          ],
          [
           3390,
           "availability"
          ],
          [
           4,
           "availability"
          ],
          [
           21056,
           "availability"
          ],
          [
           14,
           "availability"
          ],
          [
           452,
           "availability"
          ],
          [
           18,
           "availability"
          ],
          [
           3852,
           "availability"
          ],
          [
           858,
           "availability"
          ],
          [
           324,
           "availability"
          ],
          [
           559,
           "availability"
          ],
          [
           903,
           "availability"
          ],
          [
           5206,
           "availability"
          ],
          [
           2,
           "availability"
          ],
          [
           12,
           "availability"
          ],
          [
           6,
           "availability"
          ],
          [
           26,
           "availability"
          ],
          [
           607,
           "availability"
          ],
          [
           348,
           "availability"
          ],
          [
           20,
           "availability"
          ],
          [
           30,
           "availability"
          ]
         ],
         "hovertemplate": "<b>%{hovertext}</b><br><br>primary_qa=%{customdata[1]}<br>popularity=%{x}<br>precision=%{y}<br>bubble_size=%{marker.size}<br>total_count=%{customdata[0]}<extra></extra>",
         "hovertext": [
          "avail",
          "backup",
          "checkpoint",
          "consist",
          "degrad",
          "down",
          "downtim",
          "echo",
          "error",
          "escal",
          "failov",
          "fault",
          "ha",
          "haproxy",
          "heal",
          "incid",
          "mainten",
          "markov",
          "mask",
          "monitor",
          "mttr",
          "operat",
          "outag",
          "ping",
          "reboot",
          "redundan",
          "reliab",
          "repair",
          "replic",
          "robust",
          "servic",
          "sla",
          "sli",
          "slo",
          "stead",
          "toler",
          "unavail",
          "uptim",
          "watchdog"
         ],
         "legendgroup": "availability",
         "marker": {
          "color": "#636efa",
          "opacity": 0.5,
          "size": {
           "dtype": "f8",
           "bdata": "JOvEZ3cWI0BoohclhxUYQA/2ukjwaxtAKoqKhQUuIUD+cvclCcUVQAwi2CwoPyFAV1oyrnIi/z+YwZ4Dh1YYQD/1Y/LpgCdACwOteuqTEUAzje33QcD5Pxcy2RdbUh9AguRijeSsEUDvOfr+Qi7mP4syZdybYBBAXGbIXeheG0Boe95mogIXQHT6qSIxOhZAWAT5xJHNIUAgEfeT/EEgQDON7fdBwPk/CEzTOvToI0AfSE05FqoFQBZB42ysdhhALLMEBjaOB0BeKrIJYoMgQK8FzUnoBRtAwoyPEaMiF0DaFgWpzk8ZQBVZ0XkxOhtANMKTm5IdIUALA6166pPxP1GMMSsEhQRAV1oyrnIi/z+QhAO4310KQMy9XuIEpBlAYFlW+ZdrF0Cxrm+ULlsIQForkUjOeAtA"
          },
          "sizemode": "area",
          "sizeref": 0.029379462181811103,
          "symbol": "circle"
         },
         "mode": "markers",
         "name": "availability",
         "orientation": "v",
         "showlegend": true,
         "x": {
          "dtype": "f8",
          "bdata": "TV7qiOeofD9QB8XDPAErP2DQE0HuJD8/ANtOnLITZj9Ah5B6cTkeP5llfB4V1GY/AGjsRBU7yT6gpp1CZMcsP2ydmPeWS7A/AKxvuZEGBT8A8PItDtLAPno1rSn0p1Q/gEPfKiKNBT8A8PItDtKgPoDqtyRKA/8+wB4A7AHAPj9g+ltkpaEkP+DVTkqy8yA/8tWcKoUmbj/E4I74stdbPwDw8i0O0sA+cDYNOfSdhT8AJGnQmG/dPsDvIAnhsi0/AE6x80/s4j5obmyrFaNfPzAcAMMBMDw/wHcn8tlJJT8IvSp7Vl0yP0j2CQJ4qj0/yqWmxfpgZT8A8PItDtKwPgBo7EQVO9k+AGjsRBU7yT4AxqoKV1XrPoiDec8H8TM/QD52RovdJj8ArG+5kQblPgCCJ5baie8+"
         },
         "xaxis": "x",
         "y": {
          "dtype": "f8",
          "bdata": "1V3WZAEeyj9Q7TmZvkq4Py1uwvyuFsc/z/M8z/O8zj8Q435dUvnQPxccUj9nssI/VVVVVVVVxT8srrG4xuK6P08sDX6XfsM/zczMzMzMvD8AAAAAAAAAAPtZxE1syMU/uxK1K1G7sj8AAAAAAAAAAFcEDSd1X74/GIERGIERqD/7HpEThLvRPzJnzBlzxrw/RIUfJJbBuD/B2w8JvP3APwAAAAAAAAAA3L2sEqjovT+SJEmSJEmyP3pqYaWnFrY/chzHcRzH0T/TDUQAFXvLP6n0vsBRM9I/wdOt+WGRwj8UO7ETO7HDPwpEcOzSKNA/CP472n/Etj8AAAAAAAAAAAAAAAAAAAAAAAAAAAAAAAB2Yid2YifWP95O2wj1Jbo/7mmE5Z5GuD+amZmZmZm5P5qZmZmZmbk/"
         },
         "yaxis": "y",
         "type": "scatter"
        },
        {
         "customdata": [
          [
           6,
           "reliability"
          ],
          [
           1,
           "reliability"
          ],
          [
           5,
           "reliability"
          ],
          [
           11130,
           "reliability"
          ],
          [
           11,
           "reliability"
          ],
          [
           3,
           "reliability"
          ],
          [
           32293,
           "reliability"
          ],
          [
           3,
           "reliability"
          ],
          [
           3,
           "reliability"
          ],
          [
           70,
           "reliability"
          ],
          [
           4,
           "reliability"
          ],
          [
           46658,
           "reliability"
          ],
          [
           1,
           "reliability"
          ],
          [
           2,
           "reliability"
          ],
          [
           30,
           "reliability"
          ],
          [
           1,
           "reliability"
          ],
          [
           527,
           "reliability"
          ],
          [
           2,
           "reliability"
          ],
          [
           10,
           "reliability"
          ],
          [
           9,
           "reliability"
          ],
          [
           3984,
           "reliability"
          ],
          [
           69,
           "reliability"
          ],
          [
           1,
           "reliability"
          ],
          [
           170,
           "reliability"
          ],
          [
           535,
           "reliability"
          ]
         ],
         "hovertemplate": "<b>%{hovertext}</b><br><br>primary_qa=%{customdata[1]}<br>popularity=%{x}<br>precision=%{y}<br>bubble_size=%{marker.size}<br>total_count=%{customdata[0]}<extra></extra>",
         "hovertext": [
          "bare metal",
          "cloud deploy",
          "dependab",
          "diagno",
          "doe",
          "egress",
          "fail",
          "fmea",
          "fully manag",
          "growth",
          "ingress",
          "integr",
          "manag environ",
          "manag tool",
          "nonlinear",
          "point-in-tim",
          "poisson",
          "pra",
          "rca",
          "rerout",
          "restor",
          "rpo",
          "rto",
          "stabil",
          "toleran"
         ],
         "legendgroup": "reliability",
         "marker": {
          "color": "#EF553B",
          "opacity": 0.5,
          "size": {
           "dtype": "f8",
           "bdata": "V1oyrnIi/z/vOfr+Qi7mPwIgKvoLq/w/PTq19I2iIkB9ntO8FuEDQO85+v5CLvY/dcJA9ujDJEDvOfr+Qi72P+85+v5CLvY/ydYk9PsMEUAzje33QcD5P4EqHmlRgCVA7zn6/kIu5j8LA6166pPxP1orkUjOeAtA7zn6/kIu5j9g+ef5jRMZQAsDrXrqk/E/TDd/t+MuA0AWVbW7sWsCQLgoAzuhlCBAIUFniXX+EEDvOfr+Qi7mPxzbWEAQkRRA5+bFEPQiGUA="
          },
          "sizemode": "area",
          "sizeref": 0.029379462181811103,
          "symbol": "circle"
         },
         "mode": "markers",
         "name": "reliability",
         "orientation": "v",
         "showlegend": true,
         "x": {
          "dtype": "f8",
          "bdata": "AGjsRBU7yT4A8PItDtKgPgCsb7mRBsU+s6DN42Padj8ACi5/0yDXPgBo7EQVO7k+eWxUraKTkD8AaOxEFTu5PgBo7EQVO7k+gLZBgr9lAj8A8PItDtLAPoQepXhY85c/APDyLQ7SoD4A8PItDtKwPgCCJ5baie8+APDyLQ7SoD4IjkuYNVAxPwDw8i0O0rA+AKxvuZEG1T4ATrHzT+zSPnBLscpPXGA/wOqJSXciAj8A8PItDtKgPsCmBtX6VhY/yFkD0X2TMT8="
         },
         "xaxis": "x",
         "y": {
          "dtype": "f8",
          "bdata": "AAAAAAAAAAAAAAAAAADwPzMzMzMzM+M/sRuej+bcxj8AAAAAAAAAAFVVVVVVVdU/8+dR1I2Zvj8AAAAAAADwP1VVVVVVVdU/UAd1UAd10D8AAAAAAADQP2wEzWVj3sY/AAAAAAAAAAAAAAAAAADgP5qZmZmZmbk/AAAAAAAAAAA/kdsEqj7BPwAAAAAAAAAAmpmZmZmZyT8AAAAAAAAAAJWnhe7Y1cA/grl2YK4dyD8AAAAAAAAAAFFRUVFRUdE/FUxHzSV3wT8="
         },
         "yaxis": "y",
         "type": "scatter"
        }
       ],
       "layout": {
        "template": {
         "data": {
          "histogram2dcontour": [
           {
            "type": "histogram2dcontour",
            "colorbar": {
             "outlinewidth": 0,
             "ticks": ""
            },
            "colorscale": [
             [
              0.0,
              "#0d0887"
             ],
             [
              0.1111111111111111,
              "#46039f"
             ],
             [
              0.2222222222222222,
              "#7201a8"
             ],
             [
              0.3333333333333333,
              "#9c179e"
             ],
             [
              0.4444444444444444,
              "#bd3786"
             ],
             [
              0.5555555555555556,
              "#d8576b"
             ],
             [
              0.6666666666666666,
              "#ed7953"
             ],
             [
              0.7777777777777778,
              "#fb9f3a"
             ],
             [
              0.8888888888888888,
              "#fdca26"
             ],
             [
              1.0,
              "#f0f921"
             ]
            ]
           }
          ],
          "choropleth": [
           {
            "type": "choropleth",
            "colorbar": {
             "outlinewidth": 0,
             "ticks": ""
            }
           }
          ],
          "histogram2d": [
           {
            "type": "histogram2d",
            "colorbar": {
             "outlinewidth": 0,
             "ticks": ""
            },
            "colorscale": [
             [
              0.0,
              "#0d0887"
             ],
             [
              0.1111111111111111,
              "#46039f"
             ],
             [
              0.2222222222222222,
              "#7201a8"
             ],
             [
              0.3333333333333333,
              "#9c179e"
             ],
             [
              0.4444444444444444,
              "#bd3786"
             ],
             [
              0.5555555555555556,
              "#d8576b"
             ],
             [
              0.6666666666666666,
              "#ed7953"
             ],
             [
              0.7777777777777778,
              "#fb9f3a"
             ],
             [
              0.8888888888888888,
              "#fdca26"
             ],
             [
              1.0,
              "#f0f921"
             ]
            ]
           }
          ],
          "heatmap": [
           {
            "type": "heatmap",
            "colorbar": {
             "outlinewidth": 0,
             "ticks": ""
            },
            "colorscale": [
             [
              0.0,
              "#0d0887"
             ],
             [
              0.1111111111111111,
              "#46039f"
             ],
             [
              0.2222222222222222,
              "#7201a8"
             ],
             [
              0.3333333333333333,
              "#9c179e"
             ],
             [
              0.4444444444444444,
              "#bd3786"
             ],
             [
              0.5555555555555556,
              "#d8576b"
             ],
             [
              0.6666666666666666,
              "#ed7953"
             ],
             [
              0.7777777777777778,
              "#fb9f3a"
             ],
             [
              0.8888888888888888,
              "#fdca26"
             ],
             [
              1.0,
              "#f0f921"
             ]
            ]
           }
          ],
          "contourcarpet": [
           {
            "type": "contourcarpet",
            "colorbar": {
             "outlinewidth": 0,
             "ticks": ""
            }
           }
          ],
          "contour": [
           {
            "type": "contour",
            "colorbar": {
             "outlinewidth": 0,
             "ticks": ""
            },
            "colorscale": [
             [
              0.0,
              "#0d0887"
             ],
             [
              0.1111111111111111,
              "#46039f"
             ],
             [
              0.2222222222222222,
              "#7201a8"
             ],
             [
              0.3333333333333333,
              "#9c179e"
             ],
             [
              0.4444444444444444,
              "#bd3786"
             ],
             [
              0.5555555555555556,
              "#d8576b"
             ],
             [
              0.6666666666666666,
              "#ed7953"
             ],
             [
              0.7777777777777778,
              "#fb9f3a"
             ],
             [
              0.8888888888888888,
              "#fdca26"
             ],
             [
              1.0,
              "#f0f921"
             ]
            ]
           }
          ],
          "surface": [
           {
            "type": "surface",
            "colorbar": {
             "outlinewidth": 0,
             "ticks": ""
            },
            "colorscale": [
             [
              0.0,
              "#0d0887"
             ],
             [
              0.1111111111111111,
              "#46039f"
             ],
             [
              0.2222222222222222,
              "#7201a8"
             ],
             [
              0.3333333333333333,
              "#9c179e"
             ],
             [
              0.4444444444444444,
              "#bd3786"
             ],
             [
              0.5555555555555556,
              "#d8576b"
             ],
             [
              0.6666666666666666,
              "#ed7953"
             ],
             [
              0.7777777777777778,
              "#fb9f3a"
             ],
             [
              0.8888888888888888,
              "#fdca26"
             ],
             [
              1.0,
              "#f0f921"
             ]
            ]
           }
          ],
          "mesh3d": [
           {
            "type": "mesh3d",
            "colorbar": {
             "outlinewidth": 0,
             "ticks": ""
            }
           }
          ],
          "scatter": [
           {
            "fillpattern": {
             "fillmode": "overlay",
             "size": 10,
             "solidity": 0.2
            },
            "type": "scatter"
           }
          ],
          "parcoords": [
           {
            "type": "parcoords",
            "line": {
             "colorbar": {
              "outlinewidth": 0,
              "ticks": ""
             }
            }
           }
          ],
          "scatterpolargl": [
           {
            "type": "scatterpolargl",
            "marker": {
             "colorbar": {
              "outlinewidth": 0,
              "ticks": ""
             }
            }
           }
          ],
          "bar": [
           {
            "error_x": {
             "color": "#2a3f5f"
            },
            "error_y": {
             "color": "#2a3f5f"
            },
            "marker": {
             "line": {
              "color": "#E5ECF6",
              "width": 0.5
             },
             "pattern": {
              "fillmode": "overlay",
              "size": 10,
              "solidity": 0.2
             }
            },
            "type": "bar"
           }
          ],
          "scattergeo": [
           {
            "type": "scattergeo",
            "marker": {
             "colorbar": {
              "outlinewidth": 0,
              "ticks": ""
             }
            }
           }
          ],
          "scatterpolar": [
           {
            "type": "scatterpolar",
            "marker": {
             "colorbar": {
              "outlinewidth": 0,
              "ticks": ""
             }
            }
           }
          ],
          "histogram": [
           {
            "marker": {
             "pattern": {
              "fillmode": "overlay",
              "size": 10,
              "solidity": 0.2
             }
            },
            "type": "histogram"
           }
          ],
          "scattergl": [
           {
            "type": "scattergl",
            "marker": {
             "colorbar": {
              "outlinewidth": 0,
              "ticks": ""
             }
            }
           }
          ],
          "scatter3d": [
           {
            "type": "scatter3d",
            "line": {
             "colorbar": {
              "outlinewidth": 0,
              "ticks": ""
             }
            },
            "marker": {
             "colorbar": {
              "outlinewidth": 0,
              "ticks": ""
             }
            }
           }
          ],
          "scattermap": [
           {
            "type": "scattermap",
            "marker": {
             "colorbar": {
              "outlinewidth": 0,
              "ticks": ""
             }
            }
           }
          ],
          "scattermapbox": [
           {
            "type": "scattermapbox",
            "marker": {
             "colorbar": {
              "outlinewidth": 0,
              "ticks": ""
             }
            }
           }
          ],
          "scatterternary": [
           {
            "type": "scatterternary",
            "marker": {
             "colorbar": {
              "outlinewidth": 0,
              "ticks": ""
             }
            }
           }
          ],
          "scattercarpet": [
           {
            "type": "scattercarpet",
            "marker": {
             "colorbar": {
              "outlinewidth": 0,
              "ticks": ""
             }
            }
           }
          ],
          "carpet": [
           {
            "aaxis": {
             "endlinecolor": "#2a3f5f",
             "gridcolor": "white",
             "linecolor": "white",
             "minorgridcolor": "white",
             "startlinecolor": "#2a3f5f"
            },
            "baxis": {
             "endlinecolor": "#2a3f5f",
             "gridcolor": "white",
             "linecolor": "white",
             "minorgridcolor": "white",
             "startlinecolor": "#2a3f5f"
            },
            "type": "carpet"
           }
          ],
          "table": [
           {
            "cells": {
             "fill": {
              "color": "#EBF0F8"
             },
             "line": {
              "color": "white"
             }
            },
            "header": {
             "fill": {
              "color": "#C8D4E3"
             },
             "line": {
              "color": "white"
             }
            },
            "type": "table"
           }
          ],
          "barpolar": [
           {
            "marker": {
             "line": {
              "color": "#E5ECF6",
              "width": 0.5
             },
             "pattern": {
              "fillmode": "overlay",
              "size": 10,
              "solidity": 0.2
             }
            },
            "type": "barpolar"
           }
          ],
          "pie": [
           {
            "automargin": true,
            "type": "pie"
           }
          ]
         },
         "layout": {
          "autotypenumbers": "strict",
          "colorway": [
           "#636efa",
           "#EF553B",
           "#00cc96",
           "#ab63fa",
           "#FFA15A",
           "#19d3f3",
           "#FF6692",
           "#B6E880",
           "#FF97FF",
           "#FECB52"
          ],
          "font": {
           "color": "#2a3f5f"
          },
          "hovermode": "closest",
          "hoverlabel": {
           "align": "left"
          },
          "paper_bgcolor": "white",
          "plot_bgcolor": "#E5ECF6",
          "polar": {
           "bgcolor": "#E5ECF6",
           "angularaxis": {
            "gridcolor": "white",
            "linecolor": "white",
            "ticks": ""
           },
           "radialaxis": {
            "gridcolor": "white",
            "linecolor": "white",
            "ticks": ""
           }
          },
          "ternary": {
           "bgcolor": "#E5ECF6",
           "aaxis": {
            "gridcolor": "white",
            "linecolor": "white",
            "ticks": ""
           },
           "baxis": {
            "gridcolor": "white",
            "linecolor": "white",
            "ticks": ""
           },
           "caxis": {
            "gridcolor": "white",
            "linecolor": "white",
            "ticks": ""
           }
          },
          "coloraxis": {
           "colorbar": {
            "outlinewidth": 0,
            "ticks": ""
           }
          },
          "colorscale": {
           "sequential": [
            [
             0.0,
             "#0d0887"
            ],
            [
             0.1111111111111111,
             "#46039f"
            ],
            [
             0.2222222222222222,
             "#7201a8"
            ],
            [
             0.3333333333333333,
             "#9c179e"
            ],
            [
             0.4444444444444444,
             "#bd3786"
            ],
            [
             0.5555555555555556,
             "#d8576b"
            ],
            [
             0.6666666666666666,
             "#ed7953"
            ],
            [
             0.7777777777777778,
             "#fb9f3a"
            ],
            [
             0.8888888888888888,
             "#fdca26"
            ],
            [
             1.0,
             "#f0f921"
            ]
           ],
           "sequentialminus": [
            [
             0.0,
             "#0d0887"
            ],
            [
             0.1111111111111111,
             "#46039f"
            ],
            [
             0.2222222222222222,
             "#7201a8"
            ],
            [
             0.3333333333333333,
             "#9c179e"
            ],
            [
             0.4444444444444444,
             "#bd3786"
            ],
            [
             0.5555555555555556,
             "#d8576b"
            ],
            [
             0.6666666666666666,
             "#ed7953"
            ],
            [
             0.7777777777777778,
             "#fb9f3a"
            ],
            [
             0.8888888888888888,
             "#fdca26"
            ],
            [
             1.0,
             "#f0f921"
            ]
           ],
           "diverging": [
            [
             0,
             "#8e0152"
            ],
            [
             0.1,
             "#c51b7d"
            ],
            [
             0.2,
             "#de77ae"
            ],
            [
             0.3,
             "#f1b6da"
            ],
            [
             0.4,
             "#fde0ef"
            ],
            [
             0.5,
             "#f7f7f7"
            ],
            [
             0.6,
             "#e6f5d0"
            ],
            [
             0.7,
             "#b8e186"
            ],
            [
             0.8,
             "#7fbc41"
            ],
            [
             0.9,
             "#4d9221"
            ],
            [
             1,
             "#276419"
            ]
           ]
          },
          "xaxis": {
           "gridcolor": "white",
           "linecolor": "white",
           "ticks": "",
           "title": {
            "standoff": 15
           },
           "zerolinecolor": "white",
           "automargin": true,
           "zerolinewidth": 2
          },
          "yaxis": {
           "gridcolor": "white",
           "linecolor": "white",
           "ticks": "",
           "title": {
            "standoff": 15
           },
           "zerolinecolor": "white",
           "automargin": true,
           "zerolinewidth": 2
          },
          "scene": {
           "xaxis": {
            "backgroundcolor": "#E5ECF6",
            "gridcolor": "white",
            "linecolor": "white",
            "showbackground": true,
            "ticks": "",
            "zerolinecolor": "white",
            "gridwidth": 2
           },
           "yaxis": {
            "backgroundcolor": "#E5ECF6",
            "gridcolor": "white",
            "linecolor": "white",
            "showbackground": true,
            "ticks": "",
            "zerolinecolor": "white",
            "gridwidth": 2
           },
           "zaxis": {
            "backgroundcolor": "#E5ECF6",
            "gridcolor": "white",
            "linecolor": "white",
            "showbackground": true,
            "ticks": "",
            "zerolinecolor": "white",
            "gridwidth": 2
           }
          },
          "shapedefaults": {
           "line": {
            "color": "#2a3f5f"
           }
          },
          "annotationdefaults": {
           "arrowcolor": "#2a3f5f",
           "arrowhead": 0,
           "arrowwidth": 1
          },
          "geo": {
           "bgcolor": "white",
           "landcolor": "#E5ECF6",
           "subunitcolor": "white",
           "showland": true,
           "showlakes": true,
           "lakecolor": "white"
          },
          "title": {
           "x": 0.05
          },
          "mapbox": {
           "style": "light"
          }
         }
        },
        "xaxis": {
         "anchor": "y",
         "domain": [
          0.0,
          1.0
         ],
         "title": {
          "text": "Keyword Popularity (Log Scale)"
         },
         "type": "log"
        },
        "yaxis": {
         "anchor": "x",
         "domain": [
          0.0,
          1.0
         ],
         "title": {
          "text": "Keyword Precision (s1_passed Rate)"
         }
        },
        "legend": {
         "title": {
          "text": "primary_qa"
         },
         "tracegroupgap": 0,
         "itemsizing": "constant"
        },
        "title": {
         "text": "Figure 4: Keyword Performance Analysis: Precision vs. Popularity"
        },
        "shapes": [
         {
          "line": {
           "dash": "dot"
          },
          "type": "line",
          "x0": 0,
          "x1": 1,
          "xref": "x domain",
          "y0": 0.20259938837920488,
          "y1": 0.20259938837920488,
          "yref": "y"
         },
         {
          "line": {
           "dash": "dot"
          },
          "type": "line",
          "x0": 1.6241822693435597E-4,
          "x1": 1.6241822693435597E-4,
          "xref": "x",
          "y0": 0,
          "y1": 1,
          "yref": "y domain"
         }
        ],
        "annotations": [
         {
          "showarrow": false,
          "text": "Median Precision",
          "x": 1,
          "xanchor": "right",
          "xref": "x domain",
          "y": 0.20259938837920488,
          "yanchor": "bottom",
          "yref": "y"
         },
         {
          "showarrow": false,
          "text": "Median Popularity",
          "x": 1.6241822693435597E-4,
          "xanchor": "left",
          "xref": "x",
          "y": 1,
          "yanchor": "top",
          "yref": "y domain"
         }
        ],
        "font": {
         "size": 12
        }
       },
       "config": {
        "plotlyServerURL": "https://plot.ly"
       }
      }
     },
     "metadata": {},
     "output_type": "display_data"
    }
   ],
   "execution_count": 70
  },
  {
   "metadata": {},
   "cell_type": "markdown",
   "source": [
    "## RQ1 Secondary Analysis: Keyword Performance Validation\n",
    "To validate the semi-automated keyword generation methodology, an analysis was conducted to evaluate the performance of each individual keyword. The goal is to measure two key properties:\n",
    "\n",
    "- Precision: The percentage of times a keyword match was a true positive (i.e., passed the S1 relevance filter). This indicates the keyword's reliability.\n",
    "- Popularity: The keyword's total frequency relative to all other keywords. This indicates the keyword's reach or recall power.\n",
    "\n",
    "The relationship between these two metrics is visualized in the scatter plot in Figure 4. The plot is divided into four quadrants based on the median precision and popularity, allowing for the classification of keywords into distinct performance categories. This analysis not only validates the keyword set but also provides valuable insights for future research in automated architectural knowledge extraction."
   ],
   "id": "a53cca3c275c622b"
  },
  {
   "metadata": {},
   "cell_type": "markdown",
   "source": [
    "\n",
    "### ## RQ1 Secondary Analysis: Keyword Performance Validation\n",
    "\n",
    "The bubble chart in Figure 4 visualizes the performance of each keyword by plotting its precision (the `s1_passed` rate) against its popularity (its frequency on a logarithmic scale). The size of each bubble corresponds to the keyword's total number of occurrences. The chart is bisected by the median precision (≈0.22) and median popularity, dividing it into four analytical quadrants.\n",
    "\n",
    "The overall trend reveals a clear trade-off between a keyword's reach and its reliability. There is a dense concentration of keywords with moderate-to-high popularity but relatively low precision, while the highest-precision keywords are almost exclusively found in the long tail of low-popularity terms. This indicates that the most frequently used terms are often ambiguous, whereas the most unambiguous terms are rarely used. This pattern strongly validates the necessity of the multi-stage filtering pipeline, which is designed to handle the noise introduced by high-popularity keywords.\n",
    "\n",
    "Analyzing the extreme values from this distribution provides further insight:\n",
    "\n",
    "* **High-Precision, Low-Popularity Keywords:** The table of the top 20 most precise keywords confirms the pattern seen in the top-left quadrant of the chart. Many keywords, such as `fmea`, `trojan`, and `wizard`, achieve perfect precision (`1.0`), meaning every time they were found, the discussion was relevant. However, these terms are exceptionally rare, often appearing only once or twice in the entire multi-million-row dataset. These are highly specific, \"niche\" terms that serve as excellent but infrequent indicators of an architectural discussion.\n",
    "\n",
    "* **High-Popularity, Low-Precision Keywords:** Conversely, the table of the 20 most popular keywords illustrates the challenge of ambiguity. These keywords, located in the bottom-right quadrant, are the workhorses for identifying potential discussions but come with significant noise. For example, `error` is the most popular keyword, accounting for over 6% of all matches, but has a low precision of only `0.15`. Likewise, common software development terms like `build` (precision `0.098`), `depend` (precision `0.22`), and `version` (precision `0.18`) are powerful for recall but require subsequent filtering to isolate relevant architectural content."
   ],
   "id": "a35b1565941c7b41"
  },
  {
   "metadata": {},
   "cell_type": "markdown",
   "source": "^^ That is good for HTML export, to play around and check further",
   "id": "7f5a16104f9eb289"
  },
  {
   "metadata": {
    "ExecuteTime": {
     "end_time": "2025-08-20T02:36:12.146101Z",
     "start_time": "2025-08-20T02:36:12.133576Z"
    }
   },
   "cell_type": "code",
   "source": [
    "import plotly.express as px\n",
    "\n",
    "# --- Top 20 Most Precise Keywords ---\n",
    "top_20_precise = keyword_perf.nlargest(20, 'precision')\n",
    "top_20_precise.drop(columns=[\"bubble_size\"])"
   ],
   "id": "ba45d3495fba70fc",
   "outputs": [
    {
     "data": {
      "text/plain": [
       "                    failed_count  passed_count  total_count  precision  \\\n",
       "keyword                                                                  \n",
       "adversar                       0             1            1   1.000000   \n",
       "cloud deploy                   0             1            1   1.000000   \n",
       "compon models                  0             1            1   1.000000   \n",
       "fmea                           0             3            3   1.000000   \n",
       "primar channel                 0             1            1   1.000000   \n",
       "safety requir                  0             2            2   1.000000   \n",
       "trojan                         0             1            1   1.000000   \n",
       "wizard                         0             1            1   1.000000   \n",
       "load balanc                    1             8            9   0.888889   \n",
       "perform metric                 1             3            4   0.750000   \n",
       "dependab                       2             3            5   0.600000   \n",
       "gdpr                           2             3            5   0.600000   \n",
       "graph-bas                      5             7           12   0.583333   \n",
       "resilien                      19            23           42   0.547619   \n",
       "cve                            7             8           15   0.533333   \n",
       "aesthet                       14            15           29   0.517241   \n",
       "architectur design             1             1            2   0.500000   \n",
       "best-cas                       1             1            2   0.500000   \n",
       "framework compon               1             1            2   0.500000   \n",
       "load test                      1             1            2   0.500000   \n",
       "\n",
       "                      popularity     primary_qa  \n",
       "keyword                                          \n",
       "adversar            5.012908e-07       security  \n",
       "cloud deploy        5.012908e-07    reliability  \n",
       "compon models       5.012908e-07  integrability  \n",
       "fmea                1.503872e-06    reliability  \n",
       "primar channel      5.012908e-07         safety  \n",
       "safety requir       1.002582e-06         safety  \n",
       "trojan              5.012908e-07       security  \n",
       "wizard              5.012908e-07      usability  \n",
       "load balanc         4.511617e-06    performance  \n",
       "perform metric      2.005163e-06    performance  \n",
       "dependab            2.506454e-06    reliability  \n",
       "gdpr                2.506454e-06       security  \n",
       "graph-bas           6.015490e-06  integrability  \n",
       "resilien            2.105421e-05         safety  \n",
       "cve                 7.519362e-06       security  \n",
       "aesthet             1.453743e-05      usability  \n",
       "architectur design  1.002582e-06  modifiability  \n",
       "best-cas            1.002582e-06    performance  \n",
       "framework compon    1.002582e-06  integrability  \n",
       "load test           1.002582e-06    performance  "
      ],
      "text/html": [
       "<div>\n",
       "<style scoped>\n",
       "    .dataframe tbody tr th:only-of-type {\n",
       "        vertical-align: middle;\n",
       "    }\n",
       "\n",
       "    .dataframe tbody tr th {\n",
       "        vertical-align: top;\n",
       "    }\n",
       "\n",
       "    .dataframe thead th {\n",
       "        text-align: right;\n",
       "    }\n",
       "</style>\n",
       "<table border=\"1\" class=\"dataframe\">\n",
       "  <thead>\n",
       "    <tr style=\"text-align: right;\">\n",
       "      <th></th>\n",
       "      <th>failed_count</th>\n",
       "      <th>passed_count</th>\n",
       "      <th>total_count</th>\n",
       "      <th>precision</th>\n",
       "      <th>popularity</th>\n",
       "      <th>primary_qa</th>\n",
       "    </tr>\n",
       "    <tr>\n",
       "      <th>keyword</th>\n",
       "      <th></th>\n",
       "      <th></th>\n",
       "      <th></th>\n",
       "      <th></th>\n",
       "      <th></th>\n",
       "      <th></th>\n",
       "    </tr>\n",
       "  </thead>\n",
       "  <tbody>\n",
       "    <tr>\n",
       "      <th>adversar</th>\n",
       "      <td>0</td>\n",
       "      <td>1</td>\n",
       "      <td>1</td>\n",
       "      <td>1.000000</td>\n",
       "      <td>5.012908e-07</td>\n",
       "      <td>security</td>\n",
       "    </tr>\n",
       "    <tr>\n",
       "      <th>cloud deploy</th>\n",
       "      <td>0</td>\n",
       "      <td>1</td>\n",
       "      <td>1</td>\n",
       "      <td>1.000000</td>\n",
       "      <td>5.012908e-07</td>\n",
       "      <td>reliability</td>\n",
       "    </tr>\n",
       "    <tr>\n",
       "      <th>compon models</th>\n",
       "      <td>0</td>\n",
       "      <td>1</td>\n",
       "      <td>1</td>\n",
       "      <td>1.000000</td>\n",
       "      <td>5.012908e-07</td>\n",
       "      <td>integrability</td>\n",
       "    </tr>\n",
       "    <tr>\n",
       "      <th>fmea</th>\n",
       "      <td>0</td>\n",
       "      <td>3</td>\n",
       "      <td>3</td>\n",
       "      <td>1.000000</td>\n",
       "      <td>1.503872e-06</td>\n",
       "      <td>reliability</td>\n",
       "    </tr>\n",
       "    <tr>\n",
       "      <th>primar channel</th>\n",
       "      <td>0</td>\n",
       "      <td>1</td>\n",
       "      <td>1</td>\n",
       "      <td>1.000000</td>\n",
       "      <td>5.012908e-07</td>\n",
       "      <td>safety</td>\n",
       "    </tr>\n",
       "    <tr>\n",
       "      <th>safety requir</th>\n",
       "      <td>0</td>\n",
       "      <td>2</td>\n",
       "      <td>2</td>\n",
       "      <td>1.000000</td>\n",
       "      <td>1.002582e-06</td>\n",
       "      <td>safety</td>\n",
       "    </tr>\n",
       "    <tr>\n",
       "      <th>trojan</th>\n",
       "      <td>0</td>\n",
       "      <td>1</td>\n",
       "      <td>1</td>\n",
       "      <td>1.000000</td>\n",
       "      <td>5.012908e-07</td>\n",
       "      <td>security</td>\n",
       "    </tr>\n",
       "    <tr>\n",
       "      <th>wizard</th>\n",
       "      <td>0</td>\n",
       "      <td>1</td>\n",
       "      <td>1</td>\n",
       "      <td>1.000000</td>\n",
       "      <td>5.012908e-07</td>\n",
       "      <td>usability</td>\n",
       "    </tr>\n",
       "    <tr>\n",
       "      <th>load balanc</th>\n",
       "      <td>1</td>\n",
       "      <td>8</td>\n",
       "      <td>9</td>\n",
       "      <td>0.888889</td>\n",
       "      <td>4.511617e-06</td>\n",
       "      <td>performance</td>\n",
       "    </tr>\n",
       "    <tr>\n",
       "      <th>perform metric</th>\n",
       "      <td>1</td>\n",
       "      <td>3</td>\n",
       "      <td>4</td>\n",
       "      <td>0.750000</td>\n",
       "      <td>2.005163e-06</td>\n",
       "      <td>performance</td>\n",
       "    </tr>\n",
       "    <tr>\n",
       "      <th>dependab</th>\n",
       "      <td>2</td>\n",
       "      <td>3</td>\n",
       "      <td>5</td>\n",
       "      <td>0.600000</td>\n",
       "      <td>2.506454e-06</td>\n",
       "      <td>reliability</td>\n",
       "    </tr>\n",
       "    <tr>\n",
       "      <th>gdpr</th>\n",
       "      <td>2</td>\n",
       "      <td>3</td>\n",
       "      <td>5</td>\n",
       "      <td>0.600000</td>\n",
       "      <td>2.506454e-06</td>\n",
       "      <td>security</td>\n",
       "    </tr>\n",
       "    <tr>\n",
       "      <th>graph-bas</th>\n",
       "      <td>5</td>\n",
       "      <td>7</td>\n",
       "      <td>12</td>\n",
       "      <td>0.583333</td>\n",
       "      <td>6.015490e-06</td>\n",
       "      <td>integrability</td>\n",
       "    </tr>\n",
       "    <tr>\n",
       "      <th>resilien</th>\n",
       "      <td>19</td>\n",
       "      <td>23</td>\n",
       "      <td>42</td>\n",
       "      <td>0.547619</td>\n",
       "      <td>2.105421e-05</td>\n",
       "      <td>safety</td>\n",
       "    </tr>\n",
       "    <tr>\n",
       "      <th>cve</th>\n",
       "      <td>7</td>\n",
       "      <td>8</td>\n",
       "      <td>15</td>\n",
       "      <td>0.533333</td>\n",
       "      <td>7.519362e-06</td>\n",
       "      <td>security</td>\n",
       "    </tr>\n",
       "    <tr>\n",
       "      <th>aesthet</th>\n",
       "      <td>14</td>\n",
       "      <td>15</td>\n",
       "      <td>29</td>\n",
       "      <td>0.517241</td>\n",
       "      <td>1.453743e-05</td>\n",
       "      <td>usability</td>\n",
       "    </tr>\n",
       "    <tr>\n",
       "      <th>architectur design</th>\n",
       "      <td>1</td>\n",
       "      <td>1</td>\n",
       "      <td>2</td>\n",
       "      <td>0.500000</td>\n",
       "      <td>1.002582e-06</td>\n",
       "      <td>modifiability</td>\n",
       "    </tr>\n",
       "    <tr>\n",
       "      <th>best-cas</th>\n",
       "      <td>1</td>\n",
       "      <td>1</td>\n",
       "      <td>2</td>\n",
       "      <td>0.500000</td>\n",
       "      <td>1.002582e-06</td>\n",
       "      <td>performance</td>\n",
       "    </tr>\n",
       "    <tr>\n",
       "      <th>framework compon</th>\n",
       "      <td>1</td>\n",
       "      <td>1</td>\n",
       "      <td>2</td>\n",
       "      <td>0.500000</td>\n",
       "      <td>1.002582e-06</td>\n",
       "      <td>integrability</td>\n",
       "    </tr>\n",
       "    <tr>\n",
       "      <th>load test</th>\n",
       "      <td>1</td>\n",
       "      <td>1</td>\n",
       "      <td>2</td>\n",
       "      <td>0.500000</td>\n",
       "      <td>1.002582e-06</td>\n",
       "      <td>performance</td>\n",
       "    </tr>\n",
       "  </tbody>\n",
       "</table>\n",
       "</div>"
      ]
     },
     "execution_count": 74,
     "metadata": {},
     "output_type": "execute_result"
    }
   ],
   "execution_count": 74
  },
  {
   "metadata": {
    "ExecuteTime": {
     "end_time": "2025-08-20T02:36:35.259001Z",
     "start_time": "2025-08-20T02:36:35.241177Z"
    }
   },
   "cell_type": "code",
   "source": [
    "import plotly.express as px\n",
    "\n",
    "# --- Top 20 Most Popular Keywords ---\n",
    "top_20_popular = keyword_perf.nlargest(20, 'total_count')\n",
    "top_20_popular.drop(columns=[\"bubble_size\"])"
   ],
   "id": "6d9467a86de88887",
   "outputs": [
    {
     "data": {
      "text/plain": [
       "          failed_count  passed_count  total_count  precision  popularity  \\\n",
       "keyword                                                                    \n",
       "error           107640         19339       126979   0.152301    0.063653   \n",
       "test             65431         15672        81103   0.193236    0.040656   \n",
       "depend           50426         14498        64924   0.223307    0.032546   \n",
       "version          52257         11612        63869   0.181810    0.032017   \n",
       "modul            51628         10347        61975   0.166954    0.031067   \n",
       "updat            38641          8715        47356   0.184032    0.023739   \n",
       "integr           38322          8336        46658   0.178662    0.023389   \n",
       "log              36175          7753        43928   0.176493    0.022021   \n",
       "build            36986          4027        41013   0.098188    0.020559   \n",
       "load             33354          7600        40954   0.185574    0.020530   \n",
       "input            28616          6693        35309   0.189555    0.017700   \n",
       "fail             28433          3860        32293   0.119531    0.016188   \n",
       "memor            23722          8227        31949   0.257504    0.016016   \n",
       "specif           23463          6494        29957   0.216777    0.015017   \n",
       "state            22760          4305        27065   0.159062    0.013567   \n",
       "sub              19833          5022        24855   0.202052    0.012460   \n",
       "except           20864          2963        23827   0.124355    0.011944   \n",
       "simpl            17113          6650        23763   0.279847    0.011912   \n",
       "paramet          17068          4785        21853   0.218963    0.010955   \n",
       "interfac         16578          5142        21720   0.236740    0.010888   \n",
       "\n",
       "                 primary_qa  \n",
       "keyword                      \n",
       "error          availability  \n",
       "test                 safety  \n",
       "depend        deployability  \n",
       "version       modifiability  \n",
       "modul         modifiability  \n",
       "updat                safety  \n",
       "integr          reliability  \n",
       "log                security  \n",
       "build         deployability  \n",
       "load      energy efficiency  \n",
       "input                safety  \n",
       "fail            reliability  \n",
       "memor             usability  \n",
       "specif     interoperability  \n",
       "state         integrability  \n",
       "sub           integrability  \n",
       "except               safety  \n",
       "simpl             usability  \n",
       "paramet       modifiability  \n",
       "interfac      modifiability  "
      ],
      "text/html": [
       "<div>\n",
       "<style scoped>\n",
       "    .dataframe tbody tr th:only-of-type {\n",
       "        vertical-align: middle;\n",
       "    }\n",
       "\n",
       "    .dataframe tbody tr th {\n",
       "        vertical-align: top;\n",
       "    }\n",
       "\n",
       "    .dataframe thead th {\n",
       "        text-align: right;\n",
       "    }\n",
       "</style>\n",
       "<table border=\"1\" class=\"dataframe\">\n",
       "  <thead>\n",
       "    <tr style=\"text-align: right;\">\n",
       "      <th></th>\n",
       "      <th>failed_count</th>\n",
       "      <th>passed_count</th>\n",
       "      <th>total_count</th>\n",
       "      <th>precision</th>\n",
       "      <th>popularity</th>\n",
       "      <th>primary_qa</th>\n",
       "    </tr>\n",
       "    <tr>\n",
       "      <th>keyword</th>\n",
       "      <th></th>\n",
       "      <th></th>\n",
       "      <th></th>\n",
       "      <th></th>\n",
       "      <th></th>\n",
       "      <th></th>\n",
       "    </tr>\n",
       "  </thead>\n",
       "  <tbody>\n",
       "    <tr>\n",
       "      <th>error</th>\n",
       "      <td>107640</td>\n",
       "      <td>19339</td>\n",
       "      <td>126979</td>\n",
       "      <td>0.152301</td>\n",
       "      <td>0.063653</td>\n",
       "      <td>availability</td>\n",
       "    </tr>\n",
       "    <tr>\n",
       "      <th>test</th>\n",
       "      <td>65431</td>\n",
       "      <td>15672</td>\n",
       "      <td>81103</td>\n",
       "      <td>0.193236</td>\n",
       "      <td>0.040656</td>\n",
       "      <td>safety</td>\n",
       "    </tr>\n",
       "    <tr>\n",
       "      <th>depend</th>\n",
       "      <td>50426</td>\n",
       "      <td>14498</td>\n",
       "      <td>64924</td>\n",
       "      <td>0.223307</td>\n",
       "      <td>0.032546</td>\n",
       "      <td>deployability</td>\n",
       "    </tr>\n",
       "    <tr>\n",
       "      <th>version</th>\n",
       "      <td>52257</td>\n",
       "      <td>11612</td>\n",
       "      <td>63869</td>\n",
       "      <td>0.181810</td>\n",
       "      <td>0.032017</td>\n",
       "      <td>modifiability</td>\n",
       "    </tr>\n",
       "    <tr>\n",
       "      <th>modul</th>\n",
       "      <td>51628</td>\n",
       "      <td>10347</td>\n",
       "      <td>61975</td>\n",
       "      <td>0.166954</td>\n",
       "      <td>0.031067</td>\n",
       "      <td>modifiability</td>\n",
       "    </tr>\n",
       "    <tr>\n",
       "      <th>updat</th>\n",
       "      <td>38641</td>\n",
       "      <td>8715</td>\n",
       "      <td>47356</td>\n",
       "      <td>0.184032</td>\n",
       "      <td>0.023739</td>\n",
       "      <td>safety</td>\n",
       "    </tr>\n",
       "    <tr>\n",
       "      <th>integr</th>\n",
       "      <td>38322</td>\n",
       "      <td>8336</td>\n",
       "      <td>46658</td>\n",
       "      <td>0.178662</td>\n",
       "      <td>0.023389</td>\n",
       "      <td>reliability</td>\n",
       "    </tr>\n",
       "    <tr>\n",
       "      <th>log</th>\n",
       "      <td>36175</td>\n",
       "      <td>7753</td>\n",
       "      <td>43928</td>\n",
       "      <td>0.176493</td>\n",
       "      <td>0.022021</td>\n",
       "      <td>security</td>\n",
       "    </tr>\n",
       "    <tr>\n",
       "      <th>build</th>\n",
       "      <td>36986</td>\n",
       "      <td>4027</td>\n",
       "      <td>41013</td>\n",
       "      <td>0.098188</td>\n",
       "      <td>0.020559</td>\n",
       "      <td>deployability</td>\n",
       "    </tr>\n",
       "    <tr>\n",
       "      <th>load</th>\n",
       "      <td>33354</td>\n",
       "      <td>7600</td>\n",
       "      <td>40954</td>\n",
       "      <td>0.185574</td>\n",
       "      <td>0.020530</td>\n",
       "      <td>energy efficiency</td>\n",
       "    </tr>\n",
       "    <tr>\n",
       "      <th>input</th>\n",
       "      <td>28616</td>\n",
       "      <td>6693</td>\n",
       "      <td>35309</td>\n",
       "      <td>0.189555</td>\n",
       "      <td>0.017700</td>\n",
       "      <td>safety</td>\n",
       "    </tr>\n",
       "    <tr>\n",
       "      <th>fail</th>\n",
       "      <td>28433</td>\n",
       "      <td>3860</td>\n",
       "      <td>32293</td>\n",
       "      <td>0.119531</td>\n",
       "      <td>0.016188</td>\n",
       "      <td>reliability</td>\n",
       "    </tr>\n",
       "    <tr>\n",
       "      <th>memor</th>\n",
       "      <td>23722</td>\n",
       "      <td>8227</td>\n",
       "      <td>31949</td>\n",
       "      <td>0.257504</td>\n",
       "      <td>0.016016</td>\n",
       "      <td>usability</td>\n",
       "    </tr>\n",
       "    <tr>\n",
       "      <th>specif</th>\n",
       "      <td>23463</td>\n",
       "      <td>6494</td>\n",
       "      <td>29957</td>\n",
       "      <td>0.216777</td>\n",
       "      <td>0.015017</td>\n",
       "      <td>interoperability</td>\n",
       "    </tr>\n",
       "    <tr>\n",
       "      <th>state</th>\n",
       "      <td>22760</td>\n",
       "      <td>4305</td>\n",
       "      <td>27065</td>\n",
       "      <td>0.159062</td>\n",
       "      <td>0.013567</td>\n",
       "      <td>integrability</td>\n",
       "    </tr>\n",
       "    <tr>\n",
       "      <th>sub</th>\n",
       "      <td>19833</td>\n",
       "      <td>5022</td>\n",
       "      <td>24855</td>\n",
       "      <td>0.202052</td>\n",
       "      <td>0.012460</td>\n",
       "      <td>integrability</td>\n",
       "    </tr>\n",
       "    <tr>\n",
       "      <th>except</th>\n",
       "      <td>20864</td>\n",
       "      <td>2963</td>\n",
       "      <td>23827</td>\n",
       "      <td>0.124355</td>\n",
       "      <td>0.011944</td>\n",
       "      <td>safety</td>\n",
       "    </tr>\n",
       "    <tr>\n",
       "      <th>simpl</th>\n",
       "      <td>17113</td>\n",
       "      <td>6650</td>\n",
       "      <td>23763</td>\n",
       "      <td>0.279847</td>\n",
       "      <td>0.011912</td>\n",
       "      <td>usability</td>\n",
       "    </tr>\n",
       "    <tr>\n",
       "      <th>paramet</th>\n",
       "      <td>17068</td>\n",
       "      <td>4785</td>\n",
       "      <td>21853</td>\n",
       "      <td>0.218963</td>\n",
       "      <td>0.010955</td>\n",
       "      <td>modifiability</td>\n",
       "    </tr>\n",
       "    <tr>\n",
       "      <th>interfac</th>\n",
       "      <td>16578</td>\n",
       "      <td>5142</td>\n",
       "      <td>21720</td>\n",
       "      <td>0.236740</td>\n",
       "      <td>0.010888</td>\n",
       "      <td>modifiability</td>\n",
       "    </tr>\n",
       "  </tbody>\n",
       "</table>\n",
       "</div>"
      ]
     },
     "execution_count": 75,
     "metadata": {},
     "output_type": "execute_result"
    }
   ],
   "execution_count": 75
  },
  {
   "metadata": {},
   "cell_type": "markdown",
   "source": [
    "# RQ2\n",
    "## Primary - A strategic analysis of the types of solutions (tactic categories) used for the most important quality attributes. This gives a high-level overview of the solution strategies"
   ],
   "id": "dada9902ffb2745f"
  },
  {
   "metadata": {},
   "cell_type": "code",
   "source": [
    "data_rq2 = df[df.s3_passed]\n",
    "data_rq2.shape"
   ],
   "id": "66582e1b79896129",
   "outputs": [],
   "execution_count": null
  },
  {
   "metadata": {},
   "cell_type": "code",
   "source": [
    "top_qas = df[df.s1_passed].groupby(\"qa\").nsimilar.sum().sort_values(ascending=False).head(4)\n",
    "top_qas = top_qas.index.tolist()\n",
    "top_qas"
   ],
   "id": "c5669ab208a69dbb",
   "outputs": [],
   "execution_count": null
  },
  {
   "metadata": {},
   "cell_type": "code",
   "source": [
    "r2 = data_rq2[data_rq2.qa.isin(top_qas)]\n",
    "r2.groupby([\"qa\", \"s3_tactic_category\"]).nsimilar.sum().reset_index().sort_values([\"qa\",\"nsimilar\"], ascending=[False]*2).groupby(\"qa\").head(3)"
   ],
   "id": "41f3fb5f9719445e",
   "outputs": [],
   "execution_count": null
  },
  {
   "metadata": {},
   "cell_type": "code",
   "source": [
    "# import pandas as pd\n",
    "\n",
    "# --- RQ2 Primary Analysis Code ---\n",
    "# ASSUMPTION: The DataFrame 'df' is loaded and contains the full, cleaned dataset.\n",
    "\n",
    "# 1. Filter the dataset for discussions where a tactic was successfully extracted.\n",
    "s3_df = df[df['s3_passed'] == True].copy()\n",
    "\n",
    "# 2. Identify the top 3 Quality Attributes from the RQ1 analysis.\n",
    "# (We use the s1_passed data to determine the most discussed QAs)\n",
    "top_3_qas = df[df['s1_passed']].groupby('qa')['nsimilar'].sum().nlargest(3).index.tolist()\n",
    "\n",
    "print(f\"Analyzing tactic categories for the top 3 QAs: {top_3_qas}\\n\")"
   ],
   "id": "644517312001198",
   "outputs": [],
   "execution_count": null
  },
  {
   "metadata": {
    "ExecuteTime": {
     "end_time": "2025-08-20T03:13:23.219794Z",
     "start_time": "2025-08-20T03:13:23.192114Z"
    }
   },
   "cell_type": "code",
   "source": [
    "\n",
    "# 3. Filter the tactic data to only include these top QAs.\n",
    "top_qa_tactics_df = s3_df[s3_df['qa'].isin(top_3_qas)]\n",
    "\n",
    "# 4. Group by QA and tactic category to get the counts.\n",
    "tactic_category_counts = top_qa_tactics_df.groupby(['qa', 's3_tactic_category'])['nsimilar'].sum().reset_index()\n",
    "\n",
    "# 5. For each of the top QAs, create and display a ranked table of its tactic categories.\n",
    "for qa_name in top_3_qas:\n",
    "\n",
    "    # Filter for the current QA\n",
    "    qa_subset = tactic_category_counts[tactic_category_counts['qa'] == qa_name]\n",
    "\n",
    "    # Calculate percentage *within* this QA\n",
    "    total_for_qa = qa_subset['nsimilar'].sum()\n",
    "    qa_subset['Percentage (%)'] = (qa_subset['nsimilar'] / total_for_qa) * 100\n",
    "\n",
    "    # Sort and format for presentation\n",
    "    qa_subset_sorted = qa_subset.sort_values(by='nsimilar', ascending=False)\n",
    "    qa_subset_sorted.rename(columns={'nsimilar': 'Absolute Frequency'}, inplace=True)\n",
    "\n",
    "    # Format the table for markdown\n",
    "    qa_table_formatted = qa_subset_sorted.copy()\n",
    "    qa_table_formatted['Percentage (%)'] = qa_table_formatted['Percentage (%)'].map('{:.1f}%'.format)\n",
    "    qa_table_formatted.set_index('s3_tactic_category', inplace=True)\n",
    "\n",
    "    # Display the table\n",
    "    print(f\"--- Table X: Top Tactic Categories for '{qa_name}' ---\")\n",
    "    # display(qa_table_formatted[['Absolute Frequency', 'Percentage (%)']])\n",
    "    print(qa_table_formatted[['Absolute Frequency', 'Percentage (%)']].to_markdown())\n",
    "    print(\"\\n\")\n"
   ],
   "id": "df61e51b9216a49",
   "outputs": [
    {
     "name": "stdout",
     "output_type": "stream",
     "text": [
      "--- Table X: Top Tactic Categories for 'usability' ---\n",
      "| s3_tactic_category                         |   Absolute Frequency | Percentage (%)   |\n",
      "|:-------------------------------------------|---------------------:|:-----------------|\n",
      "| Separate the User Interface                |                 1704 | 41.7%            |\n",
      "| Support System Initiative                  |                  889 | 21.8%            |\n",
      "| Resist Attacks                             |                  858 | 21.0%            |\n",
      "| Support User Initiative                    |                  131 | 3.2%             |\n",
      "| Defer Binding                              |                   97 | 2.4%             |\n",
      "| Control and Observe System State           |                   67 | 1.6%             |\n",
      "| Recover from Faults_Preparation and Repair |                   63 | 1.5%             |\n",
      "| Manage Resources                           |                   48 | 1.2%             |\n",
      "| Resource Allocation                        |                   36 | 0.9%             |\n",
      "| Detect Attacks                             |                   31 | 0.8%             |\n",
      "| Detect Faults                              |                   22 | 0.5%             |\n",
      "| Reduce Coupling                            |                   22 | 0.5%             |\n",
      "| Limit Complexity                           |                   21 | 0.5%             |\n",
      "| Resource Monitoring                        |                   19 | 0.5%             |\n",
      "| Prevent Faults                             |                   18 | 0.4%             |\n",
      "| Resource Adaptation                        |                   16 | 0.4%             |\n",
      "| Recover from Faults_Reintroduction         |                   13 | 0.3%             |\n",
      "| Recover from Attacks                       |                    9 | 0.2%             |\n",
      "| Reduce Size of a Module                    |                    8 | 0.2%             |\n",
      "| Manage Interfaces                          |                    6 | 0.1%             |\n",
      "| Control Resource Demand                    |                    2 | 0.0%             |\n",
      "| Locate                                     |                    1 | 0.0%             |\n",
      "| React to Attacks                           |                    1 | 0.0%             |\n",
      "| Increase Cohesion                          |                    0 | 0.0%             |\n",
      "\n",
      "\n",
      "--- Table X: Top Tactic Categories for 'safety' ---\n",
      "| s3_tactic_category                         |   Absolute Frequency | Percentage (%)   |\n",
      "|:-------------------------------------------|---------------------:|:-----------------|\n",
      "| Detect Faults                              |                  844 | 30.2%            |\n",
      "| Control and Observe System State           |                  760 | 27.2%            |\n",
      "| Recover from Faults_Preparation and Repair |                  536 | 19.2%            |\n",
      "| Resist Attacks                             |                  136 | 4.9%             |\n",
      "| Prevent Faults                             |                  116 | 4.2%             |\n",
      "| Detect Attacks                             |                  105 | 3.8%             |\n",
      "| Defer Binding                              |                   66 | 2.4%             |\n",
      "| Manage Resources                           |                   34 | 1.2%             |\n",
      "| Support User Initiative                    |                   27 | 1.0%             |\n",
      "| Reduce Coupling                            |                   27 | 1.0%             |\n",
      "| Resource Adaptation                        |                   24 | 0.9%             |\n",
      "| Resource Monitoring                        |                   24 | 0.9%             |\n",
      "| Resource Allocation                        |                   18 | 0.6%             |\n",
      "| Locate                                     |                   17 | 0.6%             |\n",
      "| Recover from Faults_Reintroduction         |                   15 | 0.5%             |\n",
      "| Separate the User Interface                |                   15 | 0.5%             |\n",
      "| Reduce Size of a Module                    |                   10 | 0.4%             |\n",
      "| Recover from Attacks                       |                    9 | 0.3%             |\n",
      "| Control Resource Demand                    |                    8 | 0.3%             |\n",
      "| Manage Interfaces                          |                    3 | 0.1%             |\n",
      "| React to Attacks                           |                    1 | 0.0%             |\n",
      "| Increase Cohesion                          |                    0 | 0.0%             |\n",
      "| Limit Complexity                           |                    0 | 0.0%             |\n",
      "| Support System Initiative                  |                    0 | 0.0%             |\n",
      "\n",
      "\n",
      "--- Table X: Top Tactic Categories for 'performance' ---\n",
      "| s3_tactic_category                         |   Absolute Frequency | Percentage (%)   |\n",
      "|:-------------------------------------------|---------------------:|:-----------------|\n",
      "| Control Resource Demand                    |                 1771 | 60.3%            |\n",
      "| Manage Resources                           |                  942 | 32.1%            |\n",
      "| Resource Adaptation                        |                   85 | 2.9%             |\n",
      "| Defer Binding                              |                   47 | 1.6%             |\n",
      "| Resist Attacks                             |                   23 | 0.8%             |\n",
      "| Recover from Faults_Preparation and Repair |                   20 | 0.7%             |\n",
      "| Detect Faults                              |                   12 | 0.4%             |\n",
      "| Prevent Faults                             |                    6 | 0.2%             |\n",
      "| Resource Monitoring                        |                    6 | 0.2%             |\n",
      "| Locate                                     |                    5 | 0.2%             |\n",
      "| Support User Initiative                    |                    5 | 0.2%             |\n",
      "| Reduce Coupling                            |                    5 | 0.2%             |\n",
      "| Control and Observe System State           |                    4 | 0.1%             |\n",
      "| Resource Allocation                        |                    2 | 0.1%             |\n",
      "| React to Attacks                           |                    2 | 0.1%             |\n",
      "| Detect Attacks                             |                    1 | 0.0%             |\n",
      "| Reduce Size of a Module                    |                    1 | 0.0%             |\n",
      "| Recover from Faults_Reintroduction         |                    1 | 0.0%             |\n",
      "| Manage Interfaces                          |                    1 | 0.0%             |\n",
      "| Increase Cohesion                          |                    0 | 0.0%             |\n",
      "| Limit Complexity                           |                    0 | 0.0%             |\n",
      "| Recover from Attacks                       |                    0 | 0.0%             |\n",
      "| Separate the User Interface                |                    0 | 0.0%             |\n",
      "| Support System Initiative                  |                    0 | 0.0%             |\n",
      "\n",
      "\n"
     ]
    },
    {
     "name": "stderr",
     "output_type": "stream",
     "text": [
      "C:\\Users\\Dmitrijs\\AppData\\Local\\Temp\\ipykernel_29812\\3707684626.py:5: FutureWarning:\n",
      "\n",
      "The default of observed=False is deprecated and will be changed to True in a future version of pandas. Pass observed=False to retain current behavior or observed=True to adopt the future default and silence this warning.\n",
      "\n",
      "C:\\Users\\Dmitrijs\\AppData\\Local\\Temp\\ipykernel_29812\\3707684626.py:15: SettingWithCopyWarning:\n",
      "\n",
      "\n",
      "A value is trying to be set on a copy of a slice from a DataFrame.\n",
      "Try using .loc[row_indexer,col_indexer] = value instead\n",
      "\n",
      "See the caveats in the documentation: https://pandas.pydata.org/pandas-docs/stable/user_guide/indexing.html#returning-a-view-versus-a-copy\n",
      "\n",
      "C:\\Users\\Dmitrijs\\AppData\\Local\\Temp\\ipykernel_29812\\3707684626.py:15: SettingWithCopyWarning:\n",
      "\n",
      "\n",
      "A value is trying to be set on a copy of a slice from a DataFrame.\n",
      "Try using .loc[row_indexer,col_indexer] = value instead\n",
      "\n",
      "See the caveats in the documentation: https://pandas.pydata.org/pandas-docs/stable/user_guide/indexing.html#returning-a-view-versus-a-copy\n",
      "\n",
      "C:\\Users\\Dmitrijs\\AppData\\Local\\Temp\\ipykernel_29812\\3707684626.py:15: SettingWithCopyWarning:\n",
      "\n",
      "\n",
      "A value is trying to be set on a copy of a slice from a DataFrame.\n",
      "Try using .loc[row_indexer,col_indexer] = value instead\n",
      "\n",
      "See the caveats in the documentation: https://pandas.pydata.org/pandas-docs/stable/user_guide/indexing.html#returning-a-view-versus-a-copy\n",
      "\n"
     ]
    }
   ],
   "execution_count": 89
  },
  {
   "metadata": {},
   "cell_type": "markdown",
   "source": [
    "### ## RQ2 Primary Analysis: High-Level Solution Strategies\n",
    "\n",
    "Having identified the most prevalent quality attributes, the analysis now turns to Research Question 2 to understand *how* developers address these concerns. This is achieved by identifying the architectural tactics discussed in the context of specific quality attributes. This primary analysis focuses on the high-level strategies by examining the distribution of **tactic categories** for the top three most-discussed quality attributes from RQ1: **Usability**, **Safety**, and **Performance**.\n",
    "\n",
    "The findings reveal that each quality attribute is addressed by a distinct and highly concentrated set of strategies.\n",
    "\n",
    "* **Usability:** Discussions concerning usability are dominated by the **\"Separate the User Interface\"** tactic category, which accounts for **41.7%** of the tactics. This category includes tactics that localize UI responsibilities (grouping all the code related to the user interface into a single, well-defined part of the system) and defer binding of UI choices (delaying making a fixed, permanent decision in the code, often by using configuration files) to avoid recoding. This indicates a strong focus on classic software engineering principles to decouple the UI from core logic, thereby enhancing usability. The next most common strategy is **\"Support System Initiative\"** (**21.8%**), which involves the system anticipating user needs by maintaining task or system models to provide assistance.\n",
    "\n",
    "* **Safety:** The strategies for ensuring safety are overwhelmingly concentrated in three categories related to fault management, which collectively comprise nearly 80% of the discussions. The most common are **\"Detect Faults\"** (**30.2%**), **\"Control and Observe System State\"** (**27.2%**), and **\"Recover from Faults\"** (**19.2%**). This provides a clear insight: developers operationalize safety primarily through mechanisms of runtime vigilance. They focus on detecting anomalies through tactics like `Sanity Checking` and `Exception Detection`; observing the system with `Executable Assertions`; and ensuring graceful recovery via tactics like `Degradation` and `Reconfiguration`.\n",
    "\n",
    "* **Performance:** The discussion of performance tactics is the most concentrated of all. Over **92%** of all performance-related strategies fall into just two categories: **\"Control Resource Demand\"** (**60.3%**) and **\"Manage Resources\"** (**32.1%**). This confirms that for these compute-intensive projects, achieving performance is almost exclusively synonymous with efficient resource management. The tactics employed range from reducing the demand on resources by `Increasing Resource Efficiency` of algorithms to actively managing existing resources by `Introducing Concurrency` and employing specific `Scheduling` strategies."
   ],
   "id": "6da3b2895c0a2ce7"
  },
  {
   "metadata": {},
   "cell_type": "markdown",
   "source": "## Secondary - A detailed \"drill-down\" to see which specific tactics make up the most important categories identified in the primary analysis.",
   "id": "402eb3bb1acc91d5"
  },
  {
   "metadata": {},
   "cell_type": "markdown",
   "source": "### TODO",
   "id": "192c357afd3051d7"
  },
  {
   "metadata": {},
   "cell_type": "code",
   "source": [
    "r2 = data_rq2[data_rq2.qa.isin(top_qas)]\n",
    "r2.groupby([\"qa\", \"s3_selected_tactic\"]).nsimilar.sum().reset_index().sort_values([\"qa\",\"nsimilar\"], ascending=[False]*2).groupby(\"qa\").head(3)"
   ],
   "id": "55acc3c7dbfeb4d5",
   "outputs": [],
   "execution_count": null
  },
  {
   "metadata": {},
   "cell_type": "markdown",
   "source": "## Secondary - Analysis of Energy Efficiency Tactics",
   "id": "95c0a30bac326949"
  },
  {
   "metadata": {
    "ExecuteTime": {
     "end_time": "2025-08-20T03:36:52.479609Z",
     "start_time": "2025-08-20T03:36:52.462459Z"
    }
   },
   "cell_type": "code",
   "source": [
    "import pandas as pd\n",
    "\n",
    "# --- Special Analysis Code for Energy Efficiency ---\n",
    "# ASSUMPTION: The DataFrame 's3_df' (df[df['s3_passed'] == True]) already exists.\n",
    "\n",
    "# 1. Filter the tactic data specifically for the 'energy efficiency' QA.\n",
    "energy_df = s3_df[s3_df['qa'] == 'energy efficiency'].copy()\n",
    "\n",
    "# --- Part 1: Primary Analysis (Tactic Categories) ---\n",
    "\n",
    "# 2. Group by tactic category and calculate frequencies.\n",
    "energy_cat_counts = energy_df.groupby('s3_tactic_category')['nsimilar'].sum().reset_index()\n",
    "total_energy_tactics = energy_cat_counts['nsimilar'].sum()\n",
    "energy_cat_counts['Percentage (%)'] = (energy_cat_counts['nsimilar'] / total_energy_tactics) * 100\n",
    "\n",
    "# 3. Sort and format the table for presentation.\n",
    "energy_cat_sorted = energy_cat_counts.sort_values(by='nsimilar', ascending=False)\n",
    "energy_cat_sorted.rename(columns={'nsimilar': 'Absolute Frequency'}, inplace=True)\n",
    "energy_cat_formatted = energy_cat_sorted.copy()\n",
    "energy_cat_formatted['Percentage (%)'] = energy_cat_formatted['Percentage (%)'].map('{:.1f}%'.format)\n",
    "energy_cat_formatted.set_index('s3_tactic_category', inplace=True)\n",
    "\n",
    "# 4. Display the tactic category table.\n",
    "print(\"--- Table X: Top Tactic Categories for 'Energy Efficiency' ---\")\n",
    "display(energy_cat_formatted)\n",
    "print(\"\\n\")"
   ],
   "id": "1992223860eef07d",
   "outputs": [
    {
     "name": "stdout",
     "output_type": "stream",
     "text": [
      "--- Table X: Top Tactic Categories for 'Energy Efficiency' ---\n"
     ]
    },
    {
     "name": "stderr",
     "output_type": "stream",
     "text": [
      "C:\\Users\\Dmitrijs\\AppData\\Local\\Temp\\ipykernel_29812\\2015277040.py:12: FutureWarning:\n",
      "\n",
      "The default of observed=False is deprecated and will be changed to True in a future version of pandas. Pass observed=False to retain current behavior or observed=True to adopt the future default and silence this warning.\n",
      "\n"
     ]
    },
    {
     "data": {
      "text/plain": [
       "                                            Absolute Frequency Percentage (%)\n",
       "s3_tactic_category                                                           \n",
       "Resource Monitoring                                       1516          61.3%\n",
       "Resource Adaptation                                        552          22.3%\n",
       "Resource Allocation                                        246           9.9%\n",
       "Defer Binding                                               41           1.7%\n",
       "Control and Observe System State                            15           0.6%\n",
       "Resist Attacks                                              14           0.6%\n",
       "Detect Faults                                               13           0.5%\n",
       "Reduce Coupling                                             12           0.5%\n",
       "Support User Initiative                                     12           0.5%\n",
       "Recover from Faults_Preparation and Repair                  11           0.4%\n",
       "Control Resource Demand                                      9           0.4%\n",
       "Prevent Faults                                               7           0.3%\n",
       "Recover from Attacks                                         7           0.3%\n",
       "Manage Resources                                             5           0.2%\n",
       "Separate the User Interface                                  4           0.2%\n",
       "Reduce Size of a Module                                      4           0.2%\n",
       "Limit Complexity                                             3           0.1%\n",
       "Recover from Faults_Reintroduction                           2           0.1%\n",
       "Locate                                                       1           0.0%\n",
       "Detect Attacks                                               0           0.0%\n",
       "Increase Cohesion                                            0           0.0%\n",
       "React to Attacks                                             0           0.0%\n",
       "Manage Interfaces                                            0           0.0%\n",
       "Support System Initiative                                    0           0.0%"
      ],
      "text/html": [
       "<div>\n",
       "<style scoped>\n",
       "    .dataframe tbody tr th:only-of-type {\n",
       "        vertical-align: middle;\n",
       "    }\n",
       "\n",
       "    .dataframe tbody tr th {\n",
       "        vertical-align: top;\n",
       "    }\n",
       "\n",
       "    .dataframe thead th {\n",
       "        text-align: right;\n",
       "    }\n",
       "</style>\n",
       "<table border=\"1\" class=\"dataframe\">\n",
       "  <thead>\n",
       "    <tr style=\"text-align: right;\">\n",
       "      <th></th>\n",
       "      <th>Absolute Frequency</th>\n",
       "      <th>Percentage (%)</th>\n",
       "    </tr>\n",
       "    <tr>\n",
       "      <th>s3_tactic_category</th>\n",
       "      <th></th>\n",
       "      <th></th>\n",
       "    </tr>\n",
       "  </thead>\n",
       "  <tbody>\n",
       "    <tr>\n",
       "      <th>Resource Monitoring</th>\n",
       "      <td>1516</td>\n",
       "      <td>61.3%</td>\n",
       "    </tr>\n",
       "    <tr>\n",
       "      <th>Resource Adaptation</th>\n",
       "      <td>552</td>\n",
       "      <td>22.3%</td>\n",
       "    </tr>\n",
       "    <tr>\n",
       "      <th>Resource Allocation</th>\n",
       "      <td>246</td>\n",
       "      <td>9.9%</td>\n",
       "    </tr>\n",
       "    <tr>\n",
       "      <th>Defer Binding</th>\n",
       "      <td>41</td>\n",
       "      <td>1.7%</td>\n",
       "    </tr>\n",
       "    <tr>\n",
       "      <th>Control and Observe System State</th>\n",
       "      <td>15</td>\n",
       "      <td>0.6%</td>\n",
       "    </tr>\n",
       "    <tr>\n",
       "      <th>Resist Attacks</th>\n",
       "      <td>14</td>\n",
       "      <td>0.6%</td>\n",
       "    </tr>\n",
       "    <tr>\n",
       "      <th>Detect Faults</th>\n",
       "      <td>13</td>\n",
       "      <td>0.5%</td>\n",
       "    </tr>\n",
       "    <tr>\n",
       "      <th>Reduce Coupling</th>\n",
       "      <td>12</td>\n",
       "      <td>0.5%</td>\n",
       "    </tr>\n",
       "    <tr>\n",
       "      <th>Support User Initiative</th>\n",
       "      <td>12</td>\n",
       "      <td>0.5%</td>\n",
       "    </tr>\n",
       "    <tr>\n",
       "      <th>Recover from Faults_Preparation and Repair</th>\n",
       "      <td>11</td>\n",
       "      <td>0.4%</td>\n",
       "    </tr>\n",
       "    <tr>\n",
       "      <th>Control Resource Demand</th>\n",
       "      <td>9</td>\n",
       "      <td>0.4%</td>\n",
       "    </tr>\n",
       "    <tr>\n",
       "      <th>Prevent Faults</th>\n",
       "      <td>7</td>\n",
       "      <td>0.3%</td>\n",
       "    </tr>\n",
       "    <tr>\n",
       "      <th>Recover from Attacks</th>\n",
       "      <td>7</td>\n",
       "      <td>0.3%</td>\n",
       "    </tr>\n",
       "    <tr>\n",
       "      <th>Manage Resources</th>\n",
       "      <td>5</td>\n",
       "      <td>0.2%</td>\n",
       "    </tr>\n",
       "    <tr>\n",
       "      <th>Separate the User Interface</th>\n",
       "      <td>4</td>\n",
       "      <td>0.2%</td>\n",
       "    </tr>\n",
       "    <tr>\n",
       "      <th>Reduce Size of a Module</th>\n",
       "      <td>4</td>\n",
       "      <td>0.2%</td>\n",
       "    </tr>\n",
       "    <tr>\n",
       "      <th>Limit Complexity</th>\n",
       "      <td>3</td>\n",
       "      <td>0.1%</td>\n",
       "    </tr>\n",
       "    <tr>\n",
       "      <th>Recover from Faults_Reintroduction</th>\n",
       "      <td>2</td>\n",
       "      <td>0.1%</td>\n",
       "    </tr>\n",
       "    <tr>\n",
       "      <th>Locate</th>\n",
       "      <td>1</td>\n",
       "      <td>0.0%</td>\n",
       "    </tr>\n",
       "    <tr>\n",
       "      <th>Detect Attacks</th>\n",
       "      <td>0</td>\n",
       "      <td>0.0%</td>\n",
       "    </tr>\n",
       "    <tr>\n",
       "      <th>Increase Cohesion</th>\n",
       "      <td>0</td>\n",
       "      <td>0.0%</td>\n",
       "    </tr>\n",
       "    <tr>\n",
       "      <th>React to Attacks</th>\n",
       "      <td>0</td>\n",
       "      <td>0.0%</td>\n",
       "    </tr>\n",
       "    <tr>\n",
       "      <th>Manage Interfaces</th>\n",
       "      <td>0</td>\n",
       "      <td>0.0%</td>\n",
       "    </tr>\n",
       "    <tr>\n",
       "      <th>Support System Initiative</th>\n",
       "      <td>0</td>\n",
       "      <td>0.0%</td>\n",
       "    </tr>\n",
       "  </tbody>\n",
       "</table>\n",
       "</div>"
      ]
     },
     "metadata": {},
     "output_type": "display_data"
    },
    {
     "name": "stdout",
     "output_type": "stream",
     "text": [
      "\n",
      "\n"
     ]
    }
   ],
   "execution_count": 91
  },
  {
   "metadata": {
    "ExecuteTime": {
     "end_time": "2025-08-20T03:37:29.059580Z",
     "start_time": "2025-08-20T03:37:29.044328Z"
    }
   },
   "cell_type": "code",
   "source": [
    "\n",
    "\n",
    "# --- Part 2: Secondary Analysis (Specific Tactics) ---\n",
    "\n",
    "# 5. Group by the specific tactic and calculate frequencies.\n",
    "energy_tactic_counts = energy_df.groupby('s3_tactic')['nsimilar'].sum().reset_index()\n",
    "energy_tactic_counts['Percentage (%)'] = (energy_tactic_counts['nsimilar'] / total_energy_tactics) * 100\n",
    "\n",
    "# 6. Sort and format the table for presentation.\n",
    "energy_tactic_sorted = energy_tactic_counts.sort_values(by='nsimilar', ascending=False)\n",
    "energy_tactic_sorted.rename(columns={'nsimilar': 'Absolute Frequency'}, inplace=True)\n",
    "energy_tactic_formatted = energy_tactic_sorted.copy()\n",
    "energy_tactic_formatted['Percentage (%)'] = energy_tactic_formatted['Percentage (%)'].map('{:.1f}%'.format)\n",
    "energy_tactic_formatted.set_index('s3_tactic', inplace=True)\n",
    "\n",
    "# 7. Display the specific tactic table.\n",
    "print(\"--- Table Y: Top Specific Tactics for 'Energy Efficiency' ---\")\n",
    "# We'll display the top 10 for brevity\n",
    "display(energy_tactic_formatted.head(10))"
   ],
   "id": "9776e7f76ded77b9",
   "outputs": [
    {
     "name": "stdout",
     "output_type": "stream",
     "text": [
      "--- Table Y: Top Specific Tactics for 'Energy Efficiency' ---\n"
     ]
    },
    {
     "name": "stderr",
     "output_type": "stream",
     "text": [
      "C:\\Users\\Dmitrijs\\AppData\\Local\\Temp\\ipykernel_29812\\3390358226.py:4: FutureWarning:\n",
      "\n",
      "The default of observed=False is deprecated and will be changed to True in a future version of pandas. Pass observed=False to retain current behavior or observed=True to adopt the future default and silence this warning.\n",
      "\n"
     ]
    },
    {
     "data": {
      "text/plain": [
       "                        Absolute Frequency Percentage (%)\n",
       "s3_tactic                                                \n",
       "Metering                              1153          46.6%\n",
       "Increase Efficiency                    489          19.8%\n",
       "Dynamic Classification                 290          11.7%\n",
       "Vertical Scaling                       176           7.1%\n",
       "Static Classification                   73           3.0%\n",
       "Horizontal Scaling                      40           1.6%\n",
       "Reduce Overhead                         37           1.5%\n",
       "Service Adaptation                      26           1.1%\n",
       "Scheduling                              24           1.0%\n",
       "Resource Files                          22           0.9%"
      ],
      "text/html": [
       "<div>\n",
       "<style scoped>\n",
       "    .dataframe tbody tr th:only-of-type {\n",
       "        vertical-align: middle;\n",
       "    }\n",
       "\n",
       "    .dataframe tbody tr th {\n",
       "        vertical-align: top;\n",
       "    }\n",
       "\n",
       "    .dataframe thead th {\n",
       "        text-align: right;\n",
       "    }\n",
       "</style>\n",
       "<table border=\"1\" class=\"dataframe\">\n",
       "  <thead>\n",
       "    <tr style=\"text-align: right;\">\n",
       "      <th></th>\n",
       "      <th>Absolute Frequency</th>\n",
       "      <th>Percentage (%)</th>\n",
       "    </tr>\n",
       "    <tr>\n",
       "      <th>s3_tactic</th>\n",
       "      <th></th>\n",
       "      <th></th>\n",
       "    </tr>\n",
       "  </thead>\n",
       "  <tbody>\n",
       "    <tr>\n",
       "      <th>Metering</th>\n",
       "      <td>1153</td>\n",
       "      <td>46.6%</td>\n",
       "    </tr>\n",
       "    <tr>\n",
       "      <th>Increase Efficiency</th>\n",
       "      <td>489</td>\n",
       "      <td>19.8%</td>\n",
       "    </tr>\n",
       "    <tr>\n",
       "      <th>Dynamic Classification</th>\n",
       "      <td>290</td>\n",
       "      <td>11.7%</td>\n",
       "    </tr>\n",
       "    <tr>\n",
       "      <th>Vertical Scaling</th>\n",
       "      <td>176</td>\n",
       "      <td>7.1%</td>\n",
       "    </tr>\n",
       "    <tr>\n",
       "      <th>Static Classification</th>\n",
       "      <td>73</td>\n",
       "      <td>3.0%</td>\n",
       "    </tr>\n",
       "    <tr>\n",
       "      <th>Horizontal Scaling</th>\n",
       "      <td>40</td>\n",
       "      <td>1.6%</td>\n",
       "    </tr>\n",
       "    <tr>\n",
       "      <th>Reduce Overhead</th>\n",
       "      <td>37</td>\n",
       "      <td>1.5%</td>\n",
       "    </tr>\n",
       "    <tr>\n",
       "      <th>Service Adaptation</th>\n",
       "      <td>26</td>\n",
       "      <td>1.1%</td>\n",
       "    </tr>\n",
       "    <tr>\n",
       "      <th>Scheduling</th>\n",
       "      <td>24</td>\n",
       "      <td>1.0%</td>\n",
       "    </tr>\n",
       "    <tr>\n",
       "      <th>Resource Files</th>\n",
       "      <td>22</td>\n",
       "      <td>0.9%</td>\n",
       "    </tr>\n",
       "  </tbody>\n",
       "</table>\n",
       "</div>"
      ]
     },
     "metadata": {},
     "output_type": "display_data"
    }
   ],
   "execution_count": 92
  },
  {
   "metadata": {},
   "cell_type": "markdown",
   "source": [
    "### ## Special Analysis: Architectural Tactics for Energy Efficiency\n",
    "\n",
    "To highlight a key contribution of this thesis toward more sustainable software practices, this section provides a dedicated analysis of architectural tactics for **Energy Efficiency**. While not the most frequently discussed attribute in the dataset, its direct impact on the operational cost and sustainability of scientific computing—a core motivation of this research—makes the identification of these specific solution strategies a vital outcome.\n",
    "\n",
    "The analysis of high-level strategies reveals that developers approach energy efficiency in a structured, three-tiered manner. The vast majority of discussions, **61.3%**, fall under the **\"Resource Monitoring\"** category. This foundational strategy involves tactics for measuring and modeling energy consumption to first understand the problem. Following this, **22.3%** of discussions relate to **\"Resource Adaptation\"**, which includes tactics for actively modifying the system to be more efficient. Finally, **9.9%** of discussions concern **\"Resource Allocation\"**, focusing on how to assign tasks and resources in an energy-aware manner. This distribution suggests a logical progression where developers first seek to measure, then to optimize, and finally to allocate.\n",
    "\n",
    "A drill-down into the specific tactics provides concrete evidence for this strategic approach. The single most discussed tactic is **`Metering`** (**46.6%**), which involves collecting real-time data on energy consumption. This underscores that the primary activity for developers addressing energy efficiency is establishing a baseline through measurement. The second most prevalent tactic is **`Increase Efficiency`** (**19.8%**), a form of resource adaptation focused on improving the performance of critical algorithms to reduce energy demand. The third most common tactic, **`Dynamic Classification`** (**11.7%**), reinforces the importance of monitoring by providing a method to model energy use when direct real-time data is unavailable. Together, these tactics show that the practical path to energy efficiency in scientific software begins with rigorous measurement, followed by targeted algorithmic optimization."
   ],
   "id": "129c93400a63eca6"
  },
  {
   "metadata": {},
   "cell_type": "markdown",
   "source": [
    "# RQ3\n",
    "## Primary -  A comparative analysis of discussion topics across different communication channels (source)."
   ],
   "id": "ff2a05fba395ad7a"
  },
  {
   "metadata": {},
   "cell_type": "code",
   "source": [
    "data_rq3 = df[df['s3_passed']]\n",
    "data_rq3.shape"
   ],
   "id": "5ae250c84350348",
   "outputs": [],
   "execution_count": null
  },
  {
   "metadata": {},
   "cell_type": "code",
   "source": [
    "r3 = data_rq3.pivot_table(index=\"qa\", columns=\"source\", values=\"nsimilar\", aggfunc=\"sum\", fill_value=0)\n",
    "totals = r3.sum(axis=1)\n",
    "r3 = r3.div(totals, axis=0) * 100\n",
    "r3\n"
   ],
   "id": "541674e14eb69bd3",
   "outputs": [],
   "execution_count": null
  },
  {
   "metadata": {},
   "cell_type": "code",
   "source": [
    "r3_2 = data_rq3.pivot_table(index=\"s3_tactic_category\", columns=\"source\", values=\"nsimilar\", aggfunc=\"sum\", fill_value=0)\n",
    "totals = r3_2.sum(axis=1)\n",
    "r3_2 = r3_2.div(totals, axis=0) * 100\n",
    "r3_2"
   ],
   "id": "589a825bf8f4bbc6",
   "outputs": [],
   "execution_count": null
  },
  {
   "metadata": {},
   "cell_type": "markdown",
   "source": "",
   "id": "b16f146d7bbeecaf"
  },
  {
   "metadata": {},
   "cell_type": "code",
   "source": "",
   "id": "fe62b628bd3b9c37",
   "outputs": [],
   "execution_count": null
  },
  {
   "metadata": {},
   "cell_type": "markdown",
   "source": "# Other",
   "id": "f3b5e74f4b2a2520"
  },
  {
   "metadata": {},
   "cell_type": "code",
   "source": "df.source.unique()",
   "id": "8c39e354d80ab7ee",
   "outputs": [],
   "execution_count": null
  },
  {
   "metadata": {},
   "cell_type": "code",
   "source": "df.qa.unique()",
   "id": "957d8c8a569be143",
   "outputs": [],
   "execution_count": null
  },
  {
   "metadata": {},
   "cell_type": "code",
   "source": "df.repo_id.unique()",
   "id": "daae1cde7a673f8c",
   "outputs": [],
   "execution_count": null
  },
  {
   "metadata": {},
   "cell_type": "code",
   "source": "df.columns",
   "id": "581754ffbce94b07",
   "outputs": [],
   "execution_count": null
  },
  {
   "metadata": {},
   "cell_type": "markdown",
   "source": "# Data funnel",
   "id": "fe30eb932a53e6d8"
  },
  {
   "metadata": {},
   "cell_type": "code",
   "source": [
    "funnel = df.groupby(['prefilter_passed',\n",
    "       's0_passed', 's1_passed', 's2_passed', 's3_passed']).nsimilar.agg(\"sum\")\n",
    "funnel"
   ],
   "id": "f8f4b370d5aaf151",
   "outputs": [],
   "execution_count": null
  },
  {
   "metadata": {},
   "cell_type": "code",
   "source": [
    "import pandas as pd\n",
    "\n",
    "# Define the order and names of your funnel stages\n",
    "stages = {\n",
    "    'prefilter_passed': '1. Prefilter',\n",
    "    's0_passed': '2. Stage 0',\n",
    "    's1_passed': '3. Stage 1',\n",
    "    's2_passed': '4. Stage 2',\n",
    "    's3_passed': '5. Stage 3'\n",
    "}\n",
    "\n",
    "# This list will hold the data for each stage\n",
    "funnel_data_list = []\n",
    "\n",
    "# Process each stage\n",
    "for stage_col, stage_name in stages.items():\n",
    "    # 1. Filter for items that passed the current stage\n",
    "    passed_stage_df = df[df[stage_col] == True]\n",
    "\n",
    "    # 2. Group by 'source' and sum 'nsimilar'\n",
    "    stage_summary = passed_stage_df.groupby('source')['nsimilar'].sum().reset_index()\n",
    "\n",
    "    # 3. Add the stage name for plotting\n",
    "    stage_summary['Stage'] = stage_name\n",
    "\n",
    "    funnel_data_list.append(stage_summary)\n",
    "\n",
    "# 4. Combine all stage data into a single DataFrame\n",
    "funnel_plot_df = pd.concat(funnel_data_list, ignore_index=True)\n",
    "\n",
    "print(\"Reshaped data for plotting:\")\n",
    "print(funnel_plot_df)"
   ],
   "id": "2f346451411a74ed",
   "outputs": [],
   "execution_count": null
  },
  {
   "metadata": {},
   "cell_type": "code",
   "source": [
    "px.funnel(funnel_plot_df,\n",
    "                x='nsimilar',\n",
    "                y='Stage',\n",
    "                color='source',\n",
    "                title='Funnel Analysis by Source')"
   ],
   "id": "f353d3ed7d7df71b",
   "outputs": [],
   "execution_count": null
  },
  {
   "metadata": {},
   "cell_type": "code",
   "source": "",
   "id": "cc783d083c841757",
   "outputs": [],
   "execution_count": null
  },
  {
   "metadata": {},
   "cell_type": "code",
   "source": [
    "total_items = df.nsimilar.sum()\n",
    "funnel_df = funnel.reset_index()\n",
    "funnel_df[\"percentage_of_total\"] = funnel_df.nsimilar / total_items * 100\n",
    "funnel_df"
   ],
   "id": "b5929607dcd78f66",
   "outputs": [],
   "execution_count": null
  },
  {
   "metadata": {},
   "cell_type": "markdown",
   "source": "## Crosstab",
   "id": "6be4d3876102558b"
  },
  {
   "metadata": {},
   "cell_type": "code",
   "source": [
    "import pandas as pd\n",
    "\n",
    "df_tactics = df[df['s3_passed'] == True]\n",
    "tactic_crosstab = pd.crosstab(df_tactics['qa'], df_tactics['s3_selected_tactic'])\n",
    "tactic_crosstab"
   ],
   "id": "128fda6f6079775a",
   "outputs": [],
   "execution_count": null
  },
  {
   "metadata": {},
   "cell_type": "code",
   "source": [
    "import pandas as pd\n",
    "\n",
    "df_tactics = df[df['s1_passed']]\n",
    "tactic_crosstab = pd.crosstab(df_tactics['source'], df_tactics['qa'], margins=True)\n",
    "tactic_crosstab"
   ],
   "id": "2127a4b524a44e17",
   "outputs": [],
   "execution_count": null
  },
  {
   "metadata": {},
   "cell_type": "code",
   "source": [
    "tactic_crosstab_totals = tactic_crosstab.loc[\"All\"]\n",
    "tactic_crosstab.div(tactic_crosstab_totals, axis=1) * 100"
   ],
   "id": "9fabc1ca4aeeda3f",
   "outputs": [],
   "execution_count": null
  },
  {
   "metadata": {},
   "cell_type": "code",
   "source": "df.pivot_table(index=[\"source\", \"qa\"], columns=[\"s0_to_eliminate\", \"s1_true_positive\", \"s2_related_to_arch\"], values=\"nsimilar\", aggfunc=\"sum\")",
   "id": "1c52251c39b14fb",
   "outputs": [],
   "execution_count": null
  },
  {
   "metadata": {},
   "cell_type": "code",
   "source": "df.pivot_table(index=[\"source\", \"qa\"], columns=[\"s0_to_eliminate\"], values=\"nsimilar\", aggfunc=[\"sum\"], margins=True)",
   "id": "87a4abdaf8eadf4a",
   "outputs": [],
   "execution_count": null
  },
  {
   "metadata": {},
   "cell_type": "code",
   "source": "df.groupby([\"s0_to_eliminate\", \"s1_true_positive\", \"s2_related_to_arch\", \"s3_selected_tactic\"], dropna=False).nsimilar.agg(\"sum\")",
   "id": "a79c42b40956f10c",
   "outputs": [],
   "execution_count": null
  },
  {
   "metadata": {},
   "cell_type": "code",
   "source": "df.groupby([\"source\", \"s0_to_eliminate\", \"s1_true_positive\", \"s2_related_to_arch\", \"s3_selected_tactic\"], dropna=False).nsimilar.agg(\"sum\")",
   "id": "b66f9d070787e9d4",
   "outputs": [],
   "execution_count": null
  },
  {
   "metadata": {},
   "cell_type": "code",
   "source": "df.groupby([\"source\", \"qa\", \"s0_to_eliminate\", \"s1_true_positive\", \"s2_related_to_arch\", \"s3_selected_tactic\"], dropna=False).nsimilar.agg(\"sum\")",
   "id": "4a4a20a2520222ce",
   "outputs": [],
   "execution_count": null
  },
  {
   "metadata": {},
   "cell_type": "code",
   "source": "df.groupby([\"source\", \"s0_to_eliminate\", \"s1_true_positive\", \"s2_related_to_arch\", \"s3_selected_tactic\"]).nsimilar.agg(\"sum\")",
   "id": "d6c2c427cb14a577",
   "outputs": [],
   "execution_count": null
  },
  {
   "metadata": {},
   "cell_type": "code",
   "source": "df[df[\"s3_selected_tactic\"].notna()]",
   "id": "b11a48e1f8cb09ea",
   "outputs": [],
   "execution_count": null
  },
  {
   "metadata": {},
   "cell_type": "code",
   "source": "",
   "id": "500f4f2829d3688c",
   "outputs": [],
   "execution_count": null
  }
 ],
 "metadata": {
  "kernelspec": {
   "display_name": "Python 3",
   "language": "python",
   "name": "python3"
  },
  "language_info": {
   "codemirror_mode": {
    "name": "ipython",
    "version": 2
   },
   "file_extension": ".py",
   "mimetype": "text/x-python",
   "name": "python",
   "nbconvert_exporter": "python",
   "pygments_lexer": "ipython2",
   "version": "2.7.6"
  }
 },
 "nbformat": 4,
 "nbformat_minor": 5
}

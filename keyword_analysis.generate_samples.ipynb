{
 "cells": [
  {
   "metadata": {
    "ExecuteTime": {
     "end_time": "2025-03-17T08:42:45.480302Z",
     "start_time": "2025-03-17T08:42:45.471283Z"
    }
   },
   "cell_type": "code",
   "source": [
    "import math\n",
    "\n",
    "from constants.foldernames import FolderNames\n",
    "\n",
    "proportions = dict(width=1600, height=1000)\n",
    "xl_proportions = dict(width=2000, height=1400)"
   ],
   "id": "d4d6b6c92d974bc5",
   "outputs": [],
   "execution_count": 3
  },
  {
   "metadata": {
    "ExecuteTime": {
     "end_time": "2025-03-17T08:42:48.748796Z",
     "start_time": "2025-03-17T08:42:47.851913Z"
    }
   },
   "cell_type": "code",
   "source": [
    "import pandas as pd\n",
    "\n",
    "def merge_dir_into_df(path):\n",
    "    df = []\n",
    "    for file in path:\n",
    "        try:\n",
    "            file_df = pd.read_csv(file)\n",
    "            df.append(file_df)\n",
    "        except:\n",
    "            print(f\"unable to read file {file}\")\n",
    "    df = pd.concat(df)\n",
    "    df.source = df.source.apply(lambda x: x.split('.')[1])\n",
    "    df['project'] = df.apply(lambda row: f\"{row['author']}/{row['repo']}/{row['version']}\", axis=1)\n",
    "    return df\n",
    "\n"
   ],
   "id": "bf8e227bb56672ec",
   "outputs": [],
   "execution_count": 4
  },
  {
   "metadata": {
    "ExecuteTime": {
     "end_time": "2025-03-17T08:42:51.721816Z",
     "start_time": "2025-03-17T08:42:51.717584Z"
    }
   },
   "cell_type": "code",
   "source": "from pathlib import Path\n",
   "id": "43cc1f9420cbb1cb",
   "outputs": [],
   "execution_count": 5
  },
  {
   "cell_type": "code",
   "id": "initial_id",
   "metadata": {
    "collapsed": true,
    "ExecuteTime": {
     "end_time": "2025-03-17T00:02:44.121385Z",
     "start_time": "2025-03-17T00:01:56.390219Z"
    }
   },
   "source": [
    "\n",
    "dir_path = Path(f\"metadata/keywords/{FolderNames.VERIFICATION_DIR}\").glob(\"*.verified.csv\")\n",
    "df = merge_dir_into_df(dir_path)\n",
    "df.head()"
   ],
   "outputs": [
    {
     "data": {
      "text/plain": [
       "  quality_attribute                                           sentence  \\\n",
       "0      Availability  \"\"\"; A candidate generator for entity linking ...   \n",
       "1      Availability  \"\"\"; Given a URL, look for the corresponding d...   \n",
       "2      Availability  \"\"\"; Given something that might be a URL (or m...   \n",
       "3      Availability  # Download to temporary file, then copy to cac...   \n",
       "4      Availability  # URL, so get it from the cache (downloading i...   \n",
       "\n",
       "  keyword        source   author      repo version  \\\n",
       "0   avail  CODE_COMMENT  allenai  scispacy  v0.5.5   \n",
       "1    down  CODE_COMMENT  allenai  scispacy  v0.5.5   \n",
       "2    down  CODE_COMMENT  allenai  scispacy  v0.5.5   \n",
       "3    Down  CODE_COMMENT  allenai  scispacy  v0.5.5   \n",
       "4    down  CODE_COMMENT  allenai  scispacy  v0.5.5   \n",
       "\n",
       "                                                  id matched_word  match_idx  \\\n",
       "0  https://github.com/allenai/scispacy/tree/v0.5....    available         94   \n",
       "1  https://github.com/allenai/scispacy/tree/v0.5....     download         93   \n",
       "2  https://github.com/allenai/scispacy/tree/v0.5....     download        102   \n",
       "3  https://github.com/allenai/scispacy/tree/v0.5....     Download          2   \n",
       "4  https://github.com/allenai/scispacy/tree/v0.5....  downloading         33   \n",
       "\n",
       "   ...                                 wiki  \\\n",
       "0  ...  https://allenai.github.io/scispacy/   \n",
       "1  ...  https://allenai.github.io/scispacy/   \n",
       "2  ...  https://allenai.github.io/scispacy/   \n",
       "3  ...  https://allenai.github.io/scispacy/   \n",
       "4  ...  https://allenai.github.io/scispacy/   \n",
       "\n",
       "                                                 url total_similar  \\\n",
       "0  https://github.com/allenai/scispacy/tree/v0.5....             1   \n",
       "1  https://github.com/allenai/scispacy/tree/v0.5....             1   \n",
       "2  https://github.com/allenai/scispacy/tree/v0.5....             1   \n",
       "3  https://github.com/allenai/scispacy/tree/v0.5....             2   \n",
       "4  https://github.com/allenai/scispacy/tree/v0.5....             1   \n",
       "\n",
       "    target_keywords      target_matched_words  \\\n",
       "0         ['avail']             ['available']   \n",
       "1          ['down']              ['download']   \n",
       "2          ['down']              ['download']   \n",
       "3  ['Down', 'down']  ['Download', 'download']   \n",
       "4          ['down']           ['downloading']   \n",
       "\n",
       "                                      attribute_desc  \\\n",
       "0  The system's readiness to perform its function...   \n",
       "1  The system's readiness to perform its function...   \n",
       "2  The system's readiness to perform its function...   \n",
       "3  The system's readiness to perform its function...   \n",
       "4  The system's readiness to perform its function...   \n",
       "\n",
       "                                              prompt true_positive  \\\n",
       "0  \\nYou are an expert in evaluating and categori...          True   \n",
       "1  \\nYou are an expert in evaluating and categori...         False   \n",
       "2  \\nYou are an expert in evaluating and categori...         False   \n",
       "3  \\nYou are an expert in evaluating and categori...          True   \n",
       "4  \\nYou are an expert in evaluating and categori...          True   \n",
       "\n",
       "                                           reasoning                  project  \n",
       "0  The content describes a method for entity link...  allenai/scispacy/v0.5.5  \n",
       "1  The content discusses looking up a URL in a lo...  allenai/scispacy/v0.5.5  \n",
       "2  The provided content does not relate to availa...  allenai/scispacy/v0.5.5  \n",
       "3  The content discusses handling interrupted dow...  allenai/scispacy/v0.5.5  \n",
       "4  The content discusses downloading from a cache...  allenai/scispacy/v0.5.5  \n",
       "\n",
       "[5 rows x 21 columns]"
      ],
      "text/html": [
       "<div>\n",
       "<style scoped>\n",
       "    .dataframe tbody tr th:only-of-type {\n",
       "        vertical-align: middle;\n",
       "    }\n",
       "\n",
       "    .dataframe tbody tr th {\n",
       "        vertical-align: top;\n",
       "    }\n",
       "\n",
       "    .dataframe thead th {\n",
       "        text-align: right;\n",
       "    }\n",
       "</style>\n",
       "<table border=\"1\" class=\"dataframe\">\n",
       "  <thead>\n",
       "    <tr style=\"text-align: right;\">\n",
       "      <th></th>\n",
       "      <th>quality_attribute</th>\n",
       "      <th>sentence</th>\n",
       "      <th>keyword</th>\n",
       "      <th>source</th>\n",
       "      <th>author</th>\n",
       "      <th>repo</th>\n",
       "      <th>version</th>\n",
       "      <th>id</th>\n",
       "      <th>matched_word</th>\n",
       "      <th>match_idx</th>\n",
       "      <th>...</th>\n",
       "      <th>wiki</th>\n",
       "      <th>url</th>\n",
       "      <th>total_similar</th>\n",
       "      <th>target_keywords</th>\n",
       "      <th>target_matched_words</th>\n",
       "      <th>attribute_desc</th>\n",
       "      <th>prompt</th>\n",
       "      <th>true_positive</th>\n",
       "      <th>reasoning</th>\n",
       "      <th>project</th>\n",
       "    </tr>\n",
       "  </thead>\n",
       "  <tbody>\n",
       "    <tr>\n",
       "      <th>0</th>\n",
       "      <td>Availability</td>\n",
       "      <td>\"\"\"; A candidate generator for entity linking ...</td>\n",
       "      <td>avail</td>\n",
       "      <td>CODE_COMMENT</td>\n",
       "      <td>allenai</td>\n",
       "      <td>scispacy</td>\n",
       "      <td>v0.5.5</td>\n",
       "      <td>https://github.com/allenai/scispacy/tree/v0.5....</td>\n",
       "      <td>available</td>\n",
       "      <td>94</td>\n",
       "      <td>...</td>\n",
       "      <td>https://allenai.github.io/scispacy/</td>\n",
       "      <td>https://github.com/allenai/scispacy/tree/v0.5....</td>\n",
       "      <td>1</td>\n",
       "      <td>['avail']</td>\n",
       "      <td>['available']</td>\n",
       "      <td>The system's readiness to perform its function...</td>\n",
       "      <td>\\nYou are an expert in evaluating and categori...</td>\n",
       "      <td>True</td>\n",
       "      <td>The content describes a method for entity link...</td>\n",
       "      <td>allenai/scispacy/v0.5.5</td>\n",
       "    </tr>\n",
       "    <tr>\n",
       "      <th>1</th>\n",
       "      <td>Availability</td>\n",
       "      <td>\"\"\"; Given a URL, look for the corresponding d...</td>\n",
       "      <td>down</td>\n",
       "      <td>CODE_COMMENT</td>\n",
       "      <td>allenai</td>\n",
       "      <td>scispacy</td>\n",
       "      <td>v0.5.5</td>\n",
       "      <td>https://github.com/allenai/scispacy/tree/v0.5....</td>\n",
       "      <td>download</td>\n",
       "      <td>93</td>\n",
       "      <td>...</td>\n",
       "      <td>https://allenai.github.io/scispacy/</td>\n",
       "      <td>https://github.com/allenai/scispacy/tree/v0.5....</td>\n",
       "      <td>1</td>\n",
       "      <td>['down']</td>\n",
       "      <td>['download']</td>\n",
       "      <td>The system's readiness to perform its function...</td>\n",
       "      <td>\\nYou are an expert in evaluating and categori...</td>\n",
       "      <td>False</td>\n",
       "      <td>The content discusses looking up a URL in a lo...</td>\n",
       "      <td>allenai/scispacy/v0.5.5</td>\n",
       "    </tr>\n",
       "    <tr>\n",
       "      <th>2</th>\n",
       "      <td>Availability</td>\n",
       "      <td>\"\"\"; Given something that might be a URL (or m...</td>\n",
       "      <td>down</td>\n",
       "      <td>CODE_COMMENT</td>\n",
       "      <td>allenai</td>\n",
       "      <td>scispacy</td>\n",
       "      <td>v0.5.5</td>\n",
       "      <td>https://github.com/allenai/scispacy/tree/v0.5....</td>\n",
       "      <td>download</td>\n",
       "      <td>102</td>\n",
       "      <td>...</td>\n",
       "      <td>https://allenai.github.io/scispacy/</td>\n",
       "      <td>https://github.com/allenai/scispacy/tree/v0.5....</td>\n",
       "      <td>1</td>\n",
       "      <td>['down']</td>\n",
       "      <td>['download']</td>\n",
       "      <td>The system's readiness to perform its function...</td>\n",
       "      <td>\\nYou are an expert in evaluating and categori...</td>\n",
       "      <td>False</td>\n",
       "      <td>The provided content does not relate to availa...</td>\n",
       "      <td>allenai/scispacy/v0.5.5</td>\n",
       "    </tr>\n",
       "    <tr>\n",
       "      <th>3</th>\n",
       "      <td>Availability</td>\n",
       "      <td># Download to temporary file, then copy to cac...</td>\n",
       "      <td>Down</td>\n",
       "      <td>CODE_COMMENT</td>\n",
       "      <td>allenai</td>\n",
       "      <td>scispacy</td>\n",
       "      <td>v0.5.5</td>\n",
       "      <td>https://github.com/allenai/scispacy/tree/v0.5....</td>\n",
       "      <td>Download</td>\n",
       "      <td>2</td>\n",
       "      <td>...</td>\n",
       "      <td>https://allenai.github.io/scispacy/</td>\n",
       "      <td>https://github.com/allenai/scispacy/tree/v0.5....</td>\n",
       "      <td>2</td>\n",
       "      <td>['Down', 'down']</td>\n",
       "      <td>['Download', 'download']</td>\n",
       "      <td>The system's readiness to perform its function...</td>\n",
       "      <td>\\nYou are an expert in evaluating and categori...</td>\n",
       "      <td>True</td>\n",
       "      <td>The content discusses handling interrupted dow...</td>\n",
       "      <td>allenai/scispacy/v0.5.5</td>\n",
       "    </tr>\n",
       "    <tr>\n",
       "      <th>4</th>\n",
       "      <td>Availability</td>\n",
       "      <td># URL, so get it from the cache (downloading i...</td>\n",
       "      <td>down</td>\n",
       "      <td>CODE_COMMENT</td>\n",
       "      <td>allenai</td>\n",
       "      <td>scispacy</td>\n",
       "      <td>v0.5.5</td>\n",
       "      <td>https://github.com/allenai/scispacy/tree/v0.5....</td>\n",
       "      <td>downloading</td>\n",
       "      <td>33</td>\n",
       "      <td>...</td>\n",
       "      <td>https://allenai.github.io/scispacy/</td>\n",
       "      <td>https://github.com/allenai/scispacy/tree/v0.5....</td>\n",
       "      <td>1</td>\n",
       "      <td>['down']</td>\n",
       "      <td>['downloading']</td>\n",
       "      <td>The system's readiness to perform its function...</td>\n",
       "      <td>\\nYou are an expert in evaluating and categori...</td>\n",
       "      <td>True</td>\n",
       "      <td>The content discusses downloading from a cache...</td>\n",
       "      <td>allenai/scispacy/v0.5.5</td>\n",
       "    </tr>\n",
       "  </tbody>\n",
       "</table>\n",
       "<p>5 rows × 21 columns</p>\n",
       "</div>"
      ]
     },
     "execution_count": 15,
     "metadata": {},
     "output_type": "execute_result"
    }
   ],
   "execution_count": 15
  },
  {
   "metadata": {
    "ExecuteTime": {
     "end_time": "2025-03-17T00:03:12.509641Z",
     "start_time": "2025-03-17T00:03:12.198483Z"
    }
   },
   "cell_type": "code",
   "source": [
    "\n",
    "df = df.dropna(subset=[\"true_positive\"])"
   ],
   "id": "de0320c0bfe991af",
   "outputs": [],
   "execution_count": 16
  },
  {
   "metadata": {
    "ExecuteTime": {
     "end_time": "2025-03-17T00:07:23.272072Z",
     "start_time": "2025-03-17T00:07:23.264549Z"
    }
   },
   "cell_type": "code",
   "source": "df.shape",
   "id": "de72327ed132b960",
   "outputs": [
    {
     "data": {
      "text/plain": [
       "(517940, 21)"
      ]
     },
     "execution_count": 30,
     "metadata": {},
     "output_type": "execute_result"
    }
   ],
   "execution_count": 30
  },
  {
   "metadata": {
    "ExecuteTime": {
     "end_time": "2025-03-17T00:05:11.490113Z",
     "start_time": "2025-03-17T00:05:11.442152Z"
    }
   },
   "cell_type": "code",
   "source": [
    "total = df.groupby([\"true_positive\"]).size()\n",
    "total"
   ],
   "id": "3d142e2dc15d3e00",
   "outputs": [
    {
     "data": {
      "text/plain": [
       "true_positive\n",
       "False    283349\n",
       "True     234591\n",
       "dtype: int64"
      ]
     },
     "execution_count": 26,
     "metadata": {},
     "output_type": "execute_result"
    }
   ],
   "execution_count": 26
  },
  {
   "metadata": {},
   "cell_type": "code",
   "outputs": [],
   "execution_count": null,
   "source": "total[True] / total[False] * 100",
   "id": "e2c7537d1af7ecdf"
  },
  {
   "metadata": {
    "ExecuteTime": {
     "end_time": "2025-03-17T00:11:22.684699Z",
     "start_time": "2025-03-17T00:11:22.677173Z"
    }
   },
   "cell_type": "code",
   "source": [
    "SAMPLE_SIZE_REQUIRED = 384\n",
    "TOTAL_PERSONS = 2\n",
    "SAMPLE_SIZE_PER_PERSON = math.ceil(SAMPLE_SIZE_REQUIRED / TOTAL_PERSONS)\n",
    "SAMPLE_SIZE_PER_PERSON"
   ],
   "id": "ff38809ffad6aaa1",
   "outputs": [
    {
     "data": {
      "text/plain": [
       "192"
      ]
     },
     "execution_count": 38,
     "metadata": {},
     "output_type": "execute_result"
    }
   ],
   "execution_count": 38
  },
  {
   "metadata": {
    "ExecuteTime": {
     "end_time": "2025-03-17T00:13:45.638253Z",
     "start_time": "2025-03-17T00:13:45.476437Z"
    }
   },
   "cell_type": "code",
   "source": [
    "df.sample(SAMPLE_SIZE_PER_PERSON).to_csv(\"metadata/samples/sample_for_stage1_VINCENZO.csv\", index=False)\n",
    "df.sample(SAMPLE_SIZE_PER_PERSON).to_csv(\"metadata/samples/sample_for_stage1_DMITRY.csv\", index=False)\n"
   ],
   "id": "e86ca5fbc624ea7a",
   "outputs": [],
   "execution_count": 44
  },
  {
   "metadata": {},
   "cell_type": "markdown",
   "source": "### Arch verification",
   "id": "d13a703a1d59c396"
  },
  {
   "metadata": {
    "ExecuteTime": {
     "end_time": "2025-03-17T00:19:52.547329Z",
     "start_time": "2025-03-17T00:19:12.023487Z"
    }
   },
   "cell_type": "code",
   "source": [
    "\n",
    "dir_path = Path(f\"metadata/keywords/{FolderNames.ARCHITECTURE_VERIFICATION_DIR}\").glob(\"*.arch_verified.csv\")\n",
    "df = merge_dir_into_df(dir_path)\n",
    "df.head()"
   ],
   "id": "6cd70a357821e05c",
   "outputs": [
    {
     "data": {
      "text/plain": [
       "  quality_attribute                                           sentence  \\\n",
       "0      Availability  \"\"\"; A candidate generator for entity linking ...   \n",
       "1      Availability  # Download to temporary file, then copy to cac...   \n",
       "2      Availability  # URL, so get it from the cache (downloading i...   \n",
       "3     Deployability  \"\"\". Convert a umls release to a jsonl file of...   \n",
       "4     Deployability  \"\"\"; A spacy pipeline component which identifi...   \n",
       "\n",
       "    keyword        source   author      repo version  \\\n",
       "0     avail  CODE_COMMENT  allenai  scispacy  v0.5.5   \n",
       "1      Down  CODE_COMMENT  allenai  scispacy  v0.5.5   \n",
       "2      down  CODE_COMMENT  allenai  scispacy  v0.5.5   \n",
       "3   release  CODE_COMMENT  allenai  scispacy  v0.5.5   \n",
       "4  pipeline  CODE_COMMENT  allenai  scispacy  v0.5.5   \n",
       "\n",
       "                                                  id matched_word  match_idx  \\\n",
       "0  https://github.com/allenai/scispacy/tree/v0.5....    available         94   \n",
       "1  https://github.com/allenai/scispacy/tree/v0.5....     Download          2   \n",
       "2  https://github.com/allenai/scispacy/tree/v0.5....  downloading         33   \n",
       "3  https://github.com/allenai/scispacy/tree/v0.5....      release         20   \n",
       "4  https://github.com/allenai/scispacy/tree/v0.5....     pipeline         13   \n",
       "\n",
       "   ...   target_keywords      target_matched_words  \\\n",
       "0  ...         ['avail']             ['available']   \n",
       "1  ...  ['Down', 'down']  ['Download', 'download']   \n",
       "2  ...          ['down']           ['downloading']   \n",
       "3  ...       ['release']               ['release']   \n",
       "4  ...      ['pipeline']              ['pipeline']   \n",
       "\n",
       "                                      attribute_desc  \\\n",
       "0  The system's readiness to perform its function...   \n",
       "1  The system's readiness to perform its function...   \n",
       "2  The system's readiness to perform its function...   \n",
       "3  The capability of software to be deployed into...   \n",
       "4  The capability of software to be deployed into...   \n",
       "\n",
       "                                              prompt true_positive  \\\n",
       "0  \\nYou are an expert in evaluating and categori...          True   \n",
       "1  \\nYou are an expert in evaluating and categori...          True   \n",
       "2  \\nYou are an expert in evaluating and categori...          True   \n",
       "3  \\nYou are an expert in evaluating and categori...          True   \n",
       "4  \\nYou are an expert in evaluating and categori...          True   \n",
       "\n",
       "                                           reasoning  \\\n",
       "0  The content describes a method for entity link...   \n",
       "1  The content discusses handling interrupted dow...   \n",
       "2  The content discusses downloading from a cache...   \n",
       "3  The content refers to converting a UMLS releas...   \n",
       "4  The content describes a spacy pipeline compone...   \n",
       "\n",
       "                                         arch_prompt related_to_architecture  \\\n",
       "0  \\nYou are an expert in software architecture a...                   False   \n",
       "1  \\nYou are an expert in software architecture a...                   False   \n",
       "2  \\nYou are an expert in software architecture a...                    True   \n",
       "3  \\nYou are an expert in software architecture a...                    True   \n",
       "4  \\nYou are an expert in software architecture a...                   False   \n",
       "\n",
       "                   related_to_architecture_reasoning                  project  \n",
       "0  The content discusses entity linking using spe...  allenai/scispacy/v0.5.5  \n",
       "1  The content discusses file handling and data c...  allenai/scispacy/v0.5.5  \n",
       "2  The article discusses the trade-offs between s...  allenai/scispacy/v0.5.5  \n",
       "3  The content discusses converting a UMLS releas...  allenai/scispacy/v0.5.5  \n",
       "4  The content discusses a Spacy pipeline compone...  allenai/scispacy/v0.5.5  \n",
       "\n",
       "[5 rows x 24 columns]"
      ],
      "text/html": [
       "<div>\n",
       "<style scoped>\n",
       "    .dataframe tbody tr th:only-of-type {\n",
       "        vertical-align: middle;\n",
       "    }\n",
       "\n",
       "    .dataframe tbody tr th {\n",
       "        vertical-align: top;\n",
       "    }\n",
       "\n",
       "    .dataframe thead th {\n",
       "        text-align: right;\n",
       "    }\n",
       "</style>\n",
       "<table border=\"1\" class=\"dataframe\">\n",
       "  <thead>\n",
       "    <tr style=\"text-align: right;\">\n",
       "      <th></th>\n",
       "      <th>quality_attribute</th>\n",
       "      <th>sentence</th>\n",
       "      <th>keyword</th>\n",
       "      <th>source</th>\n",
       "      <th>author</th>\n",
       "      <th>repo</th>\n",
       "      <th>version</th>\n",
       "      <th>id</th>\n",
       "      <th>matched_word</th>\n",
       "      <th>match_idx</th>\n",
       "      <th>...</th>\n",
       "      <th>target_keywords</th>\n",
       "      <th>target_matched_words</th>\n",
       "      <th>attribute_desc</th>\n",
       "      <th>prompt</th>\n",
       "      <th>true_positive</th>\n",
       "      <th>reasoning</th>\n",
       "      <th>arch_prompt</th>\n",
       "      <th>related_to_architecture</th>\n",
       "      <th>related_to_architecture_reasoning</th>\n",
       "      <th>project</th>\n",
       "    </tr>\n",
       "  </thead>\n",
       "  <tbody>\n",
       "    <tr>\n",
       "      <th>0</th>\n",
       "      <td>Availability</td>\n",
       "      <td>\"\"\"; A candidate generator for entity linking ...</td>\n",
       "      <td>avail</td>\n",
       "      <td>CODE_COMMENT</td>\n",
       "      <td>allenai</td>\n",
       "      <td>scispacy</td>\n",
       "      <td>v0.5.5</td>\n",
       "      <td>https://github.com/allenai/scispacy/tree/v0.5....</td>\n",
       "      <td>available</td>\n",
       "      <td>94</td>\n",
       "      <td>...</td>\n",
       "      <td>['avail']</td>\n",
       "      <td>['available']</td>\n",
       "      <td>The system's readiness to perform its function...</td>\n",
       "      <td>\\nYou are an expert in evaluating and categori...</td>\n",
       "      <td>True</td>\n",
       "      <td>The content describes a method for entity link...</td>\n",
       "      <td>\\nYou are an expert in software architecture a...</td>\n",
       "      <td>False</td>\n",
       "      <td>The content discusses entity linking using spe...</td>\n",
       "      <td>allenai/scispacy/v0.5.5</td>\n",
       "    </tr>\n",
       "    <tr>\n",
       "      <th>1</th>\n",
       "      <td>Availability</td>\n",
       "      <td># Download to temporary file, then copy to cac...</td>\n",
       "      <td>Down</td>\n",
       "      <td>CODE_COMMENT</td>\n",
       "      <td>allenai</td>\n",
       "      <td>scispacy</td>\n",
       "      <td>v0.5.5</td>\n",
       "      <td>https://github.com/allenai/scispacy/tree/v0.5....</td>\n",
       "      <td>Download</td>\n",
       "      <td>2</td>\n",
       "      <td>...</td>\n",
       "      <td>['Down', 'down']</td>\n",
       "      <td>['Download', 'download']</td>\n",
       "      <td>The system's readiness to perform its function...</td>\n",
       "      <td>\\nYou are an expert in evaluating and categori...</td>\n",
       "      <td>True</td>\n",
       "      <td>The content discusses handling interrupted dow...</td>\n",
       "      <td>\\nYou are an expert in software architecture a...</td>\n",
       "      <td>False</td>\n",
       "      <td>The content discusses file handling and data c...</td>\n",
       "      <td>allenai/scispacy/v0.5.5</td>\n",
       "    </tr>\n",
       "    <tr>\n",
       "      <th>2</th>\n",
       "      <td>Availability</td>\n",
       "      <td># URL, so get it from the cache (downloading i...</td>\n",
       "      <td>down</td>\n",
       "      <td>CODE_COMMENT</td>\n",
       "      <td>allenai</td>\n",
       "      <td>scispacy</td>\n",
       "      <td>v0.5.5</td>\n",
       "      <td>https://github.com/allenai/scispacy/tree/v0.5....</td>\n",
       "      <td>downloading</td>\n",
       "      <td>33</td>\n",
       "      <td>...</td>\n",
       "      <td>['down']</td>\n",
       "      <td>['downloading']</td>\n",
       "      <td>The system's readiness to perform its function...</td>\n",
       "      <td>\\nYou are an expert in evaluating and categori...</td>\n",
       "      <td>True</td>\n",
       "      <td>The content discusses downloading from a cache...</td>\n",
       "      <td>\\nYou are an expert in software architecture a...</td>\n",
       "      <td>True</td>\n",
       "      <td>The article discusses the trade-offs between s...</td>\n",
       "      <td>allenai/scispacy/v0.5.5</td>\n",
       "    </tr>\n",
       "    <tr>\n",
       "      <th>3</th>\n",
       "      <td>Deployability</td>\n",
       "      <td>\"\"\". Convert a umls release to a jsonl file of...</td>\n",
       "      <td>release</td>\n",
       "      <td>CODE_COMMENT</td>\n",
       "      <td>allenai</td>\n",
       "      <td>scispacy</td>\n",
       "      <td>v0.5.5</td>\n",
       "      <td>https://github.com/allenai/scispacy/tree/v0.5....</td>\n",
       "      <td>release</td>\n",
       "      <td>20</td>\n",
       "      <td>...</td>\n",
       "      <td>['release']</td>\n",
       "      <td>['release']</td>\n",
       "      <td>The capability of software to be deployed into...</td>\n",
       "      <td>\\nYou are an expert in evaluating and categori...</td>\n",
       "      <td>True</td>\n",
       "      <td>The content refers to converting a UMLS releas...</td>\n",
       "      <td>\\nYou are an expert in software architecture a...</td>\n",
       "      <td>True</td>\n",
       "      <td>The content discusses converting a UMLS releas...</td>\n",
       "      <td>allenai/scispacy/v0.5.5</td>\n",
       "    </tr>\n",
       "    <tr>\n",
       "      <th>4</th>\n",
       "      <td>Deployability</td>\n",
       "      <td>\"\"\"; A spacy pipeline component which identifi...</td>\n",
       "      <td>pipeline</td>\n",
       "      <td>CODE_COMMENT</td>\n",
       "      <td>allenai</td>\n",
       "      <td>scispacy</td>\n",
       "      <td>v0.5.5</td>\n",
       "      <td>https://github.com/allenai/scispacy/tree/v0.5....</td>\n",
       "      <td>pipeline</td>\n",
       "      <td>13</td>\n",
       "      <td>...</td>\n",
       "      <td>['pipeline']</td>\n",
       "      <td>['pipeline']</td>\n",
       "      <td>The capability of software to be deployed into...</td>\n",
       "      <td>\\nYou are an expert in evaluating and categori...</td>\n",
       "      <td>True</td>\n",
       "      <td>The content describes a spacy pipeline compone...</td>\n",
       "      <td>\\nYou are an expert in software architecture a...</td>\n",
       "      <td>False</td>\n",
       "      <td>The content discusses a Spacy pipeline compone...</td>\n",
       "      <td>allenai/scispacy/v0.5.5</td>\n",
       "    </tr>\n",
       "  </tbody>\n",
       "</table>\n",
       "<p>5 rows × 24 columns</p>\n",
       "</div>"
      ]
     },
     "execution_count": 50,
     "metadata": {},
     "output_type": "execute_result"
    }
   ],
   "execution_count": 50
  },
  {
   "metadata": {
    "ExecuteTime": {
     "end_time": "2025-03-17T00:19:56.673661Z",
     "start_time": "2025-03-17T00:19:56.663565Z"
    }
   },
   "cell_type": "code",
   "source": "df.shape",
   "id": "e4e7513e900c4a07",
   "outputs": [
    {
     "data": {
      "text/plain": [
       "(244883, 24)"
      ]
     },
     "execution_count": 51,
     "metadata": {},
     "output_type": "execute_result"
    }
   ],
   "execution_count": 51
  },
  {
   "metadata": {
    "ExecuteTime": {
     "end_time": "2025-03-17T00:19:58.082567Z",
     "start_time": "2025-03-17T00:19:57.921264Z"
    }
   },
   "cell_type": "code",
   "source": [
    "\n",
    "\n",
    "df = df.dropna(subset=[\"related_to_architecture\"])\n",
    "df.shape"
   ],
   "id": "28d7a2866d6a1779",
   "outputs": [
    {
     "data": {
      "text/plain": [
       "(244773, 24)"
      ]
     },
     "execution_count": 52,
     "metadata": {},
     "output_type": "execute_result"
    }
   ],
   "execution_count": 52
  },
  {
   "metadata": {
    "ExecuteTime": {
     "end_time": "2025-03-17T00:20:02.283247Z",
     "start_time": "2025-03-17T00:20:02.253869Z"
    }
   },
   "cell_type": "code",
   "source": [
    "total = df.groupby([\"related_to_architecture\"]).size()\n",
    "total\n"
   ],
   "id": "6337b87e8b351051",
   "outputs": [
    {
     "data": {
      "text/plain": [
       "related_to_architecture\n",
       "False    218545\n",
       "True      26228\n",
       "dtype: int64"
      ]
     },
     "execution_count": 53,
     "metadata": {},
     "output_type": "execute_result"
    }
   ],
   "execution_count": 53
  },
  {
   "metadata": {
    "ExecuteTime": {
     "end_time": "2025-03-17T00:20:34.494419Z",
     "start_time": "2025-03-17T00:20:34.486904Z"
    }
   },
   "cell_type": "code",
   "source": "total[True] / total[False] * 100",
   "id": "7ec893c16a895896",
   "outputs": [
    {
     "data": {
      "text/plain": [
       "12.001189686334621"
      ]
     },
     "execution_count": 54,
     "metadata": {},
     "output_type": "execute_result"
    }
   ],
   "execution_count": 54
  },
  {
   "metadata": {
    "ExecuteTime": {
     "end_time": "2025-03-17T00:22:47.762625Z",
     "start_time": "2025-03-17T00:22:47.753566Z"
    }
   },
   "cell_type": "code",
   "source": [
    "SAMPLE_SIZE_REQUIRED = 384\n",
    "TOTAL_PERSONS = 2\n",
    "SAMPLE_SIZE_PER_PERSON = math.ceil(SAMPLE_SIZE_REQUIRED / TOTAL_PERSONS)\n",
    "SAMPLE_SIZE_PER_PERSON\n",
    "\n"
   ],
   "id": "a41256080518d109",
   "outputs": [
    {
     "data": {
      "text/plain": [
       "192"
      ]
     },
     "execution_count": 56,
     "metadata": {},
     "output_type": "execute_result"
    }
   ],
   "execution_count": 56
  },
  {
   "metadata": {
    "ExecuteTime": {
     "end_time": "2025-03-17T00:22:49.636759Z",
     "start_time": "2025-03-17T00:22:49.464675Z"
    }
   },
   "cell_type": "code",
   "source": [
    "df.sample(SAMPLE_SIZE_PER_PERSON).to_csv(\"metadata/samples/sample_for_stage2_VINCENZO.csv\", index=False)\n",
    "df.sample(SAMPLE_SIZE_PER_PERSON).to_csv(\"metadata/samples/sample_for_stage2_DMITRY.csv\", index=False)"
   ],
   "id": "52205bad28dff5d",
   "outputs": [],
   "execution_count": 57
  },
  {
   "metadata": {},
   "cell_type": "markdown",
   "source": "### Tactics",
   "id": "daaee15572cb8fc"
  },
  {
   "metadata": {
    "ExecuteTime": {
     "end_time": "2025-03-17T08:43:19.779045Z",
     "start_time": "2025-03-17T08:43:05.889608Z"
    }
   },
   "cell_type": "code",
   "source": [
    "\n",
    "dir_path = Path(f\"metadata/keywords/{FolderNames.ARCHITECTURE_TACTICS}\").glob(\"*.tactics.csv\")\n",
    "df = merge_dir_into_df(dir_path)\n",
    "df.head()"
   ],
   "id": "2c0ad2bd265d6b66",
   "outputs": [
    {
     "data": {
      "text/plain": [
       "  quality_attribute                                           sentence  \\\n",
       "0      Availability  # URL, so get it from the cache (downloading i...   \n",
       "1     Deployability  \"\"\". Convert a umls release to a jsonl file of...   \n",
       "2     Modifiability  # version.py defines VERSION and VERSION_SHORT...   \n",
       "3       Performance  \"\"\"; Given a URL, look for the corresponding d...   \n",
       "4       Performance  he associated score; for a list of `max_entiti...   \n",
       "\n",
       "   keyword        source   author      repo version  \\\n",
       "0     down  CODE_COMMENT  allenai  scispacy  v0.5.5   \n",
       "1  release  CODE_COMMENT  allenai  scispacy  v0.5.5   \n",
       "2   variab  CODE_COMMENT  allenai  scispacy  v0.5.5   \n",
       "3    cache  CODE_COMMENT  allenai  scispacy  v0.5.5   \n",
       "4  perform  CODE_COMMENT  allenai  scispacy  v0.5.5   \n",
       "\n",
       "                                                  id matched_word  match_idx  \\\n",
       "0  https://github.com/allenai/scispacy/tree/v0.5....  downloading         33   \n",
       "1  https://github.com/allenai/scispacy/tree/v0.5....      release         20   \n",
       "2  https://github.com/allenai/scispacy/tree/v0.5....    variables         47   \n",
       "3  https://github.com/allenai/scispacy/tree/v0.5....        cache         66   \n",
       "4  https://github.com/allenai/scispacy/tree/v0.5....   performing       1714   \n",
       "\n",
       "   ...                                        arch_prompt  \\\n",
       "0  ...  \\nYou are an expert in software architecture a...   \n",
       "1  ...  \\nYou are an expert in software architecture a...   \n",
       "2  ...  \\nYou are an expert in software architecture a...   \n",
       "3  ...  \\nYou are an expert in software architecture a...   \n",
       "4  ...  \\nYou are an expert in software architecture a...   \n",
       "\n",
       "  related_to_architecture                  related_to_architecture_reasoning  \\\n",
       "0                    True  The article discusses the trade-offs between s...   \n",
       "1                    True  The content discusses converting a UMLS releas...   \n",
       "2                    True  The code defines version variables, which rela...   \n",
       "3                    True  The content discusses caching behavior, which ...   \n",
       "4                    True  The content discusses the association of score...   \n",
       "\n",
       "                                       tactic_prompt arch_quality_attribute  \\\n",
       "0  \\nYou are an expert in evaluating and categori...               Security   \n",
       "1  \\nYou are an expert in evaluating and categori...               Security   \n",
       "2  \\nYou are an expert in evaluating and categori...           Availability   \n",
       "3  \\nYou are an expert in evaluating and categori...               Security   \n",
       "4  \\nYou are an expert in evaluating and categori...               Security   \n",
       "\n",
       "   arch_tactic_category           arch_tactic  \\\n",
       "0  Recover from Attacks  Maintain Audit Trail   \n",
       "1  Recover from Attacks  Maintain Audit Trail   \n",
       "2         Detect Faults             Heartbeat   \n",
       "3  Recover from Attacks  Maintain Audit Trail   \n",
       "4  Recover from Attacks  Maintain Audit Trail   \n",
       "\n",
       "                             arch_tactic_description  \\\n",
       "0  Keeping a record of user and system actions an...   \n",
       "1  Keeping a record of user and system actions an...   \n",
       "2  A fault detection mechanism that employs perio...   \n",
       "3  Keeping a record of user and system actions an...   \n",
       "4  Keeping a record of user and system actions an...   \n",
       "\n",
       "                                       arch_response                  project  \n",
       "0                     Record attempted modification.  allenai/scispacy/v0.5.5  \n",
       "1                     Record attempted modification.  allenai/scispacy/v0.5.5  \n",
       "2               Inform Operator, Continue to Operate  allenai/scispacy/v0.5.5  \n",
       "3  Record attempted modification and time taken t...  allenai/scispacy/v0.5.5  \n",
       "4  Record attempted modification and save the sta...  allenai/scispacy/v0.5.5  \n",
       "\n",
       "[5 rows x 30 columns]"
      ],
      "text/html": [
       "<div>\n",
       "<style scoped>\n",
       "    .dataframe tbody tr th:only-of-type {\n",
       "        vertical-align: middle;\n",
       "    }\n",
       "\n",
       "    .dataframe tbody tr th {\n",
       "        vertical-align: top;\n",
       "    }\n",
       "\n",
       "    .dataframe thead th {\n",
       "        text-align: right;\n",
       "    }\n",
       "</style>\n",
       "<table border=\"1\" class=\"dataframe\">\n",
       "  <thead>\n",
       "    <tr style=\"text-align: right;\">\n",
       "      <th></th>\n",
       "      <th>quality_attribute</th>\n",
       "      <th>sentence</th>\n",
       "      <th>keyword</th>\n",
       "      <th>source</th>\n",
       "      <th>author</th>\n",
       "      <th>repo</th>\n",
       "      <th>version</th>\n",
       "      <th>id</th>\n",
       "      <th>matched_word</th>\n",
       "      <th>match_idx</th>\n",
       "      <th>...</th>\n",
       "      <th>arch_prompt</th>\n",
       "      <th>related_to_architecture</th>\n",
       "      <th>related_to_architecture_reasoning</th>\n",
       "      <th>tactic_prompt</th>\n",
       "      <th>arch_quality_attribute</th>\n",
       "      <th>arch_tactic_category</th>\n",
       "      <th>arch_tactic</th>\n",
       "      <th>arch_tactic_description</th>\n",
       "      <th>arch_response</th>\n",
       "      <th>project</th>\n",
       "    </tr>\n",
       "  </thead>\n",
       "  <tbody>\n",
       "    <tr>\n",
       "      <th>0</th>\n",
       "      <td>Availability</td>\n",
       "      <td># URL, so get it from the cache (downloading i...</td>\n",
       "      <td>down</td>\n",
       "      <td>CODE_COMMENT</td>\n",
       "      <td>allenai</td>\n",
       "      <td>scispacy</td>\n",
       "      <td>v0.5.5</td>\n",
       "      <td>https://github.com/allenai/scispacy/tree/v0.5....</td>\n",
       "      <td>downloading</td>\n",
       "      <td>33</td>\n",
       "      <td>...</td>\n",
       "      <td>\\nYou are an expert in software architecture a...</td>\n",
       "      <td>True</td>\n",
       "      <td>The article discusses the trade-offs between s...</td>\n",
       "      <td>\\nYou are an expert in evaluating and categori...</td>\n",
       "      <td>Security</td>\n",
       "      <td>Recover from Attacks</td>\n",
       "      <td>Maintain Audit Trail</td>\n",
       "      <td>Keeping a record of user and system actions an...</td>\n",
       "      <td>Record attempted modification.</td>\n",
       "      <td>allenai/scispacy/v0.5.5</td>\n",
       "    </tr>\n",
       "    <tr>\n",
       "      <th>1</th>\n",
       "      <td>Deployability</td>\n",
       "      <td>\"\"\". Convert a umls release to a jsonl file of...</td>\n",
       "      <td>release</td>\n",
       "      <td>CODE_COMMENT</td>\n",
       "      <td>allenai</td>\n",
       "      <td>scispacy</td>\n",
       "      <td>v0.5.5</td>\n",
       "      <td>https://github.com/allenai/scispacy/tree/v0.5....</td>\n",
       "      <td>release</td>\n",
       "      <td>20</td>\n",
       "      <td>...</td>\n",
       "      <td>\\nYou are an expert in software architecture a...</td>\n",
       "      <td>True</td>\n",
       "      <td>The content discusses converting a UMLS releas...</td>\n",
       "      <td>\\nYou are an expert in evaluating and categori...</td>\n",
       "      <td>Security</td>\n",
       "      <td>Recover from Attacks</td>\n",
       "      <td>Maintain Audit Trail</td>\n",
       "      <td>Keeping a record of user and system actions an...</td>\n",
       "      <td>Record attempted modification.</td>\n",
       "      <td>allenai/scispacy/v0.5.5</td>\n",
       "    </tr>\n",
       "    <tr>\n",
       "      <th>2</th>\n",
       "      <td>Modifiability</td>\n",
       "      <td># version.py defines VERSION and VERSION_SHORT...</td>\n",
       "      <td>variab</td>\n",
       "      <td>CODE_COMMENT</td>\n",
       "      <td>allenai</td>\n",
       "      <td>scispacy</td>\n",
       "      <td>v0.5.5</td>\n",
       "      <td>https://github.com/allenai/scispacy/tree/v0.5....</td>\n",
       "      <td>variables</td>\n",
       "      <td>47</td>\n",
       "      <td>...</td>\n",
       "      <td>\\nYou are an expert in software architecture a...</td>\n",
       "      <td>True</td>\n",
       "      <td>The code defines version variables, which rela...</td>\n",
       "      <td>\\nYou are an expert in evaluating and categori...</td>\n",
       "      <td>Availability</td>\n",
       "      <td>Detect Faults</td>\n",
       "      <td>Heartbeat</td>\n",
       "      <td>A fault detection mechanism that employs perio...</td>\n",
       "      <td>Inform Operator, Continue to Operate</td>\n",
       "      <td>allenai/scispacy/v0.5.5</td>\n",
       "    </tr>\n",
       "    <tr>\n",
       "      <th>3</th>\n",
       "      <td>Performance</td>\n",
       "      <td>\"\"\"; Given a URL, look for the corresponding d...</td>\n",
       "      <td>cache</td>\n",
       "      <td>CODE_COMMENT</td>\n",
       "      <td>allenai</td>\n",
       "      <td>scispacy</td>\n",
       "      <td>v0.5.5</td>\n",
       "      <td>https://github.com/allenai/scispacy/tree/v0.5....</td>\n",
       "      <td>cache</td>\n",
       "      <td>66</td>\n",
       "      <td>...</td>\n",
       "      <td>\\nYou are an expert in software architecture a...</td>\n",
       "      <td>True</td>\n",
       "      <td>The content discusses caching behavior, which ...</td>\n",
       "      <td>\\nYou are an expert in evaluating and categori...</td>\n",
       "      <td>Security</td>\n",
       "      <td>Recover from Attacks</td>\n",
       "      <td>Maintain Audit Trail</td>\n",
       "      <td>Keeping a record of user and system actions an...</td>\n",
       "      <td>Record attempted modification and time taken t...</td>\n",
       "      <td>allenai/scispacy/v0.5.5</td>\n",
       "    </tr>\n",
       "    <tr>\n",
       "      <th>4</th>\n",
       "      <td>Performance</td>\n",
       "      <td>he associated score; for a list of `max_entiti...</td>\n",
       "      <td>perform</td>\n",
       "      <td>CODE_COMMENT</td>\n",
       "      <td>allenai</td>\n",
       "      <td>scispacy</td>\n",
       "      <td>v0.5.5</td>\n",
       "      <td>https://github.com/allenai/scispacy/tree/v0.5....</td>\n",
       "      <td>performing</td>\n",
       "      <td>1714</td>\n",
       "      <td>...</td>\n",
       "      <td>\\nYou are an expert in software architecture a...</td>\n",
       "      <td>True</td>\n",
       "      <td>The content discusses the association of score...</td>\n",
       "      <td>\\nYou are an expert in evaluating and categori...</td>\n",
       "      <td>Security</td>\n",
       "      <td>Recover from Attacks</td>\n",
       "      <td>Maintain Audit Trail</td>\n",
       "      <td>Keeping a record of user and system actions an...</td>\n",
       "      <td>Record attempted modification and save the sta...</td>\n",
       "      <td>allenai/scispacy/v0.5.5</td>\n",
       "    </tr>\n",
       "  </tbody>\n",
       "</table>\n",
       "<p>5 rows × 30 columns</p>\n",
       "</div>"
      ]
     },
     "execution_count": 6,
     "metadata": {},
     "output_type": "execute_result"
    }
   ],
   "execution_count": 6
  },
  {
   "metadata": {
    "ExecuteTime": {
     "end_time": "2025-03-17T08:43:19.878579Z",
     "start_time": "2025-03-17T08:43:19.869041Z"
    }
   },
   "cell_type": "code",
   "source": "df.shape",
   "id": "5d82e7217b6a76c5",
   "outputs": [
    {
     "data": {
      "text/plain": [
       "(26303, 30)"
      ]
     },
     "execution_count": 7,
     "metadata": {},
     "output_type": "execute_result"
    }
   ],
   "execution_count": 7
  },
  {
   "metadata": {
    "ExecuteTime": {
     "end_time": "2025-03-17T08:43:20.237362Z",
     "start_time": "2025-03-17T08:43:20.154575Z"
    }
   },
   "cell_type": "code",
   "source": [
    "\n",
    "\n",
    "df = df.dropna(subset=[\"arch_tactic\"])\n",
    "df.shape"
   ],
   "id": "221e5db8f58bf576",
   "outputs": [
    {
     "data": {
      "text/plain": [
       "(26303, 30)"
      ]
     },
     "execution_count": 8,
     "metadata": {},
     "output_type": "execute_result"
    }
   ],
   "execution_count": 8
  },
  {
   "metadata": {
    "ExecuteTime": {
     "end_time": "2025-03-17T08:47:57.338058Z",
     "start_time": "2025-03-17T08:47:57.314461Z"
    }
   },
   "cell_type": "code",
   "source": [
    "total = df.groupby([\"arch_quality_attribute\", \"arch_tactic_category\", \"arch_tactic\"]).size().reset_index(name=\"count\")\n",
    "total.sort_values(by=[\"count\", \"arch_quality_attribute\", \"arch_tactic_category\", \"arch_tactic\"], ascending=False)\n"
   ],
   "id": "ac73bafed11eeb0e",
   "outputs": [
    {
     "data": {
      "text/plain": [
       "   arch_quality_attribute              arch_tactic_category  \\\n",
       "7                Security              Recover from Attacks   \n",
       "0            Availability                     Detect Faults   \n",
       "8             Testability  Control and Observe System State   \n",
       "6                Security                    Detect Attacks   \n",
       "4             Performance                  Manage Resources   \n",
       "10              Usability           Support User Initiative   \n",
       "1       Energy Efficiency               Resource Adaptation   \n",
       "3       Energy Efficiency               Resource Allocation   \n",
       "2       Energy Efficiency               Resource Adaptation   \n",
       "9               Usability       Separate the User Interface   \n",
       "5                Security                    Detect Attacks   \n",
       "\n",
       "                    arch_tactic  count  \n",
       "7          Maintain Audit Trail  12350  \n",
       "0                     Heartbeat   5643  \n",
       "8        Specialized Interfaces   3759  \n",
       "6         Detect Service Denial   1811  \n",
       "4            Increase Resources    992  \n",
       "10                         Undo    771  \n",
       "1           Increase Efficiency    357  \n",
       "3                     Brokering    266  \n",
       "2            Service Adaptation    160  \n",
       "9   Increase semantic coherence    105  \n",
       "5              Detect Intrusion     89  "
      ],
      "text/html": [
       "<div>\n",
       "<style scoped>\n",
       "    .dataframe tbody tr th:only-of-type {\n",
       "        vertical-align: middle;\n",
       "    }\n",
       "\n",
       "    .dataframe tbody tr th {\n",
       "        vertical-align: top;\n",
       "    }\n",
       "\n",
       "    .dataframe thead th {\n",
       "        text-align: right;\n",
       "    }\n",
       "</style>\n",
       "<table border=\"1\" class=\"dataframe\">\n",
       "  <thead>\n",
       "    <tr style=\"text-align: right;\">\n",
       "      <th></th>\n",
       "      <th>arch_quality_attribute</th>\n",
       "      <th>arch_tactic_category</th>\n",
       "      <th>arch_tactic</th>\n",
       "      <th>count</th>\n",
       "    </tr>\n",
       "  </thead>\n",
       "  <tbody>\n",
       "    <tr>\n",
       "      <th>7</th>\n",
       "      <td>Security</td>\n",
       "      <td>Recover from Attacks</td>\n",
       "      <td>Maintain Audit Trail</td>\n",
       "      <td>12350</td>\n",
       "    </tr>\n",
       "    <tr>\n",
       "      <th>0</th>\n",
       "      <td>Availability</td>\n",
       "      <td>Detect Faults</td>\n",
       "      <td>Heartbeat</td>\n",
       "      <td>5643</td>\n",
       "    </tr>\n",
       "    <tr>\n",
       "      <th>8</th>\n",
       "      <td>Testability</td>\n",
       "      <td>Control and Observe System State</td>\n",
       "      <td>Specialized Interfaces</td>\n",
       "      <td>3759</td>\n",
       "    </tr>\n",
       "    <tr>\n",
       "      <th>6</th>\n",
       "      <td>Security</td>\n",
       "      <td>Detect Attacks</td>\n",
       "      <td>Detect Service Denial</td>\n",
       "      <td>1811</td>\n",
       "    </tr>\n",
       "    <tr>\n",
       "      <th>4</th>\n",
       "      <td>Performance</td>\n",
       "      <td>Manage Resources</td>\n",
       "      <td>Increase Resources</td>\n",
       "      <td>992</td>\n",
       "    </tr>\n",
       "    <tr>\n",
       "      <th>10</th>\n",
       "      <td>Usability</td>\n",
       "      <td>Support User Initiative</td>\n",
       "      <td>Undo</td>\n",
       "      <td>771</td>\n",
       "    </tr>\n",
       "    <tr>\n",
       "      <th>1</th>\n",
       "      <td>Energy Efficiency</td>\n",
       "      <td>Resource Adaptation</td>\n",
       "      <td>Increase Efficiency</td>\n",
       "      <td>357</td>\n",
       "    </tr>\n",
       "    <tr>\n",
       "      <th>3</th>\n",
       "      <td>Energy Efficiency</td>\n",
       "      <td>Resource Allocation</td>\n",
       "      <td>Brokering</td>\n",
       "      <td>266</td>\n",
       "    </tr>\n",
       "    <tr>\n",
       "      <th>2</th>\n",
       "      <td>Energy Efficiency</td>\n",
       "      <td>Resource Adaptation</td>\n",
       "      <td>Service Adaptation</td>\n",
       "      <td>160</td>\n",
       "    </tr>\n",
       "    <tr>\n",
       "      <th>9</th>\n",
       "      <td>Usability</td>\n",
       "      <td>Separate the User Interface</td>\n",
       "      <td>Increase semantic coherence</td>\n",
       "      <td>105</td>\n",
       "    </tr>\n",
       "    <tr>\n",
       "      <th>5</th>\n",
       "      <td>Security</td>\n",
       "      <td>Detect Attacks</td>\n",
       "      <td>Detect Intrusion</td>\n",
       "      <td>89</td>\n",
       "    </tr>\n",
       "  </tbody>\n",
       "</table>\n",
       "</div>"
      ]
     },
     "execution_count": 26,
     "metadata": {},
     "output_type": "execute_result"
    }
   ],
   "execution_count": 26
  },
  {
   "metadata": {
    "ExecuteTime": {
     "end_time": "2025-03-17T08:52:14.518329Z",
     "start_time": "2025-03-17T08:52:14.510326Z"
    }
   },
   "cell_type": "code",
   "source": [
    "SAMPLE_SIZE_REQUIRED = 379\n",
    "TOTAL_PERSONS = 2\n",
    "SAMPLE_SIZE_PER_PERSON = math.ceil(SAMPLE_SIZE_REQUIRED / TOTAL_PERSONS)\n",
    "SAMPLE_SIZE_PER_PERSON\n",
    "\n"
   ],
   "id": "8971a6d7500a0869",
   "outputs": [
    {
     "data": {
      "text/plain": [
       "190"
      ]
     },
     "execution_count": 27,
     "metadata": {},
     "output_type": "execute_result"
    }
   ],
   "execution_count": 27
  },
  {
   "metadata": {
    "ExecuteTime": {
     "end_time": "2025-03-17T08:52:22.380030Z",
     "start_time": "2025-03-17T08:52:22.047564Z"
    }
   },
   "cell_type": "code",
   "source": [
    "df.sample(SAMPLE_SIZE_PER_PERSON).to_csv(\"metadata/samples/sample_for_stage3_VINCENZO.csv\", index=False)\n",
    "df.sample(SAMPLE_SIZE_PER_PERSON).to_csv(\"metadata/samples/sample_for_stage3_DMITRY.csv\", index=False)"
   ],
   "id": "251aefe3389afd52",
   "outputs": [],
   "execution_count": 28
  },
  {
   "metadata": {},
   "cell_type": "code",
   "outputs": [],
   "execution_count": null,
   "source": "",
   "id": "16a8a786bc333f78"
  }
 ],
 "metadata": {
  "kernelspec": {
   "display_name": "Python 3",
   "language": "python",
   "name": "python3"
  },
  "language_info": {
   "codemirror_mode": {
    "name": "ipython",
    "version": 2
   },
   "file_extension": ".py",
   "mimetype": "text/x-python",
   "name": "python",
   "nbconvert_exporter": "python",
   "pygments_lexer": "ipython2",
   "version": "2.7.6"
  }
 },
 "nbformat": 4,
 "nbformat_minor": 5
}
